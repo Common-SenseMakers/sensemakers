{
 "cells": [
  {
   "cell_type": "code",
   "execution_count": 1,
   "metadata": {},
   "outputs": [],
   "source": [
    "# load env with api keys https://stackoverflow.com/a/54028874\n",
    "%load_ext dotenv\n",
    "%dotenv ../etc/config.env\n",
    "\n",
    "import sys\n",
    "sys.path.append(\"../\")\n",
    "\n",
    "from langchain.chat_models import ChatOpenAI\n",
    "from langchain.prompts.chat import ChatPromptTemplate\n",
    "from langchain.schema import BaseOutputParser\n",
    "from langchain.schema import (\n",
    "    HumanMessage,\n",
    ")\n",
    "\n",
    "\n",
    "\n",
    "from desci_sense.twitter import scrape_tweet\n",
    "\n",
    "from desci_sense.postprocessing.output_parsers import TypeTagParser"
   ]
  },
  {
   "cell_type": "code",
   "execution_count": 2,
   "metadata": {},
   "outputs": [],
   "source": [
    "TEST_TWEET_1 = \"https://twitter.com/danwilliamsphil/status/1719436704602275858\"\n",
    "TEST_TWEET_2 = \"https://twitter.com/pwang/status/1719720728184910195\"\n",
    "TEST_TWEET_3 = \"https://twitter.com/BlancheMinerva/status/1719714881081954409\"\n",
    "TEST_TWEET_4 = \"https://twitter.com/sucholutsky/status/1719725087681569189\"\n",
    "TEST_TWEET_5 = \"https://twitter.com/TBSocialist/status/1719676110785421807\"\n",
    "TEST_TWEET_6 = \"https://twitter.com/DG_Rand/status/1719372459344888032\"\n",
    "TEST_TWEET_7 = \"https://twitter.com/yanaiela/status/1719755578409619740\"\n",
    "TEST_RT_TWEET = \"https://twitter.com/IntuitMachine/status/1720443327663714559\""
   ]
  },
  {
   "cell_type": "code",
   "execution_count": 3,
   "metadata": {},
   "outputs": [
    {
     "data": {
      "text/plain": [
       "{'conversationID': '1719755578409619740',\n",
       " 'date': 'Wed Nov 01 16:37:36 +0000 2023',\n",
       " 'date_epoch': 1698856656,\n",
       " 'hashtags': [],\n",
       " 'likes': 68,\n",
       " 'mediaURLs': ['https://pbs.twimg.com/media/F93KgeQbEAABmcy.png'],\n",
       " 'media_extended': [{'altText': None,\n",
       "   'size': {'height': 415, 'width': 835},\n",
       "   'thumbnail_url': 'https://pbs.twimg.com/media/F93KgeQbEAABmcy.png',\n",
       "   'type': 'image',\n",
       "   'url': 'https://pbs.twimg.com/media/F93KgeQbEAABmcy.png'}],\n",
       " 'possibly_sensitive': False,\n",
       " 'qrtURL': None,\n",
       " 'replies': 1,\n",
       " 'retweets': 31,\n",
       " 'text': \"What's In My Big Data?\\n\\nA question we've been asking ourselves for a while.\\nHere is our attempt to answer it.\\n\\n🧵\\nPaper - \\nhttps://arxiv.org/abs/2310.20707\\n\\nDemo-\\nhttps://wimbd.apps.allenai.org/ https://t.co/ViP84AsKCY\",\n",
       " 'tweetID': '1719755578409619740',\n",
       " 'tweetURL': 'https://twitter.com/yanaiela/status/1719755578409619740',\n",
       " 'user_name': 'Yanai Elazar',\n",
       " 'user_screen_name': 'yanaiela'}"
      ]
     },
     "execution_count": 3,
     "metadata": {},
     "output_type": "execute_result"
    }
   ],
   "source": [
    "tweet = scrape_tweet(TEST_TWEET_7)\n",
    "tweet"
   ]
  },
  {
   "cell_type": "code",
   "execution_count": 4,
   "metadata": {},
   "outputs": [
    {
     "name": "stderr",
     "output_type": "stream",
     "text": [
      "WARNING! headers is not default parameter.\n",
      "                    headers was transferred to model_kwargs.\n",
      "                    Please confirm that headers is what you intended.\n"
     ]
    }
   ],
   "source": [
    "# Create model\n",
    "from desci_sense.configs import environ\n",
    "\n",
    "OPENROUTER_API_BASE = \"https://openrouter.ai/api/v1\"\n",
    "# openai.api_key = environ[\"OPENROUTER_API_KEY\"]\n",
    "\n",
    "model_name = \"mistralai/mistral-7b-instruct\" # currently free on OpenRouter (https://openrouter.ai/docs#models)\n",
    "# model_name = \"openai/gpt-3.5-turbo\"\n",
    "\n",
    "\n",
    "chat = ChatOpenAI(\n",
    "        model=model_name, \n",
    "        temperature=0.6,\n",
    "        openai_api_key=environ[\"OPENROUTER_API_KEY\"],\n",
    "        openai_api_base=OPENROUTER_API_BASE,\n",
    "        headers={\"HTTP-Referer\": environ[\"OPENROUTER_REFERRER\"]}, # To identify your app. Can be set to e.g. http://localhost:3000 for testing\n",
    "    )"
   ]
  },
  {
   "cell_type": "code",
   "execution_count": 15,
   "metadata": {},
   "outputs": [
    {
     "name": "stdout",
     "output_type": "stream",
     "text": [
      "reasoning: 1. Based on the post, it seems like the author is announcing a new research output.\n",
      "2. The research output is a paper that is available at a URL.\n",
      "3. There is also a demo associated with the paper.\n",
      "\n",
      "Candidate Tags:\n",
      "\n",
      "1. <announce>: This tag is suitable for an announcement of new research, which is what the post seems to be about.\n",
      "2. <paper>: This tag is specific to research papers, which is what the post is about.\n",
      "\n",
      "Final Answer: <announce>, <paper> \n",
      "candidates: 1. <announce>: This tag is suitable for an announcement of new research, which is what the post seems to be about.\n",
      "2. <paper>: This tag is specific to research papers, which is what the post is about.\n",
      "\n",
      "Final Answer: <announce>, <paper> \n",
      "final_answer: <announce>, <paper> \n"
     ]
    }
   ],
   "source": [
    "# based on https://python.langchain.com/docs/get_started/quickstart#prompttemplate--llm--outputparser\n",
    "\n",
    "class CommaSeparatedListOutputParser(BaseOutputParser):\n",
    "    \"\"\"Parse the output of an LLM call to a comma-separated list.\"\"\"\n",
    "\n",
    "\n",
    "    def parse(self, text: str):\n",
    "        \"\"\"Parse the output of an LLM call.\"\"\"\n",
    "        return text.strip().split(\", \")\n",
    "    \n",
    "class StripOutputParser(BaseOutputParser):\n",
    "    \"\"\"Parse the output of an LLM call to a comma-separated list.\"\"\"\n",
    "\n",
    "\n",
    "    def parse(self, text: str):\n",
    "        \"\"\"Parse the output of an LLM call.\"\"\"\n",
    "        return text.strip()\n",
    "\n",
    "template = \"\"\"You are an expert annotator who tags social media posts related to academic research, according to a predefined set of tags. \n",
    "The available tag types are:\n",
    "<announce>: this post contains an announcement of new research. The announcement is likely made by the authors but may be a third party. The research should be a paper, dataset or other type of research output that is being announced publicly.\n",
    "<review>: this post contains a review of another reference, such as a book, article or movie. The review could be positive or negative. A review can be detailed or a simple short endorsement.\n",
    "<other>: This is a special tag. Use this tag if none of the tags above are suitable. If you tag a post with <other>, no other tag should be assigned to the post.\n",
    "\n",
    "A user will pass in a post, and you should think step by step, before returning a list of comma separated tags that best match the post.\n",
    "\n",
    "Your final answer should be structured as follows:\n",
    "Reasoning Steps: (your reasoning steps)\n",
    "Candidate Tags: (For potential each tag you choose, explain why you chose it.)\n",
    "Final Answer: (a final list of tags, based on the Candidate Tags. Should include only Tags from the Candidate Tags list!)\n",
    "\n",
    "Remember:\n",
    "The final answer should ONLY include tags from the list above, nothing more. Do not make up any new tags that are not in the list above!\n",
    "If the <other> tag is included in the answer, no other tag should be included!\"\"\"\n",
    "human_template = \"{text}\"\n",
    "\n",
    "# <endorsement>: this post is endorsing another piece of content, such as a book, article, podcast, or other post. An endorsement is less detailed than a review.\n",
    "\n",
    "chat_prompt = ChatPromptTemplate.from_messages([\n",
    "    (\"system\", template),\n",
    "    (\"human\", human_template),\n",
    "])\n",
    "# chain = chat_prompt | chat | CommaSeparatedListOutputParser()\n",
    "chain = chat_prompt | chat | TypeTagParser()\n",
    "answer = chain.invoke({\"text\": tweet[\"text\"]})\n",
    "\n",
    "for k,v in answer.items():\n",
    "    print(\"{}: {} \".format(k,v))"
   ]
  },
  {
   "cell_type": "code",
   "execution_count": 18,
   "metadata": {},
   "outputs": [
    {
     "name": "stdout",
     "output_type": "stream",
     "text": [
      "1. Based on the post, it seems like the author is announcing a new research output.\n",
      "2. The research output is a paper that is available at a URL.\n",
      "3. There is also a demo associated with the paper.\n",
      "\n",
      "Candidate Tags:\n",
      "\n",
      "1. <announce>: This tag is suitable for an announcement of new research, which is what the post seems to be about.\n",
      "2. <paper>: This tag is specific to research papers, which is what the post is about.\n",
      "\n",
      "Final Answer: <announce>, <paper>\n"
     ]
    }
   ],
   "source": [
    "print(answer['reasoning'])"
   ]
  },
  {
   "cell_type": "code",
   "execution_count": 28,
   "metadata": {},
   "outputs": [
    {
     "name": "stdout",
     "output_type": "stream",
     "text": [
      "reasoning: 1. Based on the post, it seems like the author is announcing a new research output.\n",
      "2. The research output is a paper that is available at a URL.\n",
      "3. There is also a demo associated with the paper.\n",
      "candidates: 1. <announce>: This tag is suitable for an announcement of new research, which is what the post seems to be about.\n",
      "2. <paper>: This tag is specific to research papers, which is what the post is about.\n",
      "final_answer: <announce>, <paper>\n"
     ]
    }
   ],
   "source": [
    "import re\n",
    "\n",
    "# Sample text\n",
    "text = \"\"\"\n",
    "Reasoning Steps:\n",
    "1. Based on the post, it seems like the author is announcing a new research output.\n",
    "2. The research output is a paper that is available at a URL.\n",
    "3. There is also a demo associated with the paper.\n",
    "\n",
    "Candidate Tags:\n",
    "\n",
    "1. <announce>: This tag is suitable for an announcement of new research, which is what the post seems to be about.\n",
    "2. <paper>: This tag is specific to research papers, which is what the post is about.\n",
    "\n",
    "Final Answer: <announce>, <paper>\n",
    "\"\"\"\n",
    "\n",
    "\n",
    "# Define the regex patterns for the three sections\n",
    "\n",
    "sections_re = re.compile(r\"Reasoning Steps:(.*?)Candidate Tags:(.*?)Final Answer:(.*)\", re.DOTALL)\n",
    "# reasoning_steps_pattern = r'Reasoning Steps:(.*?)(?=(#|\\Z))'\n",
    "# candidate_tags_pattern = r'Candidate Tags:(.*?)(?=(#|\\Z))'\n",
    "# final_answer_pattern = r'Final Answer:(.*?)(?=(#|\\Z))'\n",
    "\n",
    "# Extract the content using regex\n",
    "sections_match = sections_re.search(text)\n",
    "# reasoning_steps = re.search(reasoning_steps_pattern, text, re.DOTALL).group(1).strip()\n",
    "# candidate_tags = re.search(candidate_tags_pattern, text, re.DOTALL).group(1).strip()\n",
    "# final_answer = re.search(final_answer_pattern, text, re.DOTALL).group(1).strip()\n",
    "\n",
    "reasoning_steps = sections_match.group(1).strip()\n",
    "candidate_tags = sections_match.group(2).strip()\n",
    "final_answer = sections_match.group(3).strip()\n",
    "\n",
    "\n",
    "# Combine into a tuple\n",
    "# extracted_content = (reasoning_steps.strip(), candidate_tags.strip(), final_answer.strip())\n",
    "extracted_content = {\"reasoning\": reasoning_steps.strip(), \n",
    "                             \"candidates\": candidate_tags.strip(), \n",
    "                             \"final_answer\": final_answer.strip()}\n",
    "# print(\"Extracted Content Tuple:\", extracted_content)\n",
    "\n",
    "for k,v in extracted_content.items():\n",
    "    print(\"{}: {}\".format(k,v))\n",
    "\n",
    "\n"
   ]
  },
  {
   "cell_type": "code",
   "execution_count": 29,
   "metadata": {},
   "outputs": [
    {
     "name": "stdout",
     "output_type": "stream",
     "text": [
      "['<x>', '<y>']\n"
     ]
    }
   ],
   "source": [
    "def convert_string_to_list(input_string):\n",
    "    names_list = [name.strip() for name in input_string.split(',') if name.strip()]\n",
    "    return names_list\n",
    "\n",
    "# Example usage:\n",
    "input_string = \" <x> , <y> \"\n",
    "result_list = convert_string_to_list(input_string)\n",
    "print(result_list)"
   ]
  }
 ],
 "metadata": {
  "kernelspec": {
   "display_name": "twscraping",
   "language": "python",
   "name": "python3"
  },
  "language_info": {
   "codemirror_mode": {
    "name": "ipython",
    "version": 3
   },
   "file_extension": ".py",
   "mimetype": "text/x-python",
   "name": "python",
   "nbconvert_exporter": "python",
   "pygments_lexer": "ipython3",
   "version": "3.11.5"
  }
 },
 "nbformat": 4,
 "nbformat_minor": 2
}
