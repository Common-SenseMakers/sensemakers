{
 "cells": [
  {
   "cell_type": "code",
   "execution_count": 1,
   "metadata": {},
   "outputs": [],
   "source": [
    "import sys\n",
    "sys.path.append(\"../\")\n",
    "\n",
    "from pathlib import Path\n",
    "import wandb\n",
    "import shortuuid\n",
    "\n",
    "from confection import Config\n",
    "from desci_sense.configs import init_config"
   ]
  },
  {
   "cell_type": "code",
   "execution_count": 3,
   "metadata": {},
   "outputs": [],
   "source": [
    "import pandas as pd\n",
    "\n",
    "a = {\"a\": 1, \"b\": 2}\n",
    "b = {\"a\": 2, \"b\": 3}\n",
    "df = pd.DataFrame([a,b])\n",
    "\n",
    "# get_data(df)"
   ]
  },
  {
   "cell_type": "code",
   "execution_count": 23,
   "metadata": {},
   "outputs": [
    {
     "data": {
      "text/plain": [
       "['a', 'b', 'c']"
      ]
     },
     "execution_count": 23,
     "metadata": {},
     "output_type": "execute_result"
    }
   ],
   "source": [
    "list(df.columns)"
   ]
  },
  {
   "cell_type": "code",
   "execution_count": null,
   "metadata": {},
   "outputs": [],
   "source": [
    "data = []\n",
    "for i, row in df.iterrows():\n",
    "    data.append(list(row))"
   ]
  },
  {
   "cell_type": "code",
   "execution_count": 21,
   "metadata": {},
   "outputs": [
    {
     "data": {
      "text/plain": [
       "[[1.0, 2.0, nan], [2.0, nan, 3.0]]"
      ]
     },
     "execution_count": 21,
     "metadata": {},
     "output_type": "execute_result"
    }
   ],
   "source": [
    "data = [list(row) for i, row in df.iterrows()]\n",
    "data"
   ]
  },
  {
   "cell_type": "code",
   "execution_count": 20,
   "metadata": {},
   "outputs": [
    {
     "data": {
      "text/plain": [
       "[1.0, 2.0, nan]"
      ]
     },
     "execution_count": 20,
     "metadata": {},
     "output_type": "execute_result"
    }
   ],
   "source": [
    "l = list(df.iterrows())\n",
    "row = l[0][1]\n",
    "list(row)"
   ]
  },
  {
   "cell_type": "code",
   "execution_count": 16,
   "metadata": {},
   "outputs": [],
   "source": [
    "dd = list(df.itertuples())[0]"
   ]
  },
  {
   "cell_type": "code",
   "execution_count": 18,
   "metadata": {},
   "outputs": [
    {
     "data": {
      "text/plain": [
       "[1.0, 2.0, nan]"
      ]
     },
     "execution_count": 18,
     "metadata": {},
     "output_type": "execute_result"
    }
   ],
   "source": [
    "list(df.iloc[0])"
   ]
  },
  {
   "cell_type": "code",
   "execution_count": null,
   "metadata": {},
   "outputs": [],
   "source": [
    "dict"
   ]
  },
  {
   "cell_type": "code",
   "execution_count": 2,
   "metadata": {},
   "outputs": [],
   "source": [
    "def log_pred_wandb(wandb_run, result):\n",
    "\n",
    "    # get a unique ID for this prediction\n",
    "    pred_uid = shortuuid.ShortUUID().random(length=8)\n",
    "\n",
    "    artifact = wandb.Artifact(f\"pred_{wandb_run.id}_{pred_uid}\", type=\"prediction\")\n",
    "\n",
    "    columns = [\"User\", \"URL\", \"Text\", \"Reasoning Steps\", \"Predicted Label\", \"True Label\", \"Tweet ID\"]\n",
    "\n",
    "    # extract relevant columns from prediction\n",
    "    pred_row = [\n",
    "        result['tweet']['user_name'],\n",
    "        result['tweet']['tweetURL'],\n",
    "        result['tweet']['text'],\n",
    "        result['answer']['reasoning'],\n",
    "        result['answer']['final_answer'],\n",
    "        \"\", # no gold label meanwhile\n",
    "        result['tweet']['tweetID']\n",
    "    ]\n",
    "    data = [pred_row]\n",
    "\n",
    "    # add data to table\n",
    "    table =  wandb.Table(data=data, columns=columns)\n",
    "    artifact.add(table, \"predictions\")\n",
    "\n",
    "    # log immediately since we don't know when user will close the session\n",
    "    wandb.log_artifact(artifact)\n",
    "    \n",
    "\n",
    "    \n",
    "\n",
    "    \n"
   ]
  },
  {
   "cell_type": "code",
   "execution_count": 3,
   "metadata": {},
   "outputs": [],
   "source": [
    "config = init_config()"
   ]
  },
  {
   "cell_type": "code",
   "execution_count": 4,
   "metadata": {},
   "outputs": [
    {
     "name": "stdout",
     "output_type": "stream",
     "text": [
      "[model]\n",
      "model_name = \"mistralai/mistral-7b-instruct\"\n",
      "temperature = 0.6\n",
      "\n",
      "[prompt]\n",
      "template_path = \"desci_sense/prompting/templates/p2.txt\"\n",
      "\n",
      "[wandb]\n",
      "wand_entity = \"common-sense-makers\"\n",
      "project = \"st-demo\"\n",
      "wandb_db_name = \"test-DB\"\n"
     ]
    }
   ],
   "source": [
    "print(config.to_str())"
   ]
  },
  {
   "cell_type": "code",
   "execution_count": 5,
   "metadata": {},
   "outputs": [],
   "source": [
    "api = wandb.Api()\n",
    "\n",
    "TYPE = \"prediction\"\n",
    "PROJECT = \"st_demo-v0.2\"\n",
    "\n",
    "artifacts = []\n",
    "collections = [\n",
    "    coll for coll in api.artifact_type(type_name=TYPE, project=PROJECT).collections()\n",
    "]\n",
    "\n",
    "\n",
    "for coll in collections:\n",
    "    for artifact in coll.versions():\n",
    "        artifacts += [artifact]\n"
   ]
  },
  {
   "cell_type": "code",
   "execution_count": 6,
   "metadata": {},
   "outputs": [
    {
     "data": {
      "text/plain": [
       "16"
      ]
     },
     "execution_count": 6,
     "metadata": {},
     "output_type": "execute_result"
    }
   ],
   "source": [
    "len(artifacts)"
   ]
  },
  {
   "cell_type": "code",
   "execution_count": null,
   "metadata": {},
   "outputs": [],
   "source": []
  },
  {
   "cell_type": "code",
   "execution_count": 7,
   "metadata": {},
   "outputs": [],
   "source": [
    "artifact = artifacts[0]"
   ]
  },
  {
   "cell_type": "code",
   "execution_count": 8,
   "metadata": {},
   "outputs": [
    {
     "data": {
      "text/plain": [
       "<Artifact QXJ0aWZhY3Q6NjMxOTAyMTA0>"
      ]
     },
     "execution_count": 8,
     "metadata": {},
     "output_type": "execute_result"
    }
   ],
   "source": [
    "artifact"
   ]
  },
  {
   "cell_type": "code",
   "execution_count": 9,
   "metadata": {},
   "outputs": [
    {
     "name": "stderr",
     "output_type": "stream",
     "text": [
      "\u001b[34m\u001b[1mwandb\u001b[0m:   1 of 1 files downloaded.  \n"
     ]
    }
   ],
   "source": [
    "dd = artifact.download()"
   ]
  },
  {
   "cell_type": "code",
   "execution_count": 10,
   "metadata": {},
   "outputs": [
    {
     "data": {
      "text/plain": [
       "'./artifacts/pred_rhjdpsuk_GmRyKBUV:v0'"
      ]
     },
     "execution_count": 10,
     "metadata": {},
     "output_type": "execute_result"
    }
   ],
   "source": [
    "dd"
   ]
  },
  {
   "cell_type": "code",
   "execution_count": 11,
   "metadata": {},
   "outputs": [],
   "source": [
    "table_path = f\"{dd}/predictions.table.json\""
   ]
  },
  {
   "cell_type": "code",
   "execution_count": null,
   "metadata": {},
   "outputs": [],
   "source": []
  },
  {
   "cell_type": "code",
   "execution_count": 12,
   "metadata": {},
   "outputs": [],
   "source": [
    "import pandas as pd"
   ]
  },
  {
   "cell_type": "code",
   "execution_count": 13,
   "metadata": {},
   "outputs": [],
   "source": [
    "import json\n",
    "raw_data = json.load(Path(table_path).open())"
   ]
  },
  {
   "cell_type": "code",
   "execution_count": 14,
   "metadata": {},
   "outputs": [
    {
     "data": {
      "text/plain": [
       "[['Nathan Schneider',\n",
       "  'https://twitter.com/ntnsndr/status/1721589953509953620',\n",
       "  \"In case you're not on the fediverse, here's a thread I just did on the ongoing WeWork collapse and why (surprise surprise) it should have been a co-op: https://social.coop/@ntnsndr/111364589153380497 #exittocommunity\",\n",
       "  \"[Reasoning Steps]\\n\\n1. The post is about the ongoing collapse of WeWork.\\n2. The author is discussing the reasons for the collapse.\\n3. The author suggests that the collapse should have been a cooperative.\\n4. The author is advocating for a different model of business.\\n5. The author is sharing their thoughts and opinions on a current event.\\n\\n[Candidate Tags]\\n\\n1. <event>: This tag is suitable because the post is about a current event, specifically the collapse of WeWork.\\n2. <review>: This tag is not suitable because the post is not a review of a reference.\\n3. <announce>: This tag is not suitable because the post is not an announcement of new research.\\n4. <reading>: This tag is not suitable because the post is not about the author's reading status.\\n5. <other>: This tag is not suitable because it does not provide any information about the content of the post.\",\n",
       "  '<event>',\n",
       "  '<other>',\n",
       "  'rtk',\n",
       "  '1721589953509953620']]"
      ]
     },
     "execution_count": 14,
     "metadata": {},
     "output_type": "execute_result"
    }
   ],
   "source": [
    "raw_data[\"data\"]"
   ]
  },
  {
   "cell_type": "code",
   "execution_count": 16,
   "metadata": {},
   "outputs": [
    {
     "data": {
      "text/plain": [
       "['User',\n",
       " 'URL',\n",
       " 'Text',\n",
       " 'Reasoning Steps',\n",
       " 'Predicted Label',\n",
       " 'True Label',\n",
       " 'Name of Label Provider',\n",
       " 'Tweet ID']"
      ]
     },
     "execution_count": 16,
     "metadata": {},
     "output_type": "execute_result"
    }
   ],
   "source": [
    "raw_data[\"columns\"]"
   ]
  },
  {
   "cell_type": "code",
   "execution_count": 19,
   "metadata": {},
   "outputs": [],
   "source": [
    "from tqdm import tqdm"
   ]
  },
  {
   "cell_type": "code",
   "execution_count": 40,
   "metadata": {},
   "outputs": [
    {
     "name": "stderr",
     "output_type": "stream",
     "text": [
      "  0%|          | 0/16 [00:00<?, ?it/s]\u001b[34m\u001b[1mwandb\u001b[0m:   1 of 1 files downloaded.  \n",
      "  6%|▋         | 1/16 [00:00<00:03,  3.76it/s]\u001b[34m\u001b[1mwandb\u001b[0m:   1 of 1 files downloaded.  \n",
      " 12%|█▎        | 2/16 [00:00<00:03,  4.35it/s]\u001b[34m\u001b[1mwandb\u001b[0m:   1 of 1 files downloaded.  \n",
      " 19%|█▉        | 3/16 [00:00<00:02,  4.61it/s]\u001b[34m\u001b[1mwandb\u001b[0m:   1 of 1 files downloaded.  \n",
      " 25%|██▌       | 4/16 [00:00<00:02,  5.26it/s]\u001b[34m\u001b[1mwandb\u001b[0m:   1 of 1 files downloaded.  \n",
      " 31%|███▏      | 5/16 [00:00<00:01,  5.90it/s]\u001b[34m\u001b[1mwandb\u001b[0m:   1 of 1 files downloaded.  \n",
      " 38%|███▊      | 6/16 [00:01<00:01,  6.01it/s]\u001b[34m\u001b[1mwandb\u001b[0m:   1 of 1 files downloaded.  \n",
      " 44%|████▍     | 7/16 [00:01<00:01,  5.75it/s]\u001b[34m\u001b[1mwandb\u001b[0m:   1 of 1 files downloaded.  \n",
      " 50%|█████     | 8/16 [00:01<00:01,  5.63it/s]\u001b[34m\u001b[1mwandb\u001b[0m:   1 of 1 files downloaded.  \n",
      " 56%|█████▋    | 9/16 [00:01<00:01,  5.58it/s]\u001b[34m\u001b[1mwandb\u001b[0m:   1 of 1 files downloaded.  \n",
      " 62%|██████▎   | 10/16 [00:01<00:01,  5.73it/s]\u001b[34m\u001b[1mwandb\u001b[0m:   1 of 1 files downloaded.  \n",
      " 69%|██████▉   | 11/16 [00:02<00:00,  5.68it/s]\u001b[34m\u001b[1mwandb\u001b[0m:   1 of 1 files downloaded.  \n",
      " 75%|███████▌  | 12/16 [00:02<00:00,  5.74it/s]\u001b[34m\u001b[1mwandb\u001b[0m:   1 of 1 files downloaded.  \n",
      " 81%|████████▏ | 13/16 [00:02<00:00,  5.82it/s]\u001b[34m\u001b[1mwandb\u001b[0m:   1 of 1 files downloaded.  \n",
      " 88%|████████▊ | 14/16 [00:02<00:00,  6.01it/s]\u001b[34m\u001b[1mwandb\u001b[0m:   1 of 1 files downloaded.  \n",
      " 94%|█████████▍| 15/16 [00:02<00:00,  5.89it/s]\u001b[34m\u001b[1mwandb\u001b[0m:   1 of 1 files downloaded.  \n",
      "100%|██████████| 16/16 [00:02<00:00,  5.62it/s]\n"
     ]
    }
   ],
   "source": [
    "rows = []\n",
    "cols = None\n",
    "for artifact in tqdm(artifacts, total=len(artifacts)):\n",
    "    a_path = artifact.download()\n",
    "    table_path = Path(f\"{a_path}/predictions.table.json\")\n",
    "    raw_data = json.load(table_path.open())\n",
    "    if not cols:\n",
    "        cols = raw_data[\"columns\"]\n",
    "    else:\n",
    "        assert cols == raw_data[\"columns\"]\n",
    "\n",
    "    # add wandb name to identify each artifact    \n",
    "    row = raw_data[\"data\"][0] + [artifact.name]\n",
    "    rows += [row]\n",
    "\n",
    "# add column for wandb name\n",
    "cols += [\"wandb name\"]\n",
    "    \n",
    "\n",
    "\n"
   ]
  },
  {
   "cell_type": "code",
   "execution_count": 39,
   "metadata": {},
   "outputs": [
    {
     "data": {
      "text/plain": [
       "['John Tasioulas',\n",
       " 'https://twitter.com/JTasioulas/status/1660582630641872898',\n",
       " 'For a long time political philosophers ignored democracy in favour of building increasingly arcane theories of justice, or they saw justice as in conflict with democracy. This book by @dsallentess seeks to put democracy at the very heart of justice. Looking forward to reading. https://t.co/O9Ii3we0b8',\n",
       " '[Reasoning Steps]\\n\\n1. The post is about a book.\\n2. The author of the book is mentioned.\\n3. The book is about democracy and justice.\\n4. The author is a political philosopher.\\n5. The post is a positive endorsement of the book.\\n\\n[Candidate Tags]\\n\\n<review> - This tag is suitable because the post is a positive endorsement of the book.\\n<announce> - This tag is not suitable because the post is not announcing a new research output.\\n<job> - This tag is not suitable because the post is not about a job.\\n<event> - This tag is not suitable because the post is not about an event.\\n<reading> - This tag is not suitable because the post is not about the author reading content.\\n<other> - This tag is not suitable because none of the other tags are suitable.',\n",
       " '<review>',\n",
       " '<reading>',\n",
       " 'rtk',\n",
       " '1660582630641872898',\n",
       " 'pred_kezzchu2_AfZd8RPg:v0']"
      ]
     },
     "execution_count": 39,
     "metadata": {},
     "output_type": "execute_result"
    }
   ],
   "source": [
    "row"
   ]
  },
  {
   "cell_type": "code",
   "execution_count": 36,
   "metadata": {},
   "outputs": [
    {
     "data": {
      "text/plain": [
       "['User',\n",
       " 'URL',\n",
       " 'Text',\n",
       " 'Reasoning Steps',\n",
       " 'Predicted Label',\n",
       " 'True Label',\n",
       " 'Name of Label Provider',\n",
       " 'Tweet ID',\n",
       " 'wandb name']"
      ]
     },
     "execution_count": 36,
     "metadata": {},
     "output_type": "execute_result"
    }
   ],
   "source": [
    "cols"
   ]
  },
  {
   "cell_type": "code",
   "execution_count": 41,
   "metadata": {},
   "outputs": [
    {
     "data": {
      "text/html": [
       "<div>\n",
       "<style scoped>\n",
       "    .dataframe tbody tr th:only-of-type {\n",
       "        vertical-align: middle;\n",
       "    }\n",
       "\n",
       "    .dataframe tbody tr th {\n",
       "        vertical-align: top;\n",
       "    }\n",
       "\n",
       "    .dataframe thead th {\n",
       "        text-align: right;\n",
       "    }\n",
       "</style>\n",
       "<table border=\"1\" class=\"dataframe\">\n",
       "  <thead>\n",
       "    <tr style=\"text-align: right;\">\n",
       "      <th></th>\n",
       "      <th>User</th>\n",
       "      <th>URL</th>\n",
       "      <th>Text</th>\n",
       "      <th>Reasoning Steps</th>\n",
       "      <th>Predicted Label</th>\n",
       "      <th>True Label</th>\n",
       "      <th>Name of Label Provider</th>\n",
       "      <th>Tweet ID</th>\n",
       "      <th>wandb name</th>\n",
       "    </tr>\n",
       "  </thead>\n",
       "  <tbody>\n",
       "    <tr>\n",
       "      <th>0</th>\n",
       "      <td>Nathan Schneider</td>\n",
       "      <td>https://twitter.com/ntnsndr/status/17215899535...</td>\n",
       "      <td>In case you're not on the fediverse, here's a ...</td>\n",
       "      <td>[Reasoning Steps]\\n\\n1. The post is about the ...</td>\n",
       "      <td>&lt;event&gt;</td>\n",
       "      <td>&lt;other&gt;</td>\n",
       "      <td>rtk</td>\n",
       "      <td>1721589953509953620</td>\n",
       "      <td>pred_rhjdpsuk_GmRyKBUV:v0</td>\n",
       "    </tr>\n",
       "    <tr>\n",
       "      <th>1</th>\n",
       "      <td>CU Boulder CMCI Media Studies</td>\n",
       "      <td>https://twitter.com/cumediastudies/status/1722...</td>\n",
       "      <td>We've got two scholars visiting on Thursday! K...</td>\n",
       "      <td>[Reasoning Steps]\\n\\n1. The post contains info...</td>\n",
       "      <td>&lt;other&gt;</td>\n",
       "      <td>&lt;event&gt;</td>\n",
       "      <td>rtk</td>\n",
       "      <td>1722066353316671536</td>\n",
       "      <td>pred_vwnrj1ks_3rnymiZi:v0</td>\n",
       "    </tr>\n",
       "    <tr>\n",
       "      <th>2</th>\n",
       "      <td>Herbert Chang 張賀鈞</td>\n",
       "      <td>https://twitter.com/herbschang/status/17220275...</td>\n",
       "      <td>QSS is hiring a postdoc @Dartmouth! (addn'l po...</td>\n",
       "      <td>[Reasoning Steps]\\n\\n1. The post contains info...</td>\n",
       "      <td>&lt;job&gt;</td>\n",
       "      <td>&lt;job&gt;</td>\n",
       "      <td>rtk</td>\n",
       "      <td>1722027569002811787</td>\n",
       "      <td>pred_o268mc8q_XVjWhDdp:v0</td>\n",
       "    </tr>\n",
       "    <tr>\n",
       "      <th>3</th>\n",
       "      <td>Nina Miolane</td>\n",
       "      <td>https://twitter.com/ninamiolane/status/1721901...</td>\n",
       "      <td>I am recruiting PhD students for 2024!😃\\n\\nYou...</td>\n",
       "      <td>[Reasoning Steps]\\n\\n1. The post contains a jo...</td>\n",
       "      <td>&lt;job&gt;</td>\n",
       "      <td>&lt;job&gt;</td>\n",
       "      <td>rtk</td>\n",
       "      <td>1721901767003419105</td>\n",
       "      <td>pred_3s7ax4lq_Kub7L2Ks:v0</td>\n",
       "    </tr>\n",
       "    <tr>\n",
       "      <th>4</th>\n",
       "      <td>Yogi Jaeger 💙 @yoginho@spore.social</td>\n",
       "      <td>https://twitter.com/yoginho/status/17207719711...</td>\n",
       "      <td>This take-down by @damiengwalter of Marc Andre...</td>\n",
       "      <td>[Reasoning Steps]\\n\\n1. The post discusses a c...</td>\n",
       "      <td>&lt;review&gt;</td>\n",
       "      <td>&lt;review&gt;</td>\n",
       "      <td></td>\n",
       "      <td>1720771971149963679</td>\n",
       "      <td>pred_h2g8s66f_c4x3pbgJ:v0</td>\n",
       "    </tr>\n",
       "    <tr>\n",
       "      <th>5</th>\n",
       "      <td>Yohan J. John</td>\n",
       "      <td>https://twitter.com/DrYohanJohn/status/1721991...</td>\n",
       "      <td>Found a nice article on the origins of the nor...</td>\n",
       "      <td>[Reasoning Steps]\\n\\n1. The post contains a li...</td>\n",
       "      <td>&lt;announce&gt;</td>\n",
       "      <td>&lt;review&gt;</td>\n",
       "      <td></td>\n",
       "      <td>1721991950772179418</td>\n",
       "      <td>pred_0jbmmgam_dsaToGUp:v0</td>\n",
       "    </tr>\n",
       "    <tr>\n",
       "      <th>6</th>\n",
       "      <td>Maria Repnikova</td>\n",
       "      <td>https://twitter.com/MariaRepnikova/status/1694...</td>\n",
       "      <td>Looking forward to reading the piece, but leve...</td>\n",
       "      <td>[Reasoning Steps]\\n\\n1. The post discusses a p...</td>\n",
       "      <td>&lt;other&gt;</td>\n",
       "      <td>&lt;reading&gt;</td>\n",
       "      <td>rtk</td>\n",
       "      <td>1694054681025356286</td>\n",
       "      <td>pred_ozdgh4wy_jHQoK6kR:v0</td>\n",
       "    </tr>\n",
       "    <tr>\n",
       "      <th>7</th>\n",
       "      <td>Geoffrey Hinton</td>\n",
       "      <td>https://twitter.com/geoffreyhinton/status/1721...</td>\n",
       "      <td>Fei-Fei Li has written a book. She was the fir...</td>\n",
       "      <td>[Reasoning Steps]\\n\\n1. The post is about a bo...</td>\n",
       "      <td>&lt;review&gt;</td>\n",
       "      <td>&lt;review&gt;</td>\n",
       "      <td>rtk</td>\n",
       "      <td>1721937095860633663</td>\n",
       "      <td>pred_lzrlzyuq_V84u39A4:v0</td>\n",
       "    </tr>\n",
       "    <tr>\n",
       "      <th>8</th>\n",
       "      <td>Melanie Mitchell</td>\n",
       "      <td>https://twitter.com/MelMitchell1/status/170666...</td>\n",
       "      <td>“Embers of Autoregression”.  \\n\\nLooking forwa...</td>\n",
       "      <td>[Reasoning Steps]\\n\\n1. The post is about a bo...</td>\n",
       "      <td>&lt;reading&gt;</td>\n",
       "      <td>&lt;reading&gt;</td>\n",
       "      <td>rtk</td>\n",
       "      <td>1706666878872248680</td>\n",
       "      <td>pred_1klkydec_LoXSsFSN:v0</td>\n",
       "    </tr>\n",
       "    <tr>\n",
       "      <th>9</th>\n",
       "      <td>Gaia Vince @wanderinggaia.bsky.social</td>\n",
       "      <td>https://twitter.com/WanderingGaia/status/14385...</td>\n",
       "      <td>Looking forward to reading this beautiful new ...</td>\n",
       "      <td>[Reasoning Steps]\\n\\n1. The post is about a bo...</td>\n",
       "      <td>reading</td>\n",
       "      <td>&lt;reading&gt;</td>\n",
       "      <td>rtk</td>\n",
       "      <td>1438525134478872583</td>\n",
       "      <td>pred_g8mxfgww_ZadGC6d8:v0</td>\n",
       "    </tr>\n",
       "    <tr>\n",
       "      <th>10</th>\n",
       "      <td>Gaia Vince @wanderinggaia.bsky.social</td>\n",
       "      <td>https://twitter.com/WanderingGaia/status/14385...</td>\n",
       "      <td>Looking forward to reading this beautiful new ...</td>\n",
       "      <td>[Reasoning Steps]\\n\\n1. The post is about a bo...</td>\n",
       "      <td>&lt;review&gt;</td>\n",
       "      <td>&lt;reading&gt;</td>\n",
       "      <td>rtk</td>\n",
       "      <td>1438525134478872583</td>\n",
       "      <td>pred_rfpsfjxv_Ref5t5Mn:v0</td>\n",
       "    </tr>\n",
       "    <tr>\n",
       "      <th>11</th>\n",
       "      <td>Meredith Whittaker</td>\n",
       "      <td>https://twitter.com/mer__edith/status/17208922...</td>\n",
       "      <td>Good thread and paper I'm looking forward to r...</td>\n",
       "      <td>[Reasoning Steps]\\n\\n1. The post is about a th...</td>\n",
       "      <td>&lt;announce&gt;: This tag would be suitable since t...</td>\n",
       "      <td>&lt;reading&gt;</td>\n",
       "      <td>rtk</td>\n",
       "      <td>1720892213977088156</td>\n",
       "      <td>pred_jmy3mb0t_DqyBgxA9:v0</td>\n",
       "    </tr>\n",
       "    <tr>\n",
       "      <th>12</th>\n",
       "      <td>Meredith Whittaker</td>\n",
       "      <td>https://twitter.com/mer__edith/status/17208922...</td>\n",
       "      <td>Good thread and paper I'm looking forward to r...</td>\n",
       "      <td>[Reasoning Steps]\\n\\n1. The post discusses a t...</td>\n",
       "      <td>&lt;review&gt;</td>\n",
       "      <td>&lt;reading&gt;</td>\n",
       "      <td>rtk</td>\n",
       "      <td>1720892213977088156</td>\n",
       "      <td>pred_2mqpp4h8_8Uq22cus:v0</td>\n",
       "    </tr>\n",
       "    <tr>\n",
       "      <th>13</th>\n",
       "      <td>John Tasioulas</td>\n",
       "      <td>https://twitter.com/JTasioulas/status/16605826...</td>\n",
       "      <td>For a long time political philosophers ignored...</td>\n",
       "      <td>[Reasoning Steps]\\n\\n1. The post is about a bo...</td>\n",
       "      <td>&lt;review&gt;</td>\n",
       "      <td>&lt;reading&gt;</td>\n",
       "      <td>rtk</td>\n",
       "      <td>1660582630641872898</td>\n",
       "      <td>pred_idp7lnk7_Yp3zFRRd:v0</td>\n",
       "    </tr>\n",
       "    <tr>\n",
       "      <th>14</th>\n",
       "      <td>John Tasioulas</td>\n",
       "      <td>https://twitter.com/JTasioulas/status/16605826...</td>\n",
       "      <td>For a long time political philosophers ignored...</td>\n",
       "      <td>[Reasoning Steps]\\n\\n[System error: failed to ...</td>\n",
       "      <td>&lt;error&gt;</td>\n",
       "      <td>&lt;reading&gt;</td>\n",
       "      <td>rtk</td>\n",
       "      <td>1660582630641872898</td>\n",
       "      <td>pred_h4j51tir_LPBH6brx:v0</td>\n",
       "    </tr>\n",
       "    <tr>\n",
       "      <th>15</th>\n",
       "      <td>John Tasioulas</td>\n",
       "      <td>https://twitter.com/JTasioulas/status/16605826...</td>\n",
       "      <td>For a long time political philosophers ignored...</td>\n",
       "      <td>[Reasoning Steps]\\n\\n1. The post is about a bo...</td>\n",
       "      <td>&lt;review&gt;</td>\n",
       "      <td>&lt;reading&gt;</td>\n",
       "      <td>rtk</td>\n",
       "      <td>1660582630641872898</td>\n",
       "      <td>pred_kezzchu2_AfZd8RPg:v0</td>\n",
       "    </tr>\n",
       "  </tbody>\n",
       "</table>\n",
       "</div>"
      ],
      "text/plain": [
       "                                     User  \\\n",
       "0                        Nathan Schneider   \n",
       "1           CU Boulder CMCI Media Studies   \n",
       "2                       Herbert Chang 張賀鈞   \n",
       "3                            Nina Miolane   \n",
       "4     Yogi Jaeger 💙 @yoginho@spore.social   \n",
       "5                           Yohan J. John   \n",
       "6                         Maria Repnikova   \n",
       "7                         Geoffrey Hinton   \n",
       "8                        Melanie Mitchell   \n",
       "9   Gaia Vince @wanderinggaia.bsky.social   \n",
       "10  Gaia Vince @wanderinggaia.bsky.social   \n",
       "11                     Meredith Whittaker   \n",
       "12                     Meredith Whittaker   \n",
       "13                         John Tasioulas   \n",
       "14                         John Tasioulas   \n",
       "15                         John Tasioulas   \n",
       "\n",
       "                                                  URL  \\\n",
       "0   https://twitter.com/ntnsndr/status/17215899535...   \n",
       "1   https://twitter.com/cumediastudies/status/1722...   \n",
       "2   https://twitter.com/herbschang/status/17220275...   \n",
       "3   https://twitter.com/ninamiolane/status/1721901...   \n",
       "4   https://twitter.com/yoginho/status/17207719711...   \n",
       "5   https://twitter.com/DrYohanJohn/status/1721991...   \n",
       "6   https://twitter.com/MariaRepnikova/status/1694...   \n",
       "7   https://twitter.com/geoffreyhinton/status/1721...   \n",
       "8   https://twitter.com/MelMitchell1/status/170666...   \n",
       "9   https://twitter.com/WanderingGaia/status/14385...   \n",
       "10  https://twitter.com/WanderingGaia/status/14385...   \n",
       "11  https://twitter.com/mer__edith/status/17208922...   \n",
       "12  https://twitter.com/mer__edith/status/17208922...   \n",
       "13  https://twitter.com/JTasioulas/status/16605826...   \n",
       "14  https://twitter.com/JTasioulas/status/16605826...   \n",
       "15  https://twitter.com/JTasioulas/status/16605826...   \n",
       "\n",
       "                                                 Text  \\\n",
       "0   In case you're not on the fediverse, here's a ...   \n",
       "1   We've got two scholars visiting on Thursday! K...   \n",
       "2   QSS is hiring a postdoc @Dartmouth! (addn'l po...   \n",
       "3   I am recruiting PhD students for 2024!😃\\n\\nYou...   \n",
       "4   This take-down by @damiengwalter of Marc Andre...   \n",
       "5   Found a nice article on the origins of the nor...   \n",
       "6   Looking forward to reading the piece, but leve...   \n",
       "7   Fei-Fei Li has written a book. She was the fir...   \n",
       "8   “Embers of Autoregression”.  \\n\\nLooking forwa...   \n",
       "9   Looking forward to reading this beautiful new ...   \n",
       "10  Looking forward to reading this beautiful new ...   \n",
       "11  Good thread and paper I'm looking forward to r...   \n",
       "12  Good thread and paper I'm looking forward to r...   \n",
       "13  For a long time political philosophers ignored...   \n",
       "14  For a long time political philosophers ignored...   \n",
       "15  For a long time political philosophers ignored...   \n",
       "\n",
       "                                      Reasoning Steps  \\\n",
       "0   [Reasoning Steps]\\n\\n1. The post is about the ...   \n",
       "1   [Reasoning Steps]\\n\\n1. The post contains info...   \n",
       "2   [Reasoning Steps]\\n\\n1. The post contains info...   \n",
       "3   [Reasoning Steps]\\n\\n1. The post contains a jo...   \n",
       "4   [Reasoning Steps]\\n\\n1. The post discusses a c...   \n",
       "5   [Reasoning Steps]\\n\\n1. The post contains a li...   \n",
       "6   [Reasoning Steps]\\n\\n1. The post discusses a p...   \n",
       "7   [Reasoning Steps]\\n\\n1. The post is about a bo...   \n",
       "8   [Reasoning Steps]\\n\\n1. The post is about a bo...   \n",
       "9   [Reasoning Steps]\\n\\n1. The post is about a bo...   \n",
       "10  [Reasoning Steps]\\n\\n1. The post is about a bo...   \n",
       "11  [Reasoning Steps]\\n\\n1. The post is about a th...   \n",
       "12  [Reasoning Steps]\\n\\n1. The post discusses a t...   \n",
       "13  [Reasoning Steps]\\n\\n1. The post is about a bo...   \n",
       "14  [Reasoning Steps]\\n\\n[System error: failed to ...   \n",
       "15  [Reasoning Steps]\\n\\n1. The post is about a bo...   \n",
       "\n",
       "                                      Predicted Label True Label  \\\n",
       "0                                             <event>    <other>   \n",
       "1                                             <other>    <event>   \n",
       "2                                               <job>      <job>   \n",
       "3                                               <job>      <job>   \n",
       "4                                            <review>   <review>   \n",
       "5                                          <announce>   <review>   \n",
       "6                                             <other>  <reading>   \n",
       "7                                            <review>   <review>   \n",
       "8                                           <reading>  <reading>   \n",
       "9                                             reading  <reading>   \n",
       "10                                           <review>  <reading>   \n",
       "11  <announce>: This tag would be suitable since t...  <reading>   \n",
       "12                                           <review>  <reading>   \n",
       "13                                           <review>  <reading>   \n",
       "14                                            <error>  <reading>   \n",
       "15                                           <review>  <reading>   \n",
       "\n",
       "   Name of Label Provider             Tweet ID                 wandb name  \n",
       "0                     rtk  1721589953509953620  pred_rhjdpsuk_GmRyKBUV:v0  \n",
       "1                     rtk  1722066353316671536  pred_vwnrj1ks_3rnymiZi:v0  \n",
       "2                     rtk  1722027569002811787  pred_o268mc8q_XVjWhDdp:v0  \n",
       "3                     rtk  1721901767003419105  pred_3s7ax4lq_Kub7L2Ks:v0  \n",
       "4                          1720771971149963679  pred_h2g8s66f_c4x3pbgJ:v0  \n",
       "5                          1721991950772179418  pred_0jbmmgam_dsaToGUp:v0  \n",
       "6                     rtk  1694054681025356286  pred_ozdgh4wy_jHQoK6kR:v0  \n",
       "7                     rtk  1721937095860633663  pred_lzrlzyuq_V84u39A4:v0  \n",
       "8                     rtk  1706666878872248680  pred_1klkydec_LoXSsFSN:v0  \n",
       "9                     rtk  1438525134478872583  pred_g8mxfgww_ZadGC6d8:v0  \n",
       "10                    rtk  1438525134478872583  pred_rfpsfjxv_Ref5t5Mn:v0  \n",
       "11                    rtk  1720892213977088156  pred_jmy3mb0t_DqyBgxA9:v0  \n",
       "12                    rtk  1720892213977088156  pred_2mqpp4h8_8Uq22cus:v0  \n",
       "13                    rtk  1660582630641872898  pred_idp7lnk7_Yp3zFRRd:v0  \n",
       "14                    rtk  1660582630641872898  pred_h4j51tir_LPBH6brx:v0  \n",
       "15                    rtk  1660582630641872898  pred_kezzchu2_AfZd8RPg:v0  "
      ]
     },
     "execution_count": 41,
     "metadata": {},
     "output_type": "execute_result"
    }
   ],
   "source": [
    "pd.DataFrame(data=rows, columns=cols)"
   ]
  },
  {
   "cell_type": "code",
   "execution_count": 25,
   "metadata": {},
   "outputs": [
    {
     "data": {
      "text/plain": [
       "'pred_kezzchu2_AfZd8RPg:v0'"
      ]
     },
     "execution_count": 25,
     "metadata": {},
     "output_type": "execute_result"
    }
   ],
   "source": [
    "table_path.parent.name"
   ]
  },
  {
   "cell_type": "code",
   "execution_count": 32,
   "metadata": {},
   "outputs": [
    {
     "data": {
      "text/plain": [
       "'pred_kezzchu2_AfZd8RPg:v0'"
      ]
     },
     "execution_count": 32,
     "metadata": {},
     "output_type": "execute_result"
    }
   ],
   "source": [
    "artifact.name"
   ]
  },
  {
   "cell_type": "code",
   "execution_count": 42,
   "metadata": {},
   "outputs": [
    {
     "data": {
      "text/plain": [
       "pandas.core.arrays.categorical.Categorical"
      ]
     },
     "execution_count": 42,
     "metadata": {},
     "output_type": "execute_result"
    }
   ],
   "source": [
    "pd.Categorical"
   ]
  },
  {
   "cell_type": "code",
   "execution_count": 43,
   "metadata": {},
   "outputs": [
    {
     "data": {
      "text/plain": [
       "<module 'pandas' from '/home/rkl25/anaconda3/envs/twscraping/lib/python3.11/site-packages/pandas/__init__.py'>"
      ]
     },
     "execution_count": 43,
     "metadata": {},
     "output_type": "execute_result"
    }
   ],
   "source": [
    "pd"
   ]
  }
 ],
 "metadata": {
  "kernelspec": {
   "display_name": "twscraping",
   "language": "python",
   "name": "python3"
  },
  "language_info": {
   "codemirror_mode": {
    "name": "ipython",
    "version": 3
   },
   "file_extension": ".py",
   "mimetype": "text/x-python",
   "name": "python",
   "nbconvert_exporter": "python",
   "pygments_lexer": "ipython3",
   "version": "3.11.5"
  }
 },
 "nbformat": 4,
 "nbformat_minor": 2
}
