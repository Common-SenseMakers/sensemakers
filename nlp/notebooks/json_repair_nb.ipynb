{
 "cells": [
  {
   "cell_type": "code",
   "execution_count": 2,
   "metadata": {},
   "outputs": [],
   "source": [
    "import json_repair"
   ]
  },
  {
   "cell_type": "code",
   "execution_count": 4,
   "metadata": {},
   "outputs": [
    {
     "data": {
      "text/plain": [
       "{'sub_answers': [{'reasoning_steps': \"The post is endorsing the mentioned reference as a 'must-read'. It does not contain a review, discussion, question, or summary of the reference, but rather highlights a key point made in the reference. The post does not contain a quote, but it does paraphrase a point from the reference. The post does not indicate that the author has read, is reading, or plans to read the reference, but the endorsement implies some level of familiarity. The post does not contain a call for papers, a funding opportunity, an event invitation, a job listing, or a call to listen to or watch the reference.\",\n",
       "   'candidate_tags': ['<endorses>',\n",
       "    \"The post endorses the mentioned reference as a 'must-read'.\",\n",
       "    '<default>',\n",
       "    'None of the other tags accurately capture the relationship between the post and the reference.',\n",
       "    'final_answer',\n",
       "    ['<endorses>']]}]}"
      ]
     },
     "execution_count": 4,
     "metadata": {},
     "output_type": "execute_result"
    }
   ],
   "source": [
    "json_string = \"\"\"{ \"sub_answers\": [ { \"reasoning_steps\": \"The post is endorsing the mentioned reference as a 'must-read'. It does not contain a review, discussion, question, or summary of the reference, but rather highlights a key point made in the reference. The post does not contain a quote, but it does paraphrase a point from the reference. The post does not indicate that the author has read, is reading, or plans to read the reference, but the endorsement implies some level of familiarity. The post does not contain a call for papers, a funding opportunity, an event invitation, a job listing, or a call to listen to or watch the reference.\", **\"candidate_tags\": [ \"<endorses>\": \"The post endorses the mentioned reference as a 'must-read'.\", \"<default>\": \"None of the other tags accurately capture the relationship between the post and the reference.\"** ], \"final_answer\": [\"<endorses>\"] } ] } \n",
    "\"\"\"\n",
    "\n",
    "decoded_object = json_repair.loads(json_string)\n",
    "decoded_object"
   ]
  },
  {
   "cell_type": "code",
   "execution_count": 8,
   "metadata": {},
   "outputs": [
    {
     "data": {
      "text/plain": [
       "dict_keys(['reasoning_steps', 'candidate_tags'])"
      ]
     },
     "execution_count": 8,
     "metadata": {},
     "output_type": "execute_result"
    }
   ],
   "source": [
    "decoded_object['sub_answers'][0].keys()"
   ]
  }
 ],
 "metadata": {
  "kernelspec": {
   "display_name": "asensebot",
   "language": "python",
   "name": "python3"
  },
  "language_info": {
   "codemirror_mode": {
    "name": "ipython",
    "version": 3
   },
   "file_extension": ".py",
   "mimetype": "text/x-python",
   "name": "python",
   "nbconvert_exporter": "python",
   "pygments_lexer": "ipython3",
   "version": "3.11.7"
  }
 },
 "nbformat": 4,
 "nbformat_minor": 2
}
