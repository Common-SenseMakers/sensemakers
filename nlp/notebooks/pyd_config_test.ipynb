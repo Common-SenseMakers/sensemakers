{
 "cells": [
  {
   "cell_type": "code",
   "execution_count": 6,
   "metadata": {},
   "outputs": [],
   "source": [
    "import sys\n",
    "sys.path.append(\"../\")"
   ]
  },
  {
   "cell_type": "code",
   "execution_count": 11,
   "metadata": {},
   "outputs": [],
   "source": [
    "import os\n",
    "from typing import Any, Callable, Set, Union\n",
    "from enum import Enum\n",
    "from pydantic import (\n",
    "    AliasChoices,\n",
    "    AmqpDsn,\n",
    "    BaseModel,\n",
    "    Field,\n",
    "    ImportString,\n",
    "    PostgresDsn,\n",
    "    RedisDsn,\n",
    "    validator,\n",
    "    ConfigDict,\n",
    "    field_validator,\n",
    ")\n",
    "\n",
    "from pydantic_settings import BaseSettings, SettingsConfigDict\n",
    "from desci_sense.shared_functions.web_extractors.metadata_extractors import MetadataExtractionType\n"
   ]
  },
  {
   "cell_type": "code",
   "execution_count": 12,
   "metadata": {},
   "outputs": [],
   "source": [
    "def validate_env_var(env_var_name: str, value: Union[str,None]):\n",
    "    \"\"\"\n",
    "    If `value` is not `None`, returns `value`.\n",
    "    If `value` is `None`, checks if `env_var_name` is defined in the environment \n",
    "    and returns its value if so. If it isn't defined, raises an error.\n",
    "    \"\"\"\n",
    "    if value is not None:\n",
    "        return value\n",
    "    else:\n",
    "        env_value = os.getenv(env_var_name)\n",
    "        if env_value is not None:\n",
    "            return env_value\n",
    "        else:\n",
    "            raise ValueError(f\"Environment variable '{env_var_name}' is not defined.\")"
   ]
  },
  {
   "cell_type": "code",
   "execution_count": 16,
   "metadata": {},
   "outputs": [],
   "source": [
    "class OpenrouterAPIConfig(BaseSettings):\n",
    "    api_base: str = Field(default=\"https://openrouter.ai/api/v1\",\n",
    "                         description=\"Base URL for Openrouter API\")\n",
    "    api_key: str | None = Field(description=\"Openrouter API key\",\n",
    "                                default=None,)\n",
    "    referer: str | None = Field(default=None,\n",
    "                                description=\"Referer for tracking on Openrouter\",)\n",
    "    \n",
    "    @field_validator('api_key')\n",
    "    def load_api_key_from_env(cls, v):\n",
    "        return validate_env_var(\"OPENROUTER_API_KEY\", v)\n",
    "    \n",
    "    @field_validator('referer')\n",
    "    def load_referer_from_env(cls, v):\n",
    "        return validate_env_var(\"OPENROUTER_REFERRER\", v)"
   ]
  },
  {
   "cell_type": "code",
   "execution_count": 18,
   "metadata": {},
   "outputs": [],
   "source": [
    "class WandbConfig(BaseSettings):\n",
    "    entity: str = Field(default=\"common-sense-makers\", \n",
    "                        description=\"wandb entity to log runs to.\")\n",
    "    project: str | None = Field(description=\"wandb project to log runs to\",\n",
    "                                default=None,)\n",
    "    \n",
    "    @field_validator('project')\n",
    "    def load_project_from_env(cls, v):\n",
    "        return validate_env_var(\"WANDB_PROJECT\", v)\n",
    "    \n",
    "    "
   ]
  },
  {
   "cell_type": "code",
   "execution_count": 19,
   "metadata": {},
   "outputs": [
    {
     "data": {
      "text/plain": [
       "WandbConfig(entity='common-sense-makers', project='st-demo-sandbox')"
      ]
     },
     "execution_count": 19,
     "metadata": {},
     "output_type": "execute_result"
    }
   ],
   "source": [
    "WandbConfig(pro)"
   ]
  },
  {
   "cell_type": "code",
   "execution_count": 17,
   "metadata": {},
   "outputs": [
    {
     "data": {
      "text/plain": [
       "OpenrouterAPIConfig(api_base='https://openrouter.ai/api/v1', api_key='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', referer='http://localhost:3000')"
      ]
     },
     "execution_count": 17,
     "metadata": {},
     "output_type": "execute_result"
    }
   ],
   "source": [
    "config = OpenrouterAPIConfig()\n",
    "config"
   ]
  },
  {
   "cell_type": "code",
   "execution_count": 17,
   "metadata": {},
   "outputs": [],
   "source": [
    "\n",
    "    \n",
    "\n",
    "class ModelConfig(BaseSettings):\n",
    "    name: str = Field(default=\"mistralai/mistral-7b-instruct\", \n",
    "                            description=\"Name of the model to be intialized.\")\n",
    "    temperature: str = Field(default=\"0.6\",\n",
    "                             description=\"Temperature paramater to use when sampling model outputs.\")\n",
    "\n",
    "class MetadataExtractionConfig(BaseSettings):\n",
    "    extraction_method: MetadataExtractionType = Field(default=MetadataExtractionType.NONE, \n",
    "                                                      description=\"Type of URL metadata extraction method to use.\")\n",
    "    max_summary_length: int = Field(default=500,\n",
    "                                    description=\"Maximum length of summary to extract -  \\\n",
    "                                          anything beyond will be truncated. Set to -1 to take full length.\")\n",
    "\n",
    "class KeywordExtractionConfig(BaseSettings):\n",
    "    kw_model_config: ModelConfig = Field(default_factory=ModelConfig,\n",
    "                                      description=\"Model configuration for the \\\n",
    "                                        keyword extraction model\")\n",
    "    kw_metadata_config: MetadataExtractionConfig = Field(default_factory=MetadataExtractionConfig,\n",
    "                                                         description=\"Metadata extraction config for \\\n",
    "                                                          keyword extraction model.\")\n",
    "    enabled: bool = Field(default=True, \n",
    "                          description=\"Whether keyword extraction is enabled or not.\")\n",
    "    ref_metadata_method: MetadataExtractionType = Field(default=MetadataExtractionType.NONE, description=\"Type of URL metadata extraction method to use.\")\n",
    "    max_keywords: int = Field(default=6,\n",
    "                              description=\"Maximum number of keywords to extract. \\\n",
    "                                Set to -1 for unlimited keywords.\")\n",
    "    \n",
    "    \n",
    "class WandbConfig(BaseSettings):\n",
    "    model_config = ConfigDict(\n",
    "        populate_by_name=True\n",
    "    )\n",
    "    entity: str = Field(default=\"common-sense-makers\", \n",
    "                        description=\"wandb entity to log runs to.\")\n",
    "    project: str = Field(alias=\"WANDB_PROJECT\",\n",
    "                         description=\"wandb project to log runs to\")\n",
    "    \n",
    "    \n",
    "\n",
    "    \n",
    "\n",
    "class ParserConfig(BaseSettings):\n",
    "    semantic_model_config: ModelConfig = Field(default_factory=ModelConfig,\n",
    "                                      description=\"Model configuration for the \\\n",
    "                                        semantic parsing model\")\n",
    "    openrouter_api_config: OpenrouterAPIConfig = Field(default_factory=OpenrouterAPIConfig,\n",
    "                                                       description=\"Settings for Openrouter API.\")\n",
    "    metadata_extract_config: MetadataExtractionConfig = Field(default_factory=MetadataExtractionConfig,\n",
    "                                                         description=\"Metadata extraction config for \\\n",
    "                                                          semantic parsing model.\")\n",
    "    wandb_config: WandbConfig = Field(default_factory=WandbConfig,\n",
    "                                      description=\"Wandb config for analytics tracking.\")\n",
    "    keyword_config: KeywordExtractionConfig = Field(default_factory=KeywordExtractionConfig,\n",
    "                                                    description=\"Config for keyword extraction.\")"
   ]
  },
  {
   "cell_type": "code",
   "execution_count": 18,
   "metadata": {},
   "outputs": [
    {
     "ename": "ValidationError",
     "evalue": "1 validation error for WandbConfig\nproject\n  Extra inputs are not permitted [type=extra_forbidden, input_value='d', input_type=str]\n    For further information visit https://errors.pydantic.dev/2.6/v/extra_forbidden",
     "output_type": "error",
     "traceback": [
      "\u001b[0;31m---------------------------------------------------------------------------\u001b[0m",
      "\u001b[0;31mValidationError\u001b[0m                           Traceback (most recent call last)",
      "Cell \u001b[0;32mIn[18], line 1\u001b[0m\n\u001b[0;32m----> 1\u001b[0m \u001b[43mWandbConfig\u001b[49m\u001b[43m(\u001b[49m\u001b[43mentity\u001b[49m\u001b[38;5;241;43m=\u001b[39;49m\u001b[38;5;124;43m\"\u001b[39;49m\u001b[38;5;124;43ms\u001b[39;49m\u001b[38;5;124;43m\"\u001b[39;49m\u001b[43m,\u001b[49m\u001b[43m \u001b[49m\u001b[43mproject\u001b[49m\u001b[38;5;241;43m=\u001b[39;49m\u001b[38;5;124;43m\"\u001b[39;49m\u001b[38;5;124;43md\u001b[39;49m\u001b[38;5;124;43m\"\u001b[39;49m\u001b[43m)\u001b[49m\n",
      "File \u001b[0;32m~/anaconda3/envs/sensebot/lib/python3.11/site-packages/pydantic_settings/main.py:71\u001b[0m, in \u001b[0;36mBaseSettings.__init__\u001b[0;34m(__pydantic_self__, _case_sensitive, _env_prefix, _env_file, _env_file_encoding, _env_nested_delimiter, _secrets_dir, **values)\u001b[0m\n\u001b[1;32m     60\u001b[0m \u001b[38;5;28;01mdef\u001b[39;00m \u001b[38;5;21m__init__\u001b[39m(\n\u001b[1;32m     61\u001b[0m     __pydantic_self__,\n\u001b[1;32m     62\u001b[0m     _case_sensitive: \u001b[38;5;28mbool\u001b[39m \u001b[38;5;241m|\u001b[39m \u001b[38;5;28;01mNone\u001b[39;00m \u001b[38;5;241m=\u001b[39m \u001b[38;5;28;01mNone\u001b[39;00m,\n\u001b[0;32m   (...)\u001b[0m\n\u001b[1;32m     69\u001b[0m ) \u001b[38;5;241m-\u001b[39m\u001b[38;5;241m>\u001b[39m \u001b[38;5;28;01mNone\u001b[39;00m:\n\u001b[1;32m     70\u001b[0m     \u001b[38;5;66;03m# Uses something other than `self` the first arg to allow \"self\" as a settable attribute\u001b[39;00m\n\u001b[0;32m---> 71\u001b[0m     \u001b[38;5;28;43msuper\u001b[39;49m\u001b[43m(\u001b[49m\u001b[43m)\u001b[49m\u001b[38;5;241;43m.\u001b[39;49m\u001b[38;5;21;43m__init__\u001b[39;49m\u001b[43m(\u001b[49m\n\u001b[1;32m     72\u001b[0m \u001b[43m        \u001b[49m\u001b[38;5;241;43m*\u001b[39;49m\u001b[38;5;241;43m*\u001b[39;49m\u001b[43m__pydantic_self__\u001b[49m\u001b[38;5;241;43m.\u001b[39;49m\u001b[43m_settings_build_values\u001b[49m\u001b[43m(\u001b[49m\n\u001b[1;32m     73\u001b[0m \u001b[43m            \u001b[49m\u001b[43mvalues\u001b[49m\u001b[43m,\u001b[49m\n\u001b[1;32m     74\u001b[0m \u001b[43m            \u001b[49m\u001b[43m_case_sensitive\u001b[49m\u001b[38;5;241;43m=\u001b[39;49m\u001b[43m_case_sensitive\u001b[49m\u001b[43m,\u001b[49m\n\u001b[1;32m     75\u001b[0m \u001b[43m            \u001b[49m\u001b[43m_env_prefix\u001b[49m\u001b[38;5;241;43m=\u001b[39;49m\u001b[43m_env_prefix\u001b[49m\u001b[43m,\u001b[49m\n\u001b[1;32m     76\u001b[0m \u001b[43m            \u001b[49m\u001b[43m_env_file\u001b[49m\u001b[38;5;241;43m=\u001b[39;49m\u001b[43m_env_file\u001b[49m\u001b[43m,\u001b[49m\n\u001b[1;32m     77\u001b[0m \u001b[43m            \u001b[49m\u001b[43m_env_file_encoding\u001b[49m\u001b[38;5;241;43m=\u001b[39;49m\u001b[43m_env_file_encoding\u001b[49m\u001b[43m,\u001b[49m\n\u001b[1;32m     78\u001b[0m \u001b[43m            \u001b[49m\u001b[43m_env_nested_delimiter\u001b[49m\u001b[38;5;241;43m=\u001b[39;49m\u001b[43m_env_nested_delimiter\u001b[49m\u001b[43m,\u001b[49m\n\u001b[1;32m     79\u001b[0m \u001b[43m            \u001b[49m\u001b[43m_secrets_dir\u001b[49m\u001b[38;5;241;43m=\u001b[39;49m\u001b[43m_secrets_dir\u001b[49m\u001b[43m,\u001b[49m\n\u001b[1;32m     80\u001b[0m \u001b[43m        \u001b[49m\u001b[43m)\u001b[49m\n\u001b[1;32m     81\u001b[0m \u001b[43m    \u001b[49m\u001b[43m)\u001b[49m\n",
      "File \u001b[0;32m~/anaconda3/envs/sensebot/lib/python3.11/site-packages/pydantic/main.py:171\u001b[0m, in \u001b[0;36mBaseModel.__init__\u001b[0;34m(self, **data)\u001b[0m\n\u001b[1;32m    169\u001b[0m \u001b[38;5;66;03m# `__tracebackhide__` tells pytest and some other tools to omit this function from tracebacks\u001b[39;00m\n\u001b[1;32m    170\u001b[0m __tracebackhide__ \u001b[38;5;241m=\u001b[39m \u001b[38;5;28;01mTrue\u001b[39;00m\n\u001b[0;32m--> 171\u001b[0m \u001b[38;5;28;43mself\u001b[39;49m\u001b[38;5;241;43m.\u001b[39;49m\u001b[43m__pydantic_validator__\u001b[49m\u001b[38;5;241;43m.\u001b[39;49m\u001b[43mvalidate_python\u001b[49m\u001b[43m(\u001b[49m\u001b[43mdata\u001b[49m\u001b[43m,\u001b[49m\u001b[43m \u001b[49m\u001b[43mself_instance\u001b[49m\u001b[38;5;241;43m=\u001b[39;49m\u001b[38;5;28;43mself\u001b[39;49m\u001b[43m)\u001b[49m\n",
      "\u001b[0;31mValidationError\u001b[0m: 1 validation error for WandbConfig\nproject\n  Extra inputs are not permitted [type=extra_forbidden, input_value='d', input_type=str]\n    For further information visit https://errors.pydantic.dev/2.6/v/extra_forbidden"
     ]
    }
   ],
   "source": [
    "WandbConfig(entity=\"s\", project=\"d\")"
   ]
  },
  {
   "cell_type": "code",
   "execution_count": 83,
   "metadata": {},
   "outputs": [
    {
     "name": "stdout",
     "output_type": "stream",
     "text": [
      "{\n",
      "    \"semantic_model_config\": {\n",
      "        \"name\": \"mistralai/mistral-7b-instruct\",\n",
      "        \"temperature\": \"0.6\"\n",
      "    },\n",
      "    \"openrouter_api_config\": {\n",
      "        \"api_base\": \"https://openrouter.ai/api/v1\",\n",
      "        \"OPENROUTER_API_KEY\": \"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\",\n",
      "        \"OPENROUTER_REFERRER\": \"http://localhost:3000\"\n",
      "    },\n",
      "    \"metadata_extract_config\": {\n",
      "        \"extraction_method\": \"none\",\n",
      "        \"max_summary_length\": 500\n",
      "    },\n",
      "    \"wandb_config\": {\n",
      "        \"entity\": \"common-sense-makers\",\n",
      "        \"WANDB_PROJECT\": \"st-demo-sandbox\"\n",
      "    },\n",
      "    \"keyword_config\": {\n",
      "        \"kw_model_config\": {\n",
      "            \"name\": \"mistralai/mistral-7b-instruct\",\n",
      "            \"temperature\": \"0.6\"\n",
      "        },\n",
      "        \"kw_metadata_config\": {\n",
      "            \"extraction_method\": \"none\",\n",
      "            \"max_summary_length\": 500\n",
      "        },\n",
      "        \"enabled\": true,\n",
      "        \"ref_metadata_method\": \"none\",\n",
      "        \"max_keywords\": 6\n",
      "    }\n",
      "}\n"
     ]
    }
   ],
   "source": [
    "pc = ParserConfig()\n",
    "pc_json_str = pc.model_dump_json(by_alias=True)\n",
    "print(pc.model_dump_json(indent=4, by_alias=True))\n"
   ]
  },
  {
   "cell_type": "code",
   "execution_count": 84,
   "metadata": {},
   "outputs": [
    {
     "data": {
      "text/plain": [
       "ParserConfig(semantic_model_config=ModelConfig(name='mistralai/mistral-7b-instruct', temperature='0.6'), openrouter_api_config=OpenrouterAPIConfig(api_base='https://openrouter.ai/api/v1', api_key='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', referer='http://localhost:3000'), metadata_extract_config=MetadataExtractionConfig(extraction_method=<MetadataExtractionType.NONE: 'none'>, max_summary_length=500), wandb_config=WandbConfig(entity='common-sense-makers', project='st-demo-sandbox'), keyword_config=KeywordExtractionConfig(kw_model_config=ModelConfig(name='mistralai/mistral-7b-instruct', temperature='0.6'), kw_metadata_config=MetadataExtractionConfig(extraction_method=<MetadataExtractionType.NONE: 'none'>, max_summary_length=500), enabled=True, ref_metadata_method=<MetadataExtractionType.NONE: 'none'>, max_keywords=6))"
      ]
     },
     "execution_count": 84,
     "metadata": {},
     "output_type": "execute_result"
    }
   ],
   "source": [
    "ParserConfig.model_validate_json(pc_json_str)"
   ]
  },
  {
   "cell_type": "code",
   "execution_count": 72,
   "metadata": {},
   "outputs": [
    {
     "data": {
      "text/plain": [
       "WandbConfig(entity='common-sense-makers', project='st-demo-sandbox')"
      ]
     },
     "execution_count": 72,
     "metadata": {},
     "output_type": "execute_result"
    }
   ],
   "source": [
    "wandb_config = WandbConfig()\n",
    "wandb_config"
   ]
  },
  {
   "cell_type": "code",
   "execution_count": 26,
   "metadata": {},
   "outputs": [
    {
     "name": "stdout",
     "output_type": "stream",
     "text": [
      "name='John Doe' age=20\n"
     ]
    },
    {
     "ename": "ValidationError",
     "evalue": "1 validation error for User\nname\n  Extra inputs are not permitted [type=extra_forbidden, input_value='John Doe', input_type=str]\n    For further information visit https://errors.pydantic.dev/2.6/v/extra_forbidden",
     "output_type": "error",
     "traceback": [
      "\u001b[0;31m---------------------------------------------------------------------------\u001b[0m",
      "\u001b[0;31mValidationError\u001b[0m                           Traceback (most recent call last)",
      "Cell \u001b[0;32mIn[26], line 13\u001b[0m\n\u001b[1;32m     11\u001b[0m user \u001b[38;5;241m=\u001b[39m User(WANDB_PROJECT\u001b[38;5;241m=\u001b[39m\u001b[38;5;124m'\u001b[39m\u001b[38;5;124mJohn Doe\u001b[39m\u001b[38;5;124m'\u001b[39m, age\u001b[38;5;241m=\u001b[39m\u001b[38;5;241m20\u001b[39m)  \n\u001b[1;32m     12\u001b[0m \u001b[38;5;28mprint\u001b[39m(user)\n\u001b[0;32m---> 13\u001b[0m user \u001b[38;5;241m=\u001b[39m \u001b[43mUser\u001b[49m\u001b[43m(\u001b[49m\u001b[43mname\u001b[49m\u001b[38;5;241;43m=\u001b[39;49m\u001b[38;5;124;43m'\u001b[39;49m\u001b[38;5;124;43mJohn Doe\u001b[39;49m\u001b[38;5;124;43m'\u001b[39;49m\u001b[43m,\u001b[49m\u001b[43m \u001b[49m\u001b[43mage\u001b[49m\u001b[38;5;241;43m=\u001b[39;49m\u001b[38;5;241;43m20\u001b[39;49m\u001b[43m)\u001b[49m  \n\u001b[1;32m     14\u001b[0m \u001b[38;5;28mprint\u001b[39m(user)\n",
      "File \u001b[0;32m~/anaconda3/envs/sensebot/lib/python3.11/site-packages/pydantic_settings/main.py:71\u001b[0m, in \u001b[0;36mBaseSettings.__init__\u001b[0;34m(__pydantic_self__, _case_sensitive, _env_prefix, _env_file, _env_file_encoding, _env_nested_delimiter, _secrets_dir, **values)\u001b[0m\n\u001b[1;32m     60\u001b[0m \u001b[38;5;28;01mdef\u001b[39;00m \u001b[38;5;21m__init__\u001b[39m(\n\u001b[1;32m     61\u001b[0m     __pydantic_self__,\n\u001b[1;32m     62\u001b[0m     _case_sensitive: \u001b[38;5;28mbool\u001b[39m \u001b[38;5;241m|\u001b[39m \u001b[38;5;28;01mNone\u001b[39;00m \u001b[38;5;241m=\u001b[39m \u001b[38;5;28;01mNone\u001b[39;00m,\n\u001b[0;32m   (...)\u001b[0m\n\u001b[1;32m     69\u001b[0m ) \u001b[38;5;241m-\u001b[39m\u001b[38;5;241m>\u001b[39m \u001b[38;5;28;01mNone\u001b[39;00m:\n\u001b[1;32m     70\u001b[0m     \u001b[38;5;66;03m# Uses something other than `self` the first arg to allow \"self\" as a settable attribute\u001b[39;00m\n\u001b[0;32m---> 71\u001b[0m     \u001b[38;5;28;43msuper\u001b[39;49m\u001b[43m(\u001b[49m\u001b[43m)\u001b[49m\u001b[38;5;241;43m.\u001b[39;49m\u001b[38;5;21;43m__init__\u001b[39;49m\u001b[43m(\u001b[49m\n\u001b[1;32m     72\u001b[0m \u001b[43m        \u001b[49m\u001b[38;5;241;43m*\u001b[39;49m\u001b[38;5;241;43m*\u001b[39;49m\u001b[43m__pydantic_self__\u001b[49m\u001b[38;5;241;43m.\u001b[39;49m\u001b[43m_settings_build_values\u001b[49m\u001b[43m(\u001b[49m\n\u001b[1;32m     73\u001b[0m \u001b[43m            \u001b[49m\u001b[43mvalues\u001b[49m\u001b[43m,\u001b[49m\n\u001b[1;32m     74\u001b[0m \u001b[43m            \u001b[49m\u001b[43m_case_sensitive\u001b[49m\u001b[38;5;241;43m=\u001b[39;49m\u001b[43m_case_sensitive\u001b[49m\u001b[43m,\u001b[49m\n\u001b[1;32m     75\u001b[0m \u001b[43m            \u001b[49m\u001b[43m_env_prefix\u001b[49m\u001b[38;5;241;43m=\u001b[39;49m\u001b[43m_env_prefix\u001b[49m\u001b[43m,\u001b[49m\n\u001b[1;32m     76\u001b[0m \u001b[43m            \u001b[49m\u001b[43m_env_file\u001b[49m\u001b[38;5;241;43m=\u001b[39;49m\u001b[43m_env_file\u001b[49m\u001b[43m,\u001b[49m\n\u001b[1;32m     77\u001b[0m \u001b[43m            \u001b[49m\u001b[43m_env_file_encoding\u001b[49m\u001b[38;5;241;43m=\u001b[39;49m\u001b[43m_env_file_encoding\u001b[49m\u001b[43m,\u001b[49m\n\u001b[1;32m     78\u001b[0m \u001b[43m            \u001b[49m\u001b[43m_env_nested_delimiter\u001b[49m\u001b[38;5;241;43m=\u001b[39;49m\u001b[43m_env_nested_delimiter\u001b[49m\u001b[43m,\u001b[49m\n\u001b[1;32m     79\u001b[0m \u001b[43m            \u001b[49m\u001b[43m_secrets_dir\u001b[49m\u001b[38;5;241;43m=\u001b[39;49m\u001b[43m_secrets_dir\u001b[49m\u001b[43m,\u001b[49m\n\u001b[1;32m     80\u001b[0m \u001b[43m        \u001b[49m\u001b[43m)\u001b[49m\n\u001b[1;32m     81\u001b[0m \u001b[43m    \u001b[49m\u001b[43m)\u001b[49m\n",
      "File \u001b[0;32m~/anaconda3/envs/sensebot/lib/python3.11/site-packages/pydantic/main.py:171\u001b[0m, in \u001b[0;36mBaseModel.__init__\u001b[0;34m(self, **data)\u001b[0m\n\u001b[1;32m    169\u001b[0m \u001b[38;5;66;03m# `__tracebackhide__` tells pytest and some other tools to omit this function from tracebacks\u001b[39;00m\n\u001b[1;32m    170\u001b[0m __tracebackhide__ \u001b[38;5;241m=\u001b[39m \u001b[38;5;28;01mTrue\u001b[39;00m\n\u001b[0;32m--> 171\u001b[0m \u001b[38;5;28;43mself\u001b[39;49m\u001b[38;5;241;43m.\u001b[39;49m\u001b[43m__pydantic_validator__\u001b[49m\u001b[38;5;241;43m.\u001b[39;49m\u001b[43mvalidate_python\u001b[49m\u001b[43m(\u001b[49m\u001b[43mdata\u001b[49m\u001b[43m,\u001b[49m\u001b[43m \u001b[49m\u001b[43mself_instance\u001b[49m\u001b[38;5;241;43m=\u001b[39;49m\u001b[38;5;28;43mself\u001b[39;49m\u001b[43m)\u001b[49m\n",
      "\u001b[0;31mValidationError\u001b[0m: 1 validation error for User\nname\n  Extra inputs are not permitted [type=extra_forbidden, input_value='John Doe', input_type=str]\n    For further information visit https://errors.pydantic.dev/2.6/v/extra_forbidden"
     ]
    }
   ],
   "source": [
    "from pydantic import BaseModel, ConfigDict, Field\n",
    "\n",
    "\n",
    "class User(BaseSettings):\n",
    "    model_config = ConfigDict(populate_by_name=True, extra=True)\n",
    "\n",
    "    name: str = Field(alias='full_name')  \n",
    "    age: int\n",
    "\n",
    "\n",
    "user = User(full_name='John Doe', age=20)  \n",
    "print(user)\n",
    "user = User(name='John Doe', age=20)  \n",
    "print(user)"
   ]
  },
  {
   "cell_type": "code",
   "execution_count": 30,
   "metadata": {},
   "outputs": [
    {
     "name": "stdout",
     "output_type": "stream",
     "text": [
      "entity='s' project='d'\n",
      "entity='s' project='d'\n"
     ]
    }
   ],
   "source": [
    "class WandbConfig(BaseSettings):\n",
    "    model_config = ConfigDict(\n",
    "        populate_by_name=True, extra=\"ignore\"\n",
    "    )\n",
    "    entity: str = Field(default=\"common-sense-makers\", \n",
    "                        description=\"wandb entity to log runs to.\")\n",
    "    project: str = Field(alias=\"WANDB_PROJECT\",\n",
    "                         description=\"wandb project to log runs to\")\n",
    "\n",
    "\n",
    "print(WandbConfig(entity=\"s\", WANDB_PROJECT=\"d\"))\n",
    "print(WandbConfig(entity=\"s\", project=\"d\"))"
   ]
  },
  {
   "cell_type": "code",
   "execution_count": 4,
   "metadata": {},
   "outputs": [],
   "source": [
    "from pydantic.tools import parse_obj_as"
   ]
  },
  {
   "cell_type": "code",
   "execution_count": 33,
   "metadata": {},
   "outputs": [
    {
     "name": "stdout",
     "output_type": "stream",
     "text": [
      "name='John Doe' age=20\n",
      "name='John Doe' age=20\n"
     ]
    }
   ],
   "source": [
    "from pydantic import BaseModel, ConfigDict, Field\n",
    "import os\n",
    "\n",
    "class User(BaseSettings):\n",
    "    model_config = ConfigDict(populate_by_name=True)\n",
    "\n",
    "    name: str = Field(alias='full_name')  \n",
    "    age: int\n",
    "\n",
    "\n",
    "user = User(full_name='John Doe', age=20)  \n",
    "print(user)\n",
    "user = User(name='John Doe', age=20)  \n",
    "print(user)"
   ]
  },
  {
   "cell_type": "code",
   "execution_count": null,
   "metadata": {},
   "outputs": [],
   "source": [
    "os.environ[\"full_name\"] = \"foo\""
   ]
  },
  {
   "cell_type": "code",
   "execution_count": 5,
   "metadata": {},
   "outputs": [],
   "source": [
    "import json\n",
    "d = {\n",
    "    \"kw_config\": {\n",
    "        \"enabled\": True,\n",
    "        \"ref_metadata_method\": \"none\"\n",
    "    }\n",
    "}\n",
    "d_str = json.dumps(d)"
   ]
  },
  {
   "cell_type": "code",
   "execution_count": 6,
   "metadata": {},
   "outputs": [
    {
     "ename": "ValidationError",
     "evalue": "1 validation error for ParserConfig\nkw_config.ref_metadata_method\n  Input should be 'pear' or 'banana' [type=enum, input_value='none', input_type=str]",
     "output_type": "error",
     "traceback": [
      "\u001b[0;31m---------------------------------------------------------------------------\u001b[0m",
      "\u001b[0;31mValidationError\u001b[0m                           Traceback (most recent call last)",
      "Cell \u001b[0;32mIn[6], line 1\u001b[0m\n\u001b[0;32m----> 1\u001b[0m \u001b[43mParserConfig\u001b[49m\u001b[38;5;241;43m.\u001b[39;49m\u001b[43mmodel_validate_json\u001b[49m\u001b[43m(\u001b[49m\u001b[43md_str\u001b[49m\u001b[43m)\u001b[49m\n",
      "File \u001b[0;32m~/anaconda3/envs/sensebot/lib/python3.11/site-packages/pydantic/main.py:538\u001b[0m, in \u001b[0;36mBaseModel.model_validate_json\u001b[0;34m(cls, json_data, strict, context)\u001b[0m\n\u001b[1;32m    536\u001b[0m \u001b[38;5;66;03m# `__tracebackhide__` tells pytest and some other tools to omit this function from tracebacks\u001b[39;00m\n\u001b[1;32m    537\u001b[0m __tracebackhide__ \u001b[38;5;241m=\u001b[39m \u001b[38;5;28;01mTrue\u001b[39;00m\n\u001b[0;32m--> 538\u001b[0m \u001b[38;5;28;01mreturn\u001b[39;00m \u001b[38;5;28;43mcls\u001b[39;49m\u001b[38;5;241;43m.\u001b[39;49m\u001b[43m__pydantic_validator__\u001b[49m\u001b[38;5;241;43m.\u001b[39;49m\u001b[43mvalidate_json\u001b[49m\u001b[43m(\u001b[49m\u001b[43mjson_data\u001b[49m\u001b[43m,\u001b[49m\u001b[43m \u001b[49m\u001b[43mstrict\u001b[49m\u001b[38;5;241;43m=\u001b[39;49m\u001b[43mstrict\u001b[49m\u001b[43m,\u001b[49m\u001b[43m \u001b[49m\u001b[43mcontext\u001b[49m\u001b[38;5;241;43m=\u001b[39;49m\u001b[43mcontext\u001b[49m\u001b[43m)\u001b[49m\n",
      "\u001b[0;31mValidationError\u001b[0m: 1 validation error for ParserConfig\nkw_config.ref_metadata_method\n  Input should be 'pear' or 'banana' [type=enum, input_value='none', input_type=str]"
     ]
    }
   ],
   "source": [
    "ParserConfig.model_validate_json(d_str)"
   ]
  },
  {
   "cell_type": "code",
   "execution_count": 58,
   "metadata": {},
   "outputs": [
    {
     "ename": "TypeError",
     "evalue": "'FieldInfo' object is not iterable",
     "output_type": "error",
     "traceback": [
      "\u001b[0;31m---------------------------------------------------------------------------\u001b[0m",
      "\u001b[0;31mTypeError\u001b[0m                                 Traceback (most recent call last)",
      "Cell \u001b[0;32mIn[58], line 12\u001b[0m\n\u001b[1;32m      8\u001b[0m     temperature: \u001b[38;5;28mstr\u001b[39m \u001b[38;5;241m=\u001b[39m Field(default\u001b[38;5;241m=\u001b[39m\u001b[38;5;124m\"\u001b[39m\u001b[38;5;124m0.6\u001b[39m\u001b[38;5;124m\"\u001b[39m,\n\u001b[1;32m      9\u001b[0m                              description\u001b[38;5;241m=\u001b[39m\u001b[38;5;124m\"\u001b[39m\u001b[38;5;124mTemperature paramater to use when sampling model outputs.\u001b[39m\u001b[38;5;124m\"\u001b[39m)\n\u001b[1;32m     11\u001b[0m \u001b[38;5;66;03m# Define Model B which nests Model A\u001b[39;00m\n\u001b[0;32m---> 12\u001b[0m \u001b[38;5;28;43;01mclass\u001b[39;49;00m\u001b[43m \u001b[49m\u001b[38;5;21;43;01mKeywordExtractionConfig\u001b[39;49;00m\u001b[43m(\u001b[49m\u001b[43mBaseSettings\u001b[49m\u001b[43m,\u001b[49m\u001b[43m \u001b[49m\u001b[43mBaseModel\u001b[49m\u001b[43m)\u001b[49m\u001b[43m:\u001b[49m\n\u001b[1;32m     13\u001b[0m \u001b[43m    \u001b[49m\u001b[43mmodel_config\u001b[49m\u001b[43m:\u001b[49m\u001b[43m \u001b[49m\u001b[43mModelConfig\u001b[49m\u001b[43m \u001b[49m\u001b[38;5;241;43m=\u001b[39;49m\u001b[43m \u001b[49m\u001b[43mField\u001b[49m\u001b[43m(\u001b[49m\u001b[43mdefault_factory\u001b[49m\u001b[38;5;241;43m=\u001b[39;49m\u001b[43mModelConfig\u001b[49m\u001b[43m,\u001b[49m\u001b[43m \u001b[49m\u001b[43mdescription\u001b[49m\u001b[38;5;241;43m=\u001b[39;49m\u001b[38;5;124;43m\"\u001b[39;49m\u001b[38;5;124;43mModel configuration for the \u001b[39;49m\u001b[38;5;130;43;01m\\\u001b[39;49;00m\n\u001b[1;32m     14\u001b[0m \u001b[38;5;124;43m                                        keyword extraction model\u001b[39;49m\u001b[38;5;124;43m\"\u001b[39;49m\u001b[43m)\u001b[49m\u001b[43m  \u001b[49m\u001b[38;5;66;43;03m# Default factory for nested ModelA\u001b[39;49;00m\n\u001b[1;32m     15\u001b[0m \u001b[43m    \u001b[49m\u001b[43menabled\u001b[49m\u001b[43m:\u001b[49m\u001b[43m \u001b[49m\u001b[38;5;28;43mbool\u001b[39;49m\u001b[43m \u001b[49m\u001b[38;5;241;43m=\u001b[39;49m\u001b[43m \u001b[49m\u001b[43mField\u001b[49m\u001b[43m(\u001b[49m\u001b[43mdefault\u001b[49m\u001b[38;5;241;43m=\u001b[39;49m\u001b[38;5;28;43;01mTrue\u001b[39;49;00m\u001b[43m,\u001b[49m\u001b[43m \u001b[49m\n\u001b[1;32m     16\u001b[0m \u001b[43m                          \u001b[49m\u001b[43mdescription\u001b[49m\u001b[38;5;241;43m=\u001b[39;49m\u001b[38;5;124;43m\"\u001b[39;49m\u001b[38;5;124;43mWhether keyword extraction is enabled or not.\u001b[39;49m\u001b[38;5;124;43m\"\u001b[39;49m\u001b[43m)\u001b[49m\n",
      "File \u001b[0;32m~/anaconda3/envs/sensebot/lib/python3.11/site-packages/pydantic/_internal/_model_construction.py:90\u001b[0m, in \u001b[0;36mModelMetaclass.__new__\u001b[0;34m(mcs, cls_name, bases, namespace, __pydantic_generic_metadata__, __pydantic_reset_parent_namespace__, _create_model_module, **kwargs)\u001b[0m\n\u001b[1;32m     87\u001b[0m \u001b[38;5;28;01mif\u001b[39;00m bases:\n\u001b[1;32m     88\u001b[0m     base_field_names, class_vars, base_private_attributes \u001b[38;5;241m=\u001b[39m mcs\u001b[38;5;241m.\u001b[39m_collect_bases_data(bases)\n\u001b[0;32m---> 90\u001b[0m     config_wrapper \u001b[38;5;241m=\u001b[39m \u001b[43mConfigWrapper\u001b[49m\u001b[38;5;241;43m.\u001b[39;49m\u001b[43mfor_model\u001b[49m\u001b[43m(\u001b[49m\u001b[43mbases\u001b[49m\u001b[43m,\u001b[49m\u001b[43m \u001b[49m\u001b[43mnamespace\u001b[49m\u001b[43m,\u001b[49m\u001b[43m \u001b[49m\u001b[43mkwargs\u001b[49m\u001b[43m)\u001b[49m\n\u001b[1;32m     91\u001b[0m     namespace[\u001b[38;5;124m'\u001b[39m\u001b[38;5;124mmodel_config\u001b[39m\u001b[38;5;124m'\u001b[39m] \u001b[38;5;241m=\u001b[39m config_wrapper\u001b[38;5;241m.\u001b[39mconfig_dict\n\u001b[1;32m     92\u001b[0m     private_attributes \u001b[38;5;241m=\u001b[39m inspect_namespace(\n\u001b[1;32m     93\u001b[0m         namespace, config_wrapper\u001b[38;5;241m.\u001b[39mignored_types, class_vars, base_field_names\n\u001b[1;32m     94\u001b[0m     )\n",
      "File \u001b[0;32m~/anaconda3/envs/sensebot/lib/python3.11/site-packages/pydantic/_internal/_config.py:123\u001b[0m, in \u001b[0;36mConfigWrapper.for_model\u001b[0;34m(cls, bases, namespace, kwargs)\u001b[0m\n\u001b[1;32m    119\u001b[0m     \u001b[38;5;28;01mraise\u001b[39;00m PydanticUserError(\u001b[38;5;124m'\u001b[39m\u001b[38;5;124m\"\u001b[39m\u001b[38;5;124mConfig\u001b[39m\u001b[38;5;124m\"\u001b[39m\u001b[38;5;124m and \u001b[39m\u001b[38;5;124m\"\u001b[39m\u001b[38;5;124mmodel_config\u001b[39m\u001b[38;5;124m\"\u001b[39m\u001b[38;5;124m cannot be used together\u001b[39m\u001b[38;5;124m'\u001b[39m, code\u001b[38;5;241m=\u001b[39m\u001b[38;5;124m'\u001b[39m\u001b[38;5;124mconfig-both\u001b[39m\u001b[38;5;124m'\u001b[39m)\n\u001b[1;32m    121\u001b[0m config_from_namespace \u001b[38;5;241m=\u001b[39m config_dict_from_namespace \u001b[38;5;129;01mor\u001b[39;00m prepare_config(config_class_from_namespace)\n\u001b[0;32m--> 123\u001b[0m \u001b[43mconfig_new\u001b[49m\u001b[38;5;241;43m.\u001b[39;49m\u001b[43mupdate\u001b[49m\u001b[43m(\u001b[49m\u001b[43mconfig_from_namespace\u001b[49m\u001b[43m)\u001b[49m\n\u001b[1;32m    125\u001b[0m \u001b[38;5;28;01mfor\u001b[39;00m k \u001b[38;5;129;01min\u001b[39;00m \u001b[38;5;28mlist\u001b[39m(kwargs\u001b[38;5;241m.\u001b[39mkeys()):\n\u001b[1;32m    126\u001b[0m     \u001b[38;5;28;01mif\u001b[39;00m k \u001b[38;5;129;01min\u001b[39;00m config_keys:\n",
      "\u001b[0;31mTypeError\u001b[0m: 'FieldInfo' object is not iterable"
     ]
    }
   ],
   "source": [
    "from pydantic import BaseModel, Field\n",
    "from typing import Optional\n",
    "\n",
    "# Define Model A\n",
    "class ModelConfig(BaseSettings, BaseModel):\n",
    "    name: str = Field(default=\"mistralai/mistral-7b-instruct\", \n",
    "                            description=\"Name of the model to be intialized.\")\n",
    "    temperature: str = Field(default=\"0.6\",\n",
    "                             description=\"Temperature paramater to use when sampling model outputs.\")\n",
    "\n",
    "# Define Model B which nests Model A\n",
    "class KeywordExtractionConfig(BaseSettings, BaseModel):\n",
    "    kw_model_config: ModelConfig = Field(default_factory=ModelConfig, description=\"Model configuration for the \\\n",
    "                                        keyword extraction model\")  # Default factory for nested ModelA\n",
    "    enabled: bool = Field(default=True, \n",
    "                          description=\"Whether keyword extraction is enabled or not.\")\n",
    "    ref_metadata_method: MetadataExtractionType = Field(default=MetadataExtractionType.NONE,\n",
    "                                                        description=\"Type of URL metadata extraction method to use.\")\n",
    "    max_keywords: int = Field(default=6,\n",
    "                              description=\"Maximum number of keywords to extract. \\\n",
    "                                Set to -1 for unlimited keywords.\")\n",
    "\n",
    "# Example Usage\n",
    "model_b_instance = KeywordExtractionConfig()\n",
    "# print(model_b_instance.json(indent=2))"
   ]
  },
  {
   "cell_type": "code",
   "execution_count": 51,
   "metadata": {},
   "outputs": [],
   "source": []
  },
  {
   "cell_type": "code",
   "execution_count": 50,
   "metadata": {},
   "outputs": [
    {
     "data": {
      "text/plain": [
       "'{\"model_a\":{\"name\":\"mistralai/mistral-7b-instruct\",\"temperature\":\"0.6\"},\"enabled\":true,\"ref_metadata_method\":\"none\",\"max_keywords\":6}'"
      ]
     },
     "execution_count": 50,
     "metadata": {},
     "output_type": "execute_result"
    }
   ],
   "source": [
    "model_b_instance.model_dump_json()"
   ]
  },
  {
   "cell_type": "code",
   "execution_count": null,
   "metadata": {},
   "outputs": [],
   "source": [
    "model_b_instance"
   ]
  },
  {
   "cell_type": "code",
   "execution_count": null,
   "metadata": {},
   "outputs": [],
   "source": [
    "ParserConfig(kw_config=KeywordExtractionConfig)"
   ]
  },
  {
   "cell_type": "code",
   "execution_count": 3,
   "metadata": {},
   "outputs": [
    {
     "data": {
      "text/plain": [
       "{'general': {'parser_type': 'base'},\n",
       " 'model': {'model_name': 'mistralai/mistral-7b-instruct', 'temperature': 0.6},\n",
       " 'prompt': {'template_path': 'desci_sense/prompting/templates/p4.txt'},\n",
       " 'wandb': {'entity': 'common-sense-makers', 'project': 'st-demo'}}"
      ]
     },
     "execution_count": 3,
     "metadata": {},
     "output_type": "execute_result"
    }
   ],
   "source": [
    "config = init_config()\n",
    "config"
   ]
  },
  {
   "cell_type": "code",
   "execution_count": 7,
   "metadata": {},
   "outputs": [
    {
     "data": {
      "text/plain": [
       "confection.Config"
      ]
     },
     "execution_count": 7,
     "metadata": {},
     "output_type": "execute_result"
    }
   ],
   "source": [
    "type(config)"
   ]
  },
  {
   "cell_type": "code",
   "execution_count": 4,
   "metadata": {},
   "outputs": [
    {
     "name": "stdout",
     "output_type": "stream",
     "text": [
      "[general]\n",
      "parser_type = \"base\"\n",
      "\n",
      "[model]\n",
      "model_name = \"mistralai/mistral-7b-instruct\"\n",
      "temperature = 0.6\n",
      "\n",
      "[prompt]\n",
      "template_path = \"desci_sense/prompting/templates/p4.txt\"\n",
      "\n",
      "[wandb]\n",
      "entity = \"common-sense-makers\"\n",
      "project = \"st-demo\"\n"
     ]
    }
   ],
   "source": [
    "print(config.to_str())"
   ]
  },
  {
   "cell_type": "code",
   "execution_count": 6,
   "metadata": {},
   "outputs": [
    {
     "data": {
      "text/plain": [
       "{'general': {'parser_type': 'base'},\n",
       " 'model': {'model_name': 'fireworks/mixtral-8x7b-fw-chat',\n",
       "  'temperature': 0.6000000000000001},\n",
       " 'prompt': {'template_path': 'desci_sense/prompting/templates/p5_multi.txt'},\n",
       " 'wandb': {'entity': 'common-sense-makers', 'project': 'st-demo-sandbox'}}"
      ]
     },
     "execution_count": 6,
     "metadata": {},
     "output_type": "execute_result"
    }
   ],
   "source": [
    "Config().from_disk(\"/home/rkl25/dev/common_sense/desci-sense/etc/configs/config_multi_st.cfg\")"
   ]
  },
  {
   "cell_type": "code",
   "execution_count": 9,
   "metadata": {},
   "outputs": [],
   "source": [
    "config[\"model\"][\"temperature\"] = 0.7"
   ]
  },
  {
   "cell_type": "code",
   "execution_count": 10,
   "metadata": {},
   "outputs": [
    {
     "data": {
      "text/plain": [
       "{'general': {'parser_type': 'base'},\n",
       " 'model': {'model_name': 'mistralai/mistral-7b-instruct', 'temperature': 0.7},\n",
       " 'prompt': {'template_path': 'desci_sense/prompting/templates/p4.txt'},\n",
       " 'wandb': {'entity': 'common-sense-makers', 'project': 'st-demo'}}"
      ]
     },
     "execution_count": 10,
     "metadata": {},
     "output_type": "execute_result"
    }
   ],
   "source": [
    "config"
   ]
  }
 ],
 "metadata": {
  "kernelspec": {
   "display_name": "twscraping",
   "language": "python",
   "name": "python3"
  },
  "language_info": {
   "codemirror_mode": {
    "name": "ipython",
    "version": 3
   },
   "file_extension": ".py",
   "mimetype": "text/x-python",
   "name": "python",
   "nbconvert_exporter": "python",
   "pygments_lexer": "ipython3",
   "version": "3.11.7"
  }
 },
 "nbformat": 4,
 "nbformat_minor": 2
}
