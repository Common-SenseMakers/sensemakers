{
 "cells": [
  {
   "cell_type": "code",
   "execution_count": 1,
   "metadata": {},
   "outputs": [],
   "source": [
    "import nest_asyncio\n",
    "nest_asyncio.apply()\n",
    "import sys\n",
    "sys.path.append(\"../\")\n",
    "from desci_sense.shared_functions.web_extractors.citoid import fetch_citation\n",
    "from desci_sense.shared_functions.web_extractors.metadata_extractors import extract_urls_citoid_metadata\n"
   ]
  },
  {
   "cell_type": "code",
   "execution_count": 2,
   "metadata": {},
   "outputs": [
    {
     "name": "stderr",
     "output_type": "stream",
     "text": [
      "\u001b[32m2024-05-07 14:12:16.869\u001b[0m | \u001b[33m\u001b[1mWARNING \u001b[0m | \u001b[36mdesci_sense.shared_functions.web_extractors.citoid\u001b[0m:\u001b[36mbefore_retry\u001b[0m:\u001b[36m84\u001b[0m - \u001b[33m\u001b[1mRetry attempt 1\u001b[0m\n",
      "\u001b[32m2024-05-07 14:12:16.870\u001b[0m | \u001b[34m\u001b[1mDEBUG   \u001b[0m | \u001b[36mdesci_sense.shared_functions.web_extractors.citoid\u001b[0m:\u001b[36mfetch_citation\u001b[0m:\u001b[36m154\u001b[0m - \u001b[34m\u001b[1mfetching citoid data for: https://www.hsgac.senate.gov/wp-content/uploads/Testimony-Vallor-2023-11-08.pdf\u001b[0m\n",
      "\u001b[32m2024-05-07 14:12:18.890\u001b[0m | \u001b[33m\u001b[1mWARNING \u001b[0m | \u001b[36mdesci_sense.shared_functions.web_extractors.citoid\u001b[0m:\u001b[36mbefore_retry\u001b[0m:\u001b[36m84\u001b[0m - \u001b[33m\u001b[1mRetry attempt 2\u001b[0m\n",
      "\u001b[32m2024-05-07 14:12:18.892\u001b[0m | \u001b[34m\u001b[1mDEBUG   \u001b[0m | \u001b[36mdesci_sense.shared_functions.web_extractors.citoid\u001b[0m:\u001b[36mfetch_citation\u001b[0m:\u001b[36m154\u001b[0m - \u001b[34m\u001b[1mfetching citoid data for: https://www.hsgac.senate.gov/wp-content/uploads/Testimony-Vallor-2023-11-08.pdf\u001b[0m\n",
      "\u001b[32m2024-05-07 14:12:21.640\u001b[0m | \u001b[33m\u001b[1mWARNING \u001b[0m | \u001b[36mdesci_sense.shared_functions.web_extractors.citoid\u001b[0m:\u001b[36mbefore_retry\u001b[0m:\u001b[36m84\u001b[0m - \u001b[33m\u001b[1mRetry attempt 3\u001b[0m\n",
      "\u001b[32m2024-05-07 14:12:21.642\u001b[0m | \u001b[34m\u001b[1mDEBUG   \u001b[0m | \u001b[36mdesci_sense.shared_functions.web_extractors.citoid\u001b[0m:\u001b[36mfetch_citation\u001b[0m:\u001b[36m154\u001b[0m - \u001b[34m\u001b[1mfetching citoid data for: https://www.hsgac.senate.gov/wp-content/uploads/Testimony-Vallor-2023-11-08.pdf\u001b[0m\n",
      "\u001b[32m2024-05-07 14:12:26.757\u001b[0m | \u001b[33m\u001b[1mWARNING \u001b[0m | \u001b[36mdesci_sense.shared_functions.web_extractors.citoid\u001b[0m:\u001b[36mbefore_retry\u001b[0m:\u001b[36m84\u001b[0m - \u001b[33m\u001b[1mRetry attempt 4\u001b[0m\n",
      "\u001b[32m2024-05-07 14:12:26.759\u001b[0m | \u001b[34m\u001b[1mDEBUG   \u001b[0m | \u001b[36mdesci_sense.shared_functions.web_extractors.citoid\u001b[0m:\u001b[36mfetch_citation\u001b[0m:\u001b[36m154\u001b[0m - \u001b[34m\u001b[1mfetching citoid data for: https://www.hsgac.senate.gov/wp-content/uploads/Testimony-Vallor-2023-11-08.pdf\u001b[0m\n",
      "\u001b[32m2024-05-07 14:12:34.897\u001b[0m | \u001b[33m\u001b[1mWARNING \u001b[0m | \u001b[36mdesci_sense.shared_functions.web_extractors.citoid\u001b[0m:\u001b[36mbefore_retry\u001b[0m:\u001b[36m84\u001b[0m - \u001b[33m\u001b[1mRetry attempt 5\u001b[0m\n",
      "\u001b[32m2024-05-07 14:12:34.898\u001b[0m | \u001b[34m\u001b[1mDEBUG   \u001b[0m | \u001b[36mdesci_sense.shared_functions.web_extractors.citoid\u001b[0m:\u001b[36mfetch_citation\u001b[0m:\u001b[36m154\u001b[0m - \u001b[34m\u001b[1mfetching citoid data for: https://www.hsgac.senate.gov/wp-content/uploads/Testimony-Vallor-2023-11-08.pdf\u001b[0m\n",
      "\u001b[32m2024-05-07 14:12:35.013\u001b[0m | \u001b[31m\u001b[1mERROR   \u001b[0m | \u001b[36mdesci_sense.shared_functions.web_extractors.citoid\u001b[0m:\u001b[36mreturn_default_value\u001b[0m:\u001b[36m88\u001b[0m - \u001b[31m\u001b[1mMax retries exceeded. Returning default value.\u001b[0m\n"
     ]
    }
   ],
   "source": [
    "res = extract_urls_citoid_metadata([\"https://www.hsgac.senate.gov/wp-content/uploads/Testimony-Vallor-2023-11-08.pdf\"], 500)"
   ]
  },
  {
   "cell_type": "code",
   "execution_count": 4,
   "metadata": {},
   "outputs": [
    {
     "data": {
      "text/plain": [
       "{'error': 'Failed to fetch data after 5 attempts.'}"
      ]
     },
     "execution_count": 4,
     "metadata": {},
     "output_type": "execute_result"
    }
   ],
   "source": [
    "res[0].debug"
   ]
  },
  {
   "cell_type": "code",
   "execution_count": 4,
   "metadata": {},
   "outputs": [
    {
     "name": "stderr",
     "output_type": "stream",
     "text": [
      "\u001b[32m2024-05-02 14:50:24.413\u001b[0m | \u001b[33m\u001b[1mWARNING \u001b[0m | \u001b[36mdesci_sense.shared_functions.web_extractors.citoid\u001b[0m:\u001b[36mbefore_retry\u001b[0m:\u001b[36m86\u001b[0m - \u001b[33m\u001b[1mRetry attempt 1\u001b[0m\n",
      "\u001b[32m2024-05-02 14:50:24.414\u001b[0m | \u001b[34m\u001b[1mDEBUG   \u001b[0m | \u001b[36mdesci_sense.shared_functions.web_extractors.citoid\u001b[0m:\u001b[36mfetch_citation\u001b[0m:\u001b[36m155\u001b[0m - \u001b[34m\u001b[1mfetching citoid data for: https://www.hsgac.senate.gov/wp-content/uploads/Testimony-Vallor-2023-11-08.pdf\u001b[0m\n",
      "\u001b[32m2024-05-02 14:50:26.927\u001b[0m | \u001b[33m\u001b[1mWARNING \u001b[0m | \u001b[36mdesci_sense.shared_functions.web_extractors.citoid\u001b[0m:\u001b[36mbefore_retry\u001b[0m:\u001b[36m86\u001b[0m - \u001b[33m\u001b[1mRetry attempt 2\u001b[0m\n",
      "\u001b[32m2024-05-02 14:50:26.929\u001b[0m | \u001b[34m\u001b[1mDEBUG   \u001b[0m | \u001b[36mdesci_sense.shared_functions.web_extractors.citoid\u001b[0m:\u001b[36mfetch_citation\u001b[0m:\u001b[36m155\u001b[0m - \u001b[34m\u001b[1mfetching citoid data for: https://www.hsgac.senate.gov/wp-content/uploads/Testimony-Vallor-2023-11-08.pdf\u001b[0m\n",
      "\u001b[32m2024-05-02 14:50:29.061\u001b[0m | \u001b[33m\u001b[1mWARNING \u001b[0m | \u001b[36mdesci_sense.shared_functions.web_extractors.citoid\u001b[0m:\u001b[36mbefore_retry\u001b[0m:\u001b[36m86\u001b[0m - \u001b[33m\u001b[1mRetry attempt 3\u001b[0m\n",
      "\u001b[32m2024-05-02 14:50:29.061\u001b[0m | \u001b[34m\u001b[1mDEBUG   \u001b[0m | \u001b[36mdesci_sense.shared_functions.web_extractors.citoid\u001b[0m:\u001b[36mfetch_citation\u001b[0m:\u001b[36m155\u001b[0m - \u001b[34m\u001b[1mfetching citoid data for: https://www.hsgac.senate.gov/wp-content/uploads/Testimony-Vallor-2023-11-08.pdf\u001b[0m\n",
      "\u001b[32m2024-05-02 14:50:33.189\u001b[0m | \u001b[33m\u001b[1mWARNING \u001b[0m | \u001b[36mdesci_sense.shared_functions.web_extractors.citoid\u001b[0m:\u001b[36mbefore_retry\u001b[0m:\u001b[36m86\u001b[0m - \u001b[33m\u001b[1mRetry attempt 4\u001b[0m\n",
      "\u001b[32m2024-05-02 14:50:33.191\u001b[0m | \u001b[34m\u001b[1mDEBUG   \u001b[0m | \u001b[36mdesci_sense.shared_functions.web_extractors.citoid\u001b[0m:\u001b[36mfetch_citation\u001b[0m:\u001b[36m155\u001b[0m - \u001b[34m\u001b[1mfetching citoid data for: https://www.hsgac.senate.gov/wp-content/uploads/Testimony-Vallor-2023-11-08.pdf\u001b[0m\n",
      "\u001b[32m2024-05-02 14:50:41.331\u001b[0m | \u001b[33m\u001b[1mWARNING \u001b[0m | \u001b[36mdesci_sense.shared_functions.web_extractors.citoid\u001b[0m:\u001b[36mbefore_retry\u001b[0m:\u001b[36m86\u001b[0m - \u001b[33m\u001b[1mRetry attempt 5\u001b[0m\n",
      "\u001b[32m2024-05-02 14:50:41.332\u001b[0m | \u001b[34m\u001b[1mDEBUG   \u001b[0m | \u001b[36mdesci_sense.shared_functions.web_extractors.citoid\u001b[0m:\u001b[36mfetch_citation\u001b[0m:\u001b[36m155\u001b[0m - \u001b[34m\u001b[1mfetching citoid data for: https://www.hsgac.senate.gov/wp-content/uploads/Testimony-Vallor-2023-11-08.pdf\u001b[0m\n",
      "\u001b[32m2024-05-02 14:50:41.463\u001b[0m | \u001b[31m\u001b[1mERROR   \u001b[0m | \u001b[36mdesci_sense.shared_functions.web_extractors.citoid\u001b[0m:\u001b[36mreturn_default_value\u001b[0m:\u001b[36m90\u001b[0m - \u001b[31m\u001b[1mMax retries exceeded. Returning default value.\u001b[0m\n"
     ]
    },
    {
     "data": {
      "text/plain": [
       "{'error': 'Failed to fetch data after 5 attempts.'}"
      ]
     },
     "execution_count": 4,
     "metadata": {},
     "output_type": "execute_result"
    }
   ],
   "source": [
    "fetch_citation(\"https://www.hsgac.senate.gov/wp-content/uploads/Testimony-Vallor-2023-11-08.pdf\")"
   ]
  },
  {
   "cell_type": "code",
   "execution_count": 3,
   "metadata": {},
   "outputs": [
    {
     "name": "stderr",
     "output_type": "stream",
     "text": [
      "\u001b[32m2024-05-02 14:38:13.417\u001b[0m | \u001b[33m\u001b[1mWARNING \u001b[0m | \u001b[36mdesci_sense.shared_functions.web_extractors.citoid\u001b[0m:\u001b[36mbefore_retry\u001b[0m:\u001b[36m86\u001b[0m - \u001b[33m\u001b[1mRetry attempt 1\u001b[0m\n",
      "\u001b[32m2024-05-02 14:38:13.418\u001b[0m | \u001b[34m\u001b[1mDEBUG   \u001b[0m | \u001b[36mdesci_sense.shared_functions.web_extractors.citoid\u001b[0m:\u001b[36mfetch_citation\u001b[0m:\u001b[36m153\u001b[0m - \u001b[34m\u001b[1mskipping citoid for https://twitter.com/mbauwens/status/1779543397528740338\u001b[0m\n"
     ]
    },
    {
     "data": {
      "text/plain": [
       "{'itemType': 'forumPost',\n",
       " 'creators': [],\n",
       " 'tags': [],\n",
       " 'title': 'Twitter post',\n",
       " 'url': 'https://twitter.com/mbauwens/status/1779543397528740338'}"
      ]
     },
     "execution_count": 3,
     "metadata": {},
     "output_type": "execute_result"
    }
   ],
   "source": [
    "fetch_citation(\"https://twitter.com/mbauwens/status/1779543397528740338\")"
   ]
  },
  {
   "cell_type": "code",
   "execution_count": 5,
   "metadata": {},
   "outputs": [
    {
     "name": "stderr",
     "output_type": "stream",
     "text": [
      "\u001b[32m2024-05-02 14:33:07.565\u001b[0m | \u001b[33m\u001b[1mWARNING \u001b[0m | \u001b[36mdesci_sense.shared_functions.web_extractors.citoid\u001b[0m:\u001b[36mbefore_retry\u001b[0m:\u001b[36m54\u001b[0m - \u001b[33m\u001b[1mRetry attempt 1\u001b[0m\n",
      "\u001b[32m2024-05-02 14:33:07.567\u001b[0m | \u001b[34m\u001b[1mDEBUG   \u001b[0m | \u001b[36mdesci_sense.shared_functions.web_extractors.citoid\u001b[0m:\u001b[36mfetch_citation\u001b[0m:\u001b[36m115\u001b[0m - \u001b[34m\u001b[1mfetching citoid data for: https://mastodon.social/@OpenSourceFoundersSummit/112241504194088102\u001b[0m\n"
     ]
    },
    {
     "data": {
      "text/plain": [
       "{'key': 'N9HDNIYS',\n",
       " 'version': 0,\n",
       " 'itemType': 'webpage',\n",
       " 'creators': [],\n",
       " 'tags': [],\n",
       " 'title': 'OpenSourceFoundersSummit (@OpenSourceFoundersSummit@mastodon.social)',\n",
       " 'websiteTitle': 'Mastodon',\n",
       " 'date': '2024-04-09',\n",
       " 'url': 'https://mastodon.social/@OpenSourceFoundersSummit/112241504194088102',\n",
       " 'abstractNote': 'Calling all open source founders!\\n\\nDo you wish you had a real community of open source founders? Want to learn from others, share your successes and commiserate about epic fails?\\nJoin us at Open Source Founders Summit 2024, May 27th and 28th in Paris. This event is a place to learn and connect, have honest conversations about both the opportunities and challenges of running an open source business.\\n\\nJoin us for a no-bullshit, value-packed event: https://05f5.com\\n\\n#05F5 #OpenSourceBusiness',\n",
       " 'language': 'en',\n",
       " 'accessDate': '2024-05-02',\n",
       " 'original_url': 'https://mastodon.social/@OpenSourceFoundersSummit/112241504194088102'}"
      ]
     },
     "execution_count": 5,
     "metadata": {},
     "output_type": "execute_result"
    }
   ],
   "source": [
    "fetch_citation(\"https://mastodon.social/@OpenSourceFoundersSummit/112241504194088102\")"
   ]
  },
  {
   "cell_type": "code",
   "execution_count": 2,
   "metadata": {},
   "outputs": [],
   "source": [
    "# from https://twitter.com/mbauwens/status/1779543397528740338\n",
    "test_input = [\"https://ept.ms/3VUYqTR\",\"https://ept.ms/43XPhLZ\"] * 60\n",
    "\n"
   ]
  },
  {
   "cell_type": "code",
   "execution_count": 15,
   "metadata": {},
   "outputs": [
    {
     "data": {
      "text/plain": [
       "['httpsss://ept.ms/3VUYqTRsdfs/ff', 'httpsss://ept.ms/3VUYqTRsdfs/ff']"
      ]
     },
     "execution_count": 15,
     "metadata": {},
     "output_type": "execute_result"
    }
   ],
   "source": [
    "bad_test_inputs = [\"httpsss://ept.ms/3VUYqTRsdfs/ff\"] * 2\n",
    "bad_test_inputs"
   ]
  },
  {
   "cell_type": "code",
   "execution_count": 11,
   "metadata": {},
   "outputs": [
    {
     "name": "stderr",
     "output_type": "stream",
     "text": [
      "\u001b[32m2024-05-01 15:11:42.795\u001b[0m | \u001b[33m\u001b[1mWARNING \u001b[0m | \u001b[36mdesci_sense.shared_functions.web_extractors.citoid\u001b[0m:\u001b[36mbefore_retry\u001b[0m:\u001b[36m56\u001b[0m - \u001b[33m\u001b[1mRetry attempt 1\u001b[0m\n",
      "\u001b[32m2024-05-01 15:11:42.796\u001b[0m | \u001b[34m\u001b[1mDEBUG   \u001b[0m | \u001b[36mdesci_sense.shared_functions.web_extractors.citoid\u001b[0m:\u001b[36mfetch_citation_async_retry\u001b[0m:\u001b[36m76\u001b[0m - \u001b[34m\u001b[1mtarget_url=httpsss://ept.ms/3VUYqTRsdfs/ff\u001b[0m\n",
      "\u001b[32m2024-05-01 15:11:42.819\u001b[0m | \u001b[33m\u001b[1mWARNING \u001b[0m | \u001b[36mdesci_sense.shared_functions.web_extractors.citoid\u001b[0m:\u001b[36mbefore_retry\u001b[0m:\u001b[36m56\u001b[0m - \u001b[33m\u001b[1mRetry attempt 1\u001b[0m\n",
      "\u001b[32m2024-05-01 15:11:42.820\u001b[0m | \u001b[34m\u001b[1mDEBUG   \u001b[0m | \u001b[36mdesci_sense.shared_functions.web_extractors.citoid\u001b[0m:\u001b[36mfetch_citation_async_retry\u001b[0m:\u001b[36m76\u001b[0m - \u001b[34m\u001b[1mtarget_url=httpsss://ept.ms/3VUYqTRsdfs/ff\u001b[0m\n",
      "\u001b[32m2024-05-01 15:11:43.960\u001b[0m | \u001b[33m\u001b[1mWARNING \u001b[0m | \u001b[36mdesci_sense.shared_functions.web_extractors.citoid\u001b[0m:\u001b[36mbefore_retry\u001b[0m:\u001b[36m56\u001b[0m - \u001b[33m\u001b[1mRetry attempt 2\u001b[0m\n",
      "\u001b[32m2024-05-01 15:11:43.962\u001b[0m | \u001b[34m\u001b[1mDEBUG   \u001b[0m | \u001b[36mdesci_sense.shared_functions.web_extractors.citoid\u001b[0m:\u001b[36mfetch_citation_async_retry\u001b[0m:\u001b[36m76\u001b[0m - \u001b[34m\u001b[1mtarget_url=httpsss://ept.ms/3VUYqTRsdfs/ff\u001b[0m\n",
      "\u001b[32m2024-05-01 15:11:43.978\u001b[0m | \u001b[33m\u001b[1mWARNING \u001b[0m | \u001b[36mdesci_sense.shared_functions.web_extractors.citoid\u001b[0m:\u001b[36mbefore_retry\u001b[0m:\u001b[36m56\u001b[0m - \u001b[33m\u001b[1mRetry attempt 2\u001b[0m\n",
      "\u001b[32m2024-05-01 15:11:43.979\u001b[0m | \u001b[34m\u001b[1mDEBUG   \u001b[0m | \u001b[36mdesci_sense.shared_functions.web_extractors.citoid\u001b[0m:\u001b[36mfetch_citation_async_retry\u001b[0m:\u001b[36m76\u001b[0m - \u001b[34m\u001b[1mtarget_url=httpsss://ept.ms/3VUYqTRsdfs/ff\u001b[0m\n",
      "\u001b[32m2024-05-01 15:11:46.018\u001b[0m | \u001b[33m\u001b[1mWARNING \u001b[0m | \u001b[36mdesci_sense.shared_functions.web_extractors.citoid\u001b[0m:\u001b[36mbefore_retry\u001b[0m:\u001b[36m56\u001b[0m - \u001b[33m\u001b[1mRetry attempt 3\u001b[0m\n",
      "\u001b[32m2024-05-01 15:11:46.021\u001b[0m | \u001b[34m\u001b[1mDEBUG   \u001b[0m | \u001b[36mdesci_sense.shared_functions.web_extractors.citoid\u001b[0m:\u001b[36mfetch_citation_async_retry\u001b[0m:\u001b[36m76\u001b[0m - \u001b[34m\u001b[1mtarget_url=httpsss://ept.ms/3VUYqTRsdfs/ff\u001b[0m\n",
      "\u001b[32m2024-05-01 15:11:46.024\u001b[0m | \u001b[33m\u001b[1mWARNING \u001b[0m | \u001b[36mdesci_sense.shared_functions.web_extractors.citoid\u001b[0m:\u001b[36mbefore_retry\u001b[0m:\u001b[36m56\u001b[0m - \u001b[33m\u001b[1mRetry attempt 3\u001b[0m\n",
      "\u001b[32m2024-05-01 15:11:46.025\u001b[0m | \u001b[34m\u001b[1mDEBUG   \u001b[0m | \u001b[36mdesci_sense.shared_functions.web_extractors.citoid\u001b[0m:\u001b[36mfetch_citation_async_retry\u001b[0m:\u001b[36m76\u001b[0m - \u001b[34m\u001b[1mtarget_url=httpsss://ept.ms/3VUYqTRsdfs/ff\u001b[0m\n",
      "\u001b[32m2024-05-01 15:11:50.083\u001b[0m | \u001b[33m\u001b[1mWARNING \u001b[0m | \u001b[36mdesci_sense.shared_functions.web_extractors.citoid\u001b[0m:\u001b[36mbefore_retry\u001b[0m:\u001b[36m56\u001b[0m - \u001b[33m\u001b[1mRetry attempt 4\u001b[0m\n",
      "\u001b[32m2024-05-01 15:11:50.085\u001b[0m | \u001b[34m\u001b[1mDEBUG   \u001b[0m | \u001b[36mdesci_sense.shared_functions.web_extractors.citoid\u001b[0m:\u001b[36mfetch_citation_async_retry\u001b[0m:\u001b[36m76\u001b[0m - \u001b[34m\u001b[1mtarget_url=httpsss://ept.ms/3VUYqTRsdfs/ff\u001b[0m\n",
      "\u001b[32m2024-05-01 15:11:50.098\u001b[0m | \u001b[33m\u001b[1mWARNING \u001b[0m | \u001b[36mdesci_sense.shared_functions.web_extractors.citoid\u001b[0m:\u001b[36mbefore_retry\u001b[0m:\u001b[36m56\u001b[0m - \u001b[33m\u001b[1mRetry attempt 4\u001b[0m\n",
      "\u001b[32m2024-05-01 15:11:50.100\u001b[0m | \u001b[34m\u001b[1mDEBUG   \u001b[0m | \u001b[36mdesci_sense.shared_functions.web_extractors.citoid\u001b[0m:\u001b[36mfetch_citation_async_retry\u001b[0m:\u001b[36m76\u001b[0m - \u001b[34m\u001b[1mtarget_url=httpsss://ept.ms/3VUYqTRsdfs/ff\u001b[0m\n",
      "\u001b[32m2024-05-01 15:11:58.147\u001b[0m | \u001b[33m\u001b[1mWARNING \u001b[0m | \u001b[36mdesci_sense.shared_functions.web_extractors.citoid\u001b[0m:\u001b[36mbefore_retry\u001b[0m:\u001b[36m56\u001b[0m - \u001b[33m\u001b[1mRetry attempt 5\u001b[0m\n",
      "\u001b[32m2024-05-01 15:11:58.149\u001b[0m | \u001b[34m\u001b[1mDEBUG   \u001b[0m | \u001b[36mdesci_sense.shared_functions.web_extractors.citoid\u001b[0m:\u001b[36mfetch_citation_async_retry\u001b[0m:\u001b[36m76\u001b[0m - \u001b[34m\u001b[1mtarget_url=httpsss://ept.ms/3VUYqTRsdfs/ff\u001b[0m\n",
      "\u001b[32m2024-05-01 15:11:58.173\u001b[0m | \u001b[33m\u001b[1mWARNING \u001b[0m | \u001b[36mdesci_sense.shared_functions.web_extractors.citoid\u001b[0m:\u001b[36mbefore_retry\u001b[0m:\u001b[36m56\u001b[0m - \u001b[33m\u001b[1mRetry attempt 5\u001b[0m\n",
      "\u001b[32m2024-05-01 15:11:58.174\u001b[0m | \u001b[34m\u001b[1mDEBUG   \u001b[0m | \u001b[36mdesci_sense.shared_functions.web_extractors.citoid\u001b[0m:\u001b[36mfetch_citation_async_retry\u001b[0m:\u001b[36m76\u001b[0m - \u001b[34m\u001b[1mtarget_url=httpsss://ept.ms/3VUYqTRsdfs/ff\u001b[0m\n",
      "\u001b[32m2024-05-01 15:11:58.211\u001b[0m | \u001b[31m\u001b[1mERROR   \u001b[0m | \u001b[36mdesci_sense.shared_functions.web_extractors.citoid\u001b[0m:\u001b[36mreturn_default_value\u001b[0m:\u001b[36m60\u001b[0m - \u001b[31m\u001b[1mMax retries exceeded. Returning default value.\u001b[0m\n",
      "\u001b[32m2024-05-01 15:11:58.241\u001b[0m | \u001b[31m\u001b[1mERROR   \u001b[0m | \u001b[36mdesci_sense.shared_functions.web_extractors.citoid\u001b[0m:\u001b[36mreturn_default_value\u001b[0m:\u001b[36m60\u001b[0m - \u001b[31m\u001b[1mMax retries exceeded. Returning default value.\u001b[0m\n"
     ]
    }
   ],
   "source": [
    "res = extract_urls_citoid_metadata(bad_test_inputs, max_summary_length=30)"
   ]
  },
  {
   "cell_type": "code",
   "execution_count": 12,
   "metadata": {},
   "outputs": [
    {
     "data": {
      "text/plain": [
       "[RefMetadata(citoid_url=None, url='httpsss://ept.ms/3VUYqTRsdfs/ff', item_type=None, title='', summary='', image=''),\n",
       " RefMetadata(citoid_url=None, url='httpsss://ept.ms/3VUYqTRsdfs/ff', item_type=None, title='', summary='', image='')]"
      ]
     },
     "execution_count": 12,
     "metadata": {},
     "output_type": "execute_result"
    }
   ],
   "source": [
    "res"
   ]
  },
  {
   "cell_type": "code",
   "execution_count": 13,
   "metadata": {},
   "outputs": [
    {
     "data": {
      "text/plain": [
       "2"
      ]
     },
     "execution_count": 13,
     "metadata": {},
     "output_type": "execute_result"
    }
   ],
   "source": [
    "len(res)"
   ]
  },
  {
   "cell_type": "code",
   "execution_count": 6,
   "metadata": {},
   "outputs": [
    {
     "data": {
      "text/plain": [
       "117"
      ]
     },
     "execution_count": 6,
     "metadata": {},
     "output_type": "execute_result"
    }
   ],
   "source": [
    "len(res)"
   ]
  },
  {
   "cell_type": "code",
   "execution_count": null,
   "metadata": {},
   "outputs": [],
   "source": []
  },
  {
   "cell_type": "code",
   "execution_count": 2,
   "metadata": {},
   "outputs": [
    {
     "name": "stderr",
     "output_type": "stream",
     "text": [
      "\u001b[32m2024-04-07 14:04:59.079\u001b[0m | \u001b[34m\u001b[1mDEBUG   \u001b[0m | \u001b[36mdesci_sense.shared_functions.web_extractors.citoid\u001b[0m:\u001b[36mfetch_citation\u001b[0m:\u001b[36m54\u001b[0m - \u001b[34m\u001b[1mfetching citoid data for: https://link.springer.com/chapter/10.1007/978-3-031-37391-6_9\u001b[0m\n"
     ]
    },
    {
     "data": {
      "text/plain": [
       "{'key': 'GMDTK4E4',\n",
       " 'version': 0,\n",
       " 'itemType': 'bookSection',\n",
       " 'creators': [{'firstName': 'Donald',\n",
       "   'lastName': 'Gray',\n",
       "   'creatorType': 'author'},\n",
       "  {'firstName': 'Xavier', 'lastName': 'Fazio', 'creatorType': 'editor'}],\n",
       " 'tags': [{'tag': 'Complexity', 'type': 1},\n",
       "  {'tag': 'Post-normal', 'type': 1},\n",
       "  {'tag': 'Sustainability science', 'type': 1},\n",
       "  {'tag': 'Goethe', 'type': 1},\n",
       "  {'tag': 'Phenomenological', 'type': 1}],\n",
       " 'date': '2023',\n",
       " 'title': 'The Metamorphosis of the Scientist. A Phenomenological Approach for a Transformative Science Education?',\n",
       " 'pages': '173–191',\n",
       " 'publisher': 'Springer International Publishing',\n",
       " 'abstractNote': 'This chapter first examines historical foundations that gave rise to a reductive and quantitative approach to science, linked to a mechanical model of nature (Robbins, New organs of perception: Goethean science as a cultural therapeutics. Janus Head, 8(1), 113–126, 2005). This, it is suggested, has the tendency to separate humanity from nature whereby the scientist becomes an onlooker onto something of which they are not a part and has been contributary in the problems of the Anthropocene, posing a threat to humanity and all living things on the planet (Rockström et al., Planetary boundaries: Exploring the safe operating space for humanity. Ecology and Society, 14(2), 2009). However, the current reductive, quantitative model of science is not the only possibility, and there is growing interest in more holistic approaches that draw on our understanding of complex systems and result in integrated sustainability science (Kates et al., Sustainability science. Science, 292(5517), 641–642, 2001). Nevertheless, there is a need to complement this quantitative, reductive science education with a more qualitative, phenomenology-based science process (Østergaard et al., Doing phenomenology in science education: A research review. Studies in Science Education, 44(2), 93–121, 2008). One such approach was developed by Johann Wolfgang von Goethe (Richards, 2002), which can result in the metamorphosis of the scientist (Amrine, The metamorphosis of the scientist. In D. Seamon & A. Zajonc (Eds.), Goethe’s way of science (pp. 33–54). The State University of New York, 1998) and foster a deeper sense of responsibility and care for the natural world (Seamon, Goethe’s way of science as a phenomenology of nature. Janus Head, 8(1), 86–101, 2005). This chapter explores the possibilities for post-normal, sustainability and Goethean science.',\n",
       " 'ISBN': '9783031373916',\n",
       " 'url': 'https://doi.org/10.1007/978-3-031-37391-6_9',\n",
       " 'extra': 'DOI: 10.1007/978-3-031-37391-6_9',\n",
       " 'bookTitle': 'Science Curriculum for the Anthropocene, Volume 2: Curriculum Models for our Collective Future',\n",
       " 'place': 'Cham',\n",
       " 'language': 'en',\n",
       " 'libraryCatalog': 'Springer Link',\n",
       " 'accessDate': '2024-04-07',\n",
       " 'original_url': 'https://link.springer.com/chapter/10.1007/978-3-031-37391-6_9'}"
      ]
     },
     "execution_count": 2,
     "metadata": {},
     "output_type": "execute_result"
    }
   ],
   "source": [
    "target_url = \"https://link.springer.com/chapter/10.1007/978-3-031-37391-6_9\"\n",
    "\n",
    "fetch_citation(target_url)"
   ]
  },
  {
   "cell_type": "code",
   "execution_count": 3,
   "metadata": {},
   "outputs": [
    {
     "name": "stderr",
     "output_type": "stream",
     "text": [
      "\u001b[32m2024-04-07 14:05:28.192\u001b[0m | \u001b[34m\u001b[1mDEBUG   \u001b[0m | \u001b[36mdesci_sense.shared_functions.web_extractors.citoid\u001b[0m:\u001b[36mfetch_citation\u001b[0m:\u001b[36m54\u001b[0m - \u001b[34m\u001b[1mfetching citoid data for: https://royalsocietypublishing.org/doi/10.1098/rstb.2022.0267\u001b[0m\n"
     ]
    },
    {
     "data": {
      "text/plain": [
       "{'key': 'UJGC2BY2',\n",
       " 'version': 0,\n",
       " 'itemType': 'journalArticle',\n",
       " 'creators': [{'firstName': 'Karolina',\n",
       "   'lastName': 'Safarzynska',\n",
       "   'creatorType': 'author'},\n",
       "  {'firstName': 'Paul E.', 'lastName': 'Smaldino', 'creatorType': 'author'}],\n",
       " 'tags': [],\n",
       " 'publicationTitle': 'Philosophical Transactions of the Royal Society B: Biological Sciences',\n",
       " 'volume': '379',\n",
       " 'issue': '1893',\n",
       " 'language': 'en',\n",
       " 'ISSN': '0962-8436, 1471-2970',\n",
       " 'date': '2024-01',\n",
       " 'DOI': '10.1098/rstb.2022.0267',\n",
       " 'url': 'https://royalsocietypublishing.org/doi/10.1098/rstb.2022.0267',\n",
       " 'title': 'Reducing global inequality increases local cooperation: a simple model of group selection with a global externality',\n",
       " 'libraryCatalog': 'CrossRef',\n",
       " 'accessDate': '2024-04-07',\n",
       " 'shortTitle': 'Reducing global inequality increases local cooperation',\n",
       " 'original_url': 'https://royalsocietypublishing.org/doi/10.1098/rstb.2022.0267'}"
      ]
     },
     "execution_count": 3,
     "metadata": {},
     "output_type": "execute_result"
    }
   ],
   "source": [
    "target_url = \"https://royalsocietypublishing.org/doi/10.1098/rstb.2022.0267\"\n",
    "\n",
    "fetch_citation(target_url)"
   ]
  },
  {
   "cell_type": "code",
   "execution_count": 3,
   "metadata": {},
   "outputs": [
    {
     "name": "stderr",
     "output_type": "stream",
     "text": [
      "\u001b[32m2024-01-29 16:51:06.817\u001b[0m | \u001b[34m\u001b[1mDEBUG   \u001b[0m | \u001b[36mdesci_sense.filters.simple_sci_filter\u001b[0m:\u001b[36mfilter_url_by_type\u001b[0m:\u001b[36m12\u001b[0m - \u001b[34m\u001b[1mcite data for https://www.youtube.com/watch?v=sR5sQrMHOCw: {'key': 'RC2PBZSD', 'version': 0, 'itemType': 'videoRecording', 'creators': [], 'tags': [], 'title': 'Teardrop - Massive Attack | Handpan Cover', 'url': 'https://www.youtube.com/watch?v=sR5sQrMHOCw', 'abstractNote': 'Handpan interpretation of \"Tear Drop\" - Massive Attack.Played by Kabeção and Gustavo Magalhães. ✨Follow me:Instagram - https://www.instagram.com/kabecaohandp...', 'language': 'en', 'libraryCatalog': 'www.youtube.com', 'accessDate': '2024-01-29'}\u001b[0m\n"
     ]
    },
    {
     "data": {
      "text/plain": [
       "True"
      ]
     },
     "execution_count": 3,
     "metadata": {},
     "output_type": "execute_result"
    }
   ],
   "source": [
    "sci_filter = SimpleCitoidSciFilter()\n",
    "filter_url_by_type(\"https://www.youtube.com/watch?v=sR5sQrMHOCw\", sci_filter.accepted_citoid_item_types)"
   ]
  },
  {
   "cell_type": "code",
   "execution_count": 5,
   "metadata": {},
   "outputs": [
    {
     "data": {
      "text/plain": [
       "'Error: Unable to fetch data. Status code: 404'"
      ]
     },
     "execution_count": 5,
     "metadata": {},
     "output_type": "execute_result"
    }
   ],
   "source": [
    "target_url = \"https://twitter.com/rao2z/status/1716257588768346328\"\n",
    "\n",
    "fetch_citation(target_url)\n"
   ]
  },
  {
   "cell_type": "code",
   "execution_count": 5,
   "metadata": {},
   "outputs": [
    {
     "data": {
      "text/plain": [
       "{'key': 'UTJ48BXZ',\n",
       " 'version': 0,\n",
       " 'itemType': 'videoRecording',\n",
       " 'creators': [],\n",
       " 'tags': [],\n",
       " 'title': 'Teardrop - Massive Attack | Handpan Cover',\n",
       " 'url': 'https://www.youtube.com/watch?v=sR5sQrMHOCw',\n",
       " 'abstractNote': 'Handpan interpretation of \"Tear Drop\" - Massive Attack.Played by Kabeção and Gustavo Magalhães. ✨Follow me:Instagram - https://www.instagram.com/kabecaohandp...',\n",
       " 'language': 'en',\n",
       " 'libraryCatalog': 'www.youtube.com',\n",
       " 'accessDate': '2024-01-29'}"
      ]
     },
     "execution_count": 5,
     "metadata": {},
     "output_type": "execute_result"
    }
   ],
   "source": [
    "target_url = \"https://www.youtube.com/watch?v=sR5sQrMHOCw\"\n",
    "\n",
    "dd = fetch_citation(target_url)\n",
    "dd"
   ]
  },
  {
   "cell_type": "code",
   "execution_count": 6,
   "metadata": {},
   "outputs": [
    {
     "data": {
      "text/plain": [
       "'Handp'"
      ]
     },
     "execution_count": 6,
     "metadata": {},
     "output_type": "execute_result"
    }
   ],
   "source": [
    "dd.get(\"abstractNote\", \"\")[:5]"
   ]
  },
  {
   "cell_type": "code",
   "execution_count": 5,
   "metadata": {},
   "outputs": [
    {
     "data": {
      "text/plain": [
       "{'key': 'X2TNLS4U',\n",
       " 'version': 0,\n",
       " 'itemType': 'bookSection',\n",
       " 'creators': [{'firstName': 'Donald',\n",
       "   'lastName': 'Gray',\n",
       "   'creatorType': 'author'},\n",
       "  {'firstName': 'Xavier', 'lastName': 'Fazio', 'creatorType': 'editor'}],\n",
       " 'tags': [{'tag': 'Complexity', 'type': 1},\n",
       "  {'tag': 'Post-normal', 'type': 1},\n",
       "  {'tag': 'Sustainability science', 'type': 1},\n",
       "  {'tag': 'Goethe', 'type': 1},\n",
       "  {'tag': 'Phenomenological', 'type': 1}],\n",
       " 'date': '2023',\n",
       " 'title': 'The Metamorphosis of the Scientist. A Phenomenological Approach for a Transformative Science Education?',\n",
       " 'pages': '173–191',\n",
       " 'publisher': 'Springer International Publishing',\n",
       " 'abstractNote': 'This chapter first examines historical foundations that gave rise to a reductive and quantitative approach to science, linked to a mechanical model of nature (Robbins, New organs of perception: Goethean science as a cultural therapeutics. Janus Head, 8(1), 113–126, 2005). This, it is suggested, has the tendency to separate humanity from nature whereby the scientist becomes an onlooker onto something of which they are not a part and has been contributary in the problems of the Anthropocene, posing a threat to humanity and all living things on the planet (Rockström et al., Planetary boundaries: Exploring the safe operating space for humanity. Ecology and Society, 14(2), 2009). However, the current reductive, quantitative model of science is not the only possibility, and there is growing interest in more holistic approaches that draw on our understanding of complex systems and result in integrated sustainability science (Kates et al., Sustainability science. Science, 292(5517), 641–642, 2001). Nevertheless, there is a need to complement this quantitative, reductive science education with a more qualitative, phenomenology-based science process (Østergaard et al., Doing phenomenology in science education: A research review. Studies in Science Education, 44(2), 93–121, 2008). One such approach was developed by Johann Wolfgang von Goethe (Richards, 2002), which can result in the metamorphosis of the scientist (Amrine, The metamorphosis of the scientist. In D. Seamon & A. Zajonc (Eds.), Goethe’s way of science (pp. 33–54). The State University of New York, 1998) and foster a deeper sense of responsibility and care for the natural world (Seamon, Goethe’s way of science as a phenomenology of nature. Janus Head, 8(1), 86–101, 2005). This chapter explores the possibilities for post-normal, sustainability and Goethean science.',\n",
       " 'ISBN': '9783031373916',\n",
       " 'url': 'https://doi.org/10.1007/978-3-031-37391-6_9',\n",
       " 'extra': 'DOI: 10.1007/978-3-031-37391-6_9',\n",
       " 'bookTitle': 'Science Curriculum for the Anthropocene, Volume 2: Curriculum Models for our Collective Future',\n",
       " 'place': 'Cham',\n",
       " 'language': 'en',\n",
       " 'libraryCatalog': 'Springer Link',\n",
       " 'accessDate': '2024-01-23'}"
      ]
     },
     "execution_count": 5,
     "metadata": {},
     "output_type": "execute_result"
    }
   ],
   "source": [
    "cite_data = fetch_citation(\"https://link.springer.com/chapter/10.1007/978-3-031-37391-6_9\")\n",
    "cite_data"
   ]
  },
  {
   "cell_type": "code",
   "execution_count": 4,
   "metadata": {},
   "outputs": [
    {
     "data": {
      "text/plain": [
       "'bookSection'"
      ]
     },
     "execution_count": 4,
     "metadata": {},
     "output_type": "execute_result"
    }
   ],
   "source": [
    "cite_data[0]['itemType']"
   ]
  },
  {
   "cell_type": "code",
   "execution_count": 6,
   "metadata": {},
   "outputs": [
    {
     "data": {
      "text/plain": [
       "[{'key': 'PLBTQ4TH',\n",
       "  'version': 0,\n",
       "  'itemType': 'webpage',\n",
       "  'creators': [],\n",
       "  'tags': [],\n",
       "  'title': 'Sensemaking Networks: Project Introduction',\n",
       "  'url': 'https://paragraph.xyz/@sense-nets/sense-nets-intro',\n",
       "  'abstractNote': 'Incorporating science social media into the scientific process',\n",
       "  'date': '2023-12-13',\n",
       "  'language': 'en',\n",
       "  'accessDate': '2024-01-03',\n",
       "  'shortTitle': 'Sensemaking Networks',\n",
       "  'websiteTitle': 'paragraph.xyz'}]"
      ]
     },
     "execution_count": 6,
     "metadata": {},
     "output_type": "execute_result"
    }
   ],
   "source": [
    "fetch_citation(\"https://paragraph.xyz/@sense-nets/sense-nets-intro\")"
   ]
  },
  {
   "cell_type": "code",
   "execution_count": 7,
   "metadata": {},
   "outputs": [
    {
     "data": {
      "text/plain": [
       "[{'key': 'GGXXSM4S',\n",
       "  'version': 0,\n",
       "  'itemType': 'audioRecording',\n",
       "  'creators': [],\n",
       "  'tags': [],\n",
       "  'title': 'The Case for Generative AI in the Legal Field - Ep. 210',\n",
       "  'url': 'https://soundcloud.com/theaipodcast/legal',\n",
       "  'abstractNote': 'Thomson Reuters, the global content and technology company, is transforming the legal industry with generative AI.\\n\\nIn the latest episode of NVIDIA’s AI Podcast, host Noah Kravitz spoke with Thomson R',\n",
       "  'language': 'en',\n",
       "  'libraryCatalog': 'soundcloud.com',\n",
       "  'accessDate': '2024-01-03'}]"
      ]
     },
     "execution_count": 7,
     "metadata": {},
     "output_type": "execute_result"
    }
   ],
   "source": [
    "fetch_citation(\"https://soundcloud.com/theaipodcast/legal\")"
   ]
  },
  {
   "cell_type": "code",
   "execution_count": null,
   "metadata": {},
   "outputs": [],
   "source": [
    "{\n",
    "  'itemType': 'audioRecording',\n",
    "  'title': 'The Case for Generative AI in the Legal Field - Ep. 210',\n",
    "  'url': 'https://soundcloud.com/theaipodcast/legal',\n",
    "  'abstractNote': 'Thomson Reuters, the global content and technology company, is transforming the legal industry with generative AI.\\n\\nIn the latest episode of NVIDIA’s AI Podcast, host Noah Kravitz spoke with Thomson R',\n",
    "  'language': 'en',\n",
    "  'libraryCatalog': 'soundcloud.com',\n",
    "  'accessDate': '2024-01-03'}"
   ]
  },
  {
   "cell_type": "code",
   "execution_count": 8,
   "metadata": {},
   "outputs": [
    {
     "data": {
      "text/plain": [
       "[{'key': 'J7L52HNV',\n",
       "  'version': 0,\n",
       "  'itemType': 'journalArticle',\n",
       "  'creators': [{'firstName': 'Johannes',\n",
       "    'lastName': 'Jaeger',\n",
       "    'creatorType': 'author'},\n",
       "   {'firstName': 'Svetlana', 'lastName': 'Surkova', 'creatorType': 'author'},\n",
       "   {'firstName': 'Maxim', 'lastName': 'Blagov', 'creatorType': 'author'},\n",
       "   {'firstName': 'Hilde', 'lastName': 'Janssens', 'creatorType': 'author'},\n",
       "   {'firstName': 'David', 'lastName': 'Kosman', 'creatorType': 'author'},\n",
       "   {'firstName': 'Konstantin N.',\n",
       "    'lastName': 'Kozlov',\n",
       "    'creatorType': 'author'},\n",
       "   {'name': 'Manu', 'creatorType': 'author'},\n",
       "   {'firstName': 'Ekaterina',\n",
       "    'lastName': 'Myasnikova',\n",
       "    'creatorType': 'author'},\n",
       "   {'firstName': 'Carlos E.',\n",
       "    'lastName': 'Vanario-Alonso',\n",
       "    'creatorType': 'author'},\n",
       "   {'firstName': 'Maria', 'lastName': 'Samsonova', 'creatorType': 'author'},\n",
       "   {'firstName': 'David H.', 'lastName': 'Sharp', 'creatorType': 'author'},\n",
       "   {'firstName': 'John', 'lastName': 'Reinitz', 'creatorType': 'author'}],\n",
       "  'tags': [{'tag': 'Science', 'type': 1},\n",
       "   {'tag': 'Humanities and Social Sciences', 'type': 1},\n",
       "   {'tag': 'multidisciplinary', 'type': 1},\n",
       "   {'tag': 'Science', 'type': 1},\n",
       "   {'tag': 'multidisciplinary', 'type': 1}],\n",
       "  'title': 'Dynamic control of positional information in the early Drosophila embryo',\n",
       "  'publicationTitle': 'Nature',\n",
       "  'rights': '2004 Macmillan Magazines Ltd.',\n",
       "  'volume': '430',\n",
       "  'issue': '6997',\n",
       "  'pages': '368–371',\n",
       "  'DOI': '10.1038/nature02678',\n",
       "  'ISSN': '1476-4687',\n",
       "  'url': 'https://www.nature.com/articles/nature02678',\n",
       "  'abstractNote': 'Morphogen gradients contribute to pattern formation by determining positional information in morphogenetic fields1,2. Interpretation of positional information is thought to rely on direct, concentration-threshold-dependent mechanisms for establishing multiple differential domains of target gene expression1,3,4. In Drosophila, maternal gradients establish the initial position of boundaries for zygotic gap gene expression, which in turn convey positional information to pair-rule and segment-polarity genes, the latter forming a segmental pre-pattern by the onset of gastrulation5,6,7. Here we report, on the basis of quantitative gene expression data, substantial anterior shifts in the position of gap domains after their initial establishment. Using a data-driven mathematical modelling approach8,9,10,11, we show that these shifts are based on a regulatory mechanism that relies on asymmetric gap–gap cross-repression and does not require the diffusion of gap proteins. Our analysis implies that the threshold-dependent interpretation of maternal morphogen concentration is not sufficient to determine shifting gap domain boundary positions, and suggests that establishing and interpreting positional information are not independent processes in the Drosophila blastoderm.',\n",
       "  'language': 'en',\n",
       "  'date': '2004-07',\n",
       "  'libraryCatalog': 'www.nature.com',\n",
       "  'accessDate': '2024-01-03'}]"
      ]
     },
     "execution_count": 8,
     "metadata": {},
     "output_type": "execute_result"
    }
   ],
   "source": [
    "fetch_citation(\"https://www.nature.com/articles/nature02678\")"
   ]
  },
  {
   "cell_type": "code",
   "execution_count": 9,
   "metadata": {},
   "outputs": [
    {
     "data": {
      "text/plain": [
       "[{'key': 'BKDNDRJR',\n",
       "  'version': 0,\n",
       "  'itemType': 'preprint',\n",
       "  'creators': [{'firstName': 'Jason',\n",
       "    'lastName': 'Moore',\n",
       "    'creatorType': 'author'},\n",
       "   {'firstName': 'Alexander', 'lastName': 'Genkin', 'creatorType': 'author'},\n",
       "   {'firstName': 'Magnus', 'lastName': 'Tournoy', 'creatorType': 'author'},\n",
       "   {'firstName': 'Joshua',\n",
       "    'lastName': 'Pughe-Sanford',\n",
       "    'creatorType': 'author'},\n",
       "   {'firstName': 'Rob R. de Ruyter van',\n",
       "    'lastName': 'Steveninck',\n",
       "    'creatorType': 'author'},\n",
       "   {'firstName': 'Dmitri B.',\n",
       "    'lastName': 'Chklovskii',\n",
       "    'creatorType': 'author'}],\n",
       "  'tags': [],\n",
       "  'title': 'The Neuron as a Direct Data-Driven Controller',\n",
       "  'rights': '© 2024, Posted by Cold Spring Harbor Laboratory. This pre-print is available under a Creative Commons License (Attribution 4.0 International), CC BY 4.0, as described at http://creativecommons.org/licenses/by/4.0/',\n",
       "  'repository': 'bioRxiv',\n",
       "  'date': '2024-01-03',\n",
       "  'DOI': '10.1101/2024.01.02.573843',\n",
       "  'abstractNote': 'In the quest to model neuronal function amidst gaps in physiological data, a promising strategy is to develop a normative theory that interprets neuronal physiology as optimizing a computational objective. This study extends the current normative models, which primarily optimize prediction, by conceptualizing neurons as optimal feedback controllers. We posit that neurons, especially those beyond early sensory areas, act as controllers, steering their environment towards a specific desired state through their output. This environment comprises both synaptically interlinked neurons and external motor sensory feedback loops, enabling neurons to evaluate the effectiveness of their control via synaptic feedback. Utilizing the novel Direct Data-Driven Control (DD-DC) framework, we model neurons as biologically feasible controllers which implicitly identify loop dynamics, infer latent states and optimize control. Our DD-DC neuron model explains various neurophysiological phenomena: the shift from potentiation to depression in Spike-Timing-Dependent Plasticity (STDP) with its asymmetry, the duration and adaptive nature of feedforward and feedback neuronal filters, the imprecision in spike generation under constant stimulation, and the characteristic operational variability and noise in the brain. Our model presents a significant departure from the traditional, feedforward, instant-response McCulloch-Pitts-Rosenblatt neuron, offering a novel and biologically-informed fundamental unit for constructing neural networks.',\n",
       "  'language': 'en',\n",
       "  'url': 'https://www.biorxiv.org/content/10.1101/2024.01.02.573843v1',\n",
       "  'libraryCatalog': 'bioRxiv',\n",
       "  'accessDate': '2024-01-03'}]"
      ]
     },
     "execution_count": 9,
     "metadata": {},
     "output_type": "execute_result"
    }
   ],
   "source": [
    "fetch_citation(\"https://www.biorxiv.org/content/10.1101/2024.01.02.573843v1\")"
   ]
  },
  {
   "cell_type": "code",
   "execution_count": 10,
   "metadata": {},
   "outputs": [
    {
     "data": {
      "text/plain": [
       "[{'key': 'B8GAFQHB',\n",
       "  'version': 0,\n",
       "  'itemType': 'blogPost',\n",
       "  'creators': [{'firstName': 'Don',\n",
       "    'lastName': 'Moynihan',\n",
       "    'creatorType': 'author'}],\n",
       "  'tags': [],\n",
       "  'title': 'The campaign that removed the President of Harvard was about DEI, not plagiarism',\n",
       "  'abstractNote': 'Is there a difference between covering the culture wars and participating in them?',\n",
       "  'date': '2023-12-22',\n",
       "  'blogTitle': 'Can We Still Govern?',\n",
       "  'url': 'https://donmoynihan.substack.com/p/the-campaign-to-remove-the-president',\n",
       "  'websiteType': 'Substack newsletter',\n",
       "  'accessDate': '2024-01-03'}]"
      ]
     },
     "execution_count": 10,
     "metadata": {},
     "output_type": "execute_result"
    }
   ],
   "source": [
    "fetch_citation(\"https://donmoynihan.substack.com/p/the-campaign-to-remove-the-president\")"
   ]
  },
  {
   "cell_type": "code",
   "execution_count": 2,
   "metadata": {},
   "outputs": [
    {
     "data": {
      "text/plain": [
       "[{'key': 'XUATG4HM',\n",
       "  'version': 0,\n",
       "  'itemType': 'webpage',\n",
       "  'url': 'https://statisticssu.github.io/STM/tutorial/statespace/statespace.html',\n",
       "  'title': 'STM - State-space models - filtering, smoothing and forecasting',\n",
       "  'accessDate': '2024-01-04',\n",
       "  'websiteTitle': 'statisticssu.github.io'}]"
      ]
     },
     "execution_count": 2,
     "metadata": {},
     "output_type": "execute_result"
    }
   ],
   "source": [
    "fetch_citation(\"https://statisticssu.github.io/STM/tutorial/statespace/statespace.html\")"
   ]
  },
  {
   "cell_type": "code",
   "execution_count": 3,
   "metadata": {},
   "outputs": [
    {
     "data": {
      "text/plain": [
       "[{'key': 'SDGH2TQX',\n",
       "  'version': 0,\n",
       "  'itemType': 'computerProgram',\n",
       "  'creators': [{'name': 'csensemakers', 'creatorType': 'programmer'}],\n",
       "  'tags': [],\n",
       "  'url': 'https://github.com/csensemakers/desci-sense',\n",
       "  'title': 'csensemakers/desci-sense',\n",
       "  'libraryCatalog': 'GitHub',\n",
       "  'programmingLanguage': 'Jupyter Notebook',\n",
       "  'extra': 'original-date: 2023-10-31T19:24:37Z',\n",
       "  'date': '2023-12-05',\n",
       "  'accessDate': '2024-01-16'}]"
      ]
     },
     "execution_count": 3,
     "metadata": {},
     "output_type": "execute_result"
    }
   ],
   "source": [
    "target_url = \"https://github.com/csensemakers/desci-sense/\"\n",
    "\n",
    "fetch_citation(target_url)"
   ]
  },
  {
   "cell_type": "code",
   "execution_count": 6,
   "metadata": {},
   "outputs": [
    {
     "data": {
      "text/plain": [
       "[{'key': '4D582Z3G',\n",
       "  'version': 0,\n",
       "  'itemType': 'journalArticle',\n",
       "  'creators': [{'firstName': 'Warren',\n",
       "    'lastName': 'Mansell',\n",
       "    'creatorType': 'author'},\n",
       "   {'firstName': 'Timothy A.', 'lastName': 'Carey', 'creatorType': 'author'},\n",
       "   {'firstName': 'Sara J.', 'lastName': 'Tai', 'creatorType': 'author'}],\n",
       "  'tags': [],\n",
       "  'publicationTitle': 'Psychopathology Review',\n",
       "  'volume': 'a2',\n",
       "  'issue': '1',\n",
       "  'language': 'en',\n",
       "  'ISSN': '2051-8315',\n",
       "  'date': '2015-02',\n",
       "  'pages': '129–153',\n",
       "  'DOI': '10.5127/pr.036114',\n",
       "  'url': 'http://journals.sagepub.com/doi/10.5127/pr.036114',\n",
       "  'title': 'Classification of Psychopathology and Unifying Theory the Ingredients of a Darwinian Paradigm Shift in Research Methodology',\n",
       "  'libraryCatalog': 'CrossRef',\n",
       "  'accessDate': '2024-01-17'}]"
      ]
     },
     "execution_count": 6,
     "metadata": {},
     "output_type": "execute_result"
    }
   ],
   "source": [
    "fetch_citation(\"https://journals.sagepub.com/doi/pdf/10.5127/pr.036114\")"
   ]
  },
  {
   "cell_type": "code",
   "execution_count": 7,
   "metadata": {},
   "outputs": [
    {
     "data": {
      "text/plain": [
       "'Error: Unable to fetch data. Status code: 500'"
      ]
     },
     "execution_count": 7,
     "metadata": {},
     "output_type": "execute_result"
    }
   ],
   "source": [
    "fetch_citation(\"https://www.iapct.org/wp-content/uploads/2022/04/evolution_purpose.pdf\")\n"
   ]
  },
  {
   "cell_type": "code",
   "execution_count": 7,
   "metadata": {},
   "outputs": [
    {
     "data": {
      "text/plain": [
       "{'key': '5WIP5F6N',\n",
       " 'version': 0,\n",
       " 'itemType': 'webpage',\n",
       " 'creators': [],\n",
       " 'tags': [],\n",
       " 'title': 'Join our Cloud HD Video Meeting',\n",
       " 'websiteTitle': 'Zoom Video',\n",
       " 'url': 'https://northeastern.zoom.us/j/96755915567?pwd=ZVJQL3R6amI1dHBneDJlR01aaytuUT09',\n",
       " 'abstractNote': 'Zoom is the leader in modern enterprise video communications, with an easy, reliable cloud platform for video and audio conferencing, chat, and webinars across mobile, desktop, and room systems. Zoom Rooms is the original software-based conference room solution used around the world in board, conference, huddle, and training rooms, as well as executive offices and classrooms. Founded in 2011, Zoom helps businesses and organizations bring their teams together in a frictionless environment to get more done. Zoom is a publicly traded company headquartered in San Jose, CA.',\n",
       " 'accessDate': '2024-01-29'}"
      ]
     },
     "execution_count": 7,
     "metadata": {},
     "output_type": "execute_result"
    }
   ],
   "source": [
    "fetch_citation(\"https://northeastern.zoom.us/j/96755915567?pwd=ZVJQL3R6amI1dHBneDJlR01aaytuUT09\")"
   ]
  }
 ],
 "metadata": {
  "kernelspec": {
   "display_name": "twscraping",
   "language": "python",
   "name": "python3"
  },
  "language_info": {
   "codemirror_mode": {
    "name": "ipython",
    "version": 3
   },
   "file_extension": ".py",
   "mimetype": "text/x-python",
   "name": "python",
   "nbconvert_exporter": "python",
   "pygments_lexer": "ipython3",
   "version": "3.11.7"
  }
 },
 "nbformat": 4,
 "nbformat_minor": 2
}
