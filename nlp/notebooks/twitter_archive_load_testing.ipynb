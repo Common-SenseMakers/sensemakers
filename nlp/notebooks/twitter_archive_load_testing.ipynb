{
 "cells": [
  {
   "cell_type": "code",
   "execution_count": 11,
   "metadata": {},
   "outputs": [],
   "source": [
    "import json\n",
    "import sys\n",
    "from typing import List\n",
    "sys.path.append(\"../\")\n",
    "\n",
    "import pandas as pd\n",
    "\n",
    "from desci_sense.schema.post import RefPost\n",
    "from desci_sense.dataloaders.twitter.twitter_archive_loader import TwitterArchiveLoader\n",
    "from desci_sense.dataloaders.twitter.twitter_archive_parser import parse_tweets, PathConfig, extract_username, read_json_from_js_file\n",
    "from desci_sense.dataloaders.twitter.twitter_utils import convert_archive_tweet_to_ref_post\n"
   ]
  },
  {
   "cell_type": "code",
   "execution_count": 3,
   "metadata": {},
   "outputs": [],
   "source": [
    "archive_path = \"/home/rkl25/dev/common_sense/desci-sense/etc/data/twitter_archive_rt\"\n",
    "tw_archive_loader = TwitterArchiveLoader()"
   ]
  },
  {
   "cell_type": "code",
   "execution_count": 5,
   "metadata": {},
   "outputs": [
    {
     "name": "stdout",
     "output_type": "stream",
     "text": [
      "Parsing /home/rkl25/dev/common_sense/desci-sense/etc/data/twitter_archive_rt/data/account.js...\n",
      "Parsing /home/rkl25/dev/common_sense/desci-sense/etc/data/twitter_archive_rt/data/tweets.js...\n"
     ]
    },
    {
     "data": {
      "text/plain": [
       "91"
      ]
     },
     "execution_count": 5,
     "metadata": {},
     "output_type": "execute_result"
    }
   ],
   "source": [
    "ref_posts = tw_archive_loader.load_ref_posts_from_archive_dir(archive_path, cutoff_date=\"2024-01-01\")\n",
    "len(ref_posts)"
   ]
  },
  {
   "cell_type": "code",
   "execution_count": 14,
   "metadata": {},
   "outputs": [],
   "source": [
    "def create_dataframe_from_refposts(ref_posts: List[RefPost]):\n",
    "    # Extracting data from each RefPost\n",
    "    data = [{\n",
    "        'post_url': post.url,\n",
    "        'text': post.content,\n",
    "        'date': post.created_at,\n",
    "        'ref_urls': post.ref_urls\n",
    "    } for post in ref_posts]\n",
    "\n",
    "    # Creating a DataFrame\n",
    "    df = pd.DataFrame(data, columns=['post_url', 'text', 'date', 'ref_urls'])\n",
    "\n",
    "    return df\n"
   ]
  },
  {
   "cell_type": "code",
   "execution_count": 15,
   "metadata": {},
   "outputs": [
    {
     "data": {
      "text/html": [
       "<div>\n",
       "<style scoped>\n",
       "    .dataframe tbody tr th:only-of-type {\n",
       "        vertical-align: middle;\n",
       "    }\n",
       "\n",
       "    .dataframe tbody tr th {\n",
       "        vertical-align: top;\n",
       "    }\n",
       "\n",
       "    .dataframe thead th {\n",
       "        text-align: right;\n",
       "    }\n",
       "</style>\n",
       "<table border=\"1\" class=\"dataframe\">\n",
       "  <thead>\n",
       "    <tr style=\"text-align: right;\">\n",
       "      <th></th>\n",
       "      <th>post_url</th>\n",
       "      <th>text</th>\n",
       "      <th>date</th>\n",
       "      <th>ref_urls</th>\n",
       "    </tr>\n",
       "  </thead>\n",
       "  <tbody>\n",
       "    <tr>\n",
       "      <th>0</th>\n",
       "      <td>https://twitter.com/rtk254/status/175014931339...</td>\n",
       "      <td>\"“We’ll have flying cars before we will have A...</td>\n",
       "      <td>2024-01-24 13:31:27+00:00</td>\n",
       "      <td>[https://www.edsurge.com/news/2024-01-22-a-tec...</td>\n",
       "    </tr>\n",
       "    <tr>\n",
       "      <th>1</th>\n",
       "      <td>https://twitter.com/rtk254/status/174998851351...</td>\n",
       "      <td>RT @CultureDevelops: Our developmental perspec...</td>\n",
       "      <td>2024-01-24 02:52:29+00:00</td>\n",
       "      <td>[]</td>\n",
       "    </tr>\n",
       "    <tr>\n",
       "      <th>2</th>\n",
       "      <td>https://twitter.com/rtk254/status/174964249224...</td>\n",
       "      <td>https://t.co/CZSWlkPtgz https://t.co/K5ZmmvEmNe</td>\n",
       "      <td>2024-01-23 03:57:31+00:00</td>\n",
       "      <td>[https://twitter.com/brightabyss/status/164543...</td>\n",
       "    </tr>\n",
       "    <tr>\n",
       "      <th>3</th>\n",
       "      <td>https://twitter.com/rtk254/status/174964148174...</td>\n",
       "      <td>The human era will soon be over if we don't st...</td>\n",
       "      <td>2024-01-23 03:53:30+00:00</td>\n",
       "      <td>[]</td>\n",
       "    </tr>\n",
       "    <tr>\n",
       "      <th>4</th>\n",
       "      <td>https://twitter.com/rtk254/status/174958553109...</td>\n",
       "      <td>RT @BenzionSanders: “My name is Roni. I lost m...</td>\n",
       "      <td>2024-01-23 00:11:10+00:00</td>\n",
       "      <td>[]</td>\n",
       "    </tr>\n",
       "    <tr>\n",
       "      <th>...</th>\n",
       "      <td>...</td>\n",
       "      <td>...</td>\n",
       "      <td>...</td>\n",
       "      <td>...</td>\n",
       "    </tr>\n",
       "    <tr>\n",
       "      <th>86</th>\n",
       "      <td>https://twitter.com/rtk254/status/174184164097...</td>\n",
       "      <td>@AsteraInstitute Nanopublications @nanopub_org...</td>\n",
       "      <td>2024-01-01 15:19:43+00:00</td>\n",
       "      <td>[]</td>\n",
       "    </tr>\n",
       "    <tr>\n",
       "      <th>87</th>\n",
       "      <td>https://twitter.com/rtk254/status/174184163337...</td>\n",
       "      <td>@AsteraInstitute (1) Lack of support for diver...</td>\n",
       "      <td>2024-01-01 15:19:41+00:00</td>\n",
       "      <td>[]</td>\n",
       "    </tr>\n",
       "    <tr>\n",
       "      <th>88</th>\n",
       "      <td>https://twitter.com/rtk254/status/174184162201...</td>\n",
       "      <td>@AsteraInstitute But first - why do we even ne...</td>\n",
       "      <td>2024-01-01 15:19:39+00:00</td>\n",
       "      <td>[]</td>\n",
       "    </tr>\n",
       "    <tr>\n",
       "      <th>89</th>\n",
       "      <td>https://twitter.com/rtk254/status/174184161251...</td>\n",
       "      <td>@AsteraInstitute Sensemaking Networks is takin...</td>\n",
       "      <td>2024-01-01 15:19:36+00:00</td>\n",
       "      <td>[https://twitter.com/chazfirestone/status/1727...</td>\n",
       "    </tr>\n",
       "    <tr>\n",
       "      <th>90</th>\n",
       "      <td>https://twitter.com/rtk254/status/174184160742...</td>\n",
       "      <td>New year, new ways to do science! 🍾🔭 I'm excit...</td>\n",
       "      <td>2024-01-01 15:19:35+00:00</td>\n",
       "      <td>[https://paragraph.xyz/@sense-nets/sense-nets-...</td>\n",
       "    </tr>\n",
       "  </tbody>\n",
       "</table>\n",
       "<p>91 rows × 4 columns</p>\n",
       "</div>"
      ],
      "text/plain": [
       "                                             post_url  \\\n",
       "0   https://twitter.com/rtk254/status/175014931339...   \n",
       "1   https://twitter.com/rtk254/status/174998851351...   \n",
       "2   https://twitter.com/rtk254/status/174964249224...   \n",
       "3   https://twitter.com/rtk254/status/174964148174...   \n",
       "4   https://twitter.com/rtk254/status/174958553109...   \n",
       "..                                                ...   \n",
       "86  https://twitter.com/rtk254/status/174184164097...   \n",
       "87  https://twitter.com/rtk254/status/174184163337...   \n",
       "88  https://twitter.com/rtk254/status/174184162201...   \n",
       "89  https://twitter.com/rtk254/status/174184161251...   \n",
       "90  https://twitter.com/rtk254/status/174184160742...   \n",
       "\n",
       "                                                 text  \\\n",
       "0   \"“We’ll have flying cars before we will have A...   \n",
       "1   RT @CultureDevelops: Our developmental perspec...   \n",
       "2     https://t.co/CZSWlkPtgz https://t.co/K5ZmmvEmNe   \n",
       "3   The human era will soon be over if we don't st...   \n",
       "4   RT @BenzionSanders: “My name is Roni. I lost m...   \n",
       "..                                                ...   \n",
       "86  @AsteraInstitute Nanopublications @nanopub_org...   \n",
       "87  @AsteraInstitute (1) Lack of support for diver...   \n",
       "88  @AsteraInstitute But first - why do we even ne...   \n",
       "89  @AsteraInstitute Sensemaking Networks is takin...   \n",
       "90  New year, new ways to do science! 🍾🔭 I'm excit...   \n",
       "\n",
       "                        date  \\\n",
       "0  2024-01-24 13:31:27+00:00   \n",
       "1  2024-01-24 02:52:29+00:00   \n",
       "2  2024-01-23 03:57:31+00:00   \n",
       "3  2024-01-23 03:53:30+00:00   \n",
       "4  2024-01-23 00:11:10+00:00   \n",
       "..                       ...   \n",
       "86 2024-01-01 15:19:43+00:00   \n",
       "87 2024-01-01 15:19:41+00:00   \n",
       "88 2024-01-01 15:19:39+00:00   \n",
       "89 2024-01-01 15:19:36+00:00   \n",
       "90 2024-01-01 15:19:35+00:00   \n",
       "\n",
       "                                             ref_urls  \n",
       "0   [https://www.edsurge.com/news/2024-01-22-a-tec...  \n",
       "1                                                  []  \n",
       "2   [https://twitter.com/brightabyss/status/164543...  \n",
       "3                                                  []  \n",
       "4                                                  []  \n",
       "..                                                ...  \n",
       "86                                                 []  \n",
       "87                                                 []  \n",
       "88                                                 []  \n",
       "89  [https://twitter.com/chazfirestone/status/1727...  \n",
       "90  [https://paragraph.xyz/@sense-nets/sense-nets-...  \n",
       "\n",
       "[91 rows x 4 columns]"
      ]
     },
     "execution_count": 15,
     "metadata": {},
     "output_type": "execute_result"
    }
   ],
   "source": [
    "df = create_dataframe_from_refposts(ref_posts)\n",
    "df"
   ]
  },
  {
   "cell_type": "code",
   "execution_count": 2,
   "metadata": {},
   "outputs": [
    {
     "name": "stdout",
     "output_type": "stream",
     "text": [
      "Parsing /home/rkl25/dev/common_sense/desci-sense/etc/data/twitter_archive_rt/data/account.js...\n"
     ]
    }
   ],
   "source": [
    "archive_path = \"/home/rkl25/dev/common_sense/desci-sense/etc/data/twitter_archive_rt\"\n",
    "\n",
    "paths = PathConfig(dir_archive=archive_path)\n",
    "# Extract the archive owner's username from data/account.js\n",
    "username = extract_username(paths)\n",
    "users = {}\n",
    "# tweets = parse_tweets(username, users, paths)"
   ]
  },
  {
   "cell_type": "code",
   "execution_count": 3,
   "metadata": {},
   "outputs": [
    {
     "name": "stdout",
     "output_type": "stream",
     "text": [
      "Parsing /home/rkl25/dev/common_sense/desci-sense/etc/data/twitter_archive_rt/data/tweets.js...\n"
     ]
    }
   ],
   "source": [
    "tweets = []\n",
    "for tweets_js_filename in paths.files_input_tweets:\n",
    "    json = read_json_from_js_file(tweets_js_filename)\n",
    "    tweets += json"
   ]
  },
  {
   "cell_type": "code",
   "execution_count": 4,
   "metadata": {},
   "outputs": [
    {
     "data": {
      "text/plain": [
       "{'tweet': {'edit_info': {'initial': {'editTweetIds': ['1750149313399832818'],\n",
       "    'editableUntil': '2024-01-24T14:31:27.000Z',\n",
       "    'editsRemaining': '5',\n",
       "    'isEditEligible': True}},\n",
       "  'retweeted': False,\n",
       "  'source': '<a href=\"https://mobile.twitter.com\" rel=\"nofollow\">Twitter Web App</a>',\n",
       "  'entities': {'hashtags': [],\n",
       "   'symbols': [],\n",
       "   'user_mentions': [],\n",
       "   'urls': [{'url': 'https://t.co/HK6aOfX4Dm',\n",
       "     'expanded_url': 'https://www.edsurge.com/news/2024-01-22-a-technologist-spent-years-building-an-ai-chatbot-tutor-he-decided-it-can-t-be-done',\n",
       "     'display_url': 'edsurge.com/news/2024-01-2…',\n",
       "     'indices': ['216', '239']}]},\n",
       "  'display_text_range': ['0', '239'],\n",
       "  'favorite_count': '0',\n",
       "  'id_str': '1750149313399832818',\n",
       "  'truncated': False,\n",
       "  'retweet_count': '0',\n",
       "  'id': '1750149313399832818',\n",
       "  'possibly_sensitive': False,\n",
       "  'created_at': 'Wed Jan 24 13:31:27 +0000 2024',\n",
       "  'favorited': False,\n",
       "  'full_text': '\"“We’ll have flying cars before we will have AI tutors,” he says. “It is a  deeply human process that AI is hopelessly incapable of meeting in a  meaningful way. It’s like being a therapist or like being a nurse.”\"\\n\\nhttps://t.co/HK6aOfX4Dm',\n",
       "  'lang': 'en'}}"
      ]
     },
     "execution_count": 4,
     "metadata": {},
     "output_type": "execute_result"
    }
   ],
   "source": [
    "tweet = tweets['/home/rkl25/dev/common_sense/desci-sense/etc/data/twitter_archive_rt/data/tweets.js'][0]\n",
    "tweet"
   ]
  },
  {
   "cell_type": "code",
   "execution_count": 5,
   "metadata": {},
   "outputs": [
    {
     "data": {
      "text/plain": [
       "{'author': 'rtk254',\n",
       " 'content': '\"“We’ll have flying cars before we will have AI tutors,” he says. “It is a  deeply human process that AI is hopelessly incapable of meeting in a  meaningful way. It’s like being a therapist or like being a nurse.”\"\\n\\nhttps://t.co/HK6aOfX4Dm',\n",
       " 'url': 'https://twitter.com/rtk254/status/1750149313399832818',\n",
       " 'created_at': datetime.datetime(2024, 1, 24, 13, 31, 27, tzinfo=datetime.timezone.utc),\n",
       " 'metadata': {},\n",
       " 'source_network': 'twitter',\n",
       " 'type': 'ReferencePost',\n",
       " 'ref_urls': ['https://www.edsurge.com/news/2024-01-22-a-technologist-spent-years-building-an-ai-chatbot-tutor-he-decided-it-can-t-be-done']}"
      ]
     },
     "execution_count": 5,
     "metadata": {},
     "output_type": "execute_result"
    }
   ],
   "source": [
    "ref_post = convert_archive_tweet_to_ref_post(tweet, username)\n",
    "ref_post.dict()"
   ]
  },
  {
   "cell_type": "code",
   "execution_count": 8,
   "metadata": {},
   "outputs": [
    {
     "data": {
      "text/plain": [
       "{'author': 'rtk254',\n",
       " 'content': 'RT @CultureDevelops: Our developmental perspective is founded on a “New Truth,” which is now becoming increasingly evident:\\n\\nCulture and co…',\n",
       " 'url': 'https://twitter.com/rtk254/status/1749988513519481012',\n",
       " 'created_at': 'Wed Jan 24 02:52:29 +0000 2024',\n",
       " 'metadata': {},\n",
       " 'source_network': 'twitter',\n",
       " 'type': 'ReferencePost',\n",
       " 'ref_urls': []}"
      ]
     },
     "execution_count": 8,
     "metadata": {},
     "output_type": "execute_result"
    }
   ],
   "source": [
    "convert_archive_tweet_to_ref_post(tweets['/home/rkl25/dev/common_sense/desci-sense/etc/data/twitter_archive_rt/data/tweets.js'][1], username).dict()"
   ]
  },
  {
   "cell_type": "code",
   "execution_count": 10,
   "metadata": {},
   "outputs": [
    {
     "data": {
      "text/plain": [
       "{'tweet': {'edit_info': {'initial': {'editTweetIds': ['1749988513519481012'],\n",
       "    'editableUntil': '2024-01-24T03:52:29.494Z',\n",
       "    'editsRemaining': '5',\n",
       "    'isEditEligible': False}},\n",
       "  'retweeted': False,\n",
       "  'source': '<a href=\"https://mobile.twitter.com\" rel=\"nofollow\">Twitter Web App</a>',\n",
       "  'entities': {'hashtags': [],\n",
       "   'symbols': [],\n",
       "   'user_mentions': [{'name': 'Steve McIntosh',\n",
       "     'screen_name': 'CultureDevelops',\n",
       "     'indices': ['3', '19'],\n",
       "     'id_str': '1215013239102115840',\n",
       "     'id': '1215013239102115840'}],\n",
       "   'urls': []},\n",
       "  'display_text_range': ['0', '140'],\n",
       "  'favorite_count': '0',\n",
       "  'id_str': '1749988513519481012',\n",
       "  'truncated': False,\n",
       "  'retweet_count': '0',\n",
       "  'id': '1749988513519481012',\n",
       "  'created_at': 'Wed Jan 24 02:52:29 +0000 2024',\n",
       "  'favorited': False,\n",
       "  'full_text': 'RT @CultureDevelops: Our developmental perspective is founded on a “New Truth,” which is now becoming increasingly evident:\\n\\nCulture and co…',\n",
       "  'lang': 'en'}}"
      ]
     },
     "execution_count": 10,
     "metadata": {},
     "output_type": "execute_result"
    }
   ],
   "source": [
    "post_json = tweets['/home/rkl25/dev/common_sense/desci-sense/etc/data/twitter_archive_rt/data/tweets.js'][1]\n",
    "post_json"
   ]
  },
  {
   "cell_type": "code",
   "execution_count": 14,
   "metadata": {},
   "outputs": [],
   "source": [
    "def is_retweet(post):\n",
    "    \"\"\"\n",
    "    Check if the given post is a retweet.\n",
    "\n",
    "    Args:\n",
    "    post_json (str): A JSON string representing the post.\n",
    "\n",
    "    Returns:\n",
    "    bool: True if the post is a retweet, False otherwise.\n",
    "    \"\"\"\n",
    "    try:\n",
    "        \n",
    "        # Get the full_text field from the post\n",
    "        full_text = post.get('tweet', {}).get('full_text', '')\n",
    "        \n",
    "        # Check if the full_text starts with the retweet pattern\n",
    "        return full_text.startswith('RT @')\n",
    "    except json.JSONDecodeError:\n",
    "        # In case of JSON parsing error\n",
    "        print(\"Invalid JSON format\")\n",
    "        return False\n",
    "    \n",
    " "
   ]
  },
  {
   "cell_type": "code",
   "execution_count": 15,
   "metadata": {},
   "outputs": [
    {
     "name": "stdout",
     "output_type": "stream",
     "text": [
      "True\n"
     ]
    }
   ],
   "source": [
    "print(is_retweet(post_json))"
   ]
  },
  {
   "cell_type": "code",
   "execution_count": 19,
   "metadata": {},
   "outputs": [
    {
     "data": {
      "text/plain": [
       "'2024-01-24 02:52:29+00:00'"
      ]
     },
     "execution_count": 19,
     "metadata": {},
     "output_type": "execute_result"
    }
   ],
   "source": [
    "from datetime import datetime\n",
    "\n",
    "created_at_str = \"Wed Jan 24 02:52:29 +0000 2024\"\n",
    "created_at_dt = datetime.strptime(created_at_str, '%a %b %d %H:%M:%S %z %Y')\n",
    "str(created_at_dt)"
   ]
  },
  {
   "cell_type": "code",
   "execution_count": 20,
   "metadata": {},
   "outputs": [
    {
     "data": {
      "text/plain": [
       "datetime.datetime"
      ]
     },
     "execution_count": 20,
     "metadata": {},
     "output_type": "execute_result"
    }
   ],
   "source": [
    "type(created_at_dt)"
   ]
  }
 ],
 "metadata": {
  "kernelspec": {
   "display_name": "twscraping",
   "language": "python",
   "name": "python3"
  },
  "language_info": {
   "codemirror_mode": {
    "name": "ipython",
    "version": 3
   },
   "file_extension": ".py",
   "mimetype": "text/x-python",
   "name": "python",
   "nbconvert_exporter": "python",
   "pygments_lexer": "ipython3",
   "version": "3.11.5"
  }
 },
 "nbformat": 4,
 "nbformat_minor": 2
}
