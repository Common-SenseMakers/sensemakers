{
 "cells": [
  {
   "cell_type": "code",
   "execution_count": 1,
   "metadata": {},
   "outputs": [],
   "source": [
    "import nest_asyncio\n",
    "nest_asyncio.apply()\n",
    "\n",
    "import sys\n",
    "sys.path.append(\"../\")\n",
    "\n",
    "from desci_sense.shared_functions.init import init_multi_chain_parser_config\n",
    "from desci_sense.shared_functions.parsers.multi_chain_parser import MultiChainParser\n",
    "\n",
    "config = init_multi_chain_parser_config(llm_type=\"google/gemma-7b-it\",\n",
    "                                        post_process_type=\"combined\")"
   ]
  },
  {
   "cell_type": "code",
   "execution_count": 2,
   "metadata": {},
   "outputs": [
    {
     "name": "stderr",
     "output_type": "stream",
     "text": [
      "\u001b[32m2024-04-22 10:21:37.155\u001b[0m | \u001b[1mINFO    \u001b[0m | \u001b[36mdesci_sense.shared_functions.parsers.multi_chain_parser\u001b[0m:\u001b[36m__init__\u001b[0m:\u001b[36m64\u001b[0m - \u001b[1mInitializing MultiChainParser. PostProcessType=combined\u001b[0m\n",
      "\u001b[32m2024-04-22 10:21:37.162\u001b[0m | \u001b[1mINFO    \u001b[0m | \u001b[36mdesci_sense.shared_functions.parsers.multi_chain_parser\u001b[0m:\u001b[36m__init__\u001b[0m:\u001b[36m71\u001b[0m - \u001b[1mInitializing post parsers...\u001b[0m\n",
      "\u001b[32m2024-04-22 10:21:37.163\u001b[0m | \u001b[1mINFO    \u001b[0m | \u001b[36mdesci_sense.shared_functions.parsers.post_parser_chain\u001b[0m:\u001b[36m__init__\u001b[0m:\u001b[36m26\u001b[0m - \u001b[1mInitializing parser chain 'refs_tagger' \u001b[0m\n",
      "\u001b[32m2024-04-22 10:21:37.209\u001b[0m | \u001b[1mINFO    \u001b[0m | \u001b[36mdesci_sense.shared_functions.parsers.post_parser_chain\u001b[0m:\u001b[36m__init__\u001b[0m:\u001b[36m26\u001b[0m - \u001b[1mInitializing parser chain 'topics' \u001b[0m\n",
      "\u001b[32m2024-04-22 10:21:37.237\u001b[0m | \u001b[1mINFO    \u001b[0m | \u001b[36mdesci_sense.shared_functions.parsers.post_parser_chain\u001b[0m:\u001b[36m__init__\u001b[0m:\u001b[36m26\u001b[0m - \u001b[1mInitializing parser chain 'keywords' \u001b[0m\n"
     ]
    }
   ],
   "source": [
    "multi_chain_parser = MultiChainParser(config)"
   ]
  },
  {
   "cell_type": "code",
   "execution_count": 5,
   "metadata": {},
   "outputs": [],
   "source": [
    "parser = multi_chain_parser.pparsers[\"topics\"]"
   ]
  },
  {
   "cell_type": "code",
   "execution_count": 6,
   "metadata": {},
   "outputs": [
    {
     "data": {
      "text/plain": [
       "\"\\nHello! 👋 I'm happy to chat with you. What would you like to talk about today? 😊\""
      ]
     },
     "execution_count": 6,
     "metadata": {},
     "output_type": "execute_result"
    }
   ],
   "source": [
    "parser.chat(\"Hi!\")"
   ]
  },
  {
   "cell_type": "code",
   "execution_count": 7,
   "metadata": {},
   "outputs": [],
   "source": [
    "test_input = \"\"\"\n",
    "You are an expert annotator tasked with converting social media posts about scientific research to a structured semantic format. The post contains external references in the form of links (URLs). Your job is to select, for each reference, the tags best characterizing the relation of the post to the reference.\n",
    "\n",
    "The tags are to be selected from a predefined set of tags. The available tag types are:\n",
    "<announce> the reference is a new research output being announced by the post. The announcement is likely made by the authors but may be a third party. A research output could be a paper, dataset or other type of research that is being announced publicly.\n",
    "<discussion> this post discusses how the cited reference relates to other facts or claims. For example, post might discuss how the cited reference informs questions, provides evidence, or supports or opposes claims.\n",
    "<review> the reference is being reviewed by the post. The reference could be a book, article or movie, or other media content. The review could be positive or negative.\n",
    "<job> the reference is a job listing, for example a call for graduate students or faculty applications.\n",
    "<event> the reference is an invitation to an event, either a real-world or an online event. Any kind of event is relevant, some examples of such events could be seminars, meetups, or hackathons. This tag shold only be used for invitations to events, not for posts describing other kinds of events.\n",
    "<reading> this post describes the reading status of the author in relation to this reference, which could be a book, article or other written media. The author may either have read the reference in the past, is reading the reference in the present, or is looking forward to reading the reference in the future.\n",
    "<listening> this post describes the listening status of the author in relation to this reference, such as a podcast or radio station. The author may have listened to the content in the past, is listening to the content in the present, or is looking forward to listening the content in the future.\n",
    "<watching> this post describes the watching status of the author in relation to this reference, such as a video or movie. The author may have watched the content in the past, is watching the content in the present, or is looking forward to watching the content in the future.\n",
    "<recommendation> The author is recommending the referebce, which can be any kind of content: an article, a movie, podcast, book, another post, etc. This tag can also be used for cases of implicit recommendation, where the author is expressing enjoyment of some content but not explicitly recommending it.\n",
    "<quote> this post is quoting text from the reference. Symbols like \">\" or quotation marks are often used to indicate quotations. \n",
    "<question> this post is raising a question or questions about the reference. The content could be a research paper or other media like a podcast, video or blog post.\n",
    "\n",
    "A user will pass in a post, and you should think step by step, before selecting a set of tags for each reference that best that reference's relation with the post.\n",
    "\n",
    "Each reference will be marked by a number for convenient identification, in order of appearance in the post. The first reference will be number 1, the second 2, etc.\n",
    "\n",
    "Your final answer should be structured as follows:\n",
    "Reference Number: (number of current reference)\n",
    "Reasoning Steps: (your reasoning steps)\n",
    "Candidate Tags: (For potential each tag you choose, explain why you chose it.)\n",
    "Final Answer: (a set of final tags, based on the Candidate Tags. The final tags must be included in the Candidate Tags list!)\n",
    "\n",
    "# Input post text:\n",
    "Author: Yogi Jaeger 💙 @yoginho@spore.social\n",
    "Content: I just (re)discovered this recording of my \"How Organisms Come to Know the World\" talk at the Max Planck in Leipzig in 2022: https://cbs.mpg.de/cbs-coconut/video/jaeger.\n",
    "\n",
    "It covers this paper: https://frontiersin.org/articles/10.3389/fevo.2021.806283/full.\n",
    "\n",
    "A wonderful collaboration with Andrea Roli & Stu Kauffman.\n",
    "\n",
    "References:\n",
    "1: https://cbs.mpg.de/cbs-coconut/video/jaeger\n",
    "2: https://frontiersin.org/articles/10.3389/fevo.2021.806283/full\n",
    "\n",
    "# Output:\n",
    "\"\"\""
   ]
  },
  {
   "cell_type": "code",
   "execution_count": 10,
   "metadata": {},
   "outputs": [
    {
     "name": "stdout",
     "output_type": "stream",
     "text": [
      "**Reference 1:** 1\n",
      "**Reasoning Steps:** The author directly links to the reference and mentions it covers the content of the recording.\n",
      "**Candidate Tags:** <announce>, <review>\n",
      "**Final Answer:** <announce>\n",
      "\n",
      "\n",
      "**Reference 2:** 2\n",
      "**Reasoning Steps:** The author explicitly mentions the paper as a collaboration. \n",
      "**Candidate Tags:** <recommend>, <discussion> \n",
      "**Final Answer:** <discussion>\n"
     ]
    }
   ],
   "source": [
    "res = parser.chat(test_input)\n",
    "print(res)"
   ]
  },
  {
   "cell_type": "code",
   "execution_count": 11,
   "metadata": {},
   "outputs": [],
   "source": [
    "test_input_2 = \"\"\"\n",
    "You are an expert annotator tasked with converting social media posts about scientific research to a structured semantic format. The post contains external references in the form of links (URLs). Your job is to select, for each reference, the tags best characterizing the relation of the post to the reference.\n",
    "\n",
    "The tags are to be selected from a predefined set of tags. The available tag types are:\n",
    "<announce> the reference is a new research output being announced by the post. The announcement is likely made by the authors but may be a third party. A research output could be a paper, dataset or other type of research that is being announced publicly.\n",
    "<discussion> this post discusses how the cited reference relates to other facts or claims. For example, post might discuss how the cited reference informs questions, provides evidence, or supports or opposes claims.\n",
    "<review> the reference is being reviewed by the post. The reference could be a book, article or movie, or other media content. The review could be positive or negative.\n",
    "<job> the reference is a job listing, for example a call for graduate students or faculty applications.\n",
    "<event> the reference is an invitation to an event, either a real-world or an online event. Any kind of event is relevant, some examples of such events could be seminars, meetups, or hackathons. This tag shold only be used for invitations to events, not for posts describing other kinds of events.\n",
    "<reading> this post describes the reading status of the author in relation to this reference, which could be a book, article or other written media. The author may either have read the reference in the past, is reading the reference in the present, or is looking forward to reading the reference in the future.\n",
    "<listening> this post describes the listening status of the author in relation to this reference, such as a podcast or radio station. The author may have listened to the content in the past, is listening to the content in the present, or is looking forward to listening the content in the future.\n",
    "<watching> this post describes the watching status of the author in relation to this reference, such as a video or movie. The author may have watched the content in the past, is watching the content in the present, or is looking forward to watching the content in the future.\n",
    "<recommendation> The author is recommending the referebce, which can be any kind of content: an article, a movie, podcast, book, another post, etc. This tag can also be used for cases of implicit recommendation, where the author is expressing enjoyment of some content but not explicitly recommending it.\n",
    "<quote> this post is quoting text from the reference. Symbols like \">\" or quotation marks are often used to indicate quotations. \n",
    "<question> this post is raising a question or questions about the reference. The content could be a research paper or other media like a podcast, video or blog post.\n",
    "\n",
    "A user will pass in a post, and you should think step by step, before selecting a set of tags for each reference that best that reference's relation with the post.\n",
    "\n",
    "Each reference will be marked by a number for convenient identification, in order of appearance in the post. The first reference will be number 1, the second 2, etc.\n",
    "\n",
    "Your final answer should be structured as follows:\n",
    "Reference Number: (number of current reference)\n",
    "Reasoning Steps: (your reasoning steps)\n",
    "Candidate Tags: (For potential each tag you choose, explain why you chose it.)\n",
    "Final Answer: (a set of final tags, based on the Candidate Tags. The final tags must be included in the Candidate Tags list!)\n",
    "\n",
    "# Input post text:\n",
    "Author: Shashank Gupta ✈️ ICLR'24\n",
    "Content: 🚨New Paper Alert🚨\n",
    "\n",
    "Beware! While personas excel at refining LLM behavior, they can bring deep-rooted biases to the surface, diminishing LLM's core competencies 😲\n",
    "\n",
    "Our study reveals a surprising finding – Personas can degrade LLMs' reasoning by a massive 70%! 🤯\n",
    "\n",
    "🧵https://arxiv.org/abs/2311.04892\n",
    "\n",
    "📌Project: https://allenai.github.io/persona-bias\n",
    "📌Code: https://github.com/allenai/persona-bias\n",
    "📌Dataset: https://huggingface.co/datasets/allenai/persona-bias\n",
    "\n",
    "References:\n",
    "1: https://arxiv.org/abs/2311.04892\n",
    "2: https://allenai.github.io/persona-bias\n",
    "3: https://github.com/allenai/persona-bias\n",
    "4: https://huggingface.co/datasets/allenai/persona-bias\n",
    "\n",
    "# Output:\n",
    "\"\"\""
   ]
  },
  {
   "cell_type": "code",
   "execution_count": 14,
   "metadata": {},
   "outputs": [
    {
     "name": "stdout",
     "output_type": "stream",
     "text": [
      "**Reference 1: https://arxiv.org/abs/2311.0 viciss**\n",
      "\n",
      "Reasoning Steps: The author explicitly mentions a new research paper that reveals a surprising finding about the negative impact of personas on LLMs' reasoning abilities.\n",
      "\n",
      "\n",
      "Candidate Tags: \n",
      "- <announce> - The author is announcing the release of a new research paper.\n",
      "- <review> - The paper is being reviewed by the post.\n",
      "\n",
      "\n",
      "Final Answer: **<announce><review>**\n",
      "\n",
      "\n",
      "**Reference 2: https://allenai.github.io/persona-bias**\n",
      "\n",
      "Reasoning Steps: The project page provides information about the paper and related resources. \n",
      "\n",
      "\n",
      "Candidate Tags: \n",
      "- <review> - The page reviews and summarizes the paper.\n",
      "- <recommendation> - The page recommends the paper.\n",
      "\n",
      "\n",
      "Final Answer: **<review><recommendation>**\n",
      "\n",
      "\n",
      "**Reference 3: https://github.com/allenai/persona-bias**\n",
      "\n",
      "Reasoning Steps: The code page is related to the paper and provides access to the associated code.\n",
      "\n",
      "\n",
      "Candidate Tags: \n",
      "- <review> - The page reviews the paper's code. \n",
      "- <job> - This could potentially be a call for contributions to the project.\n",
      "\n",
      "\n",
      "Final Answer: **<review>**\n",
      "\n",
      "\n",
      "**Reference 4 viciss**\n",
      "\n",
      "Reasoning Steps: The dataset page is associated with the paper and provides access to a dataset used in the paper.\n",
      "\n",
      "\n",
      "Candidate Tags: \n",
      "- <review> - The page could potentially review the dataset's characteristics. \n",
      "- <job> - This could potentially be a call for sharing datasets produced in the paper. \n",
      "\n",
      "\n",
      "Final Answer: **<review>**\n"
     ]
    }
   ],
   "source": [
    "res = parser.chat(test_input_2)\n",
    "print(res)"
   ]
  },
  {
   "cell_type": "code",
   "execution_count": 15,
   "metadata": {},
   "outputs": [
    {
     "name": "stderr",
     "output_type": "stream",
     "text": [
      "\u001b[32m2024-04-22 10:36:06.412\u001b[0m | \u001b[1mINFO    \u001b[0m | \u001b[36mdesci_sense.shared_functions.parsers.multi_chain_parser\u001b[0m:\u001b[36m__init__\u001b[0m:\u001b[36m64\u001b[0m - \u001b[1mInitializing MultiChainParser. PostProcessType=combined\u001b[0m\n",
      "\u001b[32m2024-04-22 10:36:06.415\u001b[0m | \u001b[1mINFO    \u001b[0m | \u001b[36mdesci_sense.shared_functions.parsers.multi_chain_parser\u001b[0m:\u001b[36m__init__\u001b[0m:\u001b[36m71\u001b[0m - \u001b[1mInitializing post parsers...\u001b[0m\n",
      "\u001b[32m2024-04-22 10:36:06.415\u001b[0m | \u001b[1mINFO    \u001b[0m | \u001b[36mdesci_sense.shared_functions.parsers.post_parser_chain\u001b[0m:\u001b[36m__init__\u001b[0m:\u001b[36m26\u001b[0m - \u001b[1mInitializing parser chain 'refs_tagger' \u001b[0m\n",
      "\u001b[32m2024-04-22 10:36:06.453\u001b[0m | \u001b[1mINFO    \u001b[0m | \u001b[36mdesci_sense.shared_functions.parsers.post_parser_chain\u001b[0m:\u001b[36m__init__\u001b[0m:\u001b[36m26\u001b[0m - \u001b[1mInitializing parser chain 'topics' \u001b[0m\n",
      "\u001b[32m2024-04-22 10:36:06.482\u001b[0m | \u001b[1mINFO    \u001b[0m | \u001b[36mdesci_sense.shared_functions.parsers.post_parser_chain\u001b[0m:\u001b[36m__init__\u001b[0m:\u001b[36m26\u001b[0m - \u001b[1mInitializing parser chain 'keywords' \u001b[0m\n"
     ]
    }
   ],
   "source": [
    "config = init_multi_chain_parser_config(llm_type=\"anthropic/claude-3-opus\",\n",
    "                                        post_process_type=\"combined\")\n",
    "multi_chain_parser = MultiChainParser(config)\n",
    "parser = multi_chain_parser.pparsers[\"topics\"]\n"
   ]
  },
  {
   "cell_type": "code",
   "execution_count": 16,
   "metadata": {},
   "outputs": [
    {
     "name": "stdout",
     "output_type": "stream",
     "text": [
      "Reference Number: 1\n",
      "Reasoning Steps:\n",
      "The post is announcing a new research paper, with a link to the paper on arxiv.org. This suggests the post is primarily focused on announcing this new research output.\n",
      "\n",
      "The post also provides a brief summary of the key findings from the paper, discussing how personas can introduce biases and degrade the reasoning abilities of large language models. This suggests there is also some high-level discussion of the paper's contents and implications.\n",
      "\n",
      "Candidate Tags:\n",
      "<announce> - The post is announcing a new research paper, so this tag is clearly applicable.\n",
      "<discussion> - The post provides a brief discussion of the key findings and implications of the paper, so this tag could potentially apply. However, the discussion is fairly brief and high-level, so it may not be substantial enough to warrant this tag.\n",
      "\n",
      "Final Answer: <announce>\n",
      "\n",
      "Reference Number: 2\n",
      "Reasoning Steps: \n",
      "The link points to a webpage that seems to be a project page associated with the research paper. Project pages often provide additional information, demos, or visualizations related to a research project.\n",
      "\n",
      "The post does not provide any additional context about the contents of the project page. It simply links to it along with the paper and other associated resources.\n",
      "\n",
      "Candidate Tags:\n",
      "<announce> - Since the project page is presented alongside the paper as part of the overall research output being announced, this tag could potentially apply. However, the primary focus of the announcement seems to be the paper itself, with the project page playing a secondary role.\n",
      "\n",
      "Final Answer: <announce>\n",
      "\n",
      "Reference Number: 3\n",
      "Reasoning Steps:\n",
      "The link points to a GitHub repository, which typically contains code associated with a research project. \n",
      "\n",
      "The post presents this link after the paper and project page links, suggesting it contains supplementary code for the research being announced.\n",
      "\n",
      "Candidate Tags:  \n",
      "<announce> - Since the code repository is presented alongside the paper as part of the overall research output being announced, this tag could potentially apply. However, as with the project page, the code seems to be a secondary aspect of the announcement.\n",
      "\n",
      "Final Answer: <announce>\n",
      "\n",
      "Reference Number: 4\n",
      "Reasoning Steps:\n",
      "The link points to a dataset on the Hugging Face platform. Datasets are another common type of research output that may be released alongside a paper.\n",
      "\n",
      "As with the code repository, the dataset link is presented as part of the overall research announcement, suggesting it is a supplementary resource associated with the primary paper being announced.\n",
      "\n",
      "Candidate Tags:\n",
      "<announce> - Since the dataset is presented alongside the paper as part of the overall research output being announced, this tag could potentially apply. However, as with the project page and code, the dataset seems to be a secondary aspect of the announcement.\n",
      "\n",
      "Final Answer: <announce>\n"
     ]
    }
   ],
   "source": [
    "res = parser.chat(test_input_2)\n",
    "print(res)"
   ]
  },
  {
   "cell_type": "code",
   "execution_count": 20,
   "metadata": {},
   "outputs": [],
   "source": [
    "test_input_json = \"\"\"\n",
    "You are an expert annotator tasked with converting social media posts about scientific research to a structured semantic format. The post contains external references in the form of links (URLs). Your job is to select, for each reference, the tags best characterizing the relation of the post to the reference.\n",
    "\n",
    "The tags are to be selected from a predefined set of tags. The available tag types are:\n",
    "<announce> the reference is a new research output being announced by the post. The announcement is likely made by the authors but may be a third party. A research output could be a paper, dataset or other type of research that is being announced publicly.\n",
    "<discussion> this post discusses how the cited reference relates to other facts or claims. For example, post might discuss how the cited reference informs questions, provides evidence, or supports or opposes claims.\n",
    "<review> the reference is being reviewed by the post. The reference could be a book, article or movie, or other media content. The review could be positive or negative.\n",
    "<job> the reference is a job listing, for example a call for graduate students or faculty applications.\n",
    "<event> the reference is an invitation to an event, either a real-world or an online event. Any kind of event is relevant, some examples of such events could be seminars, meetups, or hackathons. This tag shold only be used for invitations to events, not for posts describing other kinds of events.\n",
    "<reading> this post describes the reading status of the author in relation to this reference, which could be a book, article or other written media. The author may either have read the reference in the past, is reading the reference in the present, or is looking forward to reading the reference in the future.\n",
    "<listening> this post describes the listening status of the author in relation to this reference, such as a podcast or radio station. The author may have listened to the content in the past, is listening to the content in the present, or is looking forward to listening the content in the future.\n",
    "<watching> this post describes the watching status of the author in relation to this reference, such as a video or movie. The author may have watched the content in the past, is watching the content in the present, or is looking forward to watching the content in the future.\n",
    "<recommendation> The author is recommending the referebce, which can be any kind of content: an article, a movie, podcast, book, another post, etc. This tag can also be used for cases of implicit recommendation, where the author is expressing enjoyment of some content but not explicitly recommending it.\n",
    "<quote> this post is quoting text from the reference. Symbols like \">\" or quotation marks are often used to indicate quotations. \n",
    "<question> this post is raising a question or questions about the reference. The content could be a research paper or other media like a podcast, video or blog post.\n",
    "\n",
    "A user will pass in a post, and you should think step by step, before selecting a set of tags for each reference that best that reference's relation with the post.\n",
    "\n",
    "Each reference will be marked by a number for convenient identification, in order of appearance in the post. The first reference will be number 1, the second 2, etc.\n",
    "\n",
    "Your final answer should be structured as a list of objects in JSON format with the following schema:\n",
    "\n",
    "```\n",
    "class SubAnswer\n",
    "\tref_number: int # ID number of current reference\n",
    "\treasoning_steps: str # your reasoning steps\n",
    "\tcandidate_tags: str # For potential each tag you choose, explain why you chose it.\n",
    "\tfinal_answer: List[str] # a set of final tags, based on the Candidate Tags. The final tags must be included in the Candidate Tags list!\n",
    "```\n",
    "    \n",
    "# Input post text:\n",
    "Author: Yogi Jaeger 💙 @yoginho@spore.social\n",
    "Content: I just (re)discovered this recording of my \"How Organisms Come to Know the World\" talk at the Max Planck in Leipzig in 2022: https://cbs.mpg.de/cbs-coconut/video/jaeger.\n",
    "\n",
    "It covers this paper: https://frontiersin.org/articles/10.3389/fevo.2021.806283/full.\n",
    "\n",
    "A wonderful collaboration with Andrea Roli & Stu Kauffman.\n",
    "\n",
    "References:\n",
    "1: https://cbs.mpg.de/cbs-coconut/video/jaeger\n",
    "2: https://frontiersin.org/articles/10.3389/fevo.2021.806283/full\n",
    "\n",
    "# Output:\n",
    "\"\"\""
   ]
  },
  {
   "cell_type": "code",
   "execution_count": 18,
   "metadata": {},
   "outputs": [
    {
     "name": "stdout",
     "output_type": "stream",
     "text": [
      "Reference Number: 1\n",
      "Reasoning Steps:\n",
      "1. The post announces a new research paper, with a link to the paper on arXiv.\n",
      "2. The post provides a brief summary of the key findings from the paper.\n",
      "3. This reference is the primary focus of the post, with the other references providing supplementary information.\n",
      "\n",
      "Candidate Tags:\n",
      "1. <announce>: The post is announcing a new research paper, which is linked to by this reference. This tag is appropriate because the post is sharing and publicizing this new research output.\n",
      "\n",
      "Final Answer: <announce>\n",
      "\n",
      "Reference Number: 2\n",
      "Reasoning Steps:\n",
      "1. This reference links to a project page related to the research paper announced in the post.\n",
      "2. The project page likely provides additional details, visualizations, or interactive elements to supplement the research paper.\n",
      "3. While related to the main research output, this reference is not the primary focus of the post.\n",
      "\n",
      "Candidate Tags:\n",
      "1. <announce>: While not the main research output, this project page is being announced alongside the paper as a related resource. However, this is a secondary announcement.\n",
      "\n",
      "Final Answer: <announce>\n",
      "\n",
      "Reference Number: 3\n",
      "Reasoning Steps:\n",
      "1. This reference links to the code repository for the research project.\n",
      "2. Sharing the code allows others to reproduce the results and build upon the work.\n",
      "3. The code is a supplementary resource to the main research paper.\n",
      "\n",
      "Candidate Tags:\n",
      "1. <announce>: The code repository is being shared as part of the overall research project announcement. However, like the project page, this is a secondary resource being announced.\n",
      "\n",
      "Final Answer: <announce>\n",
      "\n",
      "Reference Number: 4\n",
      "Reasoning Steps:\n",
      "1. This reference links to the dataset used in the research project.\n",
      "2. Sharing the dataset allows others to explore the data and potentially use it for their own research.\n",
      "3. The dataset is another supplementary resource to the main research paper.\n",
      "\n",
      "Candidate Tags:\n",
      "1. <announce>: The dataset is being shared as part of the overall research project announcement. Like the project page and code, this is a secondary resource being announced.\n",
      "\n",
      "Final Answer: <announce>\n"
     ]
    }
   ],
   "source": [
    "res = parser.chat(test_input_2)\n",
    "print(res)"
   ]
  },
  {
   "cell_type": "code",
   "execution_count": 21,
   "metadata": {},
   "outputs": [
    {
     "name": "stdout",
     "output_type": "stream",
     "text": [
      "Here is the output in the requested JSON format:\n",
      "\n",
      "[\n",
      "  {\n",
      "    \"ref_number\": 1,\n",
      "    \"reasoning_steps\": \"This reference is a link to a video recording of the author giving a talk titled 'How Organisms Come to Know the World' at the Max Planck Institute in Leipzig in 2022. The post indicates the author just rediscovered this recording, implying they had seen it before but are mentioning it again now.\",\n",
      "    \"candidate_tags\": \"<announce> While the author is sharing this video, it doesn't seem to be a new research output they are announcing for the first time, so this tag doesn't fit.\n",
      "<discussion> The post doesn't go into details discussing or relating the content of the talk to other facts or claims. \n",
      "<review> The author expresses no opinion on the quality of the talk, positive or negative, so this is not a review.\n",
      "<recommendation> By sharing the link and drawing attention to it, the author seems to be recommending that others watch this recording of their talk. The positive phrasing 'I just (re)discovered this recording' implies they think it is worth watching.\",\n",
      "    \"final_answer\": [\n",
      "      \"<recommendation>\"\n",
      "    ]\n",
      "  },\n",
      "  {\n",
      "    \"ref_number\": 2,\n",
      "    \"reasoning_steps\": \"This reference links to a paper that the author's talk (linked in the first reference) covers. The post calls this paper 'A wonderful collaboration with Andrea Roli & Stu Kauffman', expressing a positive opinion of the paper.\",\n",
      "    \"candidate_tags\": \"<announce> The post mentions this paper in relation to the talk, but is not announcing it as a new research output.\n",
      "<discussion> The post relates the paper to the talk but does not discuss in detail how it relates to other facts or claims.\n",
      "<review> While the author offers a brief positive comment about the paper, calling it a 'wonderful collaboration', this is not a full review. \n",
      "<recommendation> By describing the paper in very positive terms and linking to it, the author seems to be recommending the paper, though less directly than the video in the first reference.\",\n",
      "    \"final_answer\": [\n",
      "      \"<recommendation>\"\n",
      "    ]\n",
      "  }\n",
      "]\n",
      "\n",
      "In summary, for the first reference to the talk recording, I chose the <recommendation> tag because the author is drawing positive attention to the talk and encouraging others to watch it by sharing the link. \n",
      "\n",
      "For the second reference to the paper, I also chose <recommendation>, as the author links to the paper and describes it very positively as a \"wonderful collaboration\", implicitly recommending it to readers. However, this recommendation is less direct than for the talk recording.\n"
     ]
    }
   ],
   "source": [
    "res = parser.chat(test_input_json)\n",
    "print(res)"
   ]
  }
 ],
 "metadata": {
  "kernelspec": {
   "display_name": "asensebot",
   "language": "python",
   "name": "python3"
  },
  "language_info": {
   "codemirror_mode": {
    "name": "ipython",
    "version": 3
   },
   "file_extension": ".py",
   "mimetype": "text/x-python",
   "name": "python",
   "nbconvert_exporter": "python",
   "pygments_lexer": "ipython3",
   "version": "3.11.7"
  }
 },
 "nbformat": 4,
 "nbformat_minor": 2
}
