{
 "cells": [
  {
   "cell_type": "code",
   "execution_count": 1,
   "metadata": {},
   "outputs": [],
   "source": [
    "import sys\n",
    "sys.path.append(\"../\")\n",
    "\n",
    "from enum import Enum\n",
    "\n",
    "from desci_sense.parsers.multi_stage_parser import MultiStageParser\n",
    "from desci_sense.configs import init_multi_stage_parser_config\n",
    "from desci_sense.web_extractors.metadata_extractors import MetadataExtractionType, RefMetadata, extract_metadata_by_type"
   ]
  },
  {
   "cell_type": "code",
   "execution_count": 2,
   "metadata": {},
   "outputs": [],
   "source": [
    "url = \"https://www.sciencedirect.com/science/article/pii/S2352250X23002324\"\n",
    "md = extract_metadata_by_type(url, MetadataExtractionType.CITOID)"
   ]
  },
  {
   "cell_type": "code",
   "execution_count": 3,
   "metadata": {},
   "outputs": [
    {
     "name": "stdout",
     "output_type": "stream",
     "text": [
      "url: https://www.sciencedirect.com/science/article/pii/S2352250X23002324\n",
      "item_type: journalArticle\n",
      "title: Updating the identity-based model of belief: From false belief to the spread of misinformation\n",
      "summary: The spread of misinformation threatens democratic societies, hampering informed decision-making. Partisan identity biases perceptions of reality, promoting false beliefs. The Identity-based Model of Political Belief explains how social identity shapes information processing and contributes to misinf\n"
     ]
    }
   ],
   "source": [
    "print(md.to_str())"
   ]
  },
  {
   "cell_type": "code",
   "execution_count": 4,
   "metadata": {},
   "outputs": [
    {
     "data": {
      "text/plain": [
       "{'general': {'parser_type': 'multi_stage', 'ref_metadata_method': 'citoid'},\n",
       " 'model': {'model_name': 'mistralai/mistral-7b-instruct', 'temperature': 0.6},\n",
       " 'ontology': {'versions': None},\n",
       " 'prompt': {'template_dir': 'desci_sense/prompting/jinja/',\n",
       "  'zero_ref_template_name': 'zero_ref_template.j2',\n",
       "  'single_ref_template_name': 'single_ref_template.j2',\n",
       "  'multi_ref_template_name': 'multi_ref_template.j2'},\n",
       " 'wandb': {'entity': 'common-sense-makers', 'project': 'st-demo-sandbox'}}"
      ]
     },
     "execution_count": 4,
     "metadata": {},
     "output_type": "execute_result"
    }
   ],
   "source": [
    "config = init_multi_stage_parser_config()\n",
    "config"
   ]
  },
  {
   "cell_type": "code",
   "execution_count": 5,
   "metadata": {},
   "outputs": [
    {
     "name": "stderr",
     "output_type": "stream",
     "text": [
      "\u001b[32m2024-01-30 15:26:53.581\u001b[0m | \u001b[1mINFO    \u001b[0m | \u001b[36mdesci_sense.parsers.multi_stage_parser\u001b[0m:\u001b[36m__init__\u001b[0m:\u001b[36m88\u001b[0m - \u001b[1mLoading parser model (type=mistralai/mistral-7b-instruct)...\u001b[0m\n",
      "WARNING! headers is not default parameter.\n",
      "                    headers was transferred to model_kwargs.\n",
      "                    Please confirm that headers is what you intended.\n",
      "\u001b[32m2024-01-30 15:26:53.594\u001b[0m | \u001b[1mINFO    \u001b[0m | \u001b[36mdesci_sense.parsers.multi_stage_parser\u001b[0m:\u001b[36m__init__\u001b[0m:\u001b[36m98\u001b[0m - \u001b[1mLoading ontology...\u001b[0m\n"
     ]
    }
   ],
   "source": [
    "\n",
    "parser = MultiStageParser(config)"
   ]
  },
  {
   "cell_type": "code",
   "execution_count": 6,
   "metadata": {},
   "outputs": [],
   "source": [
    "from desci_sense.schema.post import RefPost\n",
    "\n",
    "from desci_sense.dataloaders import convert_text_to_ref_post"
   ]
  },
  {
   "cell_type": "code",
   "execution_count": 7,
   "metadata": {},
   "outputs": [],
   "source": [
    "text = \"\"\"Our new paper describes that \"The Identity-based Model of Political Belief\" and explains how social identity shapes information processing and contributes to the belief and spread of #misinformation\n",
    "Partisanship involves cognitive and motivational aspects that shape party members' beliefs and actions. This includes whether they seek further evidence, where they seek that evidence, and which sources they trust. \n",
    "Understanding the interplay between social identity and accuracy is crucial in addressing misinformation.\n",
    "To read the full paper:  https://www.sciencedirect.com/science/article/pii/S2352250X23002324\"\"\""
   ]
  },
  {
   "cell_type": "code",
   "execution_count": 8,
   "metadata": {},
   "outputs": [
    {
     "data": {
      "text/plain": [
       "RefPost(author='deafult_author', content='Our new paper describes that \"The Identity-based Model of Political Belief\" and explains how social identity shapes information processing and contributes to the belief and spread of #misinformation\\nPartisanship involves cognitive and motivational aspects that shape party members\\' beliefs and actions. This includes whether they seek further evidence, where they seek that evidence, and which sources they trust. \\nUnderstanding the interplay between social identity and accuracy is crucial in addressing misinformation.\\nTo read the full paper:  https://www.sciencedirect.com/science/article/pii/S2352250X23002324', url='', source_network='default_source', ref_urls=['https://www.sciencedirect.com/science/article/pii/S2352250X23002324'])"
      ]
     },
     "execution_count": 8,
     "metadata": {},
     "output_type": "execute_result"
    }
   ],
   "source": [
    "rp = convert_text_to_ref_post(text)\n",
    "rp"
   ]
  },
  {
   "cell_type": "code",
   "execution_count": 9,
   "metadata": {},
   "outputs": [],
   "source": [
    "from desci_sense.parsers.multi_stage_parser import PromptCase"
   ]
  },
  {
   "cell_type": "code",
   "execution_count": 18,
   "metadata": {},
   "outputs": [],
   "source": [
    "res = parser.process_by_case(rp, PromptCase.SINGLE_REF, metadata_list=[md])"
   ]
  },
  {
   "cell_type": "code",
   "execution_count": 19,
   "metadata": {},
   "outputs": [
    {
     "name": "stdout",
     "output_type": "stream",
     "text": [
      "[Reasoning Steps]\n",
      "\n",
      "1. The post refers to a scientific paper titled \"Updating the identity-based model of belief: From false belief to the spread of misinformation\" and provides a brief summary of its content.\n",
      "2. The paper discusses the role of social identity in shaping information processing and contributing to the belief and spread of misinformation.\n",
      "3. The author of the post is likely interested in the paper and is sharing it with others.\n",
      "4. The post does not contain any direct recommendation or review of the paper.\n",
      "5. The post does not contain any direct question or discussion about the paper.\n",
      "6. The post does not contain any direct quote from the paper.\n",
      "7. The post does not contain any direct event or job announcement related to the paper.\n",
      "\n",
      "[Candidate Tags]\n",
      "\n",
      "1. <reading>: This tag is suitable as the author of the post is likely interested in the paper and is sharing it with others.\n",
      "2. <announce>: This tag is also suitable as the post is about a new research paper.\n"
     ]
    }
   ],
   "source": [
    "print(res[\"answer\"][\"reasoning\"])"
   ]
  },
  {
   "cell_type": "code",
   "execution_count": 20,
   "metadata": {},
   "outputs": [
    {
     "name": "stdout",
     "output_type": "stream",
     "text": [
      "<reading>, <announce>\n"
     ]
    }
   ],
   "source": [
    "print(res[\"answer\"][\"final_answer\"])"
   ]
  },
  {
   "cell_type": "code",
   "execution_count": 21,
   "metadata": {},
   "outputs": [
    {
     "name": "stdout",
     "output_type": "stream",
     "text": [
      "You are an expert annotator tasked with converting social media posts about scientific research to a structured semantic format. The input post contains a reference to an external URL. Your job is to select the tags best characterizing the relation of the post to the external reference, from a predefined set of tags. \n",
      "\n",
      "The available tag types are:\n",
      "<watching>: this post describes the watching status of the author in relation to a reference, such as a video or movie. The author may have watched the content in the past, is watching the content in the present, or is looking forward to watching the content in the future.\n",
      "<reading>: this post describes the reading status of the author in relation to a reference, such as a book or article. The author may either have read the reference in the past, is reading the reference in the present, or is looking forward to reading the reference in the future.\n",
      "<listening>: this post describes the listening status of the author in relation to a reference, such as a podcast or radio station. The author may have listened to the content in the past, is listening to the content in the present, or is looking forward to listening the content in the future.\n",
      "<other>: This is a special tag. Use this tag if none of the tags above are suitable.\n",
      "<review>: this post contains a review of another reference, such as a book, article or movie. The review could be positive or negative. A review can be detailed or a simple short endorsement.\n",
      "<recommendation>: The author is recommending any kind of content: an article, a movie, podcast, book, another post, etc. This tag can also be used for cases of implicit recommendation, where the author is expressing enjoyment of some content but not explicitly recommending it.\n",
      "<question>: this post is raising a question or questions about some content it's referring to. The content could be a research paper or other media like a podcast, video or blog post.\n",
      "<quote>: this post is quoting text from an article it's referring to. Symbols like \">\" or quotation marks are often used to indicate quotations.\n",
      "<discussion>: this post discusses how the cited reference relates to other facts or claims. For example, post might discuss how the cited reference informs questions, provides evidence, or supports or opposes claims.\n",
      "<event>: this post includes an invitation to an event, either a real-world or an online event. Any kind of event is relevant, some examples of such events could be seminars, meetups, or hackathons. This tag shold only be used for invitations to events, not for posts describing other kinds of events.\n",
      "<job>: this post describes a job listing, for example a call for graduate students or faculty applications.\n",
      "<announce>: this post contains an announcement of new research. The announcement is likely made by the authors but may be a third party. We use a broad definition of research that includes classic and non-traditional outputs. Classic outputs include papers, datasets or code. Non traditional outputs can include a podcast, blog post, video explainers, etc.\n",
      "\n",
      "A user will pass in a post, and you should think step by step, before selecting a set of tags that best match the post.\n",
      "\n",
      "Your final answer should be structured as follows:\n",
      "Reasoning Steps: (your reasoning steps)\n",
      "Candidate Tags: (For potential each tag you choose, explain why you chose it.)\n",
      "Final Answer: (a set of final tags, based on the Candidate Tags. The final tags must be included in the Candidate Tags list!)\n",
      "\n",
      "# Input post text:\n",
      "Author: deafult_author\n",
      "Content: Our new paper describes that \"The Identity-based Model of Political Belief\" and explains how social identity shapes information processing and contributes to the belief and spread of #misinformation\n",
      "Partisanship involves cognitive and motivational aspects that shape party members' beliefs and actions. This includes whether they seek further evidence, where they seek that evidence, and which sources they trust. \n",
      "Understanding the interplay between social identity and accuracy is crucial in addressing misinformation.\n",
      "To read the full paper:  https://www.sciencedirect.com/science/article/pii/S2352250X23002324\n",
      "\n",
      " \n",
      "## Reference Metadata:\n",
      "\n",
      "url: https://www.sciencedirect.com/science/article/pii/S2352250X23002324\n",
      "item_type: journalArticle\n",
      "title: Updating the identity-based model of belief: From false belief to the spread of misinformation\n",
      "summary: The spread of misinformation threatens democratic societies, hampering informed decision-making. Partisan identity biases perceptions of reality, promoting false beliefs. The Identity-based Model of Political Belief explains how social identity shapes information processing and contributes to misinf\n",
      "\n",
      "\n",
      "\n",
      "\n",
      "# Output:\n"
     ]
    }
   ],
   "source": [
    "print(res[\"full_prompt\"])"
   ]
  },
  {
   "cell_type": "code",
   "execution_count": 14,
   "metadata": {},
   "outputs": [
    {
     "data": {
      "text/plain": [
       "[{'display_name': '⬛ possible-missing-reference',\n",
       "  'URI': None,\n",
       "  'label': 'missing-ref',\n",
       "  'prompt': 'this post seems to be referring to a reference by name but has not explicitly provided a URL link to the reference. For example, a post that discusses a book and mentions it by title, but contains no link to the book.',\n",
       "  'notes': None,\n",
       "  'valid_subject_types': ['post'],\n",
       "  'valid_object_types': ['nan'],\n",
       "  'versions': ['v0']},\n",
       " {'display_name': '🔭 discourse-graph/observation',\n",
       "  'URI': None,\n",
       "  'label': 'dg-observation',\n",
       "  'prompt': 'this post is articulating a single, highly observation. The intuition is that observation notes should be as close to “the data” as possible. They should be similar to how results are described in results sections of academic publications.',\n",
       "  'notes': None,\n",
       "  'valid_subject_types': ['post'],\n",
       "  'valid_object_types': ['nan'],\n",
       "  'versions': ['v0']},\n",
       " {'display_name': '🫴 discourse-graph/claim',\n",
       "  'URI': None,\n",
       "  'label': 'dg-claim',\n",
       "  'prompt': 'this post is articulating an idea or a claim',\n",
       "  'notes': None,\n",
       "  'valid_subject_types': ['post'],\n",
       "  'valid_object_types': ['nan'],\n",
       "  'versions': ['v0']},\n",
       " {'display_name': ' ❓ discourse-graph/question',\n",
       "  'URI': None,\n",
       "  'label': 'dg-question',\n",
       "  'prompt': 'this post is raising a research question.',\n",
       "  'notes': None,\n",
       "  'valid_subject_types': ['post'],\n",
       "  'valid_object_types': ['nan'],\n",
       "  'versions': ['v0']},\n",
       " {'display_name': '🔗 links-to',\n",
       "  'URI': 'https://sparontologies.github.io/cito/current/cito.html#d4e1159',\n",
       "  'label': 'other',\n",
       "  'prompt': 'This is a special tag. Use this tag if none of the tags above are suitable.',\n",
       "  'notes': 'default predicate for a mention of a URL (always applicable)',\n",
       "  'valid_subject_types': ['post'],\n",
       "  'valid_object_types': ['ref', 'nan'],\n",
       "  'versions': ['v0']}]"
      ]
     },
     "execution_count": 14,
     "metadata": {},
     "output_type": "execute_result"
    }
   ],
   "source": [
    "parser.prompt_case_dict[PromptCase.ZERO_REF][\"type_templates\"]"
   ]
  },
  {
   "cell_type": "code",
   "execution_count": 15,
   "metadata": {},
   "outputs": [
    {
     "data": {
      "text/plain": [
       "dict_keys([<PromptCase.ZERO_REF: 'ZERO_REF'>, <PromptCase.SINGLE_REF: 'SINGLE_REF'>])"
      ]
     },
     "execution_count": 15,
     "metadata": {},
     "output_type": "execute_result"
    }
   ],
   "source": [
    "parser.prompt_case_dict.keys()"
   ]
  },
  {
   "cell_type": "code",
   "execution_count": 16,
   "metadata": {},
   "outputs": [],
   "source": [
    "class MetadataExtractionType(Enum):\n",
    "    NONE = \"none\"\n",
    "    CITOID = \"citoid\""
   ]
  },
  {
   "cell_type": "code",
   "execution_count": 17,
   "metadata": {},
   "outputs": [
    {
     "data": {
      "text/plain": [
       "<MetadataExtractionType.NONE: 'none'>"
      ]
     },
     "execution_count": 17,
     "metadata": {},
     "output_type": "execute_result"
    }
   ],
   "source": [
    "MetadataExtractionType(MetadataExtractionType.NONE.value)"
   ]
  }
 ],
 "metadata": {
  "kernelspec": {
   "display_name": "twscraping",
   "language": "python",
   "name": "python3"
  },
  "language_info": {
   "codemirror_mode": {
    "name": "ipython",
    "version": 3
   },
   "file_extension": ".py",
   "mimetype": "text/x-python",
   "name": "python",
   "nbconvert_exporter": "python",
   "pygments_lexer": "ipython3",
   "version": "3.11.5"
  }
 },
 "nbformat": 4,
 "nbformat_minor": 2
}
