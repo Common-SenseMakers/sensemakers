{
 "cells": [
  {
   "cell_type": "code",
   "execution_count": 1,
   "metadata": {},
   "outputs": [],
   "source": [
    "import nest_asyncio\n",
    "nest_asyncio.apply()"
   ]
  },
  {
   "cell_type": "code",
   "execution_count": 2,
   "metadata": {},
   "outputs": [],
   "source": [
    "import sys\n",
    "sys.path.append(\"../\")\n",
    "\n",
    "import asyncio\n",
    "import time\n",
    "from typing import List, Optional, Dict\n",
    "from pydantic import (\n",
    "    Field,\n",
    "    BaseModel,\n",
    "    validator,\n",
    "    ConfigDict,\n",
    "    field_validator,\n",
    "    field_serializer,\n",
    ")\n",
    "from langchain_core.runnables import RunnableParallel\n",
    "\n",
    "from desci_sense.configs import default_init_parser_config\n",
    "from desci_sense.shared_functions.dataloaders import scrape_post\n",
    "from desci_sense.shared_functions.schema.post import RefPost\n",
    "from desci_sense.shared_functions.parsers.firebase_api_parser import FirebaseAPIParser, PromptCase\n",
    "from desci_sense.shared_functions.web_extractors.metadata_extractors import (\n",
    "    RefMetadata,\n",
    ")"
   ]
  },
  {
   "cell_type": "code",
   "execution_count": 3,
   "metadata": {},
   "outputs": [],
   "source": [
    "config = default_init_parser_config(semantics_model=\"mistralai/mistral-7b-instruct\",\n",
    "                                    kw_model=\"mistralai/mistral-7b-instruct\")\n",
    "config[\"general\"][\"ref_metadata_method\"] = \"citoid\""
   ]
  },
  {
   "cell_type": "code",
   "execution_count": 4,
   "metadata": {},
   "outputs": [],
   "source": [
    "# get a few posts for input\n",
    "urls = [\"https://mastodon.social/@psmaldino@qoto.org/111405098400404613\",\n",
    "        \"https://mastodon.social/@UlrikeHahn@fediscience.org/111732713776994953\",\n",
    "        \"https://mastodon.social/@ronent/111687038322549430\"]\n",
    "posts = [scrape_post(url) for url in urls]"
   ]
  },
  {
   "cell_type": "code",
   "execution_count": 5,
   "metadata": {},
   "outputs": [
    {
     "data": {
      "text/plain": [
       "3"
      ]
     },
     "execution_count": 5,
     "metadata": {},
     "output_type": "execute_result"
    }
   ],
   "source": [
    "len(posts)"
   ]
  },
  {
   "cell_type": "code",
   "execution_count": 6,
   "metadata": {},
   "outputs": [
    {
     "name": "stderr",
     "output_type": "stream",
     "text": [
      "\u001b[32m2024-03-19 21:20:45.638\u001b[0m | \u001b[1mINFO    \u001b[0m | \u001b[36mdesci_sense.shared_functions.parsers.firebase_api_parser\u001b[0m:\u001b[36mset_md_extract_method\u001b[0m:\u001b[36m156\u001b[0m - \u001b[1mSetting metadata extraction method to citoid...\u001b[0m\n",
      "\u001b[32m2024-03-19 21:20:45.639\u001b[0m | \u001b[1mINFO    \u001b[0m | \u001b[36mdesci_sense.shared_functions.parsers.firebase_api_parser\u001b[0m:\u001b[36m__init__\u001b[0m:\u001b[36m116\u001b[0m - \u001b[1mLoading parser model (type=mistralai/mistral-7b-instruct)...\u001b[0m\n",
      "/Users/ronentamari/anaconda3/envs/asensebot/lib/python3.11/site-packages/langchain_core/_api/deprecation.py:117: LangChainDeprecationWarning: The class `langchain_community.chat_models.openai.ChatOpenAI` was deprecated in langchain-community 0.0.10 and will be removed in 0.2.0. An updated version of the class exists in the langchain-openai package and should be used instead. To use it run `pip install -U langchain-openai` and import as `from langchain_openai import ChatOpenAI`.\n",
      "  warn_deprecated(\n",
      "\u001b[32m2024-03-19 21:20:45.898\u001b[0m | \u001b[1mINFO    \u001b[0m | \u001b[36mdesci_sense.shared_functions.parsers.firebase_api_parser\u001b[0m:\u001b[36mset_kw_md_extract_method\u001b[0m:\u001b[36m160\u001b[0m - \u001b[1mSetting keywords metadata extraction method to citoid...\u001b[0m\n",
      "\u001b[32m2024-03-19 21:20:45.898\u001b[0m | \u001b[1mINFO    \u001b[0m | \u001b[36mdesci_sense.shared_functions.parsers.firebase_api_parser\u001b[0m:\u001b[36minit_keyword_extraction_chain\u001b[0m:\u001b[36m450\u001b[0m - \u001b[1mLoading keyword model (type=mistralai/mistral-7b-instruct)...\u001b[0m\n",
      "\u001b[32m2024-03-19 21:20:45.924\u001b[0m | \u001b[1mINFO    \u001b[0m | \u001b[36mdesci_sense.shared_functions.parsers.firebase_api_parser\u001b[0m:\u001b[36m__init__\u001b[0m:\u001b[36m133\u001b[0m - \u001b[1mLoading ontology...\u001b[0m\n"
     ]
    }
   ],
   "source": [
    "parser = FirebaseAPIParser(config=config)"
   ]
  },
  {
   "cell_type": "code",
   "execution_count": 7,
   "metadata": {},
   "outputs": [
    {
     "data": {
      "text/plain": [
       "<MetadataExtractionType.CITOID: 'citoid'>"
      ]
     },
     "execution_count": 7,
     "metadata": {},
     "output_type": "execute_result"
    }
   ],
   "source": [
    "parser.md_extract_method"
   ]
  },
  {
   "cell_type": "code",
   "execution_count": 10,
   "metadata": {},
   "outputs": [
    {
     "name": "stderr",
     "output_type": "stream",
     "text": [
      "\u001b[32m2024-03-19 21:23:04.692\u001b[0m | \u001b[34m\u001b[1mDEBUG   \u001b[0m | \u001b[36mdesci_sense.shared_functions.web_extractors.citoid\u001b[0m:\u001b[36mfetch_citation_async\u001b[0m:\u001b[36m20\u001b[0m - \u001b[34m\u001b[1mtarget_url=https://write.as/ulrikehahn/some-thoughts-on-social-media-for-science\u001b[0m\n",
      "\u001b[32m2024-03-19 21:23:04.693\u001b[0m | \u001b[34m\u001b[1mDEBUG   \u001b[0m | \u001b[36mdesci_sense.shared_functions.web_extractors.citoid\u001b[0m:\u001b[36mfetch_citation_async\u001b[0m:\u001b[36m20\u001b[0m - \u001b[34m\u001b[1mtarget_url=https://paragraph.xyz/@sense-nets/sense-nets-intro\u001b[0m\n",
      "\u001b[32m2024-03-19 21:23:04.693\u001b[0m | \u001b[34m\u001b[1mDEBUG   \u001b[0m | \u001b[36mdesci_sense.shared_functions.web_extractors.citoid\u001b[0m:\u001b[36mfetch_citation_async\u001b[0m:\u001b[36m20\u001b[0m - \u001b[34m\u001b[1mtarget_url=https://royalsocietypublishing.org/doi/10.1098/rstb.2022.0267\u001b[0m\n",
      "\u001b[32m2024-03-19 21:23:04.694\u001b[0m | \u001b[34m\u001b[1mDEBUG   \u001b[0m | \u001b[36mdesci_sense.shared_functions.web_extractors.citoid\u001b[0m:\u001b[36mfetch_citation_async\u001b[0m:\u001b[36m20\u001b[0m - \u001b[34m\u001b[1mtarget_url=https://paragraph.xyz/@sense-nets/2-project-plan\u001b[0m\n"
     ]
    }
   ],
   "source": [
    "res = parser.abatch_process_ref_post(posts)"
   ]
  },
  {
   "cell_type": "code",
   "execution_count": 12,
   "metadata": {},
   "outputs": [
    {
     "data": {
      "text/plain": [
       "['webpage', 'webpage']"
      ]
     },
     "execution_count": 12,
     "metadata": {},
     "output_type": "execute_result"
    }
   ],
   "source": [
    "res[2].item_types"
   ]
  },
  {
   "cell_type": "code",
   "execution_count": 10,
   "metadata": {},
   "outputs": [
    {
     "data": {
      "text/plain": [
       "{'https://paragraph.xyz/@sense-nets/sense-nets-intro': RefMetadata(citoid_url='https://paragraph.xyz/@sense-nets/sense-nets-intro', url='https://paragraph.xyz/@sense-nets/sense-nets-intro', item_type='webpage', title='Sensemaking Networks: Project Introduction', summary='Incorporating science social media into the scientific process', image=''),\n",
       " 'https://write.as/ulrikehahn/some-thoughts-on-social-media-for-science': RefMetadata(citoid_url='https://write.as/ulrikehahn/some-thoughts-on-social-media-for-science', url='https://write.as/ulrikehahn/some-thoughts-on-social-media-for-science', item_type='webpage', title='Some Thoughts on Social Media for Science', summary='What follows are some more or less connected thoughts on what social media for science could and should be. There are excellent articulat...', image=''),\n",
       " 'https://paragraph.xyz/@sense-nets/2-project-plan': RefMetadata(citoid_url='https://paragraph.xyz/@sense-nets/2-project-plan', url='https://paragraph.xyz/@sense-nets/2-project-plan', item_type='webpage', title='Part 2: Sensemaking Networks Project Plan', summary='Integrating fragmented science social media and reducing the barriers to semantic publishing', image=''),\n",
       " 'https://royalsocietypublishing.org/doi/10.1098/rstb.2022.0267': RefMetadata(citoid_url='https://royalsocietypublishing.org/doi/10.1098/rstb.2022.0267', url='https://royalsocietypublishing.org/doi/10.1098/rstb.2022.0267', item_type='journalArticle', title='Reducing global inequality increases local cooperation: a simple model of group selection with a global externality', summary='', image='')}"
      ]
     },
     "execution_count": 10,
     "metadata": {},
     "output_type": "execute_result"
    }
   ],
   "source": [
    "md_dict"
   ]
  },
  {
   "cell_type": "code",
   "execution_count": 10,
   "metadata": {},
   "outputs": [
    {
     "data": {
      "text/plain": [
       "{'general': {'parser_type': 'multi_stage',\n",
       "  'ref_metadata_method': 'none',\n",
       "  'max_summary_length': 500},\n",
       " 'keyword_extraction': {'enabled': True,\n",
       "  'template': 'keywords_extraction.j2',\n",
       "  'ref_metadata_method': 'citoid',\n",
       "  'max_keywords': 6,\n",
       "  'model': {'model_name': 'mistralai/mistral-7b-instruct',\n",
       "   'temperature': 0.6}},\n",
       " 'model': {'model_name': 'mistralai/mistral-7b-instruct', 'temperature': 0.6},\n",
       " 'ontology': {'versions': None, 'notion_db_id': None},\n",
       " 'openai_api': {'openai_api_base': 'https://openrouter.ai/api/v1',\n",
       "  'openai_api_key': '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',\n",
       "  'openai_api_referer': 'http://localhost:3000'},\n",
       " 'wandb': {'entity': 'common-sense-makers', 'project': 'st-demo-sandbox'}}"
      ]
     },
     "execution_count": 10,
     "metadata": {},
     "output_type": "execute_result"
    }
   ],
   "source": [
    "config"
   ]
  },
  {
   "cell_type": "code",
   "execution_count": 11,
   "metadata": {},
   "outputs": [
    {
     "data": {
      "text/plain": [
       "['indicates-interest']"
      ]
     },
     "execution_count": 11,
     "metadata": {},
     "output_type": "execute_result"
    }
   ],
   "source": [
    "res[2].semantic_tags"
   ]
  },
  {
   "cell_type": "code",
   "execution_count": 25,
   "metadata": {},
   "outputs": [],
   "source": [
    "class StreamlitParserResults(BaseModel):\n",
    "    research_filter: str\n",
    "    item_types: List[str]\n",
    "    reference_urls: List[str]\n",
    "    semantic_tags: List[str]\n",
    "    keywords: List[str]\n",
    "    debug: Optional[Dict] = Field(default_factory=dict)\n"
   ]
  },
  {
   "cell_type": "code",
   "execution_count": null,
   "metadata": {},
   "outputs": [],
   "source": []
  },
  {
   "cell_type": "code",
   "execution_count": 26,
   "metadata": {},
   "outputs": [],
   "source": [
    "def convert_raw_output_to_st_format(post: RefPost, \n",
    "                                    sem_prompt: str,\n",
    "                                    kw_prompt: str,\n",
    "    output: dict, md_dict: Dict[str, RefMetadata]\n",
    "):\n",
    "    reference_urls = post.ref_urls\n",
    "    item_types = [md_dict[url].item_type for url in reference_urls]\n",
    "    semantic_tags = output[\"semantics\"][\"multi_tag\"]\n",
    "    keywords = output[\"keywords\"][\"valid_keywords\"]\n",
    "    research_filter = output[\"keywords\"][\"academic_kw\"]\n",
    "    debug = {\"semantics\": {\"prompt\": sem_prompt, \"reasoning\": output[\"semantics\"][\"reasoning\"],\n",
    "                           \"allowed_tags\": output[\"semantics\"][\"allowed_tags\"]}, \n",
    "             \"kw_prompt\": {\"prompt\": kw_prompt, \"reasoning\": output[\"keywords\"][\"reasoning\"]}}\n",
    "    return StreamlitParserResults(\n",
    "        research_filter=research_filter,\n",
    "        item_types=item_types,\n",
    "        reference_urls=reference_urls,\n",
    "        semantic_tags=semantic_tags,\n",
    "        keywords=keywords,\n",
    "        debug=debug\n",
    "    )"
   ]
  },
  {
   "cell_type": "code",
   "execution_count": 27,
   "metadata": {},
   "outputs": [],
   "source": [
    "def convert_raw_outputs_to_st_format(\n",
    "    posts: List[RefPost], outputs: List[dict], prompts, md_dict: Dict[str, RefMetadata]\n",
    ") -> List[StreamlitParserResults]:\n",
    "    assert len(prompts) == len(outputs)\n",
    "    assert len(posts) == len(outputs)\n",
    "    st_results = []\n",
    "    for post, output, prompt_dict in zip(posts, outputs, prompts):\n",
    "        st_result = convert_raw_output_to_st_format(post, \n",
    "                                        prompt_dict[\"input\"],\n",
    "                                        prompt_dict[\"kw_input\"],\n",
    "                                        output,\n",
    "                                        md_dict)\n",
    "        st_results.append(st_result)\n",
    "    return st_results\n",
    "\n",
    "\n",
    "\n",
    "\n",
    "\n",
    "\n",
    "\n"
   ]
  },
  {
   "cell_type": "code",
   "execution_count": null,
   "metadata": {},
   "outputs": [],
   "source": []
  },
  {
   "cell_type": "code",
   "execution_count": 16,
   "metadata": {},
   "outputs": [],
   "source": [
    "item = res[0]"
   ]
  },
  {
   "cell_type": "code",
   "execution_count": 21,
   "metadata": {},
   "outputs": [
    {
     "data": {
      "text/plain": [
       "{'semantics': {'reasoning': \"[Reasoning Steps]\\n\\n1. The author, Paul Smaldino, is an expert in the field of public goods and social choice theory.\\n2. The content refers to a new paper that Smaldino has co-authored with Karolina Safarzynska.\\n3. The paper discusses a simple model of a group-structured public good with externalities shifting benefits toward more inequality or more equity.\\n4. The paper also explores the impact of redistributional externalities on cooperation in the model.\\n\\n[Candidate Tags]\\n\\n1. <call-for-papers>: This tag is not suitable as the post does not contain a call for research papers.\\n2. <endorses>: This tag is not suitable as the post does not explicitly endorse the referenced paper.\\n3. <disagrees>: This tag is not suitable as the post does not dispute or express disagreement with the referenced paper.\\n4. <agrees>: This tag is not suitable as the post does not express agreement with the referenced paper.\\n5. <indicates-interest>: This tag is not suitable as the post does not indicate interest in the referenced paper.\\n6. <funding>: This tag is not suitable as the post does not mention a funding opportunity.\\n7. <watching>: This tag is not suitable as the post does not describe the author's watching status in relation to the referenced paper.\\n8. <reading>: This tag is not suitable as the post does not describe the author's reading status in relation to the referenced paper.\\n9. <listening>: This tag is not suitable as the post does not describe the author's listening status in relation to the referenced paper.\\n10. <default>: This tag is not suitable as there are other tags that better characterize the relation of the post to the external reference.\\n11. <review>: This tag is not suitable as the post does not contain a review of the referenced paper.\\n12. <recommendation>: This tag is not suitable as the post does not recommend any kind of content.\\n13. <question>: This tag is not suitable as the post does not raise any questions about the referenced paper.\\n14. <quote>: This tag is not suitable as the post does not quote text from the referenced paper.\\n15. <discussion>: This tag is suitable as the post discusses how the referenced paper relates to other facts or claims.\\n16. <event>: This tag is not suitable as the post does not include an invitation to an event.\\n17. <job>: This tag is not suitable as the post does not describe a job listing.\\n18. <announce>: This tag is suitable as the post contains an announcement of a new research paper.\",\n",
       "  'final_answer': '<announce>',\n",
       "  'single_tag': ['announce'],\n",
       "  'multi_tag': ['announce'],\n",
       "  'allowed_tags': ['call-for-papers',\n",
       "   'endorses',\n",
       "   'disagrees',\n",
       "   'agrees',\n",
       "   'indicates-interest',\n",
       "   'funding',\n",
       "   'watching',\n",
       "   'reading',\n",
       "   'listening',\n",
       "   'default',\n",
       "   'review',\n",
       "   'recommendation',\n",
       "   'question',\n",
       "   'quote',\n",
       "   'discussion',\n",
       "   'event',\n",
       "   'job',\n",
       "   'announce']},\n",
       " 'keywords': {'reasoning': \"[Reasoning Steps]\\n\\n1. The post discusses a new paper by Paul Smaldino and Karolina Safarzynska that was published in Phil Trans B.\\n2. The paper focuses on a simple model of a group-structured public good with externalities shifting benefits toward more inequality or more equity.\\n3. The post mentions that only redistributional externalities increase cooperation, suggesting that the paper's findings are related to the study of cooperation and social norms.\\n4. The post also includes a link to the paper, which provides more detail on the authors' findings.\\n\\n[Candidate Keywords]\\n\\n1. #public-goods\\n2. #externalities\\n3. #inequality\\n4. #equity\\n5. #cooperation\\n6. #social-norms\",\n",
       "  'final_answer': \"1. #public-goods\\n2. #externalities\\n3. #inequality\\n4. #equity\\n5. #cooperation\\n6. #social-norms\\n7. #academic\\n\\nNote: The post is related to academic research, so the '#academic' keyword is included in the final answer.\",\n",
       "  'valid_keywords': ['externalities',\n",
       "   'inequality',\n",
       "   'equity',\n",
       "   'cooperation',\n",
       "   'public-goods',\n",
       "   'social-norms'],\n",
       "  'academic_kw': 'academic',\n",
       "  'raw_text': \"Reasoning Steps:\\n\\n1. The post discusses a new paper by Paul Smaldino and Karolina Safarzynska that was published in Phil Trans B.\\n2. The paper focuses on a simple model of a group-structured public good with externalities shifting benefits toward more inequality or more equity.\\n3. The post mentions that only redistributional externalities increase cooperation, suggesting that the paper's findings are related to the study of cooperation and social norms.\\n4. The post also includes a link to the paper, which provides more detail on the authors' findings.\\n\\nCandidate Keywords:\\n\\n1. #public-goods\\n2. #externalities\\n3. #inequality\\n4. #equity\\n5. #cooperation\\n6. #social-norms\\n\\nFinal Answer:\\n\\n1. #public-goods\\n2. #externalities\\n3. #inequality\\n4. #equity\\n5. #cooperation\\n6. #social-norms\\n7. #academic\\n\\nNote: The post is related to academic research, so the '#academic' keyword is included in the final answer.\"}}"
      ]
     },
     "execution_count": 21,
     "metadata": {},
     "output_type": "execute_result"
    }
   ],
   "source": [
    "item"
   ]
  },
  {
   "cell_type": "code",
   "execution_count": 18,
   "metadata": {},
   "outputs": [
    {
     "data": {
      "text/plain": [
       "['announce']"
      ]
     },
     "execution_count": 18,
     "metadata": {},
     "output_type": "execute_result"
    }
   ],
   "source": [
    "item[\"semantics\"][\"multi_tag\"]"
   ]
  },
  {
   "cell_type": "code",
   "execution_count": null,
   "metadata": {},
   "outputs": [],
   "source": []
  },
  {
   "cell_type": "code",
   "execution_count": null,
   "metadata": {},
   "outputs": [],
   "source": []
  },
  {
   "cell_type": "code",
   "execution_count": 14,
   "metadata": {},
   "outputs": [],
   "source": [
    "\n",
    "run_cost = 0.00021 * 2"
   ]
  },
  {
   "cell_type": "code",
   "execution_count": 15,
   "metadata": {},
   "outputs": [
    {
     "data": {
      "text/plain": [
       "0.8400000000000001"
      ]
     },
     "execution_count": 15,
     "metadata": {},
     "output_type": "execute_result"
    }
   ],
   "source": [
    "2000 * run_cost"
   ]
  },
  {
   "cell_type": "code",
   "execution_count": 8,
   "metadata": {},
   "outputs": [
    {
     "name": "stdout",
     "output_type": "stream",
     "text": [
      "## Reasoning Steps:\n",
      "\n",
      "Based on the input post, the following keywords can be assigned:\n",
      "\n",
      "* #SensemakingNetworks\n",
      "* #AsteraInstitute\n",
      "* #ScienceResearch\n",
      "* #BlogPost\n",
      "* #ScienceCommunity\n",
      "* #NewYear\n",
      "* #Excited\n",
      "\n",
      "## Candidate Keywords:\n",
      "\n",
      "1. #SensemakingNetworks: The post mentions the author's upcoming project on Sensemaking Networks, which is likely related to scientific research.\n",
      "2. #AsteraInstitute: The post mentions the author's work at AsteraInstitute, which suggests that the post is related to academic research.\n",
      "3. #ScienceResearch: The post mentions \"science research,\" indicating that the author is working on a research project.\n",
      "4. #BlogPost: The post mentions that the author is crossposting from Birdsite, which suggests that the post is a blog post.\n",
      "5. #ScienceCommunity: The post mentions the science community, indicating that the author is part of the scientific community.\n",
      "6. #NewYear: The post mentions the new year, which suggests that the author is looking forward to the future.\n",
      "7. #Excited: The post mentions that the author is excited, which suggests that they are enthusiastic about their upcoming project.\n",
      "\n",
      "## Final Answer:\n",
      "\n",
      "* #SensemakingNetworks\n",
      "* #AsteraInstitute\n",
      "* #ScienceResearch\n",
      "* #BlogPost\n",
      "* #ScienceCommunity\n",
      "* #NewYear\n",
      "* #Excited\n",
      "* #academic\n"
     ]
    }
   ],
   "source": [
    "print(res[2]['keywords']['raw_text'])"
   ]
  },
  {
   "cell_type": "code",
   "execution_count": 9,
   "metadata": {},
   "outputs": [
    {
     "data": {
      "text/plain": [
       "{'reasoning': '[Reasoning Steps]\\n\\nBased on the input post, the following keywords can be assigned:\\n\\n* #SensemakingNetworks\\n* #AsteraInstitute\\n* #ScienceResearch\\n* #BlogPost\\n* #ScienceCommunity\\n* #NewYear\\n* #Excited\\n\\n##\\n\\n[Candidate Keywords]\\n\\n1. #SensemakingNetworks: The post mentions the author\\'s upcoming project on Sensemaking Networks, which is likely related to scientific research.\\n2. #AsteraInstitute: The post mentions the author\\'s work at AsteraInstitute, which suggests that the post is related to academic research.\\n3. #ScienceResearch: The post mentions \"science research,\" indicating that the author is working on a research project.\\n4. #BlogPost: The post mentions that the author is crossposting from Birdsite, which suggests that the post is a blog post.\\n5. #ScienceCommunity: The post mentions the science community, indicating that the author is part of the scientific community.\\n6. #NewYear: The post mentions the new year, which suggests that the author is looking forward to the future.\\n7. #Excited: The post mentions that the author is excited, which suggests that they are enthusiastic about their upcoming project.\\n\\n##',\n",
       " 'final_answer': '* #SensemakingNetworks\\n* #AsteraInstitute\\n* #ScienceResearch\\n* #BlogPost\\n* #ScienceCommunity\\n* #NewYear\\n* #Excited\\n* #academic',\n",
       " 'valid_keywords': ['SensemakingNetworks',\n",
       "  'ScienceResearch',\n",
       "  'BlogPost',\n",
       "  'ScienceCommunity',\n",
       "  'NewYear',\n",
       "  'Excited'],\n",
       " 'academic_kw': 'academic',\n",
       " 'raw_text': '## Reasoning Steps:\\n\\nBased on the input post, the following keywords can be assigned:\\n\\n* #SensemakingNetworks\\n* #AsteraInstitute\\n* #ScienceResearch\\n* #BlogPost\\n* #ScienceCommunity\\n* #NewYear\\n* #Excited\\n\\n## Candidate Keywords:\\n\\n1. #SensemakingNetworks: The post mentions the author\\'s upcoming project on Sensemaking Networks, which is likely related to scientific research.\\n2. #AsteraInstitute: The post mentions the author\\'s work at AsteraInstitute, which suggests that the post is related to academic research.\\n3. #ScienceResearch: The post mentions \"science research,\" indicating that the author is working on a research project.\\n4. #BlogPost: The post mentions that the author is crossposting from Birdsite, which suggests that the post is a blog post.\\n5. #ScienceCommunity: The post mentions the science community, indicating that the author is part of the scientific community.\\n6. #NewYear: The post mentions the new year, which suggests that the author is looking forward to the future.\\n7. #Excited: The post mentions that the author is excited, which suggests that they are enthusiastic about their upcoming project.\\n\\n## Final Answer:\\n\\n* #SensemakingNetworks\\n* #AsteraInstitute\\n* #ScienceResearch\\n* #BlogPost\\n* #ScienceCommunity\\n* #NewYear\\n* #Excited\\n* #academic'}"
      ]
     },
     "execution_count": 9,
     "metadata": {},
     "output_type": "execute_result"
    }
   ],
   "source": [
    "res[2]['keywords']"
   ]
  },
  {
   "cell_type": "code",
   "execution_count": 16,
   "metadata": {},
   "outputs": [
    {
     "data": {
      "text/plain": [
       "['announce']"
      ]
     },
     "execution_count": 16,
     "metadata": {},
     "output_type": "execute_result"
    }
   ],
   "source": [
    "res[2][\"semantics\"]['multi_tag']"
   ]
  },
  {
   "cell_type": "code",
   "execution_count": 8,
   "metadata": {},
   "outputs": [],
   "source": [
    "chain = parser.prompt_case_dict[PromptCase.SINGLE_REF][\"chain\"]"
   ]
  },
  {
   "cell_type": "code",
   "execution_count": 9,
   "metadata": {},
   "outputs": [],
   "source": [
    "input_prompts = [parser.create_semantics_prompt_by_case(post, PromptCase.SINGLE_REF) for post in posts]"
   ]
  },
  {
   "cell_type": "code",
   "execution_count": 10,
   "metadata": {},
   "outputs": [],
   "source": [
    "inputs = [{\"input\": prompt} for prompt in input_prompts]"
   ]
  },
  {
   "cell_type": "code",
   "execution_count": 11,
   "metadata": {},
   "outputs": [],
   "source": [
    "results = await chain.abatch(inputs)"
   ]
  },
  {
   "cell_type": "code",
   "execution_count": 12,
   "metadata": {},
   "outputs": [
    {
     "data": {
      "text/plain": [
       "{'reasoning': \"[Reasoning Steps]\\n\\n1. The post is about a new paper published in Phil Trans B.\\n2. The paper is authored by Paul Smaldino and Karolina Safarzynska.\\n3. The paper is about a simple model of a group-structured public good with externalities shifting benefits toward more inequality or more equity.\\n4. The post does not explicitly endorse or disagree with the paper's content.\\n5. The post does not contain any calls for papers, funding, or job listings.\\n\\n[Candidate Tags]\\n\\n<paper>, <public-good>, <equity>, <inequality>, <group-structure>, <externalities>\",\n",
       " 'final_answer': '<paper>, <public-good>, <equity>, <inequality>, <group-structure>, <externalities>',\n",
       " 'single_tag': [],\n",
       " 'multi_tag': []}"
      ]
     },
     "execution_count": 12,
     "metadata": {},
     "output_type": "execute_result"
    }
   ],
   "source": [
    "results[0]"
   ]
  },
  {
   "cell_type": "code",
   "execution_count": 17,
   "metadata": {},
   "outputs": [
    {
     "name": "stdout",
     "output_type": "stream",
     "text": [
      "[Reasoning Steps]\n",
      "\n",
      "1. The post is about a new paper published in Phil Trans B.\n",
      "2. The paper is authored by Paul Smaldino and Karolina Safarzynska.\n",
      "3. The paper is about a simple model of a group-structured public good with externalities shifting benefits toward more inequality or more equity.\n",
      "4. The post does not explicitly endorse or disagree with the paper's content.\n",
      "5. The post does not contain any calls for papers, funding, or job listings.\n",
      "\n",
      "[Candidate Tags]\n",
      "\n",
      "<paper>, <public-good>, <equity>, <inequality>, <group-structure>, <externalities>\n"
     ]
    }
   ],
   "source": [
    "print(results[0][\"reasoning\"])"
   ]
  },
  {
   "cell_type": "code",
   "execution_count": 18,
   "metadata": {},
   "outputs": [],
   "source": [
    "# https://python.langchain.com/docs/expression_language/how_to/functions\n",
    "from langchain_core.runnables import RunnableConfig"
   ]
  },
  {
   "cell_type": "code",
   "execution_count": 19,
   "metadata": {},
   "outputs": [],
   "source": [
    "config = RunnableConfig(max_concurrency=3)"
   ]
  },
  {
   "cell_type": "code",
   "execution_count": 20,
   "metadata": {},
   "outputs": [
    {
     "data": {
      "text/plain": [
       "6"
      ]
     },
     "execution_count": 20,
     "metadata": {},
     "output_type": "execute_result"
    }
   ],
   "source": [
    "# make list of 6 inputs \n",
    "inputs = inputs * 2\n",
    "len(inputs)"
   ]
  },
  {
   "cell_type": "code",
   "execution_count": 28,
   "metadata": {},
   "outputs": [
    {
     "name": "stdout",
     "output_type": "stream",
     "text": [
      "7.781785011291504\n",
      "13.621722221374512\n",
      "10.330399990081787\n",
      "9.885744094848633\n",
      "21.70015788078308\n",
      "18.53901195526123\n",
      "Total time: 81.85882115364075\n"
     ]
    }
   ],
   "source": [
    "times = []\n",
    "for ii in inputs:\n",
    "    start_time = time.time()  \n",
    "    res = chain.invoke(ii)\n",
    "    end_time = time.time()\n",
    "    elapsed_time = end_time - start_time\n",
    "    times.append(elapsed_time)\n",
    "    print(elapsed_time)\n",
    "print(f\"Total time: {sum(times)}\")\n"
   ]
  },
  {
   "cell_type": "code",
   "execution_count": 24,
   "metadata": {},
   "outputs": [
    {
     "name": "stdout",
     "output_type": "stream",
     "text": [
      "\n",
      "All tasks completed in 21.54 seconds\n"
     ]
    }
   ],
   "source": [
    "# 1 batch of 6\n",
    "start_time = time.time()  \n",
    "results = await chain.abatch(inputs)\n",
    "end_time = time.time()\n",
    "elapsed_time = end_time - start_time\n",
    "print(\"\\nAll tasks completed in {:.2f} seconds\".format(elapsed_time))\n"
   ]
  },
  {
   "cell_type": "code",
   "execution_count": 23,
   "metadata": {},
   "outputs": [
    {
     "name": "stdout",
     "output_type": "stream",
     "text": [
      "\n",
      "All tasks completed in 29.17 seconds\n"
     ]
    }
   ],
   "source": [
    "# 2 batches of 3\n",
    "start_time = time.time()  \n",
    "results = await chain.abatch(inputs, config=config)\n",
    "end_time = time.time()\n",
    "elapsed_time = end_time - start_time\n",
    "print(\"\\nAll tasks completed in {:.2f} seconds\".format(elapsed_time))\n"
   ]
  },
  {
   "cell_type": "markdown",
   "metadata": {},
   "source": [
    "# Can we run a RunnableParallel chain in abatch mode?"
   ]
  },
  {
   "cell_type": "code",
   "execution_count": 25,
   "metadata": {},
   "outputs": [],
   "source": [
    "# create parallel chain\n",
    "chain_1 = parser.prompt_case_dict[PromptCase.SINGLE_REF][\"chain\"]\n",
    "chain_2 = parser.prompt_case_dict[PromptCase.SINGLE_REF][\"chain\"]\n",
    "\n",
    "map_chain = RunnableParallel(semantics=chain_1, keywords=chain_2)"
   ]
  },
  {
   "cell_type": "code",
   "execution_count": 26,
   "metadata": {},
   "outputs": [],
   "source": [
    "results = await map_chain.abatch(inputs[:3])"
   ]
  },
  {
   "cell_type": "code",
   "execution_count": 27,
   "metadata": {},
   "outputs": [
    {
     "data": {
      "text/plain": [
       "{'semantics': {'reasoning': '[Reasoning Steps]\\n\\n1. The post is about a new paper published in Phil Trans B.\\n2. The paper is about a group-structured public good with externalities.\\n3. The paper discusses how externalities affect cooperation and how only redistributional externalities increase cooperation.\\n\\n[Candidate Tags]\\n\\n1. <endorses>: This tag could be used to indicate that the author is endorsing the paper. However, since there is no explicit statement of endorsement, this tag is not the best fit.\\n2. <agrees>: This tag could be used to indicate that the author agrees with the conclusions of the paper. However, since there is no explicit statement of agreement, this tag is not the best fit.\\n3. <disagrees>: This tag could be used to indicate that the author disagrees with the conclusions of the paper. However, since there is no explicit statement of disagreement, this tag is not the best fit.\\n4. <indicates-interest>: This tag could be used to indicate that the author is interested in the topic of the paper. Since the author is the author of the paper, this tag is not the best fit.\\n5. <review>: This tag could be used to indicate that the author is providing a review of the paper. However, since there is no explicit statement of review, this tag is not the best fit.\\n6. <recommendation>: This tag could be used to indicate that the author is recommending the paper. However, since the author is the author of the paper, this tag is not the best fit.\\n7. <question>: This tag could be used to indicate that the author is raising questions about the paper. However, since there is no explicit statement of questions, this tag is not the best fit.\\n8. <quote>: This tag could be used to indicate that the author is quoting text from the paper. However, since there is no explicit statement of quoting, this tag is not the best fit.\\n9. <discussion>: This tag could be used to indicate that the author is discussing how the paper relates to other facts or claims. Since the author is discussing the conclusions of their own paper, this tag is the best fit.\\n10. <announce>: This tag could be used to indicate that the author is announcing the publication of the paper. Since the author is the author of the paper, this tag is not the best fit.',\n",
       "  'final_answer': '<discussion>',\n",
       "  'single_tag': ['discussion'],\n",
       "  'multi_tag': ['discussion']},\n",
       " 'keywords': {'reasoning': \"[Reasoning Steps]\\n\\n1. The post is about a new paper that has been published in Phil Trans B.\\n2. The author of the post is Paul Smaldino.\\n3. The paper is co-authored with Karolina Safarzynska.\\n4. The paper is a simple model of a group-structured public good with externalities shifting benefits toward more inequality or more equity.\\n5. The post is not explicitly recommending or endorsing the paper.\\n6. The post is not disputing or expressing disagreement with the paper's statements, ideas or conclusions.\\n7. The post is not indicating interest in the paper.\\n8. The post is not mentioning a funding opportunity related to the paper.\\n9. The post is not describing the watching or reading status of the author in relation to the paper.\\n10. The post is not mentioning any other content that the author is recommending or quoting from.\\n11. The post is not raising any questions about the paper.\\n12. The post is not quoting text from the paper.\\n13. The post is not discussing how the paper relates to other facts or claims.\\n14. The post is not inviting the reader to an event related to the paper.\\n15. The post is not describing a job listing or making an announcement related to the paper.\\n\\n[Candidate Tags]\\n\\n1. <call-for-papers>: This tag is not suitable because the post is not about a call for research papers.\\n2. <endorses>: This tag is not suitable because the post is not explicitly recommending or endorsing the paper.\\n3. <disagrees>: This tag is not suitable because the post is not disputing or expressing disagreement with the paper's statements, ideas or conclusions.\\n4. <indicates-interest>: This tag is not suitable because the post is not indicating interest in the paper.\\n5. <funding>: This tag is not suitable because the post is not mentioning a funding opportunity related to the paper.\\n6. <watching>: This tag is not suitable because the post is not describing the watching status of the author in relation to the paper.\\n7. <reading>: This tag is not suitable because the post is not describing the reading status of the author in relation to the paper.\\n8. <listening>: This tag is not suitable because the post is not describing the listening status of the author in relation to the paper.\\n9. <default>: This tag is not suitable because the post can be characterized by one of the other tags.\\n10. <review>: This tag is not suitable because the post is not containing a review of another reference.\\n11. <recommendation>: This tag is not suitable because the post is not recommending any kind of content.\\n12. <question>: This tag is not suitable because the post is not raising any questions about the paper.\\n13. <quote>: This tag is not suitable because the post is not quoting text from the paper.\\n14. <discussion>: This tag is not suitable because the post is not discussing how the paper relates to other facts or claims.\\n15. <event>: This tag is not suitable because the post is not inviting the reader to an event related to the paper.\\n16. <job>: This tag is not suitable because the post is not describing a job listing or making an announcement related to the paper.\\n17. <announce>: This tag is suitable because the post is announcing a new research paper.\",\n",
       "  'final_answer': '<announce>',\n",
       "  'single_tag': ['announce'],\n",
       "  'multi_tag': ['announce']}}"
      ]
     },
     "execution_count": 27,
     "metadata": {},
     "output_type": "execute_result"
    }
   ],
   "source": [
    "results[0]"
   ]
  },
  {
   "cell_type": "markdown",
   "metadata": {},
   "source": [
    "Looks like yes!"
   ]
  },
  {
   "cell_type": "code",
   "execution_count": null,
   "metadata": {},
   "outputs": [],
   "source": []
  }
 ],
 "metadata": {
  "kernelspec": {
   "display_name": "sensebot",
   "language": "python",
   "name": "python3"
  },
  "language_info": {
   "codemirror_mode": {
    "name": "ipython",
    "version": 3
   },
   "file_extension": ".py",
   "mimetype": "text/x-python",
   "name": "python",
   "nbconvert_exporter": "python",
   "pygments_lexer": "ipython3",
   "version": "3.11.7"
  }
 },
 "nbformat": 4,
 "nbformat_minor": 2
}
