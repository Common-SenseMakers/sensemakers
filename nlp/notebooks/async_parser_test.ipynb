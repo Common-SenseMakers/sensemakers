{
 "cells": [
  {
   "cell_type": "code",
   "execution_count": 1,
   "metadata": {},
   "outputs": [],
   "source": [
    "import nest_asyncio\n",
    "nest_asyncio.apply()"
   ]
  },
  {
   "cell_type": "code",
   "execution_count": 2,
   "metadata": {},
   "outputs": [],
   "source": [
    "import sys\n",
    "sys.path.append(\"../\")\n",
    "\n",
    "import asyncio\n",
    "import time\n",
    "from typing import List, Optional, Dict\n",
    "from pydantic import (\n",
    "    Field,\n",
    "    BaseModel,\n",
    "    validator,\n",
    "    ConfigDict,\n",
    "    field_validator,\n",
    "    field_serializer,\n",
    ")\n",
    "from langchain_core.runnables import RunnableParallel\n",
    "\n",
    "from desci_sense.configs import default_init_parser_config\n",
    "from desci_sense.shared_functions.dataloaders import scrape_post\n",
    "from desci_sense.shared_functions.schema.post import RefPost\n",
    "from desci_sense.shared_functions.parsers.firebase_api_parser import FirebaseAPIParser, PromptCase\n",
    "from desci_sense.shared_functions.web_extractors.metadata_extractors import (\n",
    "    RefMetadata,\n",
    ")\n",
    "from desci_sense.shared_functions.postprocessing import CombinedParserOutput"
   ]
  },
  {
   "cell_type": "code",
   "execution_count": 3,
   "metadata": {},
   "outputs": [],
   "source": [
    "config = default_init_parser_config(semantics_model=\"mistralai/mistral-7b-instruct\",\n",
    "                                    kw_model=\"mistralai/mistral-7b-instruct\")\n",
    "config[\"general\"][\"ref_metadata_method\"] = \"citoid\""
   ]
  },
  {
   "cell_type": "code",
   "execution_count": 4,
   "metadata": {},
   "outputs": [
    {
     "ename": "KeyboardInterrupt",
     "evalue": "",
     "output_type": "error",
     "traceback": [
      "\u001b[0;31m---------------------------------------------------------------------------\u001b[0m",
      "\u001b[0;31mKeyboardInterrupt\u001b[0m                         Traceback (most recent call last)",
      "Cell \u001b[0;32mIn[4], line 2\u001b[0m\n\u001b[1;32m      1\u001b[0m url \u001b[38;5;241m=\u001b[39m \u001b[38;5;124m\"\u001b[39m\u001b[38;5;124mhttps://twitter.com/Elinor_Carmi/status/1768238325020659885\u001b[39m\u001b[38;5;124m\"\u001b[39m\n\u001b[0;32m----> 2\u001b[0m post \u001b[38;5;241m=\u001b[39m \u001b[43mscrape_post\u001b[49m\u001b[43m(\u001b[49m\u001b[43murl\u001b[49m\u001b[43m)\u001b[49m\n",
      "File \u001b[0;32m~/Documents/dev/common_sense/sensemakers/nlp/notebooks/../desci_sense/shared_functions/dataloaders/__init__.py:35\u001b[0m, in \u001b[0;36mscrape_post\u001b[0;34m(post_url)\u001b[0m\n\u001b[1;32m     32\u001b[0m social_type \u001b[38;5;241m=\u001b[39m identify_social_media(post_url)\n\u001b[1;32m     34\u001b[0m \u001b[38;5;28;01mif\u001b[39;00m social_type \u001b[38;5;241m==\u001b[39m \u001b[38;5;124m\"\u001b[39m\u001b[38;5;124mtwitter\u001b[39m\u001b[38;5;124m\"\u001b[39m:\n\u001b[0;32m---> 35\u001b[0m     result \u001b[38;5;241m=\u001b[39m \u001b[43mscrape_tweet\u001b[49m\u001b[43m(\u001b[49m\u001b[43mpost_url\u001b[49m\u001b[43m)\u001b[49m\n\u001b[1;32m     37\u001b[0m \u001b[38;5;28;01melif\u001b[39;00m social_type \u001b[38;5;241m==\u001b[39m \u001b[38;5;124m\"\u001b[39m\u001b[38;5;124mmastodon\u001b[39m\u001b[38;5;124m\"\u001b[39m:\n\u001b[1;32m     38\u001b[0m     result \u001b[38;5;241m=\u001b[39m scrape_mastodon_post(post_url)\n",
      "File \u001b[0;32m~/Documents/dev/common_sense/sensemakers/nlp/notebooks/../desci_sense/shared_functions/dataloaders/twitter/twitter_utils.py:91\u001b[0m, in \u001b[0;36mscrape_tweet\u001b[0;34m(tweet_id)\u001b[0m\n\u001b[1;32m     89\u001b[0m \u001b[38;5;28;01mtry\u001b[39;00m:\n\u001b[1;32m     90\u001b[0m     data \u001b[38;5;241m=\u001b[39m response\u001b[38;5;241m.\u001b[39mjson()\n\u001b[0;32m---> 91\u001b[0m     post: RefPost \u001b[38;5;241m=\u001b[39m \u001b[43mconvert_vxtweet_to_ref_post\u001b[49m\u001b[43m(\u001b[49m\u001b[43mdata\u001b[49m\u001b[43m)\u001b[49m\n\u001b[1;32m     92\u001b[0m     \u001b[38;5;28;01mreturn\u001b[39;00m post\n\u001b[1;32m     93\u001b[0m \u001b[38;5;28;01mexcept\u001b[39;00m requests\u001b[38;5;241m.\u001b[39mJSONDecodeError:\n",
      "File \u001b[0;32m~/Documents/dev/common_sense/sensemakers/nlp/notebooks/../desci_sense/shared_functions/dataloaders/twitter/twitter_utils.py:70\u001b[0m, in \u001b[0;36mconvert_vxtweet_to_ref_post\u001b[0;34m(tweet)\u001b[0m\n\u001b[1;32m     67\u001b[0m date \u001b[38;5;241m=\u001b[39m convert_twitter_time_to_datetime(tweet[\u001b[38;5;124m\"\u001b[39m\u001b[38;5;124mdate\u001b[39m\u001b[38;5;124m\"\u001b[39m])\n\u001b[1;32m     69\u001b[0m \u001b[38;5;66;03m# extract external reference urls from post\u001b[39;00m\n\u001b[0;32m---> 70\u001b[0m ext_ref_urls \u001b[38;5;241m=\u001b[39m \u001b[43mextract_external_ref_urls\u001b[49m\u001b[43m(\u001b[49m\u001b[43mtweet\u001b[49m\u001b[43m)\u001b[49m\n\u001b[1;32m     72\u001b[0m post \u001b[38;5;241m=\u001b[39m RefPost(\n\u001b[1;32m     73\u001b[0m     author\u001b[38;5;241m=\u001b[39mauthor,\n\u001b[1;32m     74\u001b[0m     content\u001b[38;5;241m=\u001b[39mtext,\n\u001b[0;32m   (...)\u001b[0m\n\u001b[1;32m     79\u001b[0m     ref_urls\u001b[38;5;241m=\u001b[39mext_ref_urls,\n\u001b[1;32m     80\u001b[0m )\n\u001b[1;32m     81\u001b[0m \u001b[38;5;28;01mreturn\u001b[39;00m post\n",
      "File \u001b[0;32m~/Documents/dev/common_sense/sensemakers/nlp/notebooks/../desci_sense/shared_functions/dataloaders/twitter/twitter_utils.py:120\u001b[0m, in \u001b[0;36mextract_external_ref_urls\u001b[0;34m(tweet, add_qrt_url)\u001b[0m\n\u001b[1;32m    112\u001b[0m \u001b[38;5;28;01mdef\u001b[39;00m \u001b[38;5;21mextract_external_ref_urls\u001b[39m(tweet: \u001b[38;5;28mdict\u001b[39m, add_qrt_url: \u001b[38;5;28mbool\u001b[39m \u001b[38;5;241m=\u001b[39m \u001b[38;5;28;01mTrue\u001b[39;00m):\n\u001b[1;32m    113\u001b[0m \u001b[38;5;250m    \u001b[39m\u001b[38;5;124;03m\"\"\"\u001b[39;00m\n\u001b[1;32m    114\u001b[0m \u001b[38;5;124;03m    Extract list of non-internal URLs referenced by this tweet (in the tweet text body).\u001b[39;00m\n\u001b[1;32m    115\u001b[0m \u001b[38;5;124;03m    In this context, internal URLs are URLs of media items associated with the tweet, such as images or videos.\u001b[39;00m\n\u001b[0;32m   (...)\u001b[0m\n\u001b[1;32m    118\u001b[0m \u001b[38;5;124;03m    Quote Retweets (QRTs) are treated by default as an external URL. (disable by setting `add_qrt_url`=False)\u001b[39;00m\n\u001b[1;32m    119\u001b[0m \u001b[38;5;124;03m    \"\"\"\u001b[39;00m\n\u001b[0;32m--> 120\u001b[0m     urls \u001b[38;5;241m=\u001b[39m \u001b[43mextract_and_expand_urls\u001b[49m\u001b[43m(\u001b[49m\u001b[43mtweet\u001b[49m\u001b[43m[\u001b[49m\u001b[38;5;124;43m\"\u001b[39;49m\u001b[38;5;124;43mtext\u001b[39;49m\u001b[38;5;124;43m\"\u001b[39;49m\u001b[43m]\u001b[49m\u001b[43m)\u001b[49m\n\u001b[1;32m    122\u001b[0m     \u001b[38;5;66;03m# add qrt url if this was a qrt\u001b[39;00m\n\u001b[1;32m    123\u001b[0m     \u001b[38;5;28;01mif\u001b[39;00m add_qrt_url:\n",
      "File \u001b[0;32m~/Documents/dev/common_sense/sensemakers/nlp/notebooks/../desci_sense/shared_functions/utils.py:143\u001b[0m, in \u001b[0;36mextract_and_expand_urls\u001b[0;34m(text)\u001b[0m\n\u001b[1;32m    136\u001b[0m \u001b[38;5;28;01mdef\u001b[39;00m \u001b[38;5;21mextract_and_expand_urls\u001b[39m(text):\n\u001b[1;32m    137\u001b[0m \u001b[38;5;250m    \u001b[39m\u001b[38;5;124;03m\"\"\"_summary_\u001b[39;00m\n\u001b[1;32m    138\u001b[0m \n\u001b[1;32m    139\u001b[0m \u001b[38;5;124;03m    Args:\u001b[39;00m\n\u001b[1;32m    140\u001b[0m \u001b[38;5;124;03m        text (_type_): _description_\u001b[39;00m\n\u001b[1;32m    141\u001b[0m \u001b[38;5;124;03m    \"\"\"\u001b[39;00m\n\u001b[0;32m--> 143\u001b[0m     expanded_urls \u001b[38;5;241m=\u001b[39m \u001b[43m[\u001b[49m\u001b[43mnormalize_url\u001b[49m\u001b[43m(\u001b[49m\u001b[43murl\u001b[49m\u001b[43m)\u001b[49m\u001b[43m \u001b[49m\u001b[38;5;28;43;01mfor\u001b[39;49;00m\u001b[43m \u001b[49m\u001b[43murl\u001b[49m\u001b[43m \u001b[49m\u001b[38;5;129;43;01min\u001b[39;49;00m\u001b[43m \u001b[49m\u001b[43mextract_urls\u001b[49m\u001b[43m(\u001b[49m\u001b[43mtext\u001b[49m\u001b[43m)\u001b[49m\u001b[43m]\u001b[49m\n\u001b[1;32m    144\u001b[0m     \u001b[38;5;28;01mreturn\u001b[39;00m expanded_urls\n",
      "File \u001b[0;32m~/Documents/dev/common_sense/sensemakers/nlp/notebooks/../desci_sense/shared_functions/utils.py:143\u001b[0m, in \u001b[0;36m<listcomp>\u001b[0;34m(.0)\u001b[0m\n\u001b[1;32m    136\u001b[0m \u001b[38;5;28;01mdef\u001b[39;00m \u001b[38;5;21mextract_and_expand_urls\u001b[39m(text):\n\u001b[1;32m    137\u001b[0m \u001b[38;5;250m    \u001b[39m\u001b[38;5;124;03m\"\"\"_summary_\u001b[39;00m\n\u001b[1;32m    138\u001b[0m \n\u001b[1;32m    139\u001b[0m \u001b[38;5;124;03m    Args:\u001b[39;00m\n\u001b[1;32m    140\u001b[0m \u001b[38;5;124;03m        text (_type_): _description_\u001b[39;00m\n\u001b[1;32m    141\u001b[0m \u001b[38;5;124;03m    \"\"\"\u001b[39;00m\n\u001b[0;32m--> 143\u001b[0m     expanded_urls \u001b[38;5;241m=\u001b[39m [\u001b[43mnormalize_url\u001b[49m\u001b[43m(\u001b[49m\u001b[43murl\u001b[49m\u001b[43m)\u001b[49m \u001b[38;5;28;01mfor\u001b[39;00m url \u001b[38;5;129;01min\u001b[39;00m extract_urls(text)]\n\u001b[1;32m    144\u001b[0m     \u001b[38;5;28;01mreturn\u001b[39;00m expanded_urls\n",
      "File \u001b[0;32m~/Documents/dev/common_sense/sensemakers/nlp/notebooks/../desci_sense/shared_functions/utils.py:130\u001b[0m, in \u001b[0;36mnormalize_url\u001b[0;34m(url)\u001b[0m\n\u001b[1;32m    120\u001b[0m \u001b[38;5;28;01mdef\u001b[39;00m \u001b[38;5;21mnormalize_url\u001b[39m(url):\n\u001b[1;32m    121\u001b[0m \u001b[38;5;250m    \u001b[39m\u001b[38;5;124;03m\"\"\"\u001b[39;00m\n\u001b[1;32m    122\u001b[0m \u001b[38;5;124;03m    Process url to convert it to canonical format.\u001b[39;00m\n\u001b[1;32m    123\u001b[0m \n\u001b[0;32m   (...)\u001b[0m\n\u001b[1;32m    128\u001b[0m \n\u001b[1;32m    129\u001b[0m \u001b[38;5;124;03m    \"\"\"\u001b[39;00m\n\u001b[0;32m--> 130\u001b[0m     res \u001b[38;5;241m=\u001b[39m \u001b[43munshorten_url\u001b[49m\u001b[43m(\u001b[49m\u001b[43murl\u001b[49m\u001b[43m)\u001b[49m\n\u001b[1;32m    131\u001b[0m     res \u001b[38;5;241m=\u001b[39m url_normalize(res)\n\u001b[1;32m    133\u001b[0m     \u001b[38;5;28;01mreturn\u001b[39;00m res\n",
      "File \u001b[0;32m~/Documents/dev/common_sense/sensemakers/nlp/notebooks/../desci_sense/shared_functions/utils.py:99\u001b[0m, in \u001b[0;36munshorten_url\u001b[0;34m(url)\u001b[0m\n\u001b[1;32m     97\u001b[0m \u001b[38;5;28;01mdef\u001b[39;00m \u001b[38;5;21munshorten_url\u001b[39m(url):\n\u001b[1;32m     98\u001b[0m     \u001b[38;5;28;01mtry\u001b[39;00m:\n\u001b[0;32m---> 99\u001b[0m         response \u001b[38;5;241m=\u001b[39m \u001b[43mrequests\u001b[49m\u001b[38;5;241;43m.\u001b[39;49m\u001b[43mhead\u001b[49m\u001b[43m(\u001b[49m\u001b[43murl\u001b[49m\u001b[43m,\u001b[49m\u001b[43m \u001b[49m\u001b[43mallow_redirects\u001b[49m\u001b[38;5;241;43m=\u001b[39;49m\u001b[38;5;28;43;01mTrue\u001b[39;49;00m\u001b[43m)\u001b[49m\n\u001b[1;32m    100\u001b[0m         \u001b[38;5;28;01mreturn\u001b[39;00m response\u001b[38;5;241m.\u001b[39murl\n\u001b[1;32m    101\u001b[0m     \u001b[38;5;28;01mexcept\u001b[39;00m requests\u001b[38;5;241m.\u001b[39mRequestException \u001b[38;5;28;01mas\u001b[39;00m e:\n\u001b[1;32m    102\u001b[0m         \u001b[38;5;66;03m# return original url in case of errors\u001b[39;00m\n",
      "File \u001b[0;32m~/anaconda3/envs/asensebot/lib/python3.11/site-packages/requests/api.py:100\u001b[0m, in \u001b[0;36mhead\u001b[0;34m(url, **kwargs)\u001b[0m\n\u001b[1;32m     89\u001b[0m \u001b[38;5;250m\u001b[39m\u001b[38;5;124mr\u001b[39m\u001b[38;5;124;03m\"\"\"Sends a HEAD request.\u001b[39;00m\n\u001b[1;32m     90\u001b[0m \n\u001b[1;32m     91\u001b[0m \u001b[38;5;124;03m:param url: URL for the new :class:`Request` object.\u001b[39;00m\n\u001b[0;32m   (...)\u001b[0m\n\u001b[1;32m     96\u001b[0m \u001b[38;5;124;03m:rtype: requests.Response\u001b[39;00m\n\u001b[1;32m     97\u001b[0m \u001b[38;5;124;03m\"\"\"\u001b[39;00m\n\u001b[1;32m     99\u001b[0m kwargs\u001b[38;5;241m.\u001b[39msetdefault(\u001b[38;5;124m\"\u001b[39m\u001b[38;5;124mallow_redirects\u001b[39m\u001b[38;5;124m\"\u001b[39m, \u001b[38;5;28;01mFalse\u001b[39;00m)\n\u001b[0;32m--> 100\u001b[0m \u001b[38;5;28;01mreturn\u001b[39;00m \u001b[43mrequest\u001b[49m\u001b[43m(\u001b[49m\u001b[38;5;124;43m\"\u001b[39;49m\u001b[38;5;124;43mhead\u001b[39;49m\u001b[38;5;124;43m\"\u001b[39;49m\u001b[43m,\u001b[49m\u001b[43m \u001b[49m\u001b[43murl\u001b[49m\u001b[43m,\u001b[49m\u001b[43m \u001b[49m\u001b[38;5;241;43m*\u001b[39;49m\u001b[38;5;241;43m*\u001b[39;49m\u001b[43mkwargs\u001b[49m\u001b[43m)\u001b[49m\n",
      "File \u001b[0;32m~/anaconda3/envs/asensebot/lib/python3.11/site-packages/requests/api.py:59\u001b[0m, in \u001b[0;36mrequest\u001b[0;34m(method, url, **kwargs)\u001b[0m\n\u001b[1;32m     55\u001b[0m \u001b[38;5;66;03m# By using the 'with' statement we are sure the session is closed, thus we\u001b[39;00m\n\u001b[1;32m     56\u001b[0m \u001b[38;5;66;03m# avoid leaving sockets open which can trigger a ResourceWarning in some\u001b[39;00m\n\u001b[1;32m     57\u001b[0m \u001b[38;5;66;03m# cases, and look like a memory leak in others.\u001b[39;00m\n\u001b[1;32m     58\u001b[0m \u001b[38;5;28;01mwith\u001b[39;00m sessions\u001b[38;5;241m.\u001b[39mSession() \u001b[38;5;28;01mas\u001b[39;00m session:\n\u001b[0;32m---> 59\u001b[0m     \u001b[38;5;28;01mreturn\u001b[39;00m \u001b[43msession\u001b[49m\u001b[38;5;241;43m.\u001b[39;49m\u001b[43mrequest\u001b[49m\u001b[43m(\u001b[49m\u001b[43mmethod\u001b[49m\u001b[38;5;241;43m=\u001b[39;49m\u001b[43mmethod\u001b[49m\u001b[43m,\u001b[49m\u001b[43m \u001b[49m\u001b[43murl\u001b[49m\u001b[38;5;241;43m=\u001b[39;49m\u001b[43murl\u001b[49m\u001b[43m,\u001b[49m\u001b[43m \u001b[49m\u001b[38;5;241;43m*\u001b[39;49m\u001b[38;5;241;43m*\u001b[39;49m\u001b[43mkwargs\u001b[49m\u001b[43m)\u001b[49m\n",
      "File \u001b[0;32m~/anaconda3/envs/asensebot/lib/python3.11/site-packages/requests/sessions.py:589\u001b[0m, in \u001b[0;36mSession.request\u001b[0;34m(self, method, url, params, data, headers, cookies, files, auth, timeout, allow_redirects, proxies, hooks, stream, verify, cert, json)\u001b[0m\n\u001b[1;32m    584\u001b[0m send_kwargs \u001b[38;5;241m=\u001b[39m {\n\u001b[1;32m    585\u001b[0m     \u001b[38;5;124m\"\u001b[39m\u001b[38;5;124mtimeout\u001b[39m\u001b[38;5;124m\"\u001b[39m: timeout,\n\u001b[1;32m    586\u001b[0m     \u001b[38;5;124m\"\u001b[39m\u001b[38;5;124mallow_redirects\u001b[39m\u001b[38;5;124m\"\u001b[39m: allow_redirects,\n\u001b[1;32m    587\u001b[0m }\n\u001b[1;32m    588\u001b[0m send_kwargs\u001b[38;5;241m.\u001b[39mupdate(settings)\n\u001b[0;32m--> 589\u001b[0m resp \u001b[38;5;241m=\u001b[39m \u001b[38;5;28;43mself\u001b[39;49m\u001b[38;5;241;43m.\u001b[39;49m\u001b[43msend\u001b[49m\u001b[43m(\u001b[49m\u001b[43mprep\u001b[49m\u001b[43m,\u001b[49m\u001b[43m \u001b[49m\u001b[38;5;241;43m*\u001b[39;49m\u001b[38;5;241;43m*\u001b[39;49m\u001b[43msend_kwargs\u001b[49m\u001b[43m)\u001b[49m\n\u001b[1;32m    591\u001b[0m \u001b[38;5;28;01mreturn\u001b[39;00m resp\n",
      "File \u001b[0;32m~/anaconda3/envs/asensebot/lib/python3.11/site-packages/requests/sessions.py:703\u001b[0m, in \u001b[0;36mSession.send\u001b[0;34m(self, request, **kwargs)\u001b[0m\n\u001b[1;32m    700\u001b[0m start \u001b[38;5;241m=\u001b[39m preferred_clock()\n\u001b[1;32m    702\u001b[0m \u001b[38;5;66;03m# Send the request\u001b[39;00m\n\u001b[0;32m--> 703\u001b[0m r \u001b[38;5;241m=\u001b[39m \u001b[43madapter\u001b[49m\u001b[38;5;241;43m.\u001b[39;49m\u001b[43msend\u001b[49m\u001b[43m(\u001b[49m\u001b[43mrequest\u001b[49m\u001b[43m,\u001b[49m\u001b[43m \u001b[49m\u001b[38;5;241;43m*\u001b[39;49m\u001b[38;5;241;43m*\u001b[39;49m\u001b[43mkwargs\u001b[49m\u001b[43m)\u001b[49m\n\u001b[1;32m    705\u001b[0m \u001b[38;5;66;03m# Total elapsed time of the request (approximately)\u001b[39;00m\n\u001b[1;32m    706\u001b[0m elapsed \u001b[38;5;241m=\u001b[39m preferred_clock() \u001b[38;5;241m-\u001b[39m start\n",
      "File \u001b[0;32m~/anaconda3/envs/asensebot/lib/python3.11/site-packages/requests/adapters.py:486\u001b[0m, in \u001b[0;36mHTTPAdapter.send\u001b[0;34m(self, request, stream, timeout, verify, cert, proxies)\u001b[0m\n\u001b[1;32m    483\u001b[0m     timeout \u001b[38;5;241m=\u001b[39m TimeoutSauce(connect\u001b[38;5;241m=\u001b[39mtimeout, read\u001b[38;5;241m=\u001b[39mtimeout)\n\u001b[1;32m    485\u001b[0m \u001b[38;5;28;01mtry\u001b[39;00m:\n\u001b[0;32m--> 486\u001b[0m     resp \u001b[38;5;241m=\u001b[39m \u001b[43mconn\u001b[49m\u001b[38;5;241;43m.\u001b[39;49m\u001b[43murlopen\u001b[49m\u001b[43m(\u001b[49m\n\u001b[1;32m    487\u001b[0m \u001b[43m        \u001b[49m\u001b[43mmethod\u001b[49m\u001b[38;5;241;43m=\u001b[39;49m\u001b[43mrequest\u001b[49m\u001b[38;5;241;43m.\u001b[39;49m\u001b[43mmethod\u001b[49m\u001b[43m,\u001b[49m\n\u001b[1;32m    488\u001b[0m \u001b[43m        \u001b[49m\u001b[43murl\u001b[49m\u001b[38;5;241;43m=\u001b[39;49m\u001b[43murl\u001b[49m\u001b[43m,\u001b[49m\n\u001b[1;32m    489\u001b[0m \u001b[43m        \u001b[49m\u001b[43mbody\u001b[49m\u001b[38;5;241;43m=\u001b[39;49m\u001b[43mrequest\u001b[49m\u001b[38;5;241;43m.\u001b[39;49m\u001b[43mbody\u001b[49m\u001b[43m,\u001b[49m\n\u001b[1;32m    490\u001b[0m \u001b[43m        \u001b[49m\u001b[43mheaders\u001b[49m\u001b[38;5;241;43m=\u001b[39;49m\u001b[43mrequest\u001b[49m\u001b[38;5;241;43m.\u001b[39;49m\u001b[43mheaders\u001b[49m\u001b[43m,\u001b[49m\n\u001b[1;32m    491\u001b[0m \u001b[43m        \u001b[49m\u001b[43mredirect\u001b[49m\u001b[38;5;241;43m=\u001b[39;49m\u001b[38;5;28;43;01mFalse\u001b[39;49;00m\u001b[43m,\u001b[49m\n\u001b[1;32m    492\u001b[0m \u001b[43m        \u001b[49m\u001b[43massert_same_host\u001b[49m\u001b[38;5;241;43m=\u001b[39;49m\u001b[38;5;28;43;01mFalse\u001b[39;49;00m\u001b[43m,\u001b[49m\n\u001b[1;32m    493\u001b[0m \u001b[43m        \u001b[49m\u001b[43mpreload_content\u001b[49m\u001b[38;5;241;43m=\u001b[39;49m\u001b[38;5;28;43;01mFalse\u001b[39;49;00m\u001b[43m,\u001b[49m\n\u001b[1;32m    494\u001b[0m \u001b[43m        \u001b[49m\u001b[43mdecode_content\u001b[49m\u001b[38;5;241;43m=\u001b[39;49m\u001b[38;5;28;43;01mFalse\u001b[39;49;00m\u001b[43m,\u001b[49m\n\u001b[1;32m    495\u001b[0m \u001b[43m        \u001b[49m\u001b[43mretries\u001b[49m\u001b[38;5;241;43m=\u001b[39;49m\u001b[38;5;28;43mself\u001b[39;49m\u001b[38;5;241;43m.\u001b[39;49m\u001b[43mmax_retries\u001b[49m\u001b[43m,\u001b[49m\n\u001b[1;32m    496\u001b[0m \u001b[43m        \u001b[49m\u001b[43mtimeout\u001b[49m\u001b[38;5;241;43m=\u001b[39;49m\u001b[43mtimeout\u001b[49m\u001b[43m,\u001b[49m\n\u001b[1;32m    497\u001b[0m \u001b[43m        \u001b[49m\u001b[43mchunked\u001b[49m\u001b[38;5;241;43m=\u001b[39;49m\u001b[43mchunked\u001b[49m\u001b[43m,\u001b[49m\n\u001b[1;32m    498\u001b[0m \u001b[43m    \u001b[49m\u001b[43m)\u001b[49m\n\u001b[1;32m    500\u001b[0m \u001b[38;5;28;01mexcept\u001b[39;00m (ProtocolError, \u001b[38;5;167;01mOSError\u001b[39;00m) \u001b[38;5;28;01mas\u001b[39;00m err:\n\u001b[1;32m    501\u001b[0m     \u001b[38;5;28;01mraise\u001b[39;00m \u001b[38;5;167;01mConnectionError\u001b[39;00m(err, request\u001b[38;5;241m=\u001b[39mrequest)\n",
      "File \u001b[0;32m~/anaconda3/envs/asensebot/lib/python3.11/site-packages/urllib3/connectionpool.py:790\u001b[0m, in \u001b[0;36mHTTPConnectionPool.urlopen\u001b[0;34m(self, method, url, body, headers, retries, redirect, assert_same_host, timeout, pool_timeout, release_conn, chunked, body_pos, preload_content, decode_content, **response_kw)\u001b[0m\n\u001b[1;32m    787\u001b[0m response_conn \u001b[38;5;241m=\u001b[39m conn \u001b[38;5;28;01mif\u001b[39;00m \u001b[38;5;129;01mnot\u001b[39;00m release_conn \u001b[38;5;28;01melse\u001b[39;00m \u001b[38;5;28;01mNone\u001b[39;00m\n\u001b[1;32m    789\u001b[0m \u001b[38;5;66;03m# Make the request on the HTTPConnection object\u001b[39;00m\n\u001b[0;32m--> 790\u001b[0m response \u001b[38;5;241m=\u001b[39m \u001b[38;5;28;43mself\u001b[39;49m\u001b[38;5;241;43m.\u001b[39;49m\u001b[43m_make_request\u001b[49m\u001b[43m(\u001b[49m\n\u001b[1;32m    791\u001b[0m \u001b[43m    \u001b[49m\u001b[43mconn\u001b[49m\u001b[43m,\u001b[49m\n\u001b[1;32m    792\u001b[0m \u001b[43m    \u001b[49m\u001b[43mmethod\u001b[49m\u001b[43m,\u001b[49m\n\u001b[1;32m    793\u001b[0m \u001b[43m    \u001b[49m\u001b[43murl\u001b[49m\u001b[43m,\u001b[49m\n\u001b[1;32m    794\u001b[0m \u001b[43m    \u001b[49m\u001b[43mtimeout\u001b[49m\u001b[38;5;241;43m=\u001b[39;49m\u001b[43mtimeout_obj\u001b[49m\u001b[43m,\u001b[49m\n\u001b[1;32m    795\u001b[0m \u001b[43m    \u001b[49m\u001b[43mbody\u001b[49m\u001b[38;5;241;43m=\u001b[39;49m\u001b[43mbody\u001b[49m\u001b[43m,\u001b[49m\n\u001b[1;32m    796\u001b[0m \u001b[43m    \u001b[49m\u001b[43mheaders\u001b[49m\u001b[38;5;241;43m=\u001b[39;49m\u001b[43mheaders\u001b[49m\u001b[43m,\u001b[49m\n\u001b[1;32m    797\u001b[0m \u001b[43m    \u001b[49m\u001b[43mchunked\u001b[49m\u001b[38;5;241;43m=\u001b[39;49m\u001b[43mchunked\u001b[49m\u001b[43m,\u001b[49m\n\u001b[1;32m    798\u001b[0m \u001b[43m    \u001b[49m\u001b[43mretries\u001b[49m\u001b[38;5;241;43m=\u001b[39;49m\u001b[43mretries\u001b[49m\u001b[43m,\u001b[49m\n\u001b[1;32m    799\u001b[0m \u001b[43m    \u001b[49m\u001b[43mresponse_conn\u001b[49m\u001b[38;5;241;43m=\u001b[39;49m\u001b[43mresponse_conn\u001b[49m\u001b[43m,\u001b[49m\n\u001b[1;32m    800\u001b[0m \u001b[43m    \u001b[49m\u001b[43mpreload_content\u001b[49m\u001b[38;5;241;43m=\u001b[39;49m\u001b[43mpreload_content\u001b[49m\u001b[43m,\u001b[49m\n\u001b[1;32m    801\u001b[0m \u001b[43m    \u001b[49m\u001b[43mdecode_content\u001b[49m\u001b[38;5;241;43m=\u001b[39;49m\u001b[43mdecode_content\u001b[49m\u001b[43m,\u001b[49m\n\u001b[1;32m    802\u001b[0m \u001b[43m    \u001b[49m\u001b[38;5;241;43m*\u001b[39;49m\u001b[38;5;241;43m*\u001b[39;49m\u001b[43mresponse_kw\u001b[49m\u001b[43m,\u001b[49m\n\u001b[1;32m    803\u001b[0m \u001b[43m\u001b[49m\u001b[43m)\u001b[49m\n\u001b[1;32m    805\u001b[0m \u001b[38;5;66;03m# Everything went great!\u001b[39;00m\n\u001b[1;32m    806\u001b[0m clean_exit \u001b[38;5;241m=\u001b[39m \u001b[38;5;28;01mTrue\u001b[39;00m\n",
      "File \u001b[0;32m~/anaconda3/envs/asensebot/lib/python3.11/site-packages/urllib3/connectionpool.py:467\u001b[0m, in \u001b[0;36mHTTPConnectionPool._make_request\u001b[0;34m(self, conn, method, url, body, headers, retries, timeout, chunked, response_conn, preload_content, decode_content, enforce_content_length)\u001b[0m\n\u001b[1;32m    464\u001b[0m \u001b[38;5;28;01mtry\u001b[39;00m:\n\u001b[1;32m    465\u001b[0m     \u001b[38;5;66;03m# Trigger any extra validation we need to do.\u001b[39;00m\n\u001b[1;32m    466\u001b[0m     \u001b[38;5;28;01mtry\u001b[39;00m:\n\u001b[0;32m--> 467\u001b[0m         \u001b[38;5;28;43mself\u001b[39;49m\u001b[38;5;241;43m.\u001b[39;49m\u001b[43m_validate_conn\u001b[49m\u001b[43m(\u001b[49m\u001b[43mconn\u001b[49m\u001b[43m)\u001b[49m\n\u001b[1;32m    468\u001b[0m     \u001b[38;5;28;01mexcept\u001b[39;00m (SocketTimeout, BaseSSLError) \u001b[38;5;28;01mas\u001b[39;00m e:\n\u001b[1;32m    469\u001b[0m         \u001b[38;5;28mself\u001b[39m\u001b[38;5;241m.\u001b[39m_raise_timeout(err\u001b[38;5;241m=\u001b[39me, url\u001b[38;5;241m=\u001b[39murl, timeout_value\u001b[38;5;241m=\u001b[39mconn\u001b[38;5;241m.\u001b[39mtimeout)\n",
      "File \u001b[0;32m~/anaconda3/envs/asensebot/lib/python3.11/site-packages/urllib3/connectionpool.py:1096\u001b[0m, in \u001b[0;36mHTTPSConnectionPool._validate_conn\u001b[0;34m(self, conn)\u001b[0m\n\u001b[1;32m   1094\u001b[0m \u001b[38;5;66;03m# Force connect early to allow us to validate the connection.\u001b[39;00m\n\u001b[1;32m   1095\u001b[0m \u001b[38;5;28;01mif\u001b[39;00m conn\u001b[38;5;241m.\u001b[39mis_closed:\n\u001b[0;32m-> 1096\u001b[0m     \u001b[43mconn\u001b[49m\u001b[38;5;241;43m.\u001b[39;49m\u001b[43mconnect\u001b[49m\u001b[43m(\u001b[49m\u001b[43m)\u001b[49m\n\u001b[1;32m   1098\u001b[0m \u001b[38;5;28;01mif\u001b[39;00m \u001b[38;5;129;01mnot\u001b[39;00m conn\u001b[38;5;241m.\u001b[39mis_verified:\n\u001b[1;32m   1099\u001b[0m     warnings\u001b[38;5;241m.\u001b[39mwarn(\n\u001b[1;32m   1100\u001b[0m         (\n\u001b[1;32m   1101\u001b[0m             \u001b[38;5;124mf\u001b[39m\u001b[38;5;124m\"\u001b[39m\u001b[38;5;124mUnverified HTTPS request is being made to host \u001b[39m\u001b[38;5;124m'\u001b[39m\u001b[38;5;132;01m{\u001b[39;00mconn\u001b[38;5;241m.\u001b[39mhost\u001b[38;5;132;01m}\u001b[39;00m\u001b[38;5;124m'\u001b[39m\u001b[38;5;124m. \u001b[39m\u001b[38;5;124m\"\u001b[39m\n\u001b[0;32m   (...)\u001b[0m\n\u001b[1;32m   1106\u001b[0m         InsecureRequestWarning,\n\u001b[1;32m   1107\u001b[0m     )\n",
      "File \u001b[0;32m~/anaconda3/envs/asensebot/lib/python3.11/site-packages/urllib3/connection.py:611\u001b[0m, in \u001b[0;36mHTTPSConnection.connect\u001b[0;34m(self)\u001b[0m\n\u001b[1;32m    609\u001b[0m \u001b[38;5;28;01mdef\u001b[39;00m \u001b[38;5;21mconnect\u001b[39m(\u001b[38;5;28mself\u001b[39m) \u001b[38;5;241m-\u001b[39m\u001b[38;5;241m>\u001b[39m \u001b[38;5;28;01mNone\u001b[39;00m:\n\u001b[1;32m    610\u001b[0m     sock: socket\u001b[38;5;241m.\u001b[39msocket \u001b[38;5;241m|\u001b[39m ssl\u001b[38;5;241m.\u001b[39mSSLSocket\n\u001b[0;32m--> 611\u001b[0m     \u001b[38;5;28mself\u001b[39m\u001b[38;5;241m.\u001b[39msock \u001b[38;5;241m=\u001b[39m sock \u001b[38;5;241m=\u001b[39m \u001b[38;5;28;43mself\u001b[39;49m\u001b[38;5;241;43m.\u001b[39;49m\u001b[43m_new_conn\u001b[49m\u001b[43m(\u001b[49m\u001b[43m)\u001b[49m\n\u001b[1;32m    612\u001b[0m     server_hostname: \u001b[38;5;28mstr\u001b[39m \u001b[38;5;241m=\u001b[39m \u001b[38;5;28mself\u001b[39m\u001b[38;5;241m.\u001b[39mhost\n\u001b[1;32m    613\u001b[0m     tls_in_tls \u001b[38;5;241m=\u001b[39m \u001b[38;5;28;01mFalse\u001b[39;00m\n",
      "File \u001b[0;32m~/anaconda3/envs/asensebot/lib/python3.11/site-packages/urllib3/connection.py:203\u001b[0m, in \u001b[0;36mHTTPConnection._new_conn\u001b[0;34m(self)\u001b[0m\n\u001b[1;32m    198\u001b[0m \u001b[38;5;250m\u001b[39m\u001b[38;5;124;03m\"\"\"Establish a socket connection and set nodelay settings on it.\u001b[39;00m\n\u001b[1;32m    199\u001b[0m \n\u001b[1;32m    200\u001b[0m \u001b[38;5;124;03m:return: New socket connection.\u001b[39;00m\n\u001b[1;32m    201\u001b[0m \u001b[38;5;124;03m\"\"\"\u001b[39;00m\n\u001b[1;32m    202\u001b[0m \u001b[38;5;28;01mtry\u001b[39;00m:\n\u001b[0;32m--> 203\u001b[0m     sock \u001b[38;5;241m=\u001b[39m \u001b[43mconnection\u001b[49m\u001b[38;5;241;43m.\u001b[39;49m\u001b[43mcreate_connection\u001b[49m\u001b[43m(\u001b[49m\n\u001b[1;32m    204\u001b[0m \u001b[43m        \u001b[49m\u001b[43m(\u001b[49m\u001b[38;5;28;43mself\u001b[39;49m\u001b[38;5;241;43m.\u001b[39;49m\u001b[43m_dns_host\u001b[49m\u001b[43m,\u001b[49m\u001b[43m \u001b[49m\u001b[38;5;28;43mself\u001b[39;49m\u001b[38;5;241;43m.\u001b[39;49m\u001b[43mport\u001b[49m\u001b[43m)\u001b[49m\u001b[43m,\u001b[49m\n\u001b[1;32m    205\u001b[0m \u001b[43m        \u001b[49m\u001b[38;5;28;43mself\u001b[39;49m\u001b[38;5;241;43m.\u001b[39;49m\u001b[43mtimeout\u001b[49m\u001b[43m,\u001b[49m\n\u001b[1;32m    206\u001b[0m \u001b[43m        \u001b[49m\u001b[43msource_address\u001b[49m\u001b[38;5;241;43m=\u001b[39;49m\u001b[38;5;28;43mself\u001b[39;49m\u001b[38;5;241;43m.\u001b[39;49m\u001b[43msource_address\u001b[49m\u001b[43m,\u001b[49m\n\u001b[1;32m    207\u001b[0m \u001b[43m        \u001b[49m\u001b[43msocket_options\u001b[49m\u001b[38;5;241;43m=\u001b[39;49m\u001b[38;5;28;43mself\u001b[39;49m\u001b[38;5;241;43m.\u001b[39;49m\u001b[43msocket_options\u001b[49m\u001b[43m,\u001b[49m\n\u001b[1;32m    208\u001b[0m \u001b[43m    \u001b[49m\u001b[43m)\u001b[49m\n\u001b[1;32m    209\u001b[0m \u001b[38;5;28;01mexcept\u001b[39;00m socket\u001b[38;5;241m.\u001b[39mgaierror \u001b[38;5;28;01mas\u001b[39;00m e:\n\u001b[1;32m    210\u001b[0m     \u001b[38;5;28;01mraise\u001b[39;00m NameResolutionError(\u001b[38;5;28mself\u001b[39m\u001b[38;5;241m.\u001b[39mhost, \u001b[38;5;28mself\u001b[39m, e) \u001b[38;5;28;01mfrom\u001b[39;00m \u001b[38;5;21;01me\u001b[39;00m\n",
      "File \u001b[0;32m~/anaconda3/envs/asensebot/lib/python3.11/site-packages/urllib3/util/connection.py:73\u001b[0m, in \u001b[0;36mcreate_connection\u001b[0;34m(address, timeout, source_address, socket_options)\u001b[0m\n\u001b[1;32m     71\u001b[0m \u001b[38;5;28;01mif\u001b[39;00m source_address:\n\u001b[1;32m     72\u001b[0m     sock\u001b[38;5;241m.\u001b[39mbind(source_address)\n\u001b[0;32m---> 73\u001b[0m \u001b[43msock\u001b[49m\u001b[38;5;241;43m.\u001b[39;49m\u001b[43mconnect\u001b[49m\u001b[43m(\u001b[49m\u001b[43msa\u001b[49m\u001b[43m)\u001b[49m\n\u001b[1;32m     74\u001b[0m \u001b[38;5;66;03m# Break explicitly a reference cycle\u001b[39;00m\n\u001b[1;32m     75\u001b[0m err \u001b[38;5;241m=\u001b[39m \u001b[38;5;28;01mNone\u001b[39;00m\n",
      "\u001b[0;31mKeyboardInterrupt\u001b[0m: "
     ]
    }
   ],
   "source": [
    "url = \"https://twitter.com/Elinor_Carmi/status/1768238325020659885\"\n",
    "post = scrape_post(url)"
   ]
  },
  {
   "cell_type": "code",
   "execution_count": 5,
   "metadata": {},
   "outputs": [],
   "source": [
    "# get a few posts for input\n",
    "urls = [\"https://mastodon.social/@psmaldino@qoto.org/111405098400404613\",\n",
    "        \"https://mastodon.social/@UlrikeHahn@fediscience.org/111732713776994953\",\n",
    "        \"https://mastodon.social/@ronent/111687038322549430\"]\n",
    "posts = [scrape_post(url) for url in urls]"
   ]
  },
  {
   "cell_type": "code",
   "execution_count": 5,
   "metadata": {},
   "outputs": [
    {
     "data": {
      "text/plain": [
       "3"
      ]
     },
     "execution_count": 5,
     "metadata": {},
     "output_type": "execute_result"
    }
   ],
   "source": [
    "len(posts)"
   ]
  },
  {
   "cell_type": "code",
   "execution_count": 7,
   "metadata": {},
   "outputs": [
    {
     "name": "stderr",
     "output_type": "stream",
     "text": [
      "\u001b[32m2024-04-01 16:50:40.135\u001b[0m | \u001b[1mINFO    \u001b[0m | \u001b[36mdesci_sense.shared_functions.parsers.firebase_api_parser\u001b[0m:\u001b[36mset_md_extract_method\u001b[0m:\u001b[36m164\u001b[0m - \u001b[1mSetting metadata extraction method to citoid...\u001b[0m\n",
      "\u001b[32m2024-04-01 16:50:40.135\u001b[0m | \u001b[1mINFO    \u001b[0m | \u001b[36mdesci_sense.shared_functions.parsers.firebase_api_parser\u001b[0m:\u001b[36m__init__\u001b[0m:\u001b[36m120\u001b[0m - \u001b[1mLoading parser model (type=mistralai/mistral-7b-instruct)...\u001b[0m\n",
      "/Users/ronentamari/anaconda3/envs/asensebot/lib/python3.11/site-packages/langchain_core/_api/deprecation.py:117: LangChainDeprecationWarning: The class `langchain_community.chat_models.openai.ChatOpenAI` was deprecated in langchain-community 0.0.10 and will be removed in 0.2.0. An updated version of the class exists in the langchain-openai package and should be used instead. To use it run `pip install -U langchain-openai` and import as `from langchain_openai import ChatOpenAI`.\n",
      "  warn_deprecated(\n",
      "\u001b[32m2024-04-01 16:50:40.312\u001b[0m | \u001b[1mINFO    \u001b[0m | \u001b[36mdesci_sense.shared_functions.parsers.firebase_api_parser\u001b[0m:\u001b[36mset_kw_md_extract_method\u001b[0m:\u001b[36m168\u001b[0m - \u001b[1mSetting keywords metadata extraction method to citoid...\u001b[0m\n",
      "\u001b[32m2024-04-01 16:50:40.313\u001b[0m | \u001b[1mINFO    \u001b[0m | \u001b[36mdesci_sense.shared_functions.parsers.firebase_api_parser\u001b[0m:\u001b[36minit_keyword_extraction_chain\u001b[0m:\u001b[36m514\u001b[0m - \u001b[1mLoading keyword model (type=mistralai/mistral-7b-instruct)...\u001b[0m\n",
      "\u001b[32m2024-04-01 16:50:40.339\u001b[0m | \u001b[1mINFO    \u001b[0m | \u001b[36mdesci_sense.shared_functions.parsers.firebase_api_parser\u001b[0m:\u001b[36m__init__\u001b[0m:\u001b[36m137\u001b[0m - \u001b[1mLoading ontology...\u001b[0m\n",
      "\u001b[32m2024-04-01 16:50:40.382\u001b[0m | \u001b[1mINFO    \u001b[0m | \u001b[36mdesci_sense.shared_functions.parsers.firebase_api_parser\u001b[0m:\u001b[36m__init__\u001b[0m:\u001b[36m147\u001b[0m - \u001b[1mInitializing topics chain...\u001b[0m\n"
     ]
    }
   ],
   "source": [
    "parser = FirebaseAPIParser(config=config)"
   ]
  },
  {
   "cell_type": "code",
   "execution_count": 8,
   "metadata": {},
   "outputs": [
    {
     "data": {
      "text/plain": [
       "<MetadataExtractionType.CITOID: 'citoid'>"
      ]
     },
     "execution_count": 8,
     "metadata": {},
     "output_type": "execute_result"
    }
   ],
   "source": [
    "parser.md_extract_method"
   ]
  },
  {
   "cell_type": "code",
   "execution_count": 10,
   "metadata": {},
   "outputs": [
    {
     "name": "stderr",
     "output_type": "stream",
     "text": [
      "\u001b[32m2024-04-01 14:42:46.862\u001b[0m | \u001b[34m\u001b[1mDEBUG   \u001b[0m | \u001b[36mdesci_sense.shared_functions.web_extractors.citoid\u001b[0m:\u001b[36mfetch_citation_async\u001b[0m:\u001b[36m20\u001b[0m - \u001b[34m\u001b[1mtarget_url=https://twitter.com/i/status/1767643225773215918\u001b[0m\n",
      "\u001b[32m2024-04-01 14:42:46.880\u001b[0m | \u001b[34m\u001b[1mDEBUG   \u001b[0m | \u001b[36mdesci_sense.shared_functions.web_extractors.citoid\u001b[0m:\u001b[36mfetch_citation_async\u001b[0m:\u001b[36m20\u001b[0m - \u001b[34m\u001b[1mtarget_url=https://journals.oslomet.no/index.php/seminar/article/view/4291\u001b[0m\n"
     ]
    }
   ],
   "source": [
    "result = parser.process_ref_post_parallel(post)"
   ]
  },
  {
   "cell_type": "code",
   "execution_count": 9,
   "metadata": {},
   "outputs": [
    {
     "name": "stderr",
     "output_type": "stream",
     "text": [
      "\u001b[32m2024-04-01 16:50:44.991\u001b[0m | \u001b[34m\u001b[1mDEBUG   \u001b[0m | \u001b[36mdesci_sense.shared_functions.web_extractors.citoid\u001b[0m:\u001b[36mfetch_citation_async\u001b[0m:\u001b[36m20\u001b[0m - \u001b[34m\u001b[1mtarget_url=https://paragraph.xyz/@sense-nets/2-project-plan\u001b[0m\n",
      "\u001b[32m2024-04-01 16:50:45.014\u001b[0m | \u001b[34m\u001b[1mDEBUG   \u001b[0m | \u001b[36mdesci_sense.shared_functions.web_extractors.citoid\u001b[0m:\u001b[36mfetch_citation_async\u001b[0m:\u001b[36m20\u001b[0m - \u001b[34m\u001b[1mtarget_url=https://royalsocietypublishing.org/doi/10.1098/rstb.2022.0267\u001b[0m\n",
      "\u001b[32m2024-04-01 16:50:45.014\u001b[0m | \u001b[34m\u001b[1mDEBUG   \u001b[0m | \u001b[36mdesci_sense.shared_functions.web_extractors.citoid\u001b[0m:\u001b[36mfetch_citation_async\u001b[0m:\u001b[36m20\u001b[0m - \u001b[34m\u001b[1mtarget_url=https://write.as/ulrikehahn/some-thoughts-on-social-media-for-science\u001b[0m\n",
      "\u001b[32m2024-04-01 16:50:45.015\u001b[0m | \u001b[34m\u001b[1mDEBUG   \u001b[0m | \u001b[36mdesci_sense.shared_functions.web_extractors.citoid\u001b[0m:\u001b[36mfetch_citation_async\u001b[0m:\u001b[36m20\u001b[0m - \u001b[34m\u001b[1mtarget_url=https://paragraph.xyz/@sense-nets/sense-nets-intro\u001b[0m\n"
     ]
    }
   ],
   "source": [
    "res = parser.abatch_process_ref_post(posts)"
   ]
  },
  {
   "cell_type": "code",
   "execution_count": 11,
   "metadata": {},
   "outputs": [],
   "source": [
    "result = res[0]"
   ]
  },
  {
   "cell_type": "code",
   "execution_count": 12,
   "metadata": {},
   "outputs": [
    {
     "data": {
      "text/plain": [
       "StreamlitParserResults(research_filter='academic', item_types=['journalArticle'], reference_urls=['https://royalsocietypublishing.org/doi/10.1098/rstb.2022.0267'], semantic_tags=['discussion', 'announce'], keywords=['cooperation', 'inequality', 'equity'], topics=['science', 'economics', 'philosophy'], debug={'semantics': {'prompt': '\\n    You are an expert annotator tasked with converting social media posts about scientific research to a structured semantic format. The input post contains a reference to an external URL. Your job is to select the tags best characterizing the relation of the post to the external reference, from a predefined set of tags. \\n\\n    The available tag types are:\\n    <endorses>: this post endorses the mentioned reference. This label can also be used for cases of implicit recommendation, where the author is expressing enjoyment of some content but not explicitly recommending it.\\n    <disagrees>: this post disputes or expresses disagreement with statements, ideas or conclusions presented in the mentioned reference.\\n    <agrees>: this post expresses agreement with statements, ideas or conclusions presented in the mentioned reference.\\n    <watching>: this post describes the watching status of the author in relation to a reference, such as a video or movie. The author may have watched the content in the past, is watching the content in the present, or is looking forward to watching the content in the future.\\n    <reading>: this post describes the reading status of the author in relation to a reference, such as a book or article. The author may either have read the reference in the past, is reading the reference in the present, or is looking forward to reading the reference in the future.\\n    <listening>: this post describes the listening status of the author in relation to a reference, such as a podcast or radio station. The author may have listened to the content in the past, is listening to the content in the present, or is looking forward to listening the content in the future.\\n    <default>: This is a special tag. Use this tag if none of the tags above are suitable. If you tag a post with <default>, no other tag should be assigned to the post.\\n    <review>: this post contains a review of another reference, such as a book, article or movie. The review could be positive or negative. A review can be detailed or a simple short endorsement.\\n    <recommendation>: The author is recommending any kind of content: an article, a movie, podcast, book, another post, etc.\\n    <question>: this post is raising a question or questions about some content it\\'s referring to. The content could be a research paper or other media like a podcast, video or blog post.\\n    <quote>: this post is quoting text from an article it\\'s referring to. Symbols like \">\" or quotation marks are often used to indicate quotations.\\n    <discussion>: this post discusses how the cited reference relates to other facts or claims. For example, post might discuss how the cited reference informs questions, provides evidence, or supports or opposes claims.\\n    <event>: this post includes an invitation to an event, either a real-world or an online event. Any kind of event is relevant, some examples of such events could be seminars, meetups, or hackathons. This tag shold only be used for invitations to events, not for posts describing other kinds of events.\\n    <job>: this post describes a job listing, for example a call for graduate students or faculty applications.\\n    <announce>: this post contains an announcement of new research. The announcement is likely made by the authors but may be a third party. We use a broad definition of research that includes classic and non-traditional outputs. Classic outputs include papers, datasets or code. Non traditional outputs can include a podcast, blog post, video explainers, etc.\\n\\n    A user will pass in a post, and you should think step by step, before selecting a set of tags that best match the post.\\n\\n    Your final answer should be structured as follows:\\n    Reasoning Steps: (your reasoning steps)\\n    Candidate Tags: (For potential each tag you choose, explain why you chose it.)\\n    Final Answer: (a set of final tags, based on the Candidate Tags. The final tags must be included in the Candidate Tags list!)\\n\\n    # Input post text:\\n    Author: Paul Smaldino\\n    Content: New paper out in Phil Trans B with Karolina Safarzynska. Simple model of a\\ngroup-structured public good with externalities shifting benefits toward more\\ninequality or more equity. Only redistributional externalities increase\\ncooperation. https://royalsocietypublishing.org/doi/10.1098/rstb.2022.0267\\n\\n    ## Reference Metadata:\\ncitoid_url: https://royalsocietypublishing.org/doi/10.1098/rstb.2022.0267\\nurl: https://royalsocietypublishing.org/doi/10.1098/rstb.2022.0267\\nitem_type: journalArticle\\ntitle: Reducing global inequality increases local cooperation: a simple model of group selection with a global externality\\nsummary: None\\nimage: None\\n\\n    # Output:\\n    ', 'reasoning': '[Reasoning Steps]\\n\\n1. The input post is about a new paper published in Phil Trans B by Paul Smaldino and Karolina Safarzynska.\\n2. The paper discusses a simple model of a group-structured public good with externalities that shift benefits towards more inequality or more equity.\\n3. The post mentions that only redistributional externalities increase cooperation.\\n4. The paper\\'s title, \"Reducing global inequality increases local cooperation: a simple model of group selection with a global externality\", suggests that the author is discussing the relationship between global inequality and local cooperation.\\n5. The post does not express any explicit agreement or disagreement with the paper\\'s ideas, but rather mentions it as a new publication.\\n\\n[Candidate Tags]\\n\\n1. <announce>: This tag is a good fit for the post as it is announcing a new publication.\\n2. <watching>: This tag is not suitable for the post as it is not about the author\\'s watching status of the reference.\\n3. <reading>: This tag is not suitable for the post as it is not about the author\\'s reading status of the reference.\\n4. <listening>: This tag is not suitable for the post as it is not about the author\\'s listening status of the reference.\\n5. <default>: This tag is not suitable for the post as none of the other tags are suitable.\\n6. <quote>: This tag is not suitable for the post as it is not quoting any text from the reference.\\n7. <discussion>: This tag is a good fit for the post as it is discussing the relationship between global inequality and local cooperation.\\n8. <event>: This tag is not suitable for the post as it is not an invitation to an event.\\n9. <job>: This tag is not suitable for the post as it is not about a job listing.\\n10. <recommendation>: This tag is not suitable for the post as it is not recommending any content.', 'allowed_tags': ['endorses', 'disagrees', 'agrees', 'watching', 'reading', 'listening', 'default', 'review', 'recommendation', 'question', 'quote', 'discussion', 'event', 'job', 'announce']}, 'keywords': {'prompt': '\\nYou are an expert annotator tasked with assigning keywords to social media posts. The keywords should represent the most salient topics discussed by the post. The keywords should consist of two types: general and specific. The general keywords should indicate the general topics discussed by the posts and its references, like \"#AI\" or \"#blockchain\". The specific keywords should highlight specific that will help people in the field better understand the post\\'s contents (like \"#monte-carlo-tree-search\", or \"#consensus-algorithms\"). In addition to the above, you should also add a special \\'#academic\\' keyword if the post is related to academic research. Acaedmic research is to be defined broadly, as anything that the author is likely to see as related to their research, including academic job offers, code repositories, blog posts and so on. If the post is clearly not related in any way to academic research, add \\'#not-academic\\'. \\n\\nRules:\\n- You should choose up to 6 keywords, plus the additional special academic/non-academic keyword!\\n- Keywords should be prefixed with a hashtag, e.g., #AI\\n- Your final answer should be structured as follows:\\n    - Reasoning Steps: (your reasoning steps)\\n    - Candidate Keywords: (For potential each keyword you choose, explain why you chose it.)\\n    - Final Answer: (a set of 7 final keywords, based on the Candidate Keywords. One of the keywords should be #academic or #not-academic. The rest of the final keywords must be included in the Candidate Keywords list!)\\n\\n\\n# Input post text:\\nContent: New paper out in Phil Trans B with Karolina Safarzynska. Simple model of a\\ngroup-structured public good with externalities shifting benefits toward more\\ninequality or more equity. Only redistributional externalities increase\\ncooperation. https://royalsocietypublishing.org/doi/10.1098/rstb.2022.0267\\n\\n## Reference Metadata:\\ncitoid_url: https://royalsocietypublishing.org/doi/10.1098/rstb.2022.0267\\nurl: https://royalsocietypublishing.org/doi/10.1098/rstb.2022.0267\\nitem_type: journalArticle\\ntitle: Reducing global inequality increases local cooperation: a simple model of group selection with a global externality\\nsummary: None\\nimage: None\\n\\n# Output:', 'reasoning': '[Reasoning Steps]\\n\\n1. The post is about a new paper published in Phil Trans B with an author named Karolina Safarzynska.\\n2. The paper is focused on a simple model of a group-structured public good with externalities shifting benefits toward more inequality or more equity.\\n3. The paper also discusses redistributional externalities and their impact on cooperation.\\n4. The post does not mention any academic research or job offers.\\n\\n###\\n\\n[Candidate Keywords]\\n\\n1. #AI: This keyword is not relevant to this post.\\n2. #blockchain: This keyword is not relevant to this post.\\n3. #monte-carlo-tree-search: This keyword is not relevant to this post.\\n4. #consensus-algorithms: This keyword is not relevant to this post.\\n5. #inequality: This keyword is relevant because the paper is focused on a simple model of a group-structured public good with externalities shifting benefits toward more inequality or more equity.\\n6. #equity: This keyword is also relevant because the paper is focused on a simple model of a group-structured public good with externalities shifting benefits toward more inequality or more equity.\\n7. #cooperation: This keyword is relevant because the paper discusses the impact of redistributional externalities on cooperation.\\n\\n###'}, 'topics': {'prompt': '\\nYou are an expert annotator tasked with assigning topics to social media posts. The assigned topics should represent the most salient topics discussed by the post.  \\n\\nThe available topic types are:\\n- technology\\n- science\\n- academia\\n- research\\n- design\\n- climate\\n- sustainability\\n- software & hardware\\n- philosophy\\n- health\\n- culture\\n- economics\\n- business\\n- politics\\n- news\\n- finance\\n- sports\\n- entertainment & leisure\\n- art\\n- literature\\n- travel\\n- personal\\n- humour\\n- other\\n\\nA user will pass in a post, and you should think step by step, before selecting a set of topics that best match the post. You must only use the topics in the list!\\n\\n\\nRules:\\n- Your final answer should be structured as follows:\\n    - Reasoning Steps: (your reasoning steps)\\n    - Candidate Topics: (For potential each topic you choose, explain why you chose it.)\\n    - Final Answer: (a set of final topics, based on the Candidate Topics. The rest of the final keywords must be included in the Candidate Topics list!)\\n\\n\\n# Input post text:\\nContent: New paper out in Phil Trans B with Karolina Safarzynska. Simple model of a\\ngroup-structured public good with externalities shifting benefits toward more\\ninequality or more equity. Only redistributional externalities increase\\ncooperation. https://royalsocietypublishing.org/doi/10.1098/rstb.2022.0267\\n\\n## Reference Metadata:\\ncitoid_url: https://royalsocietypublishing.org/doi/10.1098/rstb.2022.0267\\nurl: https://royalsocietypublishing.org/doi/10.1098/rstb.2022.0267\\nitem_type: journalArticle\\ntitle: Reducing global inequality increases local cooperation: a simple model of group selection with a global externality\\nsummary: None\\nimage: None\\n\\n# Output:', 'reasoning': '[Reasoning Steps]\\n\\n1. The post discusses a new paper published in the journal Philosophical Transactions B.\\n2. The paper is about a simple model of a group-structured public good with externalities.\\n3. The author of the paper is Karolina Safarzynska.\\n4. The paper examines how redistributional externalities increase cooperation.\\n5. The paper finds that only redistributional externalities increase cooperation.\\n6. The paper is relevant to the field of philosophy.\\n\\n##\\n\\n[Candidate Tags]\\n\\n1. philosophy\\n2. social science\\n3. economics\\n4. group dynamics\\n5. inequality\\n6. cooperation\\n7. redistribution\\n\\n##'}})"
      ]
     },
     "execution_count": 12,
     "metadata": {},
     "output_type": "execute_result"
    }
   ],
   "source": [
    "result"
   ]
  },
  {
   "cell_type": "code",
   "execution_count": 21,
   "metadata": {},
   "outputs": [
    {
     "data": {
      "text/plain": [
       "['https://royalsocietypublishing.org/doi/10.1098/rstb.2022.0267']"
      ]
     },
     "execution_count": 21,
     "metadata": {},
     "output_type": "execute_result"
    }
   ],
   "source": [
    "result.reference_urls"
   ]
  },
  {
   "cell_type": "code",
   "execution_count": 15,
   "metadata": {},
   "outputs": [],
   "source": [
    "item_types_whitelist = [\n",
    "            \"bookSection\",\n",
    "            \"journalArticle\",\n",
    "            \"preprint\",\n",
    "            \"book\",\n",
    "            \"manuscript\",\n",
    "            \"thesis\",\n",
    "            \"presentation\",\n",
    "            \"conferencePaper\",\n",
    "            \"report\",\n",
    "        ]"
   ]
  },
  {
   "cell_type": "code",
   "execution_count": 17,
   "metadata": {},
   "outputs": [],
   "source": [
    "topics_whitelist = [\n",
    "    \"technology\",\n",
    "    \"science\",\n",
    "    \"academia\",\n",
    "    \"research\",\n",
    "    \"design\",\n",
    "    \"climate\",\n",
    "    \"sustainability\",\n",
    "    \"software & hardware\",\n",
    "    \"philosophy\",\n",
    "    \"health\",\n",
    "    \"culture\",\n",
    "    \"economics\",\n",
    "    \"business\",\n",
    "    \"finance\",\n",
    "    \"literature\",\n",
    "]"
   ]
  },
  {
   "cell_type": "code",
   "execution_count": 14,
   "metadata": {},
   "outputs": [
    {
     "data": {
      "text/plain": [
       "{'journalArticle'}"
      ]
     },
     "execution_count": 14,
     "metadata": {},
     "output_type": "execute_result"
    }
   ],
   "source": [
    "set(result.item_types).intersection(set(item_types_whitelist))"
   ]
  },
  {
   "cell_type": "code",
   "execution_count": 22,
   "metadata": {},
   "outputs": [],
   "source": [
    "def apply_research_filter(results: CombinedParserOutput) -> bool:\n",
    "\n",
    "\n",
    "    # if any item types on the whitelist, pass automatically\n",
    "    if len(set(result.item_types).intersection(set(item_types_whitelist))) > 0:\n",
    "        return True\n",
    "    \n",
    "    # if item types inconclusive, use scoring system\n",
    "    score = 0\n",
    "\n",
    "    # if research related topics not present = 1 point\n",
    "    if len(set(result.topics).intersection(set(topics_whitelist))) == 0:\n",
    "        score += 1\n",
    "    \n",
    "    # if academic keyword not assigned = 1 point\n",
    "    if result.research_filter != \"academic\":\n",
    "        score += 1\n",
    "    \n",
    "    # if no references present = 1 point\n",
    "    if len(result.reference_urls) == 0:\n",
    "        score += 1\n",
    "    \n",
    "    if score >= 2:\n",
    "        return False\n",
    "    else:\n",
    "        return True\n",
    "    \n",
    "    \n",
    "    "
   ]
  },
  {
   "cell_type": "code",
   "execution_count": 23,
   "metadata": {},
   "outputs": [
    {
     "data": {
      "text/plain": [
       "True"
      ]
     },
     "execution_count": 23,
     "metadata": {},
     "output_type": "execute_result"
    }
   ],
   "source": [
    "apply_research_filter(result)"
   ]
  },
  {
   "cell_type": "code",
   "execution_count": 12,
   "metadata": {},
   "outputs": [
    {
     "data": {
      "text/plain": [
       "['science', 'philosophy', 'economics']"
      ]
     },
     "execution_count": 12,
     "metadata": {},
     "output_type": "execute_result"
    }
   ],
   "source": [
    "res[0].topics"
   ]
  },
  {
   "cell_type": "code",
   "execution_count": 12,
   "metadata": {},
   "outputs": [
    {
     "data": {
      "text/plain": [
       "['webpage', 'webpage']"
      ]
     },
     "execution_count": 12,
     "metadata": {},
     "output_type": "execute_result"
    }
   ],
   "source": [
    "res[2].item_types"
   ]
  },
  {
   "cell_type": "code",
   "execution_count": 10,
   "metadata": {},
   "outputs": [
    {
     "data": {
      "text/plain": [
       "{'https://paragraph.xyz/@sense-nets/sense-nets-intro': RefMetadata(citoid_url='https://paragraph.xyz/@sense-nets/sense-nets-intro', url='https://paragraph.xyz/@sense-nets/sense-nets-intro', item_type='webpage', title='Sensemaking Networks: Project Introduction', summary='Incorporating science social media into the scientific process', image=''),\n",
       " 'https://write.as/ulrikehahn/some-thoughts-on-social-media-for-science': RefMetadata(citoid_url='https://write.as/ulrikehahn/some-thoughts-on-social-media-for-science', url='https://write.as/ulrikehahn/some-thoughts-on-social-media-for-science', item_type='webpage', title='Some Thoughts on Social Media for Science', summary='What follows are some more or less connected thoughts on what social media for science could and should be. There are excellent articulat...', image=''),\n",
       " 'https://paragraph.xyz/@sense-nets/2-project-plan': RefMetadata(citoid_url='https://paragraph.xyz/@sense-nets/2-project-plan', url='https://paragraph.xyz/@sense-nets/2-project-plan', item_type='webpage', title='Part 2: Sensemaking Networks Project Plan', summary='Integrating fragmented science social media and reducing the barriers to semantic publishing', image=''),\n",
       " 'https://royalsocietypublishing.org/doi/10.1098/rstb.2022.0267': RefMetadata(citoid_url='https://royalsocietypublishing.org/doi/10.1098/rstb.2022.0267', url='https://royalsocietypublishing.org/doi/10.1098/rstb.2022.0267', item_type='journalArticle', title='Reducing global inequality increases local cooperation: a simple model of group selection with a global externality', summary='', image='')}"
      ]
     },
     "execution_count": 10,
     "metadata": {},
     "output_type": "execute_result"
    }
   ],
   "source": [
    "md_dict"
   ]
  },
  {
   "cell_type": "code",
   "execution_count": 10,
   "metadata": {},
   "outputs": [
    {
     "data": {
      "text/plain": [
       "{'general': {'parser_type': 'multi_stage',\n",
       "  'ref_metadata_method': 'none',\n",
       "  'max_summary_length': 500},\n",
       " 'keyword_extraction': {'enabled': True,\n",
       "  'template': 'keywords_extraction.j2',\n",
       "  'ref_metadata_method': 'citoid',\n",
       "  'max_keywords': 6,\n",
       "  'model': {'model_name': 'mistralai/mistral-7b-instruct',\n",
       "   'temperature': 0.6}},\n",
       " 'model': {'model_name': 'mistralai/mistral-7b-instruct', 'temperature': 0.6},\n",
       " 'ontology': {'versions': None, 'notion_db_id': None},\n",
       " 'openai_api': {'openai_api_base': 'https://openrouter.ai/api/v1',\n",
       "  'openai_api_key': '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',\n",
       "  'openai_api_referer': 'http://localhost:3000'},\n",
       " 'wandb': {'entity': 'common-sense-makers', 'project': 'st-demo-sandbox'}}"
      ]
     },
     "execution_count": 10,
     "metadata": {},
     "output_type": "execute_result"
    }
   ],
   "source": [
    "config"
   ]
  },
  {
   "cell_type": "code",
   "execution_count": 11,
   "metadata": {},
   "outputs": [
    {
     "data": {
      "text/plain": [
       "['indicates-interest']"
      ]
     },
     "execution_count": 11,
     "metadata": {},
     "output_type": "execute_result"
    }
   ],
   "source": [
    "res[2].semantic_tags"
   ]
  },
  {
   "cell_type": "code",
   "execution_count": 25,
   "metadata": {},
   "outputs": [],
   "source": [
    "class StreamlitParserResults(BaseModel):\n",
    "    research_filter: str\n",
    "    item_types: List[str]\n",
    "    reference_urls: List[str]\n",
    "    semantic_tags: List[str]\n",
    "    keywords: List[str]\n",
    "    debug: Optional[Dict] = Field(default_factory=dict)\n"
   ]
  },
  {
   "cell_type": "code",
   "execution_count": null,
   "metadata": {},
   "outputs": [],
   "source": []
  },
  {
   "cell_type": "code",
   "execution_count": 26,
   "metadata": {},
   "outputs": [],
   "source": [
    "def convert_raw_output_to_st_format(post: RefPost, \n",
    "                                    sem_prompt: str,\n",
    "                                    kw_prompt: str,\n",
    "    output: dict, md_dict: Dict[str, RefMetadata]\n",
    "):\n",
    "    reference_urls = post.ref_urls\n",
    "    item_types = [md_dict[url].item_type for url in reference_urls]\n",
    "    semantic_tags = output[\"semantics\"][\"multi_tag\"]\n",
    "    keywords = output[\"keywords\"][\"valid_keywords\"]\n",
    "    research_filter = output[\"keywords\"][\"academic_kw\"]\n",
    "    debug = {\"semantics\": {\"prompt\": sem_prompt, \"reasoning\": output[\"semantics\"][\"reasoning\"],\n",
    "                           \"allowed_tags\": output[\"semantics\"][\"allowed_tags\"]}, \n",
    "             \"kw_prompt\": {\"prompt\": kw_prompt, \"reasoning\": output[\"keywords\"][\"reasoning\"]}}\n",
    "    return StreamlitParserResults(\n",
    "        research_filter=research_filter,\n",
    "        item_types=item_types,\n",
    "        reference_urls=reference_urls,\n",
    "        semantic_tags=semantic_tags,\n",
    "        keywords=keywords,\n",
    "        debug=debug\n",
    "    )"
   ]
  },
  {
   "cell_type": "code",
   "execution_count": 27,
   "metadata": {},
   "outputs": [],
   "source": [
    "def convert_raw_outputs_to_st_format(\n",
    "    posts: List[RefPost], outputs: List[dict], prompts, md_dict: Dict[str, RefMetadata]\n",
    ") -> List[StreamlitParserResults]:\n",
    "    assert len(prompts) == len(outputs)\n",
    "    assert len(posts) == len(outputs)\n",
    "    st_results = []\n",
    "    for post, output, prompt_dict in zip(posts, outputs, prompts):\n",
    "        st_result = convert_raw_output_to_st_format(post, \n",
    "                                        prompt_dict[\"input\"],\n",
    "                                        prompt_dict[\"kw_input\"],\n",
    "                                        output,\n",
    "                                        md_dict)\n",
    "        st_results.append(st_result)\n",
    "    return st_results\n",
    "\n",
    "\n",
    "\n",
    "\n",
    "\n",
    "\n",
    "\n"
   ]
  },
  {
   "cell_type": "code",
   "execution_count": null,
   "metadata": {},
   "outputs": [],
   "source": []
  },
  {
   "cell_type": "code",
   "execution_count": 16,
   "metadata": {},
   "outputs": [],
   "source": [
    "item = res[0]"
   ]
  },
  {
   "cell_type": "code",
   "execution_count": 21,
   "metadata": {},
   "outputs": [
    {
     "data": {
      "text/plain": [
       "{'semantics': {'reasoning': \"[Reasoning Steps]\\n\\n1. The author, Paul Smaldino, is an expert in the field of public goods and social choice theory.\\n2. The content refers to a new paper that Smaldino has co-authored with Karolina Safarzynska.\\n3. The paper discusses a simple model of a group-structured public good with externalities shifting benefits toward more inequality or more equity.\\n4. The paper also explores the impact of redistributional externalities on cooperation in the model.\\n\\n[Candidate Tags]\\n\\n1. <call-for-papers>: This tag is not suitable as the post does not contain a call for research papers.\\n2. <endorses>: This tag is not suitable as the post does not explicitly endorse the referenced paper.\\n3. <disagrees>: This tag is not suitable as the post does not dispute or express disagreement with the referenced paper.\\n4. <agrees>: This tag is not suitable as the post does not express agreement with the referenced paper.\\n5. <indicates-interest>: This tag is not suitable as the post does not indicate interest in the referenced paper.\\n6. <funding>: This tag is not suitable as the post does not mention a funding opportunity.\\n7. <watching>: This tag is not suitable as the post does not describe the author's watching status in relation to the referenced paper.\\n8. <reading>: This tag is not suitable as the post does not describe the author's reading status in relation to the referenced paper.\\n9. <listening>: This tag is not suitable as the post does not describe the author's listening status in relation to the referenced paper.\\n10. <default>: This tag is not suitable as there are other tags that better characterize the relation of the post to the external reference.\\n11. <review>: This tag is not suitable as the post does not contain a review of the referenced paper.\\n12. <recommendation>: This tag is not suitable as the post does not recommend any kind of content.\\n13. <question>: This tag is not suitable as the post does not raise any questions about the referenced paper.\\n14. <quote>: This tag is not suitable as the post does not quote text from the referenced paper.\\n15. <discussion>: This tag is suitable as the post discusses how the referenced paper relates to other facts or claims.\\n16. <event>: This tag is not suitable as the post does not include an invitation to an event.\\n17. <job>: This tag is not suitable as the post does not describe a job listing.\\n18. <announce>: This tag is suitable as the post contains an announcement of a new research paper.\",\n",
       "  'final_answer': '<announce>',\n",
       "  'single_tag': ['announce'],\n",
       "  'multi_tag': ['announce'],\n",
       "  'allowed_tags': ['call-for-papers',\n",
       "   'endorses',\n",
       "   'disagrees',\n",
       "   'agrees',\n",
       "   'indicates-interest',\n",
       "   'funding',\n",
       "   'watching',\n",
       "   'reading',\n",
       "   'listening',\n",
       "   'default',\n",
       "   'review',\n",
       "   'recommendation',\n",
       "   'question',\n",
       "   'quote',\n",
       "   'discussion',\n",
       "   'event',\n",
       "   'job',\n",
       "   'announce']},\n",
       " 'keywords': {'reasoning': \"[Reasoning Steps]\\n\\n1. The post discusses a new paper by Paul Smaldino and Karolina Safarzynska that was published in Phil Trans B.\\n2. The paper focuses on a simple model of a group-structured public good with externalities shifting benefits toward more inequality or more equity.\\n3. The post mentions that only redistributional externalities increase cooperation, suggesting that the paper's findings are related to the study of cooperation and social norms.\\n4. The post also includes a link to the paper, which provides more detail on the authors' findings.\\n\\n[Candidate Keywords]\\n\\n1. #public-goods\\n2. #externalities\\n3. #inequality\\n4. #equity\\n5. #cooperation\\n6. #social-norms\",\n",
       "  'final_answer': \"1. #public-goods\\n2. #externalities\\n3. #inequality\\n4. #equity\\n5. #cooperation\\n6. #social-norms\\n7. #academic\\n\\nNote: The post is related to academic research, so the '#academic' keyword is included in the final answer.\",\n",
       "  'valid_keywords': ['externalities',\n",
       "   'inequality',\n",
       "   'equity',\n",
       "   'cooperation',\n",
       "   'public-goods',\n",
       "   'social-norms'],\n",
       "  'academic_kw': 'academic',\n",
       "  'raw_text': \"Reasoning Steps:\\n\\n1. The post discusses a new paper by Paul Smaldino and Karolina Safarzynska that was published in Phil Trans B.\\n2. The paper focuses on a simple model of a group-structured public good with externalities shifting benefits toward more inequality or more equity.\\n3. The post mentions that only redistributional externalities increase cooperation, suggesting that the paper's findings are related to the study of cooperation and social norms.\\n4. The post also includes a link to the paper, which provides more detail on the authors' findings.\\n\\nCandidate Keywords:\\n\\n1. #public-goods\\n2. #externalities\\n3. #inequality\\n4. #equity\\n5. #cooperation\\n6. #social-norms\\n\\nFinal Answer:\\n\\n1. #public-goods\\n2. #externalities\\n3. #inequality\\n4. #equity\\n5. #cooperation\\n6. #social-norms\\n7. #academic\\n\\nNote: The post is related to academic research, so the '#academic' keyword is included in the final answer.\"}}"
      ]
     },
     "execution_count": 21,
     "metadata": {},
     "output_type": "execute_result"
    }
   ],
   "source": [
    "item"
   ]
  },
  {
   "cell_type": "code",
   "execution_count": 18,
   "metadata": {},
   "outputs": [
    {
     "data": {
      "text/plain": [
       "['announce']"
      ]
     },
     "execution_count": 18,
     "metadata": {},
     "output_type": "execute_result"
    }
   ],
   "source": [
    "item[\"semantics\"][\"multi_tag\"]"
   ]
  },
  {
   "cell_type": "code",
   "execution_count": null,
   "metadata": {},
   "outputs": [],
   "source": []
  },
  {
   "cell_type": "code",
   "execution_count": null,
   "metadata": {},
   "outputs": [],
   "source": []
  },
  {
   "cell_type": "code",
   "execution_count": 14,
   "metadata": {},
   "outputs": [],
   "source": [
    "\n",
    "run_cost = 0.00021 * 2"
   ]
  },
  {
   "cell_type": "code",
   "execution_count": 15,
   "metadata": {},
   "outputs": [
    {
     "data": {
      "text/plain": [
       "0.8400000000000001"
      ]
     },
     "execution_count": 15,
     "metadata": {},
     "output_type": "execute_result"
    }
   ],
   "source": [
    "2000 * run_cost"
   ]
  },
  {
   "cell_type": "code",
   "execution_count": 8,
   "metadata": {},
   "outputs": [
    {
     "name": "stdout",
     "output_type": "stream",
     "text": [
      "## Reasoning Steps:\n",
      "\n",
      "Based on the input post, the following keywords can be assigned:\n",
      "\n",
      "* #SensemakingNetworks\n",
      "* #AsteraInstitute\n",
      "* #ScienceResearch\n",
      "* #BlogPost\n",
      "* #ScienceCommunity\n",
      "* #NewYear\n",
      "* #Excited\n",
      "\n",
      "## Candidate Keywords:\n",
      "\n",
      "1. #SensemakingNetworks: The post mentions the author's upcoming project on Sensemaking Networks, which is likely related to scientific research.\n",
      "2. #AsteraInstitute: The post mentions the author's work at AsteraInstitute, which suggests that the post is related to academic research.\n",
      "3. #ScienceResearch: The post mentions \"science research,\" indicating that the author is working on a research project.\n",
      "4. #BlogPost: The post mentions that the author is crossposting from Birdsite, which suggests that the post is a blog post.\n",
      "5. #ScienceCommunity: The post mentions the science community, indicating that the author is part of the scientific community.\n",
      "6. #NewYear: The post mentions the new year, which suggests that the author is looking forward to the future.\n",
      "7. #Excited: The post mentions that the author is excited, which suggests that they are enthusiastic about their upcoming project.\n",
      "\n",
      "## Final Answer:\n",
      "\n",
      "* #SensemakingNetworks\n",
      "* #AsteraInstitute\n",
      "* #ScienceResearch\n",
      "* #BlogPost\n",
      "* #ScienceCommunity\n",
      "* #NewYear\n",
      "* #Excited\n",
      "* #academic\n"
     ]
    }
   ],
   "source": [
    "print(res[2]['keywords']['raw_text'])"
   ]
  },
  {
   "cell_type": "code",
   "execution_count": 9,
   "metadata": {},
   "outputs": [
    {
     "data": {
      "text/plain": [
       "{'reasoning': '[Reasoning Steps]\\n\\nBased on the input post, the following keywords can be assigned:\\n\\n* #SensemakingNetworks\\n* #AsteraInstitute\\n* #ScienceResearch\\n* #BlogPost\\n* #ScienceCommunity\\n* #NewYear\\n* #Excited\\n\\n##\\n\\n[Candidate Keywords]\\n\\n1. #SensemakingNetworks: The post mentions the author\\'s upcoming project on Sensemaking Networks, which is likely related to scientific research.\\n2. #AsteraInstitute: The post mentions the author\\'s work at AsteraInstitute, which suggests that the post is related to academic research.\\n3. #ScienceResearch: The post mentions \"science research,\" indicating that the author is working on a research project.\\n4. #BlogPost: The post mentions that the author is crossposting from Birdsite, which suggests that the post is a blog post.\\n5. #ScienceCommunity: The post mentions the science community, indicating that the author is part of the scientific community.\\n6. #NewYear: The post mentions the new year, which suggests that the author is looking forward to the future.\\n7. #Excited: The post mentions that the author is excited, which suggests that they are enthusiastic about their upcoming project.\\n\\n##',\n",
       " 'final_answer': '* #SensemakingNetworks\\n* #AsteraInstitute\\n* #ScienceResearch\\n* #BlogPost\\n* #ScienceCommunity\\n* #NewYear\\n* #Excited\\n* #academic',\n",
       " 'valid_keywords': ['SensemakingNetworks',\n",
       "  'ScienceResearch',\n",
       "  'BlogPost',\n",
       "  'ScienceCommunity',\n",
       "  'NewYear',\n",
       "  'Excited'],\n",
       " 'academic_kw': 'academic',\n",
       " 'raw_text': '## Reasoning Steps:\\n\\nBased on the input post, the following keywords can be assigned:\\n\\n* #SensemakingNetworks\\n* #AsteraInstitute\\n* #ScienceResearch\\n* #BlogPost\\n* #ScienceCommunity\\n* #NewYear\\n* #Excited\\n\\n## Candidate Keywords:\\n\\n1. #SensemakingNetworks: The post mentions the author\\'s upcoming project on Sensemaking Networks, which is likely related to scientific research.\\n2. #AsteraInstitute: The post mentions the author\\'s work at AsteraInstitute, which suggests that the post is related to academic research.\\n3. #ScienceResearch: The post mentions \"science research,\" indicating that the author is working on a research project.\\n4. #BlogPost: The post mentions that the author is crossposting from Birdsite, which suggests that the post is a blog post.\\n5. #ScienceCommunity: The post mentions the science community, indicating that the author is part of the scientific community.\\n6. #NewYear: The post mentions the new year, which suggests that the author is looking forward to the future.\\n7. #Excited: The post mentions that the author is excited, which suggests that they are enthusiastic about their upcoming project.\\n\\n## Final Answer:\\n\\n* #SensemakingNetworks\\n* #AsteraInstitute\\n* #ScienceResearch\\n* #BlogPost\\n* #ScienceCommunity\\n* #NewYear\\n* #Excited\\n* #academic'}"
      ]
     },
     "execution_count": 9,
     "metadata": {},
     "output_type": "execute_result"
    }
   ],
   "source": [
    "res[2]['keywords']"
   ]
  },
  {
   "cell_type": "code",
   "execution_count": 16,
   "metadata": {},
   "outputs": [
    {
     "data": {
      "text/plain": [
       "['announce']"
      ]
     },
     "execution_count": 16,
     "metadata": {},
     "output_type": "execute_result"
    }
   ],
   "source": [
    "res[2][\"semantics\"]['multi_tag']"
   ]
  },
  {
   "cell_type": "code",
   "execution_count": 8,
   "metadata": {},
   "outputs": [],
   "source": [
    "chain = parser.prompt_case_dict[PromptCase.SINGLE_REF][\"chain\"]"
   ]
  },
  {
   "cell_type": "code",
   "execution_count": 9,
   "metadata": {},
   "outputs": [],
   "source": [
    "input_prompts = [parser.create_semantics_prompt_by_case(post, PromptCase.SINGLE_REF) for post in posts]"
   ]
  },
  {
   "cell_type": "code",
   "execution_count": 10,
   "metadata": {},
   "outputs": [],
   "source": [
    "inputs = [{\"input\": prompt} for prompt in input_prompts]"
   ]
  },
  {
   "cell_type": "code",
   "execution_count": 11,
   "metadata": {},
   "outputs": [],
   "source": [
    "results = await chain.abatch(inputs)"
   ]
  },
  {
   "cell_type": "code",
   "execution_count": 12,
   "metadata": {},
   "outputs": [
    {
     "data": {
      "text/plain": [
       "{'reasoning': \"[Reasoning Steps]\\n\\n1. The post is about a new paper published in Phil Trans B.\\n2. The paper is authored by Paul Smaldino and Karolina Safarzynska.\\n3. The paper is about a simple model of a group-structured public good with externalities shifting benefits toward more inequality or more equity.\\n4. The post does not explicitly endorse or disagree with the paper's content.\\n5. The post does not contain any calls for papers, funding, or job listings.\\n\\n[Candidate Tags]\\n\\n<paper>, <public-good>, <equity>, <inequality>, <group-structure>, <externalities>\",\n",
       " 'final_answer': '<paper>, <public-good>, <equity>, <inequality>, <group-structure>, <externalities>',\n",
       " 'single_tag': [],\n",
       " 'multi_tag': []}"
      ]
     },
     "execution_count": 12,
     "metadata": {},
     "output_type": "execute_result"
    }
   ],
   "source": [
    "results[0]"
   ]
  },
  {
   "cell_type": "code",
   "execution_count": 17,
   "metadata": {},
   "outputs": [
    {
     "name": "stdout",
     "output_type": "stream",
     "text": [
      "[Reasoning Steps]\n",
      "\n",
      "1. The post is about a new paper published in Phil Trans B.\n",
      "2. The paper is authored by Paul Smaldino and Karolina Safarzynska.\n",
      "3. The paper is about a simple model of a group-structured public good with externalities shifting benefits toward more inequality or more equity.\n",
      "4. The post does not explicitly endorse or disagree with the paper's content.\n",
      "5. The post does not contain any calls for papers, funding, or job listings.\n",
      "\n",
      "[Candidate Tags]\n",
      "\n",
      "<paper>, <public-good>, <equity>, <inequality>, <group-structure>, <externalities>\n"
     ]
    }
   ],
   "source": [
    "print(results[0][\"reasoning\"])"
   ]
  },
  {
   "cell_type": "code",
   "execution_count": 18,
   "metadata": {},
   "outputs": [],
   "source": [
    "# https://python.langchain.com/docs/expression_language/how_to/functions\n",
    "from langchain_core.runnables import RunnableConfig"
   ]
  },
  {
   "cell_type": "code",
   "execution_count": 19,
   "metadata": {},
   "outputs": [],
   "source": [
    "config = RunnableConfig(max_concurrency=3)"
   ]
  },
  {
   "cell_type": "code",
   "execution_count": 20,
   "metadata": {},
   "outputs": [
    {
     "data": {
      "text/plain": [
       "6"
      ]
     },
     "execution_count": 20,
     "metadata": {},
     "output_type": "execute_result"
    }
   ],
   "source": [
    "# make list of 6 inputs \n",
    "inputs = inputs * 2\n",
    "len(inputs)"
   ]
  },
  {
   "cell_type": "code",
   "execution_count": 28,
   "metadata": {},
   "outputs": [
    {
     "name": "stdout",
     "output_type": "stream",
     "text": [
      "7.781785011291504\n",
      "13.621722221374512\n",
      "10.330399990081787\n",
      "9.885744094848633\n",
      "21.70015788078308\n",
      "18.53901195526123\n",
      "Total time: 81.85882115364075\n"
     ]
    }
   ],
   "source": [
    "times = []\n",
    "for ii in inputs:\n",
    "    start_time = time.time()  \n",
    "    res = chain.invoke(ii)\n",
    "    end_time = time.time()\n",
    "    elapsed_time = end_time - start_time\n",
    "    times.append(elapsed_time)\n",
    "    print(elapsed_time)\n",
    "print(f\"Total time: {sum(times)}\")\n"
   ]
  },
  {
   "cell_type": "code",
   "execution_count": 24,
   "metadata": {},
   "outputs": [
    {
     "name": "stdout",
     "output_type": "stream",
     "text": [
      "\n",
      "All tasks completed in 21.54 seconds\n"
     ]
    }
   ],
   "source": [
    "# 1 batch of 6\n",
    "start_time = time.time()  \n",
    "results = await chain.abatch(inputs)\n",
    "end_time = time.time()\n",
    "elapsed_time = end_time - start_time\n",
    "print(\"\\nAll tasks completed in {:.2f} seconds\".format(elapsed_time))\n"
   ]
  },
  {
   "cell_type": "code",
   "execution_count": 23,
   "metadata": {},
   "outputs": [
    {
     "name": "stdout",
     "output_type": "stream",
     "text": [
      "\n",
      "All tasks completed in 29.17 seconds\n"
     ]
    }
   ],
   "source": [
    "# 2 batches of 3\n",
    "start_time = time.time()  \n",
    "results = await chain.abatch(inputs, config=config)\n",
    "end_time = time.time()\n",
    "elapsed_time = end_time - start_time\n",
    "print(\"\\nAll tasks completed in {:.2f} seconds\".format(elapsed_time))\n"
   ]
  },
  {
   "cell_type": "markdown",
   "metadata": {},
   "source": [
    "# Can we run a RunnableParallel chain in abatch mode?"
   ]
  },
  {
   "cell_type": "code",
   "execution_count": 25,
   "metadata": {},
   "outputs": [],
   "source": [
    "# create parallel chain\n",
    "chain_1 = parser.prompt_case_dict[PromptCase.SINGLE_REF][\"chain\"]\n",
    "chain_2 = parser.prompt_case_dict[PromptCase.SINGLE_REF][\"chain\"]\n",
    "\n",
    "map_chain = RunnableParallel(semantics=chain_1, keywords=chain_2)"
   ]
  },
  {
   "cell_type": "code",
   "execution_count": 26,
   "metadata": {},
   "outputs": [],
   "source": [
    "results = await map_chain.abatch(inputs[:3])"
   ]
  },
  {
   "cell_type": "code",
   "execution_count": 27,
   "metadata": {},
   "outputs": [
    {
     "data": {
      "text/plain": [
       "{'semantics': {'reasoning': '[Reasoning Steps]\\n\\n1. The post is about a new paper published in Phil Trans B.\\n2. The paper is about a group-structured public good with externalities.\\n3. The paper discusses how externalities affect cooperation and how only redistributional externalities increase cooperation.\\n\\n[Candidate Tags]\\n\\n1. <endorses>: This tag could be used to indicate that the author is endorsing the paper. However, since there is no explicit statement of endorsement, this tag is not the best fit.\\n2. <agrees>: This tag could be used to indicate that the author agrees with the conclusions of the paper. However, since there is no explicit statement of agreement, this tag is not the best fit.\\n3. <disagrees>: This tag could be used to indicate that the author disagrees with the conclusions of the paper. However, since there is no explicit statement of disagreement, this tag is not the best fit.\\n4. <indicates-interest>: This tag could be used to indicate that the author is interested in the topic of the paper. Since the author is the author of the paper, this tag is not the best fit.\\n5. <review>: This tag could be used to indicate that the author is providing a review of the paper. However, since there is no explicit statement of review, this tag is not the best fit.\\n6. <recommendation>: This tag could be used to indicate that the author is recommending the paper. However, since the author is the author of the paper, this tag is not the best fit.\\n7. <question>: This tag could be used to indicate that the author is raising questions about the paper. However, since there is no explicit statement of questions, this tag is not the best fit.\\n8. <quote>: This tag could be used to indicate that the author is quoting text from the paper. However, since there is no explicit statement of quoting, this tag is not the best fit.\\n9. <discussion>: This tag could be used to indicate that the author is discussing how the paper relates to other facts or claims. Since the author is discussing the conclusions of their own paper, this tag is the best fit.\\n10. <announce>: This tag could be used to indicate that the author is announcing the publication of the paper. Since the author is the author of the paper, this tag is not the best fit.',\n",
       "  'final_answer': '<discussion>',\n",
       "  'single_tag': ['discussion'],\n",
       "  'multi_tag': ['discussion']},\n",
       " 'keywords': {'reasoning': \"[Reasoning Steps]\\n\\n1. The post is about a new paper that has been published in Phil Trans B.\\n2. The author of the post is Paul Smaldino.\\n3. The paper is co-authored with Karolina Safarzynska.\\n4. The paper is a simple model of a group-structured public good with externalities shifting benefits toward more inequality or more equity.\\n5. The post is not explicitly recommending or endorsing the paper.\\n6. The post is not disputing or expressing disagreement with the paper's statements, ideas or conclusions.\\n7. The post is not indicating interest in the paper.\\n8. The post is not mentioning a funding opportunity related to the paper.\\n9. The post is not describing the watching or reading status of the author in relation to the paper.\\n10. The post is not mentioning any other content that the author is recommending or quoting from.\\n11. The post is not raising any questions about the paper.\\n12. The post is not quoting text from the paper.\\n13. The post is not discussing how the paper relates to other facts or claims.\\n14. The post is not inviting the reader to an event related to the paper.\\n15. The post is not describing a job listing or making an announcement related to the paper.\\n\\n[Candidate Tags]\\n\\n1. <call-for-papers>: This tag is not suitable because the post is not about a call for research papers.\\n2. <endorses>: This tag is not suitable because the post is not explicitly recommending or endorsing the paper.\\n3. <disagrees>: This tag is not suitable because the post is not disputing or expressing disagreement with the paper's statements, ideas or conclusions.\\n4. <indicates-interest>: This tag is not suitable because the post is not indicating interest in the paper.\\n5. <funding>: This tag is not suitable because the post is not mentioning a funding opportunity related to the paper.\\n6. <watching>: This tag is not suitable because the post is not describing the watching status of the author in relation to the paper.\\n7. <reading>: This tag is not suitable because the post is not describing the reading status of the author in relation to the paper.\\n8. <listening>: This tag is not suitable because the post is not describing the listening status of the author in relation to the paper.\\n9. <default>: This tag is not suitable because the post can be characterized by one of the other tags.\\n10. <review>: This tag is not suitable because the post is not containing a review of another reference.\\n11. <recommendation>: This tag is not suitable because the post is not recommending any kind of content.\\n12. <question>: This tag is not suitable because the post is not raising any questions about the paper.\\n13. <quote>: This tag is not suitable because the post is not quoting text from the paper.\\n14. <discussion>: This tag is not suitable because the post is not discussing how the paper relates to other facts or claims.\\n15. <event>: This tag is not suitable because the post is not inviting the reader to an event related to the paper.\\n16. <job>: This tag is not suitable because the post is not describing a job listing or making an announcement related to the paper.\\n17. <announce>: This tag is suitable because the post is announcing a new research paper.\",\n",
       "  'final_answer': '<announce>',\n",
       "  'single_tag': ['announce'],\n",
       "  'multi_tag': ['announce']}}"
      ]
     },
     "execution_count": 27,
     "metadata": {},
     "output_type": "execute_result"
    }
   ],
   "source": [
    "results[0]"
   ]
  },
  {
   "cell_type": "markdown",
   "metadata": {},
   "source": [
    "Looks like yes!"
   ]
  },
  {
   "cell_type": "code",
   "execution_count": null,
   "metadata": {},
   "outputs": [],
   "source": []
  }
 ],
 "metadata": {
  "kernelspec": {
   "display_name": "sensebot",
   "language": "python",
   "name": "python3"
  },
  "language_info": {
   "codemirror_mode": {
    "name": "ipython",
    "version": 3
   },
   "file_extension": ".py",
   "mimetype": "text/x-python",
   "name": "python",
   "nbconvert_exporter": "python",
   "pygments_lexer": "ipython3",
   "version": "3.11.7"
  }
 },
 "nbformat": 4,
 "nbformat_minor": 2
}
