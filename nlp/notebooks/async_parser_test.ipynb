{
 "cells": [
  {
   "cell_type": "code",
   "execution_count": 1,
   "metadata": {},
   "outputs": [],
   "source": [
    "import nest_asyncio\n",
    "nest_asyncio.apply()"
   ]
  },
  {
   "cell_type": "code",
   "execution_count": 2,
   "metadata": {},
   "outputs": [],
   "source": [
    "import sys\n",
    "sys.path.append(\"../\")\n",
    "\n",
    "import asyncio\n",
    "import time\n",
    "from langchain_core.runnables import RunnableParallel\n",
    "\n",
    "from desci_sense.configs import default_init_parser_config\n",
    "from desci_sense.shared_functions.dataloaders import scrape_post\n",
    "from desci_sense.shared_functions.parsers.firebase_api_parser import FirebaseAPIParser, PromptCase"
   ]
  },
  {
   "cell_type": "code",
   "execution_count": 3,
   "metadata": {},
   "outputs": [],
   "source": [
    "config = default_init_parser_config(semantics_model=\"mistralai/mistral-7b-instruct\",\n",
    "                                    kw_model=\"mistralai/mistral-7b-instruct\")"
   ]
  },
  {
   "cell_type": "code",
   "execution_count": 4,
   "metadata": {},
   "outputs": [],
   "source": [
    "# get a few posts for input\n",
    "urls = [\"https://mastodon.social/@psmaldino@qoto.org/111405098400404613\",\n",
    "        \"https://mastodon.social/@UlrikeHahn@fediscience.org/111732713776994953\",\n",
    "        \"https://mastodon.social/@ronent/111687038322549430\"]\n",
    "posts = [scrape_post(url) for url in urls]"
   ]
  },
  {
   "cell_type": "code",
   "execution_count": 5,
   "metadata": {},
   "outputs": [
    {
     "data": {
      "text/plain": [
       "3"
      ]
     },
     "execution_count": 5,
     "metadata": {},
     "output_type": "execute_result"
    }
   ],
   "source": [
    "len(posts)"
   ]
  },
  {
   "cell_type": "code",
   "execution_count": 6,
   "metadata": {},
   "outputs": [
    {
     "name": "stderr",
     "output_type": "stream",
     "text": [
      "\u001b[32m2024-03-18 15:14:33.625\u001b[0m | \u001b[1mINFO    \u001b[0m | \u001b[36mdesci_sense.shared_functions.parsers.firebase_api_parser\u001b[0m:\u001b[36mset_md_extract_method\u001b[0m:\u001b[36m134\u001b[0m - \u001b[1mSetting metadata extraction method to none...\u001b[0m\n",
      "\u001b[32m2024-03-18 15:14:33.626\u001b[0m | \u001b[1mINFO    \u001b[0m | \u001b[36mdesci_sense.shared_functions.parsers.firebase_api_parser\u001b[0m:\u001b[36m__init__\u001b[0m:\u001b[36m97\u001b[0m - \u001b[1mLoading parser model (type=mistralai/mistral-7b-instruct)...\u001b[0m\n",
      "/Users/ronentamari/anaconda3/envs/asensebot/lib/python3.11/site-packages/langchain_core/_api/deprecation.py:117: LangChainDeprecationWarning: The class `langchain_community.chat_models.openai.ChatOpenAI` was deprecated in langchain-community 0.0.10 and will be removed in 0.2.0. An updated version of the class exists in the langchain-openai package and should be used instead. To use it run `pip install -U langchain-openai` and import as `from langchain_openai import ChatOpenAI`.\n",
      "  warn_deprecated(\n",
      "\u001b[32m2024-03-18 15:14:33.881\u001b[0m | \u001b[1mINFO    \u001b[0m | \u001b[36mdesci_sense.shared_functions.parsers.firebase_api_parser\u001b[0m:\u001b[36mset_kw_md_extract_method\u001b[0m:\u001b[36m138\u001b[0m - \u001b[1mSetting keywords metadata extraction method to citoid...\u001b[0m\n",
      "\u001b[32m2024-03-18 15:14:33.882\u001b[0m | \u001b[1mINFO    \u001b[0m | \u001b[36mdesci_sense.shared_functions.parsers.firebase_api_parser\u001b[0m:\u001b[36minit_keyword_extraction_chain\u001b[0m:\u001b[36m406\u001b[0m - \u001b[1mLoading keyword model (type=mistralai/mistral-7b-instruct)...\u001b[0m\n",
      "\u001b[32m2024-03-18 15:14:33.907\u001b[0m | \u001b[1mINFO    \u001b[0m | \u001b[36mdesci_sense.shared_functions.parsers.firebase_api_parser\u001b[0m:\u001b[36m__init__\u001b[0m:\u001b[36m114\u001b[0m - \u001b[1mLoading ontology...\u001b[0m\n"
     ]
    }
   ],
   "source": [
    "parser = FirebaseAPIParser(config=config)"
   ]
  },
  {
   "cell_type": "code",
   "execution_count": 8,
   "metadata": {},
   "outputs": [],
   "source": [
    "chain = parser.prompt_case_dict[PromptCase.SINGLE_REF][\"chain\"]"
   ]
  },
  {
   "cell_type": "code",
   "execution_count": 9,
   "metadata": {},
   "outputs": [],
   "source": [
    "input_prompts = [parser.create_semantics_prompt_by_case(post, PromptCase.SINGLE_REF) for post in posts]"
   ]
  },
  {
   "cell_type": "code",
   "execution_count": 10,
   "metadata": {},
   "outputs": [],
   "source": [
    "inputs = [{\"input\": prompt} for prompt in input_prompts]"
   ]
  },
  {
   "cell_type": "code",
   "execution_count": 11,
   "metadata": {},
   "outputs": [],
   "source": [
    "results = await chain.abatch(inputs)"
   ]
  },
  {
   "cell_type": "code",
   "execution_count": 12,
   "metadata": {},
   "outputs": [
    {
     "data": {
      "text/plain": [
       "{'reasoning': \"[Reasoning Steps]\\n\\n1. The post is about a new paper published in Phil Trans B.\\n2. The paper is authored by Paul Smaldino and Karolina Safarzynska.\\n3. The paper is about a simple model of a group-structured public good with externalities shifting benefits toward more inequality or more equity.\\n4. The post does not explicitly endorse or disagree with the paper's content.\\n5. The post does not contain any calls for papers, funding, or job listings.\\n\\n[Candidate Tags]\\n\\n<paper>, <public-good>, <equity>, <inequality>, <group-structure>, <externalities>\",\n",
       " 'final_answer': '<paper>, <public-good>, <equity>, <inequality>, <group-structure>, <externalities>',\n",
       " 'single_tag': [],\n",
       " 'multi_tag': []}"
      ]
     },
     "execution_count": 12,
     "metadata": {},
     "output_type": "execute_result"
    }
   ],
   "source": [
    "results[0]"
   ]
  },
  {
   "cell_type": "code",
   "execution_count": 17,
   "metadata": {},
   "outputs": [
    {
     "name": "stdout",
     "output_type": "stream",
     "text": [
      "[Reasoning Steps]\n",
      "\n",
      "1. The post is about a new paper published in Phil Trans B.\n",
      "2. The paper is authored by Paul Smaldino and Karolina Safarzynska.\n",
      "3. The paper is about a simple model of a group-structured public good with externalities shifting benefits toward more inequality or more equity.\n",
      "4. The post does not explicitly endorse or disagree with the paper's content.\n",
      "5. The post does not contain any calls for papers, funding, or job listings.\n",
      "\n",
      "[Candidate Tags]\n",
      "\n",
      "<paper>, <public-good>, <equity>, <inequality>, <group-structure>, <externalities>\n"
     ]
    }
   ],
   "source": [
    "print(results[0][\"reasoning\"])"
   ]
  },
  {
   "cell_type": "code",
   "execution_count": 18,
   "metadata": {},
   "outputs": [],
   "source": [
    "# https://python.langchain.com/docs/expression_language/how_to/functions\n",
    "from langchain_core.runnables import RunnableConfig"
   ]
  },
  {
   "cell_type": "code",
   "execution_count": 19,
   "metadata": {},
   "outputs": [],
   "source": [
    "config = RunnableConfig(max_concurrency=3)"
   ]
  },
  {
   "cell_type": "code",
   "execution_count": 20,
   "metadata": {},
   "outputs": [
    {
     "data": {
      "text/plain": [
       "6"
      ]
     },
     "execution_count": 20,
     "metadata": {},
     "output_type": "execute_result"
    }
   ],
   "source": [
    "# make list of 6 inputs \n",
    "inputs = inputs * 2\n",
    "len(inputs)"
   ]
  },
  {
   "cell_type": "code",
   "execution_count": 28,
   "metadata": {},
   "outputs": [
    {
     "name": "stdout",
     "output_type": "stream",
     "text": [
      "7.781785011291504\n",
      "13.621722221374512\n",
      "10.330399990081787\n",
      "9.885744094848633\n",
      "21.70015788078308\n",
      "18.53901195526123\n",
      "Total time: 81.85882115364075\n"
     ]
    }
   ],
   "source": [
    "times = []\n",
    "for ii in inputs:\n",
    "    start_time = time.time()  \n",
    "    res = chain.invoke(ii)\n",
    "    end_time = time.time()\n",
    "    elapsed_time = end_time - start_time\n",
    "    times.append(elapsed_time)\n",
    "    print(elapsed_time)\n",
    "print(f\"Total time: {sum(times)}\")\n"
   ]
  },
  {
   "cell_type": "code",
   "execution_count": 24,
   "metadata": {},
   "outputs": [
    {
     "name": "stdout",
     "output_type": "stream",
     "text": [
      "\n",
      "All tasks completed in 21.54 seconds\n"
     ]
    }
   ],
   "source": [
    "# 1 batch of 6\n",
    "start_time = time.time()  \n",
    "results = await chain.abatch(inputs)\n",
    "end_time = time.time()\n",
    "elapsed_time = end_time - start_time\n",
    "print(\"\\nAll tasks completed in {:.2f} seconds\".format(elapsed_time))\n"
   ]
  },
  {
   "cell_type": "code",
   "execution_count": 23,
   "metadata": {},
   "outputs": [
    {
     "name": "stdout",
     "output_type": "stream",
     "text": [
      "\n",
      "All tasks completed in 29.17 seconds\n"
     ]
    }
   ],
   "source": [
    "# 2 batches of 3\n",
    "start_time = time.time()  \n",
    "results = await chain.abatch(inputs, config=config)\n",
    "end_time = time.time()\n",
    "elapsed_time = end_time - start_time\n",
    "print(\"\\nAll tasks completed in {:.2f} seconds\".format(elapsed_time))\n"
   ]
  },
  {
   "cell_type": "markdown",
   "metadata": {},
   "source": [
    "# Can we run a RunnableParallel chain in abatch mode?"
   ]
  },
  {
   "cell_type": "code",
   "execution_count": 25,
   "metadata": {},
   "outputs": [],
   "source": [
    "# create parallel chain\n",
    "chain_1 = parser.prompt_case_dict[PromptCase.SINGLE_REF][\"chain\"]\n",
    "chain_2 = parser.prompt_case_dict[PromptCase.SINGLE_REF][\"chain\"]\n",
    "\n",
    "map_chain = RunnableParallel(semantics=chain_1, keywords=chain_2)"
   ]
  },
  {
   "cell_type": "code",
   "execution_count": 26,
   "metadata": {},
   "outputs": [],
   "source": [
    "results = await map_chain.abatch(inputs[:3])"
   ]
  },
  {
   "cell_type": "code",
   "execution_count": 27,
   "metadata": {},
   "outputs": [
    {
     "data": {
      "text/plain": [
       "{'semantics': {'reasoning': '[Reasoning Steps]\\n\\n1. The post is about a new paper published in Phil Trans B.\\n2. The paper is about a group-structured public good with externalities.\\n3. The paper discusses how externalities affect cooperation and how only redistributional externalities increase cooperation.\\n\\n[Candidate Tags]\\n\\n1. <endorses>: This tag could be used to indicate that the author is endorsing the paper. However, since there is no explicit statement of endorsement, this tag is not the best fit.\\n2. <agrees>: This tag could be used to indicate that the author agrees with the conclusions of the paper. However, since there is no explicit statement of agreement, this tag is not the best fit.\\n3. <disagrees>: This tag could be used to indicate that the author disagrees with the conclusions of the paper. However, since there is no explicit statement of disagreement, this tag is not the best fit.\\n4. <indicates-interest>: This tag could be used to indicate that the author is interested in the topic of the paper. Since the author is the author of the paper, this tag is not the best fit.\\n5. <review>: This tag could be used to indicate that the author is providing a review of the paper. However, since there is no explicit statement of review, this tag is not the best fit.\\n6. <recommendation>: This tag could be used to indicate that the author is recommending the paper. However, since the author is the author of the paper, this tag is not the best fit.\\n7. <question>: This tag could be used to indicate that the author is raising questions about the paper. However, since there is no explicit statement of questions, this tag is not the best fit.\\n8. <quote>: This tag could be used to indicate that the author is quoting text from the paper. However, since there is no explicit statement of quoting, this tag is not the best fit.\\n9. <discussion>: This tag could be used to indicate that the author is discussing how the paper relates to other facts or claims. Since the author is discussing the conclusions of their own paper, this tag is the best fit.\\n10. <announce>: This tag could be used to indicate that the author is announcing the publication of the paper. Since the author is the author of the paper, this tag is not the best fit.',\n",
       "  'final_answer': '<discussion>',\n",
       "  'single_tag': ['discussion'],\n",
       "  'multi_tag': ['discussion']},\n",
       " 'keywords': {'reasoning': \"[Reasoning Steps]\\n\\n1. The post is about a new paper that has been published in Phil Trans B.\\n2. The author of the post is Paul Smaldino.\\n3. The paper is co-authored with Karolina Safarzynska.\\n4. The paper is a simple model of a group-structured public good with externalities shifting benefits toward more inequality or more equity.\\n5. The post is not explicitly recommending or endorsing the paper.\\n6. The post is not disputing or expressing disagreement with the paper's statements, ideas or conclusions.\\n7. The post is not indicating interest in the paper.\\n8. The post is not mentioning a funding opportunity related to the paper.\\n9. The post is not describing the watching or reading status of the author in relation to the paper.\\n10. The post is not mentioning any other content that the author is recommending or quoting from.\\n11. The post is not raising any questions about the paper.\\n12. The post is not quoting text from the paper.\\n13. The post is not discussing how the paper relates to other facts or claims.\\n14. The post is not inviting the reader to an event related to the paper.\\n15. The post is not describing a job listing or making an announcement related to the paper.\\n\\n[Candidate Tags]\\n\\n1. <call-for-papers>: This tag is not suitable because the post is not about a call for research papers.\\n2. <endorses>: This tag is not suitable because the post is not explicitly recommending or endorsing the paper.\\n3. <disagrees>: This tag is not suitable because the post is not disputing or expressing disagreement with the paper's statements, ideas or conclusions.\\n4. <indicates-interest>: This tag is not suitable because the post is not indicating interest in the paper.\\n5. <funding>: This tag is not suitable because the post is not mentioning a funding opportunity related to the paper.\\n6. <watching>: This tag is not suitable because the post is not describing the watching status of the author in relation to the paper.\\n7. <reading>: This tag is not suitable because the post is not describing the reading status of the author in relation to the paper.\\n8. <listening>: This tag is not suitable because the post is not describing the listening status of the author in relation to the paper.\\n9. <default>: This tag is not suitable because the post can be characterized by one of the other tags.\\n10. <review>: This tag is not suitable because the post is not containing a review of another reference.\\n11. <recommendation>: This tag is not suitable because the post is not recommending any kind of content.\\n12. <question>: This tag is not suitable because the post is not raising any questions about the paper.\\n13. <quote>: This tag is not suitable because the post is not quoting text from the paper.\\n14. <discussion>: This tag is not suitable because the post is not discussing how the paper relates to other facts or claims.\\n15. <event>: This tag is not suitable because the post is not inviting the reader to an event related to the paper.\\n16. <job>: This tag is not suitable because the post is not describing a job listing or making an announcement related to the paper.\\n17. <announce>: This tag is suitable because the post is announcing a new research paper.\",\n",
       "  'final_answer': '<announce>',\n",
       "  'single_tag': ['announce'],\n",
       "  'multi_tag': ['announce']}}"
      ]
     },
     "execution_count": 27,
     "metadata": {},
     "output_type": "execute_result"
    }
   ],
   "source": [
    "results[0]"
   ]
  },
  {
   "cell_type": "markdown",
   "metadata": {},
   "source": [
    "Looks like yes!"
   ]
  }
 ],
 "metadata": {
  "kernelspec": {
   "display_name": "sensebot",
   "language": "python",
   "name": "python3"
  },
  "language_info": {
   "codemirror_mode": {
    "name": "ipython",
    "version": 3
   },
   "file_extension": ".py",
   "mimetype": "text/x-python",
   "name": "python",
   "nbconvert_exporter": "python",
   "pygments_lexer": "ipython3",
   "version": "3.11.7"
  }
 },
 "nbformat": 4,
 "nbformat_minor": 2
}
