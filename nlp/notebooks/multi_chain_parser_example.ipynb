{
 "cells": [
  {
   "cell_type": "code",
   "execution_count": 1,
   "metadata": {},
   "outputs": [],
   "source": [
    "import nest_asyncio\n",
    "nest_asyncio.apply()\n",
    "\n",
    "import sys\n",
    "sys.path.append(\"../\")\n",
    "\n",
    "from desci_sense.shared_functions.init import init_multi_chain_parser_config\n",
    "from desci_sense.shared_functions.parsers.multi_chain_parser import MultiChainParser\n",
    "\n",
    "from desci_sense.shared_functions.dataloaders import (\n",
    "    scrape_post,\n",
    "    convert_text_to_ref_post,\n",
    ")"
   ]
  },
  {
   "cell_type": "code",
   "execution_count": 2,
   "metadata": {},
   "outputs": [],
   "source": [
    "config = init_multi_chain_parser_config(llm_type=\"google/gemma-7b-it\",\n",
    "                                        post_process_type=\"combined\")"
   ]
  },
  {
   "cell_type": "code",
   "execution_count": 3,
   "metadata": {},
   "outputs": [
    {
     "name": "stderr",
     "output_type": "stream",
     "text": [
      "\u001b[32m2024-04-24 15:40:59.519\u001b[0m | \u001b[1mINFO    \u001b[0m | \u001b[36mdesci_sense.shared_functions.parsers.multi_chain_parser\u001b[0m:\u001b[36m__init__\u001b[0m:\u001b[36m65\u001b[0m - \u001b[1mInitializing MultiChainParser. PostProcessType=combined\u001b[0m\n",
      "\u001b[32m2024-04-24 15:40:59.523\u001b[0m | \u001b[1mINFO    \u001b[0m | \u001b[36mdesci_sense.shared_functions.parsers.multi_chain_parser\u001b[0m:\u001b[36m__init__\u001b[0m:\u001b[36m72\u001b[0m - \u001b[1mInitializing post parsers...\u001b[0m\n",
      "\u001b[32m2024-04-24 15:40:59.524\u001b[0m | \u001b[1mINFO    \u001b[0m | \u001b[36mdesci_sense.shared_functions.parsers.post_parser_chain\u001b[0m:\u001b[36m__init__\u001b[0m:\u001b[36m26\u001b[0m - \u001b[1mInitializing parser chain 'refs_tagger' \u001b[0m\n",
      "\u001b[32m2024-04-24 15:40:59.571\u001b[0m | \u001b[1mINFO    \u001b[0m | \u001b[36mdesci_sense.shared_functions.parsers.post_parser_chain\u001b[0m:\u001b[36m__init__\u001b[0m:\u001b[36m26\u001b[0m - \u001b[1mInitializing parser chain 'topics' \u001b[0m\n",
      "\u001b[32m2024-04-24 15:40:59.600\u001b[0m | \u001b[1mINFO    \u001b[0m | \u001b[36mdesci_sense.shared_functions.parsers.post_parser_chain\u001b[0m:\u001b[36m__init__\u001b[0m:\u001b[36m26\u001b[0m - \u001b[1mInitializing parser chain 'keywords' \u001b[0m\n",
      "\u001b[32m2024-04-24 15:40:59.626\u001b[0m | \u001b[1mINFO    \u001b[0m | \u001b[36mdesci_sense.shared_functions.parsers.post_parser_chain\u001b[0m:\u001b[36m__init__\u001b[0m:\u001b[36m26\u001b[0m - \u001b[1mInitializing parser chain 'hashtags' \u001b[0m\n"
     ]
    }
   ],
   "source": [
    "multi_chain_parser = MultiChainParser(config)"
   ]
  },
  {
   "cell_type": "code",
   "execution_count": 17,
   "metadata": {},
   "outputs": [
    {
     "data": {
      "text/plain": [
       "{'openrouter_api_config': {'openrouter_api_base': 'https://openrouter.ai/api/v1'},\n",
       " 'parser_configs': [{'name': 'refs_tagger',\n",
       "   'type': <ParserChainType.REFERENCE_TAGGER: 'reference_tagger'>,\n",
       "   'llm_config': {'llm_type': 'google/gemma-7b-it', 'temperature': '0.6'},\n",
       "   'use_metadata': True,\n",
       "   'max_keywords': 6},\n",
       "  {'name': 'topics',\n",
       "   'type': <ParserChainType.TOPICS: 'topics'>,\n",
       "   'llm_config': {'llm_type': 'google/gemma-7b-it', 'temperature': '0.6'},\n",
       "   'use_metadata': True,\n",
       "   'max_keywords': 6},\n",
       "  {'name': 'keywords',\n",
       "   'type': <ParserChainType.KEYWORDS: 'keywords'>,\n",
       "   'llm_config': {'llm_type': 'google/gemma-7b-it', 'temperature': '0.6'},\n",
       "   'use_metadata': True,\n",
       "   'max_keywords': 6},\n",
       "  {'name': 'hashtags',\n",
       "   'type': <ParserChainType.HASHTAGS: 'hashtags'>,\n",
       "   'llm_config': {'llm_type': 'mistralai/mistral-7b-instruct',\n",
       "    'temperature': '0.6'},\n",
       "   'use_metadata': False,\n",
       "   'max_hashtags': 20}],\n",
       " 'metadata_extract_config': {'extraction_method': <MetadataExtractionType.CITOID: 'citoid'>,\n",
       "  'max_summary_length': 500},\n",
       " 'wandb_config': {'entity': 'common-sense-makers',\n",
       "  'project': 'st-demo-sandbox'},\n",
       " 'batch_size': 5,\n",
       " 'post_process_type': <PostProcessType.COMBINED: 'combined'>}"
      ]
     },
     "execution_count": 17,
     "metadata": {},
     "output_type": "execute_result"
    }
   ],
   "source": [
    "config.model_dump()"
   ]
  },
  {
   "cell_type": "code",
   "execution_count": 4,
   "metadata": {},
   "outputs": [],
   "source": [
    "# example raw text posts\n",
    "TEST_POST_TEXT_W_REF = \"\"\"\n",
    "I really liked this paper!\n",
    "https://arxiv.org/abs/2402.04607\n",
    "\"\"\"\n",
    "\n",
    "TEST_POST_2_TEXT_W_REF = \"\"\"\n",
    "I really disagree with this paper!\n",
    "https://arxiv.org/abs/2402.04607\n",
    "\"\"\"\n",
    "\n",
    "TEXT_POSTS = [TEST_POST_TEXT_W_REF, TEST_POST_2_TEXT_W_REF]"
   ]
  },
  {
   "cell_type": "code",
   "execution_count": 5,
   "metadata": {},
   "outputs": [],
   "source": [
    "# convert raw text to RefPost format for input to the parser\n",
    "inputs = [convert_text_to_ref_post(p) for p in TEXT_POSTS]"
   ]
  },
  {
   "cell_type": "code",
   "execution_count": 12,
   "metadata": {},
   "outputs": [],
   "source": [
    "# or scrape posts by url\n",
    "urls = [\n",
    "        \"https://mastodon.social/@psmaldino@qoto.org/111405098400404613\",\n",
    "        \"https://mastodon.social/@UlrikeHahn@fediscience.org/111732713776994953\",\n",
    "        \"https://mastodon.social/@ronent/111687038322549430\",\n",
    "    ]\n",
    "posts = [scrape_post(url) for url in urls]"
   ]
  },
  {
   "cell_type": "code",
   "execution_count": 6,
   "metadata": {},
   "outputs": [
    {
     "name": "stderr",
     "output_type": "stream",
     "text": [
      "\u001b[32m2024-04-24 15:41:10.622\u001b[0m | \u001b[34m\u001b[1mDEBUG   \u001b[0m | \u001b[36mdesci_sense.shared_functions.web_extractors.citoid\u001b[0m:\u001b[36mfetch_citation\u001b[0m:\u001b[36m54\u001b[0m - \u001b[34m\u001b[1mfetching citoid data for: https://arxiv.org/abs/2402.04607\u001b[0m\n",
      "\u001b[32m2024-04-24 15:41:12.813\u001b[0m | \u001b[34m\u001b[1mDEBUG   \u001b[0m | \u001b[36mdesci_sense.shared_functions.parsers.multi_chain_parser\u001b[0m:\u001b[36mbatch_process_ref_posts\u001b[0m:\u001b[36m231\u001b[0m - \u001b[34m\u001b[1mProcessing 2 posts with parsers: ['refs_tagger', 'topics', 'keywords', 'hashtags']\u001b[0m\n",
      "\u001b[32m2024-04-24 15:41:12.815\u001b[0m | \u001b[34m\u001b[1mDEBUG   \u001b[0m | \u001b[36mdesci_sense.shared_functions.parsers.multi_chain_parser\u001b[0m:\u001b[36mbatch_process_ref_posts\u001b[0m:\u001b[36m233\u001b[0m - \u001b[34m\u001b[1mInstantiating prompts...\u001b[0m\n",
      "\u001b[32m2024-04-24 15:41:12.816\u001b[0m | \u001b[34m\u001b[1mDEBUG   \u001b[0m | \u001b[36mdesci_sense.shared_functions.parsers.multi_chain_parser\u001b[0m:\u001b[36mbatch_process_ref_posts\u001b[0m:\u001b[36m243\u001b[0m - \u001b[34m\u001b[1mInvoking parallel chain...\u001b[0m\n",
      "\u001b[32m2024-04-24 15:41:16.924\u001b[0m | \u001b[34m\u001b[1mDEBUG   \u001b[0m | \u001b[36mdesci_sense.shared_functions.parsers.multi_chain_parser\u001b[0m:\u001b[36mbatch_process_ref_posts\u001b[0m:\u001b[36m253\u001b[0m - \u001b[34m\u001b[1mPost processing 2 results...\u001b[0m\n",
      "\u001b[32m2024-04-24 15:41:16.926\u001b[0m | \u001b[34m\u001b[1mDEBUG   \u001b[0m | \u001b[36mdesci_sense.shared_functions.parsers.multi_chain_parser\u001b[0m:\u001b[36mbatch_process_ref_posts\u001b[0m:\u001b[36m265\u001b[0m - \u001b[34m\u001b[1mDone!\u001b[0m\n"
     ]
    }
   ],
   "source": [
    "# batch process\n",
    "results = multi_chain_parser.batch_process_ref_posts(inputs)"
   ]
  },
  {
   "cell_type": "code",
   "execution_count": 10,
   "metadata": {},
   "outputs": [
    {
     "data": {
      "text/plain": [
       "{'research_keyword': 'academic',\n",
       " 'filter_classification': <SciFilterClassfication.RESEARCH: 'research'>,\n",
       " 'item_types': ['preprint'],\n",
       " 'reference_urls': ['https://arxiv.org/abs/2402.04607'],\n",
       " 'reference_tagger': ['agrees', 'recommendation'],\n",
       " 'keywords': ['AcademicMetrics',\n",
       "  'GoogleScholar',\n",
       "  'CitationManipulation',\n",
       "  'SelfCitations',\n",
       "  'CitationCartels',\n",
       "  'ResearchIntegrity'],\n",
       " 'topics': ['technology', 'academia', 'research'],\n",
       " 'hashtags': [],\n",
       " 'metadata_list': [{'citoid_url': 'http://arxiv.org/abs/2402.04607',\n",
       "   'url': 'https://arxiv.org/abs/2402.04607',\n",
       "   'item_type': 'preprint',\n",
       "   'title': 'Google Scholar is manipulatable',\n",
       "   'summary': \"Citations are widely considered in scientists' evaluation. As such, scientists may be incentivized to inflate their citation counts. While previous literature has examined self-citations and citation cartels, it remains unclear whether scientists can purchase citations. Here, we compile a dataset of ~1.6 million profiles on Google Scholar to examine instances of citation fraud on the platform. We survey faculty at highly-ranked universities, and confirm that Google Scholar is widely used when ev\",\n",
       "   'image': ''}],\n",
       " 'debug': {'reference_tagger': {'allowed_tags': ['endorses',\n",
       "    'disagrees',\n",
       "    'agrees',\n",
       "    'watching',\n",
       "    'reading',\n",
       "    'listening',\n",
       "    'default',\n",
       "    'review',\n",
       "    'recommendation',\n",
       "    'question',\n",
       "    'quote',\n",
       "    'discussion',\n",
       "    'event',\n",
       "    'job',\n",
       "    'announce'],\n",
       "   'full_text': \"**Reasoning Steps:**\\n\\n* The author expressed a positive sentiment towards the paper.\\n* The post contains a direct link to the paper.\\n\\n\\n**Candidate Tags:**\\n\\n* <agrees> - The author explicitly expressed a liking of the paper.\\n* <recommendation> - The author clearly recommends the paper.\\n\\n\\n**Final Answer:**\\n\\n**<agrees> <recommendation>** \\n\\n ##Allowed terms: ['endorses', 'disagrees', 'agrees', 'watching', 'reading', 'listening', 'default', 'review', 'recommendation', 'question', 'quote', 'discussion', 'event', 'job', 'announce']\",\n",
       "   'prompt': '\\n    You are an expert annotator tasked with converting social media posts about scientific research to a structured semantic format. The input post contains a reference to an external URL. Your job is to select the tags best characterizing the relation of the post to the external reference, from a predefined set of tags. \\n\\n    The available tag types are:\\n    <endorses>: this post endorses the mentioned reference. This label can also be used for cases of implicit recommendation, where the author is expressing enjoyment of some content but not explicitly recommending it.\\n    <disagrees>: this post disputes or expresses disagreement with statements, ideas or conclusions presented in the mentioned reference.\\n    <agrees>: this post expresses agreement with statements, ideas or conclusions presented in the mentioned reference.\\n    <watching>: this post describes the watching status of the author in relation to a reference, such as a video or movie. The author may have watched the content in the past, is watching the content in the present, or is looking forward to watching the content in the future.\\n    <reading>: this post describes the reading status of the author in relation to a reference, such as a book or article. The author may either have read the reference in the past, is reading the reference in the present, or is looking forward to reading the reference in the future.\\n    <listening>: this post describes the listening status of the author in relation to a reference, such as a podcast or radio station. The author may have listened to the content in the past, is listening to the content in the present, or is looking forward to listening the content in the future.\\n    <default>: This is a special tag. Use this tag if none of the tags above are suitable. If you tag a post with <default>, no other tag should be assigned to the post.\\n    <review>: this post contains a review of another reference, such as a book, article or movie. The review could be positive or negative. A review can be detailed or a simple short endorsement.\\n    <recommendation>: The author is recommending any kind of content: an article, a movie, podcast, book, another post, etc.\\n    <question>: this post is raising a question or questions about some content it\\'s referring to. The content could be a research paper or other media like a podcast, video or blog post.\\n    <quote>: this post is quoting text from an article it\\'s referring to. Symbols like \">\" or quotation marks are often used to indicate quotations.\\n    <discussion>: this post discusses how the cited reference relates to other facts or claims. For example, post might discuss how the cited reference informs questions, provides evidence, or supports or opposes claims.\\n    <event>: this post includes an invitation to an event, either a real-world or an online event. Any kind of event is relevant, some examples of such events could be seminars, meetups, or hackathons. This tag shold only be used for invitations to events, not for posts describing other kinds of events.\\n    <job>: this post describes a job listing, for example a call for graduate students or faculty applications.\\n    <announce>: this post contains an announcement of new research. The announcement is likely made by the authors but may be a third party. We use a broad definition of research that includes classic and non-traditional outputs. Classic outputs include papers, datasets or code. Non traditional outputs can include a podcast, blog post, video explainers, etc.\\n\\n    A user will pass in a post, and you should think step by step, before selecting a set of tags that best match the post.\\n\\n    Your final answer should be structured as follows:\\n    Reasoning Steps: (your reasoning steps)\\n    Candidate Tags: (For potential each tag you choose, explain why you chose it.)\\n    Final Answer: (a set of final tags, based on the Candidate Tags. The final tags must be included in the Candidate Tags list!)\\n\\n    # Input post text:\\n    Author: deafult_author\\n    Content: \\nI really liked this paper!\\nhttps://arxiv.org/abs/2402.04607\\n\\n\\n    ## Reference Metadata:\\nurl: https://arxiv.org/abs/2402.04607\\nitem_type: preprint\\ntitle: Google Scholar is manipulatable\\nsummary: Citations are widely considered in scientists\\' evaluation. As such, scientists may be incentivized to inflate their citation counts. While previous literature has examined self-citations and citation cartels, it remains unclear whether scientists can purchase citations. Here, we compile a dataset of ~1.6 million profiles on Google Scholar to examine instances of citation fraud on the platform. We survey faculty at highly-ranked universities, and confirm that Google Scholar is widely used when ev\\nimage: None\\n\\n    # Output:\\n    ',\n",
       "   'reasoning': '[Reasoning Steps]\\n\\n**\\n\\n* The author expressed a positive sentiment towards the paper.\\n* The post contains a direct link to the paper.\\n\\n\\n**\\n\\n[Candidate Tags]\\n\\n**\\n\\n* <agrees> - The author explicitly expressed a liking of the paper.\\n* <recommendation> - The author clearly recommends the paper.\\n\\n\\n**'},\n",
       "  'topics': {'allowed_tags': ['technology',\n",
       "    'science',\n",
       "    'academia',\n",
       "    'research',\n",
       "    'design',\n",
       "    'climate',\n",
       "    'sustainability',\n",
       "    'software & hardware',\n",
       "    'philosophy',\n",
       "    'health',\n",
       "    'culture',\n",
       "    'economics',\n",
       "    'business',\n",
       "    'politics',\n",
       "    'news',\n",
       "    'finance',\n",
       "    'sports',\n",
       "    'entertainment & leisure',\n",
       "    'art',\n",
       "    'literature',\n",
       "    'travel',\n",
       "    'personal',\n",
       "    'humour',\n",
       "    'other'],\n",
       "   'full_text': '**Reasoning Steps:**\\n\\n- The post is discussing a research paper titled \"Google Scholar is manipulatable.\"\\n- The paper deals with the issue of citation inflation and fraud on the Google Scholar platform.\\n- The post includes a dataset of 1.6 Kün million profiles and a survey of faculty.\\n\\n\\n**Candidate Topics:**\\n\\n- Research\\n- Academia \\n- Technology \\n- Science \\n- Citation \\n- Fraud \\n- Google Scholar \\n\\n\\n**Final Answer:**\\n\\n**Research** - The post discusses the manipulation of citations in the context of scientific research.\\n\\n\\n**Academia** - The post relates to practices and issues within the realm of academia, specifically in relation to citation manipulation.\\n\\n\\n**Technology** - The post focuses on Google Scholar, a technology-based platform used for research indexing and discovery. \\n\\n ##Allowed terms: [\\'technology\\', \\'science\\', \\'academia\\', \\'research\\', \\'design\\', \\'climate\\', \\'sustainability\\', \\'software & hardware\\', \\'philosophy\\', \\'health\\', \\'culture\\', \\'economics\\', \\'business\\', \\'politics\\', \\'news\\', \\'finance\\', \\'sports\\', \\'entertainment & leisure\\', \\'art\\', \\'literature\\', \\'travel\\', \\'personal\\', \\'humour\\', \\'other\\']',\n",
       "   'prompt': \"\\nYou are an expert annotator tasked with assigning topics to social media posts. The assigned topics should represent the most salient topics discussed by the post.  \\n\\nThe available topic types are:\\n- technology\\n- science\\n- academia\\n- research\\n- design\\n- climate\\n- sustainability\\n- software & hardware\\n- philosophy\\n- health\\n- culture\\n- economics\\n- business\\n- politics\\n- news\\n- finance\\n- sports\\n- entertainment & leisure\\n- art\\n- literature\\n- travel\\n- personal\\n- humour\\n- other\\n\\nA user will pass in a post, and you should think step by step, before selecting a set of topics that best match the post. You must only use the topics in the list!\\n\\n\\nRules:\\n- Your final answer should be structured as follows:\\n    - Reasoning Steps: (your reasoning steps)\\n    - Candidate Topics: (For potential each topic you choose, explain why you chose it.)\\n    - Final Answer: (a set of final topics, based on the Candidate Topics. The rest of the final keywords must be included in the Candidate Topics list!)\\n\\n\\n# Input post text:\\nContent: \\nI really liked this paper!\\nhttps://arxiv.org/abs/2402.04607\\n\\n\\n## Reference Metadata:\\nurl: https://arxiv.org/abs/2402.04607\\nitem_type: preprint\\ntitle: Google Scholar is manipulatable\\nsummary: Citations are widely considered in scientists' evaluation. As such, scientists may be incentivized to inflate their citation counts. While previous literature has examined self-citations and citation cartels, it remains unclear whether scientists can purchase citations. Here, we compile a dataset of ~1.6 million profiles on Google Scholar to examine instances of citation fraud on the platform. We survey faculty at highly-ranked universities, and confirm that Google Scholar is widely used when ev\\nimage: None\\n\\n# Output:\",\n",
       "   'reasoning': '[Reasoning Steps]\\n\\n**\\n\\n- The post is discussing a research paper titled \"Google Scholar is manipulatable.\"\\n- The paper deals with the issue of citation inflation and fraud on the Google Scholar platform.\\n- The post includes a dataset of 1.6 Kün million profiles and a survey of faculty.\\n\\n\\n**\\n\\n[Candidate Tags]\\n\\n**\\n\\n- Research\\n- Academia \\n- Technology \\n- Science \\n- Citation \\n- Fraud \\n- Google Scholar \\n\\n\\n**'},\n",
       "  'keywords': {'raw_text': \"**Reasoning Steps:**\\n\\n* Analyzed the post's text and the associated research paper.\\n* Identified the main focus of the post as the manipulation of citation metrics on Google Scholar.\\n* Considered both general and specific keywords relevant to the post's content.\\n\\n\\n**Candidate Keywords:**\\n\\n* #CitationManipulation \\n* #GoogleScholar \\n* #AcademicMetrics \\n* #ResearchIntegrity \\n* #SelfCitations \\n* #CitationCartels \\n* #MachineLearning \\n\\n\\n**Final Answer:**\\n\\n- #Academic \\n- #CitationManipulation \\n- #GoogleScholar \\n- #AcademicMetrics \\n- #ResearchIntegrity \\n- #SelfCitations \\n- #CitationCartels\",\n",
       "   'prompt': '\\nYou are an expert annotator tasked with assigning keywords to social media posts. The keywords should represent the most salient topics discussed by the post. The keywords should consist of two types: general and specific. The general keywords should indicate the general topics discussed by the posts and its references, like \"#AI\" or \"#blockchain\". The specific keywords should highlight specific that will help people in the field better understand the post\\'s contents (like \"#monte-carlo-tree-search\", or \"#consensus-algorithms\"). In addition to the above, you should also add a special \\'#academic\\' keyword if the post is related to academic research. Acaedmic research is to be defined broadly, as anything that the author is likely to see as related to their research, including academic job offers, code repositories, blog posts and so on. If the post is clearly not related in any way to academic research, add \\'#not-academic\\'. \\n\\nRules:\\n- You should choose up to 6 keywords, plus the additional special academic/non-academic keyword!\\n- Keywords should be prefixed with a hashtag, e.g., #AI\\n- Your final answer should be structured as follows:\\n    - Reasoning Steps: (your reasoning steps)\\n    - Candidate Keywords: (For potential each keyword you choose, explain why you chose it.)\\n    - Final Answer: (a set of 7 final keywords, based on the Candidate Keywords. One of the keywords should be #academic or #not-academic. The rest of the final keywords must be included in the Candidate Keywords list!)\\n\\n\\n# Input post text:\\nContent: \\nI really liked this paper!\\nhttps://arxiv.org/abs/2402.04607\\n\\n\\n## Reference Metadata:\\nurl: https://arxiv.org/abs/2402.04607\\nitem_type: preprint\\ntitle: Google Scholar is manipulatable\\nsummary: Citations are widely considered in scientists\\' evaluation. As such, scientists may be incentivized to inflate their citation counts. While previous literature has examined self-citations and citation cartels, it remains unclear whether scientists can purchase citations. Here, we compile a dataset of ~1.6 million profiles on Google Scholar to examine instances of citation fraud on the platform. We survey faculty at highly-ranked universities, and confirm that Google Scholar is widely used when ev\\nimage: None\\n\\n# Output:',\n",
       "   'reasoning': \"[Reasoning Steps]\\n\\n**\\n\\n* Analyzed the post's text and the associated research paper.\\n* Identified the main focus of the post as the manipulation of citation metrics on Google Scholar.\\n* Considered both general and specific keywords relevant to the post's content.\\n\\n\\n**\\n\\n[Candidate Keywords]\\n\\n**\\n\\n* #CitationManipulation \\n* #GoogleScholar \\n* #AcademicMetrics \\n* #ResearchIntegrity \\n* #SelfCitations \\n* #CitationCartels \\n* #MachineLearning \\n\\n\\n**\"},\n",
       "  'hashtags': {'prompt': '\\nI really liked this paper!\\nhttps://arxiv.org/abs/2402.04607\\n',\n",
       "   'reasoning': None}}}"
      ]
     },
     "execution_count": 10,
     "metadata": {},
     "output_type": "execute_result"
    }
   ],
   "source": [
    "dd = results[0].model_dump()\n",
    "dd"
   ]
  },
  {
   "cell_type": "code",
   "execution_count": 12,
   "metadata": {},
   "outputs": [
    {
     "data": {
      "text/plain": [
       "{'allowed_tags': ['endorses',\n",
       "  'disagrees',\n",
       "  'agrees',\n",
       "  'watching',\n",
       "  'reading',\n",
       "  'listening',\n",
       "  'default',\n",
       "  'review',\n",
       "  'recommendation',\n",
       "  'question',\n",
       "  'quote',\n",
       "  'discussion',\n",
       "  'event',\n",
       "  'job',\n",
       "  'announce'],\n",
       " 'full_text': \"**Reasoning Steps:**\\n\\n* The author expressed a positive sentiment towards the paper.\\n* The post contains a direct link to the paper.\\n\\n\\n**Candidate Tags:**\\n\\n* <agrees> - The author explicitly expressed a liking of the paper.\\n* <recommendation> - The author clearly recommends the paper.\\n\\n\\n**Final Answer:**\\n\\n**<agrees> <recommendation>** \\n\\n ##Allowed terms: ['endorses', 'disagrees', 'agrees', 'watching', 'reading', 'listening', 'default', 'review', 'recommendation', 'question', 'quote', 'discussion', 'event', 'job', 'announce']\",\n",
       " 'prompt': '\\n    You are an expert annotator tasked with converting social media posts about scientific research to a structured semantic format. The input post contains a reference to an external URL. Your job is to select the tags best characterizing the relation of the post to the external reference, from a predefined set of tags. \\n\\n    The available tag types are:\\n    <endorses>: this post endorses the mentioned reference. This label can also be used for cases of implicit recommendation, where the author is expressing enjoyment of some content but not explicitly recommending it.\\n    <disagrees>: this post disputes or expresses disagreement with statements, ideas or conclusions presented in the mentioned reference.\\n    <agrees>: this post expresses agreement with statements, ideas or conclusions presented in the mentioned reference.\\n    <watching>: this post describes the watching status of the author in relation to a reference, such as a video or movie. The author may have watched the content in the past, is watching the content in the present, or is looking forward to watching the content in the future.\\n    <reading>: this post describes the reading status of the author in relation to a reference, such as a book or article. The author may either have read the reference in the past, is reading the reference in the present, or is looking forward to reading the reference in the future.\\n    <listening>: this post describes the listening status of the author in relation to a reference, such as a podcast or radio station. The author may have listened to the content in the past, is listening to the content in the present, or is looking forward to listening the content in the future.\\n    <default>: This is a special tag. Use this tag if none of the tags above are suitable. If you tag a post with <default>, no other tag should be assigned to the post.\\n    <review>: this post contains a review of another reference, such as a book, article or movie. The review could be positive or negative. A review can be detailed or a simple short endorsement.\\n    <recommendation>: The author is recommending any kind of content: an article, a movie, podcast, book, another post, etc.\\n    <question>: this post is raising a question or questions about some content it\\'s referring to. The content could be a research paper or other media like a podcast, video or blog post.\\n    <quote>: this post is quoting text from an article it\\'s referring to. Symbols like \">\" or quotation marks are often used to indicate quotations.\\n    <discussion>: this post discusses how the cited reference relates to other facts or claims. For example, post might discuss how the cited reference informs questions, provides evidence, or supports or opposes claims.\\n    <event>: this post includes an invitation to an event, either a real-world or an online event. Any kind of event is relevant, some examples of such events could be seminars, meetups, or hackathons. This tag shold only be used for invitations to events, not for posts describing other kinds of events.\\n    <job>: this post describes a job listing, for example a call for graduate students or faculty applications.\\n    <announce>: this post contains an announcement of new research. The announcement is likely made by the authors but may be a third party. We use a broad definition of research that includes classic and non-traditional outputs. Classic outputs include papers, datasets or code. Non traditional outputs can include a podcast, blog post, video explainers, etc.\\n\\n    A user will pass in a post, and you should think step by step, before selecting a set of tags that best match the post.\\n\\n    Your final answer should be structured as follows:\\n    Reasoning Steps: (your reasoning steps)\\n    Candidate Tags: (For potential each tag you choose, explain why you chose it.)\\n    Final Answer: (a set of final tags, based on the Candidate Tags. The final tags must be included in the Candidate Tags list!)\\n\\n    # Input post text:\\n    Author: deafult_author\\n    Content: \\nI really liked this paper!\\nhttps://arxiv.org/abs/2402.04607\\n\\n\\n    ## Reference Metadata:\\nurl: https://arxiv.org/abs/2402.04607\\nitem_type: preprint\\ntitle: Google Scholar is manipulatable\\nsummary: Citations are widely considered in scientists\\' evaluation. As such, scientists may be incentivized to inflate their citation counts. While previous literature has examined self-citations and citation cartels, it remains unclear whether scientists can purchase citations. Here, we compile a dataset of ~1.6 million profiles on Google Scholar to examine instances of citation fraud on the platform. We survey faculty at highly-ranked universities, and confirm that Google Scholar is widely used when ev\\nimage: None\\n\\n    # Output:\\n    ',\n",
       " 'reasoning': '[Reasoning Steps]\\n\\n**\\n\\n* The author expressed a positive sentiment towards the paper.\\n* The post contains a direct link to the paper.\\n\\n\\n**\\n\\n[Candidate Tags]\\n\\n**\\n\\n* <agrees> - The author explicitly expressed a liking of the paper.\\n* <recommendation> - The author clearly recommends the paper.\\n\\n\\n**'}"
      ]
     },
     "execution_count": 12,
     "metadata": {},
     "output_type": "execute_result"
    }
   ],
   "source": [
    "dd[\"debug\"][\"reference_tagger\"]"
   ]
  },
  {
   "cell_type": "code",
   "execution_count": 14,
   "metadata": {},
   "outputs": [
    {
     "name": "stderr",
     "output_type": "stream",
     "text": [
      "\u001b[32m2024-04-16 10:21:28.353\u001b[0m | \u001b[34m\u001b[1mDEBUG   \u001b[0m | \u001b[36mdesci_sense.shared_functions.web_extractors.citoid\u001b[0m:\u001b[36mfetch_citation\u001b[0m:\u001b[36m54\u001b[0m - \u001b[34m\u001b[1mfetching citoid data for: https://royalsocietypublishing.org/doi/10.1098/rstb.2022.0267\u001b[0m\n",
      "\u001b[32m2024-04-16 10:21:29.502\u001b[0m | \u001b[34m\u001b[1mDEBUG   \u001b[0m | \u001b[36mdesci_sense.shared_functions.parsers.multi_chain_parser\u001b[0m:\u001b[36mprocess_ref_post\u001b[0m:\u001b[36m173\u001b[0m - \u001b[34m\u001b[1mProcessing post with parsers: ['refs_tagger', 'topics', 'keywords']\u001b[0m\n",
      "\u001b[32m2024-04-16 10:21:29.503\u001b[0m | \u001b[34m\u001b[1mDEBUG   \u001b[0m | \u001b[36mdesci_sense.shared_functions.parsers.multi_chain_parser\u001b[0m:\u001b[36mprocess_ref_post\u001b[0m:\u001b[36m175\u001b[0m - \u001b[34m\u001b[1mInstantiating prompts...\u001b[0m\n",
      "\u001b[32m2024-04-16 10:21:29.504\u001b[0m | \u001b[34m\u001b[1mDEBUG   \u001b[0m | \u001b[36mdesci_sense.shared_functions.parsers.multi_chain_parser\u001b[0m:\u001b[36mprocess_ref_post\u001b[0m:\u001b[36m180\u001b[0m - \u001b[34m\u001b[1mInvoking parallel chain...\u001b[0m\n"
     ]
    }
   ],
   "source": [
    "# single process\n",
    "result = multi_chain_parser.process_ref_post(posts[0])"
   ]
  },
  {
   "cell_type": "code",
   "execution_count": 16,
   "metadata": {},
   "outputs": [
    {
     "data": {
      "text/plain": [
       "<SciFilterClassfication.RESEARCH: 'research'>"
      ]
     },
     "execution_count": 16,
     "metadata": {},
     "output_type": "execute_result"
    }
   ],
   "source": [
    "result.filter_classification"
   ]
  },
  {
   "cell_type": "code",
   "execution_count": 18,
   "metadata": {},
   "outputs": [
    {
     "data": {
      "text/plain": [
       "['recommendation', 'reading']"
      ]
     },
     "execution_count": 18,
     "metadata": {},
     "output_type": "execute_result"
    }
   ],
   "source": [
    "result.reference_tagger"
   ]
  },
  {
   "cell_type": "code",
   "execution_count": 19,
   "metadata": {},
   "outputs": [
    {
     "data": {
      "text/plain": [
       "['economics', 'research']"
      ]
     },
     "execution_count": 19,
     "metadata": {},
     "output_type": "execute_result"
    }
   ],
   "source": [
    "result.topics"
   ]
  },
  {
   "cell_type": "code",
   "execution_count": null,
   "metadata": {},
   "outputs": [],
   "source": []
  }
 ],
 "metadata": {
  "kernelspec": {
   "display_name": "asensebot",
   "language": "python",
   "name": "python3"
  },
  "language_info": {
   "codemirror_mode": {
    "name": "ipython",
    "version": 3
   },
   "file_extension": ".py",
   "mimetype": "text/x-python",
   "name": "python",
   "nbconvert_exporter": "python",
   "pygments_lexer": "ipython3",
   "version": "3.11.7"
  }
 },
 "nbformat": 4,
 "nbformat_minor": 2
}
