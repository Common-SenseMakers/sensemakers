{
 "cells": [
  {
   "cell_type": "code",
   "execution_count": 1,
   "metadata": {},
   "outputs": [],
   "source": [
    "import nest_asyncio\n",
    "nest_asyncio.apply()\n",
    "from pathlib import Path\n",
    "\n",
    "import sys\n",
    "sys.path.append(\"../\")\n",
    "\n",
    "from desci_sense.shared_functions.init import init_multi_chain_parser_config\n",
    "from desci_sense.shared_functions.parsers.multi_chain_parser import MultiChainParser\n",
    "from desci_sense.evaluation.utils import get_dataset\n",
    "\n",
    "from desci_sense.shared_functions.dataloaders import (\n",
    "    scrape_post,\n",
    "    convert_text_to_ref_post,\n",
    ")"
   ]
  },
  {
   "cell_type": "code",
   "execution_count": 2,
   "metadata": {},
   "outputs": [],
   "source": [
    "config = init_multi_chain_parser_config(llm_type=\"google/gemma-7b-it\",\n",
    "                                        post_process_type=\"combined\")"
   ]
  },
  {
   "cell_type": "code",
   "execution_count": 3,
   "metadata": {},
   "outputs": [
    {
     "name": "stderr",
     "output_type": "stream",
     "text": [
      "\u001b[32m2024-05-06 14:24:17.604\u001b[0m | \u001b[1mINFO    \u001b[0m | \u001b[36mdesci_sense.shared_functions.parsers.multi_chain_parser\u001b[0m:\u001b[36m__init__\u001b[0m:\u001b[36m66\u001b[0m - \u001b[1mInitializing MultiChainParser. PostProcessType=combined\u001b[0m\n",
      "\u001b[32m2024-05-06 14:24:17.613\u001b[0m | \u001b[1mINFO    \u001b[0m | \u001b[36mdesci_sense.shared_functions.parsers.multi_chain_parser\u001b[0m:\u001b[36m__init__\u001b[0m:\u001b[36m73\u001b[0m - \u001b[1mInitializing post parsers...\u001b[0m\n",
      "\u001b[32m2024-05-06 14:24:17.613\u001b[0m | \u001b[1mINFO    \u001b[0m | \u001b[36mdesci_sense.shared_functions.parsers.post_parser_chain\u001b[0m:\u001b[36m__init__\u001b[0m:\u001b[36m26\u001b[0m - \u001b[1mInitializing parser chain 'refs_tagger' \u001b[0m\n",
      "\u001b[32m2024-05-06 14:24:17.675\u001b[0m | \u001b[1mINFO    \u001b[0m | \u001b[36mdesci_sense.shared_functions.parsers.post_parser_chain\u001b[0m:\u001b[36m__init__\u001b[0m:\u001b[36m26\u001b[0m - \u001b[1mInitializing parser chain 'multi_refs_tagger' \u001b[0m\n",
      "\u001b[32m2024-05-06 14:24:17.691\u001b[0m | \u001b[1mINFO    \u001b[0m | \u001b[36mdesci_sense.shared_functions.parsers.post_parser_chain\u001b[0m:\u001b[36m__init__\u001b[0m:\u001b[36m26\u001b[0m - \u001b[1mInitializing parser chain 'topics' \u001b[0m\n",
      "\u001b[32m2024-05-06 14:24:17.728\u001b[0m | \u001b[1mINFO    \u001b[0m | \u001b[36mdesci_sense.shared_functions.parsers.post_parser_chain\u001b[0m:\u001b[36m__init__\u001b[0m:\u001b[36m26\u001b[0m - \u001b[1mInitializing parser chain 'keywords' \u001b[0m\n",
      "\u001b[32m2024-05-06 14:24:17.752\u001b[0m | \u001b[1mINFO    \u001b[0m | \u001b[36mdesci_sense.shared_functions.parsers.post_parser_chain\u001b[0m:\u001b[36m__init__\u001b[0m:\u001b[36m26\u001b[0m - \u001b[1mInitializing parser chain 'hashtags' \u001b[0m\n"
     ]
    }
   ],
   "source": [
    "multi_chain_parser = MultiChainParser(config)"
   ]
  },
  {
   "cell_type": "code",
   "execution_count": 4,
   "metadata": {},
   "outputs": [],
   "source": [
    "# example raw text posts\n",
    "TEST_POST_TEXT_W_REF = \"\"\"\n",
    "I really liked this paper!\n",
    "https://arxiv.org/abs/2402.04607\n",
    "I really disagree with this paper!\n",
    "https://mastodon.social/@UlrikeHahn@fediscience.org/111732713776994953\n",
    "\"\"\"\n",
    "\n",
    "TEST_POST_2_TEXT_W_REF = \"\"\"\n",
    "I really disagree with this paper!\n",
    "https://arxiv.org/abs/2402.04607\n",
    "\"\"\"\n",
    "\n",
    "TEXT_POSTS = [TEST_POST_TEXT_W_REF, TEST_POST_2_TEXT_W_REF]"
   ]
  },
  {
   "cell_type": "code",
   "execution_count": 5,
   "metadata": {},
   "outputs": [],
   "source": [
    "# convert raw text to RefPost format for input to the parser\n",
    "inputs = [convert_text_to_ref_post(p) for p in TEXT_POSTS]"
   ]
  },
  {
   "cell_type": "code",
   "execution_count": 12,
   "metadata": {},
   "outputs": [],
   "source": [
    "# or scrape posts by url\n",
    "urls = [\n",
    "        \"https://mastodon.social/@psmaldino@qoto.org/111405098400404613\",\n",
    "        \"https://mastodon.social/@UlrikeHahn@fediscience.org/111732713776994953\",\n",
    "        \"https://mastodon.social/@ronent/111687038322549430\",\n",
    "    ]\n",
    "posts = [scrape_post(url) for url in urls]"
   ]
  },
  {
   "cell_type": "code",
   "execution_count": 10,
   "metadata": {},
   "outputs": [
    {
     "name": "stderr",
     "output_type": "stream",
     "text": [
      "\u001b[32m2024-05-06 14:30:13.142\u001b[0m | \u001b[33m\u001b[1mWARNING \u001b[0m | \u001b[36mdesci_sense.shared_functions.web_extractors.citoid\u001b[0m:\u001b[36mbefore_retry\u001b[0m:\u001b[36m84\u001b[0m - \u001b[33m\u001b[1mRetry attempt 1\u001b[0m\n",
      "\u001b[32m2024-05-06 14:30:13.143\u001b[0m | \u001b[34m\u001b[1mDEBUG   \u001b[0m | \u001b[36mdesci_sense.shared_functions.web_extractors.citoid\u001b[0m:\u001b[36mfetch_citation_async_retry\u001b[0m:\u001b[36m111\u001b[0m - \u001b[34m\u001b[1mtarget_url=https://arxiv.org/abs/2402.04607\u001b[0m\n",
      "\u001b[32m2024-05-06 14:30:13.144\u001b[0m | \u001b[33m\u001b[1mWARNING \u001b[0m | \u001b[36mdesci_sense.shared_functions.web_extractors.citoid\u001b[0m:\u001b[36mbefore_retry\u001b[0m:\u001b[36m84\u001b[0m - \u001b[33m\u001b[1mRetry attempt 1\u001b[0m\n",
      "\u001b[32m2024-05-06 14:30:13.144\u001b[0m | \u001b[34m\u001b[1mDEBUG   \u001b[0m | \u001b[36mdesci_sense.shared_functions.web_extractors.citoid\u001b[0m:\u001b[36mfetch_citation_async_retry\u001b[0m:\u001b[36m111\u001b[0m - \u001b[34m\u001b[1mtarget_url=https://mastodon.social/redirect/statuses/111732713776994953\u001b[0m\n",
      "\u001b[32m2024-05-06 14:30:15.477\u001b[0m | \u001b[34m\u001b[1mDEBUG   \u001b[0m | \u001b[36mdesci_sense.shared_functions.parsers.multi_chain_parser\u001b[0m:\u001b[36mbatch_process_ref_posts\u001b[0m:\u001b[36m232\u001b[0m - \u001b[34m\u001b[1mProcessing 2 posts with parsers: ['multi_refs_tagger']\u001b[0m\n",
      "\u001b[32m2024-05-06 14:30:15.479\u001b[0m | \u001b[34m\u001b[1mDEBUG   \u001b[0m | \u001b[36mdesci_sense.shared_functions.parsers.multi_chain_parser\u001b[0m:\u001b[36mbatch_process_ref_posts\u001b[0m:\u001b[36m234\u001b[0m - \u001b[34m\u001b[1mInstantiating prompts...\u001b[0m\n"
     ]
    },
    {
     "data": {
      "application/vnd.jupyter.widget-view+json": {
       "model_id": "b29d43ea3aa746c2b32af797fb487d00",
       "version_major": 2,
       "version_minor": 0
      },
      "text/plain": [
       "  0%|          | 0/2 [00:00<?, ?it/s]"
      ]
     },
     "metadata": {},
     "output_type": "display_data"
    },
    {
     "name": "stderr",
     "output_type": "stream",
     "text": [
      "\u001b[32m2024-05-06 14:30:15.496\u001b[0m | \u001b[34m\u001b[1mDEBUG   \u001b[0m | \u001b[36mdesci_sense.shared_functions.parsers.multi_chain_parser\u001b[0m:\u001b[36mbatch_process_ref_posts\u001b[0m:\u001b[36m245\u001b[0m - \u001b[34m\u001b[1mInvoking parallel chain...\u001b[0m\n",
      "\u001b[32m2024-05-06 14:30:18.050\u001b[0m | \u001b[33m\u001b[1mWARNING \u001b[0m | \u001b[36mdesci_sense.shared_functions.postprocessing.output_processors\u001b[0m:\u001b[36mparse_result\u001b[0m:\u001b[36m360\u001b[0m - \u001b[33m\u001b[1mFailed to parse result: Invalid json output: [System error]: ```python\n",
      "{\n",
      "\"answer\": {\n",
      "    \"sub_answers\": [\n",
      "        {\n",
      "            \"reasoning_steps\": \"The author clearly expresses disagreement with the conclusions of the referenced paper. The post contains a strong negative sentiment.\",\n",
      "            \"candidate_tags\": [\n",
      "                \"disagrees\",\n",
      "                \"discussion\"\n",
      "            ],\n",
      "            \"final_answer\": [\"disagrees\"]\n",
      "        }\n",
      "    ]\n",
      "}\n",
      "```\u001b[0m\n",
      "\u001b[32m2024-05-06 14:30:20.082\u001b[0m | \u001b[34m\u001b[1mDEBUG   \u001b[0m | \u001b[36mdesci_sense.shared_functions.parsers.multi_chain_parser\u001b[0m:\u001b[36mbatch_process_ref_posts\u001b[0m:\u001b[36m256\u001b[0m - \u001b[34m\u001b[1mPost processing 2 results...\u001b[0m\n",
      "\u001b[32m2024-05-06 14:30:20.086\u001b[0m | \u001b[34m\u001b[1mDEBUG   \u001b[0m | \u001b[36mdesci_sense.shared_functions.parsers.multi_chain_parser\u001b[0m:\u001b[36mbatch_process_ref_posts\u001b[0m:\u001b[36m268\u001b[0m - \u001b[34m\u001b[1mDone!\u001b[0m\n"
     ]
    }
   ],
   "source": [
    "# batch process\n",
    "results = multi_chain_parser.batch_process_ref_posts(inputs,active_list=['multi_refs_tagger'],batch_size=10)"
   ]
  },
  {
   "cell_type": "code",
   "execution_count": 6,
   "metadata": {},
   "outputs": [],
   "source": [
    "#\n",
    "url = \"https://twitter.com/mbauwens/status/1779543397528740338\"\n",
    "post = scrape_post(url)"
   ]
  },
  {
   "cell_type": "code",
   "execution_count": 7,
   "metadata": {},
   "outputs": [
    {
     "name": "stderr",
     "output_type": "stream",
     "text": [
      "\u001b[32m2024-04-30 15:42:45.141\u001b[0m | \u001b[34m\u001b[1mDEBUG   \u001b[0m | \u001b[36mdesci_sense.shared_functions.web_extractors.citoid\u001b[0m:\u001b[36mfetch_citation_async\u001b[0m:\u001b[36m20\u001b[0m - \u001b[34m\u001b[1mtarget_url=https://icandecide.org/v-safe-data/\u001b[0m\n",
      "\u001b[32m2024-04-30 15:42:45.164\u001b[0m | \u001b[34m\u001b[1mDEBUG   \u001b[0m | \u001b[36mdesci_sense.shared_functions.web_extractors.citoid\u001b[0m:\u001b[36mfetch_citation_async\u001b[0m:\u001b[36m20\u001b[0m - \u001b[34m\u001b[1mtarget_url=https://icandecide.org/pfizer-documents/\u001b[0m\n",
      "\u001b[32m2024-04-30 15:43:04.309\u001b[0m | \u001b[34m\u001b[1mDEBUG   \u001b[0m | \u001b[36mdesci_sense.shared_functions.parsers.multi_chain_parser\u001b[0m:\u001b[36mprocess_ref_post\u001b[0m:\u001b[36m184\u001b[0m - \u001b[34m\u001b[1mProcessing post with parsers: ['refs_tagger', 'topics', 'keywords', 'hashtags']\u001b[0m\n",
      "\u001b[32m2024-04-30 15:43:04.310\u001b[0m | \u001b[34m\u001b[1mDEBUG   \u001b[0m | \u001b[36mdesci_sense.shared_functions.parsers.multi_chain_parser\u001b[0m:\u001b[36mprocess_ref_post\u001b[0m:\u001b[36m186\u001b[0m - \u001b[34m\u001b[1mInstantiating prompts...\u001b[0m\n",
      "\u001b[32m2024-04-30 15:43:04.311\u001b[0m | \u001b[34m\u001b[1mDEBUG   \u001b[0m | \u001b[36mdesci_sense.shared_functions.parsers.multi_chain_parser\u001b[0m:\u001b[36mprocess_ref_post\u001b[0m:\u001b[36m191\u001b[0m - \u001b[34m\u001b[1mInvoking parallel chain...\u001b[0m\n"
     ]
    }
   ],
   "source": [
    "# single process\n",
    "result = multi_chain_parser.process_ref_post(post)"
   ]
  },
  {
   "cell_type": "code",
   "execution_count": 8,
   "metadata": {},
   "outputs": [
    {
     "data": {
      "text/plain": [
       "['sustainability',\n",
       " 'software & hardware',\n",
       " 'academia',\n",
       " 'climate',\n",
       " 'news',\n",
       " 'health',\n",
       " 'technology',\n",
       " 'research']"
      ]
     },
     "execution_count": 8,
     "metadata": {},
     "output_type": "execute_result"
    }
   ],
   "source": [
    "result.topics"
   ]
  },
  {
   "cell_type": "code",
   "execution_count": 16,
   "metadata": {},
   "outputs": [
    {
     "data": {
      "text/plain": [
       "<SciFilterClassfication.RESEARCH: 'research'>"
      ]
     },
     "execution_count": 16,
     "metadata": {},
     "output_type": "execute_result"
    }
   ],
   "source": [
    "result.filter_classification"
   ]
  },
  {
   "cell_type": "code",
   "execution_count": 43,
   "metadata": {},
   "outputs": [
    {
     "data": {
      "text/plain": [
       "['review', 'disagrees', 'agrees']"
      ]
     },
     "execution_count": 43,
     "metadata": {},
     "output_type": "execute_result"
    }
   ],
   "source": [
    "results[0].reference_tagger"
   ]
  },
  {
   "cell_type": "code",
   "execution_count": 19,
   "metadata": {},
   "outputs": [
    {
     "data": {
      "text/plain": [
       "['economics', 'research']"
      ]
     },
     "execution_count": 19,
     "metadata": {},
     "output_type": "execute_result"
    }
   ],
   "source": [
    "result.topics"
   ]
  },
  {
   "cell_type": "code",
   "execution_count": 13,
   "metadata": {},
   "outputs": [
    {
     "name": "stdout",
     "output_type": "stream",
     "text": [
      "research_keyword='not-detected' filter_classification=<SciFilterClassfication.RESEARCH: 'research'> item_types=['preprint', 'webpage'] reference_urls=['https://arxiv.org/abs/2402.04607', 'https://mastodon.social/redirect/statuses/111732713776994953'] reference_tagger=None multi_reference_tagger=[['agrees'], ['disagrees']] keywords=[] topics=[] hashtags=[] metadata_list=[RefMetadata(citoid_url='http://arxiv.org/abs/2402.04607', url='https://arxiv.org/abs/2402.04607', item_type='preprint', title='Google Scholar is manipulatable', summary=\"Citations are widely considered in scientists' evaluation. As such, scientists may be incentivized to inflate their citation counts. While previous literature has examined self-citations and citation cartels, it remains unclear whether scientists can purchase citations. Here, we compile a dataset of ~1.6 million profiles on Google Scholar to examine instances of citation fraud on the platform. We survey faculty at highly-ranked universities, and confirm that Google Scholar is widely used when ev\", image='', debug={'error': None}), RefMetadata(citoid_url='https://mastodon.social/redirect/statuses/111732713776994953', url='https://mastodon.social/redirect/statuses/111732713776994953', item_type='webpage', title='Mastodon', summary='', image='', debug={'error': None})] debug={'multi_reference_tagger': {'prompt': '\\nYou are an expert annotator tasked with converting social media posts about scientific research to a structured semantic format. The post contains external references in the form of links (URLs). Your job is to select, for each reference, the tags best characterizing the relation of the post to the reference.\\n\\n# Instructions\\n## Tag types\\nThe tags are to be selected from a predefined set of tags. The available tag types are:\\n<disagrees>: this reference is being disputed by the post. The post expresses disagreement with statements, ideas or conclusions presented in the mentioned reference.\\n<review>: the reference is being reviewed by the post. The reference could be a book, article or movie, or other media content. The review could be positive or negative.\\n<announce>: the reference is a new research output being announced by the post. The announcement is likely made by the authors but may be a third party. A research output could be a paper, dataset or other type of research that is being announced publicly.\\n<endorses>: the post endorses this reference. This label can also be used for cases of implicit recommendation, where the author is expressing enjoyment of some content but not explicitly recommending it.\\n<discussion>: this post discusses how the cited reference relates to other facts or claims. For example, post might discuss how the cited reference informs questions, provides evidence, or supports or opposes claims.\\n<listening>: this post describes the listening status of the author in relation to this reference, such as a podcast or radio station. The author may have listened to the content in the past, is listening to the content in the present, or is looking forward to listening the content in the future.\\n<recommendation>: The author is recommending the reference, which can be any kind of content: an article, a movie, podcast, book, another post, etc. This tag can also be used for cases of implicit recommendation, where the author is expressing enjoyment of some content but not explicitly recommending it.\\n<call-for-papers>: this reference contains a call for research papers, for example to a journal, conference or workshop.\\n<quote>: this reference is being quoted in the post. Symbols like \">\" or quotation marks are often used to indicate quotations. \\n<question>: this post is raising a question or questions about the reference. The content could be a research paper or other media like a podcast, video or blog post.\\n<agrees>: this post expresses agreement with statements, ideas or conclusions presented in this reference.\\n<funding>: this reference contains a funding opportunity, for example a research grant or prize.\\n<watching>: this post describes the watching status of the author in relation to this reference, such as a video or movie. The author may have watched the content in the past, is watching the content in the present, or is looking forward to watching the content in the future.\\n<reading>: this post describes the reading status of the author in relation to this reference, which could be a book, article or other written media. The author may either have read the reference in the past, is reading the reference in the present, or is looking forward to reading the reference in the future.\\n<event>: the reference is an invitation to an event, either a real-world or an online event. Any kind of event is relevant, some examples of such events could be seminars, meetups, or hackathons. This tag shold only be used for invitations to events, not for posts describing other kinds of events.\\n<job>: the reference is a job listing, for example a call for graduate students or faculty applications.\\n<indicates-interest>: the post is indicating interest in this reference. This label is meant for cases where the post is not explicitly recommending or endorsing this reference. This label is suggested by use of the 👀\\xa0emoji\\n<default>: This is a special tag. Use this tag if none of the other tags are suitable to characterize this reference.\\n\\nA user will pass in a post, and you should reason step by step, before selecting a set of tags for each reference that best that reference\\'s relation with the post.\\n\\nEach reference will be marked by a number for convenient identification, in order of appearance in the post. The first reference will be number 1, the second 2, etc. Additional metadata may also be provided for references.\\n\\n## Required output format\\nYour final answer should be structured as a JSON Answer object with a list of SubAnswer objects, as described by the following schemas:\\n\\n\\n```\\nclass SubAnswer:\\n\\tref_number: int # ID number of current reference\\n\\treasoning_steps: str # your reasoning steps\\n\\tcandidate_tags: str # For potential each tag you choose, explain why you chose it.\\n\\tfinal_answer: List[str] # a set of final tags, based on the Candidate Tags. The final tags must be included in the Candidate Tags list!\\n\\nclass Answer:\\n  sub_answers: List[SubAnswer]\\n```\\n\\n\\nFor example, for a post with 2 references, the output would be structured as follows:\\n\\n```\\n{\\n  \"sub_answers\": [\\n  {\\n    \"ref_number\": 1,\\n    \"reasoning_steps\": \"<your reasoning steps...>\",\\n    \"candidate_tags\": \"[<tag1>, <tag2>]\",\\n    \"final_answer\": [\\n      \"<tag1>\"\\n    ]\\n  },\\n  {\\n    \"ref_number\": 1,\\n    \"reasoning_steps\": \"<your reasoning steps...>\",\\n    \"candidate_tags\": \"[<tag1>, <tag3>, <tag4>]\",\\n    \"final_answer\": [\\n      \"<tag3>\",\\n      \"<tag4>\"\\n    ]\\n  }\\n]\\n}\\n```\\n\\n\\n# Input post text:\\n- Author: deafult_author\\n- Content: \\nI really liked this paper!\\nhttps://arxiv.org/abs/2402.04607\\nI really disagree with this paper!\\nhttps://mastodon.social/@UlrikeHahn@fediscience.org/111732713776994953\\n\\n- References:\\n1: https://arxiv.org/abs/2402.04607\\nItem type: preprint\\nTitle: Google Scholar is manipulatable\\nSummary: Citations are widely considered in scientists\\' evaluation. As such, scientists may be incentivized to inflate their citation counts. While previous literature has examined self-citations and citation cartels, it remains unclear whether scientists can purchase citations. Here, we compile a dataset of ~1.6 million profiles on Google Scholar to examine instances of citation fraud on the platform. We survey faculty at highly-ranked universities, and confirm that Google Scholar is widely used when ev\\n------------------\\n2: https://mastodon.social/redirect/statuses/111732713776994953\\nItem type: webpage\\nTitle: Mastodon\\nSummary: \\n------------------\\n\\n# Output:\\n\\n', 'md_list': [RefMetadata(citoid_url='http://arxiv.org/abs/2402.04607', url='https://arxiv.org/abs/2402.04607', item_type='preprint', title='Google Scholar is manipulatable', summary=\"Citations are widely considered in scientists' evaluation. As such, scientists may be incentivized to inflate their citation counts. While previous literature has examined self-citations and citation cartels, it remains unclear whether scientists can purchase citations. Here, we compile a dataset of ~1.6 million profiles on Google Scholar to examine instances of citation fraud on the platform. We survey faculty at highly-ranked universities, and confirm that Google Scholar is widely used when ev\", image='', debug={'error': None}), RefMetadata(citoid_url='https://mastodon.social/redirect/statuses/111732713776994953', url='https://mastodon.social/redirect/statuses/111732713776994953', item_type='webpage', title='Mastodon', summary='', image='', debug={'error': None})], 'allowed_terms': ['disagrees', 'review', 'announce', 'endorses', 'discussion', 'listening', 'recommendation', 'call-for-papers', 'quote', 'question', 'agrees', 'funding', 'watching', 'reading', 'event', 'job', 'indicates-interest', 'default'], 'debug': {}, 'reasoning': {0: {'steps': \"The author expresses strong agreement with the paper's conclusions, suggesting disagreement with previous literature.\", 'candidates': ['agrees', 'discussion']}, 1: {'steps': 'The author explicitly expresses disagreement with the claims made in this paper.', 'candidates': ['disagrees']}}}}\n"
     ]
    }
   ],
   "source": [
    "print(results[0])"
   ]
  },
  {
   "cell_type": "code",
   "execution_count": 14,
   "metadata": {},
   "outputs": [
    {
     "name": "stderr",
     "output_type": "stream",
     "text": [
      "Failed to detect the name of this notebook, you can set it manually with the WANDB_NOTEBOOK_NAME environment variable to enable code saving.\n",
      "\u001b[34m\u001b[1mwandb\u001b[0m: Currently logged in as: \u001b[33mshahar-r-oriel\u001b[0m (\u001b[33mcommon-sense-makers\u001b[0m). Use \u001b[1m`wandb login --relogin`\u001b[0m to force relogin\n"
     ]
    },
    {
     "data": {
      "text/html": [
       "Tracking run with wandb version 0.16.6"
      ],
      "text/plain": [
       "<IPython.core.display.HTML object>"
      ]
     },
     "metadata": {},
     "output_type": "display_data"
    },
    {
     "data": {
      "text/html": [
       "Run data is saved locally in <code>/Users/shaharorielkagan/sensemakers/nlp/notebooks/wandb/run-20240506_150213-kpsa1jh7</code>"
      ],
      "text/plain": [
       "<IPython.core.display.HTML object>"
      ]
     },
     "metadata": {},
     "output_type": "display_data"
    },
    {
     "data": {
      "text/html": [
       "Syncing run <strong><a href='https://wandb.ai/common-sense-makers/testing/runs/kpsa1jh7' target=\"_blank\">exalted-salad-164</a></strong> to <a href='https://wandb.ai/common-sense-makers/testing' target=\"_blank\">Weights & Biases</a> (<a href='https://wandb.me/run' target=\"_blank\">docs</a>)<br/>"
      ],
      "text/plain": [
       "<IPython.core.display.HTML object>"
      ]
     },
     "metadata": {},
     "output_type": "display_data"
    },
    {
     "data": {
      "text/html": [
       " View project at <a href='https://wandb.ai/common-sense-makers/testing' target=\"_blank\">https://wandb.ai/common-sense-makers/testing</a>"
      ],
      "text/plain": [
       "<IPython.core.display.HTML object>"
      ]
     },
     "metadata": {},
     "output_type": "display_data"
    },
    {
     "data": {
      "text/html": [
       " View run at <a href='https://wandb.ai/common-sense-makers/testing/runs/kpsa1jh7' target=\"_blank\">https://wandb.ai/common-sense-makers/testing/runs/kpsa1jh7</a>"
      ],
      "text/plain": [
       "<IPython.core.display.HTML object>"
      ]
     },
     "metadata": {},
     "output_type": "display_data"
    },
    {
     "name": "stderr",
     "output_type": "stream",
     "text": [
      "\u001b[34m\u001b[1mwandb\u001b[0m:   2 of 2 files downloaded.  \n"
     ]
    },
    {
     "name": "stdout",
     "output_type": "stream",
     "text": [
      "The path is /Users/shaharorielkagan/sensemakers/nlp/notebooks/artifacts/labeled_tweets_no_threads:v1\n"
     ]
    }
   ],
   "source": [
    "import wandb\n",
    "import pandas as pd\n",
    "\n",
    "wandb.login()\n",
    "\n",
    "api = wandb.Api()\n",
    "\n",
    "#TODO move from testing\n",
    "run = wandb.init(project=\"testing\", job_type=\"evaluation\")\n",
    "\n",
    "# get artifact path\n",
    "\n",
    "dataset_artifact_id = (\n",
    "        'common-sense-makers/filter_evaluation/labeled_tweets_no_threads:v1'\n",
    "    )\n",
    "\n",
    "# set artifact as input artifact\n",
    "dataset_artifact = run.use_artifact(dataset_artifact_id)\n",
    "\n",
    "# initialize table path\n",
    "# add the option to call table_path =  arguments.get('--dataset')\n",
    "\n",
    "# download path to table\n",
    "a_path = dataset_artifact.download()\n",
    "print(\"The path is\",a_path)\n",
    "\n",
    "# get dataset file name\n",
    "\n",
    "table_path = Path(f\"{a_path}/labeled_data_table_no_threads.table.json\")\n",
    "\n",
    "\n",
    "# return the pd df from the table\n",
    "#remember to remove the head TODO\n",
    "df = get_dataset(table_path)\n",
    "\n",
    "table_path = Path(f\"{a_path}/handles_chart.table.json\")\n",
    "\n",
    "df_handles = get_dataset(table_path)\n"
   ]
  },
  {
   "cell_type": "code",
   "execution_count": 15,
   "metadata": {},
   "outputs": [
    {
     "name": "stderr",
     "output_type": "stream",
     "text": [
      "100%|██████████| 467/467 [00:49<00:00,  9.41it/s]\n"
     ]
    }
   ],
   "source": [
    "import concurrent.futures\n",
    "from tqdm import tqdm\n",
    "\n",
    "def process_text(text):\n",
    "    return convert_text_to_ref_post(text)\n",
    "\n",
    "# Assuming df['Text'] is your DataFrame column\n",
    "with concurrent.futures.ThreadPoolExecutor() as executor:\n",
    "    inputs = list(tqdm(executor.map(process_text, df['Text']), total=len(df['Text'])))\n"
   ]
  },
  {
   "cell_type": "code",
   "execution_count": 16,
   "metadata": {},
   "outputs": [],
   "source": [
    "inputs = inputs[:10]"
   ]
  },
  {
   "cell_type": "code",
   "execution_count": 31,
   "metadata": {},
   "outputs": [
    {
     "name": "stderr",
     "output_type": "stream",
     "text": [
      "\u001b[32m2024-05-06 15:52:15.507\u001b[0m | \u001b[33m\u001b[1mWARNING \u001b[0m | \u001b[36mdesci_sense.shared_functions.web_extractors.citoid\u001b[0m:\u001b[36mbefore_retry\u001b[0m:\u001b[36m84\u001b[0m - \u001b[33m\u001b[1mRetry attempt 1\u001b[0m\n",
      "\u001b[32m2024-05-06 15:52:15.512\u001b[0m | \u001b[34m\u001b[1mDEBUG   \u001b[0m | \u001b[36mdesci_sense.shared_functions.web_extractors.citoid\u001b[0m:\u001b[36mfetch_citation_async_retry\u001b[0m:\u001b[36m111\u001b[0m - \u001b[34m\u001b[1mtarget_url=https://civilizationemerging.com/\u001b[0m\n",
      "\u001b[32m2024-05-06 15:52:15.525\u001b[0m | \u001b[33m\u001b[1mWARNING \u001b[0m | \u001b[36mdesci_sense.shared_functions.web_extractors.citoid\u001b[0m:\u001b[36mbefore_retry\u001b[0m:\u001b[36m84\u001b[0m - \u001b[33m\u001b[1mRetry attempt 1\u001b[0m\n",
      "\u001b[32m2024-05-06 15:52:15.526\u001b[0m | \u001b[34m\u001b[1mDEBUG   \u001b[0m | \u001b[36mdesci_sense.shared_functions.web_extractors.citoid\u001b[0m:\u001b[36mfetch_citation_async_retry\u001b[0m:\u001b[36m111\u001b[0m - \u001b[34m\u001b[1mtarget_url=https://en.wikipedia.org/wiki/Epic_of_evolution\u001b[0m\n",
      "\u001b[32m2024-05-06 15:52:15.527\u001b[0m | \u001b[33m\u001b[1mWARNING \u001b[0m | \u001b[36mdesci_sense.shared_functions.web_extractors.citoid\u001b[0m:\u001b[36mbefore_retry\u001b[0m:\u001b[36m84\u001b[0m - \u001b[33m\u001b[1mRetry attempt 1\u001b[0m\n",
      "\u001b[32m2024-05-06 15:52:15.528\u001b[0m | \u001b[34m\u001b[1mDEBUG   \u001b[0m | \u001b[36mdesci_sense.shared_functions.web_extractors.citoid\u001b[0m:\u001b[36mfetch_citation_async_retry\u001b[0m:\u001b[36m111\u001b[0m - \u001b[34m\u001b[1mtarget_url=https://wiki.p2pfoundation.net/Category:Peerproduction#With_the_advent_of_the_P2P_Mode_of_Production%2C_the_community_and_its_common_is_now_the_appropriate_scale\u001b[0m\n",
      "\u001b[32m2024-05-06 15:52:15.531\u001b[0m | \u001b[33m\u001b[1mWARNING \u001b[0m | \u001b[36mdesci_sense.shared_functions.web_extractors.citoid\u001b[0m:\u001b[36mbefore_retry\u001b[0m:\u001b[36m84\u001b[0m - \u001b[33m\u001b[1mRetry attempt 1\u001b[0m\n",
      "\u001b[32m2024-05-06 15:52:15.536\u001b[0m | \u001b[34m\u001b[1mDEBUG   \u001b[0m | \u001b[36mdesci_sense.shared_functions.web_extractors.citoid\u001b[0m:\u001b[36mfetch_citation_async_retry\u001b[0m:\u001b[36m111\u001b[0m - \u001b[34m\u001b[1mtarget_url=https://www.journaloffreespeechlaw.org/\u001b[0m\n",
      "\u001b[32m2024-05-06 15:52:15.541\u001b[0m | \u001b[33m\u001b[1mWARNING \u001b[0m | \u001b[36mdesci_sense.shared_functions.web_extractors.citoid\u001b[0m:\u001b[36mbefore_retry\u001b[0m:\u001b[36m84\u001b[0m - \u001b[33m\u001b[1mRetry attempt 1\u001b[0m\n",
      "\u001b[32m2024-05-06 15:52:15.544\u001b[0m | \u001b[34m\u001b[1mDEBUG   \u001b[0m | \u001b[36mdesci_sense.shared_functions.web_extractors.citoid\u001b[0m:\u001b[36mfetch_citation_async_retry\u001b[0m:\u001b[36m111\u001b[0m - \u001b[34m\u001b[1mtarget_url=https://integralpermaculture.wordpress.com/peter-pogany/\u001b[0m\n",
      "\u001b[32m2024-05-06 15:52:15.546\u001b[0m | \u001b[33m\u001b[1mWARNING \u001b[0m | \u001b[36mdesci_sense.shared_functions.web_extractors.citoid\u001b[0m:\u001b[36mbefore_retry\u001b[0m:\u001b[36m84\u001b[0m - \u001b[33m\u001b[1mRetry attempt 1\u001b[0m\n",
      "\u001b[32m2024-05-06 15:52:15.549\u001b[0m | \u001b[34m\u001b[1mDEBUG   \u001b[0m | \u001b[36mdesci_sense.shared_functions.web_extractors.citoid\u001b[0m:\u001b[36mfetch_citation_async_retry\u001b[0m:\u001b[36m111\u001b[0m - \u001b[34m\u001b[1mtarget_url=https://wiki.p2pfoundation.net/Andrew_Targowski's_Classification_of_the_Civilizational_Approaches_To_Human_History\u001b[0m\n",
      "\u001b[32m2024-05-06 15:52:15.557\u001b[0m | \u001b[33m\u001b[1mWARNING \u001b[0m | \u001b[36mdesci_sense.shared_functions.web_extractors.citoid\u001b[0m:\u001b[36mbefore_retry\u001b[0m:\u001b[36m84\u001b[0m - \u001b[33m\u001b[1mRetry attempt 1\u001b[0m\n",
      "\u001b[32m2024-05-06 15:52:15.560\u001b[0m | \u001b[34m\u001b[1mDEBUG   \u001b[0m | \u001b[36mdesci_sense.shared_functions.web_extractors.citoid\u001b[0m:\u001b[36mfetch_citation_async_retry\u001b[0m:\u001b[36m111\u001b[0m - \u001b[34m\u001b[1mtarget_url=https://wiki.p2pfoundation.net/Category:Thermodynamic_Efficiencies\u001b[0m\n",
      "\u001b[32m2024-05-06 15:52:15.563\u001b[0m | \u001b[33m\u001b[1mWARNING \u001b[0m | \u001b[36mdesci_sense.shared_functions.web_extractors.citoid\u001b[0m:\u001b[36mbefore_retry\u001b[0m:\u001b[36m84\u001b[0m - \u001b[33m\u001b[1mRetry attempt 1\u001b[0m\n",
      "\u001b[32m2024-05-06 15:52:15.571\u001b[0m | \u001b[34m\u001b[1mDEBUG   \u001b[0m | \u001b[36mdesci_sense.shared_functions.web_extractors.citoid\u001b[0m:\u001b[36mfetch_citation_async_retry\u001b[0m:\u001b[36m111\u001b[0m - \u001b[34m\u001b[1mtarget_url=https://autocatallaxy.com/\u001b[0m\n",
      "\u001b[32m2024-05-06 15:52:15.572\u001b[0m | \u001b[33m\u001b[1mWARNING \u001b[0m | \u001b[36mdesci_sense.shared_functions.web_extractors.citoid\u001b[0m:\u001b[36mbefore_retry\u001b[0m:\u001b[36m84\u001b[0m - \u001b[33m\u001b[1mRetry attempt 1\u001b[0m\n",
      "\u001b[32m2024-05-06 15:52:15.579\u001b[0m | \u001b[34m\u001b[1mDEBUG   \u001b[0m | \u001b[36mdesci_sense.shared_functions.web_extractors.citoid\u001b[0m:\u001b[36mfetch_citation_async_retry\u001b[0m:\u001b[36m111\u001b[0m - \u001b[34m\u001b[1mtarget_url=https://wiki.p2pfoundation.net/Category:Peerproperty#Short_Citations\u001b[0m\n",
      "\u001b[32m2024-05-06 15:52:15.580\u001b[0m | \u001b[33m\u001b[1mWARNING \u001b[0m | \u001b[36mdesci_sense.shared_functions.web_extractors.citoid\u001b[0m:\u001b[36mbefore_retry\u001b[0m:\u001b[36m84\u001b[0m - \u001b[33m\u001b[1mRetry attempt 1\u001b[0m\n",
      "\u001b[32m2024-05-06 15:52:15.581\u001b[0m | \u001b[34m\u001b[1mDEBUG   \u001b[0m | \u001b[36mdesci_sense.shared_functions.web_extractors.citoid\u001b[0m:\u001b[36mfetch_citation_async_retry\u001b[0m:\u001b[36m111\u001b[0m - \u001b[34m\u001b[1mtarget_url=https://lifehacker.com/tech/ai-is-running-out-of-internet\u001b[0m\n",
      "\u001b[32m2024-05-06 15:52:15.582\u001b[0m | \u001b[33m\u001b[1mWARNING \u001b[0m | \u001b[36mdesci_sense.shared_functions.web_extractors.citoid\u001b[0m:\u001b[36mbefore_retry\u001b[0m:\u001b[36m84\u001b[0m - \u001b[33m\u001b[1mRetry attempt 1\u001b[0m\n",
      "\u001b[32m2024-05-06 15:52:15.583\u001b[0m | \u001b[34m\u001b[1mDEBUG   \u001b[0m | \u001b[36mdesci_sense.shared_functions.web_extractors.citoid\u001b[0m:\u001b[36mfetch_citation_async_retry\u001b[0m:\u001b[36m104\u001b[0m - \u001b[34m\u001b[1mskipping citoid for https://t.co/56d7e926y1\u001b[0m\n",
      "\u001b[32m2024-05-06 15:52:22.654\u001b[0m | \u001b[34m\u001b[1mDEBUG   \u001b[0m | \u001b[36mdesci_sense.shared_functions.parsers.multi_chain_parser\u001b[0m:\u001b[36mbatch_process_ref_posts\u001b[0m:\u001b[36m232\u001b[0m - \u001b[34m\u001b[1mProcessing 10 posts with parsers: ['multi_refs_tagger']\u001b[0m\n",
      "\u001b[32m2024-05-06 15:52:22.658\u001b[0m | \u001b[34m\u001b[1mDEBUG   \u001b[0m | \u001b[36mdesci_sense.shared_functions.parsers.multi_chain_parser\u001b[0m:\u001b[36mbatch_process_ref_posts\u001b[0m:\u001b[36m234\u001b[0m - \u001b[34m\u001b[1mInstantiating prompts...\u001b[0m\n"
     ]
    },
    {
     "data": {
      "application/vnd.jupyter.widget-view+json": {
       "model_id": "edb62988f93f48ea80a051f8d9ec1444",
       "version_major": 2,
       "version_minor": 0
      },
      "text/plain": [
       "  0%|          | 0/10 [00:00<?, ?it/s]"
      ]
     },
     "metadata": {},
     "output_type": "display_data"
    },
    {
     "name": "stderr",
     "output_type": "stream",
     "text": [
      "\u001b[32m2024-05-06 15:52:22.695\u001b[0m | \u001b[34m\u001b[1mDEBUG   \u001b[0m | \u001b[36mdesci_sense.shared_functions.parsers.multi_chain_parser\u001b[0m:\u001b[36mbatch_process_ref_posts\u001b[0m:\u001b[36m245\u001b[0m - \u001b[34m\u001b[1mInvoking parallel chain...\u001b[0m\n",
      "\u001b[32m2024-05-06 15:52:27.198\u001b[0m | \u001b[33m\u001b[1mWARNING \u001b[0m | \u001b[36mdesci_sense.shared_functions.postprocessing.output_processors\u001b[0m:\u001b[36mparse_result\u001b[0m:\u001b[36m360\u001b[0m - \u001b[33m\u001b[1mFailed to parse result: Invalid json output: [System error]: ```python\n",
      "\n",
      "sub_answer = SubAnswer()\n",
      "\n",
      "\n",
      "sub_answer.reasoning_steps = \"The post describes a quote of the day that talks about the multiplicity of ownership designs and the need to ecologize finance. The post also discusses the importance of redesigning social architectures and making finance more inclusive. The post references a category page on the P2P Foundation website. The post quotes text from the referenced page. Therefore, the tags that best characterize the post's relation to the reference are 'quote' and 'reference'.\"\n",
      "\n",
      "\n",
      "sub_answer.candidate_tags = [\"quote\", \"reference\", \"ecologize\", \"inclusive\", \"social architectures\"]\n",
      "\n",
      "\n",
      "sub_answer.final_answer = [\"quote\", \"reference\"]\n",
      "\n",
      "\n",
      "answer = Answer()\n",
      "\n",
      "\n",
      "answer.sub_answers = [sub_answer]\n",
      "```\n",
      "\n",
      "**Final Answer:**\n",
      "\n",
      "```\n",
      "{\n",
      "  \"sub_answers\": [\n",
      "    {\n",
      "      \"reasoning_steps\": \"The post describes a quote of the day that talks about the multiplicity of ownership designs and the need to ecologize finance. The post also discusses the importance of redesigning social architectures and making finance more inclusive. The post references a category page on the P2P Foundation website. The post quotes text from the referenced page. Therefore, the tags that best characterize the post's relation to the reference are 'quote' and 'reference'.\"\n",
      "      \"candidate_tags\": [\"quote\", \"reference\", \"ecologize\", \"inclusive\", \"social architectures\"]\n",
      "      \"final_answer\": [\"quote\", \"reference\"]\n",
      "    }\n",
      "  ]\n",
      "}\n",
      "```\u001b[0m\n",
      "\u001b[32m2024-05-06 15:52:28.908\u001b[0m | \u001b[34m\u001b[1mDEBUG   \u001b[0m | \u001b[36mdesci_sense.shared_functions.parsers.multi_chain_parser\u001b[0m:\u001b[36mbatch_process_ref_posts\u001b[0m:\u001b[36m256\u001b[0m - \u001b[34m\u001b[1mPost processing 10 results...\u001b[0m\n",
      "\u001b[32m2024-05-06 15:52:28.910\u001b[0m | \u001b[34m\u001b[1mDEBUG   \u001b[0m | \u001b[36mdesci_sense.shared_functions.parsers.multi_chain_parser\u001b[0m:\u001b[36mbatch_process_ref_posts\u001b[0m:\u001b[36m268\u001b[0m - \u001b[34m\u001b[1mDone!\u001b[0m\n"
     ]
    }
   ],
   "source": [
    "# batch process\n",
    "results = multi_chain_parser.batch_process_ref_posts(inputs,active_list=['multi_refs_tagger'],batch_size=10)"
   ]
  },
  {
   "cell_type": "code",
   "execution_count": 19,
   "metadata": {},
   "outputs": [],
   "source": [
    "df=df[:10]"
   ]
  },
  {
   "cell_type": "code",
   "execution_count": 30,
   "metadata": {},
   "outputs": [
    {
     "name": "stderr",
     "output_type": "stream",
     "text": [
      "/var/folders/j3/1_zy_b4s2517g8j_rjjdhd4h0000gn/T/ipykernel_4079/1770973723.py:1: SettingWithCopyWarning: \n",
      "A value is trying to be set on a copy of a slice from a DataFrame.\n",
      "Try using .loc[row_indexer,col_indexer] = value instead\n",
      "\n",
      "See the caveats in the documentation: https://pandas.pydata.org/pandas-docs/stable/user_guide/indexing.html#returning-a-view-versus-a-copy\n",
      "  df[\"Predicted Labels\"] = [x.multi_reference_tagger for x in results]\n",
      "/var/folders/j3/1_zy_b4s2517g8j_rjjdhd4h0000gn/T/ipykernel_4079/1770973723.py:2: SettingWithCopyWarning: \n",
      "A value is trying to be set on a copy of a slice from a DataFrame.\n",
      "Try using .loc[row_indexer,col_indexer] = value instead\n",
      "\n",
      "See the caveats in the documentation: https://pandas.pydata.org/pandas-docs/stable/user_guide/indexing.html#returning-a-view-versus-a-copy\n",
      "  df[\"urls\"] = [x.reference_urls for x in results]\n"
     ]
    }
   ],
   "source": [
    "df[\"Predicted Labels\"] = [x.multi_reference_tagger for x in results]\n",
    "df[\"urls\"] = [x.reference_urls for x in results]\n",
    "\n"
   ]
  },
  {
   "cell_type": "code",
   "execution_count": null,
   "metadata": {},
   "outputs": [],
   "source": []
  },
  {
   "cell_type": "code",
   "execution_count": null,
   "metadata": {},
   "outputs": [],
   "source": []
  },
  {
   "cell_type": "code",
   "execution_count": 29,
   "metadata": {},
   "outputs": [
    {
     "name": "stdout",
     "output_type": "stream",
     "text": [
      "[['https://en.wikipedia.org/wiki/Epic_of_evolution', 'https://en.wikipedia.org/wiki/Epic_of_evolution'], ['https://wiki.p2pfoundation.net/Category:Thermodynamic_Efficiencies'], ['https://lifehacker.com/tech/ai-is-running-out-of-internet'], ['https://www.journaloffreespeechlaw.org/'], ['https://wiki.p2pfoundation.net/Andrew_Targowski%27s_Classification_of_the_Civilizational_Approaches_To_Human_History'], ['https://civilizationemerging.com/', 'http://emergentcivilization.com/'], ['https://integralpermaculture.wordpress.com/peter-pogany/', 'https://integralpermaculture.wordpress.com/peter-pogany/'], ['https://wiki.p2pfoundation.net/Category:Peerproduction#With_the_advent_of_the_P2P_Mode_of_Production,_the_community_and_its_common_is_now_the_appropriate_scale'], ['https://wiki.p2pfoundation.net/Category:Peerproperty#Short_Citations'], ['https://autocatallaxy.com/']]\n",
      "+++++\n",
      "[['https://en.wikipedia.org/wiki/Epic_of_evolution', 'https://en.wikipedia.org/wiki/Epic_of_evolution'], ['https://wiki.p2pfoundation.net/Category:Thermodynamic_Efficiencies'], ['https://lifehacker.com/tech/ai-is-running-out-of-internet'], ['https://www.journaloffreespeechlaw.org/'], [\"https://wiki.p2pfoundation.net/Andrew_Targowski's_Classification_of_the_Civilizational_Approaches_To_Human_History\"], ['https://civilizationemerging.com/', 'https://t.co/56d7e926y1'], ['https://integralpermaculture.wordpress.com/peter-pogany/', 'https://integralpermaculture.wordpress.com/peter-pogany/'], ['https://wiki.p2pfoundation.net/Category:Peerproduction#With_the_advent_of_the_P2P_Mode_of_Production%2C_the_community_and_its_common_is_now_the_appropriate_scale'], ['https://wiki.p2pfoundation.net/Category:Peerproperty#Short_Citations'], ['https://autocatallaxy.com/']]\n"
     ]
    }
   ],
   "source": []
  },
  {
   "cell_type": "code",
   "execution_count": null,
   "metadata": {},
   "outputs": [],
   "source": []
  }
 ],
 "metadata": {
  "kernelspec": {
   "display_name": "Python 3",
   "language": "python",
   "name": "python3"
  },
  "language_info": {
   "codemirror_mode": {
    "name": "ipython",
    "version": 3
   },
   "file_extension": ".py",
   "mimetype": "text/x-python",
   "name": "python",
   "nbconvert_exporter": "python",
   "pygments_lexer": "ipython3",
   "version": "3.11.2"
  },
  "vscode": {
   "interpreter": {
    "hash": "aee8b7b246df8f9039afb4144a1f6fd8d2ca17a180786b69acc140d282b71a49"
   }
  }
 },
 "nbformat": 4,
 "nbformat_minor": 2
}
