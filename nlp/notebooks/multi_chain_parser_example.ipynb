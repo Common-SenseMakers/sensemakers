{
 "cells": [
  {
   "cell_type": "code",
   "execution_count": 1,
   "metadata": {},
   "outputs": [],
   "source": [
    "import nest_asyncio\n",
    "nest_asyncio.apply()\n",
    "\n",
    "import sys\n",
    "sys.path.append(\"../\")\n",
    "\n",
    "from desci_sense.shared_functions.init import init_multi_chain_parser_config\n",
    "from desci_sense.shared_functions.parsers.multi_chain_parser import MultiChainParser\n",
    "\n",
    "from desci_sense.shared_functions.dataloaders import (\n",
    "    scrape_post,\n",
    "    convert_text_to_ref_post,\n",
    ")"
   ]
  },
  {
   "cell_type": "code",
   "execution_count": 2,
   "metadata": {},
   "outputs": [],
   "source": [
    "config = init_multi_chain_parser_config(llm_type=\"google/gemma-7b-it\",\n",
    "                                        post_process_type=\"combined\")"
   ]
  },
  {
   "cell_type": "code",
   "execution_count": 3,
   "metadata": {},
   "outputs": [
    {
     "name": "stderr",
     "output_type": "stream",
     "text": [
      "\u001b[32m2024-04-30 15:41:32.755\u001b[0m | \u001b[1mINFO    \u001b[0m | \u001b[36mdesci_sense.shared_functions.parsers.multi_chain_parser\u001b[0m:\u001b[36m__init__\u001b[0m:\u001b[36m65\u001b[0m - \u001b[1mInitializing MultiChainParser. PostProcessType=combined\u001b[0m\n",
      "\u001b[32m2024-04-30 15:41:32.759\u001b[0m | \u001b[1mINFO    \u001b[0m | \u001b[36mdesci_sense.shared_functions.parsers.multi_chain_parser\u001b[0m:\u001b[36m__init__\u001b[0m:\u001b[36m72\u001b[0m - \u001b[1mInitializing post parsers...\u001b[0m\n",
      "\u001b[32m2024-04-30 15:41:32.759\u001b[0m | \u001b[1mINFO    \u001b[0m | \u001b[36mdesci_sense.shared_functions.parsers.post_parser_chain\u001b[0m:\u001b[36m__init__\u001b[0m:\u001b[36m26\u001b[0m - \u001b[1mInitializing parser chain 'refs_tagger' \u001b[0m\n",
      "\u001b[32m2024-04-30 15:41:32.807\u001b[0m | \u001b[1mINFO    \u001b[0m | \u001b[36mdesci_sense.shared_functions.parsers.post_parser_chain\u001b[0m:\u001b[36m__init__\u001b[0m:\u001b[36m26\u001b[0m - \u001b[1mInitializing parser chain 'topics' \u001b[0m\n",
      "\u001b[32m2024-04-30 15:41:32.833\u001b[0m | \u001b[1mINFO    \u001b[0m | \u001b[36mdesci_sense.shared_functions.parsers.post_parser_chain\u001b[0m:\u001b[36m__init__\u001b[0m:\u001b[36m26\u001b[0m - \u001b[1mInitializing parser chain 'keywords' \u001b[0m\n",
      "\u001b[32m2024-04-30 15:41:32.859\u001b[0m | \u001b[1mINFO    \u001b[0m | \u001b[36mdesci_sense.shared_functions.parsers.post_parser_chain\u001b[0m:\u001b[36m__init__\u001b[0m:\u001b[36m26\u001b[0m - \u001b[1mInitializing parser chain 'hashtags' \u001b[0m\n"
     ]
    }
   ],
   "source": [
    "multi_chain_parser = MultiChainParser(config)"
   ]
  },
  {
   "cell_type": "code",
   "execution_count": 4,
   "metadata": {},
   "outputs": [],
   "source": [
    "# example raw text posts\n",
    "TEST_POST_TEXT_W_REF = \"\"\"\n",
    "I really liked this paper!\n",
    "https://arxiv.org/abs/2402.04607\n",
    "\"\"\"\n",
    "\n",
    "TEST_POST_2_TEXT_W_REF = \"\"\"\n",
    "I really disagree with this paper!\n",
    "https://arxiv.org/abs/2402.04607\n",
    "\"\"\"\n",
    "\n",
    "TEXT_POSTS = [TEST_POST_TEXT_W_REF, TEST_POST_2_TEXT_W_REF]"
   ]
  },
  {
   "cell_type": "code",
   "execution_count": 5,
   "metadata": {},
   "outputs": [],
   "source": [
    "# convert raw text to RefPost format for input to the parser\n",
    "inputs = [convert_text_to_ref_post(p) for p in TEXT_POSTS]"
   ]
  },
  {
   "cell_type": "code",
   "execution_count": 12,
   "metadata": {},
   "outputs": [],
   "source": [
    "# or scrape posts by url\n",
    "urls = [\n",
    "        \"https://mastodon.social/@psmaldino@qoto.org/111405098400404613\",\n",
    "        \"https://mastodon.social/@UlrikeHahn@fediscience.org/111732713776994953\",\n",
    "        \"https://mastodon.social/@ronent/111687038322549430\",\n",
    "    ]\n",
    "posts = [scrape_post(url) for url in urls]"
   ]
  },
  {
   "cell_type": "code",
   "execution_count": 6,
   "metadata": {},
   "outputs": [
    {
     "name": "stderr",
     "output_type": "stream",
     "text": [
      "\u001b[32m2024-04-24 15:41:10.622\u001b[0m | \u001b[34m\u001b[1mDEBUG   \u001b[0m | \u001b[36mdesci_sense.shared_functions.web_extractors.citoid\u001b[0m:\u001b[36mfetch_citation\u001b[0m:\u001b[36m54\u001b[0m - \u001b[34m\u001b[1mfetching citoid data for: https://arxiv.org/abs/2402.04607\u001b[0m\n",
      "\u001b[32m2024-04-24 15:41:12.813\u001b[0m | \u001b[34m\u001b[1mDEBUG   \u001b[0m | \u001b[36mdesci_sense.shared_functions.parsers.multi_chain_parser\u001b[0m:\u001b[36mbatch_process_ref_posts\u001b[0m:\u001b[36m231\u001b[0m - \u001b[34m\u001b[1mProcessing 2 posts with parsers: ['refs_tagger', 'topics', 'keywords', 'hashtags']\u001b[0m\n",
      "\u001b[32m2024-04-24 15:41:12.815\u001b[0m | \u001b[34m\u001b[1mDEBUG   \u001b[0m | \u001b[36mdesci_sense.shared_functions.parsers.multi_chain_parser\u001b[0m:\u001b[36mbatch_process_ref_posts\u001b[0m:\u001b[36m233\u001b[0m - \u001b[34m\u001b[1mInstantiating prompts...\u001b[0m\n",
      "\u001b[32m2024-04-24 15:41:12.816\u001b[0m | \u001b[34m\u001b[1mDEBUG   \u001b[0m | \u001b[36mdesci_sense.shared_functions.parsers.multi_chain_parser\u001b[0m:\u001b[36mbatch_process_ref_posts\u001b[0m:\u001b[36m243\u001b[0m - \u001b[34m\u001b[1mInvoking parallel chain...\u001b[0m\n",
      "\u001b[32m2024-04-24 15:41:16.924\u001b[0m | \u001b[34m\u001b[1mDEBUG   \u001b[0m | \u001b[36mdesci_sense.shared_functions.parsers.multi_chain_parser\u001b[0m:\u001b[36mbatch_process_ref_posts\u001b[0m:\u001b[36m253\u001b[0m - \u001b[34m\u001b[1mPost processing 2 results...\u001b[0m\n",
      "\u001b[32m2024-04-24 15:41:16.926\u001b[0m | \u001b[34m\u001b[1mDEBUG   \u001b[0m | \u001b[36mdesci_sense.shared_functions.parsers.multi_chain_parser\u001b[0m:\u001b[36mbatch_process_ref_posts\u001b[0m:\u001b[36m265\u001b[0m - \u001b[34m\u001b[1mDone!\u001b[0m\n"
     ]
    }
   ],
   "source": [
    "# batch process\n",
    "results = multi_chain_parser.batch_process_ref_posts(inputs)"
   ]
  },
  {
   "cell_type": "code",
   "execution_count": 6,
   "metadata": {},
   "outputs": [],
   "source": [
    "#\n",
    "url = \"https://twitter.com/mbauwens/status/1779543397528740338\"\n",
    "post = scrape_post(url)"
   ]
  },
  {
   "cell_type": "code",
   "execution_count": 7,
   "metadata": {},
   "outputs": [
    {
     "name": "stderr",
     "output_type": "stream",
     "text": [
      "\u001b[32m2024-04-30 15:42:45.141\u001b[0m | \u001b[34m\u001b[1mDEBUG   \u001b[0m | \u001b[36mdesci_sense.shared_functions.web_extractors.citoid\u001b[0m:\u001b[36mfetch_citation_async\u001b[0m:\u001b[36m20\u001b[0m - \u001b[34m\u001b[1mtarget_url=https://icandecide.org/v-safe-data/\u001b[0m\n",
      "\u001b[32m2024-04-30 15:42:45.164\u001b[0m | \u001b[34m\u001b[1mDEBUG   \u001b[0m | \u001b[36mdesci_sense.shared_functions.web_extractors.citoid\u001b[0m:\u001b[36mfetch_citation_async\u001b[0m:\u001b[36m20\u001b[0m - \u001b[34m\u001b[1mtarget_url=https://icandecide.org/pfizer-documents/\u001b[0m\n",
      "\u001b[32m2024-04-30 15:43:04.309\u001b[0m | \u001b[34m\u001b[1mDEBUG   \u001b[0m | \u001b[36mdesci_sense.shared_functions.parsers.multi_chain_parser\u001b[0m:\u001b[36mprocess_ref_post\u001b[0m:\u001b[36m184\u001b[0m - \u001b[34m\u001b[1mProcessing post with parsers: ['refs_tagger', 'topics', 'keywords', 'hashtags']\u001b[0m\n",
      "\u001b[32m2024-04-30 15:43:04.310\u001b[0m | \u001b[34m\u001b[1mDEBUG   \u001b[0m | \u001b[36mdesci_sense.shared_functions.parsers.multi_chain_parser\u001b[0m:\u001b[36mprocess_ref_post\u001b[0m:\u001b[36m186\u001b[0m - \u001b[34m\u001b[1mInstantiating prompts...\u001b[0m\n",
      "\u001b[32m2024-04-30 15:43:04.311\u001b[0m | \u001b[34m\u001b[1mDEBUG   \u001b[0m | \u001b[36mdesci_sense.shared_functions.parsers.multi_chain_parser\u001b[0m:\u001b[36mprocess_ref_post\u001b[0m:\u001b[36m191\u001b[0m - \u001b[34m\u001b[1mInvoking parallel chain...\u001b[0m\n"
     ]
    }
   ],
   "source": [
    "# single process\n",
    "result = multi_chain_parser.process_ref_post(post)"
   ]
  },
  {
   "cell_type": "code",
   "execution_count": 8,
   "metadata": {},
   "outputs": [
    {
     "data": {
      "text/plain": [
       "['sustainability',\n",
       " 'software & hardware',\n",
       " 'academia',\n",
       " 'climate',\n",
       " 'news',\n",
       " 'health',\n",
       " 'technology',\n",
       " 'research']"
      ]
     },
     "execution_count": 8,
     "metadata": {},
     "output_type": "execute_result"
    }
   ],
   "source": [
    "result.topics"
   ]
  },
  {
   "cell_type": "code",
   "execution_count": 16,
   "metadata": {},
   "outputs": [
    {
     "data": {
      "text/plain": [
       "<SciFilterClassfication.RESEARCH: 'research'>"
      ]
     },
     "execution_count": 16,
     "metadata": {},
     "output_type": "execute_result"
    }
   ],
   "source": [
    "result.filter_classification"
   ]
  },
  {
   "cell_type": "code",
   "execution_count": 18,
   "metadata": {},
   "outputs": [
    {
     "data": {
      "text/plain": [
       "['recommendation', 'reading']"
      ]
     },
     "execution_count": 18,
     "metadata": {},
     "output_type": "execute_result"
    }
   ],
   "source": [
    "result.reference_tagger"
   ]
  },
  {
   "cell_type": "code",
   "execution_count": 19,
   "metadata": {},
   "outputs": [
    {
     "data": {
      "text/plain": [
       "['economics', 'research']"
      ]
     },
     "execution_count": 19,
     "metadata": {},
     "output_type": "execute_result"
    }
   ],
   "source": [
    "result.topics"
   ]
  },
  {
   "cell_type": "code",
   "execution_count": null,
   "metadata": {},
   "outputs": [],
   "source": []
  }
 ],
 "metadata": {
  "kernelspec": {
   "display_name": "asensebot",
   "language": "python",
   "name": "python3"
  },
  "language_info": {
   "codemirror_mode": {
    "name": "ipython",
    "version": 3
   },
   "file_extension": ".py",
   "mimetype": "text/x-python",
   "name": "python",
   "nbconvert_exporter": "python",
   "pygments_lexer": "ipython3",
   "version": "3.11.7"
  }
 },
 "nbformat": 4,
 "nbformat_minor": 2
}
