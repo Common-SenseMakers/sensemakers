{
 "cells": [
  {
   "cell_type": "code",
   "execution_count": 1,
   "metadata": {},
   "outputs": [],
   "source": [
    "import nest_asyncio\n",
    "nest_asyncio.apply()\n",
    "from pathlib import Path\n",
    "\n",
    "import sys\n",
    "sys.path.append(\"../\")\n",
    "\n",
    "from desci_sense.shared_functions.init import init_multi_chain_parser_config\n",
    "from desci_sense.shared_functions.parsers.multi_chain_parser import MultiChainParser\n",
    "from desci_sense.evaluation.utils import get_dataset\n",
    "\n",
    "from desci_sense.shared_functions.dataloaders import (\n",
    "    scrape_post,\n",
    "    convert_text_to_ref_post,\n",
    ")"
   ]
  },
  {
   "cell_type": "code",
   "execution_count": 2,
   "metadata": {},
   "outputs": [],
   "source": [
    "config = init_multi_chain_parser_config(llm_type=\"google/gemma-7b-it\",\n",
    "                                        post_process_type=\"combined\")"
   ]
  },
  {
   "cell_type": "code",
   "execution_count": 3,
   "metadata": {},
   "outputs": [
    {
     "name": "stderr",
     "output_type": "stream",
     "text": [
      "\u001b[32m2024-05-16 12:50:24.144\u001b[0m | \u001b[1mINFO    \u001b[0m | \u001b[36mdesci_sense.shared_functions.parsers.multi_chain_parser\u001b[0m:\u001b[36m__init__\u001b[0m:\u001b[36m66\u001b[0m - \u001b[1mInitializing MultiChainParser. PostProcessType=combined\u001b[0m\n",
      "\u001b[32m2024-05-16 12:50:24.154\u001b[0m | \u001b[1mINFO    \u001b[0m | \u001b[36mdesci_sense.shared_functions.parsers.multi_chain_parser\u001b[0m:\u001b[36m__init__\u001b[0m:\u001b[36m73\u001b[0m - \u001b[1mInitializing post parsers...\u001b[0m\n",
      "\u001b[32m2024-05-16 12:50:24.155\u001b[0m | \u001b[1mINFO    \u001b[0m | \u001b[36mdesci_sense.shared_functions.parsers.post_parser_chain\u001b[0m:\u001b[36m__init__\u001b[0m:\u001b[36m26\u001b[0m - \u001b[1mInitializing parser chain 'multi_refs_tagger' \u001b[0m\n",
      "\u001b[32m2024-05-16 12:50:24.200\u001b[0m | \u001b[1mINFO    \u001b[0m | \u001b[36mdesci_sense.shared_functions.parsers.post_parser_chain\u001b[0m:\u001b[36m__init__\u001b[0m:\u001b[36m26\u001b[0m - \u001b[1mInitializing parser chain 'topics' \u001b[0m\n",
      "\u001b[32m2024-05-16 12:50:24.210\u001b[0m | \u001b[1mINFO    \u001b[0m | \u001b[36mdesci_sense.shared_functions.parsers.post_parser_chain\u001b[0m:\u001b[36m__init__\u001b[0m:\u001b[36m26\u001b[0m - \u001b[1mInitializing parser chain 'keywords' \u001b[0m\n",
      "\u001b[32m2024-05-16 12:50:24.219\u001b[0m | \u001b[1mINFO    \u001b[0m | \u001b[36mdesci_sense.shared_functions.parsers.post_parser_chain\u001b[0m:\u001b[36m__init__\u001b[0m:\u001b[36m26\u001b[0m - \u001b[1mInitializing parser chain 'hashtags' \u001b[0m\n"
     ]
    }
   ],
   "source": [
    "multi_chain_parser = MultiChainParser(config)"
   ]
  },
  {
   "cell_type": "code",
   "execution_count": 4,
   "metadata": {},
   "outputs": [],
   "source": [
    "# example raw text posts\n",
    "TEST_POST_TEXT_W_REF = \"\"\"\n",
    "I really liked this paper!\n",
    "https://arxiv.org/abs/2402.04607\n",
    "I really disagree with this paper!\n",
    "https://mastodon.social/@UlrikeHahn@fediscience.org/111732713776994953\n",
    "\"\"\"\n",
    "\n",
    "TEST_POST_2_TEXT_W_REF = \"\"\"\n",
    "I really disagree with this paper!\n",
    "https://arxiv.org/abs/2402.04607\n",
    "\"\"\"\n",
    "\n",
    "TEXT_POSTS = [TEST_POST_TEXT_W_REF, TEST_POST_2_TEXT_W_REF]"
   ]
  },
  {
   "cell_type": "code",
   "execution_count": 5,
   "metadata": {},
   "outputs": [],
   "source": [
    "# convert raw text to RefPost format for input to the parser\n",
    "inputs = [convert_text_to_ref_post(p) for p in TEXT_POSTS]"
   ]
  },
  {
   "cell_type": "code",
   "execution_count": 12,
   "metadata": {},
   "outputs": [],
   "source": [
    "# or scrape posts by url\n",
    "urls = [\n",
    "        \"https://mastodon.social/@psmaldino@qoto.org/111405098400404613\",\n",
    "        \"https://mastodon.social/@UlrikeHahn@fediscience.org/111732713776994953\",\n",
    "        \"https://mastodon.social/@ronent/111687038322549430\",\n",
    "    ]\n",
    "posts = [scrape_post(url) for url in urls]"
   ]
  },
  {
   "cell_type": "code",
   "execution_count": 9,
   "metadata": {},
   "outputs": [
    {
     "name": "stderr",
     "output_type": "stream",
     "text": [
      "\u001b[32m2024-05-16 12:53:10.856\u001b[0m | \u001b[33m\u001b[1mWARNING \u001b[0m | \u001b[36mdesci_sense.shared_functions.web_extractors.citoid\u001b[0m:\u001b[36mbefore_retry\u001b[0m:\u001b[36m84\u001b[0m - \u001b[33m\u001b[1mRetry attempt 1\u001b[0m\n",
      "\u001b[32m2024-05-16 12:53:10.857\u001b[0m | \u001b[34m\u001b[1mDEBUG   \u001b[0m | \u001b[36mdesci_sense.shared_functions.web_extractors.citoid\u001b[0m:\u001b[36mfetch_citation_async_retry\u001b[0m:\u001b[36m111\u001b[0m - \u001b[34m\u001b[1mtarget_url=https://mastodon.social/redirect/statuses/111732713776994953\u001b[0m\n",
      "\u001b[32m2024-05-16 12:53:10.871\u001b[0m | \u001b[33m\u001b[1mWARNING \u001b[0m | \u001b[36mdesci_sense.shared_functions.web_extractors.citoid\u001b[0m:\u001b[36mbefore_retry\u001b[0m:\u001b[36m84\u001b[0m - \u001b[33m\u001b[1mRetry attempt 1\u001b[0m\n",
      "\u001b[32m2024-05-16 12:53:10.872\u001b[0m | \u001b[34m\u001b[1mDEBUG   \u001b[0m | \u001b[36mdesci_sense.shared_functions.web_extractors.citoid\u001b[0m:\u001b[36mfetch_citation_async_retry\u001b[0m:\u001b[36m111\u001b[0m - \u001b[34m\u001b[1mtarget_url=https://arxiv.org/abs/2402.04607\u001b[0m\n",
      "\u001b[32m2024-05-16 12:53:12.976\u001b[0m | \u001b[34m\u001b[1mDEBUG   \u001b[0m | \u001b[36mdesci_sense.shared_functions.parsers.multi_chain_parser\u001b[0m:\u001b[36mbatch_process_ref_posts\u001b[0m:\u001b[36m232\u001b[0m - \u001b[34m\u001b[1mProcessing 2 posts with parsers: ['keywords', 'topics']\u001b[0m\n",
      "\u001b[32m2024-05-16 12:53:12.979\u001b[0m | \u001b[34m\u001b[1mDEBUG   \u001b[0m | \u001b[36mdesci_sense.shared_functions.parsers.multi_chain_parser\u001b[0m:\u001b[36mbatch_process_ref_posts\u001b[0m:\u001b[36m234\u001b[0m - \u001b[34m\u001b[1mInstantiating prompts...\u001b[0m\n"
     ]
    },
    {
     "data": {
      "application/vnd.jupyter.widget-view+json": {
       "model_id": "217a66a0de054e0481648476076da7b7",
       "version_major": 2,
       "version_minor": 0
      },
      "text/plain": [
       "  0%|          | 0/4 [00:00<?, ?it/s]"
      ]
     },
     "metadata": {},
     "output_type": "display_data"
    },
    {
     "name": "stderr",
     "output_type": "stream",
     "text": [
      "\u001b[32m2024-05-16 12:53:13.029\u001b[0m | \u001b[34m\u001b[1mDEBUG   \u001b[0m | \u001b[36mdesci_sense.shared_functions.parsers.multi_chain_parser\u001b[0m:\u001b[36mbatch_process_ref_posts\u001b[0m:\u001b[36m248\u001b[0m - \u001b[34m\u001b[1mInvoking parallel chain...\u001b[0m\n",
      "\u001b[32m2024-05-16 12:53:16.783\u001b[0m | \u001b[34m\u001b[1mDEBUG   \u001b[0m | \u001b[36mdesci_sense.shared_functions.parsers.multi_chain_parser\u001b[0m:\u001b[36mbatch_process_ref_posts\u001b[0m:\u001b[36m259\u001b[0m - \u001b[34m\u001b[1mPost processing 2 results...\u001b[0m\n",
      "\u001b[32m2024-05-16 12:53:16.786\u001b[0m | \u001b[34m\u001b[1mDEBUG   \u001b[0m | \u001b[36mdesci_sense.shared_functions.parsers.multi_chain_parser\u001b[0m:\u001b[36mbatch_process_ref_posts\u001b[0m:\u001b[36m271\u001b[0m - \u001b[34m\u001b[1mDone!\u001b[0m\n"
     ]
    }
   ],
   "source": [
    "# batch process\n",
    "results = multi_chain_parser.batch_process_ref_posts(inputs=inputs,active_list=[\"keywords\", \"topics\"],batch_size=10)\n"
   ]
  },
  {
   "cell_type": "code",
   "execution_count": 6,
   "metadata": {},
   "outputs": [],
   "source": [
    "#\n",
    "url = \"https://twitter.com/mbauwens/status/1779543397528740338\"\n",
    "post = scrape_post(url)"
   ]
  },
  {
   "cell_type": "code",
   "execution_count": 7,
   "metadata": {},
   "outputs": [
    {
     "name": "stderr",
     "output_type": "stream",
     "text": [
      "\u001b[32m2024-04-30 15:42:45.141\u001b[0m | \u001b[34m\u001b[1mDEBUG   \u001b[0m | \u001b[36mdesci_sense.shared_functions.web_extractors.citoid\u001b[0m:\u001b[36mfetch_citation_async\u001b[0m:\u001b[36m20\u001b[0m - \u001b[34m\u001b[1mtarget_url=https://icandecide.org/v-safe-data/\u001b[0m\n",
      "\u001b[32m2024-04-30 15:42:45.164\u001b[0m | \u001b[34m\u001b[1mDEBUG   \u001b[0m | \u001b[36mdesci_sense.shared_functions.web_extractors.citoid\u001b[0m:\u001b[36mfetch_citation_async\u001b[0m:\u001b[36m20\u001b[0m - \u001b[34m\u001b[1mtarget_url=https://icandecide.org/pfizer-documents/\u001b[0m\n",
      "\u001b[32m2024-04-30 15:43:04.309\u001b[0m | \u001b[34m\u001b[1mDEBUG   \u001b[0m | \u001b[36mdesci_sense.shared_functions.parsers.multi_chain_parser\u001b[0m:\u001b[36mprocess_ref_post\u001b[0m:\u001b[36m184\u001b[0m - \u001b[34m\u001b[1mProcessing post with parsers: ['refs_tagger', 'topics', 'keywords', 'hashtags']\u001b[0m\n",
      "\u001b[32m2024-04-30 15:43:04.310\u001b[0m | \u001b[34m\u001b[1mDEBUG   \u001b[0m | \u001b[36mdesci_sense.shared_functions.parsers.multi_chain_parser\u001b[0m:\u001b[36mprocess_ref_post\u001b[0m:\u001b[36m186\u001b[0m - \u001b[34m\u001b[1mInstantiating prompts...\u001b[0m\n",
      "\u001b[32m2024-04-30 15:43:04.311\u001b[0m | \u001b[34m\u001b[1mDEBUG   \u001b[0m | \u001b[36mdesci_sense.shared_functions.parsers.multi_chain_parser\u001b[0m:\u001b[36mprocess_ref_post\u001b[0m:\u001b[36m191\u001b[0m - \u001b[34m\u001b[1mInvoking parallel chain...\u001b[0m\n"
     ]
    }
   ],
   "source": [
    "# single process\n",
    "result = multi_chain_parser.process_ref_post(post)"
   ]
  },
  {
   "cell_type": "code",
   "execution_count": 8,
   "metadata": {},
   "outputs": [
    {
     "data": {
      "text/plain": [
       "['sustainability',\n",
       " 'software & hardware',\n",
       " 'academia',\n",
       " 'climate',\n",
       " 'news',\n",
       " 'health',\n",
       " 'technology',\n",
       " 'research']"
      ]
     },
     "execution_count": 8,
     "metadata": {},
     "output_type": "execute_result"
    }
   ],
   "source": [
    "result.topics"
   ]
  },
  {
   "cell_type": "code",
   "execution_count": 16,
   "metadata": {},
   "outputs": [
    {
     "data": {
      "text/plain": [
       "<SciFilterClassfication.RESEARCH: 'research'>"
      ]
     },
     "execution_count": 16,
     "metadata": {},
     "output_type": "execute_result"
    }
   ],
   "source": [
    "result.filter_classification"
   ]
  },
  {
   "cell_type": "code",
   "execution_count": 43,
   "metadata": {},
   "outputs": [
    {
     "data": {
      "text/plain": [
       "['review', 'disagrees', 'agrees']"
      ]
     },
     "execution_count": 43,
     "metadata": {},
     "output_type": "execute_result"
    }
   ],
   "source": [
    "results[0].reference_tagger"
   ]
  },
  {
   "cell_type": "code",
   "execution_count": 19,
   "metadata": {},
   "outputs": [
    {
     "data": {
      "text/plain": [
       "['economics', 'research']"
      ]
     },
     "execution_count": 19,
     "metadata": {},
     "output_type": "execute_result"
    }
   ],
   "source": [
    "result.topics"
   ]
  },
  {
   "cell_type": "code",
   "execution_count": 16,
   "metadata": {},
   "outputs": [
    {
     "name": "stdout",
     "output_type": "stream",
     "text": [
      "['Keywords: **Reasoning Steps:**\\n\\n1. **Identify the main topic of the post:** The post discusses the potential for manipulation of citations on Google Scholar. Therefore, the main topic is \"scientific integrity.\"\\n\\n\\n2. **Identify the specific topics discussed in the post:** The post also discusses self-citations and citation cartels. These topics are related to the main topic.\\n\\n\\n3. **Consider the context of the post:** The post is a personal opinion piece, and the author is expressing their disagreement with a paper. Therefore, the topic of \"disagreement\" is also relevant.\\n\\n\\n**Candidate Topics:**\\n\\n- Scientific integrity\\n- Self-citations\\n- Citation cartels\\n- Google Scholar\\n- Scientific evaluation\\n- Disagreement\\n- Academic fraud\\n\\n**Final Answer:**\\n\\n**Final Topics:**\\n\\n- Scientific integrity\\n- Self-citations\\n- Citation cartels\\n- Google Scholar\\n- Scientific evaluation\\n- Disagreement \\n\\n ##Allowed terms: [\\'technology\\', \\'science\\', \\'academia\\', \\'research\\', \\'design\\', \\'climate\\', \\'sustainability\\', \\'software & hardware\\', \\'philosophy\\', \\'health\\', \\'culture\\', \\'economics\\', \\'business\\', \\'politics\\', \\'news\\', \\'finance\\', \\'sports\\', \\'entertainment & leisure\\', \\'art\\', \\'literature\\', \\'travel\\', \\'personal\\', \\'humour\\', \\'other\\']Topics: **Reasoning Steps:**\\n\\n1. Analyzed the text to identify the main topics and issues discussed.\\n2. Considered the relevance of the topics to both general and specific audiences.\\n3. Identified potential general and specific keywords related to the post\\'s content.\\n4 vicissced the inclusion of the special #academic or #not-academic keyword based on the nature of the post.\\n\\n\\n**Candidate Keywords:**\\n\\n- #AcademicResearch\\n- #CitationAnalysis\\n- #GoogleScholar\\n- #CitationFraud\\n- #MachineLearning\\n- #NetworkAnalysis\\n- #Mastodon\\n\\n\\n**Final Answer:**\\n\\n- #AcademicResearch\\n- #CitationAnalysis\\n- #GoogleScholar\\n- #CitationFraud\\n- #MachineLearning\\n- #NetworkAnalysis\\n- #not-academic', \"Keywords: ## Reasoning Steps:\\n\\n- The post expresses strong disagreement with a research paper.\\n- The paper discusses concerns about the manipulation of citations on Google Scholar.\\n- The post suggests that the author believes the paper is biased or misleading.\\n\\n\\n## Candidate Topics:\\n\\n**Academic:** \\n- Research Integrity\\n- Academic Publishing\\n- Citation Analysis\\n- Google Scholar\\n\\n**Technology:** \\n- Data Analysis\\n- Citation Manipulation\\n\\n**Culture:** \\n- Scientific Ethics\\n\\n\\n## Final Answer:\\n\\n**Primary Topics:**\\n- Research Integrity\\n- Citation Analysis\\n- Google Scholar\\n\\n**Supporting Topics:**\\n- Academic Publishing\\n- Citation Manipulation \\n\\n ##Allowed terms: ['technology', 'science', 'academia', 'research', 'design', 'climate', 'sustainability', 'software & hardware', 'philosophy', 'health', 'culture', 'economics', 'business', 'politics', 'news', 'finance', 'sports', 'entertainment & leisure', 'art', 'literature', 'travel', 'personal', 'humour', 'other']Topics: **Reasoning Steps:**\\n\\n1. Analyzed the post's text to identify the main points of disagreement.\\n2. Examined the paper's summary and title to identify relevant technical concepts.\\n3. Considered the context of the post to determine if it is related to academic research.\\n\\n\\n**Candidate Keywords:**\\n\\n- #AcademicResearch\\n- #CitationFraud\\n- #GoogleScholar\\n- #CitationCount\\n- #Dataset\\n- #Survey\\n- #FraudDetection\\n\\n\\n**Final Answer:**\\n\\n- #AcademicResearch\\n- #CitationFraud\\n- #GoogleScholar\\n- #CitationCount\\n- #Dataset\\n- #Survey\\n- ##not-academic\"]\n"
     ]
    }
   ],
   "source": [
    "l = [\"Topics: \"+x.debug['topics']['full_text']+\"Keywords: \"+x.debug['keywords']['raw_text'] for x in results]\n",
    "print(l)"
   ]
  },
  {
   "cell_type": "code",
   "execution_count": 10,
   "metadata": {},
   "outputs": [
    {
     "name": "stdout",
     "output_type": "stream",
     "text": [
      "research_keyword='not-academic' filter_classification=<SciFilterClassfication.RESEARCH: 'research'> item_types=['preprint', 'webpage'] reference_urls=['https://arxiv.org/abs/2402.04607', 'https://mastodon.social/redirect/statuses/111732713776994953'] reference_tagger=None multi_reference_tagger=None keywords=['CitationAnalysis', 'GoogleScholar', 'MachineLearning', 'NetworkAnalysis', 'CitationFraud'] topics=['art'] hashtags=[] metadata_list=[RefMetadata(citoid_url='http://arxiv.org/abs/2402.04607', url='https://arxiv.org/abs/2402.04607', item_type='preprint', title='Google Scholar is manipulatable', summary=\"Citations are widely considered in scientists' evaluation. As such, scientists may be incentivized to inflate their citation counts. While previous literature has examined self-citations and citation cartels, it remains unclear whether scientists can purchase citations. Here, we compile a dataset of ~1.6 million profiles on Google Scholar to examine instances of citation fraud on the platform. We survey faculty at highly-ranked universities, and confirm that Google Scholar is widely used when ev\", image='', debug={'error': None}), RefMetadata(citoid_url='https://mastodon.social/redirect/statuses/111732713776994953', url='https://mastodon.social/redirect/statuses/111732713776994953', item_type='webpage', title='Mastodon', summary='', image='', debug={'error': None})] debug={'topics': {'allowed_tags': ['technology', 'science', 'academia', 'research', 'design', 'climate', 'sustainability', 'software & hardware', 'philosophy', 'health', 'culture', 'economics', 'business', 'politics', 'news', 'finance', 'sports', 'entertainment & leisure', 'art', 'literature', 'travel', 'personal', 'humour', 'other'], 'full_text': '**Reasoning Steps:**\\n\\n1. **Identify the main topic of the post:** The post discusses the potential for manipulation of citations on Google Scholar. Therefore, the main topic is \"scientific integrity.\"\\n\\n\\n2. **Identify the specific topics discussed in the post:** The post also discusses self-citations and citation cartels. These topics are related to the main topic.\\n\\n\\n3. **Consider the context of the post:** The post is a personal opinion piece, and the author is expressing their disagreement with a paper. Therefore, the topic of \"disagreement\" is also relevant.\\n\\n\\n**Candidate Topics:**\\n\\n- Scientific integrity\\n- Self-citations\\n- Citation cartels\\n- Google Scholar\\n- Scientific evaluation\\n- Disagreement\\n- Academic fraud\\n\\n**Final Answer:**\\n\\n**Final Topics:**\\n\\n- Scientific integrity\\n- Self-citations\\n- Citation cartels\\n- Google Scholar\\n- Scientific evaluation\\n- Disagreement \\n\\n ##Allowed terms: [\\'technology\\', \\'science\\', \\'academia\\', \\'research\\', \\'design\\', \\'climate\\', \\'sustainability\\', \\'software & hardware\\', \\'philosophy\\', \\'health\\', \\'culture\\', \\'economics\\', \\'business\\', \\'politics\\', \\'news\\', \\'finance\\', \\'sports\\', \\'entertainment & leisure\\', \\'art\\', \\'literature\\', \\'travel\\', \\'personal\\', \\'humour\\', \\'other\\']', 'prompt': \"\\nYou are an expert annotator tasked with selecting topics to social media posts. The assigned topics should represent the most salient topics discussed by the post.  \\n\\nThe available topic types are:\\n- technology\\n- science\\n- academia\\n- research\\n- design\\n- climate\\n- sustainability\\n- software & hardware\\n- philosophy\\n- health\\n- culture\\n- economics\\n- business\\n- politics\\n- news\\n- finance\\n- sports\\n- entertainment & leisure\\n- art\\n- literature\\n- travel\\n- personal\\n- humour\\n- other\\n\\nA user will pass in a post, and you should think step by step, before selecting a set of topics that best match the post. You must only use the topics in the list!\\n\\n\\nRules:\\n- Your final answer should be structured as follows:\\n    - Reasoning Steps: (your reasoning steps)\\n    - Candidate Topics: (For potential each topic you choose, explain why you chose it.)\\n    - Final Answer: (a set of final topics, based on the Candidate Topics. The rest of the final keywords must be included in the Candidate Topics list!)\\n\\n\\n# Input post text:\\nContent: \\nI really liked this paper!\\nhttps://arxiv.org/abs/2402.04607\\nI really disagree with this paper!\\nhttps://mastodon.social/@UlrikeHahn@fediscience.org/111732713776994953\\n\\n\\n## Reference Metadata:\\nurl: https://arxiv.org/abs/2402.04607\\nitem_type: preprint\\ntitle: Google Scholar is manipulatable\\nsummary: Citations are widely considered in scientists' evaluation. As such, scientists may be incentivized to inflate their citation counts. While previous literature has examined self-citations and citation cartels, it remains unclear whether scientists can purchase citations. Here, we compile a dataset of ~1.6 million profiles on Google Scholar to examine instances of citation fraud on the platform. We survey faculty at highly-ranked universities, and confirm that Google Scholar is widely used when ev\\n---------------\\nurl: https://mastodon.social/redirect/statuses/111732713776994953\\nitem_type: webpage\\ntitle: Mastodon\\nsummary: None\\n\\n# Output:\", 'reasoning': '[Reasoning Steps]\\n\\n**\\n\\n1. **Identify the main topic of the post:** The post discusses the potential for manipulation of citations on Google Scholar. Therefore, the main topic is \"scientific integrity.\"\\n\\n\\n2. **Identify the specific topics discussed in the post:** The post also discusses self-citations and citation cartels. These topics are related to the main topic.\\n\\n\\n3. **Consider the context of the post:** The post is a personal opinion piece, and the author is expressing their disagreement with a paper. Therefore, the topic of \"disagreement\" is also relevant.\\n\\n\\n**\\n\\n[Candidate Tags]\\n\\n**\\n\\n- Scientific integrity\\n- Self-citations\\n- Citation cartels\\n- Google Scholar\\n- Scientific evaluation\\n- Disagreement\\n- Academic fraud\\n\\n**'}, 'keywords': {'raw_text': \"**Reasoning Steps:**\\n\\n1. Analyzed the text to identify the main topics and issues discussed.\\n2. Considered the relevance of the topics to both general and specific audiences.\\n3. Identified potential general and specific keywords related to the post's content.\\n4 vicissced the inclusion of the special #academic or #not-academic keyword based on the nature of the post.\\n\\n\\n**Candidate Keywords:**\\n\\n- #AcademicResearch\\n- #CitationAnalysis\\n- #GoogleScholar\\n- #CitationFraud\\n- #MachineLearning\\n- #NetworkAnalysis\\n- #Mastodon\\n\\n\\n**Final Answer:**\\n\\n- #AcademicResearch\\n- #CitationAnalysis\\n- #GoogleScholar\\n- #CitationFraud\\n- #MachineLearning\\n- #NetworkAnalysis\\n- #not-academic\", 'prompt': '\\nYou are an expert annotator tasked with selecting keywords to social media posts. The keywords should represent the most salient topics discussed by the post. The keywords should consist of two types: general and specific. The general keywords should indicate the general topics discussed by the posts and its references, like \"#AI\" or \"#blockchain\". The specific keywords should highlight specific that will help people in the field better understand the post\\'s contents (like \"#monte-carlo-tree-search\", or \"#consensus-algorithms\"). In addition to the above, you should also add a special \\'#academic\\' keyword if the post is related to academic research. Acaedmic research is to be defined broadly, as anything that the author is likely to see as related to their research, including academic job offers, code repositories, blog posts and so on. If the post is clearly not related in any way to academic research, add \\'#not-academic\\'. \\n\\nRules:\\n- You should choose up to 6 keywords, plus the additional special academic/non-academic keyword!\\n- Keywords should be prefixed with a hashtag, e.g., #AI\\n- Your final answer should be structured as follows:\\n    - Reasoning Steps: (your reasoning steps)\\n    - Candidate Keywords: (For potential each keyword you choose, explain why you chose it.)\\n    - Final Answer: (a set of 7 final keywords, based on the Candidate Keywords. One of the keywords should be #academic or #not-academic. The rest of the final keywords must be included in the Candidate Keywords list!)\\n\\n\\n# Input post text:\\nContent: \\nI really liked this paper!\\nhttps://arxiv.org/abs/2402.04607\\nI really disagree with this paper!\\nhttps://mastodon.social/@UlrikeHahn@fediscience.org/111732713776994953\\n\\n\\n## Reference Metadata:\\nurl: https://arxiv.org/abs/2402.04607\\nitem_type: preprint\\ntitle: Google Scholar is manipulatable\\nsummary: Citations are widely considered in scientists\\' evaluation. As such, scientists may be incentivized to inflate their citation counts. While previous literature has examined self-citations and citation cartels, it remains unclear whether scientists can purchase citations. Here, we compile a dataset of ~1.6 million profiles on Google Scholar to examine instances of citation fraud on the platform. We survey faculty at highly-ranked universities, and confirm that Google Scholar is widely used when ev\\n---------------\\nurl: https://mastodon.social/redirect/statuses/111732713776994953\\nitem_type: webpage\\ntitle: Mastodon\\nsummary: None\\n\\n# Output:', 'reasoning': \"[Reasoning Steps]\\n\\n**\\n\\n1. Analyzed the text to identify the main topics and issues discussed.\\n2. Considered the relevance of the topics to both general and specific audiences.\\n3. Identified potential general and specific keywords related to the post's content.\\n4 vicissced the inclusion of the special #academic or #not-academic keyword based on the nature of the post.\\n\\n\\n**\\n\\n[Candidate Keywords]\\n\\n**\\n\\n- #AcademicResearch\\n- #CitationAnalysis\\n- #GoogleScholar\\n- #CitationFraud\\n- #MachineLearning\\n- #NetworkAnalysis\\n- #Mastodon\\n\\n\\n**\"}}\n"
     ]
    }
   ],
   "source": [
    "print(results[0].debub)"
   ]
  },
  {
   "cell_type": "code",
   "execution_count": 14,
   "metadata": {},
   "outputs": [
    {
     "name": "stderr",
     "output_type": "stream",
     "text": [
      "Failed to detect the name of this notebook, you can set it manually with the WANDB_NOTEBOOK_NAME environment variable to enable code saving.\n",
      "\u001b[34m\u001b[1mwandb\u001b[0m: Currently logged in as: \u001b[33mshahar-r-oriel\u001b[0m (\u001b[33mcommon-sense-makers\u001b[0m). Use \u001b[1m`wandb login --relogin`\u001b[0m to force relogin\n"
     ]
    },
    {
     "data": {
      "text/html": [
       "Tracking run with wandb version 0.16.6"
      ],
      "text/plain": [
       "<IPython.core.display.HTML object>"
      ]
     },
     "metadata": {},
     "output_type": "display_data"
    },
    {
     "data": {
      "text/html": [
       "Run data is saved locally in <code>/Users/shaharorielkagan/sensemakers/nlp/notebooks/wandb/run-20240506_150213-kpsa1jh7</code>"
      ],
      "text/plain": [
       "<IPython.core.display.HTML object>"
      ]
     },
     "metadata": {},
     "output_type": "display_data"
    },
    {
     "data": {
      "text/html": [
       "Syncing run <strong><a href='https://wandb.ai/common-sense-makers/testing/runs/kpsa1jh7' target=\"_blank\">exalted-salad-164</a></strong> to <a href='https://wandb.ai/common-sense-makers/testing' target=\"_blank\">Weights & Biases</a> (<a href='https://wandb.me/run' target=\"_blank\">docs</a>)<br/>"
      ],
      "text/plain": [
       "<IPython.core.display.HTML object>"
      ]
     },
     "metadata": {},
     "output_type": "display_data"
    },
    {
     "data": {
      "text/html": [
       " View project at <a href='https://wandb.ai/common-sense-makers/testing' target=\"_blank\">https://wandb.ai/common-sense-makers/testing</a>"
      ],
      "text/plain": [
       "<IPython.core.display.HTML object>"
      ]
     },
     "metadata": {},
     "output_type": "display_data"
    },
    {
     "data": {
      "text/html": [
       " View run at <a href='https://wandb.ai/common-sense-makers/testing/runs/kpsa1jh7' target=\"_blank\">https://wandb.ai/common-sense-makers/testing/runs/kpsa1jh7</a>"
      ],
      "text/plain": [
       "<IPython.core.display.HTML object>"
      ]
     },
     "metadata": {},
     "output_type": "display_data"
    },
    {
     "name": "stderr",
     "output_type": "stream",
     "text": [
      "\u001b[34m\u001b[1mwandb\u001b[0m:   2 of 2 files downloaded.  \n"
     ]
    },
    {
     "name": "stdout",
     "output_type": "stream",
     "text": [
      "The path is /Users/shaharorielkagan/sensemakers/nlp/notebooks/artifacts/labeled_tweets_no_threads:v1\n"
     ]
    }
   ],
   "source": [
    "import wandb\n",
    "import pandas as pd\n",
    "\n",
    "wandb.login()\n",
    "\n",
    "api = wandb.Api()\n",
    "\n",
    "#TODO move from testing\n",
    "run = wandb.init(project=\"testing\", job_type=\"evaluation\")\n",
    "\n",
    "# get artifact path\n",
    "\n",
    "dataset_artifact_id = (\n",
    "        'common-sense-makers/filter_evaluation/labeled_tweets_no_threads:v1'\n",
    "    )\n",
    "\n",
    "# set artifact as input artifact\n",
    "dataset_artifact = run.use_artifact(dataset_artifact_id)\n",
    "\n",
    "# initialize table path\n",
    "# add the option to call table_path =  arguments.get('--dataset')\n",
    "\n",
    "# download path to table\n",
    "a_path = dataset_artifact.download()\n",
    "print(\"The path is\",a_path)\n",
    "\n",
    "# get dataset file name\n",
    "\n",
    "table_path = Path(f\"{a_path}/labeled_data_table_no_threads.table.json\")\n",
    "\n",
    "\n",
    "# return the pd df from the table\n",
    "#remember to remove the head TODO\n",
    "df = get_dataset(table_path)\n",
    "\n",
    "table_path = Path(f\"{a_path}/handles_chart.table.json\")\n",
    "\n",
    "df_handles = get_dataset(table_path)\n"
   ]
  },
  {
   "cell_type": "code",
   "execution_count": 15,
   "metadata": {},
   "outputs": [
    {
     "name": "stderr",
     "output_type": "stream",
     "text": [
      "100%|██████████| 467/467 [00:49<00:00,  9.41it/s]\n"
     ]
    }
   ],
   "source": [
    "import concurrent.futures\n",
    "from tqdm import tqdm\n",
    "\n",
    "def process_text(text):\n",
    "    return convert_text_to_ref_post(text)\n",
    "\n",
    "# Assuming df['Text'] is your DataFrame column\n",
    "with concurrent.futures.ThreadPoolExecutor() as executor:\n",
    "    inputs = list(tqdm(executor.map(process_text, df['Text']), total=len(df['Text'])))\n"
   ]
  },
  {
   "cell_type": "code",
   "execution_count": 16,
   "metadata": {},
   "outputs": [],
   "source": [
    "inputs = inputs[:10]"
   ]
  },
  {
   "cell_type": "code",
   "execution_count": 31,
   "metadata": {},
   "outputs": [
    {
     "name": "stderr",
     "output_type": "stream",
     "text": [
      "\u001b[32m2024-05-06 15:52:15.507\u001b[0m | \u001b[33m\u001b[1mWARNING \u001b[0m | \u001b[36mdesci_sense.shared_functions.web_extractors.citoid\u001b[0m:\u001b[36mbefore_retry\u001b[0m:\u001b[36m84\u001b[0m - \u001b[33m\u001b[1mRetry attempt 1\u001b[0m\n",
      "\u001b[32m2024-05-06 15:52:15.512\u001b[0m | \u001b[34m\u001b[1mDEBUG   \u001b[0m | \u001b[36mdesci_sense.shared_functions.web_extractors.citoid\u001b[0m:\u001b[36mfetch_citation_async_retry\u001b[0m:\u001b[36m111\u001b[0m - \u001b[34m\u001b[1mtarget_url=https://civilizationemerging.com/\u001b[0m\n",
      "\u001b[32m2024-05-06 15:52:15.525\u001b[0m | \u001b[33m\u001b[1mWARNING \u001b[0m | \u001b[36mdesci_sense.shared_functions.web_extractors.citoid\u001b[0m:\u001b[36mbefore_retry\u001b[0m:\u001b[36m84\u001b[0m - \u001b[33m\u001b[1mRetry attempt 1\u001b[0m\n",
      "\u001b[32m2024-05-06 15:52:15.526\u001b[0m | \u001b[34m\u001b[1mDEBUG   \u001b[0m | \u001b[36mdesci_sense.shared_functions.web_extractors.citoid\u001b[0m:\u001b[36mfetch_citation_async_retry\u001b[0m:\u001b[36m111\u001b[0m - \u001b[34m\u001b[1mtarget_url=https://en.wikipedia.org/wiki/Epic_of_evolution\u001b[0m\n",
      "\u001b[32m2024-05-06 15:52:15.527\u001b[0m | \u001b[33m\u001b[1mWARNING \u001b[0m | \u001b[36mdesci_sense.shared_functions.web_extractors.citoid\u001b[0m:\u001b[36mbefore_retry\u001b[0m:\u001b[36m84\u001b[0m - \u001b[33m\u001b[1mRetry attempt 1\u001b[0m\n",
      "\u001b[32m2024-05-06 15:52:15.528\u001b[0m | \u001b[34m\u001b[1mDEBUG   \u001b[0m | \u001b[36mdesci_sense.shared_functions.web_extractors.citoid\u001b[0m:\u001b[36mfetch_citation_async_retry\u001b[0m:\u001b[36m111\u001b[0m - \u001b[34m\u001b[1mtarget_url=https://wiki.p2pfoundation.net/Category:Peerproduction#With_the_advent_of_the_P2P_Mode_of_Production%2C_the_community_and_its_common_is_now_the_appropriate_scale\u001b[0m\n",
      "\u001b[32m2024-05-06 15:52:15.531\u001b[0m | \u001b[33m\u001b[1mWARNING \u001b[0m | \u001b[36mdesci_sense.shared_functions.web_extractors.citoid\u001b[0m:\u001b[36mbefore_retry\u001b[0m:\u001b[36m84\u001b[0m - \u001b[33m\u001b[1mRetry attempt 1\u001b[0m\n",
      "\u001b[32m2024-05-06 15:52:15.536\u001b[0m | \u001b[34m\u001b[1mDEBUG   \u001b[0m | \u001b[36mdesci_sense.shared_functions.web_extractors.citoid\u001b[0m:\u001b[36mfetch_citation_async_retry\u001b[0m:\u001b[36m111\u001b[0m - \u001b[34m\u001b[1mtarget_url=https://www.journaloffreespeechlaw.org/\u001b[0m\n",
      "\u001b[32m2024-05-06 15:52:15.541\u001b[0m | \u001b[33m\u001b[1mWARNING \u001b[0m | \u001b[36mdesci_sense.shared_functions.web_extractors.citoid\u001b[0m:\u001b[36mbefore_retry\u001b[0m:\u001b[36m84\u001b[0m - \u001b[33m\u001b[1mRetry attempt 1\u001b[0m\n",
      "\u001b[32m2024-05-06 15:52:15.544\u001b[0m | \u001b[34m\u001b[1mDEBUG   \u001b[0m | \u001b[36mdesci_sense.shared_functions.web_extractors.citoid\u001b[0m:\u001b[36mfetch_citation_async_retry\u001b[0m:\u001b[36m111\u001b[0m - \u001b[34m\u001b[1mtarget_url=https://integralpermaculture.wordpress.com/peter-pogany/\u001b[0m\n",
      "\u001b[32m2024-05-06 15:52:15.546\u001b[0m | \u001b[33m\u001b[1mWARNING \u001b[0m | \u001b[36mdesci_sense.shared_functions.web_extractors.citoid\u001b[0m:\u001b[36mbefore_retry\u001b[0m:\u001b[36m84\u001b[0m - \u001b[33m\u001b[1mRetry attempt 1\u001b[0m\n",
      "\u001b[32m2024-05-06 15:52:15.549\u001b[0m | \u001b[34m\u001b[1mDEBUG   \u001b[0m | \u001b[36mdesci_sense.shared_functions.web_extractors.citoid\u001b[0m:\u001b[36mfetch_citation_async_retry\u001b[0m:\u001b[36m111\u001b[0m - \u001b[34m\u001b[1mtarget_url=https://wiki.p2pfoundation.net/Andrew_Targowski's_Classification_of_the_Civilizational_Approaches_To_Human_History\u001b[0m\n",
      "\u001b[32m2024-05-06 15:52:15.557\u001b[0m | \u001b[33m\u001b[1mWARNING \u001b[0m | \u001b[36mdesci_sense.shared_functions.web_extractors.citoid\u001b[0m:\u001b[36mbefore_retry\u001b[0m:\u001b[36m84\u001b[0m - \u001b[33m\u001b[1mRetry attempt 1\u001b[0m\n",
      "\u001b[32m2024-05-06 15:52:15.560\u001b[0m | \u001b[34m\u001b[1mDEBUG   \u001b[0m | \u001b[36mdesci_sense.shared_functions.web_extractors.citoid\u001b[0m:\u001b[36mfetch_citation_async_retry\u001b[0m:\u001b[36m111\u001b[0m - \u001b[34m\u001b[1mtarget_url=https://wiki.p2pfoundation.net/Category:Thermodynamic_Efficiencies\u001b[0m\n",
      "\u001b[32m2024-05-06 15:52:15.563\u001b[0m | \u001b[33m\u001b[1mWARNING \u001b[0m | \u001b[36mdesci_sense.shared_functions.web_extractors.citoid\u001b[0m:\u001b[36mbefore_retry\u001b[0m:\u001b[36m84\u001b[0m - \u001b[33m\u001b[1mRetry attempt 1\u001b[0m\n",
      "\u001b[32m2024-05-06 15:52:15.571\u001b[0m | \u001b[34m\u001b[1mDEBUG   \u001b[0m | \u001b[36mdesci_sense.shared_functions.web_extractors.citoid\u001b[0m:\u001b[36mfetch_citation_async_retry\u001b[0m:\u001b[36m111\u001b[0m - \u001b[34m\u001b[1mtarget_url=https://autocatallaxy.com/\u001b[0m\n",
      "\u001b[32m2024-05-06 15:52:15.572\u001b[0m | \u001b[33m\u001b[1mWARNING \u001b[0m | \u001b[36mdesci_sense.shared_functions.web_extractors.citoid\u001b[0m:\u001b[36mbefore_retry\u001b[0m:\u001b[36m84\u001b[0m - \u001b[33m\u001b[1mRetry attempt 1\u001b[0m\n",
      "\u001b[32m2024-05-06 15:52:15.579\u001b[0m | \u001b[34m\u001b[1mDEBUG   \u001b[0m | \u001b[36mdesci_sense.shared_functions.web_extractors.citoid\u001b[0m:\u001b[36mfetch_citation_async_retry\u001b[0m:\u001b[36m111\u001b[0m - \u001b[34m\u001b[1mtarget_url=https://wiki.p2pfoundation.net/Category:Peerproperty#Short_Citations\u001b[0m\n",
      "\u001b[32m2024-05-06 15:52:15.580\u001b[0m | \u001b[33m\u001b[1mWARNING \u001b[0m | \u001b[36mdesci_sense.shared_functions.web_extractors.citoid\u001b[0m:\u001b[36mbefore_retry\u001b[0m:\u001b[36m84\u001b[0m - \u001b[33m\u001b[1mRetry attempt 1\u001b[0m\n",
      "\u001b[32m2024-05-06 15:52:15.581\u001b[0m | \u001b[34m\u001b[1mDEBUG   \u001b[0m | \u001b[36mdesci_sense.shared_functions.web_extractors.citoid\u001b[0m:\u001b[36mfetch_citation_async_retry\u001b[0m:\u001b[36m111\u001b[0m - \u001b[34m\u001b[1mtarget_url=https://lifehacker.com/tech/ai-is-running-out-of-internet\u001b[0m\n",
      "\u001b[32m2024-05-06 15:52:15.582\u001b[0m | \u001b[33m\u001b[1mWARNING \u001b[0m | \u001b[36mdesci_sense.shared_functions.web_extractors.citoid\u001b[0m:\u001b[36mbefore_retry\u001b[0m:\u001b[36m84\u001b[0m - \u001b[33m\u001b[1mRetry attempt 1\u001b[0m\n",
      "\u001b[32m2024-05-06 15:52:15.583\u001b[0m | \u001b[34m\u001b[1mDEBUG   \u001b[0m | \u001b[36mdesci_sense.shared_functions.web_extractors.citoid\u001b[0m:\u001b[36mfetch_citation_async_retry\u001b[0m:\u001b[36m104\u001b[0m - \u001b[34m\u001b[1mskipping citoid for https://t.co/56d7e926y1\u001b[0m\n",
      "\u001b[32m2024-05-06 15:52:22.654\u001b[0m | \u001b[34m\u001b[1mDEBUG   \u001b[0m | \u001b[36mdesci_sense.shared_functions.parsers.multi_chain_parser\u001b[0m:\u001b[36mbatch_process_ref_posts\u001b[0m:\u001b[36m232\u001b[0m - \u001b[34m\u001b[1mProcessing 10 posts with parsers: ['multi_refs_tagger']\u001b[0m\n",
      "\u001b[32m2024-05-06 15:52:22.658\u001b[0m | \u001b[34m\u001b[1mDEBUG   \u001b[0m | \u001b[36mdesci_sense.shared_functions.parsers.multi_chain_parser\u001b[0m:\u001b[36mbatch_process_ref_posts\u001b[0m:\u001b[36m234\u001b[0m - \u001b[34m\u001b[1mInstantiating prompts...\u001b[0m\n"
     ]
    },
    {
     "data": {
      "application/vnd.jupyter.widget-view+json": {
       "model_id": "edb62988f93f48ea80a051f8d9ec1444",
       "version_major": 2,
       "version_minor": 0
      },
      "text/plain": [
       "  0%|          | 0/10 [00:00<?, ?it/s]"
      ]
     },
     "metadata": {},
     "output_type": "display_data"
    },
    {
     "name": "stderr",
     "output_type": "stream",
     "text": [
      "\u001b[32m2024-05-06 15:52:22.695\u001b[0m | \u001b[34m\u001b[1mDEBUG   \u001b[0m | \u001b[36mdesci_sense.shared_functions.parsers.multi_chain_parser\u001b[0m:\u001b[36mbatch_process_ref_posts\u001b[0m:\u001b[36m245\u001b[0m - \u001b[34m\u001b[1mInvoking parallel chain...\u001b[0m\n",
      "\u001b[32m2024-05-06 15:52:27.198\u001b[0m | \u001b[33m\u001b[1mWARNING \u001b[0m | \u001b[36mdesci_sense.shared_functions.postprocessing.output_processors\u001b[0m:\u001b[36mparse_result\u001b[0m:\u001b[36m360\u001b[0m - \u001b[33m\u001b[1mFailed to parse result: Invalid json output: [System error]: ```python\n",
      "\n",
      "sub_answer = SubAnswer()\n",
      "\n",
      "\n",
      "sub_answer.reasoning_steps = \"The post describes a quote of the day that talks about the multiplicity of ownership designs and the need to ecologize finance. The post also discusses the importance of redesigning social architectures and making finance more inclusive. The post references a category page on the P2P Foundation website. The post quotes text from the referenced page. Therefore, the tags that best characterize the post's relation to the reference are 'quote' and 'reference'.\"\n",
      "\n",
      "\n",
      "sub_answer.candidate_tags = [\"quote\", \"reference\", \"ecologize\", \"inclusive\", \"social architectures\"]\n",
      "\n",
      "\n",
      "sub_answer.final_answer = [\"quote\", \"reference\"]\n",
      "\n",
      "\n",
      "answer = Answer()\n",
      "\n",
      "\n",
      "answer.sub_answers = [sub_answer]\n",
      "```\n",
      "\n",
      "**Final Answer:**\n",
      "\n",
      "```\n",
      "{\n",
      "  \"sub_answers\": [\n",
      "    {\n",
      "      \"reasoning_steps\": \"The post describes a quote of the day that talks about the multiplicity of ownership designs and the need to ecologize finance. The post also discusses the importance of redesigning social architectures and making finance more inclusive. The post references a category page on the P2P Foundation website. The post quotes text from the referenced page. Therefore, the tags that best characterize the post's relation to the reference are 'quote' and 'reference'.\"\n",
      "      \"candidate_tags\": [\"quote\", \"reference\", \"ecologize\", \"inclusive\", \"social architectures\"]\n",
      "      \"final_answer\": [\"quote\", \"reference\"]\n",
      "    }\n",
      "  ]\n",
      "}\n",
      "```\u001b[0m\n",
      "\u001b[32m2024-05-06 15:52:28.908\u001b[0m | \u001b[34m\u001b[1mDEBUG   \u001b[0m | \u001b[36mdesci_sense.shared_functions.parsers.multi_chain_parser\u001b[0m:\u001b[36mbatch_process_ref_posts\u001b[0m:\u001b[36m256\u001b[0m - \u001b[34m\u001b[1mPost processing 10 results...\u001b[0m\n",
      "\u001b[32m2024-05-06 15:52:28.910\u001b[0m | \u001b[34m\u001b[1mDEBUG   \u001b[0m | \u001b[36mdesci_sense.shared_functions.parsers.multi_chain_parser\u001b[0m:\u001b[36mbatch_process_ref_posts\u001b[0m:\u001b[36m268\u001b[0m - \u001b[34m\u001b[1mDone!\u001b[0m\n"
     ]
    }
   ],
   "source": [
    "# batch process\n",
    "results = multi_chain_parser.batch_process_ref_posts(inputs,active_list=['multi_refs_tagger'],batch_size=10)"
   ]
  },
  {
   "cell_type": "code",
   "execution_count": 19,
   "metadata": {},
   "outputs": [],
   "source": [
    "df=df[:10]"
   ]
  },
  {
   "cell_type": "code",
   "execution_count": 30,
   "metadata": {},
   "outputs": [
    {
     "name": "stderr",
     "output_type": "stream",
     "text": [
      "/var/folders/j3/1_zy_b4s2517g8j_rjjdhd4h0000gn/T/ipykernel_4079/1770973723.py:1: SettingWithCopyWarning: \n",
      "A value is trying to be set on a copy of a slice from a DataFrame.\n",
      "Try using .loc[row_indexer,col_indexer] = value instead\n",
      "\n",
      "See the caveats in the documentation: https://pandas.pydata.org/pandas-docs/stable/user_guide/indexing.html#returning-a-view-versus-a-copy\n",
      "  df[\"Predicted Labels\"] = [x.multi_reference_tagger for x in results]\n",
      "/var/folders/j3/1_zy_b4s2517g8j_rjjdhd4h0000gn/T/ipykernel_4079/1770973723.py:2: SettingWithCopyWarning: \n",
      "A value is trying to be set on a copy of a slice from a DataFrame.\n",
      "Try using .loc[row_indexer,col_indexer] = value instead\n",
      "\n",
      "See the caveats in the documentation: https://pandas.pydata.org/pandas-docs/stable/user_guide/indexing.html#returning-a-view-versus-a-copy\n",
      "  df[\"urls\"] = [x.reference_urls for x in results]\n"
     ]
    }
   ],
   "source": [
    "df[\"Predicted Labels\"] = [x.multi_reference_tagger for x in results]\n",
    "df[\"urls\"] = [x.reference_urls for x in results]\n",
    "\n"
   ]
  },
  {
   "cell_type": "code",
   "execution_count": null,
   "metadata": {},
   "outputs": [],
   "source": []
  },
  {
   "cell_type": "code",
   "execution_count": null,
   "metadata": {},
   "outputs": [],
   "source": []
  },
  {
   "cell_type": "code",
   "execution_count": 29,
   "metadata": {},
   "outputs": [
    {
     "name": "stdout",
     "output_type": "stream",
     "text": [
      "[['https://en.wikipedia.org/wiki/Epic_of_evolution', 'https://en.wikipedia.org/wiki/Epic_of_evolution'], ['https://wiki.p2pfoundation.net/Category:Thermodynamic_Efficiencies'], ['https://lifehacker.com/tech/ai-is-running-out-of-internet'], ['https://www.journaloffreespeechlaw.org/'], ['https://wiki.p2pfoundation.net/Andrew_Targowski%27s_Classification_of_the_Civilizational_Approaches_To_Human_History'], ['https://civilizationemerging.com/', 'http://emergentcivilization.com/'], ['https://integralpermaculture.wordpress.com/peter-pogany/', 'https://integralpermaculture.wordpress.com/peter-pogany/'], ['https://wiki.p2pfoundation.net/Category:Peerproduction#With_the_advent_of_the_P2P_Mode_of_Production,_the_community_and_its_common_is_now_the_appropriate_scale'], ['https://wiki.p2pfoundation.net/Category:Peerproperty#Short_Citations'], ['https://autocatallaxy.com/']]\n",
      "+++++\n",
      "[['https://en.wikipedia.org/wiki/Epic_of_evolution', 'https://en.wikipedia.org/wiki/Epic_of_evolution'], ['https://wiki.p2pfoundation.net/Category:Thermodynamic_Efficiencies'], ['https://lifehacker.com/tech/ai-is-running-out-of-internet'], ['https://www.journaloffreespeechlaw.org/'], [\"https://wiki.p2pfoundation.net/Andrew_Targowski's_Classification_of_the_Civilizational_Approaches_To_Human_History\"], ['https://civilizationemerging.com/', 'https://t.co/56d7e926y1'], ['https://integralpermaculture.wordpress.com/peter-pogany/', 'https://integralpermaculture.wordpress.com/peter-pogany/'], ['https://wiki.p2pfoundation.net/Category:Peerproduction#With_the_advent_of_the_P2P_Mode_of_Production%2C_the_community_and_its_common_is_now_the_appropriate_scale'], ['https://wiki.p2pfoundation.net/Category:Peerproperty#Short_Citations'], ['https://autocatallaxy.com/']]\n"
     ]
    }
   ],
   "source": []
  },
  {
   "cell_type": "code",
   "execution_count": null,
   "metadata": {},
   "outputs": [],
   "source": []
  }
 ],
 "metadata": {
  "kernelspec": {
   "display_name": "Python 3",
   "language": "python",
   "name": "python3"
  },
  "language_info": {
   "codemirror_mode": {
    "name": "ipython",
    "version": 3
   },
   "file_extension": ".py",
   "mimetype": "text/x-python",
   "name": "python",
   "nbconvert_exporter": "python",
   "pygments_lexer": "ipython3",
   "version": "3.11.2"
  },
  "vscode": {
   "interpreter": {
    "hash": "aee8b7b246df8f9039afb4144a1f6fd8d2ca17a180786b69acc140d282b71a49"
   }
  }
 },
 "nbformat": 4,
 "nbformat_minor": 2
}
