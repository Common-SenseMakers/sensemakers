{
 "cells": [
  {
   "cell_type": "code",
   "execution_count": 2,
   "metadata": {},
   "outputs": [],
   "source": [
    "import nest_asyncio\n",
    "nest_asyncio.apply()\n",
    "from pathlib import Path\n",
    "\n",
    "import sys\n",
    "sys.path.append(\"../\")\n",
    "from typing import Optional, Union, List\n",
    "import re\n",
    "import requests\n",
    "from datetime import datetime\n",
    "\n",
    "from desci_sense.shared_functions.dataloaders import (\n",
    "    scrape_post,\n",
    "    convert_text_to_ref_post,\n",
    ")\n",
    "from desci_sense.shared_functions.configs import MetadataExtractionType\n",
    "from desci_sense.shared_functions.web_extractors.metadata_extractors import extract_all_metadata_to_dict\n",
    "from desci_sense.shared_functions.dataloaders.twitter.twitter_utils import convert_vxtweet_to_quote_ref_post, convert_vxtweet_to_ref_post\n",
    "from desci_sense.shared_functions.schema.post import QuoteRefPost, ThreadRefPost, RefPost\n",
    "from desci_sense.shared_functions.interface import ThreadPostInterface\n",
    "from desci_sense.shared_functions.utils import remove_dups_ordered, find_last_occurence_of_any, extract_and_expand_urls, extract_external_urls_from_status_tweet"
   ]
  },
  {
   "cell_type": "code",
   "execution_count": 3,
   "metadata": {},
   "outputs": [],
   "source": [
    "MULTI_QUOTE_THREAD = {\n",
    "    \"url\": \"https://x.com/JohnDoe/status/1798166864398271\",\n",
    "    \"content\": \"After careful consideration, the FDA advisory commission voted today 9:2 that MDMA has *not* been shown to be effective for treating PTSD, given massive concerns around validity threats in this literature. They also voted 10:1 that MDMA has *not* shown to be safe. https://twitter.com/FDAadcomms/status/1798104612635070611\\n---\\n📄Many mentioned reasons overlap with those we summarized recently in our review paper: \\nhttps://journals.sagepub.com/doi/10.1177/20451253231198466\\n\\n📺 I also summarize them for a lay audience in this YouTube video: \\nhttps://youtu.be/WknlkmJee4E?si=kjMtNR1Hwe7NZ8as\\n---\\nSome pretty wild things in the meeting honestly, thanks to @JaneSmith for live tweeting.\\n\\nEg folks who were paid by the sponsor (big pharma) to speak on behalf of the product to be marketed did *not* have to declare they were being paid.\\n---\\n@JaneSmith Here is the full thread: https://twitter.com/JaneSmith/status/1798046087737180395\\n---\\n@JaneSmith Here the second vote on benefits and risks: https://twitter.com/FDAadcomms/status/1798107142219796794\",\n",
    "    \"author\": {\n",
    "        \"id\": \"16861042\",\n",
    "        \"name\": \"John Doe\",\n",
    "        \"username\": \"JohnDoe\",\n",
    "        \"platformId\": \"twitter\",\n",
    "    },\n",
    "    \"quotedPosts\": [\n",
    "        {\n",
    "            \"url\": \"https://twitter.com/FDAadcomms/status/1798104612635070611\",\n",
    "            \"content\": \"@JaneSmith #MDMAadcomm VOTE 1/2: Do the available data show that the drug is effective in patients with posttraumatic\\nstress disorder?\\n2-Yes\\n9-No\\n0-Abstain https://twitter.com/FDAadcomms/status/1798104612635070611/photo/1\",\n",
    "            \"author\": {\n",
    "                \"id\": \"148067168202752\",\n",
    "                \"name\": \"FDAadcomms\",\n",
    "                \"username\": \"FDAadcomms\",\n",
    "                \"platformId\": \"twitter\",\n",
    "            },\n",
    "        },\n",
    "        {\n",
    "            \"url\": \"https://twitter.com/JaneSmith/status/1798046087737180395\",\n",
    "            \"content\": 'Next up on the AdComm agenda, when they come back from lunch at the top of hour, is the Open Public Hearing. For reasons mentioned below, don\\'t be surprised if the \"public\" consists more of advocates for approval, and we hear from relatively few with reservations. https://twitter.com/JaneSmith/status/1797349211849245178',\n",
    "            \"author\": {\n",
    "                \"id\": \"42893834\",\n",
    "                \"name\": \"Jane Smith\",\n",
    "                \"username\": \"JaneSmith\",\n",
    "                \"platformId\": \"twitter\",\n",
    "            },\n",
    "        },\n",
    "        {\n",
    "            \"url\": \"https://twitter.com/FDAadcomms/status/1798107142219796794\",\n",
    "            \"content\": \"@JaneSmith #MDMAadcomm VOTE 2/2: Do the benefits of midomafetamine with FDA’s proposed risk evaluation and mitigation strategy (REMS) outweigh its risks for the treatment of patients with PTSD?\\n1-Yes\\n10-No\\n0-Abstain https://twitter.com/FDAadcomms/status/1798107142219796794/photo/1\",\n",
    "            \"author\": {\n",
    "                \"id\": \"1480844662752\",\n",
    "                \"name\": \"FDAadcomms\",\n",
    "                \"username\": \"FDAadcomms\",\n",
    "                \"platformId\": \"twitter\",\n",
    "            },\n",
    "        },\n",
    "    ],\n",
    "}"
   ]
  },
  {
   "cell_type": "code",
   "execution_count": 4,
   "metadata": {},
   "outputs": [],
   "source": [
    "thread_interface = ThreadPostInterface.model_validate(MULTI_QUOTE_THREAD)"
   ]
  },
  {
   "cell_type": "code",
   "execution_count": 5,
   "metadata": {},
   "outputs": [
    {
     "data": {
      "text/plain": [
       "['After careful consideration, the FDA advisory commission voted today 9:2 that MDMA has *not* been shown to be effective for treating PTSD, given massive concerns around validity threats in this literature. They also voted 10:1 that MDMA has *not* shown to be safe. https://twitter.com/FDAadcomms/status/1798104612635070611',\n",
       " '📄Many mentioned reasons overlap with those we summarized recently in our review paper: \\nhttps://journals.sagepub.com/doi/10.1177/20451253231198466\\n\\n📺 I also summarize them for a lay audience in this YouTube video: \\nhttps://youtu.be/WknlkmJee4E?si=kjMtNR1Hwe7NZ8as',\n",
       " 'Some pretty wild things in the meeting honestly, thanks to @JaneSmith for live tweeting.\\n\\nEg folks who were paid by the sponsor (big pharma) to speak on behalf of the product to be marketed did *not* have to declare they were being paid.',\n",
       " '@JaneSmith Here is the full thread: https://twitter.com/JaneSmith/status/1798046087737180395',\n",
       " '@JaneSmith Here the second vote on benefits and risks: https://twitter.com/FDAadcomms/status/1798107142219796794']"
      ]
     },
     "execution_count": 5,
     "metadata": {},
     "output_type": "execute_result"
    }
   ],
   "source": [
    "thread_posts_content = thread_interface.content.split(\"\\n---\\n\")\n",
    "thread_posts_content"
   ]
  },
  {
   "cell_type": "code",
   "execution_count": 6,
   "metadata": {},
   "outputs": [],
   "source": [
    "# create dict of quote posts keyed by url\n",
    "\n",
    "converted_quoted_posts = [RefPost.from_basic_post_interface(post) for post \\\n",
    "                           in thread_interface.quotedPosts]\n",
    "quote_post_dict = {p.url: p for p in converted_quoted_posts}"
   ]
  },
  {
   "cell_type": "code",
   "execution_count": 7,
   "metadata": {},
   "outputs": [],
   "source": [
    "# create QuoteRefPosts from each post in thread\n",
    "quote_ref_posts = []\n",
    "for post_content in thread_posts_content:\n",
    "    quoted_post_url = find_last_occurence_of_any(post_content, quote_post_dict.keys())\n",
    "    quoted_post = quote_post_dict.get(quoted_post_url, None)\n",
    "    quote_ref_post = QuoteRefPost(\n",
    "        author=thread_interface.author.name,\n",
    "        url=thread_interface.url,\n",
    "        content=post_content,\n",
    "        ref_urls=extract_and_expand_urls(post_content),\n",
    "        quoted_post=quoted_post,\n",
    "    )\n",
    "    quote_ref_posts.append(quote_ref_post)\n"
   ]
  },
  {
   "cell_type": "code",
   "execution_count": 8,
   "metadata": {},
   "outputs": [
    {
     "data": {
      "text/plain": [
       "{'https://twitter.com/FDAadcomms/status/1798104612635070611': RefPost(author='FDAadcomms', content='@JaneSmith #MDMAadcomm VOTE 1/2: Do the available data show that the drug is effective in patients with posttraumatic\\nstress disorder?\\n2-Yes\\n9-No\\n0-Abstain https://twitter.com/FDAadcomms/status/1798104612635070611/photo/1', url='https://twitter.com/FDAadcomms/status/1798104612635070611', source_network='twitter'),\n",
       " 'https://twitter.com/JaneSmith/status/1798046087737180395': RefPost(author='Jane Smith', content='Next up on the AdComm agenda, when they come back from lunch at the top of hour, is the Open Public Hearing. For reasons mentioned below, don\\'t be surprised if the \"public\" consists more of advocates for approval, and we hear from relatively few with reservations. https://twitter.com/JaneSmith/status/1797349211849245178', url='https://twitter.com/JaneSmith/status/1798046087737180395', source_network='twitter', ref_urls=['https://twitter.com/JaneSmith/status/1797349211849245178']),\n",
       " 'https://twitter.com/FDAadcomms/status/1798107142219796794': RefPost(author='FDAadcomms', content='@JaneSmith #MDMAadcomm VOTE 2/2: Do the benefits of midomafetamine with FDA’s proposed risk evaluation and mitigation strategy (REMS) outweigh its risks for the treatment of patients with PTSD?\\n1-Yes\\n10-No\\n0-Abstain https://twitter.com/FDAadcomms/status/1798107142219796794/photo/1', url='https://twitter.com/FDAadcomms/status/1798107142219796794', source_network='twitter')}"
      ]
     },
     "execution_count": 8,
     "metadata": {},
     "output_type": "execute_result"
    }
   ],
   "source": [
    "quote_post_dict"
   ]
  },
  {
   "cell_type": "code",
   "execution_count": 8,
   "metadata": {},
   "outputs": [
    {
     "data": {
      "text/plain": [
       "RefPost(author='FDAadcomms', content='@JaneSmith #MDMAadcomm VOTE 1/2: Do the available data show that the drug is effective in patients with posttraumatic\\nstress disorder?\\n2-Yes\\n9-No\\n0-Abstain https://twitter.com/FDAadcomms/status/1798104612635070611/photo/1', url='https://twitter.com/FDAadcomms/status/1798104612635070611', source_network='twitter', ref_urls=['https://twitter.com/FDAadcomms/status/1798104612635070611/photo/1'])"
      ]
     },
     "execution_count": 8,
     "metadata": {},
     "output_type": "execute_result"
    }
   ],
   "source": [
    "quote_ref_posts[0].quoted_post"
   ]
  },
  {
   "cell_type": "code",
   "execution_count": 9,
   "metadata": {},
   "outputs": [
    {
     "data": {
      "text/plain": [
       "RefPost(author='Jane Smith', content='Next up on the AdComm agenda, when they come back from lunch at the top of hour, is the Open Public Hearing. For reasons mentioned below, don\\'t be surprised if the \"public\" consists more of advocates for approval, and we hear from relatively few with reservations. https://twitter.com/JaneSmith/status/1797349211849245178', url='https://twitter.com/JaneSmith/status/1798046087737180395', source_network='twitter', ref_urls=['https://twitter.com/JaneSmith/status/1797349211849245178'])"
      ]
     },
     "execution_count": 9,
     "metadata": {},
     "output_type": "execute_result"
    }
   ],
   "source": [
    "quote_ref_posts[3].quoted_post"
   ]
  },
  {
   "cell_type": "code",
   "execution_count": 10,
   "metadata": {},
   "outputs": [
    {
     "data": {
      "text/plain": [
       "RefPost(author='FDAadcomms', content='@JaneSmith #MDMAadcomm VOTE 2/2: Do the benefits of midomafetamine with FDA’s proposed risk evaluation and mitigation strategy (REMS) outweigh its risks for the treatment of patients with PTSD?\\n1-Yes\\n10-No\\n0-Abstain https://twitter.com/FDAadcomms/status/1798107142219796794/photo/1', url='https://twitter.com/FDAadcomms/status/1798107142219796794', source_network='twitter', ref_urls=['https://twitter.com/FDAadcomms/status/1798107142219796794/photo/1'])"
      ]
     },
     "execution_count": 10,
     "metadata": {},
     "output_type": "execute_result"
    }
   ],
   "source": [
    "quote_ref_posts[4].quoted_post"
   ]
  },
  {
   "cell_type": "code",
   "execution_count": 9,
   "metadata": {},
   "outputs": [],
   "source": [
    "all_ref_urls = []\n",
    "for p in quote_ref_posts:\n",
    "    all_ref_urls += p.ref_urls"
   ]
  },
  {
   "cell_type": "code",
   "execution_count": 10,
   "metadata": {},
   "outputs": [],
   "source": [
    "thread_ref_post = ThreadRefPost(author=thread_interface.author.name,\n",
    "                                url=thread_interface.url,\n",
    "                                content=thread_interface.content,\n",
    "                                source_network=thread_interface.author.platformId,\n",
    "                                ref_urls=all_ref_urls,\n",
    "                                posts=quote_ref_posts\n",
    "                                )"
   ]
  },
  {
   "cell_type": "code",
   "execution_count": 11,
   "metadata": {},
   "outputs": [
    {
     "data": {
      "text/plain": [
       "['https://twitter.com/FDAadcomms/status/1798104612635070611',\n",
       " 'https://journals.sagepub.com/doi/10.1177/20451253231198466',\n",
       " 'https://www.youtube.com/watch?feature=youtu.be&si=kjMtNR1Hwe7NZ8as&v=WknlkmJee4E',\n",
       " 'https://twitter.com/JaneSmith/status/1798046087737180395',\n",
       " 'https://twitter.com/JaneSmith/status/1797349211849245178',\n",
       " 'https://twitter.com/FDAadcomms/status/1798107142219796794']"
      ]
     },
     "execution_count": 11,
     "metadata": {},
     "output_type": "execute_result"
    }
   ],
   "source": [
    "thread_ref_post.md_ref_urls()"
   ]
  },
  {
   "cell_type": "code",
   "execution_count": 2,
   "metadata": {},
   "outputs": [],
   "source": [
    "tweet_url = \"https://x.com/StephensonJones/status/1799035911042482210\"\n",
    "quote_ref_post = scrape_post(tweet_url)"
   ]
  },
  {
   "cell_type": "code",
   "execution_count": 4,
   "metadata": {},
   "outputs": [
    {
     "name": "stderr",
     "output_type": "stream",
     "text": [
      "\u001b[32m2024-06-12 13:17:56.504\u001b[0m | \u001b[33m\u001b[1mWARNING \u001b[0m | \u001b[36mdesci_sense.shared_functions.web_extractors.citoid\u001b[0m:\u001b[36mbefore_retry\u001b[0m:\u001b[36m84\u001b[0m - \u001b[33m\u001b[1mRetry attempt 1\u001b[0m\n",
      "\u001b[32m2024-06-12 13:17:56.505\u001b[0m | \u001b[34m\u001b[1mDEBUG   \u001b[0m | \u001b[36mdesci_sense.shared_functions.web_extractors.citoid\u001b[0m:\u001b[36mfetch_citation_async_retry\u001b[0m:\u001b[36m104\u001b[0m - \u001b[34m\u001b[1mskipping citoid for https://x.com/biorxiv_neursci/status/1798962015148576815\u001b[0m\n",
      "\u001b[32m2024-06-12 13:17:56.506\u001b[0m | \u001b[33m\u001b[1mWARNING \u001b[0m | \u001b[36mdesci_sense.shared_functions.web_extractors.citoid\u001b[0m:\u001b[36mbefore_retry\u001b[0m:\u001b[36m84\u001b[0m - \u001b[33m\u001b[1mRetry attempt 1\u001b[0m\n",
      "\u001b[32m2024-06-12 13:17:56.506\u001b[0m | \u001b[34m\u001b[1mDEBUG   \u001b[0m | \u001b[36mdesci_sense.shared_functions.web_extractors.citoid\u001b[0m:\u001b[36mfetch_citation_async_retry\u001b[0m:\u001b[36m111\u001b[0m - \u001b[34m\u001b[1mtarget_url=https://www.biorxiv.org/content/10.1101/2024.06.05.597547v1\u001b[0m\n"
     ]
    }
   ],
   "source": [
    "# create dict of metadata\n",
    "md_dict = extract_all_metadata_to_dict(ordered_refs, MetadataExtractionType.CITOID, 500 )"
   ]
  },
  {
   "cell_type": "code",
   "execution_count": null,
   "metadata": {},
   "outputs": [],
   "source": []
  }
 ],
 "metadata": {
  "kernelspec": {
   "display_name": "asensebot",
   "language": "python",
   "name": "python3"
  },
  "language_info": {
   "codemirror_mode": {
    "name": "ipython",
    "version": 3
   },
   "file_extension": ".py",
   "mimetype": "text/x-python",
   "name": "python",
   "nbconvert_exporter": "python",
   "pygments_lexer": "ipython3",
   "version": "3.11.7"
  }
 },
 "nbformat": 4,
 "nbformat_minor": 2
}
