{
 "cells": [
  {
   "cell_type": "code",
   "execution_count": 1,
   "metadata": {},
   "outputs": [],
   "source": [
    "import nest_asyncio\n",
    "nest_asyncio.apply()\n",
    "from pathlib import Path\n",
    "\n",
    "import sys\n",
    "sys.path.append(\"../\")\n",
    "from typing import Optional, Union\n",
    "import re\n",
    "import requests\n",
    "from datetime import datetime\n",
    "\n",
    "from desci_sense.shared_functions.dataloaders import (\n",
    "    scrape_post,\n",
    "    convert_text_to_ref_post,\n",
    ")\n",
    "from desci_sense.shared_functions.configs import MetadataExtractionType\n",
    "from desci_sense.shared_functions.web_extractors.metadata_extractors import extract_all_metadata_to_dict\n",
    "from desci_sense.shared_functions.dataloaders.twitter.twitter_utils import convert_vxtweet_to_quote_ref_post, convert_vxtweet_to_ref_post\n",
    "from desci_sense.shared_functions.schema.post import QuoteRefPost\n",
    "from desci_sense.shared_functions.utils import remove_dups_ordered"
   ]
  },
  {
   "cell_type": "code",
   "execution_count": 2,
   "metadata": {},
   "outputs": [],
   "source": [
    "tweet_url = \"https://x.com/StephensonJones/status/1799035911042482210\"\n",
    "quote_ref_post = scrape_post(tweet_url)"
   ]
  },
  {
   "cell_type": "code",
   "execution_count": 3,
   "metadata": {},
   "outputs": [
    {
     "data": {
      "text/plain": [
       "['https://x.com/biorxiv_neursci/status/1798962015148576815',\n",
       " 'https://www.biorxiv.org/content/10.1101/2024.06.05.597547v1']"
      ]
     },
     "execution_count": 3,
     "metadata": {},
     "output_type": "execute_result"
    }
   ],
   "source": [
    "# determine ordering\n",
    "ordered_refs = quote_ref_post.md_ref_urls(include_quoted_ref_urls=True)\n",
    "\n",
    "\n",
    "refs_to_process = ordered_refs.copy()\n",
    "\n",
    "ordered_refs\n"
   ]
  },
  {
   "cell_type": "code",
   "execution_count": 4,
   "metadata": {},
   "outputs": [
    {
     "name": "stderr",
     "output_type": "stream",
     "text": [
      "\u001b[32m2024-06-12 13:17:56.504\u001b[0m | \u001b[33m\u001b[1mWARNING \u001b[0m | \u001b[36mdesci_sense.shared_functions.web_extractors.citoid\u001b[0m:\u001b[36mbefore_retry\u001b[0m:\u001b[36m84\u001b[0m - \u001b[33m\u001b[1mRetry attempt 1\u001b[0m\n",
      "\u001b[32m2024-06-12 13:17:56.505\u001b[0m | \u001b[34m\u001b[1mDEBUG   \u001b[0m | \u001b[36mdesci_sense.shared_functions.web_extractors.citoid\u001b[0m:\u001b[36mfetch_citation_async_retry\u001b[0m:\u001b[36m104\u001b[0m - \u001b[34m\u001b[1mskipping citoid for https://x.com/biorxiv_neursci/status/1798962015148576815\u001b[0m\n",
      "\u001b[32m2024-06-12 13:17:56.506\u001b[0m | \u001b[33m\u001b[1mWARNING \u001b[0m | \u001b[36mdesci_sense.shared_functions.web_extractors.citoid\u001b[0m:\u001b[36mbefore_retry\u001b[0m:\u001b[36m84\u001b[0m - \u001b[33m\u001b[1mRetry attempt 1\u001b[0m\n",
      "\u001b[32m2024-06-12 13:17:56.506\u001b[0m | \u001b[34m\u001b[1mDEBUG   \u001b[0m | \u001b[36mdesci_sense.shared_functions.web_extractors.citoid\u001b[0m:\u001b[36mfetch_citation_async_retry\u001b[0m:\u001b[36m111\u001b[0m - \u001b[34m\u001b[1mtarget_url=https://www.biorxiv.org/content/10.1101/2024.06.05.597547v1\u001b[0m\n"
     ]
    }
   ],
   "source": [
    "# create dict of metadata\n",
    "md_dict = extract_all_metadata_to_dict(ordered_refs, MetadataExtractionType.CITOID, 500 )"
   ]
  },
  {
   "cell_type": "code",
   "execution_count": 5,
   "metadata": {},
   "outputs": [
    {
     "name": "stdout",
     "output_type": "stream",
     "text": [
      "New preprint from the lab! 🚨\n",
      "\n",
      "Replay of procedural experience occurs in the striatum and is independent of the hippocampus.\n",
      "\n",
      "Heroic effort by @EmmettJThompson & the rest of the team @_JasvinKaur, @_GeorginaMills, @dorrell_will, @ClementineDomi6, @TomNotGeorge \n",
      "\n",
      "🧵👇1/13 https://x.com/biorxiv_neursci/status/1798962015148576815\n"
     ]
    }
   ],
   "source": [
    "processed_content = quote_ref_post.content\n",
    "\n",
    "# add quoted post to end of quote post content if not present there\n",
    "if quote_ref_post.quoted_url not in processed_content:\n",
    "    processed_content += f\" {quote_ref_post.quoted_url}\"\n",
    "\n",
    "print(processed_content)"
   ]
  },
  {
   "cell_type": "code",
   "execution_count": 6,
   "metadata": {},
   "outputs": [],
   "source": [
    "# if quoted post content available, add it\n",
    "if quote_ref_post.has_quote_post:\n",
    "    quoted_post = quote_ref_post.quoted_post\n",
    "\n",
    "    # get order of appearance for quoted post url\n",
    "    quoted_url_idx = ordered_refs.index(quote_ref_post.quoted_url)\n",
    "\n",
    "    rendered_quoted_post = f\"<quoted ref_{quoted_url_idx}>{quoted_post.content}</quote>\"\n",
    "    "
   ]
  },
  {
   "cell_type": "code",
   "execution_count": 7,
   "metadata": {},
   "outputs": [
    {
     "data": {
      "text/plain": [
       "'<quoted ref_0>Replay of procedural experience is independent of the hippocampus  https://www.biorxiv.org/content/10.1101/2024.06.05.597547v1 #biorxiv_neursci</quote>'"
      ]
     },
     "execution_count": 7,
     "metadata": {},
     "output_type": "execute_result"
    }
   ],
   "source": [
    "quoted_post = quote_ref_post.quoted_post\n",
    "\n",
    "# get order of appearance for quoted post url\n",
    "quoted_url_idx = ordered_refs.index(quote_ref_post.quoted_url)\n",
    "\n",
    "rendered_quoted_post = f\"<quoted ref_{quoted_url_idx}>{quoted_post.content}</quote>\"\n",
    "rendered_quoted_post"
   ]
  },
  {
   "cell_type": "code",
   "execution_count": 8,
   "metadata": {},
   "outputs": [
    {
     "name": "stdout",
     "output_type": "stream",
     "text": [
      "New preprint from the lab! 🚨\n",
      "\n",
      "Replay of procedural experience occurs in the striatum and is independent of the hippocampus.\n",
      "\n",
      "Heroic effort by @EmmettJThompson & the rest of the team @_JasvinKaur, @_GeorginaMills, @dorrell_will, @ClementineDomi6, @TomNotGeorge \n",
      "\n",
      "🧵👇1/13 <quoted ref_0>Replay of procedural experience is independent of the hippocampus  https://www.biorxiv.org/content/10.1101/2024.06.05.597547v1 #biorxiv_neursci</quote>\n"
     ]
    }
   ],
   "source": [
    "# replace quoted post url with rendered version\n",
    "processed_content = processed_content.replace(quote_ref_post.quoted_url, rendered_quoted_post)\n",
    "print(processed_content)"
   ]
  },
  {
   "cell_type": "code",
   "execution_count": 9,
   "metadata": {},
   "outputs": [
    {
     "name": "stdout",
     "output_type": "stream",
     "text": [
      "New preprint from the lab! 🚨\n",
      "\n",
      "Replay of procedural experience occurs in the striatum and is independent of the hippocampus.\n",
      "\n",
      "Heroic effort by @EmmettJThompson & the rest of the team @_JasvinKaur, @_GeorginaMills, @dorrell_will, @ClementineDomi6, @TomNotGeorge \n",
      "\n",
      "🧵👇1/13 <quoted ref_0>Replay of procedural experience is independent of the hippocampus  <ref_1> #biorxiv_neursci</quote>\n"
     ]
    }
   ],
   "source": [
    "# remove quoted post url from list to process\n",
    "refs_to_process.remove(quote_ref_post.quoted_url)\n",
    "\n",
    "# replace other urls with <ref> tokens\n",
    "for url in refs_to_process:\n",
    "    url_idx = ordered_refs.index(url)\n",
    "    ref_token = f\"<ref_{url_idx}>\"\n",
    "    processed_content = processed_content.replace(url, ref_token)\n",
    "\n",
    "print(processed_content)"
   ]
  },
  {
   "cell_type": "code",
   "execution_count": 12,
   "metadata": {},
   "outputs": [
    {
     "name": "stdout",
     "output_type": "stream",
     "text": [
      "url: https://www.biorxiv.org/content/10.1101/2024.06.05.597547v1\n",
      "item_type: preprint\n",
      "title: Replay of procedural experience is independent of the hippocampus\n",
      "summary: Sleep is critical for consolidating all forms of memory1-3, from episodic experience to the development of motor skills4-6. A core feature of the consolidation process is offline replay of neuronal firing patterns that occur during experience7,8. This replay is thought to originate in the hippocampus and trigger the reactivation of ensembles of cortical and subcortical neurons1,3,9-18. However, non-declarative memories do not require the hippocampus for learning or for sleep-dependent consolidat\n"
     ]
    }
   ],
   "source": [
    "# print metadata section\n",
    "md = md_dict[ordered_refs[1]]\n",
    "print(md.to_str())\n",
    "# for url in ordered_refs:\n",
    "    # metadata = \n"
   ]
  },
  {
   "cell_type": "code",
   "execution_count": 15,
   "metadata": {},
   "outputs": [
    {
     "name": "stdout",
     "output_type": "stream",
     "text": [
      "<ref_0> \n",
      " url: https://x.com/biorxiv_neursci/status/1798962015148576815\n",
      "item_type: forumPost\n",
      "title: Twitter post\n",
      "summary: None\n",
      "==========\n",
      "<ref_1> \n",
      " url: https://www.biorxiv.org/content/10.1101/2024.06.05.597547v1\n",
      "item_type: preprint\n",
      "title: Replay of procedural experience is independent of the hippocampus\n",
      "summary: Sleep is critical for consolidating all forms of memory1-3, from episodic experience to the development of motor skills4-6. A core feature of the consolidation process is offline replay of neuronal firing patterns that occur during experience7,8. This replay is thought to originate in the hippocampus and trigger the reactivation of ensembles of cortical and subcortical neurons1,3,9-18. However, non-declarative memories do not require the hippocampus for learning or for sleep-dependent consolidat\n",
      "==========\n",
      "\n"
     ]
    }
   ],
   "source": [
    "metadata_str = \"\"\n",
    "for i,url in enumerate(ordered_refs):\n",
    "    metadata = md_dict[url]\n",
    "    metadata_str += f\"<ref_{i}> \\n{metadata.to_str()}\\n==========\\n\"\n",
    "print(metadata_str)"
   ]
  }
 ],
 "metadata": {
  "kernelspec": {
   "display_name": "asensebot",
   "language": "python",
   "name": "python3"
  },
  "language_info": {
   "codemirror_mode": {
    "name": "ipython",
    "version": 3
   },
   "file_extension": ".py",
   "mimetype": "text/x-python",
   "name": "python",
   "nbconvert_exporter": "python",
   "pygments_lexer": "ipython3",
   "version": "3.11.7"
  }
 },
 "nbformat": 4,
 "nbformat_minor": 2
}
