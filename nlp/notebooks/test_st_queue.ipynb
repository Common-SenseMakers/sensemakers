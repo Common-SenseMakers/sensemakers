{
 "cells": [
  {
   "cell_type": "code",
   "execution_count": 26,
   "metadata": {},
   "outputs": [],
   "source": [
    "import sys\n",
    "sys.path.append(\"../\")\n",
    "\n",
    "import nest_asyncio\n",
    "nest_asyncio.apply()\n",
    "\n",
    "from urllib.parse import urlparse\n",
    "import pandas as pd\n",
    "from typing import List, Dict\n",
    "from mastodon import Mastodon\n",
    "from datetime import datetime, time\n",
    "\n",
    "from desci_sense.shared_functions.schema.post import RefPost\n",
    "from desci_sense.shared_functions.postprocessing import StreamlitParserResults\n",
    "from desci_sense.shared_functions.postprocessing.output_parsers import AllowedTermsParser, ALLOWED_TAGS_DELIMITER\n",
    "from desci_sense.shared_functions.utils import flatten\n",
    "from desci_sense.shared_functions.web_extractors.metadata_extractors import (extract_all_metadata_by_type, MetadataExtractionType, RefMetadata, extract_all_metadata_to_dict,)\n",
    "from desci_sense.shared_functions.dataloaders.mastodon.mastodon_loader import MastodonLoader\n",
    "\n",
    "from langchain_core.runnables import RunnableParallel\n",
    "\n",
    "from desci_sense.configs import default_init_parser_config\n",
    "from desci_sense.shared_functions.dataloaders import scrape_post\n",
    "from desci_sense.shared_functions.parsers.firebase_api_parser import FirebaseAPIParser, PromptCase"
   ]
  },
  {
   "cell_type": "code",
   "execution_count": 17,
   "metadata": {},
   "outputs": [
    {
     "data": {
      "text/plain": [
       "2"
      ]
     },
     "execution_count": 17,
     "metadata": {},
     "output_type": "execute_result"
    }
   ],
   "source": [
    "start_date = datetime(2024, 1, 1)\n",
    "end_date = datetime(2024, 1, 30)\n",
    "mloader = MastodonLoader()\n",
    "acct = \"@ronent@mastodon.social\"\n",
    "posts = mloader.load_profile_timeline(\n",
    "    acct,\n",
    "    max_toots=30,\n",
    "    start_date=start_date,\n",
    "    end_date=end_date,\n",
    "    exclude_replies=True,\n",
    "    exclude_reposts=True,\n",
    ")\n",
    "len(posts)"
   ]
  },
  {
   "cell_type": "code",
   "execution_count": 18,
   "metadata": {},
   "outputs": [],
   "source": [
    "config = default_init_parser_config(semantics_model=\"mistralai/mistral-7b-instruct\",\n",
    "                                    kw_model=\"mistralai/mistral-7b-instruct\")\n"
   ]
  },
  {
   "cell_type": "code",
   "execution_count": 19,
   "metadata": {},
   "outputs": [
    {
     "name": "stderr",
     "output_type": "stream",
     "text": [
      "\u001b[32m2024-03-19 19:01:03.663\u001b[0m | \u001b[1mINFO    \u001b[0m | \u001b[36mdesci_sense.shared_functions.parsers.firebase_api_parser\u001b[0m:\u001b[36mset_md_extract_method\u001b[0m:\u001b[36m155\u001b[0m - \u001b[1mSetting metadata extraction method to none...\u001b[0m\n",
      "\u001b[32m2024-03-19 19:01:03.664\u001b[0m | \u001b[1mINFO    \u001b[0m | \u001b[36mdesci_sense.shared_functions.parsers.firebase_api_parser\u001b[0m:\u001b[36m__init__\u001b[0m:\u001b[36m115\u001b[0m - \u001b[1mLoading parser model (type=mistralai/mistral-7b-instruct)...\u001b[0m\n",
      "\u001b[32m2024-03-19 19:01:03.701\u001b[0m | \u001b[1mINFO    \u001b[0m | \u001b[36mdesci_sense.shared_functions.parsers.firebase_api_parser\u001b[0m:\u001b[36mset_kw_md_extract_method\u001b[0m:\u001b[36m159\u001b[0m - \u001b[1mSetting keywords metadata extraction method to citoid...\u001b[0m\n",
      "\u001b[32m2024-03-19 19:01:03.701\u001b[0m | \u001b[1mINFO    \u001b[0m | \u001b[36mdesci_sense.shared_functions.parsers.firebase_api_parser\u001b[0m:\u001b[36minit_keyword_extraction_chain\u001b[0m:\u001b[36m449\u001b[0m - \u001b[1mLoading keyword model (type=mistralai/mistral-7b-instruct)...\u001b[0m\n",
      "\u001b[32m2024-03-19 19:01:03.731\u001b[0m | \u001b[1mINFO    \u001b[0m | \u001b[36mdesci_sense.shared_functions.parsers.firebase_api_parser\u001b[0m:\u001b[36m__init__\u001b[0m:\u001b[36m132\u001b[0m - \u001b[1mLoading ontology...\u001b[0m\n"
     ]
    }
   ],
   "source": [
    "parser = FirebaseAPIParser(config=config)"
   ]
  },
  {
   "cell_type": "code",
   "execution_count": 20,
   "metadata": {},
   "outputs": [
    {
     "name": "stderr",
     "output_type": "stream",
     "text": [
      "\u001b[32m2024-03-19 19:01:06.216\u001b[0m | \u001b[1mINFO    \u001b[0m | \u001b[36mdesci_sense.shared_functions.parsers.firebase_api_parser\u001b[0m:\u001b[36mset_md_extract_method\u001b[0m:\u001b[36m155\u001b[0m - \u001b[1mSetting metadata extraction method to citoid...\u001b[0m\n"
     ]
    }
   ],
   "source": [
    "parser.set_md_extract_method(\"citoid\")"
   ]
  },
  {
   "cell_type": "code",
   "execution_count": 21,
   "metadata": {},
   "outputs": [
    {
     "name": "stderr",
     "output_type": "stream",
     "text": [
      "\u001b[32m2024-03-19 19:01:09.916\u001b[0m | \u001b[34m\u001b[1mDEBUG   \u001b[0m | \u001b[36mdesci_sense.shared_functions.web_extractors.citoid\u001b[0m:\u001b[36mfetch_citation_async\u001b[0m:\u001b[36m20\u001b[0m - \u001b[34m\u001b[1mtarget_url=https://paragraph.xyz/@sense-nets/sense-nets-intro\u001b[0m\n",
      "\u001b[32m2024-03-19 19:01:09.916\u001b[0m | \u001b[34m\u001b[1mDEBUG   \u001b[0m | \u001b[36mdesci_sense.shared_functions.web_extractors.citoid\u001b[0m:\u001b[36mfetch_citation_async\u001b[0m:\u001b[36m20\u001b[0m - \u001b[34m\u001b[1mtarget_url=https://paragraph.xyz/@sense-nets/2-project-plan\u001b[0m\n",
      "\u001b[32m2024-03-19 19:01:09.917\u001b[0m | \u001b[34m\u001b[1mDEBUG   \u001b[0m | \u001b[36mdesci_sense.shared_functions.web_extractors.citoid\u001b[0m:\u001b[36mfetch_citation_async\u001b[0m:\u001b[36m20\u001b[0m - \u001b[34m\u001b[1mtarget_url=https://arxiv.org/abs/2401.13782\u001b[0m\n",
      "\u001b[32m2024-03-19 19:01:09.917\u001b[0m | \u001b[34m\u001b[1mDEBUG   \u001b[0m | \u001b[36mdesci_sense.shared_functions.web_extractors.citoid\u001b[0m:\u001b[36mfetch_citation_async\u001b[0m:\u001b[36m20\u001b[0m - \u001b[34m\u001b[1mtarget_url=https://twitter.com/deliprao/status/1750732070014337101\u001b[0m\n"
     ]
    }
   ],
   "source": [
    "results = await parser.abatch_process_ref_post(posts)"
   ]
  },
  {
   "cell_type": "code",
   "execution_count": 22,
   "metadata": {},
   "outputs": [
    {
     "data": {
      "text/plain": [
       "2"
      ]
     },
     "execution_count": 22,
     "metadata": {},
     "output_type": "execute_result"
    }
   ],
   "source": [
    "len(results)"
   ]
  },
  {
   "cell_type": "code",
   "execution_count": 23,
   "metadata": {},
   "outputs": [],
   "source": [
    "def render_posts_to_df(posts: List[RefPost]) -> pd.DataFrame:\n",
    "    \"\"\"\n",
    "    Renders posts as dataframe with columns `author`, `url`, `content`, and `created_at` fields.\n",
    "    \"\"\"\n",
    "    # Create a list of dictionaries, each representing a row in the resulting DataFrame\n",
    "    data = [\n",
    "        {\n",
    "            \"author\": post.author,\n",
    "            \"content\": post.content,\n",
    "            \"url\": post.url,\n",
    "            \"created_at\": post.created_at,\n",
    "        }\n",
    "        for post in posts\n",
    "    ]\n",
    "\n",
    "    # Convert the list of dictionaries into a DataFrame\n",
    "    df = pd.DataFrame(data)\n",
    "\n",
    "    return df"
   ]
  },
  {
   "cell_type": "code",
   "execution_count": 41,
   "metadata": {},
   "outputs": [
    {
     "data": {
      "text/html": [
       "<div>\n",
       "<style scoped>\n",
       "    .dataframe tbody tr th:only-of-type {\n",
       "        vertical-align: middle;\n",
       "    }\n",
       "\n",
       "    .dataframe tbody tr th {\n",
       "        vertical-align: top;\n",
       "    }\n",
       "\n",
       "    .dataframe thead th {\n",
       "        text-align: right;\n",
       "    }\n",
       "</style>\n",
       "<table border=\"1\" class=\"dataframe\">\n",
       "  <thead>\n",
       "    <tr style=\"text-align: right;\">\n",
       "      <th></th>\n",
       "      <th>author</th>\n",
       "      <th>content</th>\n",
       "      <th>url</th>\n",
       "      <th>created_at</th>\n",
       "    </tr>\n",
       "  </thead>\n",
       "  <tbody>\n",
       "    <tr>\n",
       "      <th>0</th>\n",
       "      <td>Ronen Tamari</td>\n",
       "      <td>Also relevant for discussions about science so...</td>\n",
       "      <td>https://mastodon.social/@ronent/11182257120421...</td>\n",
       "      <td>2024-01-26 13:50:26.443000+00:00</td>\n",
       "    </tr>\n",
       "    <tr>\n",
       "      <th>1</th>\n",
       "      <td>Ronen Tamari</td>\n",
       "      <td>*crosspost from birdsite*  \\nNew year, new way...</td>\n",
       "      <td>https://mastodon.social/@ronent/11168703832254...</td>\n",
       "      <td>2024-01-02 15:22:38.781000+00:00</td>\n",
       "    </tr>\n",
       "  </tbody>\n",
       "</table>\n",
       "</div>"
      ],
      "text/plain": [
       "         author                                            content  \\\n",
       "0  Ronen Tamari  Also relevant for discussions about science so...   \n",
       "1  Ronen Tamari  *crosspost from birdsite*  \\nNew year, new way...   \n",
       "\n",
       "                                                 url  \\\n",
       "0  https://mastodon.social/@ronent/11182257120421...   \n",
       "1  https://mastodon.social/@ronent/11168703832254...   \n",
       "\n",
       "                        created_at  \n",
       "0 2024-01-26 13:50:26.443000+00:00  \n",
       "1 2024-01-02 15:22:38.781000+00:00  "
      ]
     },
     "execution_count": 41,
     "metadata": {},
     "output_type": "execute_result"
    }
   ],
   "source": [
    "df = render_posts_to_df(posts)\n",
    "df"
   ]
  },
  {
   "cell_type": "code",
   "execution_count": 40,
   "metadata": {},
   "outputs": [],
   "source": [
    "def add_results_to_df(df: pd.DataFrame, results: List[StreamlitParserResults]) -> pd.DataFrame:\n",
    "    # Ensure the DataFrame and results list have the same length\n",
    "    if not df.empty and len(df) == len(results):\n",
    "        # Iterate over the schema of StreamlitParserResults to get all field names\n",
    "        for field_name in StreamlitParserResults.model_fields.keys():\n",
    "            if field_name != \"debug\":\n",
    "                # For each field, create a new column in df with the values from results\n",
    "                df[field_name] = [getattr(r, field_name) for r in results]\n",
    "    else:\n",
    "        raise ValueError(\"DataFrame is empty or does not match the number of results provided.\")\n",
    "    \n",
    "    return df"
   ]
  },
  {
   "cell_type": "code",
   "execution_count": 42,
   "metadata": {},
   "outputs": [
    {
     "data": {
      "text/html": [
       "<div>\n",
       "<style scoped>\n",
       "    .dataframe tbody tr th:only-of-type {\n",
       "        vertical-align: middle;\n",
       "    }\n",
       "\n",
       "    .dataframe tbody tr th {\n",
       "        vertical-align: top;\n",
       "    }\n",
       "\n",
       "    .dataframe thead th {\n",
       "        text-align: right;\n",
       "    }\n",
       "</style>\n",
       "<table border=\"1\" class=\"dataframe\">\n",
       "  <thead>\n",
       "    <tr style=\"text-align: right;\">\n",
       "      <th></th>\n",
       "      <th>author</th>\n",
       "      <th>content</th>\n",
       "      <th>url</th>\n",
       "      <th>created_at</th>\n",
       "      <th>research_filter</th>\n",
       "      <th>item_types</th>\n",
       "      <th>reference_urls</th>\n",
       "      <th>semantic_tags</th>\n",
       "      <th>keywords</th>\n",
       "    </tr>\n",
       "  </thead>\n",
       "  <tbody>\n",
       "    <tr>\n",
       "      <th>0</th>\n",
       "      <td>Ronen Tamari</td>\n",
       "      <td>Also relevant for discussions about science so...</td>\n",
       "      <td>https://mastodon.social/@ronent/11182257120421...</td>\n",
       "      <td>2024-01-26 13:50:26.443000+00:00</td>\n",
       "      <td>not-detected</td>\n",
       "      <td>[preprint, unknown]</td>\n",
       "      <td>[https://arxiv.org/abs/2401.13782, https://twi...</td>\n",
       "      <td>[discussion]</td>\n",
       "      <td>[citation-counts, nanopub, social-media, resea...</td>\n",
       "    </tr>\n",
       "    <tr>\n",
       "      <th>1</th>\n",
       "      <td>Ronen Tamari</td>\n",
       "      <td>*crosspost from birdsite*  \\nNew year, new way...</td>\n",
       "      <td>https://mastodon.social/@ronent/11168703832254...</td>\n",
       "      <td>2024-01-02 15:22:38.781000+00:00</td>\n",
       "      <td>academic</td>\n",
       "      <td>[webpage, webpage]</td>\n",
       "      <td>[https://paragraph.xyz/@sense-nets/sense-nets-...</td>\n",
       "      <td>[call-for-papers]</td>\n",
       "      <td>[FragmentedScienceSocialMedia, ScienceSocialMe...</td>\n",
       "    </tr>\n",
       "  </tbody>\n",
       "</table>\n",
       "</div>"
      ],
      "text/plain": [
       "         author                                            content  \\\n",
       "0  Ronen Tamari  Also relevant for discussions about science so...   \n",
       "1  Ronen Tamari  *crosspost from birdsite*  \\nNew year, new way...   \n",
       "\n",
       "                                                 url  \\\n",
       "0  https://mastodon.social/@ronent/11182257120421...   \n",
       "1  https://mastodon.social/@ronent/11168703832254...   \n",
       "\n",
       "                        created_at research_filter           item_types  \\\n",
       "0 2024-01-26 13:50:26.443000+00:00    not-detected  [preprint, unknown]   \n",
       "1 2024-01-02 15:22:38.781000+00:00        academic   [webpage, webpage]   \n",
       "\n",
       "                                      reference_urls      semantic_tags  \\\n",
       "0  [https://arxiv.org/abs/2401.13782, https://twi...       [discussion]   \n",
       "1  [https://paragraph.xyz/@sense-nets/sense-nets-...  [call-for-papers]   \n",
       "\n",
       "                                            keywords  \n",
       "0  [citation-counts, nanopub, social-media, resea...  \n",
       "1  [FragmentedScienceSocialMedia, ScienceSocialMe...  "
      ]
     },
     "execution_count": 42,
     "metadata": {},
     "output_type": "execute_result"
    }
   ],
   "source": [
    "new_df = add_results_to_df(df, results)\n",
    "new_df"
   ]
  }
 ],
 "metadata": {
  "kernelspec": {
   "display_name": "asensebot",
   "language": "python",
   "name": "python3"
  },
  "language_info": {
   "codemirror_mode": {
    "name": "ipython",
    "version": 3
   },
   "file_extension": ".py",
   "mimetype": "text/x-python",
   "name": "python",
   "nbconvert_exporter": "python",
   "pygments_lexer": "ipython3",
   "version": "3.11.7"
  }
 },
 "nbformat": 4,
 "nbformat_minor": 2
}
