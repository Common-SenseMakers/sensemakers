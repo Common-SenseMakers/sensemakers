{
 "cells": [
  {
   "cell_type": "code",
   "execution_count": 1,
   "metadata": {},
   "outputs": [],
   "source": [
    "# load env with api keys https://stackoverflow.com/a/54028874\n",
    "%load_ext dotenv\n",
    "%dotenv ../etc/config.env\n",
    "\n",
    "import sys\n",
    "sys.path.append(\"../\")\n",
    "\n",
    "import pandas\n",
    "import tqdm\n",
    "import dtale\n",
    "\n",
    "from twitter import scrape_tweet\n",
    "\n"
   ]
  },
  {
   "cell_type": "code",
   "execution_count": 2,
   "metadata": {},
   "outputs": [],
   "source": [
    "tweet_urls = [\"https://twitter.com/danwilliamsphil/status/1719436704602275858\", \n",
    "              \"https://twitter.com/pwang/status/1719720728184910195\", \n",
    "              \"https://twitter.com/BlancheMinerva/status/1719714881081954409\",\n",
    "              \"https://twitter.com/sucholutsky/status/1719725087681569189\",\n",
    "              \"https://twitter.com/TBSocialist/status/1719676110785421807\",\n",
    "              \"https://twitter.com/DG_Rand/status/1719372459344888032\",\n",
    "              \"https://twitter.com/yanaiela/status/1719755578409619740\"]"
   ]
  },
  {
   "cell_type": "code",
   "execution_count": 3,
   "metadata": {},
   "outputs": [
    {
     "data": {
      "text/plain": [
       "{'conversationID': '1719755578409619740',\n",
       " 'date': 'Wed Nov 01 16:37:36 +0000 2023',\n",
       " 'date_epoch': 1698856656,\n",
       " 'hashtags': [],\n",
       " 'likes': 163,\n",
       " 'mediaURLs': ['https://pbs.twimg.com/media/F93KgeQbEAABmcy.png'],\n",
       " 'media_extended': [{'altText': None,\n",
       "   'size': {'height': 415, 'width': 835},\n",
       "   'thumbnail_url': 'https://pbs.twimg.com/media/F93KgeQbEAABmcy.png',\n",
       "   'type': 'image',\n",
       "   'url': 'https://pbs.twimg.com/media/F93KgeQbEAABmcy.png'}],\n",
       " 'possibly_sensitive': False,\n",
       " 'qrtURL': None,\n",
       " 'replies': 3,\n",
       " 'retweets': 51,\n",
       " 'text': \"What's In My Big Data?\\n\\nA question we've been asking ourselves for a while.\\nHere is our attempt to answer it.\\n\\n🧵\\nPaper - \\nhttps://arxiv.org/abs/2310.20707\\n\\nDemo-\\nhttps://wimbd.apps.allenai.org/ https://t.co/ViP84AsKCY\",\n",
       " 'tweetID': '1719755578409619740',\n",
       " 'tweetURL': 'https://twitter.com/yanaiela/status/1719755578409619740',\n",
       " 'user_name': 'Yanai Elazar',\n",
       " 'user_screen_name': 'yanaiela'}"
      ]
     },
     "execution_count": 3,
     "metadata": {},
     "output_type": "execute_result"
    }
   ],
   "source": [
    "tweet = scrape_tweet(tweet_urls[-1])\n",
    "tweet"
   ]
  },
  {
   "cell_type": "code",
   "execution_count": 4,
   "metadata": {},
   "outputs": [
    {
     "name": "stderr",
     "output_type": "stream",
     "text": [
      "100%|██████████| 7/7 [00:04<00:00,  1.57it/s]\n"
     ]
    }
   ],
   "source": [
    "rows = []\n",
    "\n",
    "for url in tqdm.tqdm(tweet_urls, total=len(tweet_urls)):\n",
    "    tweet = scrape_tweet(url)\n",
    "    rows.append(\n",
    "        {\"url\": url,\n",
    "         \"tweet_text\": tweet[\"text\"],\n",
    "         \"tweetID\": tweet[\"tweetID\"]\n",
    "         }\n",
    "    )\n"
   ]
  },
  {
   "cell_type": "code",
   "execution_count": 5,
   "metadata": {},
   "outputs": [
    {
     "data": {
      "text/html": [
       "<div>\n",
       "<style scoped>\n",
       "    .dataframe tbody tr th:only-of-type {\n",
       "        vertical-align: middle;\n",
       "    }\n",
       "\n",
       "    .dataframe tbody tr th {\n",
       "        vertical-align: top;\n",
       "    }\n",
       "\n",
       "    .dataframe thead th {\n",
       "        text-align: right;\n",
       "    }\n",
       "</style>\n",
       "<table border=\"1\" class=\"dataframe\">\n",
       "  <thead>\n",
       "    <tr style=\"text-align: right;\">\n",
       "      <th></th>\n",
       "      <th>url</th>\n",
       "      <th>tweet_text</th>\n",
       "      <th>tweetID</th>\n",
       "    </tr>\n",
       "  </thead>\n",
       "  <tbody>\n",
       "    <tr>\n",
       "      <th>0</th>\n",
       "      <td>https://twitter.com/danwilliamsphil/status/171...</td>\n",
       "      <td>I enjoyed this, although I was already sympath...</td>\n",
       "      <td>1719436704602275858</td>\n",
       "    </tr>\n",
       "    <tr>\n",
       "      <th>1</th>\n",
       "      <td>https://twitter.com/pwang/status/1719720728184...</td>\n",
       "      <td>100% with Stella @BlancheMinerva (and @AndrewY...</td>\n",
       "      <td>1719720728184910195</td>\n",
       "    </tr>\n",
       "    <tr>\n",
       "      <th>2</th>\n",
       "      <td>https://twitter.com/BlancheMinerva/status/1719...</td>\n",
       "      <td>There are hundreds of researches around the wo...</td>\n",
       "      <td>1719714881081954409</td>\n",
       "    </tr>\n",
       "    <tr>\n",
       "      <th>3</th>\n",
       "      <td>https://twitter.com/sucholutsky/status/1719725...</td>\n",
       "      <td>🧵 Excited to share another new paper with @coc...</td>\n",
       "      <td>1719725087681569189</td>\n",
       "    </tr>\n",
       "    <tr>\n",
       "      <th>4</th>\n",
       "      <td>https://twitter.com/TBSocialist/status/1719676...</td>\n",
       "      <td>If you went to or watched the network state co...</td>\n",
       "      <td>1719676110785421807</td>\n",
       "    </tr>\n",
       "    <tr>\n",
       "      <th>5</th>\n",
       "      <td>https://twitter.com/DG_Rand/status/17193724593...</td>\n",
       "      <td>🚨New WP🚨\\nHow can more Republicans be convince...</td>\n",
       "      <td>1719372459344888032</td>\n",
       "    </tr>\n",
       "    <tr>\n",
       "      <th>6</th>\n",
       "      <td>https://twitter.com/yanaiela/status/1719755578...</td>\n",
       "      <td>What's In My Big Data?\\n\\nA question we've bee...</td>\n",
       "      <td>1719755578409619740</td>\n",
       "    </tr>\n",
       "  </tbody>\n",
       "</table>\n",
       "</div>"
      ],
      "text/plain": [
       "                                                 url  \\\n",
       "0  https://twitter.com/danwilliamsphil/status/171...   \n",
       "1  https://twitter.com/pwang/status/1719720728184...   \n",
       "2  https://twitter.com/BlancheMinerva/status/1719...   \n",
       "3  https://twitter.com/sucholutsky/status/1719725...   \n",
       "4  https://twitter.com/TBSocialist/status/1719676...   \n",
       "5  https://twitter.com/DG_Rand/status/17193724593...   \n",
       "6  https://twitter.com/yanaiela/status/1719755578...   \n",
       "\n",
       "                                          tweet_text              tweetID  \n",
       "0  I enjoyed this, although I was already sympath...  1719436704602275858  \n",
       "1  100% with Stella @BlancheMinerva (and @AndrewY...  1719720728184910195  \n",
       "2  There are hundreds of researches around the wo...  1719714881081954409  \n",
       "3  🧵 Excited to share another new paper with @coc...  1719725087681569189  \n",
       "4  If you went to or watched the network state co...  1719676110785421807  \n",
       "5  🚨New WP🚨\\nHow can more Republicans be convince...  1719372459344888032  \n",
       "6  What's In My Big Data?\\n\\nA question we've bee...  1719755578409619740  "
      ]
     },
     "execution_count": 5,
     "metadata": {},
     "output_type": "execute_result"
    }
   ],
   "source": [
    "df = pandas.DataFrame(rows)\n",
    "df"
   ]
  },
  {
   "cell_type": "code",
   "execution_count": 6,
   "metadata": {},
   "outputs": [],
   "source": [
    "df.to_csv(\"../etc/data/tweets.csv\")"
   ]
  },
  {
   "cell_type": "code",
   "execution_count": 8,
   "metadata": {},
   "outputs": [
    {
     "name": "stdout",
     "output_type": "stream",
     "text": [
      "To gain access to an instance object simply pass the value from 'ID' to dtale.get_instance(ID)\n",
      "\n",
      "ID Name                                  URL\n",
      " 1      http://rkl-Carbon:40000/dtale/main/1\n",
      "        http://rkl-Carbon:40000/dtale/main/1\n"
     ]
    }
   ],
   "source": [
    "dtale.instances()"
   ]
  },
  {
   "cell_type": "code",
   "execution_count": 10,
   "metadata": {},
   "outputs": [
    {
     "ename": "AttributeError",
     "evalue": "'NoneType' object has no attribute 'kill'",
     "output_type": "error",
     "traceback": [
      "\u001b[0;31m---------------------------------------------------------------------------\u001b[0m",
      "\u001b[0;31mAttributeError\u001b[0m                            Traceback (most recent call last)",
      "\u001b[1;32m/home/rkl25/dev/common_sense/desci-sense/notebooks/dataset_creator_test.ipynb Cell 8\u001b[0m line \u001b[0;36m1\n\u001b[0;32m----> <a href='vscode-notebook-cell:/home/rkl25/dev/common_sense/desci-sense/notebooks/dataset_creator_test.ipynb#X11sZmlsZQ%3D%3D?line=0'>1</a>\u001b[0m dtale\u001b[39m.\u001b[39mget_instance([\u001b[39m\"\u001b[39m\u001b[39m1\u001b[39m\u001b[39m\"\u001b[39m])\u001b[39m.\u001b[39mkill()\n",
      "\u001b[0;31mAttributeError\u001b[0m: 'NoneType' object has no attribute 'kill'"
     ]
    }
   ],
   "source": [
    "dtale.get_instance([\"1\"]).kill()"
   ]
  },
  {
   "cell_type": "code",
   "execution_count": 11,
   "metadata": {},
   "outputs": [
    {
     "data": {
      "text/html": [
       "\n",
       "        <iframe\n",
       "            width=\"100%\"\n",
       "            height=\"475\"\n",
       "            src=\"http://rkl-Carbon:40000/dtale/iframe/2\"\n",
       "            frameborder=\"0\"\n",
       "            allowfullscreen\n",
       "            \n",
       "        ></iframe>\n",
       "        "
      ],
      "text/plain": [
       "<IPython.lib.display.IFrame at 0x7f4887541610>"
      ]
     },
     "metadata": {},
     "output_type": "display_data"
    },
    {
     "data": {
      "text/plain": []
     },
     "execution_count": 11,
     "metadata": {},
     "output_type": "execute_result"
    }
   ],
   "source": [
    "dtale.show(df, host='localhost')"
   ]
  }
 ],
 "metadata": {
  "kernelspec": {
   "display_name": "twscraping",
   "language": "python",
   "name": "python3"
  },
  "language_info": {
   "codemirror_mode": {
    "name": "ipython",
    "version": 3
   },
   "file_extension": ".py",
   "mimetype": "text/x-python",
   "name": "python",
   "nbconvert_exporter": "python",
   "pygments_lexer": "ipython3",
   "version": "3.11.5"
  }
 },
 "nbformat": 4,
 "nbformat_minor": 2
}
