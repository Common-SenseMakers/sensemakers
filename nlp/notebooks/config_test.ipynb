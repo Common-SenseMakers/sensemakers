{
 "cells": [
  {
   "cell_type": "code",
   "execution_count": 1,
   "metadata": {},
   "outputs": [],
   "source": [
    "# load env with api keys https://stackoverflow.com/a/54028874\n",
    "%load_ext dotenv\n",
    "%dotenv ../etc/config.env\n"
   ]
  },
  {
   "cell_type": "code",
   "execution_count": 2,
   "metadata": {},
   "outputs": [],
   "source": [
    "import sys\n",
    "sys.path.append(\"../\")\n",
    "\n",
    "from confection import Config\n",
    "\n",
    "\n",
    "from desci_sense.configs import init_config"
   ]
  },
  {
   "cell_type": "code",
   "execution_count": 3,
   "metadata": {},
   "outputs": [
    {
     "data": {
      "text/plain": [
       "{'general': {'parser_type': 'base'},\n",
       " 'model': {'model_name': 'mistralai/mistral-7b-instruct', 'temperature': 0.6},\n",
       " 'prompt': {'template_path': 'desci_sense/prompting/templates/p4.txt'},\n",
       " 'wandb': {'entity': 'common-sense-makers', 'project': 'st-demo'}}"
      ]
     },
     "execution_count": 3,
     "metadata": {},
     "output_type": "execute_result"
    }
   ],
   "source": [
    "config = init_config()\n",
    "config"
   ]
  },
  {
   "cell_type": "code",
   "execution_count": 7,
   "metadata": {},
   "outputs": [
    {
     "data": {
      "text/plain": [
       "confection.Config"
      ]
     },
     "execution_count": 7,
     "metadata": {},
     "output_type": "execute_result"
    }
   ],
   "source": [
    "type(config)"
   ]
  },
  {
   "cell_type": "code",
   "execution_count": 4,
   "metadata": {},
   "outputs": [
    {
     "name": "stdout",
     "output_type": "stream",
     "text": [
      "[general]\n",
      "parser_type = \"base\"\n",
      "\n",
      "[model]\n",
      "model_name = \"mistralai/mistral-7b-instruct\"\n",
      "temperature = 0.6\n",
      "\n",
      "[prompt]\n",
      "template_path = \"desci_sense/prompting/templates/p4.txt\"\n",
      "\n",
      "[wandb]\n",
      "entity = \"common-sense-makers\"\n",
      "project = \"st-demo\"\n"
     ]
    }
   ],
   "source": [
    "print(config.to_str())"
   ]
  },
  {
   "cell_type": "code",
   "execution_count": 6,
   "metadata": {},
   "outputs": [
    {
     "data": {
      "text/plain": [
       "{'general': {'parser_type': 'base'},\n",
       " 'model': {'model_name': 'fireworks/mixtral-8x7b-fw-chat',\n",
       "  'temperature': 0.6000000000000001},\n",
       " 'prompt': {'template_path': 'desci_sense/prompting/templates/p5_multi.txt'},\n",
       " 'wandb': {'entity': 'common-sense-makers', 'project': 'st-demo-sandbox'}}"
      ]
     },
     "execution_count": 6,
     "metadata": {},
     "output_type": "execute_result"
    }
   ],
   "source": [
    "Config().from_disk(\"/home/rkl25/dev/common_sense/desci-sense/etc/configs/config_multi_st.cfg\")"
   ]
  },
  {
   "cell_type": "code",
   "execution_count": 9,
   "metadata": {},
   "outputs": [],
   "source": [
    "config[\"model\"][\"temperature\"] = 0.7"
   ]
  },
  {
   "cell_type": "code",
   "execution_count": 10,
   "metadata": {},
   "outputs": [
    {
     "data": {
      "text/plain": [
       "{'general': {'parser_type': 'base'},\n",
       " 'model': {'model_name': 'mistralai/mistral-7b-instruct', 'temperature': 0.7},\n",
       " 'prompt': {'template_path': 'desci_sense/prompting/templates/p4.txt'},\n",
       " 'wandb': {'entity': 'common-sense-makers', 'project': 'st-demo'}}"
      ]
     },
     "execution_count": 10,
     "metadata": {},
     "output_type": "execute_result"
    }
   ],
   "source": [
    "config"
   ]
  }
 ],
 "metadata": {
  "kernelspec": {
   "display_name": "twscraping",
   "language": "python",
   "name": "python3"
  },
  "language_info": {
   "codemirror_mode": {
    "name": "ipython",
    "version": 3
   },
   "file_extension": ".py",
   "mimetype": "text/x-python",
   "name": "python",
   "nbconvert_exporter": "python",
   "pygments_lexer": "ipython3",
   "version": "3.11.5"
  }
 },
 "nbformat": 4,
 "nbformat_minor": 2
}
