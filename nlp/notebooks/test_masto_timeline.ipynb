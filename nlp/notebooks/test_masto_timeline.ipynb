{
 "cells": [
  {
   "cell_type": "code",
   "execution_count": 7,
   "metadata": {},
   "outputs": [],
   "source": [
    "import sys\n",
    "sys.path.append(\"../\")\n",
    "\n",
    "from urllib.parse import urlparse\n",
    "import pandas as pd\n",
    "from typing import List\n",
    "from mastodon import Mastodon\n",
    "from datetime import datetime, time\n",
    "\n",
    "from desci_sense.shared_functions.schema.post import RefPost\n",
    "from desci_sense.shared_functions.dataloaders.mastodon.mastodon_loader import MastodonLoader"
   ]
  },
  {
   "cell_type": "code",
   "execution_count": 3,
   "metadata": {},
   "outputs": [],
   "source": [
    "start_date = datetime(2024, 1, 20)\n",
    "end_date = datetime(2024, 2, 2)\n",
    "mloader = MastodonLoader()\n",
    "acct = \"@ronent@mastodon.social\"\n",
    "posts = mloader.load_profile_timeline(\n",
    "    acct,\n",
    "    max_toots=5,\n",
    "    start_date=start_date,\n",
    "    end_date=end_date,\n",
    ")"
   ]
  },
  {
   "cell_type": "code",
   "execution_count": 4,
   "metadata": {},
   "outputs": [],
   "source": [
    "post = posts[0]"
   ]
  },
  {
   "cell_type": "code",
   "execution_count": 5,
   "metadata": {},
   "outputs": [
    {
     "data": {
      "text/plain": [
       "'Also relevant for discussions about science social media as critical\\nscientific infrastructure @UlrikeHahn @brembs @jonny @bonfire indieweb.social\\n@nanopub\\n\\n\" TikTokification of academia\"\\n\\nhttps://arxiv.org/abs/2401.13782\\n\\nhttps://twitter.com/deliprao/status/1750732070014337101'"
      ]
     },
     "execution_count": 5,
     "metadata": {},
     "output_type": "execute_result"
    }
   ],
   "source": [
    "post.content"
   ]
  },
  {
   "cell_type": "code",
   "execution_count": 10,
   "metadata": {},
   "outputs": [
    {
     "ename": "NameError",
     "evalue": "name 'self' is not defined",
     "output_type": "error",
     "traceback": [
      "\u001b[0;31m---------------------------------------------------------------------------\u001b[0m",
      "\u001b[0;31mNameError\u001b[0m                                 Traceback (most recent call last)",
      "Cell \u001b[0;32mIn[10], line 2\u001b[0m\n\u001b[1;32m      1\u001b[0m user \u001b[38;5;241m=\u001b[39m mloader\u001b[38;5;241m.\u001b[39mapi\u001b[38;5;241m.\u001b[39maccount_lookup(acct)\n\u001b[0;32m----> 2\u001b[0m toots \u001b[38;5;241m=\u001b[39m \u001b[38;5;28;43mself\u001b[39;49m\u001b[38;5;241m.\u001b[39mapi\u001b[38;5;241m.\u001b[39maccount_statuses(\n\u001b[1;32m      3\u001b[0m     user[\u001b[38;5;124m\"\u001b[39m\u001b[38;5;124mid\u001b[39m\u001b[38;5;124m\"\u001b[39m],\n\u001b[1;32m      4\u001b[0m     only_media\u001b[38;5;241m=\u001b[39m\u001b[38;5;28;01mFalse\u001b[39;00m,\n\u001b[1;32m      5\u001b[0m     pinned\u001b[38;5;241m=\u001b[39m\u001b[38;5;28;01mFalse\u001b[39;00m,\n\u001b[1;32m      6\u001b[0m     exclude_replies\u001b[38;5;241m=\u001b[39mexclude_replies,\n\u001b[1;32m      7\u001b[0m     exclude_reblogs\u001b[38;5;241m=\u001b[39mexclude_reposts,\n\u001b[1;32m      8\u001b[0m     limit\u001b[38;5;241m=\u001b[39mnumber_toots,\n\u001b[1;32m      9\u001b[0m )\n",
      "\u001b[0;31mNameError\u001b[0m: name 'self' is not defined"
     ]
    }
   ],
   "source": [
    "user = mloader.api.account_lookup(acct)\n",
    "toots = mloader.api.account_statuses(\n",
    "    user[\"id\"],\n",
    "    only_media=False,\n",
    "    pinned=False,\n",
    "    exclude_replies=True,\n",
    "    exclude_reblogs=True,\n",
    "    limit=5,\n",
    ")"
   ]
  }
 ],
 "metadata": {
  "kernelspec": {
   "display_name": "asensebot",
   "language": "python",
   "name": "python3"
  },
  "language_info": {
   "codemirror_mode": {
    "name": "ipython",
    "version": 3
   },
   "file_extension": ".py",
   "mimetype": "text/x-python",
   "name": "python",
   "nbconvert_exporter": "python",
   "pygments_lexer": "ipython3",
   "version": "3.11.7"
  }
 },
 "nbformat": 4,
 "nbformat_minor": 2
}
