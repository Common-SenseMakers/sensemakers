{
 "cells": [
  {
   "cell_type": "code",
   "execution_count": 1,
   "metadata": {},
   "outputs": [],
   "source": [
    "import sys\n",
    "sys.path.append(\"../\")\n",
    "\n",
    "from urllib.parse import urlparse\n",
    "import pandas as pd\n",
    "from typing import List\n",
    "from mastodon import Mastodon\n",
    "from datetime import datetime, time\n",
    "\n",
    "from desci_sense.shared_functions.schema.post import RefPost\n",
    "from desci_sense.shared_functions.dataloaders.mastodon.mastodon_loader import MastodonLoader"
   ]
  },
  {
   "cell_type": "code",
   "execution_count": 2,
   "metadata": {},
   "outputs": [
    {
     "name": "stderr",
     "output_type": "stream",
     "text": [
      "\u001b[32m2024-03-25 11:12:25.928\u001b[0m | \u001b[34m\u001b[1mDEBUG   \u001b[0m | \u001b[36mdesci_sense.shared_functions.dataloaders.mastodon.mastodon_loader\u001b[0m:\u001b[36m_format_toots\u001b[0m:\u001b[36m135\u001b[0m - \u001b[34m\u001b[1mtoot: https://octodon.social/@cwebber/112156679102724321\u001b[0m\n",
      "\u001b[32m2024-03-25 11:12:25.929\u001b[0m | \u001b[34m\u001b[1mDEBUG   \u001b[0m | \u001b[36mdesci_sense.shared_functions.dataloaders.mastodon.mastodon_loader\u001b[0m:\u001b[36m_format_toots\u001b[0m:\u001b[36m135\u001b[0m - \u001b[34m\u001b[1mtoot: https://octodon.social/@cwebber/112156670752095932\u001b[0m\n",
      "\u001b[32m2024-03-25 11:12:25.930\u001b[0m | \u001b[34m\u001b[1mDEBUG   \u001b[0m | \u001b[36mdesci_sense.shared_functions.dataloaders.mastodon.mastodon_loader\u001b[0m:\u001b[36m_format_toots\u001b[0m:\u001b[36m135\u001b[0m - \u001b[34m\u001b[1mtoot: https://octodon.social/@cwebber/112156668953068806\u001b[0m\n",
      "\u001b[32m2024-03-25 11:12:25.930\u001b[0m | \u001b[34m\u001b[1mDEBUG   \u001b[0m | \u001b[36mdesci_sense.shared_functions.dataloaders.mastodon.mastodon_loader\u001b[0m:\u001b[36m_format_toots\u001b[0m:\u001b[36m135\u001b[0m - \u001b[34m\u001b[1mtoot: None\u001b[0m\n"
     ]
    },
    {
     "ename": "ValidationError",
     "evalue": "1 validation error for RefPost\nurl\n  none is not an allowed value (type=type_error.none.not_allowed)",
     "output_type": "error",
     "traceback": [
      "\u001b[0;31m---------------------------------------------------------------------------\u001b[0m",
      "\u001b[0;31mValidationError\u001b[0m                           Traceback (most recent call last)",
      "Cell \u001b[0;32mIn[2], line 5\u001b[0m\n\u001b[1;32m      3\u001b[0m mloader \u001b[38;5;241m=\u001b[39m MastodonLoader()\n\u001b[1;32m      4\u001b[0m acct \u001b[38;5;241m=\u001b[39m \u001b[38;5;124m\"\u001b[39m\u001b[38;5;124m@cwebber@octodon.social\u001b[39m\u001b[38;5;124m\"\u001b[39m\n\u001b[0;32m----> 5\u001b[0m posts \u001b[38;5;241m=\u001b[39m \u001b[43mmloader\u001b[49m\u001b[38;5;241;43m.\u001b[39;49m\u001b[43mload_profile_timeline\u001b[49m\u001b[43m(\u001b[49m\n\u001b[1;32m      6\u001b[0m \u001b[43m    \u001b[49m\u001b[43macct\u001b[49m\u001b[43m,\u001b[49m\n\u001b[1;32m      7\u001b[0m \u001b[43m    \u001b[49m\u001b[43mmax_toots\u001b[49m\u001b[38;5;241;43m=\u001b[39;49m\u001b[38;5;241;43m30\u001b[39;49m\u001b[43m,\u001b[49m\n\u001b[1;32m      8\u001b[0m \u001b[43m    \u001b[49m\u001b[43mstart_date\u001b[49m\u001b[38;5;241;43m=\u001b[39;49m\u001b[43mstart_date\u001b[49m\u001b[43m,\u001b[49m\n\u001b[1;32m      9\u001b[0m \u001b[43m    \u001b[49m\u001b[43mend_date\u001b[49m\u001b[38;5;241;43m=\u001b[39;49m\u001b[43mend_date\u001b[49m\u001b[43m,\u001b[49m\n\u001b[1;32m     10\u001b[0m \u001b[43m    \u001b[49m\u001b[43mexclude_replies\u001b[49m\u001b[38;5;241;43m=\u001b[39;49m\u001b[38;5;28;43;01mTrue\u001b[39;49;00m\u001b[43m,\u001b[49m\n\u001b[1;32m     11\u001b[0m \u001b[43m    \u001b[49m\u001b[43mexclude_reposts\u001b[49m\u001b[38;5;241;43m=\u001b[39;49m\u001b[38;5;28;43;01mFalse\u001b[39;49;00m\u001b[43m,\u001b[49m\n\u001b[1;32m     12\u001b[0m \u001b[43m)\u001b[49m\n",
      "File \u001b[0;32m~/Documents/dev/common_sense/sensemakers/nlp/notebooks/../desci_sense/shared_functions/dataloaders/mastodon/mastodon_loader.py:76\u001b[0m, in \u001b[0;36mMastodonLoader.load_profile_timeline\u001b[0;34m(self, mastodon_account, max_toots, exclude_replies, exclude_reposts, start_date, end_date)\u001b[0m\n\u001b[1;32m     74\u001b[0m     \u001b[38;5;28;01mif\u001b[39;00m start_date \u001b[38;5;241m<\u001b[39m\u001b[38;5;241m=\u001b[39m created_at_datetime \u001b[38;5;241m<\u001b[39m\u001b[38;5;241m=\u001b[39m end_date:\n\u001b[1;32m     75\u001b[0m         filtered_posts\u001b[38;5;241m.\u001b[39mappend(toot)\n\u001b[0;32m---> 76\u001b[0m results\u001b[38;5;241m.\u001b[39mextend(\u001b[38;5;28mself\u001b[39m\u001b[38;5;241m.\u001b[39m_format_toots(filtered_posts, user))\n\u001b[1;32m     78\u001b[0m \u001b[38;5;66;03m# Mastodon api exclude wasn't working, so verify this here\u001b[39;00m\n\u001b[1;32m     79\u001b[0m \u001b[38;5;28;01mif\u001b[39;00m exclude_reposts:\n",
      "File \u001b[0;32m~/Documents/dev/common_sense/sensemakers/nlp/notebooks/../desci_sense/shared_functions/dataloaders/mastodon/mastodon_loader.py:136\u001b[0m, in \u001b[0;36mMastodonLoader._format_toots\u001b[0;34m(self, toots, user_info)\u001b[0m\n\u001b[1;32m    134\u001b[0m \u001b[38;5;28;01mfor\u001b[39;00m toot \u001b[38;5;129;01min\u001b[39;00m toots:\n\u001b[1;32m    135\u001b[0m     logger\u001b[38;5;241m.\u001b[39mdebug(\u001b[38;5;124mf\u001b[39m\u001b[38;5;124m\"\u001b[39m\u001b[38;5;124mtoot: \u001b[39m\u001b[38;5;132;01m{\u001b[39;00mtoot[\u001b[38;5;124m'\u001b[39m\u001b[38;5;124murl\u001b[39m\u001b[38;5;124m'\u001b[39m]\u001b[38;5;132;01m}\u001b[39;00m\u001b[38;5;124m\"\u001b[39m)\n\u001b[0;32m--> 136\u001b[0m     ref_post \u001b[38;5;241m=\u001b[39m \u001b[43mconvert_post_json_to_ref_post\u001b[49m\u001b[43m(\u001b[49m\u001b[43mtoot\u001b[49m\u001b[43m)\u001b[49m\n\u001b[1;32m    137\u001b[0m     \u001b[38;5;28;01myield\u001b[39;00m ref_post\n",
      "File \u001b[0;32m~/Documents/dev/common_sense/sensemakers/nlp/notebooks/../desci_sense/shared_functions/dataloaders/mastodon/mastodon_utils.py:94\u001b[0m, in \u001b[0;36mconvert_post_json_to_ref_post\u001b[0;34m(post_json)\u001b[0m\n\u001b[1;32m     91\u001b[0m \u001b[38;5;66;03m# extract external reference urls from post\u001b[39;00m\n\u001b[1;32m     92\u001b[0m ext_ref_urls \u001b[38;5;241m=\u001b[39m extract_external_masto_ref_urls(post_json)\n\u001b[0;32m---> 94\u001b[0m post \u001b[38;5;241m=\u001b[39m \u001b[43mRefPost\u001b[49m\u001b[43m(\u001b[49m\n\u001b[1;32m     95\u001b[0m \u001b[43m    \u001b[49m\u001b[43mauthor\u001b[49m\u001b[38;5;241;43m=\u001b[39;49m\u001b[43mauthor\u001b[49m\u001b[43m,\u001b[49m\n\u001b[1;32m     96\u001b[0m \u001b[43m    \u001b[49m\u001b[43mcontent\u001b[49m\u001b[38;5;241;43m=\u001b[39;49m\u001b[43mtext\u001b[49m\u001b[43m,\u001b[49m\n\u001b[1;32m     97\u001b[0m \u001b[43m    \u001b[49m\u001b[43murl\u001b[49m\u001b[38;5;241;43m=\u001b[39;49m\u001b[43murl\u001b[49m\u001b[43m,\u001b[49m\n\u001b[1;32m     98\u001b[0m \u001b[43m    \u001b[49m\u001b[43mcreated_at\u001b[49m\u001b[38;5;241;43m=\u001b[39;49m\u001b[43mcreated_at\u001b[49m\u001b[43m,\u001b[49m\n\u001b[1;32m     99\u001b[0m \u001b[43m    \u001b[49m\u001b[43msource_network\u001b[49m\u001b[38;5;241;43m=\u001b[39;49m\u001b[38;5;124;43m\"\u001b[39;49m\u001b[38;5;124;43mmastodon\u001b[39;49m\u001b[38;5;124;43m\"\u001b[39;49m\u001b[43m,\u001b[49m\n\u001b[1;32m    100\u001b[0m \u001b[43m    \u001b[49m\u001b[43mmetadata\u001b[49m\u001b[38;5;241;43m=\u001b[39;49m\u001b[43mpost_json\u001b[49m\u001b[43m,\u001b[49m\n\u001b[1;32m    101\u001b[0m \u001b[43m    \u001b[49m\u001b[43mref_urls\u001b[49m\u001b[38;5;241;43m=\u001b[39;49m\u001b[43mext_ref_urls\u001b[49m\u001b[43m,\u001b[49m\n\u001b[1;32m    102\u001b[0m \u001b[43m    \u001b[49m\u001b[43mis_reply\u001b[49m\u001b[38;5;241;43m=\u001b[39;49m\u001b[43mpost_json\u001b[49m\u001b[43m[\u001b[49m\u001b[38;5;124;43m\"\u001b[39;49m\u001b[38;5;124;43min_reply_to_id\u001b[39;49m\u001b[38;5;124;43m\"\u001b[39;49m\u001b[43m]\u001b[49m\u001b[43m \u001b[49m\u001b[38;5;129;43;01mis\u001b[39;49;00m\u001b[43m \u001b[49m\u001b[38;5;129;43;01mnot\u001b[39;49;00m\u001b[43m \u001b[49m\u001b[38;5;28;43;01mNone\u001b[39;49;00m\u001b[43m,\u001b[49m\n\u001b[1;32m    103\u001b[0m \u001b[43m    \u001b[49m\u001b[43mis_repost\u001b[49m\u001b[38;5;241;43m=\u001b[39;49m\u001b[43mpost_json\u001b[49m\u001b[43m[\u001b[49m\u001b[38;5;124;43m\"\u001b[39;49m\u001b[38;5;124;43mreblog\u001b[39;49m\u001b[38;5;124;43m\"\u001b[39;49m\u001b[43m]\u001b[49m\u001b[43m \u001b[49m\u001b[38;5;129;43;01mis\u001b[39;49;00m\u001b[43m \u001b[49m\u001b[38;5;129;43;01mnot\u001b[39;49;00m\u001b[43m \u001b[49m\u001b[38;5;28;43;01mNone\u001b[39;49;00m\u001b[43m,\u001b[49m\n\u001b[1;32m    104\u001b[0m \u001b[43m\u001b[49m\u001b[43m)\u001b[49m\n\u001b[1;32m    106\u001b[0m \u001b[38;5;28;01mreturn\u001b[39;00m post\n",
      "File \u001b[0;32m~/anaconda3/envs/asensebot/lib/python3.11/site-packages/langchain_core/load/serializable.py:107\u001b[0m, in \u001b[0;36mSerializable.__init__\u001b[0;34m(self, **kwargs)\u001b[0m\n\u001b[1;32m    106\u001b[0m \u001b[38;5;28;01mdef\u001b[39;00m \u001b[38;5;21m__init__\u001b[39m(\u001b[38;5;28mself\u001b[39m, \u001b[38;5;241m*\u001b[39m\u001b[38;5;241m*\u001b[39mkwargs: Any) \u001b[38;5;241m-\u001b[39m\u001b[38;5;241m>\u001b[39m \u001b[38;5;28;01mNone\u001b[39;00m:\n\u001b[0;32m--> 107\u001b[0m     \u001b[38;5;28;43msuper\u001b[39;49m\u001b[43m(\u001b[49m\u001b[43m)\u001b[49m\u001b[38;5;241;43m.\u001b[39;49m\u001b[38;5;21;43m__init__\u001b[39;49m\u001b[43m(\u001b[49m\u001b[38;5;241;43m*\u001b[39;49m\u001b[38;5;241;43m*\u001b[39;49m\u001b[43mkwargs\u001b[49m\u001b[43m)\u001b[49m\n\u001b[1;32m    108\u001b[0m     \u001b[38;5;28mself\u001b[39m\u001b[38;5;241m.\u001b[39m_lc_kwargs \u001b[38;5;241m=\u001b[39m kwargs\n",
      "File \u001b[0;32m~/anaconda3/envs/asensebot/lib/python3.11/site-packages/pydantic/v1/main.py:341\u001b[0m, in \u001b[0;36mBaseModel.__init__\u001b[0;34m(__pydantic_self__, **data)\u001b[0m\n\u001b[1;32m    339\u001b[0m values, fields_set, validation_error \u001b[38;5;241m=\u001b[39m validate_model(__pydantic_self__\u001b[38;5;241m.\u001b[39m\u001b[38;5;18m__class__\u001b[39m, data)\n\u001b[1;32m    340\u001b[0m \u001b[38;5;28;01mif\u001b[39;00m validation_error:\n\u001b[0;32m--> 341\u001b[0m     \u001b[38;5;28;01mraise\u001b[39;00m validation_error\n\u001b[1;32m    342\u001b[0m \u001b[38;5;28;01mtry\u001b[39;00m:\n\u001b[1;32m    343\u001b[0m     object_setattr(__pydantic_self__, \u001b[38;5;124m'\u001b[39m\u001b[38;5;124m__dict__\u001b[39m\u001b[38;5;124m'\u001b[39m, values)\n",
      "\u001b[0;31mValidationError\u001b[0m: 1 validation error for RefPost\nurl\n  none is not an allowed value (type=type_error.none.not_allowed)"
     ]
    }
   ],
   "source": [
    "start_date = datetime(2022, 11, 1)\n",
    "end_date = datetime(2024, 11, 30)\n",
    "mloader = MastodonLoader()\n",
    "acct = \"@cwebber@octodon.social\"\n",
    "posts = mloader.load_profile_timeline(\n",
    "    acct,\n",
    "    max_toots=30,\n",
    "    start_date=start_date,\n",
    "    end_date=end_date,\n",
    "    exclude_replies=True,\n",
    "    exclude_reposts=False,\n",
    ")"
   ]
  },
  {
   "cell_type": "code",
   "execution_count": 2,
   "metadata": {},
   "outputs": [],
   "source": [
    "start_date = datetime(2024, 1, 1)\n",
    "end_date = datetime(2024, 1, 4)\n",
    "mloader = MastodonLoader()\n",
    "acct = \"@ronent@mastodon.social\"\n",
    "posts = mloader.load_profile_timeline(\n",
    "    acct,\n",
    "    max_toots=30,\n",
    "    start_date=start_date,\n",
    "    end_date=end_date,\n",
    "    exclude_replies=True,\n",
    "    exclude_reposts=False,\n",
    ")"
   ]
  },
  {
   "cell_type": "code",
   "execution_count": 3,
   "metadata": {},
   "outputs": [
    {
     "data": {
      "text/plain": [
       "0"
      ]
     },
     "execution_count": 3,
     "metadata": {},
     "output_type": "execute_result"
    }
   ],
   "source": [
    "len(posts)"
   ]
  },
  {
   "cell_type": "code",
   "execution_count": 16,
   "metadata": {},
   "outputs": [
    {
     "data": {
      "text/plain": [
       "1"
      ]
     },
     "execution_count": 16,
     "metadata": {},
     "output_type": "execute_result"
    }
   ],
   "source": [
    "start_date = datetime(2024, 1, 1)\n",
    "end_date = datetime(2024, 1, 4)\n",
    "mloader = MastodonLoader()\n",
    "acct = \"@ronent@mastodon.social\"\n",
    "posts = mloader.load_profile_timeline(\n",
    "    acct,\n",
    "    max_toots=30,\n",
    "    start_date=start_date,\n",
    "    end_date=end_date,\n",
    "    exclude_reposts=False,\n",
    "    exclude_replies=True,\n",
    ")\n",
    "len(posts)"
   ]
  },
  {
   "cell_type": "code",
   "execution_count": 7,
   "metadata": {},
   "outputs": [],
   "source": [
    "post = posts[0]"
   ]
  },
  {
   "cell_type": "code",
   "execution_count": 8,
   "metadata": {},
   "outputs": [
    {
     "data": {
      "text/plain": [
       "'Also relevant for discussions about science social media as critical\\nscientific infrastructure @UlrikeHahn @brembs @jonny @bonfire indieweb.social\\n@nanopub\\n\\n\" TikTokification of academia\"\\n\\nhttps://arxiv.org/abs/2401.13782\\n\\nhttps://twitter.com/deliprao/status/1750732070014337101'"
      ]
     },
     "execution_count": 8,
     "metadata": {},
     "output_type": "execute_result"
    }
   ],
   "source": [
    "post.content"
   ]
  },
  {
   "cell_type": "code",
   "execution_count": 10,
   "metadata": {},
   "outputs": [
    {
     "data": {
      "text/plain": [
       "True"
      ]
     },
     "execution_count": 10,
     "metadata": {},
     "output_type": "execute_result"
    }
   ],
   "source": [
    "posts[1].is_reply"
   ]
  },
  {
   "cell_type": "code",
   "execution_count": 11,
   "metadata": {},
   "outputs": [],
   "source": [
    "user = mloader.api.account_lookup(acct)\n",
    "toots = mloader.api.account_statuses(\n",
    "    user[\"id\"],\n",
    "    only_media=False,\n",
    "    pinned=False,\n",
    "    exclude_replies=True,\n",
    "    exclude_reblogs=True,\n",
    "    limit=5,\n",
    ")"
   ]
  },
  {
   "cell_type": "code",
   "execution_count": 15,
   "metadata": {},
   "outputs": [
    {
     "data": {
      "text/plain": [
       "{'id': 111687085875576875,\n",
       " 'created_at': datetime.datetime(2024, 1, 2, 15, 34, 44, 379000, tzinfo=tzutc()),\n",
       " 'in_reply_to_id': 111687084670741683,\n",
       " 'in_reply_to_account_id': 107714271376772838,\n",
       " 'sensitive': False,\n",
       " 'spoiler_text': '',\n",
       " 'visibility': 'public',\n",
       " 'language': 'en',\n",
       " 'uri': 'https://mastodon.social/users/ronent/statuses/111687085875576875',\n",
       " 'url': 'https://mastodon.social/@ronent/111687085875576875',\n",
       " 'replies_count': 1,\n",
       " 'reblogs_count': 0,\n",
       " 'favourites_count': 0,\n",
       " 'edited_at': None,\n",
       " 'favourited': False,\n",
       " 'reblogged': False,\n",
       " 'muted': False,\n",
       " 'bookmarked': False,\n",
       " 'pinned': False,\n",
       " 'content': '<p>Thanks for reading! Happy new year, make merry and make sense! 🎉💡 23/23</p>',\n",
       " 'filtered': [],\n",
       " 'reblog': None,\n",
       " 'application': {'name': 'Web', 'website': None},\n",
       " 'account': {'id': 107714271376772838,\n",
       "  'username': 'ronent',\n",
       "  'acct': 'ronent',\n",
       "  'display_name': 'Ronen Tamari',\n",
       "  'locked': False,\n",
       "  'bot': False,\n",
       "  'discoverable': True,\n",
       "  'indexable': False,\n",
       "  'group': False,\n",
       "  'created_at': datetime.datetime(2022, 1, 31, 0, 0, tzinfo=tzutc()),\n",
       "  'note': '<p>Researcher and entrepreneur @ Astera Institute | building collective sensemaking systems for science | Interested in prosocial tech, artificial/natural/collective intelligence and all their combinations.<br />Co-founder of  Common SenseMakers (<a href=\"https://www.csensemakers.com/\" target=\"_blank\" rel=\"nofollow noopener noreferrer\" translate=\"no\"><span class=\"invisible\">https://www.</span><span class=\"\">csensemakers.com/</span><span class=\"invisible\"></span></a>)</p>',\n",
       "  'url': 'https://mastodon.social/@ronent',\n",
       "  'uri': 'https://mastodon.social/users/ronent',\n",
       "  'avatar': 'https://files.mastodon.social/accounts/avatars/107/714/271/376/772/838/original/9331699b5c120ed4.jpg',\n",
       "  'avatar_static': 'https://files.mastodon.social/accounts/avatars/107/714/271/376/772/838/original/9331699b5c120ed4.jpg',\n",
       "  'header': 'https://mastodon.social/headers/original/missing.png',\n",
       "  'header_static': 'https://mastodon.social/headers/original/missing.png',\n",
       "  'followers_count': 162,\n",
       "  'following_count': 377,\n",
       "  'statuses_count': 89,\n",
       "  'last_status_at': datetime.datetime(2024, 3, 13, 0, 0),\n",
       "  'hide_collections': False,\n",
       "  'noindex': False,\n",
       "  'emojis': [],\n",
       "  'roles': [],\n",
       "  'fields': [{'name': 'Webpage',\n",
       "    'value': '<a href=\"https://ronentk.github.io/\" target=\"_blank\" rel=\"nofollow noopener noreferrer me\" translate=\"no\"><span class=\"invisible\">https://</span><span class=\"\">ronentk.github.io/</span><span class=\"invisible\"></span></a>',\n",
       "    'verified_at': None},\n",
       "   {'name': 'Twitter',\n",
       "    'value': '<a href=\"https://twitter.com/rtk254\" target=\"_blank\" rel=\"nofollow noopener noreferrer me\" translate=\"no\"><span class=\"invisible\">https://</span><span class=\"\">twitter.com/rtk254</span><span class=\"invisible\"></span></a>',\n",
       "    'verified_at': None}]},\n",
       " 'media_attachments': [],\n",
       " 'mentions': [],\n",
       " 'tags': [],\n",
       " 'emojis': [],\n",
       " 'card': None,\n",
       " 'poll': None}"
      ]
     },
     "execution_count": 15,
     "metadata": {},
     "output_type": "execute_result"
    }
   ],
   "source": [
    "toots[1]"
   ]
  },
  {
   "cell_type": "code",
   "execution_count": 22,
   "metadata": {},
   "outputs": [
    {
     "data": {
      "text/plain": [
       "True"
      ]
     },
     "execution_count": 22,
     "metadata": {},
     "output_type": "execute_result"
    }
   ],
   "source": [
    "toots[1]['in_reply_to_id'] != None"
   ]
  }
 ],
 "metadata": {
  "kernelspec": {
   "display_name": "asensebot",
   "language": "python",
   "name": "python3"
  },
  "language_info": {
   "codemirror_mode": {
    "name": "ipython",
    "version": 3
   },
   "file_extension": ".py",
   "mimetype": "text/x-python",
   "name": "python",
   "nbconvert_exporter": "python",
   "pygments_lexer": "ipython3",
   "version": "3.11.7"
  }
 },
 "nbformat": 4,
 "nbformat_minor": 2
}
