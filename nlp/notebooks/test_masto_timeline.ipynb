{
 "cells": [
  {
   "cell_type": "code",
   "execution_count": 1,
   "metadata": {},
   "outputs": [],
   "source": [
    "import sys\n",
    "sys.path.append(\"../\")\n",
    "\n",
    "from urllib.parse import urlparse\n",
    "import pandas as pd\n",
    "from typing import List\n",
    "from mastodon import Mastodon\n",
    "from datetime import datetime, time\n",
    "\n",
    "from desci_sense.shared_functions.schema.post import RefPost\n",
    "from desci_sense.shared_functions.dataloaders.mastodon.mastodon_loader import MastodonLoader"
   ]
  },
  {
   "cell_type": "code",
   "execution_count": 6,
   "metadata": {},
   "outputs": [],
   "source": [
    "start_date = datetime(2024, 1, 1)\n",
    "end_date = datetime(2024, 2, 2)\n",
    "mloader = MastodonLoader()\n",
    "acct = \"@ronent@mastodon.social\"\n",
    "posts = mloader.load_profile_timeline(\n",
    "    acct,\n",
    "    max_toots=5,\n",
    "    start_date=start_date,\n",
    "    end_date=end_date,\n",
    ")"
   ]
  },
  {
   "cell_type": "code",
   "execution_count": 7,
   "metadata": {},
   "outputs": [],
   "source": [
    "post = posts[0]"
   ]
  },
  {
   "cell_type": "code",
   "execution_count": 8,
   "metadata": {},
   "outputs": [
    {
     "data": {
      "text/plain": [
       "'Also relevant for discussions about science social media as critical\\nscientific infrastructure @UlrikeHahn @brembs @jonny @bonfire indieweb.social\\n@nanopub\\n\\n\" TikTokification of academia\"\\n\\nhttps://arxiv.org/abs/2401.13782\\n\\nhttps://twitter.com/deliprao/status/1750732070014337101'"
      ]
     },
     "execution_count": 8,
     "metadata": {},
     "output_type": "execute_result"
    }
   ],
   "source": [
    "post.content"
   ]
  },
  {
   "cell_type": "code",
   "execution_count": 10,
   "metadata": {},
   "outputs": [
    {
     "data": {
      "text/plain": [
       "True"
      ]
     },
     "execution_count": 10,
     "metadata": {},
     "output_type": "execute_result"
    }
   ],
   "source": [
    "posts[1].is_reply"
   ]
  },
  {
   "cell_type": "code",
   "execution_count": 11,
   "metadata": {},
   "outputs": [],
   "source": [
    "user = mloader.api.account_lookup(acct)\n",
    "toots = mloader.api.account_statuses(\n",
    "    user[\"id\"],\n",
    "    only_media=False,\n",
    "    pinned=False,\n",
    "    exclude_replies=True,\n",
    "    exclude_reblogs=True,\n",
    "    limit=5,\n",
    ")"
   ]
  },
  {
   "cell_type": "code",
   "execution_count": 15,
   "metadata": {},
   "outputs": [
    {
     "data": {
      "text/plain": [
       "{'id': 111687085875576875,\n",
       " 'created_at': datetime.datetime(2024, 1, 2, 15, 34, 44, 379000, tzinfo=tzutc()),\n",
       " 'in_reply_to_id': 111687084670741683,\n",
       " 'in_reply_to_account_id': 107714271376772838,\n",
       " 'sensitive': False,\n",
       " 'spoiler_text': '',\n",
       " 'visibility': 'public',\n",
       " 'language': 'en',\n",
       " 'uri': 'https://mastodon.social/users/ronent/statuses/111687085875576875',\n",
       " 'url': 'https://mastodon.social/@ronent/111687085875576875',\n",
       " 'replies_count': 1,\n",
       " 'reblogs_count': 0,\n",
       " 'favourites_count': 0,\n",
       " 'edited_at': None,\n",
       " 'favourited': False,\n",
       " 'reblogged': False,\n",
       " 'muted': False,\n",
       " 'bookmarked': False,\n",
       " 'pinned': False,\n",
       " 'content': '<p>Thanks for reading! Happy new year, make merry and make sense! 🎉💡 23/23</p>',\n",
       " 'filtered': [],\n",
       " 'reblog': None,\n",
       " 'application': {'name': 'Web', 'website': None},\n",
       " 'account': {'id': 107714271376772838,\n",
       "  'username': 'ronent',\n",
       "  'acct': 'ronent',\n",
       "  'display_name': 'Ronen Tamari',\n",
       "  'locked': False,\n",
       "  'bot': False,\n",
       "  'discoverable': True,\n",
       "  'indexable': False,\n",
       "  'group': False,\n",
       "  'created_at': datetime.datetime(2022, 1, 31, 0, 0, tzinfo=tzutc()),\n",
       "  'note': '<p>Researcher and entrepreneur @ Astera Institute | building collective sensemaking systems for science | Interested in prosocial tech, artificial/natural/collective intelligence and all their combinations.<br />Co-founder of  Common SenseMakers (<a href=\"https://www.csensemakers.com/\" target=\"_blank\" rel=\"nofollow noopener noreferrer\" translate=\"no\"><span class=\"invisible\">https://www.</span><span class=\"\">csensemakers.com/</span><span class=\"invisible\"></span></a>)</p>',\n",
       "  'url': 'https://mastodon.social/@ronent',\n",
       "  'uri': 'https://mastodon.social/users/ronent',\n",
       "  'avatar': 'https://files.mastodon.social/accounts/avatars/107/714/271/376/772/838/original/9331699b5c120ed4.jpg',\n",
       "  'avatar_static': 'https://files.mastodon.social/accounts/avatars/107/714/271/376/772/838/original/9331699b5c120ed4.jpg',\n",
       "  'header': 'https://mastodon.social/headers/original/missing.png',\n",
       "  'header_static': 'https://mastodon.social/headers/original/missing.png',\n",
       "  'followers_count': 162,\n",
       "  'following_count': 377,\n",
       "  'statuses_count': 89,\n",
       "  'last_status_at': datetime.datetime(2024, 3, 13, 0, 0),\n",
       "  'hide_collections': False,\n",
       "  'noindex': False,\n",
       "  'emojis': [],\n",
       "  'roles': [],\n",
       "  'fields': [{'name': 'Webpage',\n",
       "    'value': '<a href=\"https://ronentk.github.io/\" target=\"_blank\" rel=\"nofollow noopener noreferrer me\" translate=\"no\"><span class=\"invisible\">https://</span><span class=\"\">ronentk.github.io/</span><span class=\"invisible\"></span></a>',\n",
       "    'verified_at': None},\n",
       "   {'name': 'Twitter',\n",
       "    'value': '<a href=\"https://twitter.com/rtk254\" target=\"_blank\" rel=\"nofollow noopener noreferrer me\" translate=\"no\"><span class=\"invisible\">https://</span><span class=\"\">twitter.com/rtk254</span><span class=\"invisible\"></span></a>',\n",
       "    'verified_at': None}]},\n",
       " 'media_attachments': [],\n",
       " 'mentions': [],\n",
       " 'tags': [],\n",
       " 'emojis': [],\n",
       " 'card': None,\n",
       " 'poll': None}"
      ]
     },
     "execution_count": 15,
     "metadata": {},
     "output_type": "execute_result"
    }
   ],
   "source": [
    "toots[1]"
   ]
  },
  {
   "cell_type": "code",
   "execution_count": 22,
   "metadata": {},
   "outputs": [
    {
     "data": {
      "text/plain": [
       "True"
      ]
     },
     "execution_count": 22,
     "metadata": {},
     "output_type": "execute_result"
    }
   ],
   "source": [
    "toots[1]['in_reply_to_id'] != None"
   ]
  }
 ],
 "metadata": {
  "kernelspec": {
   "display_name": "asensebot",
   "language": "python",
   "name": "python3"
  },
  "language_info": {
   "codemirror_mode": {
    "name": "ipython",
    "version": 3
   },
   "file_extension": ".py",
   "mimetype": "text/x-python",
   "name": "python",
   "nbconvert_exporter": "python",
   "pygments_lexer": "ipython3",
   "version": "3.11.7"
  }
 },
 "nbformat": 4,
 "nbformat_minor": 2
}
