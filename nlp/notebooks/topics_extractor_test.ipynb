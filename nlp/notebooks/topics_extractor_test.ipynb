{
 "cells": [
  {
   "cell_type": "code",
   "execution_count": 1,
   "metadata": {},
   "outputs": [],
   "source": [
    "import sys\n",
    "sys.path.append(\"../\")\n",
    "import nest_asyncio\n",
    "nest_asyncio.apply()\n",
    "\n",
    "from desci_sense.configs import default_init_parser_config\n",
    "from desci_sense.shared_functions.dataloaders import scrape_post\n",
    "from desci_sense.shared_functions.parsers.firebase_api_parser import FirebaseAPIParser, PromptCase"
   ]
  },
  {
   "cell_type": "code",
   "execution_count": 2,
   "metadata": {},
   "outputs": [],
   "source": [
    "config = default_init_parser_config(semantics_model=\"mistralai/mistral-7b-instruct\",\n",
    "                                    kw_model=\"mistralai/mistral-7b-instruct\")\n",
    "config[\"general\"][\"ref_metadata_method\"] = \"citoid\""
   ]
  },
  {
   "cell_type": "code",
   "execution_count": 3,
   "metadata": {},
   "outputs": [
    {
     "name": "stderr",
     "output_type": "stream",
     "text": [
      "\u001b[32m2024-03-24 14:20:51.371\u001b[0m | \u001b[1mINFO    \u001b[0m | \u001b[36mdesci_sense.shared_functions.parsers.firebase_api_parser\u001b[0m:\u001b[36mset_md_extract_method\u001b[0m:\u001b[36m161\u001b[0m - \u001b[1mSetting metadata extraction method to citoid...\u001b[0m\n",
      "\u001b[32m2024-03-24 14:20:51.373\u001b[0m | \u001b[1mINFO    \u001b[0m | \u001b[36mdesci_sense.shared_functions.parsers.firebase_api_parser\u001b[0m:\u001b[36m__init__\u001b[0m:\u001b[36m117\u001b[0m - \u001b[1mLoading parser model (type=mistralai/mistral-7b-instruct)...\u001b[0m\n",
      "/Users/ronentamari/anaconda3/envs/asensebot/lib/python3.11/site-packages/langchain_core/_api/deprecation.py:117: LangChainDeprecationWarning: The class `langchain_community.chat_models.openai.ChatOpenAI` was deprecated in langchain-community 0.0.10 and will be removed in 0.2.0. An updated version of the class exists in the langchain-openai package and should be used instead. To use it run `pip install -U langchain-openai` and import as `from langchain_openai import ChatOpenAI`.\n",
      "  warn_deprecated(\n",
      "\u001b[32m2024-03-24 14:20:51.584\u001b[0m | \u001b[1mINFO    \u001b[0m | \u001b[36mdesci_sense.shared_functions.parsers.firebase_api_parser\u001b[0m:\u001b[36mset_kw_md_extract_method\u001b[0m:\u001b[36m165\u001b[0m - \u001b[1mSetting keywords metadata extraction method to citoid...\u001b[0m\n",
      "\u001b[32m2024-03-24 14:20:51.584\u001b[0m | \u001b[1mINFO    \u001b[0m | \u001b[36mdesci_sense.shared_functions.parsers.firebase_api_parser\u001b[0m:\u001b[36minit_keyword_extraction_chain\u001b[0m:\u001b[36m510\u001b[0m - \u001b[1mLoading keyword model (type=mistralai/mistral-7b-instruct)...\u001b[0m\n",
      "\u001b[32m2024-03-24 14:20:51.610\u001b[0m | \u001b[1mINFO    \u001b[0m | \u001b[36mdesci_sense.shared_functions.parsers.firebase_api_parser\u001b[0m:\u001b[36m__init__\u001b[0m:\u001b[36m134\u001b[0m - \u001b[1mLoading ontology...\u001b[0m\n",
      "\u001b[32m2024-03-24 14:20:51.614\u001b[0m | \u001b[1mINFO    \u001b[0m | \u001b[36mdesci_sense.shared_functions.parsers.firebase_api_parser\u001b[0m:\u001b[36m__init__\u001b[0m:\u001b[36m144\u001b[0m - \u001b[1mInitializing topics chain...\u001b[0m\n"
     ]
    }
   ],
   "source": [
    "parser = FirebaseAPIParser(config=config)"
   ]
  },
  {
   "cell_type": "code",
   "execution_count": 4,
   "metadata": {},
   "outputs": [],
   "source": [
    "url = \"https://mastodon.social/@psmaldino@qoto.org/111405098400404613\"\n",
    "post = scrape_post(url)"
   ]
  },
  {
   "cell_type": "code",
   "execution_count": 5,
   "metadata": {},
   "outputs": [],
   "source": [
    "combined_result = parser.process_ref_post_parallel(post)"
   ]
  },
  {
   "cell_type": "code",
   "execution_count": 6,
   "metadata": {},
   "outputs": [
    {
     "data": {
      "text/plain": [
       "{'reasoning': '[Reasoning Steps]\\n\\n1. The post is about a new paper published in Philosophical Transactions B.\\n2. The paper is written by Paul Smaldino and Karolina Safarzynska.\\n3. The paper is about a simple model of a group-structured public good with externalities shifting benefits toward more inequality or more equity.\\n4. The paper discusses the impact of redistributional externalities on cooperation.\\n5. The paper is published in Philosophical Transactions B.\\n\\n###\\n\\n[Candidate Tags]\\n\\n1. philosophy\\n2. economics\\n3. social sciences\\n4. inequality\\n5. cooperation\\n6. globalization\\n7. redistribution\\n8. public goods\\n\\n###',\n",
       " 'final_answer': 'Final Topics:\\n\\n1. philosophy\\n2. economics\\n3. social sciences\\n4. inequality\\n5. cooperation\\n6. globalization\\n\\nNote: Redistributional externalities are a specific economic concept, so I chose economics and globalization as well, since they are related to the topic of the paper.',\n",
       " 'single_tag': ['economics'],\n",
       " 'multi_tag': ['economics', 'philosophy', 'science'],\n",
       " 'allowed_tags': ['technology',\n",
       "  'science',\n",
       "  'academia',\n",
       "  'research',\n",
       "  'design',\n",
       "  'climate',\n",
       "  'sustainability',\n",
       "  'software & hardware',\n",
       "  'philosophy',\n",
       "  'health',\n",
       "  'culture',\n",
       "  'economics',\n",
       "  'business',\n",
       "  'politics',\n",
       "  'news',\n",
       "  'finance',\n",
       "  'sports',\n",
       "  'entertainment & leisure',\n",
       "  'art',\n",
       "  'literature',\n",
       "  'travel',\n",
       "  'personal']}"
      ]
     },
     "execution_count": 6,
     "metadata": {},
     "output_type": "execute_result"
    }
   ],
   "source": [
    "combined_result[\"topics\"][\"answer\"]"
   ]
  },
  {
   "cell_type": "code",
   "execution_count": 11,
   "metadata": {},
   "outputs": [
    {
     "name": "stderr",
     "output_type": "stream",
     "text": [
      "\u001b[32m2024-03-24 14:23:22.063\u001b[0m | \u001b[34m\u001b[1mDEBUG   \u001b[0m | \u001b[36mdesci_sense.shared_functions.web_extractors.citoid\u001b[0m:\u001b[36mfetch_citation_async\u001b[0m:\u001b[36m20\u001b[0m - \u001b[34m\u001b[1mtarget_url=https://twitter.com/i/status/1771789513712435547\u001b[0m\n",
      "\u001b[32m2024-03-24 14:23:22.064\u001b[0m | \u001b[34m\u001b[1mDEBUG   \u001b[0m | \u001b[36mdesci_sense.shared_functions.web_extractors.citoid\u001b[0m:\u001b[36mfetch_citation_async\u001b[0m:\u001b[36m20\u001b[0m - \u001b[34m\u001b[1mtarget_url=https://www.plurality.net/\u001b[0m\n"
     ]
    }
   ],
   "source": [
    "result = parser.extract_topics_w_metadata(post)"
   ]
  },
  {
   "cell_type": "code",
   "execution_count": 12,
   "metadata": {},
   "outputs": [
    {
     "data": {
      "text/plain": [
       "{'post': RefPost(author='⿻(((E. Glen Weyl/衛谷倫))) 🇺🇸/🇩🇪/🇹🇼 🖖', content='About two years ago, I wrote to @audreyt proposing the idea of a joint book.  Today, we have finalized the text that will be printed and you can read it for free at https://www.plurality.net.  Being ghostwriter to @audreyt has been the greatest honor of my life.  Far too many', url='https://twitter.com/glenweyl/status/1771792140416229623', created_at=datetime.datetime(2024, 3, 24, 6, 52, 19, tzinfo=datetime.timezone.utc), metadata={'communityNote': None, 'conversationID': '1771792140416229623', 'date': 'Sun Mar 24 06:52:19 +0000 2024', 'date_epoch': 1711263139, 'hashtags': [], 'likes': 48, 'mediaURLs': [], 'media_extended': [], 'possibly_sensitive': False, 'qrtURL': 'https://twitter.com/i/status/1771789513712435547', 'replies': 1, 'retweets': 5, 'text': 'About two years ago, I wrote to @audreyt proposing the idea of a joint book.  Today, we have finalized the text that will be printed and you can read it for free at https://www.plurality.net.  Being ghostwriter to @audreyt has been the greatest honor of my life.  Far too many', 'tweetID': '1771792140416229623', 'tweetURL': 'https://twitter.com/glenweyl/status/1771792140416229623', 'user_name': '⿻(((E. Glen Weyl/衛谷倫))) 🇺🇸/🇩🇪/🇹🇼 🖖', 'user_profile_image_url': 'https://pbs.twimg.com/profile_images/1754243616371847168/kgHB2X8U_normal.jpg', 'user_screen_name': 'glenweyl'}, source_network='twitter', ref_urls=['https://twitter.com/i/status/1771789513712435547', 'https://www.plurality.net/']),\n",
       " 'full_prompt': '\\nYou are an expert annotator tasked with assigning topics to social media posts. The assigned topics should represent the most salient topics discussed by the post.  \\n\\nThe available topic types are:\\n- technology\\n- science\\n- academia\\n- research\\n- design\\n- climate\\n- sustainability\\n- software & hardware\\n- philosophy\\n- health\\n- culture\\n- economics\\n- business\\n- politics\\n- news\\n- finance\\n- sports\\n- entertainment & leisure\\n- art\\n- literature\\n- travel\\n- personal\\n\\nA user will pass in a post, and you should think step by step, before selecting a set of topics that best match the post. You must only use the topics in the list!\\n\\n\\nRules:\\n- Your final answer should be structured as follows:\\n    - Reasoning Steps: (your reasoning steps)\\n    - Candidate Topics: (For potential each topic you choose, explain why you chose it.)\\n    - Final Answer: (a set of final topics, based on the Candidate Topics. The rest of the final keywords must be included in the Candidate Topics list!)\\n\\n\\n# Input post text:\\nAuthor: ⿻(((E. Glen Weyl/衛谷倫))) 🇺🇸/🇩🇪/🇹🇼 🖖\\nContent: About two years ago, I wrote to @audreyt proposing the idea of a joint book.  Today, we have finalized the text that will be printed and you can read it for free at https://www.plurality.net.  Being ghostwriter to @audreyt has been the greatest honor of my life.  Far too many\\n\\n## Reference Metadata:\\ncitoid_url: https://www.plurality.net/\\nurl: https://www.plurality.net/\\nitem_type: webpage\\ntitle: Plurality: The Future of Collaborative Technology and Democracy\\nsummary: Plurality: The Future of Collaborative Technology and Democracy\\nimage: None\\n\\n# Output:',\n",
       " 'answer': {'reasoning': '[Reasoning Steps]\\n\\n1. The post is about a book that has been finalized.\\n2. The author is an expert in the field of technology and democracy.\\n3. The book is about collaborative technology and democracy.\\n4. The author mentions that being a ghostwriter to someone was an honor.\\n\\n[Candidate Tags]\\n\\n1. Technology\\n2. Democracy\\n3. Collaboration\\n4. Authorship',\n",
       "  'final_answer': '1. Technology\\n2. Democracy\\n3. Collaboration\\n4. Authorship',\n",
       "  'single_tag': ['technology'],\n",
       "  'multi_tag': ['technology'],\n",
       "  'allowed_tags': ['technology',\n",
       "   'science',\n",
       "   'academia',\n",
       "   'research',\n",
       "   'design',\n",
       "   'climate',\n",
       "   'sustainability',\n",
       "   'software & hardware',\n",
       "   'philosophy',\n",
       "   'health',\n",
       "   'culture',\n",
       "   'economics',\n",
       "   'business',\n",
       "   'politics',\n",
       "   'news',\n",
       "   'finance',\n",
       "   'sports',\n",
       "   'entertainment & leisure',\n",
       "   'art',\n",
       "   'literature',\n",
       "   'travel',\n",
       "   'personal']}}"
      ]
     },
     "execution_count": 12,
     "metadata": {},
     "output_type": "execute_result"
    }
   ],
   "source": [
    "result"
   ]
  },
  {
   "cell_type": "code",
   "execution_count": 10,
   "metadata": {},
   "outputs": [
    {
     "name": "stderr",
     "output_type": "stream",
     "text": [
      "\u001b[32m2024-03-24 14:23:02.960\u001b[0m | \u001b[34m\u001b[1mDEBUG   \u001b[0m | \u001b[36mdesci_sense.shared_functions.web_extractors.citoid\u001b[0m:\u001b[36mfetch_citation_async\u001b[0m:\u001b[36m20\u001b[0m - \u001b[34m\u001b[1mtarget_url=https://twitter.com/i/status/1771789513712435547\u001b[0m\n",
      "\u001b[32m2024-03-24 14:23:02.977\u001b[0m | \u001b[34m\u001b[1mDEBUG   \u001b[0m | \u001b[36mdesci_sense.shared_functions.web_extractors.citoid\u001b[0m:\u001b[36mfetch_citation_async\u001b[0m:\u001b[36m20\u001b[0m - \u001b[34m\u001b[1mtarget_url=https://www.plurality.net/\u001b[0m\n"
     ]
    },
    {
     "data": {
      "text/plain": [
       "{'post': RefPost(author='⿻(((E. Glen Weyl/衛谷倫))) 🇺🇸/🇩🇪/🇹🇼 🖖', content='About two years ago, I wrote to @audreyt proposing the idea of a joint book.  Today, we have finalized the text that will be printed and you can read it for free at https://www.plurality.net.  Being ghostwriter to @audreyt has been the greatest honor of my life.  Far too many', url='https://twitter.com/glenweyl/status/1771792140416229623', created_at=datetime.datetime(2024, 3, 24, 6, 52, 19, tzinfo=datetime.timezone.utc), metadata={'communityNote': None, 'conversationID': '1771792140416229623', 'date': 'Sun Mar 24 06:52:19 +0000 2024', 'date_epoch': 1711263139, 'hashtags': [], 'likes': 48, 'mediaURLs': [], 'media_extended': [], 'possibly_sensitive': False, 'qrtURL': 'https://twitter.com/i/status/1771789513712435547', 'replies': 1, 'retweets': 5, 'text': 'About two years ago, I wrote to @audreyt proposing the idea of a joint book.  Today, we have finalized the text that will be printed and you can read it for free at https://www.plurality.net.  Being ghostwriter to @audreyt has been the greatest honor of my life.  Far too many', 'tweetID': '1771792140416229623', 'tweetURL': 'https://twitter.com/glenweyl/status/1771792140416229623', 'user_name': '⿻(((E. Glen Weyl/衛谷倫))) 🇺🇸/🇩🇪/🇹🇼 🖖', 'user_profile_image_url': 'https://pbs.twimg.com/profile_images/1754243616371847168/kgHB2X8U_normal.jpg', 'user_screen_name': 'glenweyl'}, source_network='twitter', ref_urls=['https://twitter.com/i/status/1771789513712435547', 'https://www.plurality.net/']),\n",
       " 'full_prompt': '\\nYou are an expert annotator tasked with assigning topics to social media posts. The assigned topics should represent the most salient topics discussed by the post.  \\n\\nThe available topic types are:\\n- technology\\n- science\\n- academia\\n- research\\n- design\\n- climate\\n- sustainability\\n- software & hardware\\n- philosophy\\n- health\\n- culture\\n- economics\\n- business\\n- politics\\n- news\\n- finance\\n- sports\\n- entertainment & leisure\\n- art\\n- literature\\n- travel\\n- personal\\n\\nA user will pass in a post, and you should think step by step, before selecting a set of topics that best match the post. You must only use the topics in the list!\\n\\n\\nRules:\\n- Your final answer should be structured as follows:\\n    - Reasoning Steps: (your reasoning steps)\\n    - Candidate Topics: (For potential each topic you choose, explain why you chose it.)\\n    - Final Answer: (a set of final topics, based on the Candidate Topics. The rest of the final keywords must be included in the Candidate Topics list!)\\n\\n\\n# Input post text:\\nAuthor: ⿻(((E. Glen Weyl/衛谷倫))) 🇺🇸/🇩🇪/🇹🇼 🖖\\nContent: About two years ago, I wrote to @audreyt proposing the idea of a joint book.  Today, we have finalized the text that will be printed and you can read it for free at https://www.plurality.net.  Being ghostwriter to @audreyt has been the greatest honor of my life.  Far too many\\n\\n## Reference Metadata:\\ncitoid_url: https://www.plurality.net/\\nurl: https://www.plurality.net/\\nitem_type: webpage\\ntitle: Plurality: The Future of Collaborative Technology and Democracy\\nsummary: Plurality: The Future of Collaborative Technology and Democracy\\nimage: None\\n\\n# Output:',\n",
       " 'answer': {'reasoning': \"[Reasoning Steps]\\n\\n1. From the post, the author (E. Glen Weyl) proposes a joint book with Audrey Watters.\\n2. The book's text has been finalized and can be read for free at the link provided in the post.\\n3. The author mentions that being a ghostwriter to Audrey Watters has been the greatest honor of his life.\\n4. The post does not mention any specific topics or themes related to the book.\\n\\n###\\n\\n[Candidate Tags]\\n\\n- academia\\n- technology\\n- collaboration\\n- democracy\\n- writing\\n\\n###\",\n",
       "  'final_answer': '- academia\\n- technology\\n- collaboration\\n- democracy',\n",
       "  'single_tag': ['technology'],\n",
       "  'multi_tag': ['technology', 'academia'],\n",
       "  'allowed_tags': ['technology',\n",
       "   'science',\n",
       "   'academia',\n",
       "   'research',\n",
       "   'design',\n",
       "   'climate',\n",
       "   'sustainability',\n",
       "   'software & hardware',\n",
       "   'philosophy',\n",
       "   'health',\n",
       "   'culture',\n",
       "   'economics',\n",
       "   'business',\n",
       "   'politics',\n",
       "   'news',\n",
       "   'finance',\n",
       "   'sports',\n",
       "   'entertainment & leisure',\n",
       "   'art',\n",
       "   'literature',\n",
       "   'travel',\n",
       "   'personal']}}"
      ]
     },
     "execution_count": 10,
     "metadata": {},
     "output_type": "execute_result"
    }
   ],
   "source": [
    "url = \"https://twitter.com/glenweyl/status/1771792140416229623\"\n",
    "post = scrape_post(url)\n",
    "result = parser.extract_topics_w_metadata(post)\n",
    "result"
   ]
  },
  {
   "cell_type": "code",
   "execution_count": 8,
   "metadata": {},
   "outputs": [],
   "source": [
    "run_cost = 0.000248 + 0.00013 + 0.000097"
   ]
  },
  {
   "cell_type": "code",
   "execution_count": 9,
   "metadata": {},
   "outputs": [
    {
     "data": {
      "text/plain": [
       "2105.263157894737"
      ]
     },
     "execution_count": 9,
     "metadata": {},
     "output_type": "execute_result"
    }
   ],
   "source": [
    "1 / run_cost"
   ]
  },
  {
   "cell_type": "code",
   "execution_count": 15,
   "metadata": {},
   "outputs": [
    {
     "name": "stdout",
     "output_type": "stream",
     "text": [
      "[Reasoning Steps]\n",
      "\n",
      "The author mentions about writing a joint book and the book is about the future of collaborative technology and democracy. The title suggests that the book discusses technology and its role in democratic processes, which could fall under the categories of technology and politics. Additionally, the fact that the book is a collaboration between two authors suggests a connection to academia or research, but there isn't enough information from the post to definitively assign these topics.\n",
      "\n",
      "[Candidate Tags]\n",
      "\n",
      "1. Technology: The book is about the future of collaborative technology, so this is a clear topic.\n",
      "2. Politics: The book is also about democracy, which falls under the topic of politics.\n",
      "3. Academia or Research: The fact that the book is a joint work could suggest these topics, but there isn't enough information to definitively assign them.\n"
     ]
    }
   ],
   "source": [
    "print(result[\"answer\"][\"reasoning\"])"
   ]
  },
  {
   "cell_type": "code",
   "execution_count": 16,
   "metadata": {},
   "outputs": [
    {
     "name": "stdout",
     "output_type": "stream",
     "text": [
      "\n",
      "You are an expert annotator tasked with assigning topics to social media posts. The assigned topics should represent the most salient topics discussed by the post.  \n",
      "\n",
      "The available topic types are:\n",
      "- technology\n",
      "- science\n",
      "- academia\n",
      "- research\n",
      "- design\n",
      "- climate\n",
      "- sustainability\n",
      "- software & hardware\n",
      "- philosophy\n",
      "- health\n",
      "- culture\n",
      "- economics\n",
      "- business\n",
      "- politics\n",
      "- news\n",
      "- finance\n",
      "- sports\n",
      "- entertainment & leisure\n",
      "- art\n",
      "- literature\n",
      "- travel\n",
      "\n",
      "A user will pass in a post, and you should think step by step, before selecting a set of topics that best match the post. You must only use the topics in the list!\n",
      "\n",
      "\n",
      "Rules:\n",
      "- Your final answer should be structured as follows:\n",
      "    - Reasoning Steps: (your reasoning steps)\n",
      "    - Candidate Topics: (For potential each topic you choose, explain why you chose it.)\n",
      "    - Final Answer: (a set of final topics, based on the Candidate Topics. The rest of the final keywords must be included in the Candidate Topics list!)\n",
      "\n",
      "\n",
      "# Input post text:\n",
      "Author: ⿻(((E. Glen Weyl/衛谷倫))) 🇺🇸/🇩🇪/🇹🇼 🖖\n",
      "Content: About two years ago, I wrote to @audreyt proposing the idea of a joint book.  Today, we have finalized the text that will be printed and you can read it for free at https://www.plurality.net.  Being ghostwriter to @audreyt has been the greatest honor of my life.  Far too many\n",
      "\n",
      "## Reference Metadata:\n",
      "citoid_url: https://www.plurality.net/\n",
      "url: https://www.plurality.net/\n",
      "item_type: webpage\n",
      "title: Plurality: The Future of Collaborative Technology and Democracy\n",
      "summary: Plurality: The Future of Collaborative Technology and Democracy\n",
      "image: None\n",
      "\n",
      "# Output:\n"
     ]
    }
   ],
   "source": [
    "print(result[\"full_prompt\"])"
   ]
  }
 ],
 "metadata": {
  "kernelspec": {
   "display_name": "twscraping",
   "language": "python",
   "name": "python3"
  },
  "language_info": {
   "codemirror_mode": {
    "name": "ipython",
    "version": 3
   },
   "file_extension": ".py",
   "mimetype": "text/x-python",
   "name": "python",
   "nbconvert_exporter": "python",
   "pygments_lexer": "ipython3",
   "version": "3.11.7"
  }
 },
 "nbformat": 4,
 "nbformat_minor": 2
}
