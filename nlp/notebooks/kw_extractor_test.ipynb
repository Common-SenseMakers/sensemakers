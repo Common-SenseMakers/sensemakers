{
 "cells": [
  {
   "cell_type": "code",
   "execution_count": 1,
   "metadata": {},
   "outputs": [],
   "source": [
    "import sys\n",
    "sys.path.append(\"../\")\n",
    "from pathlib import Path\n",
    "\n",
    "ROOT = Path.cwd().parent\n",
    "\n",
    "from enum import Enum\n",
    "from confection import Config\n",
    "from desci_sense.parsers.multi_stage_parser import MultiStageParser\n",
    "from desci_sense.configs import init_multi_stage_parser_config\n",
    "from desci_sense.schema.post import RefPost\n",
    "from desci_sense.dataloaders import convert_text_to_ref_post, scrape_post\n",
    "from desci_sense.web_extractors.metadata_extractors import MetadataExtractionType, RefMetadata, extract_metadata_by_type"
   ]
  },
  {
   "cell_type": "code",
   "execution_count": 2,
   "metadata": {},
   "outputs": [
    {
     "data": {
      "text/plain": [
       "{'general': {'parser_type': 'multi_stage', 'ref_metadata_method': 'none'},\n",
       " 'keyword_extraction': {'enabled': True,\n",
       "  'template': 'keywords_extraction.j2',\n",
       "  'ref_metadata_method': 'citoid',\n",
       "  'max_keywords': 6,\n",
       "  'model': {'model_name': 'mistralai/mistral-7b-instruct',\n",
       "   'temperature': 0.6000000000000001}},\n",
       " 'model': {'model_name': 'mistralai/mistral-7b-instruct',\n",
       "  'temperature': 0.6000000000000001},\n",
       " 'ontology': {'versions': ['v0'],\n",
       "  'notion_db_id': 'ba31bb4887624222be6ec622650514c9'},\n",
       " 'prompt': {'template_dir': 'desci_sense/prompting/jinja/',\n",
       "  'zero_ref_template_name': 'zero_ref_template.j2',\n",
       "  'single_ref_template_name': 'single_ref_template.j2',\n",
       "  'multi_ref_template_name': 'multi_ref_template.j2'},\n",
       " 'wandb': {'entity': 'common-sense-makers', 'project': 'st-demo-sandbox'}}"
      ]
     },
     "execution_count": 2,
     "metadata": {},
     "output_type": "execute_result"
    }
   ],
   "source": [
    "config_path = ROOT / \"etc/configs/notion_dev.cfg\"\n",
    "config = Config().from_disk(str(config_path))\n",
    "config"
   ]
  },
  {
   "cell_type": "code",
   "execution_count": 3,
   "metadata": {},
   "outputs": [
    {
     "name": "stderr",
     "output_type": "stream",
     "text": [
      "\u001b[32m2024-02-02 16:15:41.319\u001b[0m | \u001b[1mINFO    \u001b[0m | \u001b[36mdesci_sense.parsers.multi_stage_parser\u001b[0m:\u001b[36mset_md_extract_method\u001b[0m:\u001b[36m141\u001b[0m - \u001b[1mSetting metadata extraction method to none...\u001b[0m\n",
      "\u001b[32m2024-02-02 16:15:41.320\u001b[0m | \u001b[1mINFO    \u001b[0m | \u001b[36mdesci_sense.parsers.multi_stage_parser\u001b[0m:\u001b[36m__init__\u001b[0m:\u001b[36m106\u001b[0m - \u001b[1mLoading parser model (type=mistralai/mistral-7b-instruct)...\u001b[0m\n",
      "WARNING! headers is not default parameter.\n",
      "                    headers was transferred to model_kwargs.\n",
      "                    Please confirm that headers is what you intended.\n",
      "\u001b[32m2024-02-02 16:15:41.324\u001b[0m | \u001b[1mINFO    \u001b[0m | \u001b[36mdesci_sense.parsers.multi_stage_parser\u001b[0m:\u001b[36mset_kw_md_extract_method\u001b[0m:\u001b[36m145\u001b[0m - \u001b[1mSetting keywords metadata extraction method to citoid...\u001b[0m\n",
      "\u001b[32m2024-02-02 16:15:41.327\u001b[0m | \u001b[1mINFO    \u001b[0m | \u001b[36mdesci_sense.parsers.multi_stage_parser\u001b[0m:\u001b[36minit_keyword_extraction_chain\u001b[0m:\u001b[36m265\u001b[0m - \u001b[1mLoading keyword model (type=mistralai/mistral-7b-instruct)...\u001b[0m\n",
      "WARNING! headers is not default parameter.\n",
      "                    headers was transferred to model_kwargs.\n",
      "                    Please confirm that headers is what you intended.\n",
      "\u001b[32m2024-02-02 16:15:41.327\u001b[0m | \u001b[1mINFO    \u001b[0m | \u001b[36mdesci_sense.parsers.multi_stage_parser\u001b[0m:\u001b[36m__init__\u001b[0m:\u001b[36m121\u001b[0m - \u001b[1mLoading ontology...\u001b[0m\n"
     ]
    }
   ],
   "source": [
    "\n",
    "parser = MultiStageParser(config)"
   ]
  },
  {
   "cell_type": "code",
   "execution_count": 4,
   "metadata": {},
   "outputs": [],
   "source": [
    "post_url = \"https://twitter.com/jasonhickel/status/1753519824754311466\"\n",
    "# ref_post = scrape_post(post_url)\n",
    "# ref_post.to_json()\n",
    "\n"
   ]
  },
  {
   "cell_type": "code",
   "execution_count": 5,
   "metadata": {},
   "outputs": [],
   "source": [
    "# from desci_sense.web_extractors.metadata_extractors import MetadataExtractionType, RefMetadata, extract_metadata_by_type, extract_all_metadata_by_type"
   ]
  },
  {
   "cell_type": "code",
   "execution_count": 6,
   "metadata": {},
   "outputs": [],
   "source": [
    "# extract_all_metadata_by_type(ref_post.ref_urls, parser.kw_md_extract_method)"
   ]
  },
  {
   "cell_type": "code",
   "execution_count": 7,
   "metadata": {},
   "outputs": [
    {
     "data": {
      "text/plain": [
       "{'post': RefPost(author='Jason Hickel', content=\"This new study finds that US Americans prefer workplace democracy (where workers own shares, are represented on boards, and elect their managers), even while recognizing this requires more responsibility. It's a core socialist policy and it's popular. https://www.cambridge.org/core/journals/american-political-science-review/article/what-do-americans-want-from-private-government-experimental-evidence-demonstrates-that-americans-want-workplace-democracy/D9C1DBB6F95D9EEA35A34ABF016511F4\", url='https://twitter.com/jasonhickel/status/1753519824754311466', created_at=datetime.datetime(2024, 2, 2, 20, 44, 39, tzinfo=datetime.timezone.utc), metadata={'communityNote': None, 'conversationID': '1753519824754311466', 'date': 'Fri Feb 02 20:44:39 +0000 2024', 'date_epoch': 1706906679, 'hashtags': [], 'likes': 21, 'mediaURLs': [], 'media_extended': [], 'possibly_sensitive': False, 'qrtURL': None, 'replies': 0, 'retweets': 7, 'text': \"This new study finds that US Americans prefer workplace democracy (where workers own shares, are represented on boards, and elect their managers), even while recognizing this requires more responsibility. It's a core socialist policy and it's popular. https://www.cambridge.org/core/journals/american-political-science-review/article/what-do-americans-want-from-private-government-experimental-evidence-demonstrates-that-americans-want-workplace-democracy/D9C1DBB6F95D9EEA35A34ABF016511F4\", 'tweetID': '1753519824754311466', 'tweetURL': 'https://twitter.com/jasonhickel/status/1753519824754311466', 'user_name': 'Jason Hickel', 'user_profile_image_url': 'https://pbs.twimg.com/profile_images/877794625876086784/9_C2UNYz_normal.jpg', 'user_screen_name': 'jasonhickel'}, source_network='twitter', ref_urls=['https://www.cambridge.org/core/journals/american-political-science-review/article/what-do-americans-want-from-private-government-experimental-evidence-demonstrates-that-americans-want-workplace-democracy/D9C1DBB6F95D9EEA35A34ABF016511F4']),\n",
       " 'full_prompt': 'You are an expert annotator tasked with assigning keywords to social media posts. The keywords should represent the most salient topics discussed by the post.   The post also includes references to external content. Details about the external references will be provided alongside the input post under \"Reference Metadata\". The keywords should also represent the external references! \\n\\nRules:\\n- You should choose up to 6 keywords, not more!\\n- Keywords should be prefixed with a hashtag, e.g., #AI\\n- Your final answer should be structured as follows:\\n    - Reasoning Steps: (your reasoning steps)\\n    - Candidate Keywords: (For potential each keyword you choose, explain why you chose it.)\\n    - Final Answer: (a set of 6 final keywords, based on the Candidate Keywords. The final keywords must be included in the Candidate Keywords list!)\\n\\n\\n# Input post text:\\nAuthor: Jason Hickel\\nContent: This new study finds that US Americans prefer workplace democracy (where workers own shares, are represented on boards, and elect their managers), even while recognizing this requires more responsibility. It\\'s a core socialist policy and it\\'s popular. https://www.cambridge.org/core/journals/american-political-science-review/article/what-do-americans-want-from-private-government-experimental-evidence-demonstrates-that-americans-want-workplace-democracy/D9C1DBB6F95D9EEA35A34ABF016511F4\\n\\n \\n## Reference Metadata:\\n\\nurl: https://www.cambridge.org/core/journals/american-political-science-review/article/what-do-americans-want-from-private-government-experimental-evidence-demonstrates-that-americans-want-workplace-democracy/D9C1DBB6F95D9EEA35A34ABF016511F4\\nitem_type: journalArticle\\ntitle: What Do Americans Want from (Private) Government? Experimental Evidence Demonstrates that Americans Want Workplace Democracy\\nsummary: A majority of Americans spend a substantial amount of time at work where they have little to no say over many issues—a phenomenon that philosophers have likened to a “private government” that resembles a dictatorship. Is this because Americans are indifferent to or even prefer to work for firms that resemble dictatorships? To answer this question, we field a conjoint experiment on a nationally-representative sample of Americans to isolate public preferences over “corporate regime type.” We find \\n\\n\\n\\n\\n# Output:',\n",
       " 'answer': {'reasoning': '[Reasoning Steps]\\n\\n[System error: failed to extract reasoning steps since the generated output was in an invalid format]\\n\\n[Candidate Tags]\\n\\n[System error: failed to extract candidate tags since the generated output was in an invalid format.]',\n",
       "  'final_answer': '#WorkplaceDemocracy, #Socialism, #ExperimentalStudy, #PrivateGovernment, #CorporateRegimeType, #Dictatorship.',\n",
       "  'valid_keywords': ['ExperimentalStudy,',\n",
       "   'WorkplaceDemocracy,',\n",
       "   'Dictatorship.',\n",
       "   'CorporateRegimeType,',\n",
       "   'Socialism,',\n",
       "   'PrivateGovernment,']}}"
      ]
     },
     "execution_count": 7,
     "metadata": {},
     "output_type": "execute_result"
    }
   ],
   "source": [
    "result = parser.kw_process_post(post_url)\n",
    "result"
   ]
  },
  {
   "cell_type": "code",
   "execution_count": 8,
   "metadata": {},
   "outputs": [
    {
     "name": "stdout",
     "output_type": "stream",
     "text": [
      "You are an expert annotator tasked with assigning keywords to social media posts. The keywords should represent the most salient topics discussed by the post.   The post also includes references to external content. Details about the external references will be provided alongside the input post under \"Reference Metadata\". The keywords should also represent the external references! \n",
      "\n",
      "Rules:\n",
      "- You should choose up to 6 keywords, not more!\n",
      "- Keywords should be prefixed with a hashtag, e.g., #AI\n",
      "- Your final answer should be structured as follows:\n",
      "    - Reasoning Steps: (your reasoning steps)\n",
      "    - Candidate Keywords: (For potential each keyword you choose, explain why you chose it.)\n",
      "    - Final Answer: (a set of 6 final keywords, based on the Candidate Keywords. The final keywords must be included in the Candidate Keywords list!)\n",
      "\n",
      "\n",
      "# Input post text:\n",
      "Author: Jason Hickel\n",
      "Content: This new study finds that US Americans prefer workplace democracy (where workers own shares, are represented on boards, and elect their managers), even while recognizing this requires more responsibility. It's a core socialist policy and it's popular. https://www.cambridge.org/core/journals/american-political-science-review/article/what-do-americans-want-from-private-government-experimental-evidence-demonstrates-that-americans-want-workplace-democracy/D9C1DBB6F95D9EEA35A34ABF016511F4\n",
      "\n",
      " \n",
      "## Reference Metadata:\n",
      "\n",
      "url: https://www.cambridge.org/core/journals/american-political-science-review/article/what-do-americans-want-from-private-government-experimental-evidence-demonstrates-that-americans-want-workplace-democracy/D9C1DBB6F95D9EEA35A34ABF016511F4\n",
      "item_type: journalArticle\n",
      "title: What Do Americans Want from (Private) Government? Experimental Evidence Demonstrates that Americans Want Workplace Democracy\n",
      "summary: A majority of Americans spend a substantial amount of time at work where they have little to no say over many issues—a phenomenon that philosophers have likened to a “private government” that resembles a dictatorship. Is this because Americans are indifferent to or even prefer to work for firms that resemble dictatorships? To answer this question, we field a conjoint experiment on a nationally-representative sample of Americans to isolate public preferences over “corporate regime type.” We find \n",
      "\n",
      "\n",
      "\n",
      "\n",
      "# Output:\n"
     ]
    }
   ],
   "source": [
    "print(result[\"full_prompt\"])"
   ]
  },
  {
   "cell_type": "code",
   "execution_count": 9,
   "metadata": {},
   "outputs": [
    {
     "name": "stdout",
     "output_type": "stream",
     "text": [
      "['ExperimentalStudy,', 'WorkplaceDemocracy,', 'Dictatorship.', 'CorporateRegimeType,', 'Socialism,', 'PrivateGovernment,']\n"
     ]
    }
   ],
   "source": [
    "print(result[\"answer\"][\"valid_keywords\"])"
   ]
  },
  {
   "cell_type": "code",
   "execution_count": null,
   "metadata": {},
   "outputs": [],
   "source": []
  },
  {
   "cell_type": "code",
   "execution_count": 10,
   "metadata": {},
   "outputs": [],
   "source": [
    "text = \"\"\"Our new paper describes that \"The Identity-based Model of Political Belief\" and explains how social identity shapes information processing and contributes to the belief and spread of #misinformation\n",
    "Partisanship involves cognitive and motivational aspects that shape party members' beliefs and actions. This includes whether they seek further evidence, where they seek that evidence, and which sources they trust. \n",
    "Understanding the interplay between social identity and accuracy is crucial in addressing misinformation.\n",
    "To read the full paper:  https://www.sciencedirect.com/science/article/pii/S2352250X23002324\"\"\"\n",
    "ref_post = convert_text_to_ref_post(text)"
   ]
  },
  {
   "cell_type": "code",
   "execution_count": 11,
   "metadata": {},
   "outputs": [
    {
     "data": {
      "text/plain": [
       "{'post': RefPost(author='deafult_author', content='Our new paper describes that \"The Identity-based Model of Political Belief\" and explains how social identity shapes information processing and contributes to the belief and spread of #misinformation\\nPartisanship involves cognitive and motivational aspects that shape party members\\' beliefs and actions. This includes whether they seek further evidence, where they seek that evidence, and which sources they trust. \\nUnderstanding the interplay between social identity and accuracy is crucial in addressing misinformation.\\nTo read the full paper:  https://www.sciencedirect.com/science/article/pii/S2352250X23002324', url='', source_network='default_source', ref_urls=['https://www.sciencedirect.com/science/article/pii/S2352250X23002324']),\n",
       " 'full_prompt': 'You are an expert annotator tasked with assigning keywords to social media posts. The keywords should represent the most salient topics discussed by the post.   The post also includes references to external content. Details about the external references will be provided alongside the input post under \"Reference Metadata\". The keywords should also represent the external references! \\n\\nRules:\\n- You should choose up to 6 keywords, not more!\\n- Keywords should be prefixed with a hashtag, e.g., #AI\\n- Your final answer should be structured as follows:\\n    - Reasoning Steps: (your reasoning steps)\\n    - Candidate Keywords: (For potential each keyword you choose, explain why you chose it.)\\n    - Final Answer: (a set of 6 final keywords, based on the Candidate Keywords. The final keywords must be included in the Candidate Keywords list!)\\n\\n\\n# Input post text:\\nAuthor: deafult_author\\nContent: Our new paper describes that \"The Identity-based Model of Political Belief\" and explains how social identity shapes information processing and contributes to the belief and spread of #misinformation\\nPartisanship involves cognitive and motivational aspects that shape party members\\' beliefs and actions. This includes whether they seek further evidence, where they seek that evidence, and which sources they trust. \\nUnderstanding the interplay between social identity and accuracy is crucial in addressing misinformation.\\nTo read the full paper:  https://www.sciencedirect.com/science/article/pii/S2352250X23002324\\n\\n \\n## Reference Metadata:\\n\\nurl: https://www.sciencedirect.com/science/article/pii/S2352250X23002324\\nitem_type: journalArticle\\ntitle: Updating the identity-based model of belief: From false belief to the spread of misinformation\\nsummary: The spread of misinformation threatens democratic societies, hampering informed decision-making. Partisan identity biases perceptions of reality, promoting false beliefs. The Identity-based Model of Political Belief explains how social identity shapes information processing and contributes to misinformation. According to this model, social identity goals can override accuracy goals, leading to belief alignment with party members rather than facts. We propose an extended version of this model tha\\n\\n\\n\\n\\n# Output:',\n",
       " 'answer': {'reasoning': '[Reasoning Steps]\\n\\n[System error: failed to extract reasoning steps since the generated output was in an invalid format]\\n\\n[Candidate Tags]\\n\\n[System error: failed to extract candidate tags since the generated output was in an invalid format.]',\n",
       "  'final_answer': '1. #IdentityBasedModelOfPoliticalBelief\\n2. #Misinformation\\n3. #Partisanship\\n4. #SocialIdentity\\n5. #Accuracy\\n6. #FalseBeliefs',\n",
       "  'valid_keywords': ['SocialIdentity',\n",
       "   'Misinformation',\n",
       "   'Partisanship',\n",
       "   'FalseBeliefs',\n",
       "   'IdentityBasedModelOfPoliticalBelief',\n",
       "   'Accuracy']}}"
      ]
     },
     "execution_count": 11,
     "metadata": {},
     "output_type": "execute_result"
    }
   ],
   "source": [
    "result = parser.extract_post_topics_w_metadata(ref_post)\n",
    "result"
   ]
  },
  {
   "cell_type": "code",
   "execution_count": 12,
   "metadata": {},
   "outputs": [],
   "source": [
    "text = \"\"\"Check out our new paper on identity politics!  https://www.sciencedirect.com/science/article/pii/S2352250X23002324\"\"\"\n",
    "ref_post = convert_text_to_ref_post(text)"
   ]
  },
  {
   "cell_type": "code",
   "execution_count": 13,
   "metadata": {},
   "outputs": [
    {
     "data": {
      "text/plain": [
       "{'post': RefPost(author='deafult_author', content='Check out our new paper on identity politics!  https://www.sciencedirect.com/science/article/pii/S2352250X23002324', url='', source_network='default_source', ref_urls=['https://www.sciencedirect.com/science/article/pii/S2352250X23002324']),\n",
       " 'full_prompt': 'You are an expert annotator tasked with assigning keywords to social media posts. The keywords should represent the most salient topics discussed by the post.   The post also includes references to external content. Details about the external references will be provided alongside the input post under \"Reference Metadata\". The keywords should also represent the external references! \\n\\nRules:\\n- You should choose up to 6 keywords, not more!\\n- Keywords should be prefixed with a hashtag, e.g., #AI\\n- Your final answer should be structured as follows:\\n    - Reasoning Steps: (your reasoning steps)\\n    - Candidate Keywords: (For potential each keyword you choose, explain why you chose it.)\\n    - Final Answer: (a set of 6 final keywords, based on the Candidate Keywords. The final keywords must be included in the Candidate Keywords list!)\\n\\n\\n# Input post text:\\nAuthor: deafult_author\\nContent: Check out our new paper on identity politics!  https://www.sciencedirect.com/science/article/pii/S2352250X23002324\\n\\n \\n## Reference Metadata:\\n\\nurl: https://www.sciencedirect.com/science/article/pii/S2352250X23002324\\nitem_type: journalArticle\\ntitle: Updating the identity-based model of belief: From false belief to the spread of misinformation\\nsummary: The spread of misinformation threatens democratic societies, hampering informed decision-making. Partisan identity biases perceptions of reality, promoting false beliefs. The Identity-based Model of Political Belief explains how social identity shapes information processing and contributes to misinformation. According to this model, social identity goals can override accuracy goals, leading to belief alignment with party members rather than facts. We propose an extended version of this model tha\\n\\n\\n\\n\\n# Output:',\n",
       " 'answer': {'reasoning': '[Reasoning Steps]\\n\\n[System error: failed to extract reasoning steps since the generated output was in an invalid format]\\n\\n[Candidate Tags]\\n\\n[System error: failed to extract candidate tags since the generated output was in an invalid format.]',\n",
       "  'final_answer': '1. #IdentityPolitics\\n2. #Misinformation\\n3. #DemocraticSocieties\\n4. #SocialIdentity\\n5. #AccuracyGoals\\n6. #PartisanIdentity',\n",
       "  'valid_keywords': ['SocialIdentity',\n",
       "   'Misinformation',\n",
       "   'PartisanIdentity',\n",
       "   'DemocraticSocieties',\n",
       "   'IdentityPolitics',\n",
       "   'AccuracyGoals']}}"
      ]
     },
     "execution_count": 13,
     "metadata": {},
     "output_type": "execute_result"
    }
   ],
   "source": [
    "result = parser.extract_post_topics_w_metadata(ref_post)\n",
    "result"
   ]
  },
  {
   "cell_type": "code",
   "execution_count": 17,
   "metadata": {},
   "outputs": [
    {
     "name": "stdout",
     "output_type": "stream",
     "text": [
      "post: Check out our new paper on identity politics!  https://www.sciencedirect.com/science/article/pii/S2352250X23002324\n",
      "\n",
      "Extracted Keywords: ['SocialIdentity', 'Misinformation', 'PartisanIdentity', 'DemocraticSocieties', 'IdentityPolitics', 'AccuracyGoals']\n"
     ]
    }
   ],
   "source": [
    "print(f\"post: {result['post'].content}\\n\\nExtracted Keywords: {result['answer']['valid_keywords']}\")"
   ]
  }
 ],
 "metadata": {
  "kernelspec": {
   "display_name": "twscraping",
   "language": "python",
   "name": "python3"
  },
  "language_info": {
   "codemirror_mode": {
    "name": "ipython",
    "version": 3
   },
   "file_extension": ".py",
   "mimetype": "text/x-python",
   "name": "python",
   "nbconvert_exporter": "python",
   "pygments_lexer": "ipython3",
   "version": "3.11.7"
  }
 },
 "nbformat": 4,
 "nbformat_minor": 2
}
