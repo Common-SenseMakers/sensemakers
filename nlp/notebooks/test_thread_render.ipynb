{
 "cells": [
  {
   "cell_type": "code",
   "execution_count": 1,
   "metadata": {},
   "outputs": [],
   "source": [
    "import nest_asyncio\n",
    "nest_asyncio.apply()\n",
    "from pathlib import Path\n",
    "\n",
    "import sys\n",
    "sys.path.append(\"../\")\n",
    "from typing import Optional, Union, List\n",
    "import re\n",
    "import requests\n",
    "from datetime import datetime\n",
    "\n",
    "from desci_sense.shared_functions.dataloaders import (\n",
    "    scrape_post,\n",
    "    convert_text_to_ref_post,\n",
    ")\n",
    "from desci_sense.shared_functions.configs import MetadataExtractionType\n",
    "from desci_sense.shared_functions.web_extractors.metadata_extractors import extract_all_metadata_to_dict\n",
    "from desci_sense.shared_functions.preprocessing import convert_thread_interface_to_ref_post\n",
    "from desci_sense.shared_functions.dataloaders.twitter.twitter_utils import convert_vxtweet_to_quote_ref_post, convert_vxtweet_to_ref_post\n",
    "from desci_sense.shared_functions.schema.post import QuoteRefPost, ThreadRefPost, RefPost\n",
    "from desci_sense.shared_functions.interface import ThreadInterface\n",
    "from desci_sense.shared_functions.utils import remove_dups_ordered, find_last_occurence_of_any, extract_and_expand_urls, extract_external_urls_from_status_tweet\n",
    "from desci_sense.shared_functions.prompting.post_renderers.quote_ref_post_renderer import render_quote_post_content\n",
    "from desci_sense.shared_functions.prompting.post_renderers.thread_ref_post_renderer import ThreadRefPostRenderer"
   ]
  },
  {
   "cell_type": "code",
   "execution_count": 2,
   "metadata": {},
   "outputs": [],
   "source": [
    "thread_urls = [\"https://x.com/EikoFried/status/1798166869574398271\",\n",
    "               \"https://x.com/EikoFried/status/1798167612175913332\",\n",
    "               \"https://x.com/EikoFried/status/1798170515817013679\",\n",
    "               \"https://x.com/EikoFried/status/1798170610314715569\",\n",
    "               \"https://x.com/EikoFried/status/1798171316375445681\"]"
   ]
  },
  {
   "cell_type": "code",
   "execution_count": 3,
   "metadata": {},
   "outputs": [],
   "source": [
    "thread_posts = [scrape_post(url) for url in thread_urls]"
   ]
  },
  {
   "cell_type": "code",
   "execution_count": 4,
   "metadata": {},
   "outputs": [],
   "source": [
    "all_ref_urls = []\n",
    "for post in thread_posts:\n",
    "    all_ref_urls += post.md_ref_urls()\n"
   ]
  },
  {
   "cell_type": "code",
   "execution_count": 5,
   "metadata": {},
   "outputs": [],
   "source": [
    "def thread_from_posts(posts: List[QuoteRefPost]):\n",
    "    assert len(posts) > 0\n",
    "    author = posts[0].author\n",
    "    content = \"\\n---\\n\".join([p.content for p in posts])\n",
    "    thread_post = ThreadRefPost(author=author,\n",
    "                  content=content,\n",
    "                  url=posts[0].url,\n",
    "                  source_network=\"twitter\",\n",
    "                  ref_urls=all_ref_urls,\n",
    "                  posts=thread_posts)\n",
    "    return thread_post"
   ]
  },
  {
   "cell_type": "code",
   "execution_count": 6,
   "metadata": {},
   "outputs": [],
   "source": [
    "thread_post = thread_from_posts(thread_posts)"
   ]
  },
  {
   "cell_type": "code",
   "execution_count": 7,
   "metadata": {},
   "outputs": [],
   "source": [
    "ordered_refs = thread_post.md_ref_urls()"
   ]
  },
  {
   "cell_type": "code",
   "execution_count": 8,
   "metadata": {},
   "outputs": [
    {
     "name": "stdout",
     "output_type": "stream",
     "text": [
      "After careful consideration, the FDA advisory comission voted today 9:2 that MDMA has *not* been shown to be effective for treating PTSD, given massive concerns around validity threats in this literature. They also voted 10:1 that MDMA has *not* shown to be safe. <quoted ref_1>@eturnermd1 #MDMAadcomm VOTE 1/2: Do the available data show that the drug is effective in patients with posttraumatic\n",
      "stress disorder?\n",
      "2-Yes\n",
      "9-No\n",
      "0-Abstain https://twitter.com/FDAadcomms/status/1798104612635070611/photo/1</quote>\n",
      "---\n",
      "📄Many mentioned reasons overlap with those we summarized recently in our review paper: \n",
      "<ref_2>\n",
      "\n",
      "📺 I also summarize them for a lay audience in this YouTube video: \n",
      "<ref_3>\n",
      "---\n",
      "Some pretty wild things in the meeting honestly, thanks to @eturnermd1 for live tweeting.\n",
      "\n",
      "Eg folks who were paid by the sponsor (big pharma) to speak on behalf of the product to be marketed did *not* have to declare they were being paid.\n",
      "---\n",
      "@eturnermd1 Here is the full thread: <quoted ref_4>Next up on the AdComm agenda, when they come back from lunch at the top of hour, is the Open Public Hearing. For reasons mentioned below, don't be surprised if the \"public\" consists more of advocates for approval, and we hear from relatively few with reservations.</quote>\n",
      "---\n",
      "@eturnermd1 Here the second vote on benefits and risks: <quoted ref_5>@eturnermd1 #MDMAadcomm VOTE 2/2: Do the benefits of midomafetamine with FDA’s proposed risk evaluation and mitigation strategy (REMS) outweigh its risks for the treatment of patients with PTSD?\n",
      "1-Yes\n",
      "10-No\n",
      "0-Abstain https://twitter.com/FDAadcomms/status/1798107142219796794/photo/1</quote>\n"
     ]
    }
   ],
   "source": [
    "rendered = []\n",
    "for quote_post in thread_posts:\n",
    "    rendered.append(render_quote_post_content(quote_post, ordered_refs=ordered_refs))\n",
    "print(\"\\n---\\n\".join(rendered))"
   ]
  },
  {
   "cell_type": "code",
   "execution_count": 9,
   "metadata": {},
   "outputs": [
    {
     "data": {
      "text/plain": [
       "['https://x.com/FDAadcomms/status/1798104612635070611',\n",
       " 'https://journals.sagepub.com/doi/10.1177/20451253231198466',\n",
       " 'https://www.youtube.com/watch?feature=youtu.be&si=kjMtNR1Hwe7NZ8as&v=WknlkmJee4E',\n",
       " 'https://x.com/eturnermd1/status/1798046087737180395',\n",
       " 'https://x.com/FDAadcomms/status/1798107142219796794']"
      ]
     },
     "execution_count": 9,
     "metadata": {},
     "output_type": "execute_result"
    }
   ],
   "source": [
    "thread_post.md_ref_urls()"
   ]
  },
  {
   "cell_type": "code",
   "execution_count": 10,
   "metadata": {},
   "outputs": [
    {
     "name": "stderr",
     "output_type": "stream",
     "text": [
      "\u001b[32m2024-06-18 18:48:37.776\u001b[0m | \u001b[33m\u001b[1mWARNING \u001b[0m | \u001b[36mdesci_sense.shared_functions.web_extractors.citoid\u001b[0m:\u001b[36mbefore_retry\u001b[0m:\u001b[36m84\u001b[0m - \u001b[33m\u001b[1mRetry attempt 1\u001b[0m\n",
      "\u001b[32m2024-06-18 18:48:37.777\u001b[0m | \u001b[34m\u001b[1mDEBUG   \u001b[0m | \u001b[36mdesci_sense.shared_functions.web_extractors.citoid\u001b[0m:\u001b[36mfetch_citation_async_retry\u001b[0m:\u001b[36m104\u001b[0m - \u001b[34m\u001b[1mskipping citoid for https://x.com/FDAadcomms/status/1798104612635070611\u001b[0m\n",
      "\u001b[32m2024-06-18 18:48:37.777\u001b[0m | \u001b[33m\u001b[1mWARNING \u001b[0m | \u001b[36mdesci_sense.shared_functions.web_extractors.citoid\u001b[0m:\u001b[36mbefore_retry\u001b[0m:\u001b[36m84\u001b[0m - \u001b[33m\u001b[1mRetry attempt 1\u001b[0m\n",
      "\u001b[32m2024-06-18 18:48:37.777\u001b[0m | \u001b[34m\u001b[1mDEBUG   \u001b[0m | \u001b[36mdesci_sense.shared_functions.web_extractors.citoid\u001b[0m:\u001b[36mfetch_citation_async_retry\u001b[0m:\u001b[36m111\u001b[0m - \u001b[34m\u001b[1mtarget_url=https://journals.sagepub.com/doi/10.1177/20451253231198466\u001b[0m\n",
      "\u001b[32m2024-06-18 18:48:37.796\u001b[0m | \u001b[33m\u001b[1mWARNING \u001b[0m | \u001b[36mdesci_sense.shared_functions.web_extractors.citoid\u001b[0m:\u001b[36mbefore_retry\u001b[0m:\u001b[36m84\u001b[0m - \u001b[33m\u001b[1mRetry attempt 1\u001b[0m\n",
      "\u001b[32m2024-06-18 18:48:37.797\u001b[0m | \u001b[34m\u001b[1mDEBUG   \u001b[0m | \u001b[36mdesci_sense.shared_functions.web_extractors.citoid\u001b[0m:\u001b[36mfetch_citation_async_retry\u001b[0m:\u001b[36m111\u001b[0m - \u001b[34m\u001b[1mtarget_url=https://www.youtube.com/watch?feature=youtu.be&si=kjMtNR1Hwe7NZ8as&v=WknlkmJee4E\u001b[0m\n",
      "\u001b[32m2024-06-18 18:48:37.797\u001b[0m | \u001b[33m\u001b[1mWARNING \u001b[0m | \u001b[36mdesci_sense.shared_functions.web_extractors.citoid\u001b[0m:\u001b[36mbefore_retry\u001b[0m:\u001b[36m84\u001b[0m - \u001b[33m\u001b[1mRetry attempt 1\u001b[0m\n",
      "\u001b[32m2024-06-18 18:48:37.797\u001b[0m | \u001b[34m\u001b[1mDEBUG   \u001b[0m | \u001b[36mdesci_sense.shared_functions.web_extractors.citoid\u001b[0m:\u001b[36mfetch_citation_async_retry\u001b[0m:\u001b[36m104\u001b[0m - \u001b[34m\u001b[1mskipping citoid for https://x.com/eturnermd1/status/1798046087737180395\u001b[0m\n",
      "\u001b[32m2024-06-18 18:48:37.798\u001b[0m | \u001b[33m\u001b[1mWARNING \u001b[0m | \u001b[36mdesci_sense.shared_functions.web_extractors.citoid\u001b[0m:\u001b[36mbefore_retry\u001b[0m:\u001b[36m84\u001b[0m - \u001b[33m\u001b[1mRetry attempt 1\u001b[0m\n",
      "\u001b[32m2024-06-18 18:48:37.798\u001b[0m | \u001b[34m\u001b[1mDEBUG   \u001b[0m | \u001b[36mdesci_sense.shared_functions.web_extractors.citoid\u001b[0m:\u001b[36mfetch_citation_async_retry\u001b[0m:\u001b[36m104\u001b[0m - \u001b[34m\u001b[1mskipping citoid for https://x.com/FDAadcomms/status/1798107142219796794\u001b[0m\n"
     ]
    }
   ],
   "source": [
    "md_dict = extract_all_metadata_to_dict(thread_post.md_ref_urls(), md_type=MetadataExtractionType.CITOID, max_summary_length=500)"
   ]
  },
  {
   "cell_type": "code",
   "execution_count": 11,
   "metadata": {},
   "outputs": [],
   "source": [
    "md_list = list(md_dict.values())"
   ]
  },
  {
   "cell_type": "code",
   "execution_count": 12,
   "metadata": {},
   "outputs": [],
   "source": [
    "thread_renderer = ThreadRefPostRenderer()"
   ]
  },
  {
   "cell_type": "code",
   "execution_count": 14,
   "metadata": {},
   "outputs": [
    {
     "name": "stdout",
     "output_type": "stream",
     "text": [
      "\n",
      "- Author: Eiko Fried\n",
      "- Content: After careful consideration, the FDA advisory comission voted today 9:2 that MDMA has *not* been shown to be effective for treating PTSD, given massive concerns around validity threats in this literature. They also voted 10:1 that MDMA has *not* shown to be safe. <quoted ref_1>@eturnermd1 #MDMAadcomm VOTE 1/2: Do the available data show that the drug is effective in patients with posttraumatic\n",
      "stress disorder?\n",
      "2-Yes\n",
      "9-No\n",
      "0-Abstain https://twitter.com/FDAadcomms/status/1798104612635070611/photo/1</quote>\n",
      "---\n",
      "📄Many mentioned reasons overlap with those we summarized recently in our review paper: \n",
      "<ref_2>\n",
      "\n",
      "📺 I also summarize them for a lay audience in this YouTube video: \n",
      "<ref_3>\n",
      "---\n",
      "Some pretty wild things in the meeting honestly, thanks to @eturnermd1 for live tweeting.\n",
      "\n",
      "Eg folks who were paid by the sponsor (big pharma) to speak on behalf of the product to be marketed did *not* have to declare they were being paid.\n",
      "---\n",
      "@eturnermd1 Here is the full thread: <quoted ref_4>Next up on the AdComm agenda, when they come back from lunch at the top of hour, is the Open Public Hearing. For reasons mentioned below, don't be surprised if the \"public\" consists more of advocates for approval, and we hear from relatively few with reservations.</quote>\n",
      "---\n",
      "@eturnermd1 Here the second vote on benefits and risks: <quoted ref_5>@eturnermd1 #MDMAadcomm VOTE 2/2: Do the benefits of midomafetamine with FDA’s proposed risk evaluation and mitigation strategy (REMS) outweigh its risks for the treatment of patients with PTSD?\n",
      "1-Yes\n",
      "10-No\n",
      "0-Abstain https://twitter.com/FDAadcomms/status/1798107142219796794/photo/1</quote>\n",
      "- References: \n",
      "<ref_1> \n",
      "url: https://x.com/FDAadcomms/status/1798104612635070611\n",
      "item_type: forumPost\n",
      "title: Twitter post\n",
      "summary: None\n",
      "==========\n",
      "<ref_2> \n",
      "url: https://journals.sagepub.com/doi/10.1177/20451253231198466\n",
      "item_type: journalArticle\n",
      "title: History repeating: guidelines to address common problems in psychedelic science\n",
      "summary: None\n",
      "==========\n",
      "<ref_3> \n",
      "url: https://www.youtube.com/watch?feature=youtu.be&si=kjMtNR1Hwe7NZ8as&v=WknlkmJee4E\n",
      "item_type: videoRecording\n",
      "title: Psychedelic treatments for mental health problems: promises and pitfalls\n",
      "summary: In this lecture, I summarize promises and pitfalls of psychedelic treatments for mental health problems. No scientific background knowledge is required to vi...\n",
      "==========\n",
      "<ref_4> \n",
      "url: https://x.com/eturnermd1/status/1798046087737180395\n",
      "item_type: forumPost\n",
      "title: Twitter post\n",
      "summary: None\n",
      "==========\n",
      "<ref_5> \n",
      "url: https://x.com/FDAadcomms/status/1798107142219796794\n",
      "item_type: forumPost\n",
      "title: Twitter post\n",
      "summary: None\n",
      "==========\n",
      "\n"
     ]
    }
   ],
   "source": [
    "rendered = thread_renderer.render(thread_post, md_list)\n",
    "print(rendered)"
   ]
  }
 ],
 "metadata": {
  "kernelspec": {
   "display_name": "asensebot",
   "language": "python",
   "name": "python3"
  },
  "language_info": {
   "codemirror_mode": {
    "name": "ipython",
    "version": 3
   },
   "file_extension": ".py",
   "mimetype": "text/x-python",
   "name": "python",
   "nbconvert_exporter": "python",
   "pygments_lexer": "ipython3",
   "version": "3.11.7"
  }
 },
 "nbformat": 4,
 "nbformat_minor": 2
}
