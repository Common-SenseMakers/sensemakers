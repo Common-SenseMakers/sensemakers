{
 "cells": [
  {
   "cell_type": "code",
   "execution_count": 1,
   "metadata": {},
   "outputs": [],
   "source": [
    "import nest_asyncio\n",
    "nest_asyncio.apply()\n",
    "\n",
    "import sys\n",
    "sys.path.append(\"../\")\n",
    "\n",
    "import asyncio\n",
    "import time\n",
    "from typing import List, Optional, Dict\n",
    "from pydantic import (\n",
    "    Field,\n",
    "    BaseModel,\n",
    "    validator,\n",
    "    ConfigDict,\n",
    "    field_validator,\n",
    "    field_serializer,\n",
    ")\n",
    "from langchain_core.runnables import RunnableParallel\n",
    "\n",
    "from desci_sense.configs import default_init_parser_config\n",
    "from desci_sense.shared_functions.dataloaders import scrape_post\n",
    "from desci_sense.shared_functions.schema.post import RefPost\n",
    "from desci_sense.shared_functions.parsers.firebase_api_parser import FirebaseAPIParser, PromptCase\n",
    "from desci_sense.shared_functions.parsers.multi_chain_parser import MultiChainParser\n",
    "from desci_sense.shared_functions.web_extractors.metadata_extractors import (\n",
    "    RefMetadata,\n",
    ")\n",
    "from langchain_core.runnables import RunnableParallel"
   ]
  },
  {
   "cell_type": "code",
   "execution_count": 2,
   "metadata": {},
   "outputs": [],
   "source": [
    "config = default_init_parser_config(semantics_model=\"mistralai/mistral-7b-instruct\",\n",
    "                                    kw_model=\"mistralai/mistral-7b-instruct\")\n",
    "config[\"general\"][\"ref_metadata_method\"] = \"citoid\""
   ]
  },
  {
   "cell_type": "code",
   "execution_count": 3,
   "metadata": {},
   "outputs": [
    {
     "name": "stderr",
     "output_type": "stream",
     "text": [
      "\u001b[32m2024-04-02 13:05:05.127\u001b[0m | \u001b[1mINFO    \u001b[0m | \u001b[36mdesci_sense.shared_functions.parsers.firebase_api_parser\u001b[0m:\u001b[36mset_md_extract_method\u001b[0m:\u001b[36m164\u001b[0m - \u001b[1mSetting metadata extraction method to citoid...\u001b[0m\n",
      "\u001b[32m2024-04-02 13:05:05.128\u001b[0m | \u001b[1mINFO    \u001b[0m | \u001b[36mdesci_sense.shared_functions.parsers.firebase_api_parser\u001b[0m:\u001b[36m__init__\u001b[0m:\u001b[36m120\u001b[0m - \u001b[1mLoading parser model (type=mistralai/mistral-7b-instruct)...\u001b[0m\n",
      "/Users/ronentamari/anaconda3/envs/asensebot/lib/python3.11/site-packages/langchain_core/_api/deprecation.py:117: LangChainDeprecationWarning: The class `langchain_community.chat_models.openai.ChatOpenAI` was deprecated in langchain-community 0.0.10 and will be removed in 0.2.0. An updated version of the class exists in the langchain-openai package and should be used instead. To use it run `pip install -U langchain-openai` and import as `from langchain_openai import ChatOpenAI`.\n",
      "  warn_deprecated(\n",
      "\u001b[32m2024-04-02 13:05:05.395\u001b[0m | \u001b[1mINFO    \u001b[0m | \u001b[36mdesci_sense.shared_functions.parsers.firebase_api_parser\u001b[0m:\u001b[36mset_kw_md_extract_method\u001b[0m:\u001b[36m168\u001b[0m - \u001b[1mSetting keywords metadata extraction method to citoid...\u001b[0m\n",
      "\u001b[32m2024-04-02 13:05:05.396\u001b[0m | \u001b[1mINFO    \u001b[0m | \u001b[36mdesci_sense.shared_functions.parsers.firebase_api_parser\u001b[0m:\u001b[36minit_keyword_extraction_chain\u001b[0m:\u001b[36m514\u001b[0m - \u001b[1mLoading keyword model (type=mistralai/mistral-7b-instruct)...\u001b[0m\n",
      "\u001b[32m2024-04-02 13:05:05.422\u001b[0m | \u001b[1mINFO    \u001b[0m | \u001b[36mdesci_sense.shared_functions.parsers.firebase_api_parser\u001b[0m:\u001b[36m__init__\u001b[0m:\u001b[36m137\u001b[0m - \u001b[1mLoading ontology...\u001b[0m\n",
      "\u001b[32m2024-04-02 13:05:05.426\u001b[0m | \u001b[1mINFO    \u001b[0m | \u001b[36mdesci_sense.shared_functions.parsers.firebase_api_parser\u001b[0m:\u001b[36m__init__\u001b[0m:\u001b[36m147\u001b[0m - \u001b[1mInitializing topics chain...\u001b[0m\n"
     ]
    }
   ],
   "source": [
    "parser = FirebaseAPIParser(config=config)"
   ]
  },
  {
   "cell_type": "code",
   "execution_count": 5,
   "metadata": {},
   "outputs": [],
   "source": [
    "chain_dict = {\n",
    "    \"kw_1\": parser.kw_extraction[\"chain\"],\n",
    "    \"kw_2\": parser.kw_extraction[\"chain\"],\n",
    "}\n"
   ]
  },
  {
   "cell_type": "code",
   "execution_count": 10,
   "metadata": {},
   "outputs": [],
   "source": [
    "kw_input = {\"kw_input\": \"This post is about crypto, web3 and AI.\"}"
   ]
  },
  {
   "cell_type": "code",
   "execution_count": 8,
   "metadata": {},
   "outputs": [],
   "source": [
    "parallel_chain = RunnableParallel(**chain_dict)"
   ]
  },
  {
   "cell_type": "code",
   "execution_count": 13,
   "metadata": {},
   "outputs": [],
   "source": [
    "res = parallel_chain.invoke(kw_input)"
   ]
  },
  {
   "cell_type": "code",
   "execution_count": 14,
   "metadata": {},
   "outputs": [
    {
     "data": {
      "text/plain": [
       "{'kw_1': {'reasoning': '[Reasoning Steps]\\n\\n[System error: failed to extract reasoning steps since the generated output was in an invalid format]\\n\\n[Candidate Keywords]\\n\\n[System error: failed to extract candidate keywords since the generated output was in an invalid format.]',\n",
       "  'final_answer': '<error>',\n",
       "  'valid_keywords': [],\n",
       "  'academic_kw': 'not-detected',\n",
       "  'raw_text': \"As a topic of discussion, it's interesting to consider the intersection of cryptocurrency, Web3, and artificial intelligence. Cryptocurrency is a decentralized digital currency that uses cryptography for security and is distributed through a network of computers. Web3, on the other hand, is the next evolution of the internet, which is built on decentralized technologies like blockchain and smart contracts. And finally, AI is the development of computer systems that can perform tasks that would normally require human intelligence, such as visual perception, speech recognition, decision-making, and language translation.\\n\\nOne potential area of overlap is the use of blockchain technology in AI. For example, AI models can be trained on decentralized data sources stored on blockchain networks, allowing for more transparent and secure data sharing. Additionally, AI models can be deployed on decentralized computing platforms, which can provide more privacy and security for sensitive data.\\n\\nAnother area of overlap is the use of cryptocurrency in AI. For example, AI models can be trained on cryptocurrency data and used to make predictions about market trends. Additionally, AI can be used to optimize the use of cryptocurrency, such as by predicting market fluctuations and providing trading signals.\\n\\nOverall, the intersection of cryptocurrency, Web3, and AI is an exciting and rapidly evolving field, with many potential applications and opportunities for innovation.\"},\n",
       " 'kw_2': {'reasoning': '[Reasoning Steps]\\n\\n[System error: failed to extract reasoning steps since the generated output was in an invalid format]\\n\\n[Candidate Keywords]\\n\\n[System error: failed to extract candidate keywords since the generated output was in an invalid format.]',\n",
       "  'final_answer': '<error>',\n",
       "  'valid_keywords': [],\n",
       "  'academic_kw': 'not-detected',\n",
       "  'raw_text': \"It's great to see that you are interested in these topics. Cryptocurrency, web3, and AI are all areas that are rapidly evolving and have the potential to significantly impact our society in the near future.\\n\\nCryptocurrency, in particular, has gained a lot of attention in recent years due to its potential for decentralized finance and the ability to transact directly with others without the need for intermediaries. However, it's important to note that the cryptocurrency market is also highly volatile and there are many risks involved.\\n\\nWeb3 technology, on the other hand, is focused on creating a decentralized internet that is more secure, transparent, and democratic. This technology allows for the creation of decentralized applications (dApps) that are not controlled by a single entity or organization.\\n\\nAI, meanwhile, is rapidly advancing and has the potential to revolutionize many industries, from healthcare to finance to transportation. However, it's important to carefully consider the ethical implications of AI and ensure that it is developed and used in a responsible and ethical manner.\\n\\nOverall, these three topics are closely interrelated and have the potential to significantly impact our society in the coming years. It's important to stay informed about these developments and to consider the potential risks and benefits associated with them.\"}}"
      ]
     },
     "execution_count": 14,
     "metadata": {},
     "output_type": "execute_result"
    }
   ],
   "source": [
    "res"
   ]
  }
 ],
 "metadata": {
  "kernelspec": {
   "display_name": "asensebot",
   "language": "python",
   "name": "python3"
  },
  "language_info": {
   "codemirror_mode": {
    "name": "ipython",
    "version": 3
   },
   "file_extension": ".py",
   "mimetype": "text/x-python",
   "name": "python",
   "nbconvert_exporter": "python",
   "pygments_lexer": "ipython3",
   "version": "3.11.7"
  }
 },
 "nbformat": 4,
 "nbformat_minor": 2
}
