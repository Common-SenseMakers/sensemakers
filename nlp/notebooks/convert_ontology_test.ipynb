{
 "cells": [
  {
   "cell_type": "code",
   "execution_count": 11,
   "metadata": {},
   "outputs": [],
   "source": [
    "import pandas as pd\n",
    "import json\n",
    "\n",
    "def convert_csv_to_json(csv_file_path, json_file_path):\n",
    "    # Read the CSV file\n",
    "    df = pd.read_csv(csv_file_path)\n",
    "\n",
    "    # Convert the dataframe to a dictionary in the specified format\n",
    "    json_format = {row['Name']: {\n",
    "                        \"prompt\": row['prompt'] if pd.notna(row['prompt']) else \"\",\n",
    "                        \"description\": row['description'] if pd.notna(row['description']) else \"\",\n",
    "                        \"display_name\": row['display_name'] if pd.notna(row['display_name']) else \"\",\n",
    "                        \"label\": row['label'] if pd.notna(row['label']) else \"\",\n",
    "                        \"URI\": row['URI'] if pd.notna(row['URI']) else \"\",\n",
    "                    } for index, row in df.iterrows()}\n",
    "\n",
    "    # Convert the dictionary to JSON format\n",
    "    json_data = json.dumps(json_format, indent=4, ensure_ascii=False)\n",
    "\n",
    "    # Save the JSON data to a file\n",
    "    with open(json_file_path, 'w') as file:\n",
    "        file.write(json_data)\n",
    "\n",
    "    return df"
   ]
  },
  {
   "cell_type": "code",
   "execution_count": 12,
   "metadata": {},
   "outputs": [],
   "source": [
    "csv_file = \"../etc/data/ontology_jan_18_2024.csv\"\n",
    "json_file = \"../etc/data/ontology_jan_18_2024.json\""
   ]
  },
  {
   "cell_type": "code",
   "execution_count": 13,
   "metadata": {},
   "outputs": [],
   "source": [
    "convert_csv_to_json(csv_file, json_file)"
   ]
  }
 ],
 "metadata": {
  "kernelspec": {
   "display_name": "twscraping",
   "language": "python",
   "name": "python3"
  },
  "language_info": {
   "codemirror_mode": {
    "name": "ipython",
    "version": 3
   },
   "file_extension": ".py",
   "mimetype": "text/x-python",
   "name": "python",
   "nbconvert_exporter": "python",
   "pygments_lexer": "ipython3",
   "version": "3.11.5"
  }
 },
 "nbformat": 4,
 "nbformat_minor": 2
}
