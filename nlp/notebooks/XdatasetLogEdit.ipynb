{
 "cells": [
  {
   "cell_type": "code",
   "execution_count": 1,
   "metadata": {},
   "outputs": [
    {
     "name": "stderr",
     "output_type": "stream",
     "text": [
      "Failed to detect the name of this notebook, you can set it manually with the WANDB_NOTEBOOK_NAME environment variable to enable code saving.\n",
      "\u001b[34m\u001b[1mwandb\u001b[0m: Currently logged in as: \u001b[33mshahar-r-oriel\u001b[0m (\u001b[33mcommon-sense-makers\u001b[0m). Use \u001b[1m`wandb login --relogin`\u001b[0m to force relogin\n"
     ]
    },
    {
     "data": {
      "text/plain": [
       "True"
      ]
     },
     "execution_count": 1,
     "metadata": {},
     "output_type": "execute_result"
    }
   ],
   "source": [
    "import wandb\n",
    "import pandas as pd\n",
    "wandb.login()"
   ]
  },
  {
   "cell_type": "code",
   "execution_count": 1,
   "metadata": {},
   "outputs": [],
   "source": [
    "import sys\n",
    "sys.path.append(\"../\")\n",
    "\n",
    "from desci_sense.shared_functions.init import init_multi_chain_parser_config\n",
    "from desci_sense.shared_functions.web_extractors.citoid import fetch_citation\n",
    "from desci_sense.shared_functions.parsers.multi_chain_parser import MultiChainParser\n",
    "from desci_sense.evaluation.utils import get_dataset\n",
    "from desci_sense.shared_functions.dataloaders import (\n",
    "    scrape_post,\n",
    "    convert_text_to_ref_post,\n",
    ")"
   ]
  },
  {
   "cell_type": "code",
   "execution_count": 12,
   "metadata": {},
   "outputs": [
    {
     "name": "stdout",
     "output_type": "stream",
     "text": [
      "                      id                created_at  account_id  username  \\\n",
      "0    1780618156832109056 2024-04-17 15:23:45+00:00    14349894  mbauwens   \n",
      "1    1780617597089669120 2024-04-17 15:21:32+00:00    14349894  mbauwens   \n",
      "2    1780617135049322496 2024-04-17 15:19:41+00:00    14349894  mbauwens   \n",
      "3    1780616454812905984 2024-04-17 15:16:59+00:00    14349894  mbauwens   \n",
      "4    1780608301534789632 2024-04-17 14:44:35+00:00    14349894  mbauwens   \n",
      "..                   ...                       ...         ...       ...   \n",
      "705  1778714568895729920 2024-04-12 09:19:34+00:00    17900290    1Br0wn   \n",
      "706  1778710540912562432 2024-04-12 09:03:34+00:00    17900290    1Br0wn   \n",
      "707  1778698871310348544 2024-04-12 08:17:12+00:00    17900290    1Br0wn   \n",
      "708  1778690751909470464 2024-04-12 07:44:56+00:00    17900290    1Br0wn   \n",
      "709  1778479139709710848 2024-04-11 17:44:04+00:00    17900290    1Br0wn   \n",
      "\n",
      "                                                  urls  \\\n",
      "0    [https://en.wikipedia.org/wiki/Epic_of_evoluti...   \n",
      "1    [https://wiki.p2pfoundation.net/Category:Therm...   \n",
      "2    [https://lifehacker.com/tech/ai-is-running-out...   \n",
      "3            [https://www.journaloffreespeechlaw.org/]   \n",
      "4    [https://wiki.p2pfoundation.net/Andrew_Targows...   \n",
      "..                                                 ...   \n",
      "705  [https://www.axios.com/2024/04/10/ai-artificia...   \n",
      "706  [https://www.euractiv.com/section/digital/news...   \n",
      "707  [https://www.theguardian.com/society/2024/apr/...   \n",
      "708  [https://twitter.com/HalSinger/status/17785538...   \n",
      "709  [https://twitter.com/gateklons/status/17784779...   \n",
      "\n",
      "                                                  text       server  \\\n",
      "0    A concept you should know about:\\n\\n* The epic...  twitter.com   \n",
      "1    Quotation as selected  by The Alternative:\\n\\n...  twitter.com   \n",
      "2    AI is running out of internet:\\n\\n\"AI is runni...  twitter.com   \n",
      "3    * Journal of Free Speech Law,\\n\\nhttps://t.co/...  twitter.com   \n",
      "4    Articles from our 'Civilizational Analysis' va...  twitter.com   \n",
      "..                                                 ...          ...   \n",
      "705  \"I think they know exactly what they do,\" @Ves...  twitter.com   \n",
      "706  \"The Council of the EU is preparing a call to ...  twitter.com   \n",
      "707  Whatever happened to de minimis non curat lex?...  twitter.com   \n",
      "708  Deaton’s book 'concludes that “Joe Biden does ...  twitter.com   \n",
      "709  Exactly as intended! 🥳 “EU firms decreased dat...  twitter.com   \n",
      "\n",
      "                                               tootURL  \n",
      "0    https://twitter.com/mbauwens/status/1780618156...  \n",
      "1    https://twitter.com/mbauwens/status/1780617597...  \n",
      "2    https://twitter.com/mbauwens/status/1780617135...  \n",
      "3    https://twitter.com/mbauwens/status/1780616454...  \n",
      "4    https://twitter.com/mbauwens/status/1780608301...  \n",
      "..                                                 ...  \n",
      "705  https://twitter.com/1Br0wn/status/177871456889...  \n",
      "706  https://twitter.com/1Br0wn/status/177871054091...  \n",
      "707  https://twitter.com/1Br0wn/status/177869887131...  \n",
      "708  https://twitter.com/1Br0wn/status/177869075190...  \n",
      "709  https://twitter.com/1Br0wn/status/177847913970...  \n",
      "\n",
      "[710 rows x 8 columns]\n"
     ]
    }
   ],
   "source": [
    "df = pd.read_json(\"/Users/shaharorielkagan/sensemakers/nlp/notebooks/data/mappedTweets-2.json\")\n",
    "print(df)"
   ]
  },
  {
   "cell_type": "code",
   "execution_count": 16,
   "metadata": {},
   "outputs": [
    {
     "name": "stdout",
     "output_type": "stream",
     "text": [
      "                      id                created_at  account_id  username  \\\n",
      "0    1780618156832109056 2024-04-17 15:23:45+00:00    14349894  mbauwens   \n",
      "1    1780617597089669120 2024-04-17 15:21:32+00:00    14349894  mbauwens   \n",
      "2    1780617135049322496 2024-04-17 15:19:41+00:00    14349894  mbauwens   \n",
      "3    1780616454812905984 2024-04-17 15:16:59+00:00    14349894  mbauwens   \n",
      "4    1780608301534789632 2024-04-17 14:44:35+00:00    14349894  mbauwens   \n",
      "..                   ...                       ...         ...       ...   \n",
      "705  1778714568895729920 2024-04-12 09:19:34+00:00    17900290    1Br0wn   \n",
      "706  1778710540912562432 2024-04-12 09:03:34+00:00    17900290    1Br0wn   \n",
      "707  1778698871310348544 2024-04-12 08:17:12+00:00    17900290    1Br0wn   \n",
      "708  1778690751909470464 2024-04-12 07:44:56+00:00    17900290    1Br0wn   \n",
      "709  1778479139709710848 2024-04-11 17:44:04+00:00    17900290    1Br0wn   \n",
      "\n",
      "                                                  urls  \\\n",
      "0    [https://en.wikipedia.org/wiki/Epic_of_evoluti...   \n",
      "1    [https://wiki.p2pfoundation.net/Category:Therm...   \n",
      "2    [https://lifehacker.com/tech/ai-is-running-out...   \n",
      "3            [https://www.journaloffreespeechlaw.org/]   \n",
      "4    [https://wiki.p2pfoundation.net/Andrew_Targows...   \n",
      "..                                                 ...   \n",
      "705  [https://www.axios.com/2024/04/10/ai-artificia...   \n",
      "706  [https://www.euractiv.com/section/digital/news...   \n",
      "707  [https://www.theguardian.com/society/2024/apr/...   \n",
      "708  [https://twitter.com/HalSinger/status/17785538...   \n",
      "709  [https://twitter.com/gateklons/status/17784779...   \n",
      "\n",
      "                                                  Text       server  \\\n",
      "0    A concept you should know about:\\n\\n* The epic...  twitter.com   \n",
      "1    Quotation as selected  by The Alternative:\\n\\n...  twitter.com   \n",
      "2    AI is running out of internet:\\n\\n\"AI is runni...  twitter.com   \n",
      "3    * Journal of Free Speech Law,\\n\\nhttps://t.co/...  twitter.com   \n",
      "4    Articles from our 'Civilizational Analysis' va...  twitter.com   \n",
      "..                                                 ...          ...   \n",
      "705  \"I think they know exactly what they do,\" @Ves...  twitter.com   \n",
      "706  \"The Council of the EU is preparing a call to ...  twitter.com   \n",
      "707  Whatever happened to de minimis non curat lex?...  twitter.com   \n",
      "708  Deaton’s book 'concludes that “Joe Biden does ...  twitter.com   \n",
      "709  Exactly as intended! 🥳 “EU firms decreased dat...  twitter.com   \n",
      "\n",
      "                                               postURL  \n",
      "0    https://twitter.com/mbauwens/status/1780618156...  \n",
      "1    https://twitter.com/mbauwens/status/1780617597...  \n",
      "2    https://twitter.com/mbauwens/status/1780617135...  \n",
      "3    https://twitter.com/mbauwens/status/1780616454...  \n",
      "4    https://twitter.com/mbauwens/status/1780608301...  \n",
      "..                                                 ...  \n",
      "705  https://twitter.com/1Br0wn/status/177871456889...  \n",
      "706  https://twitter.com/1Br0wn/status/177871054091...  \n",
      "707  https://twitter.com/1Br0wn/status/177869887131...  \n",
      "708  https://twitter.com/1Br0wn/status/177869075190...  \n",
      "709  https://twitter.com/1Br0wn/status/177847913970...  \n",
      "\n",
      "[710 rows x 8 columns]\n"
     ]
    }
   ],
   "source": [
    "df.rename(columns={'text': 'Text'}, inplace=True)\n",
    "print(df)\n"
   ]
  },
  {
   "cell_type": "code",
   "execution_count": 13,
   "metadata": {},
   "outputs": [
    {
     "name": "stdout",
     "output_type": "stream",
     "text": [
      "                      id                created_at  account_id  username  \\\n",
      "0    1780618156832109056 2024-04-17 15:23:45+00:00    14349894  mbauwens   \n",
      "1    1780617597089669120 2024-04-17 15:21:32+00:00    14349894  mbauwens   \n",
      "2    1780617135049322496 2024-04-17 15:19:41+00:00    14349894  mbauwens   \n",
      "3    1780616454812905984 2024-04-17 15:16:59+00:00    14349894  mbauwens   \n",
      "4    1780608301534789632 2024-04-17 14:44:35+00:00    14349894  mbauwens   \n",
      "..                   ...                       ...         ...       ...   \n",
      "705  1778714568895729920 2024-04-12 09:19:34+00:00    17900290    1Br0wn   \n",
      "706  1778710540912562432 2024-04-12 09:03:34+00:00    17900290    1Br0wn   \n",
      "707  1778698871310348544 2024-04-12 08:17:12+00:00    17900290    1Br0wn   \n",
      "708  1778690751909470464 2024-04-12 07:44:56+00:00    17900290    1Br0wn   \n",
      "709  1778479139709710848 2024-04-11 17:44:04+00:00    17900290    1Br0wn   \n",
      "\n",
      "                                                  urls  \\\n",
      "0    [https://en.wikipedia.org/wiki/Epic_of_evoluti...   \n",
      "1    [https://wiki.p2pfoundation.net/Category:Therm...   \n",
      "2    [https://lifehacker.com/tech/ai-is-running-out...   \n",
      "3            [https://www.journaloffreespeechlaw.org/]   \n",
      "4    [https://wiki.p2pfoundation.net/Andrew_Targows...   \n",
      "..                                                 ...   \n",
      "705  [https://www.axios.com/2024/04/10/ai-artificia...   \n",
      "706  [https://www.euractiv.com/section/digital/news...   \n",
      "707  [https://www.theguardian.com/society/2024/apr/...   \n",
      "708  [https://twitter.com/HalSinger/status/17785538...   \n",
      "709  [https://twitter.com/gateklons/status/17784779...   \n",
      "\n",
      "                                                  text       server  \\\n",
      "0    A concept you should know about:\\n\\n* The epic...  twitter.com   \n",
      "1    Quotation as selected  by The Alternative:\\n\\n...  twitter.com   \n",
      "2    AI is running out of internet:\\n\\n\"AI is runni...  twitter.com   \n",
      "3    * Journal of Free Speech Law,\\n\\nhttps://t.co/...  twitter.com   \n",
      "4    Articles from our 'Civilizational Analysis' va...  twitter.com   \n",
      "..                                                 ...          ...   \n",
      "705  \"I think they know exactly what they do,\" @Ves...  twitter.com   \n",
      "706  \"The Council of the EU is preparing a call to ...  twitter.com   \n",
      "707  Whatever happened to de minimis non curat lex?...  twitter.com   \n",
      "708  Deaton’s book 'concludes that “Joe Biden does ...  twitter.com   \n",
      "709  Exactly as intended! 🥳 “EU firms decreased dat...  twitter.com   \n",
      "\n",
      "                                               tootURL  \n",
      "0    https://twitter.com/mbauwens/status/1780618156...  \n",
      "1    https://twitter.com/mbauwens/status/1780617597...  \n",
      "2    https://twitter.com/mbauwens/status/1780617135...  \n",
      "3    https://twitter.com/mbauwens/status/1780616454...  \n",
      "4    https://twitter.com/mbauwens/status/1780608301...  \n",
      "..                                                 ...  \n",
      "705  https://twitter.com/1Br0wn/status/177871456889...  \n",
      "706  https://twitter.com/1Br0wn/status/177871054091...  \n",
      "707  https://twitter.com/1Br0wn/status/177869887131...  \n",
      "708  https://twitter.com/1Br0wn/status/177869075190...  \n",
      "709  https://twitter.com/1Br0wn/status/177847913970...  \n",
      "\n",
      "[710 rows x 8 columns]\n"
     ]
    }
   ],
   "source": [
    "df['server'] = 'twitter.com'\n",
    "print(df)"
   ]
  },
  {
   "cell_type": "code",
   "execution_count": 17,
   "metadata": {},
   "outputs": [
    {
     "name": "stdout",
     "output_type": "stream",
     "text": [
      "<class 'list'>\n"
     ]
    }
   ],
   "source": [
    "print(type(df['urls'][0]))"
   ]
  },
  {
   "cell_type": "code",
   "execution_count": 11,
   "metadata": {},
   "outputs": [],
   "source": [
    "df_handles = df"
   ]
  },
  {
   "cell_type": "code",
   "execution_count": 14,
   "metadata": {},
   "outputs": [
    {
     "name": "stdout",
     "output_type": "stream",
     "text": [
      "0     twitter.com\n",
      "1     twitter.com\n",
      "2     twitter.com\n",
      "3     twitter.com\n",
      "4     twitter.com\n",
      "5     twitter.com\n",
      "6     twitter.com\n",
      "7     twitter.com\n",
      "8     twitter.com\n",
      "9     twitter.com\n",
      "10    twitter.com\n",
      "11    twitter.com\n",
      "12    twitter.com\n",
      "13    twitter.com\n",
      "14    twitter.com\n",
      "Name: server, dtype: object\n"
     ]
    }
   ],
   "source": [
    "df_handles['server'] = 'twitter.com'\n",
    "print(df_handles['server'])"
   ]
  },
  {
   "cell_type": "code",
   "execution_count": 20,
   "metadata": {},
   "outputs": [
    {
     "name": "stdout",
     "output_type": "stream",
     "text": [
      "           username                   id  \\\n",
      "0          mbauwens             14349894   \n",
      "1      AnnaLeptikon            550845228   \n",
      "2      nickmvincent   890345761690595328   \n",
      "3          LChoshen  1006797311593377792   \n",
      "4           yoginho             91583793   \n",
      "5           CAdjovu  1364791141267251200   \n",
      "6    EugeneVinitsky  1054895671164063744   \n",
      "7         lizilla93           2787254215   \n",
      "8   danwilliamsphil            217942278   \n",
      "9        CriticalAI  1290793547122302976   \n",
      "10   BrettButtliere            561750764   \n",
      "11      jbakcoleman           1419907861   \n",
      "12        yoavartzi            322460769   \n",
      "13       ChombaBupe           1248939194   \n",
      "14           1Br0wn             17900290   \n",
      "\n",
      "                                                 info  \\\n",
      "0   updates on p2p and commons developments; peer,...   \n",
      "1   nobody. Interested in cognitive science, ratio...   \n",
      "2   Assistant professor @SFU_CompSci, HCI, HCML, w...   \n",
      "3   🥇 #NLProc researcher\\n🥈 Opinionatedly Summariz...   \n",
      "4   I'm on Mastodon: \\n@yoginho@spore.social\\n\\nht...   \n",
      "5   Director @ledgerback | Curator @_distroid | In...   \n",
      "6   Anti-cynic. Artificial narrow intelligence. Au...   \n",
      "7   Scientist @ArcadiaScience working on computati...   \n",
      "8   Philosopher, University of Sussex. Tweets in p...   \n",
      "9   Critical AI's first issue out: https://read.du...   \n",
      "10  developing the future of science and society. ...   \n",
      "11  Associate Research Scientist @columbiajourn. A...   \n",
      "12  Research/prof @cs_cornell + @cornell_tech🚡 / h...   \n",
      "13  Tech entrepreneur | machine intelligence https...   \n",
      "14  💻 regulation/policy (🔑 #privacy 🗳) ⛷🚴🏻‍♂️🥾🗺 Vi...   \n",
      "\n",
      "                                                 name       server  \n",
      "0                                      Michel Bauwens  twitter.com  \n",
      "1                                          Anna Riedl  twitter.com  \n",
      "2                                        Nick Vincent  twitter.com  \n",
      "3                                ♻️ Leshem Choshen ♻️  twitter.com  \n",
      "4                 Yogi Jaeger 💙 @yoginho@spore.social  twitter.com  \n",
      "5                                      Charles Adjovu  twitter.com  \n",
      "6                                     Eugene Vinitsky  twitter.com  \n",
      "7                                  Elizabeth McDaniel  twitter.com  \n",
      "8                                        Dan Williams  twitter.com  \n",
      "9   Critical AI : first issue out! https://read.du...  twitter.com  \n",
      "10                                   Zr. Nabu Kudurru  twitter.com  \n",
      "11                                    Joe Bak-Coleman  twitter.com  \n",
      "12                                         Yoav Artzi  twitter.com  \n",
      "13                                        Chomba Bupe  twitter.com  \n",
      "14                                   Ian Brown 🇮🇨 🦣 🦋  twitter.com  \n"
     ]
    },
    {
     "name": "stderr",
     "output_type": "stream",
     "text": [
      "Python(12627) MallocStackLogging: can't turn off malloc stack logging because it was not enabled.\n"
     ]
    }
   ],
   "source": [
    "del df_handles['entities']\n",
    "print(df_handles)"
   ]
  },
  {
   "cell_type": "code",
   "execution_count": 22,
   "metadata": {},
   "outputs": [
    {
     "name": "stderr",
     "output_type": "stream",
     "text": [
      "Python(12883) MallocStackLogging: can't turn off malloc stack logging because it was not enabled.\n",
      "Python(12884) MallocStackLogging: can't turn off malloc stack logging because it was not enabled.\n",
      "Python(12885) MallocStackLogging: can't turn off malloc stack logging because it was not enabled.\n",
      "Python(12886) MallocStackLogging: can't turn off malloc stack logging because it was not enabled.\n"
     ]
    },
    {
     "data": {
      "text/html": [
       "Tracking run with wandb version 0.16.6"
      ],
      "text/plain": [
       "<IPython.core.display.HTML object>"
      ]
     },
     "metadata": {},
     "output_type": "display_data"
    },
    {
     "data": {
      "text/html": [
       "Run data is saved locally in <code>/Users/shaharorielkagan/sensemakers/nlp/notebooks/wandb/run-20240418_145303-1h780x8q</code>"
      ],
      "text/plain": [
       "<IPython.core.display.HTML object>"
      ]
     },
     "metadata": {},
     "output_type": "display_data"
    },
    {
     "data": {
      "text/html": [
       "Syncing run <strong><a href='https://wandb.ai/common-sense-makers/filter_evaluation/runs/1h780x8q' target=\"_blank\">easy-dew-8</a></strong> to <a href='https://wandb.ai/common-sense-makers/filter_evaluation' target=\"_blank\">Weights & Biases</a> (<a href='https://wandb.me/run' target=\"_blank\">docs</a>)<br/>"
      ],
      "text/plain": [
       "<IPython.core.display.HTML object>"
      ]
     },
     "metadata": {},
     "output_type": "display_data"
    },
    {
     "data": {
      "text/html": [
       " View project at <a href='https://wandb.ai/common-sense-makers/filter_evaluation' target=\"_blank\">https://wandb.ai/common-sense-makers/filter_evaluation</a>"
      ],
      "text/plain": [
       "<IPython.core.display.HTML object>"
      ]
     },
     "metadata": {},
     "output_type": "display_data"
    },
    {
     "data": {
      "text/html": [
       " View run at <a href='https://wandb.ai/common-sense-makers/filter_evaluation/runs/1h780x8q' target=\"_blank\">https://wandb.ai/common-sense-makers/filter_evaluation/runs/1h780x8q</a>"
      ],
      "text/plain": [
       "<IPython.core.display.HTML object>"
      ]
     },
     "metadata": {},
     "output_type": "display_data"
    },
    {
     "data": {
      "application/vnd.jupyter.widget-view+json": {
       "model_id": "172f3e79de4d47e285937a321111e345",
       "version_major": 2,
       "version_minor": 0
      },
      "text/plain": [
       "VBox(children=(Label(value='0.301 MB of 0.301 MB uploaded\\r'), FloatProgress(value=1.0, max=1.0)))"
      ]
     },
     "metadata": {},
     "output_type": "display_data"
    },
    {
     "data": {
      "text/html": [
       " View run <strong style=\"color:#cdcd00\">easy-dew-8</strong> at: <a href='https://wandb.ai/common-sense-makers/filter_evaluation/runs/1h780x8q' target=\"_blank\">https://wandb.ai/common-sense-makers/filter_evaluation/runs/1h780x8q</a><br/> View project at: <a href='https://wandb.ai/common-sense-makers/filter_evaluation' target=\"_blank\">https://wandb.ai/common-sense-makers/filter_evaluation</a><br/>Synced 4 W&B file(s), 0 media file(s), 2 artifact file(s) and 0 other file(s)"
      ],
      "text/plain": [
       "<IPython.core.display.HTML object>"
      ]
     },
     "metadata": {},
     "output_type": "display_data"
    },
    {
     "data": {
      "text/html": [
       "Find logs at: <code>./wandb/run-20240418_145303-1h780x8q/logs</code>"
      ],
      "text/plain": [
       "<IPython.core.display.HTML object>"
      ]
     },
     "metadata": {},
     "output_type": "display_data"
    }
   ],
   "source": [
    "wandb.init(project=\"filter_evaluation\")\n",
    "artifact = wandb.Artifact(\"non_labeled_tweets\", type=\"dataset\")\n",
    "\n",
    "# Create a wandb.Table from the Pandas DataFrame\n",
    "table1 = wandb.Table(dataframe=df)\n",
    "table2 = wandb.Table(dataframe=df_handles)\n",
    "\n",
    "\n",
    "# Add the wandb.Table to the artifact\n",
    "artifact.add(table1, \"non_labeled_data_table\")\n",
    "artifact.add(table2,\"handles_chart\")\n",
    "\n",
    "# Log the artifact\n",
    "wandb.log_artifact(artifact, aliases=[\"latest\"])\n",
    "\n",
    "wandb.run.finish()"
   ]
  },
  {
   "attachments": {},
   "cell_type": "markdown",
   "metadata": {},
   "source": [
    "## Label twitter dataset"
   ]
  },
  {
   "cell_type": "code",
   "execution_count": 2,
   "metadata": {},
   "outputs": [],
   "source": [
    "import sys\n",
    "sys.path.append(\"../\")\n",
    "\n",
    "from desci_sense.shared_functions.init import init_multi_chain_parser_config\n",
    "from desci_sense.shared_functions.web_extractors.citoid import fetch_citation\n",
    "from desci_sense.shared_functions.parsers.multi_chain_parser import MultiChainParser\n",
    "from desci_sense.evaluation.utils import get_dataset\n",
    "from desci_sense.shared_functions.dataloaders import (\n",
    "    scrape_post,\n",
    "    convert_text_to_ref_post,\n",
    ")"
   ]
  },
  {
   "cell_type": "code",
   "execution_count": 3,
   "metadata": {},
   "outputs": [
    {
     "data": {
      "text/html": [
       "Tracking run with wandb version 0.16.6"
      ],
      "text/plain": [
       "<IPython.core.display.HTML object>"
      ]
     },
     "metadata": {},
     "output_type": "display_data"
    },
    {
     "data": {
      "text/html": [
       "Run data is saved locally in <code>/Users/shaharorielkagan/sensemakers/nlp/notebooks/wandb/run-20240424_211858-jebhvmke</code>"
      ],
      "text/plain": [
       "<IPython.core.display.HTML object>"
      ]
     },
     "metadata": {},
     "output_type": "display_data"
    },
    {
     "data": {
      "text/html": [
       "Syncing run <strong><a href='https://wandb.ai/common-sense-makers/sensemakers-nlp_notebooks/runs/jebhvmke' target=\"_blank\">true-mountain-2</a></strong> to <a href='https://wandb.ai/common-sense-makers/sensemakers-nlp_notebooks' target=\"_blank\">Weights & Biases</a> (<a href='https://wandb.me/run' target=\"_blank\">docs</a>)<br/>"
      ],
      "text/plain": [
       "<IPython.core.display.HTML object>"
      ]
     },
     "metadata": {},
     "output_type": "display_data"
    },
    {
     "data": {
      "text/html": [
       " View project at <a href='https://wandb.ai/common-sense-makers/sensemakers-nlp_notebooks' target=\"_blank\">https://wandb.ai/common-sense-makers/sensemakers-nlp_notebooks</a>"
      ],
      "text/plain": [
       "<IPython.core.display.HTML object>"
      ]
     },
     "metadata": {},
     "output_type": "display_data"
    },
    {
     "data": {
      "text/html": [
       " View run at <a href='https://wandb.ai/common-sense-makers/sensemakers-nlp_notebooks/runs/jebhvmke' target=\"_blank\">https://wandb.ai/common-sense-makers/sensemakers-nlp_notebooks/runs/jebhvmke</a>"
      ],
      "text/plain": [
       "<IPython.core.display.HTML object>"
      ]
     },
     "metadata": {},
     "output_type": "display_data"
    },
    {
     "name": "stderr",
     "output_type": "stream",
     "text": [
      "\u001b[34m\u001b[1mwandb\u001b[0m:   2 of 2 files downloaded.  \n"
     ]
    },
    {
     "data": {
      "application/vnd.jupyter.widget-view+json": {
       "model_id": "cc7bdeb0ffbb44b8a1ee57edcb485952",
       "version_major": 2,
       "version_minor": 0
      },
      "text/plain": [
       "VBox(children=(Label(value='0.001 MB of 0.001 MB uploaded\\r'), FloatProgress(value=1.0, max=1.0)))"
      ]
     },
     "metadata": {},
     "output_type": "display_data"
    },
    {
     "data": {
      "text/html": [
       " View run <strong style=\"color:#cdcd00\">true-mountain-2</strong> at: <a href='https://wandb.ai/common-sense-makers/sensemakers-nlp_notebooks/runs/jebhvmke' target=\"_blank\">https://wandb.ai/common-sense-makers/sensemakers-nlp_notebooks/runs/jebhvmke</a><br/> View project at: <a href='https://wandb.ai/common-sense-makers/sensemakers-nlp_notebooks' target=\"_blank\">https://wandb.ai/common-sense-makers/sensemakers-nlp_notebooks</a><br/>Synced 5 W&B file(s), 0 media file(s), 0 artifact file(s) and 0 other file(s)"
      ],
      "text/plain": [
       "<IPython.core.display.HTML object>"
      ]
     },
     "metadata": {},
     "output_type": "display_data"
    },
    {
     "data": {
      "text/html": [
       "Find logs at: <code>./wandb/run-20240424_211858-jebhvmke/logs</code>"
      ],
      "text/plain": [
       "<IPython.core.display.HTML object>"
      ]
     },
     "metadata": {},
     "output_type": "display_data"
    }
   ],
   "source": [
    "#let's import it from wandb\n",
    "import wandb\n",
    "from pathlib import Path\n",
    "\n",
    "run = wandb.init()\n",
    "artifact = run.use_artifact('common-sense-makers/filter_evaluation/non_labeled_tweets:v0', type='dataset')\n",
    "artifact_dir = artifact.download()\n",
    "df = get_dataset(Path(f\"{artifact_dir}/non_labeled_data_table.table.json\"))\n",
    "df_handles = get_dataset(Path(f\"{artifact_dir}/handles_chart.table.json\"))\n",
    "\n",
    "wandb.run.finish()"
   ]
  },
  {
   "cell_type": "code",
   "execution_count": 4,
   "metadata": {},
   "outputs": [],
   "source": [
    "#add a column that counts references\n",
    "df['ref_count'] = df['urls'].apply(len)"
   ]
  },
  {
   "cell_type": "code",
   "execution_count": 6,
   "metadata": {},
   "outputs": [
    {
     "name": "stderr",
     "output_type": "stream",
     "text": [
      "\u001b[32m2024-04-25 10:15:59.024\u001b[0m | \u001b[34m\u001b[1mDEBUG   \u001b[0m | \u001b[36mdesci_sense.shared_functions.web_extractors.citoid\u001b[0m:\u001b[36mfetch_citation\u001b[0m:\u001b[36m54\u001b[0m - \u001b[34m\u001b[1mfetching citoid data for: https://en.wikipedia.org/wiki/Epic_of_evolution\u001b[0m\n",
      "\u001b[32m2024-04-25 10:16:01.193\u001b[0m | \u001b[34m\u001b[1mDEBUG   \u001b[0m | \u001b[36mdesci_sense.shared_functions.web_extractors.citoid\u001b[0m:\u001b[36mfetch_citation\u001b[0m:\u001b[36m54\u001b[0m - \u001b[34m\u001b[1mfetching citoid data for: https://en.wikipedia.org/wiki/Epic_of_evolution\u001b[0m\n",
      "\u001b[32m2024-04-25 10:16:02.333\u001b[0m | \u001b[34m\u001b[1mDEBUG   \u001b[0m | \u001b[36mdesci_sense.shared_functions.web_extractors.citoid\u001b[0m:\u001b[36mfetch_citation\u001b[0m:\u001b[36m54\u001b[0m - \u001b[34m\u001b[1mfetching citoid data for: https://wiki.p2pfoundation.net/Category:Thermodynamic_Efficiencies\u001b[0m\n",
      "\u001b[32m2024-04-25 10:16:07.747\u001b[0m | \u001b[34m\u001b[1mDEBUG   \u001b[0m | \u001b[36mdesci_sense.shared_functions.web_extractors.citoid\u001b[0m:\u001b[36mfetch_citation\u001b[0m:\u001b[36m54\u001b[0m - \u001b[34m\u001b[1mfetching citoid data for: https://lifehacker.com/tech/ai-is-running-out-of-internet\u001b[0m\n",
      "\u001b[32m2024-04-25 10:16:08.536\u001b[0m | \u001b[34m\u001b[1mDEBUG   \u001b[0m | \u001b[36mdesci_sense.shared_functions.web_extractors.citoid\u001b[0m:\u001b[36mfetch_citation\u001b[0m:\u001b[36m54\u001b[0m - \u001b[34m\u001b[1mfetching citoid data for: https://www.journaloffreespeechlaw.org/\u001b[0m\n",
      "\u001b[32m2024-04-25 10:16:08.990\u001b[0m | \u001b[34m\u001b[1mDEBUG   \u001b[0m | \u001b[36mdesci_sense.shared_functions.web_extractors.citoid\u001b[0m:\u001b[36mfetch_citation\u001b[0m:\u001b[36m54\u001b[0m - \u001b[34m\u001b[1mfetching citoid data for: https://wiki.p2pfoundation.net/Andrew_Targowski%27s_Classification_of_the_Civilizational_Approaches_To_Human_History\u001b[0m\n",
      "\u001b[32m2024-04-25 10:16:09.642\u001b[0m | \u001b[34m\u001b[1mDEBUG   \u001b[0m | \u001b[36mdesci_sense.shared_functions.web_extractors.citoid\u001b[0m:\u001b[36mfetch_citation\u001b[0m:\u001b[36m54\u001b[0m - \u001b[34m\u001b[1mfetching citoid data for: https://civilizationemerging.com/\u001b[0m\n",
      "\u001b[32m2024-04-25 10:16:09.931\u001b[0m | \u001b[34m\u001b[1mDEBUG   \u001b[0m | \u001b[36mdesci_sense.shared_functions.web_extractors.citoid\u001b[0m:\u001b[36mfetch_citation\u001b[0m:\u001b[36m54\u001b[0m - \u001b[34m\u001b[1mfetching citoid data for: http://emergentcivilization.com/\u001b[0m\n",
      "\u001b[32m2024-04-25 10:16:10.478\u001b[0m | \u001b[34m\u001b[1mDEBUG   \u001b[0m | \u001b[36mdesci_sense.shared_functions.web_extractors.citoid\u001b[0m:\u001b[36mfetch_citation\u001b[0m:\u001b[36m54\u001b[0m - \u001b[34m\u001b[1mfetching citoid data for: https://integralpermaculture.wordpress.com/peter-pogany/\u001b[0m\n",
      "\u001b[32m2024-04-25 10:16:11.081\u001b[0m | \u001b[34m\u001b[1mDEBUG   \u001b[0m | \u001b[36mdesci_sense.shared_functions.web_extractors.citoid\u001b[0m:\u001b[36mfetch_citation\u001b[0m:\u001b[36m54\u001b[0m - \u001b[34m\u001b[1mfetching citoid data for: https://integralpermaculture.wordpress.com/peter-pogany/\u001b[0m\n",
      "\u001b[32m2024-04-25 10:16:11.431\u001b[0m | \u001b[34m\u001b[1mDEBUG   \u001b[0m | \u001b[36mdesci_sense.shared_functions.web_extractors.citoid\u001b[0m:\u001b[36mfetch_citation\u001b[0m:\u001b[36m54\u001b[0m - \u001b[34m\u001b[1mfetching citoid data for: https://wiki.p2pfoundation.net/Category:Peerproduction#With_the_advent_of_the_P2P_Mode_of_Production,_the_community_and_its_common_is_now_the_appropriate_scale\u001b[0m\n",
      "\u001b[32m2024-04-25 10:16:12.999\u001b[0m | \u001b[34m\u001b[1mDEBUG   \u001b[0m | \u001b[36mdesci_sense.shared_functions.web_extractors.citoid\u001b[0m:\u001b[36mfetch_citation\u001b[0m:\u001b[36m54\u001b[0m - \u001b[34m\u001b[1mfetching citoid data for: https://wiki.p2pfoundation.net/Category:Peerproperty#Short_Citations\u001b[0m\n",
      "\u001b[32m2024-04-25 10:16:14.885\u001b[0m | \u001b[34m\u001b[1mDEBUG   \u001b[0m | \u001b[36mdesci_sense.shared_functions.web_extractors.citoid\u001b[0m:\u001b[36mfetch_citation\u001b[0m:\u001b[36m54\u001b[0m - \u001b[34m\u001b[1mfetching citoid data for: https://autocatallaxy.com/\u001b[0m\n",
      "\u001b[32m2024-04-25 10:16:16.011\u001b[0m | \u001b[34m\u001b[1mDEBUG   \u001b[0m | \u001b[36mdesci_sense.shared_functions.web_extractors.citoid\u001b[0m:\u001b[36mfetch_citation\u001b[0m:\u001b[36m54\u001b[0m - \u001b[34m\u001b[1mfetching citoid data for: https://autocatallaxy.com/\u001b[0m\n",
      "\u001b[32m2024-04-25 10:16:16.945\u001b[0m | \u001b[34m\u001b[1mDEBUG   \u001b[0m | \u001b[36mdesci_sense.shared_functions.web_extractors.citoid\u001b[0m:\u001b[36mfetch_citation\u001b[0m:\u001b[36m54\u001b[0m - \u001b[34m\u001b[1mfetching citoid data for: https://www.hsgac.senate.gov/wp-content/uploads/Testimony-Vallor-2023-11-08.pdf\u001b[0m\n",
      "\u001b[32m2024-04-25 10:16:18.457\u001b[0m | \u001b[34m\u001b[1mDEBUG   \u001b[0m | \u001b[36mdesci_sense.shared_functions.web_extractors.citoid\u001b[0m:\u001b[36mfetch_citation\u001b[0m:\u001b[36m54\u001b[0m - \u001b[34m\u001b[1mfetching citoid data for: https://www.researchgate.net/publication/319248800_Chreods_homeorhesis_and_biofields_Finding_the_right_path_for_science_through_Daoism\u001b[0m\n",
      "\u001b[32m2024-04-25 10:16:18.623\u001b[0m | \u001b[34m\u001b[1mDEBUG   \u001b[0m | \u001b[36mdesci_sense.shared_functions.web_extractors.citoid\u001b[0m:\u001b[36mfetch_citation\u001b[0m:\u001b[36m54\u001b[0m - \u001b[34m\u001b[1mfetching citoid data for: https://www.researchgate.net/publication/319248800_Chreods_homeorhesis_and_biofields_Finding_the_right_path_for_science_through_Daoism\u001b[0m\n",
      "\u001b[32m2024-04-25 10:16:18.776\u001b[0m | \u001b[34m\u001b[1mDEBUG   \u001b[0m | \u001b[36mdesci_sense.shared_functions.web_extractors.citoid\u001b[0m:\u001b[36mfetch_citation\u001b[0m:\u001b[36m54\u001b[0m - \u001b[34m\u001b[1mfetching citoid data for: https://youtu.be/xbf4BGIBENk?si=2ByJe6iPjANpy5Mx\u001b[0m\n",
      "\u001b[32m2024-04-25 10:16:24.235\u001b[0m | \u001b[34m\u001b[1mDEBUG   \u001b[0m | \u001b[36mdesci_sense.shared_functions.web_extractors.citoid\u001b[0m:\u001b[36mfetch_citation\u001b[0m:\u001b[36m54\u001b[0m - \u001b[34m\u001b[1mfetching citoid data for: https://pedestrianobservations.com/2022/12/30/the-four-quadrants-of-cities-for-transit-revival/\u001b[0m\n",
      "\u001b[32m2024-04-25 10:16:25.448\u001b[0m | \u001b[34m\u001b[1mDEBUG   \u001b[0m | \u001b[36mdesci_sense.shared_functions.web_extractors.citoid\u001b[0m:\u001b[36mfetch_citation\u001b[0m:\u001b[36m54\u001b[0m - \u001b[34m\u001b[1mfetching citoid data for: https://wiki.p2pfoundation.net/Category:P2P_State_Approaches#What_Lies_Beyond_the_Nation-State\u001b[0m\n",
      "\u001b[32m2024-04-25 10:16:29.329\u001b[0m | \u001b[34m\u001b[1mDEBUG   \u001b[0m | \u001b[36mdesci_sense.shared_functions.web_extractors.citoid\u001b[0m:\u001b[36mfetch_citation\u001b[0m:\u001b[36m54\u001b[0m - \u001b[34m\u001b[1mfetching citoid data for: https://wiki.p2pfoundation.net/Co-Creative_Labor,_Productive_Democracy_and_the_Partner_State\u001b[0m\n",
      "\u001b[32m2024-04-25 10:16:30.700\u001b[0m | \u001b[34m\u001b[1mDEBUG   \u001b[0m | \u001b[36mdesci_sense.shared_functions.web_extractors.citoid\u001b[0m:\u001b[36mfetch_citation\u001b[0m:\u001b[36m54\u001b[0m - \u001b[34m\u001b[1mfetching citoid data for: https://twitter.com/i/web/status/1780342781279412445\u001b[0m\n",
      "\u001b[32m2024-04-25 10:17:35.862\u001b[0m | \u001b[34m\u001b[1mDEBUG   \u001b[0m | \u001b[36mdesci_sense.shared_functions.web_extractors.citoid\u001b[0m:\u001b[36mfetch_citation\u001b[0m:\u001b[36m54\u001b[0m - \u001b[34m\u001b[1mfetching citoid data for: https://wiki.p2pfoundation.net/Alexander_Dugin_on_Contemporality\u001b[0m\n",
      "\u001b[32m2024-04-25 10:17:37.380\u001b[0m | \u001b[34m\u001b[1mDEBUG   \u001b[0m | \u001b[36mdesci_sense.shared_functions.web_extractors.citoid\u001b[0m:\u001b[36mfetch_citation\u001b[0m:\u001b[36m54\u001b[0m - \u001b[34m\u001b[1mfetching citoid data for: https://wiki.p2pfoundation.net/Alfred_W._McCoy_on_the_Difference_Between_Empires_and_World_Orders\u001b[0m\n",
      "\u001b[32m2024-04-25 10:17:39.168\u001b[0m | \u001b[34m\u001b[1mDEBUG   \u001b[0m | \u001b[36mdesci_sense.shared_functions.web_extractors.citoid\u001b[0m:\u001b[36mfetch_citation\u001b[0m:\u001b[36m54\u001b[0m - \u001b[34m\u001b[1mfetching citoid data for: https://wiki.p2pfoundation.net/Andre_Gunder_Frank_on_the_History_of_Going_Beyond_Eurocentrism_in_World_Historical_Approaches\u001b[0m\n",
      "\u001b[32m2024-04-25 10:17:41.715\u001b[0m | \u001b[34m\u001b[1mDEBUG   \u001b[0m | \u001b[36mdesci_sense.shared_functions.web_extractors.citoid\u001b[0m:\u001b[36mfetch_citation\u001b[0m:\u001b[36m54\u001b[0m - \u001b[34m\u001b[1mfetching citoid data for: https://youtu.be/wS8Z3qKo5YU?si=XC_4OAHNNQM3BMLw\u001b[0m\n",
      "\u001b[32m2024-04-25 10:17:43.785\u001b[0m | \u001b[34m\u001b[1mDEBUG   \u001b[0m | \u001b[36mdesci_sense.shared_functions.web_extractors.citoid\u001b[0m:\u001b[36mfetch_citation\u001b[0m:\u001b[36m54\u001b[0m - \u001b[34m\u001b[1mfetching citoid data for: https://youtu.be/3taXF-cjLBc?si=ADozAL8LPmUvybux\u001b[0m\n",
      "\u001b[32m2024-04-25 10:17:45.726\u001b[0m | \u001b[34m\u001b[1mDEBUG   \u001b[0m | \u001b[36mdesci_sense.shared_functions.web_extractors.citoid\u001b[0m:\u001b[36mfetch_citation\u001b[0m:\u001b[36m54\u001b[0m - \u001b[34m\u001b[1mfetching citoid data for: https://twitter.com/i/web/status/1780314476752847148\u001b[0m\n",
      "\u001b[32m2024-04-25 10:17:45.958\u001b[0m | \u001b[34m\u001b[1mDEBUG   \u001b[0m | \u001b[36mdesci_sense.shared_functions.web_extractors.citoid\u001b[0m:\u001b[36mfetch_citation\u001b[0m:\u001b[36m54\u001b[0m - \u001b[34m\u001b[1mfetching citoid data for: https://youtu.be/UA2TaqRPBtU?si=guzfjvW0kqHtF5NG\u001b[0m\n",
      "\u001b[32m2024-04-25 10:17:52.350\u001b[0m | \u001b[34m\u001b[1mDEBUG   \u001b[0m | \u001b[36mdesci_sense.shared_functions.web_extractors.citoid\u001b[0m:\u001b[36mfetch_citation\u001b[0m:\u001b[36m54\u001b[0m - \u001b[34m\u001b[1mfetching citoid data for: https://youtube.com/shorts/ZgbkS2dn5fQ?si=nhk6ghOYuRjqUUBt\u001b[0m\n",
      "\u001b[32m2024-04-25 10:17:54.541\u001b[0m | \u001b[34m\u001b[1mDEBUG   \u001b[0m | \u001b[36mdesci_sense.shared_functions.web_extractors.citoid\u001b[0m:\u001b[36mfetch_citation\u001b[0m:\u001b[36m54\u001b[0m - \u001b[34m\u001b[1mfetching citoid data for: https://youtube.com/shorts/GFKoCMKl1YY?si=2n1Khh2DUxI7_S5u\u001b[0m\n",
      "\u001b[32m2024-04-25 10:17:56.587\u001b[0m | \u001b[34m\u001b[1mDEBUG   \u001b[0m | \u001b[36mdesci_sense.shared_functions.web_extractors.citoid\u001b[0m:\u001b[36mfetch_citation\u001b[0m:\u001b[36m54\u001b[0m - \u001b[34m\u001b[1mfetching citoid data for: https://youtu.be/GcdDl-hldGM?si=BPmxcuSJcP3MQZ40\u001b[0m\n",
      "\u001b[32m2024-04-25 10:17:58.437\u001b[0m | \u001b[34m\u001b[1mDEBUG   \u001b[0m | \u001b[36mdesci_sense.shared_functions.web_extractors.citoid\u001b[0m:\u001b[36mfetch_citation\u001b[0m:\u001b[36m54\u001b[0m - \u001b[34m\u001b[1mfetching citoid data for: https://www.organism.earth/library/topic/autopoiesis\u001b[0m\n",
      "\u001b[32m2024-04-25 10:18:01.400\u001b[0m | \u001b[34m\u001b[1mDEBUG   \u001b[0m | \u001b[36mdesci_sense.shared_functions.web_extractors.citoid\u001b[0m:\u001b[36mfetch_citation\u001b[0m:\u001b[36m54\u001b[0m - \u001b[34m\u001b[1mfetching citoid data for: https://medium.com/@foundersfund/hereticon-2bb9b23928d5\u001b[0m\n",
      "\u001b[32m2024-04-25 10:18:04.034\u001b[0m | \u001b[34m\u001b[1mDEBUG   \u001b[0m | \u001b[36mdesci_sense.shared_functions.web_extractors.citoid\u001b[0m:\u001b[36mfetch_citation\u001b[0m:\u001b[36m54\u001b[0m - \u001b[34m\u001b[1mfetching citoid data for: https://youtu.be/sRPP4Ilpxso?si=QguH84BDLFWz8Dxh\u001b[0m\n",
      "\u001b[32m2024-04-25 10:18:06.101\u001b[0m | \u001b[34m\u001b[1mDEBUG   \u001b[0m | \u001b[36mdesci_sense.shared_functions.web_extractors.citoid\u001b[0m:\u001b[36mfetch_citation\u001b[0m:\u001b[36m54\u001b[0m - \u001b[34m\u001b[1mfetching citoid data for: https://youtu.be/3VZSJKbzyMc?si=Lu6eH_JtRcS5m-EM\u001b[0m\n",
      "\u001b[32m2024-04-25 10:18:07.957\u001b[0m | \u001b[34m\u001b[1mDEBUG   \u001b[0m | \u001b[36mdesci_sense.shared_functions.web_extractors.citoid\u001b[0m:\u001b[36mfetch_citation\u001b[0m:\u001b[36m54\u001b[0m - \u001b[34m\u001b[1mfetching citoid data for: https://youtu.be/nYl4g57eRBU?si=89fOR5xFw5MF8p-d\u001b[0m\n",
      "\u001b[32m2024-04-25 10:18:09.814\u001b[0m | \u001b[34m\u001b[1mDEBUG   \u001b[0m | \u001b[36mdesci_sense.shared_functions.web_extractors.citoid\u001b[0m:\u001b[36mfetch_citation\u001b[0m:\u001b[36m54\u001b[0m - \u001b[34m\u001b[1mfetching citoid data for: https://www.eventbrite.it/e/biglietti-napuleth-the-spark-blockchain-and-ai-informal-meetup-863746387697\u001b[0m\n",
      "\u001b[32m2024-04-25 10:18:12.772\u001b[0m | \u001b[34m\u001b[1mDEBUG   \u001b[0m | \u001b[36mdesci_sense.shared_functions.web_extractors.citoid\u001b[0m:\u001b[36mfetch_citation\u001b[0m:\u001b[36m54\u001b[0m - \u001b[34m\u001b[1mfetching citoid data for: https://youtu.be/JUH4Vk1CFx8?si=H_zCIFcJ-IV01yUt\u001b[0m\n",
      "\u001b[32m2024-04-25 10:18:14.398\u001b[0m | \u001b[34m\u001b[1mDEBUG   \u001b[0m | \u001b[36mdesci_sense.shared_functions.web_extractors.citoid\u001b[0m:\u001b[36mfetch_citation\u001b[0m:\u001b[36m54\u001b[0m - \u001b[34m\u001b[1mfetching citoid data for: https://youtu.be/sV-vmagtOXI?si=e72_BpRFvpUapMYG\u001b[0m\n",
      "\u001b[32m2024-04-25 10:18:16.179\u001b[0m | \u001b[34m\u001b[1mDEBUG   \u001b[0m | \u001b[36mdesci_sense.shared_functions.web_extractors.citoid\u001b[0m:\u001b[36mfetch_citation\u001b[0m:\u001b[36m54\u001b[0m - \u001b[34m\u001b[1mfetching citoid data for: https://youtu.be/om_Qk4Ob2DQ?si=rF6pAIR7bFNa8s5E\u001b[0m\n",
      "\u001b[32m2024-04-25 10:18:19.632\u001b[0m | \u001b[34m\u001b[1mDEBUG   \u001b[0m | \u001b[36mdesci_sense.shared_functions.web_extractors.citoid\u001b[0m:\u001b[36mfetch_citation\u001b[0m:\u001b[36m54\u001b[0m - \u001b[34m\u001b[1mfetching citoid data for: https://ept.ms/43XPhLZ\u001b[0m\n",
      "\u001b[32m2024-04-25 10:18:22.589\u001b[0m | \u001b[34m\u001b[1mDEBUG   \u001b[0m | \u001b[36mdesci_sense.shared_functions.web_extractors.citoid\u001b[0m:\u001b[36mfetch_citation\u001b[0m:\u001b[36m54\u001b[0m - \u001b[34m\u001b[1mfetching citoid data for: https://ept.ms/3VUYqTR\u001b[0m\n",
      "\u001b[32m2024-04-25 10:18:33.770\u001b[0m | \u001b[34m\u001b[1mDEBUG   \u001b[0m | \u001b[36mdesci_sense.shared_functions.web_extractors.citoid\u001b[0m:\u001b[36mfetch_citation\u001b[0m:\u001b[36m54\u001b[0m - \u001b[34m\u001b[1mfetching citoid data for: https://wiki.p2pfoundation.net/Ordo-Communal_State\u001b[0m\n",
      "\u001b[32m2024-04-25 10:18:34.979\u001b[0m | \u001b[34m\u001b[1mDEBUG   \u001b[0m | \u001b[36mdesci_sense.shared_functions.web_extractors.citoid\u001b[0m:\u001b[36mfetch_citation\u001b[0m:\u001b[36m54\u001b[0m - \u001b[34m\u001b[1mfetching citoid data for: https://forms.office.com/pages/responsepage.aspx?id=sJhJDJ1-X0634VnjxCIXGNf4IM-vUbBAgkpkmcZmkVNURUg2Q1cxQVNFVjZCNU9YSE1ROUhKSEpTQy4u\u001b[0m\n",
      "\u001b[32m2024-04-25 10:18:39.619\u001b[0m | \u001b[34m\u001b[1mDEBUG   \u001b[0m | \u001b[36mdesci_sense.shared_functions.web_extractors.citoid\u001b[0m:\u001b[36mfetch_citation\u001b[0m:\u001b[36m54\u001b[0m - \u001b[34m\u001b[1mfetching citoid data for: https://greenwald.locals.com/upost/5508544/endless-war-and-us-security-state-w-sen-ron-johnson-and-rep-davidson\u001b[0m\n",
      "\u001b[32m2024-04-25 10:18:40.884\u001b[0m | \u001b[34m\u001b[1mDEBUG   \u001b[0m | \u001b[36mdesci_sense.shared_functions.web_extractors.citoid\u001b[0m:\u001b[36mfetch_citation\u001b[0m:\u001b[36m54\u001b[0m - \u001b[34m\u001b[1mfetching citoid data for: https://www.firstthings.com/article/2024/05/dark-enchantment\u001b[0m\n",
      "\u001b[32m2024-04-25 10:18:42.771\u001b[0m | \u001b[34m\u001b[1mDEBUG   \u001b[0m | \u001b[36mdesci_sense.shared_functions.web_extractors.citoid\u001b[0m:\u001b[36mfetch_citation\u001b[0m:\u001b[36m54\u001b[0m - \u001b[34m\u001b[1mfetching citoid data for: https://aoc.media/?p=160363\u001b[0m\n",
      "\u001b[32m2024-04-25 10:18:46.448\u001b[0m | \u001b[34m\u001b[1mDEBUG   \u001b[0m | \u001b[36mdesci_sense.shared_functions.web_extractors.citoid\u001b[0m:\u001b[36mfetch_citation\u001b[0m:\u001b[36m54\u001b[0m - \u001b[34m\u001b[1mfetching citoid data for: https://twitter.com/i/web/status/1779524686428209371\u001b[0m\n",
      "\u001b[32m2024-04-25 10:18:46.731\u001b[0m | \u001b[34m\u001b[1mDEBUG   \u001b[0m | \u001b[36mdesci_sense.shared_functions.web_extractors.citoid\u001b[0m:\u001b[36mfetch_citation\u001b[0m:\u001b[36m54\u001b[0m - \u001b[34m\u001b[1mfetching citoid data for: https://aoc.media/opinion/2024/04/11/de-lordoliberalisme-a-lordo-communalisme/\u001b[0m\n",
      "\u001b[32m2024-04-25 10:18:48.940\u001b[0m | \u001b[34m\u001b[1mDEBUG   \u001b[0m | \u001b[36mdesci_sense.shared_functions.web_extractors.citoid\u001b[0m:\u001b[36mfetch_citation\u001b[0m:\u001b[36m54\u001b[0m - \u001b[34m\u001b[1mfetching citoid data for: https://thewholesocial.substack.com/p/listen-rudolf-steiner-on-building-healthy-orgs\u001b[0m\n",
      "\u001b[32m2024-04-25 10:18:49.727\u001b[0m | \u001b[34m\u001b[1mDEBUG   \u001b[0m | \u001b[36mdesci_sense.shared_functions.web_extractors.citoid\u001b[0m:\u001b[36mfetch_citation\u001b[0m:\u001b[36m54\u001b[0m - \u001b[34m\u001b[1mfetching citoid data for: https://sites.google.com/view/svb80th\u001b[0m\n",
      "\u001b[32m2024-04-25 10:18:54.131\u001b[0m | \u001b[34m\u001b[1mDEBUG   \u001b[0m | \u001b[36mdesci_sense.shared_functions.web_extractors.citoid\u001b[0m:\u001b[36mfetch_citation\u001b[0m:\u001b[36m54\u001b[0m - \u001b[34m\u001b[1mfetching citoid data for: https://enhanced.org/update-wikipedia/\u001b[0m\n",
      "\u001b[32m2024-04-25 10:18:55.053\u001b[0m | \u001b[34m\u001b[1mDEBUG   \u001b[0m | \u001b[36mdesci_sense.shared_functions.web_extractors.citoid\u001b[0m:\u001b[36mfetch_citation\u001b[0m:\u001b[36m54\u001b[0m - \u001b[34m\u001b[1mfetching citoid data for: https://www.belial.fr/legacy/a/yannick-rumpala/cyberpunk-s-not-dead\u001b[0m\n",
      "\u001b[32m2024-04-25 10:18:57.729\u001b[0m | \u001b[34m\u001b[1mDEBUG   \u001b[0m | \u001b[36mdesci_sense.shared_functions.web_extractors.citoid\u001b[0m:\u001b[36mfetch_citation\u001b[0m:\u001b[36m54\u001b[0m - \u001b[34m\u001b[1mfetching citoid data for: https://wiki.p2pfoundation.net/Cosmo-Local_Reader\u001b[0m\n",
      "\u001b[32m2024-04-25 10:18:59.319\u001b[0m | \u001b[34m\u001b[1mDEBUG   \u001b[0m | \u001b[36mdesci_sense.shared_functions.web_extractors.citoid\u001b[0m:\u001b[36mfetch_citation\u001b[0m:\u001b[36m54\u001b[0m - \u001b[34m\u001b[1mfetching citoid data for: https://www.thealternative.org.uk/dailyalternative/2021/11/7/cosmolocal-reader?rq=Bauwens\u001b[0m\n",
      "\u001b[32m2024-04-25 10:18:59.948\u001b[0m | \u001b[34m\u001b[1mDEBUG   \u001b[0m | \u001b[36mdesci_sense.shared_functions.web_extractors.citoid\u001b[0m:\u001b[36mfetch_citation\u001b[0m:\u001b[36m54\u001b[0m - \u001b[34m\u001b[1mfetching citoid data for: https://twitter.com/aronvallinder/status/1779953971295031459\u001b[0m\n",
      "\u001b[32m2024-04-25 10:19:00.183\u001b[0m | \u001b[34m\u001b[1mDEBUG   \u001b[0m | \u001b[36mdesci_sense.shared_functions.web_extractors.citoid\u001b[0m:\u001b[36mfetch_citation\u001b[0m:\u001b[36m54\u001b[0m - \u001b[34m\u001b[1mfetching citoid data for: https://twitter.com/AnnaLeptikon/status/1779455802119450739/video/1\u001b[0m\n",
      "\u001b[32m2024-04-25 10:19:00.411\u001b[0m | \u001b[34m\u001b[1mDEBUG   \u001b[0m | \u001b[36mdesci_sense.shared_functions.web_extractors.citoid\u001b[0m:\u001b[36mfetch_citation\u001b[0m:\u001b[36m54\u001b[0m - \u001b[34m\u001b[1mfetching citoid data for: https://twitter.com/evantthompson/status/1778107723638243526\u001b[0m\n",
      "\u001b[32m2024-04-25 10:19:00.677\u001b[0m | \u001b[34m\u001b[1mDEBUG   \u001b[0m | \u001b[36mdesci_sense.shared_functions.web_extractors.citoid\u001b[0m:\u001b[36mfetch_citation\u001b[0m:\u001b[36m54\u001b[0m - \u001b[34m\u001b[1mfetching citoid data for: https://twitter.com/i/web/status/1777979082686222368\u001b[0m\n",
      "\u001b[32m2024-04-25 10:19:00.943\u001b[0m | \u001b[34m\u001b[1mDEBUG   \u001b[0m | \u001b[36mdesci_sense.shared_functions.web_extractors.citoid\u001b[0m:\u001b[36mfetch_citation\u001b[0m:\u001b[36m54\u001b[0m - \u001b[34m\u001b[1mfetching citoid data for: https://twitter.com/henriqgx/status/1775533919447716219\u001b[0m\n",
      "\u001b[32m2024-04-25 10:19:01.335\u001b[0m | \u001b[34m\u001b[1mDEBUG   \u001b[0m | \u001b[36mdesci_sense.shared_functions.web_extractors.citoid\u001b[0m:\u001b[36mfetch_citation\u001b[0m:\u001b[36m54\u001b[0m - \u001b[34m\u001b[1mfetching citoid data for: https://twitter.com/TylerAlterman/status/1777853053409923573\u001b[0m\n",
      "\u001b[32m2024-04-25 10:19:01.578\u001b[0m | \u001b[34m\u001b[1mDEBUG   \u001b[0m | \u001b[36mdesci_sense.shared_functions.web_extractors.citoid\u001b[0m:\u001b[36mfetch_citation\u001b[0m:\u001b[36m54\u001b[0m - \u001b[34m\u001b[1mfetching citoid data for: https://twitter.com/stephen_wolfram/status/1420898495607758852\u001b[0m\n",
      "\u001b[32m2024-04-25 10:19:01.789\u001b[0m | \u001b[34m\u001b[1mDEBUG   \u001b[0m | \u001b[36mdesci_sense.shared_functions.web_extractors.citoid\u001b[0m:\u001b[36mfetch_citation\u001b[0m:\u001b[36m54\u001b[0m - \u001b[34m\u001b[1mfetching citoid data for: https://medium.com/@max_cherepitsa/bret-victor-bookshelf-transcribed-eae4d63aa493\u001b[0m\n",
      "\u001b[32m2024-04-25 10:19:05.397\u001b[0m | \u001b[34m\u001b[1mDEBUG   \u001b[0m | \u001b[36mdesci_sense.shared_functions.web_extractors.citoid\u001b[0m:\u001b[36mfetch_citation\u001b[0m:\u001b[36m54\u001b[0m - \u001b[34m\u001b[1mfetching citoid data for: https://twitter.com/i/web/status/1775882740186874157\u001b[0m\n",
      "\u001b[32m2024-04-25 10:19:05.613\u001b[0m | \u001b[34m\u001b[1mDEBUG   \u001b[0m | \u001b[36mdesci_sense.shared_functions.web_extractors.citoid\u001b[0m:\u001b[36mfetch_citation\u001b[0m:\u001b[36m54\u001b[0m - \u001b[34m\u001b[1mfetching citoid data for: https://twitter.com/i/web/status/1775515114793242965\u001b[0m\n",
      "\u001b[32m2024-04-25 10:19:05.837\u001b[0m | \u001b[34m\u001b[1mDEBUG   \u001b[0m | \u001b[36mdesci_sense.shared_functions.web_extractors.citoid\u001b[0m:\u001b[36mfetch_citation\u001b[0m:\u001b[36m54\u001b[0m - \u001b[34m\u001b[1mfetching citoid data for: https://twitter.com/uncatherio/status/1775253473942249922\u001b[0m\n",
      "\u001b[32m2024-04-25 10:19:06.058\u001b[0m | \u001b[34m\u001b[1mDEBUG   \u001b[0m | \u001b[36mdesci_sense.shared_functions.web_extractors.citoid\u001b[0m:\u001b[36mfetch_citation\u001b[0m:\u001b[36m54\u001b[0m - \u001b[34m\u001b[1mfetching citoid data for: https://twitter.com/AnnaLeptikon/status/1773420839028871646/photo/1\u001b[0m\n",
      "\u001b[32m2024-04-25 10:19:06.279\u001b[0m | \u001b[34m\u001b[1mDEBUG   \u001b[0m | \u001b[36mdesci_sense.shared_functions.web_extractors.citoid\u001b[0m:\u001b[36mfetch_citation\u001b[0m:\u001b[36m54\u001b[0m - \u001b[34m\u001b[1mfetching citoid data for: https://twitter.com/paulg/status/1773354832566305019\u001b[0m\n",
      "\u001b[32m2024-04-25 10:19:06.538\u001b[0m | \u001b[34m\u001b[1mDEBUG   \u001b[0m | \u001b[36mdesci_sense.shared_functions.web_extractors.citoid\u001b[0m:\u001b[36mfetch_citation\u001b[0m:\u001b[36m54\u001b[0m - \u001b[34m\u001b[1mfetching citoid data for: https://twitter.com/i/web/status/1773280770225819685\u001b[0m\n",
      "\u001b[32m2024-04-25 10:19:06.763\u001b[0m | \u001b[34m\u001b[1mDEBUG   \u001b[0m | \u001b[36mdesci_sense.shared_functions.web_extractors.citoid\u001b[0m:\u001b[36mfetch_citation\u001b[0m:\u001b[36m54\u001b[0m - \u001b[34m\u001b[1mfetching citoid data for: https://twitter.com/AnnaLeptikon/status/1773024528337170450\u001b[0m\n",
      "\u001b[32m2024-04-25 10:19:06.969\u001b[0m | \u001b[34m\u001b[1mDEBUG   \u001b[0m | \u001b[36mdesci_sense.shared_functions.web_extractors.citoid\u001b[0m:\u001b[36mfetch_citation\u001b[0m:\u001b[36m54\u001b[0m - \u001b[34m\u001b[1mfetching citoid data for: https://twitter.com/i/web/status/1773247367740883276\u001b[0m\n",
      "\u001b[32m2024-04-25 10:19:09.291\u001b[0m | \u001b[34m\u001b[1mDEBUG   \u001b[0m | \u001b[36mdesci_sense.shared_functions.web_extractors.citoid\u001b[0m:\u001b[36mfetch_citation\u001b[0m:\u001b[36m54\u001b[0m - \u001b[34m\u001b[1mfetching citoid data for: https://twitter.com/Culture_Crit/status/1773062043806953587\u001b[0m\n",
      "\u001b[32m2024-04-25 10:19:09.498\u001b[0m | \u001b[34m\u001b[1mDEBUG   \u001b[0m | \u001b[36mdesci_sense.shared_functions.web_extractors.citoid\u001b[0m:\u001b[36mfetch_citation\u001b[0m:\u001b[36m54\u001b[0m - \u001b[34m\u001b[1mfetching citoid data for: https://twitter.com/AnnaLeptikon/status/1773024528337170450/photo/1\u001b[0m\n",
      "\u001b[32m2024-04-25 10:19:09.710\u001b[0m | \u001b[34m\u001b[1mDEBUG   \u001b[0m | \u001b[36mdesci_sense.shared_functions.web_extractors.citoid\u001b[0m:\u001b[36mfetch_citation\u001b[0m:\u001b[36m54\u001b[0m - \u001b[34m\u001b[1mfetching citoid data for: https://twitter.com/i/web/status/1772939489452716297\u001b[0m\n",
      "\u001b[32m2024-04-25 10:19:09.920\u001b[0m | \u001b[34m\u001b[1mDEBUG   \u001b[0m | \u001b[36mdesci_sense.shared_functions.web_extractors.citoid\u001b[0m:\u001b[36mfetch_citation\u001b[0m:\u001b[36m54\u001b[0m - \u001b[34m\u001b[1mfetching citoid data for: https://twitter.com/aeonmag/status/1772722212492935372\u001b[0m\n",
      "\u001b[32m2024-04-25 10:19:10.120\u001b[0m | \u001b[34m\u001b[1mDEBUG   \u001b[0m | \u001b[36mdesci_sense.shared_functions.web_extractors.citoid\u001b[0m:\u001b[36mfetch_citation\u001b[0m:\u001b[36m54\u001b[0m - \u001b[34m\u001b[1mfetching citoid data for: https://tiermaker.com/create/cryptography-15683166\u001b[0m\n",
      "\u001b[32m2024-04-25 10:19:10.300\u001b[0m | \u001b[34m\u001b[1mDEBUG   \u001b[0m | \u001b[36mdesci_sense.shared_functions.web_extractors.citoid\u001b[0m:\u001b[36mfetch_citation\u001b[0m:\u001b[36m54\u001b[0m - \u001b[34m\u001b[1mfetching citoid data for: https://twitter.com/balazskegl/status/1768681609815826545\u001b[0m\n",
      "\u001b[32m2024-04-25 10:19:10.513\u001b[0m | \u001b[34m\u001b[1mDEBUG   \u001b[0m | \u001b[36mdesci_sense.shared_functions.web_extractors.citoid\u001b[0m:\u001b[36mfetch_citation\u001b[0m:\u001b[36m54\u001b[0m - \u001b[34m\u001b[1mfetching citoid data for: https://twitter.com/jordanbpeterson/status/1766694909916905787\u001b[0m\n",
      "\u001b[32m2024-04-25 10:19:10.726\u001b[0m | \u001b[34m\u001b[1mDEBUG   \u001b[0m | \u001b[36mdesci_sense.shared_functions.web_extractors.citoid\u001b[0m:\u001b[36mfetch_citation\u001b[0m:\u001b[36m54\u001b[0m - \u001b[34m\u001b[1mfetching citoid data for: https://twitter.com/i/web/status/1765693073344942499\u001b[0m\n",
      "\u001b[32m2024-04-25 10:19:10.926\u001b[0m | \u001b[34m\u001b[1mDEBUG   \u001b[0m | \u001b[36mdesci_sense.shared_functions.web_extractors.citoid\u001b[0m:\u001b[36mfetch_citation\u001b[0m:\u001b[36m54\u001b[0m - \u001b[34m\u001b[1mfetching citoid data for: https://twitter.com/AnnaLeptikon/status/1765693073344942499/photo/1\u001b[0m\n",
      "\u001b[32m2024-04-25 10:19:11.638\u001b[0m | \u001b[34m\u001b[1mDEBUG   \u001b[0m | \u001b[36mdesci_sense.shared_functions.web_extractors.citoid\u001b[0m:\u001b[36mfetch_citation\u001b[0m:\u001b[36m54\u001b[0m - \u001b[34m\u001b[1mfetching citoid data for: https://twitter.com/eshear/status/1764479991511998518\u001b[0m\n",
      "\u001b[32m2024-04-25 10:19:11.847\u001b[0m | \u001b[34m\u001b[1mDEBUG   \u001b[0m | \u001b[36mdesci_sense.shared_functions.web_extractors.citoid\u001b[0m:\u001b[36mfetch_citation\u001b[0m:\u001b[36m54\u001b[0m - \u001b[34m\u001b[1mfetching citoid data for: https://metamoderna.org/game-denial/\u001b[0m\n",
      "\u001b[32m2024-04-25 10:19:13.537\u001b[0m | \u001b[34m\u001b[1mDEBUG   \u001b[0m | \u001b[36mdesci_sense.shared_functions.web_extractors.citoid\u001b[0m:\u001b[36mfetch_citation\u001b[0m:\u001b[36m54\u001b[0m - \u001b[34m\u001b[1mfetching citoid data for: https://twitter.com/tsarnick/status/1761947002907369963\u001b[0m\n",
      "\u001b[32m2024-04-25 10:19:13.773\u001b[0m | \u001b[34m\u001b[1mDEBUG   \u001b[0m | \u001b[36mdesci_sense.shared_functions.web_extractors.citoid\u001b[0m:\u001b[36mfetch_citation\u001b[0m:\u001b[36m54\u001b[0m - \u001b[34m\u001b[1mfetching citoid data for: https://twitter.com/buitengebieden/status/1762252017752322190\u001b[0m\n",
      "\u001b[32m2024-04-25 10:19:13.956\u001b[0m | \u001b[34m\u001b[1mDEBUG   \u001b[0m | \u001b[36mdesci_sense.shared_functions.web_extractors.citoid\u001b[0m:\u001b[36mfetch_citation\u001b[0m:\u001b[36m54\u001b[0m - \u001b[34m\u001b[1mfetching citoid data for: https://twitter.com/i/web/status/1762023725384286710\u001b[0m\n",
      "\u001b[32m2024-04-25 10:19:14.152\u001b[0m | \u001b[34m\u001b[1mDEBUG   \u001b[0m | \u001b[36mdesci_sense.shared_functions.web_extractors.citoid\u001b[0m:\u001b[36mfetch_citation\u001b[0m:\u001b[36m54\u001b[0m - \u001b[34m\u001b[1mfetching citoid data for: https://twitter.com/mjuric/status/1761981816125469064\u001b[0m\n",
      "\u001b[32m2024-04-25 10:19:14.330\u001b[0m | \u001b[34m\u001b[1mDEBUG   \u001b[0m | \u001b[36mdesci_sense.shared_functions.web_extractors.citoid\u001b[0m:\u001b[36mfetch_citation\u001b[0m:\u001b[36m54\u001b[0m - \u001b[34m\u001b[1mfetching citoid data for: https://twitter.com/i/web/status/1761282997561459095\u001b[0m\n",
      "\u001b[32m2024-04-25 10:19:14.543\u001b[0m | \u001b[34m\u001b[1mDEBUG   \u001b[0m | \u001b[36mdesci_sense.shared_functions.web_extractors.citoid\u001b[0m:\u001b[36mfetch_citation\u001b[0m:\u001b[36m54\u001b[0m - \u001b[34m\u001b[1mfetching citoid data for: https://twitter.com/robkhenderson/status/1761164071808721055\u001b[0m\n",
      "\u001b[32m2024-04-25 10:19:14.751\u001b[0m | \u001b[34m\u001b[1mDEBUG   \u001b[0m | \u001b[36mdesci_sense.shared_functions.web_extractors.citoid\u001b[0m:\u001b[36mfetch_citation\u001b[0m:\u001b[36m54\u001b[0m - \u001b[34m\u001b[1mfetching citoid data for: https://twitter.com/SanderVerhaegh/status/1755940602015813737\u001b[0m\n",
      "\u001b[32m2024-04-25 10:19:14.966\u001b[0m | \u001b[34m\u001b[1mDEBUG   \u001b[0m | \u001b[36mdesci_sense.shared_functions.web_extractors.citoid\u001b[0m:\u001b[36mfetch_citation\u001b[0m:\u001b[36m54\u001b[0m - \u001b[34m\u001b[1mfetching citoid data for: https://fluidityforum.org/\u001b[0m\n",
      "\u001b[32m2024-04-25 10:19:15.506\u001b[0m | \u001b[34m\u001b[1mDEBUG   \u001b[0m | \u001b[36mdesci_sense.shared_functions.web_extractors.citoid\u001b[0m:\u001b[36mfetch_citation\u001b[0m:\u001b[36m54\u001b[0m - \u001b[34m\u001b[1mfetching citoid data for: https://twitter.com/i/web/status/1755214544463442292\u001b[0m\n",
      "\u001b[32m2024-04-25 10:19:15.756\u001b[0m | \u001b[34m\u001b[1mDEBUG   \u001b[0m | \u001b[36mdesci_sense.shared_functions.web_extractors.citoid\u001b[0m:\u001b[36mfetch_citation\u001b[0m:\u001b[36m54\u001b[0m - \u001b[34m\u001b[1mfetching citoid data for: https://twitter.com/AnnaLeptikon/status/1755214544463442292/photo/1\u001b[0m\n",
      "\u001b[32m2024-04-25 10:19:15.931\u001b[0m | \u001b[34m\u001b[1mDEBUG   \u001b[0m | \u001b[36mdesci_sense.shared_functions.web_extractors.citoid\u001b[0m:\u001b[36mfetch_citation\u001b[0m:\u001b[36m54\u001b[0m - \u001b[34m\u001b[1mfetching citoid data for: https://twitter.com/i/web/status/1754453875338223870\u001b[0m\n",
      "\u001b[32m2024-04-25 10:19:16.157\u001b[0m | \u001b[34m\u001b[1mDEBUG   \u001b[0m | \u001b[36mdesci_sense.shared_functions.web_extractors.citoid\u001b[0m:\u001b[36mfetch_citation\u001b[0m:\u001b[36m54\u001b[0m - \u001b[34m\u001b[1mfetching citoid data for: https://twitter.com/AnnaLeptikon/status/1754453875338223870/photo/1\u001b[0m\n",
      "\u001b[32m2024-04-25 10:19:16.357\u001b[0m | \u001b[34m\u001b[1mDEBUG   \u001b[0m | \u001b[36mdesci_sense.shared_functions.web_extractors.citoid\u001b[0m:\u001b[36mfetch_citation\u001b[0m:\u001b[36m54\u001b[0m - \u001b[34m\u001b[1mfetching citoid data for: https://twitter.com/balazskegl/status/1754444117680034240\u001b[0m\n",
      "\u001b[32m2024-04-25 10:19:16.592\u001b[0m | \u001b[34m\u001b[1mDEBUG   \u001b[0m | \u001b[36mdesci_sense.shared_functions.web_extractors.citoid\u001b[0m:\u001b[36mfetch_citation\u001b[0m:\u001b[36m54\u001b[0m - \u001b[34m\u001b[1mfetching citoid data for: https://twitter.com/i/web/status/1754210003974488537\u001b[0m\n",
      "\u001b[32m2024-04-25 10:19:17.475\u001b[0m | \u001b[34m\u001b[1mDEBUG   \u001b[0m | \u001b[36mdesci_sense.shared_functions.web_extractors.citoid\u001b[0m:\u001b[36mfetch_citation\u001b[0m:\u001b[36m54\u001b[0m - \u001b[34m\u001b[1mfetching citoid data for: https://twitter.com/AnnaLeptikon/status/1754210003974488537/photo/1\u001b[0m\n",
      "\u001b[32m2024-04-25 10:19:17.652\u001b[0m | \u001b[34m\u001b[1mDEBUG   \u001b[0m | \u001b[36mdesci_sense.shared_functions.web_extractors.citoid\u001b[0m:\u001b[36mfetch_citation\u001b[0m:\u001b[36m54\u001b[0m - \u001b[34m\u001b[1mfetching citoid data for: https://twitter.com/ChrisWillx/status/1754203167603257785\u001b[0m\n",
      "\u001b[32m2024-04-25 10:19:17.829\u001b[0m | \u001b[34m\u001b[1mDEBUG   \u001b[0m | \u001b[36mdesci_sense.shared_functions.web_extractors.citoid\u001b[0m:\u001b[36mfetch_citation\u001b[0m:\u001b[36m54\u001b[0m - \u001b[34m\u001b[1mfetching citoid data for: https://twitter.com/APotochnik/status/1749520908912361629\u001b[0m\n",
      "\u001b[32m2024-04-25 10:19:18.054\u001b[0m | \u001b[34m\u001b[1mDEBUG   \u001b[0m | \u001b[36mdesci_sense.shared_functions.web_extractors.citoid\u001b[0m:\u001b[36mfetch_citation\u001b[0m:\u001b[36m54\u001b[0m - \u001b[34m\u001b[1mfetching citoid data for: https://brettandersen.substack.com/p/the-illusion-of-morality\u001b[0m\n",
      "\u001b[32m2024-04-25 10:19:19.114\u001b[0m | \u001b[34m\u001b[1mDEBUG   \u001b[0m | \u001b[36mdesci_sense.shared_functions.web_extractors.citoid\u001b[0m:\u001b[36mfetch_citation\u001b[0m:\u001b[36m54\u001b[0m - \u001b[34m\u001b[1mfetching citoid data for: https://twitter.com/i/web/status/1749760173978079721\u001b[0m\n",
      "\u001b[32m2024-04-25 10:19:20.712\u001b[0m | \u001b[34m\u001b[1mDEBUG   \u001b[0m | \u001b[36mdesci_sense.shared_functions.web_extractors.citoid\u001b[0m:\u001b[36mfetch_citation\u001b[0m:\u001b[36m54\u001b[0m - \u001b[34m\u001b[1mfetching citoid data for: https://twitter.com/scarlett4kids/status/1749669395389980842\u001b[0m\n",
      "\u001b[32m2024-04-25 10:19:20.913\u001b[0m | \u001b[34m\u001b[1mDEBUG   \u001b[0m | \u001b[36mdesci_sense.shared_functions.web_extractors.citoid\u001b[0m:\u001b[36mfetch_citation\u001b[0m:\u001b[36m54\u001b[0m - \u001b[34m\u001b[1mfetching citoid data for: https://twitter.com/i/web/status/1746550501703815284\u001b[0m\n",
      "\u001b[32m2024-04-25 10:19:21.148\u001b[0m | \u001b[34m\u001b[1mDEBUG   \u001b[0m | \u001b[36mdesci_sense.shared_functions.web_extractors.citoid\u001b[0m:\u001b[36mfetch_citation\u001b[0m:\u001b[36m54\u001b[0m - \u001b[34m\u001b[1mfetching citoid data for: https://twitter.com/fchollet/status/1745971456310227090\u001b[0m\n",
      "\u001b[32m2024-04-25 10:19:21.361\u001b[0m | \u001b[34m\u001b[1mDEBUG   \u001b[0m | \u001b[36mdesci_sense.shared_functions.web_extractors.citoid\u001b[0m:\u001b[36mfetch_citation\u001b[0m:\u001b[36m54\u001b[0m - \u001b[34m\u001b[1mfetching citoid data for: https://twitter.com/AnnaLeptikon/status/1741418219972297038/photo/1\u001b[0m\n",
      "\u001b[32m2024-04-25 10:19:21.578\u001b[0m | \u001b[34m\u001b[1mDEBUG   \u001b[0m | \u001b[36mdesci_sense.shared_functions.web_extractors.citoid\u001b[0m:\u001b[36mfetch_citation\u001b[0m:\u001b[36m54\u001b[0m - \u001b[34m\u001b[1mfetching citoid data for: https://twitter.com/AnnaLeptikon/status/1741117110992896321\u001b[0m\n",
      "\u001b[32m2024-04-25 10:19:21.774\u001b[0m | \u001b[34m\u001b[1mDEBUG   \u001b[0m | \u001b[36mdesci_sense.shared_functions.web_extractors.citoid\u001b[0m:\u001b[36mfetch_citation\u001b[0m:\u001b[36m54\u001b[0m - \u001b[34m\u001b[1mfetching citoid data for: https://twitter.com/AnnaLeptikon/status/1741117110992896321/photo/1\u001b[0m\n",
      "\u001b[32m2024-04-25 10:19:21.978\u001b[0m | \u001b[34m\u001b[1mDEBUG   \u001b[0m | \u001b[36mdesci_sense.shared_functions.web_extractors.citoid\u001b[0m:\u001b[36mfetch_citation\u001b[0m:\u001b[36m54\u001b[0m - \u001b[34m\u001b[1mfetching citoid data for: https://twitter.com/AnnaLeptikon/status/1610312057156685830\u001b[0m\n",
      "\u001b[32m2024-04-25 10:19:22.205\u001b[0m | \u001b[34m\u001b[1mDEBUG   \u001b[0m | \u001b[36mdesci_sense.shared_functions.web_extractors.citoid\u001b[0m:\u001b[36mfetch_citation\u001b[0m:\u001b[36m54\u001b[0m - \u001b[34m\u001b[1mfetching citoid data for: https://twitter.com/yoginho/status/1740411486797795799\u001b[0m\n",
      "\u001b[32m2024-04-25 10:19:22.400\u001b[0m | \u001b[34m\u001b[1mDEBUG   \u001b[0m | \u001b[36mdesci_sense.shared_functions.web_extractors.citoid\u001b[0m:\u001b[36mfetch_citation\u001b[0m:\u001b[36m54\u001b[0m - \u001b[34m\u001b[1mfetching citoid data for: https://twitter.com/archeohistories/status/1480350370668761089\u001b[0m\n",
      "\u001b[32m2024-04-25 10:19:22.644\u001b[0m | \u001b[34m\u001b[1mDEBUG   \u001b[0m | \u001b[36mdesci_sense.shared_functions.web_extractors.citoid\u001b[0m:\u001b[36mfetch_citation\u001b[0m:\u001b[36m54\u001b[0m - \u001b[34m\u001b[1mfetching citoid data for: https://twitter.com/themaxburns/status/1775215997898698907\u001b[0m\n",
      "\u001b[32m2024-04-25 10:19:24.245\u001b[0m | \u001b[34m\u001b[1mDEBUG   \u001b[0m | \u001b[36mdesci_sense.shared_functions.web_extractors.citoid\u001b[0m:\u001b[36mfetch_citation\u001b[0m:\u001b[36m54\u001b[0m - \u001b[34m\u001b[1mfetching citoid data for: https://x.com/nickmvincent/status/1769440143566594359?s=20\u001b[0m\n",
      "\u001b[32m2024-04-25 10:19:24.627\u001b[0m | \u001b[34m\u001b[1mDEBUG   \u001b[0m | \u001b[36mdesci_sense.shared_functions.web_extractors.citoid\u001b[0m:\u001b[36mfetch_citation\u001b[0m:\u001b[36m54\u001b[0m - \u001b[34m\u001b[1mfetching citoid data for: https://www.washingtonpost.com/technology/interactive/2024/what-is-ai/\u001b[0m\n",
      "\u001b[32m2024-04-25 10:20:02.650\u001b[0m | \u001b[34m\u001b[1mDEBUG   \u001b[0m | \u001b[36mdesci_sense.shared_functions.web_extractors.citoid\u001b[0m:\u001b[36mfetch_citation\u001b[0m:\u001b[36m54\u001b[0m - \u001b[34m\u001b[1mfetching citoid data for: https://twitter.com/fchollet/status/1774099515458617825\u001b[0m\n",
      "\u001b[32m2024-04-25 10:20:03.398\u001b[0m | \u001b[34m\u001b[1mDEBUG   \u001b[0m | \u001b[36mdesci_sense.shared_functions.web_extractors.citoid\u001b[0m:\u001b[36mfetch_citation\u001b[0m:\u001b[36m54\u001b[0m - \u001b[34m\u001b[1mfetching citoid data for: https://sites.google.com/stanford.edu/icwsm-2024-data-challenge/home\u001b[0m\n",
      "\u001b[32m2024-04-25 10:20:03.968\u001b[0m | \u001b[34m\u001b[1mDEBUG   \u001b[0m | \u001b[36mdesci_sense.shared_functions.web_extractors.citoid\u001b[0m:\u001b[36mfetch_citation\u001b[0m:\u001b[36m54\u001b[0m - \u001b[34m\u001b[1mfetching citoid data for: https://arxiv.org/abs/2310.02238\u001b[0m\n",
      "\u001b[32m2024-04-25 10:20:06.038\u001b[0m | \u001b[34m\u001b[1mDEBUG   \u001b[0m | \u001b[36mdesci_sense.shared_functions.web_extractors.citoid\u001b[0m:\u001b[36mfetch_citation\u001b[0m:\u001b[36m54\u001b[0m - \u001b[34m\u001b[1mfetching citoid data for: https://arxiv.org/abs/2403.13073\u001b[0m\n",
      "\u001b[32m2024-04-25 10:20:08.696\u001b[0m | \u001b[34m\u001b[1mDEBUG   \u001b[0m | \u001b[36mdesci_sense.shared_functions.web_extractors.citoid\u001b[0m:\u001b[36mfetch_citation\u001b[0m:\u001b[36m54\u001b[0m - \u001b[34m\u001b[1mfetching citoid data for: https://twitter.com/emollick/status/1769887930288320925\u001b[0m\n",
      "\u001b[32m2024-04-25 10:20:08.971\u001b[0m | \u001b[34m\u001b[1mDEBUG   \u001b[0m | \u001b[36mdesci_sense.shared_functions.web_extractors.citoid\u001b[0m:\u001b[36mfetch_citation\u001b[0m:\u001b[36m54\u001b[0m - \u001b[34m\u001b[1mfetching citoid data for: https://twitter.com/AravSrinivas/status/1770128084999758130\u001b[0m\n",
      "\u001b[32m2024-04-25 10:20:09.184\u001b[0m | \u001b[34m\u001b[1mDEBUG   \u001b[0m | \u001b[36mdesci_sense.shared_functions.web_extractors.citoid\u001b[0m:\u001b[36mfetch_citation\u001b[0m:\u001b[36m54\u001b[0m - \u001b[34m\u001b[1mfetching citoid data for: https://twitter.com/a_baronca/status/1769738795342082059\u001b[0m\n",
      "\u001b[32m2024-04-25 10:20:09.370\u001b[0m | \u001b[34m\u001b[1mDEBUG   \u001b[0m | \u001b[36mdesci_sense.shared_functions.web_extractors.citoid\u001b[0m:\u001b[36mfetch_citation\u001b[0m:\u001b[36m54\u001b[0m - \u001b[34m\u001b[1mfetching citoid data for: https://twitter.com/MishaTeplitskiy/status/1769433162122232127\u001b[0m\n",
      "\u001b[32m2024-04-25 10:20:09.614\u001b[0m | \u001b[34m\u001b[1mDEBUG   \u001b[0m | \u001b[36mdesci_sense.shared_functions.web_extractors.citoid\u001b[0m:\u001b[36mfetch_citation\u001b[0m:\u001b[36m54\u001b[0m - \u001b[34m\u001b[1mfetching citoid data for: https://twitter.com/inflectionai/status/1766173427441049684\u001b[0m\n",
      "\u001b[32m2024-04-25 10:20:09.874\u001b[0m | \u001b[34m\u001b[1mDEBUG   \u001b[0m | \u001b[36mdesci_sense.shared_functions.web_extractors.citoid\u001b[0m:\u001b[36mfetch_citation\u001b[0m:\u001b[36m54\u001b[0m - \u001b[34m\u001b[1mfetching citoid data for: https://twitter.com/seshubon/status/1765870717844050221\u001b[0m\n",
      "\u001b[32m2024-04-25 10:20:10.096\u001b[0m | \u001b[34m\u001b[1mDEBUG   \u001b[0m | \u001b[36mdesci_sense.shared_functions.web_extractors.citoid\u001b[0m:\u001b[36mfetch_citation\u001b[0m:\u001b[36m54\u001b[0m - \u001b[34m\u001b[1mfetching citoid data for: https://twitter.com/sigchi/status/1763168004194394260\u001b[0m\n",
      "\u001b[32m2024-04-25 10:20:10.300\u001b[0m | \u001b[34m\u001b[1mDEBUG   \u001b[0m | \u001b[36mdesci_sense.shared_functions.web_extractors.citoid\u001b[0m:\u001b[36mfetch_citation\u001b[0m:\u001b[36m54\u001b[0m - \u001b[34m\u001b[1mfetching citoid data for: https://dataleverage.substack.com/p/reddit-stackoverflow-and-europe-all\u001b[0m\n",
      "\u001b[32m2024-04-25 10:20:10.903\u001b[0m | \u001b[34m\u001b[1mDEBUG   \u001b[0m | \u001b[36mdesci_sense.shared_functions.web_extractors.citoid\u001b[0m:\u001b[36mfetch_citation\u001b[0m:\u001b[36m54\u001b[0m - \u001b[34m\u001b[1mfetching citoid data for: https://twitter.com/erikphoel/status/1758875800294539600\u001b[0m\n",
      "\u001b[32m2024-04-25 10:20:11.236\u001b[0m | \u001b[34m\u001b[1mDEBUG   \u001b[0m | \u001b[36mdesci_sense.shared_functions.web_extractors.citoid\u001b[0m:\u001b[36mfetch_citation\u001b[0m:\u001b[36m54\u001b[0m - \u001b[34m\u001b[1mfetching citoid data for: https://twitter.com/Saragoud/status/1754526410440343697\u001b[0m\n",
      "\u001b[32m2024-04-25 10:20:11.436\u001b[0m | \u001b[34m\u001b[1mDEBUG   \u001b[0m | \u001b[36mdesci_sense.shared_functions.web_extractors.citoid\u001b[0m:\u001b[36mfetch_citation\u001b[0m:\u001b[36m54\u001b[0m - \u001b[34m\u001b[1mfetching citoid data for: https://twitter.com/alexeheath/status/1753175702499967415\u001b[0m\n",
      "\u001b[32m2024-04-25 10:20:11.626\u001b[0m | \u001b[34m\u001b[1mDEBUG   \u001b[0m | \u001b[36mdesci_sense.shared_functions.web_extractors.citoid\u001b[0m:\u001b[36mfetch_citation\u001b[0m:\u001b[36m54\u001b[0m - \u001b[34m\u001b[1mfetching citoid data for: https://arxiv.org/abs/2404.10719\u001b[0m\n",
      "\u001b[32m2024-04-25 10:20:13.699\u001b[0m | \u001b[34m\u001b[1mDEBUG   \u001b[0m | \u001b[36mdesci_sense.shared_functions.web_extractors.citoid\u001b[0m:\u001b[36mfetch_citation\u001b[0m:\u001b[36m54\u001b[0m - \u001b[34m\u001b[1mfetching citoid data for: https://twitter.com/yanaiela/status/1780274904031732222\u001b[0m\n",
      "\u001b[32m2024-04-25 10:20:13.890\u001b[0m | \u001b[34m\u001b[1mDEBUG   \u001b[0m | \u001b[36mdesci_sense.shared_functions.web_extractors.citoid\u001b[0m:\u001b[36mfetch_citation\u001b[0m:\u001b[36m54\u001b[0m - \u001b[34m\u001b[1mfetching citoid data for: https://twitter.com/LChoshen/status/1780200318698938653/photo/1\u001b[0m\n",
      "\u001b[32m2024-04-25 10:20:14.114\u001b[0m | \u001b[34m\u001b[1mDEBUG   \u001b[0m | \u001b[36mdesci_sense.shared_functions.web_extractors.citoid\u001b[0m:\u001b[36mfetch_citation\u001b[0m:\u001b[36m54\u001b[0m - \u001b[34m\u001b[1mfetching citoid data for: https://arxiv.org/abs/2404.08760\u001b[0m\n",
      "\u001b[32m2024-04-25 10:20:16.360\u001b[0m | \u001b[34m\u001b[1mDEBUG   \u001b[0m | \u001b[36mdesci_sense.shared_functions.web_extractors.citoid\u001b[0m:\u001b[36mfetch_citation\u001b[0m:\u001b[36m54\u001b[0m - \u001b[34m\u001b[1mfetching citoid data for: https://twitter.com/LChoshen/status/1780200317088387242/photo/1\u001b[0m\n",
      "\u001b[32m2024-04-25 10:20:16.562\u001b[0m | \u001b[34m\u001b[1mDEBUG   \u001b[0m | \u001b[36mdesci_sense.shared_functions.web_extractors.citoid\u001b[0m:\u001b[36mfetch_citation\u001b[0m:\u001b[36m54\u001b[0m - \u001b[34m\u001b[1mfetching citoid data for: https://twitter.com/LChoshen/status/1779884877455708430/photo/1\u001b[0m\n",
      "\u001b[32m2024-04-25 10:20:18.447\u001b[0m | \u001b[34m\u001b[1mDEBUG   \u001b[0m | \u001b[36mdesci_sense.shared_functions.web_extractors.citoid\u001b[0m:\u001b[36mfetch_citation\u001b[0m:\u001b[36m54\u001b[0m - \u001b[34m\u001b[1mfetching citoid data for: https://twitter.com/babyLMchallenge/status/1778028119045165568\u001b[0m\n",
      "\u001b[32m2024-04-25 10:20:18.678\u001b[0m | \u001b[34m\u001b[1mDEBUG   \u001b[0m | \u001b[36mdesci_sense.shared_functions.web_extractors.citoid\u001b[0m:\u001b[36mfetch_citation\u001b[0m:\u001b[36m54\u001b[0m - \u001b[34m\u001b[1mfetching citoid data for: https://x.com/LChoshen/status/1758257033521057984\u001b[0m\n",
      "\u001b[32m2024-04-25 10:20:19.051\u001b[0m | \u001b[34m\u001b[1mDEBUG   \u001b[0m | \u001b[36mdesci_sense.shared_functions.web_extractors.citoid\u001b[0m:\u001b[36mfetch_citation\u001b[0m:\u001b[36m54\u001b[0m - \u001b[34m\u001b[1mfetching citoid data for: https://x.com/LChoshen/status/1778788855749255190\u001b[0m\n",
      "\u001b[32m2024-04-25 10:20:19.349\u001b[0m | \u001b[34m\u001b[1mDEBUG   \u001b[0m | \u001b[36mdesci_sense.shared_functions.web_extractors.citoid\u001b[0m:\u001b[36mfetch_citation\u001b[0m:\u001b[36m54\u001b[0m - \u001b[34m\u001b[1mfetching citoid data for: https://arxiv.org/abs/2402.16902\u001b[0m\n",
      "\u001b[32m2024-04-25 10:20:21.798\u001b[0m | \u001b[34m\u001b[1mDEBUG   \u001b[0m | \u001b[36mdesci_sense.shared_functions.web_extractors.citoid\u001b[0m:\u001b[36mfetch_citation\u001b[0m:\u001b[36m54\u001b[0m - \u001b[34m\u001b[1mfetching citoid data for: https://twitter.com/jamichaelov/status/1778116846266560687?t=jK7jwy4-sbXGI53h64BFHg&s=19\u001b[0m\n",
      "\u001b[32m2024-04-25 10:20:22.194\u001b[0m | \u001b[34m\u001b[1mDEBUG   \u001b[0m | \u001b[36mdesci_sense.shared_functions.web_extractors.citoid\u001b[0m:\u001b[36mfetch_citation\u001b[0m:\u001b[36m54\u001b[0m - \u001b[34m\u001b[1mfetching citoid data for: https://twitter.com/babyLMchallenge/status/1778028119045165568\u001b[0m\n",
      "\u001b[32m2024-04-25 10:20:22.432\u001b[0m | \u001b[34m\u001b[1mDEBUG   \u001b[0m | \u001b[36mdesci_sense.shared_functions.web_extractors.citoid\u001b[0m:\u001b[36mfetch_citation\u001b[0m:\u001b[36m54\u001b[0m - \u001b[34m\u001b[1mfetching citoid data for: https://twitter.com/NivCohenHuji/status/1777537483468636665\u001b[0m\n",
      "\u001b[32m2024-04-25 10:20:22.632\u001b[0m | \u001b[34m\u001b[1mDEBUG   \u001b[0m | \u001b[36mdesci_sense.shared_functions.web_extractors.citoid\u001b[0m:\u001b[36mfetch_citation\u001b[0m:\u001b[36m54\u001b[0m - \u001b[34m\u001b[1mfetching citoid data for: https://twitter.com/LChoshen/status/1777653490153660680\u001b[0m\n",
      "\u001b[32m2024-04-25 10:20:22.854\u001b[0m | \u001b[34m\u001b[1mDEBUG   \u001b[0m | \u001b[36mdesci_sense.shared_functions.web_extractors.citoid\u001b[0m:\u001b[36mfetch_citation\u001b[0m:\u001b[36m54\u001b[0m - \u001b[34m\u001b[1mfetching citoid data for: https://easychair.org/publications/preprint/N9MH\u001b[0m\n",
      "\u001b[32m2024-04-25 10:21:28.084\u001b[0m | \u001b[34m\u001b[1mDEBUG   \u001b[0m | \u001b[36mdesci_sense.shared_functions.web_extractors.citoid\u001b[0m:\u001b[36mfetch_citation\u001b[0m:\u001b[36m54\u001b[0m - \u001b[34m\u001b[1mfetching citoid data for: https://twitter.com/LChoshen/status/1777653500723245182/photo/1\u001b[0m\n",
      "\u001b[32m2024-04-25 10:21:28.351\u001b[0m | \u001b[34m\u001b[1mDEBUG   \u001b[0m | \u001b[36mdesci_sense.shared_functions.web_extractors.citoid\u001b[0m:\u001b[36mfetch_citation\u001b[0m:\u001b[36m54\u001b[0m - \u001b[34m\u001b[1mfetching citoid data for: https://x.com/prateeky2806/status/1727589828609331666\u001b[0m\n",
      "\u001b[32m2024-04-25 10:21:28.719\u001b[0m | \u001b[34m\u001b[1mDEBUG   \u001b[0m | \u001b[36mdesci_sense.shared_functions.web_extractors.citoid\u001b[0m:\u001b[36mfetch_citation\u001b[0m:\u001b[36m54\u001b[0m - \u001b[34m\u001b[1mfetching citoid data for: https://x.com/LChoshen/status/1739082431783723402\u001b[0m\n",
      "\u001b[32m2024-04-25 10:21:29.063\u001b[0m | \u001b[34m\u001b[1mDEBUG   \u001b[0m | \u001b[36mdesci_sense.shared_functions.web_extractors.citoid\u001b[0m:\u001b[36mfetch_citation\u001b[0m:\u001b[36m54\u001b[0m - \u001b[34m\u001b[1mfetching citoid data for: https://twitter.com/LChoshen/status/1777653496407355835/photo/1\u001b[0m\n",
      "\u001b[32m2024-04-25 10:21:29.278\u001b[0m | \u001b[34m\u001b[1mDEBUG   \u001b[0m | \u001b[36mdesci_sense.shared_functions.web_extractors.citoid\u001b[0m:\u001b[36mfetch_citation\u001b[0m:\u001b[36m54\u001b[0m - \u001b[34m\u001b[1mfetching citoid data for: https://twitter.com/LChoshen/status/1777653494263980349/photo/1\u001b[0m\n",
      "\u001b[32m2024-04-25 10:21:29.484\u001b[0m | \u001b[34m\u001b[1mDEBUG   \u001b[0m | \u001b[36mdesci_sense.shared_functions.web_extractors.citoid\u001b[0m:\u001b[36mfetch_citation\u001b[0m:\u001b[36m54\u001b[0m - \u001b[34m\u001b[1mfetching citoid data for: https://easychair.org/publications/preprint/N9MH\u001b[0m\n",
      "\u001b[32m2024-04-25 10:21:31.437\u001b[0m | \u001b[34m\u001b[1mDEBUG   \u001b[0m | \u001b[36mdesci_sense.shared_functions.web_extractors.citoid\u001b[0m:\u001b[36mfetch_citation\u001b[0m:\u001b[36m54\u001b[0m - \u001b[34m\u001b[1mfetching citoid data for: https://twitter.com/LChoshen/status/1777653490153660680/photo/1\u001b[0m\n",
      "\u001b[32m2024-04-25 10:21:31.650\u001b[0m | \u001b[34m\u001b[1mDEBUG   \u001b[0m | \u001b[36mdesci_sense.shared_functions.web_extractors.citoid\u001b[0m:\u001b[36mfetch_citation\u001b[0m:\u001b[36m54\u001b[0m - \u001b[34m\u001b[1mfetching citoid data for: https://twitter.com/felipemaiapolo/status/1765472691145085165?t=BhsHCBu9EPAdZyRHrnfR5Q&s=19\u001b[0m\n",
      "\u001b[32m2024-04-25 10:21:31.902\u001b[0m | \u001b[34m\u001b[1mDEBUG   \u001b[0m | \u001b[36mdesci_sense.shared_functions.web_extractors.citoid\u001b[0m:\u001b[36mfetch_citation\u001b[0m:\u001b[36m54\u001b[0m - \u001b[34m\u001b[1mfetching citoid data for: https://podtail.com/podcast/ai-breakdown/arxiv-preprint-tinybenchmarks-evaluating-llms-with/\u001b[0m\n",
      "\u001b[32m2024-04-25 10:21:38.702\u001b[0m | \u001b[34m\u001b[1mDEBUG   \u001b[0m | \u001b[36mdesci_sense.shared_functions.web_extractors.citoid\u001b[0m:\u001b[36mfetch_citation\u001b[0m:\u001b[36m54\u001b[0m - \u001b[34m\u001b[1mfetching citoid data for: https://twitter.com/re_sieber/status/1776076713404862833\u001b[0m\n",
      "\u001b[32m2024-04-25 10:21:38.917\u001b[0m | \u001b[34m\u001b[1mDEBUG   \u001b[0m | \u001b[36mdesci_sense.shared_functions.web_extractors.citoid\u001b[0m:\u001b[36mfetch_citation\u001b[0m:\u001b[36m54\u001b[0m - \u001b[34m\u001b[1mfetching citoid data for: https://x.com/guy_dar1/status/1775134969834131841?s=20\u001b[0m\n",
      "\u001b[32m2024-04-25 10:21:39.241\u001b[0m | \u001b[34m\u001b[1mDEBUG   \u001b[0m | \u001b[36mdesci_sense.shared_functions.web_extractors.citoid\u001b[0m:\u001b[36mfetch_citation\u001b[0m:\u001b[36m54\u001b[0m - \u001b[34m\u001b[1mfetching citoid data for: https://x.com/akyurekekin/status/1597682726823337984?s=20\u001b[0m\n",
      "\u001b[32m2024-04-25 10:21:41.934\u001b[0m | \u001b[34m\u001b[1mDEBUG   \u001b[0m | \u001b[36mdesci_sense.shared_functions.web_extractors.citoid\u001b[0m:\u001b[36mfetch_citation\u001b[0m:\u001b[36m54\u001b[0m - \u001b[34m\u001b[1mfetching citoid data for: https://twitter.com/LChoshen/status/1775919369111134290/photo/1\u001b[0m\n",
      "\u001b[32m2024-04-25 10:21:42.151\u001b[0m | \u001b[34m\u001b[1mDEBUG   \u001b[0m | \u001b[36mdesci_sense.shared_functions.web_extractors.citoid\u001b[0m:\u001b[36mfetch_citation\u001b[0m:\u001b[36m54\u001b[0m - \u001b[34m\u001b[1mfetching citoid data for: https://babylm.github.io/\u001b[0m\n",
      "\u001b[32m2024-04-25 10:21:42.579\u001b[0m | \u001b[34m\u001b[1mDEBUG   \u001b[0m | \u001b[36mdesci_sense.shared_functions.web_extractors.citoid\u001b[0m:\u001b[36mfetch_citation\u001b[0m:\u001b[36m54\u001b[0m - \u001b[34m\u001b[1mfetching citoid data for: https://x.com/akyurekekin/status/1751986985386828117?s=20\u001b[0m\n",
      "\u001b[32m2024-04-25 10:21:42.991\u001b[0m | \u001b[34m\u001b[1mDEBUG   \u001b[0m | \u001b[36mdesci_sense.shared_functions.web_extractors.citoid\u001b[0m:\u001b[36mfetch_citation\u001b[0m:\u001b[36m54\u001b[0m - \u001b[34m\u001b[1mfetching citoid data for: https://x.com/LChoshen/status/1760315778400735623?s=20\u001b[0m\n",
      "\u001b[32m2024-04-25 10:21:43.399\u001b[0m | \u001b[34m\u001b[1mDEBUG   \u001b[0m | \u001b[36mdesci_sense.shared_functions.web_extractors.citoid\u001b[0m:\u001b[36mfetch_citation\u001b[0m:\u001b[36m54\u001b[0m - \u001b[34m\u001b[1mfetching citoid data for: https://x.com/LChoshen/status/1660536675062149125?s=20\u001b[0m\n",
      "\u001b[32m2024-04-25 10:21:43.808\u001b[0m | \u001b[34m\u001b[1mDEBUG   \u001b[0m | \u001b[36mdesci_sense.shared_functions.web_extractors.citoid\u001b[0m:\u001b[36mfetch_citation\u001b[0m:\u001b[36m54\u001b[0m - \u001b[34m\u001b[1mfetching citoid data for: https://arxiv.org/abs/2303.03846\u001b[0m\n",
      "\u001b[32m2024-04-25 10:21:48.850\u001b[0m | \u001b[34m\u001b[1mDEBUG   \u001b[0m | \u001b[36mdesci_sense.shared_functions.web_extractors.citoid\u001b[0m:\u001b[36mfetch_citation\u001b[0m:\u001b[36m54\u001b[0m - \u001b[34m\u001b[1mfetching citoid data for: https://arxiv.org/abs/2404.02204\u001b[0m\n",
      "\u001b[32m2024-04-25 10:21:51.264\u001b[0m | \u001b[34m\u001b[1mDEBUG   \u001b[0m | \u001b[36mdesci_sense.shared_functions.web_extractors.citoid\u001b[0m:\u001b[36mfetch_citation\u001b[0m:\u001b[36m54\u001b[0m - \u001b[34m\u001b[1mfetching citoid data for: https://twitter.com/LChoshen/status/1775919359267127656/photo/1\u001b[0m\n",
      "\u001b[32m2024-04-25 10:21:51.492\u001b[0m | \u001b[34m\u001b[1mDEBUG   \u001b[0m | \u001b[36mdesci_sense.shared_functions.web_extractors.citoid\u001b[0m:\u001b[36mfetch_citation\u001b[0m:\u001b[36m54\u001b[0m - \u001b[34m\u001b[1mfetching citoid data for: https://x.com/guy_dar1/status/1775134969834131841?s=20\u001b[0m\n",
      "\u001b[32m2024-04-25 10:21:51.987\u001b[0m | \u001b[34m\u001b[1mDEBUG   \u001b[0m | \u001b[36mdesci_sense.shared_functions.web_extractors.citoid\u001b[0m:\u001b[36mfetch_citation\u001b[0m:\u001b[36m54\u001b[0m - \u001b[34m\u001b[1mfetching citoid data for: https://twitter.com/LChoshen/status/1569344058773983233\u001b[0m\n",
      "\u001b[32m2024-04-25 10:21:52.205\u001b[0m | \u001b[34m\u001b[1mDEBUG   \u001b[0m | \u001b[36mdesci_sense.shared_functions.web_extractors.citoid\u001b[0m:\u001b[36mfetch_citation\u001b[0m:\u001b[36m54\u001b[0m - \u001b[34m\u001b[1mfetching citoid data for: https://x.com/omerNLP/status/1767966554757492991?s=20\u001b[0m\n",
      "\u001b[32m2024-04-25 10:21:52.553\u001b[0m | \u001b[34m\u001b[1mDEBUG   \u001b[0m | \u001b[36mdesci_sense.shared_functions.web_extractors.citoid\u001b[0m:\u001b[36mfetch_citation\u001b[0m:\u001b[36m54\u001b[0m - \u001b[34m\u001b[1mfetching citoid data for: https://x.com/LChoshen/status/1599744760431882241?s=20\u001b[0m\n",
      "\u001b[32m2024-04-25 10:21:52.856\u001b[0m | \u001b[34m\u001b[1mDEBUG   \u001b[0m | \u001b[36mdesci_sense.shared_functions.web_extractors.citoid\u001b[0m:\u001b[36mfetch_citation\u001b[0m:\u001b[36m54\u001b[0m - \u001b[34m\u001b[1mfetching citoid data for: https://arxiv.org/abs/2308.04014\u001b[0m\n",
      "\u001b[32m2024-04-25 10:21:57.034\u001b[0m | \u001b[34m\u001b[1mDEBUG   \u001b[0m | \u001b[36mdesci_sense.shared_functions.web_extractors.citoid\u001b[0m:\u001b[36mfetch_citation\u001b[0m:\u001b[36m54\u001b[0m - \u001b[34m\u001b[1mfetching citoid data for: https://arxiv.org/abs/2404.00213\u001b[0m\n",
      "\u001b[32m2024-04-25 10:21:59.301\u001b[0m | \u001b[34m\u001b[1mDEBUG   \u001b[0m | \u001b[36mdesci_sense.shared_functions.web_extractors.citoid\u001b[0m:\u001b[36mfetch_citation\u001b[0m:\u001b[36m54\u001b[0m - \u001b[34m\u001b[1mfetching citoid data for: https://arxiv.org/abs/2404.00459\u001b[0m\n",
      "\u001b[32m2024-04-25 10:22:01.635\u001b[0m | \u001b[34m\u001b[1mDEBUG   \u001b[0m | \u001b[36mdesci_sense.shared_functions.web_extractors.citoid\u001b[0m:\u001b[36mfetch_citation\u001b[0m:\u001b[36m54\u001b[0m - \u001b[34m\u001b[1mfetching citoid data for: https://twitter.com/Eli_Schwartz/status/1775042910309736837\u001b[0m\n",
      "\u001b[32m2024-04-25 10:22:02.177\u001b[0m | \u001b[34m\u001b[1mDEBUG   \u001b[0m | \u001b[36mdesci_sense.shared_functions.web_extractors.citoid\u001b[0m:\u001b[36mfetch_citation\u001b[0m:\u001b[36m54\u001b[0m - \u001b[34m\u001b[1mfetching citoid data for: https://x.com/ramealexandre/status/1773666838922072291?s=20\u001b[0m\n",
      "\u001b[32m2024-04-25 10:22:03.183\u001b[0m | \u001b[34m\u001b[1mDEBUG   \u001b[0m | \u001b[36mdesci_sense.shared_functions.web_extractors.citoid\u001b[0m:\u001b[36mfetch_citation\u001b[0m:\u001b[36m54\u001b[0m - \u001b[34m\u001b[1mfetching citoid data for: https://twitter.com/gregd_nlp/status/1773453723655696431?t=olyefXDiv420waqsXA3N4A&s=19\u001b[0m\n",
      "\u001b[32m2024-04-25 10:22:03.374\u001b[0m | \u001b[34m\u001b[1mDEBUG   \u001b[0m | \u001b[36mdesci_sense.shared_functions.web_extractors.citoid\u001b[0m:\u001b[36mfetch_citation\u001b[0m:\u001b[36m54\u001b[0m - \u001b[34m\u001b[1mfetching citoid data for: https://twitter.com/JerryWeiAI/status/1773402343301877960\u001b[0m\n",
      "\u001b[32m2024-04-25 10:22:03.981\u001b[0m | \u001b[34m\u001b[1mDEBUG   \u001b[0m | \u001b[36mdesci_sense.shared_functions.web_extractors.citoid\u001b[0m:\u001b[36mfetch_citation\u001b[0m:\u001b[36m54\u001b[0m - \u001b[34m\u001b[1mfetching citoid data for: https://twitter.com/LChoshen/status/1768355842426859962\u001b[0m\n",
      "\u001b[32m2024-04-25 10:22:05.110\u001b[0m | \u001b[34m\u001b[1mDEBUG   \u001b[0m | \u001b[36mdesci_sense.shared_functions.web_extractors.citoid\u001b[0m:\u001b[36mfetch_citation\u001b[0m:\u001b[36m54\u001b[0m - \u001b[34m\u001b[1mfetching citoid data for: https://forms.gle/XVbcLobx7j1kEZT58\u001b[0m\n",
      "\u001b[32m2024-04-25 10:22:06.311\u001b[0m | \u001b[34m\u001b[1mDEBUG   \u001b[0m | \u001b[36mdesci_sense.shared_functions.web_extractors.citoid\u001b[0m:\u001b[36mfetch_citation\u001b[0m:\u001b[36m54\u001b[0m - \u001b[34m\u001b[1mfetching citoid data for: https://www.derstandard.at/story/3000000216114/inflation-bei-41-prozent-oesterreich-eu-spitzenreiter-beim-anstieg-der-gaspreise?ref=article\u001b[0m\n",
      "\u001b[32m2024-04-25 10:22:06.777\u001b[0m | \u001b[34m\u001b[1mDEBUG   \u001b[0m | \u001b[36mdesci_sense.shared_functions.web_extractors.citoid\u001b[0m:\u001b[36mfetch_citation\u001b[0m:\u001b[36m54\u001b[0m - \u001b[34m\u001b[1mfetching citoid data for: https://twitter.com/SebastjanVoros/status/1780524927797379230\u001b[0m\n",
      "\u001b[32m2024-04-25 10:22:07.013\u001b[0m | \u001b[34m\u001b[1mDEBUG   \u001b[0m | \u001b[36mdesci_sense.shared_functions.web_extractors.citoid\u001b[0m:\u001b[36mfetch_citation\u001b[0m:\u001b[36m54\u001b[0m - \u001b[34m\u001b[1mfetching citoid data for: https://twitter.com/WSJ/status/1780459323535032780\u001b[0m\n",
      "\u001b[32m2024-04-25 10:22:07.234\u001b[0m | \u001b[34m\u001b[1mDEBUG   \u001b[0m | \u001b[36mdesci_sense.shared_functions.web_extractors.citoid\u001b[0m:\u001b[36mfetch_citation\u001b[0m:\u001b[36m54\u001b[0m - \u001b[34m\u001b[1mfetching citoid data for: https://arxiv.org/abs/2307.07515\u001b[0m\n",
      "\u001b[32m2024-04-25 10:22:10.029\u001b[0m | \u001b[34m\u001b[1mDEBUG   \u001b[0m | \u001b[36mdesci_sense.shared_functions.web_extractors.citoid\u001b[0m:\u001b[36mfetch_citation\u001b[0m:\u001b[36m54\u001b[0m - \u001b[34m\u001b[1mfetching citoid data for: https://twitter.com/Neuro_Skeptic/status/1780226191363838288\u001b[0m\n",
      "\u001b[32m2024-04-25 10:22:10.254\u001b[0m | \u001b[34m\u001b[1mDEBUG   \u001b[0m | \u001b[36mdesci_sense.shared_functions.web_extractors.citoid\u001b[0m:\u001b[36mfetch_citation\u001b[0m:\u001b[36m54\u001b[0m - \u001b[34m\u001b[1mfetching citoid data for: https://twitter.com/BondHack/status/1780121204482859276\u001b[0m\n",
      "\u001b[32m2024-04-25 10:22:10.510\u001b[0m | \u001b[34m\u001b[1mDEBUG   \u001b[0m | \u001b[36mdesci_sense.shared_functions.web_extractors.citoid\u001b[0m:\u001b[36mfetch_citation\u001b[0m:\u001b[36m54\u001b[0m - \u001b[34m\u001b[1mfetching citoid data for: https://www.derstandard.at/story/3000000216013/trotz-bekenntnisses-zum-geschaeftsrueckbau-warum-schreibt-raiffeisen-in-russland-hunderte-job-aus?ref=article\u001b[0m\n",
      "\u001b[32m2024-04-25 10:22:10.719\u001b[0m | \u001b[34m\u001b[1mDEBUG   \u001b[0m | \u001b[36mdesci_sense.shared_functions.web_extractors.citoid\u001b[0m:\u001b[36mfetch_citation\u001b[0m:\u001b[36m54\u001b[0m - \u001b[34m\u001b[1mfetching citoid data for: https://twitter.com/jerryzmuller/status/1780085465715982457\u001b[0m\n",
      "\u001b[32m2024-04-25 10:22:10.912\u001b[0m | \u001b[34m\u001b[1mDEBUG   \u001b[0m | \u001b[36mdesci_sense.shared_functions.web_extractors.citoid\u001b[0m:\u001b[36mfetch_citation\u001b[0m:\u001b[36m54\u001b[0m - \u001b[34m\u001b[1mfetching citoid data for: https://twitter.com/dashtaisen/status/1779977921739858065\u001b[0m\n",
      "\u001b[32m2024-04-25 10:22:11.132\u001b[0m | \u001b[34m\u001b[1mDEBUG   \u001b[0m | \u001b[36mdesci_sense.shared_functions.web_extractors.citoid\u001b[0m:\u001b[36mfetch_citation\u001b[0m:\u001b[36m54\u001b[0m - \u001b[34m\u001b[1mfetching citoid data for: https://twitter.com/yoginho/status/1780097395767869921/photo/1\u001b[0m\n",
      "\u001b[32m2024-04-25 10:22:11.347\u001b[0m | \u001b[34m\u001b[1mDEBUG   \u001b[0m | \u001b[36mdesci_sense.shared_functions.web_extractors.citoid\u001b[0m:\u001b[36mfetch_citation\u001b[0m:\u001b[36m54\u001b[0m - \u001b[34m\u001b[1mfetching citoid data for: https://twitter.com/mayank_mchugh/status/1779944613005951169\u001b[0m\n",
      "\u001b[32m2024-04-25 10:22:11.571\u001b[0m | \u001b[34m\u001b[1mDEBUG   \u001b[0m | \u001b[36mdesci_sense.shared_functions.web_extractors.citoid\u001b[0m:\u001b[36mfetch_citation\u001b[0m:\u001b[36m54\u001b[0m - \u001b[34m\u001b[1mfetching citoid data for: https://www.moment.at/story/was-ist-ein-wahlarzt/?utm_source=morgen.moment.at&utm_medium=newsletter&utm_campaign=morgenmoment\u001b[0m\n",
      "\u001b[32m2024-04-25 10:22:13.261\u001b[0m | \u001b[34m\u001b[1mDEBUG   \u001b[0m | \u001b[36mdesci_sense.shared_functions.web_extractors.citoid\u001b[0m:\u001b[36mfetch_citation\u001b[0m:\u001b[36m54\u001b[0m - \u001b[34m\u001b[1mfetching citoid data for: https://twitter.com/atrupar/status/1779529741579542854\u001b[0m\n",
      "\u001b[32m2024-04-25 10:22:14.018\u001b[0m | \u001b[34m\u001b[1mDEBUG   \u001b[0m | \u001b[36mdesci_sense.shared_functions.web_extractors.citoid\u001b[0m:\u001b[36mfetch_citation\u001b[0m:\u001b[36m54\u001b[0m - \u001b[34m\u001b[1mfetching citoid data for: https://twitter.com/naftalibennett/status/1779601465662648467\u001b[0m\n",
      "\u001b[32m2024-04-25 10:22:14.283\u001b[0m | \u001b[34m\u001b[1mDEBUG   \u001b[0m | \u001b[36mdesci_sense.shared_functions.web_extractors.citoid\u001b[0m:\u001b[36mfetch_citation\u001b[0m:\u001b[36m54\u001b[0m - \u001b[34m\u001b[1mfetching citoid data for: https://www.derstandard.at/story/3000000215777/russisches-gas-als-risiko-oesterreichs-sicherheitsstrategie-scheitert-an-dieser-frage?ref=article\u001b[0m\n",
      "\u001b[32m2024-04-25 10:22:15.971\u001b[0m | \u001b[34m\u001b[1mDEBUG   \u001b[0m | \u001b[36mdesci_sense.shared_functions.web_extractors.citoid\u001b[0m:\u001b[36mfetch_citation\u001b[0m:\u001b[36m54\u001b[0m - \u001b[34m\u001b[1mfetching citoid data for: https://twitter.com/JimmySecUK/status/1779160904313004155\u001b[0m\n",
      "\u001b[32m2024-04-25 10:22:16.682\u001b[0m | \u001b[34m\u001b[1mDEBUG   \u001b[0m | \u001b[36mdesci_sense.shared_functions.web_extractors.citoid\u001b[0m:\u001b[36mfetch_citation\u001b[0m:\u001b[36m54\u001b[0m - \u001b[34m\u001b[1mfetching citoid data for: https://arxiv.org/abs/2307.07515\u001b[0m\n",
      "\u001b[32m2024-04-25 10:22:24.675\u001b[0m | \u001b[34m\u001b[1mDEBUG   \u001b[0m | \u001b[36mdesci_sense.shared_functions.web_extractors.citoid\u001b[0m:\u001b[36mfetch_citation\u001b[0m:\u001b[36m54\u001b[0m - \u001b[34m\u001b[1mfetching citoid data for: https://twitter.com/fchollet/status/1778841244262969647\u001b[0m\n",
      "\u001b[32m2024-04-25 10:22:24.936\u001b[0m | \u001b[34m\u001b[1mDEBUG   \u001b[0m | \u001b[36mdesci_sense.shared_functions.web_extractors.citoid\u001b[0m:\u001b[36mfetch_citation\u001b[0m:\u001b[36m54\u001b[0m - \u001b[34m\u001b[1mfetching citoid data for: https://twitter.com/WiringTheBrain/status/1778071957189153092\u001b[0m\n",
      "\u001b[32m2024-04-25 10:22:25.357\u001b[0m | \u001b[34m\u001b[1mDEBUG   \u001b[0m | \u001b[36mdesci_sense.shared_functions.web_extractors.citoid\u001b[0m:\u001b[36mfetch_citation\u001b[0m:\u001b[36m54\u001b[0m - \u001b[34m\u001b[1mfetching citoid data for: https://www.momentum-institut.at/news/sozialbericht-untere-vermoegenshaelfte-besitzt-fast-nichts\u001b[0m\n",
      "\u001b[32m2024-04-25 10:22:26.917\u001b[0m | \u001b[34m\u001b[1mDEBUG   \u001b[0m | \u001b[36mdesci_sense.shared_functions.web_extractors.citoid\u001b[0m:\u001b[36mfetch_citation\u001b[0m:\u001b[36m54\u001b[0m - \u001b[34m\u001b[1mfetching citoid data for: https://twitter.com/dernaro/status/1778342610286829940\u001b[0m\n",
      "\u001b[32m2024-04-25 10:22:27.214\u001b[0m | \u001b[34m\u001b[1mDEBUG   \u001b[0m | \u001b[36mdesci_sense.shared_functions.web_extractors.citoid\u001b[0m:\u001b[36mfetch_citation\u001b[0m:\u001b[36m54\u001b[0m - \u001b[34m\u001b[1mfetching citoid data for: https://twitter.com/BarakRavid/status/1778502991827316949\u001b[0m\n",
      "\u001b[32m2024-04-25 10:22:27.495\u001b[0m | \u001b[34m\u001b[1mDEBUG   \u001b[0m | \u001b[36mdesci_sense.shared_functions.web_extractors.citoid\u001b[0m:\u001b[36mfetch_citation\u001b[0m:\u001b[36m54\u001b[0m - \u001b[34m\u001b[1mfetching citoid data for: https://twitter.com/MrEwanMorrison/status/1778479443226308689\u001b[0m\n",
      "\u001b[32m2024-04-25 10:22:27.737\u001b[0m | \u001b[34m\u001b[1mDEBUG   \u001b[0m | \u001b[36mdesci_sense.shared_functions.web_extractors.citoid\u001b[0m:\u001b[36mfetch_citation\u001b[0m:\u001b[36m54\u001b[0m - \u001b[34m\u001b[1mfetching citoid data for: https://en.wikipedia.org/wiki/Einst%C3%BCrzende_Neubauten\u001b[0m\n",
      "\u001b[32m2024-04-25 10:22:28.023\u001b[0m | \u001b[34m\u001b[1mDEBUG   \u001b[0m | \u001b[36mdesci_sense.shared_functions.web_extractors.citoid\u001b[0m:\u001b[36mfetch_citation\u001b[0m:\u001b[36m54\u001b[0m - \u001b[34m\u001b[1mfetching citoid data for: https://www.moment.at/story/ingrid-robeyns-interview-limitarismus/?utm_source=morgen.moment.at&utm_medium=newsletter&utm_campaign=morgenmoment\u001b[0m\n",
      "\u001b[32m2024-04-25 10:22:29.689\u001b[0m | \u001b[34m\u001b[1mDEBUG   \u001b[0m | \u001b[36mdesci_sense.shared_functions.web_extractors.citoid\u001b[0m:\u001b[36mfetch_citation\u001b[0m:\u001b[36m54\u001b[0m - \u001b[34m\u001b[1mfetching citoid data for: https://twitter.com/joinExpeditions/status/1777606649584189847\u001b[0m\n",
      "\u001b[32m2024-04-25 10:22:29.903\u001b[0m | \u001b[34m\u001b[1mDEBUG   \u001b[0m | \u001b[36mdesci_sense.shared_functions.web_extractors.citoid\u001b[0m:\u001b[36mfetch_citation\u001b[0m:\u001b[36m54\u001b[0m - \u001b[34m\u001b[1mfetching citoid data for: https://arxiv.org/abs/2307.07515\u001b[0m\n",
      "\u001b[32m2024-04-25 10:22:32.166\u001b[0m | \u001b[34m\u001b[1mDEBUG   \u001b[0m | \u001b[36mdesci_sense.shared_functions.web_extractors.citoid\u001b[0m:\u001b[36mfetch_citation\u001b[0m:\u001b[36m54\u001b[0m - \u001b[34m\u001b[1mfetching citoid data for: https://twitter.com/yudapearl/status/1778280379839029699\u001b[0m\n",
      "\u001b[32m2024-04-25 10:22:32.437\u001b[0m | \u001b[34m\u001b[1mDEBUG   \u001b[0m | \u001b[36mdesci_sense.shared_functions.web_extractors.citoid\u001b[0m:\u001b[36mfetch_citation\u001b[0m:\u001b[36m54\u001b[0m - \u001b[34m\u001b[1mfetching citoid data for: https://www.moment.at/story/was-alles-passiert-ist-waehrend-die-oevp-ueber-die-leitkultur-reden-wollte/?utm_source=morgen.moment.at&utm_medium=newsletter&utm_campaign=morgenmoment\u001b[0m\n",
      "\u001b[32m2024-04-25 10:22:37.647\u001b[0m | \u001b[34m\u001b[1mDEBUG   \u001b[0m | \u001b[36mdesci_sense.shared_functions.web_extractors.citoid\u001b[0m:\u001b[36mfetch_citation\u001b[0m:\u001b[36m54\u001b[0m - \u001b[34m\u001b[1mfetching citoid data for: https://twitter.com/yoginho/status/1777968922949468540/photo/1\u001b[0m\n",
      "\u001b[32m2024-04-25 10:22:37.926\u001b[0m | \u001b[34m\u001b[1mDEBUG   \u001b[0m | \u001b[36mdesci_sense.shared_functions.web_extractors.citoid\u001b[0m:\u001b[36mfetch_citation\u001b[0m:\u001b[36m54\u001b[0m - \u001b[34m\u001b[1mfetching citoid data for: https://www.youtube.com/watch?v=YU7bSiiBZaA\u001b[0m\n",
      "\u001b[32m2024-04-25 10:22:39.712\u001b[0m | \u001b[34m\u001b[1mDEBUG   \u001b[0m | \u001b[36mdesci_sense.shared_functions.web_extractors.citoid\u001b[0m:\u001b[36mfetch_citation\u001b[0m:\u001b[36m54\u001b[0m - \u001b[34m\u001b[1mfetching citoid data for: https://twitter.com/SebastianSeung/status/1777458732705731032\u001b[0m\n",
      "\u001b[32m2024-04-25 10:22:40.044\u001b[0m | \u001b[34m\u001b[1mDEBUG   \u001b[0m | \u001b[36mdesci_sense.shared_functions.web_extractors.citoid\u001b[0m:\u001b[36mfetch_citation\u001b[0m:\u001b[36m54\u001b[0m - \u001b[34m\u001b[1mfetching citoid data for: https://en.m.wikipedia.org/wiki/Hail_Satan%3F\u001b[0m\n",
      "\u001b[32m2024-04-25 10:22:40.438\u001b[0m | \u001b[34m\u001b[1mDEBUG   \u001b[0m | \u001b[36mdesci_sense.shared_functions.web_extractors.citoid\u001b[0m:\u001b[36mfetch_citation\u001b[0m:\u001b[36m54\u001b[0m - \u001b[34m\u001b[1mfetching citoid data for: https://twitter.com/LucienGreaves/status/1777548658910564752\u001b[0m\n",
      "\u001b[32m2024-04-25 10:22:40.630\u001b[0m | \u001b[34m\u001b[1mDEBUG   \u001b[0m | \u001b[36mdesci_sense.shared_functions.web_extractors.citoid\u001b[0m:\u001b[36mfetch_citation\u001b[0m:\u001b[36m54\u001b[0m - \u001b[34m\u001b[1mfetching citoid data for: https://twitter.com/P_Kallioniemi/status/1777023632499212359\u001b[0m\n",
      "\u001b[32m2024-04-25 10:22:40.913\u001b[0m | \u001b[34m\u001b[1mDEBUG   \u001b[0m | \u001b[36mdesci_sense.shared_functions.web_extractors.citoid\u001b[0m:\u001b[36mfetch_citation\u001b[0m:\u001b[36m54\u001b[0m - \u001b[34m\u001b[1mfetching citoid data for: https://twitter.com/99blackbaloons/status/1777020894688272616\u001b[0m\n",
      "\u001b[32m2024-04-25 10:22:41.148\u001b[0m | \u001b[34m\u001b[1mDEBUG   \u001b[0m | \u001b[36mdesci_sense.shared_functions.web_extractors.citoid\u001b[0m:\u001b[36mfetch_citation\u001b[0m:\u001b[36m54\u001b[0m - \u001b[34m\u001b[1mfetching citoid data for: https://twitter.com/rawsalerts/status/1777017207366520949\u001b[0m\n",
      "\u001b[32m2024-04-25 10:22:41.348\u001b[0m | \u001b[34m\u001b[1mDEBUG   \u001b[0m | \u001b[36mdesci_sense.shared_functions.web_extractors.citoid\u001b[0m:\u001b[36mfetch_citation\u001b[0m:\u001b[36m54\u001b[0m - \u001b[34m\u001b[1mfetching citoid data for: https://twitter.com/RpsAgainstTrump/status/1777000430586794372\u001b[0m\n",
      "\u001b[32m2024-04-25 10:22:41.537\u001b[0m | \u001b[34m\u001b[1mDEBUG   \u001b[0m | \u001b[36mdesci_sense.shared_functions.web_extractors.citoid\u001b[0m:\u001b[36mfetch_citation\u001b[0m:\u001b[36m54\u001b[0m - \u001b[34m\u001b[1mfetching citoid data for: https://www.washingtonpost.com/politics/2024/04/05/trump-ukraine-secret-plan/\u001b[0m\n",
      "\u001b[32m2024-04-25 10:23:14.110\u001b[0m | \u001b[34m\u001b[1mDEBUG   \u001b[0m | \u001b[36mdesci_sense.shared_functions.web_extractors.citoid\u001b[0m:\u001b[36mfetch_citation\u001b[0m:\u001b[36m54\u001b[0m - \u001b[34m\u001b[1mfetching citoid data for: https://twitter.com/long_covid/status/1776175505143656621\u001b[0m\n",
      "\u001b[32m2024-04-25 10:23:14.315\u001b[0m | \u001b[34m\u001b[1mDEBUG   \u001b[0m | \u001b[36mdesci_sense.shared_functions.web_extractors.citoid\u001b[0m:\u001b[36mfetch_citation\u001b[0m:\u001b[36m54\u001b[0m - \u001b[34m\u001b[1mfetching citoid data for: https://twitter.com/NTarnopolsky/status/1776009177984385098\u001b[0m\n",
      "\u001b[32m2024-04-25 10:23:14.509\u001b[0m | \u001b[34m\u001b[1mDEBUG   \u001b[0m | \u001b[36mdesci_sense.shared_functions.web_extractors.citoid\u001b[0m:\u001b[36mfetch_citation\u001b[0m:\u001b[36m54\u001b[0m - \u001b[34m\u001b[1mfetching citoid data for: https://twitter.com/weandmecfs/status/1776575478595248253\u001b[0m\n",
      "\u001b[32m2024-04-25 10:23:14.714\u001b[0m | \u001b[34m\u001b[1mDEBUG   \u001b[0m | \u001b[36mdesci_sense.shared_functions.web_extractors.citoid\u001b[0m:\u001b[36mfetch_citation\u001b[0m:\u001b[36m54\u001b[0m - \u001b[34m\u001b[1mfetching citoid data for: https://twitter.com/gunsnrosesgirl3/status/1776578025259192364\u001b[0m\n",
      "\u001b[32m2024-04-25 10:23:16.382\u001b[0m | \u001b[34m\u001b[1mDEBUG   \u001b[0m | \u001b[36mdesci_sense.shared_functions.web_extractors.citoid\u001b[0m:\u001b[36mfetch_citation\u001b[0m:\u001b[36m54\u001b[0m - \u001b[34m\u001b[1mfetching citoid data for: https://www.derstandard.at/story/3000000214361/die-raetselhafte-firma-von-sebastian-kurz-in-abu-dhabi?ref=article\u001b[0m\n",
      "\u001b[32m2024-04-25 10:23:16.827\u001b[0m | \u001b[34m\u001b[1mDEBUG   \u001b[0m | \u001b[36mdesci_sense.shared_functions.web_extractors.citoid\u001b[0m:\u001b[36mfetch_citation\u001b[0m:\u001b[36m54\u001b[0m - \u001b[34m\u001b[1mfetching citoid data for: https://www.ftc.gov/news-events/news/press-releases/2022/10/ftc-takes-action-against-drizly-its-ceo-james-cory-rellas-security-failures-exposed-data-25-million\u001b[0m\n",
      "\u001b[32m2024-04-25 10:23:24.793\u001b[0m | \u001b[34m\u001b[1mDEBUG   \u001b[0m | \u001b[36mdesci_sense.shared_functions.web_extractors.citoid\u001b[0m:\u001b[36mfetch_citation\u001b[0m:\u001b[36m54\u001b[0m - \u001b[34m\u001b[1mfetching citoid data for: https://a16zcrypto.com/introducing-nft-licenses/\u001b[0m\n",
      "\u001b[32m2024-04-25 10:23:25.655\u001b[0m | \u001b[34m\u001b[1mDEBUG   \u001b[0m | \u001b[36mdesci_sense.shared_functions.web_extractors.citoid\u001b[0m:\u001b[36mfetch_citation\u001b[0m:\u001b[36m54\u001b[0m - \u001b[34m\u001b[1mfetching citoid data for: https://airtable.com/shraYle6BX6cKYhAu\u001b[0m\n",
      "\u001b[32m2024-04-25 10:23:29.705\u001b[0m | \u001b[34m\u001b[1mDEBUG   \u001b[0m | \u001b[36mdesci_sense.shared_functions.web_extractors.citoid\u001b[0m:\u001b[36mfetch_citation\u001b[0m:\u001b[36m54\u001b[0m - \u001b[34m\u001b[1mfetching citoid data for: https://iapp.org/news/a/understanding-the-scope-of-the-draft-american-data-privacy-and-protection-act/\u001b[0m\n",
      "\u001b[32m2024-04-25 10:23:31.957\u001b[0m | \u001b[34m\u001b[1mDEBUG   \u001b[0m | \u001b[36mdesci_sense.shared_functions.web_extractors.citoid\u001b[0m:\u001b[36mfetch_citation\u001b[0m:\u001b[36m54\u001b[0m - \u001b[34m\u001b[1mfetching citoid data for: https://thedefiant.io/starting-a-dao-in-the-usa-steer-clear-of-dao-legislation/\u001b[0m\n",
      "\u001b[32m2024-04-25 10:23:34.709\u001b[0m | \u001b[34m\u001b[1mDEBUG   \u001b[0m | \u001b[36mdesci_sense.shared_functions.web_extractors.citoid\u001b[0m:\u001b[36mfetch_citation\u001b[0m:\u001b[36m54\u001b[0m - \u001b[34m\u001b[1mfetching citoid data for: https://medium.com/@charles.adjovu/brain-computer-interfaces-bcis-ba6fc48e14f5\u001b[0m\n",
      "\u001b[32m2024-04-25 10:23:36.053\u001b[0m | \u001b[34m\u001b[1mDEBUG   \u001b[0m | \u001b[36mdesci_sense.shared_functions.web_extractors.citoid\u001b[0m:\u001b[36mfetch_citation\u001b[0m:\u001b[36m54\u001b[0m - \u001b[34m\u001b[1mfetching citoid data for: https://medium.com/@charles.adjovu/dao-index-version-0-9-a9ef62795153\u001b[0m\n",
      "\u001b[32m2024-04-25 10:23:37.869\u001b[0m | \u001b[34m\u001b[1mDEBUG   \u001b[0m | \u001b[36mdesci_sense.shared_functions.web_extractors.citoid\u001b[0m:\u001b[36mfetch_citation\u001b[0m:\u001b[36m54\u001b[0m - \u001b[34m\u001b[1mfetching citoid data for: https://medium.com/p/zero-knowledge-proofs-for-kyc-compliance-b83a130fe745\u001b[0m\n",
      "\u001b[32m2024-04-25 10:23:40.142\u001b[0m | \u001b[34m\u001b[1mDEBUG   \u001b[0m | \u001b[36mdesci_sense.shared_functions.web_extractors.citoid\u001b[0m:\u001b[36mfetch_citation\u001b[0m:\u001b[36m54\u001b[0m - \u001b[34m\u001b[1mfetching citoid data for: https://medium.com/p/bdbd691ac62e\u001b[0m\n",
      "\u001b[32m2024-04-25 10:23:42.526\u001b[0m | \u001b[34m\u001b[1mDEBUG   \u001b[0m | \u001b[36mdesci_sense.shared_functions.web_extractors.citoid\u001b[0m:\u001b[36mfetch_citation\u001b[0m:\u001b[36m54\u001b[0m - \u001b[34m\u001b[1mfetching citoid data for: https://airtable.com/shrnluvm1Q2zkTw0h/tblGHduKIip81NIBI\u001b[0m\n",
      "\u001b[32m2024-04-25 10:23:46.410\u001b[0m | \u001b[34m\u001b[1mDEBUG   \u001b[0m | \u001b[36mdesci_sense.shared_functions.web_extractors.citoid\u001b[0m:\u001b[36mfetch_citation\u001b[0m:\u001b[36m54\u001b[0m - \u001b[34m\u001b[1mfetching citoid data for: https://medium.com/@charles.adjovu/thoughts-on-volume-1-of-the-ijbl-9caeacfcfe1a\u001b[0m\n",
      "\u001b[32m2024-04-25 10:23:48.690\u001b[0m | \u001b[34m\u001b[1mDEBUG   \u001b[0m | \u001b[36mdesci_sense.shared_functions.web_extractors.citoid\u001b[0m:\u001b[36mfetch_citation\u001b[0m:\u001b[36m54\u001b[0m - \u001b[34m\u001b[1mfetching citoid data for: https://medium.com/@charles.adjovu/dao-index-updating-the-airtable-and-new-visualizations-5628da48c288\u001b[0m\n",
      "\u001b[32m2024-04-25 10:23:50.072\u001b[0m | \u001b[34m\u001b[1mDEBUG   \u001b[0m | \u001b[36mdesci_sense.shared_functions.web_extractors.citoid\u001b[0m:\u001b[36mfetch_citation\u001b[0m:\u001b[36m54\u001b[0m - \u001b[34m\u001b[1mfetching citoid data for: https://medium.com/@charles.adjovu/dao-index-transitioning-to-version-0-9-4f776d2681c5\u001b[0m\n",
      "\u001b[32m2024-04-25 10:23:52.124\u001b[0m | \u001b[34m\u001b[1mDEBUG   \u001b[0m | \u001b[36mdesci_sense.shared_functions.web_extractors.citoid\u001b[0m:\u001b[36mfetch_citation\u001b[0m:\u001b[36m54\u001b[0m - \u001b[34m\u001b[1mfetching citoid data for: https://medium.com/p/fe843a24ee5a\u001b[0m\n",
      "\u001b[32m2024-04-25 10:23:53.761\u001b[0m | \u001b[34m\u001b[1mDEBUG   \u001b[0m | \u001b[36mdesci_sense.shared_functions.web_extractors.citoid\u001b[0m:\u001b[36mfetch_citation\u001b[0m:\u001b[36m54\u001b[0m - \u001b[34m\u001b[1mfetching citoid data for: https://tinyurl.com/2p8pjenc\u001b[0m\n",
      "\u001b[32m2024-04-25 10:23:55.696\u001b[0m | \u001b[34m\u001b[1mDEBUG   \u001b[0m | \u001b[36mdesci_sense.shared_functions.web_extractors.citoid\u001b[0m:\u001b[36mfetch_citation\u001b[0m:\u001b[36m54\u001b[0m - \u001b[34m\u001b[1mfetching citoid data for: https://medium.com/@charles.adjovu/bikestream-recruiting-software-developer-6ccc81a9fc15\u001b[0m\n",
      "\u001b[32m2024-04-25 10:23:57.044\u001b[0m | \u001b[34m\u001b[1mDEBUG   \u001b[0m | \u001b[36mdesci_sense.shared_functions.web_extractors.citoid\u001b[0m:\u001b[36mfetch_citation\u001b[0m:\u001b[36m54\u001b[0m - \u001b[34m\u001b[1mfetching citoid data for: https://medium.com/p/a4b081e429db\u001b[0m\n",
      "\u001b[32m2024-04-25 10:23:58.572\u001b[0m | \u001b[34m\u001b[1mDEBUG   \u001b[0m | \u001b[36mdesci_sense.shared_functions.web_extractors.citoid\u001b[0m:\u001b[36mfetch_citation\u001b[0m:\u001b[36m54\u001b[0m - \u001b[34m\u001b[1mfetching citoid data for: https://tinyurl.com/2p9yj8av\u001b[0m\n",
      "\u001b[32m2024-04-25 10:24:01.008\u001b[0m | \u001b[34m\u001b[1mDEBUG   \u001b[0m | \u001b[36mdesci_sense.shared_functions.web_extractors.citoid\u001b[0m:\u001b[36mfetch_citation\u001b[0m:\u001b[36m54\u001b[0m - \u001b[34m\u001b[1mfetching citoid data for: https://medium.com/@charles.adjovu/distroid-recruiting-curators-and-graphic-designers-3054c098809c\u001b[0m\n",
      "\u001b[32m2024-04-25 10:24:02.800\u001b[0m | \u001b[34m\u001b[1mDEBUG   \u001b[0m | \u001b[36mdesci_sense.shared_functions.web_extractors.citoid\u001b[0m:\u001b[36mfetch_citation\u001b[0m:\u001b[36m54\u001b[0m - \u001b[34m\u001b[1mfetching citoid data for: https://tinyurl.com/yc4zb3hj\u001b[0m\n",
      "\u001b[32m2024-04-25 10:24:04.828\u001b[0m | \u001b[34m\u001b[1mDEBUG   \u001b[0m | \u001b[36mdesci_sense.shared_functions.web_extractors.citoid\u001b[0m:\u001b[36mfetch_citation\u001b[0m:\u001b[36m54\u001b[0m - \u001b[34m\u001b[1mfetching citoid data for: https://tinyurl.com/bdfh8uts\u001b[0m\n",
      "\u001b[32m2024-04-25 10:24:06.149\u001b[0m | \u001b[34m\u001b[1mDEBUG   \u001b[0m | \u001b[36mdesci_sense.shared_functions.web_extractors.citoid\u001b[0m:\u001b[36mfetch_citation\u001b[0m:\u001b[36m54\u001b[0m - \u001b[34m\u001b[1mfetching citoid data for: https://tinyurl.com/mr37k3c5\u001b[0m\n",
      "\u001b[32m2024-04-25 10:24:06.928\u001b[0m | \u001b[34m\u001b[1mDEBUG   \u001b[0m | \u001b[36mdesci_sense.shared_functions.web_extractors.citoid\u001b[0m:\u001b[36mfetch_citation\u001b[0m:\u001b[36m54\u001b[0m - \u001b[34m\u001b[1mfetching citoid data for: https://www.volunteermatch.org/search/opp3433852.jsp\u001b[0m\n",
      "\u001b[32m2024-04-25 10:24:08.020\u001b[0m | \u001b[34m\u001b[1mDEBUG   \u001b[0m | \u001b[36mdesci_sense.shared_functions.web_extractors.citoid\u001b[0m:\u001b[36mfetch_citation\u001b[0m:\u001b[36m54\u001b[0m - \u001b[34m\u001b[1mfetching citoid data for: https://tinyurl.com/29ezjd5n\u001b[0m\n",
      "\u001b[32m2024-04-25 10:24:11.487\u001b[0m | \u001b[34m\u001b[1mDEBUG   \u001b[0m | \u001b[36mdesci_sense.shared_functions.web_extractors.citoid\u001b[0m:\u001b[36mfetch_citation\u001b[0m:\u001b[36m54\u001b[0m - \u001b[34m\u001b[1mfetching citoid data for: https://tinyurl.com/4b5advuw\u001b[0m\n",
      "\u001b[32m2024-04-25 10:24:12.806\u001b[0m | \u001b[34m\u001b[1mDEBUG   \u001b[0m | \u001b[36mdesci_sense.shared_functions.web_extractors.citoid\u001b[0m:\u001b[36mfetch_citation\u001b[0m:\u001b[36m54\u001b[0m - \u001b[34m\u001b[1mfetching citoid data for: https://medium.com/@charles.adjovu/ledgerback-frontier-research-fund-universal-basic-grants-9fb1276af64e\u001b[0m\n",
      "\u001b[32m2024-04-25 10:24:14.680\u001b[0m | \u001b[34m\u001b[1mDEBUG   \u001b[0m | \u001b[36mdesci_sense.shared_functions.web_extractors.citoid\u001b[0m:\u001b[36mfetch_citation\u001b[0m:\u001b[36m54\u001b[0m - \u001b[34m\u001b[1mfetching citoid data for: https://tinyurl.com/mvfcja5j\u001b[0m\n",
      "\u001b[32m2024-04-25 10:24:16.494\u001b[0m | \u001b[34m\u001b[1mDEBUG   \u001b[0m | \u001b[36mdesci_sense.shared_functions.web_extractors.citoid\u001b[0m:\u001b[36mfetch_citation\u001b[0m:\u001b[36m54\u001b[0m - \u001b[34m\u001b[1mfetching citoid data for: https://medium.com/@charles.adjovu/ledgerback-frontier-awards-38dd499a861f\u001b[0m\n",
      "\u001b[32m2024-04-25 10:24:17.621\u001b[0m | \u001b[34m\u001b[1mDEBUG   \u001b[0m | \u001b[36mdesci_sense.shared_functions.web_extractors.citoid\u001b[0m:\u001b[36mfetch_citation\u001b[0m:\u001b[36m54\u001b[0m - \u001b[34m\u001b[1mfetching citoid data for: https://tinyurl.com/2p8nx3ye\u001b[0m\n",
      "\u001b[32m2024-04-25 10:24:21.715\u001b[0m | \u001b[34m\u001b[1mDEBUG   \u001b[0m | \u001b[36mdesci_sense.shared_functions.web_extractors.citoid\u001b[0m:\u001b[36mfetch_citation\u001b[0m:\u001b[36m54\u001b[0m - \u001b[34m\u001b[1mfetching citoid data for: https://tinyurl.com/j4k45bjx\u001b[0m\n",
      "\u001b[32m2024-04-25 10:24:23.662\u001b[0m | \u001b[34m\u001b[1mDEBUG   \u001b[0m | \u001b[36mdesci_sense.shared_functions.web_extractors.citoid\u001b[0m:\u001b[36mfetch_citation\u001b[0m:\u001b[36m54\u001b[0m - \u001b[34m\u001b[1mfetching citoid data for: https://link.medium.com/YTgFFsQLAlb\u001b[0m\n",
      "\u001b[32m2024-04-25 10:24:25.821\u001b[0m | \u001b[34m\u001b[1mDEBUG   \u001b[0m | \u001b[36mdesci_sense.shared_functions.web_extractors.citoid\u001b[0m:\u001b[36mfetch_citation\u001b[0m:\u001b[36m54\u001b[0m - \u001b[34m\u001b[1mfetching citoid data for: https://tinyurl.com/mtfc5fem\u001b[0m\n",
      "\u001b[32m2024-04-25 10:24:26.760\u001b[0m | \u001b[34m\u001b[1mDEBUG   \u001b[0m | \u001b[36mdesci_sense.shared_functions.web_extractors.citoid\u001b[0m:\u001b[36mfetch_citation\u001b[0m:\u001b[36m54\u001b[0m - \u001b[34m\u001b[1mfetching citoid data for: https://www.theverge.com/22785051/nft-collectibles-intellectual-property-decentralized-disney\u001b[0m\n",
      "\u001b[32m2024-04-25 10:24:27.960\u001b[0m | \u001b[34m\u001b[1mDEBUG   \u001b[0m | \u001b[36mdesci_sense.shared_functions.web_extractors.citoid\u001b[0m:\u001b[36mfetch_citation\u001b[0m:\u001b[36m54\u001b[0m - \u001b[34m\u001b[1mfetching citoid data for: https://tinyurl.com/2amv27ae\u001b[0m\n",
      "\u001b[32m2024-04-25 10:24:28.471\u001b[0m | \u001b[34m\u001b[1mDEBUG   \u001b[0m | \u001b[36mdesci_sense.shared_functions.web_extractors.citoid\u001b[0m:\u001b[36mfetch_citation\u001b[0m:\u001b[36m54\u001b[0m - \u001b[34m\u001b[1mfetching citoid data for: https://tinyurl.com/xjy7e393\u001b[0m\n",
      "\u001b[32m2024-04-25 10:24:31.967\u001b[0m | \u001b[34m\u001b[1mDEBUG   \u001b[0m | \u001b[36mdesci_sense.shared_functions.web_extractors.citoid\u001b[0m:\u001b[36mfetch_citation\u001b[0m:\u001b[36m54\u001b[0m - \u001b[34m\u001b[1mfetching citoid data for: https://tinyurl.com/5hfztnrm\u001b[0m\n",
      "\u001b[32m2024-04-25 10:24:36.710\u001b[0m | \u001b[34m\u001b[1mDEBUG   \u001b[0m | \u001b[36mdesci_sense.shared_functions.web_extractors.citoid\u001b[0m:\u001b[36mfetch_citation\u001b[0m:\u001b[36m54\u001b[0m - \u001b[34m\u001b[1mfetching citoid data for: https://medium.com/@charles.adjovu/previews-of-the-observatorys-tools-people-and-glossary-tables-2c9482c9bc43\u001b[0m\n",
      "\u001b[32m2024-04-25 10:24:42.939\u001b[0m | \u001b[34m\u001b[1mDEBUG   \u001b[0m | \u001b[36mdesci_sense.shared_functions.web_extractors.citoid\u001b[0m:\u001b[36mfetch_citation\u001b[0m:\u001b[36m54\u001b[0m - \u001b[34m\u001b[1mfetching citoid data for: https://tinyurl.com/39xj9jd6\u001b[0m\n",
      "\u001b[32m2024-04-25 10:24:44.754\u001b[0m | \u001b[34m\u001b[1mDEBUG   \u001b[0m | \u001b[36mdesci_sense.shared_functions.web_extractors.citoid\u001b[0m:\u001b[36mfetch_citation\u001b[0m:\u001b[36m54\u001b[0m - \u001b[34m\u001b[1mfetching citoid data for: https://quizizz.com/join?gc=58809249\u001b[0m\n",
      "\u001b[32m2024-04-25 10:24:45.360\u001b[0m | \u001b[34m\u001b[1mDEBUG   \u001b[0m | \u001b[36mdesci_sense.shared_functions.web_extractors.citoid\u001b[0m:\u001b[36mfetch_citation\u001b[0m:\u001b[36m54\u001b[0m - \u001b[34m\u001b[1mfetching citoid data for: https://tinyurl.com/464hwuu2\u001b[0m\n",
      "\u001b[32m2024-04-25 10:24:47.935\u001b[0m | \u001b[34m\u001b[1mDEBUG   \u001b[0m | \u001b[36mdesci_sense.shared_functions.web_extractors.citoid\u001b[0m:\u001b[36mfetch_citation\u001b[0m:\u001b[36m54\u001b[0m - \u001b[34m\u001b[1mfetching citoid data for: https://quizlet.com/_aipss1?x=1jqt&i=1z8al7\u001b[0m\n",
      "\u001b[32m2024-04-25 10:24:48.160\u001b[0m | \u001b[34m\u001b[1mDEBUG   \u001b[0m | \u001b[36mdesci_sense.shared_functions.web_extractors.citoid\u001b[0m:\u001b[36mfetch_citation\u001b[0m:\u001b[36m54\u001b[0m - \u001b[34m\u001b[1mfetching citoid data for: https://twitter.com/EugeneVinitsky/status/1780249042720604459/photo/1\u001b[0m\n",
      "\u001b[32m2024-04-25 10:24:48.383\u001b[0m | \u001b[34m\u001b[1mDEBUG   \u001b[0m | \u001b[36mdesci_sense.shared_functions.web_extractors.citoid\u001b[0m:\u001b[36mfetch_citation\u001b[0m:\u001b[36m54\u001b[0m - \u001b[34m\u001b[1mfetching citoid data for: https://twitter.com/mcbeukman/status/1779853227846213773\u001b[0m\n",
      "\u001b[32m2024-04-25 10:24:48.772\u001b[0m | \u001b[34m\u001b[1mDEBUG   \u001b[0m | \u001b[36mdesci_sense.shared_functions.web_extractors.citoid\u001b[0m:\u001b[36mfetch_citation\u001b[0m:\u001b[36m54\u001b[0m - \u001b[34m\u001b[1mfetching citoid data for: https://www.youtube.com/watch?v=xZ69KEg7ccU\u001b[0m\n",
      "\u001b[32m2024-04-25 10:24:50.494\u001b[0m | \u001b[34m\u001b[1mDEBUG   \u001b[0m | \u001b[36mdesci_sense.shared_functions.web_extractors.citoid\u001b[0m:\u001b[36mfetch_citation\u001b[0m:\u001b[36m54\u001b[0m - \u001b[34m\u001b[1mfetching citoid data for: https://twitter.com/thegautamkamath/status/1778580754785550819\u001b[0m\n",
      "\u001b[32m2024-04-25 10:24:50.704\u001b[0m | \u001b[34m\u001b[1mDEBUG   \u001b[0m | \u001b[36mdesci_sense.shared_functions.web_extractors.citoid\u001b[0m:\u001b[36mfetch_citation\u001b[0m:\u001b[36m54\u001b[0m - \u001b[34m\u001b[1mfetching citoid data for: https://twitter.com/EugeneVinitsky/status/1777442927838441588/photo/1\u001b[0m\n",
      "\u001b[32m2024-04-25 10:24:50.934\u001b[0m | \u001b[34m\u001b[1mDEBUG   \u001b[0m | \u001b[36mdesci_sense.shared_functions.web_extractors.citoid\u001b[0m:\u001b[36mfetch_citation\u001b[0m:\u001b[36m54\u001b[0m - \u001b[34m\u001b[1mfetching citoid data for: https://iclr-blogposts.github.io/2024/blog/the-n-implementation-details-of-rlhf-with-ppo/\u001b[0m\n",
      "\u001b[32m2024-04-25 10:24:51.405\u001b[0m | \u001b[34m\u001b[1mDEBUG   \u001b[0m | \u001b[36mdesci_sense.shared_functions.web_extractors.citoid\u001b[0m:\u001b[36mfetch_citation\u001b[0m:\u001b[36m54\u001b[0m - \u001b[34m\u001b[1mfetching citoid data for: https://twitter.com/EugeneVinitsky/status/1777069781083889745/photo/1\u001b[0m\n",
      "\u001b[32m2024-04-25 10:24:51.610\u001b[0m | \u001b[34m\u001b[1mDEBUG   \u001b[0m | \u001b[36mdesci_sense.shared_functions.web_extractors.citoid\u001b[0m:\u001b[36mfetch_citation\u001b[0m:\u001b[36m54\u001b[0m - \u001b[34m\u001b[1mfetching citoid data for: https://app.suno.ai/song/ee467d00-5813-4a74-9792-c9ae4a09d344\u001b[0m\n",
      "\u001b[32m2024-04-25 10:24:53.462\u001b[0m | \u001b[34m\u001b[1mDEBUG   \u001b[0m | \u001b[36mdesci_sense.shared_functions.web_extractors.citoid\u001b[0m:\u001b[36mfetch_citation\u001b[0m:\u001b[36m54\u001b[0m - \u001b[34m\u001b[1mfetching citoid data for: https://twitter.com/EugeneVinitsky/status/1776911191224230112/photo/1\u001b[0m\n",
      "\u001b[32m2024-04-25 10:24:53.667\u001b[0m | \u001b[34m\u001b[1mDEBUG   \u001b[0m | \u001b[36mdesci_sense.shared_functions.web_extractors.citoid\u001b[0m:\u001b[36mfetch_citation\u001b[0m:\u001b[36m54\u001b[0m - \u001b[34m\u001b[1mfetching citoid data for: https://twitter.com/rdesh26/status/1775524403490508992\u001b[0m\n",
      "\u001b[32m2024-04-25 10:24:53.906\u001b[0m | \u001b[34m\u001b[1mDEBUG   \u001b[0m | \u001b[36mdesci_sense.shared_functions.web_extractors.citoid\u001b[0m:\u001b[36mfetch_citation\u001b[0m:\u001b[36m54\u001b[0m - \u001b[34m\u001b[1mfetching citoid data for: https://twitter.com/tafm_rlc/status/1775330698691478005\u001b[0m\n",
      "\u001b[32m2024-04-25 10:24:54.146\u001b[0m | \u001b[34m\u001b[1mDEBUG   \u001b[0m | \u001b[36mdesci_sense.shared_functions.web_extractors.citoid\u001b[0m:\u001b[36mfetch_citation\u001b[0m:\u001b[36m54\u001b[0m - \u001b[34m\u001b[1mfetching citoid data for: https://twitter.com/DeployableRL/status/1775717885182439674\u001b[0m\n",
      "\u001b[32m2024-04-25 10:24:54.354\u001b[0m | \u001b[34m\u001b[1mDEBUG   \u001b[0m | \u001b[36mdesci_sense.shared_functions.web_extractors.citoid\u001b[0m:\u001b[36mfetch_citation\u001b[0m:\u001b[36m54\u001b[0m - \u001b[34m\u001b[1mfetching citoid data for: https://twitter.com/EugeneVinitsky/status/1775872660070920635/photo/1\u001b[0m\n",
      "\u001b[32m2024-04-25 10:24:54.567\u001b[0m | \u001b[34m\u001b[1mDEBUG   \u001b[0m | \u001b[36mdesci_sense.shared_functions.web_extractors.citoid\u001b[0m:\u001b[36mfetch_citation\u001b[0m:\u001b[36m54\u001b[0m - \u001b[34m\u001b[1mfetching citoid data for: https://twitter.com/ic_arl/status/1775076718019055812\u001b[0m\n",
      "\u001b[32m2024-04-25 10:24:54.765\u001b[0m | \u001b[34m\u001b[1mDEBUG   \u001b[0m | \u001b[36mdesci_sense.shared_functions.web_extractors.citoid\u001b[0m:\u001b[36mfetch_citation\u001b[0m:\u001b[36m54\u001b[0m - \u001b[34m\u001b[1mfetching citoid data for: https://twitter.com/ICBINB_RLC/status/1773827038782390577\u001b[0m\n",
      "\u001b[32m2024-04-25 10:24:55.015\u001b[0m | \u001b[34m\u001b[1mDEBUG   \u001b[0m | \u001b[36mdesci_sense.shared_functions.web_extractors.citoid\u001b[0m:\u001b[36mfetch_citation\u001b[0m:\u001b[36m54\u001b[0m - \u001b[34m\u001b[1mfetching citoid data for: https://arxiv.org/pdf/2403.19648.pdf\u001b[0m\n",
      "\u001b[32m2024-04-25 10:25:13.236\u001b[0m | \u001b[34m\u001b[1mDEBUG   \u001b[0m | \u001b[36mdesci_sense.shared_functions.web_extractors.citoid\u001b[0m:\u001b[36mfetch_citation\u001b[0m:\u001b[36m54\u001b[0m - \u001b[34m\u001b[1mfetching citoid data for: https://usefulfictions.substack.com/p/how-to-be-more-agentic\u001b[0m\n",
      "\u001b[32m2024-04-25 10:25:13.736\u001b[0m | \u001b[34m\u001b[1mDEBUG   \u001b[0m | \u001b[36mdesci_sense.shared_functions.web_extractors.citoid\u001b[0m:\u001b[36mfetch_citation\u001b[0m:\u001b[36m54\u001b[0m - \u001b[34m\u001b[1mfetching citoid data for: https://twitter.com/AsimovPress/status/1764343228487401853\u001b[0m\n",
      "\u001b[32m2024-04-25 10:25:13.954\u001b[0m | \u001b[34m\u001b[1mDEBUG   \u001b[0m | \u001b[36mdesci_sense.shared_functions.web_extractors.citoid\u001b[0m:\u001b[36mfetch_citation\u001b[0m:\u001b[36m54\u001b[0m - \u001b[34m\u001b[1mfetching citoid data for: https://research.arcadiascience.com/pub/dataset-amblyomma-americanum-predicted-genes/\u001b[0m\n",
      "\u001b[32m2024-04-25 10:25:24.032\u001b[0m | \u001b[34m\u001b[1mDEBUG   \u001b[0m | \u001b[36mdesci_sense.shared_functions.web_extractors.citoid\u001b[0m:\u001b[36mfetch_citation\u001b[0m:\u001b[36m54\u001b[0m - \u001b[34m\u001b[1mfetching citoid data for: https://research.arcadiascience.com/ticks-molecular-discovery\u001b[0m\n",
      "\u001b[32m2024-04-25 10:25:26.843\u001b[0m | \u001b[34m\u001b[1mDEBUG   \u001b[0m | \u001b[36mdesci_sense.shared_functions.web_extractors.citoid\u001b[0m:\u001b[36mfetch_citation\u001b[0m:\u001b[36m54\u001b[0m - \u001b[34m\u001b[1mfetching citoid data for: https://twitter.com/lizilla93/status/1762208245098373454/photo/1\u001b[0m\n",
      "\u001b[32m2024-04-25 10:25:27.091\u001b[0m | \u001b[34m\u001b[1mDEBUG   \u001b[0m | \u001b[36mdesci_sense.shared_functions.web_extractors.citoid\u001b[0m:\u001b[36mfetch_citation\u001b[0m:\u001b[36m54\u001b[0m - \u001b[34m\u001b[1mfetching citoid data for: https://github.com/Arcadia-Science/protein-data-curation\u001b[0m\n",
      "\u001b[32m2024-04-25 10:25:28.999\u001b[0m | \u001b[34m\u001b[1mDEBUG   \u001b[0m | \u001b[36mdesci_sense.shared_functions.web_extractors.citoid\u001b[0m:\u001b[36mfetch_citation\u001b[0m:\u001b[36m54\u001b[0m - \u001b[34m\u001b[1mfetching citoid data for: https://github.com/marchoeppner/genomeannotator\u001b[0m\n",
      "\u001b[32m2024-04-25 10:25:31.763\u001b[0m | \u001b[34m\u001b[1mDEBUG   \u001b[0m | \u001b[36mdesci_sense.shared_functions.web_extractors.citoid\u001b[0m:\u001b[36mfetch_citation\u001b[0m:\u001b[36m54\u001b[0m - \u001b[34m\u001b[1mfetching citoid data for: https://research.arcadiascience.com/pub/data-set-transcriptome-proteome-amblyomma-americanum\u001b[0m\n",
      "\u001b[32m2024-04-25 10:25:35.143\u001b[0m | \u001b[34m\u001b[1mDEBUG   \u001b[0m | \u001b[36mdesci_sense.shared_functions.web_extractors.citoid\u001b[0m:\u001b[36mfetch_citation\u001b[0m:\u001b[36m54\u001b[0m - \u001b[34m\u001b[1mfetching citoid data for: https://twitter.com/seemaychou/status/1641818592902799360\u001b[0m\n",
      "\u001b[32m2024-04-25 10:25:35.370\u001b[0m | \u001b[34m\u001b[1mDEBUG   \u001b[0m | \u001b[36mdesci_sense.shared_functions.web_extractors.citoid\u001b[0m:\u001b[36mfetch_citation\u001b[0m:\u001b[36m54\u001b[0m - \u001b[34m\u001b[1mfetching citoid data for: https://twitter.com/lizilla93/status/1751799281961619955/photo/1\u001b[0m\n",
      "\u001b[32m2024-04-25 10:25:35.623\u001b[0m | \u001b[34m\u001b[1mDEBUG   \u001b[0m | \u001b[36mdesci_sense.shared_functions.web_extractors.citoid\u001b[0m:\u001b[36mfetch_citation\u001b[0m:\u001b[36m54\u001b[0m - \u001b[34m\u001b[1mfetching citoid data for: https://research.arcadiascience.com/pub/open-question-polyphosphate-discovery\u001b[0m\n",
      "\u001b[32m2024-04-25 10:25:38.013\u001b[0m | \u001b[34m\u001b[1mDEBUG   \u001b[0m | \u001b[36mdesci_sense.shared_functions.web_extractors.citoid\u001b[0m:\u001b[36mfetch_citation\u001b[0m:\u001b[36m54\u001b[0m - \u001b[34m\u001b[1mfetching citoid data for: https://research.arcadiascience.com/pub/open-question-polyphosphate-discovery\u001b[0m\n",
      "\u001b[32m2024-04-25 10:25:39.060\u001b[0m | \u001b[34m\u001b[1mDEBUG   \u001b[0m | \u001b[36mdesci_sense.shared_functions.web_extractors.citoid\u001b[0m:\u001b[36mfetch_citation\u001b[0m:\u001b[36m54\u001b[0m - \u001b[34m\u001b[1mfetching citoid data for: https://twitter.com/lizilla93/status/1711509619703767215\u001b[0m\n",
      "\u001b[32m2024-04-25 10:25:40.232\u001b[0m | \u001b[34m\u001b[1mDEBUG   \u001b[0m | \u001b[36mdesci_sense.shared_functions.web_extractors.citoid\u001b[0m:\u001b[36mfetch_citation\u001b[0m:\u001b[36m54\u001b[0m - \u001b[34m\u001b[1mfetching citoid data for: https://twitter.com/lizilla93/status/1741717550046855200/photo/1\u001b[0m\n",
      "\u001b[32m2024-04-25 10:25:40.500\u001b[0m | \u001b[34m\u001b[1mDEBUG   \u001b[0m | \u001b[36mdesci_sense.shared_functions.web_extractors.citoid\u001b[0m:\u001b[36mfetch_citation\u001b[0m:\u001b[36m54\u001b[0m - \u001b[34m\u001b[1mfetching citoid data for: https://twitter.com/kepano/status/1741122937229590790\u001b[0m\n",
      "\u001b[32m2024-04-25 10:25:40.682\u001b[0m | \u001b[34m\u001b[1mDEBUG   \u001b[0m | \u001b[36mdesci_sense.shared_functions.web_extractors.citoid\u001b[0m:\u001b[36mfetch_citation\u001b[0m:\u001b[36m54\u001b[0m - \u001b[34m\u001b[1mfetching citoid data for: https://research.arcadiascience.com/pub/result-ppk1-homology/release/1\u001b[0m\n",
      "\u001b[32m2024-04-25 10:25:41.896\u001b[0m | \u001b[34m\u001b[1mDEBUG   \u001b[0m | \u001b[36mdesci_sense.shared_functions.web_extractors.citoid\u001b[0m:\u001b[36mfetch_citation\u001b[0m:\u001b[36m54\u001b[0m - \u001b[34m\u001b[1mfetching citoid data for: https://github.com/Arcadia-Science/2023-polyphosphate\u001b[0m\n",
      "\u001b[32m2024-04-25 10:25:43.470\u001b[0m | \u001b[34m\u001b[1mDEBUG   \u001b[0m | \u001b[36mdesci_sense.shared_functions.web_extractors.citoid\u001b[0m:\u001b[36mfetch_citation\u001b[0m:\u001b[36m54\u001b[0m - \u001b[34m\u001b[1mfetching citoid data for: https://zenodo.org/record/8412197\u001b[0m\n",
      "\u001b[32m2024-04-25 10:25:47.340\u001b[0m | \u001b[34m\u001b[1mDEBUG   \u001b[0m | \u001b[36mdesci_sense.shared_functions.web_extractors.citoid\u001b[0m:\u001b[36mfetch_citation\u001b[0m:\u001b[36m54\u001b[0m - \u001b[34m\u001b[1mfetching citoid data for: https://assets.pubpub.org/l1515rru/Fig6-Phylo-distances-interactive-31696548144798.html\u001b[0m\n",
      "\u001b[32m2024-04-25 10:25:49.263\u001b[0m | \u001b[34m\u001b[1mDEBUG   \u001b[0m | \u001b[36mdesci_sense.shared_functions.web_extractors.citoid\u001b[0m:\u001b[36mfetch_citation\u001b[0m:\u001b[36m54\u001b[0m - \u001b[34m\u001b[1mfetching citoid data for: https://twitter.com/lizilla93/status/1711509639060435373/photo/1\u001b[0m\n",
      "\u001b[32m2024-04-25 10:25:49.598\u001b[0m | \u001b[34m\u001b[1mDEBUG   \u001b[0m | \u001b[36mdesci_sense.shared_functions.web_extractors.citoid\u001b[0m:\u001b[36mfetch_citation\u001b[0m:\u001b[36m54\u001b[0m - \u001b[34m\u001b[1mfetching citoid data for: https://twitter.com/lizilla93/status/1711509636761993569/photo/1\u001b[0m\n",
      "\u001b[32m2024-04-25 10:25:49.802\u001b[0m | \u001b[34m\u001b[1mDEBUG   \u001b[0m | \u001b[36mdesci_sense.shared_functions.web_extractors.citoid\u001b[0m:\u001b[36mfetch_citation\u001b[0m:\u001b[36m54\u001b[0m - \u001b[34m\u001b[1mfetching citoid data for: https://twitter.com/lizilla93/status/1711509633867849779/photo/1\u001b[0m\n",
      "\u001b[32m2024-04-25 10:25:52.404\u001b[0m | \u001b[34m\u001b[1mDEBUG   \u001b[0m | \u001b[36mdesci_sense.shared_functions.web_extractors.citoid\u001b[0m:\u001b[36mfetch_citation\u001b[0m:\u001b[36m54\u001b[0m - \u001b[34m\u001b[1mfetching citoid data for: https://twitter.com/lizilla93/status/1711509631200342474/photo/1\u001b[0m\n",
      "\u001b[32m2024-04-25 10:25:52.646\u001b[0m | \u001b[34m\u001b[1mDEBUG   \u001b[0m | \u001b[36mdesci_sense.shared_functions.web_extractors.citoid\u001b[0m:\u001b[36mfetch_citation\u001b[0m:\u001b[36m54\u001b[0m - \u001b[34m\u001b[1mfetching citoid data for: https://research.arcadiascience.com/pub/resource-protein-cartography/release/5\u001b[0m\n",
      "\u001b[32m2024-04-25 10:25:59.718\u001b[0m | \u001b[34m\u001b[1mDEBUG   \u001b[0m | \u001b[36mdesci_sense.shared_functions.web_extractors.citoid\u001b[0m:\u001b[36mfetch_citation\u001b[0m:\u001b[36m54\u001b[0m - \u001b[34m\u001b[1mfetching citoid data for: https://twitter.com/lizilla93/status/1711509627794534442/photo/1\u001b[0m\n",
      "\u001b[32m2024-04-25 10:26:00.809\u001b[0m | \u001b[34m\u001b[1mDEBUG   \u001b[0m | \u001b[36mdesci_sense.shared_functions.web_extractors.citoid\u001b[0m:\u001b[36mfetch_citation\u001b[0m:\u001b[36m54\u001b[0m - \u001b[34m\u001b[1mfetching citoid data for: https://twitter.com/lizilla93/status/1711509624418115935/photo/1\u001b[0m\n",
      "\u001b[32m2024-04-25 10:26:01.020\u001b[0m | \u001b[34m\u001b[1mDEBUG   \u001b[0m | \u001b[36mdesci_sense.shared_functions.web_extractors.citoid\u001b[0m:\u001b[36mfetch_citation\u001b[0m:\u001b[36m54\u001b[0m - \u001b[34m\u001b[1mfetching citoid data for: https://twitter.com/lizilla93/status/1711509620890755193/photo/1\u001b[0m\n",
      "\u001b[32m2024-04-25 10:26:01.353\u001b[0m | \u001b[34m\u001b[1mDEBUG   \u001b[0m | \u001b[36mdesci_sense.shared_functions.web_extractors.citoid\u001b[0m:\u001b[36mfetch_citation\u001b[0m:\u001b[36m54\u001b[0m - \u001b[34m\u001b[1mfetching citoid data for: https://research.arcadiascience.com/pub/result-ppk1-homology/release/1\u001b[0m\n",
      "\u001b[32m2024-04-25 10:26:02.897\u001b[0m | \u001b[34m\u001b[1mDEBUG   \u001b[0m | \u001b[36mdesci_sense.shared_functions.web_extractors.citoid\u001b[0m:\u001b[36mfetch_citation\u001b[0m:\u001b[36m54\u001b[0m - \u001b[34m\u001b[1mfetching citoid data for: https://www.conspicuouscognition.com/p/the-media-very-rarely-makes-things\u001b[0m\n",
      "\u001b[32m2024-04-25 10:26:04.672\u001b[0m | \u001b[34m\u001b[1mDEBUG   \u001b[0m | \u001b[36mdesci_sense.shared_functions.web_extractors.citoid\u001b[0m:\u001b[36mfetch_citation\u001b[0m:\u001b[36m54\u001b[0m - \u001b[34m\u001b[1mfetching citoid data for: https://www.conspicuouscognition.com/p/should-we-trust-misinformation-experts\u001b[0m\n",
      "\u001b[32m2024-04-25 10:26:05.857\u001b[0m | \u001b[34m\u001b[1mDEBUG   \u001b[0m | \u001b[36mdesci_sense.shared_functions.web_extractors.citoid\u001b[0m:\u001b[36mfetch_citation\u001b[0m:\u001b[36m54\u001b[0m - \u001b[34m\u001b[1mfetching citoid data for: https://iai.tv/articles/misinformation-is-the-symptom-not-the-disease-daniel-walliams-auid-2690\u001b[0m\n",
      "\u001b[32m2024-04-25 10:26:08.420\u001b[0m | \u001b[34m\u001b[1mDEBUG   \u001b[0m | \u001b[36mdesci_sense.shared_functions.web_extractors.citoid\u001b[0m:\u001b[36mfetch_citation\u001b[0m:\u001b[36m54\u001b[0m - \u001b[34m\u001b[1mfetching citoid data for: https://unherd.com/2024/04/inside-the-disinformation-industry/\u001b[0m\n",
      "\u001b[32m2024-04-25 10:26:13.135\u001b[0m | \u001b[34m\u001b[1mDEBUG   \u001b[0m | \u001b[36mdesci_sense.shared_functions.web_extractors.citoid\u001b[0m:\u001b[36mfetch_citation\u001b[0m:\u001b[36m54\u001b[0m - \u001b[34m\u001b[1mfetching citoid data for: https://twitter.com/enzoreds/status/1780240145171583187\u001b[0m\n",
      "\u001b[32m2024-04-25 10:26:13.355\u001b[0m | \u001b[34m\u001b[1mDEBUG   \u001b[0m | \u001b[36mdesci_sense.shared_functions.web_extractors.citoid\u001b[0m:\u001b[36mfetch_citation\u001b[0m:\u001b[36m54\u001b[0m - \u001b[34m\u001b[1mfetching citoid data for: https://www.bbc.co.uk/news/world-europe-68826577\u001b[0m\n",
      "\u001b[32m2024-04-25 10:26:14.049\u001b[0m | \u001b[34m\u001b[1mDEBUG   \u001b[0m | \u001b[36mdesci_sense.shared_functions.web_extractors.citoid\u001b[0m:\u001b[36mfetch_citation\u001b[0m:\u001b[36m54\u001b[0m - \u001b[34m\u001b[1mfetching citoid data for: https://www.conspicuouscognition.com/p/the-media-very-rarely-makes-things\u001b[0m\n",
      "\u001b[32m2024-04-25 10:26:14.740\u001b[0m | \u001b[34m\u001b[1mDEBUG   \u001b[0m | \u001b[36mdesci_sense.shared_functions.web_extractors.citoid\u001b[0m:\u001b[36mfetch_citation\u001b[0m:\u001b[36m54\u001b[0m - \u001b[34m\u001b[1mfetching citoid data for: https://twitter.com/danwilliamsphil/status/1780185023246663711/photo/1\u001b[0m\n",
      "\u001b[32m2024-04-25 10:26:14.971\u001b[0m | \u001b[34m\u001b[1mDEBUG   \u001b[0m | \u001b[36mdesci_sense.shared_functions.web_extractors.citoid\u001b[0m:\u001b[36mfetch_citation\u001b[0m:\u001b[36m54\u001b[0m - \u001b[34m\u001b[1mfetching citoid data for: https://twitter.com/danwilliamsphil/status/1779904327592607766/photo/1\u001b[0m\n",
      "\u001b[32m2024-04-25 10:26:15.169\u001b[0m | \u001b[34m\u001b[1mDEBUG   \u001b[0m | \u001b[36mdesci_sense.shared_functions.web_extractors.citoid\u001b[0m:\u001b[36mfetch_citation\u001b[0m:\u001b[36m54\u001b[0m - \u001b[34m\u001b[1mfetching citoid data for: https://twitter.com/danwilliamsphil/status/1779904327592607766/photo/1\u001b[0m\n",
      "\u001b[32m2024-04-25 10:26:15.399\u001b[0m | \u001b[34m\u001b[1mDEBUG   \u001b[0m | \u001b[36mdesci_sense.shared_functions.web_extractors.citoid\u001b[0m:\u001b[36mfetch_citation\u001b[0m:\u001b[36m54\u001b[0m - \u001b[34m\u001b[1mfetching citoid data for: https://www.newyorker.com/magazine/2024/04/22/dont-believe-what-theyre-telling-you-about-misinformation\u001b[0m\n",
      "\u001b[32m2024-04-25 10:26:16.201\u001b[0m | \u001b[34m\u001b[1mDEBUG   \u001b[0m | \u001b[36mdesci_sense.shared_functions.web_extractors.citoid\u001b[0m:\u001b[36mfetch_citation\u001b[0m:\u001b[36m54\u001b[0m - \u001b[34m\u001b[1mfetching citoid data for: https://www.astralcodexten.com/p/the-media-very-rarely-lies\u001b[0m\n",
      "\u001b[32m2024-04-25 10:26:18.153\u001b[0m | \u001b[34m\u001b[1mDEBUG   \u001b[0m | \u001b[36mdesci_sense.shared_functions.web_extractors.citoid\u001b[0m:\u001b[36mfetch_citation\u001b[0m:\u001b[36m54\u001b[0m - \u001b[34m\u001b[1mfetching citoid data for: https://www.conspicuouscognition.com/p/the-media-very-rarely-makes-things\u001b[0m\n",
      "\u001b[32m2024-04-25 10:26:18.654\u001b[0m | \u001b[34m\u001b[1mDEBUG   \u001b[0m | \u001b[36mdesci_sense.shared_functions.web_extractors.citoid\u001b[0m:\u001b[36mfetch_citation\u001b[0m:\u001b[36m54\u001b[0m - \u001b[34m\u001b[1mfetching citoid data for: https://twitter.com/danwilliamsphil/status/1779555311025627211/photo/1\u001b[0m\n",
      "\u001b[32m2024-04-25 10:26:18.849\u001b[0m | \u001b[34m\u001b[1mDEBUG   \u001b[0m | \u001b[36mdesci_sense.shared_functions.web_extractors.citoid\u001b[0m:\u001b[36mfetch_citation\u001b[0m:\u001b[36m54\u001b[0m - \u001b[34m\u001b[1mfetching citoid data for: https://twitter.com/danwilliamsphil/status/1778787051447484664/photo/1\u001b[0m\n",
      "\u001b[32m2024-04-25 10:26:19.053\u001b[0m | \u001b[34m\u001b[1mDEBUG   \u001b[0m | \u001b[36mdesci_sense.shared_functions.web_extractors.citoid\u001b[0m:\u001b[36mfetch_citation\u001b[0m:\u001b[36m54\u001b[0m - \u001b[34m\u001b[1mfetching citoid data for: https://www.youtube.com/watch?v=f7EtKqIdbz8&t=1905s\u001b[0m\n",
      "\u001b[32m2024-04-25 10:26:20.784\u001b[0m | \u001b[34m\u001b[1mDEBUG   \u001b[0m | \u001b[36mdesci_sense.shared_functions.web_extractors.citoid\u001b[0m:\u001b[36mfetch_citation\u001b[0m:\u001b[36m54\u001b[0m - \u001b[34m\u001b[1mfetching citoid data for: https://twitter.com/kevin_dorst/status/1776563327017132214\u001b[0m\n",
      "\u001b[32m2024-04-25 10:26:21.217\u001b[0m | \u001b[34m\u001b[1mDEBUG   \u001b[0m | \u001b[36mdesci_sense.shared_functions.web_extractors.citoid\u001b[0m:\u001b[36mfetch_citation\u001b[0m:\u001b[36m54\u001b[0m - \u001b[34m\u001b[1mfetching citoid data for: https://www.conspicuouscognition.com/p/people-are-persuaded-by-rational?utm_source=profile&utm_medium=reader2\u001b[0m\n",
      "\u001b[32m2024-04-25 10:26:21.936\u001b[0m | \u001b[34m\u001b[1mDEBUG   \u001b[0m | \u001b[36mdesci_sense.shared_functions.web_extractors.citoid\u001b[0m:\u001b[36mfetch_citation\u001b[0m:\u001b[36m54\u001b[0m - \u001b[34m\u001b[1mfetching citoid data for: https://twitter.com/danwilliamsphil/status/1776529274687623545/photo/1\u001b[0m\n",
      "\u001b[32m2024-04-25 10:26:22.152\u001b[0m | \u001b[34m\u001b[1mDEBUG   \u001b[0m | \u001b[36mdesci_sense.shared_functions.web_extractors.citoid\u001b[0m:\u001b[36mfetch_citation\u001b[0m:\u001b[36m54\u001b[0m - \u001b[34m\u001b[1mfetching citoid data for: https://www.conspicuouscognition.com/p/people-are-persuaded-by-rational\u001b[0m\n",
      "\u001b[32m2024-04-25 10:26:22.653\u001b[0m | \u001b[34m\u001b[1mDEBUG   \u001b[0m | \u001b[36mdesci_sense.shared_functions.web_extractors.citoid\u001b[0m:\u001b[36mfetch_citation\u001b[0m:\u001b[36m54\u001b[0m - \u001b[34m\u001b[1mfetching citoid data for: https://www.conspicuouscognition.com/\u001b[0m\n",
      "\u001b[32m2024-04-25 10:26:22.944\u001b[0m | \u001b[34m\u001b[1mDEBUG   \u001b[0m | \u001b[36mdesci_sense.shared_functions.web_extractors.citoid\u001b[0m:\u001b[36mfetch_citation\u001b[0m:\u001b[36m54\u001b[0m - \u001b[34m\u001b[1mfetching citoid data for: https://twitter.com/danwilliamsphil/status/1776343180914364896/photo/1\u001b[0m\n",
      "\u001b[32m2024-04-25 10:26:23.160\u001b[0m | \u001b[34m\u001b[1mDEBUG   \u001b[0m | \u001b[36mdesci_sense.shared_functions.web_extractors.citoid\u001b[0m:\u001b[36mfetch_citation\u001b[0m:\u001b[36m54\u001b[0m - \u001b[34m\u001b[1mfetching citoid data for: https://twitter.com/danwilliamsphil/status/1775825220386836728\u001b[0m\n",
      "\u001b[32m2024-04-25 10:26:23.377\u001b[0m | \u001b[34m\u001b[1mDEBUG   \u001b[0m | \u001b[36mdesci_sense.shared_functions.web_extractors.citoid\u001b[0m:\u001b[36mfetch_citation\u001b[0m:\u001b[36m54\u001b[0m - \u001b[34m\u001b[1mfetching citoid data for: https://www.cambridge.org/core/journals/economics-and-philosophy/article/marketplace-of-rationalizations/41FB096344BD344908C7C992D0C0C0DC\u001b[0m\n",
      "\u001b[32m2024-04-25 10:26:30.753\u001b[0m | \u001b[34m\u001b[1mDEBUG   \u001b[0m | \u001b[36mdesci_sense.shared_functions.web_extractors.citoid\u001b[0m:\u001b[36mfetch_citation\u001b[0m:\u001b[36m54\u001b[0m - \u001b[34m\u001b[1mfetching citoid data for: https://link.springer.com/article/10.1007/s11229-023-04223-1\u001b[0m\n",
      "\u001b[32m2024-04-25 10:26:33.511\u001b[0m | \u001b[34m\u001b[1mDEBUG   \u001b[0m | \u001b[36mdesci_sense.shared_functions.web_extractors.citoid\u001b[0m:\u001b[36mfetch_citation\u001b[0m:\u001b[36m54\u001b[0m - \u001b[34m\u001b[1mfetching citoid data for: https://www.researchgate.net/publication/363885159_Identity-Defining_Beliefs_on_Social_Media\u001b[0m\n",
      "\u001b[32m2024-04-25 10:26:33.665\u001b[0m | \u001b[34m\u001b[1mDEBUG   \u001b[0m | \u001b[36mdesci_sense.shared_functions.web_extractors.citoid\u001b[0m:\u001b[36mfetch_citation\u001b[0m:\u001b[36m54\u001b[0m - \u001b[34m\u001b[1mfetching citoid data for: https://www.researchgate.net/publication/376489076_Scaffolding_Motivated_Cognition\u001b[0m\n",
      "\u001b[32m2024-04-25 10:26:33.829\u001b[0m | \u001b[34m\u001b[1mDEBUG   \u001b[0m | \u001b[36mdesci_sense.shared_functions.web_extractors.citoid\u001b[0m:\u001b[36mfetch_citation\u001b[0m:\u001b[36m54\u001b[0m - \u001b[34m\u001b[1mfetching citoid data for: https://www.conspicuouscognition.com/\u001b[0m\n",
      "\u001b[32m2024-04-25 10:26:34.222\u001b[0m | \u001b[34m\u001b[1mDEBUG   \u001b[0m | \u001b[36mdesci_sense.shared_functions.web_extractors.citoid\u001b[0m:\u001b[36mfetch_citation\u001b[0m:\u001b[36m54\u001b[0m - \u001b[34m\u001b[1mfetching citoid data for: https://twitter.com/danwilliamsphil/status/1775825222962184200/photo/1\u001b[0m\n",
      "\u001b[32m2024-04-25 10:26:34.429\u001b[0m | \u001b[34m\u001b[1mDEBUG   \u001b[0m | \u001b[36mdesci_sense.shared_functions.web_extractors.citoid\u001b[0m:\u001b[36mfetch_citation\u001b[0m:\u001b[36m54\u001b[0m - \u001b[34m\u001b[1mfetching citoid data for: https://twitter.com/DG_Rand/status/1775618798717911424\u001b[0m\n",
      "\u001b[32m2024-04-25 10:26:34.842\u001b[0m | \u001b[34m\u001b[1mDEBUG   \u001b[0m | \u001b[36mdesci_sense.shared_functions.web_extractors.citoid\u001b[0m:\u001b[36mfetch_citation\u001b[0m:\u001b[36m54\u001b[0m - \u001b[34m\u001b[1mfetching citoid data for: https://twitter.com/danwilliamsphil/status/1775599056368087102/photo/1\u001b[0m\n",
      "\u001b[32m2024-04-25 10:26:35.049\u001b[0m | \u001b[34m\u001b[1mDEBUG   \u001b[0m | \u001b[36mdesci_sense.shared_functions.web_extractors.citoid\u001b[0m:\u001b[36mfetch_citation\u001b[0m:\u001b[36m54\u001b[0m - \u001b[34m\u001b[1mfetching citoid data for: https://twitter.com/tylercowen/status/1775503898112868462\u001b[0m\n",
      "\u001b[32m2024-04-25 10:26:37.295\u001b[0m | \u001b[34m\u001b[1mDEBUG   \u001b[0m | \u001b[36mdesci_sense.shared_functions.web_extractors.citoid\u001b[0m:\u001b[36mfetch_citation\u001b[0m:\u001b[36m54\u001b[0m - \u001b[34m\u001b[1mfetching citoid data for: https://www.sciencedirect.com/science/article/abs/pii/S1090513800000325\u001b[0m\n",
      "\u001b[32m2024-04-25 10:26:37.715\u001b[0m | \u001b[34m\u001b[1mDEBUG   \u001b[0m | \u001b[36mdesci_sense.shared_functions.web_extractors.citoid\u001b[0m:\u001b[36mfetch_citation\u001b[0m:\u001b[36m54\u001b[0m - \u001b[34m\u001b[1mfetching citoid data for: https://twitter.com/danwilliamsphil/status/1775548931767750698/photo/1\u001b[0m\n",
      "\u001b[32m2024-04-25 10:26:37.912\u001b[0m | \u001b[34m\u001b[1mDEBUG   \u001b[0m | \u001b[36mdesci_sense.shared_functions.web_extractors.citoid\u001b[0m:\u001b[36mfetch_citation\u001b[0m:\u001b[36m54\u001b[0m - \u001b[34m\u001b[1mfetching citoid data for: https://academic.oup.com/ej/advance-article-abstract/doi/10.1093/ej/ueae019/7630186\u001b[0m\n",
      "\u001b[32m2024-04-25 10:26:47.129\u001b[0m | \u001b[34m\u001b[1mDEBUG   \u001b[0m | \u001b[36mdesci_sense.shared_functions.web_extractors.citoid\u001b[0m:\u001b[36mfetch_citation\u001b[0m:\u001b[36m54\u001b[0m - \u001b[34m\u001b[1mfetching citoid data for: https://twitter.com/danwilliamsphil/status/1775453395429548111/photo/1\u001b[0m\n",
      "\u001b[32m2024-04-25 10:26:47.347\u001b[0m | \u001b[34m\u001b[1mDEBUG   \u001b[0m | \u001b[36mdesci_sense.shared_functions.web_extractors.citoid\u001b[0m:\u001b[36mfetch_citation\u001b[0m:\u001b[36m54\u001b[0m - \u001b[34m\u001b[1mfetching citoid data for: https://twitter.com/JonHaidt/status/1774571680511508601\u001b[0m\n",
      "\u001b[32m2024-04-25 10:26:47.594\u001b[0m | \u001b[34m\u001b[1mDEBUG   \u001b[0m | \u001b[36mdesci_sense.shared_functions.web_extractors.citoid\u001b[0m:\u001b[36mfetch_citation\u001b[0m:\u001b[36m54\u001b[0m - \u001b[34m\u001b[1mfetching citoid data for: https://issues.org/power-progress-acemoglu-johnson-review-sarewitz/\u001b[0m\n",
      "\u001b[32m2024-04-25 10:26:49.580\u001b[0m | \u001b[34m\u001b[1mDEBUG   \u001b[0m | \u001b[36mdesci_sense.shared_functions.web_extractors.citoid\u001b[0m:\u001b[36mfetch_citation\u001b[0m:\u001b[36m54\u001b[0m - \u001b[34m\u001b[1mfetching citoid data for: https://twitter.com/danwilliamsphil/status/1774036637707608362/photo/1\u001b[0m\n",
      "\u001b[32m2024-04-25 10:26:49.796\u001b[0m | \u001b[34m\u001b[1mDEBUG   \u001b[0m | \u001b[36mdesci_sense.shared_functions.web_extractors.citoid\u001b[0m:\u001b[36mfetch_citation\u001b[0m:\u001b[36m54\u001b[0m - \u001b[34m\u001b[1mfetching citoid data for: https://twitter.com/danwilliamsphil/status/1773639307967787450/photo/1\u001b[0m\n",
      "\u001b[32m2024-04-25 10:26:50.048\u001b[0m | \u001b[34m\u001b[1mDEBUG   \u001b[0m | \u001b[36mdesci_sense.shared_functions.web_extractors.citoid\u001b[0m:\u001b[36mfetch_citation\u001b[0m:\u001b[36m54\u001b[0m - \u001b[34m\u001b[1mfetching citoid data for: https://twitter.com/post_liberal/status/1773125864521163168\u001b[0m\n",
      "\u001b[32m2024-04-25 10:26:50.223\u001b[0m | \u001b[34m\u001b[1mDEBUG   \u001b[0m | \u001b[36mdesci_sense.shared_functions.web_extractors.citoid\u001b[0m:\u001b[36mfetch_citation\u001b[0m:\u001b[36m54\u001b[0m - \u001b[34m\u001b[1mfetching citoid data for: https://www.conspicuouscognition.com/p/the-marketplace-of-good-and-bad-ideas\u001b[0m\n",
      "\u001b[32m2024-04-25 10:26:51.220\u001b[0m | \u001b[34m\u001b[1mDEBUG   \u001b[0m | \u001b[36mdesci_sense.shared_functions.web_extractors.citoid\u001b[0m:\u001b[36mfetch_citation\u001b[0m:\u001b[36m54\u001b[0m - \u001b[34m\u001b[1mfetching citoid data for: https://twitter.com/danwilliamsphil/status/1773634887498547506/photo/1\u001b[0m\n",
      "\u001b[32m2024-04-25 10:26:51.407\u001b[0m | \u001b[34m\u001b[1mDEBUG   \u001b[0m | \u001b[36mdesci_sense.shared_functions.web_extractors.citoid\u001b[0m:\u001b[36mfetch_citation\u001b[0m:\u001b[36m54\u001b[0m - \u001b[34m\u001b[1mfetching citoid data for: https://tnsr.org/2024/03/from-panic-to-policy-the-limits-of-foreign-propaganda-and-the-foundations-of-an-effective-response/\u001b[0m\n",
      "\u001b[32m2024-04-25 10:26:52.547\u001b[0m | \u001b[34m\u001b[1mDEBUG   \u001b[0m | \u001b[36mdesci_sense.shared_functions.web_extractors.citoid\u001b[0m:\u001b[36mfetch_citation\u001b[0m:\u001b[36m54\u001b[0m - \u001b[34m\u001b[1mfetching citoid data for: https://www.conspicuouscognition.com/p/misinformation-researchers-are-wrong\u001b[0m\n",
      "\u001b[32m2024-04-25 10:26:53.519\u001b[0m | \u001b[34m\u001b[1mDEBUG   \u001b[0m | \u001b[36mdesci_sense.shared_functions.web_extractors.citoid\u001b[0m:\u001b[36mfetch_citation\u001b[0m:\u001b[36m54\u001b[0m - \u001b[34m\u001b[1mfetching citoid data for: https://twitter.com/danwilliamsphil/status/1771141417210949959/photo/1\u001b[0m\n",
      "\u001b[32m2024-04-25 10:26:53.754\u001b[0m | \u001b[34m\u001b[1mDEBUG   \u001b[0m | \u001b[36mdesci_sense.shared_functions.web_extractors.citoid\u001b[0m:\u001b[36mfetch_citation\u001b[0m:\u001b[36m54\u001b[0m - \u001b[34m\u001b[1mfetching citoid data for: https://twitter.com/koenfucius/status/1771138005467537464\u001b[0m\n",
      "\u001b[32m2024-04-25 10:26:54.397\u001b[0m | \u001b[34m\u001b[1mDEBUG   \u001b[0m | \u001b[36mdesci_sense.shared_functions.web_extractors.citoid\u001b[0m:\u001b[36mfetch_citation\u001b[0m:\u001b[36m54\u001b[0m - \u001b[34m\u001b[1mfetching citoid data for: https://twitter.com/rbowr17/status/1770367072511705419\u001b[0m\n",
      "\u001b[32m2024-04-25 10:26:54.580\u001b[0m | \u001b[34m\u001b[1mDEBUG   \u001b[0m | \u001b[36mdesci_sense.shared_functions.web_extractors.citoid\u001b[0m:\u001b[36mfetch_citation\u001b[0m:\u001b[36m54\u001b[0m - \u001b[34m\u001b[1mfetching citoid data for: https://www.conspicuouscognition.com/p/in-politics-the-truth-is-not-self\u001b[0m\n",
      "\u001b[32m2024-04-25 10:26:55.009\u001b[0m | \u001b[34m\u001b[1mDEBUG   \u001b[0m | \u001b[36mdesci_sense.shared_functions.web_extractors.citoid\u001b[0m:\u001b[36mfetch_citation\u001b[0m:\u001b[36m54\u001b[0m - \u001b[34m\u001b[1mfetching citoid data for: https://twitter.com/danwilliamsphil/status/1770347910367936563/photo/1\u001b[0m\n",
      "\u001b[32m2024-04-25 10:26:55.522\u001b[0m | \u001b[34m\u001b[1mDEBUG   \u001b[0m | \u001b[36mdesci_sense.shared_functions.web_extractors.citoid\u001b[0m:\u001b[36mfetch_citation\u001b[0m:\u001b[36m54\u001b[0m - \u001b[34m\u001b[1mfetching citoid data for: https://twitter.com/danwilliamsphil/status/1721490870615068852\u001b[0m\n",
      "\u001b[32m2024-04-25 10:26:55.748\u001b[0m | \u001b[34m\u001b[1mDEBUG   \u001b[0m | \u001b[36mdesci_sense.shared_functions.web_extractors.citoid\u001b[0m:\u001b[36mfetch_citation\u001b[0m:\u001b[36m54\u001b[0m - \u001b[34m\u001b[1mfetching citoid data for: https://twitter.com/boralexander1/status/1768316383866003834\u001b[0m\n",
      "\u001b[32m2024-04-25 10:26:55.965\u001b[0m | \u001b[34m\u001b[1mDEBUG   \u001b[0m | \u001b[36mdesci_sense.shared_functions.web_extractors.citoid\u001b[0m:\u001b[36mfetch_citation\u001b[0m:\u001b[36m54\u001b[0m - \u001b[34m\u001b[1mfetching citoid data for: https://twitter.com/emollick/status/1780371574543331625\u001b[0m\n",
      "\u001b[32m2024-04-25 10:26:56.162\u001b[0m | \u001b[34m\u001b[1mDEBUG   \u001b[0m | \u001b[36mdesci_sense.shared_functions.web_extractors.citoid\u001b[0m:\u001b[36mfetch_citation\u001b[0m:\u001b[36m54\u001b[0m - \u001b[34m\u001b[1mfetching citoid data for: https://twitter.com/JoshGellers/status/1779230064371962349\u001b[0m\n",
      "\u001b[32m2024-04-25 10:28:01.271\u001b[0m | \u001b[34m\u001b[1mDEBUG   \u001b[0m | \u001b[36mdesci_sense.shared_functions.web_extractors.citoid\u001b[0m:\u001b[36mfetch_citation\u001b[0m:\u001b[36m54\u001b[0m - \u001b[34m\u001b[1mfetching citoid data for: https://twitter.com/bcmerchant/status/1779213221867520038\u001b[0m\n",
      "\u001b[32m2024-04-25 10:28:01.533\u001b[0m | \u001b[34m\u001b[1mDEBUG   \u001b[0m | \u001b[36mdesci_sense.shared_functions.web_extractors.citoid\u001b[0m:\u001b[36mfetch_citation\u001b[0m:\u001b[36m54\u001b[0m - \u001b[34m\u001b[1mfetching citoid data for: https://apnews.com/article/amazon-andrew-ng-ai-google-82b8612b36aa08d63498dd9bf37bda09\u001b[0m\n",
      "\u001b[32m2024-04-25 10:28:02.289\u001b[0m | \u001b[34m\u001b[1mDEBUG   \u001b[0m | \u001b[36mdesci_sense.shared_functions.web_extractors.citoid\u001b[0m:\u001b[36mfetch_citation\u001b[0m:\u001b[36m54\u001b[0m - \u001b[34m\u001b[1mfetching citoid data for: https://twitter.com/CriticalAI/status/1778471002147570025/photo/1\u001b[0m\n",
      "\u001b[32m2024-04-25 10:28:02.487\u001b[0m | \u001b[34m\u001b[1mDEBUG   \u001b[0m | \u001b[36mdesci_sense.shared_functions.web_extractors.citoid\u001b[0m:\u001b[36mfetch_citation\u001b[0m:\u001b[36m54\u001b[0m - \u001b[34m\u001b[1mfetching citoid data for: https://twitter.com/mccormick_ted/status/1778440339038048281\u001b[0m\n",
      "\u001b[32m2024-04-25 10:28:02.735\u001b[0m | \u001b[34m\u001b[1mDEBUG   \u001b[0m | \u001b[36mdesci_sense.shared_functions.web_extractors.citoid\u001b[0m:\u001b[36mfetch_citation\u001b[0m:\u001b[36m54\u001b[0m - \u001b[34m\u001b[1mfetching citoid data for: https://criticalai.org/2024/04/05/sneak-preview-review-james-e-dobsons-the-birth-of-computer-vision/\u001b[0m\n",
      "\u001b[32m2024-04-25 10:28:03.820\u001b[0m | \u001b[34m\u001b[1mDEBUG   \u001b[0m | \u001b[36mdesci_sense.shared_functions.web_extractors.citoid\u001b[0m:\u001b[36mfetch_citation\u001b[0m:\u001b[36m54\u001b[0m - \u001b[34m\u001b[1mfetching citoid data for: https://www.nytimes.com/2024/04/10/opinion/schools-technology.html#commentsContainer\u001b[0m\n",
      "\u001b[32m2024-04-25 10:28:04.235\u001b[0m | \u001b[34m\u001b[1mDEBUG   \u001b[0m | \u001b[36mdesci_sense.shared_functions.web_extractors.citoid\u001b[0m:\u001b[36mfetch_citation\u001b[0m:\u001b[36m54\u001b[0m - \u001b[34m\u001b[1mfetching citoid data for: https://www.isrf.org/2024/04/03/the-art-of-knowledge-failure/\u001b[0m\n",
      "\u001b[32m2024-04-25 10:28:08.641\u001b[0m | \u001b[34m\u001b[1mDEBUG   \u001b[0m | \u001b[36mdesci_sense.shared_functions.web_extractors.citoid\u001b[0m:\u001b[36mfetch_citation\u001b[0m:\u001b[36m54\u001b[0m - \u001b[34m\u001b[1mfetching citoid data for: https://twitter.com/CriticalAI/status/1777748214462009731/photo/1\u001b[0m\n",
      "\u001b[32m2024-04-25 10:28:08.887\u001b[0m | \u001b[34m\u001b[1mDEBUG   \u001b[0m | \u001b[36mdesci_sense.shared_functions.web_extractors.citoid\u001b[0m:\u001b[36mfetch_citation\u001b[0m:\u001b[36m54\u001b[0m - \u001b[34m\u001b[1mfetching citoid data for: https://twitter.com/james_s_bedford/status/1776725994365403345\u001b[0m\n",
      "\u001b[32m2024-04-25 10:28:09.147\u001b[0m | \u001b[34m\u001b[1mDEBUG   \u001b[0m | \u001b[36mdesci_sense.shared_functions.web_extractors.citoid\u001b[0m:\u001b[36mfetch_citation\u001b[0m:\u001b[36m54\u001b[0m - \u001b[34m\u001b[1mfetching citoid data for: https://twitter.com/sama/status/1776083954786836979\u001b[0m\n",
      "\u001b[32m2024-04-25 10:28:09.379\u001b[0m | \u001b[34m\u001b[1mDEBUG   \u001b[0m | \u001b[36mdesci_sense.shared_functions.web_extractors.citoid\u001b[0m:\u001b[36mfetch_citation\u001b[0m:\u001b[36m54\u001b[0m - \u001b[34m\u001b[1mfetching citoid data for: https://twitter.com/emilymbender/status/1775911190385852840\u001b[0m\n",
      "\u001b[32m2024-04-25 10:28:09.566\u001b[0m | \u001b[34m\u001b[1mDEBUG   \u001b[0m | \u001b[36mdesci_sense.shared_functions.web_extractors.citoid\u001b[0m:\u001b[36mfetch_citation\u001b[0m:\u001b[36m54\u001b[0m - \u001b[34m\u001b[1mfetching citoid data for: https://www.bostonreview.net/forum_response/the-means-of-prediction/\u001b[0m\n",
      "\u001b[32m2024-04-25 10:28:09.723\u001b[0m | \u001b[34m\u001b[1mDEBUG   \u001b[0m | \u001b[36mdesci_sense.shared_functions.web_extractors.citoid\u001b[0m:\u001b[36mfetch_citation\u001b[0m:\u001b[36m54\u001b[0m - \u001b[34m\u001b[1mfetching citoid data for: https://twitter.com/Caffar3Cristina/status/1775876442389192843\u001b[0m\n",
      "\u001b[32m2024-04-25 10:28:10.152\u001b[0m | \u001b[34m\u001b[1mDEBUG   \u001b[0m | \u001b[36mdesci_sense.shared_functions.web_extractors.citoid\u001b[0m:\u001b[36mfetch_citation\u001b[0m:\u001b[36m54\u001b[0m - \u001b[34m\u001b[1mfetching citoid data for: https://twitter.com/CriticalAI/status/1775516427224531195/photo/1\u001b[0m\n",
      "\u001b[32m2024-04-25 10:28:10.377\u001b[0m | \u001b[34m\u001b[1mDEBUG   \u001b[0m | \u001b[36mdesci_sense.shared_functions.web_extractors.citoid\u001b[0m:\u001b[36mfetch_citation\u001b[0m:\u001b[36m54\u001b[0m - \u001b[34m\u001b[1mfetching citoid data for: https://twitter.com/emollick/status/1775333760025694692\u001b[0m\n",
      "\u001b[32m2024-04-25 10:28:10.593\u001b[0m | \u001b[34m\u001b[1mDEBUG   \u001b[0m | \u001b[36mdesci_sense.shared_functions.web_extractors.citoid\u001b[0m:\u001b[36mfetch_citation\u001b[0m:\u001b[36m54\u001b[0m - \u001b[34m\u001b[1mfetching citoid data for: https://criticalai.org/2024/03/07/katie-conrad-and-lauren-m-e-goodlad-on-teaching-tip-navigating-ai-in-the-classroom-03-07-2024/\u001b[0m\n",
      "\u001b[32m2024-04-25 10:28:12.432\u001b[0m | \u001b[34m\u001b[1mDEBUG   \u001b[0m | \u001b[36mdesci_sense.shared_functions.web_extractors.citoid\u001b[0m:\u001b[36mfetch_citation\u001b[0m:\u001b[36m54\u001b[0m - \u001b[34m\u001b[1mfetching citoid data for: https://twitter.com/CriticalAI/status/1774807053661327383\u001b[0m\n",
      "\u001b[32m2024-04-25 10:28:12.677\u001b[0m | \u001b[34m\u001b[1mDEBUG   \u001b[0m | \u001b[36mdesci_sense.shared_functions.web_extractors.citoid\u001b[0m:\u001b[36mfetch_citation\u001b[0m:\u001b[36m54\u001b[0m - \u001b[34m\u001b[1mfetching citoid data for: https://twitter.com/holdspacefree/status/1774807828630470713\u001b[0m\n",
      "\u001b[32m2024-04-25 10:28:12.869\u001b[0m | \u001b[34m\u001b[1mDEBUG   \u001b[0m | \u001b[36mdesci_sense.shared_functions.web_extractors.citoid\u001b[0m:\u001b[36mfetch_citation\u001b[0m:\u001b[36m54\u001b[0m - \u001b[34m\u001b[1mfetching citoid data for: https://twitter.com/CriticalAI/status/1774807053661327383/photo/1\u001b[0m\n",
      "\u001b[32m2024-04-25 10:28:13.051\u001b[0m | \u001b[34m\u001b[1mDEBUG   \u001b[0m | \u001b[36mdesci_sense.shared_functions.web_extractors.citoid\u001b[0m:\u001b[36mfetch_citation\u001b[0m:\u001b[36m54\u001b[0m - \u001b[34m\u001b[1mfetching citoid data for: https://twitter.com/emollick/status/1774799468824556020\u001b[0m\n",
      "\u001b[32m2024-04-25 10:28:13.270\u001b[0m | \u001b[34m\u001b[1mDEBUG   \u001b[0m | \u001b[36mdesci_sense.shared_functions.web_extractors.citoid\u001b[0m:\u001b[36mfetch_citation\u001b[0m:\u001b[36m54\u001b[0m - \u001b[34m\u001b[1mfetching citoid data for: https://twitter.com/ChombaBupe/status/1774739042069844403\u001b[0m\n",
      "\u001b[32m2024-04-25 10:28:13.465\u001b[0m | \u001b[34m\u001b[1mDEBUG   \u001b[0m | \u001b[36mdesci_sense.shared_functions.web_extractors.citoid\u001b[0m:\u001b[36mfetch_citation\u001b[0m:\u001b[36m54\u001b[0m - \u001b[34m\u001b[1mfetching citoid data for: https://twitter.com/emollick/status/1774627104975450180\u001b[0m\n",
      "\u001b[32m2024-04-25 10:28:16.629\u001b[0m | \u001b[34m\u001b[1mDEBUG   \u001b[0m | \u001b[36mdesci_sense.shared_functions.web_extractors.citoid\u001b[0m:\u001b[36mfetch_citation\u001b[0m:\u001b[36m54\u001b[0m - \u001b[34m\u001b[1mfetching citoid data for: https://arxiv.org/abs/2111.15366\u001b[0m\n",
      "\u001b[32m2024-04-25 10:28:19.594\u001b[0m | \u001b[34m\u001b[1mDEBUG   \u001b[0m | \u001b[36mdesci_sense.shared_functions.web_extractors.citoid\u001b[0m:\u001b[36mfetch_citation\u001b[0m:\u001b[36m54\u001b[0m - \u001b[34m\u001b[1mfetching citoid data for: https://twitter.com/CriticalAI/status/1774356253810069888/photo/1\u001b[0m\n",
      "\u001b[32m2024-04-25 10:28:19.834\u001b[0m | \u001b[34m\u001b[1mDEBUG   \u001b[0m | \u001b[36mdesci_sense.shared_functions.web_extractors.citoid\u001b[0m:\u001b[36mfetch_citation\u001b[0m:\u001b[36m54\u001b[0m - \u001b[34m\u001b[1mfetching citoid data for: https://twitter.com/ProfNoahGian/status/1774147487772590341\u001b[0m\n",
      "\u001b[32m2024-04-25 10:28:20.034\u001b[0m | \u001b[34m\u001b[1mDEBUG   \u001b[0m | \u001b[36mdesci_sense.shared_functions.web_extractors.citoid\u001b[0m:\u001b[36mfetch_citation\u001b[0m:\u001b[36m54\u001b[0m - \u001b[34m\u001b[1mfetching citoid data for: https://twitter.com/CriticalAI/status/1773087861329322319/photo/1\u001b[0m\n",
      "\u001b[32m2024-04-25 10:28:20.276\u001b[0m | \u001b[34m\u001b[1mDEBUG   \u001b[0m | \u001b[36mdesci_sense.shared_functions.web_extractors.citoid\u001b[0m:\u001b[36mfetch_citation\u001b[0m:\u001b[36m54\u001b[0m - \u001b[34m\u001b[1mfetching citoid data for: https://twitter.com/chrmanning/status/1773033627225350323\u001b[0m\n",
      "\u001b[32m2024-04-25 10:28:20.474\u001b[0m | \u001b[34m\u001b[1mDEBUG   \u001b[0m | \u001b[36mdesci_sense.shared_functions.web_extractors.citoid\u001b[0m:\u001b[36mfetch_citation\u001b[0m:\u001b[36m54\u001b[0m - \u001b[34m\u001b[1mfetching citoid data for: https://twitter.com/BrettButtliere/status/1780267092903633228/photo/1\u001b[0m\n",
      "\u001b[32m2024-04-25 10:28:20.670\u001b[0m | \u001b[34m\u001b[1mDEBUG   \u001b[0m | \u001b[36mdesci_sense.shared_functions.web_extractors.citoid\u001b[0m:\u001b[36mfetch_citation\u001b[0m:\u001b[36m54\u001b[0m - \u001b[34m\u001b[1mfetching citoid data for: https://twitter.com/BrettButtliere/status/1779810951144902864\u001b[0m\n",
      "\u001b[32m2024-04-25 10:28:20.910\u001b[0m | \u001b[34m\u001b[1mDEBUG   \u001b[0m | \u001b[36mdesci_sense.shared_functions.web_extractors.citoid\u001b[0m:\u001b[36mfetch_citation\u001b[0m:\u001b[36m54\u001b[0m - \u001b[34m\u001b[1mfetching citoid data for: https://twitter.com/BrettButtliere/status/1779843387346006331/photo/1\u001b[0m\n",
      "\u001b[32m2024-04-25 10:28:21.144\u001b[0m | \u001b[34m\u001b[1mDEBUG   \u001b[0m | \u001b[36mdesci_sense.shared_functions.web_extractors.citoid\u001b[0m:\u001b[36mfetch_citation\u001b[0m:\u001b[36m54\u001b[0m - \u001b[34m\u001b[1mfetching citoid data for: https://twitter.com/BrettButtliere/status/1767157771823141087\u001b[0m\n",
      "\u001b[32m2024-04-25 10:28:21.388\u001b[0m | \u001b[34m\u001b[1mDEBUG   \u001b[0m | \u001b[36mdesci_sense.shared_functions.web_extractors.citoid\u001b[0m:\u001b[36mfetch_citation\u001b[0m:\u001b[36m54\u001b[0m - \u001b[34m\u001b[1mfetching citoid data for: https://twitter.com/BrettButtliere/status/1779463369910636930\u001b[0m\n",
      "\u001b[32m2024-04-25 10:28:21.626\u001b[0m | \u001b[34m\u001b[1mDEBUG   \u001b[0m | \u001b[36mdesci_sense.shared_functions.web_extractors.citoid\u001b[0m:\u001b[36mfetch_citation\u001b[0m:\u001b[36m54\u001b[0m - \u001b[34m\u001b[1mfetching citoid data for: https://twitter.com/BrettButtliere/status/1778887628634411230/photo/1\u001b[0m\n",
      "\u001b[32m2024-04-25 10:28:21.815\u001b[0m | \u001b[34m\u001b[1mDEBUG   \u001b[0m | \u001b[36mdesci_sense.shared_functions.web_extractors.citoid\u001b[0m:\u001b[36mfetch_citation\u001b[0m:\u001b[36m54\u001b[0m - \u001b[34m\u001b[1mfetching citoid data for: https://twitter.com/ZetarioCo/status/1772834506195509588\u001b[0m\n",
      "\u001b[32m2024-04-25 10:28:22.254\u001b[0m | \u001b[34m\u001b[1mDEBUG   \u001b[0m | \u001b[36mdesci_sense.shared_functions.web_extractors.citoid\u001b[0m:\u001b[36mfetch_citation\u001b[0m:\u001b[36m54\u001b[0m - \u001b[34m\u001b[1mfetching citoid data for: https://twitter.com/JoshuaLWatson/status/1778055352166109611\u001b[0m\n",
      "\u001b[32m2024-04-25 10:28:22.869\u001b[0m | \u001b[34m\u001b[1mDEBUG   \u001b[0m | \u001b[36mdesci_sense.shared_functions.web_extractors.citoid\u001b[0m:\u001b[36mfetch_citation\u001b[0m:\u001b[36m54\u001b[0m - \u001b[34m\u001b[1mfetching citoid data for: https://twitter.com/BrettButtliere/status/1778031970305413626/photo/1\u001b[0m\n",
      "\u001b[32m2024-04-25 10:28:23.075\u001b[0m | \u001b[34m\u001b[1mDEBUG   \u001b[0m | \u001b[36mdesci_sense.shared_functions.web_extractors.citoid\u001b[0m:\u001b[36mfetch_citation\u001b[0m:\u001b[36m54\u001b[0m - \u001b[34m\u001b[1mfetching citoid data for: https://twitter.com/elonmusk/status/1777905553303371780\u001b[0m\n",
      "\u001b[32m2024-04-25 10:28:23.318\u001b[0m | \u001b[34m\u001b[1mDEBUG   \u001b[0m | \u001b[36mdesci_sense.shared_functions.web_extractors.citoid\u001b[0m:\u001b[36mfetch_citation\u001b[0m:\u001b[36m54\u001b[0m - \u001b[34m\u001b[1mfetching citoid data for: https://twitter.com/BrettButtliere/status/1777407413970223381/photo/1\u001b[0m\n",
      "\u001b[32m2024-04-25 10:28:23.532\u001b[0m | \u001b[34m\u001b[1mDEBUG   \u001b[0m | \u001b[36mdesci_sense.shared_functions.web_extractors.citoid\u001b[0m:\u001b[36mfetch_citation\u001b[0m:\u001b[36m54\u001b[0m - \u001b[34m\u001b[1mfetching citoid data for: https://twitter.com/JoshuaLWatson/status/1776959485556261218\u001b[0m\n",
      "\u001b[32m2024-04-25 10:28:23.759\u001b[0m | \u001b[34m\u001b[1mDEBUG   \u001b[0m | \u001b[36mdesci_sense.shared_functions.web_extractors.citoid\u001b[0m:\u001b[36mfetch_citation\u001b[0m:\u001b[36m54\u001b[0m - \u001b[34m\u001b[1mfetching citoid data for: https://www.nature.com/articles/s41562-023-01749-9\u001b[0m\n",
      "\u001b[32m2024-04-25 10:28:26.360\u001b[0m | \u001b[34m\u001b[1mDEBUG   \u001b[0m | \u001b[36mdesci_sense.shared_functions.web_extractors.citoid\u001b[0m:\u001b[36mfetch_citation\u001b[0m:\u001b[36m54\u001b[0m - \u001b[34m\u001b[1mfetching citoid data for: https://bi.dlr-pt.de/views/InnovationAgenda/DashboardoftheinitiativesoftheInnovationAgenda?%3Adisplay_count=n&%3Aembed=y&%3AisGuestRedirectFromVizportal=y&%3Aorigin=viz_share_link&%3AshowAppBanner=false&%3AshowVizHome=n\u001b[0m\n",
      "\u001b[32m2024-04-25 10:28:29.627\u001b[0m | \u001b[34m\u001b[1mDEBUG   \u001b[0m | \u001b[36mdesci_sense.shared_functions.web_extractors.citoid\u001b[0m:\u001b[36mfetch_citation\u001b[0m:\u001b[36m54\u001b[0m - \u001b[34m\u001b[1mfetching citoid data for: https://twitter.com/BrettButtliere/status/1745754551704023169\u001b[0m\n",
      "\u001b[32m2024-04-25 10:28:30.652\u001b[0m | \u001b[34m\u001b[1mDEBUG   \u001b[0m | \u001b[36mdesci_sense.shared_functions.web_extractors.citoid\u001b[0m:\u001b[36mfetch_citation\u001b[0m:\u001b[36m54\u001b[0m - \u001b[34m\u001b[1mfetching citoid data for: https://twitter.com/JonHaidt/status/1774060647707508849\u001b[0m\n",
      "\u001b[32m2024-04-25 10:28:30.845\u001b[0m | \u001b[34m\u001b[1mDEBUG   \u001b[0m | \u001b[36mdesci_sense.shared_functions.web_extractors.citoid\u001b[0m:\u001b[36mfetch_citation\u001b[0m:\u001b[36m54\u001b[0m - \u001b[34m\u001b[1mfetching citoid data for: https://twitter.com/BrettButtliere/status/1775067830100078736/photo/1\u001b[0m\n",
      "\u001b[32m2024-04-25 10:28:31.064\u001b[0m | \u001b[34m\u001b[1mDEBUG   \u001b[0m | \u001b[36mdesci_sense.shared_functions.web_extractors.citoid\u001b[0m:\u001b[36mfetch_citation\u001b[0m:\u001b[36m54\u001b[0m - \u001b[34m\u001b[1mfetching citoid data for: https://twitter.com/seanrife/status/1774842508855627961\u001b[0m\n",
      "\u001b[32m2024-04-25 10:28:31.270\u001b[0m | \u001b[34m\u001b[1mDEBUG   \u001b[0m | \u001b[36mdesci_sense.shared_functions.web_extractors.citoid\u001b[0m:\u001b[36mfetch_citation\u001b[0m:\u001b[36m54\u001b[0m - \u001b[34m\u001b[1mfetching citoid data for: https://twitter.com/BrettButtliere/status/1774492976909099154/photo/1\u001b[0m\n",
      "\u001b[32m2024-04-25 10:28:31.446\u001b[0m | \u001b[34m\u001b[1mDEBUG   \u001b[0m | \u001b[36mdesci_sense.shared_functions.web_extractors.citoid\u001b[0m:\u001b[36mfetch_citation\u001b[0m:\u001b[36m54\u001b[0m - \u001b[34m\u001b[1mfetching citoid data for: https://twitter.com/sapinker/status/1773726349758193906\u001b[0m\n",
      "\u001b[32m2024-04-25 10:28:31.648\u001b[0m | \u001b[34m\u001b[1mDEBUG   \u001b[0m | \u001b[36mdesci_sense.shared_functions.web_extractors.citoid\u001b[0m:\u001b[36mfetch_citation\u001b[0m:\u001b[36m54\u001b[0m - \u001b[34m\u001b[1mfetching citoid data for: https://twitter.com/BrettButtliere/status/1773741253424755145/photo/1\u001b[0m\n",
      "\u001b[32m2024-04-25 10:28:31.918\u001b[0m | \u001b[34m\u001b[1mDEBUG   \u001b[0m | \u001b[36mdesci_sense.shared_functions.web_extractors.citoid\u001b[0m:\u001b[36mfetch_citation\u001b[0m:\u001b[36m54\u001b[0m - \u001b[34m\u001b[1mfetching citoid data for: https://soundcloud.com/nabukudurru/wake-up-hands-up\u001b[0m\n",
      "\u001b[32m2024-04-25 10:28:32.905\u001b[0m | \u001b[34m\u001b[1mDEBUG   \u001b[0m | \u001b[36mdesci_sense.shared_functions.web_extractors.citoid\u001b[0m:\u001b[36mfetch_citation\u001b[0m:\u001b[36m54\u001b[0m - \u001b[34m\u001b[1mfetching citoid data for: https://twitter.com/BrettButtliere/status/1772920251170086975/photo/1\u001b[0m\n",
      "\u001b[32m2024-04-25 10:28:33.122\u001b[0m | \u001b[34m\u001b[1mDEBUG   \u001b[0m | \u001b[36mdesci_sense.shared_functions.web_extractors.citoid\u001b[0m:\u001b[36mfetch_citation\u001b[0m:\u001b[36m54\u001b[0m - \u001b[34m\u001b[1mfetching citoid data for: https://osf.io/preprints/psyarxiv/kdnp6\u001b[0m\n",
      "\u001b[32m2024-04-25 10:28:33.927\u001b[0m | \u001b[34m\u001b[1mDEBUG   \u001b[0m | \u001b[36mdesci_sense.shared_functions.web_extractors.citoid\u001b[0m:\u001b[36mfetch_citation\u001b[0m:\u001b[36m54\u001b[0m - \u001b[34m\u001b[1mfetching citoid data for: https://twitter.com/BrettButtliere/status/1771488008463646789\u001b[0m\n",
      "\u001b[32m2024-04-25 10:28:34.115\u001b[0m | \u001b[34m\u001b[1mDEBUG   \u001b[0m | \u001b[36mdesci_sense.shared_functions.web_extractors.citoid\u001b[0m:\u001b[36mfetch_citation\u001b[0m:\u001b[36m54\u001b[0m - \u001b[34m\u001b[1mfetching citoid data for: https://twitter.com/BrettButtliere/status/1772566053685531086/photo/1\u001b[0m\n",
      "\u001b[32m2024-04-25 10:28:34.301\u001b[0m | \u001b[34m\u001b[1mDEBUG   \u001b[0m | \u001b[36mdesci_sense.shared_functions.web_extractors.citoid\u001b[0m:\u001b[36mfetch_citation\u001b[0m:\u001b[36m54\u001b[0m - \u001b[34m\u001b[1mfetching citoid data for: https://twitter.com/funder/status/1771552492125348267\u001b[0m\n",
      "\u001b[32m2024-04-25 10:28:34.498\u001b[0m | \u001b[34m\u001b[1mDEBUG   \u001b[0m | \u001b[36mdesci_sense.shared_functions.web_extractors.citoid\u001b[0m:\u001b[36mfetch_citation\u001b[0m:\u001b[36m54\u001b[0m - \u001b[34m\u001b[1mfetching citoid data for: https://twitter.com/RioStover/status/1771419400500883519\u001b[0m\n",
      "\u001b[32m2024-04-25 10:28:34.702\u001b[0m | \u001b[34m\u001b[1mDEBUG   \u001b[0m | \u001b[36mdesci_sense.shared_functions.web_extractors.citoid\u001b[0m:\u001b[36mfetch_citation\u001b[0m:\u001b[36m54\u001b[0m - \u001b[34m\u001b[1mfetching citoid data for: https://twitter.com/BrettButtliere/status/1771456524457480523\u001b[0m\n",
      "\u001b[32m2024-04-25 10:28:34.924\u001b[0m | \u001b[34m\u001b[1mDEBUG   \u001b[0m | \u001b[36mdesci_sense.shared_functions.web_extractors.citoid\u001b[0m:\u001b[36mfetch_citation\u001b[0m:\u001b[36m54\u001b[0m - \u001b[34m\u001b[1mfetching citoid data for: https://twitter.com/jbakcoleman/status/1777810014104691185/photo/1\u001b[0m\n",
      "\u001b[32m2024-04-25 10:28:35.156\u001b[0m | \u001b[34m\u001b[1mDEBUG   \u001b[0m | \u001b[36mdesci_sense.shared_functions.web_extractors.citoid\u001b[0m:\u001b[36mfetch_citation\u001b[0m:\u001b[36m54\u001b[0m - \u001b[34m\u001b[1mfetching citoid data for: https://twitter.com/jbakcoleman/status/1777637855008809009/photo/1\u001b[0m\n",
      "\u001b[32m2024-04-25 10:28:35.377\u001b[0m | \u001b[34m\u001b[1mDEBUG   \u001b[0m | \u001b[36mdesci_sense.shared_functions.web_extractors.citoid\u001b[0m:\u001b[36mfetch_citation\u001b[0m:\u001b[36m54\u001b[0m - \u001b[34m\u001b[1mfetching citoid data for: https://twitter.com/jbakcoleman/status/1777637855008809009/photo/1\u001b[0m\n",
      "\u001b[32m2024-04-25 10:28:35.602\u001b[0m | \u001b[34m\u001b[1mDEBUG   \u001b[0m | \u001b[36mdesci_sense.shared_functions.web_extractors.citoid\u001b[0m:\u001b[36mfetch_citation\u001b[0m:\u001b[36m54\u001b[0m - \u001b[34m\u001b[1mfetching citoid data for: https://twitter.com/AJThurston/status/1770538598258843961\u001b[0m\n",
      "\u001b[32m2024-04-25 10:28:35.794\u001b[0m | \u001b[34m\u001b[1mDEBUG   \u001b[0m | \u001b[36mdesci_sense.shared_functions.web_extractors.citoid\u001b[0m:\u001b[36mfetch_citation\u001b[0m:\u001b[36m54\u001b[0m - \u001b[34m\u001b[1mfetching citoid data for: https://twitter.com/jbakcoleman/status/1770623418549108759/photo/1\u001b[0m\n",
      "\u001b[32m2024-04-25 10:28:36.008\u001b[0m | \u001b[34m\u001b[1mDEBUG   \u001b[0m | \u001b[36mdesci_sense.shared_functions.web_extractors.citoid\u001b[0m:\u001b[36mfetch_citation\u001b[0m:\u001b[36m54\u001b[0m - \u001b[34m\u001b[1mfetching citoid data for: https://twitter.com/jbakcoleman/status/1768796186872279162/photo/1\u001b[0m\n",
      "\u001b[32m2024-04-25 10:28:36.695\u001b[0m | \u001b[34m\u001b[1mDEBUG   \u001b[0m | \u001b[36mdesci_sense.shared_functions.web_extractors.citoid\u001b[0m:\u001b[36mfetch_citation\u001b[0m:\u001b[36m54\u001b[0m - \u001b[34m\u001b[1mfetching citoid data for: https://twitter.com/jbakcoleman/status/1768796186872279162/photo/1\u001b[0m\n",
      "\u001b[32m2024-04-25 10:28:37.206\u001b[0m | \u001b[34m\u001b[1mDEBUG   \u001b[0m | \u001b[36mdesci_sense.shared_functions.web_extractors.citoid\u001b[0m:\u001b[36mfetch_citation\u001b[0m:\u001b[36m54\u001b[0m - \u001b[34m\u001b[1mfetching citoid data for: https://twitter.com/jbakcoleman/status/1768796186872279162/photo/1\u001b[0m\n",
      "\u001b[32m2024-04-25 10:28:37.423\u001b[0m | \u001b[34m\u001b[1mDEBUG   \u001b[0m | \u001b[36mdesci_sense.shared_functions.web_extractors.citoid\u001b[0m:\u001b[36mfetch_citation\u001b[0m:\u001b[36m54\u001b[0m - \u001b[34m\u001b[1mfetching citoid data for: https://twitter.com/jbakcoleman/status/1768796186872279162/photo/1\u001b[0m\n",
      "\u001b[32m2024-04-25 10:28:37.623\u001b[0m | \u001b[34m\u001b[1mDEBUG   \u001b[0m | \u001b[36mdesci_sense.shared_functions.web_extractors.citoid\u001b[0m:\u001b[36mfetch_citation\u001b[0m:\u001b[36m54\u001b[0m - \u001b[34m\u001b[1mfetching citoid data for: https://twitter.com/BW_Robinson/status/1765379429100847204\u001b[0m\n",
      "\u001b[32m2024-04-25 10:28:38.045\u001b[0m | \u001b[34m\u001b[1mDEBUG   \u001b[0m | \u001b[36mdesci_sense.shared_functions.web_extractors.citoid\u001b[0m:\u001b[36mfetch_citation\u001b[0m:\u001b[36m54\u001b[0m - \u001b[34m\u001b[1mfetching citoid data for: https://twitter.com/betanalpha/status/1765414856553808364\u001b[0m\n",
      "\u001b[32m2024-04-25 10:28:38.268\u001b[0m | \u001b[34m\u001b[1mDEBUG   \u001b[0m | \u001b[36mdesci_sense.shared_functions.web_extractors.citoid\u001b[0m:\u001b[36mfetch_citation\u001b[0m:\u001b[36m54\u001b[0m - \u001b[34m\u001b[1mfetching citoid data for: https://twitter.com/jbakcoleman/status/1764849504551858196/photo/1\u001b[0m\n",
      "\u001b[32m2024-04-25 10:28:38.484\u001b[0m | \u001b[34m\u001b[1mDEBUG   \u001b[0m | \u001b[36mdesci_sense.shared_functions.web_extractors.citoid\u001b[0m:\u001b[36mfetch_citation\u001b[0m:\u001b[36m54\u001b[0m - \u001b[34m\u001b[1mfetching citoid data for: https://twitter.com/jbakcoleman/status/1764849504551858196/photo/1\u001b[0m\n",
      "\u001b[32m2024-04-25 10:28:38.693\u001b[0m | \u001b[34m\u001b[1mDEBUG   \u001b[0m | \u001b[36mdesci_sense.shared_functions.web_extractors.citoid\u001b[0m:\u001b[36mfetch_citation\u001b[0m:\u001b[36m54\u001b[0m - \u001b[34m\u001b[1mfetching citoid data for: https://twitter.com/nj_clark/status/1761897342540939549\u001b[0m\n",
      "\u001b[32m2024-04-25 10:28:38.864\u001b[0m | \u001b[34m\u001b[1mDEBUG   \u001b[0m | \u001b[36mdesci_sense.shared_functions.web_extractors.citoid\u001b[0m:\u001b[36mfetch_citation\u001b[0m:\u001b[36m54\u001b[0m - \u001b[34m\u001b[1mfetching citoid data for: https://twitter.com/jbakcoleman/status/1761838761430630683/photo/1\u001b[0m\n",
      "\u001b[32m2024-04-25 10:28:39.078\u001b[0m | \u001b[34m\u001b[1mDEBUG   \u001b[0m | \u001b[36mdesci_sense.shared_functions.web_extractors.citoid\u001b[0m:\u001b[36mfetch_citation\u001b[0m:\u001b[36m54\u001b[0m - \u001b[34m\u001b[1mfetching citoid data for: https://twitter.com/michikokakutani/status/1761326389716754764\u001b[0m\n",
      "\u001b[32m2024-04-25 10:28:39.351\u001b[0m | \u001b[34m\u001b[1mDEBUG   \u001b[0m | \u001b[36mdesci_sense.shared_functions.web_extractors.citoid\u001b[0m:\u001b[36mfetch_citation\u001b[0m:\u001b[36m54\u001b[0m - \u001b[34m\u001b[1mfetching citoid data for: https://twitter.com/jbakcoleman/status/1759792259002720526/photo/1\u001b[0m\n",
      "\u001b[32m2024-04-25 10:28:40.276\u001b[0m | \u001b[34m\u001b[1mDEBUG   \u001b[0m | \u001b[36mdesci_sense.shared_functions.web_extractors.citoid\u001b[0m:\u001b[36mfetch_citation\u001b[0m:\u001b[36m54\u001b[0m - \u001b[34m\u001b[1mfetching citoid data for: https://twitter.com/jbakcoleman/status/1759769724836106438/photo/1\u001b[0m\n",
      "\u001b[32m2024-04-25 10:28:40.687\u001b[0m | \u001b[34m\u001b[1mDEBUG   \u001b[0m | \u001b[36mdesci_sense.shared_functions.web_extractors.citoid\u001b[0m:\u001b[36mfetch_citation\u001b[0m:\u001b[36m54\u001b[0m - \u001b[34m\u001b[1mfetching citoid data for: https://twitter.com/jbakcoleman/status/1759769724836106438/photo/1\u001b[0m\n",
      "\u001b[32m2024-04-25 10:28:40.910\u001b[0m | \u001b[34m\u001b[1mDEBUG   \u001b[0m | \u001b[36mdesci_sense.shared_functions.web_extractors.citoid\u001b[0m:\u001b[36mfetch_citation\u001b[0m:\u001b[36m54\u001b[0m - \u001b[34m\u001b[1mfetching citoid data for: https://twitter.com/jbakcoleman/status/1759076518582530444/photo/1\u001b[0m\n",
      "\u001b[32m2024-04-25 10:28:41.133\u001b[0m | \u001b[34m\u001b[1mDEBUG   \u001b[0m | \u001b[36mdesci_sense.shared_functions.web_extractors.citoid\u001b[0m:\u001b[36mfetch_citation\u001b[0m:\u001b[36m54\u001b[0m - \u001b[34m\u001b[1mfetching citoid data for: https://twitter.com/PhDemetri/status/1757057935337726039\u001b[0m\n",
      "\u001b[32m2024-04-25 10:28:41.325\u001b[0m | \u001b[34m\u001b[1mDEBUG   \u001b[0m | \u001b[36mdesci_sense.shared_functions.web_extractors.citoid\u001b[0m:\u001b[36mfetch_citation\u001b[0m:\u001b[36m54\u001b[0m - \u001b[34m\u001b[1mfetching citoid data for: https://twitter.com/jbakcoleman/status/1757246127018029354/photo/1\u001b[0m\n",
      "\u001b[32m2024-04-25 10:28:41.519\u001b[0m | \u001b[34m\u001b[1mDEBUG   \u001b[0m | \u001b[36mdesci_sense.shared_functions.web_extractors.citoid\u001b[0m:\u001b[36mfetch_citation\u001b[0m:\u001b[36m54\u001b[0m - \u001b[34m\u001b[1mfetching citoid data for: https://twitter.com/jbakcoleman/status/1757231827045986682/photo/1\u001b[0m\n",
      "\u001b[32m2024-04-25 10:28:41.892\u001b[0m | \u001b[34m\u001b[1mDEBUG   \u001b[0m | \u001b[36mdesci_sense.shared_functions.web_extractors.citoid\u001b[0m:\u001b[36mfetch_citation\u001b[0m:\u001b[36m54\u001b[0m - \u001b[34m\u001b[1mfetching citoid data for: https://twitter.com/dhitchcox/status/1755944877676781836\u001b[0m\n",
      "\u001b[32m2024-04-25 10:28:42.071\u001b[0m | \u001b[34m\u001b[1mDEBUG   \u001b[0m | \u001b[36mdesci_sense.shared_functions.web_extractors.citoid\u001b[0m:\u001b[36mfetch_citation\u001b[0m:\u001b[36m54\u001b[0m - \u001b[34m\u001b[1mfetching citoid data for: https://twitter.com/jbakcoleman/status/1754710500632334481/photo/1\u001b[0m\n",
      "\u001b[32m2024-04-25 10:28:42.290\u001b[0m | \u001b[34m\u001b[1mDEBUG   \u001b[0m | \u001b[36mdesci_sense.shared_functions.web_extractors.citoid\u001b[0m:\u001b[36mfetch_citation\u001b[0m:\u001b[36m54\u001b[0m - \u001b[34m\u001b[1mfetching citoid data for: https://twitter.com/jbakcoleman/status/1754710500632334481/photo/1\u001b[0m\n",
      "\u001b[32m2024-04-25 10:28:42.519\u001b[0m | \u001b[34m\u001b[1mDEBUG   \u001b[0m | \u001b[36mdesci_sense.shared_functions.web_extractors.citoid\u001b[0m:\u001b[36mfetch_citation\u001b[0m:\u001b[36m54\u001b[0m - \u001b[34m\u001b[1mfetching citoid data for: https://twitter.com/jbakcoleman/status/1754710500632334481/photo/1\u001b[0m\n",
      "\u001b[32m2024-04-25 10:28:42.739\u001b[0m | \u001b[34m\u001b[1mDEBUG   \u001b[0m | \u001b[36mdesci_sense.shared_functions.web_extractors.citoid\u001b[0m:\u001b[36mfetch_citation\u001b[0m:\u001b[36m54\u001b[0m - \u001b[34m\u001b[1mfetching citoid data for: https://twitter.com/jbakcoleman/status/1754703651518456042/photo/1\u001b[0m\n",
      "\u001b[32m2024-04-25 10:28:42.960\u001b[0m | \u001b[34m\u001b[1mDEBUG   \u001b[0m | \u001b[36mdesci_sense.shared_functions.web_extractors.citoid\u001b[0m:\u001b[36mfetch_citation\u001b[0m:\u001b[36m54\u001b[0m - \u001b[34m\u001b[1mfetching citoid data for: https://twitter.com/jbakcoleman/status/1754347758494810412/photo/1\u001b[0m\n",
      "\u001b[32m2024-04-25 10:28:43.180\u001b[0m | \u001b[34m\u001b[1mDEBUG   \u001b[0m | \u001b[36mdesci_sense.shared_functions.web_extractors.citoid\u001b[0m:\u001b[36mfetch_citation\u001b[0m:\u001b[36m54\u001b[0m - \u001b[34m\u001b[1mfetching citoid data for: https://twitter.com/jbakcoleman/status/1753396644190523584/photo/1\u001b[0m\n",
      "\u001b[32m2024-04-25 10:28:43.403\u001b[0m | \u001b[34m\u001b[1mDEBUG   \u001b[0m | \u001b[36mdesci_sense.shared_functions.web_extractors.citoid\u001b[0m:\u001b[36mfetch_citation\u001b[0m:\u001b[36m54\u001b[0m - \u001b[34m\u001b[1mfetching citoid data for: https://twitter.com/jbakcoleman/status/1753396644190523584/photo/1\u001b[0m\n",
      "\u001b[32m2024-04-25 10:28:43.620\u001b[0m | \u001b[34m\u001b[1mDEBUG   \u001b[0m | \u001b[36mdesci_sense.shared_functions.web_extractors.citoid\u001b[0m:\u001b[36mfetch_citation\u001b[0m:\u001b[36m54\u001b[0m - \u001b[34m\u001b[1mfetching citoid data for: https://twitter.com/jbakcoleman/status/1753396644190523584/photo/1\u001b[0m\n",
      "\u001b[32m2024-04-25 10:28:43.826\u001b[0m | \u001b[34m\u001b[1mDEBUG   \u001b[0m | \u001b[36mdesci_sense.shared_functions.web_extractors.citoid\u001b[0m:\u001b[36mfetch_citation\u001b[0m:\u001b[36m54\u001b[0m - \u001b[34m\u001b[1mfetching citoid data for: https://twitter.com/jbakcoleman/status/1749541928402854066/photo/1\u001b[0m\n",
      "\u001b[32m2024-04-25 10:28:44.089\u001b[0m | \u001b[34m\u001b[1mDEBUG   \u001b[0m | \u001b[36mdesci_sense.shared_functions.web_extractors.citoid\u001b[0m:\u001b[36mfetch_citation\u001b[0m:\u001b[36m54\u001b[0m - \u001b[34m\u001b[1mfetching citoid data for: https://twitter.com/jbakcoleman/status/1749541928402854066/photo/1\u001b[0m\n",
      "\u001b[32m2024-04-25 10:28:44.314\u001b[0m | \u001b[34m\u001b[1mDEBUG   \u001b[0m | \u001b[36mdesci_sense.shared_functions.web_extractors.citoid\u001b[0m:\u001b[36mfetch_citation\u001b[0m:\u001b[36m54\u001b[0m - \u001b[34m\u001b[1mfetching citoid data for: https://twitter.com/jbakcoleman/status/1749541928402854066/photo/1\u001b[0m\n",
      "\u001b[32m2024-04-25 10:28:44.506\u001b[0m | \u001b[34m\u001b[1mDEBUG   \u001b[0m | \u001b[36mdesci_sense.shared_functions.web_extractors.citoid\u001b[0m:\u001b[36mfetch_citation\u001b[0m:\u001b[36m54\u001b[0m - \u001b[34m\u001b[1mfetching citoid data for: https://twitter.com/dhitchcox/status/1744423175130104061\u001b[0m\n",
      "\u001b[32m2024-04-25 10:28:44.719\u001b[0m | \u001b[34m\u001b[1mDEBUG   \u001b[0m | \u001b[36mdesci_sense.shared_functions.web_extractors.citoid\u001b[0m:\u001b[36mfetch_citation\u001b[0m:\u001b[36m54\u001b[0m - \u001b[34m\u001b[1mfetching citoid data for: https://twitter.com/Above96th/status/1741024126775722400\u001b[0m\n",
      "\u001b[32m2024-04-25 10:28:44.915\u001b[0m | \u001b[34m\u001b[1mDEBUG   \u001b[0m | \u001b[36mdesci_sense.shared_functions.web_extractors.citoid\u001b[0m:\u001b[36mfetch_citation\u001b[0m:\u001b[36m54\u001b[0m - \u001b[34m\u001b[1mfetching citoid data for: https://twitter.com/BirdBrklyn/status/1739265132784394415\u001b[0m\n",
      "\u001b[32m2024-04-25 10:28:45.111\u001b[0m | \u001b[34m\u001b[1mDEBUG   \u001b[0m | \u001b[36mdesci_sense.shared_functions.web_extractors.citoid\u001b[0m:\u001b[36mfetch_citation\u001b[0m:\u001b[36m54\u001b[0m - \u001b[34m\u001b[1mfetching citoid data for: https://twitter.com/romanewyork/status/1509172658310635530\u001b[0m\n",
      "\u001b[32m2024-04-25 10:28:45.704\u001b[0m | \u001b[34m\u001b[1mDEBUG   \u001b[0m | \u001b[36mdesci_sense.shared_functions.web_extractors.citoid\u001b[0m:\u001b[36mfetch_citation\u001b[0m:\u001b[36m54\u001b[0m - \u001b[34m\u001b[1mfetching citoid data for: https://twitter.com/jbakcoleman/status/1736385559600193781/photo/1\u001b[0m\n",
      "\u001b[32m2024-04-25 10:28:45.917\u001b[0m | \u001b[34m\u001b[1mDEBUG   \u001b[0m | \u001b[36mdesci_sense.shared_functions.web_extractors.citoid\u001b[0m:\u001b[36mfetch_citation\u001b[0m:\u001b[36m54\u001b[0m - \u001b[34m\u001b[1mfetching citoid data for: https://twitter.com/ScienceMagazine/status/1736076270838882714\u001b[0m\n",
      "\u001b[32m2024-04-25 10:28:46.115\u001b[0m | \u001b[34m\u001b[1mDEBUG   \u001b[0m | \u001b[36mdesci_sense.shared_functions.web_extractors.citoid\u001b[0m:\u001b[36mfetch_citation\u001b[0m:\u001b[36m54\u001b[0m - \u001b[34m\u001b[1mfetching citoid data for: https://twitter.com/Apoorva__Lal/status/1735713232428601428\u001b[0m\n",
      "\u001b[32m2024-04-25 10:28:46.291\u001b[0m | \u001b[34m\u001b[1mDEBUG   \u001b[0m | \u001b[36mdesci_sense.shared_functions.web_extractors.citoid\u001b[0m:\u001b[36mfetch_citation\u001b[0m:\u001b[36m54\u001b[0m - \u001b[34m\u001b[1mfetching citoid data for: https://twitter.com/rdmpage/status/1735394454901756374\u001b[0m\n",
      "\u001b[32m2024-04-25 10:28:46.507\u001b[0m | \u001b[34m\u001b[1mDEBUG   \u001b[0m | \u001b[36mdesci_sense.shared_functions.web_extractors.citoid\u001b[0m:\u001b[36mfetch_citation\u001b[0m:\u001b[36m54\u001b[0m - \u001b[34m\u001b[1mfetching citoid data for: https://twitter.com/rdmpage/status/1735214066359255481\u001b[0m\n",
      "\u001b[32m2024-04-25 10:28:46.758\u001b[0m | \u001b[34m\u001b[1mDEBUG   \u001b[0m | \u001b[36mdesci_sense.shared_functions.web_extractors.citoid\u001b[0m:\u001b[36mfetch_citation\u001b[0m:\u001b[36m54\u001b[0m - \u001b[34m\u001b[1mfetching citoid data for: https://twitter.com/sacrevert/status/1734998407238885607\u001b[0m\n",
      "\u001b[32m2024-04-25 10:28:46.974\u001b[0m | \u001b[34m\u001b[1mDEBUG   \u001b[0m | \u001b[36mdesci_sense.shared_functions.web_extractors.citoid\u001b[0m:\u001b[36mfetch_citation\u001b[0m:\u001b[36m54\u001b[0m - \u001b[34m\u001b[1mfetching citoid data for: https://twitter.com/noriyuki_kojima/status/1780079338014310480\u001b[0m\n",
      "\u001b[32m2024-04-25 10:28:47.197\u001b[0m | \u001b[34m\u001b[1mDEBUG   \u001b[0m | \u001b[36mdesci_sense.shared_functions.web_extractors.citoid\u001b[0m:\u001b[36mfetch_citation\u001b[0m:\u001b[36m54\u001b[0m - \u001b[34m\u001b[1mfetching citoid data for: https://twitter.com/polynoamial/status/1778891186578804836\u001b[0m\n",
      "\u001b[32m2024-04-25 10:28:47.403\u001b[0m | \u001b[34m\u001b[1mDEBUG   \u001b[0m | \u001b[36mdesci_sense.shared_functions.web_extractors.citoid\u001b[0m:\u001b[36mfetch_citation\u001b[0m:\u001b[36m54\u001b[0m - \u001b[34m\u001b[1mfetching citoid data for: https://youtu.be/qdK3EMbMSlc?feature=shared\u001b[0m\n",
      "\u001b[32m2024-04-25 10:28:52.369\u001b[0m | \u001b[34m\u001b[1mDEBUG   \u001b[0m | \u001b[36mdesci_sense.shared_functions.web_extractors.citoid\u001b[0m:\u001b[36mfetch_citation\u001b[0m:\u001b[36m54\u001b[0m - \u001b[34m\u001b[1mfetching citoid data for: https://youtu.be/NQA_KUvmRU0?feature=shared\u001b[0m\n",
      "\u001b[32m2024-04-25 10:28:54.247\u001b[0m | \u001b[34m\u001b[1mDEBUG   \u001b[0m | \u001b[36mdesci_sense.shared_functions.web_extractors.citoid\u001b[0m:\u001b[36mfetch_citation\u001b[0m:\u001b[36m54\u001b[0m - \u001b[34m\u001b[1mfetching citoid data for: https://music.youtube.com/watch?v=FxybGB1slTE&feature=shared&feature=xapp_share\u001b[0m\n",
      "\u001b[32m2024-04-25 10:28:54.817\u001b[0m | \u001b[34m\u001b[1mDEBUG   \u001b[0m | \u001b[36mdesci_sense.shared_functions.web_extractors.citoid\u001b[0m:\u001b[36mfetch_citation\u001b[0m:\u001b[36m54\u001b[0m - \u001b[34m\u001b[1mfetching citoid data for: https://music.youtube.com/watch?v=C53kWuthR8A&feature=shared&feature=xapp_share\u001b[0m\n",
      "\u001b[32m2024-04-25 10:28:55.431\u001b[0m | \u001b[34m\u001b[1mDEBUG   \u001b[0m | \u001b[36mdesci_sense.shared_functions.web_extractors.citoid\u001b[0m:\u001b[36mfetch_citation\u001b[0m:\u001b[36m54\u001b[0m - \u001b[34m\u001b[1mfetching citoid data for: https://twitter.com/beenwrekt/status/1779164070563975501\u001b[0m\n",
      "\u001b[32m2024-04-25 10:28:55.674\u001b[0m | \u001b[34m\u001b[1mDEBUG   \u001b[0m | \u001b[36mdesci_sense.shared_functions.web_extractors.citoid\u001b[0m:\u001b[36mfetch_citation\u001b[0m:\u001b[36m54\u001b[0m - \u001b[34m\u001b[1mfetching citoid data for: https://www.youtube.com/watch?v=KhQnnISdDIU\u001b[0m\n",
      "\u001b[32m2024-04-25 10:28:57.178\u001b[0m | \u001b[34m\u001b[1mDEBUG   \u001b[0m | \u001b[36mdesci_sense.shared_functions.web_extractors.citoid\u001b[0m:\u001b[36mfetch_citation\u001b[0m:\u001b[36m54\u001b[0m - \u001b[34m\u001b[1mfetching citoid data for: https://twitter.com/yoavartzi/status/1778528238417137691/photo/1\u001b[0m\n",
      "\u001b[32m2024-04-25 10:28:57.637\u001b[0m | \u001b[34m\u001b[1mDEBUG   \u001b[0m | \u001b[36mdesci_sense.shared_functions.web_extractors.citoid\u001b[0m:\u001b[36mfetch_citation\u001b[0m:\u001b[36m54\u001b[0m - \u001b[34m\u001b[1mfetching citoid data for: https://arxiv.org/abs/2402.17793\u001b[0m\n",
      "\u001b[32m2024-04-25 10:29:00.097\u001b[0m | \u001b[34m\u001b[1mDEBUG   \u001b[0m | \u001b[36mdesci_sense.shared_functions.web_extractors.citoid\u001b[0m:\u001b[36mfetch_citation\u001b[0m:\u001b[36m54\u001b[0m - \u001b[34m\u001b[1mfetching citoid data for: https://twitter.com/DhruvBatraDB/status/1778447178262040850\u001b[0m\n",
      "\u001b[32m2024-04-25 10:29:00.529\u001b[0m | \u001b[34m\u001b[1mDEBUG   \u001b[0m | \u001b[36mdesci_sense.shared_functions.web_extractors.citoid\u001b[0m:\u001b[36mfetch_citation\u001b[0m:\u001b[36m54\u001b[0m - \u001b[34m\u001b[1mfetching citoid data for: https://twitter.com/srush_nlp/status/1776337885928509582\u001b[0m\n",
      "\u001b[32m2024-04-25 10:29:00.747\u001b[0m | \u001b[34m\u001b[1mDEBUG   \u001b[0m | \u001b[36mdesci_sense.shared_functions.web_extractors.citoid\u001b[0m:\u001b[36mfetch_citation\u001b[0m:\u001b[36m54\u001b[0m - \u001b[34m\u001b[1mfetching citoid data for: https://twitter.com/cassidy_pyle/status/1775208994375962923\u001b[0m\n",
      "\u001b[32m2024-04-25 10:29:01.216\u001b[0m | \u001b[34m\u001b[1mDEBUG   \u001b[0m | \u001b[36mdesci_sense.shared_functions.web_extractors.citoid\u001b[0m:\u001b[36mfetch_citation\u001b[0m:\u001b[36m54\u001b[0m - \u001b[34m\u001b[1mfetching citoid data for: https://twitter.com/brendanh0gan/status/1775698269273784497\u001b[0m\n",
      "\u001b[32m2024-04-25 10:29:01.426\u001b[0m | \u001b[34m\u001b[1mDEBUG   \u001b[0m | \u001b[36mdesci_sense.shared_functions.web_extractors.citoid\u001b[0m:\u001b[36mfetch_citation\u001b[0m:\u001b[36m54\u001b[0m - \u001b[34m\u001b[1mfetching citoid data for: https://twitter.com/yoavartzi/status/1775650472604414220\u001b[0m\n",
      "\u001b[32m2024-04-25 10:29:01.635\u001b[0m | \u001b[34m\u001b[1mDEBUG   \u001b[0m | \u001b[36mdesci_sense.shared_functions.web_extractors.citoid\u001b[0m:\u001b[36mfetch_citation\u001b[0m:\u001b[36m54\u001b[0m - \u001b[34m\u001b[1mfetching citoid data for: https://twitter.com/yoavartzi/status/1775252893802619089/photo/1\u001b[0m\n",
      "\u001b[32m2024-04-25 10:29:01.859\u001b[0m | \u001b[34m\u001b[1mDEBUG   \u001b[0m | \u001b[36mdesci_sense.shared_functions.web_extractors.citoid\u001b[0m:\u001b[36mfetch_citation\u001b[0m:\u001b[36m54\u001b[0m - \u001b[34m\u001b[1mfetching citoid data for: https://twitter.com/yoavartzi/status/1775252891239944684/photo/1\u001b[0m\n",
      "\u001b[32m2024-04-25 10:29:02.144\u001b[0m | \u001b[34m\u001b[1mDEBUG   \u001b[0m | \u001b[36mdesci_sense.shared_functions.web_extractors.citoid\u001b[0m:\u001b[36mfetch_citation\u001b[0m:\u001b[36m54\u001b[0m - \u001b[34m\u001b[1mfetching citoid data for: https://twitter.com/yoavartzi/status/1775165434670555217\u001b[0m\n",
      "\u001b[32m2024-04-25 10:29:02.688\u001b[0m | \u001b[34m\u001b[1mDEBUG   \u001b[0m | \u001b[36mdesci_sense.shared_functions.web_extractors.citoid\u001b[0m:\u001b[36mfetch_citation\u001b[0m:\u001b[36m54\u001b[0m - \u001b[34m\u001b[1mfetching citoid data for: https://twitter.com/yoavartzi/status/1775165434670555217/photo/1\u001b[0m\n",
      "\u001b[32m2024-04-25 10:29:03.215\u001b[0m | \u001b[34m\u001b[1mDEBUG   \u001b[0m | \u001b[36mdesci_sense.shared_functions.web_extractors.citoid\u001b[0m:\u001b[36mfetch_citation\u001b[0m:\u001b[36m54\u001b[0m - \u001b[34m\u001b[1mfetching citoid data for: https://twitter.com/yoavartzi/status/1775165434670555217/photo/1\u001b[0m\n",
      "\u001b[32m2024-04-25 10:29:03.439\u001b[0m | \u001b[34m\u001b[1mDEBUG   \u001b[0m | \u001b[36mdesci_sense.shared_functions.web_extractors.citoid\u001b[0m:\u001b[36mfetch_citation\u001b[0m:\u001b[36m54\u001b[0m - \u001b[34m\u001b[1mfetching citoid data for: https://twitter.com/yoavartzi/status/1773789620901220608/photo/1\u001b[0m\n",
      "\u001b[32m2024-04-25 10:29:03.643\u001b[0m | \u001b[34m\u001b[1mDEBUG   \u001b[0m | \u001b[36mdesci_sense.shared_functions.web_extractors.citoid\u001b[0m:\u001b[36mfetch_citation\u001b[0m:\u001b[36m54\u001b[0m - \u001b[34m\u001b[1mfetching citoid data for: https://twitter.com/Fannyjrd_/status/1773766567286694278\u001b[0m\n",
      "\u001b[32m2024-04-25 10:29:06.227\u001b[0m | \u001b[34m\u001b[1mDEBUG   \u001b[0m | \u001b[36mdesci_sense.shared_functions.web_extractors.citoid\u001b[0m:\u001b[36mfetch_citation\u001b[0m:\u001b[36m54\u001b[0m - \u001b[34m\u001b[1mfetching citoid data for: https://twitter.com/COLM_conf/status/1773700895445844434\u001b[0m\n",
      "\u001b[32m2024-04-25 10:29:06.437\u001b[0m | \u001b[34m\u001b[1mDEBUG   \u001b[0m | \u001b[36mdesci_sense.shared_functions.web_extractors.citoid\u001b[0m:\u001b[36mfetch_citation\u001b[0m:\u001b[36m54\u001b[0m - \u001b[34m\u001b[1mfetching citoid data for: https://twitter.com/selimyaman_/status/1772172937073709293\u001b[0m\n",
      "\u001b[32m2024-04-25 10:29:06.788\u001b[0m | \u001b[34m\u001b[1mDEBUG   \u001b[0m | \u001b[36mdesci_sense.shared_functions.web_extractors.citoid\u001b[0m:\u001b[36mfetch_citation\u001b[0m:\u001b[36m54\u001b[0m - \u001b[34m\u001b[1mfetching citoid data for: https://twitter.com/mdredze/status/1772417853095923765\u001b[0m\n",
      "\u001b[32m2024-04-25 10:29:07.210\u001b[0m | \u001b[34m\u001b[1mDEBUG   \u001b[0m | \u001b[36mdesci_sense.shared_functions.web_extractors.citoid\u001b[0m:\u001b[36mfetch_citation\u001b[0m:\u001b[36m54\u001b[0m - \u001b[34m\u001b[1mfetching citoid data for: https://twitter.com/yoavartzi/status/1772416844822978755/photo/1\u001b[0m\n",
      "\u001b[32m2024-04-25 10:29:07.427\u001b[0m | \u001b[34m\u001b[1mDEBUG   \u001b[0m | \u001b[36mdesci_sense.shared_functions.web_extractors.citoid\u001b[0m:\u001b[36mfetch_citation\u001b[0m:\u001b[36m54\u001b[0m - \u001b[34m\u001b[1mfetching citoid data for: https://twitter.com/mdredze/status/1772407622316036383\u001b[0m\n",
      "\u001b[32m2024-04-25 10:29:07.663\u001b[0m | \u001b[34m\u001b[1mDEBUG   \u001b[0m | \u001b[36mdesci_sense.shared_functions.web_extractors.citoid\u001b[0m:\u001b[36mfetch_citation\u001b[0m:\u001b[36m54\u001b[0m - \u001b[34m\u001b[1mfetching citoid data for: https://twitter.com/COLM_conf/status/1772262521623159144\u001b[0m\n",
      "\u001b[32m2024-04-25 10:29:08.029\u001b[0m | \u001b[34m\u001b[1mDEBUG   \u001b[0m | \u001b[36mdesci_sense.shared_functions.web_extractors.citoid\u001b[0m:\u001b[36mfetch_citation\u001b[0m:\u001b[36m54\u001b[0m - \u001b[34m\u001b[1mfetching citoid data for: https://twitter.com/yoavartzi/status/1771510376187785250/photo/1\u001b[0m\n",
      "\u001b[32m2024-04-25 10:29:08.362\u001b[0m | \u001b[34m\u001b[1mDEBUG   \u001b[0m | \u001b[36mdesci_sense.shared_functions.web_extractors.citoid\u001b[0m:\u001b[36mfetch_citation\u001b[0m:\u001b[36m54\u001b[0m - \u001b[34m\u001b[1mfetching citoid data for: https://twitter.com/yoavartzi/status/1771292256617582595/photo/1\u001b[0m\n",
      "\u001b[32m2024-04-25 10:29:08.550\u001b[0m | \u001b[34m\u001b[1mDEBUG   \u001b[0m | \u001b[36mdesci_sense.shared_functions.web_extractors.citoid\u001b[0m:\u001b[36mfetch_citation\u001b[0m:\u001b[36m54\u001b[0m - \u001b[34m\u001b[1mfetching citoid data for: https://twitter.com/ysu_nlp/status/1771193565323964648\u001b[0m\n",
      "\u001b[32m2024-04-25 10:29:08.745\u001b[0m | \u001b[34m\u001b[1mDEBUG   \u001b[0m | \u001b[36mdesci_sense.shared_functions.web_extractors.citoid\u001b[0m:\u001b[36mfetch_citation\u001b[0m:\u001b[36m54\u001b[0m - \u001b[34m\u001b[1mfetching citoid data for: https://twitter.com/COLM_conf/status/1770103104131768584\u001b[0m\n",
      "\u001b[32m2024-04-25 10:29:08.927\u001b[0m | \u001b[34m\u001b[1mDEBUG   \u001b[0m | \u001b[36mdesci_sense.shared_functions.web_extractors.citoid\u001b[0m:\u001b[36mfetch_citation\u001b[0m:\u001b[36m54\u001b[0m - \u001b[34m\u001b[1mfetching citoid data for: https://twitter.com/mdredze/status/1770088228516663401\u001b[0m\n",
      "\u001b[32m2024-04-25 10:29:09.145\u001b[0m | \u001b[34m\u001b[1mDEBUG   \u001b[0m | \u001b[36mdesci_sense.shared_functions.web_extractors.citoid\u001b[0m:\u001b[36mfetch_citation\u001b[0m:\u001b[36m54\u001b[0m - \u001b[34m\u001b[1mfetching citoid data for: https://twitter.com/yoavartzi/status/1769899841599975624\u001b[0m\n",
      "\u001b[32m2024-04-25 10:29:09.336\u001b[0m | \u001b[34m\u001b[1mDEBUG   \u001b[0m | \u001b[36mdesci_sense.shared_functions.web_extractors.citoid\u001b[0m:\u001b[36mfetch_citation\u001b[0m:\u001b[36m54\u001b[0m - \u001b[34m\u001b[1mfetching citoid data for: https://twitter.com/yoavartzi/status/1769899841599975624/photo/1\u001b[0m\n",
      "\u001b[32m2024-04-25 10:29:09.604\u001b[0m | \u001b[34m\u001b[1mDEBUG   \u001b[0m | \u001b[36mdesci_sense.shared_functions.web_extractors.citoid\u001b[0m:\u001b[36mfetch_citation\u001b[0m:\u001b[36m54\u001b[0m - \u001b[34m\u001b[1mfetching citoid data for: https://twitter.com/COLM_conf/status/1769878959259255272\u001b[0m\n",
      "\u001b[32m2024-04-25 10:29:09.815\u001b[0m | \u001b[34m\u001b[1mDEBUG   \u001b[0m | \u001b[36mdesci_sense.shared_functions.web_extractors.citoid\u001b[0m:\u001b[36mfetch_citation\u001b[0m:\u001b[36m54\u001b[0m - \u001b[34m\u001b[1mfetching citoid data for: https://twitter.com/yoavartzi/status/1768266767078420527/photo/1\u001b[0m\n",
      "\u001b[32m2024-04-25 10:29:10.020\u001b[0m | \u001b[34m\u001b[1mDEBUG   \u001b[0m | \u001b[36mdesci_sense.shared_functions.web_extractors.citoid\u001b[0m:\u001b[36mfetch_citation\u001b[0m:\u001b[36m54\u001b[0m - \u001b[34m\u001b[1mfetching citoid data for: https://colmweb.org/AreaChairs.html\u001b[0m\n",
      "\u001b[32m2024-04-25 10:29:10.263\u001b[0m | \u001b[34m\u001b[1mDEBUG   \u001b[0m | \u001b[36mdesci_sense.shared_functions.web_extractors.citoid\u001b[0m:\u001b[36mfetch_citation\u001b[0m:\u001b[36m54\u001b[0m - \u001b[34m\u001b[1mfetching citoid data for: https://twitter.com/yoavartzi/status/1767377532637061155/photo/1\u001b[0m\n",
      "\u001b[32m2024-04-25 10:29:10.455\u001b[0m | \u001b[34m\u001b[1mDEBUG   \u001b[0m | \u001b[36mdesci_sense.shared_functions.web_extractors.citoid\u001b[0m:\u001b[36mfetch_citation\u001b[0m:\u001b[36m54\u001b[0m - \u001b[34m\u001b[1mfetching citoid data for: https://twitter.com/yoavartzi/status/1766225484273115612\u001b[0m\n",
      "\u001b[32m2024-04-25 10:29:10.675\u001b[0m | \u001b[34m\u001b[1mDEBUG   \u001b[0m | \u001b[36mdesci_sense.shared_functions.web_extractors.citoid\u001b[0m:\u001b[36mfetch_citation\u001b[0m:\u001b[36m54\u001b[0m - \u001b[34m\u001b[1mfetching citoid data for: https://twitter.com/NogaZaslavsky/status/1766227951232958789\u001b[0m\n",
      "\u001b[32m2024-04-25 10:29:10.903\u001b[0m | \u001b[34m\u001b[1mDEBUG   \u001b[0m | \u001b[36mdesci_sense.shared_functions.web_extractors.citoid\u001b[0m:\u001b[36mfetch_citation\u001b[0m:\u001b[36m54\u001b[0m - \u001b[34m\u001b[1mfetching citoid data for: https://colmweb.org/faq.html\u001b[0m\n",
      "\u001b[32m2024-04-25 10:29:11.304\u001b[0m | \u001b[34m\u001b[1mDEBUG   \u001b[0m | \u001b[36mdesci_sense.shared_functions.web_extractors.citoid\u001b[0m:\u001b[36mfetch_citation\u001b[0m:\u001b[36m54\u001b[0m - \u001b[34m\u001b[1mfetching citoid data for: https://twitter.com/yoavartzi/status/1766229695937261984/photo/1\u001b[0m\n",
      "\u001b[32m2024-04-25 10:29:11.534\u001b[0m | \u001b[34m\u001b[1mDEBUG   \u001b[0m | \u001b[36mdesci_sense.shared_functions.web_extractors.citoid\u001b[0m:\u001b[36mfetch_citation\u001b[0m:\u001b[36m54\u001b[0m - \u001b[34m\u001b[1mfetching citoid data for: https://twitter.com/yoavartzi/status/1765855065821356391/photo/1\u001b[0m\n",
      "\u001b[32m2024-04-25 10:29:11.748\u001b[0m | \u001b[34m\u001b[1mDEBUG   \u001b[0m | \u001b[36mdesci_sense.shared_functions.web_extractors.citoid\u001b[0m:\u001b[36mfetch_citation\u001b[0m:\u001b[36m54\u001b[0m - \u001b[34m\u001b[1mfetching citoid data for: https://twitter.com/eccvconf/status/1765844878783586800\u001b[0m\n",
      "\u001b[32m2024-04-25 10:29:11.963\u001b[0m | \u001b[34m\u001b[1mDEBUG   \u001b[0m | \u001b[36mdesci_sense.shared_functions.web_extractors.citoid\u001b[0m:\u001b[36mfetch_citation\u001b[0m:\u001b[36m54\u001b[0m - \u001b[34m\u001b[1mfetching citoid data for: https://twitter.com/SebastienBubeck/status/1764737971725447446\u001b[0m\n",
      "\u001b[32m2024-04-25 10:29:12.158\u001b[0m | \u001b[34m\u001b[1mDEBUG   \u001b[0m | \u001b[36mdesci_sense.shared_functions.web_extractors.citoid\u001b[0m:\u001b[36mfetch_citation\u001b[0m:\u001b[36m54\u001b[0m - \u001b[34m\u001b[1mfetching citoid data for: https://twitter.com/yoavartzi/status/1764418744338506091/photo/1\u001b[0m\n",
      "\u001b[32m2024-04-25 10:29:12.944\u001b[0m | \u001b[34m\u001b[1mDEBUG   \u001b[0m | \u001b[36mdesci_sense.shared_functions.web_extractors.citoid\u001b[0m:\u001b[36mfetch_citation\u001b[0m:\u001b[36m54\u001b[0m - \u001b[34m\u001b[1mfetching citoid data for: https://huggingface.co/datasets/cjvt/cosimlex\u001b[0m\n",
      "\u001b[32m2024-04-25 10:29:14.226\u001b[0m | \u001b[34m\u001b[1mDEBUG   \u001b[0m | \u001b[36mdesci_sense.shared_functions.web_extractors.citoid\u001b[0m:\u001b[36mfetch_citation\u001b[0m:\u001b[36m54\u001b[0m - \u001b[34m\u001b[1mfetching citoid data for: https://twitter.com/yoavartzi/status/1763289402346762481\u001b[0m\n",
      "\u001b[32m2024-04-25 10:29:14.451\u001b[0m | \u001b[34m\u001b[1mDEBUG   \u001b[0m | \u001b[36mdesci_sense.shared_functions.web_extractors.citoid\u001b[0m:\u001b[36mfetch_citation\u001b[0m:\u001b[36m54\u001b[0m - \u001b[34m\u001b[1mfetching citoid data for: https://twitter.com/yoavartzi/status/1763610532982988934/photo/1\u001b[0m\n",
      "\u001b[32m2024-04-25 10:29:14.671\u001b[0m | \u001b[34m\u001b[1mDEBUG   \u001b[0m | \u001b[36mdesci_sense.shared_functions.web_extractors.citoid\u001b[0m:\u001b[36mfetch_citation\u001b[0m:\u001b[36m54\u001b[0m - \u001b[34m\u001b[1mfetching citoid data for: https://twitter.com/COLM_conf/status/1763607496835436809\u001b[0m\n",
      "\u001b[32m2024-04-25 10:29:14.900\u001b[0m | \u001b[34m\u001b[1mDEBUG   \u001b[0m | \u001b[36mdesci_sense.shared_functions.web_extractors.citoid\u001b[0m:\u001b[36mfetch_citation\u001b[0m:\u001b[36m54\u001b[0m - \u001b[34m\u001b[1mfetching citoid data for: https://twitter.com/yoavartzi/status/1763289402346762481\u001b[0m\n",
      "\u001b[32m2024-04-25 10:29:18.680\u001b[0m | \u001b[34m\u001b[1mDEBUG   \u001b[0m | \u001b[36mdesci_sense.shared_functions.web_extractors.citoid\u001b[0m:\u001b[36mfetch_citation\u001b[0m:\u001b[36m54\u001b[0m - \u001b[34m\u001b[1mfetching citoid data for: https://twitter.com/Figure_robot/status/1763202513355022357\u001b[0m\n",
      "\u001b[32m2024-04-25 10:29:18.891\u001b[0m | \u001b[34m\u001b[1mDEBUG   \u001b[0m | \u001b[36mdesci_sense.shared_functions.web_extractors.citoid\u001b[0m:\u001b[36mfetch_citation\u001b[0m:\u001b[36m54\u001b[0m - \u001b[34m\u001b[1mfetching citoid data for: https://twitter.com/yoavartzi/status/1763294155562774941/photo/1\u001b[0m\n",
      "\u001b[32m2024-04-25 10:29:19.076\u001b[0m | \u001b[34m\u001b[1mDEBUG   \u001b[0m | \u001b[36mdesci_sense.shared_functions.web_extractors.citoid\u001b[0m:\u001b[36mfetch_citation\u001b[0m:\u001b[36m54\u001b[0m - \u001b[34m\u001b[1mfetching citoid data for: https://arxiv.org/abs/2402.17793\u001b[0m\n",
      "\u001b[32m2024-04-25 10:29:21.756\u001b[0m | \u001b[34m\u001b[1mDEBUG   \u001b[0m | \u001b[36mdesci_sense.shared_functions.web_extractors.citoid\u001b[0m:\u001b[36mfetch_citation\u001b[0m:\u001b[36m54\u001b[0m - \u001b[34m\u001b[1mfetching citoid data for: https://twitter.com/yoavartzi/status/1763289402346762481/photo/1\u001b[0m\n",
      "\u001b[32m2024-04-25 10:29:22.026\u001b[0m | \u001b[34m\u001b[1mDEBUG   \u001b[0m | \u001b[36mdesci_sense.shared_functions.web_extractors.citoid\u001b[0m:\u001b[36mfetch_citation\u001b[0m:\u001b[36m54\u001b[0m - \u001b[34m\u001b[1mfetching citoid data for: https://twitter.com/yoavartzi/status/1763260385254056393\u001b[0m\n",
      "\u001b[32m2024-04-25 10:29:22.376\u001b[0m | \u001b[34m\u001b[1mDEBUG   \u001b[0m | \u001b[36mdesci_sense.shared_functions.web_extractors.citoid\u001b[0m:\u001b[36mfetch_citation\u001b[0m:\u001b[36m54\u001b[0m - \u001b[34m\u001b[1mfetching citoid data for: https://twitter.com/o_guest/status/1780129489680286109?t=8TlN6FWxjVBv5pAShCfkOA&s=19\u001b[0m\n",
      "\u001b[32m2024-04-25 10:29:22.733\u001b[0m | \u001b[34m\u001b[1mDEBUG   \u001b[0m | \u001b[36mdesci_sense.shared_functions.web_extractors.citoid\u001b[0m:\u001b[36mfetch_citation\u001b[0m:\u001b[36m54\u001b[0m - \u001b[34m\u001b[1mfetching citoid data for: https://twitter.com/ChombaBupe/status/1780379733621920022/photo/1\u001b[0m\n",
      "\u001b[32m2024-04-25 10:29:23.700\u001b[0m | \u001b[34m\u001b[1mDEBUG   \u001b[0m | \u001b[36mdesci_sense.shared_functions.web_extractors.citoid\u001b[0m:\u001b[36mfetch_citation\u001b[0m:\u001b[36m54\u001b[0m - \u001b[34m\u001b[1mfetching citoid data for: https://twitter.com/DimitrisPapail/status/1779945981314027608\u001b[0m\n",
      "\u001b[32m2024-04-25 10:29:24.061\u001b[0m | \u001b[34m\u001b[1mDEBUG   \u001b[0m | \u001b[36mdesci_sense.shared_functions.web_extractors.citoid\u001b[0m:\u001b[36mfetch_citation\u001b[0m:\u001b[36m54\u001b[0m - \u001b[34m\u001b[1mfetching citoid data for: https://twitter.com/steph_palazzolo/status/1779878890309054763\u001b[0m\n",
      "\u001b[32m2024-04-25 10:29:24.293\u001b[0m | \u001b[34m\u001b[1mDEBUG   \u001b[0m | \u001b[36mdesci_sense.shared_functions.web_extractors.citoid\u001b[0m:\u001b[36mfetch_citation\u001b[0m:\u001b[36m54\u001b[0m - \u001b[34m\u001b[1mfetching citoid data for: https://twitter.com/bindureddy/status/1779611841142132765\u001b[0m\n",
      "\u001b[32m2024-04-25 10:29:24.506\u001b[0m | \u001b[34m\u001b[1mDEBUG   \u001b[0m | \u001b[36mdesci_sense.shared_functions.web_extractors.citoid\u001b[0m:\u001b[36mfetch_citation\u001b[0m:\u001b[36m54\u001b[0m - \u001b[34m\u001b[1mfetching citoid data for: https://twitter.com/ChombaBupe/status/1779912515721351213/photo/1\u001b[0m\n",
      "\u001b[32m2024-04-25 10:29:24.740\u001b[0m | \u001b[34m\u001b[1mDEBUG   \u001b[0m | \u001b[36mdesci_sense.shared_functions.web_extractors.citoid\u001b[0m:\u001b[36mfetch_citation\u001b[0m:\u001b[36m54\u001b[0m - \u001b[34m\u001b[1mfetching citoid data for: https://twitter.com/ylecun/status/1779845304788955292\u001b[0m\n",
      "\u001b[32m2024-04-25 10:29:25.054\u001b[0m | \u001b[34m\u001b[1mDEBUG   \u001b[0m | \u001b[36mdesci_sense.shared_functions.web_extractors.citoid\u001b[0m:\u001b[36mfetch_citation\u001b[0m:\u001b[36m54\u001b[0m - \u001b[34m\u001b[1mfetching citoid data for: https://twitter.com/AISafetyMemes/status/1779353769337376939\u001b[0m\n",
      "\u001b[32m2024-04-25 10:29:25.269\u001b[0m | \u001b[34m\u001b[1mDEBUG   \u001b[0m | \u001b[36mdesci_sense.shared_functions.web_extractors.citoid\u001b[0m:\u001b[36mfetch_citation\u001b[0m:\u001b[36m54\u001b[0m - \u001b[34m\u001b[1mfetching citoid data for: https://twitter.com/MikeNthDS/status/1779033435031441441?t=Ub0GheQ30kAwHAEe_Jbo6g&s=19\u001b[0m\n",
      "\u001b[32m2024-04-25 10:29:25.543\u001b[0m | \u001b[34m\u001b[1mDEBUG   \u001b[0m | \u001b[36mdesci_sense.shared_functions.web_extractors.citoid\u001b[0m:\u001b[36mfetch_citation\u001b[0m:\u001b[36m54\u001b[0m - \u001b[34m\u001b[1mfetching citoid data for: https://twitter.com/PKuzev/status/1780624643742662726\u001b[0m\n",
      "\u001b[32m2024-04-25 10:29:25.719\u001b[0m | \u001b[34m\u001b[1mDEBUG   \u001b[0m | \u001b[36mdesci_sense.shared_functions.web_extractors.citoid\u001b[0m:\u001b[36mfetch_citation\u001b[0m:\u001b[36m54\u001b[0m - \u001b[34m\u001b[1mfetching citoid data for: https://twitter.com/presroi/status/1780590955034247245\u001b[0m\n",
      "\u001b[32m2024-04-25 10:29:29.555\u001b[0m | \u001b[34m\u001b[1mDEBUG   \u001b[0m | \u001b[36mdesci_sense.shared_functions.web_extractors.citoid\u001b[0m:\u001b[36mfetch_citation\u001b[0m:\u001b[36m54\u001b[0m - \u001b[34m\u001b[1mfetching citoid data for: https://www.theguardian.com/commentisfree/2024/apr/17/higher-education-accessibility-disabled-people-covid-pandemic-remote-learning-universities\u001b[0m\n",
      "\u001b[32m2024-04-25 10:29:30.352\u001b[0m | \u001b[34m\u001b[1mDEBUG   \u001b[0m | \u001b[36mdesci_sense.shared_functions.web_extractors.citoid\u001b[0m:\u001b[36mfetch_citation\u001b[0m:\u001b[36m54\u001b[0m - \u001b[34m\u001b[1mfetching citoid data for: https://osf.io/preprints/socarxiv/m42uh\u001b[0m\n",
      "\u001b[32m2024-04-25 10:29:31.382\u001b[0m | \u001b[34m\u001b[1mDEBUG   \u001b[0m | \u001b[36mdesci_sense.shared_functions.web_extractors.citoid\u001b[0m:\u001b[36mfetch_citation\u001b[0m:\u001b[36m54\u001b[0m - \u001b[34m\u001b[1mfetching citoid data for: https://twitter.com/clothildegouj/status/1780543971791364473\u001b[0m\n",
      "\u001b[32m2024-04-25 10:29:31.606\u001b[0m | \u001b[34m\u001b[1mDEBUG   \u001b[0m | \u001b[36mdesci_sense.shared_functions.web_extractors.citoid\u001b[0m:\u001b[36mfetch_citation\u001b[0m:\u001b[36m54\u001b[0m - \u001b[34m\u001b[1mfetching citoid data for: https://www.linkedin.com/posts/zachmeyers_will-free-dataflows-between-the-uk-and-eu-activity-7186283689121599488--Zk0?utm_source=share&utm_medium=member_desktop\u001b[0m\n",
      "\u001b[32m2024-04-25 10:29:32.088\u001b[0m | \u001b[34m\u001b[1mDEBUG   \u001b[0m | \u001b[36mdesci_sense.shared_functions.web_extractors.citoid\u001b[0m:\u001b[36mfetch_citation\u001b[0m:\u001b[36m54\u001b[0m - \u001b[34m\u001b[1mfetching citoid data for: https://www.ianbrown.tech/2024/04/17/1804/\u001b[0m\n",
      "\u001b[32m2024-04-25 10:29:34.051\u001b[0m | \u001b[34m\u001b[1mDEBUG   \u001b[0m | \u001b[36mdesci_sense.shared_functions.web_extractors.citoid\u001b[0m:\u001b[36mfetch_citation\u001b[0m:\u001b[36m54\u001b[0m - \u001b[34m\u001b[1mfetching citoid data for: https://x.com/haruno07/status/1253057339885682688\u001b[0m\n",
      "\u001b[32m2024-04-25 10:29:34.550\u001b[0m | \u001b[34m\u001b[1mDEBUG   \u001b[0m | \u001b[36mdesci_sense.shared_functions.web_extractors.citoid\u001b[0m:\u001b[36mfetch_citation\u001b[0m:\u001b[36m54\u001b[0m - \u001b[34m\u001b[1mfetching citoid data for: https://twitter.com/1Br0wn/status/1780484057287016498/photo/1\u001b[0m\n",
      "\u001b[32m2024-04-25 10:29:34.795\u001b[0m | \u001b[34m\u001b[1mDEBUG   \u001b[0m | \u001b[36mdesci_sense.shared_functions.web_extractors.citoid\u001b[0m:\u001b[36mfetch_citation\u001b[0m:\u001b[36m54\u001b[0m - \u001b[34m\u001b[1mfetching citoid data for: https://newpublic.org/psi\u001b[0m\n",
      "\u001b[32m2024-04-25 10:29:36.520\u001b[0m | \u001b[34m\u001b[1mDEBUG   \u001b[0m | \u001b[36mdesci_sense.shared_functions.web_extractors.citoid\u001b[0m:\u001b[36mfetch_citation\u001b[0m:\u001b[36m54\u001b[0m - \u001b[34m\u001b[1mfetching citoid data for: https://twitter.com/1Br0wn/status/1780479089343689183/photo/1\u001b[0m\n",
      "\u001b[32m2024-04-25 10:29:36.774\u001b[0m | \u001b[34m\u001b[1mDEBUG   \u001b[0m | \u001b[36mdesci_sense.shared_functions.web_extractors.citoid\u001b[0m:\u001b[36mfetch_citation\u001b[0m:\u001b[36m54\u001b[0m - \u001b[34m\u001b[1mfetching citoid data for: https://www.noemamag.com/we-need-to-rewild-the-internet/\u001b[0m\n",
      "\u001b[32m2024-04-25 10:29:37.930\u001b[0m | \u001b[34m\u001b[1mDEBUG   \u001b[0m | \u001b[36mdesci_sense.shared_functions.web_extractors.citoid\u001b[0m:\u001b[36mfetch_citation\u001b[0m:\u001b[36m54\u001b[0m - \u001b[34m\u001b[1mfetching citoid data for: https://conference.publicspaces.net/en\u001b[0m\n",
      "\u001b[32m2024-04-25 10:29:42.742\u001b[0m | \u001b[34m\u001b[1mDEBUG   \u001b[0m | \u001b[36mdesci_sense.shared_functions.web_extractors.citoid\u001b[0m:\u001b[36mfetch_citation\u001b[0m:\u001b[36m54\u001b[0m - \u001b[34m\u001b[1mfetching citoid data for: https://geopolitique.eu/en/2024/04/16/radical-change-is-what-is-needed/\u001b[0m\n",
      "\u001b[32m2024-04-25 10:29:44.977\u001b[0m | \u001b[34m\u001b[1mDEBUG   \u001b[0m | \u001b[36mdesci_sense.shared_functions.web_extractors.citoid\u001b[0m:\u001b[36mfetch_citation\u001b[0m:\u001b[36m54\u001b[0m - \u001b[34m\u001b[1mfetching citoid data for: https://www.ft.com/content/ad287f49-4292-4c4a-9b3d-8e46f210c21c?shareType=nongift\u001b[0m\n",
      "\u001b[32m2024-04-25 10:29:46.157\u001b[0m | \u001b[34m\u001b[1mDEBUG   \u001b[0m | \u001b[36mdesci_sense.shared_functions.web_extractors.citoid\u001b[0m:\u001b[36mfetch_citation\u001b[0m:\u001b[36m54\u001b[0m - \u001b[34m\u001b[1mfetching citoid data for: https://www.ianbrown.tech/2024/04/16/more-on-french-and-belgian-gdpr-guidance-on-ai-training/\u001b[0m\n",
      "\u001b[32m2024-04-25 10:29:47.559\u001b[0m | \u001b[34m\u001b[1mDEBUG   \u001b[0m | \u001b[36mdesci_sense.shared_functions.web_extractors.citoid\u001b[0m:\u001b[36mfetch_citation\u001b[0m:\u001b[36m54\u001b[0m - \u001b[34m\u001b[1mfetching citoid data for: https://support.apple.com/en-gb/102471\u001b[0m\n",
      "\u001b[32m2024-04-25 10:29:48.320\u001b[0m | \u001b[34m\u001b[1mDEBUG   \u001b[0m | \u001b[36mdesci_sense.shared_functions.web_extractors.citoid\u001b[0m:\u001b[36mfetch_citation\u001b[0m:\u001b[36m54\u001b[0m - \u001b[34m\u001b[1mfetching citoid data for: https://twitter.com/1Br0wn/status/1780317218489692524/photo/1\u001b[0m\n",
      "\u001b[32m2024-04-25 10:29:48.555\u001b[0m | \u001b[34m\u001b[1mDEBUG   \u001b[0m | \u001b[36mdesci_sense.shared_functions.web_extractors.citoid\u001b[0m:\u001b[36mfetch_citation\u001b[0m:\u001b[36m54\u001b[0m - \u001b[34m\u001b[1mfetching citoid data for: https://www.ft.com/content/95a4bd15-ed9b-4f06-a6be-a64ad0541c18\u001b[0m\n",
      "\u001b[32m2024-04-25 10:29:52.381\u001b[0m | \u001b[34m\u001b[1mDEBUG   \u001b[0m | \u001b[36mdesci_sense.shared_functions.web_extractors.citoid\u001b[0m:\u001b[36mfetch_citation\u001b[0m:\u001b[36m54\u001b[0m - \u001b[34m\u001b[1mfetching citoid data for: https://twitter.com/ftbrussels/status/1779721800735170706\u001b[0m\n",
      "\u001b[32m2024-04-25 10:29:52.599\u001b[0m | \u001b[34m\u001b[1mDEBUG   \u001b[0m | \u001b[36mdesci_sense.shared_functions.web_extractors.citoid\u001b[0m:\u001b[36mfetch_citation\u001b[0m:\u001b[36m54\u001b[0m - \u001b[34m\u001b[1mfetching citoid data for: https://twitter.com/1Br0wn/status/1779972132505637001/photo/1\u001b[0m\n",
      "\u001b[32m2024-04-25 10:29:52.800\u001b[0m | \u001b[34m\u001b[1mDEBUG   \u001b[0m | \u001b[36mdesci_sense.shared_functions.web_extractors.citoid\u001b[0m:\u001b[36mfetch_citation\u001b[0m:\u001b[36m54\u001b[0m - \u001b[34m\u001b[1mfetching citoid data for: https://twitter.com/1Br0wn/status/1779972132505637001/photo/1\u001b[0m\n",
      "\u001b[32m2024-04-25 10:29:53.002\u001b[0m | \u001b[34m\u001b[1mDEBUG   \u001b[0m | \u001b[36mdesci_sense.shared_functions.web_extractors.citoid\u001b[0m:\u001b[36mfetch_citation\u001b[0m:\u001b[36m54\u001b[0m - \u001b[34m\u001b[1mfetching citoid data for: https://www.ft.com/content/56f9a222-d7ab-4a6f-a8e9-3b7d7cbe9928\u001b[0m\n",
      "\u001b[32m2024-04-25 10:29:54.624\u001b[0m | \u001b[34m\u001b[1mDEBUG   \u001b[0m | \u001b[36mdesci_sense.shared_functions.web_extractors.citoid\u001b[0m:\u001b[36mfetch_citation\u001b[0m:\u001b[36m54\u001b[0m - \u001b[34m\u001b[1mfetching citoid data for: https://www.thetimes.co.uk/article/20a269b5-ce3e-412e-8b70-7ffee9e95ee1?shareToken=cf8eed168a38e9c3f9d8d32632d9dd94\u001b[0m\n",
      "\u001b[32m2024-04-25 10:29:58.825\u001b[0m | \u001b[34m\u001b[1mDEBUG   \u001b[0m | \u001b[36mdesci_sense.shared_functions.web_extractors.citoid\u001b[0m:\u001b[36mfetch_citation\u001b[0m:\u001b[36m54\u001b[0m - \u001b[34m\u001b[1mfetching citoid data for: https://twitter.com/1Br0wn/status/1779567701314109576/photo/1\u001b[0m\n",
      "\u001b[32m2024-04-25 10:29:59.046\u001b[0m | \u001b[34m\u001b[1mDEBUG   \u001b[0m | \u001b[36mdesci_sense.shared_functions.web_extractors.citoid\u001b[0m:\u001b[36mfetch_citation\u001b[0m:\u001b[36m54\u001b[0m - \u001b[34m\u001b[1mfetching citoid data for: https://www.theguardian.com/commentisfree/2024/apr/14/rwanda-bill-peers-house-of-lords-amendments-commons-legislation\u001b[0m\n",
      "\u001b[32m2024-04-25 10:30:01.566\u001b[0m | \u001b[34m\u001b[1mDEBUG   \u001b[0m | \u001b[36mdesci_sense.shared_functions.web_extractors.citoid\u001b[0m:\u001b[36mfetch_citation\u001b[0m:\u001b[36m54\u001b[0m - \u001b[34m\u001b[1mfetching citoid data for: https://twitter.com/alondra/status/1778938341360328730\u001b[0m\n",
      "\u001b[32m2024-04-25 10:30:01.824\u001b[0m | \u001b[34m\u001b[1mDEBUG   \u001b[0m | \u001b[36mdesci_sense.shared_functions.web_extractors.citoid\u001b[0m:\u001b[36mfetch_citation\u001b[0m:\u001b[36m54\u001b[0m - \u001b[34m\u001b[1mfetching citoid data for: https://www.kas.de/en/european-data-summit\u001b[0m\n",
      "\u001b[32m2024-04-25 10:30:04.791\u001b[0m | \u001b[34m\u001b[1mDEBUG   \u001b[0m | \u001b[36mdesci_sense.shared_functions.web_extractors.citoid\u001b[0m:\u001b[36mfetch_citation\u001b[0m:\u001b[36m54\u001b[0m - \u001b[34m\u001b[1mfetching citoid data for: https://twitter.com/PKuzev/status/1779019625742626995\u001b[0m\n",
      "\u001b[32m2024-04-25 10:30:05.042\u001b[0m | \u001b[34m\u001b[1mDEBUG   \u001b[0m | \u001b[36mdesci_sense.shared_functions.web_extractors.citoid\u001b[0m:\u001b[36mfetch_citation\u001b[0m:\u001b[36m54\u001b[0m - \u001b[34m\u001b[1mfetching citoid data for: https://twitter.com/1Br0wn/status/1778887301378068558/photo/1\u001b[0m\n",
      "\u001b[32m2024-04-25 10:30:05.274\u001b[0m | \u001b[34m\u001b[1mDEBUG   \u001b[0m | \u001b[36mdesci_sense.shared_functions.web_extractors.citoid\u001b[0m:\u001b[36mfetch_citation\u001b[0m:\u001b[36m54\u001b[0m - \u001b[34m\u001b[1mfetching citoid data for: https://twitter.com/ITVNewsPolitics/status/1778796578792251747\u001b[0m\n",
      "\u001b[32m2024-04-25 10:30:05.498\u001b[0m | \u001b[34m\u001b[1mDEBUG   \u001b[0m | \u001b[36mdesci_sense.shared_functions.web_extractors.citoid\u001b[0m:\u001b[36mfetch_citation\u001b[0m:\u001b[36m54\u001b[0m - \u001b[34m\u001b[1mfetching citoid data for: https://www.ft.com/content/28ac1860-1011-4fa3-97f2-5189b5589fed\u001b[0m\n",
      "\u001b[32m2024-04-25 10:30:07.617\u001b[0m | \u001b[34m\u001b[1mDEBUG   \u001b[0m | \u001b[36mdesci_sense.shared_functions.web_extractors.citoid\u001b[0m:\u001b[36mfetch_citation\u001b[0m:\u001b[36m54\u001b[0m - \u001b[34m\u001b[1mfetching citoid data for: https://twitter.com/JAldrichPL/status/1778834875736371515\u001b[0m\n",
      "\u001b[32m2024-04-25 10:30:07.844\u001b[0m | \u001b[34m\u001b[1mDEBUG   \u001b[0m | \u001b[36mdesci_sense.shared_functions.web_extractors.citoid\u001b[0m:\u001b[36mfetch_citation\u001b[0m:\u001b[36m54\u001b[0m - \u001b[34m\u001b[1mfetching citoid data for: https://www.youtube.com/watch?v=HWWMO5fjpUs\u001b[0m\n",
      "\u001b[32m2024-04-25 10:30:09.688\u001b[0m | \u001b[34m\u001b[1mDEBUG   \u001b[0m | \u001b[36mdesci_sense.shared_functions.web_extractors.citoid\u001b[0m:\u001b[36mfetch_citation\u001b[0m:\u001b[36m54\u001b[0m - \u001b[34m\u001b[1mfetching citoid data for: https://www.axios.com/2024/04/10/ai-artificial-intelligence-china-eu-vestager\u001b[0m\n",
      "\u001b[32m2024-04-25 10:30:09.866\u001b[0m | \u001b[34m\u001b[1mDEBUG   \u001b[0m | \u001b[36mdesci_sense.shared_functions.web_extractors.citoid\u001b[0m:\u001b[36mfetch_citation\u001b[0m:\u001b[36m54\u001b[0m - \u001b[34m\u001b[1mfetching citoid data for: https://twitter.com/KelkooPolicy/status/1778710424294150343\u001b[0m\n",
      "\u001b[32m2024-04-25 10:30:11.005\u001b[0m | \u001b[34m\u001b[1mDEBUG   \u001b[0m | \u001b[36mdesci_sense.shared_functions.web_extractors.citoid\u001b[0m:\u001b[36mfetch_citation\u001b[0m:\u001b[36m54\u001b[0m - \u001b[34m\u001b[1mfetching citoid data for: https://www.euractiv.com/section/digital/news/faced-with-an-unprecedented-number-of-digital-regulations-council-mulls-implementation-call/\u001b[0m\n",
      "\u001b[32m2024-04-25 10:31:16.146\u001b[0m | \u001b[34m\u001b[1mDEBUG   \u001b[0m | \u001b[36mdesci_sense.shared_functions.web_extractors.citoid\u001b[0m:\u001b[36mfetch_citation\u001b[0m:\u001b[36m54\u001b[0m - \u001b[34m\u001b[1mfetching citoid data for: https://www.theguardian.com/society/2024/apr/12/carers-allowance-benefit-error-30p-a-week-dwp\u001b[0m\n",
      "\u001b[32m2024-04-25 10:31:17.364\u001b[0m | \u001b[34m\u001b[1mDEBUG   \u001b[0m | \u001b[36mdesci_sense.shared_functions.web_extractors.citoid\u001b[0m:\u001b[36mfetch_citation\u001b[0m:\u001b[36m54\u001b[0m - \u001b[34m\u001b[1mfetching citoid data for: https://twitter.com/HalSinger/status/1778553827672662473\u001b[0m\n",
      "\u001b[32m2024-04-25 10:31:17.654\u001b[0m | \u001b[34m\u001b[1mDEBUG   \u001b[0m | \u001b[36mdesci_sense.shared_functions.web_extractors.citoid\u001b[0m:\u001b[36mfetch_citation\u001b[0m:\u001b[36m54\u001b[0m - \u001b[34m\u001b[1mfetching citoid data for: https://twitter.com/gateklons/status/1778477958790807562\u001b[0m\n"
     ]
    }
   ],
   "source": [
    "# We move through the dataset and label any thing we can using citoid before doing it manually\n",
    "# Assuming the fetch_citation function is defined as before and it returns None if the citation is not found\n",
    "\n",
    "def check_publication_and_store_metadata(row):\n",
    "    metadata_columns = {}\n",
    "    # Iterate over each URL in the 'urls' list within the row\n",
    "    for i, url in enumerate(row['urls']):\n",
    "        citation = fetch_citation(url)\n",
    "        # Check if the citation is valid (not an error message)\n",
    "        if citation and 'DOI' in citation:\n",
    "            # Store the metadata in a dictionary with a dynamic key based on the URL index\n",
    "            metadata_columns[f'url_{i+1}_meta_info'] = citation\n",
    "        else:\n",
    "            # If no valid citation was found, use None or an empty dict, based on your preference\n",
    "            metadata_columns[f'url_{i+1}_meta_info'] = None\n",
    "    \n",
    "    # If no valid citations were found at all, set 'publication' to 0\n",
    "    if not any(metadata_columns.values()):\n",
    "        row['publication'] = 0\n",
    "    else:\n",
    "        # If at least one valid citation was found, set 'publication' to 1\n",
    "        row['publication'] = 1\n",
    "        # Update the row with the metadata columns\n",
    "        row.update(metadata_columns)\n",
    "    \n",
    "    return row\n",
    "\n",
    "\n",
    "\n",
    "# Apply the function to each row\n",
    "df = df.apply(check_publication_and_store_metadata, axis=1)\n"
   ]
  },
  {
   "cell_type": "code",
   "execution_count": 24,
   "metadata": {},
   "outputs": [
    {
     "name": "stderr",
     "output_type": "stream",
     "text": [
      "/var/folders/j3/1_zy_b4s2517g8j_rjjdhd4h0000gn/T/ipykernel_50879/2709878670.py:2: SettingWithCopyWarning: \n",
      "A value is trying to be set on a copy of a slice from a DataFrame\n",
      "\n",
      "See the caveats in the documentation: https://pandas.pydata.org/pandas-docs/stable/user_guide/indexing.html#returning-a-view-versus-a-copy\n",
      "  df['True Label'][i] = \"research\"\n",
      "/var/folders/j3/1_zy_b4s2517g8j_rjjdhd4h0000gn/T/ipykernel_50879/2709878670.py:2: SettingWithCopyWarning: \n",
      "A value is trying to be set on a copy of a slice from a DataFrame\n",
      "\n",
      "See the caveats in the documentation: https://pandas.pydata.org/pandas-docs/stable/user_guide/indexing.html#returning-a-view-versus-a-copy\n",
      "  df['True Label'][i] = \"research\"\n",
      "/var/folders/j3/1_zy_b4s2517g8j_rjjdhd4h0000gn/T/ipykernel_50879/2709878670.py:2: SettingWithCopyWarning: \n",
      "A value is trying to be set on a copy of a slice from a DataFrame\n",
      "\n",
      "See the caveats in the documentation: https://pandas.pydata.org/pandas-docs/stable/user_guide/indexing.html#returning-a-view-versus-a-copy\n",
      "  df['True Label'][i] = \"research\"\n",
      "/var/folders/j3/1_zy_b4s2517g8j_rjjdhd4h0000gn/T/ipykernel_50879/2709878670.py:2: SettingWithCopyWarning: \n",
      "A value is trying to be set on a copy of a slice from a DataFrame\n",
      "\n",
      "See the caveats in the documentation: https://pandas.pydata.org/pandas-docs/stable/user_guide/indexing.html#returning-a-view-versus-a-copy\n",
      "  df['True Label'][i] = \"research\"\n",
      "/var/folders/j3/1_zy_b4s2517g8j_rjjdhd4h0000gn/T/ipykernel_50879/2709878670.py:2: SettingWithCopyWarning: \n",
      "A value is trying to be set on a copy of a slice from a DataFrame\n",
      "\n",
      "See the caveats in the documentation: https://pandas.pydata.org/pandas-docs/stable/user_guide/indexing.html#returning-a-view-versus-a-copy\n",
      "  df['True Label'][i] = \"research\"\n",
      "/var/folders/j3/1_zy_b4s2517g8j_rjjdhd4h0000gn/T/ipykernel_50879/2709878670.py:2: SettingWithCopyWarning: \n",
      "A value is trying to be set on a copy of a slice from a DataFrame\n",
      "\n",
      "See the caveats in the documentation: https://pandas.pydata.org/pandas-docs/stable/user_guide/indexing.html#returning-a-view-versus-a-copy\n",
      "  df['True Label'][i] = \"research\"\n",
      "/var/folders/j3/1_zy_b4s2517g8j_rjjdhd4h0000gn/T/ipykernel_50879/2709878670.py:2: SettingWithCopyWarning: \n",
      "A value is trying to be set on a copy of a slice from a DataFrame\n",
      "\n",
      "See the caveats in the documentation: https://pandas.pydata.org/pandas-docs/stable/user_guide/indexing.html#returning-a-view-versus-a-copy\n",
      "  df['True Label'][i] = \"research\"\n",
      "/var/folders/j3/1_zy_b4s2517g8j_rjjdhd4h0000gn/T/ipykernel_50879/2709878670.py:2: SettingWithCopyWarning: \n",
      "A value is trying to be set on a copy of a slice from a DataFrame\n",
      "\n",
      "See the caveats in the documentation: https://pandas.pydata.org/pandas-docs/stable/user_guide/indexing.html#returning-a-view-versus-a-copy\n",
      "  df['True Label'][i] = \"research\"\n",
      "/var/folders/j3/1_zy_b4s2517g8j_rjjdhd4h0000gn/T/ipykernel_50879/2709878670.py:2: SettingWithCopyWarning: \n",
      "A value is trying to be set on a copy of a slice from a DataFrame\n",
      "\n",
      "See the caveats in the documentation: https://pandas.pydata.org/pandas-docs/stable/user_guide/indexing.html#returning-a-view-versus-a-copy\n",
      "  df['True Label'][i] = \"research\"\n",
      "/var/folders/j3/1_zy_b4s2517g8j_rjjdhd4h0000gn/T/ipykernel_50879/2709878670.py:2: SettingWithCopyWarning: \n",
      "A value is trying to be set on a copy of a slice from a DataFrame\n",
      "\n",
      "See the caveats in the documentation: https://pandas.pydata.org/pandas-docs/stable/user_guide/indexing.html#returning-a-view-versus-a-copy\n",
      "  df['True Label'][i] = \"research\"\n",
      "/var/folders/j3/1_zy_b4s2517g8j_rjjdhd4h0000gn/T/ipykernel_50879/2709878670.py:2: SettingWithCopyWarning: \n",
      "A value is trying to be set on a copy of a slice from a DataFrame\n",
      "\n",
      "See the caveats in the documentation: https://pandas.pydata.org/pandas-docs/stable/user_guide/indexing.html#returning-a-view-versus-a-copy\n",
      "  df['True Label'][i] = \"research\"\n",
      "/var/folders/j3/1_zy_b4s2517g8j_rjjdhd4h0000gn/T/ipykernel_50879/2709878670.py:2: SettingWithCopyWarning: \n",
      "A value is trying to be set on a copy of a slice from a DataFrame\n",
      "\n",
      "See the caveats in the documentation: https://pandas.pydata.org/pandas-docs/stable/user_guide/indexing.html#returning-a-view-versus-a-copy\n",
      "  df['True Label'][i] = \"research\"\n",
      "/var/folders/j3/1_zy_b4s2517g8j_rjjdhd4h0000gn/T/ipykernel_50879/2709878670.py:2: SettingWithCopyWarning: \n",
      "A value is trying to be set on a copy of a slice from a DataFrame\n",
      "\n",
      "See the caveats in the documentation: https://pandas.pydata.org/pandas-docs/stable/user_guide/indexing.html#returning-a-view-versus-a-copy\n",
      "  df['True Label'][i] = \"research\"\n",
      "/var/folders/j3/1_zy_b4s2517g8j_rjjdhd4h0000gn/T/ipykernel_50879/2709878670.py:2: SettingWithCopyWarning: \n",
      "A value is trying to be set on a copy of a slice from a DataFrame\n",
      "\n",
      "See the caveats in the documentation: https://pandas.pydata.org/pandas-docs/stable/user_guide/indexing.html#returning-a-view-versus-a-copy\n",
      "  df['True Label'][i] = \"research\"\n",
      "/var/folders/j3/1_zy_b4s2517g8j_rjjdhd4h0000gn/T/ipykernel_50879/2709878670.py:2: SettingWithCopyWarning: \n",
      "A value is trying to be set on a copy of a slice from a DataFrame\n",
      "\n",
      "See the caveats in the documentation: https://pandas.pydata.org/pandas-docs/stable/user_guide/indexing.html#returning-a-view-versus-a-copy\n",
      "  df['True Label'][i] = \"research\"\n",
      "/var/folders/j3/1_zy_b4s2517g8j_rjjdhd4h0000gn/T/ipykernel_50879/2709878670.py:2: SettingWithCopyWarning: \n",
      "A value is trying to be set on a copy of a slice from a DataFrame\n",
      "\n",
      "See the caveats in the documentation: https://pandas.pydata.org/pandas-docs/stable/user_guide/indexing.html#returning-a-view-versus-a-copy\n",
      "  df['True Label'][i] = \"research\"\n",
      "/var/folders/j3/1_zy_b4s2517g8j_rjjdhd4h0000gn/T/ipykernel_50879/2709878670.py:2: SettingWithCopyWarning: \n",
      "A value is trying to be set on a copy of a slice from a DataFrame\n",
      "\n",
      "See the caveats in the documentation: https://pandas.pydata.org/pandas-docs/stable/user_guide/indexing.html#returning-a-view-versus-a-copy\n",
      "  df['True Label'][i] = \"research\"\n",
      "/var/folders/j3/1_zy_b4s2517g8j_rjjdhd4h0000gn/T/ipykernel_50879/2709878670.py:2: SettingWithCopyWarning: \n",
      "A value is trying to be set on a copy of a slice from a DataFrame\n",
      "\n",
      "See the caveats in the documentation: https://pandas.pydata.org/pandas-docs/stable/user_guide/indexing.html#returning-a-view-versus-a-copy\n",
      "  df['True Label'][i] = \"research\"\n",
      "/var/folders/j3/1_zy_b4s2517g8j_rjjdhd4h0000gn/T/ipykernel_50879/2709878670.py:2: SettingWithCopyWarning: \n",
      "A value is trying to be set on a copy of a slice from a DataFrame\n",
      "\n",
      "See the caveats in the documentation: https://pandas.pydata.org/pandas-docs/stable/user_guide/indexing.html#returning-a-view-versus-a-copy\n",
      "  df['True Label'][i] = \"research\"\n",
      "/var/folders/j3/1_zy_b4s2517g8j_rjjdhd4h0000gn/T/ipykernel_50879/2709878670.py:2: SettingWithCopyWarning: \n",
      "A value is trying to be set on a copy of a slice from a DataFrame\n",
      "\n",
      "See the caveats in the documentation: https://pandas.pydata.org/pandas-docs/stable/user_guide/indexing.html#returning-a-view-versus-a-copy\n",
      "  df['True Label'][i] = \"research\"\n",
      "/var/folders/j3/1_zy_b4s2517g8j_rjjdhd4h0000gn/T/ipykernel_50879/2709878670.py:2: SettingWithCopyWarning: \n",
      "A value is trying to be set on a copy of a slice from a DataFrame\n",
      "\n",
      "See the caveats in the documentation: https://pandas.pydata.org/pandas-docs/stable/user_guide/indexing.html#returning-a-view-versus-a-copy\n",
      "  df['True Label'][i] = \"research\"\n",
      "/var/folders/j3/1_zy_b4s2517g8j_rjjdhd4h0000gn/T/ipykernel_50879/2709878670.py:2: SettingWithCopyWarning: \n",
      "A value is trying to be set on a copy of a slice from a DataFrame\n",
      "\n",
      "See the caveats in the documentation: https://pandas.pydata.org/pandas-docs/stable/user_guide/indexing.html#returning-a-view-versus-a-copy\n",
      "  df['True Label'][i] = \"research\"\n",
      "/var/folders/j3/1_zy_b4s2517g8j_rjjdhd4h0000gn/T/ipykernel_50879/2709878670.py:2: SettingWithCopyWarning: \n",
      "A value is trying to be set on a copy of a slice from a DataFrame\n",
      "\n",
      "See the caveats in the documentation: https://pandas.pydata.org/pandas-docs/stable/user_guide/indexing.html#returning-a-view-versus-a-copy\n",
      "  df['True Label'][i] = \"research\"\n",
      "/var/folders/j3/1_zy_b4s2517g8j_rjjdhd4h0000gn/T/ipykernel_50879/2709878670.py:2: SettingWithCopyWarning: \n",
      "A value is trying to be set on a copy of a slice from a DataFrame\n",
      "\n",
      "See the caveats in the documentation: https://pandas.pydata.org/pandas-docs/stable/user_guide/indexing.html#returning-a-view-versus-a-copy\n",
      "  df['True Label'][i] = \"research\"\n",
      "/var/folders/j3/1_zy_b4s2517g8j_rjjdhd4h0000gn/T/ipykernel_50879/2709878670.py:2: SettingWithCopyWarning: \n",
      "A value is trying to be set on a copy of a slice from a DataFrame\n",
      "\n",
      "See the caveats in the documentation: https://pandas.pydata.org/pandas-docs/stable/user_guide/indexing.html#returning-a-view-versus-a-copy\n",
      "  df['True Label'][i] = \"research\"\n"
     ]
    }
   ],
   "source": [
    "for i in df[df['publication'] == 1].index:\n",
    "    df['True Label'][i] = \"research\""
   ]
  },
  {
   "cell_type": "code",
   "execution_count": 25,
   "metadata": {},
   "outputs": [
    {
     "name": "stdout",
     "output_type": "stream",
     "text": [
      "                      id    created_at           account_id         username  \\\n",
      "104  1772672269531090944  1.711473e+12   890345761690595328     nickmvincent   \n",
      "105  1770937449428209920  1.711059e+12   890345761690595328     nickmvincent   \n",
      "146  1780609317906854400  1.713365e+12  1006797311593377792         LChoshen   \n",
      "149  1780200317088387328  1.713268e+12  1006797311593377792         LChoshen   \n",
      "154  1778788855749255168  1.712931e+12  1006797311593377792         LChoshen   \n",
      "179  1775919361179758848  1.712247e+12  1006797311593377792         LChoshen   \n",
      "180  1775919359267127552  1.712247e+12  1006797311593377792         LChoshen   \n",
      "184  1775130764717490688  1.712059e+12  1006797311593377792         LChoshen   \n",
      "185  1775130763157237760  1.712059e+12  1006797311593377792         LChoshen   \n",
      "186  1775107378381312000  1.712054e+12  1006797311593377792         LChoshen   \n",
      "198  1780464443052232960  1.713331e+12             91583793          yoginho   \n",
      "215  1779037669365854208  1.712991e+12             91583793          yoginho   \n",
      "225  1778285772132491520  1.712811e+12             91583793          yoginho   \n",
      "347  1762208250622308608  1.708978e+12           2787254215        lizilla93   \n",
      "354  1762208240019124480  1.708978e+12           2787254215        lizilla93   \n",
      "361  1742978827528331776  1.704394e+12           2787254215        lizilla93   \n",
      "366  1742978822243598848  1.704394e+12           2787254215        lizilla93   \n",
      "368  1711509643133071616  1.696891e+12           2787254215        lizilla93   \n",
      "375  1711509627794534400  1.696891e+12           2787254215        lizilla93   \n",
      "379  1711509619703767296  1.696891e+12           2787254215        lizilla93   \n",
      "407  1775825226086952960  1.712225e+12            217942278  danwilliamsphil   \n",
      "454  1774356253810070016  1.711874e+12  1290793547122302976       CriticalAI   \n",
      "479  1775796043675762688  1.712218e+12            561750764   BrettButtliere   \n",
      "570  1778463700678041600  1.712854e+12            322460769        yoavartzi   \n",
      "608  1763289402346762496  1.709236e+12            322460769        yoavartzi   \n",
      "\n",
      "                                                  urls  \\\n",
      "104                 [https://arxiv.org/abs/2310.02238]   \n",
      "105                 [https://arxiv.org/abs/2403.13073]   \n",
      "146                 [https://arxiv.org/abs/2404.10719]   \n",
      "149  [https://arxiv.org/abs/2404.08760, https://twi...   \n",
      "154                 [https://arxiv.org/abs/2402.16902]   \n",
      "179                 [https://arxiv.org/abs/2303.03846]   \n",
      "180  [https://arxiv.org/abs/2404.02204, https://twi...   \n",
      "184                 [https://arxiv.org/abs/2308.04014]   \n",
      "185                 [https://arxiv.org/abs/2404.00213]   \n",
      "186  [https://arxiv.org/abs/2404.00459, https://twi...   \n",
      "198  [https://arxiv.org/abs/2307.07515, https://twi...   \n",
      "215  [https://arxiv.org/abs/2307.07515, https://twi...   \n",
      "225  [https://arxiv.org/abs/2307.07515, https://twi...   \n",
      "347  [https://research.arcadiascience.com/pub/datas...   \n",
      "354  [https://research.arcadiascience.com/pub/data-...   \n",
      "361  [https://research.arcadiascience.com/pub/open-...   \n",
      "366  [https://research.arcadiascience.com/pub/open-...   \n",
      "368  [https://research.arcadiascience.com/pub/resul...   \n",
      "375  [https://research.arcadiascience.com/pub/resou...   \n",
      "379  [https://research.arcadiascience.com/pub/resul...   \n",
      "407  [https://www.cambridge.org/core/journals/econo...   \n",
      "454  [https://arxiv.org/abs/2111.15366, https://twi...   \n",
      "479  [https://www.nature.com/articles/s41562-023-01...   \n",
      "570  [https://arxiv.org/abs/2402.17793, https://twi...   \n",
      "608  [https://arxiv.org/abs/2402.17793, https://twi...   \n",
      "\n",
      "                                                  Text       server  \\\n",
      "104       Seems very exciting: https://t.co/CLZZJ6NcRZ  twitter.com   \n",
      "105  More in the paper, which you can find here (at...  twitter.com   \n",
      "146  Is DPO Superior to PPO for LLM Alignment? No.\\...  twitter.com   \n",
      "149  It won't surprise you to hear LLMs favor speci...  twitter.com   \n",
      "154  @NVIDIAAI @nbasyl_tw @chienyi_wang @yin_hongxu...  twitter.com   \n",
      "179  You might have heard the long debate showing o...  twitter.com   \n",
      "180  \"Only large models have emergent abilities\"\\nT...  twitter.com   \n",
      "184  or the continual pretraining e.g. \\nhttps://t....  twitter.com   \n",
      "185  Papers keep on suggesting training on new fact...  twitter.com   \n",
      "186  So tokenization doesn't matter?\\nWhat about fo...  twitter.com   \n",
      "198  The brainwash is working.\\n\\n#AI is #Algorithm...  twitter.com   \n",
      "215  Well, duh.\\n\\n#AI is #AlgorithmicMimicry\\nhttp...  twitter.com   \n",
      "225  \"Causal AI\" is not really causal. Just another...  twitter.com   \n",
      "347  Read our pub to find more details about this w...  twitter.com   \n",
      "354  Additionally previously generated a long-read ...  twitter.com   \n",
      "361  Reply with feedback here or make public commen...  twitter.com   \n",
      "366  Since writing this, I've found others studying...  twitter.com   \n",
      "368  We welcome any feedback on the pub through pub...  twitter.com   \n",
      "375  We then used our recently developed #ProteinCa...  twitter.com   \n",
      "379  The enzymes for polyphosphate formation are pr...  twitter.com   \n",
      "407  I've been trying (with limited success) to bui...  twitter.com   \n",
      "454  A nice @TechCrunch discussion re inadequacy of...  twitter.com   \n",
      "479  the thing this paper from @JProtzko @BrianNose...  twitter.com   \n",
      "570  We notice similar trends, @anne_youw put up a ...  twitter.com   \n",
      "608  And... I forgot the link 🤦‍♂️\\nhttps://t.co/SP...  twitter.com   \n",
      "\n",
      "                                               postURL  ref_count  \\\n",
      "104  https://twitter.com/nickmvincent/status/177267...          1   \n",
      "105  https://twitter.com/nickmvincent/status/177093...          1   \n",
      "146  https://twitter.com/LChoshen/status/1780609317...          1   \n",
      "149  https://twitter.com/LChoshen/status/1780200317...          2   \n",
      "154  https://twitter.com/LChoshen/status/1778788855...          1   \n",
      "179  https://twitter.com/LChoshen/status/1775919361...          1   \n",
      "180  https://twitter.com/LChoshen/status/1775919359...          2   \n",
      "184  https://twitter.com/LChoshen/status/1775130764...          1   \n",
      "185  https://twitter.com/LChoshen/status/1775130763...          1   \n",
      "186  https://twitter.com/LChoshen/status/1775107378...          2   \n",
      "198  https://twitter.com/yoginho/status/17804644430...          2   \n",
      "215  https://twitter.com/yoginho/status/17790376693...          2   \n",
      "225  https://twitter.com/yoginho/status/17782857721...          2   \n",
      "347  https://twitter.com/lizilla93/status/176220825...          2   \n",
      "354  https://twitter.com/lizilla93/status/176220824...          1   \n",
      "361  https://twitter.com/lizilla93/status/174297882...          1   \n",
      "366  https://twitter.com/lizilla93/status/174297882...          2   \n",
      "368  https://twitter.com/lizilla93/status/171150964...          3   \n",
      "375  https://twitter.com/lizilla93/status/171150962...          2   \n",
      "379  https://twitter.com/lizilla93/status/171150961...          1   \n",
      "407  https://twitter.com/danwilliamsphil/status/177...          4   \n",
      "454  https://twitter.com/CriticalAI/status/17743562...          2   \n",
      "479  https://twitter.com/BrettButtliere/status/1775...          1   \n",
      "570  https://twitter.com/yoavartzi/status/177846370...          2   \n",
      "608  https://twitter.com/yoavartzi/status/176328940...          3   \n",
      "\n",
      "     publication True Label  \n",
      "104            1   research  \n",
      "105            1   research  \n",
      "146            1   research  \n",
      "149            1   research  \n",
      "154            1   research  \n",
      "179            1   research  \n",
      "180            1   research  \n",
      "184            1   research  \n",
      "185            1   research  \n",
      "186            1   research  \n",
      "198            1   research  \n",
      "215            1   research  \n",
      "225            1   research  \n",
      "347            1   research  \n",
      "354            1   research  \n",
      "361            1   research  \n",
      "366            1   research  \n",
      "368            1   research  \n",
      "375            1   research  \n",
      "379            1   research  \n",
      "407            1   research  \n",
      "454            1   research  \n",
      "479            1   research  \n",
      "570            1   research  \n",
      "608            1   research  \n"
     ]
    }
   ],
   "source": [
    "print(df[df['publication'] == 1])"
   ]
  },
  {
   "attachments": {},
   "cell_type": "markdown",
   "metadata": {},
   "source": [
    "## Now we manually label the tweets"
   ]
  },
  {
   "cell_type": "code",
   "execution_count": 39,
   "metadata": {},
   "outputs": [
    {
     "name": "stdout",
     "output_type": "stream",
     "text": [
      "                      id    created_at  account_id  username  \\\n",
      "0    1780618156832109056  1.713367e+12    14349894  mbauwens   \n",
      "1    1780617597089669120  1.713367e+12    14349894  mbauwens   \n",
      "2    1780617135049322496  1.713367e+12    14349894  mbauwens   \n",
      "3    1780616454812905984  1.713367e+12    14349894  mbauwens   \n",
      "4    1780608301534789632  1.713365e+12    14349894  mbauwens   \n",
      "..                   ...           ...         ...       ...   \n",
      "705  1778714568895729920  1.712914e+12    17900290    1Br0wn   \n",
      "706  1778710540912562432  1.712913e+12    17900290    1Br0wn   \n",
      "707  1778698871310348544  1.712910e+12    17900290    1Br0wn   \n",
      "708  1778690751909470464  1.712908e+12    17900290    1Br0wn   \n",
      "709  1778479139709710848  1.712857e+12    17900290    1Br0wn   \n",
      "\n",
      "                                                  urls  \\\n",
      "0    [https://en.wikipedia.org/wiki/Epic_of_evoluti...   \n",
      "1    [https://wiki.p2pfoundation.net/Category:Therm...   \n",
      "2    [https://lifehacker.com/tech/ai-is-running-out...   \n",
      "3            [https://www.journaloffreespeechlaw.org/]   \n",
      "4    [https://wiki.p2pfoundation.net/Andrew_Targows...   \n",
      "..                                                 ...   \n",
      "705  [https://www.axios.com/2024/04/10/ai-artificia...   \n",
      "706  [https://www.euractiv.com/section/digital/news...   \n",
      "707  [https://www.theguardian.com/society/2024/apr/...   \n",
      "708  [https://twitter.com/HalSinger/status/17785538...   \n",
      "709  [https://twitter.com/gateklons/status/17784779...   \n",
      "\n",
      "                                                  Text       server  \\\n",
      "0    A concept you should know about:\\n\\n* The epic...  twitter.com   \n",
      "1    Quotation as selected  by The Alternative:\\n\\n...  twitter.com   \n",
      "2    AI is running out of internet:\\n\\n\"AI is runni...  twitter.com   \n",
      "3    * Journal of Free Speech Law,\\n\\nhttps://t.co/...  twitter.com   \n",
      "4    Articles from our 'Civilizational Analysis' va...  twitter.com   \n",
      "..                                                 ...          ...   \n",
      "705  \"I think they know exactly what they do,\" @Ves...  twitter.com   \n",
      "706  \"The Council of the EU is preparing a call to ...  twitter.com   \n",
      "707  Whatever happened to de minimis non curat lex?...  twitter.com   \n",
      "708  Deaton’s book 'concludes that “Joe Biden does ...  twitter.com   \n",
      "709  Exactly as intended! 🥳 “EU firms decreased dat...  twitter.com   \n",
      "\n",
      "                                               postURL  ref_count  \\\n",
      "0    https://twitter.com/mbauwens/status/1780618156...          2   \n",
      "1    https://twitter.com/mbauwens/status/1780617597...          1   \n",
      "2    https://twitter.com/mbauwens/status/1780617135...          1   \n",
      "3    https://twitter.com/mbauwens/status/1780616454...          1   \n",
      "4    https://twitter.com/mbauwens/status/1780608301...          1   \n",
      "..                                                 ...        ...   \n",
      "705  https://twitter.com/1Br0wn/status/177871456889...          2   \n",
      "706  https://twitter.com/1Br0wn/status/177871054091...          1   \n",
      "707  https://twitter.com/1Br0wn/status/177869887131...          1   \n",
      "708  https://twitter.com/1Br0wn/status/177869075190...          1   \n",
      "709  https://twitter.com/1Br0wn/status/177847913970...          1   \n",
      "\n",
      "     publication    True Label  \n",
      "0              0  not-research  \n",
      "1              0  not-research  \n",
      "2              0  not-research  \n",
      "3              0  not-research  \n",
      "4              0  not-research  \n",
      "..           ...           ...  \n",
      "705            0  not-research  \n",
      "706            0  not-research  \n",
      "707            0   thread-post  \n",
      "708            0  not-research  \n",
      "709            0  not-research  \n",
      "\n",
      "[710 rows x 11 columns]\n"
     ]
    }
   ],
   "source": [
    "# We iterate through rows with publication value 0 and assign True Label them manually \n",
    "from IPython.display import clear_output\n",
    "import time  # Import the time module\n",
    "\n",
    "#df['True Label'] = ''\n",
    "\n",
    "for i in df[df['True Label'] == ''].index:\n",
    "    print(f\"Toot number {i}: {df['Text'][i]}\")\n",
    "    print(\"-----------------------\")\n",
    "    username = df['username'][i]\n",
    "    row = df_handles[df_handles['username']== username]\n",
    "    print(f\" authored by {row['name']} info: {row['info']}\")\n",
    "    print(f\"postURL {df['postURL'][i]}\")\n",
    "    print('++++++++++++++++++++++++++++')\n",
    "    # Flush the output to ensure the print statements are rendered\n",
    "    sys.stdout.flush()\n",
    "    time.sleep(0.5)  # Pause for a short time (e.g., 0.5 seconds)\n",
    "    l = 4\n",
    "    while l not in [0, 1,2,3]:\n",
    "        try:\n",
    "            l = int(input(\"Insert label (0 or 1): \"))\n",
    "            sys.stdout.flush()\n",
    "            time.sleep(0.5)  # Pause for a short time (e.g., 0.5 seconds)\n",
    "        except:\n",
    "            print(\"Bad input, try again\")\n",
    "            sys.stdout.flush()\n",
    "            time.sleep(0.5)  # Pause for a short time (e.g., 0.5 seconds)\n",
    "        \n",
    "    if l == 0:      \n",
    "        df['True Label'][i] = 'research'\n",
    "        clear_output(wait=True)\n",
    "    elif l==1:\n",
    "        df['True Label'][i] = 'not_research'\n",
    "        clear_output(wait=True)\n",
    "    elif l==2:\n",
    "        df['True Label'][i] = 'thread-post'\n",
    "        clear_output(wait=True)\n",
    "    else:\n",
    "        break\n",
    "\n",
    "print(df)"
   ]
  },
  {
   "cell_type": "code",
   "execution_count": 44,
   "metadata": {},
   "outputs": [],
   "source": [
    "df_labeled = df[df['True Label']!='thread-post']"
   ]
  },
  {
   "cell_type": "code",
   "execution_count": null,
   "metadata": {},
   "outputs": [],
   "source": []
  },
  {
   "cell_type": "code",
   "execution_count": 50,
   "metadata": {},
   "outputs": [
    {
     "name": "stdout",
     "output_type": "stream",
     "text": [
      "                      id    created_at  account_id  username  \\\n",
      "0    1780618156832109056  1.713367e+12    14349894  mbauwens   \n",
      "1    1780617597089669120  1.713367e+12    14349894  mbauwens   \n",
      "2    1780617135049322496  1.713367e+12    14349894  mbauwens   \n",
      "3    1780616454812905984  1.713367e+12    14349894  mbauwens   \n",
      "4    1780608301534789632  1.713365e+12    14349894  mbauwens   \n",
      "..                   ...           ...         ...       ...   \n",
      "702  1778872093481816576  1.712951e+12    17900290    1Br0wn   \n",
      "705  1778714568895729920  1.712914e+12    17900290    1Br0wn   \n",
      "706  1778710540912562432  1.712913e+12    17900290    1Br0wn   \n",
      "708  1778690751909470464  1.712908e+12    17900290    1Br0wn   \n",
      "709  1778479139709710848  1.712857e+12    17900290    1Br0wn   \n",
      "\n",
      "                                                  urls  \\\n",
      "0    [https://en.wikipedia.org/wiki/Epic_of_evoluti...   \n",
      "1    [https://wiki.p2pfoundation.net/Category:Therm...   \n",
      "2    [https://lifehacker.com/tech/ai-is-running-out...   \n",
      "3            [https://www.journaloffreespeechlaw.org/]   \n",
      "4    [https://wiki.p2pfoundation.net/Andrew_Targows...   \n",
      "..                                                 ...   \n",
      "702  [https://www.ft.com/content/28ac1860-1011-4fa3...   \n",
      "705  [https://www.axios.com/2024/04/10/ai-artificia...   \n",
      "706  [https://www.euractiv.com/section/digital/news...   \n",
      "708  [https://twitter.com/HalSinger/status/17785538...   \n",
      "709  [https://twitter.com/gateklons/status/17784779...   \n",
      "\n",
      "                                                  Text       server  \\\n",
      "0    A concept you should know about:\\n\\n* The epic...  twitter.com   \n",
      "1    Quotation as selected  by The Alternative:\\n\\n...  twitter.com   \n",
      "2    AI is running out of internet:\\n\\n\"AI is runni...  twitter.com   \n",
      "3    * Journal of Free Speech Law,\\n\\nhttps://t.co/...  twitter.com   \n",
      "4    Articles from our 'Civilizational Analysis' va...  twitter.com   \n",
      "..                                                 ...          ...   \n",
      "702  The @FT is generally appropriately sceptical a...  twitter.com   \n",
      "705  \"I think they know exactly what they do,\" @Ves...  twitter.com   \n",
      "706  \"The Council of the EU is preparing a call to ...  twitter.com   \n",
      "708  Deaton’s book 'concludes that “Joe Biden does ...  twitter.com   \n",
      "709  Exactly as intended! 🥳 “EU firms decreased dat...  twitter.com   \n",
      "\n",
      "                                               postURL  ref_count  \\\n",
      "0    https://twitter.com/mbauwens/status/1780618156...          2   \n",
      "1    https://twitter.com/mbauwens/status/1780617597...          1   \n",
      "2    https://twitter.com/mbauwens/status/1780617135...          1   \n",
      "3    https://twitter.com/mbauwens/status/1780616454...          1   \n",
      "4    https://twitter.com/mbauwens/status/1780608301...          1   \n",
      "..                                                 ...        ...   \n",
      "702  https://twitter.com/1Br0wn/status/177887209348...          1   \n",
      "705  https://twitter.com/1Br0wn/status/177871456889...          2   \n",
      "706  https://twitter.com/1Br0wn/status/177871054091...          1   \n",
      "708  https://twitter.com/1Br0wn/status/177869075190...          1   \n",
      "709  https://twitter.com/1Br0wn/status/177847913970...          1   \n",
      "\n",
      "     publication True Label  \n",
      "0              0   research  \n",
      "1              0   research  \n",
      "2              0   research  \n",
      "3              0   research  \n",
      "4              0   research  \n",
      "..           ...        ...  \n",
      "702            0   research  \n",
      "705            0   research  \n",
      "706            0   research  \n",
      "708            0   research  \n",
      "709            0   research  \n",
      "\n",
      "[467 rows x 11 columns]\n"
     ]
    },
    {
     "name": "stderr",
     "output_type": "stream",
     "text": [
      "/var/folders/j3/1_zy_b4s2517g8j_rjjdhd4h0000gn/T/ipykernel_50879/534238440.py:2: SettingWithCopyWarning: \n",
      "A value is trying to be set on a copy of a slice from a DataFrame.\n",
      "Try using .loc[row_indexer,col_indexer] = value instead\n",
      "\n",
      "See the caveats in the documentation: https://pandas.pydata.org/pandas-docs/stable/user_guide/indexing.html#returning-a-view-versus-a-copy\n",
      "  df_labeled['True Label'] = df_labeled['True Label'].replace('not_research', 'research1')\n",
      "/var/folders/j3/1_zy_b4s2517g8j_rjjdhd4h0000gn/T/ipykernel_50879/534238440.py:3: SettingWithCopyWarning: \n",
      "A value is trying to be set on a copy of a slice from a DataFrame.\n",
      "Try using .loc[row_indexer,col_indexer] = value instead\n",
      "\n",
      "See the caveats in the documentation: https://pandas.pydata.org/pandas-docs/stable/user_guide/indexing.html#returning-a-view-versus-a-copy\n",
      "  df_labeled['True Label'] = df_labeled['True Label'].replace('research','not_research')\n",
      "/var/folders/j3/1_zy_b4s2517g8j_rjjdhd4h0000gn/T/ipykernel_50879/534238440.py:4: SettingWithCopyWarning: \n",
      "A value is trying to be set on a copy of a slice from a DataFrame.\n",
      "Try using .loc[row_indexer,col_indexer] = value instead\n",
      "\n",
      "See the caveats in the documentation: https://pandas.pydata.org/pandas-docs/stable/user_guide/indexing.html#returning-a-view-versus-a-copy\n",
      "  df_labeled['True Label'] = df_labeled['True Label'].replace('research1','research')\n"
     ]
    }
   ],
   "source": [
    "\n",
    "\n",
    "# Replacing 'not-research' with 'not_research' in the 'True Label' column\n",
    "df_labeled['True Label'] = df_labeled['True Label'].replace('not_research', 'research1')\n",
    "df_labeled['True Label'] = df_labeled['True Label'].replace('research','not_research')\n",
    "df_labeled['True Label'] = df_labeled['True Label'].replace('research1','research')\n",
    "\n",
    "\n",
    "\n",
    "print(df_labeled)\n"
   ]
  },
  {
   "cell_type": "code",
   "execution_count": 45,
   "metadata": {},
   "outputs": [
    {
     "name": "stdout",
     "output_type": "stream",
     "text": [
      "                      id    created_at  account_id  username  \\\n",
      "0    1780618156832109056  1.713367e+12    14349894  mbauwens   \n",
      "1    1780617597089669120  1.713367e+12    14349894  mbauwens   \n",
      "2    1780617135049322496  1.713367e+12    14349894  mbauwens   \n",
      "3    1780616454812905984  1.713367e+12    14349894  mbauwens   \n",
      "4    1780608301534789632  1.713365e+12    14349894  mbauwens   \n",
      "..                   ...           ...         ...       ...   \n",
      "702  1778872093481816576  1.712951e+12    17900290    1Br0wn   \n",
      "705  1778714568895729920  1.712914e+12    17900290    1Br0wn   \n",
      "706  1778710540912562432  1.712913e+12    17900290    1Br0wn   \n",
      "708  1778690751909470464  1.712908e+12    17900290    1Br0wn   \n",
      "709  1778479139709710848  1.712857e+12    17900290    1Br0wn   \n",
      "\n",
      "                                                  urls  \\\n",
      "0    [https://en.wikipedia.org/wiki/Epic_of_evoluti...   \n",
      "1    [https://wiki.p2pfoundation.net/Category:Therm...   \n",
      "2    [https://lifehacker.com/tech/ai-is-running-out...   \n",
      "3            [https://www.journaloffreespeechlaw.org/]   \n",
      "4    [https://wiki.p2pfoundation.net/Andrew_Targows...   \n",
      "..                                                 ...   \n",
      "702  [https://www.ft.com/content/28ac1860-1011-4fa3...   \n",
      "705  [https://www.axios.com/2024/04/10/ai-artificia...   \n",
      "706  [https://www.euractiv.com/section/digital/news...   \n",
      "708  [https://twitter.com/HalSinger/status/17785538...   \n",
      "709  [https://twitter.com/gateklons/status/17784779...   \n",
      "\n",
      "                                                  Text       server  \\\n",
      "0    A concept you should know about:\\n\\n* The epic...  twitter.com   \n",
      "1    Quotation as selected  by The Alternative:\\n\\n...  twitter.com   \n",
      "2    AI is running out of internet:\\n\\n\"AI is runni...  twitter.com   \n",
      "3    * Journal of Free Speech Law,\\n\\nhttps://t.co/...  twitter.com   \n",
      "4    Articles from our 'Civilizational Analysis' va...  twitter.com   \n",
      "..                                                 ...          ...   \n",
      "702  The @FT is generally appropriately sceptical a...  twitter.com   \n",
      "705  \"I think they know exactly what they do,\" @Ves...  twitter.com   \n",
      "706  \"The Council of the EU is preparing a call to ...  twitter.com   \n",
      "708  Deaton’s book 'concludes that “Joe Biden does ...  twitter.com   \n",
      "709  Exactly as intended! 🥳 “EU firms decreased dat...  twitter.com   \n",
      "\n",
      "                                               postURL  ref_count  \\\n",
      "0    https://twitter.com/mbauwens/status/1780618156...          2   \n",
      "1    https://twitter.com/mbauwens/status/1780617597...          1   \n",
      "2    https://twitter.com/mbauwens/status/1780617135...          1   \n",
      "3    https://twitter.com/mbauwens/status/1780616454...          1   \n",
      "4    https://twitter.com/mbauwens/status/1780608301...          1   \n",
      "..                                                 ...        ...   \n",
      "702  https://twitter.com/1Br0wn/status/177887209348...          1   \n",
      "705  https://twitter.com/1Br0wn/status/177871456889...          2   \n",
      "706  https://twitter.com/1Br0wn/status/177871054091...          1   \n",
      "708  https://twitter.com/1Br0wn/status/177869075190...          1   \n",
      "709  https://twitter.com/1Br0wn/status/177847913970...          1   \n",
      "\n",
      "     publication    True Label  \n",
      "0              0  not-research  \n",
      "1              0  not-research  \n",
      "2              0  not-research  \n",
      "3              0  not-research  \n",
      "4              0  not-research  \n",
      "..           ...           ...  \n",
      "702            0  not-research  \n",
      "705            0  not-research  \n",
      "706            0  not-research  \n",
      "708            0  not-research  \n",
      "709            0  not-research  \n",
      "\n",
      "[467 rows x 11 columns]\n"
     ]
    }
   ],
   "source": [
    "print(df_labeled)"
   ]
  },
  {
   "cell_type": "code",
   "execution_count": 51,
   "metadata": {},
   "outputs": [
    {
     "name": "stderr",
     "output_type": "stream",
     "text": [
      "Python(16781) MallocStackLogging: can't turn off malloc stack logging because it was not enabled.\n"
     ]
    },
    {
     "data": {
      "text/html": [
       "Tracking run with wandb version 0.16.6"
      ],
      "text/plain": [
       "<IPython.core.display.HTML object>"
      ]
     },
     "metadata": {},
     "output_type": "display_data"
    },
    {
     "data": {
      "text/html": [
       "Run data is saved locally in <code>/Users/shaharorielkagan/sensemakers/nlp/notebooks/wandb/run-20240430_124504-e680yisp</code>"
      ],
      "text/plain": [
       "<IPython.core.display.HTML object>"
      ]
     },
     "metadata": {},
     "output_type": "display_data"
    },
    {
     "data": {
      "text/html": [
       "Syncing run <strong><a href='https://wandb.ai/common-sense-makers/filter_evaluation/runs/e680yisp' target=\"_blank\">faithful-music-10</a></strong> to <a href='https://wandb.ai/common-sense-makers/filter_evaluation' target=\"_blank\">Weights & Biases</a> (<a href='https://wandb.me/run' target=\"_blank\">docs</a>)<br/>"
      ],
      "text/plain": [
       "<IPython.core.display.HTML object>"
      ]
     },
     "metadata": {},
     "output_type": "display_data"
    },
    {
     "data": {
      "text/html": [
       " View project at <a href='https://wandb.ai/common-sense-makers/filter_evaluation' target=\"_blank\">https://wandb.ai/common-sense-makers/filter_evaluation</a>"
      ],
      "text/plain": [
       "<IPython.core.display.HTML object>"
      ]
     },
     "metadata": {},
     "output_type": "display_data"
    },
    {
     "data": {
      "text/html": [
       " View run at <a href='https://wandb.ai/common-sense-makers/filter_evaluation/runs/e680yisp' target=\"_blank\">https://wandb.ai/common-sense-makers/filter_evaluation/runs/e680yisp</a>"
      ],
      "text/plain": [
       "<IPython.core.display.HTML object>"
      ]
     },
     "metadata": {},
     "output_type": "display_data"
    },
    {
     "data": {
      "application/vnd.jupyter.widget-view+json": {
       "model_id": "9a6d15ba7fba4cd8ac423826388fc298",
       "version_major": 2,
       "version_minor": 0
      },
      "text/plain": [
       "VBox(children=(Label(value='0.223 MB of 0.223 MB uploaded (0.004 MB deduped)\\r'), FloatProgress(value=1.0, max…"
      ]
     },
     "metadata": {},
     "output_type": "display_data"
    },
    {
     "data": {
      "text/html": [
       "W&B sync reduced upload amount by 1.7%             "
      ],
      "text/plain": [
       "<IPython.core.display.HTML object>"
      ]
     },
     "metadata": {},
     "output_type": "display_data"
    },
    {
     "data": {
      "text/html": [
       " View run <strong style=\"color:#cdcd00\">faithful-music-10</strong> at: <a href='https://wandb.ai/common-sense-makers/filter_evaluation/runs/e680yisp' target=\"_blank\">https://wandb.ai/common-sense-makers/filter_evaluation/runs/e680yisp</a><br/> View project at: <a href='https://wandb.ai/common-sense-makers/filter_evaluation' target=\"_blank\">https://wandb.ai/common-sense-makers/filter_evaluation</a><br/>Synced 4 W&B file(s), 0 media file(s), 2 artifact file(s) and 0 other file(s)"
      ],
      "text/plain": [
       "<IPython.core.display.HTML object>"
      ]
     },
     "metadata": {},
     "output_type": "display_data"
    },
    {
     "data": {
      "text/html": [
       "Find logs at: <code>./wandb/run-20240430_124504-e680yisp/logs</code>"
      ],
      "text/plain": [
       "<IPython.core.display.HTML object>"
      ]
     },
     "metadata": {},
     "output_type": "display_data"
    }
   ],
   "source": [
    "wandb.init(project=\"filter_evaluation\")\n",
    "artifact = wandb.Artifact(\"labeled_tweets_no_threads\", type=\"dataset\")\n",
    "\n",
    "# Create a wandb.Table from the Pandas DataFrame\n",
    "table1 = wandb.Table(dataframe=df_labeled)\n",
    "table2 = wandb.Table(dataframe=df_handles)\n",
    "\n",
    "\n",
    "# Add the wandb.Table to the artifact\n",
    "artifact.add(table1, \"labeled_data_table_no_threads\")\n",
    "artifact.add(table2,\"handles_chart\")\n",
    "\n",
    "# Log the artifact\n",
    "wandb.log_artifact(artifact, aliases=[\"latest\"])\n",
    "\n",
    "wandb.run.finish()"
   ]
  },
  {
   "cell_type": "code",
   "execution_count": 8,
   "metadata": {},
   "outputs": [
    {
     "data": {
      "text/html": [
       "<div>\n",
       "<style scoped>\n",
       "    .dataframe tbody tr th:only-of-type {\n",
       "        vertical-align: middle;\n",
       "    }\n",
       "\n",
       "    .dataframe tbody tr th {\n",
       "        vertical-align: top;\n",
       "    }\n",
       "\n",
       "    .dataframe thead th {\n",
       "        text-align: right;\n",
       "    }\n",
       "</style>\n",
       "<table border=\"1\" class=\"dataframe\">\n",
       "  <thead>\n",
       "    <tr style=\"text-align: right;\">\n",
       "      <th></th>\n",
       "      <th>username</th>\n",
       "      <th>id</th>\n",
       "      <th>info</th>\n",
       "      <th>name</th>\n",
       "      <th>server</th>\n",
       "    </tr>\n",
       "  </thead>\n",
       "  <tbody>\n",
       "    <tr>\n",
       "      <th>0</th>\n",
       "      <td>mbauwens</td>\n",
       "      <td>14349894</td>\n",
       "      <td>updates on p2p and commons developments; peer,...</td>\n",
       "      <td>Michel Bauwens</td>\n",
       "      <td>twitter.com</td>\n",
       "    </tr>\n",
       "  </tbody>\n",
       "</table>\n",
       "</div>"
      ],
      "text/plain": [
       "   username        id                                               info  \\\n",
       "0  mbauwens  14349894  updates on p2p and commons developments; peer,...   \n",
       "\n",
       "             name       server  \n",
       "0  Michel Bauwens  twitter.com  "
      ]
     },
     "execution_count": 8,
     "metadata": {},
     "output_type": "execute_result"
    }
   ],
   "source": [
    "df_handles[df_handles['username']=='mbauwens']"
   ]
  },
  {
   "cell_type": "code",
   "execution_count": 8,
   "metadata": {},
   "outputs": [
    {
     "data": {
      "text/html": [
       "Finishing last run (ID:2zwzubww) before initializing another..."
      ],
      "text/plain": [
       "<IPython.core.display.HTML object>"
      ]
     },
     "metadata": {},
     "output_type": "display_data"
    },
    {
     "data": {
      "application/vnd.jupyter.widget-view+json": {
       "model_id": "b3c79537f2944c138d9d14d299709bc7",
       "version_major": 2,
       "version_minor": 0
      },
      "text/plain": [
       "VBox(children=(Label(value='0.001 MB of 0.001 MB uploaded\\r'), FloatProgress(value=1.0, max=1.0)))"
      ]
     },
     "metadata": {},
     "output_type": "display_data"
    },
    {
     "data": {
      "text/html": [
       " View run <strong style=\"color:#cdcd00\">ethereal-plant-175</strong> at: <a href='https://wandb.ai/common-sense-makers/testing/runs/2zwzubww' target=\"_blank\">https://wandb.ai/common-sense-makers/testing/runs/2zwzubww</a><br/> View project at: <a href='https://wandb.ai/common-sense-makers/testing' target=\"_blank\">https://wandb.ai/common-sense-makers/testing</a><br/>Synced 5 W&B file(s), 0 media file(s), 0 artifact file(s) and 0 other file(s)"
      ],
      "text/plain": [
       "<IPython.core.display.HTML object>"
      ]
     },
     "metadata": {},
     "output_type": "display_data"
    },
    {
     "data": {
      "text/html": [
       "Find logs at: <code>./wandb/run-20240508_144413-2zwzubww/logs</code>"
      ],
      "text/plain": [
       "<IPython.core.display.HTML object>"
      ]
     },
     "metadata": {},
     "output_type": "display_data"
    },
    {
     "data": {
      "text/html": [
       "Successfully finished last run (ID:2zwzubww). Initializing new run:<br/>"
      ],
      "text/plain": [
       "<IPython.core.display.HTML object>"
      ]
     },
     "metadata": {},
     "output_type": "display_data"
    },
    {
     "data": {
      "application/vnd.jupyter.widget-view+json": {
       "model_id": "c1fe9fbf24df4060950a052beb5ff47c",
       "version_major": 2,
       "version_minor": 0
      },
      "text/plain": [
       "VBox(children=(Label(value='Waiting for wandb.init()...\\r'), FloatProgress(value=0.011164494443477856, max=1.0…"
      ]
     },
     "metadata": {},
     "output_type": "display_data"
    },
    {
     "data": {
      "text/html": [
       "wandb version 0.17.0 is available!  To upgrade, please run:\n",
       " $ pip install wandb --upgrade"
      ],
      "text/plain": [
       "<IPython.core.display.HTML object>"
      ]
     },
     "metadata": {},
     "output_type": "display_data"
    },
    {
     "data": {
      "text/html": [
       "Tracking run with wandb version 0.16.6"
      ],
      "text/plain": [
       "<IPython.core.display.HTML object>"
      ]
     },
     "metadata": {},
     "output_type": "display_data"
    },
    {
     "data": {
      "text/html": [
       "Run data is saved locally in <code>/Users/shaharorielkagan/sensemakers/nlp/notebooks/wandb/run-20240508_145703-ilh9d4xp</code>"
      ],
      "text/plain": [
       "<IPython.core.display.HTML object>"
      ]
     },
     "metadata": {},
     "output_type": "display_data"
    },
    {
     "data": {
      "text/html": [
       "Syncing run <strong><a href='https://wandb.ai/common-sense-makers/testing/runs/ilh9d4xp' target=\"_blank\">dashing-salad-176</a></strong> to <a href='https://wandb.ai/common-sense-makers/testing' target=\"_blank\">Weights & Biases</a> (<a href='https://wandb.me/run' target=\"_blank\">docs</a>)<br/>"
      ],
      "text/plain": [
       "<IPython.core.display.HTML object>"
      ]
     },
     "metadata": {},
     "output_type": "display_data"
    },
    {
     "data": {
      "text/html": [
       " View project at <a href='https://wandb.ai/common-sense-makers/testing' target=\"_blank\">https://wandb.ai/common-sense-makers/testing</a>"
      ],
      "text/plain": [
       "<IPython.core.display.HTML object>"
      ]
     },
     "metadata": {},
     "output_type": "display_data"
    },
    {
     "data": {
      "text/html": [
       " View run at <a href='https://wandb.ai/common-sense-makers/testing/runs/ilh9d4xp' target=\"_blank\">https://wandb.ai/common-sense-makers/testing/runs/ilh9d4xp</a>"
      ],
      "text/plain": [
       "<IPython.core.display.HTML object>"
      ]
     },
     "metadata": {},
     "output_type": "display_data"
    },
    {
     "name": "stderr",
     "output_type": "stream",
     "text": [
      "\u001b[34m\u001b[1mwandb\u001b[0m:   1 of 1 files downloaded.  \n"
     ]
    },
    {
     "name": "stdout",
     "output_type": "stream",
     "text": [
      "0ntdx4zr\n"
     ]
    },
    {
     "data": {
      "application/vnd.jupyter.widget-view+json": {
       "model_id": "d8ac62890d0441c5827ee4320347f6aa",
       "version_major": 2,
       "version_minor": 0
      },
      "text/plain": [
       "VBox(children=(Label(value='0.001 MB of 0.001 MB uploaded\\r'), FloatProgress(value=1.0, max=1.0)))"
      ]
     },
     "metadata": {},
     "output_type": "display_data"
    },
    {
     "data": {
      "text/html": [
       " View run <strong style=\"color:#cdcd00\">dashing-salad-176</strong> at: <a href='https://wandb.ai/common-sense-makers/testing/runs/ilh9d4xp' target=\"_blank\">https://wandb.ai/common-sense-makers/testing/runs/ilh9d4xp</a><br/> View project at: <a href='https://wandb.ai/common-sense-makers/testing' target=\"_blank\">https://wandb.ai/common-sense-makers/testing</a><br/>Synced 5 W&B file(s), 0 media file(s), 0 artifact file(s) and 0 other file(s)"
      ],
      "text/plain": [
       "<IPython.core.display.HTML object>"
      ]
     },
     "metadata": {},
     "output_type": "display_data"
    },
    {
     "data": {
      "text/html": [
       "Find logs at: <code>./wandb/run-20240508_145703-ilh9d4xp/logs</code>"
      ],
      "text/plain": [
       "<IPython.core.display.HTML object>"
      ]
     },
     "metadata": {},
     "output_type": "display_data"
    }
   ],
   "source": [
    "import wandb\n",
    "\n",
    "from pathlib import Path\n",
    "\n",
    "run = wandb.init(project=\"testing\")\n",
    "\n",
    "\n",
    "dataset_artifact_id = (\n",
    "    'common-sense-makers/filter_evaluation/prediction_evaluation-20240507152253:v0'\n",
    ")\n",
    "dataset_artifact = run.use_artifact(dataset_artifact_id)\n",
    "a_path = dataset_artifact.download()\n",
    "\n",
    "table_path = Path(f\"{a_path}/prediction_evaluation.table.json\")\n",
    "\n",
    "dataset_run = dataset_artifact.logged_by()\n",
    "\n",
    "print(dataset_run.id )\n",
    "\n",
    "wandb.run.finish()"
   ]
  },
  {
   "cell_type": "code",
   "execution_count": 10,
   "metadata": {},
   "outputs": [
    {
     "name": "stdout",
     "output_type": "stream",
     "text": [
      "{'batch_size': 5, 'wandb_config': \"entity='common-sense-makers' project='st-demo-sandbox'\", 'parser_configs': [\"name='refs_tagger' type=<ParserChainType.REFERENCE_TAGGER: 'reference_tagger'> llm_config=LLMConfig(llm_type='mistralai/mixtral-8x7b-instruct:nitro', temperature='0.6') use_metadata=True is_ref=True\", \"name='multi_refs_tagger' type=<ParserChainType.MULTI_REF_TAGGER: 'multi_reference_tagger'> llm_config=LLMConfig(llm_type='mistralai/mixtral-8x7b-instruct:nitro', temperature='0.6') use_metadata=True is_multi_ref=True\", \"name='topics' type=<ParserChainType.TOPICS: 'topics'> llm_config=LLMConfig(llm_type='mistralai/mixtral-8x7b-instruct:nitro', temperature='0.6') use_metadata=True is_topic=True\", \"name='keywords' type=<ParserChainType.KEYWORDS: 'keywords'> llm_config=LLMConfig(llm_type='mistralai/mixtral-8x7b-instruct:nitro', temperature='0.6') use_metadata=True max_keywords=6\", \"name='hashtags' type=<ParserChainType.HASHTAGS: 'hashtags'> llm_config=LLMConfig(llm_type='mistralai/mistral-7b-instruct', temperature='0.6') use_metadata=False max_hashtags=20\"], 'post_process_type': 'PostProcessType.COMBINED', 'openrouter_api_config': \"openrouter_api_base='https://openrouter.ai/api/v1' openrouter_api_key='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' openrouter_referer='http://localhost:3000'\", 'metadata_extract_config': \"extraction_method=<MetadataExtractionType.CITOID: 'citoid'> max_summary_length=500\"}\n"
     ]
    }
   ],
   "source": [
    "print(dataset_run_id.config)\n"
   ]
  },
  {
   "cell_type": "code",
   "execution_count": 21,
   "metadata": {},
   "outputs": [
    {
     "name": "stdout",
     "output_type": "stream",
     "text": [
      "   A  B  C\n",
      "0  1  4  7\n",
      "1  2  5  8\n",
      "2  3  6  9\n"
     ]
    }
   ],
   "source": [
    "import pandas as pd\n",
    "data = {\n",
    "    'A': [1, 2, 3],\n",
    "    'B': [4, 5, 6],\n",
    "    'C': [7, 8, 9]\n",
    "}\n",
    "df = pd.DataFrame(data)\n",
    "print(df)"
   ]
  },
  {
   "cell_type": "code",
   "execution_count": 23,
   "metadata": {},
   "outputs": [
    {
     "data": {
      "text/plain": [
       "6"
      ]
     },
     "execution_count": 23,
     "metadata": {},
     "output_type": "execute_result"
    }
   ],
   "source": [
    "df.iloc[2,1]"
   ]
  },
  {
   "cell_type": "code",
   "execution_count": 27,
   "metadata": {},
   "outputs": [],
   "source": [
    "list = []\n",
    "list.extend([1,2])"
   ]
  },
  {
   "cell_type": "code",
   "execution_count": 28,
   "metadata": {},
   "outputs": [
    {
     "name": "stdout",
     "output_type": "stream",
     "text": [
      "[1, 2]\n"
     ]
    }
   ],
   "source": [
    "print(list)"
   ]
  },
  {
   "cell_type": "code",
   "execution_count": 29,
   "metadata": {},
   "outputs": [
    {
     "name": "stdout",
     "output_type": "stream",
     "text": [
      "[[1 2 3]\n",
      " [4 5 6]\n",
      " [7 8 9]]\n",
      "Element at row 2, column 3: 6\n"
     ]
    }
   ],
   "source": [
    "import numpy as np\n",
    "\n",
    "# Creating a NumPy matrix (2D array)\n",
    "matrix = np.array([\n",
    "    [1, 2, 3],\n",
    "    [4, 5, 6],\n",
    "    [7, 8, 9]\n",
    "])\n",
    "print(matrix)\n",
    "# Accessing the element at row 2, column 3 (1-based description)\n",
    "element = matrix[1, 2]  # Using zero-based indexing, so 1 is the second row, 2 is the third column\n",
    "\n",
    "print(\"Element at row 2, column 3:\", element)\n"
   ]
  }
 ],
 "metadata": {
  "kernelspec": {
   "display_name": "Python 3",
   "language": "python",
   "name": "python3"
  },
  "language_info": {
   "codemirror_mode": {
    "name": "ipython",
    "version": 3
   },
   "file_extension": ".py",
   "mimetype": "text/x-python",
   "name": "python",
   "nbconvert_exporter": "python",
   "pygments_lexer": "ipython3",
   "version": "3.11.2"
  },
  "orig_nbformat": 4,
  "vscode": {
   "interpreter": {
    "hash": "aee8b7b246df8f9039afb4144a1f6fd8d2ca17a180786b69acc140d282b71a49"
   }
  }
 },
 "nbformat": 4,
 "nbformat_minor": 2
}
