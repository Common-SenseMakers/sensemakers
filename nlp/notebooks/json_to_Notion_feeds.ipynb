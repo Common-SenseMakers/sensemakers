{
 "cells": [
  {
   "cell_type": "code",
   "execution_count": 1,
   "metadata": {},
   "outputs": [],
   "source": [
    "#get credentials\n",
    "\n",
    "import os\n",
    "from dotenv import load_dotenv\n",
    "from notion_client import Client\n",
    "\n",
    "load_dotenv()\n",
    "\n",
    "NOTION_API_TOKEN = os.getenv('NOTION_SENSENETS_TOKEN')\n",
    "URLS_DATABASE_ID = os.getenv('NOTION_URLS_DATABASE_ID')\n",
    "POSTS_DATABASE_ID = os.getenv('NOTION_POSTS_DATABASE_ID')\n",
    "PROFILES_DATABASE_ID =os.getenv('NOTION_PROFILES_DATABASE_ID')\n",
    "HEADERS = {\n",
    "    'Authorization': f'Bearer {NOTION_API_TOKEN}',\n",
    "    'Content-Type': 'application/json',\n",
    "    'Notion-Version': '2022-06-28'\n",
    "}\n",
    "notion = Client(auth=NOTION_API_TOKEN)\n"
   ]
  },
  {
   "cell_type": "code",
   "execution_count": 97,
   "metadata": {},
   "outputs": [],
   "source": [
    "#functions for mapping json to Notion profile table\n",
    "def search_profile_in_notion(twitterId):\n",
    "    response = notion.databases.query(\n",
    "        **{\n",
    "            \"database_id\": PROFILES_DATABASE_ID,\n",
    "            \"filter\": {\n",
    "                \"property\": \"Twitter id\",  # The property name in Notion\n",
    "                \"rich_text\": {\n",
    "                    \"equals\": twitterId  # Use 'equals' to match the authorId exactly\n",
    "                }\n",
    "            }\n",
    "        }\n",
    "    )\n",
    "    \n",
    "    # Check if any results are found\n",
    "    if response[\"results\"]:\n",
    "        print(f\"Profile found for authorId: {twitterId}\")\n",
    "        return response[\"results\"][0][\"id\"]  # Return the first matched profile ID if it exists\n",
    "    else:\n",
    "        print(f\"No profile found for authorId: {twitterId}\")\n",
    "        return None\n",
    "\n",
    "def build_base_notion_profile(profile:dict):\n",
    "    print(\"in build profile page\")\n",
    "    author = profile[\"generic\"][\"author\"]\n",
    "    name = author['name']\n",
    "    #make handle modular to include mastodon\n",
    "    handle = author[\"username\"]\n",
    "    authorId = profile[\"authorId\"]\n",
    "    twitterId = author['id']\n",
    "    response = notion.pages.create(\n",
    "        **{\n",
    "            \"parent\": {\"database_id\": PROFILES_DATABASE_ID},\n",
    "            \"properties\": {\n",
    "                \"Name\": {\n",
    "                    \"title\": [\n",
    "                        {\n",
    "                            \"text\": {\"content\": name}\n",
    "                        }\n",
    "                    ]\n",
    "                },\n",
    "                \"Twitter Handle\": {\n",
    "                     \"rich_text\": [\n",
    "                        {\n",
    "                            \"text\": {\"content\": handle}\n",
    "                        }\n",
    "                    ]\n",
    "                },\n",
    "                \"authorId\": {\n",
    "                     \"rich_text\": [\n",
    "                        {\n",
    "                            \"text\": {\"content\": authorId}\n",
    "                        }\n",
    "                    ]\n",
    "                },\n",
    "                \"Twitter id\": {\n",
    "                     \"rich_text\": [\n",
    "                        {\n",
    "                            \"text\": {\"content\": twitterId}\n",
    "                        }\n",
    "                    ]\n",
    "                },\n",
    "                 \"Platforms\": {\n",
    "                    \"multi_select\": [\n",
    "                        {\"name\": 'Twitter'} \n",
    "                    ]\n",
    "                }\n",
    "            }\n",
    "        }\n",
    "    )\n",
    "    \n",
    "    print(f\"Created new page for profile with name: {name}\")\n",
    "    return response[\"id\"]  # Return the page ID of the created URL page\n",
    "\n",
    "    "
   ]
  },
  {
   "cell_type": "code",
   "execution_count": 86,
   "metadata": {},
   "outputs": [],
   "source": [
    "#testing functions \n",
    "import json\n",
    "with open('data/test_json.json') as f:\n",
    "        data = json.load(f)\n"
   ]
  },
  {
   "cell_type": "code",
   "execution_count": 98,
   "metadata": {},
   "outputs": [
    {
     "name": "stdout",
     "output_type": "stream",
     "text": [
      "in build profile page\n",
      "Created new page for profile with name: Jay\n"
     ]
    },
    {
     "data": {
      "text/plain": [
       "'10396ae9-0655-81af-85d8-e25fb47f61f8'"
      ]
     },
     "execution_count": 98,
     "metadata": {},
     "output_type": "execute_result"
    }
   ],
   "source": [
    "build_base_notion_profile(data)"
   ]
  },
  {
   "cell_type": "code",
   "execution_count": 90,
   "metadata": {},
   "outputs": [
    {
     "name": "stdout",
     "output_type": "stream",
     "text": [
      "Profile found for authorId: 333\n"
     ]
    },
    {
     "data": {
      "text/plain": [
       "'10396ae9-0655-81c9-a245-f2e1ca23f735'"
      ]
     },
     "execution_count": 90,
     "metadata": {},
     "output_type": "execute_result"
    }
   ],
   "source": [
    "search_profile_in_notion('333')"
   ]
  },
  {
   "cell_type": "code",
   "execution_count": 87,
   "metadata": {},
   "outputs": [
    {
     "name": "stdout",
     "output_type": "stream",
     "text": [
      "{'id': 'SD6jPYKAOe1WuScg5cIP', 'createdAtMs': 1720217724000, 'republishedStatus': 'pending', 'origin': 'twitter', 'authorId': 'nanopub:0xe475Fa8b885bC709A5820313EFC1d4509ad2CDeE', 'generic': {'author': {'name': 'Jay', 'id': '123641282', 'platformId': 'twitter', 'username': 'metasdl'}}}\n"
     ]
    }
   ],
   "source": [
    "print(data)"
   ]
  },
  {
   "cell_type": "code",
   "execution_count": 79,
   "metadata": {},
   "outputs": [
    {
     "name": "stdout",
     "output_type": "stream",
     "text": [
      "Profile found for authorId: 123\n"
     ]
    },
    {
     "data": {
      "text/plain": [
       "'ba52db95-af69-4704-bd09-95a7c87ee781'"
      ]
     },
     "execution_count": 79,
     "metadata": {},
     "output_type": "execute_result"
    }
   ],
   "source": [
    "search_profile_in_notion('123')"
   ]
  },
  {
   "cell_type": "code",
   "execution_count": 51,
   "metadata": {},
   "outputs": [],
   "source": [
    "import json\n",
    "\n",
    "\n",
    "# Function to search for a URL in the URLs database\n",
    "def search_url_in_database(url):\n",
    "    print('in search url')\n",
    "    response = notion.databases.query(\n",
    "        **{\n",
    "            \"database_id\": URLS_DATABASE_ID,\n",
    "            \"filter\": {\n",
    "                \"property\": \"URL\",\n",
    "                \"url\": {\n",
    "                    \"equals\": url\n",
    "                }\n",
    "            }\n",
    "        }\n",
    "    )\n",
    "    \n",
    "    if response[\"results\"]:\n",
    "        print(f\"URL found in database: {url}\")\n",
    "        return response[\"results\"][0][\"id\"]  # Return the first matched page ID if the URL exists\n",
    "    else:\n",
    "        print(f\"URL not found, will create a new page: {url}\")\n",
    "        return None\n",
    "\n",
    "# Function to create a new page in the URLs database\n",
    "def create_url_page(url):\n",
    "    print(\"in create page\")\n",
    "    response = notion.pages.create(\n",
    "        **{\n",
    "            \"parent\": {\"database_id\": URLS_DATABASE_ID},\n",
    "            \"properties\": {\n",
    "                \"Name\": {\n",
    "                    \"title\": [\n",
    "                        {\n",
    "                            \"text\": {\"content\": url}\n",
    "                        }\n",
    "                    ]\n",
    "                },\n",
    "                \"URL\": {\n",
    "                    \"url\": url\n",
    "                }\n",
    "            }\n",
    "        }\n",
    "    )\n",
    "    \n",
    "    print(f\"Created new page for URL: {url}\")\n",
    "    return response[\"id\"]  # Return the page ID of the created URL page\n",
    "\n",
    "# Function to search for a post in the Posts database by title\n",
    "def search_post_in_database(post_title):\n",
    "    response = notion.databases.query(\n",
    "        **{\n",
    "            \"database_id\": POSTS_DATABASE_ID,\n",
    "            \"filter\": {\n",
    "                \"property\": \"Name\",\n",
    "                \"title\": {\n",
    "                    \"equals\": post_title\n",
    "                }\n",
    "            }\n",
    "        }\n",
    "    )\n",
    "    \n",
    "    if response[\"results\"]:\n",
    "        print(f\"Post '{post_title}' found in the database.\")\n",
    "        return response[\"results\"][0][\"id\"]  # Return the first matched post ID if it exists\n",
    "    else:\n",
    "        print(f\"Post '{post_title}' not found, will create a new page.\")\n",
    "        return None\n",
    "\n",
    "# Function to create a new page in the Posts database\n",
    "def create_post_page(post_title, recommendation_ids,post_text,post_creators_account):\n",
    "    response = notion.pages.create(\n",
    "        **{\n",
    "            \"parent\": {\"database_id\": POSTS_DATABASE_ID},\n",
    "            \"properties\": {\n",
    "                \"Name\": {\n",
    "                    \"title\": [\n",
    "                        {\n",
    "                            \"text\": {\"content\": post_title}\n",
    "                        }\n",
    "                    ]\n",
    "                },\n",
    "                \"Recommends\": {\n",
    "                    \"relation\": [{\"id\": rec_id} for rec_id in recommendation_ids]\n",
    "                },\n",
    "                \"Text\": {\n",
    "                    \"rich_text\": [\n",
    "                        {\n",
    "                            \"text\": {\"content\": post_text}\n",
    "                        }\n",
    "                    ]\n",
    "                },\n",
    "                \"Creators handle\": {\n",
    "                    \"rich_text\": [\n",
    "                        {\n",
    "                            \"text\": {\"content\": post_creators_account}\n",
    "                        }\n",
    "                    ]\n",
    "                }\n",
    "            }\n",
    "        }\n",
    "    )\n",
    "    print(f\"Created new post page for '{post_title}'.\")\n",
    "    return response[\"id\"]  # Return the page ID of the created post page\n",
    "\n",
    "# Function to update the recommendations field in the Posts database\n",
    "def update_post_relations(post_id, recommendation_ids,post_text,post_creators_account):\n",
    "    notion.pages.update(\n",
    "        **{\n",
    "            \"page_id\": post_id,\n",
    "            \"properties\": {\n",
    "                \"Recommends\": {\n",
    "                    \"relation\": [{\"id\": page_id} for page_id in recommendation_ids]\n",
    "                },\n",
    "                \"Text\": {\n",
    "                    \"rich_text\": [\n",
    "                        {\n",
    "                            \"text\": {\"content\": post_text}\n",
    "                        }\n",
    "                    ]\n",
    "                },\n",
    "                \"Creators handle\": {\n",
    "                    \"rich_text\": [\n",
    "                        {\n",
    "                            \"text\": {\"content\": post_creators_account}\n",
    "                        }\n",
    "                    ]\n",
    "                }\n",
    "            }\n",
    "        }\n",
    "    )\n",
    "    print(f\"Updated post {post_id} with new recommendations.\")\n",
    "\n",
    "    \n",
    "\n",
    "# Step 3: Process the JSON file\n",
    "def process_json(json_file):\n",
    "    with open(json_file) as f:\n",
    "        data = json.load(f)\n",
    "\n",
    "        for post in data:\n",
    "            post_name = create_post_name(post)  # Assuming the data has a Title field to identify posts\n",
    "            recommendations = post.get('Recommendations', [])\n",
    "            # First, search if the Post already exists\n",
    "            post_id = search_post_in_database(post_name)\n",
    "            post_text = post['Content']\n",
    "            post_creators_account = post[\"User\"]\n",
    "            \n",
    "            print(f\"Processing Post ID: {post_id}\")\n",
    "            if recommendations:\n",
    "                recommendation_ids = []\n",
    "                \n",
    "                for url in recommendations:\n",
    "                    url = url.strip()\n",
    "                    \n",
    "                    # First, search if the URL already exists\n",
    "                    url_page_id = search_url_in_database(url)\n",
    "                    \n",
    "                    if not url_page_id:  # If not found, create a new page for the URL\n",
    "                        url_page_id = create_url_page(url)\n",
    "\n",
    "                    \n",
    "                    if url_page_id:\n",
    "                        recommendation_ids.append(url_page_id)\n",
    "                \n",
    "            # If the post exists, update it, otherwise create a new post\n",
    "            if post_id:\n",
    "                update_post_relations(post_id, recommendation_ids,post_text,post_creators_account)\n",
    "            else:\n",
    "                create_post_page(post_name, recommendation_ids,post_text,post_creators_account)\n",
    "\n",
    "def create_profile_from_post(post:dict,post_notion_id:str):\n",
    "    response = notion.pages.create(\n",
    "        **{\n",
    "            \"parent\": {\"database_id\": PROFILES_DATABASE_ID},\n",
    "            \"properties\": {\n",
    "                \"Name\": {\n",
    "                    \"title\": [\n",
    "                        {\n",
    "                            \"text\": {\"content\": post['author_name']}\n",
    "                        }\n",
    "                    ]\n",
    "                },\n",
    "                \"Posts\": {\n",
    "                    \"relation\": [{\"id\": rec_id} for rec_id in recommendation_ids]\n",
    "                },\n",
    "                \"Text\": {\n",
    "                    \"rich_text\": [\n",
    "                        {\n",
    "                            \"text\": {\"content\": post_text}\n",
    "                        }\n",
    "                    ]\n",
    "                },\n",
    "                \"Creators handle\": {\n",
    "                    \"rich_text\": [\n",
    "                        {\n",
    "                            \"text\": {\"content\": post_creators_account}\n",
    "                        }\n",
    "                    ]\n",
    "                }\n",
    "            }\n",
    "        }\n",
    "    )\n",
    "\n",
    "\n",
    "#Create post name\n",
    "def create_post_name(post):\n",
    "    user_name = post['User']  # Get the user's name\n",
    "    content = post['Content']  # Get the post content\n",
    "    short_content = content[:60]  # Extract the first 10 characters of the content\n",
    "    \n",
    "    # Create the post name as \"User name : First 10 characters of content\"\n",
    "    return f\"{user_name}: {short_content}\""
   ]
  },
  {
   "cell_type": "code",
   "execution_count": 52,
   "metadata": {},
   "outputs": [
    {
     "name": "stdout",
     "output_type": "stream",
     "text": [
      "Post 'John Doe: Artificial intelligence is revolutionizing industries with i' found in the database.\n",
      "Processing Post ID: 0ff96ae9-0655-8179-ac5f-d7f18cc1c3a7\n",
      "in search url\n",
      "URL found in database: https://example.com/ai1\n",
      "in search url\n",
      "URL found in database: https://example.com/ai2\n",
      "Updated post 0ff96ae9-0655-8179-ac5f-d7f18cc1c3a7 with new recommendations.\n",
      "Post 'Jane Smith: Data science helps uncover insights from vast amounts of dat' found in the database.\n",
      "Processing Post ID: 0ff96ae9-0655-8178-910b-df13842c8bc2\n",
      "in search url\n",
      "URL found in database: https://example.com/ds1\n",
      "Updated post 0ff96ae9-0655-8178-910b-df13842c8bc2 with new recommendations.\n",
      "Post 'Alice Johnson: Machine learning algorithms are key to developing intelligen' found in the database.\n",
      "Processing Post ID: 0ff96ae9-0655-813a-bba1-c9c206ea30f5\n",
      "in search url\n",
      "URL found in database: https://example.com/ml1\n",
      "in search url\n",
      "URL found in database: https://example.com/ml2\n",
      "Updated post 0ff96ae9-0655-813a-bba1-c9c206ea30f5 with new recommendations.\n",
      "Post 'Bob Brown: Generative AI creates new possibilities by generating realis' found in the database.\n",
      "Processing Post ID: 82737daf-f0d9-4099-85a4-7d857155708f\n",
      "in search url\n",
      "URL found in database: https://example.com/genai1\n",
      "in search url\n",
      "URL found in database: https://example.com/genai2\n",
      "Updated post 82737daf-f0d9-4099-85a4-7d857155708f with new recommendations.\n"
     ]
    }
   ],
   "source": [
    "# Call the function to process the JSON file\n",
    "process_json('data/test_json.json')"
   ]
  },
  {
   "cell_type": "code",
   "execution_count": 23,
   "metadata": {},
   "outputs": [
    {
     "name": "stdout",
     "output_type": "stream",
     "text": [
      "Reading Posts Database:\n",
      "Posts Database contains 3 entries.\n",
      "Post ID: 26155953-b777-45d1-9613-320d671a539c, Title: Hihi\n",
      "Post ID: 5fa16e7e-93e8-4955-af0e-6e42c68b6881, Title: Lala\n",
      "Post ID: bcfc1994-ad55-41f2-8c30-ac8baabef624, Title: Shalom\n",
      "\n",
      "Reading URLs Database:\n",
      "URLs Database contains 1 entries.\n",
      "URL Page ID: 4d0830cf-0b5a-439f-bf72-2e6a0a888dee, URL: www.example.org\n"
     ]
    }
   ],
   "source": [
    "#Testing access to Notion databases \n",
    "\n",
    "# Function to read all entries from the Posts database\n",
    "def read_posts_database():\n",
    "    try:\n",
    "        response = notion.databases.query(database_id=POSTS_DATABASE_ID)\n",
    "        results = response.get(\"results\", [])\n",
    "        print(f\"Posts Database contains {len(results)} entries.\")\n",
    "        for entry in results:\n",
    "            print(f\"Post ID: {entry['id']}, Title: {entry['properties']['Name']['title'][0]['text']['content']}\")\n",
    "    except Exception as e:\n",
    "        print(f\"Error reading Posts Database: {e}\")\n",
    "\n",
    "# Function to read all entries from the URLs database\n",
    "def read_urls_database():\n",
    "    try:\n",
    "        response = notion.databases.query(database_id=URLS_DATABASE_ID)\n",
    "        results = response.get(\"results\", [])\n",
    "        print(f\"URLs Database contains {len(results)} entries.\")\n",
    "        for entry in results:\n",
    "            print(f\"URL Page ID: {entry['id']}, URL: {entry['properties']['URL']['url']}\")\n",
    "    except Exception as e:\n",
    "        print(f\"Error reading URLs Database: {e}\")\n",
    "\n",
    "# Test reading the databases\n",
    "print(\"Reading Posts Database:\")\n",
    "read_posts_database()\n",
    "\n",
    "print(\"\\nReading URLs Database:\")\n",
    "read_urls_database()\n"
   ]
  },
  {
   "attachments": {},
   "cell_type": "markdown",
   "metadata": {},
   "source": [
    "# Parsing RDF"
   ]
  },
  {
   "cell_type": "code",
   "execution_count": 59,
   "metadata": {},
   "outputs": [
    {
     "data": {
      "text/plain": [
       "<Graph identifier=N3ecdf6f295eb4c00bad5f234b6725c1c (<class 'rdflib.graph.Graph'>)>"
      ]
     },
     "execution_count": 59,
     "metadata": {},
     "output_type": "execute_result"
    }
   ],
   "source": [
    "from rdflib import Graph, Namespace, URIRef\n",
    "\n",
    "# RDF data (replace with your actual RDF data)\n",
    "rdf_data = \"\"\"\n",
    "@prefix ns1: <https://sense-nets.xyz/> .\n",
    "@prefix ns2: <http://purl.org/spar/cito/> .\n",
    "@prefix schema: <https://schema.org/> .\n",
    "\n",
    "ns1:mySemanticPost ns2:includesQuotationFrom <https://x.com/maxkreminski/status/1030838313429528576> ;\n",
    "    schema:keywords \"AI\",\n",
    "        \"Ethereum\",\n",
    "        \"blockchain\",\n",
    "        \"crowdsourcing\",\n",
    "        \"open-source\",\n",
    "        \"research\" ;\n",
    "    ns1:indicatesInterest <https://x.com/maxkreminski/status/1030838313429528576> ;\n",
    "    ns1:quotesPost <https://x.com/maxkreminski/status/1030838313429528576> .\n",
    "\n",
    "<https://x.com/maxkreminski/status/1030838313429528576> ns1:hasZoteroItemType \"forumPost\" .\n",
    "\n",
    "\"\"\"\n",
    "\n",
    "# Load RDF data into an rdflib graph\n",
    "g = Graph()\n",
    "g.parse(data=rdf_data, format=\"turtle\")\n",
    "\n"
   ]
  },
  {
   "cell_type": "code",
   "execution_count": 62,
   "metadata": {},
   "outputs": [],
   "source": [
    "# Define namespaces (based on your RDF data)\n",
    "NS1 = Namespace(\"http://purl.org/spar/cito/\")\n",
    "SCHEMA = Namespace(\"https://schema.org/\")\n",
    "COSMO = Namespace(\"https://sense-nets.xyz/\")\n",
    "\n"
   ]
  },
  {
   "cell_type": "code",
   "execution_count": 60,
   "metadata": {},
   "outputs": [
    {
     "name": "stdout",
     "output_type": "stream",
     "text": [
      "Keywords:\n",
      "AI\n",
      "Ethereum\n",
      "blockchain\n",
      "crowdsourcing\n",
      "open-source\n",
      "research\n"
     ]
    }
   ],
   "source": [
    "# Query for keywords (using SPARQL)\n",
    "query = \"\"\"\n",
    "    SELECT ?keyword\n",
    "    WHERE {\n",
    "        ?post schema:keywords ?keyword .\n",
    "    }\n",
    "\"\"\"\n",
    "keywords = g.query(query)\n",
    "print(\"Keywords:\")\n",
    "for row in keywords:\n",
    "    print(row.keyword)\n",
    "\n"
   ]
  },
  {
   "cell_type": "code",
   "execution_count": 71,
   "metadata": {},
   "outputs": [
    {
     "name": "stdout",
     "output_type": "stream",
     "text": [
      "\n",
      "Relations:\n",
      "https://sense-nets.xyz/indicatesInterest -> https://x.com/maxkreminski/status/1030838313429528576\n",
      "https://sense-nets.xyz/quotesPost -> https://x.com/maxkreminski/status/1030838313429528576\n",
      "http://purl.org/spar/cito/includesQuotationFrom -> https://x.com/maxkreminski/status/1030838313429528576\n"
     ]
    }
   ],
   "source": [
    "# Query for relations\n",
    "relations_query = \"\"\"\n",
    "    SELECT ?relation ?target\n",
    "    WHERE {\n",
    "        ?post ?relation ?target .\n",
    "        FILTER (?relation NOT IN (schema:keywords, <https://sense-nets.xyz/hasZoteroItemType>)) # Exclude keywords\n",
    "    }\n",
    "\"\"\"\n",
    "relations = g.query(relations_query)\n",
    "print(\"\\nRelations:\")\n",
    "for row in relations:\n",
    "    print(f\"{row.relation} -> {row.target}\")\n",
    "\n"
   ]
  },
  {
   "cell_type": "code",
   "execution_count": 58,
   "metadata": {},
   "outputs": [
    {
     "name": "stdout",
     "output_type": "stream",
     "text": [
      "\n",
      "Specific Relations:\n",
      "http://purl.org/spar/cito/discusses -> https://x.com/aeberman12/status/1829356227861581938\n",
      "http://purl.org/spar/cito/disagreesWith -> https://x.com/aeberman12/status/1829356227861581938\n",
      "http://purl.org/spar/cito/reviews -> https://vaclavsmil.com/2022/07/11/how-the-world-really-works-2/\n"
     ]
    }
   ],
   "source": [
    "# If you want to extract specific relations (like disagreesWith, discusses, etc.)\n",
    "specific_relations_query = \"\"\"\n",
    "    SELECT ?relation ?target\n",
    "    WHERE {\n",
    "        ?post ?relation ?target .\n",
    "        FILTER (?relation IN (ns1:disagreesWith, ns1:discusses, ns1:reviews))\n",
    "    }\n",
    "\"\"\"\n",
    "specific_relations = g.query(specific_relations_query)\n",
    "print(\"\\nSpecific Relations:\")\n",
    "for row in specific_relations:\n",
    "    print(f\"{row.relation} -> {row.target}\")"
   ]
  },
  {
   "attachments": {},
   "cell_type": "markdown",
   "metadata": {},
   "source": [
    "Testing Firebase client for querrieng "
   ]
  },
  {
   "cell_type": "code",
   "execution_count": 2,
   "metadata": {},
   "outputs": [],
   "source": [
    "import firebase_admin\n",
    "from firebase_admin import credentials, firestore\n",
    "\n",
    "# Path to your service account key\n",
    "cred = credentials.Certificate('creds/sensenets-dataset-firebase-adminsdk-rpero-9c552cac56.json')\n",
    "firebase_admin.initialize_app(cred)\n",
    "\n",
    "# Initialize Firestore DB\n",
    "db = firestore.client()\n"
   ]
  },
  {
   "cell_type": "code",
   "execution_count": 100,
   "metadata": {},
   "outputs": [
    {
     "name": "stdout",
     "output_type": "stream",
     "text": [
      "Collection ID: activity\n",
      "Collection ID: platformPosts\n",
      "Collection ID: posts\n",
      "Collection ID: profiles\n",
      "Collection ID: triples\n",
      "Collection ID: updates\n",
      "Collection ID: users\n"
     ]
    }
   ],
   "source": [
    "# Get all collections\n",
    "collections = db.collections()\n",
    "\n",
    "# Print the collection IDs\n",
    "for collection in collections:\n",
    "    print(f'Collection ID: {collection.id}')"
   ]
  },
  {
   "cell_type": "code",
   "execution_count": null,
   "metadata": {},
   "outputs": [],
   "source": [
    "# Define the postId you're searching for\n",
    "search_post_id = 'DByYa9oJNRQpADcIhIEq'\n",
    "\n",
    "# Query the triplets collection by postId\n",
    "triplets_ref = db.collection('posts').document(search_post_id)\n",
    "\n",
    "# Execute the query\n",
    "docs = triplets_ref.get()\n",
    "# Print the results\n",
    "print(docs.to_dict())"
   ]
  },
  {
   "cell_type": "code",
   "execution_count": 112,
   "metadata": {},
   "outputs": [
    {
     "name": "stdout",
     "output_type": "stream",
     "text": [
      "00HGDA8ZWEDRQ61D5I9o => {'createdAtMs': 1722715949000, 'subject': 'https://jimruttshow.blubrry.net/', 'authorId': 'twitter:550845228', 'object': 'webpage', 'predicate': 'https://sense-nets.xyz/hasZoteroItemType', 'postId': 'VbSNNWfSRxsIj2uGghbb'}\n"
     ]
    }
   ],
   "source": [
    "# Query the latest 10 users, ordered by the 'created_at' timestamp in descending order\n",
    "users_ref = db.collection('triples').limit(1)\n",
    "\n",
    "# Execute the query\n",
    "docs = users_ref.stream()\n",
    "\n",
    "# Print the results\n",
    "for doc in docs:\n",
    "    print(f'{doc.id} => {doc.to_dict()}')"
   ]
  },
  {
   "cell_type": "code",
   "execution_count": 9,
   "metadata": {},
   "outputs": [
    {
     "name": "stdout",
     "output_type": "stream",
     "text": [
      "In574MX8980H9F1LDClG => {'createdAtMs': 1727141212000, 'subject': 'https://sense-nets.xyz/mySemanticPost', 'authorId': 'twitter:2982901306', 'object': 'https://docs.google.com/forms/d/e/1FAIpQLScCfXujsntp0NvXXD4uIhnMNHXBhrMQ0_YiW84yZaNsaTwIrw/viewform', 'predicate': 'http://purl.org/spar/cito/linksTo', 'postId': 'Y21avGq4ZfNiN78zaFPy'}\n",
      "VB2dZ4CYVZWc81NunpBA => {'createdAtMs': 1727141212000, 'subject': 'https://sense-nets.xyz/mySemanticPost', 'authorId': 'twitter:2982901306', 'object': 'NYC', 'predicate': 'https://schema.org/keywords', 'postId': 'Y21avGq4ZfNiN78zaFPy'}\n",
      "Vu4ivyQqCY6RNu8FgSoQ => {'createdAtMs': 1727141212000, 'subject': 'https://sense-nets.xyz/mySemanticPost', 'authorId': 'twitter:2982901306', 'object': 'social', 'predicate': 'https://schema.org/keywords', 'postId': 'Y21avGq4ZfNiN78zaFPy'}\n",
      "ZWaO0mvp4oGRrZYR0YmL => {'createdAtMs': 1727141212000, 'subject': 'https://docs.google.com/forms/d/e/1FAIpQLScCfXujsntp0NvXXD4uIhnMNHXBhrMQ0_YiW84yZaNsaTwIrw/viewform', 'authorId': 'twitter:2982901306', 'object': 'webpage', 'predicate': 'https://sense-nets.xyz/hasZoteroItemType', 'postId': 'Y21avGq4ZfNiN78zaFPy'}\n",
      "hTIFnFyUuXDxqH2wKPtl => {'createdAtMs': 1727141212000, 'subject': 'https://sense-nets.xyz/mySemanticPost', 'authorId': 'twitter:2982901306', 'object': 'chalktalks', 'predicate': 'https://schema.org/keywords', 'postId': 'Y21avGq4ZfNiN78zaFPy'}\n",
      "sW8WjWbSUCufW3DXNy3F => {'createdAtMs': 1727141212000, 'subject': 'https://sense-nets.xyz/mySemanticPost', 'authorId': 'twitter:2982901306', 'object': 'brainstorming', 'predicate': 'https://schema.org/keywords', 'postId': 'Y21avGq4ZfNiN78zaFPy'}\n",
      "spsPn3k36HZEk5ynP5Al => {'createdAtMs': 1727141212000, 'subject': 'https://sense-nets.xyz/mySemanticPost', 'authorId': 'twitter:2982901306', 'object': 'postdocs', 'predicate': 'https://schema.org/keywords', 'postId': 'Y21avGq4ZfNiN78zaFPy'}\n"
     ]
    }
   ],
   "source": [
    "# Define the postId you're searching for\n",
    "search_post_id = 'Y21avGq4ZfNiN78zaFPy'\n",
    "\n",
    "# Query the triplets collection by postId\n",
    "triplets_ref = db.collection('triples').where('postId', '==', search_post_id)\n",
    "\n",
    "# Execute the query\n",
    "docs = triplets_ref.stream()\n",
    "# Print the results\n",
    "for doc in docs:\n",
    "    print(f'{doc.id} => {doc.to_dict()}')"
   ]
  },
  {
   "attachments": {},
   "cell_type": "markdown",
   "metadata": {},
   "source": [
    "## Testing firebase scraping and parsing endpoint"
   ]
  },
  {
   "cell_type": "code",
   "execution_count": 44,
   "metadata": {},
   "outputs": [],
   "source": [
    "#dependencies\n",
    "import json\n",
    "import requests\n",
    "import argparse\n",
    "import os\n",
    "from dotenv import load_dotenv\n",
    "import time\n"
   ]
  },
  {
   "cell_type": "code",
   "execution_count": 11,
   "metadata": {},
   "outputs": [],
   "source": [
    "#initiate settings\n",
    "# Boolean constant for ghosting feature\n",
    "IS_GHOST = True\n",
    "# Parse the arguments\n",
    "load_dotenv()\n",
    "admin_key = os.getenv('FIREBASE_ADMIN_API_KEY')\n"
   ]
  },
  {
   "cell_type": "code",
   "execution_count": 52,
   "metadata": {},
   "outputs": [],
   "source": [
    "def scrape_posts_for_users(users, admin_key):\n",
    "    user_ids = []\n",
    "    for user in users:\n",
    "        # Build the JSON body\n",
    "        data = {\n",
    "            \"username\": user[\"username\"],  # excludes the '@' character\n",
    "            \"platformId\": user[\"platformId\"],  # \"twitter\" or \"mastodon\"\n",
    "            \"amount\": user[\"amount\"],  # the number of threads you want to fetch from the platform\n",
    "            \"isGhost\": IS_GHOST  # should always be true\n",
    "        }\n",
    "\n",
    "        # Add optional parameters if they are provided\n",
    "        if \"mastodonServer\" in user and user[\"mastodonServer\"]:\n",
    "            data[\"mastodonServer\"] = user[\"mastodonServer\"]  # e.g. 'mastodon.social'\n",
    "        \n",
    "        if \"latest\" in user and user[\"latest\"]:\n",
    "            data[\"latest\"] = user[\"latest\"]  # fetch latest posts if true\n",
    "\n",
    "        if \"userId\" in user and user[\"userId\"]:\n",
    "            data[\"userId\"] = user[\"userId\"]  # optional user ID\n",
    "\n",
    "        # Convert the dictionary to a JSON string\n",
    "        json_body = json.dumps(data)\n",
    "\n",
    "        # Define the headers\n",
    "        headers = {\n",
    "            \"Content-Type\": \"application/json\",\n",
    "            \"admin-api-key\": admin_key  # your admin key for authentication\n",
    "        }\n",
    "\n",
    "        # Execute the POST request\n",
    "        response = requests.post(\n",
    "            'https://us-central1-sensenets-dataset.cloudfunctions.net/admin/addUserData',\n",
    "            headers=headers,\n",
    "            data=json_body\n",
    "        )\n",
    "\n",
    "        # Handle the response\n",
    "        if response.status_code == 200:\n",
    "            print(f\"Success for {user['username']}:\")\n",
    "            user_id = response.json()['data'][0]['post']['authorId']\n",
    "            user_ids.append(user_id)\n",
    "            while count_unparsed_posts_by_user(user_ids)>250:\n",
    "                time.sleep(50)\n",
    "        else:\n",
    "            print(f\"Failed for {user['username']} with status code {response.status_code}: {response.text}\")\n",
    "\n",
    "def count_unparsed_posts_by_user(user_id):\n",
    "    # Query to count documents\n",
    "    count_result = db.collection('posts') \\\n",
    "                     .where('authorId', 'in' , user_id) \\\n",
    "                     .where('parsedStatus', '==', \"unprocessed\") \\\n",
    "                     .count().get()\n",
    "\n",
    "    # Access the count value from the result\n",
    "    count = int(count_result[0][0].value)  # This assumes you get one result and one alias\n",
    "    print(f'users with ids {user_id} has {count} unprocessed posts')\n",
    "    return count\n",
    "\n",
    "\n"
   ]
  },
  {
   "cell_type": "code",
   "execution_count": 53,
   "metadata": {},
   "outputs": [],
   "source": [
    "users = [\n",
    "\n",
    "  \n",
    "    {\n",
    "        \"username\": \"smcgrath.bsky.social\",\n",
    "        \"platformId\": \"bluesky\",\n",
    "        \"amount\": 100,\n",
    "        \"latest\": None\n",
    "    },\n",
    "    {\n",
    "        \"username\": \"mickeykats.bsky.social\",\n",
    "        \"platformId\": \"bluesky\",\n",
    "        \"amount\": 100,\n",
    "        \"latest\": None\n",
    "    },\n",
    "    {\n",
    "        \"username\": \"stephenserjeant.bsky.social\",\n",
    "        \"platformId\": \"bluesky\",\n",
    "        \"amount\": 100,\n",
    "        \"latest\": None\n",
    "    },\n",
    "    {\n",
    "        \"username\": \"sobey.bsky.social\",\n",
    "        \"platformId\": \"bluesky\",\n",
    "        \"amount\": 100,\n",
    "        \"latest\": None\n",
    "    },\n",
    "    {\n",
    "        \"username\": \"sailorrooscout.bsky.social\",\n",
    "        \"platformId\": \"bluesky\",\n",
    "        \"amount\": 100,\n",
    "        \"latest\": None\n",
    "    },\n",
    "    {\n",
    "        \"username\": \"davidbflower.bsky.social\",\n",
    "        \"platformId\": \"bluesky\",\n",
    "        \"amount\": 100,\n",
    "        \"latest\": None\n",
    "    },\n",
    "    {\n",
    "        \"username\": \"jascha.bsky.social\",\n",
    "        \"platformId\": \"bluesky\",\n",
    "        \"amount\": 100,\n",
    "        \"latest\": None\n",
    "    },\n",
    "    {\n",
    "        \"username\": \"natureportfolio.bsky.social\",\n",
    "        \"platformId\": \"bluesky\",\n",
    "        \"amount\": 100,\n",
    "        \"latest\": None\n",
    "    },\n",
    "    {\n",
    "        \"username\": \"jxbotany.bsky.social\",\n",
    "        \"platformId\": \"bluesky\",\n",
    "        \"amount\": 100,\n",
    "        \"latest\": None\n",
    "    }\n",
    "\n",
    "]\n"
   ]
  },
  {
   "cell_type": "code",
   "execution_count": 54,
   "metadata": {},
   "outputs": [
    {
     "name": "stdout",
     "output_type": "stream",
     "text": [
      "Success for smcgrath.bsky.social:\n",
      "users with ids ['bluesky:did:plc:lrzkd5exmxqrblbruvjieofj'] has 107 unprocessed posts\n"
     ]
    },
    {
     "name": "stderr",
     "output_type": "stream",
     "text": [
      "/var/folders/j3/1_zy_b4s2517g8j_rjjdhd4h0000gn/T/ipykernel_11189/381575337.py:52: UserWarning: Detected filter using positional arguments. Prefer using the 'filter' keyword argument instead.\n",
      "  .where('parsedStatus', '==', \"unprocessed\") \\\n"
     ]
    },
    {
     "name": "stdout",
     "output_type": "stream",
     "text": [
      "Success for mickeykats.bsky.social:\n",
      "users with ids ['bluesky:did:plc:lrzkd5exmxqrblbruvjieofj', 'bluesky:did:plc:abkp4sglznvkptyncrltve6t'] has 216 unprocessed posts\n",
      "Success for stephenserjeant.bsky.social:\n",
      "users with ids ['bluesky:did:plc:lrzkd5exmxqrblbruvjieofj', 'bluesky:did:plc:abkp4sglznvkptyncrltve6t', 'bluesky:did:plc:5h3l5nulvxsz5fl3vuq4lubx'] has 316 unprocessed posts\n",
      "users with ids ['bluesky:did:plc:lrzkd5exmxqrblbruvjieofj', 'bluesky:did:plc:abkp4sglznvkptyncrltve6t', 'bluesky:did:plc:5h3l5nulvxsz5fl3vuq4lubx'] has 240 unprocessed posts\n",
      "Success for sobey.bsky.social:\n",
      "users with ids ['bluesky:did:plc:lrzkd5exmxqrblbruvjieofj', 'bluesky:did:plc:abkp4sglznvkptyncrltve6t', 'bluesky:did:plc:5h3l5nulvxsz5fl3vuq4lubx', 'bluesky:did:plc:ebtg6vbw2nwzfpbvnebfmtzh'] has 338 unprocessed posts\n",
      "users with ids ['bluesky:did:plc:lrzkd5exmxqrblbruvjieofj', 'bluesky:did:plc:abkp4sglznvkptyncrltve6t', 'bluesky:did:plc:5h3l5nulvxsz5fl3vuq4lubx', 'bluesky:did:plc:ebtg6vbw2nwzfpbvnebfmtzh'] has 251 unprocessed posts\n",
      "users with ids ['bluesky:did:plc:lrzkd5exmxqrblbruvjieofj', 'bluesky:did:plc:abkp4sglznvkptyncrltve6t', 'bluesky:did:plc:5h3l5nulvxsz5fl3vuq4lubx', 'bluesky:did:plc:ebtg6vbw2nwzfpbvnebfmtzh'] has 206 unprocessed posts\n",
      "Success for sailorrooscout.bsky.social:\n",
      "users with ids ['bluesky:did:plc:lrzkd5exmxqrblbruvjieofj', 'bluesky:did:plc:abkp4sglznvkptyncrltve6t', 'bluesky:did:plc:5h3l5nulvxsz5fl3vuq4lubx', 'bluesky:did:plc:ebtg6vbw2nwzfpbvnebfmtzh', 'bluesky:did:plc:llgfbjvsqkaicezsf7mzjxr3'] has 290 unprocessed posts\n",
      "users with ids ['bluesky:did:plc:lrzkd5exmxqrblbruvjieofj', 'bluesky:did:plc:abkp4sglznvkptyncrltve6t', 'bluesky:did:plc:5h3l5nulvxsz5fl3vuq4lubx', 'bluesky:did:plc:ebtg6vbw2nwzfpbvnebfmtzh', 'bluesky:did:plc:llgfbjvsqkaicezsf7mzjxr3'] has 267 unprocessed posts\n",
      "users with ids ['bluesky:did:plc:lrzkd5exmxqrblbruvjieofj', 'bluesky:did:plc:abkp4sglznvkptyncrltve6t', 'bluesky:did:plc:5h3l5nulvxsz5fl3vuq4lubx', 'bluesky:did:plc:ebtg6vbw2nwzfpbvnebfmtzh', 'bluesky:did:plc:llgfbjvsqkaicezsf7mzjxr3'] has 266 unprocessed posts\n",
      "users with ids ['bluesky:did:plc:lrzkd5exmxqrblbruvjieofj', 'bluesky:did:plc:abkp4sglznvkptyncrltve6t', 'bluesky:did:plc:5h3l5nulvxsz5fl3vuq4lubx', 'bluesky:did:plc:ebtg6vbw2nwzfpbvnebfmtzh', 'bluesky:did:plc:llgfbjvsqkaicezsf7mzjxr3'] has 255 unprocessed posts\n",
      "users with ids ['bluesky:did:plc:lrzkd5exmxqrblbruvjieofj', 'bluesky:did:plc:abkp4sglznvkptyncrltve6t', 'bluesky:did:plc:5h3l5nulvxsz5fl3vuq4lubx', 'bluesky:did:plc:ebtg6vbw2nwzfpbvnebfmtzh', 'bluesky:did:plc:llgfbjvsqkaicezsf7mzjxr3'] has 246 unprocessed posts\n",
      "Success for davidbflower.bsky.social:\n",
      "users with ids ['bluesky:did:plc:lrzkd5exmxqrblbruvjieofj', 'bluesky:did:plc:abkp4sglznvkptyncrltve6t', 'bluesky:did:plc:5h3l5nulvxsz5fl3vuq4lubx', 'bluesky:did:plc:ebtg6vbw2nwzfpbvnebfmtzh', 'bluesky:did:plc:llgfbjvsqkaicezsf7mzjxr3', 'bluesky:did:plc:yh5kl53hwy7rhahgcsuyef5a'] has 356 unprocessed posts\n",
      "users with ids ['bluesky:did:plc:lrzkd5exmxqrblbruvjieofj', 'bluesky:did:plc:abkp4sglznvkptyncrltve6t', 'bluesky:did:plc:5h3l5nulvxsz5fl3vuq4lubx', 'bluesky:did:plc:ebtg6vbw2nwzfpbvnebfmtzh', 'bluesky:did:plc:llgfbjvsqkaicezsf7mzjxr3', 'bluesky:did:plc:yh5kl53hwy7rhahgcsuyef5a'] has 349 unprocessed posts\n",
      "users with ids ['bluesky:did:plc:lrzkd5exmxqrblbruvjieofj', 'bluesky:did:plc:abkp4sglznvkptyncrltve6t', 'bluesky:did:plc:5h3l5nulvxsz5fl3vuq4lubx', 'bluesky:did:plc:ebtg6vbw2nwzfpbvnebfmtzh', 'bluesky:did:plc:llgfbjvsqkaicezsf7mzjxr3', 'bluesky:did:plc:yh5kl53hwy7rhahgcsuyef5a'] has 329 unprocessed posts\n",
      "users with ids ['bluesky:did:plc:lrzkd5exmxqrblbruvjieofj', 'bluesky:did:plc:abkp4sglznvkptyncrltve6t', 'bluesky:did:plc:5h3l5nulvxsz5fl3vuq4lubx', 'bluesky:did:plc:ebtg6vbw2nwzfpbvnebfmtzh', 'bluesky:did:plc:llgfbjvsqkaicezsf7mzjxr3', 'bluesky:did:plc:yh5kl53hwy7rhahgcsuyef5a'] has 268 unprocessed posts\n",
      "users with ids ['bluesky:did:plc:lrzkd5exmxqrblbruvjieofj', 'bluesky:did:plc:abkp4sglznvkptyncrltve6t', 'bluesky:did:plc:5h3l5nulvxsz5fl3vuq4lubx', 'bluesky:did:plc:ebtg6vbw2nwzfpbvnebfmtzh', 'bluesky:did:plc:llgfbjvsqkaicezsf7mzjxr3', 'bluesky:did:plc:yh5kl53hwy7rhahgcsuyef5a'] has 213 unprocessed posts\n",
      "Success for jascha.bsky.social:\n",
      "users with ids ['bluesky:did:plc:lrzkd5exmxqrblbruvjieofj', 'bluesky:did:plc:abkp4sglznvkptyncrltve6t', 'bluesky:did:plc:5h3l5nulvxsz5fl3vuq4lubx', 'bluesky:did:plc:ebtg6vbw2nwzfpbvnebfmtzh', 'bluesky:did:plc:llgfbjvsqkaicezsf7mzjxr3', 'bluesky:did:plc:yh5kl53hwy7rhahgcsuyef5a', 'bluesky:did:plc:hyb3mo6i5uhlidnnefhxqeh3'] has 324 unprocessed posts\n",
      "users with ids ['bluesky:did:plc:lrzkd5exmxqrblbruvjieofj', 'bluesky:did:plc:abkp4sglznvkptyncrltve6t', 'bluesky:did:plc:5h3l5nulvxsz5fl3vuq4lubx', 'bluesky:did:plc:ebtg6vbw2nwzfpbvnebfmtzh', 'bluesky:did:plc:llgfbjvsqkaicezsf7mzjxr3', 'bluesky:did:plc:yh5kl53hwy7rhahgcsuyef5a', 'bluesky:did:plc:hyb3mo6i5uhlidnnefhxqeh3'] has 276 unprocessed posts\n",
      "users with ids ['bluesky:did:plc:lrzkd5exmxqrblbruvjieofj', 'bluesky:did:plc:abkp4sglznvkptyncrltve6t', 'bluesky:did:plc:5h3l5nulvxsz5fl3vuq4lubx', 'bluesky:did:plc:ebtg6vbw2nwzfpbvnebfmtzh', 'bluesky:did:plc:llgfbjvsqkaicezsf7mzjxr3', 'bluesky:did:plc:yh5kl53hwy7rhahgcsuyef5a', 'bluesky:did:plc:hyb3mo6i5uhlidnnefhxqeh3'] has 243 unprocessed posts\n",
      "Success for natureportfolio.bsky.social:\n",
      "users with ids ['bluesky:did:plc:lrzkd5exmxqrblbruvjieofj', 'bluesky:did:plc:abkp4sglznvkptyncrltve6t', 'bluesky:did:plc:5h3l5nulvxsz5fl3vuq4lubx', 'bluesky:did:plc:ebtg6vbw2nwzfpbvnebfmtzh', 'bluesky:did:plc:llgfbjvsqkaicezsf7mzjxr3', 'bluesky:did:plc:yh5kl53hwy7rhahgcsuyef5a', 'bluesky:did:plc:hyb3mo6i5uhlidnnefhxqeh3', 'bluesky:did:plc:jyctnrcv5dznuu67bkjjlf3t'] has 337 unprocessed posts\n",
      "users with ids ['bluesky:did:plc:lrzkd5exmxqrblbruvjieofj', 'bluesky:did:plc:abkp4sglznvkptyncrltve6t', 'bluesky:did:plc:5h3l5nulvxsz5fl3vuq4lubx', 'bluesky:did:plc:ebtg6vbw2nwzfpbvnebfmtzh', 'bluesky:did:plc:llgfbjvsqkaicezsf7mzjxr3', 'bluesky:did:plc:yh5kl53hwy7rhahgcsuyef5a', 'bluesky:did:plc:hyb3mo6i5uhlidnnefhxqeh3', 'bluesky:did:plc:jyctnrcv5dznuu67bkjjlf3t'] has 279 unprocessed posts\n",
      "users with ids ['bluesky:did:plc:lrzkd5exmxqrblbruvjieofj', 'bluesky:did:plc:abkp4sglznvkptyncrltve6t', 'bluesky:did:plc:5h3l5nulvxsz5fl3vuq4lubx', 'bluesky:did:plc:ebtg6vbw2nwzfpbvnebfmtzh', 'bluesky:did:plc:llgfbjvsqkaicezsf7mzjxr3', 'bluesky:did:plc:yh5kl53hwy7rhahgcsuyef5a', 'bluesky:did:plc:hyb3mo6i5uhlidnnefhxqeh3', 'bluesky:did:plc:jyctnrcv5dznuu67bkjjlf3t'] has 254 unprocessed posts\n",
      "users with ids ['bluesky:did:plc:lrzkd5exmxqrblbruvjieofj', 'bluesky:did:plc:abkp4sglznvkptyncrltve6t', 'bluesky:did:plc:5h3l5nulvxsz5fl3vuq4lubx', 'bluesky:did:plc:ebtg6vbw2nwzfpbvnebfmtzh', 'bluesky:did:plc:llgfbjvsqkaicezsf7mzjxr3', 'bluesky:did:plc:yh5kl53hwy7rhahgcsuyef5a', 'bluesky:did:plc:hyb3mo6i5uhlidnnefhxqeh3', 'bluesky:did:plc:jyctnrcv5dznuu67bkjjlf3t'] has 236 unprocessed posts\n",
      "Success for jxbotany.bsky.social:\n",
      "users with ids ['bluesky:did:plc:lrzkd5exmxqrblbruvjieofj', 'bluesky:did:plc:abkp4sglznvkptyncrltve6t', 'bluesky:did:plc:5h3l5nulvxsz5fl3vuq4lubx', 'bluesky:did:plc:ebtg6vbw2nwzfpbvnebfmtzh', 'bluesky:did:plc:llgfbjvsqkaicezsf7mzjxr3', 'bluesky:did:plc:yh5kl53hwy7rhahgcsuyef5a', 'bluesky:did:plc:hyb3mo6i5uhlidnnefhxqeh3', 'bluesky:did:plc:jyctnrcv5dznuu67bkjjlf3t', 'bluesky:did:plc:ggz22gcwkakll7efac23g33s'] has 354 unprocessed posts\n",
      "users with ids ['bluesky:did:plc:lrzkd5exmxqrblbruvjieofj', 'bluesky:did:plc:abkp4sglznvkptyncrltve6t', 'bluesky:did:plc:5h3l5nulvxsz5fl3vuq4lubx', 'bluesky:did:plc:ebtg6vbw2nwzfpbvnebfmtzh', 'bluesky:did:plc:llgfbjvsqkaicezsf7mzjxr3', 'bluesky:did:plc:yh5kl53hwy7rhahgcsuyef5a', 'bluesky:did:plc:hyb3mo6i5uhlidnnefhxqeh3', 'bluesky:did:plc:jyctnrcv5dznuu67bkjjlf3t', 'bluesky:did:plc:ggz22gcwkakll7efac23g33s'] has 339 unprocessed posts\n",
      "users with ids ['bluesky:did:plc:lrzkd5exmxqrblbruvjieofj', 'bluesky:did:plc:abkp4sglznvkptyncrltve6t', 'bluesky:did:plc:5h3l5nulvxsz5fl3vuq4lubx', 'bluesky:did:plc:ebtg6vbw2nwzfpbvnebfmtzh', 'bluesky:did:plc:llgfbjvsqkaicezsf7mzjxr3', 'bluesky:did:plc:yh5kl53hwy7rhahgcsuyef5a', 'bluesky:did:plc:hyb3mo6i5uhlidnnefhxqeh3', 'bluesky:did:plc:jyctnrcv5dznuu67bkjjlf3t', 'bluesky:did:plc:ggz22gcwkakll7efac23g33s'] has 296 unprocessed posts\n",
      "users with ids ['bluesky:did:plc:lrzkd5exmxqrblbruvjieofj', 'bluesky:did:plc:abkp4sglznvkptyncrltve6t', 'bluesky:did:plc:5h3l5nulvxsz5fl3vuq4lubx', 'bluesky:did:plc:ebtg6vbw2nwzfpbvnebfmtzh', 'bluesky:did:plc:llgfbjvsqkaicezsf7mzjxr3', 'bluesky:did:plc:yh5kl53hwy7rhahgcsuyef5a', 'bluesky:did:plc:hyb3mo6i5uhlidnnefhxqeh3', 'bluesky:did:plc:jyctnrcv5dznuu67bkjjlf3t', 'bluesky:did:plc:ggz22gcwkakll7efac23g33s'] has 265 unprocessed posts\n",
      "users with ids ['bluesky:did:plc:lrzkd5exmxqrblbruvjieofj', 'bluesky:did:plc:abkp4sglznvkptyncrltve6t', 'bluesky:did:plc:5h3l5nulvxsz5fl3vuq4lubx', 'bluesky:did:plc:ebtg6vbw2nwzfpbvnebfmtzh', 'bluesky:did:plc:llgfbjvsqkaicezsf7mzjxr3', 'bluesky:did:plc:yh5kl53hwy7rhahgcsuyef5a', 'bluesky:did:plc:hyb3mo6i5uhlidnnefhxqeh3', 'bluesky:did:plc:jyctnrcv5dznuu67bkjjlf3t', 'bluesky:did:plc:ggz22gcwkakll7efac23g33s'] has 243 unprocessed posts\n"
     ]
    }
   ],
   "source": [
    "\n",
    "\n",
    "# Call the function to scrape posts for all users in the JSON\n",
    "response = scrape_posts_for_users(users, admin_key)"
   ]
  },
  {
   "cell_type": "code",
   "execution_count": 29,
   "metadata": {},
   "outputs": [
    {
     "name": "stdout",
     "output_type": "stream",
     "text": [
      "dict_keys(['post', 'platformPost'])\n"
     ]
    }
   ],
   "source": [
    "print(response.json()['data'][0].keys())"
   ]
  },
  {
   "cell_type": "code",
   "execution_count": 28,
   "metadata": {},
   "outputs": [
    {
     "name": "stdout",
     "output_type": "stream",
     "text": [
      "bluesky:did:plc:yj436z2s2v37rvaw33lc4ryq\n"
     ]
    }
   ],
   "source": [
    "print(response.json()['data'][0]['post']['authorId'])"
   ]
  }
 ],
 "metadata": {
  "kernelspec": {
   "display_name": "Python 3",
   "language": "python",
   "name": "python3"
  },
  "language_info": {
   "codemirror_mode": {
    "name": "ipython",
    "version": 3
   },
   "file_extension": ".py",
   "mimetype": "text/x-python",
   "name": "python",
   "nbconvert_exporter": "python",
   "pygments_lexer": "ipython3",
   "version": "3.11.2"
  },
  "orig_nbformat": 4,
  "vscode": {
   "interpreter": {
    "hash": "aee8b7b246df8f9039afb4144a1f6fd8d2ca17a180786b69acc140d282b71a49"
   }
  }
 },
 "nbformat": 4,
 "nbformat_minor": 2
}
