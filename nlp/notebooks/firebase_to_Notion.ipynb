{
 "cells": [
  {
   "cell_type": "code",
   "execution_count": 56,
   "metadata": {},
   "outputs": [],
   "source": [
    "#Initiate Notion client\n",
    "\n",
    "import os\n",
    "from dotenv import load_dotenv\n",
    "from notion_client import Client\n",
    "\n",
    "load_dotenv()\n",
    "\n",
    "NOTION_API_TOKEN = os.getenv('NOTION_SENSENETS_TOKEN')\n",
    "URLS_DATABASE_ID = os.getenv('NOTION_URLS_DATABASE_ID')\n",
    "POSTS_DATABASE_ID = os.getenv('NOTION_POSTS_DATABASE_ID')\n",
    "PROFILES_DATABASE_ID =os.getenv('NOTION_PROFILES_DATABASE_ID')\n",
    "KEYWORDS_DATABASE_ID = os.getenv(\"NOTION_KEYWORDS_DATABASE_ID\")\n",
    "HEADERS = {\n",
    "    'Authorization': f'Bearer {NOTION_API_TOKEN}',\n",
    "    'Content-Type': 'application/json',\n",
    "    'Notion-Version': '2022-06-28'\n",
    "}\n",
    "notion = Client(auth=NOTION_API_TOKEN)"
   ]
  },
  {
   "cell_type": "code",
   "execution_count": 2,
   "metadata": {},
   "outputs": [],
   "source": [
    "#Initiate firebase client\n",
    "import firebase_admin\n",
    "from firebase_admin import credentials, firestore\n",
    "\n",
    "# Path to your service account key\n",
    "cred = credentials.Certificate('creds/sensenets-dataset-firebase-adminsdk-rpero-9c552cac56.json')\n",
    "firebase_admin.initialize_app(cred)\n",
    "\n",
    "# Initialize Firestore DB\n",
    "db = firestore.client()\n"
   ]
  },
  {
   "cell_type": "code",
   "execution_count": 90,
   "metadata": {},
   "outputs": [],
   "source": [
    "#functions for mapping json to Notion profile table\n",
    "def search_profile_in_notion(firebase_id):\n",
    "    response = notion.databases.query(\n",
    "        **{\n",
    "            \"database_id\": PROFILES_DATABASE_ID,\n",
    "            \"filter\": {\n",
    "                \"property\": \"firebase_id\",  # The property name in Notion\n",
    "                \"rich_text\": {\n",
    "                    \"equals\": firebase_id  # Use 'equals' to match the authorId exactly\n",
    "                }\n",
    "            }\n",
    "        }\n",
    "    )\n",
    "    \n",
    "    # Check if any results are found\n",
    "    if response[\"results\"]:\n",
    "        print(f\"Profile found for authorId: {firebase_id}\")\n",
    "        return response[\"results\"][0][\"id\"]  # Return the first matched profile ID if it exists\n",
    "    else:\n",
    "        print(f\"No profile found for authorId: {firebase_id}\")\n",
    "        return None\n",
    "    \n",
    "def build_base_notion_profile(profile_doc:dict,profile_id:str):\n",
    "    print(\"in build profile page\")\n",
    "    platform = profile_doc[\"platformIds\"][0].split(':')[0]\n",
    "    profile = profile_doc[platform][0][\"profile\"]\n",
    "    #make handle modular to include mastodon\n",
    "    handle = profile[\"username\"]\n",
    "    if platform == 'mastodon':\n",
    "        handle_field = \"Mastodon Handle\"\n",
    "        platformId_field = \"mastodon_id\"\n",
    "        name = profile['displayName']\n",
    "\n",
    "    else:\n",
    "        handle_field = \"Twitter Handle\"\n",
    "        platformId_field = \"twitter_id\"\n",
    "        name = profile['name']\n",
    "\n",
    "    platform_id = profile['id']\n",
    "    firebase_id = profile_id\n",
    "    response = notion.pages.create(\n",
    "        **{\n",
    "            \"parent\": {\"database_id\": PROFILES_DATABASE_ID},\n",
    "            \"properties\": {\n",
    "                \"Name\": {\n",
    "                    \"title\": [\n",
    "                        {\n",
    "                            \"text\": {\"content\": name}\n",
    "                        }\n",
    "                    ]\n",
    "                },\n",
    "                handle_field: {\n",
    "                     \"rich_text\": [\n",
    "                        {\n",
    "                            \"text\": {\"content\": handle}\n",
    "                        }\n",
    "                    ]\n",
    "                },\n",
    "                \"firebase_id\": {\n",
    "                     \"rich_text\": [\n",
    "                        {\n",
    "                            \"text\": {\"content\": firebase_id}\n",
    "                        }\n",
    "                    ]\n",
    "                },\n",
    "                platformId_field: {\n",
    "                     \"rich_text\": [\n",
    "                        {\n",
    "                            \"text\": {\"content\": platform_id}\n",
    "                        }\n",
    "                    ]\n",
    "                },\n",
    "                 \"Platforms\": {\n",
    "                    \"multi_select\": [\n",
    "                        {\"name\": platform} \n",
    "                    ]\n",
    "                }\n",
    "            }\n",
    "        }\n",
    "    )\n",
    "    \n",
    "    print(f\"Created new page for profile with name: {name}\")\n",
    "    return response[\"id\"]  # Return the page ID of the created URL page\n"
   ]
  },
  {
   "cell_type": "code",
   "execution_count": 73,
   "metadata": {},
   "outputs": [
    {
     "name": "stdout",
     "output_type": "stream",
     "text": [
      "mastodon:107714271376772838 => {'mastodon': [{'fetched': {'oldest_id': '110573206339687503', 'newest_id': '112903729932000692'}, 'read': {'accessToken': 'b2DpTiV5xxYjMXyf71D2WBtgmTZ7NNAdLciup7LBawY'}, 'user_id': '107714271376772838', 'profile': {'avatar': 'https://files.mastodon.social/accounts/avatars/107/714/271/376/772/838/original/9331699b5c120ed4.jpg', 'mastodonServer': 'mastodon.social', 'displayName': 'Ronen Tamari', 'id': '107714271376772838', 'username': 'ronent'}, 'signupDate': 1726521428364}], 'settings': {'notificationFreq': 'daily', 'autopost': {'nanopub': {'value': 'MANUAL'}}}, 'platformIds': ['mastodon:107714271376772838'], 'signupDate': 1726521428679}\n",
      "mastodon:109301127580127072 => {'mastodon': [{'fetched': {'oldest_id': '112920697751318393', 'newest_id': '113127425695271858'}, 'read': {'accessToken': 'b2DpTiV5xxYjMXyf71D2WBtgmTZ7NNAdLciup7LBawY'}, 'user_id': '109301127580127072', 'profile': {'avatar': 'https://fediscience.org/system/accounts/avatars/109/301/127/580/127/072/original/336fe0d3912e93dd.jpg', 'mastodonServer': 'fediscience.org', 'displayName': 'Ulrike Hahn', 'id': '109301127580127072', 'username': 'UlrikeHahn'}, 'signupDate': 1726589512916}], 'settings': {'notificationFreq': 'daily', 'autopost': {'nanopub': {'value': 'MANUAL'}}}, 'platformIds': ['mastodon:109301127580127072'], 'signupDate': 1726589513147}\n",
      "twitter:550845228 => {'settings': {'notificationFreq': 'daily', 'autopost': {'nanopub': {'value': 'MANUAL'}}}, 'platformIds': ['twitter:550845228'], 'twitter': [{'fetched': {'oldest_id': '1813496335233900907', 'newest_id': '1833265798137397612'}, 'read': {'refreshToken': 'AAAAAAAAAAAAAAAAAAAAACq0sAEAAAAAuw3FkbTK0Lf9qLbwqCqGssSvZWs%3Duvvst2vzOuEcfGYhHisS4oLUsnGE9cPep8Q5j2gjpAbZ88GRph', 'expiresIn': 315360000, 'accessToken': 'AAAAAAAAAAAAAAAAAAAAACq0sAEAAAAAuw3FkbTK0Lf9qLbwqCqGssSvZWs%3Duvvst2vzOuEcfGYhHisS4oLUsnGE9cPep8Q5j2gjpAbZ88GRph', 'expiresAtMs': 2041712750000}, 'user_id': '550845228', 'profile': {'id': '550845228', 'profile_image_url': 'https://pbs.twimg.com/profile_images/1736673697325281280/P9p1RCqB_normal.jpg', 'username': 'AnnaLeptikon', 'name': 'Anna Riedl'}, 'signupDate': 0}], 'signupDate': 1726518252489}\n",
      "query resulted with 3 profiles\n"
     ]
    }
   ],
   "source": [
    "# Query the latest 10 users, ordered by the 'created_at' timestamp in descending order\n",
    "users_ref = db.collection('users')\n",
    "\n",
    "# Execute the query\n",
    "docs = users_ref.stream()\n",
    "profiles = []\n",
    "# Print the results\n",
    "for doc in docs:\n",
    "    profiles.append((doc.to_dict(),doc.id))\n",
    "    print(f'{doc.id} => {doc.to_dict()}')\n",
    "print(f'query resulted with {len(profiles)} profiles')"
   ]
  },
  {
   "cell_type": "code",
   "execution_count": 91,
   "metadata": {},
   "outputs": [
    {
     "name": "stdout",
     "output_type": "stream",
     "text": [
      "in build profile page\n",
      "Created new page for profile with name: Ronen Tamari\n"
     ]
    },
    {
     "data": {
      "text/plain": [
       "'10596ae9-0655-8147-a994-f8dccdaab681'"
      ]
     },
     "execution_count": 91,
     "metadata": {},
     "output_type": "execute_result"
    }
   ],
   "source": [
    "build_base_notion_profile(profiles[0][0],profiles[0][1])"
   ]
  },
  {
   "cell_type": "code",
   "execution_count": 88,
   "metadata": {},
   "outputs": [
    {
     "name": "stdout",
     "output_type": "stream",
     "text": [
      "{'mastodon': [{'fetched': {'oldest_id': '110573206339687503', 'newest_id': '112903729932000692'}, 'read': {'accessToken': 'b2DpTiV5xxYjMXyf71D2WBtgmTZ7NNAdLciup7LBawY'}, 'user_id': '107714271376772838', 'profile': {'avatar': 'https://files.mastodon.social/accounts/avatars/107/714/271/376/772/838/original/9331699b5c120ed4.jpg', 'mastodonServer': 'mastodon.social', 'displayName': 'Ronen Tamari', 'id': '107714271376772838', 'username': 'ronent'}, 'signupDate': 1726521428364}], 'settings': {'notificationFreq': 'daily', 'autopost': {'nanopub': {'value': 'MANUAL'}}}, 'platformIds': ['mastodon:107714271376772838'], 'signupDate': 1726521428679}\n"
     ]
    }
   ],
   "source": [
    "print(profiles[0][0])"
   ]
  },
  {
   "cell_type": "code",
   "execution_count": 83,
   "metadata": {},
   "outputs": [],
   "source": [
    "def load_profiles_to_notion(profile_docs:list):\n",
    "    for profile_doc,profile_id in profile_docs:\n",
    "      if search_profile_in_notion(profile_id):\n",
    "        print(f'page with {profile_id} exist in notion profile database')\n",
    "      else:\n",
    "        try:\n",
    "          build_base_notion_profile(profile_doc,profile_id)\n",
    "        except Exception as e:\n",
    "          print(f\"An error occurred while building the base Notion profile: {e}\")\n",
    "\n",
    "\n",
    "          "
   ]
  },
  {
   "cell_type": "code",
   "execution_count": 92,
   "metadata": {},
   "outputs": [
    {
     "name": "stdout",
     "output_type": "stream",
     "text": [
      "Profile found for authorId: mastodon:107714271376772838\n",
      "page with mastodon:107714271376772838 exist in notion profile database\n",
      "No profile found for authorId: mastodon:109301127580127072\n",
      "in build profile page\n",
      "Created new page for profile with name: Ulrike Hahn\n",
      "No profile found for authorId: twitter:550845228\n",
      "in build profile page\n",
      "Created new page for profile with name: Anna Riedl\n"
     ]
    }
   ],
   "source": [
    "load_profiles_to_notion(profiles)"
   ]
  },
  {
   "cell_type": "code",
   "execution_count": 47,
   "metadata": {},
   "outputs": [
    {
     "name": "stderr",
     "output_type": "stream",
     "text": [
      "/Library/Frameworks/Python.framework/Versions/3.11/lib/python3.11/site-packages/google/cloud/firestore_v1/base_collection.py:300: UserWarning: Detected filter using positional arguments. Prefer using the 'filter' keyword argument instead.\n",
      "  return query.where(field_path, op_string, value)\n"
     ]
    },
    {
     "name": "stdout",
     "output_type": "stream",
     "text": [
      "twitter:550845228-twitter-550845228 => {'user_id': '550845228', 'platformId': 'twitter', 'userId': 'twitter:550845228', 'profile': {'id': '550845228', 'profile_image_url': 'https://pbs.twimg.com/profile_images/1736673697325281280/P9p1RCqB_normal.jpg', 'username': 'AnnaLeptikon', 'name': 'Anna Riedl'}}\n"
     ]
    }
   ],
   "source": [
    "#query for specific profile\n",
    "lookup = \"twitter:550845228\"\n",
    "\n",
    "# Query the profile collection by postId\n",
    "profile_ref = db.collection('profiles').where('userId', '==', lookup)\n",
    "\n",
    "# Execute the query\n",
    "docs = profile_ref.stream()\n",
    "# Print the results\n",
    "for doc in docs:\n",
    "    print(f'{doc.id} => {doc.to_dict()}')"
   ]
  },
  {
   "cell_type": "code",
   "execution_count": 53,
   "metadata": {},
   "outputs": [],
   "source": [
    "#Creating URL pages\n",
    "def url_notion_lookup(url:str):\n",
    "    response = notion.databases.query(\n",
    "        **{\n",
    "            \"database_id\": URLS_DATABASE_ID,\n",
    "            \"filter\": {\n",
    "                \"property\": \"URL\",  # The property name in Notion\n",
    "                \"url\": {\n",
    "                    \"equals\": url  # Use 'equals' to match the authorId exactly\n",
    "                }\n",
    "            }\n",
    "        }\n",
    "    )\n",
    "    \n",
    "    # Check if any results are found\n",
    "    if response[\"results\"]:\n",
    "        print(f\"page found for url: {url}\")\n",
    "        return response[\"results\"][0][\"id\"]  # Return the first matched profile ID if it exists\n",
    "    else:\n",
    "        print(f\"No page found for url: {url}\")\n",
    "        return None\n",
    "    \n",
    "def create_url_notion_page(url:str):\n",
    "    print(\"in create page\")\n",
    "    response = notion.pages.create(\n",
    "        **{\n",
    "            \"parent\": {\"database_id\": URLS_DATABASE_ID},\n",
    "            \"properties\": {\n",
    "                \"Name\": {\n",
    "                    \"title\": [\n",
    "                        {\n",
    "                            \"text\": {\"content\": url}\n",
    "                        }\n",
    "                    ]\n",
    "                },\n",
    "                \"URL\": {\n",
    "                    \"url\": url\n",
    "                }\n",
    "            }\n",
    "        }\n",
    "    )\n",
    "    \n",
    "    print(f\"Created new page for URL: {url}\")\n",
    "    return response[\"id\"]  # Return the page ID of the created URL page\n"
   ]
  },
  {
   "cell_type": "code",
   "execution_count": 54,
   "metadata": {},
   "outputs": [
    {
     "name": "stdout",
     "output_type": "stream",
     "text": [
      "page found for url: https://example.com/genai1\n"
     ]
    },
    {
     "data": {
      "text/plain": [
       "'0ff96ae9-0655-81d8-b72d-f751bdc605b8'"
      ]
     },
     "execution_count": 54,
     "metadata": {},
     "output_type": "execute_result"
    }
   ],
   "source": [
    "url_notion_lookup(\"https://example.com/genai1\")"
   ]
  },
  {
   "cell_type": "code",
   "execution_count": 55,
   "metadata": {},
   "outputs": [
    {
     "name": "stdout",
     "output_type": "stream",
     "text": [
      "in create page\n",
      "Created new page for URL: blabla\n"
     ]
    },
    {
     "data": {
      "text/plain": [
       "'10496ae9-0655-81d3-9ead-dc15e9fbd30c'"
      ]
     },
     "execution_count": 55,
     "metadata": {},
     "output_type": "execute_result"
    }
   ],
   "source": [
    "create_url_notion_page('blabla')"
   ]
  },
  {
   "cell_type": "code",
   "execution_count": null,
   "metadata": {},
   "outputs": [],
   "source": []
  },
  {
   "cell_type": "code",
   "execution_count": 61,
   "metadata": {},
   "outputs": [],
   "source": [
    "#Create Keyword page\n",
    "def keyword_notion_lookup(keyword:str):\n",
    "    response = notion.databases.query(\n",
    "        **{\n",
    "            \"database_id\": KEYWORDS_DATABASE_ID,\n",
    "            \"filter\": {\n",
    "                \"property\": \"Name\",  # The property name in Notion\n",
    "                \"title\": {\n",
    "                    \"equals\": keyword  # Use 'equals' to match the authorId exactly\n",
    "                }\n",
    "            }\n",
    "        }\n",
    "    )\n",
    "    \n",
    "    # Check if any results are found\n",
    "    if response[\"results\"]:\n",
    "        print(f\"page found for keyword: {keyword}\")\n",
    "        return response[\"results\"][0][\"id\"]  # Return the first matched profile ID if it exists\n",
    "    else:\n",
    "        print(f\"No page found for keyword: {keyword}\")\n",
    "        return None\n",
    "\n",
    "def create_keyword_notion_page(keyword:str):\n",
    "    print(\"in create page\")\n",
    "    response = notion.pages.create(\n",
    "        **{\n",
    "            \"parent\": {\"database_id\": KEYWORDS_DATABASE_ID},\n",
    "            \"properties\": {\n",
    "                \"Name\": {\n",
    "                    \"title\": [\n",
    "                        {\n",
    "                            \"text\": {\"content\": keyword}\n",
    "                        }\n",
    "                    ]\n",
    "                }\n",
    "            }\n",
    "        }\n",
    "    )\n",
    "    \n",
    "    print(f\"Created new page for keyword: {keyword}\")\n",
    "    return response[\"id\"]  # Return the page ID of the created URL page\n"
   ]
  },
  {
   "cell_type": "code",
   "execution_count": 58,
   "metadata": {},
   "outputs": [
    {
     "name": "stdout",
     "output_type": "stream",
     "text": [
      "page found for keyword: Art history\n"
     ]
    },
    {
     "data": {
      "text/plain": [
       "'2b21e135-6035-4022-8145-b3a494cf4216'"
      ]
     },
     "execution_count": 58,
     "metadata": {},
     "output_type": "execute_result"
    }
   ],
   "source": [
    "keyword_notion_lookup('Art history')"
   ]
  },
  {
   "cell_type": "code",
   "execution_count": 62,
   "metadata": {},
   "outputs": [
    {
     "name": "stdout",
     "output_type": "stream",
     "text": [
      "in create page\n",
      "Created new page for keyword: cats\n"
     ]
    },
    {
     "data": {
      "text/plain": [
       "'10496ae9-0655-8194-970f-c1787835af3b'"
      ]
     },
     "execution_count": 62,
     "metadata": {},
     "output_type": "execute_result"
    }
   ],
   "source": [
    "create_keyword_notion_page('cats')"
   ]
  },
  {
   "cell_type": "code",
   "execution_count": 95,
   "metadata": {},
   "outputs": [
    {
     "name": "stdout",
     "output_type": "stream",
     "text": [
      "query resulted with 1 posts\n"
     ]
    }
   ],
   "source": [
    "#Query firebase for posts\n",
    "# Query the latest 10 users, ordered by the 'created_at' timestamp in descending order\n",
    "posts_ref = db.collection('posts').limit(1)\n",
    "\n",
    "# Execute the query\n",
    "docs = posts_ref.stream()\n",
    "posts = []\n",
    "# Print the results\n",
    "for doc in docs:\n",
    "    posts.append((doc.to_dict(),doc.id))\n",
    "    #print(f'{doc.id} => {doc.to_dict()}')\n",
    "print(f'query resulted with {len(posts)} posts')"
   ]
  },
  {
   "cell_type": "code",
   "execution_count": 66,
   "metadata": {},
   "outputs": [],
   "source": [
    "def print_dict_schema(data, indent=0):\n",
    "    spacing = \"  \" * indent\n",
    "    for key, value in data.items():\n",
    "        if isinstance(value, dict):\n",
    "            print(f\"{spacing}Key: {key}, Type: <dict>\")\n",
    "            print_dict_schema(value, indent + 1)  # Recursive call for nested dictionaries\n",
    "        else:\n",
    "            print(f\"{spacing}Key: {key}, Type: {type(value)}\")"
   ]
  },
  {
   "cell_type": "code",
   "execution_count": 67,
   "metadata": {},
   "outputs": [
    {
     "name": "stdout",
     "output_type": "stream",
     "text": [
      "Key: republishedStatus, Type: <class 'str'>\n",
      "Key: semantics, Type: <class 'str'>\n",
      "Key: parsedStatus, Type: <class 'str'>\n",
      "Key: authorId, Type: <class 'str'>\n",
      "Key: parsingStatus, Type: <class 'str'>\n",
      "Key: createdAtMs, Type: <class 'int'>\n",
      "Key: reviewedStatus, Type: <class 'str'>\n",
      "Key: origin, Type: <class 'str'>\n",
      "Key: parsingStartedAtMs, Type: <class 'int'>\n",
      "Key: mirrorsIds, Type: <class 'list'>\n",
      "Key: originalParsed, Type: <dict>\n",
      "  Key: semantics, Type: <class 'str'>\n",
      "  Key: metadata, Type: <dict>\n",
      "    Key: model_debug, Type: <dict>\n",
      "      Key: multi_reference_tagger, Type: <dict>\n",
      "        Key: prompt, Type: <class 'str'>\n",
      "        Key: allowed_terms, Type: <class 'list'>\n",
      "        Key: md_list, Type: <class 'list'>\n",
      "        Key: debug, Type: <dict>\n",
      "        Key: reasoning, Type: <dict>\n",
      "          Key: -1, Type: <dict>\n",
      "            Key: candidates, Type: <class 'list'>\n",
      "            Key: steps, Type: <class 'str'>\n",
      "      Key: hashtags, Type: <dict>\n",
      "        Key: prompt, Type: <class 'str'>\n",
      "        Key: reasoning, Type: <class 'NoneType'>\n",
      "      Key: topics, Type: <dict>\n",
      "        Key: prompt, Type: <class 'str'>\n",
      "        Key: full_text, Type: <class 'str'>\n",
      "        Key: allowed_tags, Type: <class 'list'>\n",
      "        Key: reasoning, Type: <class 'str'>\n",
      "      Key: keywords, Type: <dict>\n",
      "        Key: prompt, Type: <class 'str'>\n",
      "        Key: raw_text, Type: <class 'str'>\n",
      "        Key: reasoning, Type: <class 'str'>\n",
      "  Key: filter_classification, Type: <class 'str'>\n",
      "  Key: support, Type: <dict>\n",
      "    Key: refs_meta, Type: <dict>\n",
      "    Key: ontology, Type: <dict>\n",
      "      Key: allowed_topics, Type: <class 'list'>\n",
      "      Key: ontology_config, Type: <dict>\n",
      "        Key: versions, Type: <class 'list'>\n",
      "        Key: db_id, Type: <class 'str'>\n",
      "      Key: semantic_predicates, Type: <class 'list'>\n",
      "      Key: topics_predicate, Type: <dict>\n",
      "        Key: versions, Type: <class 'list'>\n",
      "        Key: uri, Type: <class 'str'>\n",
      "        Key: name, Type: <class 'str'>\n",
      "      Key: keyword_predicate, Type: <dict>\n",
      "        Key: versions, Type: <class 'list'>\n",
      "        Key: uri, Type: <class 'str'>\n",
      "        Key: name, Type: <class 'str'>\n",
      "Key: generic, Type: <dict>\n",
      "  Key: thread, Type: <class 'list'>\n",
      "  Key: author, Type: <dict>\n",
      "    Key: platformId, Type: <class 'str'>\n",
      "    Key: id, Type: <class 'str'>\n",
      "    Key: profile_image_url, Type: <class 'str'>\n",
      "    Key: username, Type: <class 'str'>\n",
      "    Key: name, Type: <class 'str'>\n"
     ]
    }
   ],
   "source": [
    "print_dict_schema(posts[0])"
   ]
  },
  {
   "cell_type": "code",
   "execution_count": 93,
   "metadata": {},
   "outputs": [],
   "source": [
    "#utility functions\n",
    "def get_thread(thread_list:list):\n",
    "    full_text = ''\n",
    "    url = thread_list[0][\"url\"]\n",
    "    for post_dict in thread_list:\n",
    "        full_text = f'{full_text} {post_dict[\"content\"]}'\n",
    "    return full_text,url\n"
   ]
  },
  {
   "cell_type": "code",
   "execution_count": 97,
   "metadata": {},
   "outputs": [
    {
     "data": {
      "text/plain": [
       "(' Rediscovering that statistics was originally „the science concerned with states“, German „Staat“.\\n\\nAnother field were the application (administration and accounting) emerged clearly before the more theoretical approaches.\\n\\nPorter, T. M. (2020): The rise of statistical thinking, 1820-1900 The feeling of learning that statistics was originally about „matters of states“ was the same as learning that wash-bears (the English translation of the German word for raccoon) are called that way because they wash their food.\\n\\nSome call it „Turing surprised“: not being surprised by new information but by finally integrating information one already possessed.',\n",
       " 'https://x.com/AnnaLeptikon/status/1833265798137397612')"
      ]
     },
     "execution_count": 97,
     "metadata": {},
     "output_type": "execute_result"
    }
   ],
   "source": [
    "get_thread(posts[0][0][\"generic\"][\"thread\"])"
   ]
  },
  {
   "cell_type": "code",
   "execution_count": 128,
   "metadata": {},
   "outputs": [],
   "source": [
    "def get_post_triples(post_firebase_id:str):\n",
    "    # Query the latest 10 users, ordered by the 'created_at' timestamp in descending order\n",
    "    triples_ref = db.collection('triples').where('postId','==',post_firebase_id).where('predicate','in',props)\n",
    "\n",
    "    # Execute the query\n",
    "    docs = triples_ref.stream()\n",
    "    triples = []\n",
    "    # Print the results\n",
    "    for doc in docs:\n",
    "        triples.append(doc.to_dict())\n",
    "        #print(f'{doc.id} => {doc.to_dict()}')\n",
    "    print(f'query resulted with {len(triples)} triples')\n",
    "    return triples\n",
    "\n",
    "#RDF properties to filter triples by\n",
    "props = ['https://sense-nets.xyz/summarizes',\n",
    "'https://sense-nets.xyz/mentionsCallForPapers',\n",
    "'https://sense-nets.xyz/endorses',\n",
    "'http://purl.org/spar/cito/disagreesWith',\n",
    "'http://purl.org/spar/cito/agreesWith',\n",
    "'https://sense-nets.xyz/indicatesInterest',\n",
    "'https://sense-nets.xyz/mentionsFundingOpportunity',\n",
    "'https://sense-nets.xyz/mentionsWatchingStatus',\n",
    "'https://sense-nets.xyz/mentionsReadingStatus',\n",
    "'https://sense-nets.xyz/mentionsListeningStatus',\n",
    "'http://purl.org/spar/cito/linksTo',\n",
    "'http://purl.org/spar/cito/reviews',\n",
    "'https://sense-nets.xyz/recommends',\n",
    "'https://sense-nets.xyz/asksQuestionAbout',\n",
    "'http://purl.org/spar/cito/includesQuotationFrom',\n",
    "'http://purl.org/spar/cito/discusses',\n",
    "'https://sense-nets.xyz/announcesEvent',\n",
    "'https://sense-nets.xyz/announcesJob',\n",
    "'https://sense-nets.xyz/announcesResource',\n",
    "'https://sense-nets.xyz/possibleMissingReference',\n",
    "'https://schema.org/Observation',\n",
    "'https://schema.org/Claim',\n",
    "'https://schema.org/Question',\n",
    "'https://schema.org/keywords']\n",
    "def get_uri_property_name(props:list):\n",
    "    return [uri.split('/')[-1] for uri in props]"
   ]
  },
  {
   "cell_type": "code",
   "execution_count": 133,
   "metadata": {},
   "outputs": [],
   "source": [
    "def post_notion_lookup(postDocId:str):\n",
    "    response = notion.databases.query(\n",
    "        **{\n",
    "            \"database_id\": POSTS_DATABASE_ID,\n",
    "            \"filter\": {\n",
    "                \"property\": \"firebase_id\",  # The property name in Notion\n",
    "                \"rich_text\": {\n",
    "                    \"equals\": postDocId  # Use 'equals' to match the authorId exactly\n",
    "                }\n",
    "            }\n",
    "        }\n",
    "    )\n",
    "    \n",
    "    # Check if any results are found\n",
    "    if response[\"results\"]:\n",
    "        print(f\"page found for post with id: {postDocId}\")\n",
    "        return response[\"results\"][0][\"id\"]  # Return the first matched profile ID if it exists\n",
    "    else:\n",
    "        print(f\"No page found for post with id: {postDocId}\")\n",
    "        return None\n",
    "\n",
    "def build_dynamic_postpage_properties(post_dict: dict, post_firebase_id: str):\n",
    "    post_text, post_url = get_thread(post_dict[\"generic\"][\"thread\"])\n",
    "    author_handle = post_dict[\"generic\"][\"author\"][\"username\"]\n",
    "    post_title = create_post_name(post_text, author_handle)\n",
    "    profile_notion_id = search_profile_in_notion(post_dict[\"authorId\"])\n",
    "\n",
    "    properties = {\n",
    "        \"Name\": {\n",
    "            \"title\": [\n",
    "                {\n",
    "                    \"text\": {\"content\": post_title}\n",
    "                }\n",
    "            ]\n",
    "        },\n",
    "        \"Text\": {\n",
    "            \"rich_text\": [\n",
    "                {\n",
    "                    \"text\": {\"content\": post_text}\n",
    "                }\n",
    "            ]\n",
    "        },\n",
    "        \"Creators handle\": {\n",
    "            \"rich_text\": [\n",
    "                {\n",
    "                    \"text\": {\"content\": author_handle}\n",
    "                }\n",
    "            ]\n",
    "        },\n",
    "        \"firebase_id\": {\n",
    "            \"rich_text\": [\n",
    "                {\n",
    "                    \"text\": {\"content\": post_firebase_id}\n",
    "                }\n",
    "            ]\n",
    "        },\n",
    "        \"Author\": {\n",
    "            \"relation\": [{\"id\": profile_notion_id}]\n",
    "        }\n",
    "    }\n",
    "\n",
    "    # Initialize a dictionary to collect multiple relations for each prop_name\n",
    "    relations = {}\n",
    "\n",
    "    # Get triples from the post\n",
    "    triples = get_post_triples(post_firebase_id)\n",
    "    for triple in triples:\n",
    "        prop_name = triple[\"predicate\"].split('/')[-1]\n",
    "\n",
    "        # Initialize the relation list for each property if it doesn't exist\n",
    "        if prop_name not in relations:\n",
    "            relations[prop_name] = []\n",
    "\n",
    "        # Handle keywords as an example\n",
    "        if prop_name == \"keywords\":\n",
    "            keyword_id = keyword_notion_lookup(triple[\"object\"])\n",
    "            if not keyword_id:\n",
    "                keyword_id = create_keyword_notion_page(triple[\"object\"])\n",
    "\n",
    "            # Append keyword_id to the relations dictionary under the \"keywords\" key\n",
    "            relations[prop_name].append({\"id\": keyword_id})\n",
    "\n",
    "        else:\n",
    "            # Handle other relation properties dynamically (e.g., URLs)\n",
    "            url_id = url_notion_lookup(triple[\"object\"])\n",
    "            if not url_id:\n",
    "                url_id = create_url_notion_page(triple[\"object\"])\n",
    "\n",
    "            # Append the new relation to the corresponding prop_name\n",
    "            relations[prop_name].append({\"id\": url_id})\n",
    "\n",
    "    # After processing all triples, update the properties with collected relations\n",
    "    for prop_name, relation_list in relations.items():\n",
    "        properties[prop_name] = {\"relation\": relation_list}\n",
    "\n",
    "    return properties\n",
    "\n",
    "def create_notion_post_page(post_dict:dict,post_firebase_id):\n",
    "    post_text, post_url = get_thread(post_dict[\"generic\"][\"thread\"])\n",
    "    author_handle = post_dict[\"generic\"][\"author\"][\"username\"]\n",
    "    post_title = create_post_name(post_text,author_handle)\n",
    "    profile_notion_id = search_profile_in_notion(post_dict[\"authorId\"])\n",
    "    response = notion.pages.create(\n",
    "        **{\n",
    "            \"parent\": {\"database_id\": POSTS_DATABASE_ID},\n",
    "            \"properties\": build_dynamic_postpage_properties(post_dict,post_firebase_id)\n",
    "        }\n",
    "    )\n",
    "    print(f\"Created new post page for '{post_title}'.\")\n",
    "    return response[\"id\"]  # Return the page ID of the created post page\n",
    "\n",
    "\n",
    "def create_post_name(post_text,post_handle):\n",
    "    # Create the post name as \"User name : First 10 characters of content\"\n",
    "    return f\"{post_handle}: {post_text[:60]}\"\n"
   ]
  },
  {
   "cell_type": "code",
   "execution_count": 134,
   "metadata": {},
   "outputs": [
    {
     "name": "stdout",
     "output_type": "stream",
     "text": [
      "Profile found for authorId: twitter:550845228\n",
      "Profile found for authorId: twitter:550845228\n"
     ]
    },
    {
     "name": "stderr",
     "output_type": "stream",
     "text": [
      "/var/folders/j3/1_zy_b4s2517g8j_rjjdhd4h0000gn/T/ipykernel_14960/510479382.py:3: UserWarning: Detected filter using positional arguments. Prefer using the 'filter' keyword argument instead.\n",
      "  triples_ref = db.collection('triples').where('postId','==',post_firebase_id).where('predicate','in',props)\n"
     ]
    },
    {
     "name": "stdout",
     "output_type": "stream",
     "text": [
      "query resulted with 6 triples\n",
      "page found for keyword: theory\n",
      "page found for keyword: Turing\n",
      "page found for keyword: history\n",
      "page found for keyword: administration\n",
      "page found for keyword: statistics\n",
      "page found for keyword: accounting\n",
      "Created new post page for 'AnnaLeptikon:  Rediscovering that statistics was originally „the science c'.\n"
     ]
    },
    {
     "data": {
      "text/plain": [
       "'10696ae9-0655-81be-b917-e0fd7c74ef89'"
      ]
     },
     "execution_count": 134,
     "metadata": {},
     "output_type": "execute_result"
    }
   ],
   "source": [
    "create_notion_post_page(posts[0][0],posts[0][1])"
   ]
  },
  {
   "cell_type": "code",
   "execution_count": 126,
   "metadata": {},
   "outputs": [
    {
     "data": {
      "text/plain": [
       "['summarizes',\n",
       " 'mentionsCallForPapers',\n",
       " 'endorses',\n",
       " 'disagreesWith',\n",
       " 'agreesWith',\n",
       " 'indicatesInterest',\n",
       " 'mentionsFundingOpportunity',\n",
       " 'mentionsWatchingStatus',\n",
       " 'mentionsReadingStatus',\n",
       " 'mentionsListeningStatus',\n",
       " 'linksTo',\n",
       " 'reviews',\n",
       " 'recommends',\n",
       " 'asksQuestionAbout',\n",
       " 'includesQuotationFrom',\n",
       " 'discusses',\n",
       " 'announcesEvent',\n",
       " 'announcesJob',\n",
       " 'announcesResource',\n",
       " 'possibleMissingReference',\n",
       " 'Observation',\n",
       " 'Claim',\n",
       " 'Question',\n",
       " 'keywords',\n",
       " 'hasZoteroItemType']"
      ]
     },
     "execution_count": 126,
     "metadata": {},
     "output_type": "execute_result"
    }
   ],
   "source": [
    "get_uri_property_name(props)"
   ]
  },
  {
   "cell_type": "code",
   "execution_count": null,
   "metadata": {},
   "outputs": [],
   "source": []
  },
  {
   "cell_type": "code",
   "execution_count": 120,
   "metadata": {},
   "outputs": [
    {
     "name": "stderr",
     "output_type": "stream",
     "text": [
      "/Library/Frameworks/Python.framework/Versions/3.11/lib/python3.11/site-packages/google/cloud/firestore_v1/base_collection.py:300: UserWarning: Detected filter using positional arguments. Prefer using the 'filter' keyword argument instead.\n",
      "  return query.where(field_path, op_string, value)\n",
      "/var/folders/j3/1_zy_b4s2517g8j_rjjdhd4h0000gn/T/ipykernel_14960/2604393478.py:3: UserWarning: Detected filter using positional arguments. Prefer using the 'filter' keyword argument instead.\n",
      "  triples_ref = db.collection('triples').where('postId','==',post_firebase_id).where('predicate','in',props)\n"
     ]
    },
    {
     "name": "stdout",
     "output_type": "stream",
     "text": [
      "query resulted with 31 triples\n"
     ]
    },
    {
     "data": {
      "text/plain": [
       "[{'createdAtMs': 1722715949000,\n",
       "  'subject': 'https://jimruttshow.blubrry.net/',\n",
       "  'authorId': 'twitter:550845228',\n",
       "  'object': 'webpage',\n",
       "  'predicate': 'https://sense-nets.xyz/hasZoteroItemType',\n",
       "  'postId': 'VbSNNWfSRxsIj2uGghbb'},\n",
       " {'createdAtMs': 1722715949000,\n",
       "  'subject': 'https://sense-nets.xyz/mySemanticPost',\n",
       "  'authorId': 'twitter:550845228',\n",
       "  'object': 'https://open.spotify.com/show/2YRNavdimPddYFaNvQDU7I',\n",
       "  'predicate': 'https://sense-nets.xyz/indicatesInterest',\n",
       "  'postId': 'VbSNNWfSRxsIj2uGghbb'},\n",
       " {'createdAtMs': 1722715949000,\n",
       "  'subject': 'https://sense-nets.xyz/mySemanticPost',\n",
       "  'authorId': 'twitter:550845228',\n",
       "  'object': 'https://www.santafe.edu/culture/podcast-archive#Complexity',\n",
       "  'predicate': 'https://sense-nets.xyz/indicatesInterest',\n",
       "  'postId': 'VbSNNWfSRxsIj2uGghbb'},\n",
       " {'createdAtMs': 1722715949000,\n",
       "  'subject': 'https://sense-nets.xyz/mySemanticPost',\n",
       "  'authorId': 'twitter:550845228',\n",
       "  'object': 'books',\n",
       "  'predicate': 'https://schema.org/keywords',\n",
       "  'postId': 'VbSNNWfSRxsIj2uGghbb'},\n",
       " {'createdAtMs': 1722715949000,\n",
       "  'subject': 'https://www.santafe.edu/',\n",
       "  'authorId': 'twitter:550845228',\n",
       "  'object': 'webpage',\n",
       "  'predicate': 'https://sense-nets.xyz/hasZoteroItemType',\n",
       "  'postId': 'VbSNNWfSRxsIj2uGghbb'},\n",
       " {'createdAtMs': 1722715949000,\n",
       "  'subject': 'https://sense-nets.xyz/mySemanticPost',\n",
       "  'authorId': 'twitter:550845228',\n",
       "  'object': 'https://sacswebsite.blogspot.com/2021/09/q-for-2021-version-of-map-of-complexity.html',\n",
       "  'predicate': 'https://sense-nets.xyz/indicatesInterest',\n",
       "  'postId': 'VbSNNWfSRxsIj2uGghbb'},\n",
       " {'createdAtMs': 1722715949000,\n",
       "  'subject': 'https://sense-nets.xyz/mySemanticPost',\n",
       "  'authorId': 'twitter:550845228',\n",
       "  'object': 'podcasts',\n",
       "  'predicate': 'https://schema.org/keywords',\n",
       "  'postId': 'VbSNNWfSRxsIj2uGghbb'},\n",
       " {'createdAtMs': 1722715949000,\n",
       "  'subject': 'https://substack.com/@appliedcomplexity',\n",
       "  'authorId': 'twitter:550845228',\n",
       "  'object': 'webpage',\n",
       "  'predicate': 'https://sense-nets.xyz/hasZoteroItemType',\n",
       "  'postId': 'VbSNNWfSRxsIj2uGghbb'},\n",
       " {'createdAtMs': 1722715949000,\n",
       "  'subject': 'https://sacswebsite.blogspot.com/2021/09/q-for-2021-version-of-map-of-complexity.html',\n",
       "  'authorId': 'twitter:550845228',\n",
       "  'object': 'blogPost',\n",
       "  'predicate': 'https://sense-nets.xyz/hasZoteroItemType',\n",
       "  'postId': 'VbSNNWfSRxsIj2uGghbb'},\n",
       " {'createdAtMs': 1722715949000,\n",
       "  'subject': 'https://www.santafe.edu/culture/podcast-archive#Complexity',\n",
       "  'authorId': 'twitter:550845228',\n",
       "  'object': 'webpage',\n",
       "  'predicate': 'https://sense-nets.xyz/hasZoteroItemType',\n",
       "  'postId': 'VbSNNWfSRxsIj2uGghbb'},\n",
       " {'createdAtMs': 1722715949000,\n",
       "  'subject': 'https://sense-nets.xyz/mySemanticPost',\n",
       "  'authorId': 'twitter:550845228',\n",
       "  'object': 'complexityscience',\n",
       "  'predicate': 'https://schema.org/keywords',\n",
       "  'postId': 'VbSNNWfSRxsIj2uGghbb'},\n",
       " {'createdAtMs': 1722715949000,\n",
       "  'subject': 'https://sense-nets.xyz/mySemanticPost',\n",
       "  'authorId': 'twitter:550845228',\n",
       "  'object': 'https://x.com/AnnaLeptikon/status/1819094724428681609',\n",
       "  'predicate': 'http://purl.org/spar/cito/discusses',\n",
       "  'postId': 'VbSNNWfSRxsIj2uGghbb'},\n",
       " {'createdAtMs': 1722715949000,\n",
       "  'subject': 'https://open.spotify.com/show/2YRNavdimPddYFaNvQDU7I',\n",
       "  'authorId': 'twitter:550845228',\n",
       "  'object': 'webpage',\n",
       "  'predicate': 'https://sense-nets.xyz/hasZoteroItemType',\n",
       "  'postId': 'VbSNNWfSRxsIj2uGghbb'},\n",
       " {'createdAtMs': 1722715949000,\n",
       "  'subject': 'https://x.com/AnnaLeptikon/status/1819094724428681609',\n",
       "  'authorId': 'twitter:550845228',\n",
       "  'object': 'forumPost',\n",
       "  'predicate': 'https://sense-nets.xyz/hasZoteroItemType',\n",
       "  'postId': 'VbSNNWfSRxsIj2uGghbb'},\n",
       " {'createdAtMs': 1722715949000,\n",
       "  'subject': 'https://humanparts.medium.com/making-sense-of-complexity-ee78755d56b9',\n",
       "  'authorId': 'twitter:550845228',\n",
       "  'object': 'blogPost',\n",
       "  'predicate': 'https://sense-nets.xyz/hasZoteroItemType',\n",
       "  'postId': 'VbSNNWfSRxsIj2uGghbb'},\n",
       " {'createdAtMs': 1722715949000,\n",
       "  'subject': 'https://sense-nets.xyz/mySemanticPost',\n",
       "  'authorId': 'twitter:550845228',\n",
       "  'object': 'https://www.santafe.edu/',\n",
       "  'predicate': 'https://sense-nets.xyz/indicatesInterest',\n",
       "  'postId': 'VbSNNWfSRxsIj2uGghbb'},\n",
       " {'createdAtMs': 1722715949000,\n",
       "  'subject': 'https://www.art-sciencefactory.com/complexity-map_feb09.html',\n",
       "  'authorId': 'twitter:550845228',\n",
       "  'object': 'webpage',\n",
       "  'predicate': 'https://sense-nets.xyz/hasZoteroItemType',\n",
       "  'postId': 'VbSNNWfSRxsIj2uGghbb'},\n",
       " {'createdAtMs': 1722715949000,\n",
       "  'subject': 'https://www.foundationalpapersincomplexityscience.org/',\n",
       "  'authorId': 'twitter:550845228',\n",
       "  'object': 'webpage',\n",
       "  'predicate': 'https://sense-nets.xyz/hasZoteroItemType',\n",
       "  'postId': 'VbSNNWfSRxsIj2uGghbb'},\n",
       " {'createdAtMs': 1722715949000,\n",
       "  'subject': 'https://sense-nets.xyz/mySemanticPost',\n",
       "  'authorId': 'twitter:550845228',\n",
       "  'object': 'resources',\n",
       "  'predicate': 'https://schema.org/keywords',\n",
       "  'postId': 'VbSNNWfSRxsIj2uGghbb'},\n",
       " {'createdAtMs': 1722715949000,\n",
       "  'subject': 'https://csh.ac.at/',\n",
       "  'authorId': 'twitter:550845228',\n",
       "  'object': 'blogPost',\n",
       "  'predicate': 'https://sense-nets.xyz/hasZoteroItemType',\n",
       "  'postId': 'VbSNNWfSRxsIj2uGghbb'},\n",
       " {'createdAtMs': 1722715949000,\n",
       "  'subject': 'https://sense-nets.xyz/mySemanticPost',\n",
       "  'authorId': 'twitter:550845228',\n",
       "  'object': 'https://x.com/AnnaLeptikon/status/1819094724428681609',\n",
       "  'predicate': 'https://sense-nets.xyz/endorses',\n",
       "  'postId': 'VbSNNWfSRxsIj2uGghbb'},\n",
       " {'createdAtMs': 1722715949000,\n",
       "  'subject': 'https://sense-nets.xyz/mySemanticPost',\n",
       "  'authorId': 'twitter:550845228',\n",
       "  'object': 'https://humanparts.medium.com/making-sense-of-complexity-ee78755d56b9',\n",
       "  'predicate': 'https://sense-nets.xyz/indicatesInterest',\n",
       "  'postId': 'VbSNNWfSRxsIj2uGghbb'},\n",
       " {'createdAtMs': 1722715949000,\n",
       "  'subject': 'https://sense-nets.xyz/mySemanticPost',\n",
       "  'authorId': 'twitter:550845228',\n",
       "  'object': 'onlinecourses',\n",
       "  'predicate': 'https://schema.org/keywords',\n",
       "  'postId': 'VbSNNWfSRxsIj2uGghbb'},\n",
       " {'createdAtMs': 1722715949000,\n",
       "  'subject': 'https://sense-nets.xyz/mySemanticPost',\n",
       "  'authorId': 'twitter:550845228',\n",
       "  'object': 'https://substack.com/@appliedcomplexity',\n",
       "  'predicate': 'https://sense-nets.xyz/indicatesInterest',\n",
       "  'postId': 'VbSNNWfSRxsIj2uGghbb'},\n",
       " {'createdAtMs': 1722715949000,\n",
       "  'subject': 'https://sense-nets.xyz/mySemanticPost',\n",
       "  'authorId': 'twitter:550845228',\n",
       "  'object': 'https://csh.ac.at/',\n",
       "  'predicate': 'https://sense-nets.xyz/indicatesInterest',\n",
       "  'postId': 'VbSNNWfSRxsIj2uGghbb'},\n",
       " {'createdAtMs': 1722715949000,\n",
       "  'subject': 'https://sense-nets.xyz/mySemanticPost',\n",
       "  'authorId': 'twitter:550845228',\n",
       "  'object': 'https://jimruttshow.blubrry.net/',\n",
       "  'predicate': 'https://sense-nets.xyz/indicatesInterest',\n",
       "  'postId': 'VbSNNWfSRxsIj2uGghbb'},\n",
       " {'createdAtMs': 1722715949000,\n",
       "  'subject': 'https://www.sfipress.org/books/foundational-papers-in-complexity-science',\n",
       "  'authorId': 'twitter:550845228',\n",
       "  'object': 'webpage',\n",
       "  'predicate': 'https://sense-nets.xyz/hasZoteroItemType',\n",
       "  'postId': 'VbSNNWfSRxsIj2uGghbb'},\n",
       " {'createdAtMs': 1722715949000,\n",
       "  'subject': 'https://sense-nets.xyz/mySemanticPost',\n",
       "  'authorId': 'twitter:550845228',\n",
       "  'object': 'socialmedia',\n",
       "  'predicate': 'https://schema.org/keywords',\n",
       "  'postId': 'VbSNNWfSRxsIj2uGghbb'},\n",
       " {'createdAtMs': 1722715949000,\n",
       "  'subject': 'https://sense-nets.xyz/mySemanticPost',\n",
       "  'authorId': 'twitter:550845228',\n",
       "  'object': 'https://www.sfipress.org/books/foundational-papers-in-complexity-science',\n",
       "  'predicate': 'https://sense-nets.xyz/indicatesInterest',\n",
       "  'postId': 'VbSNNWfSRxsIj2uGghbb'},\n",
       " {'createdAtMs': 1722715949000,\n",
       "  'subject': 'https://sense-nets.xyz/mySemanticPost',\n",
       "  'authorId': 'twitter:550845228',\n",
       "  'object': 'https://www.art-sciencefactory.com/complexity-map_feb09.html',\n",
       "  'predicate': 'https://sense-nets.xyz/indicatesInterest',\n",
       "  'postId': 'VbSNNWfSRxsIj2uGghbb'},\n",
       " {'createdAtMs': 1722715949000,\n",
       "  'subject': 'https://sense-nets.xyz/mySemanticPost',\n",
       "  'authorId': 'twitter:550845228',\n",
       "  'object': 'https://www.foundationalpapersincomplexityscience.org/',\n",
       "  'predicate': 'https://sense-nets.xyz/indicatesInterest',\n",
       "  'postId': 'VbSNNWfSRxsIj2uGghbb'}]"
      ]
     },
     "execution_count": 120,
     "metadata": {},
     "output_type": "execute_result"
    }
   ],
   "source": [
    "get_post_triples('VbSNNWfSRxsIj2uGghbb')"
   ]
  }
 ],
 "metadata": {
  "kernelspec": {
   "display_name": "Python 3",
   "language": "python",
   "name": "python3"
  },
  "language_info": {
   "codemirror_mode": {
    "name": "ipython",
    "version": 3
   },
   "file_extension": ".py",
   "mimetype": "text/x-python",
   "name": "python",
   "nbconvert_exporter": "python",
   "pygments_lexer": "ipython3",
   "version": "3.11.2"
  },
  "orig_nbformat": 4,
  "vscode": {
   "interpreter": {
    "hash": "aee8b7b246df8f9039afb4144a1f6fd8d2ca17a180786b69acc140d282b71a49"
   }
  }
 },
 "nbformat": 4,
 "nbformat_minor": 2
}
