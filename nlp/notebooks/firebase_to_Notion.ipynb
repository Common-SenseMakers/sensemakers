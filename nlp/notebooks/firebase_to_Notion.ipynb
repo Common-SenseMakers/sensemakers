{
 "cells": [
  {
   "cell_type": "code",
   "execution_count": 56,
   "metadata": {},
   "outputs": [],
   "source": [
    "#Initiate Notion client\n",
    "\n",
    "import os\n",
    "from dotenv import load_dotenv\n",
    "from notion_client import Client\n",
    "\n",
    "load_dotenv()\n",
    "\n",
    "NOTION_API_TOKEN = os.getenv('NOTION_SENSENETS_TOKEN')\n",
    "URLS_DATABASE_ID = os.getenv('NOTION_URLS_DATABASE_ID')\n",
    "POSTS_DATABASE_ID = os.getenv('NOTION_POSTS_DATABASE_ID')\n",
    "PROFILES_DATABASE_ID =os.getenv('NOTION_PROFILES_DATABASE_ID')\n",
    "KEYWORDS_DATABASE_ID = os.getenv(\"NOTION_KEYWORDS_DATABASE_ID\")\n",
    "HEADERS = {\n",
    "    'Authorization': f'Bearer {NOTION_API_TOKEN}',\n",
    "    'Content-Type': 'application/json',\n",
    "    'Notion-Version': '2022-06-28'\n",
    "}\n",
    "notion = Client(auth=NOTION_API_TOKEN)"
   ]
  },
  {
   "cell_type": "code",
   "execution_count": 2,
   "metadata": {},
   "outputs": [],
   "source": [
    "#Initiate firebase client\n",
    "import firebase_admin\n",
    "from firebase_admin import credentials, firestore\n",
    "\n",
    "# Path to your service account key\n",
    "cred = credentials.Certificate('creds/sensenets-dataset-firebase-adminsdk-rpero-9c552cac56.json')\n",
    "firebase_admin.initialize_app(cred)\n",
    "\n",
    "# Initialize Firestore DB\n",
    "db = firestore.client()\n"
   ]
  },
  {
   "cell_type": "code",
   "execution_count": 217,
   "metadata": {},
   "outputs": [],
   "source": [
    "#functions for mapping json to Notion profile table\n",
    "def lookup_notion_profile(firebase_id):\n",
    "    response = notion.databases.query(\n",
    "        **{\n",
    "            \"database_id\": PROFILES_DATABASE_ID,\n",
    "            \"filter\": {\n",
    "                \"property\": \"firebase_id\",  # The property name in Notion\n",
    "                \"rich_text\": {\n",
    "                    \"equals\": firebase_id  # Use 'equals' to match the authorId exactly\n",
    "                }\n",
    "            }\n",
    "        }\n",
    "    )\n",
    "    \n",
    "    # Check if any results are found\n",
    "    if response[\"results\"]:\n",
    "        print(f\"Profile found for authorId: {firebase_id}\")\n",
    "        return response[\"results\"][0][\"id\"]  # Return the first matched profile ID if it exists\n",
    "    else:\n",
    "        print(f\"No profile found for authorId: {firebase_id}\")\n",
    "        return None\n",
    "    \n",
    "def build_base_notion_profile(profile_doc:dict,profile_id:str):\n",
    "    print(\"in build profile page\")\n",
    "    platform = profile_doc[\"platformIds\"][0].split(':')[0]\n",
    "    profile = profile_doc[platform][0][\"profile\"]\n",
    "    #make handle modular to include mastodon\n",
    "    handle = profile[\"username\"]\n",
    "    if platform == 'mastodon':\n",
    "        handle_field = \"Mastodon Handle\"\n",
    "        platformId_field = \"mastodon_id\"\n",
    "        name = profile['displayName']\n",
    "        server = profile['mastodonServer']\n",
    "\n",
    "    else:\n",
    "        handle_field = \"Twitter Handle\"\n",
    "        platformId_field = \"twitter_id\"\n",
    "        name = profile['name']\n",
    "        server = ''\n",
    "\n",
    "    platform_id = profile['id']\n",
    "    firebase_id = profile_id\n",
    "    response = notion.pages.create(\n",
    "        **{\n",
    "            \"parent\": {\"database_id\": PROFILES_DATABASE_ID},\n",
    "            \"properties\": {\n",
    "                \"Name\": {\n",
    "                    \"title\": [\n",
    "                        {\n",
    "                            \"text\": {\"content\": name}\n",
    "                        }\n",
    "                    ]\n",
    "                },\n",
    "                handle_field: {\n",
    "                     \"rich_text\": [\n",
    "                        {\n",
    "                            \"text\": {\"content\": handle}\n",
    "                        }\n",
    "                    ]\n",
    "                },\n",
    "                \"firebase_id\": {\n",
    "                     \"rich_text\": [\n",
    "                        {\n",
    "                            \"text\": {\"content\": firebase_id}\n",
    "                        }\n",
    "                    ]\n",
    "                },\n",
    "                \"Server\": {\n",
    "                     \"rich_text\": [\n",
    "                        {\n",
    "                            \"text\": {\"content\": server}\n",
    "                        }\n",
    "                    ]\n",
    "                },\n",
    "                platformId_field: {\n",
    "                     \"rich_text\": [\n",
    "                        {\n",
    "                            \"text\": {\"content\": platform_id}\n",
    "                        }\n",
    "                    ]\n",
    "                },\n",
    "                 \"Platforms\": {\n",
    "                    \"multi_select\": [\n",
    "                        {\"name\": platform} \n",
    "                    ]\n",
    "                }\n",
    "            }\n",
    "        }\n",
    "    )\n",
    "    \n",
    "    print(f\"Created new page for profile with name: {name}\")\n",
    "    return response[\"id\"]  # Return the page ID of the created URL page\n",
    "def get_firebase_profile_doc(firebase_id):\n",
    "    # Query the profile collection by postId\n",
    "    profile_ref = db.collection('users').document(firebase_id)\n",
    "\n",
    "    # Execute the query\n",
    "    doc = profile_ref.get()\n",
    "    if doc.exists:\n",
    "        print(f'Document data: {doc.to_dict()}')\n",
    "        return doc.to_dict()\n",
    "    else:\n",
    "        print('No such document!')\n",
    "        return None\n",
    "    \n",
    "def load_profile_to_notion(firebase_id:str):\n",
    "    notion_id = lookup_notion_profile(firebase_id)\n",
    "    if  not notion_id:\n",
    "        profile_dict = get_firebase_profile_doc(firebase_id)\n",
    "        notion_id = build_base_notion_profile(profile_dict,firebase_id)\n",
    "    return notion_id\n",
    "        "
   ]
  },
  {
   "cell_type": "code",
   "execution_count": 208,
   "metadata": {},
   "outputs": [
    {
     "name": "stdout",
     "output_type": "stream",
     "text": [
      "No profile found for authorId: twitter:550845228\n",
      "Document data: {'settings': {'notificationFreq': 'daily', 'autopost': {'nanopub': {'value': 'MANUAL'}}}, 'platformIds': ['twitter:550845228'], 'twitter': [{'fetched': {'oldest_id': '1813496335233900907', 'newest_id': '1833265798137397612'}, 'read': {'refreshToken': 'AAAAAAAAAAAAAAAAAAAAACq0sAEAAAAAuw3FkbTK0Lf9qLbwqCqGssSvZWs%3Duvvst2vzOuEcfGYhHisS4oLUsnGE9cPep8Q5j2gjpAbZ88GRph', 'expiresIn': 315360000, 'accessToken': 'AAAAAAAAAAAAAAAAAAAAACq0sAEAAAAAuw3FkbTK0Lf9qLbwqCqGssSvZWs%3Duvvst2vzOuEcfGYhHisS4oLUsnGE9cPep8Q5j2gjpAbZ88GRph', 'expiresAtMs': 2041712750000}, 'user_id': '550845228', 'profile': {'id': '550845228', 'profile_image_url': 'https://pbs.twimg.com/profile_images/1736673697325281280/P9p1RCqB_normal.jpg', 'username': 'AnnaLeptikon', 'name': 'Anna Riedl'}, 'signupDate': 0}], 'signupDate': 1726518252489}\n",
      "in build profile page\n",
      "Created new page for profile with name: Anna Riedl\n"
     ]
    },
    {
     "data": {
      "text/plain": [
       "'10a96ae9-0655-810e-b338-f90e09b8e53d'"
      ]
     },
     "execution_count": 208,
     "metadata": {},
     "output_type": "execute_result"
    }
   ],
   "source": [
    "load_profile_to_notion(\"twitter:550845228\")"
   ]
  },
  {
   "cell_type": "code",
   "execution_count": 73,
   "metadata": {},
   "outputs": [
    {
     "name": "stdout",
     "output_type": "stream",
     "text": [
      "mastodon:107714271376772838 => {'mastodon': [{'fetched': {'oldest_id': '110573206339687503', 'newest_id': '112903729932000692'}, 'read': {'accessToken': 'b2DpTiV5xxYjMXyf71D2WBtgmTZ7NNAdLciup7LBawY'}, 'user_id': '107714271376772838', 'profile': {'avatar': 'https://files.mastodon.social/accounts/avatars/107/714/271/376/772/838/original/9331699b5c120ed4.jpg', 'mastodonServer': 'mastodon.social', 'displayName': 'Ronen Tamari', 'id': '107714271376772838', 'username': 'ronent'}, 'signupDate': 1726521428364}], 'settings': {'notificationFreq': 'daily', 'autopost': {'nanopub': {'value': 'MANUAL'}}}, 'platformIds': ['mastodon:107714271376772838'], 'signupDate': 1726521428679}\n",
      "mastodon:109301127580127072 => {'mastodon': [{'fetched': {'oldest_id': '112920697751318393', 'newest_id': '113127425695271858'}, 'read': {'accessToken': 'b2DpTiV5xxYjMXyf71D2WBtgmTZ7NNAdLciup7LBawY'}, 'user_id': '109301127580127072', 'profile': {'avatar': 'https://fediscience.org/system/accounts/avatars/109/301/127/580/127/072/original/336fe0d3912e93dd.jpg', 'mastodonServer': 'fediscience.org', 'displayName': 'Ulrike Hahn', 'id': '109301127580127072', 'username': 'UlrikeHahn'}, 'signupDate': 1726589512916}], 'settings': {'notificationFreq': 'daily', 'autopost': {'nanopub': {'value': 'MANUAL'}}}, 'platformIds': ['mastodon:109301127580127072'], 'signupDate': 1726589513147}\n",
      "twitter:550845228 => {'settings': {'notificationFreq': 'daily', 'autopost': {'nanopub': {'value': 'MANUAL'}}}, 'platformIds': ['twitter:550845228'], 'twitter': [{'fetched': {'oldest_id': '1813496335233900907', 'newest_id': '1833265798137397612'}, 'read': {'refreshToken': 'AAAAAAAAAAAAAAAAAAAAACq0sAEAAAAAuw3FkbTK0Lf9qLbwqCqGssSvZWs%3Duvvst2vzOuEcfGYhHisS4oLUsnGE9cPep8Q5j2gjpAbZ88GRph', 'expiresIn': 315360000, 'accessToken': 'AAAAAAAAAAAAAAAAAAAAACq0sAEAAAAAuw3FkbTK0Lf9qLbwqCqGssSvZWs%3Duvvst2vzOuEcfGYhHisS4oLUsnGE9cPep8Q5j2gjpAbZ88GRph', 'expiresAtMs': 2041712750000}, 'user_id': '550845228', 'profile': {'id': '550845228', 'profile_image_url': 'https://pbs.twimg.com/profile_images/1736673697325281280/P9p1RCqB_normal.jpg', 'username': 'AnnaLeptikon', 'name': 'Anna Riedl'}, 'signupDate': 0}], 'signupDate': 1726518252489}\n",
      "query resulted with 3 profiles\n"
     ]
    }
   ],
   "source": [
    "# Query the latest 10 users, ordered by the 'created_at' timestamp in descending order\n",
    "users_ref = db.collection('users')\n",
    "\n",
    "# Execute the query\n",
    "docs = users_ref.stream()\n",
    "profiles = []\n",
    "# Print the results\n",
    "for doc in docs:\n",
    "    profiles.append((doc.to_dict(),doc.id))\n",
    "    print(f'{doc.id} => {doc.to_dict()}')\n",
    "print(f'query resulted with {len(profiles)} profiles')"
   ]
  },
  {
   "cell_type": "code",
   "execution_count": 91,
   "metadata": {},
   "outputs": [
    {
     "name": "stdout",
     "output_type": "stream",
     "text": [
      "in build profile page\n",
      "Created new page for profile with name: Ronen Tamari\n"
     ]
    },
    {
     "data": {
      "text/plain": [
       "'10596ae9-0655-8147-a994-f8dccdaab681'"
      ]
     },
     "execution_count": 91,
     "metadata": {},
     "output_type": "execute_result"
    }
   ],
   "source": [
    "build_base_notion_profile(profiles[0][0],profiles[0][1])"
   ]
  },
  {
   "cell_type": "code",
   "execution_count": 88,
   "metadata": {},
   "outputs": [
    {
     "name": "stdout",
     "output_type": "stream",
     "text": [
      "{'mastodon': [{'fetched': {'oldest_id': '110573206339687503', 'newest_id': '112903729932000692'}, 'read': {'accessToken': 'b2DpTiV5xxYjMXyf71D2WBtgmTZ7NNAdLciup7LBawY'}, 'user_id': '107714271376772838', 'profile': {'avatar': 'https://files.mastodon.social/accounts/avatars/107/714/271/376/772/838/original/9331699b5c120ed4.jpg', 'mastodonServer': 'mastodon.social', 'displayName': 'Ronen Tamari', 'id': '107714271376772838', 'username': 'ronent'}, 'signupDate': 1726521428364}], 'settings': {'notificationFreq': 'daily', 'autopost': {'nanopub': {'value': 'MANUAL'}}}, 'platformIds': ['mastodon:107714271376772838'], 'signupDate': 1726521428679}\n"
     ]
    }
   ],
   "source": [
    "print(profiles[0][0])"
   ]
  },
  {
   "cell_type": "code",
   "execution_count": 83,
   "metadata": {},
   "outputs": [],
   "source": [
    "def load_profiles_to_notion(profile_docs:list):\n",
    "    for profile_doc,profile_id in profile_docs:\n",
    "      if search_profile_in_notion(profile_id):\n",
    "        print(f'page with {profile_id} exist in notion profile database')\n",
    "      else:\n",
    "        try:\n",
    "          build_base_notion_profile(profile_doc,profile_id)\n",
    "        except Exception as e:\n",
    "          print(f\"An error occurred while building the base Notion profile: {e}\")\n",
    "\n",
    "\n",
    "          "
   ]
  },
  {
   "cell_type": "code",
   "execution_count": 92,
   "metadata": {},
   "outputs": [
    {
     "name": "stdout",
     "output_type": "stream",
     "text": [
      "Profile found for authorId: mastodon:107714271376772838\n",
      "page with mastodon:107714271376772838 exist in notion profile database\n",
      "No profile found for authorId: mastodon:109301127580127072\n",
      "in build profile page\n",
      "Created new page for profile with name: Ulrike Hahn\n",
      "No profile found for authorId: twitter:550845228\n",
      "in build profile page\n",
      "Created new page for profile with name: Anna Riedl\n"
     ]
    }
   ],
   "source": [
    "get_firebase_profile\n",
    "load_profiles_to_notion(profiles)\n"
   ]
  },
  {
   "cell_type": "code",
   "execution_count": 47,
   "metadata": {},
   "outputs": [
    {
     "name": "stderr",
     "output_type": "stream",
     "text": [
      "/Library/Frameworks/Python.framework/Versions/3.11/lib/python3.11/site-packages/google/cloud/firestore_v1/base_collection.py:300: UserWarning: Detected filter using positional arguments. Prefer using the 'filter' keyword argument instead.\n",
      "  return query.where(field_path, op_string, value)\n"
     ]
    },
    {
     "name": "stdout",
     "output_type": "stream",
     "text": [
      "twitter:550845228-twitter-550845228 => {'user_id': '550845228', 'platformId': 'twitter', 'userId': 'twitter:550845228', 'profile': {'id': '550845228', 'profile_image_url': 'https://pbs.twimg.com/profile_images/1736673697325281280/P9p1RCqB_normal.jpg', 'username': 'AnnaLeptikon', 'name': 'Anna Riedl'}}\n"
     ]
    }
   ],
   "source": [
    "#query for specific profile\n",
    "profile_id = \"twitter:550845228\"\n",
    "\n",
    "# Query the profile collection by postId\n",
    "profile_ref = db.collection('profiles').document(profile_id)\n",
    "\n",
    "# Execute the query\n",
    "doc = profile_ref.get()\n",
    "# Print the results\n",
    "for doc in docs:\n",
    "    print(f'{doc.id} => {doc.to_dict()}')"
   ]
  },
  {
   "cell_type": "code",
   "execution_count": 150,
   "metadata": {},
   "outputs": [],
   "source": [
    "#Updating Zotero Item types from triples when creating the url object\n",
    "def get_url_zotero_triples(url:str):\n",
    "    triples_ref = db.collection('triples').where('subject','==',url).where('predicate','==','https://sense-nets.xyz/hasZoteroItemType')\n",
    "\n",
    "    # Execute the query\n",
    "    docs = triples_ref.stream()\n",
    "    triples = []\n",
    "    # Print the results\n",
    "    for doc in docs:\n",
    "        triples.append(doc.to_dict())\n",
    "        #print(f'{doc.id} => {doc.to_dict()}')\n",
    "    print(f'query resulted with {len(triples)} triples')\n",
    "    return triples\n",
    "\n",
    "def get_zotero_types_from_triples(triples:list):\n",
    "    types = set(triple[\"object\"] for triple in triples)\n",
    "    return types\n",
    "\n",
    "def get_zotero_types_from_url(url:str):\n",
    "    return get_zotero_types_from_triples(get_url_zotero_triples(url))\n",
    "    "
   ]
  },
  {
   "cell_type": "code",
   "execution_count": 154,
   "metadata": {},
   "outputs": [],
   "source": [
    "#Creating URL pages\n",
    "def url_notion_lookup(url:str):\n",
    "    response = notion.databases.query(\n",
    "        **{\n",
    "            \"database_id\": URLS_DATABASE_ID,\n",
    "            \"filter\": {\n",
    "                \"property\": \"URL\",  # The property name in Notion\n",
    "                \"url\": {\n",
    "                    \"equals\": url  # Use 'equals' to match the authorId exactly\n",
    "                }\n",
    "            }\n",
    "        }\n",
    "    )\n",
    "    \n",
    "    # Check if any results are found\n",
    "    if response[\"results\"]:\n",
    "        print(f\"page found for url: {url}\")\n",
    "        return response[\"results\"][0][\"id\"]  # Return the first matched profile ID if it exists\n",
    "    else:\n",
    "        print(f\"No page found for url: {url}\")\n",
    "        return None\n",
    "    \n",
    "def create_url_notion_page(url:str):\n",
    "    print(\"in create url page\")\n",
    "    types = get_zotero_types_from_url(url)\n",
    "    response = notion.pages.create(\n",
    "        **{\n",
    "            \"parent\": {\"database_id\": URLS_DATABASE_ID},\n",
    "            \"properties\": {\n",
    "                \"Name\": {\n",
    "                    \"title\": [\n",
    "                        {\n",
    "                            \"text\": {\"content\": url}\n",
    "                        }\n",
    "                    ]\n",
    "                },\n",
    "                \"URL\": {\n",
    "                    \"url\": url\n",
    "                },\n",
    "                \"hasZoteroItemType\":{\n",
    "                    \"multi_select\": [{'name':typ} for typ in types]\n",
    "                }\n",
    "            }\n",
    "        }\n",
    "    )\n",
    "    \n",
    "    print(f\"Created new page for URL: {url}\")\n",
    "    return response[\"id\"]  # Return the page ID of the created URL page\n"
   ]
  },
  {
   "cell_type": "code",
   "execution_count": 54,
   "metadata": {},
   "outputs": [
    {
     "name": "stdout",
     "output_type": "stream",
     "text": [
      "page found for url: https://example.com/genai1\n"
     ]
    },
    {
     "data": {
      "text/plain": [
       "'0ff96ae9-0655-81d8-b72d-f751bdc605b8'"
      ]
     },
     "execution_count": 54,
     "metadata": {},
     "output_type": "execute_result"
    }
   ],
   "source": [
    "url_notion_lookup(\"https://example.com/genai1\")"
   ]
  },
  {
   "cell_type": "code",
   "execution_count": 153,
   "metadata": {},
   "outputs": [
    {
     "name": "stderr",
     "output_type": "stream",
     "text": [
      "/Library/Frameworks/Python.framework/Versions/3.11/lib/python3.11/site-packages/google/cloud/firestore_v1/base_collection.py:300: UserWarning: Detected filter using positional arguments. Prefer using the 'filter' keyword argument instead.\n",
      "  return query.where(field_path, op_string, value)\n",
      "/var/folders/j3/1_zy_b4s2517g8j_rjjdhd4h0000gn/T/ipykernel_14960/1261127169.py:3: UserWarning: Detected filter using positional arguments. Prefer using the 'filter' keyword argument instead.\n",
      "  triples_ref = db.collection('triples').where('subject','==',url).where('predicate','==','https://sense-nets.xyz/hasZoteroItemType')\n"
     ]
    },
    {
     "name": "stdout",
     "output_type": "stream",
     "text": [
      "query resulted with 1 triples\n",
      "in create url page\n",
      "Created new page for URL: http://arxiv.org/abs/2408.14508\n"
     ]
    },
    {
     "data": {
      "text/plain": [
       "'10796ae9-0655-81c6-ad3e-dd881d8ef9d6'"
      ]
     },
     "execution_count": 153,
     "metadata": {},
     "output_type": "execute_result"
    }
   ],
   "source": [
    "types = get_zotero_types_from_url('http://arxiv.org/abs/2408.14508')\n",
    "create_url_notion_page('http://arxiv.org/abs/2408.14508',types)"
   ]
  },
  {
   "cell_type": "code",
   "execution_count": null,
   "metadata": {},
   "outputs": [],
   "source": []
  },
  {
   "cell_type": "code",
   "execution_count": 61,
   "metadata": {},
   "outputs": [],
   "source": [
    "#Create Keyword page\n",
    "def keyword_notion_lookup(keyword:str):\n",
    "    response = notion.databases.query(\n",
    "        **{\n",
    "            \"database_id\": KEYWORDS_DATABASE_ID,\n",
    "            \"filter\": {\n",
    "                \"property\": \"Name\",  # The property name in Notion\n",
    "                \"title\": {\n",
    "                    \"equals\": keyword  # Use 'equals' to match the authorId exactly\n",
    "                }\n",
    "            }\n",
    "        }\n",
    "    )\n",
    "    \n",
    "    # Check if any results are found\n",
    "    if response[\"results\"]:\n",
    "        print(f\"page found for keyword: {keyword}\")\n",
    "        return response[\"results\"][0][\"id\"]  # Return the first matched profile ID if it exists\n",
    "    else:\n",
    "        print(f\"No page found for keyword: {keyword}\")\n",
    "        return None\n",
    "\n",
    "def create_keyword_notion_page(keyword:str):\n",
    "    print(\"in create page\")\n",
    "    response = notion.pages.create(\n",
    "        **{\n",
    "            \"parent\": {\"database_id\": KEYWORDS_DATABASE_ID},\n",
    "            \"properties\": {\n",
    "                \"Name\": {\n",
    "                    \"title\": [\n",
    "                        {\n",
    "                            \"text\": {\"content\": keyword}\n",
    "                        }\n",
    "                    ]\n",
    "                }\n",
    "            }\n",
    "        }\n",
    "    )\n",
    "    \n",
    "    print(f\"Created new page for keyword: {keyword}\")\n",
    "    return response[\"id\"]  # Return the page ID of the created URL page\n"
   ]
  },
  {
   "cell_type": "code",
   "execution_count": 58,
   "metadata": {},
   "outputs": [
    {
     "name": "stdout",
     "output_type": "stream",
     "text": [
      "page found for keyword: Art history\n"
     ]
    },
    {
     "data": {
      "text/plain": [
       "'2b21e135-6035-4022-8145-b3a494cf4216'"
      ]
     },
     "execution_count": 58,
     "metadata": {},
     "output_type": "execute_result"
    }
   ],
   "source": [
    "keyword_notion_lookup('Art history')"
   ]
  },
  {
   "cell_type": "code",
   "execution_count": 62,
   "metadata": {},
   "outputs": [
    {
     "name": "stdout",
     "output_type": "stream",
     "text": [
      "in create page\n",
      "Created new page for keyword: cats\n"
     ]
    },
    {
     "data": {
      "text/plain": [
       "'10496ae9-0655-8194-970f-c1787835af3b'"
      ]
     },
     "execution_count": 62,
     "metadata": {},
     "output_type": "execute_result"
    }
   ],
   "source": [
    "create_keyword_notion_page('cats')"
   ]
  },
  {
   "cell_type": "code",
   "execution_count": 225,
   "metadata": {},
   "outputs": [
    {
     "name": "stderr",
     "output_type": "stream",
     "text": [
      "/Library/Frameworks/Python.framework/Versions/3.11/lib/python3.11/site-packages/google/cloud/firestore_v1/base_collection.py:300: UserWarning: Detected filter using positional arguments. Prefer using the 'filter' keyword argument instead.\n",
      "  return query.where(field_path, op_string, value)\n"
     ]
    },
    {
     "name": "stdout",
     "output_type": "stream",
     "text": [
      "query resulted with 130 posts\n"
     ]
    }
   ],
   "source": [
    "#Query firebase for posts\n",
    "# Query the latest 10 users, ordered by the 'created_at' timestamp in descending order\n",
    "posts_ref = db.collection('posts').where(\"createdAtMs\",'>',0).limit(None)\n",
    "\n",
    "\n",
    "# Execute the query\n",
    "docs = posts_ref.stream()\n",
    "posts = []\n",
    "# Print the results\n",
    "for doc in docs:\n",
    "    posts.append((doc.to_dict(),doc.id))\n",
    "    #print(f'{doc.id} => {doc.to_dict()}')\n",
    "print(f'query resulted with {len(posts)} posts')"
   ]
  },
  {
   "cell_type": "code",
   "execution_count": 93,
   "metadata": {},
   "outputs": [],
   "source": [
    "#utility functions\n",
    "def get_thread(thread_list:list):\n",
    "    full_text = ''\n",
    "    url = thread_list[0][\"url\"]\n",
    "    for post_dict in thread_list:\n",
    "        full_text = f'{full_text} {post_dict[\"content\"]}'\n",
    "    return full_text,url\n"
   ]
  },
  {
   "cell_type": "code",
   "execution_count": 97,
   "metadata": {},
   "outputs": [
    {
     "data": {
      "text/plain": [
       "(' Rediscovering that statistics was originally „the science concerned with states“, German „Staat“.\\n\\nAnother field were the application (administration and accounting) emerged clearly before the more theoretical approaches.\\n\\nPorter, T. M. (2020): The rise of statistical thinking, 1820-1900 The feeling of learning that statistics was originally about „matters of states“ was the same as learning that wash-bears (the English translation of the German word for raccoon) are called that way because they wash their food.\\n\\nSome call it „Turing surprised“: not being surprised by new information but by finally integrating information one already possessed.',\n",
       " 'https://x.com/AnnaLeptikon/status/1833265798137397612')"
      ]
     },
     "execution_count": 97,
     "metadata": {},
     "output_type": "execute_result"
    }
   ],
   "source": [
    "get_thread(posts[0][0][\"generic\"][\"thread\"])"
   ]
  },
  {
   "cell_type": "code",
   "execution_count": 128,
   "metadata": {},
   "outputs": [],
   "source": [
    "def get_post_triples(post_firebase_id:str):\n",
    "    # Query the latest 10 users, ordered by the 'created_at' timestamp in descending order\n",
    "    triples_ref = db.collection('triples').where('postId','==',post_firebase_id).where('predicate','in',props)\n",
    "\n",
    "    # Execute the query\n",
    "    docs = triples_ref.stream()\n",
    "    triples = []\n",
    "    # Print the results\n",
    "    for doc in docs:\n",
    "        triples.append(doc.to_dict())\n",
    "        #print(f'{doc.id} => {doc.to_dict()}')\n",
    "    print(f'query resulted with {len(triples)} triples')\n",
    "    return triples\n",
    "\n",
    "#RDF properties to filter triples by\n",
    "props = ['https://sense-nets.xyz/summarizes',\n",
    "'https://sense-nets.xyz/mentionsCallForPapers',\n",
    "'https://sense-nets.xyz/endorses',\n",
    "'http://purl.org/spar/cito/disagreesWith',\n",
    "'http://purl.org/spar/cito/agreesWith',\n",
    "'https://sense-nets.xyz/indicatesInterest',\n",
    "'https://sense-nets.xyz/mentionsFundingOpportunity',\n",
    "'https://sense-nets.xyz/mentionsWatchingStatus',\n",
    "'https://sense-nets.xyz/mentionsReadingStatus',\n",
    "'https://sense-nets.xyz/mentionsListeningStatus',\n",
    "'http://purl.org/spar/cito/reviews',\n",
    "'https://sense-nets.xyz/recommends',\n",
    "'https://sense-nets.xyz/asksQuestionAbout',\n",
    "'http://purl.org/spar/cito/includesQuotationFrom',\n",
    "'http://purl.org/spar/cito/discusses',\n",
    "'https://sense-nets.xyz/announcesEvent',\n",
    "'https://sense-nets.xyz/announcesJob',\n",
    "'https://sense-nets.xyz/announcesResource',\n",
    "'https://sense-nets.xyz/possibleMissingReference',\n",
    "'https://schema.org/Observation',\n",
    "'https://schema.org/Claim',\n",
    "'https://schema.org/Question',\n",
    "'https://schema.org/keywords']\n",
    "def get_uri_property_name(props:list):\n",
    "    return [uri.split('/')[-1] for uri in props]"
   ]
  },
  {
   "cell_type": "code",
   "execution_count": 220,
   "metadata": {},
   "outputs": [],
   "source": [
    "import datetime\n",
    "\n",
    "def post_notion_lookup(postDocId:str):\n",
    "    response = notion.databases.query(\n",
    "        **{\n",
    "            \"database_id\": POSTS_DATABASE_ID,\n",
    "            \"filter\": {\n",
    "                \"property\": \"firebase_id\",  # The property name in Notion\n",
    "                \"rich_text\": {\n",
    "                    \"equals\": postDocId  # Use 'equals' to match the authorId exactly\n",
    "                }\n",
    "            }\n",
    "        }\n",
    "    )\n",
    "    \n",
    "    # Check if any results are found\n",
    "    if response[\"results\"]:\n",
    "        print(f\"page found for post with id: {postDocId}\")\n",
    "        return response[\"results\"][0][\"id\"]  # Return the first matched profile ID if it exists\n",
    "    else:\n",
    "        print(f\"No page found for post with id: {postDocId}\")\n",
    "        return None\n",
    "\n",
    "def convert_timestamp_to_notion_date(createdAtMs):\n",
    "    # Convert milliseconds to seconds\n",
    "    timestamp_s = createdAtMs / 1000\n",
    "    # Convert to a Python datetime object (in UTC)\n",
    "    dt = datetime.datetime.utcfromtimestamp(timestamp_s)\n",
    "    # Convert to ISO 8601 format\n",
    "    return dt.isoformat()  # Notion expects ISO 8601 format\n",
    "\n",
    "def build_dynamic_postpage_properties(post_dict: dict, post_firebase_id: str):\n",
    "    post_text, post_url = get_thread(post_dict[\"generic\"][\"thread\"])\n",
    "    author_handle = post_dict[\"generic\"][\"author\"][\"username\"]\n",
    "    post_title = create_post_name(post_text, author_handle)\n",
    "    profile_notion_id = load_profile_to_notion(post_dict[\"authorId\"])\n",
    "    post_Ms = post_dict[\"createdAtMs\"]\n",
    "    creation_time =  convert_timestamp_to_notion_date(post_Ms)\n",
    "    properties = {\n",
    "        \"Name\": {\n",
    "            \"title\": [\n",
    "                {\n",
    "                    \"text\": {\"content\": post_title}\n",
    "                }\n",
    "            ]\n",
    "        },\n",
    "        \"Text\": {\n",
    "            \"rich_text\": [\n",
    "                {\n",
    "                    \"text\": {\"content\": post_text[:1900]}\n",
    "                }\n",
    "            ]\n",
    "        },\n",
    "        \"Creators handle\": {\n",
    "            \"rich_text\": [\n",
    "                {\n",
    "                    \"text\": {\"content\": author_handle}\n",
    "                }\n",
    "            ]\n",
    "        },\n",
    "        \"firebase_id\": {\n",
    "            \"rich_text\": [\n",
    "                {\n",
    "                    \"text\": {\"content\": post_firebase_id}\n",
    "                }\n",
    "            ]\n",
    "        },\n",
    "        \"createdAtMs\": {\n",
    "            \"rich_text\": [\n",
    "                {\n",
    "                    \"text\": {\"content\": str(post_Ms)}\n",
    "                }\n",
    "            ]\n",
    "        },\n",
    "        \"Author\": {\n",
    "            \"relation\": [{\"id\": profile_notion_id}]\n",
    "        },\n",
    "        \"Post URL\": {\n",
    "            \"url\": post_url\n",
    "            },\n",
    "        \"publish date\": {\n",
    "            \"date\": {\n",
    "                \"start\": creation_time  # Notion date field\n",
    "            }\n",
    "        }\n",
    "    }\n",
    "    \n",
    "\n",
    "    # Initialize a dictionary to collect multiple relations for each prop_name\n",
    "    relations = {}\n",
    "    # Initialize a list for all urls to add under linksTo \n",
    "    urls = []\n",
    "    prop_name_set = set()\n",
    "    # Get triples from the post\n",
    "    triples = get_post_triples(post_firebase_id)\n",
    "    print(\"got triplets\")\n",
    "    for triple in triples:\n",
    "        prop_name = triple[\"predicate\"].split('/')[-1]\n",
    "        \n",
    "        # Initialize the relation list for each property if it doesn't exist\n",
    "        if prop_name not in relations:\n",
    "            relations[prop_name] = []\n",
    "\n",
    "\n",
    "        # Handle keywords as an example\n",
    "        if prop_name == \"keywords\":\n",
    "            keyword_id = keyword_notion_lookup(triple[\"object\"])\n",
    "            if not keyword_id:\n",
    "                keyword_id = create_keyword_notion_page(triple[\"object\"])\n",
    "\n",
    "            # Append keyword_id to the relations dictionary under the \"keywords\" key\n",
    "            relations[prop_name].append({\"id\": keyword_id})\n",
    "\n",
    "        else:\n",
    "            # Handle other relation properties dynamically (e.g., URLs)\n",
    "            url_id = url_notion_lookup(triple[\"object\"])\n",
    "            if not url_id:\n",
    "                url_id = create_url_notion_page(triple[\"object\"])\n",
    "\n",
    "            # Append the new relation to the corresponding prop_name\n",
    "            relations[prop_name].append({\"id\": url_id})\n",
    "            urls.append({\"id\": url_id})\n",
    "            prop_name_set.add(prop_name)\n",
    "            print(f'prop name set is {prop_name_set}')\n",
    "\n",
    "    # After processing all triples, update the properties with collected relations\n",
    "    for prop_name, relation_list in relations.items():\n",
    "        properties[prop_name] = {\"relation\": relation_list}\n",
    "    properties[\"linksTo\"] = {\"relation\":urls}\n",
    "    properties[\"relations tags\"] = {\"multi_select\":[{\"name\":p} for p in prop_name_set]}\n",
    "    return properties\n",
    "\n",
    "def create_notion_post_page(post_dict:dict,post_firebase_id:str):\n",
    "    post_text, post_url = get_thread(post_dict[\"generic\"][\"thread\"])\n",
    "    author_handle = post_dict[\"generic\"][\"author\"][\"username\"]\n",
    "    post_title = create_post_name(post_text,author_handle)\n",
    "    response = notion.pages.create(\n",
    "        **{\n",
    "            \"parent\": {\"database_id\": POSTS_DATABASE_ID},\n",
    "            \"properties\": build_dynamic_postpage_properties(post_dict,post_firebase_id)\n",
    "        }\n",
    "    )\n",
    "    print(f\"Created new post page for '{post_title}'.\")\n",
    "    return response[\"id\"]  # Return the page ID of the created post page\n",
    "\n",
    "\n",
    "def create_post_name(post_text,post_handle):\n",
    "    # Create the post name as \"User name : First 10 characters of content\"\n",
    "    return f\"{post_handle}: {post_text[:60]}\"\n"
   ]
  },
  {
   "cell_type": "code",
   "execution_count": 189,
   "metadata": {},
   "outputs": [
    {
     "name": "stdout",
     "output_type": "stream",
     "text": [
      "Profile found for authorId: twitter:550845228\n",
      "Profile found for authorId: twitter:550845228\n",
      "query resulted with 6 triples\n",
      "got triplets\n"
     ]
    },
    {
     "name": "stderr",
     "output_type": "stream",
     "text": [
      "/var/folders/j3/1_zy_b4s2517g8j_rjjdhd4h0000gn/T/ipykernel_14960/510479382.py:3: UserWarning: Detected filter using positional arguments. Prefer using the 'filter' keyword argument instead.\n",
      "  triples_ref = db.collection('triples').where('postId','==',post_firebase_id).where('predicate','in',props)\n"
     ]
    },
    {
     "name": "stdout",
     "output_type": "stream",
     "text": [
      "page found for keyword: infinite\n",
      "page found for keyword: beauty\n",
      "page found for keyword: Augustine\n",
      "page found for keyword: history\n",
      "page found for keyword: cognitive-science\n",
      "page found for keyword: fractals\n",
      "Created new post page for 'AnnaLeptikon:  Visited Stift Heiligenkreuz with @AnalogWhole\n",
      "\n",
      "Contemplatin'.\n"
     ]
    },
    {
     "data": {
      "text/plain": [
       "'10a96ae9-0655-8158-b0d8-c039726a31f2'"
      ]
     },
     "execution_count": 189,
     "metadata": {},
     "output_type": "execute_result"
    }
   ],
   "source": [
    "create_notion_post_page(posts[1][0],posts[1][1])"
   ]
  },
  {
   "cell_type": "code",
   "execution_count": null,
   "metadata": {},
   "outputs": [],
   "source": []
  },
  {
   "cell_type": "code",
   "execution_count": 221,
   "metadata": {},
   "outputs": [],
   "source": [
    "def load_posts_to_notion(post_tuple_list:list):\n",
    "    for post_dict, post_id in post_tuple_list:\n",
    "        create_notion_post_page(post_dict,post_id)\n",
    "        print(f'post page with id {post_id} was loaded to Notion')"
   ]
  },
  {
   "cell_type": "code",
   "execution_count": 222,
   "metadata": {},
   "outputs": [
    {
     "name": "stdout",
     "output_type": "stream",
     "text": [
      "Profile found for authorId: twitter:550845228\n"
     ]
    },
    {
     "name": "stderr",
     "output_type": "stream",
     "text": [
      "/Library/Frameworks/Python.framework/Versions/3.11/lib/python3.11/site-packages/google/cloud/firestore_v1/base_collection.py:300: UserWarning: Detected filter using positional arguments. Prefer using the 'filter' keyword argument instead.\n",
      "  return query.where(field_path, op_string, value)\n",
      "/var/folders/j3/1_zy_b4s2517g8j_rjjdhd4h0000gn/T/ipykernel_14960/510479382.py:3: UserWarning: Detected filter using positional arguments. Prefer using the 'filter' keyword argument instead.\n",
      "  triples_ref = db.collection('triples').where('postId','==',post_firebase_id).where('predicate','in',props)\n"
     ]
    },
    {
     "name": "stdout",
     "output_type": "stream",
     "text": [
      "query resulted with 7 triples\n",
      "got triplets\n",
      "page found for keyword: dubbing\n",
      "page found for keyword: German\n",
      "page found for keyword: media-studies\n",
      "page found for keyword: parody\n",
      "page found for url: https://www.instagram.com/p/C86-gClq7k6/\n",
      "prop name set is {'indicatesInterest'}\n",
      "page found for keyword: linguistics\n",
      "page found for keyword: media\n",
      "Created new post page for 'AnnaLeptikon:  why is dubbing in German so bad? After I had seen so many v'.\n",
      "post page with id U0xqpacG2HvjgBbvbWsr was loaded to Notion\n",
      "Profile found for authorId: twitter:550845228\n",
      "query resulted with 6 triples\n",
      "got triplets\n",
      "page found for keyword: extremism\n",
      "page found for url: https://podcast.clearerthinking.org/episode/103/jesse-morton-a-former-al-qaeda-recruiter-speaks/\n",
      "prop name set is {'linksTo'}\n",
      "page found for keyword: ideology\n",
      "page found for keyword: brainwashing\n",
      "page found for keyword: deradicalization\n",
      "page found for keyword: notorious-jihadist-preachers\n",
      "Created new post page for 'AnnaLeptikon:  I keep recommending the @ClearerThinkng episode where @Spen'.\n",
      "post page with id UwI86fLWfHgc0r2Bz4Et was loaded to Notion\n",
      "Profile found for authorId: twitter:550845228\n",
      "query resulted with 19 triples\n",
      "got triplets\n",
      "page found for url: https://open.spotify.com/show/2YRNavdimPddYFaNvQDU7I\n",
      "prop name set is {'indicatesInterest'}\n",
      "page found for url: https://www.santafe.edu/culture/podcast-archive#Complexity\n",
      "prop name set is {'indicatesInterest'}\n",
      "page found for keyword: books\n",
      "page found for url: https://sacswebsite.blogspot.com/2021/09/q-for-2021-version-of-map-of-complexity.html\n",
      "prop name set is {'indicatesInterest'}\n",
      "page found for keyword: podcasts\n",
      "page found for keyword: complexityscience\n",
      "page found for url: https://x.com/AnnaLeptikon/status/1819094724428681609\n",
      "prop name set is {'discusses', 'indicatesInterest'}\n",
      "page found for url: https://www.santafe.edu/\n",
      "prop name set is {'discusses', 'indicatesInterest'}\n",
      "page found for keyword: resources\n",
      "page found for url: https://x.com/AnnaLeptikon/status/1819094724428681609\n",
      "prop name set is {'endorses', 'discusses', 'indicatesInterest'}\n",
      "page found for url: https://humanparts.medium.com/making-sense-of-complexity-ee78755d56b9\n",
      "prop name set is {'endorses', 'discusses', 'indicatesInterest'}\n",
      "page found for keyword: onlinecourses\n",
      "page found for url: https://substack.com/@appliedcomplexity\n",
      "prop name set is {'endorses', 'discusses', 'indicatesInterest'}\n",
      "page found for url: https://csh.ac.at/\n",
      "prop name set is {'endorses', 'discusses', 'indicatesInterest'}\n",
      "page found for url: https://jimruttshow.blubrry.net/\n",
      "prop name set is {'endorses', 'discusses', 'indicatesInterest'}\n",
      "page found for keyword: socialmedia\n",
      "page found for url: https://www.sfipress.org/books/foundational-papers-in-complexity-science\n",
      "prop name set is {'endorses', 'discusses', 'indicatesInterest'}\n",
      "page found for url: https://www.art-sciencefactory.com/complexity-map_feb09.html\n",
      "prop name set is {'endorses', 'discusses', 'indicatesInterest'}\n",
      "page found for url: https://www.foundationalpapersincomplexityscience.org/\n",
      "prop name set is {'endorses', 'discusses', 'indicatesInterest'}\n",
      "Created new post page for 'AnnaLeptikon:  Do you want to learn more about complexity science?\n",
      "Here ar'.\n",
      "post page with id VbSNNWfSRxsIj2uGghbb was loaded to Notion\n",
      "Profile found for authorId: mastodon:109301127580127072\n",
      "query resulted with 11 triples\n",
      "got triplets\n",
      "page found for keyword: extremism\n",
      "page found for keyword: misinformation\n",
      "page found for keyword: onlineviolence\n",
      "page found for url: https://www.anthro.ox.ac.uk/article/going-dark-the-secret-social-lives-of-extremists\n",
      "prop name set is {'mentionsReadingStatus'}\n",
      "page found for url: https://www.icct.nl/publication/margins-mainstream-how-extremism-has-conquered-political-middle\n",
      "prop name set is {'mentionsReadingStatus'}\n",
      "page found for url: https://www.anthro.ox.ac.uk/article/going-dark-the-secret-social-lives-of-extremists\n",
      "prop name set is {'recommends', 'mentionsReadingStatus'}\n",
      "page found for keyword: socialmedia\n",
      "page found for url: https://www.zeit.de/digital/internet/2024-08/rechtsextreme-grossbritannien-polizei-falschinformationen-elon-musk-x\n",
      "prop name set is {'recommends', 'mentionsReadingStatus', 'discusses'}\n",
      "page found for keyword: rechtsextreme\n",
      "page found for url: https://www.icct.nl/publication/margins-mainstream-how-extremism-has-conquered-political-middle\n",
      "prop name set is {'recommends', 'mentionsReadingStatus', 'discusses'}\n",
      "page found for keyword: algorithms\n",
      "Created new post page for 'UlrikeHahn:  more on Musk, X, and the UK riots. This article (in German)'.\n",
      "post page with id Vx1nQPRDjxqYWmEGHe62 was loaded to Notion\n",
      "Profile found for authorId: mastodon:109301127580127072\n",
      "query resulted with 5 triples\n",
      "got triplets\n",
      "page found for keyword: BehavioralScience\n",
      "page found for keyword: InformationVisualization\n",
      "page found for keyword: OnlineDiscussions\n",
      "page found for keyword: Communication\n",
      "page found for keyword: OnlinePlatformDesign\n",
      "Created new post page for 'UlrikeHahn:  I’ve been thinking about a possible project, provisionally '.\n",
      "post page with id Y20SLt5ckujH67LHMKl6 was loaded to Notion\n"
     ]
    }
   ],
   "source": [
    "load_posts_to_notion(posts[18:23])"
   ]
  },
  {
   "cell_type": "code",
   "execution_count": null,
   "metadata": {},
   "outputs": [],
   "source": [
    "# Function to query Firestore by document ID\n",
    "def get_document_by_id(collection_name, doc_id):\n",
    "    doc_ref = db.collection(collection_name).document(doc_id)\n",
    "    doc = doc_ref.get()\n",
    "\n",
    "    if doc.exists:\n",
    "        print(f'Document data: {doc.to_dict()}')\n",
    "        return doc.to_dict()\n",
    "    else:\n",
    "        print('No document found!')\n",
    "        return None\n",
    "\n",
    "post = get_document_by_id(\"posts\",'r2tcQ5UKRxXrNdPa7poH')\n"
   ]
  },
  {
   "cell_type": "code",
   "execution_count": null,
   "metadata": {},
   "outputs": [],
   "source": [
    "create_notion_post_page(post,'r2tcQ5UKRxXrNdPa7poH')"
   ]
  },
  {
   "cell_type": "code",
   "execution_count": null,
   "metadata": {},
   "outputs": [],
   "source": [
    "get_post_triples('3PWK7jWTHWzR5XQszG1J')"
   ]
  },
  {
   "cell_type": "code",
   "execution_count": 151,
   "metadata": {},
   "outputs": [
    {
     "name": "stdout",
     "output_type": "stream",
     "text": [
      "query resulted with 1 triples\n"
     ]
    },
    {
     "name": "stderr",
     "output_type": "stream",
     "text": [
      "/var/folders/j3/1_zy_b4s2517g8j_rjjdhd4h0000gn/T/ipykernel_14960/1261127169.py:3: UserWarning: Detected filter using positional arguments. Prefer using the 'filter' keyword argument instead.\n",
      "  triples_ref = db.collection('triples').where('subject','==',url).where('predicate','==','https://sense-nets.xyz/hasZoteroItemType')\n"
     ]
    },
    {
     "data": {
      "text/plain": [
       "{'preprint'}"
      ]
     },
     "execution_count": 151,
     "metadata": {},
     "output_type": "execute_result"
    }
   ],
   "source": [
    "get_zotero_types_from_url('http://arxiv.org/abs/2408.14508')"
   ]
  }
 ],
 "metadata": {
  "kernelspec": {
   "display_name": "Python 3",
   "language": "python",
   "name": "python3"
  },
  "language_info": {
   "codemirror_mode": {
    "name": "ipython",
    "version": 3
   },
   "file_extension": ".py",
   "mimetype": "text/x-python",
   "name": "python",
   "nbconvert_exporter": "python",
   "pygments_lexer": "ipython3",
   "version": "3.11.2"
  },
  "orig_nbformat": 4,
  "vscode": {
   "interpreter": {
    "hash": "aee8b7b246df8f9039afb4144a1f6fd8d2ca17a180786b69acc140d282b71a49"
   }
  }
 },
 "nbformat": 4,
 "nbformat_minor": 2
}
