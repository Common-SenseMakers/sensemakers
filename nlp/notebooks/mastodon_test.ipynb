{
 "cells": [
  {
   "cell_type": "code",
   "execution_count": 1,
   "metadata": {},
   "outputs": [],
   "source": [
    "# load env with api keys https://stackoverflow.com/a/54028874\n",
    "%load_ext dotenv\n",
    "%dotenv ../etc/config.env\n",
    "\n"
   ]
  },
  {
   "cell_type": "code",
   "execution_count": 2,
   "metadata": {},
   "outputs": [],
   "source": [
    "import sys\n",
    "sys.path.append(\"../\")\n",
    "import requests\n",
    "import html2text\n",
    "from urllib.parse import urlparse"
   ]
  },
  {
   "cell_type": "code",
   "execution_count": 3,
   "metadata": {},
   "outputs": [],
   "source": [
    "test_post = \"https://mastodon.social/@Iris@scholar.social/111269570161082863\""
   ]
  },
  {
   "cell_type": "code",
   "execution_count": 4,
   "metadata": {},
   "outputs": [],
   "source": [
    "def convert_html_to_plain_text(html_content):\n",
    "    converter = html2text.HTML2Text()\n",
    "    converter.ignore_links = True\n",
    "    plain_text = converter.handle(html_content)\n",
    "    return plain_text.strip()\n"
   ]
  },
  {
   "cell_type": "code",
   "execution_count": 17,
   "metadata": {},
   "outputs": [],
   "source": [
    "\n",
    "\n",
    "# chat gpt\n",
    "\n",
    "def get_mastodon_post_by_instance(instance_url, status_id, access_token=None):\n",
    "    \"\"\"\n",
    "    Get a single Mastodon post given its status ID.\n",
    "\n",
    "    Parameters:\n",
    "        instance_url (str): The URL of the Mastodon instance (e.g., \"https://mastodon.social\").\n",
    "        status_id (int): The ID of the Mastodon post.\n",
    "        access_token (str, optional): An optional access token if the post is on a private account.\n",
    "\n",
    "    Returns:\n",
    "        dict: The Mastodon post in JSON format.\n",
    "    \"\"\"\n",
    "    endpoint = f\"{instance_url}/api/v1/statuses/{status_id}\"\n",
    "    headers = {\"Authorization\": f\"Bearer {access_token}\"} if access_token else {}\n",
    "\n",
    "    response = requests.get(endpoint, headers=headers)\n",
    "\n",
    "    if response.status_code == 200:\n",
    "        post = response.json()\n",
    "        post[\"plain_content\"] = convert_html_to_plain_text(post[\"content\"])\n",
    "        return post\n",
    "    else:\n",
    "        print(f\"Failed to get Mastodon post. Status code: {response.status_code}\")\n",
    "        return None\n",
    "\n"
   ]
  },
  {
   "cell_type": "code",
   "execution_count": 10,
   "metadata": {},
   "outputs": [
    {
     "name": "stdout",
     "output_type": "stream",
     "text": [
      "Post ID: 111370356703347326\n",
      "Content: Nature has retracted a controversial paper claiming the discovery of a\n",
      "#Superconductor capable of operating at room temperature and relatively low\n",
      "pressure. #ExtraordinaryClaimsRequireExtraordinaryEvidence #physics\n",
      "#academicchatter\n",
      "https://www.nature.com/articles/d41586-023-03398-4?fbclid=IwAR2zOJc_I_ZBVIMy3iKVXImn8zXaY89CUZz-\n",
      "Tlm_XYxFAsxn0kefUw6xPgc\n"
     ]
    }
   ],
   "source": [
    "# Example usage:\n",
    "instance_url = \"https://mastodon.social\"\n",
    "status_id = 111370356703347326  # Replace with the actual status ID\n",
    "access_token = \"your_access_token\"  # Replace with your Mastodon access token if needed\n",
    "\n",
    "post = get_mastodon_post(instance_url, status_id, access_token)\n",
    "\n",
    "if post:\n",
    "    print(f\"Post ID: {post['id']}\")\n",
    "    print(f\"Content: {post['plain_content']}\")\n",
    "else:\n",
    "    print(\"Failed to retrieve Mastodon post.\")"
   ]
  },
  {
   "cell_type": "code",
   "execution_count": 14,
   "metadata": {},
   "outputs": [
    {
     "name": "stdout",
     "output_type": "stream",
     "text": [
      "Instance URL: https://mastodon.social\n",
      "Status ID: 111370356703347326\n"
     ]
    }
   ],
   "source": [
    "import re\n",
    "\n",
    "def extract_instance_and_status(url):\n",
    "    # Define the regex pattern to extract instance and status ID\n",
    "    pattern = re.compile(r'https://([^/]+)/@([^/]+)/(\\d+)')\n",
    "\n",
    "    # Use the pattern to find matches in the URL\n",
    "    match = pattern.match(url)\n",
    "\n",
    "    if match:\n",
    "        instance_url = \"https://\" + match.group(1)\n",
    "        status_id = match.group(3)\n",
    "        return instance_url, status_id\n",
    "    else:\n",
    "        return None, None\n",
    "\n",
    "# Example usage:\n",
    "url = \"https://mastodon.social/@Guinnessy@mastodon.world/111370356703347326\"\n",
    "instance_url, status_id = extract_instance_and_status(url)\n",
    "\n",
    "if instance_url and status_id:\n",
    "    print(f\"Instance URL: {instance_url}\")\n",
    "    print(f\"Status ID: {status_id}\")\n",
    "else:\n",
    "    print(\"Invalid Mastodon post URL\")\n"
   ]
  },
  {
   "cell_type": "code",
   "execution_count": 18,
   "metadata": {},
   "outputs": [],
   "source": [
    "def get_mastodon_post(post_url: str):\n",
    "\n",
    "    # get instance url and status ID\n",
    "    instance_url, status_id = extract_instance_and_status(post_url)\n",
    "\n",
    "    post = get_mastodon_post_by_instance(instance_url, status_id)\n",
    "\n",
    "    return post"
   ]
  },
  {
   "cell_type": "code",
   "execution_count": 20,
   "metadata": {},
   "outputs": [
    {
     "data": {
      "text/plain": [
       "{'id': '111404131751876120',\n",
       " 'created_at': '2023-11-13T16:15:47.094Z',\n",
       " 'in_reply_to_id': None,\n",
       " 'in_reply_to_account_id': None,\n",
       " 'sensitive': False,\n",
       " 'spoiler_text': '',\n",
       " 'visibility': 'public',\n",
       " 'language': 'en',\n",
       " 'uri': 'https://fosstodon.org/users/marcc/statuses/111404131751876120',\n",
       " 'url': 'https://fosstodon.org/@marcc/111404131751876120',\n",
       " 'replies_count': 0,\n",
       " 'reblogs_count': 0,\n",
       " 'favourites_count': 0,\n",
       " 'edited_at': '2023-11-13T16:20:52.684Z',\n",
       " 'content': '<p>I absolutely love <span class=\"h-card\" translate=\"no\"><a href=\"https://indieweb.social/@maggie\" class=\"u-url mention\">@<span>maggie</span></a></span>&#39;s visualization of the internet  as a cutout of the earth with multiple layers (<a href=\"https://maggieappleton.com/cozy-web\" target=\"_blank\" rel=\"nofollow noopener noreferrer\" translate=\"no\"><span class=\"invisible\">https://</span><span class=\"\">maggieappleton.com/cozy-web</span><span class=\"invisible\"></span></a>). While you can visualize the internet as a... web, I think it is so abstract it does not cover the patterns that arise within it. Thinking about the internet as layers, where in each layer we are invited to act differently, makes a lot of sense!</p><p>Now I am curious what other models are out there for visualizing the web. :)</p>',\n",
       " 'reblog': None,\n",
       " 'application': None,\n",
       " 'account': {'id': '110575424033925188',\n",
       "  'username': 'marcc',\n",
       "  'acct': 'marcc',\n",
       "  'display_name': 'marcc.rooted',\n",
       "  'locked': False,\n",
       "  'bot': False,\n",
       "  'discoverable': True,\n",
       "  'group': False,\n",
       "  'created_at': '2023-06-20T00:00:00.000Z',\n",
       "  'note': '<p>Traveling the world while working remotely. <br />Writing an online cookbook with stories and recipes from all over the world. 📍Brazil</p>',\n",
       "  'url': 'https://fosstodon.org/@marcc',\n",
       "  'uri': 'https://fosstodon.org/users/marcc',\n",
       "  'avatar': 'https://cdn.fosstodon.org/accounts/avatars/110/575/424/033/925/188/original/5e4546e22ac55aff.jpeg',\n",
       "  'avatar_static': 'https://cdn.fosstodon.org/accounts/avatars/110/575/424/033/925/188/original/5e4546e22ac55aff.jpeg',\n",
       "  'header': 'https://fosstodon.org/headers/original/missing.png',\n",
       "  'header_static': 'https://fosstodon.org/headers/original/missing.png',\n",
       "  'followers_count': 24,\n",
       "  'following_count': 37,\n",
       "  'statuses_count': 24,\n",
       "  'last_status_at': '2023-11-13',\n",
       "  'noindex': True,\n",
       "  'emojis': [],\n",
       "  'roles': [],\n",
       "  'fields': []},\n",
       " 'media_attachments': [],\n",
       " 'mentions': [{'id': '109363798412961948',\n",
       "   'username': 'maggie',\n",
       "   'url': 'https://indieweb.social/@maggie',\n",
       "   'acct': 'maggie@indieweb.social'}],\n",
       " 'tags': [],\n",
       " 'emojis': [],\n",
       " 'card': {'url': 'https://maggieappleton.com',\n",
       "  'title': 'The Dark Forest and the Cozy Web',\n",
       "  'description': 'An illustrated diagram exposing the inner layers of the dark and cozy web',\n",
       "  'language': 'en',\n",
       "  'type': 'link',\n",
       "  'author_name': '',\n",
       "  'author_url': '',\n",
       "  'provider_name': 'Maggie Appleton',\n",
       "  'provider_url': '',\n",
       "  'html': '',\n",
       "  'width': 1200,\n",
       "  'height': 630,\n",
       "  'image': 'https://cdn.fosstodon.org/cache/preview_cards/images/008/229/894/original/29580d936aacc3dc.png',\n",
       "  'image_description': 'The Dark Forest and the Cozy Web',\n",
       "  'embed_url': '',\n",
       "  'blurhash': 'U7Rp8$4n%MxuD%M{xuj[_3-;M{M|~q%MIURj',\n",
       "  'published_at': None},\n",
       " 'poll': None,\n",
       " 'plain_content': \"I absolutely love @maggie's visualization of the internet as a cutout of the\\nearth with multiple layers (https://maggieappleton.com/cozy-web). While you\\ncan visualize the internet as a... web, I think it is so abstract it does not\\ncover the patterns that arise within it. Thinking about the internet as\\nlayers, where in each layer we are invited to act differently, makes a lot of\\nsense!\\n\\nNow I am curious what other models are out there for visualizing the web. :)\"}"
      ]
     },
     "execution_count": 20,
     "metadata": {},
     "output_type": "execute_result"
    }
   ],
   "source": [
    "post = get_mastodon_post(\"https://fosstodon.org/@marcc/111404131751876120\")\n",
    "post"
   ]
  },
  {
   "cell_type": "code",
   "execution_count": 25,
   "metadata": {},
   "outputs": [
    {
     "data": {
      "text/plain": [
       "{'url': 'https://maggieappleton.com',\n",
       " 'title': 'The Dark Forest and the Cozy Web',\n",
       " 'description': 'An illustrated diagram exposing the inner layers of the dark and cozy web',\n",
       " 'language': 'en',\n",
       " 'type': 'link',\n",
       " 'author_name': '',\n",
       " 'author_url': '',\n",
       " 'provider_name': 'Maggie Appleton',\n",
       " 'provider_url': '',\n",
       " 'html': '',\n",
       " 'width': 1200,\n",
       " 'height': 630,\n",
       " 'image': 'https://cdn.fosstodon.org/cache/preview_cards/images/008/229/894/original/29580d936aacc3dc.png',\n",
       " 'image_description': 'The Dark Forest and the Cozy Web',\n",
       " 'embed_url': '',\n",
       " 'blurhash': 'U7Rp8$4n%MxuD%M{xuj[_3-;M{M|~q%MIURj',\n",
       " 'published_at': None}"
      ]
     },
     "execution_count": 25,
     "metadata": {},
     "output_type": "execute_result"
    }
   ],
   "source": [
    "post['card']"
   ]
  },
  {
   "cell_type": "code",
   "execution_count": 30,
   "metadata": {},
   "outputs": [
    {
     "data": {
      "text/plain": [
       "{'id': '110547791877312842',\n",
       " 'created_at': '2023-06-15T10:37:03.000Z',\n",
       " 'in_reply_to_id': None,\n",
       " 'in_reply_to_account_id': None,\n",
       " 'sensitive': False,\n",
       " 'spoiler_text': '',\n",
       " 'visibility': 'public',\n",
       " 'language': 'en',\n",
       " 'uri': 'https://sauropods.win/users/futurebird/statuses/110547790923649261',\n",
       " 'url': 'https://sauropods.win/@futurebird/110547790923649261',\n",
       " 'replies_count': 13,\n",
       " 'reblogs_count': 116,\n",
       " 'favourites_count': 41,\n",
       " 'edited_at': None,\n",
       " 'content': '<p>The idea that LLM fiction could suffice for entertainment or that LLM written news articles (which would require much more guidance than the fiction, assuming we want to produce, well, mostly true news) could make do for your daily check in on what’s happening in the world— is disturbing since it assumes nothing will ever be created or happen that goes beyond the basic established categories for stories as we know them. It’s fundamentally conservative.</p>',\n",
       " 'reblog': None,\n",
       " 'account': {'id': '109300660825603449',\n",
       "  'username': 'futurebird',\n",
       "  'acct': 'futurebird@sauropods.win',\n",
       "  'display_name': 'myrmepropagandist',\n",
       "  'locked': False,\n",
       "  'bot': False,\n",
       "  'discoverable': True,\n",
       "  'group': False,\n",
       "  'created_at': '2022-11-07T00:00:00.000Z',\n",
       "  'note': '<p>pro-ant propaganda, building electronics, writing sci-fi teaching mathematics &amp; CS.  I live in NYC.</p>',\n",
       "  'url': 'https://sauropods.win/@futurebird',\n",
       "  'uri': 'https://sauropods.win/users/futurebird',\n",
       "  'avatar': 'https://files.mastodon.social/cache/accounts/avatars/109/300/660/825/603/449/original/9108e1f630e06461.png',\n",
       "  'avatar_static': 'https://files.mastodon.social/cache/accounts/avatars/109/300/660/825/603/449/original/9108e1f630e06461.png',\n",
       "  'header': 'https://files.mastodon.social/cache/accounts/headers/109/300/660/825/603/449/original/11cfefa0bb85d87d.png',\n",
       "  'header_static': 'https://files.mastodon.social/cache/accounts/headers/109/300/660/825/603/449/original/11cfefa0bb85d87d.png',\n",
       "  'followers_count': 12424,\n",
       "  'following_count': 4160,\n",
       "  'statuses_count': 23824,\n",
       "  'last_status_at': '2023-11-13',\n",
       "  'emojis': [],\n",
       "  'fields': [{'name': 'tumblr',\n",
       "    'value': '<a href=\"https://futurebird.tumblr.com/\" target=\"_blank\" rel=\"nofollow noopener noreferrer\" translate=\"no\"><span class=\"invisible\">https://</span><span class=\"\">futurebird.tumblr.com/</span><span class=\"invisible\"></span></a>',\n",
       "    'verified_at': '2023-11-12T23:18:43.969+00:00'},\n",
       "   {'name': 'twitter',\n",
       "    'value': 'someone stole my username there',\n",
       "    'verified_at': None},\n",
       "   {'name': 'pronouns',\n",
       "    'value': \"she/her/lady/ma'am/That One/Mrs.\",\n",
       "    'verified_at': None},\n",
       "   {'name': '$',\n",
       "    'value': '1DS6Qg8UgDws3kJ5qWa24agrVvP8j7iuUU',\n",
       "    'verified_at': None}]},\n",
       " 'media_attachments': [],\n",
       " 'mentions': [],\n",
       " 'tags': [],\n",
       " 'emojis': [],\n",
       " 'card': None,\n",
       " 'poll': None,\n",
       " 'plain_content': 'The idea that LLM fiction could suffice for entertainment or that LLM written\\nnews articles (which would require much more guidance than the fiction,\\nassuming we want to produce, well, mostly true news) could make do for your\\ndaily check in on what’s happening in the world— is disturbing since it\\nassumes nothing will ever be created or happen that goes beyond the basic\\nestablished categories for stories as we know them. It’s fundamentally\\nconservative.'}"
      ]
     },
     "execution_count": 30,
     "metadata": {},
     "output_type": "execute_result"
    }
   ],
   "source": [
    "post = get_mastodon_post(\"https://mastodon.social/@futurebird@sauropods.win/110547791877312842\")\n",
    "post"
   ]
  },
  {
   "cell_type": "code",
   "execution_count": 21,
   "metadata": {},
   "outputs": [
    {
     "data": {
      "text/plain": [
       "\"I absolutely love @maggie's visualization of the internet as a cutout of the\\nearth with multiple layers (https://maggieappleton.com/cozy-web). While you\\ncan visualize the internet as a... web, I think it is so abstract it does not\\ncover the patterns that arise within it. Thinking about the internet as\\nlayers, where in each layer we are invited to act differently, makes a lot of\\nsense!\\n\\nNow I am curious what other models are out there for visualizing the web. :)\""
      ]
     },
     "execution_count": 21,
     "metadata": {},
     "output_type": "execute_result"
    }
   ],
   "source": [
    "post[\"plain_content\"]"
   ]
  },
  {
   "cell_type": "code",
   "execution_count": 24,
   "metadata": {},
   "outputs": [
    {
     "data": {
      "text/plain": [
       "dict_keys(['id', 'created_at', 'in_reply_to_id', 'in_reply_to_account_id', 'sensitive', 'spoiler_text', 'visibility', 'language', 'uri', 'url', 'replies_count', 'reblogs_count', 'favourites_count', 'edited_at', 'content', 'reblog', 'application', 'account', 'media_attachments', 'mentions', 'tags', 'emojis', 'card', 'poll', 'plain_content'])"
      ]
     },
     "execution_count": 24,
     "metadata": {},
     "output_type": "execute_result"
    }
   ],
   "source": [
    "post.keys()"
   ]
  },
  {
   "cell_type": "code",
   "execution_count": 23,
   "metadata": {},
   "outputs": [
    {
     "data": {
      "text/plain": [
       "[]"
      ]
     },
     "execution_count": 23,
     "metadata": {},
     "output_type": "execute_result"
    }
   ],
   "source": [
    "post[\"media_attachments\"]"
   ]
  },
  {
   "cell_type": "code",
   "execution_count": 35,
   "metadata": {},
   "outputs": [
    {
     "name": "stdout",
     "output_type": "stream",
     "text": [
      "Invalid Mastodon post URL\n"
     ]
    }
   ],
   "source": [
    "import re\n",
    "\n",
    "def convert_masto_to_canonical_format(url):\n",
    "    \"\"\"\n",
    "    Converts a Mastodon post URL into a canonical format.\n",
    "\n",
    "    Args:\n",
    "        url (str): The Mastodon post URL to be converted.\n",
    "\n",
    "    Returns:\n",
    "        str: The canonical format of the Mastodon post URL, or None if the input URL is invalid.\n",
    "\n",
    "    Example:\n",
    "        >>> input_url = \"https://fosstodon.org/@marcc/111404131751876120\"\n",
    "        >>> convert_to_canonical_format(input_url)\n",
    "        'https://mastodon.social/@marcc@fosstodon.org/111404131751876120'\n",
    "\n",
    "    The canonical format is constructed as follows:\n",
    "    - Extracts the instance URL, username, and status ID from the input URL.\n",
    "    - Constructs a new URL in the format: https://mastodon.social/@username@instance_url/status_id\n",
    "\n",
    "    Note:\n",
    "        - used chatgpt to generate\n",
    "        - threre are non mastodon urls that might match this pattern\n",
    "    \"\"\"\n",
    "    # Define the regex pattern to extract relevant parts\n",
    "    pattern = re.compile(r'https://([^/]+)/@([^/]+)/(\\d+)')\n",
    "\n",
    "    # Use the pattern to find matches in the URL\n",
    "    match = pattern.match(url)\n",
    "\n",
    "    if match:\n",
    "        instance_url = match.group(1)\n",
    "        username = match.group(2)\n",
    "        status_id = match.group(3)\n",
    "\n",
    "        # Construct the canonical format\n",
    "        canonical_url = f\"https://mastodon.social/@{username}@{instance_url}/{status_id}\"\n",
    "        return canonical_url\n",
    "    else:\n",
    "        return None\n",
    "\n",
    "# Example usage:\n",
    "# input_url = \"https://fosstodon.org/@marcc/111404131751876120\"\n",
    "input_url = \"https://chat.openai.com/c/1dce2bbb-2c1f-4230-bb92-d4e0b4039e91\"\n",
    "canonical_url = convert_to_canonical_format(input_url)\n",
    "\n",
    "if canonical_url:\n",
    "    print(f\"Canonical Format: {canonical_url}\")\n",
    "else:\n",
    "    print(\"Invalid Mastodon post URL\")\n"
   ]
  },
  {
   "cell_type": "code",
   "execution_count": 38,
   "metadata": {},
   "outputs": [
    {
     "name": "stdout",
     "output_type": "stream",
     "text": [
      "The URL is from Mastodon.\n"
     ]
    }
   ],
   "source": [
    "def identify_social_media(url):\n",
    "    \"\"\"\n",
    "    Identify whether a given URL is from Twitter or Mastodon.\n",
    "\n",
    "    Parameters:\n",
    "        url (str): The URL to be identified.\n",
    "\n",
    "    Returns:\n",
    "        str: The identified social media platform ('Twitter', 'Mastodon'), or 'Unknown' if not identified.\n",
    "    \"\"\"\n",
    "    twitter_domains = [\"twitter.com\", \"t.co\", \"x.com\"]\n",
    "    # mastodon_domains = [\"mastodon.social\", \"examplemastodoninstance.com\"]  # Add Mastodon instance domains as needed\n",
    "\n",
    "    parsed_url = urlparse(url)\n",
    "    domain = parsed_url.netloc.lower()\n",
    "\n",
    "    if any(twitter_domain in domain for twitter_domain in twitter_domains):\n",
    "        return \"Twitter\"\n",
    "    \n",
    "    else:\n",
    "        converted_masto = convert_masto_to_canonical_format(url)\n",
    "        if converted_masto:\n",
    "            return \"Mastodon\"\n",
    "        else:\n",
    "            return \"Unknown\"\n",
    "\n",
    "# Example usage:\n",
    "url_to_identify = \"https://mastodon.social/@futurebird@sauropods.win/111405129637956870\"\n",
    "platform = identify_social_media(url_to_identify)\n",
    "\n",
    "if platform != \"Unknown\":\n",
    "    print(f\"The URL is from {platform}.\")\n",
    "else:\n",
    "    print(\"The URL could not be identified as Twitter or Mastodon.\")\n"
   ]
  },
  {
   "cell_type": "code",
   "execution_count": null,
   "metadata": {},
   "outputs": [],
   "source": [
    "import json\n",
    "import requests\n",
    "import pandas as pd\n",
    "\n",
    "URL = 'https://mastodon.social/api/v1/statuses/'"
   ]
  },
  {
   "cell_type": "code",
   "execution_count": 2,
   "metadata": {},
   "outputs": [],
   "source": [
    "import sys\n",
    "sys.path.append(\"../\")\n",
    "\n",
    "import pandas as pd\n",
    "\n",
    "from desci_sense.parsers.base_parser import BaseParser\n",
    "from confection import Config\n",
    "from desci_sense.configs import init_config"
   ]
  },
  {
   "cell_type": "code",
   "execution_count": 4,
   "metadata": {},
   "outputs": [
    {
     "name": "stderr",
     "output_type": "stream",
     "text": [
      "WARNING! headers is not default parameter.\n",
      "                    headers was transferred to model_kwargs.\n",
      "                    Please confirm that headers is what you intended.\n"
     ]
    }
   ],
   "source": [
    "\n",
    "# model_name = \"openai/gpt-3.5-turbo\"\n",
    "\n",
    "tweet_parser = BaseParser(config=config)"
   ]
  },
  {
   "cell_type": "markdown",
   "metadata": {},
   "source": [
    "# Test prediction on single tweet"
   ]
  },
  {
   "cell_type": "code",
   "execution_count": 5,
   "metadata": {},
   "outputs": [],
   "source": [
    "TEST_TWEET_7 = \"https://twitter.com/bingbrunton/status/1719789465739333972\""
   ]
  },
  {
   "cell_type": "code",
   "execution_count": 8,
   "metadata": {},
   "outputs": [],
   "source": [
    "result = tweet_parser.process_tweet_url(TEST_TWEET_7)"
   ]
  },
  {
   "cell_type": "code",
   "execution_count": 9,
   "metadata": {},
   "outputs": [
    {
     "data": {
      "text/plain": [
       "{'tweet': {'conversationID': '1719789465739333972',\n",
       "  'date': 'Wed Nov 01 18:52:15 +0000 2023',\n",
       "  'date_epoch': 1698864735,\n",
       "  'hashtags': [],\n",
       "  'likes': 123,\n",
       "  'mediaURLs': ['https://pbs.twimg.com/media/F92_tj1asAAAoR-.jpg'],\n",
       "  'media_extended': [{'altText': None,\n",
       "    'size': {'height': 1279, 'width': 3199},\n",
       "    'thumbnail_url': 'https://pbs.twimg.com/media/F92_tj1asAAAoR-.jpg',\n",
       "    'type': 'image',\n",
       "    'url': 'https://pbs.twimg.com/media/F92_tj1asAAAoR-.jpg'}],\n",
       "  'possibly_sensitive': False,\n",
       "  'qrtURL': None,\n",
       "  'replies': 2,\n",
       "  'retweets': 69,\n",
       "  'text': 'My department at Univ Washington in Seattle is searching for a tenure-track assistant prof in \"Quantitative Understanding of Collective Behavior\" @UWBiology\\n\\nSee ad for more info about the search vision and to apply; happy to answer questions!\\n\\nhttps://apply.interfolio.com/130336 https://t.co/ydKZVuAeeY',\n",
       "  'tweetID': '1719789465739333972',\n",
       "  'tweetURL': 'https://twitter.com/bingbrunton/status/1719789465739333972',\n",
       "  'user_name': 'Bing Wen Brunton',\n",
       "  'user_screen_name': 'bingbrunton'},\n",
       " 'answer': {'reasoning': '[Reasoning Steps]\\n\\n1. The post is about a job listing.\\n2. The job is for a tenure-track assistant professor in \"Quantitative Understanding of Collective Behavior\" at Univ Washington in Seattle.\\n3. The post includes a link to the job ad and encourages applicants to apply.\\n\\n[Candidate Tags]\\n\\n<job>\\n<other>',\n",
       "  'final_answer': '<job>'}}"
      ]
     },
     "execution_count": 9,
     "metadata": {},
     "output_type": "execute_result"
    }
   ],
   "source": [
    "result"
   ]
  }
 ],
 "metadata": {
  "kernelspec": {
   "display_name": "twscraping",
   "language": "python",
   "name": "python3"
  },
  "language_info": {
   "codemirror_mode": {
    "name": "ipython",
    "version": 3
   },
   "file_extension": ".py",
   "mimetype": "text/x-python",
   "name": "python",
   "nbconvert_exporter": "python",
   "pygments_lexer": "ipython3",
   "version": "3.11.5"
  }
 },
 "nbformat": 4,
 "nbformat_minor": 2
}
