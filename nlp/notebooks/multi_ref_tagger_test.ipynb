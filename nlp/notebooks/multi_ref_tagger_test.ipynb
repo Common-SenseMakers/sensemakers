{
 "cells": [
  {
   "cell_type": "code",
   "execution_count": 2,
   "metadata": {},
   "outputs": [],
   "source": [
    "import nest_asyncio\n",
    "nest_asyncio.apply()\n",
    "\n",
    "import json\n",
    "import traceback\n",
    "import sys\n",
    "sys.path.append(\"../\")\n",
    "\n",
    "from loguru import logger\n",
    "from operator import itemgetter\n",
    "from langchain.prompts import PromptTemplate\n",
    "from langchain_core.runnables import RunnableLambda\n",
    "from langchain_core.outputs import Generation\n",
    "from langchain.output_parsers import PydanticOutputParser\n",
    "from langchain_core.output_parsers import StrOutputParser\n",
    "from typing import List, Union, Any, Dict\n",
    "from langchain_core.pydantic_v1 import BaseModel, Field\n",
    "\n",
    "from desci_sense.shared_functions.configs import MultiParserChainConfig, MultiRefTaggerChainConfig, MetadataExtractionConfig, LLMConfig, ParserChainType\n",
    "from desci_sense.shared_functions.init import init_multi_chain_parser_config\n",
    "from desci_sense.shared_functions.parsers.multi_chain_parser import MultiChainParser\n",
    "from desci_sense.shared_functions.web_extractors.metadata_extractors import extract_posts_ref_metadata_dict, RefMetadata\n",
    "from desci_sense.shared_functions.dataloaders import (\n",
    "    scrape_post,\n",
    "    convert_text_to_ref_post,\n",
    ")\n",
    "from desci_sense.shared_functions.postprocessing import ParserChainOutput"
   ]
  },
  {
   "cell_type": "code",
   "execution_count": 3,
   "metadata": {},
   "outputs": [],
   "source": [
    "multi_config = MultiParserChainConfig(\n",
    "        parser_configs=[\n",
    "            MultiRefTaggerChainConfig(name=\"multi_ref_tagger\",\n",
    "                                      llm_config=LLMConfig(llm_type=\"mistralai/mixtral-8x7b-instruct:nitro\"))\n",
    "        ],\n",
    "        metadata_extract_config=MetadataExtractionConfig(extraction_method=\"citoid\")\n",
    "    )\n",
    "\n",
    "# mistralai/mixtral-8x7b-instruct:nitro\n",
    "# openai/gpt-3.5-turbo"
   ]
  },
  {
   "cell_type": "code",
   "execution_count": 4,
   "metadata": {},
   "outputs": [
    {
     "name": "stderr",
     "output_type": "stream",
     "text": [
      "\u001b[32m2024-04-30 08:04:35.580\u001b[0m | \u001b[1mINFO    \u001b[0m | \u001b[36mdesci_sense.shared_functions.parsers.multi_chain_parser\u001b[0m:\u001b[36m__init__\u001b[0m:\u001b[36m65\u001b[0m - \u001b[1mInitializing MultiChainParser. PostProcessType=none\u001b[0m\n",
      "\u001b[32m2024-04-30 08:04:35.589\u001b[0m | \u001b[1mINFO    \u001b[0m | \u001b[36mdesci_sense.shared_functions.parsers.multi_chain_parser\u001b[0m:\u001b[36m__init__\u001b[0m:\u001b[36m72\u001b[0m - \u001b[1mInitializing post parsers...\u001b[0m\n",
      "\u001b[32m2024-04-30 08:04:35.590\u001b[0m | \u001b[1mINFO    \u001b[0m | \u001b[36mdesci_sense.shared_functions.parsers.post_parser_chain\u001b[0m:\u001b[36m__init__\u001b[0m:\u001b[36m26\u001b[0m - \u001b[1mInitializing parser chain 'multi_ref_tagger' \u001b[0m\n"
     ]
    }
   ],
   "source": [
    "multi_chain_parser = MultiChainParser(multi_config)"
   ]
  },
  {
   "cell_type": "code",
   "execution_count": 13,
   "metadata": {},
   "outputs": [
    {
     "data": {
      "text/plain": [
       "KeywordPParserChainConfig(name='multi_ref_tagger', type=<ParserChainType.MULTI_REF_TAGGER: 'multi_reference_tagger'>, llm_config=LLMConfig(llm_type='mistralai/mixtral-8x7b-instruct:nitro', temperature='0.6'), use_metadata=True, max_keywords=6)"
      ]
     },
     "execution_count": 13,
     "metadata": {},
     "output_type": "execute_result"
    }
   ],
   "source": [
    "multi_chain_parser.pparsers[\"multi_ref_tagger\"].parser_config"
   ]
  },
  {
   "cell_type": "code",
   "execution_count": 5,
   "metadata": {},
   "outputs": [],
   "source": [
    "TEST_POST_TEXT_W_NO_REFS = \"\"\"\n",
    "These 2 papers are highly recommended!\n",
    "\"\"\"\n",
    "# post_nr = convert_text_to_ref_post(TEST_POST_TEXT_W_NO_REFS)\n",
    "# md_dict = extract_posts_ref_metadata_dict([post_nr], md_type=multi_config.metadata_extract_config.extraction_method)"
   ]
  },
  {
   "cell_type": "code",
   "execution_count": 6,
   "metadata": {},
   "outputs": [
    {
     "name": "stderr",
     "output_type": "stream",
     "text": [
      "\u001b[32m2024-04-30 08:05:53.648\u001b[0m | \u001b[34m\u001b[1mDEBUG   \u001b[0m | \u001b[36mdesci_sense.shared_functions.parsers.multi_chain_parser\u001b[0m:\u001b[36mprocess_ref_post\u001b[0m:\u001b[36m184\u001b[0m - \u001b[34m\u001b[1mProcessing post with parsers: ['multi_ref_tagger']\u001b[0m\n",
      "\u001b[32m2024-04-30 08:05:53.649\u001b[0m | \u001b[34m\u001b[1mDEBUG   \u001b[0m | \u001b[36mdesci_sense.shared_functions.parsers.multi_chain_parser\u001b[0m:\u001b[36mprocess_ref_post\u001b[0m:\u001b[36m186\u001b[0m - \u001b[34m\u001b[1mInstantiating prompts...\u001b[0m\n",
      "\u001b[32m2024-04-30 08:05:53.649\u001b[0m | \u001b[34m\u001b[1mDEBUG   \u001b[0m | \u001b[36mdesci_sense.shared_functions.parsers.multi_chain_parser\u001b[0m:\u001b[36mprocess_ref_post\u001b[0m:\u001b[36m191\u001b[0m - \u001b[34m\u001b[1mInvoking parallel chain...\u001b[0m\n"
     ]
    }
   ],
   "source": [
    "res = multi_chain_parser.process_text(TEST_POST_TEXT_W_NO_REFS)"
   ]
  },
  {
   "cell_type": "code",
   "execution_count": 8,
   "metadata": {},
   "outputs": [
    {
     "data": {
      "text/plain": [
       "dict_keys(['multi_ref_tagger'])"
      ]
     },
     "execution_count": 8,
     "metadata": {},
     "output_type": "execute_result"
    }
   ],
   "source": [
    "res.keys()"
   ]
  },
  {
   "cell_type": "code",
   "execution_count": 10,
   "metadata": {},
   "outputs": [
    {
     "data": {
      "text/plain": [
       "['missing-ref']"
      ]
     },
     "execution_count": 10,
     "metadata": {},
     "output_type": "execute_result"
    }
   ],
   "source": [
    "res[\"multi_ref_tagger\"].answer.sub_answers[0].final_answer"
   ]
  },
  {
   "cell_type": "code",
   "execution_count": 14,
   "metadata": {},
   "outputs": [],
   "source": [
    "answer = res[\"multi_ref_tagger\"].answer"
   ]
  },
  {
   "cell_type": "code",
   "execution_count": 16,
   "metadata": {},
   "outputs": [
    {
     "data": {
      "text/plain": [
       "'{\"sub_answers\": [{\"ref_number\": 1, \"reasoning_steps\": \"The post is recommending two scientific papers, but it does not provide any links to the papers. I will tag this post as <missing-ref> because the papers are only mentioned by name.\", \"candidate_tags\": [\"<missing-ref>\", \"<dg-observation>\", \"<reading>\"], \"final_answer\": [\"missing-ref\"]}], \"debug\": {}}'"
      ]
     },
     "execution_count": 16,
     "metadata": {},
     "output_type": "execute_result"
    }
   ],
   "source": [
    "answer.dict()"
   ]
  },
  {
   "cell_type": "code",
   "execution_count": 56,
   "metadata": {},
   "outputs": [
    {
     "data": {
      "text/plain": [
       "{'answer_chain': Answer(sub_answers=[SubAnswer(ref_number=1, reasoning_steps='The post is recommending two scientific papers, but is not providing links to them. I will tag this as <missing-ref> because the papers are only identified by name.', candidate_tags=['<missing-ref>'], final_answer=['<missing-ref>']), SubAnswer(ref_number=1, reasoning_steps='The post is recommending two scientific papers, which implies that the author has read them in the past. I will tag this as <reading>.', candidate_tags=['<reading>'], final_answer=['<reading>'])], debug={}),\n",
       " 'allowed_terms': ['1']}"
      ]
     },
     "execution_count": 56,
     "metadata": {},
     "output_type": "execute_result"
    }
   ],
   "source": [
    "\n",
    "res = chain.invoke({\"input_prompt\": prompt, \"allowed_terms\": [\"1\"]})\n",
    "res"
   ]
  },
  {
   "cell_type": "code",
   "execution_count": 32,
   "metadata": {},
   "outputs": [
    {
     "data": {
      "text/plain": [
       "['<missing-ref>']"
      ]
     },
     "execution_count": 32,
     "metadata": {},
     "output_type": "execute_result"
    }
   ],
   "source": [
    "res.sub_answers[0].final_answer"
   ]
  },
  {
   "cell_type": "code",
   "execution_count": null,
   "metadata": {},
   "outputs": [],
   "source": [
    "# https://twitter.com/akhila_yerukola/status/1784011263078478200"
   ]
  },
  {
   "cell_type": "code",
   "execution_count": 33,
   "metadata": {},
   "outputs": [],
   "source": [
    "url = \"https://mastodon.social/@psmaldino@qoto.org/111405098400404613\"\n",
    "post = scrape_post(url)"
   ]
  },
  {
   "cell_type": "code",
   "execution_count": 34,
   "metadata": {},
   "outputs": [
    {
     "name": "stderr",
     "output_type": "stream",
     "text": [
      "\u001b[32m2024-04-29 08:24:20.935\u001b[0m | \u001b[34m\u001b[1mDEBUG   \u001b[0m | \u001b[36mdesci_sense.shared_functions.web_extractors.citoid\u001b[0m:\u001b[36mfetch_citation\u001b[0m:\u001b[36m54\u001b[0m - \u001b[34m\u001b[1mfetching citoid data for: https://royalsocietypublishing.org/doi/10.1098/rstb.2022.0267\u001b[0m\n"
     ]
    },
    {
     "data": {
      "text/plain": [
       "{'https://royalsocietypublishing.org/doi/10.1098/rstb.2022.0267': RefMetadata(citoid_url='https://royalsocietypublishing.org/doi/10.1098/rstb.2022.0267', url='https://royalsocietypublishing.org/doi/10.1098/rstb.2022.0267', item_type='journalArticle', title='Reducing global inequality increases local cooperation: a simple model of group selection with a global externality', summary='', image='')}"
      ]
     },
     "execution_count": 34,
     "metadata": {},
     "output_type": "execute_result"
    }
   ],
   "source": [
    "md_dict = extract_posts_ref_metadata_dict([post], md_type=multi_config.metadata_extract_config.extraction_method)\n",
    "md_dict"
   ]
  },
  {
   "cell_type": "code",
   "execution_count": 35,
   "metadata": {},
   "outputs": [],
   "source": [
    "prompt_dict = multi_ref_parser.instantiate_prompt(post, md_dict)"
   ]
  },
  {
   "cell_type": "code",
   "execution_count": 8,
   "metadata": {},
   "outputs": [
    {
     "data": {
      "text/plain": [
       "dict_keys(['multi_ref_tagger_input', 'multi_ref_tagger_input_allowed_terms'])"
      ]
     },
     "execution_count": 8,
     "metadata": {},
     "output_type": "execute_result"
    }
   ],
   "source": [
    "prompt_dict.keys()"
   ]
  },
  {
   "cell_type": "code",
   "execution_count": 36,
   "metadata": {},
   "outputs": [
    {
     "name": "stdout",
     "output_type": "stream",
     "text": [
      "\n",
      "You are an expert annotator tasked with converting social media posts about scientific research to a structured semantic format. The input post contains a reference to an external URL. Your job is to select the tags best characterizing the relation of the post to the external reference, from a predefined set of tags. \n",
      "\n",
      "The available tag types are:\n",
      "<disagrees>: this post disputes or expresses disagreement with statements, ideas or conclusions presented in the mentioned reference.\n",
      "<review>: this post contains a review of another reference, such as a book, article or movie. The review could be positive or negative. A review can be detailed or a simple short endorsement.\n",
      "<announce>: this post contains an announcement of new research. The announcement is likely made by the authors but may be a third party. We use a broad definition of research that includes classic and non-traditional outputs. Classic outputs include papers, datasets or code. Non traditional outputs can include a podcast, blog post, video explainers, etc.\n",
      "<endorses>: this post endorses the mentioned reference. This label can also be used for cases of implicit recommendation, where the author is expressing enjoyment of some content but not explicitly recommending it.\n",
      "<discussion>: this post discusses how the cited reference relates to other facts or claims. For example, post might discuss how the cited reference informs questions, provides evidence, or supports or opposes claims.\n",
      "<listening>: this post describes the listening status of the author in relation to a reference, such as a podcast or radio station. The author may have listened to the content in the past, is listening to the content in the present, or is looking forward to listening the content in the future.\n",
      "<recommendation>: The author is recommending any kind of content: an article, a movie, podcast, book, another post, etc.\n",
      "<call-for-papers>: this post contains a call for research papers, for example to a journal, conference or workshop.\n",
      "<quote>: this post is quoting text from an article it's referring to. Symbols like \">\" or quotation marks are often used to indicate quotations.\n",
      "<question>: this post is raising a question or questions about some content it's referring to. The content could be a research paper or other media like a podcast, video or blog post.\n",
      "<agrees>: this post expresses agreement with statements, ideas or conclusions presented in the mentioned reference.\n",
      "<funding>: this post mentions a funding opportunity, for example a research grant or prize.\n",
      "<watching>: this post describes the watching status of the author in relation to a reference, such as a video or movie. The author may have watched the content in the past, is watching the content in the present, or is looking forward to watching the content in the future.\n",
      "<reading>: this post describes the reading status of the author in relation to a reference, such as a book or article. The author may either have read the reference in the past, is reading the reference in the present, or is looking forward to reading the reference in the future.\n",
      "<event>: this post includes an invitation to an event, either a real-world or an online event. Any kind of event is relevant, some examples of such events could be seminars, meetups, or hackathons. This tag should only be used for invitations to events, not for posts describing other kinds of events.\n",
      "<job>: this post describes a job listing, for example a call for graduate students or faculty applications.\n",
      "<indicates-interest>: this post indicates interest in a reference. This label is meant for cases where the post is not explicitly recommending or endorsing the cited reference. This label is suggested by use of the 👀 emoji\n",
      "<default>: This is a special tag. Use this tag if none of the tags above are suitable. If you tag a post with <default>, no other tag should be assigned to the post.\n",
      "\n",
      "A user will pass in a post, and you should think step by step, before selecting a set of tags that best match the post's relation to the reference.\n",
      "\n",
      "\n",
      "# Required output format\n",
      "Your final answer should be structured as a JSON Answer object with a list of a *single* SubAnswer object, as described by the following schemas:\n",
      "\n",
      "\n",
      "```\n",
      "class SubAnswer:\n",
      "\treasoning_steps: str # your reasoning steps\n",
      "\tcandidate_tags: str # For potential each tag you choose, explain why you chose it.\n",
      "\tfinal_answer: List[str] # a set of final tags, based on the Candidate Tags. The final tags must be included in the Candidate Tags list!\n",
      "\n",
      "class Answer:\n",
      "  sub_answers: List[SubAnswer] # answer should contain a single SubAnswer!\n",
      "```\n",
      "\n",
      "\n",
      "# Input post text:\n",
      "- Author: Paul Smaldino\n",
      "- Content: New paper out in Phil Trans B with Karolina Safarzynska. Simple model of a\n",
      "group-structured public good with externalities shifting benefits toward more\n",
      "inequality or more equity. Only redistributional externalities increase\n",
      "cooperation. https://royalsocietypublishing.org/doi/10.1098/rstb.2022.0267\n",
      "- References:\n",
      "1: https://royalsocietypublishing.org/doi/10.1098/rstb.2022.0267\n",
      "Item type: journalArticle\n",
      "Title: Reducing global inequality increases local cooperation: a simple model of group selection with a global externality\n",
      "Summary: \n",
      "------------------\n",
      "\n",
      "# Output:\n"
     ]
    }
   ],
   "source": [
    "prompt = prompt_dict[\"multi_ref_tagger_input\"]\n",
    "print(prompt)"
   ]
  },
  {
   "cell_type": "code",
   "execution_count": null,
   "metadata": {},
   "outputs": [],
   "source": []
  },
  {
   "cell_type": "code",
   "execution_count": 37,
   "metadata": {},
   "outputs": [
    {
     "data": {
      "text/plain": [
       "Answer(sub_answers=[SubAnswer(ref_number=1, reasoning_steps='The post is written by Paul Smaldino, who is also an author of the mentioned paper. The post contains a link to the paper and a brief description of its content. This suggests that the post is related to the paper and is most likely announcing or endorsing it.', candidate_tags=[{'tag': '<announce>', 'reason': \"Paul Smaldino is one of the authors of the paper and the post contains a link to the paper, indicating that it's a new research output.\"}, {'tag': '<endorses>', 'reason': 'Paul Smaldino is one of the authors of the paper and is sharing it on social media, which can be seen as an endorsement of the work.'}], final_answer=['<announce>', '<endorses>'])], debug={})"
      ]
     },
     "execution_count": 37,
     "metadata": {},
     "output_type": "execute_result"
    }
   ],
   "source": [
    "res = chain.invoke({\"input_prompt\": prompt})\n",
    "res"
   ]
  },
  {
   "cell_type": "code",
   "execution_count": 38,
   "metadata": {},
   "outputs": [
    {
     "data": {
      "text/plain": [
       "[{'tag': '<announce>',\n",
       "  'reason': \"Paul Smaldino is one of the authors of the paper and the post contains a link to the paper, indicating that it's a new research output.\"},\n",
       " {'tag': '<endorses>',\n",
       "  'reason': 'Paul Smaldino is one of the authors of the paper and is sharing it on social media, which can be seen as an endorsement of the work.'}]"
      ]
     },
     "execution_count": 38,
     "metadata": {},
     "output_type": "execute_result"
    }
   ],
   "source": [
    "res.sub_answers[0].candidate_tags"
   ]
  },
  {
   "cell_type": "code",
   "execution_count": 39,
   "metadata": {},
   "outputs": [
    {
     "data": {
      "text/plain": [
       "['<announce>', '<endorses>']"
      ]
     },
     "execution_count": 39,
     "metadata": {},
     "output_type": "execute_result"
    }
   ],
   "source": [
    "res.sub_answers[0].final_answer"
   ]
  },
  {
   "cell_type": "code",
   "execution_count": 41,
   "metadata": {},
   "outputs": [
    {
     "name": "stdout",
     "output_type": "stream",
     "text": [
      "```json\n",
      "{\n",
      "\t\"reasoning_steps\": \"The post by Paul Smaldino announces a new paper published in the journal Phil Trans B with Karolina Safarzynska. The post provides a brief description of the paper's content and includes a link to the publication. Therefore, the post falls under the <announce> tag.\",\n",
      "\t\"candidate_tags\": {\n",
      "\t\t\"<announce>\": \"The post announces the publication of a new research paper in a journal, providing details about the content and a link to the paper.\",\n",
      "\t\t\"<endorses>\": \"The post implicitly endorses the mentioned reference by sharing information about it and highlighting the significance of the model discussed in the paper.\"\n",
      "\t},\n",
      "\t\"final_answer\": [\"<announce>\"]\n",
      "}\n",
      "```\n"
     ]
    }
   ],
   "source": [
    "result = multi_ref_parser.chat(prompt)\n",
    "print(result)"
   ]
  },
  {
   "cell_type": "code",
   "execution_count": 40,
   "metadata": {},
   "outputs": [
    {
     "data": {
      "text/plain": [
       "KeywordPParserChainConfig(name='multi_ref_tagger', type=<ParserChainType.MULTI_REF_TAGGER: 'multi_reference_tagger'>, llm_config=LLMConfig(llm_type='mistralai/mixtral-8x7b-instruct:nitro', temperature='0.6'), use_metadata=True, max_keywords=6)"
      ]
     },
     "execution_count": 40,
     "metadata": {},
     "output_type": "execute_result"
    }
   ],
   "source": [
    "multi_ref_parser.parser_config"
   ]
  },
  {
   "cell_type": "code",
   "execution_count": 41,
   "metadata": {},
   "outputs": [
    {
     "data": {
      "text/plain": [
       "MultiRefTaggerChainConfig(name='multi_ref_tagger', type=<ParserChainType.MULTI_REF_TAGGER: 'multi_reference_tagger'>, llm_config=LLMConfig(llm_type='mistralai/mistral-7b-instruct', temperature='0.6'), use_metadata=True)"
      ]
     },
     "execution_count": 41,
     "metadata": {},
     "output_type": "execute_result"
    }
   ],
   "source": [
    "cfg = MultiRefTaggerChainConfig(name=\"multi_ref_tagger\")\n",
    "cfg"
   ]
  },
  {
   "cell_type": "code",
   "execution_count": 42,
   "metadata": {},
   "outputs": [
    {
     "name": "stderr",
     "output_type": "stream",
     "text": [
      "\u001b[32m2024-04-29 08:25:41.824\u001b[0m | \u001b[34m\u001b[1mDEBUG   \u001b[0m | \u001b[36mdesci_sense.shared_functions.web_extractors.citoid\u001b[0m:\u001b[36mfetch_citation_async\u001b[0m:\u001b[36m20\u001b[0m - \u001b[34m\u001b[1mtarget_url=https://arxiv.org/abs/2402.04607\u001b[0m\n",
      "\u001b[32m2024-04-29 08:25:41.845\u001b[0m | \u001b[34m\u001b[1mDEBUG   \u001b[0m | \u001b[36mdesci_sense.shared_functions.web_extractors.citoid\u001b[0m:\u001b[36mfetch_citation_async\u001b[0m:\u001b[36m20\u001b[0m - \u001b[34m\u001b[1mtarget_url=https://royalsocietypublishing.org/doi/10.1098/rstb.2022.0267\u001b[0m\n"
     ]
    }
   ],
   "source": [
    "TEST_POST_TEXT_W_2_REFS = \"\"\"\n",
    "These 2 papers are highly recommended!\n",
    "https://arxiv.org/abs/2402.04607\n",
    "https://royalsocietypublishing.org/doi/10.1098/rstb.2022.0267\n",
    "\"\"\"\n",
    "post_2 = convert_text_to_ref_post(TEST_POST_TEXT_W_2_REFS)\n",
    "md_dict = extract_posts_ref_metadata_dict([post_2], md_type=multi_config.metadata_extract_config.extraction_method)"
   ]
  },
  {
   "cell_type": "code",
   "execution_count": 43,
   "metadata": {},
   "outputs": [],
   "source": [
    "prompt_dict = multi_ref_parser.instantiate_prompt(post_2, md_dict)\n",
    "prompt_2 = prompt_dict[\"multi_ref_tagger_input\"]"
   ]
  },
  {
   "cell_type": "code",
   "execution_count": 44,
   "metadata": {},
   "outputs": [
    {
     "data": {
      "text/plain": [
       "Answer(sub_answers=[SubAnswer(ref_number=1, reasoning_steps='The author recommends this preprint, which calls into question the validity of Google Scholar as a metric for scientific evaluation.', candidate_tags='[<recommendation>, <announce>, <discussion>]', final_answer=['<recommendation>', '<announce>', '<discussion>']), SubAnswer(ref_number=2, reasoning_steps='The author recommends this journal article, which presents a model of group selection with a global externality.', candidate_tags='[<recommendation>, <announce>, <discussion>]', final_answer=['<recommendation>', '<announce>', '<discussion>'])], debug={})"
      ]
     },
     "execution_count": 44,
     "metadata": {},
     "output_type": "execute_result"
    }
   ],
   "source": [
    "res = chain.invoke({\"input_prompt\": prompt_2})\n",
    "res"
   ]
  },
  {
   "cell_type": "code",
   "execution_count": 46,
   "metadata": {},
   "outputs": [
    {
     "name": "stdout",
     "output_type": "stream",
     "text": [
      "['<recommendation>', '<announce>', '<discussion>']\n"
     ]
    }
   ],
   "source": [
    "print(res.sub_answers[0].final_answer)"
   ]
  },
  {
   "cell_type": "code",
   "execution_count": 45,
   "metadata": {},
   "outputs": [
    {
     "name": "stdout",
     "output_type": "stream",
     "text": [
      "['<recommendation>', '<announce>', '<discussion>']\n"
     ]
    }
   ],
   "source": [
    "print(res.sub_answers[1].final_answer)"
   ]
  },
  {
   "cell_type": "code",
   "execution_count": 19,
   "metadata": {},
   "outputs": [
    {
     "data": {
      "text/plain": [
       "AIMessage(content='\\n{\\n  \"sub_answers\": [\\n    {\\n      \"ref_number\": 1,\\n      \"reasoning_steps\": \"The post explicitly states that the paper is highly recommended, indicating an endorsement or recommendation. The paper discusses the issue of citation fraud on Google Scholar, which aligns with the content of the post.\",\\n      \"candidate_tags\": \"[<endorses>, <discussion>, <recommendation>]\",\\n      \"final_answer\": [\\n        \"<endorses>\",\\n        \"<recommendation>\"\\n      ]\\n    },\\n    {\\n      \"ref_number\": 2,\\n      \"reasoning_steps\": \"The post explicitly states that the paper is highly recommended, indicating an endorsement or recommendation. The summary of the paper suggests it explores the relationship between global inequality and local cooperation, which could lead to discussions or endorsement.\",\\n      \"candidate_tags\": \"[<endorses>, <discussion>, <recommendation>]\",\\n      \"final_answer\": [\\n        \"<endorses>\",\\n        \"<recommendation>\"\\n      ]\\n    }\\n  ]\\n}', response_metadata={'token_usage': {'completion_tokens': 202, 'prompt_tokens': 1411, 'total_tokens': 1613, 'total_cost': 0.0010085}, 'model_name': 'openai/gpt-3.5-turbo', 'system_fingerprint': None, 'finish_reason': 'stop', 'logprobs': None}, id='run-1f417c3e-746a-4081-b975-41fc22a80a53-0')"
      ]
     },
     "execution_count": 19,
     "metadata": {},
     "output_type": "execute_result"
    }
   ],
   "source": [
    "res = db_chain.invoke({\"input_prompt\": prompt_2})\n",
    "res"
   ]
  },
  {
   "cell_type": "code",
   "execution_count": 20,
   "metadata": {},
   "outputs": [
    {
     "data": {
      "text/plain": [
       "'\\n{\\n  \"sub_answers\": [\\n    {\\n      \"ref_number\": 1,\\n      \"reasoning_steps\": \"The post explicitly states that the paper is highly recommended, indicating an endorsement or recommendation. The paper discusses the issue of citation fraud on Google Scholar, which aligns with the content of the post.\",\\n      \"candidate_tags\": \"[<endorses>, <discussion>, <recommendation>]\",\\n      \"final_answer\": [\\n        \"<endorses>\",\\n        \"<recommendation>\"\\n      ]\\n    },\\n    {\\n      \"ref_number\": 2,\\n      \"reasoning_steps\": \"The post explicitly states that the paper is highly recommended, indicating an endorsement or recommendation. The summary of the paper suggests it explores the relationship between global inequality and local cooperation, which could lead to discussions or endorsement.\",\\n      \"candidate_tags\": \"[<endorses>, <discussion>, <recommendation>]\",\\n      \"final_answer\": [\\n        \"<endorses>\",\\n        \"<recommendation>\"\\n      ]\\n    }\\n  ]\\n}'"
      ]
     },
     "execution_count": 20,
     "metadata": {},
     "output_type": "execute_result"
    }
   ],
   "source": [
    "res.content"
   ]
  },
  {
   "cell_type": "code",
   "execution_count": null,
   "metadata": {},
   "outputs": [],
   "source": []
  },
  {
   "cell_type": "code",
   "execution_count": 59,
   "metadata": {},
   "outputs": [
    {
     "data": {
      "text/plain": [
       "'{\"sub_answers\": [{\"ref_number\": 1, \"reasoning_steps\": \"The post explicitly states that the paper at the first link is highly recommended, indicating an endorsement. The paper discusses the manipulatability of Google Scholar and citation fraud, which is a significant issue in scientific research.\", \"candidate_tags\": \"[<endorse>, <discussion>]\", \"final_answer\": [\"<endorse>\"]}, {\"ref_number\": 2, \"reasoning_steps\": \"The post explicitly states that the paper at the second link is highly recommended, indicating an endorsement. The paper discusses reducing global inequality and its effect on local cooperation, which is a relevant topic in social science research.\", \"candidate_tags\": \"[<endorse>, <discussion>]\", \"final_answer\": [\"<endorse>\"]}]}'"
      ]
     },
     "execution_count": 59,
     "metadata": {},
     "output_type": "execute_result"
    }
   ],
   "source": [
    "output_wrangler(res)"
   ]
  },
  {
   "cell_type": "code",
   "execution_count": 37,
   "metadata": {},
   "outputs": [
    {
     "name": "stdout",
     "output_type": "stream",
     "text": [
      "[\n",
      "    {\n",
      "        \"ref_number\": 1,\n",
      "        \"reasoning_steps\": \"The post explicitly states that the first paper is highly recommended, indicating an endorsement of the content. The paper discusses the manipulability of Google Scholar in terms of citation fraud, which is a significant issue in scientific research.\",\n",
      "        \"candidate_tags\": \"[<endorses>, <discussion>, <recommendation>]\",\n",
      "        \"final_answer\": [\n",
      "            \"<endorses>\",\n",
      "            \"<recommendation>\"\n",
      "        ]\n",
      "    },\n",
      "    {\n",
      "        \"ref_number\": 2,\n",
      "        \"reasoning_steps\": \"The post explicitly states that the second paper is highly recommended, indicating an endorsement of the content. The paper discusses reducing global inequality to increase local cooperation, which is a relevant topic in social sciences.\",\n",
      "        \"candidate_tags\": \"[<endorses>, <discussion>, <recommendation>]\",\n",
      "        \"final_answer\": [\n",
      "            \"<endorses>\",\n",
      "            \"<recommendation>\"\n",
      "        ]\n",
      "    }\n",
      "]\n"
     ]
    }
   ],
   "source": [
    "result = multi_ref_parser.chat(prompt_2)\n",
    "print(result)"
   ]
  },
  {
   "cell_type": "code",
   "execution_count": 42,
   "metadata": {},
   "outputs": [],
   "source": []
  },
  {
   "cell_type": "code",
   "execution_count": 54,
   "metadata": {},
   "outputs": [],
   "source": [
    "\n",
    "\t"
   ]
  },
  {
   "cell_type": "code",
   "execution_count": 55,
   "metadata": {},
   "outputs": [],
   "source": []
  },
  {
   "cell_type": "code",
   "execution_count": 57,
   "metadata": {},
   "outputs": [
    {
     "name": "stdout",
     "output_type": "stream",
     "text": [
      "The output should be formatted as a JSON instance that conforms to the JSON schema below.\n",
      "\n",
      "As an example, for the schema {\"properties\": {\"foo\": {\"title\": \"Foo\", \"description\": \"a list of strings\", \"type\": \"array\", \"items\": {\"type\": \"string\"}}}, \"required\": [\"foo\"]}\n",
      "the object {\"foo\": [\"bar\", \"baz\"]} is a well-formatted instance of the schema. The object {\"properties\": {\"foo\": [\"bar\", \"baz\"]}} is not well-formatted.\n",
      "\n",
      "Here is the output schema:\n",
      "```\n",
      "{\"properties\": {\"ref_number\": {\"title\": \"Ref Number\", \"description\": \"ID number of current reference\", \"type\": \"integer\"}, \"reasoning_steps\": {\"title\": \"Reasoning Steps\", \"description\": \"your reasoning steps\", \"type\": \"string\"}, \"candidate_tags\": {\"title\": \"Candidate Tags\", \"description\": \"For potential each tag you choose, explain why you chose it.\", \"type\": \"string\"}, \"final_answer\": {\"title\": \"Final Answer\", \"description\": \"Set of final tags, based on the Candidate Tags. The final tags must be included in the Candidate Tags list!\", \"type\": \"array\", \"items\": {\"type\": \"string\"}}}, \"required\": [\"ref_number\", \"reasoning_steps\", \"candidate_tags\", \"final_answer\"]}\n",
      "```\n"
     ]
    }
   ],
   "source": [
    "print(pydantic_output_parser.get_format_instructions())"
   ]
  },
  {
   "cell_type": "code",
   "execution_count": 9,
   "metadata": {},
   "outputs": [],
   "source": [
    "test_output = \"\"\"\n",
    "bla bla bla ```\n",
    "[{\n",
    "        \"ref_number\": 2,\n",
    "        \"reasoning_steps\": \"The post explicitly states that the second paper is highly recommended, indicating an endorsement of the content. The paper discusses reducing global inequality to increase local cooperation, which is a relevant topic in social sciences.\",\n",
    "        \"candidate_tags\": \"[<endorses>, <discussion>, <recommendation>]\",\n",
    "        \"final_answer\": [\n",
    "            \"<endorses>\",\n",
    "            \"<recommendation>\"\n",
    "        ]\n",
    "    }]\n",
    "```\n",
    "bla blas\n",
    "\"\"\""
   ]
  },
  {
   "cell_type": "code",
   "execution_count": 10,
   "metadata": {},
   "outputs": [
    {
     "data": {
      "text/plain": [
       "[{'ref_number': 2,\n",
       "  'reasoning_steps': 'The post explicitly states that the second paper is highly recommended, indicating an endorsement of the content. The paper discusses reducing global inequality to increase local cooperation, which is a relevant topic in social sciences.',\n",
       "  'candidate_tags': '[<endorses>, <discussion>, <recommendation>]',\n",
       "  'final_answer': ['<endorses>', '<recommendation>']}]"
      ]
     },
     "execution_count": 10,
     "metadata": {},
     "output_type": "execute_result"
    }
   ],
   "source": [
    "res = parse_json_substring(test_output)\n",
    "res"
   ]
  },
  {
   "cell_type": "code",
   "execution_count": null,
   "metadata": {},
   "outputs": [],
   "source": []
  },
  {
   "cell_type": "code",
   "execution_count": 15,
   "metadata": {},
   "outputs": [
    {
     "data": {
      "text/plain": [
       "2"
      ]
     },
     "execution_count": 15,
     "metadata": {},
     "output_type": "execute_result"
    }
   ],
   "source": [
    "res[0][\"ref_number\"]"
   ]
  },
  {
   "cell_type": "code",
   "execution_count": 8,
   "metadata": {},
   "outputs": [
    {
     "data": {
      "text/plain": [
       "dict"
      ]
     },
     "execution_count": 8,
     "metadata": {},
     "output_type": "execute_result"
    }
   ],
   "source": [
    "type(res[0])"
   ]
  },
  {
   "cell_type": "code",
   "execution_count": 7,
   "metadata": {},
   "outputs": [
    {
     "data": {
      "text/plain": [
       "True"
      ]
     },
     "execution_count": 7,
     "metadata": {},
     "output_type": "execute_result"
    }
   ],
   "source": [
    "type(res) == list"
   ]
  },
  {
   "cell_type": "code",
   "execution_count": 61,
   "metadata": {},
   "outputs": [
    {
     "ename": "OutputParserException",
     "evalue": "Failed to parse SubAnswer from completion [{'ref_number': 2, 'reasoning_steps': 'The post explicitly states that the second paper is highly recommended, indicating an endorsement of the content. The paper discusses reducing global inequality to increase local cooperation, which is a relevant topic in social sciences.', 'candidate_tags': '[<endorses>, <discussion>, <recommendation>]', 'final_answer': ['<endorses>', '<recommendation>']}]. Got: 1 validation error for SubAnswer\n__root__\n  SubAnswer expected dict not list (type=type_error)",
     "output_type": "error",
     "traceback": [
      "\u001b[0;31m---------------------------------------------------------------------------\u001b[0m",
      "\u001b[0;31mValueError\u001b[0m                                Traceback (most recent call last)",
      "File \u001b[0;32m~/anaconda3/envs/asensebot/lib/python3.11/site-packages/pydantic/v1/main.py:522\u001b[0m, in \u001b[0;36mBaseModel.parse_obj\u001b[0;34m(cls, obj)\u001b[0m\n\u001b[1;32m    521\u001b[0m \u001b[38;5;28;01mtry\u001b[39;00m:\n\u001b[0;32m--> 522\u001b[0m     obj \u001b[38;5;241m=\u001b[39m \u001b[38;5;28;43mdict\u001b[39;49m\u001b[43m(\u001b[49m\u001b[43mobj\u001b[49m\u001b[43m)\u001b[49m\n\u001b[1;32m    523\u001b[0m \u001b[38;5;28;01mexcept\u001b[39;00m (\u001b[38;5;167;01mTypeError\u001b[39;00m, \u001b[38;5;167;01mValueError\u001b[39;00m) \u001b[38;5;28;01mas\u001b[39;00m e:\n",
      "\u001b[0;31mValueError\u001b[0m: dictionary update sequence element #0 has length 4; 2 is required",
      "\nThe above exception was the direct cause of the following exception:\n",
      "\u001b[0;31mValidationError\u001b[0m                           Traceback (most recent call last)",
      "File \u001b[0;32m~/anaconda3/envs/asensebot/lib/python3.11/site-packages/langchain/output_parsers/pydantic.py:25\u001b[0m, in \u001b[0;36mPydanticOutputParser.parse_result\u001b[0;34m(self, result, partial)\u001b[0m\n\u001b[1;32m     24\u001b[0m \u001b[38;5;28;01mtry\u001b[39;00m:\n\u001b[0;32m---> 25\u001b[0m     \u001b[38;5;28;01mreturn\u001b[39;00m \u001b[38;5;28;43mself\u001b[39;49m\u001b[38;5;241;43m.\u001b[39;49m\u001b[43mpydantic_object\u001b[49m\u001b[38;5;241;43m.\u001b[39;49m\u001b[43mparse_obj\u001b[49m\u001b[43m(\u001b[49m\u001b[43mjson_object\u001b[49m\u001b[43m)\u001b[49m\n\u001b[1;32m     26\u001b[0m \u001b[38;5;28;01mexcept\u001b[39;00m ValidationError \u001b[38;5;28;01mas\u001b[39;00m e:\n",
      "File \u001b[0;32m~/anaconda3/envs/asensebot/lib/python3.11/site-packages/pydantic/v1/main.py:525\u001b[0m, in \u001b[0;36mBaseModel.parse_obj\u001b[0;34m(cls, obj)\u001b[0m\n\u001b[1;32m    524\u001b[0m         exc \u001b[38;5;241m=\u001b[39m \u001b[38;5;167;01mTypeError\u001b[39;00m(\u001b[38;5;124mf\u001b[39m\u001b[38;5;124m'\u001b[39m\u001b[38;5;132;01m{\u001b[39;00m\u001b[38;5;28mcls\u001b[39m\u001b[38;5;241m.\u001b[39m\u001b[38;5;18m__name__\u001b[39m\u001b[38;5;132;01m}\u001b[39;00m\u001b[38;5;124m expected dict not \u001b[39m\u001b[38;5;132;01m{\u001b[39;00mobj\u001b[38;5;241m.\u001b[39m\u001b[38;5;18m__class__\u001b[39m\u001b[38;5;241m.\u001b[39m\u001b[38;5;18m__name__\u001b[39m\u001b[38;5;132;01m}\u001b[39;00m\u001b[38;5;124m'\u001b[39m)\n\u001b[0;32m--> 525\u001b[0m         \u001b[38;5;28;01mraise\u001b[39;00m ValidationError([ErrorWrapper(exc, loc\u001b[38;5;241m=\u001b[39mROOT_KEY)], \u001b[38;5;28mcls\u001b[39m) \u001b[38;5;28;01mfrom\u001b[39;00m \u001b[38;5;21;01me\u001b[39;00m\n\u001b[1;32m    526\u001b[0m \u001b[38;5;28;01mreturn\u001b[39;00m \u001b[38;5;28mcls\u001b[39m(\u001b[38;5;241m*\u001b[39m\u001b[38;5;241m*\u001b[39mobj)\n",
      "\u001b[0;31mValidationError\u001b[0m: 1 validation error for SubAnswer\n__root__\n  SubAnswer expected dict not list (type=type_error)",
      "\nDuring handling of the above exception, another exception occurred:\n",
      "\u001b[0;31mOutputParserException\u001b[0m                     Traceback (most recent call last)",
      "Cell \u001b[0;32mIn[61], line 1\u001b[0m\n\u001b[0;32m----> 1\u001b[0m \u001b[43mpydantic_output_parser\u001b[49m\u001b[38;5;241;43m.\u001b[39;49m\u001b[43mparse\u001b[49m\u001b[43m(\u001b[49m\u001b[43mtest_output\u001b[49m\u001b[43m)\u001b[49m\n",
      "File \u001b[0;32m~/anaconda3/envs/asensebot/lib/python3.11/site-packages/langchain_core/output_parsers/json.py:224\u001b[0m, in \u001b[0;36mJsonOutputParser.parse\u001b[0;34m(self, text)\u001b[0m\n\u001b[1;32m    223\u001b[0m \u001b[38;5;28;01mdef\u001b[39;00m \u001b[38;5;21mparse\u001b[39m(\u001b[38;5;28mself\u001b[39m, text: \u001b[38;5;28mstr\u001b[39m) \u001b[38;5;241m-\u001b[39m\u001b[38;5;241m>\u001b[39m Any:\n\u001b[0;32m--> 224\u001b[0m     \u001b[38;5;28;01mreturn\u001b[39;00m \u001b[38;5;28;43mself\u001b[39;49m\u001b[38;5;241;43m.\u001b[39;49m\u001b[43mparse_result\u001b[49m\u001b[43m(\u001b[49m\u001b[43m[\u001b[49m\u001b[43mGeneration\u001b[49m\u001b[43m(\u001b[49m\u001b[43mtext\u001b[49m\u001b[38;5;241;43m=\u001b[39;49m\u001b[43mtext\u001b[49m\u001b[43m)\u001b[49m\u001b[43m]\u001b[49m\u001b[43m)\u001b[49m\n",
      "File \u001b[0;32m~/anaconda3/envs/asensebot/lib/python3.11/site-packages/langchain/output_parsers/pydantic.py:29\u001b[0m, in \u001b[0;36mPydanticOutputParser.parse_result\u001b[0;34m(self, result, partial)\u001b[0m\n\u001b[1;32m     27\u001b[0m name \u001b[38;5;241m=\u001b[39m \u001b[38;5;28mself\u001b[39m\u001b[38;5;241m.\u001b[39mpydantic_object\u001b[38;5;241m.\u001b[39m\u001b[38;5;18m__name__\u001b[39m\n\u001b[1;32m     28\u001b[0m msg \u001b[38;5;241m=\u001b[39m \u001b[38;5;124mf\u001b[39m\u001b[38;5;124m\"\u001b[39m\u001b[38;5;124mFailed to parse \u001b[39m\u001b[38;5;132;01m{\u001b[39;00mname\u001b[38;5;132;01m}\u001b[39;00m\u001b[38;5;124m from completion \u001b[39m\u001b[38;5;132;01m{\u001b[39;00mjson_object\u001b[38;5;132;01m}\u001b[39;00m\u001b[38;5;124m. Got: \u001b[39m\u001b[38;5;132;01m{\u001b[39;00me\u001b[38;5;132;01m}\u001b[39;00m\u001b[38;5;124m\"\u001b[39m\n\u001b[0;32m---> 29\u001b[0m \u001b[38;5;28;01mraise\u001b[39;00m OutputParserException(msg, llm_output\u001b[38;5;241m=\u001b[39mjson_object)\n",
      "\u001b[0;31mOutputParserException\u001b[0m: Failed to parse SubAnswer from completion [{'ref_number': 2, 'reasoning_steps': 'The post explicitly states that the second paper is highly recommended, indicating an endorsement of the content. The paper discusses reducing global inequality to increase local cooperation, which is a relevant topic in social sciences.', 'candidate_tags': '[<endorses>, <discussion>, <recommendation>]', 'final_answer': ['<endorses>', '<recommendation>']}]. Got: 1 validation error for SubAnswer\n__root__\n  SubAnswer expected dict not list (type=type_error)"
     ]
    }
   ],
   "source": [
    "pydantic_output_parser.parse(test_output)"
   ]
  }
 ],
 "metadata": {
  "kernelspec": {
   "display_name": "asensebot",
   "language": "python",
   "name": "python3"
  },
  "language_info": {
   "codemirror_mode": {
    "name": "ipython",
    "version": 3
   },
   "file_extension": ".py",
   "mimetype": "text/x-python",
   "name": "python",
   "nbconvert_exporter": "python",
   "pygments_lexer": "ipython3",
   "version": "3.11.7"
  }
 },
 "nbformat": 4,
 "nbformat_minor": 2
}
