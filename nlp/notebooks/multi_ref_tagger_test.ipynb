{
 "cells": [
  {
   "cell_type": "code",
   "execution_count": 1,
   "metadata": {
    "metadata": {}
   },
   "outputs": [
    {
     "name": "stderr",
     "output_type": "stream",
     "text": [
      "/Users/ronentamari/anaconda3/envs/asensebot/lib/python3.11/site-packages/tqdm/auto.py:21: TqdmWarning: IProgress not found. Please update jupyter and ipywidgets. See https://ipywidgets.readthedocs.io/en/stable/user_install.html\n",
      "  from .autonotebook import tqdm as notebook_tqdm\n"
     ]
    }
   ],
   "source": [
    "import nest_asyncio\n",
    "nest_asyncio.apply()\n",
    "\n",
    "import json\n",
    "import traceback\n",
    "import sys\n",
    "sys.path.append(\"../\")\n",
    "\n",
    "from loguru import logger\n",
    "from operator import itemgetter\n",
    "from langchain.prompts import PromptTemplate\n",
    "from langchain_core.runnables import RunnableLambda\n",
    "from langchain_core.outputs import Generation\n",
    "from langchain.output_parsers import PydanticOutputParser\n",
    "from langchain_core.output_parsers import StrOutputParser\n",
    "from typing import List, Union, Any, Dict\n",
    "from langchain_core.pydantic_v1 import BaseModel, Field\n",
    "\n",
    "from desci_sense.shared_functions.configs import MultiParserChainConfig, MultiRefTaggerChainConfig, MetadataExtractionConfig, LLMConfig, ParserChainType, RefTaggerChainConfig\n",
    "from desci_sense.shared_functions.init import init_multi_chain_parser_config\n",
    "from desci_sense.shared_functions.parsers.multi_chain_parser import MultiChainParser\n",
    "from desci_sense.shared_functions.parsers.multi_reference_tagger import normalize_labels, normalize_references\n",
    "from desci_sense.shared_functions.web_extractors.metadata_extractors import extract_posts_ref_metadata_dict, RefMetadata\n",
    "from desci_sense.shared_functions.dataloaders import (\n",
    "    scrape_post,\n",
    "    convert_text_to_ref_post,\n",
    ")\n",
    "from desci_sense.shared_functions.utils import _find_json_object\n",
    "from desci_sense.shared_functions.postprocessing import ParserChainOutput"
   ]
  },
  {
   "cell_type": "code",
   "execution_count": 6,
   "metadata": {
    "metadata": {}
   },
   "outputs": [
    {
     "ename": "SyntaxError",
     "evalue": "invalid syntax. Maybe you meant '==' or ':=' instead of '='? (326804237.py, line 7)",
     "output_type": "error",
     "traceback": [
      "\u001b[0;36m  Cell \u001b[0;32mIn[6], line 7\u001b[0;36m\u001b[0m\n\u001b[0;31m    post_process_type=\"combined\"\u001b[0m\n\u001b[0m    ^\u001b[0m\n\u001b[0;31mSyntaxError\u001b[0m\u001b[0;31m:\u001b[0m invalid syntax. Maybe you meant '==' or ':=' instead of '='?\n"
     ]
    }
   ],
   "source": [
    "multi_config = MultiParserChainConfig(\n",
    "        parser_configs=[\n",
    "            MultiRefTaggerChainConfig(name=\"multi_ref_tagger\",\n",
    "                                      llm_config=LLMConfig(llm_type=\"mistralai/mixtral-8x7b-instruct:nitro\")),\n",
    "                                      RefTaggerChainConfig(name=\"ref_tagger\",\n",
    "                                      llm_config=LLMConfig(llm_type=\"mistralai/mixtral-8x7b-instruct:nitro\")),\n",
    "        ],\n",
    "        post_process_type=\"combined\",\n",
    "        metadata_extract_config=MetadataExtractionConfig(extraction_method=\"citoid\")\n",
    "    )\n",
    "\n",
    "# mistralai/mixtral-8x7b-instruct:nitro\n",
    "# openai/gpt-3.5-turbo"
   ]
  },
  {
   "cell_type": "code",
   "execution_count": 3,
   "metadata": {},
   "outputs": [
    {
     "name": "stderr",
     "output_type": "stream",
     "text": [
      "\u001b[32m2024-05-03 14:40:02.692\u001b[0m | \u001b[1mINFO    \u001b[0m | \u001b[36mdesci_sense.shared_functions.parsers.multi_chain_parser\u001b[0m:\u001b[36m__init__\u001b[0m:\u001b[36m66\u001b[0m - \u001b[1mInitializing MultiChainParser. PostProcessType=none\u001b[0m\n",
      "\u001b[32m2024-05-03 14:40:02.699\u001b[0m | \u001b[1mINFO    \u001b[0m | \u001b[36mdesci_sense.shared_functions.parsers.multi_chain_parser\u001b[0m:\u001b[36m__init__\u001b[0m:\u001b[36m73\u001b[0m - \u001b[1mInitializing post parsers...\u001b[0m\n",
      "\u001b[32m2024-05-03 14:40:02.700\u001b[0m | \u001b[1mINFO    \u001b[0m | \u001b[36mdesci_sense.shared_functions.parsers.post_parser_chain\u001b[0m:\u001b[36m__init__\u001b[0m:\u001b[36m26\u001b[0m - \u001b[1mInitializing parser chain 'multi_ref_tagger' \u001b[0m\n",
      "\u001b[32m2024-05-03 14:40:02.768\u001b[0m | \u001b[1mINFO    \u001b[0m | \u001b[36mdesci_sense.shared_functions.parsers.post_parser_chain\u001b[0m:\u001b[36m__init__\u001b[0m:\u001b[36m26\u001b[0m - \u001b[1mInitializing parser chain 'ref_tagger' \u001b[0m\n"
     ]
    }
   ],
   "source": [
    "multi_chain_parser = MultiChainParser(multi_config)"
   ]
  },
  {
   "cell_type": "code",
   "execution_count": 12,
   "metadata": {},
   "outputs": [
    {
     "data": {
      "text/plain": [
       "KeywordPParserChainConfig(name='multi_ref_tagger', type=<ParserChainType.MULTI_REF_TAGGER: 'multi_reference_tagger'>, llm_config=LLMConfig(llm_type='mistralai/mixtral-8x7b-instruct:nitro', temperature='0.6'), use_metadata=True, max_keywords=6)"
      ]
     },
     "execution_count": 12,
     "metadata": {},
     "output_type": "execute_result"
    }
   ],
   "source": [
    "multi_chain_parser.pparsers[\"multi_ref_tagger\"].parser_config"
   ]
  },
  {
   "cell_type": "code",
   "execution_count": 4,
   "metadata": {},
   "outputs": [],
   "source": [
    "TEST_POST_TEXT_W_NO_REFS = \"\"\"\n",
    "These 2 papers are highly recommended!\n",
    "\"\"\"\n",
    "batch = [convert_text_to_ref_post(TEST_POST_TEXT_W_NO_REFS) for _ in range(6)]\n",
    "# post_nr = convert_text_to_ref_post(TEST_POST_TEXT_W_NO_REFS)\n",
    "# md_dict = extract_posts_ref_metadata_dict([post_nr], md_type=multi_config.metadata_extract_config.extraction_method)"
   ]
  },
  {
   "cell_type": "code",
   "execution_count": 7,
   "metadata": {},
   "outputs": [
    {
     "name": "stderr",
     "output_type": "stream",
     "text": [
      "\u001b[32m2024-05-01 17:03:30.984\u001b[0m | \u001b[34m\u001b[1mDEBUG   \u001b[0m | \u001b[36mdesci_sense.shared_functions.parsers.multi_chain_parser\u001b[0m:\u001b[36mbatch_process_ref_posts\u001b[0m:\u001b[36m232\u001b[0m - \u001b[34m\u001b[1mProcessing 6 posts with parsers: ['multi_ref_tagger']\u001b[0m\n",
      "\u001b[32m2024-05-01 17:03:30.984\u001b[0m | \u001b[34m\u001b[1mDEBUG   \u001b[0m | \u001b[36mdesci_sense.shared_functions.parsers.multi_chain_parser\u001b[0m:\u001b[36mbatch_process_ref_posts\u001b[0m:\u001b[36m234\u001b[0m - \u001b[34m\u001b[1mInstantiating prompts...\u001b[0m\n",
      "  0%|          | 0/6 [00:00<?, ?it/s]\u001b[32m2024-05-01 17:03:30.986\u001b[0m | \u001b[34m\u001b[1mDEBUG   \u001b[0m | \u001b[36mdesci_sense.shared_functions.parsers.multi_chain_parser\u001b[0m:\u001b[36mbatch_process_ref_posts\u001b[0m:\u001b[36m245\u001b[0m - \u001b[34m\u001b[1mInvoking parallel chain...\u001b[0m\n",
      "100%|██████████| 6/6 [00:07<00:00,  1.28s/it]\n",
      "\u001b[32m2024-05-01 17:03:38.636\u001b[0m | \u001b[34m\u001b[1mDEBUG   \u001b[0m | \u001b[36mdesci_sense.shared_functions.parsers.multi_chain_parser\u001b[0m:\u001b[36mbatch_process_ref_posts\u001b[0m:\u001b[36m256\u001b[0m - \u001b[34m\u001b[1mPost processing 6 results...\u001b[0m\n",
      "\u001b[32m2024-05-01 17:03:38.637\u001b[0m | \u001b[34m\u001b[1mDEBUG   \u001b[0m | \u001b[36mdesci_sense.shared_functions.parsers.multi_chain_parser\u001b[0m:\u001b[36mbatch_process_ref_posts\u001b[0m:\u001b[36m268\u001b[0m - \u001b[34m\u001b[1mDone!\u001b[0m\n"
     ]
    }
   ],
   "source": [
    "res = multi_chain_parser.batch_process_ref_posts(batch, batch_size=6)"
   ]
  },
  {
   "cell_type": "code",
   "execution_count": 9,
   "metadata": {},
   "outputs": [
    {
     "name": "stdout",
     "output_type": "stream",
     "text": [
      "['missing-ref']\n",
      "['missing-ref']\n",
      "['missing-ref']\n",
      "['missing-ref']\n",
      "['missing-ref']\n",
      "['missing-ref']\n"
     ]
    }
   ],
   "source": [
    "for i in range(len(res)):\n",
    "    print(res[i]['multi_ref_tagger'].answer.sub_answers[0].final_answer)"
   ]
  },
  {
   "cell_type": "code",
   "execution_count": 5,
   "metadata": {
    "metadata": {}
   },
   "outputs": [
    {
     "name": "stderr",
     "output_type": "stream",
     "text": [
      "\u001b[32m2024-05-03 14:40:26.256\u001b[0m | \u001b[34m\u001b[1mDEBUG   \u001b[0m | \u001b[36mdesci_sense.shared_functions.parsers.multi_chain_parser\u001b[0m:\u001b[36mprocess_ref_post\u001b[0m:\u001b[36m185\u001b[0m - \u001b[34m\u001b[1mProcessing post with parsers: ['multi_ref_tagger', 'ref_tagger']\u001b[0m\n",
      "\u001b[32m2024-05-03 14:40:26.257\u001b[0m | \u001b[34m\u001b[1mDEBUG   \u001b[0m | \u001b[36mdesci_sense.shared_functions.parsers.multi_chain_parser\u001b[0m:\u001b[36mprocess_ref_post\u001b[0m:\u001b[36m187\u001b[0m - \u001b[34m\u001b[1mInstantiating prompts...\u001b[0m\n",
      "\u001b[32m2024-05-03 14:40:26.258\u001b[0m | \u001b[34m\u001b[1mDEBUG   \u001b[0m | \u001b[36mdesci_sense.shared_functions.parsers.multi_chain_parser\u001b[0m:\u001b[36mprocess_ref_post\u001b[0m:\u001b[36m192\u001b[0m - \u001b[34m\u001b[1mInvoking parallel chain...\u001b[0m\n"
     ]
    }
   ],
   "source": [
    "res = multi_chain_parser.process_text(TEST_POST_TEXT_W_NO_REFS)"
   ]
  },
  {
   "cell_type": "code",
   "execution_count": 10,
   "metadata": {},
   "outputs": [
    {
     "data": {
      "text/plain": [
       "Answer(sub_answers=[SubAnswer(ref_number=0, reasoning_steps='The post is recommending two scientific papers, but it does not provide a link to them, so the <missing-ref> tag is appropriate.', candidate_tags=['<missing-ref>', '<dg-observation>', '<reading>'], final_answer=['missing-ref'], ref_url=None)], debug={})"
      ]
     },
     "execution_count": 10,
     "metadata": {},
     "output_type": "execute_result"
    }
   ],
   "source": [
    "answer = res[\"multi_ref_tagger\"].answer\n",
    "answer"
   ]
  },
  {
   "cell_type": "code",
   "execution_count": 13,
   "metadata": {},
   "outputs": [],
   "source": [
    "parser = multi_chain_parser.pparsers[\"multi_ref_tagger\"]"
   ]
  },
  {
   "cell_type": "code",
   "execution_count": 10,
   "metadata": {},
   "outputs": [],
   "source": [
    "post = convert_text_to_ref_post(TEST_POST_TEXT_W_NO_REFS)\n",
    "md_dict = extract_posts_ref_metadata_dict([post], md_type=multi_config.metadata_extract_config.extraction_method)\n",
    "prompt = parser.instantiate_prompt(post, md_dict)"
   ]
  },
  {
   "cell_type": "code",
   "execution_count": 12,
   "metadata": {},
   "outputs": [],
   "source": [
    "res = parser.chat(prompt[\"multi_ref_tagger_input\"])"
   ]
  },
  {
   "cell_type": "code",
   "execution_count": 13,
   "metadata": {},
   "outputs": [
    {
     "data": {
      "text/plain": [
       "' Here\\'s the structured semantic format for the given social media post:\\n\\n```json\\n{\\n  \"sub_answers\": [\\n    {\\n      \"reasoning_steps\": \"The post recommends two papers, but does not provide a URL link to them. Therefore, it does not fall under the <missing-ref> tag.\",\\n      \"candidate_tags\": [],\\n      \"final_answer\": [\"<reading>\"]\\n    }\\n  ]\\n}\\n```\\n\\nThe post recommends two papers, which means the author has either read them in the past, is reading them in the present, or is looking forward to reading them in the future. Therefore, the <reading> tag is the most suitable tag for this post.'"
      ]
     },
     "execution_count": 13,
     "metadata": {},
     "output_type": "execute_result"
    }
   ],
   "source": [
    "res"
   ]
  },
  {
   "cell_type": "code",
   "execution_count": 17,
   "metadata": {},
   "outputs": [
    {
     "data": {
      "text/plain": [
       "'{\\n  \"sub_answers\": [\\n    {\\n      \"reasoning_steps\": \"The post recommends two papers, but does not provide a URL link to them. Therefore, it does not fall under the <missing-ref> tag.\",\\n      \"candidate_tags\": [],\\n      \"final_answer\": [\"<reading>\"]\\n    }\\n  ]\\n}'"
      ]
     },
     "execution_count": 17,
     "metadata": {},
     "output_type": "execute_result"
    }
   ],
   "source": [
    "_find_json_object(res)"
   ]
  },
  {
   "cell_type": "code",
   "execution_count": 14,
   "metadata": {},
   "outputs": [
    {
     "ename": "ValidationError",
     "evalue": "1 validation error for Generation\ntext\n  none is not an allowed value (type=type_error.none.not_allowed)",
     "output_type": "error",
     "traceback": [
      "\u001b[0;31m---------------------------------------------------------------------------\u001b[0m",
      "\u001b[0;31mValidationError\u001b[0m                           Traceback (most recent call last)",
      "Cell \u001b[0;32mIn[14], line 1\u001b[0m\n\u001b[0;32m----> 1\u001b[0m \u001b[43mparser\u001b[49m\u001b[38;5;241;43m.\u001b[39;49m\u001b[43mpydantic_parser\u001b[49m\u001b[38;5;241;43m.\u001b[39;49m\u001b[43mparse\u001b[49m\u001b[43m(\u001b[49m\u001b[38;5;28;43;01mNone\u001b[39;49;00m\u001b[43m)\u001b[49m\n",
      "File \u001b[0;32m~/anaconda3/envs/asensebot/lib/python3.11/site-packages/langchain_core/output_parsers/json.py:224\u001b[0m, in \u001b[0;36mJsonOutputParser.parse\u001b[0;34m(self, text)\u001b[0m\n\u001b[1;32m    223\u001b[0m \u001b[38;5;28;01mdef\u001b[39;00m \u001b[38;5;21mparse\u001b[39m(\u001b[38;5;28mself\u001b[39m, text: \u001b[38;5;28mstr\u001b[39m) \u001b[38;5;241m-\u001b[39m\u001b[38;5;241m>\u001b[39m Any:\n\u001b[0;32m--> 224\u001b[0m     \u001b[38;5;28;01mreturn\u001b[39;00m \u001b[38;5;28mself\u001b[39m\u001b[38;5;241m.\u001b[39mparse_result([\u001b[43mGeneration\u001b[49m\u001b[43m(\u001b[49m\u001b[43mtext\u001b[49m\u001b[38;5;241;43m=\u001b[39;49m\u001b[43mtext\u001b[49m\u001b[43m)\u001b[49m])\n",
      "File \u001b[0;32m~/anaconda3/envs/asensebot/lib/python3.11/site-packages/langchain_core/load/serializable.py:120\u001b[0m, in \u001b[0;36mSerializable.__init__\u001b[0;34m(self, **kwargs)\u001b[0m\n\u001b[1;32m    119\u001b[0m \u001b[38;5;28;01mdef\u001b[39;00m \u001b[38;5;21m__init__\u001b[39m(\u001b[38;5;28mself\u001b[39m, \u001b[38;5;241m*\u001b[39m\u001b[38;5;241m*\u001b[39mkwargs: Any) \u001b[38;5;241m-\u001b[39m\u001b[38;5;241m>\u001b[39m \u001b[38;5;28;01mNone\u001b[39;00m:\n\u001b[0;32m--> 120\u001b[0m     \u001b[38;5;28;43msuper\u001b[39;49m\u001b[43m(\u001b[49m\u001b[43m)\u001b[49m\u001b[38;5;241;43m.\u001b[39;49m\u001b[38;5;21;43m__init__\u001b[39;49m\u001b[43m(\u001b[49m\u001b[38;5;241;43m*\u001b[39;49m\u001b[38;5;241;43m*\u001b[39;49m\u001b[43mkwargs\u001b[49m\u001b[43m)\u001b[49m\n\u001b[1;32m    121\u001b[0m     \u001b[38;5;28mself\u001b[39m\u001b[38;5;241m.\u001b[39m_lc_kwargs \u001b[38;5;241m=\u001b[39m kwargs\n",
      "File \u001b[0;32m~/anaconda3/envs/asensebot/lib/python3.11/site-packages/pydantic/v1/main.py:341\u001b[0m, in \u001b[0;36mBaseModel.__init__\u001b[0;34m(__pydantic_self__, **data)\u001b[0m\n\u001b[1;32m    339\u001b[0m values, fields_set, validation_error \u001b[38;5;241m=\u001b[39m validate_model(__pydantic_self__\u001b[38;5;241m.\u001b[39m\u001b[38;5;18m__class__\u001b[39m, data)\n\u001b[1;32m    340\u001b[0m \u001b[38;5;28;01mif\u001b[39;00m validation_error:\n\u001b[0;32m--> 341\u001b[0m     \u001b[38;5;28;01mraise\u001b[39;00m validation_error\n\u001b[1;32m    342\u001b[0m \u001b[38;5;28;01mtry\u001b[39;00m:\n\u001b[1;32m    343\u001b[0m     object_setattr(__pydantic_self__, \u001b[38;5;124m'\u001b[39m\u001b[38;5;124m__dict__\u001b[39m\u001b[38;5;124m'\u001b[39m, values)\n",
      "\u001b[0;31mValidationError\u001b[0m: 1 validation error for Generation\ntext\n  none is not an allowed value (type=type_error.none.not_allowed)"
     ]
    }
   ],
   "source": [
    "parser.pydantic_parser.parse(None)"
   ]
  },
  {
   "cell_type": "code",
   "execution_count": null,
   "metadata": {},
   "outputs": [
    {
     "data": {
      "text/plain": [
       "{'prompt': '\\nYou are an expert annotator tasked with converting social media posts about scientific research to a structured semantic format. For an input post, your job is to select the tags most suitable to that post, from a predefined set of tags. \\n\\n  The available tag types are:\\n  <missing-ref>: this post seems to be referring to a reference by name but has not explicitly provided a URL link to the reference. For example, a post that discusses a book and mentions it by title, but contains no link to the book.\\n  <dg-question>: this post is raising a research question.\\n  <listening>: this post describes the listening status of the author in relation to a reference, such as a podcast or radio station. The author may have listened to the content in the past, is listening to the content in the present, or is looking forward to listening the content in the future.\\n  <call-for-papers>: this post contains a call for research papers, for example to a journal, conference or workshop.\\n  <dg-observation>: this post is articulating a single, highly observation. The intuition is that observation notes should be as close to “the data” as possible. They should be similar to how results are described in results sections of academic publications.\\n  <dg-claim>: this post is articulating an idea or a claim\\n  <funding>: this post mentions a funding opportunity, for example a research grant or prize.\\n  <watching>: this post describes the watching status of the author in relation to a reference, such as a video or movie. The author may have watched the content in the past, is watching the content in the present, or is looking forward to watching the content in the future.\\n  <reading>: this post describes the reading status of the author in relation to a reference, such as a book or article. The author may either have read the reference in the past, is reading the reference in the present, or is looking forward to reading the reference in the future.\\n  <event>: this post includes an invitation to an event, either a real-world or an online event. Any kind of event is relevant, some examples of such events could be seminars, meetups, or hackathons. This tag should only be used for invitations to events, not for posts describing other kinds of events.\\n  <job>: this post describes a job listing, for example a call for graduate students or faculty applications.\\n\\n  A user will pass in a post, and you should think step by step, before selecting a set of tags that best match the post.\\n\\n# Required output format\\nYour final answer should be structured as a JSON Answer object with a list of a *single* SubAnswer object, as described by the following schemas:\\n\\n\\n```\\nclass SubAnswer:\\n\\treasoning_steps: str # your reasoning steps\\n\\tcandidate_tags: str # For potential each tag you choose, explain why you chose it.\\n\\tfinal_answer: List[str] # a set of final tags, based on the Candidate Tags. The final tags must be included in the Candidate Tags list!\\n\\nclass Answer:\\n  sub_answers: List[SubAnswer] # answer should contain a single SubAnswer!\\n```\\n\\n\\n# Input post text:\\n- Author: deafult_author\\n- Content: \\nThese 2 papers are highly recommended!\\n\\n\\n# Output:\\n  ',\n",
       " 'md_list': [],\n",
       " 'debug': {}}"
      ]
     },
     "execution_count": 14,
     "metadata": {},
     "output_type": "execute_result"
    }
   ],
   "source": [
    "answer = res[\"multi_ref_tagger\"].answer\n",
    "res[\"multi_ref_tagger\"].extra"
   ]
  },
  {
   "cell_type": "code",
   "execution_count": null,
   "metadata": {},
   "outputs": [
    {
     "data": {
      "text/plain": [
       "Answer(sub_answers=[SubAnswer(ref_number=0, reasoning_steps='The post is recommending 2 scientific papers, but is not providing direct links to them. I will tag this as <missing-ref> because it seems to be referring to references by name, but has not explicitly provided URL links to the references.', candidate_tags=['<missing-ref>', '<dg-observation>', '<reading>'], final_answer=['missing-ref'], ref_url=None)], debug={})"
      ]
     },
     "execution_count": 11,
     "metadata": {},
     "output_type": "execute_result"
    }
   ],
   "source": [
    "answer"
   ]
  },
  {
   "cell_type": "code",
   "execution_count": null,
   "metadata": {},
   "outputs": [
    {
     "data": {
      "text/plain": [
       "['dg-claim', 'reading']"
      ]
     },
     "execution_count": 15,
     "metadata": {},
     "output_type": "execute_result"
    }
   ],
   "source": [
    "res[\"multi_ref_tagger\"].answer.sub_answers[0].final_answer"
   ]
  },
  {
   "cell_type": "code",
   "execution_count": 7,
   "metadata": {},
   "outputs": [],
   "source": [
    "TEST_POST_TEXT_W_2_REFS = \"\"\"\n",
    "These 2 papers are highly recommended!\n",
    "https://arxiv.org/abs/2402.04607\n",
    "https://royalsocietypublishing.org/doi/10.1098/rstb.2022.0267\n",
    "\"\"\"\n",
    "# post_2 = convert_text_to_ref_post(TEST_POST_TEXT_W_2_REFS)\n",
    "# md_dict = extract_posts_ref_metadata_dict([post_2], md_type=multi_config.metadata_extract_config.extraction_method)"
   ]
  },
  {
   "cell_type": "code",
   "execution_count": 6,
   "metadata": {},
   "outputs": [
    {
     "name": "stderr",
     "output_type": "stream",
     "text": [
      "\u001b[32m2024-05-01 09:38:34.876\u001b[0m | \u001b[34m\u001b[1mDEBUG   \u001b[0m | \u001b[36mdesci_sense.shared_functions.web_extractors.citoid\u001b[0m:\u001b[36mfetch_citation_async\u001b[0m:\u001b[36m20\u001b[0m - \u001b[34m\u001b[1mtarget_url=https://arxiv.org/abs/2402.04607\u001b[0m\n",
      "\u001b[32m2024-05-01 09:38:34.898\u001b[0m | \u001b[34m\u001b[1mDEBUG   \u001b[0m | \u001b[36mdesci_sense.shared_functions.web_extractors.citoid\u001b[0m:\u001b[36mfetch_citation_async\u001b[0m:\u001b[36m20\u001b[0m - \u001b[34m\u001b[1mtarget_url=https://royalsocietypublishing.org/doi/10.1098/rstb.2022.0267\u001b[0m\n",
      "\u001b[32m2024-05-01 09:38:36.977\u001b[0m | \u001b[34m\u001b[1mDEBUG   \u001b[0m | \u001b[36mdesci_sense.shared_functions.parsers.multi_chain_parser\u001b[0m:\u001b[36mprocess_ref_post\u001b[0m:\u001b[36m184\u001b[0m - \u001b[34m\u001b[1mProcessing post with parsers: ['multi_ref_tagger']\u001b[0m\n",
      "\u001b[32m2024-05-01 09:38:36.979\u001b[0m | \u001b[34m\u001b[1mDEBUG   \u001b[0m | \u001b[36mdesci_sense.shared_functions.parsers.multi_chain_parser\u001b[0m:\u001b[36mprocess_ref_post\u001b[0m:\u001b[36m186\u001b[0m - \u001b[34m\u001b[1mInstantiating prompts...\u001b[0m\n",
      "\u001b[32m2024-05-01 09:38:36.981\u001b[0m | \u001b[34m\u001b[1mDEBUG   \u001b[0m | \u001b[36mdesci_sense.shared_functions.parsers.multi_chain_parser\u001b[0m:\u001b[36mprocess_ref_post\u001b[0m:\u001b[36m191\u001b[0m - \u001b[34m\u001b[1mInvoking parallel chain...\u001b[0m\n"
     ]
    }
   ],
   "source": [
    "res = multi_chain_parser.process_text(TEST_POST_TEXT_W_2_REFS)"
   ]
  },
  {
   "cell_type": "code",
   "execution_count": 8,
   "metadata": {},
   "outputs": [
    {
     "name": "stdout",
     "output_type": "stream",
     "text": [
      "['recommendation', 'reading']\n"
     ]
    }
   ],
   "source": [
    "print(res[\"multi_ref_tagger\"].answer.sub_answers[0].final_answer)"
   ]
  },
  {
   "cell_type": "code",
   "execution_count": 9,
   "metadata": {},
   "outputs": [
    {
     "name": "stdout",
     "output_type": "stream",
     "text": [
      "https://arxiv.org/abs/2402.04607\n"
     ]
    }
   ],
   "source": [
    "print(res[\"multi_ref_tagger\"].answer.sub_answers[0].ref_url)"
   ]
  },
  {
   "cell_type": "code",
   "execution_count": 10,
   "metadata": {},
   "outputs": [
    {
     "name": "stdout",
     "output_type": "stream",
     "text": [
      "['recommendation', 'reading']\n"
     ]
    }
   ],
   "source": [
    "print(res[\"multi_ref_tagger\"].answer.sub_answers[1].final_answer)"
   ]
  },
  {
   "cell_type": "code",
   "execution_count": 8,
   "metadata": {},
   "outputs": [
    {
     "data": {
      "text/plain": [
       "{0: 'The post recommends this preprint, which suggests that Google Scholar is manipulatable through citation fraud. The author of the post likely agrees with the findings of the preprint and finds it interesting or important.',\n",
       " 1: 'The post recommends this journal article, which presents a model of group selection with a global externality. The author of the post likely finds the article interesting or important, but there is no explicit agreement or disagreement expressed regarding its contents.'}"
      ]
     },
     "execution_count": 8,
     "metadata": {},
     "output_type": "execute_result"
    }
   ],
   "source": [
    "answer = res[\"multi_ref_tagger\"].reasoning\n",
    "answer"
   ]
  },
  {
   "cell_type": "code",
   "execution_count": 7,
   "metadata": {},
   "outputs": [],
   "source": [
    "answer = res[\"multi_ref_tagger\"].answer"
   ]
  },
  {
   "cell_type": "code",
   "execution_count": 8,
   "metadata": {},
   "outputs": [
    {
     "data": {
      "text/plain": [
       "[['recommendation'], ['recommendation']]"
      ]
     },
     "execution_count": 8,
     "metadata": {},
     "output_type": "execute_result"
    }
   ],
   "source": [
    "answer.to_combined_format()"
   ]
  },
  {
   "cell_type": "code",
   "execution_count": 13,
   "metadata": {},
   "outputs": [
    {
     "data": {
      "text/plain": [
       "[SubAnswer(ref_number=0, reasoning_steps=\"The post recommends this preprint titled 'Google Scholar is manipulatable'.\", candidate_tags='[<recommendation>, <reading>, <announce>]', final_answer=['recommendation', 'reading'], ref_url='https://arxiv.org/abs/2402.04607'),\n",
       " SubAnswer(ref_number=1, reasoning_steps=\"The post recommends this journal article titled 'Reducing global inequality increases local cooperation: a simple model of group selection with a global externality'.\", candidate_tags='[<recommendation>, <reading>, <announce>]', final_answer=['recommendation', 'reading'], ref_url='https://royalsocietypublishing.org/doi/10.1098/rstb.2022.0267')]"
      ]
     },
     "execution_count": 13,
     "metadata": {},
     "output_type": "execute_result"
    }
   ],
   "source": [
    "sub_answers = answer.sub_answers\n",
    "sub_answers"
   ]
  },
  {
   "cell_type": "code",
   "execution_count": 14,
   "metadata": {},
   "outputs": [
    {
     "data": {
      "text/plain": [
       "[SubAnswer(ref_number=0, reasoning_steps=\"The post recommends this preprint titled 'Google Scholar is manipulatable'.\", candidate_tags='[<recommendation>, <reading>, <announce>]', final_answer=['recommendation', 'reading'], ref_url='https://arxiv.org/abs/2402.04607'),\n",
       " SubAnswer(ref_number=1, reasoning_steps=\"The post recommends this journal article titled 'Reducing global inequality increases local cooperation: a simple model of group selection with a global externality'.\", candidate_tags='[<recommendation>, <reading>, <announce>]', final_answer=['recommendation', 'reading'], ref_url='https://royalsocietypublishing.org/doi/10.1098/rstb.2022.0267')]"
      ]
     },
     "execution_count": 14,
     "metadata": {},
     "output_type": "execute_result"
    }
   ],
   "source": [
    "sorted(sub_answers, key=lambda x: x.ref_number)"
   ]
  },
  {
   "cell_type": "code",
   "execution_count": 2,
   "metadata": {},
   "outputs": [
    {
     "name": "stderr",
     "output_type": "stream",
     "text": [
      "\u001b[32m2024-05-01 18:22:32.929\u001b[0m | \u001b[1mINFO    \u001b[0m | \u001b[36mdesci_sense.shared_functions.parsers.multi_chain_parser\u001b[0m:\u001b[36m__init__\u001b[0m:\u001b[36m66\u001b[0m - \u001b[1mInitializing MultiChainParser. PostProcessType=none\u001b[0m\n",
      "\u001b[32m2024-05-01 18:22:32.932\u001b[0m | \u001b[1mINFO    \u001b[0m | \u001b[36mdesci_sense.shared_functions.parsers.multi_chain_parser\u001b[0m:\u001b[36m__init__\u001b[0m:\u001b[36m73\u001b[0m - \u001b[1mInitializing post parsers...\u001b[0m\n",
      "\u001b[32m2024-05-01 18:22:32.932\u001b[0m | \u001b[1mINFO    \u001b[0m | \u001b[36mdesci_sense.shared_functions.parsers.post_parser_chain\u001b[0m:\u001b[36m__init__\u001b[0m:\u001b[36m26\u001b[0m - \u001b[1mInitializing parser chain 'ref_tagger' \u001b[0m\n"
     ]
    }
   ],
   "source": [
    "multi_config = MultiParserChainConfig(\n",
    "        parser_configs=[\n",
    "            RefTaggerChainConfig(name=\"ref_tagger\",\n",
    "                                      llm_config=LLMConfig(llm_type=\"mistralai/mixtral-8x7b-instruct:nitro\"))\n",
    "        ],\n",
    "        metadata_extract_config=MetadataExtractionConfig(extraction_method=\"citoid\")\n",
    "    )\n",
    "multi_chain_parser = MultiChainParser(multi_config)\n"
   ]
  },
  {
   "cell_type": "code",
   "execution_count": 5,
   "metadata": {},
   "outputs": [
    {
     "name": "stderr",
     "output_type": "stream",
     "text": [
      "\u001b[32m2024-05-01 18:22:49.330\u001b[0m | \u001b[34m\u001b[1mDEBUG   \u001b[0m | \u001b[36mdesci_sense.shared_functions.parsers.multi_chain_parser\u001b[0m:\u001b[36mprocess_ref_post\u001b[0m:\u001b[36m185\u001b[0m - \u001b[34m\u001b[1mProcessing post with parsers: ['ref_tagger']\u001b[0m\n",
      "\u001b[32m2024-05-01 18:22:49.331\u001b[0m | \u001b[34m\u001b[1mDEBUG   \u001b[0m | \u001b[36mdesci_sense.shared_functions.parsers.multi_chain_parser\u001b[0m:\u001b[36mprocess_ref_post\u001b[0m:\u001b[36m187\u001b[0m - \u001b[34m\u001b[1mInstantiating prompts...\u001b[0m\n",
      "\u001b[32m2024-05-01 18:22:49.332\u001b[0m | \u001b[34m\u001b[1mDEBUG   \u001b[0m | \u001b[36mdesci_sense.shared_functions.parsers.multi_chain_parser\u001b[0m:\u001b[36mprocess_ref_post\u001b[0m:\u001b[36m192\u001b[0m - \u001b[34m\u001b[1mInvoking parallel chain...\u001b[0m\n"
     ]
    }
   ],
   "source": [
    "res = multi_chain_parser.process_text(TEST_POST_TEXT_W_NO_REFS)"
   ]
  },
  {
   "cell_type": "code",
   "execution_count": 6,
   "metadata": {},
   "outputs": [
    {
     "data": {
      "text/plain": [
       "{'ref_tagger': ParserChainOutput(answer=[['missing-ref', 'reading']], pparser_type=<ParserChainType.REFERENCE_TAGGER: 'reference_tagger'>, reasoning='[Reasoning Steps]\\n\\n1. The author is recommending two papers, which implies that they have read or are familiar with the content of these papers.\\n2. The author does not provide explicit URL links to these papers, but they are clearly identified by name.\\n\\n[Candidate Tags]\\n\\n- <reading>: The author has likely read or is familiar with the content of the two papers they are recommending.\\n- <missing-ref>: The author does not provide explicit URL links to the two papers they are recommending, but they are identified by name.', extra={'allowed_tags': ['missing-ref', 'dg-question', 'listening', 'call-for-papers', 'dg-observation', 'dg-claim', 'funding', 'watching', 'reading', 'event', 'job'], 'full_text': \" Reasoning Steps:\\n1. The author is recommending two papers, which implies that they have read or are familiar with the content of these papers.\\n2. The author does not provide explicit URL links to these papers, but they are clearly identified by name.\\n\\nCandidate Tags:\\n- <reading>: The author has likely read or is familiar with the content of the two papers they are recommending.\\n- <missing-ref>: The author does not provide explicit URL links to the two papers they are recommending, but they are identified by name.\\n\\nFinal Answer: <reading>, <missing-ref> \\n\\n ##Allowed terms: ['missing-ref', 'dg-question', 'listening', 'call-for-papers', 'dg-observation', 'dg-claim', 'funding', 'watching', 'reading', 'event', 'job']\", 'prompt': '\\n  You are an expert annotator tasked with converting social media posts about scientific research to a structured semantic format. For an input post, your job is to select the tags most suitable to that post, from a predefined set of tags. \\n\\n  The available tag types are:\\n  <missing-ref>: this post seems to be referring to a reference by name but has not explicitly provided a URL link to the reference. For example, a post that discusses a book and mentions it by title, but contains no link to the book.\\n  <dg-question>: this post is raising a research question.\\n  <listening>: this post describes the listening status of the author in relation to a reference, such as a podcast or radio station. The author may have listened to the content in the past, is listening to the content in the present, or is looking forward to listening the content in the future.\\n  <call-for-papers>: this post contains a call for research papers, for example to a journal, conference or workshop.\\n  <dg-observation>: this post is articulating a single, highly observation. The intuition is that observation notes should be as close to “the data” as possible. They should be similar to how results are described in results sections of academic publications.\\n  <dg-claim>: this post is articulating an idea or a claim\\n  <funding>: this post mentions a funding opportunity, for example a research grant or prize.\\n  <watching>: this post describes the watching status of the author in relation to a reference, such as a video or movie. The author may have watched the content in the past, is watching the content in the present, or is looking forward to watching the content in the future.\\n  <reading>: this post describes the reading status of the author in relation to a reference, such as a book or article. The author may either have read the reference in the past, is reading the reference in the present, or is looking forward to reading the reference in the future.\\n  <event>: this post includes an invitation to an event, either a real-world or an online event. Any kind of event is relevant, some examples of such events could be seminars, meetups, or hackathons. This tag should only be used for invitations to events, not for posts describing other kinds of events.\\n  <job>: this post describes a job listing, for example a call for graduate students or faculty applications.\\n\\n  A user will pass in a post, and you should think step by step, before selecting a set of tags that best match the post.\\n\\n  Your final answer should be structured as follows:\\n  Reasoning Steps: (your reasoning steps)\\n  Candidate Tags: (For potential each tag you choose, explain why you chose it.)\\n  Final Answer: (a set of final tags, based on the Candidate Tags. The final tags must be included in the Candidate Tags list!)\\n\\n\\n  # Input post text:\\n  Author: deafult_author\\n  Content: \\nThese 2 papers are highly recommended!\\n\\n\\n  Output:\\n  '})}"
      ]
     },
     "execution_count": 6,
     "metadata": {},
     "output_type": "execute_result"
    }
   ],
   "source": [
    "res"
   ]
  },
  {
   "cell_type": "code",
   "execution_count": 8,
   "metadata": {},
   "outputs": [
    {
     "name": "stderr",
     "output_type": "stream",
     "text": [
      "\u001b[32m2024-05-01 18:23:25.734\u001b[0m | \u001b[33m\u001b[1mWARNING \u001b[0m | \u001b[36mdesci_sense.shared_functions.web_extractors.citoid\u001b[0m:\u001b[36mbefore_retry\u001b[0m:\u001b[36m54\u001b[0m - \u001b[33m\u001b[1mRetry attempt 1\u001b[0m\n",
      "\u001b[32m2024-05-01 18:23:25.734\u001b[0m | \u001b[34m\u001b[1mDEBUG   \u001b[0m | \u001b[36mdesci_sense.shared_functions.web_extractors.citoid\u001b[0m:\u001b[36mfetch_citation_async_retry\u001b[0m:\u001b[36m76\u001b[0m - \u001b[34m\u001b[1mtarget_url=https://arxiv.org/abs/2402.04607\u001b[0m\n",
      "\u001b[32m2024-05-01 18:23:25.748\u001b[0m | \u001b[33m\u001b[1mWARNING \u001b[0m | \u001b[36mdesci_sense.shared_functions.web_extractors.citoid\u001b[0m:\u001b[36mbefore_retry\u001b[0m:\u001b[36m54\u001b[0m - \u001b[33m\u001b[1mRetry attempt 1\u001b[0m\n",
      "\u001b[32m2024-05-01 18:23:25.748\u001b[0m | \u001b[34m\u001b[1mDEBUG   \u001b[0m | \u001b[36mdesci_sense.shared_functions.web_extractors.citoid\u001b[0m:\u001b[36mfetch_citation_async_retry\u001b[0m:\u001b[36m76\u001b[0m - \u001b[34m\u001b[1mtarget_url=https://royalsocietypublishing.org/doi/10.1098/rstb.2022.0267\u001b[0m\n",
      "\u001b[32m2024-05-01 18:23:27.938\u001b[0m | \u001b[34m\u001b[1mDEBUG   \u001b[0m | \u001b[36mdesci_sense.shared_functions.parsers.multi_chain_parser\u001b[0m:\u001b[36mprocess_ref_post\u001b[0m:\u001b[36m185\u001b[0m - \u001b[34m\u001b[1mProcessing post with parsers: ['ref_tagger']\u001b[0m\n",
      "\u001b[32m2024-05-01 18:23:27.939\u001b[0m | \u001b[34m\u001b[1mDEBUG   \u001b[0m | \u001b[36mdesci_sense.shared_functions.parsers.multi_chain_parser\u001b[0m:\u001b[36mprocess_ref_post\u001b[0m:\u001b[36m187\u001b[0m - \u001b[34m\u001b[1mInstantiating prompts...\u001b[0m\n",
      "\u001b[32m2024-05-01 18:23:27.940\u001b[0m | \u001b[34m\u001b[1mDEBUG   \u001b[0m | \u001b[36mdesci_sense.shared_functions.parsers.multi_chain_parser\u001b[0m:\u001b[36mprocess_ref_post\u001b[0m:\u001b[36m192\u001b[0m - \u001b[34m\u001b[1mInvoking parallel chain...\u001b[0m\n"
     ]
    }
   ],
   "source": [
    "res = multi_chain_parser.process_text(TEST_POST_TEXT_W_2_REFS)"
   ]
  },
  {
   "cell_type": "code",
   "execution_count": 9,
   "metadata": {},
   "outputs": [
    {
     "data": {
      "text/plain": [
       "{'ref_tagger': ParserChainOutput(answer=[['recommendation'], ['recommendation']], pparser_type=<ParserChainType.REFERENCE_TAGGER: 'reference_tagger'>, reasoning='[Reasoning Steps]\\n\\n1. The author of the post is recommending two scientific papers, indicating a <recommendation> tag.\\n2. The post does not contain any disagreement or agreement with the papers, so no <disagrees> or <agrees> tags are applicable.\\n3. The post does not contain a review, announcement, or discussion of the papers, so no <review>, <announce>, or <discussion> tags are applicable.\\n4. The post does not indicate that the author is listening to, watching, or funding the papers, so no <listening>, <watching>, or <funding> tags are applicable.\\n5. The post does not contain a question about the papers, so no <question> tag is applicable.\\n6. The post does not mention an event, job, or indicate interest using the 👀 emoji, so no <event>, <job>, or <indicates-interest> tags are applicable.\\n\\n[Candidate Tags]\\n\\n* <recommendation>: The author is recommending the two papers.', extra={'allowed_tags': ['disagrees', 'review', 'announce', 'endorses', 'discussion', 'listening', 'recommendation', 'call-for-papers', 'quote', 'question', 'agrees', 'funding', 'watching', 'reading', 'event', 'job', 'indicates-interest', 'default'], 'full_text': \" Reasoning Steps:\\n1. The author of the post is recommending two scientific papers, indicating a <recommendation> tag.\\n2. The post does not contain any disagreement or agreement with the papers, so no <disagrees> or <agrees> tags are applicable.\\n3. The post does not contain a review, announcement, or discussion of the papers, so no <review>, <announce>, or <discussion> tags are applicable.\\n4. The post does not indicate that the author is listening to, watching, or funding the papers, so no <listening>, <watching>, or <funding> tags are applicable.\\n5. The post does not contain a question about the papers, so no <question> tag is applicable.\\n6. The post does not mention an event, job, or indicate interest using the 👀 emoji, so no <event>, <job>, or <indicates-interest> tags are applicable.\\n\\nCandidate Tags:\\n\\n* <recommendation>: The author is recommending the two papers.\\n\\nFinal Answer:\\n\\n* <recommendation>: The author is recommending the two papers. \\n\\n ##Allowed terms: ['disagrees', 'review', 'announce', 'endorses', 'discussion', 'listening', 'recommendation', 'call-for-papers', 'quote', 'question', 'agrees', 'funding', 'watching', 'reading', 'event', 'job', 'indicates-interest', 'default']\", 'prompt': '\\nYou are an expert annotator tasked with converting social media posts about scientific research to a structured semantic format. The input post contains references to external URLs. Your job is to select the tags best characterizing the relation of the post to the external references, from a predefined set of tags. \\n\\nThe available tag types are:\\n<disagrees>: this post disputes or expresses disagreement with statements, ideas or conclusions presented in the mentioned reference.\\n<review>: this post contains a review of another reference, such as a book, article or movie. The review could be positive or negative. A review can be detailed or a simple short endorsement.\\n<announce>: this post contains an announcement of new research. The announcement is likely made by the authors but may be a third party. We use a broad definition of research that includes classic and non-traditional outputs. Classic outputs include papers, datasets or code. Non traditional outputs can include a podcast, blog post, video explainers, etc.\\n<endorses>: this post endorses the mentioned reference. This label can also be used for cases of implicit recommendation, where the author is expressing enjoyment of some content but not explicitly recommending it.\\n<discussion>: this post discusses how the cited reference relates to other facts or claims. For example, post might discuss how the cited reference informs questions, provides evidence, or supports or opposes claims.\\n<listening>: this post describes the listening status of the author in relation to a reference, such as a podcast or radio station. The author may have listened to the content in the past, is listening to the content in the present, or is looking forward to listening the content in the future.\\n<recommendation>: The author is recommending any kind of content: an article, a movie, podcast, book, another post, etc.\\n<call-for-papers>: this post contains a call for research papers, for example to a journal, conference or workshop.\\n<quote>: this post is quoting text from an article it\\'s referring to. Symbols like \">\" or quotation marks are often used to indicate quotations.\\n<question>: this post is raising a question or questions about some content it\\'s referring to. The content could be a research paper or other media like a podcast, video or blog post.\\n<agrees>: this post expresses agreement with statements, ideas or conclusions presented in the mentioned reference.\\n<funding>: this post mentions a funding opportunity, for example a research grant or prize.\\n<watching>: this post describes the watching status of the author in relation to a reference, such as a video or movie. The author may have watched the content in the past, is watching the content in the present, or is looking forward to watching the content in the future.\\n<reading>: this post describes the reading status of the author in relation to a reference, such as a book or article. The author may either have read the reference in the past, is reading the reference in the present, or is looking forward to reading the reference in the future.\\n<event>: this post includes an invitation to an event, either a real-world or an online event. Any kind of event is relevant, some examples of such events could be seminars, meetups, or hackathons. This tag should only be used for invitations to events, not for posts describing other kinds of events.\\n<job>: this post describes a job listing, for example a call for graduate students or faculty applications.\\n<indicates-interest>: this post indicates interest in a reference. This label is meant for cases where the post is not explicitly recommending or endorsing the cited reference. This label is suggested by use of the 👀\\xa0emoji\\n<default>: This is a special tag. Use this tag if none of the tags above are suitable. If you tag a post with <default>, no other tag should be assigned to the post.\\n\\nA user will pass in a post, and you should think step by step, before selecting a set of tags that best match the post.\\n\\nYour final answer should be structured as follows:\\nReasoning Steps: (your reasoning steps)\\nCandidate Tags: (For potential each tag you choose, explain why you chose it.)\\nFinal Answer: (a set of final tags, based on the Candidate Tags. The final tags must be included in the Candidate Tags list!)\\n\\n# Input post text:\\nAuthor: deafult_author\\nContent: \\nThese 2 papers are highly recommended!\\nhttps://arxiv.org/abs/2402.04607\\nhttps://royalsocietypublishing.org/doi/10.1098/rstb.2022.0267\\n\\n\\n## Reference Metadata:\\nurl: https://arxiv.org/abs/2402.04607\\nitem_type: preprint\\ntitle: Google Scholar is manipulatable\\nsummary: Citations are widely considered in scientists\\' evaluation. As such, scientists may be incentivized to inflate their citation counts. While previous literature has examined self-citations and citation cartels, it remains unclear whether scientists can purchase citations. Here, we compile a dataset of ~1.6 million profiles on Google Scholar to examine instances of citation fraud on the platform. We survey faculty at highly-ranked universities, and confirm that Google Scholar is widely used when ev\\n---------------\\nurl: https://royalsocietypublishing.org/doi/10.1098/rstb.2022.0267\\nitem_type: journalArticle\\ntitle: Reducing global inequality increases local cooperation: a simple model of group selection with a global externality\\nsummary: None\\n\\n# Output:'})}"
      ]
     },
     "execution_count": 9,
     "metadata": {},
     "output_type": "execute_result"
    }
   ],
   "source": [
    "res"
   ]
  }
 ],
 "metadata": {
  "kernelspec": {
   "display_name": "asensebot",
   "language": "python",
   "name": "python3"
  },
  "language_info": {
   "codemirror_mode": {
    "name": "ipython",
    "version": 3
   },
   "file_extension": ".py",
   "mimetype": "text/x-python",
   "name": "python",
   "nbconvert_exporter": "python",
   "pygments_lexer": "ipython3",
   "version": "3.11.7"
  }
 },
 "nbformat": 4,
 "nbformat_minor": 2
}
