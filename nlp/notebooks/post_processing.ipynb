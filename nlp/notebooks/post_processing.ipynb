{
 "cells": [
  {
   "cell_type": "code",
   "execution_count": 1,
   "metadata": {},
   "outputs": [],
   "source": [
    "# load env with api keys https://stackoverflow.com/a/54028874\n",
    "%load_ext dotenv\n",
    "%dotenv ../etc/config.env\n",
    "\n"
   ]
  },
  {
   "cell_type": "code",
   "execution_count": 2,
   "metadata": {},
   "outputs": [],
   "source": [
    "from pathlib import Path\n",
    "\n",
    "import re\n",
    "import sys\n",
    "sys.path.append(str(Path.cwd().parent))\n",
    "\n",
    "import pandas as pd\n",
    "\n",
    "from desci_sense.parsers.base_parser import BaseParser\n",
    "from desci_sense.postprocessing.output_parsers import TagTypeParser"
   ]
  },
  {
   "cell_type": "code",
   "execution_count": 3,
   "metadata": {},
   "outputs": [
    {
     "data": {
      "text/plain": [
       "'announce|read|event|review|recommendation|listening|job|quote'"
      ]
     },
     "execution_count": 3,
     "metadata": {},
     "output_type": "execute_result"
    }
   ],
   "source": [
    "input_text = \"<announce>, <urbanstudies>, <publicartpolicy>, <author>\"\n",
    "tags = [\"announce\", \"read\", \"event\", \"review\", \"recommendation\", \"listening\", \"job\", \"quote\"]\n",
    "pattern = '|'.join(map(re.escape, tags))\n",
    "pattern"
   ]
  },
  {
   "cell_type": "code",
   "execution_count": 3,
   "metadata": {},
   "outputs": [],
   "source": [
    "TEST_TEXT = \"\"\"\n",
    "Reasoning Stps:\n",
    "1. The post contains a job alert for a postdoctoral fellow position.\n",
    "2. The position involves working on a grant and building a project for the future lab.\n",
    "3. The post includes contact information for interested candidates.\n",
    "\n",
    "Candidate Tags:\n",
    "\n",
    "1. <job>: This tag is the most suitable for the post, as it describes a job listing.\n",
    "\n",
    "Final Answer: <job>\n",
    "\"\"\""
   ]
  },
  {
   "cell_type": "code",
   "execution_count": 4,
   "metadata": {},
   "outputs": [
    {
     "data": {
      "text/plain": [
       "{'reasoning': '[Reasoning Steps]\\n\\n[System error: failed to extract reasoning steps.]\\n\\n[Candidate Tags]\\n\\n1. <job>: This tag is the most suitable for the post, as it describes a job listing.',\n",
       " 'final_answer': '<job>'}"
      ]
     },
     "execution_count": 4,
     "metadata": {},
     "output_type": "execute_result"
    }
   ],
   "source": [
    "tag_parser = TagTypeParser()\n",
    "tag_parser.parse(TEST_TEXT)"
   ]
  },
  {
   "cell_type": "code",
   "execution_count": 5,
   "metadata": {},
   "outputs": [
    {
     "name": "stdout",
     "output_type": "stream",
     "text": [
      "('[System error: failed to extract reasoning steps.]', 'text related to candidate tags', 'text related to final answer')\n"
     ]
    }
   ],
   "source": [
    "import re\n",
    "\n",
    "# Sample text containing the three sections\n",
    "text = \"\"\"\n",
    "Reasoning Step2s:\n",
    "text related to reasoning steps\n",
    "\n",
    "Candidate Tags:\n",
    "text related to candidate tags\n",
    "\n",
    "Final Answer:\n",
    "text related to final answer\n",
    "\"\"\"\n",
    "\n",
    "# Define the regular expressions for the three sections\n",
    "reasoning_steps_pattern = r\"Reasoning Steps:(.*?)Candidate Tags:\"\n",
    "candidate_tags_pattern = r\"Candidate Tags:(.*?)Final Answer:\"\n",
    "final_answer_pattern = r\"Final Answer:(.*)\"\n",
    "\n",
    "# Extract content using regular expressions with error handling\n",
    "try:\n",
    "    reasoning_steps = re.search(reasoning_steps_pattern, text, re.DOTALL).group(1).strip()\n",
    "except AttributeError:\n",
    "    reasoning_steps = \"[System error: failed to extract reasoning steps.]\"\n",
    "\n",
    "try:\n",
    "    candidate_tags = re.search(candidate_tags_pattern, text, re.DOTALL).group(1).strip()\n",
    "except AttributeError:\n",
    "    candidate_tags = \"[System error: failed to extract candidate tags.]\"\n",
    "\n",
    "try:\n",
    "    final_answer = re.search(final_answer_pattern, text, re.DOTALL).group(1).strip()\n",
    "except AttributeError:\n",
    "    final_answer = \"<error>\"\n",
    "\n",
    "# Create a tuple containing the extracted content\n",
    "extracted_content = (reasoning_steps, candidate_tags, final_answer)\n",
    "\n",
    "\n",
    "print(extracted_content)\n",
    "\n",
    "\n",
    "\n",
    "\n"
   ]
  },
  {
   "cell_type": "code",
   "execution_count": 6,
   "metadata": {},
   "outputs": [
    {
     "data": {
      "text/plain": [
       "('[System error: failed to extract reasoning steps.]',\n",
       " 'text related to candidate tags',\n",
       " 'text related to final answer')"
      ]
     },
     "execution_count": 6,
     "metadata": {},
     "output_type": "execute_result"
    }
   ],
   "source": [
    "extracted_content"
   ]
  }
 ],
 "metadata": {
  "kernelspec": {
   "display_name": "twscraping",
   "language": "python",
   "name": "python3"
  },
  "language_info": {
   "codemirror_mode": {
    "name": "ipython",
    "version": 3
   },
   "file_extension": ".py",
   "mimetype": "text/x-python",
   "name": "python",
   "nbconvert_exporter": "python",
   "pygments_lexer": "ipython3",
   "version": "3.11.5"
  }
 },
 "nbformat": 4,
 "nbformat_minor": 2
}
