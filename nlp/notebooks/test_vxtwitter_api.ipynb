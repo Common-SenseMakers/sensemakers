{
 "cells": [
  {
   "cell_type": "code",
   "execution_count": 11,
   "metadata": {},
   "outputs": [],
   "source": [
    "import nest_asyncio\n",
    "nest_asyncio.apply()\n",
    "from pathlib import Path\n",
    "\n",
    "import sys\n",
    "sys.path.append(\"../\")\n",
    "from typing import Optional, Union\n",
    "import re\n",
    "import requests\n",
    "from datetime import datetime\n",
    "\n",
    "from desci_sense.shared_functions.dataloaders import (\n",
    "    scrape_post,\n",
    "    convert_text_to_ref_post,\n",
    ")"
   ]
  },
  {
   "cell_type": "code",
   "execution_count": 16,
   "metadata": {},
   "outputs": [],
   "source": [
    "# refs three tweets\n",
    "tweet_url = \"https://x.com/sense_nets/status/1795939373747179683\"\n",
    "ref_post = scrape_post(tweet_url)"
   ]
  },
  {
   "cell_type": "code",
   "execution_count": 17,
   "metadata": {},
   "outputs": [
    {
     "data": {
      "text/plain": [
       "{'allSameType': True,\n",
       " 'combinedMediaUrl': None,\n",
       " 'communityNote': None,\n",
       " 'conversationID': '1795908337977975272',\n",
       " 'date': 'Wed May 29 20:43:24 +0000 2024',\n",
       " 'date_epoch': 1717015404,\n",
       " 'hasMedia': False,\n",
       " 'hashtags': [],\n",
       " 'likes': 0,\n",
       " 'mediaURLs': [],\n",
       " 'media_extended': [],\n",
       " 'pollData': None,\n",
       " 'possibly_sensitive': False,\n",
       " 'qrtURL': None,\n",
       " 'replies': 0,\n",
       " 'retweets': 0,\n",
       " 'text': \"@TechCrunch It's interesting to see how US lawmakers shift focus toward Chinese EVs and their technology. This will undoubtedly influence global auto tech trends.\",\n",
       " 'tweetID': '1795918889542361110',\n",
       " 'tweetURL': 'https://twitter.com/CryptoV1xen/status/1795918889542361110',\n",
       " 'user_name': 'Crypto Vixen',\n",
       " 'user_profile_image_url': 'https://pbs.twimg.com/profile_images/1778702716493045760/S83HvXB8_normal.jpg',\n",
       " 'user_screen_name': 'CryptoV1xen'}"
      ]
     },
     "execution_count": 17,
     "metadata": {},
     "output_type": "execute_result"
    }
   ],
   "source": [
    "ref_post.metadata[\"qrt\"]"
   ]
  },
  {
   "cell_type": "code",
   "execution_count": 12,
   "metadata": {},
   "outputs": [],
   "source": [
    "tweet_url = 'https://twitter.com/rtk254/status/1789715912062591480'\n",
    "ref_post = scrape_post(tweet_url)"
   ]
  },
  {
   "cell_type": "code",
   "execution_count": 14,
   "metadata": {},
   "outputs": [
    {
     "data": {
      "text/plain": [
       "{'allSameType': True,\n",
       " 'combinedMediaUrl': None,\n",
       " 'communityNote': None,\n",
       " 'conversationID': '1789434309918797970',\n",
       " 'date': 'Sat May 11 23:16:00 +0000 2024',\n",
       " 'date_epoch': 1715469360,\n",
       " 'hasMedia': False,\n",
       " 'hashtags': [],\n",
       " 'likes': 415,\n",
       " 'mediaURLs': [],\n",
       " 'media_extended': [],\n",
       " 'pollData': {'options': []},\n",
       " 'possibly_sensitive': False,\n",
       " 'qrtURL': None,\n",
       " 'replies': 10,\n",
       " 'retweets': 118,\n",
       " 'text': 'People you love become part of you — not just metaphorically, but physically. You absorb people into your internal model of the world. Your brain refashions itself around the expectation of their presence.\\nhttps://www.brainpickings.org/2020/08/23/david-eagleman-livewired-drug-withdrawal-heartbreak/',\n",
       " 'tweetID': '1789434309918797970',\n",
       " 'tweetURL': 'https://twitter.com/davideagleman/status/1789434309918797970',\n",
       " 'user_name': 'David Eagleman',\n",
       " 'user_profile_image_url': 'https://pbs.twimg.com/profile_images/652208682210430976/wcJOEjx5_normal.jpg',\n",
       " 'user_screen_name': 'davideagleman'}"
      ]
     },
     "execution_count": 14,
     "metadata": {},
     "output_type": "execute_result"
    }
   ],
   "source": [
    "ref_post.metadata[\"qrt\"]"
   ]
  },
  {
   "cell_type": "code",
   "execution_count": 2,
   "metadata": {},
   "outputs": [
    {
     "data": {
      "text/plain": [
       "<Response [200]>"
      ]
     },
     "execution_count": 2,
     "metadata": {},
     "output_type": "execute_result"
    }
   ],
   "source": [
    "# tweet_id = 1577730467436138524\n",
    "tweet_id = 1789715912062591480\n",
    "# tweet_id = 1741841607421263966\n",
    "# 1741841607421263966\n",
    "response = requests.get(url=f\"https://api.vxtwitter.com/Twitter/status/{tweet_id}\")\n",
    "response"
   ]
  },
  {
   "cell_type": "code",
   "execution_count": 3,
   "metadata": {},
   "outputs": [
    {
     "data": {
      "text/plain": [
       "True"
      ]
     },
     "execution_count": 3,
     "metadata": {},
     "output_type": "execute_result"
    }
   ],
   "source": [
    "response.ok"
   ]
  },
  {
   "cell_type": "code",
   "execution_count": 4,
   "metadata": {},
   "outputs": [],
   "source": [
    "data = response.json()"
   ]
  },
  {
   "cell_type": "code",
   "execution_count": 9,
   "metadata": {},
   "outputs": [
    {
     "data": {
      "text/plain": [
       "'https://twitter.com/rtk254/status/1789715912062591480'"
      ]
     },
     "execution_count": 9,
     "metadata": {},
     "output_type": "execute_result"
    }
   ],
   "source": [
    "raw_tweet = response.json()\n",
    "raw_tweet[\"tweetURL\"]"
   ]
  },
  {
   "cell_type": "code",
   "execution_count": 15,
   "metadata": {},
   "outputs": [
    {
     "data": {
      "text/plain": [
       "{'allSameType': True,\n",
       " 'combinedMediaUrl': None,\n",
       " 'communityNote': None,\n",
       " 'conversationID': '1789715912062591480',\n",
       " 'date': 'Sun May 12 17:54:59 +0000 2024',\n",
       " 'date_epoch': 1715536499,\n",
       " 'hasMedia': False,\n",
       " 'hashtags': [],\n",
       " 'likes': 0,\n",
       " 'mediaURLs': [],\n",
       " 'media_extended': [],\n",
       " 'pollData': None,\n",
       " 'possibly_sensitive': False,\n",
       " 'qrt': {'allSameType': True,\n",
       "  'combinedMediaUrl': None,\n",
       "  'communityNote': None,\n",
       "  'conversationID': '1789434309918797970',\n",
       "  'date': 'Sat May 11 23:16:00 +0000 2024',\n",
       "  'date_epoch': 1715469360,\n",
       "  'hasMedia': False,\n",
       "  'hashtags': [],\n",
       "  'likes': 415,\n",
       "  'mediaURLs': [],\n",
       "  'media_extended': [],\n",
       "  'pollData': {'options': []},\n",
       "  'possibly_sensitive': False,\n",
       "  'qrtURL': None,\n",
       "  'replies': 10,\n",
       "  'retweets': 118,\n",
       "  'text': 'People you love become part of you — not just metaphorically, but physically. You absorb people into your internal model of the world. Your brain refashions itself around the expectation of their presence.\\nhttps://www.brainpickings.org/2020/08/23/david-eagleman-livewired-drug-withdrawal-heartbreak/',\n",
       "  'tweetID': '1789434309918797970',\n",
       "  'tweetURL': 'https://twitter.com/davideagleman/status/1789434309918797970',\n",
       "  'user_name': 'David Eagleman',\n",
       "  'user_profile_image_url': 'https://pbs.twimg.com/profile_images/652208682210430976/wcJOEjx5_normal.jpg',\n",
       "  'user_screen_name': 'davideagleman'},\n",
       " 'qrtURL': 'https://twitter.com/i/status/1789434309918797970',\n",
       " 'replies': 0,\n",
       " 'retweets': 0,\n",
       " 'text': '\"Ask not what\\'s inside your head, but what your head\\'s inside of\" (WM Mace)',\n",
       " 'tweetID': '1789715912062591480',\n",
       " 'tweetURL': 'https://twitter.com/rtk254/status/1789715912062591480',\n",
       " 'user_name': 'Ronen Tamari',\n",
       " 'user_profile_image_url': 'https://pbs.twimg.com/profile_images/1193444000503681024/_19SJ8oC_normal.jpg',\n",
       " 'user_screen_name': 'rtk254'}"
      ]
     },
     "execution_count": 15,
     "metadata": {},
     "output_type": "execute_result"
    }
   ],
   "source": [
    "raw_tweet"
   ]
  },
  {
   "cell_type": "code",
   "execution_count": 6,
   "metadata": {},
   "outputs": [
    {
     "data": {
      "text/plain": [
       "{'allSameType': True,\n",
       " 'combinedMediaUrl': None,\n",
       " 'communityNote': None,\n",
       " 'conversationID': '1789434309918797970',\n",
       " 'date': 'Sat May 11 23:16:00 +0000 2024',\n",
       " 'date_epoch': 1715469360,\n",
       " 'hasMedia': False,\n",
       " 'hashtags': [],\n",
       " 'likes': 415,\n",
       " 'mediaURLs': [],\n",
       " 'media_extended': [],\n",
       " 'pollData': {'options': []},\n",
       " 'possibly_sensitive': False,\n",
       " 'qrtURL': None,\n",
       " 'replies': 10,\n",
       " 'retweets': 118,\n",
       " 'text': 'People you love become part of you — not just metaphorically, but physically. You absorb people into your internal model of the world. Your brain refashions itself around the expectation of their presence.\\nhttps://www.brainpickings.org/2020/08/23/david-eagleman-livewired-drug-withdrawal-heartbreak/',\n",
       " 'tweetID': '1789434309918797970',\n",
       " 'tweetURL': 'https://twitter.com/davideagleman/status/1789434309918797970',\n",
       " 'user_name': 'David Eagleman',\n",
       " 'user_profile_image_url': 'https://pbs.twimg.com/profile_images/652208682210430976/wcJOEjx5_normal.jpg',\n",
       " 'user_screen_name': 'davideagleman'}"
      ]
     },
     "execution_count": 6,
     "metadata": {},
     "output_type": "execute_result"
    }
   ],
   "source": [
    "raw_tweet[\"qrt\"]"
   ]
  }
 ],
 "metadata": {
  "kernelspec": {
   "display_name": "asensebot",
   "language": "python",
   "name": "python3"
  },
  "language_info": {
   "codemirror_mode": {
    "name": "ipython",
    "version": 3
   },
   "file_extension": ".py",
   "mimetype": "text/x-python",
   "name": "python",
   "nbconvert_exporter": "python",
   "pygments_lexer": "ipython3",
   "version": "3.11.7"
  }
 },
 "nbformat": 4,
 "nbformat_minor": 2
}
