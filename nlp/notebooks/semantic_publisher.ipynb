{
 "cells": [
  {
   "cell_type": "code",
   "execution_count": 1,
   "metadata": {},
   "outputs": [],
   "source": [
    "# load env with api keys https://stackoverflow.com/a/54028874\n",
    "%load_ext dotenv\n",
    "%dotenv ../etc/config.env"
   ]
  },
  {
   "cell_type": "code",
   "execution_count": 2,
   "metadata": {},
   "outputs": [],
   "source": [
    "import sys\n",
    "sys.path.append(\"../\")\n",
    "\n",
    "import pandas as pd\n",
    "\n",
    "from desci_sense.parsers.base_parser import BaseParser\n",
    "from desci_sense.configs import init_config\n",
    "from desci_sense.schema.post import RefPost\n",
    "from desci_sense.schema.templates import TEMPLATES, LABEL_TEMPLATE_MAP, DEFAULT_PREDICATE_LABEL, DISP_NAME_TEMPLATES_MAP"
   ]
  },
  {
   "cell_type": "code",
   "execution_count": 3,
   "metadata": {},
   "outputs": [
    {
     "name": "stderr",
     "output_type": "stream",
     "text": [
      "WARNING! headers is not default parameter.\n",
      "                    headers was transferred to model_kwargs.\n",
      "                    Please confirm that headers is what you intended.\n"
     ]
    }
   ],
   "source": [
    "config = init_config(template_path=\"desci_sense/prompting/templates/p7.txt\")\n",
    "parser = BaseParser(config=config)"
   ]
  },
  {
   "cell_type": "code",
   "execution_count": 4,
   "metadata": {},
   "outputs": [],
   "source": [
    "# TEST_TWEET = \"https://twitter.com/bingbrunton/status/1719789465739333972\"\n",
    "# result = parser.process_url(TEST_TWEET)\n",
    "# result"
   ]
  },
  {
   "cell_type": "code",
   "execution_count": 4,
   "metadata": {},
   "outputs": [
    {
     "data": {
      "text/plain": [
       "{'post': RefPost(author='Bing Wen Brunton', content='My department at Univ Washington in Seattle is searching for a tenure-track assistant prof in \"Quantitative Understanding of Collective Behavior\" @UWBiology\\n\\nSee ad for more info about the search vision and to apply; happy to answer questions!\\n\\nhttps://apply.interfolio.com/130336 https://t.co/ydKZVuAeeY', url='https://twitter.com/bingbrunton/status/1719789465739333972', metadata={'communityNote': None, 'conversationID': '1719789465739333972', 'date': 'Wed Nov 01 18:52:15 +0000 2023', 'date_epoch': 1698864735, 'hashtags': [], 'likes': 128, 'mediaURLs': ['https://pbs.twimg.com/media/F92_tj1asAAAoR-.jpg'], 'media_extended': [{'altText': None, 'size': {'height': 1279, 'width': 3199}, 'thumbnail_url': 'https://pbs.twimg.com/media/F92_tj1asAAAoR-.jpg', 'type': 'image', 'url': 'https://pbs.twimg.com/media/F92_tj1asAAAoR-.jpg'}], 'possibly_sensitive': False, 'qrtURL': None, 'replies': 2, 'retweets': 74, 'text': 'My department at Univ Washington in Seattle is searching for a tenure-track assistant prof in \"Quantitative Understanding of Collective Behavior\" @UWBiology\\n\\nSee ad for more info about the search vision and to apply; happy to answer questions!\\n\\nhttps://apply.interfolio.com/130336 https://t.co/ydKZVuAeeY', 'tweetID': '1719789465739333972', 'tweetURL': 'https://twitter.com/bingbrunton/status/1719789465739333972', 'user_name': 'Bing Wen Brunton', 'user_profile_image_url': 'https://pbs.twimg.com/profile_images/1308602220179369984/3vv__cHD_normal.jpg', 'user_screen_name': 'bingbrunton'}, source_network='twitter', ref_urls=['https://apply.interfolio.com/130336']),\n",
       " 'answer': {'reasoning': '[Reasoning Steps]\\n\\n1. The post contains a job announcement from the author\\'s department at the University of Washington in Seattle.\\n2. The author is searching for a tenure-track assistant professor in the field of \"Quantitative Understanding of Collective Behavior\".\\n3. The author has included a link to the job application and is open to answering questions.\\n\\n[Candidate Tags]\\n\\n1. <job>\\n2. <announce>\\n3. <event> (only if the job announcement is an invitation to an event, not for a job listing)',\n",
       "  'final_answer': '<job>',\n",
       "  'single_tag': ['job'],\n",
       "  'multi_tag': ['job']}}"
      ]
     },
     "execution_count": 4,
     "metadata": {},
     "output_type": "execute_result"
    }
   ],
   "source": [
    "result = {'post': RefPost(author='Bing Wen Brunton', content='My department at Univ Washington in Seattle is searching for a tenure-track assistant prof in \"Quantitative Understanding of Collective Behavior\" @UWBiology\\n\\nSee ad for more info about the search vision and to apply; happy to answer questions!\\n\\nhttps://apply.interfolio.com/130336 https://t.co/ydKZVuAeeY', url='https://twitter.com/bingbrunton/status/1719789465739333972', metadata={'communityNote': None, 'conversationID': '1719789465739333972', 'date': 'Wed Nov 01 18:52:15 +0000 2023', 'date_epoch': 1698864735, 'hashtags': [], 'likes': 128, 'mediaURLs': ['https://pbs.twimg.com/media/F92_tj1asAAAoR-.jpg'], 'media_extended': [{'altText': None, 'size': {'height': 1279, 'width': 3199}, 'thumbnail_url': 'https://pbs.twimg.com/media/F92_tj1asAAAoR-.jpg', 'type': 'image', 'url': 'https://pbs.twimg.com/media/F92_tj1asAAAoR-.jpg'}], 'possibly_sensitive': False, 'qrtURL': None, 'replies': 2, 'retweets': 74, 'text': 'My department at Univ Washington in Seattle is searching for a tenure-track assistant prof in \"Quantitative Understanding of Collective Behavior\" @UWBiology\\n\\nSee ad for more info about the search vision and to apply; happy to answer questions!\\n\\nhttps://apply.interfolio.com/130336 https://t.co/ydKZVuAeeY', 'tweetID': '1719789465739333972', 'tweetURL': 'https://twitter.com/bingbrunton/status/1719789465739333972', 'user_name': 'Bing Wen Brunton', 'user_profile_image_url': 'https://pbs.twimg.com/profile_images/1308602220179369984/3vv__cHD_normal.jpg', 'user_screen_name': 'bingbrunton'}, source_network='twitter', ref_urls=['https://apply.interfolio.com/130336']),\n",
    " 'answer': {'reasoning': '[Reasoning Steps]\\n\\n1. The post contains a job announcement from the author\\'s department at the University of Washington in Seattle.\\n2. The author is searching for a tenure-track assistant professor in the field of \"Quantitative Understanding of Collective Behavior\".\\n3. The author has included a link to the job application and is open to answering questions.\\n\\n[Candidate Tags]\\n\\n1. <job>\\n2. <announce>\\n3. <event> (only if the job announcement is an invitation to an event, not for a job listing)',\n",
    "  'final_answer': '<job>',\n",
    "  'single_tag': ['job'],\n",
    "  'multi_tag': ['job']}}\n",
    "result"
   ]
  },
  {
   "cell_type": "code",
   "execution_count": 5,
   "metadata": {},
   "outputs": [
    {
     "data": {
      "text/plain": [
       "[('post', 'job', 'https://apply.interfolio.com/130336')]"
      ]
     },
     "execution_count": 5,
     "metadata": {},
     "output_type": "execute_result"
    }
   ],
   "source": [
    "# placeholder for post in RDF triplet\n",
    "POST_RDF = \"post\"\n",
    "\n",
    "# display name for post for rendering in streamlit\n",
    "POST_DISPLAY_NAME = \"💬 Your post\"\n",
    "\n",
    "def create_triples_from_prediction(prediction):\n",
    "    \n",
    "    # TODO access to prediction attributes should be standardized\n",
    "    # extract list of referenced links\n",
    "    post: RefPost = prediction.get(\"post\", None)\n",
    "    if post:\n",
    "        ref_links = post.ref_urls\n",
    "    else:\n",
    "        # the prediction didn't include a post (eg call to `process_text`)\n",
    "        ref_links = []\n",
    "\n",
    "\n",
    "    # extract predicted predicates\n",
    "    predicted_predicates = prediction[\"answer\"][\"multi_tag\"]\n",
    "    \n",
    "    # if no predicates were predicted, add the default predicate\n",
    "    if len(predicted_predicates) == 0:\n",
    "        predicted_predicates = [DEFAULT_PREDICATE_LABEL]\n",
    "\n",
    "    # create table of all extracted triples\n",
    "    rows = []\n",
    "    for label in predicted_predicates:\n",
    "        rows += [(POST_RDF, label ,link) for link in ref_links] \n",
    "    \n",
    "    return rows\n",
    "\n",
    "rows = create_triples_from_prediction(result)\n",
    "rows"
   ]
  },
  {
   "cell_type": "code",
   "execution_count": 7,
   "metadata": {},
   "outputs": [
    {
     "data": {
      "text/plain": [
       "[('post', 'job', 'https://apply.interfolio.com/130336'),\n",
       " ('post', 'job', 'https://apply.interfolio.com/130336'),\n",
       " ('post', 'job', 'https://apply.interfolio.com/130336'),\n",
       " ('post', 'job', 'https://apply.interfolio.com/130336')]"
      ]
     },
     "execution_count": 7,
     "metadata": {},
     "output_type": "execute_result"
    }
   ],
   "source": [
    "rows += rows\n",
    "rows"
   ]
  },
  {
   "cell_type": "code",
   "execution_count": 8,
   "metadata": {},
   "outputs": [
    {
     "data": {
      "text/html": [
       "<div>\n",
       "<style scoped>\n",
       "    .dataframe tbody tr th:only-of-type {\n",
       "        vertical-align: middle;\n",
       "    }\n",
       "\n",
       "    .dataframe tbody tr th {\n",
       "        vertical-align: top;\n",
       "    }\n",
       "\n",
       "    .dataframe thead th {\n",
       "        text-align: right;\n",
       "    }\n",
       "</style>\n",
       "<table border=\"1\" class=\"dataframe\">\n",
       "  <thead>\n",
       "    <tr style=\"text-align: right;\">\n",
       "      <th></th>\n",
       "      <th>Subject</th>\n",
       "      <th>Predicate</th>\n",
       "      <th>Object</th>\n",
       "    </tr>\n",
       "  </thead>\n",
       "  <tbody>\n",
       "    <tr>\n",
       "      <th>0</th>\n",
       "      <td>post</td>\n",
       "      <td>job</td>\n",
       "      <td>https://apply.interfolio.com/130336</td>\n",
       "    </tr>\n",
       "    <tr>\n",
       "      <th>1</th>\n",
       "      <td>post</td>\n",
       "      <td>job</td>\n",
       "      <td>https://apply.interfolio.com/130336</td>\n",
       "    </tr>\n",
       "    <tr>\n",
       "      <th>2</th>\n",
       "      <td>post</td>\n",
       "      <td>job</td>\n",
       "      <td>https://apply.interfolio.com/130336</td>\n",
       "    </tr>\n",
       "    <tr>\n",
       "      <th>3</th>\n",
       "      <td>post</td>\n",
       "      <td>job</td>\n",
       "      <td>https://apply.interfolio.com/130336</td>\n",
       "    </tr>\n",
       "  </tbody>\n",
       "</table>\n",
       "</div>"
      ],
      "text/plain": [
       "  Subject Predicate                               Object\n",
       "0    post       job  https://apply.interfolio.com/130336\n",
       "1    post       job  https://apply.interfolio.com/130336\n",
       "2    post       job  https://apply.interfolio.com/130336\n",
       "3    post       job  https://apply.interfolio.com/130336"
      ]
     },
     "execution_count": 8,
     "metadata": {},
     "output_type": "execute_result"
    }
   ],
   "source": [
    "df = pd.DataFrame(rows, columns=[\"Subject\", \"Predicate\" ,\"Object\"])\n",
    "df"
   ]
  },
  {
   "cell_type": "code",
   "execution_count": 10,
   "metadata": {},
   "outputs": [
    {
     "data": {
      "text/plain": [
       "['job']"
      ]
     },
     "execution_count": 10,
     "metadata": {},
     "output_type": "execute_result"
    }
   ],
   "source": [
    "list(df.Predicate.unique())"
   ]
  },
  {
   "cell_type": "code",
   "execution_count": 12,
   "metadata": {},
   "outputs": [
    {
     "data": {
      "text/html": [
       "<div>\n",
       "<style scoped>\n",
       "    .dataframe tbody tr th:only-of-type {\n",
       "        vertical-align: middle;\n",
       "    }\n",
       "\n",
       "    .dataframe tbody tr th {\n",
       "        vertical-align: top;\n",
       "    }\n",
       "\n",
       "    .dataframe thead th {\n",
       "        text-align: right;\n",
       "    }\n",
       "</style>\n",
       "<table border=\"1\" class=\"dataframe\">\n",
       "  <thead>\n",
       "    <tr style=\"text-align: right;\">\n",
       "      <th></th>\n",
       "      <th>Subject</th>\n",
       "      <th>Predicate</th>\n",
       "      <th>Object</th>\n",
       "    </tr>\n",
       "  </thead>\n",
       "  <tbody>\n",
       "    <tr>\n",
       "      <th>0</th>\n",
       "      <td>post</td>\n",
       "      <td>job</td>\n",
       "      <td>https://uchv.princeton.edu/postdoc-cog-sci</td>\n",
       "    </tr>\n",
       "    <tr>\n",
       "      <th>1</th>\n",
       "      <td>post</td>\n",
       "      <td>event</td>\n",
       "      <td>https://uchv.princeton.edu/postdoc-cog-sci</td>\n",
       "    </tr>\n",
       "  </tbody>\n",
       "</table>\n",
       "</div>"
      ],
      "text/plain": [
       "  Subject Predicate                                      Object\n",
       "0    post       job  https://uchv.princeton.edu/postdoc-cog-sci\n",
       "1    post     event  https://uchv.princeton.edu/postdoc-cog-sci"
      ]
     },
     "execution_count": 12,
     "metadata": {},
     "output_type": "execute_result"
    }
   ],
   "source": [
    "\n",
    "rows = [('post', 'job', 'https://uchv.princeton.edu/postdoc-cog-sci'), ('post', 'event', 'https://uchv.princeton.edu/postdoc-cog-sci')]\n",
    "df = pd.DataFrame(rows, columns=[\"Subject\", \"Predicate\" ,\"Object\"])\n",
    "df"
   ]
  },
  {
   "cell_type": "code",
   "execution_count": null,
   "metadata": {},
   "outputs": [],
   "source": [
    "df['predicate'] = df['predicate'].apply(lambda x: TEMPLATES[LABEL_TEMPLATE_MAP[x]][\"display_name\"])"
   ]
  },
  {
   "cell_type": "code",
   "execution_count": 13,
   "metadata": {},
   "outputs": [
    {
     "data": {
      "text/plain": [
       "{'📢 announces-job': 'announcement-job',\n",
       " '📢 announces-research': 'Announcement-research',\n",
       " '🗓️ announces-event': 'Announcement-event',\n",
       " '🗣️ discusses': 'Discussion',\n",
       " '📝 quotes-from': 'Includes-quotation-from',\n",
       " '❔ ask-question-about': 'asks-question-about',\n",
       " '👌 recommends': 'recommends',\n",
       " '🧐 reviews': 'reviews',\n",
       " '⬛ links-to': 'links to',\n",
       " '🎧 listening-status': 'listening-consumption-status',\n",
       " '📑 reading-status': 'reading-consumption-status',\n",
       " '👀 watching-status': 'watching-consumption-status'}"
      ]
     },
     "execution_count": 13,
     "metadata": {},
     "output_type": "execute_result"
    }
   ],
   "source": [
    "DISP_NAME_TEMPLATES_MAP = {v[\"display_name\"]: k for k,v in TEMPLATES.items()}\n",
    "DISP_NAME_TEMPLATES_MAP"
   ]
  }
 ],
 "metadata": {
  "kernelspec": {
   "display_name": "twscraping",
   "language": "python",
   "name": "python3"
  },
  "language_info": {
   "codemirror_mode": {
    "name": "ipython",
    "version": 3
   },
   "file_extension": ".py",
   "mimetype": "text/x-python",
   "name": "python",
   "nbconvert_exporter": "python",
   "pygments_lexer": "ipython3",
   "version": "3.11.5"
  }
 },
 "nbformat": 4,
 "nbformat_minor": 2
}
