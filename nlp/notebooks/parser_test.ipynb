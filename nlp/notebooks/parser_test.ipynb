{
 "cells": [
  {
   "cell_type": "code",
   "execution_count": 1,
   "metadata": {},
   "outputs": [],
   "source": [
    "# load env with api keys https://stackoverflow.com/a/54028874\n",
    "%load_ext dotenv\n",
    "%dotenv ../etc/config.env\n",
    "\n"
   ]
  },
  {
   "cell_type": "code",
   "execution_count": 2,
   "metadata": {},
   "outputs": [],
   "source": [
    "import sys\n",
    "sys.path.append(\"../\")\n",
    "\n",
    "import pandas as pd\n",
    "\n",
    "from desci_sense.parsers.base_parser import BaseParser\n",
    "from confection import Config\n",
    "from desci_sense.configs import init_config"
   ]
  },
  {
   "cell_type": "code",
   "execution_count": 3,
   "metadata": {},
   "outputs": [],
   "source": [
    "config = init_config(model_name = \"mistralai/mistral-7b-instruct\")"
   ]
  },
  {
   "cell_type": "code",
   "execution_count": 4,
   "metadata": {},
   "outputs": [
    {
     "name": "stderr",
     "output_type": "stream",
     "text": [
      "WARNING! headers is not default parameter.\n",
      "                    headers was transferred to model_kwargs.\n",
      "                    Please confirm that headers is what you intended.\n"
     ]
    }
   ],
   "source": [
    "\n",
    "# model_name = \"openai/gpt-3.5-turbo\"\n",
    "\n",
    "tweet_parser = BaseParser(config=config)"
   ]
  },
  {
   "cell_type": "markdown",
   "metadata": {},
   "source": [
    "# Test prediction on single tweet"
   ]
  },
  {
   "cell_type": "code",
   "execution_count": 5,
   "metadata": {},
   "outputs": [],
   "source": [
    "TEST_TWEET_7 = \"https://twitter.com/bingbrunton/status/1719789465739333972\""
   ]
  },
  {
   "cell_type": "code",
   "execution_count": 8,
   "metadata": {},
   "outputs": [],
   "source": [
    "result = tweet_parser.process_tweet_url(TEST_TWEET_7)"
   ]
  },
  {
   "cell_type": "code",
   "execution_count": 9,
   "metadata": {},
   "outputs": [
    {
     "data": {
      "text/plain": [
       "{'tweet': {'conversationID': '1719789465739333972',\n",
       "  'date': 'Wed Nov 01 18:52:15 +0000 2023',\n",
       "  'date_epoch': 1698864735,\n",
       "  'hashtags': [],\n",
       "  'likes': 123,\n",
       "  'mediaURLs': ['https://pbs.twimg.com/media/F92_tj1asAAAoR-.jpg'],\n",
       "  'media_extended': [{'altText': None,\n",
       "    'size': {'height': 1279, 'width': 3199},\n",
       "    'thumbnail_url': 'https://pbs.twimg.com/media/F92_tj1asAAAoR-.jpg',\n",
       "    'type': 'image',\n",
       "    'url': 'https://pbs.twimg.com/media/F92_tj1asAAAoR-.jpg'}],\n",
       "  'possibly_sensitive': False,\n",
       "  'qrtURL': None,\n",
       "  'replies': 2,\n",
       "  'retweets': 69,\n",
       "  'text': 'My department at Univ Washington in Seattle is searching for a tenure-track assistant prof in \"Quantitative Understanding of Collective Behavior\" @UWBiology\\n\\nSee ad for more info about the search vision and to apply; happy to answer questions!\\n\\nhttps://apply.interfolio.com/130336 https://t.co/ydKZVuAeeY',\n",
       "  'tweetID': '1719789465739333972',\n",
       "  'tweetURL': 'https://twitter.com/bingbrunton/status/1719789465739333972',\n",
       "  'user_name': 'Bing Wen Brunton',\n",
       "  'user_screen_name': 'bingbrunton'},\n",
       " 'answer': {'reasoning': '[Reasoning Steps]\\n\\n1. The post is about a job listing.\\n2. The job is for a tenure-track assistant professor in \"Quantitative Understanding of Collective Behavior\" at Univ Washington in Seattle.\\n3. The post includes a link to the job ad and encourages applicants to apply.\\n\\n[Candidate Tags]\\n\\n<job>\\n<other>',\n",
       "  'final_answer': '<job>'}}"
      ]
     },
     "execution_count": 9,
     "metadata": {},
     "output_type": "execute_result"
    }
   ],
   "source": [
    "result"
   ]
  },
  {
   "cell_type": "code",
   "execution_count": 10,
   "metadata": {},
   "outputs": [
    {
     "name": "stdout",
     "output_type": "stream",
     "text": [
      "[Reasoning Steps]\n",
      "\n",
      "1. The post is about a job listing.\n",
      "2. The job is for a tenure-track assistant professor in \"Quantitative Understanding of Collective Behavior\" at Univ Washington in Seattle.\n",
      "3. The post includes a link to the job ad and encourages applicants to apply.\n",
      "\n",
      "[Candidate Tags]\n",
      "\n",
      "<job>\n",
      "<other>\n"
     ]
    }
   ],
   "source": [
    "print(result[\"answer\"][\"reasoning\"])"
   ]
  },
  {
   "cell_type": "code",
   "execution_count": 11,
   "metadata": {},
   "outputs": [
    {
     "name": "stdout",
     "output_type": "stream",
     "text": [
      "<job>\n"
     ]
    }
   ],
   "source": [
    "print(result[\"answer\"][\"final_answer\"])"
   ]
  },
  {
   "cell_type": "code",
   "execution_count": 12,
   "metadata": {},
   "outputs": [
    {
     "name": "stdout",
     "output_type": "stream",
     "text": [
      "My department at Univ Washington in Seattle is searching for a tenure-track assistant prof in \"Quantitative Understanding of Collective Behavior\" @UWBiology\n",
      "\n",
      "See ad for more info about the search vision and to apply; happy to answer questions!\n",
      "\n",
      "https://apply.interfolio.com/130336 https://t.co/ydKZVuAeeY\n"
     ]
    }
   ],
   "source": [
    "print(result[\"tweet\"][\"text\"])"
   ]
  },
  {
   "cell_type": "markdown",
   "metadata": {},
   "source": [
    "# Load data"
   ]
  },
  {
   "cell_type": "code",
   "execution_count": 9,
   "metadata": {},
   "outputs": [],
   "source": [
    "df = pd.read_csv(f\"https://docs.google.com/spreadsheets/d/1edkPVtGwaCeQCMtooPD5veNrPeUOYUa8hbeFocNa0LU/export?gid=1445397290&format=csv\", on_bad_lines='skip')"
   ]
  },
  {
   "cell_type": "code",
   "execution_count": 10,
   "metadata": {},
   "outputs": [
    {
     "data": {
      "text/html": [
       "<div>\n",
       "<style scoped>\n",
       "    .dataframe tbody tr th:only-of-type {\n",
       "        vertical-align: middle;\n",
       "    }\n",
       "\n",
       "    .dataframe tbody tr th {\n",
       "        vertical-align: top;\n",
       "    }\n",
       "\n",
       "    .dataframe thead th {\n",
       "        text-align: right;\n",
       "    }\n",
       "</style>\n",
       "<table border=\"1\" class=\"dataframe\">\n",
       "  <thead>\n",
       "    <tr style=\"text-align: right;\">\n",
       "      <th></th>\n",
       "      <th>Unnamed: 0</th>\n",
       "      <th>url</th>\n",
       "      <th>tweet_text</th>\n",
       "      <th>tweetID</th>\n",
       "      <th>gold</th>\n",
       "    </tr>\n",
       "  </thead>\n",
       "  <tbody>\n",
       "    <tr>\n",
       "      <th>0</th>\n",
       "      <td>0</td>\n",
       "      <td>https://twitter.com/danwilliamsphil/status/171...</td>\n",
       "      <td>I enjoyed this, although I was already sympath...</td>\n",
       "      <td>1719436704602275858</td>\n",
       "      <td>&lt;review&gt;</td>\n",
       "    </tr>\n",
       "    <tr>\n",
       "      <th>1</th>\n",
       "      <td>1</td>\n",
       "      <td>https://twitter.com/pwang/status/1719720728184...</td>\n",
       "      <td>100% with Stella @BlancheMinerva (and @AndrewY...</td>\n",
       "      <td>1719720728184910195</td>\n",
       "      <td>&lt;other&gt;</td>\n",
       "    </tr>\n",
       "    <tr>\n",
       "      <th>2</th>\n",
       "      <td>2</td>\n",
       "      <td>https://twitter.com/BlancheMinerva/status/1719...</td>\n",
       "      <td>There are hundreds of researches around the wo...</td>\n",
       "      <td>1719714881081954409</td>\n",
       "      <td>&lt;other&gt;</td>\n",
       "    </tr>\n",
       "    <tr>\n",
       "      <th>3</th>\n",
       "      <td>3</td>\n",
       "      <td>https://twitter.com/sucholutsky/status/1719725...</td>\n",
       "      <td>🧵 Excited to share another new paper with @coc...</td>\n",
       "      <td>1719725087681569189</td>\n",
       "      <td>&lt;announce&gt;</td>\n",
       "    </tr>\n",
       "    <tr>\n",
       "      <th>4</th>\n",
       "      <td>4</td>\n",
       "      <td>https://twitter.com/TBSocialist/status/1719676...</td>\n",
       "      <td>If you went to or watched the network state co...</td>\n",
       "      <td>1719676110785421807</td>\n",
       "      <td>&lt;other&gt;</td>\n",
       "    </tr>\n",
       "    <tr>\n",
       "      <th>5</th>\n",
       "      <td>5</td>\n",
       "      <td>https://twitter.com/DG_Rand/status/17193724593...</td>\n",
       "      <td>🚨New WP🚨\\nHow can more Republicans be convince...</td>\n",
       "      <td>1719372459344888032</td>\n",
       "      <td>&lt;announce&gt;</td>\n",
       "    </tr>\n",
       "    <tr>\n",
       "      <th>6</th>\n",
       "      <td>6</td>\n",
       "      <td>https://twitter.com/yanaiela/status/1719755578...</td>\n",
       "      <td>What's In My Big Data?\\n\\nA question we've bee...</td>\n",
       "      <td>1719755578409619740</td>\n",
       "      <td>&lt;announce&gt;</td>\n",
       "    </tr>\n",
       "    <tr>\n",
       "      <th>7</th>\n",
       "      <td>7</td>\n",
       "      <td>https://twitter.com/bingbrunton/status/1719789...</td>\n",
       "      <td>My department at Univ Washington in Seattle is...</td>\n",
       "      <td>1719789465739333972</td>\n",
       "      <td>&lt;job&gt;</td>\n",
       "    </tr>\n",
       "  </tbody>\n",
       "</table>\n",
       "</div>"
      ],
      "text/plain": [
       "   Unnamed: 0                                                url  \\\n",
       "0           0  https://twitter.com/danwilliamsphil/status/171...   \n",
       "1           1  https://twitter.com/pwang/status/1719720728184...   \n",
       "2           2  https://twitter.com/BlancheMinerva/status/1719...   \n",
       "3           3  https://twitter.com/sucholutsky/status/1719725...   \n",
       "4           4  https://twitter.com/TBSocialist/status/1719676...   \n",
       "5           5  https://twitter.com/DG_Rand/status/17193724593...   \n",
       "6           6  https://twitter.com/yanaiela/status/1719755578...   \n",
       "7           7  https://twitter.com/bingbrunton/status/1719789...   \n",
       "\n",
       "                                          tweet_text              tweetID  \\\n",
       "0  I enjoyed this, although I was already sympath...  1719436704602275858   \n",
       "1  100% with Stella @BlancheMinerva (and @AndrewY...  1719720728184910195   \n",
       "2  There are hundreds of researches around the wo...  1719714881081954409   \n",
       "3  🧵 Excited to share another new paper with @coc...  1719725087681569189   \n",
       "4  If you went to or watched the network state co...  1719676110785421807   \n",
       "5  🚨New WP🚨\\nHow can more Republicans be convince...  1719372459344888032   \n",
       "6  What's In My Big Data?\\n\\nA question we've bee...  1719755578409619740   \n",
       "7  My department at Univ Washington in Seattle is...  1719789465739333972   \n",
       "\n",
       "         gold  \n",
       "0    <review>  \n",
       "1     <other>  \n",
       "2     <other>  \n",
       "3  <announce>  \n",
       "4     <other>  \n",
       "5  <announce>  \n",
       "6  <announce>  \n",
       "7       <job>  "
      ]
     },
     "execution_count": 10,
     "metadata": {},
     "output_type": "execute_result"
    }
   ],
   "source": [
    "df"
   ]
  },
  {
   "cell_type": "markdown",
   "metadata": {},
   "source": [
    "# Run parser on data"
   ]
  },
  {
   "cell_type": "code",
   "execution_count": 11,
   "metadata": {},
   "outputs": [
    {
     "name": "stderr",
     "output_type": "stream",
     "text": [
      "  0%|          | 0/8 [00:00<?, ?it/s]"
     ]
    },
    {
     "name": "stderr",
     "output_type": "stream",
     "text": [
      "100%|██████████| 8/8 [00:43<00:00,  5.48s/it]\n"
     ]
    }
   ],
   "source": [
    "from tqdm import tqdm\n",
    "\n",
    "results = []\n",
    "\n",
    "for i,row in tqdm(df.iterrows(), total=len(df)):\n",
    "    url = row[\"url\"]\n",
    "    result = tweet_parser.process_tweet(url)\n",
    "    results.append(result)"
   ]
  },
  {
   "cell_type": "code",
   "execution_count": 12,
   "metadata": {},
   "outputs": [],
   "source": [
    "\n",
    "processed_results = []\n",
    "\n",
    "for r in results:\n",
    "    res_summary = {\n",
    "                    \"tweetID\": r[\"tweet\"][\"tweetID\"],\n",
    "                    \"tweet_text\": r[\"tweet\"][\"text\"],\n",
    "                    \"answer\": r[\"answer\"][\"final_answer\"],\n",
    "                    \"reasoning\": r[\"answer\"][\"reasoning\"]\n",
    "\n",
    "                   }\n",
    "    processed_results.append(res_summary)\n",
    "    \n",
    "res_df = pd.DataFrame(processed_results)"
   ]
  },
  {
   "cell_type": "code",
   "execution_count": 13,
   "metadata": {},
   "outputs": [],
   "source": [
    "res_df = res_df.astype({\"tweetID\": 'int64'})"
   ]
  },
  {
   "cell_type": "code",
   "execution_count": 14,
   "metadata": {},
   "outputs": [
    {
     "data": {
      "text/plain": [
       "Index(['tweetID', 'tweet_text', 'answer', 'reasoning'], dtype='object')"
      ]
     },
     "execution_count": 14,
     "metadata": {},
     "output_type": "execute_result"
    }
   ],
   "source": [
    "res_df.columns"
   ]
  },
  {
   "cell_type": "code",
   "execution_count": 15,
   "metadata": {},
   "outputs": [
    {
     "data": {
      "text/html": [
       "<div>\n",
       "<style scoped>\n",
       "    .dataframe tbody tr th:only-of-type {\n",
       "        vertical-align: middle;\n",
       "    }\n",
       "\n",
       "    .dataframe tbody tr th {\n",
       "        vertical-align: top;\n",
       "    }\n",
       "\n",
       "    .dataframe thead th {\n",
       "        text-align: right;\n",
       "    }\n",
       "</style>\n",
       "<table border=\"1\" class=\"dataframe\">\n",
       "  <thead>\n",
       "    <tr style=\"text-align: right;\">\n",
       "      <th></th>\n",
       "      <th>tweetID</th>\n",
       "      <th>answer</th>\n",
       "      <th>reasoning</th>\n",
       "    </tr>\n",
       "  </thead>\n",
       "  <tbody>\n",
       "    <tr>\n",
       "      <th>0</th>\n",
       "      <td>1719436704602275858</td>\n",
       "      <td>&lt;review&gt;</td>\n",
       "      <td>1. The post is a review of a reference, as it ...</td>\n",
       "    </tr>\n",
       "    <tr>\n",
       "      <th>1</th>\n",
       "      <td>1719720728184910195</td>\n",
       "      <td>&lt;announce&gt;</td>\n",
       "      <td>1. The post discusses a research-related topic...</td>\n",
       "    </tr>\n",
       "    <tr>\n",
       "      <th>2</th>\n",
       "      <td>1719714881081954409</td>\n",
       "      <td>&lt;announce&gt;</td>\n",
       "      <td>1. The post discusses safety-critical research...</td>\n",
       "    </tr>\n",
       "    <tr>\n",
       "      <th>3</th>\n",
       "      <td>1719725087681569189</td>\n",
       "      <td>&lt;announce&gt;</td>\n",
       "      <td>1. The post contains a new research paper that...</td>\n",
       "    </tr>\n",
       "    <tr>\n",
       "      <th>4</th>\n",
       "      <td>1719676110785421807</td>\n",
       "      <td>&lt;other&gt;</td>\n",
       "      <td>1. The post appears to be a personal opinion o...</td>\n",
       "    </tr>\n",
       "    <tr>\n",
       "      <th>5</th>\n",
       "      <td>1719372459344888032</td>\n",
       "      <td>&lt;announce&gt;</td>\n",
       "      <td>1. The post is about a new study related to cl...</td>\n",
       "    </tr>\n",
       "    <tr>\n",
       "      <th>6</th>\n",
       "      <td>1719755578409619740</td>\n",
       "      <td>&lt;other&gt;</td>\n",
       "      <td>1. The post is asking a question related to bi...</td>\n",
       "    </tr>\n",
       "    <tr>\n",
       "      <th>7</th>\n",
       "      <td>1719789465739333972</td>\n",
       "      <td>&lt;job&gt;</td>\n",
       "      <td>The post is about a job listing and is looking...</td>\n",
       "    </tr>\n",
       "  </tbody>\n",
       "</table>\n",
       "</div>"
      ],
      "text/plain": [
       "               tweetID      answer  \\\n",
       "0  1719436704602275858    <review>   \n",
       "1  1719720728184910195  <announce>   \n",
       "2  1719714881081954409  <announce>   \n",
       "3  1719725087681569189  <announce>   \n",
       "4  1719676110785421807     <other>   \n",
       "5  1719372459344888032  <announce>   \n",
       "6  1719755578409619740     <other>   \n",
       "7  1719789465739333972       <job>   \n",
       "\n",
       "                                           reasoning  \n",
       "0  1. The post is a review of a reference, as it ...  \n",
       "1  1. The post discusses a research-related topic...  \n",
       "2  1. The post discusses safety-critical research...  \n",
       "3  1. The post contains a new research paper that...  \n",
       "4  1. The post appears to be a personal opinion o...  \n",
       "5  1. The post is about a new study related to cl...  \n",
       "6  1. The post is asking a question related to bi...  \n",
       "7  The post is about a job listing and is looking...  "
      ]
     },
     "execution_count": 15,
     "metadata": {},
     "output_type": "execute_result"
    }
   ],
   "source": [
    "res_df[['tweetID', 'answer', 'reasoning']]"
   ]
  },
  {
   "cell_type": "code",
   "execution_count": 16,
   "metadata": {},
   "outputs": [
    {
     "data": {
      "text/html": [
       "<div>\n",
       "<style scoped>\n",
       "    .dataframe tbody tr th:only-of-type {\n",
       "        vertical-align: middle;\n",
       "    }\n",
       "\n",
       "    .dataframe tbody tr th {\n",
       "        vertical-align: top;\n",
       "    }\n",
       "\n",
       "    .dataframe thead th {\n",
       "        text-align: right;\n",
       "    }\n",
       "</style>\n",
       "<table border=\"1\" class=\"dataframe\">\n",
       "  <thead>\n",
       "    <tr style=\"text-align: right;\">\n",
       "      <th></th>\n",
       "      <th>Unnamed: 0</th>\n",
       "      <th>url</th>\n",
       "      <th>tweet_text</th>\n",
       "      <th>tweetID</th>\n",
       "      <th>gold</th>\n",
       "      <th>answer</th>\n",
       "      <th>reasoning</th>\n",
       "    </tr>\n",
       "  </thead>\n",
       "  <tbody>\n",
       "    <tr>\n",
       "      <th>0</th>\n",
       "      <td>0</td>\n",
       "      <td>https://twitter.com/danwilliamsphil/status/171...</td>\n",
       "      <td>I enjoyed this, although I was already sympath...</td>\n",
       "      <td>1719436704602275858</td>\n",
       "      <td>&lt;review&gt;</td>\n",
       "      <td>&lt;review&gt;</td>\n",
       "      <td>1. The post is a review of a reference, as it ...</td>\n",
       "    </tr>\n",
       "    <tr>\n",
       "      <th>1</th>\n",
       "      <td>1</td>\n",
       "      <td>https://twitter.com/pwang/status/1719720728184...</td>\n",
       "      <td>100% with Stella @BlancheMinerva (and @AndrewY...</td>\n",
       "      <td>1719720728184910195</td>\n",
       "      <td>&lt;other&gt;</td>\n",
       "      <td>&lt;announce&gt;</td>\n",
       "      <td>1. The post discusses a research-related topic...</td>\n",
       "    </tr>\n",
       "    <tr>\n",
       "      <th>2</th>\n",
       "      <td>2</td>\n",
       "      <td>https://twitter.com/BlancheMinerva/status/1719...</td>\n",
       "      <td>There are hundreds of researches around the wo...</td>\n",
       "      <td>1719714881081954409</td>\n",
       "      <td>&lt;other&gt;</td>\n",
       "      <td>&lt;announce&gt;</td>\n",
       "      <td>1. The post discusses safety-critical research...</td>\n",
       "    </tr>\n",
       "    <tr>\n",
       "      <th>3</th>\n",
       "      <td>3</td>\n",
       "      <td>https://twitter.com/sucholutsky/status/1719725...</td>\n",
       "      <td>🧵 Excited to share another new paper with @coc...</td>\n",
       "      <td>1719725087681569189</td>\n",
       "      <td>&lt;announce&gt;</td>\n",
       "      <td>&lt;announce&gt;</td>\n",
       "      <td>1. The post contains a new research paper that...</td>\n",
       "    </tr>\n",
       "    <tr>\n",
       "      <th>4</th>\n",
       "      <td>4</td>\n",
       "      <td>https://twitter.com/TBSocialist/status/1719676...</td>\n",
       "      <td>If you went to or watched the network state co...</td>\n",
       "      <td>1719676110785421807</td>\n",
       "      <td>&lt;other&gt;</td>\n",
       "      <td>&lt;other&gt;</td>\n",
       "      <td>1. The post appears to be a personal opinion o...</td>\n",
       "    </tr>\n",
       "    <tr>\n",
       "      <th>5</th>\n",
       "      <td>5</td>\n",
       "      <td>https://twitter.com/DG_Rand/status/17193724593...</td>\n",
       "      <td>🚨New WP🚨\\nHow can more Republicans be convince...</td>\n",
       "      <td>1719372459344888032</td>\n",
       "      <td>&lt;announce&gt;</td>\n",
       "      <td>&lt;announce&gt;</td>\n",
       "      <td>1. The post is about a new study related to cl...</td>\n",
       "    </tr>\n",
       "    <tr>\n",
       "      <th>6</th>\n",
       "      <td>6</td>\n",
       "      <td>https://twitter.com/yanaiela/status/1719755578...</td>\n",
       "      <td>What's In My Big Data?\\n\\nA question we've bee...</td>\n",
       "      <td>1719755578409619740</td>\n",
       "      <td>&lt;announce&gt;</td>\n",
       "      <td>&lt;other&gt;</td>\n",
       "      <td>1. The post is asking a question related to bi...</td>\n",
       "    </tr>\n",
       "    <tr>\n",
       "      <th>7</th>\n",
       "      <td>7</td>\n",
       "      <td>https://twitter.com/bingbrunton/status/1719789...</td>\n",
       "      <td>My department at Univ Washington in Seattle is...</td>\n",
       "      <td>1719789465739333972</td>\n",
       "      <td>&lt;job&gt;</td>\n",
       "      <td>&lt;job&gt;</td>\n",
       "      <td>The post is about a job listing and is looking...</td>\n",
       "    </tr>\n",
       "  </tbody>\n",
       "</table>\n",
       "</div>"
      ],
      "text/plain": [
       "   Unnamed: 0                                                url  \\\n",
       "0           0  https://twitter.com/danwilliamsphil/status/171...   \n",
       "1           1  https://twitter.com/pwang/status/1719720728184...   \n",
       "2           2  https://twitter.com/BlancheMinerva/status/1719...   \n",
       "3           3  https://twitter.com/sucholutsky/status/1719725...   \n",
       "4           4  https://twitter.com/TBSocialist/status/1719676...   \n",
       "5           5  https://twitter.com/DG_Rand/status/17193724593...   \n",
       "6           6  https://twitter.com/yanaiela/status/1719755578...   \n",
       "7           7  https://twitter.com/bingbrunton/status/1719789...   \n",
       "\n",
       "                                          tweet_text              tweetID  \\\n",
       "0  I enjoyed this, although I was already sympath...  1719436704602275858   \n",
       "1  100% with Stella @BlancheMinerva (and @AndrewY...  1719720728184910195   \n",
       "2  There are hundreds of researches around the wo...  1719714881081954409   \n",
       "3  🧵 Excited to share another new paper with @coc...  1719725087681569189   \n",
       "4  If you went to or watched the network state co...  1719676110785421807   \n",
       "5  🚨New WP🚨\\nHow can more Republicans be convince...  1719372459344888032   \n",
       "6  What's In My Big Data?\\n\\nA question we've bee...  1719755578409619740   \n",
       "7  My department at Univ Washington in Seattle is...  1719789465739333972   \n",
       "\n",
       "         gold      answer                                          reasoning  \n",
       "0    <review>    <review>  1. The post is a review of a reference, as it ...  \n",
       "1     <other>  <announce>  1. The post discusses a research-related topic...  \n",
       "2     <other>  <announce>  1. The post discusses safety-critical research...  \n",
       "3  <announce>  <announce>  1. The post contains a new research paper that...  \n",
       "4     <other>     <other>  1. The post appears to be a personal opinion o...  \n",
       "5  <announce>  <announce>  1. The post is about a new study related to cl...  \n",
       "6  <announce>     <other>  1. The post is asking a question related to bi...  \n",
       "7       <job>       <job>  The post is about a job listing and is looking...  "
      ]
     },
     "execution_count": 16,
     "metadata": {},
     "output_type": "execute_result"
    }
   ],
   "source": [
    "merged_df = pd.merge(df, res_df[['tweetID', 'answer', 'reasoning']], on=\"tweetID\")\n",
    "merged_df"
   ]
  },
  {
   "cell_type": "markdown",
   "metadata": {},
   "source": [
    "# Evaluation"
   ]
  },
  {
   "cell_type": "code",
   "execution_count": 17,
   "metadata": {},
   "outputs": [
    {
     "name": "stdout",
     "output_type": "stream",
     "text": [
      "Performance summary: 5/8 = 0.625\n"
     ]
    }
   ],
   "source": [
    "correct = (merged_df.answer == merged_df.gold).sum()\n",
    "total = len(merged_df)\n",
    "acc = correct / total\n",
    "print(f\"Performance summary: {correct}/{total} = {acc}\")"
   ]
  },
  {
   "cell_type": "code",
   "execution_count": 22,
   "metadata": {},
   "outputs": [
    {
     "data": {
      "text/plain": [
       "(array([0.5, 1. , 1. , 0.5]),\n",
       " array([0.66666667, 1.        , 1.        , 0.33333333]),\n",
       " array([0.57142857, 1.        , 1.        , 0.4       ]),\n",
       " array([3, 1, 1, 3]))"
      ]
     },
     "execution_count": 22,
     "metadata": {},
     "output_type": "execute_result"
    }
   ],
   "source": [
    "from sklearn.metrics import precision_recall_fscore_support\n",
    "\n",
    "labels = [\"<announce>\", \"<review>\", \"<job>\" ,\"<other>\"]\n",
    "precision_recall_fscore_support(merged_df.gold, merged_df.answer, labels=labels, average=None)"
   ]
  }
 ],
 "metadata": {
  "kernelspec": {
   "display_name": "twscraping",
   "language": "python",
   "name": "python3"
  },
  "language_info": {
   "codemirror_mode": {
    "name": "ipython",
    "version": 3
   },
   "file_extension": ".py",
   "mimetype": "text/x-python",
   "name": "python",
   "nbconvert_exporter": "python",
   "pygments_lexer": "ipython3",
   "version": "3.11.5"
  }
 },
 "nbformat": 4,
 "nbformat_minor": 2
}
