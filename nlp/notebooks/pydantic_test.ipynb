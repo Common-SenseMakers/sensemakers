{
 "cells": [
  {
   "cell_type": "code",
   "execution_count": 1,
   "metadata": {},
   "outputs": [],
   "source": [
    "# load env with api keys https://stackoverflow.com/a/54028874\n",
    "%load_ext dotenv\n",
    "%dotenv ../etc/config.env\n",
    "\n",
    "import sys\n",
    "sys.path.append(\"../\")\n",
    "\n",
    "from langchain.prompts import ChatPromptTemplate, HumanMessagePromptTemplate\n",
    "from langchain.chat_models import ChatOpenAI\n",
    "\n",
    "from langchain.output_parsers import PydanticOutputParser\n",
    "from pydantic import BaseModel, Field\n",
    "from typing import List\n",
    "\n",
    "from desci_sense.parsers.multi_tag_parser import MultiTagParser\n",
    "from desci_sense.postprocessing.parser_utils import fix_json_string_with_backslashes\n",
    "from desci_sense.configs import init_config"
   ]
  },
  {
   "cell_type": "code",
   "execution_count": 2,
   "metadata": {},
   "outputs": [],
   "source": [
    "config = init_config(model_name=\"mistralai/mixtral-8x7b-instruct\")"
   ]
  },
  {
   "cell_type": "code",
   "execution_count": 3,
   "metadata": {},
   "outputs": [
    {
     "name": "stderr",
     "output_type": "stream",
     "text": [
      "WARNING! headers is not default parameter.\n",
      "                    headers was transferred to model_kwargs.\n",
      "                    Please confirm that headers is what you intended.\n"
     ]
    }
   ],
   "source": [
    "multi_parser = MultiTagParser(config=config)"
   ]
  },
  {
   "cell_type": "code",
   "execution_count": 4,
   "metadata": {},
   "outputs": [
    {
     "name": "stdout",
     "output_type": "stream",
     "text": [
      "is_announce_tag: Set to True if this post contains an announcement of new research. The announcement is likely made by the authors but may be a third party. The research should be a paper, dataset or other type of research output that is being announced publicly. False otherwise.\n",
      "is_read_tag: Set to True if this post describes the reading status of the author in relation to a reference, such as a book or article. False otherwise.\n",
      "is_event_tag: Set to True if this post describes an event, either real-world or an online event. Any kind of event is relevant, some examples of events could be seminars, meetups, or hackathons. False otherwise.\n",
      "is_review_tag: Set to True if this post contains a review of another reference, such as a book, article or movie. The review could be positive or negative. A review can be detailed or a simple short endorsement. False otherwise.\n",
      "is_recommendation_tag: Set to True if this post is recommending any kind of content: an article, a movie, podcast, book, another post, etc. This tag can also be used for cases of implicit recommendation, where the author is expressing enjoyment of some content but not explicitly recommending it. False otherwise.\n",
      "is_listening_tag: Set to True if this post describes the listening status of the author in relation to a reference, such as a podcast or radio station. The author may have listened to the content in the past, is listening to the content in the present, or is looking forward to listening the content in the future. False otherwise.\n",
      "is_job_tag: Set to True if this post describes a job listing, for example a call for graduate students or faculty applications. False otherwise.\n",
      "is_quote_tag: Set to True if this post is quoting text from an article it's referring to. Symbols like '>' or quotation marks are often used to indicate quotations. False otherwise.\n"
     ]
    }
   ],
   "source": [
    "pydantic_obj = multi_parser.pydantic_parser.pydantic_object\n",
    "for k, v in pydantic_obj.__fields__.items():\n",
    "    print(f\"{k}: {v.field_info.description}\")"
   ]
  },
  {
   "cell_type": "code",
   "execution_count": 5,
   "metadata": {},
   "outputs": [],
   "source": [
    "target = \"\"\"My department at Univ Washington in Seattle is searching for a tenure-track assistant prof in \"Quantitative Understanding of Collective Behavior\" @UWBiology\n",
    "\n",
    "See ad for more info about the search vision and to apply; happy to answer questions!\n",
    "\n",
    "https://apply.interfolio.com/130336 https://t.co/ydKZVuAeeY\"\"\""
   ]
  },
  {
   "cell_type": "code",
   "execution_count": 7,
   "metadata": {},
   "outputs": [
    {
     "name": "stdout",
     "output_type": "stream",
     "text": [
      "{\n",
      "\"is_announce_tag\": true,\n",
      "\"is_read_tag\": false,\n",
      "\"is_event_tag\": false,\n",
      "\"is_review_tag\": false,\n",
      "\"is_recommendation_tag\": false,\n",
      "\"is_listening_tag\": false,\n",
      "\"is_job_tag\": true,\n",
      "\"is_quote_tag\": false\n",
      "}\n"
     ]
    }
   ],
   "source": [
    "raw_result = multi_parser.run_raw(target)\n",
    "print(raw_result)"
   ]
  },
  {
   "cell_type": "code",
   "execution_count": 13,
   "metadata": {},
   "outputs": [
    {
     "ename": "ValidationError",
     "evalue": "5 validation errors for PostTagsDataModel\nis_read_tag\n  field required (type=value_error.missing)\nis_review_tag\n  field required (type=value_error.missing)\nis_recommendation_tag\n  field required (type=value_error.missing)\nis_listening_tag\n  field required (type=value_error.missing)\nis_quote_tag\n  field required (type=value_error.missing)",
     "output_type": "error",
     "traceback": [
      "\u001b[0;31m---------------------------------------------------------------------------\u001b[0m",
      "\u001b[0;31mValidationError\u001b[0m                           Traceback (most recent call last)",
      "Cell \u001b[0;32mIn[13], line 2\u001b[0m\n\u001b[1;32m      1\u001b[0m raw_result \u001b[38;5;241m=\u001b[39m multi_parser\u001b[38;5;241m.\u001b[39mrun_raw(target)\n\u001b[0;32m----> 2\u001b[0m parsed \u001b[38;5;241m=\u001b[39m multi_parser\u001b[38;5;241m.\u001b[39mpydantic_parser\u001b[38;5;241m.\u001b[39mparse(raw_result)\n\u001b[1;32m      3\u001b[0m \u001b[38;5;28mprint\u001b[39m(raw_result)\n",
      "File \u001b[0;32m~/anaconda3/envs/twscraping/lib/python3.11/site-packages/langchain/output_parsers/pydantic.py:28\u001b[0m, in \u001b[0;36mPydanticOutputParser.parse\u001b[0;34m(self, text)\u001b[0m\n\u001b[1;32m     26\u001b[0m         json_str \u001b[38;5;241m=\u001b[39m match\u001b[38;5;241m.\u001b[39mgroup()\n\u001b[1;32m     27\u001b[0m     json_object \u001b[38;5;241m=\u001b[39m json\u001b[38;5;241m.\u001b[39mloads(json_str, strict\u001b[38;5;241m=\u001b[39m\u001b[38;5;28;01mFalse\u001b[39;00m)\n\u001b[0;32m---> 28\u001b[0m     \u001b[38;5;28;01mreturn\u001b[39;00m \u001b[38;5;28mself\u001b[39m\u001b[38;5;241m.\u001b[39mpydantic_object\u001b[38;5;241m.\u001b[39mparse_obj(json_object)\n\u001b[1;32m     30\u001b[0m \u001b[38;5;28;01mexcept\u001b[39;00m (json\u001b[38;5;241m.\u001b[39mJSONDecodeError, ValidationError) \u001b[38;5;28;01mas\u001b[39;00m e:\n\u001b[1;32m     31\u001b[0m     name \u001b[38;5;241m=\u001b[39m \u001b[38;5;28mself\u001b[39m\u001b[38;5;241m.\u001b[39mpydantic_object\u001b[38;5;241m.\u001b[39m\u001b[38;5;18m__name__\u001b[39m\n",
      "File \u001b[0;32m~/anaconda3/envs/twscraping/lib/python3.11/site-packages/pydantic/main.py:526\u001b[0m, in \u001b[0;36mpydantic.main.BaseModel.parse_obj\u001b[0;34m()\u001b[0m\n",
      "File \u001b[0;32m~/anaconda3/envs/twscraping/lib/python3.11/site-packages/pydantic/main.py:341\u001b[0m, in \u001b[0;36mpydantic.main.BaseModel.__init__\u001b[0;34m()\u001b[0m\n",
      "\u001b[0;31mValidationError\u001b[0m: 5 validation errors for PostTagsDataModel\nis_read_tag\n  field required (type=value_error.missing)\nis_review_tag\n  field required (type=value_error.missing)\nis_recommendation_tag\n  field required (type=value_error.missing)\nis_listening_tag\n  field required (type=value_error.missing)\nis_quote_tag\n  field required (type=value_error.missing)"
     ]
    }
   ],
   "source": [
    "raw_result = multi_parser.run_raw(target)\n",
    "parsed = multi_parser.pydantic_parser.parse(raw_result)\n",
    "print(raw_result)"
   ]
  },
  {
   "cell_type": "code",
   "execution_count": 14,
   "metadata": {},
   "outputs": [
    {
     "name": "stdout",
     "output_type": "stream",
     "text": [
      "{\n",
      "\"is_announce_tag\": true,\n",
      "\"is_event_tag\": true,\n",
      "\"is_job_tag\": true\n",
      "}\n"
     ]
    }
   ],
   "source": [
    "print(raw_result)"
   ]
  },
  {
   "cell_type": "code",
   "execution_count": 11,
   "metadata": {},
   "outputs": [
    {
     "data": {
      "text/plain": [
       "PostTagsDataModel(is_announce_tag=True, is_read_tag=False, is_event_tag=False, is_review_tag=False, is_recommendation_tag=False, is_listening_tag=False, is_job_tag=True, is_quote_tag=False)"
      ]
     },
     "execution_count": 11,
     "metadata": {},
     "output_type": "execute_result"
    }
   ],
   "source": [
    "parsed"
   ]
  },
  {
   "cell_type": "code",
   "execution_count": 4,
   "metadata": {},
   "outputs": [],
   "source": [
    "target_post = \"\"\"I just did the proofs for our \"Epistemology of Democratic Citizen Science\" paper for J Roy Soc OpenScience.\n",
    "\n",
    "Here is the updated preprint link: https://osf.io/j62sb.\n",
    "\n",
    "Will write a longer thread once the paper is out in print.\"\"\""
   ]
  },
  {
   "cell_type": "code",
   "execution_count": 5,
   "metadata": {},
   "outputs": [
    {
     "data": {
      "text/plain": [
       "PostTagsDataModel(is_announce_tag=True, is_read_tag=False, is_event_tag=False, is_review_tag=False, is_recommendation_tag=False, is_listening_tag=False, is_job_tag=False, is_quote_tag=False)"
      ]
     },
     "execution_count": 5,
     "metadata": {},
     "output_type": "execute_result"
    }
   ],
   "source": [
    "res = multi_parser.process_text(target_post)\n",
    "res"
   ]
  },
  {
   "cell_type": "code",
   "execution_count": 6,
   "metadata": {},
   "outputs": [
    {
     "data": {
      "text/plain": [
       "'announce'"
      ]
     },
     "execution_count": 6,
     "metadata": {},
     "output_type": "execute_result"
    }
   ],
   "source": [
    "res.get_selected_tags_str()"
   ]
  },
  {
   "cell_type": "code",
   "execution_count": 6,
   "metadata": {},
   "outputs": [],
   "source": [
    "target_post_2 = \"\"\"Just read David Deutsch's 1985 paper on the Physical Church-Turing Principle\n",
    "carefully.\n",
    "\n",
    "https://royalsocietypublishing.org/doi/abs/10.1098/rspa.1985.0070\n",
    "\n",
    "I think I'm getting the following gist from the work (even though I can't\n",
    "understand the quantum theory in the paper in detail) ...\n",
    "\n",
    "Maybe someone can correct me if I'm wrong?\"\"\""
   ]
  },
  {
   "cell_type": "code",
   "execution_count": 7,
   "metadata": {},
   "outputs": [
    {
     "data": {
      "text/plain": [
       "PostTagsDataModel(is_announce_tag=False, is_read_tag=True, is_event_tag=False, is_review_tag=False, is_recommendation_tag=False, is_listening_tag=False, is_job_tag=False, is_quote_tag=False)"
      ]
     },
     "execution_count": 7,
     "metadata": {},
     "output_type": "execute_result"
    }
   ],
   "source": [
    "multi_parser.process_text(target_post_2)"
   ]
  },
  {
   "cell_type": "code",
   "execution_count": 8,
   "metadata": {},
   "outputs": [],
   "source": [
    "target_post_3 = \"\"\"How is a high-rank signal deformed by noise?\n",
    "\n",
    "This 1st postdoc work, a close collab with @meldefon, with @SuryaGanguli, pushed me deep into new territory of non-Hermitian random matrix theory, and I think it has some practical results!\n",
    "\n",
    "Let's go!\n",
    "\n",
    "https://arxiv.org/abs/2306.00340\n",
    "\n",
    "1/13\"\"\""
   ]
  },
  {
   "cell_type": "code",
   "execution_count": 9,
   "metadata": {},
   "outputs": [
    {
     "data": {
      "text/plain": [
       "PostTagsDataModel(is_announce_tag=True, is_read_tag=False, is_event_tag=False, is_review_tag=False, is_recommendation_tag=False, is_listening_tag=False, is_job_tag=False, is_quote_tag=False)"
      ]
     },
     "execution_count": 9,
     "metadata": {},
     "output_type": "execute_result"
    }
   ],
   "source": [
    "multi_parser.process_text(target_post_3)"
   ]
  },
  {
   "cell_type": "code",
   "execution_count": 14,
   "metadata": {},
   "outputs": [],
   "source": [
    "target_post_4 = \"\"\"Join my lab as a postdoc in the Cognitive Science of Values! PhDs in psychology, philosophy, cognitive science invited to apply to pursue collaborative research on the role of values in belief formation & revision, decision making, etc, deadline 1/15/24 <link to job listing>\"\"\""
   ]
  },
  {
   "cell_type": "code",
   "execution_count": 16,
   "metadata": {},
   "outputs": [
    {
     "data": {
      "text/plain": [
       "PostTagsDataModel(is_announce_tag=True, is_read_tag=False, is_event_tag=False, is_review_tag=False, is_recommendation_tag=False, is_listening_tag=False, is_job_tag=True, is_quote_tag=False)"
      ]
     },
     "execution_count": 16,
     "metadata": {},
     "output_type": "execute_result"
    }
   ],
   "source": [
    "multi_parser.process_text(target_post_4)"
   ]
  },
  {
   "cell_type": "code",
   "execution_count": 3,
   "metadata": {},
   "outputs": [
    {
     "data": {
      "text/plain": [
       "['announce', 'read', 'event', 'review', 'recommendation']"
      ]
     },
     "execution_count": 3,
     "metadata": {},
     "output_type": "execute_result"
    }
   ],
   "source": [
    "PostTagTypes.tags()"
   ]
  },
  {
   "cell_type": "code",
   "execution_count": null,
   "metadata": {},
   "outputs": [],
   "source": [
    "# https://docs.streamlit.io/library/api-reference/widgets/st.multiselect"
   ]
  },
  {
   "cell_type": "code",
   "execution_count": 4,
   "metadata": {},
   "outputs": [],
   "source": [
    "# Instantiate the parser with the new model.\n",
    "parser = PydanticOutputParser(pydantic_object=PostTagTypes)\n",
    "\n",
    "# Update the prompt to match the new query and desired format.\n",
    "prompt = ChatPromptTemplate(\n",
    "    messages=[\n",
    "        HumanMessagePromptTemplate.from_template(\n",
    "            \"Tag the post as accurately as possible.\\n{format_instructions}\\n{question}\"\n",
    "        )\n",
    "    ],\n",
    "    input_variables=[\"question\"],\n",
    "    partial_variables={\n",
    "        \"format_instructions\": parser.get_format_instructions(),\n",
    "    },\n",
    ")"
   ]
  },
  {
   "cell_type": "code",
   "execution_count": 5,
   "metadata": {},
   "outputs": [
    {
     "data": {
      "text/plain": [
       "'The output should be formatted as a JSON instance that conforms to the JSON schema below.\\n\\nAs an example, for the schema {\"properties\": {\"foo\": {\"title\": \"Foo\", \"description\": \"a list of strings\", \"type\": \"array\", \"items\": {\"type\": \"string\"}}}, \"required\": [\"foo\"]}\\nthe object {\"foo\": [\"bar\", \"baz\"]} is a well-formatted instance of the schema. The object {\"properties\": {\"foo\": [\"bar\", \"baz\"]}} is not well-formatted.\\n\\nHere is the output schema:\\n```\\n{\"properties\": {\"is_announce_tag\": {\"title\": \"Is Announce Tag\", \"description\": \"Set to True if this post contains an announcement of new research. The announcement is likely made by the authors but may be a third party. The research should be a paper, dataset or other type of research output that is being announced publicly. False otherwise.\", \"type\": \"boolean\"}, \"is_read_tag\": {\"title\": \"Is Read Tag\", \"description\": \"Set to True if this post describes the reading status of the author in relation to a reference, such as a book or article. False otherwise.\", \"type\": \"boolean\"}, \"is_event_tag\": {\"title\": \"Is Event Tag\", \"description\": \"Set to True if this post describes an event, either real-world or an online event. Any kind of event is relevant, some examples of events could be seminars, meetups, or hackathons. False otherwise.\", \"type\": \"boolean\"}, \"is_review_tag\": {\"title\": \"Is Review Tag\", \"description\": \"Set to True if this post contains a review of another reference, such as a book, article or movie. The review could be positive or negative. A review can be detailed or a simple short endorsement. False otherwise.\", \"type\": \"boolean\"}, \"is_recommendation_tag\": {\"title\": \"Is Recommendation Tag\", \"description\": \"Set to True if this post is recommending any kind of content: an article, a movie, podcast, book, another post, etc. This tag can also be used for cases of implicit recommendation, where the author is expressing enjoyment of some content but not explicitly recommending it. False otherwise.\", \"type\": \"boolean\"}}, \"required\": [\"is_announce_tag\", \"is_read_tag\", \"is_event_tag\", \"is_review_tag\", \"is_recommendation_tag\"]}\\n```'"
      ]
     },
     "execution_count": 5,
     "metadata": {},
     "output_type": "execute_result"
    }
   ],
   "source": [
    "parser.get_format_instructions()"
   ]
  },
  {
   "cell_type": "code",
   "execution_count": 6,
   "metadata": {},
   "outputs": [],
   "source": [
    "target_post = \"\"\"I just did the proofs for our \"Epistemology of Democratic Citizen Science\" paper for J Roy Soc OpenScience.\n",
    "\n",
    "Here is the updated preprint link: https://osf.io/j62sb.\n",
    "\n",
    "Will write a longer thread once the paper is out in print.\"\"\"\n",
    "# target_post = \"This paper is excellently written and its arguments are quite compelling. I'm very happy to have read it! Highly recommended.\"\n",
    "# Generate the input using the updated prompt.\n",
    "user_query = (\n",
    "    f\"Here is the target post: {target_post}\"\n",
    ")\n",
    "_input = prompt.format_prompt(question=user_query)\n",
    "# print(_input.to_messages())"
   ]
  },
  {
   "cell_type": "code",
   "execution_count": 7,
   "metadata": {},
   "outputs": [
    {
     "name": "stderr",
     "output_type": "stream",
     "text": [
      "WARNING! headers is not default parameter.\n",
      "                    headers was transferred to model_kwargs.\n",
      "                    Please confirm that headers is what you intended.\n"
     ]
    }
   ],
   "source": [
    "\n",
    "\n",
    "\n",
    "config = init_config(model_name=\"mistralai/mixtral-8x7b-instruct\")\n",
    "nano_parser = BaseParser(config=config)\n",
    "chat_model = nano_parser.model\n"
   ]
  },
  {
   "cell_type": "code",
   "execution_count": 8,
   "metadata": {},
   "outputs": [
    {
     "data": {
      "text/plain": [
       "{'model': {'model_name': 'mistralai/mixtral-8x7b-instruct',\n",
       "  'temperature': 0.6},\n",
       " 'prompt': {'template_path': 'desci_sense/prompting/templates/p4.txt'},\n",
       " 'wandb': {'wand_entity': 'common-sense-makers',\n",
       "  'project': 'st-demo',\n",
       "  'wandb_db_name': 'test-DB'}}"
      ]
     },
     "execution_count": 8,
     "metadata": {},
     "output_type": "execute_result"
    }
   ],
   "source": [
    "config"
   ]
  },
  {
   "cell_type": "code",
   "execution_count": 9,
   "metadata": {},
   "outputs": [
    {
     "name": "stdout",
     "output_type": "stream",
     "text": [
      "is_announce_tag=True is_read_tag=False is_event_tag=False is_review_tag=False is_recommendation_tag=False\n"
     ]
    }
   ],
   "source": [
    "output = chat_model(_input.to_messages())\n",
    "fixed_content = fix_json_string_with_backslashes(output.content)\n",
    "parsed = parser.parse(fixed_content)\n",
    "# print(output.content)\n",
    "print(parsed)"
   ]
  },
  {
   "cell_type": "code",
   "execution_count": 10,
   "metadata": {},
   "outputs": [
    {
     "data": {
      "text/plain": [
       "PostTagTypes(is_announce_tag=True, is_read_tag=False, is_event_tag=False, is_review_tag=False, is_recommendation_tag=False)"
      ]
     },
     "execution_count": 10,
     "metadata": {},
     "output_type": "execute_result"
    }
   ],
   "source": [
    "parsed"
   ]
  },
  {
   "cell_type": "code",
   "execution_count": 11,
   "metadata": {},
   "outputs": [
    {
     "data": {
      "text/plain": [
       "{'announce'}"
      ]
     },
     "execution_count": 11,
     "metadata": {},
     "output_type": "execute_result"
    }
   ],
   "source": [
    "parsed.get_selected_tags()"
   ]
  },
  {
   "cell_type": "code",
   "execution_count": 14,
   "metadata": {},
   "outputs": [
    {
     "name": "stderr",
     "output_type": "stream",
     "text": [
      "WARNING! headers is not default parameter.\n",
      "                    headers was transferred to model_kwargs.\n",
      "                    Please confirm that headers is what you intended.\n"
     ]
    },
    {
     "ename": "OutputParserException",
     "evalue": "Failed to parse TwitterUser from completion {\n\"name\": \"Ava Rodriguez\",\n\"handle\": \"avarodriguez\",\n\"age\": 27,\n\"hobbies\": [\"traveling\", \"photography\", \"cooking\", \"reading\"],\n\"email\": \"avarodriguez@email.com\",\n\"bio\": \"A wanderlust-filled, food-loving, bookworm from Spain. Always up for new adventures and exploring different cultures!\",\n\"location\": \"Barcelona, Spain\",\n\"is\\_blue\\_badge\": true,\n\"joined\": \"June 2010\",\n\"gender\": \"Female\",\n\"appearance\": \"Curly brown hair, dark eyes, freckles and a slim build, with a warm smile and a friendly demeanor.\",\n\"avatar\\_prompt\": \"A photorealistic portrait of Ava, captured in a serene beach setting, with a vibrant and colorful background that reflects her adventurous spirit and love for photography.\",\n\"banner\\_prompt\": \"A banner image that showcases Ava's passion for cooking and exploring different cuisines, with a beautiful kitchen setup and colorful ingredients in the background, surrounded by a cozy and inviting atmosphere.\"\n}. Got: Invalid \\escape: line 9 column 4 (char 325)",
     "output_type": "error",
     "traceback": [
      "\u001b[0;31m---------------------------------------------------------------------------\u001b[0m",
      "\u001b[0;31mJSONDecodeError\u001b[0m                           Traceback (most recent call last)",
      "File \u001b[0;32m~/anaconda3/envs/twscraping/lib/python3.11/site-packages/langchain/output_parsers/pydantic.py:27\u001b[0m, in \u001b[0;36mPydanticOutputParser.parse\u001b[0;34m(self, text)\u001b[0m\n\u001b[1;32m     26\u001b[0m     json_str \u001b[38;5;241m=\u001b[39m match\u001b[38;5;241m.\u001b[39mgroup()\n\u001b[0;32m---> 27\u001b[0m json_object \u001b[38;5;241m=\u001b[39m json\u001b[38;5;241m.\u001b[39mloads(json_str, strict\u001b[38;5;241m=\u001b[39m\u001b[38;5;28;01mFalse\u001b[39;00m)\n\u001b[1;32m     28\u001b[0m \u001b[38;5;28;01mreturn\u001b[39;00m \u001b[38;5;28mself\u001b[39m\u001b[38;5;241m.\u001b[39mpydantic_object\u001b[38;5;241m.\u001b[39mparse_obj(json_object)\n",
      "File \u001b[0;32m~/anaconda3/envs/twscraping/lib/python3.11/json/__init__.py:359\u001b[0m, in \u001b[0;36mloads\u001b[0;34m(s, cls, object_hook, parse_float, parse_int, parse_constant, object_pairs_hook, **kw)\u001b[0m\n\u001b[1;32m    358\u001b[0m     kw[\u001b[38;5;124m'\u001b[39m\u001b[38;5;124mparse_constant\u001b[39m\u001b[38;5;124m'\u001b[39m] \u001b[38;5;241m=\u001b[39m parse_constant\n\u001b[0;32m--> 359\u001b[0m \u001b[38;5;28;01mreturn\u001b[39;00m \u001b[38;5;28mcls\u001b[39m(\u001b[38;5;241m*\u001b[39m\u001b[38;5;241m*\u001b[39mkw)\u001b[38;5;241m.\u001b[39mdecode(s)\n",
      "File \u001b[0;32m~/anaconda3/envs/twscraping/lib/python3.11/json/decoder.py:337\u001b[0m, in \u001b[0;36mJSONDecoder.decode\u001b[0;34m(self, s, _w)\u001b[0m\n\u001b[1;32m    333\u001b[0m \u001b[38;5;250m\u001b[39m\u001b[38;5;124;03m\"\"\"Return the Python representation of ``s`` (a ``str`` instance\u001b[39;00m\n\u001b[1;32m    334\u001b[0m \u001b[38;5;124;03mcontaining a JSON document).\u001b[39;00m\n\u001b[1;32m    335\u001b[0m \n\u001b[1;32m    336\u001b[0m \u001b[38;5;124;03m\"\"\"\u001b[39;00m\n\u001b[0;32m--> 337\u001b[0m obj, end \u001b[38;5;241m=\u001b[39m \u001b[38;5;28mself\u001b[39m\u001b[38;5;241m.\u001b[39mraw_decode(s, idx\u001b[38;5;241m=\u001b[39m_w(s, \u001b[38;5;241m0\u001b[39m)\u001b[38;5;241m.\u001b[39mend())\n\u001b[1;32m    338\u001b[0m end \u001b[38;5;241m=\u001b[39m _w(s, end)\u001b[38;5;241m.\u001b[39mend()\n",
      "File \u001b[0;32m~/anaconda3/envs/twscraping/lib/python3.11/json/decoder.py:353\u001b[0m, in \u001b[0;36mJSONDecoder.raw_decode\u001b[0;34m(self, s, idx)\u001b[0m\n\u001b[1;32m    352\u001b[0m \u001b[38;5;28;01mtry\u001b[39;00m:\n\u001b[0;32m--> 353\u001b[0m     obj, end \u001b[38;5;241m=\u001b[39m \u001b[38;5;28mself\u001b[39m\u001b[38;5;241m.\u001b[39mscan_once(s, idx)\n\u001b[1;32m    354\u001b[0m \u001b[38;5;28;01mexcept\u001b[39;00m \u001b[38;5;167;01mStopIteration\u001b[39;00m \u001b[38;5;28;01mas\u001b[39;00m err:\n",
      "\u001b[0;31mJSONDecodeError\u001b[0m: Invalid \\escape: line 9 column 4 (char 325)",
      "\nDuring handling of the above exception, another exception occurred:\n",
      "\u001b[0;31mOutputParserException\u001b[0m                     Traceback (most recent call last)",
      "Cell \u001b[0;32mIn[14], line 5\u001b[0m\n\u001b[1;32m      4\u001b[0m \u001b[38;5;28;01mtry\u001b[39;00m:\n\u001b[0;32m----> 5\u001b[0m     parsed \u001b[38;5;241m=\u001b[39m parser\u001b[38;5;241m.\u001b[39mparse(output\u001b[38;5;241m.\u001b[39mcontent)\n\u001b[1;32m      6\u001b[0m \u001b[38;5;28;01mexcept\u001b[39;00m OutputParserException \u001b[38;5;28;01mas\u001b[39;00m e:\n",
      "File \u001b[0;32m~/anaconda3/envs/twscraping/lib/python3.11/site-packages/langchain/output_parsers/pydantic.py:33\u001b[0m, in \u001b[0;36mPydanticOutputParser.parse\u001b[0;34m(self, text)\u001b[0m\n\u001b[1;32m     32\u001b[0m msg \u001b[38;5;241m=\u001b[39m \u001b[38;5;124mf\u001b[39m\u001b[38;5;124m\"\u001b[39m\u001b[38;5;124mFailed to parse \u001b[39m\u001b[38;5;132;01m{\u001b[39;00mname\u001b[38;5;132;01m}\u001b[39;00m\u001b[38;5;124m from completion \u001b[39m\u001b[38;5;132;01m{\u001b[39;00mtext\u001b[38;5;132;01m}\u001b[39;00m\u001b[38;5;124m. Got: \u001b[39m\u001b[38;5;132;01m{\u001b[39;00me\u001b[38;5;132;01m}\u001b[39;00m\u001b[38;5;124m\"\u001b[39m\n\u001b[0;32m---> 33\u001b[0m \u001b[38;5;28;01mraise\u001b[39;00m OutputParserException(msg, llm_output\u001b[38;5;241m=\u001b[39mtext)\n",
      "\u001b[0;31mOutputParserException\u001b[0m: Failed to parse TwitterUser from completion {\n\"name\": \"Ava Rodriguez\",\n\"handle\": \"avarodriguez\",\n\"age\": 27,\n\"hobbies\": [\"traveling\", \"photography\", \"cooking\", \"reading\"],\n\"email\": \"avarodriguez@email.com\",\n\"bio\": \"A wanderlust-filled, food-loving, bookworm from Spain. Always up for new adventures and exploring different cultures!\",\n\"location\": \"Barcelona, Spain\",\n\"is\\_blue\\_badge\": true,\n\"joined\": \"June 2010\",\n\"gender\": \"Female\",\n\"appearance\": \"Curly brown hair, dark eyes, freckles and a slim build, with a warm smile and a friendly demeanor.\",\n\"avatar\\_prompt\": \"A photorealistic portrait of Ava, captured in a serene beach setting, with a vibrant and colorful background that reflects her adventurous spirit and love for photography.\",\n\"banner\\_prompt\": \"A banner image that showcases Ava's passion for cooking and exploring different cuisines, with a beautiful kitchen setup and colorful ingredients in the background, surrounded by a cozy and inviting atmosphere.\"\n}. Got: Invalid \\escape: line 9 column 4 (char 325)",
      "\nDuring handling of the above exception, another exception occurred:\n",
      "\u001b[0;31mJSONDecodeError\u001b[0m                           Traceback (most recent call last)",
      "File \u001b[0;32m~/anaconda3/envs/twscraping/lib/python3.11/site-packages/langchain/output_parsers/pydantic.py:27\u001b[0m, in \u001b[0;36mPydanticOutputParser.parse\u001b[0;34m(self, text)\u001b[0m\n\u001b[1;32m     26\u001b[0m     json_str \u001b[38;5;241m=\u001b[39m match\u001b[38;5;241m.\u001b[39mgroup()\n\u001b[0;32m---> 27\u001b[0m json_object \u001b[38;5;241m=\u001b[39m json\u001b[38;5;241m.\u001b[39mloads(json_str, strict\u001b[38;5;241m=\u001b[39m\u001b[38;5;28;01mFalse\u001b[39;00m)\n\u001b[1;32m     28\u001b[0m \u001b[38;5;28;01mreturn\u001b[39;00m \u001b[38;5;28mself\u001b[39m\u001b[38;5;241m.\u001b[39mpydantic_object\u001b[38;5;241m.\u001b[39mparse_obj(json_object)\n",
      "File \u001b[0;32m~/anaconda3/envs/twscraping/lib/python3.11/json/__init__.py:359\u001b[0m, in \u001b[0;36mloads\u001b[0;34m(s, cls, object_hook, parse_float, parse_int, parse_constant, object_pairs_hook, **kw)\u001b[0m\n\u001b[1;32m    358\u001b[0m     kw[\u001b[38;5;124m'\u001b[39m\u001b[38;5;124mparse_constant\u001b[39m\u001b[38;5;124m'\u001b[39m] \u001b[38;5;241m=\u001b[39m parse_constant\n\u001b[0;32m--> 359\u001b[0m \u001b[38;5;28;01mreturn\u001b[39;00m \u001b[38;5;28mcls\u001b[39m(\u001b[38;5;241m*\u001b[39m\u001b[38;5;241m*\u001b[39mkw)\u001b[38;5;241m.\u001b[39mdecode(s)\n",
      "File \u001b[0;32m~/anaconda3/envs/twscraping/lib/python3.11/json/decoder.py:337\u001b[0m, in \u001b[0;36mJSONDecoder.decode\u001b[0;34m(self, s, _w)\u001b[0m\n\u001b[1;32m    333\u001b[0m \u001b[38;5;250m\u001b[39m\u001b[38;5;124;03m\"\"\"Return the Python representation of ``s`` (a ``str`` instance\u001b[39;00m\n\u001b[1;32m    334\u001b[0m \u001b[38;5;124;03mcontaining a JSON document).\u001b[39;00m\n\u001b[1;32m    335\u001b[0m \n\u001b[1;32m    336\u001b[0m \u001b[38;5;124;03m\"\"\"\u001b[39;00m\n\u001b[0;32m--> 337\u001b[0m obj, end \u001b[38;5;241m=\u001b[39m \u001b[38;5;28mself\u001b[39m\u001b[38;5;241m.\u001b[39mraw_decode(s, idx\u001b[38;5;241m=\u001b[39m_w(s, \u001b[38;5;241m0\u001b[39m)\u001b[38;5;241m.\u001b[39mend())\n\u001b[1;32m    338\u001b[0m end \u001b[38;5;241m=\u001b[39m _w(s, end)\u001b[38;5;241m.\u001b[39mend()\n",
      "File \u001b[0;32m~/anaconda3/envs/twscraping/lib/python3.11/json/decoder.py:353\u001b[0m, in \u001b[0;36mJSONDecoder.raw_decode\u001b[0;34m(self, s, idx)\u001b[0m\n\u001b[1;32m    352\u001b[0m \u001b[38;5;28;01mtry\u001b[39;00m:\n\u001b[0;32m--> 353\u001b[0m     obj, end \u001b[38;5;241m=\u001b[39m \u001b[38;5;28mself\u001b[39m\u001b[38;5;241m.\u001b[39mscan_once(s, idx)\n\u001b[1;32m    354\u001b[0m \u001b[38;5;28;01mexcept\u001b[39;00m \u001b[38;5;167;01mStopIteration\u001b[39;00m \u001b[38;5;28;01mas\u001b[39;00m err:\n",
      "\u001b[0;31mJSONDecodeError\u001b[0m: Invalid \\escape: line 9 column 4 (char 325)",
      "\nDuring handling of the above exception, another exception occurred:\n",
      "\u001b[0;31mOutputParserException\u001b[0m                     Traceback (most recent call last)",
      "Cell \u001b[0;32mIn[14], line 12\u001b[0m\n\u001b[1;32m      7\u001b[0m new_nano_parser \u001b[38;5;241m=\u001b[39m BaseParser(config\u001b[38;5;241m=\u001b[39mconfig)\n\u001b[1;32m      8\u001b[0m new_parser \u001b[38;5;241m=\u001b[39m OutputFixingParser\u001b[38;5;241m.\u001b[39mfrom_llm(\n\u001b[1;32m      9\u001b[0m     parser\u001b[38;5;241m=\u001b[39mparser,\n\u001b[1;32m     10\u001b[0m     llm\u001b[38;5;241m=\u001b[39mnew_nano_parser\u001b[38;5;241m.\u001b[39mmodel\n\u001b[1;32m     11\u001b[0m )\n\u001b[0;32m---> 12\u001b[0m parsed \u001b[38;5;241m=\u001b[39m new_parser\u001b[38;5;241m.\u001b[39mparse(output\u001b[38;5;241m.\u001b[39mcontent)\n",
      "File \u001b[0;32m~/anaconda3/envs/twscraping/lib/python3.11/site-packages/langchain/output_parsers/fix.py:59\u001b[0m, in \u001b[0;36mOutputFixingParser.parse\u001b[0;34m(self, completion)\u001b[0m\n\u001b[1;32m     57\u001b[0m \u001b[38;5;28;01mexcept\u001b[39;00m OutputParserException \u001b[38;5;28;01mas\u001b[39;00m e:\n\u001b[1;32m     58\u001b[0m     \u001b[38;5;28;01mif\u001b[39;00m retries \u001b[38;5;241m==\u001b[39m \u001b[38;5;28mself\u001b[39m\u001b[38;5;241m.\u001b[39mmax_retries:\n\u001b[0;32m---> 59\u001b[0m         \u001b[38;5;28;01mraise\u001b[39;00m e\n\u001b[1;32m     60\u001b[0m     \u001b[38;5;28;01melse\u001b[39;00m:\n\u001b[1;32m     61\u001b[0m         retries \u001b[38;5;241m+\u001b[39m\u001b[38;5;241m=\u001b[39m \u001b[38;5;241m1\u001b[39m\n",
      "File \u001b[0;32m~/anaconda3/envs/twscraping/lib/python3.11/site-packages/langchain/output_parsers/fix.py:56\u001b[0m, in \u001b[0;36mOutputFixingParser.parse\u001b[0;34m(self, completion)\u001b[0m\n\u001b[1;32m     54\u001b[0m \u001b[38;5;28;01mwhile\u001b[39;00m retries \u001b[38;5;241m<\u001b[39m\u001b[38;5;241m=\u001b[39m \u001b[38;5;28mself\u001b[39m\u001b[38;5;241m.\u001b[39mmax_retries:\n\u001b[1;32m     55\u001b[0m     \u001b[38;5;28;01mtry\u001b[39;00m:\n\u001b[0;32m---> 56\u001b[0m         \u001b[38;5;28;01mreturn\u001b[39;00m \u001b[38;5;28mself\u001b[39m\u001b[38;5;241m.\u001b[39mparser\u001b[38;5;241m.\u001b[39mparse(completion)\n\u001b[1;32m     57\u001b[0m     \u001b[38;5;28;01mexcept\u001b[39;00m OutputParserException \u001b[38;5;28;01mas\u001b[39;00m e:\n\u001b[1;32m     58\u001b[0m         \u001b[38;5;28;01mif\u001b[39;00m retries \u001b[38;5;241m==\u001b[39m \u001b[38;5;28mself\u001b[39m\u001b[38;5;241m.\u001b[39mmax_retries:\n",
      "File \u001b[0;32m~/anaconda3/envs/twscraping/lib/python3.11/site-packages/langchain/output_parsers/pydantic.py:33\u001b[0m, in \u001b[0;36mPydanticOutputParser.parse\u001b[0;34m(self, text)\u001b[0m\n\u001b[1;32m     31\u001b[0m name \u001b[38;5;241m=\u001b[39m \u001b[38;5;28mself\u001b[39m\u001b[38;5;241m.\u001b[39mpydantic_object\u001b[38;5;241m.\u001b[39m\u001b[38;5;18m__name__\u001b[39m\n\u001b[1;32m     32\u001b[0m msg \u001b[38;5;241m=\u001b[39m \u001b[38;5;124mf\u001b[39m\u001b[38;5;124m\"\u001b[39m\u001b[38;5;124mFailed to parse \u001b[39m\u001b[38;5;132;01m{\u001b[39;00mname\u001b[38;5;132;01m}\u001b[39;00m\u001b[38;5;124m from completion \u001b[39m\u001b[38;5;132;01m{\u001b[39;00mtext\u001b[38;5;132;01m}\u001b[39;00m\u001b[38;5;124m. Got: \u001b[39m\u001b[38;5;132;01m{\u001b[39;00me\u001b[38;5;132;01m}\u001b[39;00m\u001b[38;5;124m\"\u001b[39m\n\u001b[0;32m---> 33\u001b[0m \u001b[38;5;28;01mraise\u001b[39;00m OutputParserException(msg, llm_output\u001b[38;5;241m=\u001b[39mtext)\n",
      "\u001b[0;31mOutputParserException\u001b[0m: Failed to parse TwitterUser from completion {\n\"name\": \"Ava Rodriguez\",\n\"handle\": \"avarodriguez\",\n\"age\": 27,\n\"hobbies\": [\"traveling\", \"photography\", \"cooking\", \"reading\"],\n\"email\": \"avarodriguez@email.com\",\n\"bio\": \"A wanderlust-filled, food-loving, bookworm from Spain. Always up for new adventures and exploring different cultures!\",\n\"location\": \"Barcelona, Spain\",\n\"is\\_blue\\_badge\": true,\n\"joined\": \"June 2010\",\n\"gender\": \"Female\",\n\"appearance\": \"Curly brown hair, dark eyes, freckles and a slim build, with a warm smile and a friendly demeanor.\",\n\"avatar\\_prompt\": \"A photorealistic portrait of Ava, captured in a serene beach setting, with a vibrant and colorful background that reflects her adventurous spirit and love for photography.\",\n\"banner\\_prompt\": \"A banner image that showcases Ava's passion for cooking and exploring different cuisines, with a beautiful kitchen setup and colorful ingredients in the background, surrounded by a cozy and inviting atmosphere.\"\n}. Got: Invalid \\escape: line 9 column 4 (char 325)"
     ]
    }
   ],
   "source": [
    "from langchain.output_parsers import OutputFixingParser\n",
    "from langchain.schema import OutputParserException\n",
    "\n",
    "try:\n",
    "    parsed = parser.parse(output.content)\n",
    "except OutputParserException as e:\n",
    "    new_nano_parser = BaseParser(config=config)\n",
    "    new_parser = OutputFixingParser.from_llm(\n",
    "        parser=parser,\n",
    "        llm=new_nano_parser.model\n",
    "    )\n",
    "    parsed = new_parser.parse(output.content)"
   ]
  },
  {
   "cell_type": "code",
   "execution_count": 8,
   "metadata": {},
   "outputs": [],
   "source": [
    "cc = {'post':\"\", 'answer': {'text': 'I just did the proofs for our \"Epistemology of Democratic Citizen Science\"\\npaper for J Roy Soc OpenScience.\\n\\nHere is the updated preprint link: https://osf.io/j62sb.\\n\\nWill write a longer thread once the paper is out in print.', 'answer': {'final_answer': 'announce', 'reasoning': ''}}}\n"
   ]
  }
 ],
 "metadata": {
  "kernelspec": {
   "display_name": "twscraping",
   "language": "python",
   "name": "python3"
  },
  "language_info": {
   "codemirror_mode": {
    "name": "ipython",
    "version": 3
   },
   "file_extension": ".py",
   "mimetype": "text/x-python",
   "name": "python",
   "nbconvert_exporter": "python",
   "pygments_lexer": "ipython3",
   "version": "3.11.5"
  }
 },
 "nbformat": 4,
 "nbformat_minor": 2
}
