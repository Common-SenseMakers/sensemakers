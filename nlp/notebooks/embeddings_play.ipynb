{
 "cells": [
  {
   "cell_type": "code",
   "execution_count": 1,
   "metadata": {},
   "outputs": [
    {
     "data": {
      "text/plain": [
       "True"
      ]
     },
     "execution_count": 1,
     "metadata": {},
     "output_type": "execute_result"
    }
   ],
   "source": [
    "import firebase_admin\n",
    "from firebase_admin import credentials, firestore\n",
    "import openai\n",
    "import numpy as np\n",
    "from scipy.spatial.distance import cosine\n",
    "import os\n",
    "from dotenv import load_dotenv\n",
    "load_dotenv()"
   ]
  },
  {
   "cell_type": "code",
   "execution_count": null,
   "metadata": {},
   "outputs": [],
   "source": []
  },
  {
   "cell_type": "code",
   "execution_count": 2,
   "metadata": {},
   "outputs": [],
   "source": [
    "# OpenAI API Key\n",
    "\n",
    "openai.api_key = os.getenv(\"OPENAI_KEY\")\n"
   ]
  },
  {
   "cell_type": "code",
   "execution_count": 90,
   "metadata": {},
   "outputs": [],
   "source": [
    "def get_embedding(text, model=\"text-embedding-3-small\"):\n",
    "    \"\"\"Generate embedding for given text using the updated OpenAI API.\"\"\"\n",
    "    if not text or not isinstance(text, str):\n",
    "        raise ValueError(\"Input text must be a non-empty string.\")\n",
    "    response = openai.embeddings.create(input=[text], model=model)\n",
    "    return response.data[0].embedding"
   ]
  },
  {
   "attachments": {},
   "cell_type": "markdown",
   "metadata": {},
   "source": [
    "# Research filter stuff"
   ]
  },
  {
   "cell_type": "code",
   "execution_count": 112,
   "metadata": {},
   "outputs": [],
   "source": [
    "RESEARCH_ANCHORS = [\n",
    "    \"This text is about some form of research, study, or academic investigation.\",\n",
    "    \"We are discussing data collection, experiments, or analysis for a study.\",\n",
    "    \"This post references scientific or scholarly work, like a paper, article, or peer-reviewed research.\",\n",
    "    \"We plan to investigate a hypothesis, gather data, or analyze results for academic or scientific purposes.\",\n",
    "    \"This text is an inquiry into or exploration of topics such as cognition, social media, philosophy, physics, social sciences, biology, web3, or mathematics.\",\n",
    "    \"This text mentions publishing findings, writing a paper, or conducting an experiment.\",\n",
    "    \"This content involves scholarly sources, references, or frameworks often used in academia.\",\n",
    "    \"A person is doing a project or study to learn something new, test a theory, or gather evidence.\",\n",
    "    \"This post indicates researching a topic, exploring data, or studying a phenomenon in a systematic way.\"\n",
    "]"
   ]
  },
  {
   "cell_type": "code",
   "execution_count": 110,
   "metadata": {},
   "outputs": [],
   "source": [
    "def compute_research_similarities(post_text, anchor_embeddings):\n",
    "    \"\"\"\n",
    "    Given a post and a list of precomputed anchor embeddings,\n",
    "    return the maximum and average similarity scores.\n",
    "    \"\"\"\n",
    "    post_embedding = get_embedding(post_text)\n",
    "    \n",
    "    similarities = []\n",
    "    for anchor_emb in anchor_embeddings:\n",
    "        sim = 1 - cosine(post_embedding, anchor_emb)\n",
    "        similarities.append(sim)\n",
    "    \n",
    "    max_sim = max(similarities)\n",
    "    avg_sim = np.mean(similarities)\n",
    "    return max_sim, avg_sim"
   ]
  },
  {
   "cell_type": "code",
   "execution_count": 113,
   "metadata": {},
   "outputs": [],
   "source": [
    "RESEARCH_ANCHORS_EMBEDDINGS = [get_embedding(anchor) for anchor in RESEARCH_ANCHORS]\n"
   ]
  },
  {
   "cell_type": "code",
   "execution_count": 114,
   "metadata": {},
   "outputs": [
    {
     "name": "stdout",
     "output_type": "stream",
     "text": [
      "Post #1: Social media is the source of brain rot, and I'd like to investigate how it affects cognition.\n",
      "Max similarity: 0.47694739016820775\n",
      "Average similarity: 0.2864055067911029\n",
      "--------\n",
      "Post #2: I love cats and want to share cute pictures of them.\n",
      "Max similarity: 0.12346057104249197\n",
      "Average similarity: 0.10074181780566627\n"
     ]
    }
   ],
   "source": [
    "post1 = \"Social media is the source of brain rot, and I'd like to investigate how it affects cognition.\"\n",
    "post2 = \"I love cats and want to share cute pictures of them.\"\n",
    "\n",
    "# Post 1\n",
    "max_sim_1, avg_sim_1 = compute_research_similarities(post1, RESEARCH_ANCHORS_EMBEDDINGS)\n",
    "print(\"Post #1:\", post1)\n",
    "print(\"Max similarity:\", max_sim_1)\n",
    "print(\"Average similarity:\", avg_sim_1)\n",
    "print(\"--------\")\n",
    "\n",
    "# Post 2\n",
    "max_sim_2, avg_sim_2 = compute_research_similarities(post2, RESEARCH_ANCHORS_EMBEDDINGS)\n",
    "print(\"Post #2:\", post2)\n",
    "print(\"Max similarity:\", max_sim_2)\n",
    "print(\"Average similarity:\", avg_sim_2)"
   ]
  },
  {
   "attachments": {},
   "cell_type": "markdown",
   "metadata": {},
   "source": [
    "# Re-post parsing"
   ]
  },
  {
   "cell_type": "code",
   "execution_count": 87,
   "metadata": {},
   "outputs": [],
   "source": [
    "post = \"\"\"\n",
    "EthDenver is coming! I'm going 2025\n",
    "\"\"\"\n",
    "\n",
    "event = \"\"\"\n",
    "I am going to an event, conference, seminar, festival, you should come  \n",
    "\"\"\""
   ]
  },
  {
   "cell_type": "code",
   "execution_count": 88,
   "metadata": {},
   "outputs": [],
   "source": [
    "embedding1 = get_embedding(post).data[0].embedding\n"
   ]
  },
  {
   "cell_type": "code",
   "execution_count": 82,
   "metadata": {},
   "outputs": [],
   "source": [
    "embedding2 = get_embedding(event).data[0].embedding"
   ]
  },
  {
   "cell_type": "code",
   "execution_count": 89,
   "metadata": {},
   "outputs": [
    {
     "name": "stdout",
     "output_type": "stream",
     "text": [
      "0.38469917527814435\n"
     ]
    }
   ],
   "source": [
    "similarity = 1 - cosine(embedding1, embedding2)\n",
    "print(similarity)"
   ]
  },
  {
   "attachments": {},
   "cell_type": "markdown",
   "metadata": {},
   "source": [
    "# Anchors "
   ]
  },
  {
   "cell_type": "code",
   "execution_count": 92,
   "metadata": {},
   "outputs": [],
   "source": [
    "def compute_max_and_average_similarity(post_text, anchor_embeddings):\n",
    "    \"\"\"\n",
    "    Given a post and a list of precomputed anchor embeddings,\n",
    "    return the maximum and average similarity scores.\n",
    "    \"\"\"\n",
    "    post_embedding = get_embedding(post_text)\n",
    "    \n",
    "    # Compute cosine similarity for each anchor\n",
    "    similarities = []\n",
    "    for anchor_emb in anchor_embeddings:\n",
    "        sim = 1 - cosine(post_embedding, anchor_emb)\n",
    "        similarities.append(sim)\n",
    "    \n",
    "    max_sim = max(similarities)\n",
    "    avg_sim = np.mean(similarities)\n",
    "    return max_sim, avg_sim\n"
   ]
  },
  {
   "cell_type": "code",
   "execution_count": 95,
   "metadata": {},
   "outputs": [],
   "source": [
    "#Define multiple anchors for \"event-like\" text\n",
    "EVENT_ANCHORS = [\n",
    "    \"This post is about an event (conference, seminar, festival, or workshop).\",\n",
    "    \"Join us for an upcoming event, meetup, or conference on a specific date or time.\",\n",
    "    \"We are hosting a hackathon, convention, or festival and inviting people to attend.\",\n",
    "    \"Save the date for our upcoming conference, summit, or gathering.\",\n",
    "    \"Don’t miss our upcoming event like a seminar, fair, or workshop with start and end dates.\",\n",
    "    \"This post announces or invites people to a event with a name.\",\n",
    "    \"This text talks about an event, with words like registration, tickets, sign up, or schedule.\",\n",
    "    \"This post contains references to meetups, hackathons, seminars, or workshops (often with dates, locations, or RSVP links).\",\n",
    "]\n"
   ]
  },
  {
   "cell_type": "code",
   "execution_count": 96,
   "metadata": {},
   "outputs": [],
   "source": [
    "# Pre-compute the event anchors' embeddings (only once)\n",
    "EVENT_ANCHORS_EMBEDDINGS = [get_embedding(anchor) for anchor in EVENT_ANCHORS]\n"
   ]
  },
  {
   "cell_type": "code",
   "execution_count": 106,
   "metadata": {},
   "outputs": [
    {
     "name": "stdout",
     "output_type": "stream",
     "text": [
      "Post: AGI is not happening\n",
      "Max similarity with event anchors: 0.17634680904730404\n",
      "Average similarity with event anchors: 0.1437441768450703\n"
     ]
    }
   ],
   "source": [
    "post = \"AGI is not happening\"\n",
    "\n",
    "max_similarity, avg_similarity = compute_max_and_average_similarity(post, EVENT_ANCHORS_EMBEDDINGS)\n",
    "\n",
    "print(\"Post:\", post)\n",
    "print(\"Max similarity with event anchors:\", max_similarity)\n",
    "print(\"Average similarity with event anchors:\", avg_similarity)"
   ]
  }
 ],
 "metadata": {
  "kernelspec": {
   "display_name": "Python 3",
   "language": "python",
   "name": "python3"
  },
  "language_info": {
   "codemirror_mode": {
    "name": "ipython",
    "version": 3
   },
   "file_extension": ".py",
   "mimetype": "text/x-python",
   "name": "python",
   "nbconvert_exporter": "python",
   "pygments_lexer": "ipython3",
   "version": "3.11.2"
  },
  "orig_nbformat": 4,
  "vscode": {
   "interpreter": {
    "hash": "aee8b7b246df8f9039afb4144a1f6fd8d2ca17a180786b69acc140d282b71a49"
   }
  }
 },
 "nbformat": 4,
 "nbformat_minor": 2
}
