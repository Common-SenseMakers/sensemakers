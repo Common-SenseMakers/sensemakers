{
 "cells": [
  {
   "cell_type": "code",
   "execution_count": 1,
   "metadata": {},
   "outputs": [],
   "source": [
    "\n",
    "import sys\n",
    "sys.path.append(\"../\")\n",
    "\n",
    "from desci_sense.twitter import scrape_tweet, extract_external_ref_urls\n",
    "from desci_sense.utils import extract_and_expand_urls, extract_urls\n",
    "\n",
    "from desci_sense.postprocessing.output_parsers import TagTypeParser"
   ]
  },
  {
   "cell_type": "code",
   "execution_count": 2,
   "metadata": {},
   "outputs": [],
   "source": [
    "TEST_TWEET_W_REF = \"https://twitter.com/victorveitch/status/1722300572554969090\"\n",
    "TEST_TWEET_W_REF_2 = \"https://twitter.com/maksym_andr/status/1722235666724192688\"\n",
    "TEST_TWEET_WO_REF_1 = \"https://twitter.com/mpshanahan/status/1722283975450722407\"\n",
    "test_url_w_img = \"https://twitter.com/HarvardPSC/status/1722102271792603452\"\n",
    "TEST_TWEET_REF_TWITTER_EXT = \"https://twitter.com/cognazor/status/1722598121887117753\""
   ]
  },
  {
   "cell_type": "code",
   "execution_count": 3,
   "metadata": {},
   "outputs": [],
   "source": [
    "TEST_CASES = [\n",
    "\n",
    "    (\"https://twitter.com/victorveitch/status/1722300572554969090\", True),\n",
    "    (\"https://twitter.com/maksym_andr/status/1722235666724192688\", True),\n",
    "    (\"https://twitter.com/mpshanahan/status/1722283975450722407\", False),\n",
    "    (\"https://twitter.com/victorveitch/status/1722303746397409698\", False),\n",
    "    (\"https://twitter.com/HarvardPSC/status/1722102271792603452\", False),\n",
    "    (\"https://twitter.com/cognazor/status/1722598121887117753\", True)\n",
    "]"
   ]
  },
  {
   "cell_type": "code",
   "execution_count": 7,
   "metadata": {},
   "outputs": [
    {
     "data": {
      "text/plain": [
       "{'conversationID': '1722102271792603452',\n",
       " 'date': 'Wed Nov 08 04:02:31 +0000 2023',\n",
       " 'date_epoch': 1699416151,\n",
       " 'hashtags': ['CeasefireNow'],\n",
       " 'likes': 5269,\n",
       " 'mediaURLs': ['https://video.twimg.com/amplify_video/1722102054536273920/vid/avc1/1280x720/mOOsZBrIq0_5nZUf.mp4?tag=14'],\n",
       " 'media_extended': [{'altText': None,\n",
       "   'duration_millis': 206424,\n",
       "   'size': {'height': 1080, 'width': 1920},\n",
       "   'thumbnail_url': 'https://pbs.twimg.com/amplify_video_thumb/1722102054536273920/img/OtgNOUxiJyCx4J-V.jpg',\n",
       "   'type': 'video',\n",
       "   'url': 'https://video.twimg.com/amplify_video/1722102054536273920/vid/avc1/1280x720/mOOsZBrIq0_5nZUf.mp4?tag=14'}],\n",
       " 'possibly_sensitive': False,\n",
       " 'qrtURL': None,\n",
       " 'replies': 493,\n",
       " 'retweets': 2265,\n",
       " 'text': '🧵 THREAD: Harvard Rabbi Zarchi preaches anti-Palestinian racism. In a speech to the community on Nov 4, he made a distinction between humans and “four-legged animals.” \\n\\nApparently, calling for a #CeasefireNow and an end to the occupation makes us “below animals,” even… https://t.co/s78lv2IVjJ',\n",
       " 'tweetID': '1722102271792603452',\n",
       " 'tweetURL': 'https://twitter.com/HarvardPSC/status/1722102271792603452',\n",
       " 'user_name': 'Harvard PSC',\n",
       " 'user_screen_name': 'HarvardPSC'}"
      ]
     },
     "execution_count": 7,
     "metadata": {},
     "output_type": "execute_result"
    }
   ],
   "source": [
    "tweet = scrape_tweet(test_url_w_img)\n",
    "tweet"
   ]
  },
  {
   "cell_type": "code",
   "execution_count": 5,
   "metadata": {},
   "outputs": [
    {
     "name": "stdout",
     "output_type": "stream",
     "text": [
      "all urls:  ['https://t.co/8WXQVI4WBb']\n",
      "External urls:  []\n",
      "-------\n",
      "all urls:  ['https://arxiv.org/abs/2311.01906', 'https://t.co/PlPRQVL9yc']\n",
      "External urls:  ['https://arxiv.org/abs/2311.01906']\n",
      "-------\n",
      "all urls:  []\n",
      "External urls:  []\n",
      "-------\n",
      "all urls:  []\n",
      "External urls:  []\n",
      "-------\n",
      "all urls:  ['https://t.co/s78lv2IVjJ']\n",
      "External urls:  []\n",
      "-------\n",
      "all urls:  []\n",
      "External urls:  []\n",
      "-------\n"
     ]
    }
   ],
   "source": [
    "for url, has_url in TEST_CASES:\n",
    "    tweet = scrape_tweet(url)\n",
    "    print(\"Tweet url\", url)\n",
    "    print(\"all urls: \", extract_urls(tweet[\"text\"]))\n",
    "    print(\"External urls: \", extract_external_ref_urls(tweet))\n",
    "    print(\"-------\")"
   ]
  },
  {
   "cell_type": "code",
   "execution_count": 9,
   "metadata": {},
   "outputs": [
    {
     "data": {
      "text/plain": [
       "{'conversationID': '1722102271792603452',\n",
       " 'date': 'Wed Nov 08 04:02:31 +0000 2023',\n",
       " 'date_epoch': 1699416151,\n",
       " 'hashtags': ['CeasefireNow'],\n",
       " 'likes': 4729,\n",
       " 'mediaURLs': ['https://video.twimg.com/amplify_video/1722102054536273920/vid/avc1/1280x720/mOOsZBrIq0_5nZUf.mp4?tag=14'],\n",
       " 'media_extended': [{'altText': None,\n",
       "   'duration_millis': 206424,\n",
       "   'size': {'height': 1080, 'width': 1920},\n",
       "   'thumbnail_url': 'https://pbs.twimg.com/amplify_video_thumb/1722102054536273920/img/OtgNOUxiJyCx4J-V.jpg',\n",
       "   'type': 'video',\n",
       "   'url': 'https://video.twimg.com/amplify_video/1722102054536273920/vid/avc1/1280x720/mOOsZBrIq0_5nZUf.mp4?tag=14'}],\n",
       " 'possibly_sensitive': False,\n",
       " 'qrtURL': None,\n",
       " 'replies': 453,\n",
       " 'retweets': 2053,\n",
       " 'text': '🧵 THREAD: Harvard Rabbi Zarchi preaches anti-Palestinian racism. In a speech to the community on Nov 4, he made a distinction between humans and “four-legged animals.” \\n\\nApparently, calling for a #CeasefireNow and an end to the occupation makes us “below animals,” even… https://t.co/s78lv2IVjJ',\n",
       " 'tweetID': '1722102271792603452',\n",
       " 'tweetURL': 'https://twitter.com/HarvardPSC/status/1722102271792603452',\n",
       " 'user_name': 'Harvard PSC',\n",
       " 'user_screen_name': 'HarvardPSC'}"
      ]
     },
     "execution_count": 9,
     "metadata": {},
     "output_type": "execute_result"
    }
   ],
   "source": [
    "test_url_w_img = \"https://twitter.com/HarvardPSC/status/1722102271792603452\"\n",
    "tweet = scrape_tweet(test_url_w_img)\n",
    "tweet"
   ]
  },
  {
   "cell_type": "code",
   "execution_count": 10,
   "metadata": {},
   "outputs": [
    {
     "name": "stdout",
     "output_type": "stream",
     "text": [
      "🧵 THREAD: Harvard Rabbi Zarchi preaches anti-Palestinian racism. In a speech to the community on Nov 4, he made a distinction between humans and “four-legged animals.” \n",
      "\n",
      "Apparently, calling for a #CeasefireNow and an end to the occupation makes us “below animals,” even… https://t.co/s78lv2IVjJ\n"
     ]
    }
   ],
   "source": [
    "print(tweet[\"text\"])"
   ]
  },
  {
   "cell_type": "code",
   "execution_count": 13,
   "metadata": {},
   "outputs": [
    {
     "name": "stdout",
     "output_type": "stream",
     "text": [
      "['https://twitter.com/HarvardPSC/status/1722102271792603452/video/1']\n"
     ]
    }
   ],
   "source": [
    "print(extract_and_expand_urls(tweet[\"text\"]))"
   ]
  },
  {
   "cell_type": "code",
   "execution_count": null,
   "metadata": {},
   "outputs": [],
   "source": [
    "def extract_external_ref_urls(tweet):\n",
    "    \"\"\"\n",
    "    Extract list of non-internal URLs referenced by this tweet (in the tweet text body).\n",
    "    In this context, internal URLs are URLs of media items associated with the tweet, such as images or videos.\n",
    "    Internal URLs share the same ID as the referencing tweet.\n",
    "    Shortened URLs are expanded to long form.\n",
    "    \"\"\"\n",
    "    urls = extract_and_expand_urls(tweet[\"text\"])"
   ]
  },
  {
   "cell_type": "code",
   "execution_count": 15,
   "metadata": {},
   "outputs": [
    {
     "name": "stdout",
     "output_type": "stream",
     "text": [
      "1722102271792603452\n"
     ]
    }
   ],
   "source": [
    "def extract_status_id(url):\n",
    "    pattern = r'twitter\\.com\\/\\w+\\/status\\/(\\d+)'\n",
    "    match = re.search(pattern, url)\n",
    "    if match:\n",
    "        return match.group(1)\n",
    "    else:\n",
    "        return None\n",
    "    \n",
    "# Example usage:\n",
    "twitter_url = \"https://twitter.com/HarvardPSC/status/1722102271792603452/video/1\"\n",
    "status_id = extract_status_id(test_url_w_img)\n",
    "print(status_id)"
   ]
  },
  {
   "cell_type": "code",
   "execution_count": 16,
   "metadata": {},
   "outputs": [
    {
     "data": {
      "text/plain": [
       "[]"
      ]
     },
     "execution_count": 16,
     "metadata": {},
     "output_type": "execute_result"
    }
   ],
   "source": [
    "\n",
    "urls = extract_and_expand_urls(tweet[\"text\"])\n",
    "\n",
    "external = []\n",
    "for url in urls:\n",
    "    twitter_id = extract_status_id(url)\n",
    "    if twitter_id: # check if a twitter url\n",
    "        if twitter_id != tweet[\"tweetID\"]: # check if url shares same status id with parsed tweet\n",
    "            external.append(url)\n",
    "\n",
    "external"
   ]
  }
 ],
 "metadata": {
  "kernelspec": {
   "display_name": "twscraping",
   "language": "python",
   "name": "python3"
  },
  "language_info": {
   "codemirror_mode": {
    "name": "ipython",
    "version": 3
   },
   "file_extension": ".py",
   "mimetype": "text/x-python",
   "name": "python",
   "nbconvert_exporter": "python",
   "pygments_lexer": "ipython3",
   "version": "3.11.5"
  }
 },
 "nbformat": 4,
 "nbformat_minor": 2
}
