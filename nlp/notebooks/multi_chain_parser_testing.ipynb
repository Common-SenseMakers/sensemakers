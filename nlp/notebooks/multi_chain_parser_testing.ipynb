{
 "cells": [
  {
   "cell_type": "code",
   "execution_count": null,
   "metadata": {},
   "outputs": [],
   "source": [
    "import nest_asyncio\n",
    "nest_asyncio.apply()\n",
    "from pathlib import Path\n",
    "\n",
    "import sys\n",
    "sys.path.append(\"../\")\n",
    "\n",
    "from desci_sense.shared_functions.init import init_multi_chain_parser_config\n",
    "from desci_sense.shared_functions.parsers.multi_chain_parser import MultiChainParser\n",
    "from desci_sense.evaluation.utils import get_dataset\n",
    "from desci_sense.shared_functions.dataloaders import (\n",
    "    scrape_post,\n",
    "    convert_text_to_ref_post,\n",
    ")"
   ]
  },
  {
   "cell_type": "code",
   "execution_count": null,
   "metadata": {},
   "outputs": [],
   "source": [
    "config = init_multi_chain_parser_config(llm_type=\"google/gemma-7b-it\",\n",
    "                                        post_process_type=\"combined\")"
   ]
  },
  {
   "cell_type": "code",
   "execution_count": null,
   "metadata": {},
   "outputs": [
    {
     "name": "stderr",
     "output_type": "stream",
     "text": [
      "\u001b[32m2024-05-01 09:42:12.429\u001b[0m | \u001b[1mINFO    \u001b[0m | \u001b[36mdesci_sense.shared_functions.parsers.multi_chain_parser\u001b[0m:\u001b[36m__init__\u001b[0m:\u001b[36m64\u001b[0m - \u001b[1mInitializing MultiChainParser. PostProcessType=combined\u001b[0m\n",
      "\u001b[32m2024-05-01 09:42:12.452\u001b[0m | \u001b[1mINFO    \u001b[0m | \u001b[36mdesci_sense.shared_functions.parsers.multi_chain_parser\u001b[0m:\u001b[36m__init__\u001b[0m:\u001b[36m71\u001b[0m - \u001b[1mInitializing post parsers...\u001b[0m\n",
      "\u001b[32m2024-05-01 09:42:12.453\u001b[0m | \u001b[1mINFO    \u001b[0m | \u001b[36mdesci_sense.shared_functions.parsers.post_parser_chain\u001b[0m:\u001b[36m__init__\u001b[0m:\u001b[36m24\u001b[0m - \u001b[1mInitializing parser chain 'refs_tagger' \u001b[0m\n",
      "\u001b[32m2024-05-01 09:42:12.598\u001b[0m | \u001b[1mINFO    \u001b[0m | \u001b[36mdesci_sense.shared_functions.parsers.post_parser_chain\u001b[0m:\u001b[36m__init__\u001b[0m:\u001b[36m24\u001b[0m - \u001b[1mInitializing parser chain 'topics' \u001b[0m\n",
      "\u001b[32m2024-05-01 09:42:12.609\u001b[0m | \u001b[1mINFO    \u001b[0m | \u001b[36mdesci_sense.shared_functions.parsers.post_parser_chain\u001b[0m:\u001b[36m__init__\u001b[0m:\u001b[36m24\u001b[0m - \u001b[1mInitializing parser chain 'keywords' \u001b[0m\n"
     ]
    }
   ],
   "source": [
    "multi_chain_parser = MultiChainParser(config)"
   ]
  },
  {
   "cell_type": "code",
   "execution_count": null,
   "metadata": {},
   "outputs": [
    {
     "name": "stderr",
     "output_type": "stream",
     "text": [
      "Python(54517) MallocStackLogging: can't turn off malloc stack logging because it was not enabled.\n"
     ]
    }
   ],
   "source": [
    "x= \"\"\"\n",
    "Did you think this was a conspiracy theory ?\n",
    "\n",
    "* CDC Releases 780,000 Vaccine Injury Reports From V-safe System\n",
    "\n",
    "V-Safe Data: https://ept.ms/43XPhLZ\n",
    "\n",
    "and see:\n",
    "\n",
    "The Pfizer Files: https://ept.ms/3VUYqTR\n",
    "\"\"\""
   ]
  },
  {
   "cell_type": "code",
   "execution_count": null,
   "metadata": {},
   "outputs": [
    {
     "name": "stderr",
     "output_type": "stream",
     "text": [
      "Python(54519) MallocStackLogging: can't turn off malloc stack logging because it was not enabled.\n",
      "Python(54520) MallocStackLogging: can't turn off malloc stack logging because it was not enabled.\n",
      "\u001b[32m2024-05-02 10:05:34.233\u001b[0m | \u001b[34m\u001b[1mDEBUG   \u001b[0m | \u001b[36mdesci_sense.shared_functions.web_extractors.citoid\u001b[0m:\u001b[36mfetch_citation_async\u001b[0m:\u001b[36m20\u001b[0m - \u001b[34m\u001b[1mtarget_url=https://icandecide.org/pfizer-documents/\u001b[0m\n",
      "\u001b[32m2024-05-02 10:05:34.244\u001b[0m | \u001b[34m\u001b[1mDEBUG   \u001b[0m | \u001b[36mdesci_sense.shared_functions.web_extractors.citoid\u001b[0m:\u001b[36mfetch_citation_async\u001b[0m:\u001b[36m20\u001b[0m - \u001b[34m\u001b[1mtarget_url=https://icandecide.org/v-safe-data/\u001b[0m\n",
      "Python(54521) MallocStackLogging: can't turn off malloc stack logging because it was not enabled.\n",
      "Python(54522) MallocStackLogging: can't turn off malloc stack logging because it was not enabled.\n",
      "Python(54523) MallocStackLogging: can't turn off malloc stack logging because it was not enabled.\n",
      "Python(54543) MallocStackLogging: can't turn off malloc stack logging because it was not enabled.\n",
      "Python(54544) MallocStackLogging: can't turn off malloc stack logging because it was not enabled.\n",
      "Python(54545) MallocStackLogging: can't turn off malloc stack logging because it was not enabled.\n",
      "Python(54546) MallocStackLogging: can't turn off malloc stack logging because it was not enabled.\n",
      "\u001b[32m2024-05-02 10:05:53.934\u001b[0m | \u001b[34m\u001b[1mDEBUG   \u001b[0m | \u001b[36mdesci_sense.shared_functions.parsers.multi_chain_parser\u001b[0m:\u001b[36mprocess_ref_post\u001b[0m:\u001b[36m173\u001b[0m - \u001b[34m\u001b[1mProcessing post with parsers: ['topics', 'keywords']\u001b[0m\n",
      "\u001b[32m2024-05-02 10:05:53.937\u001b[0m | \u001b[34m\u001b[1mDEBUG   \u001b[0m | \u001b[36mdesci_sense.shared_functions.parsers.multi_chain_parser\u001b[0m:\u001b[36mprocess_ref_post\u001b[0m:\u001b[36m175\u001b[0m - \u001b[34m\u001b[1mInstantiating prompts...\u001b[0m\n",
      "\u001b[32m2024-05-02 10:05:53.996\u001b[0m | \u001b[34m\u001b[1mDEBUG   \u001b[0m | \u001b[36mdesci_sense.shared_functions.parsers.multi_chain_parser\u001b[0m:\u001b[36mprocess_ref_post\u001b[0m:\u001b[36m180\u001b[0m - \u001b[34m\u001b[1mInvoking parallel chain...\u001b[0m\n",
      "Python(54547) MallocStackLogging: can't turn off malloc stack logging because it was not enabled.\n",
      "Python(54548) MallocStackLogging: can't turn off malloc stack logging because it was not enabled.\n",
      "Python(54549) MallocStackLogging: can't turn off malloc stack logging because it was not enabled.\n",
      "Python(54550) MallocStackLogging: can't turn off malloc stack logging because it was not enabled.\n"
     ]
    }
   ],
   "source": [
    "result = multi_chain_parser.process_ref_post(convert_text_to_ref_post(x),active_list=['topics','keywords'])"
   ]
  },
  {
   "cell_type": "code",
   "execution_count": null,
   "metadata": {},
   "outputs": [],
   "source": [
    "# example raw text posts\n",
    "TEST_POST_TEXT_W_REF = \"\"\"\n",
    "Hee he\n",
    "\"\"\"\n",
    "\n",
    "TEST_POST_2_TEXT_W_REF = \"\"\"\n",
    "I really disagree with this paper!\n",
    "https://arxiv.org/abs/2402.04607\n",
    "\"\"\"\n",
    "\n",
    "TEXT_POSTS = [TEST_POST_TEXT_W_REF, TEST_POST_2_TEXT_W_REF]"
   ]
  },
  {
   "cell_type": "code",
   "execution_count": null,
   "metadata": {},
   "outputs": [],
   "source": [
    "# convert raw text to RefPost format for input to the parser\n",
    "inputs = [convert_text_to_ref_post(p) for p in TEXT_POSTS]"
   ]
  },
  {
   "cell_type": "code",
   "execution_count": null,
   "metadata": {},
   "outputs": [],
   "source": [
    "# or scrape posts by url\n",
    "urls = [\n",
    "        \"https://mastodon.social/@psmaldino@qoto.org/111405098400404613\",\n",
    "        \"https://mastodon.social/@UlrikeHahn@fediscience.org/111732713776994953\",\n",
    "        \"https://mastodon.social/@ronent/111687038322549430\",\n",
    "    ]\n",
    "posts = [scrape_post(url) for url in urls]"
   ]
  },
  {
   "cell_type": "code",
   "execution_count": null,
   "metadata": {},
   "outputs": [],
   "source": [
    "# batch process\n",
    "results = multi_chain_parser.batch_process_ref_posts(inputs,active_list=[\"keywords\", \"topics\"],batch_size=10)"
   ]
  },
  {
   "cell_type": "code",
   "execution_count": null,
   "metadata": {},
   "outputs": [
    {
     "ename": "NameError",
     "evalue": "name 'posts' is not defined",
     "output_type": "error",
     "traceback": [
      "\u001b[0;31m---------------------------------------------------------------------------\u001b[0m\n",
      "\u001b[0;31mNameError\u001b[0m                                 Traceback (most recent call last)\n",
      "Cell \u001b[0;32mIn[17], line 2\u001b[0m\n",
      "\u001b[1;32m      1\u001b[0m \u001b[39m# single process\u001b[39;00m\n",
      "\u001b[0;32m----> 2\u001b[0m result \u001b[39m=\u001b[39m multi_chain_parser\u001b[39m.\u001b[39mprocess_ref_post(posts[\u001b[39m0\u001b[39m])\n",
      "\n",
      "\u001b[0;31mNameError\u001b[0m: name 'posts' is not defined"
     ]
    }
   ],
   "source": [
    "# single process\n",
    "result = multi_chain_parser.process_ref_post(posts[0])"
   ]
  },
  {
   "cell_type": "code",
   "execution_count": null,
   "metadata": {},
   "outputs": [
    {
     "data": {
      "text/plain": [
       "'not_research'"
      ]
     },
     "metadata": {},
     "output_type": "display_data"
    }
   ],
   "source": [
    "results[0].filter_classification.value"
   ]
  },
  {
   "cell_type": "code",
   "execution_count": null,
   "metadata": {},
   "outputs": [
    {
     "ename": "NameError",
     "evalue": "name 'result' is not defined",
     "output_type": "error",
     "traceback": [
      "\u001b[0;31m---------------------------------------------------------------------------\u001b[0m\n",
      "\u001b[0;31mNameError\u001b[0m                                 Traceback (most recent call last)\n",
      "Cell \u001b[0;32mIn[37], line 1\u001b[0m\n",
      "\u001b[0;32m----> 1\u001b[0m result\u001b[39m.\u001b[39mreference_tagger\n",
      "\n",
      "\u001b[0;31mNameError\u001b[0m: name 'result' is not defined"
     ]
    }
   ],
   "source": [
    "result.reference_tagger"
   ]
  },
  {
   "cell_type": "code",
   "execution_count": null,
   "metadata": {},
   "outputs": [
    {
     "data": {
      "text/plain": [
       "['academia', 'news', 'technology', 'research', 'health']"
      ]
     },
     "metadata": {},
     "output_type": "display_data"
    },
    {
     "name": "stderr",
     "output_type": "stream",
     "text": [
      "Python(54552) MallocStackLogging: can't turn off malloc stack logging because it was not enabled.\n"
     ]
    }
   ],
   "source": [
    "result.topics"
   ]
  },
  {
   "cell_type": "code",
   "execution_count": null,
   "metadata": {},
   "outputs": [
    {
     "data": {
      "text/plain": [
       "['blogPost', 'blogPost']"
      ]
     },
     "metadata": {},
     "output_type": "display_data"
    },
    {
     "name": "stderr",
     "output_type": "stream",
     "text": [
      "Python(54556) MallocStackLogging: can't turn off malloc stack logging because it was not enabled.\n"
     ]
    }
   ],
   "source": [
    "result.item_types"
   ]
  },
  {
   "cell_type": "code",
   "execution_count": null,
   "metadata": {},
   "outputs": [
    {
     "data": {
      "text/plain": [
       "dict_keys(['reference_tagger', 'topics', 'keywords'])"
      ]
     },
     "metadata": {},
     "output_type": "display_data"
    }
   ],
   "source": [
    "results[0].debug.keys()\n"
   ]
  },
  {
   "cell_type": "code",
   "execution_count": null,
   "metadata": {},
   "outputs": [
    {
     "data": {
      "text/plain": [
       "\"Keywords: **Reasoning Steps:**\\n\\nThe provided text does not contain any meaningful content, making keyword extraction impractical. Therefore, I am unable to generate the requested annotations. Topics: **Reasoning Steps:**\\n\\n- The post contains a humorous expression, suggesting the topic might be related to entertainment or leisure.\\n- The brevity of the post suggests a concise or punchy message.\\n\\n\\n**Candidate Topics:**\\n\\n- Humor\\n- Entertainment & Leisure\\n\\n\\n**Final Answer:**\\n\\n**Humor** and **Entertainment & Leisure** \\n\\n ##Allowed terms: ['technology', 'science', 'academia', 'research', 'design', 'climate', 'sustainability', 'software & hardware', 'philosophy', 'health', 'culture', 'economics', 'business', 'politics', 'news', 'finance', 'sports', 'entertainment & leisure', 'art', 'literature', 'travel', 'personal', 'humour', 'other']\""
      ]
     },
     "metadata": {},
     "output_type": "display_data"
    }
   ],
   "source": [
    "\"Keywords: \"+results[0].debug['keywords']['raw_text']+\" Topics: \"+results[0].debug['topics']['full_text']\n"
   ]
  },
  {
   "cell_type": "markdown",
   "metadata": {},
   "source": [
    "## Loading dataset to play"
   ]
  },
  {
   "cell_type": "code",
   "execution_count": null,
   "metadata": {},
   "outputs": [
    {
     "name": "stderr",
     "output_type": "stream",
     "text": [
      "Failed to detect the name of this notebook, you can set it manually with the WANDB_NOTEBOOK_NAME environment variable to enable code saving.\n",
      "\u001b[34m\u001b[1mwandb\u001b[0m: Currently logged in as: \u001b[33mshahar-r-oriel\u001b[0m (\u001b[33mcommon-sense-makers\u001b[0m). Use \u001b[1m`wandb login --relogin`\u001b[0m to force relogin\n"
     ]
    },
    {
     "data": {
      "text/html": [
       "Tracking run with wandb version 0.16.6"
      ],
      "text/plain": [
       "<IPython.core.display.HTML object>"
      ]
     },
     "metadata": {},
     "output_type": "display_data"
    },
    {
     "data": {
      "text/html": [
       "Run data is saved locally in <code>/Users/shaharorielkagan/sensemakers/nlp/notebooks/wandb/run-20240501_094231-ffq9zb5k</code>"
      ],
      "text/plain": [
       "<IPython.core.display.HTML object>"
      ]
     },
     "metadata": {},
     "output_type": "display_data"
    },
    {
     "data": {
      "text/html": [
       "Syncing run <strong><a href='https://wandb.ai/common-sense-makers/testing/runs/ffq9zb5k' target=\"_blank\">mild-grass-137</a></strong> to <a href='https://wandb.ai/common-sense-makers/testing' target=\"_blank\">Weights & Biases</a> (<a href='https://wandb.me/run' target=\"_blank\">docs</a>)<br/>"
      ],
      "text/plain": [
       "<IPython.core.display.HTML object>"
      ]
     },
     "metadata": {},
     "output_type": "display_data"
    },
    {
     "data": {
      "text/html": [
       " View project at <a href='https://wandb.ai/common-sense-makers/testing' target=\"_blank\">https://wandb.ai/common-sense-makers/testing</a>"
      ],
      "text/plain": [
       "<IPython.core.display.HTML object>"
      ]
     },
     "metadata": {},
     "output_type": "display_data"
    },
    {
     "data": {
      "text/html": [
       " View run at <a href='https://wandb.ai/common-sense-makers/testing/runs/ffq9zb5k' target=\"_blank\">https://wandb.ai/common-sense-makers/testing/runs/ffq9zb5k</a>"
      ],
      "text/plain": [
       "<IPython.core.display.HTML object>"
      ]
     },
     "metadata": {},
     "output_type": "display_data"
    },
    {
     "name": "stderr",
     "output_type": "stream",
     "text": [
      "\u001b[34m\u001b[1mwandb\u001b[0m:   2 of 2 files downloaded.  \n"
     ]
    },
    {
     "name": "stdout",
     "output_type": "stream",
     "text": [
      "The path is /Users/shaharorielkagan/sensemakers/nlp/notebooks/artifacts/labeled_tweets_no_threads:v1\n"
     ]
    }
   ],
   "source": [
    "import wandb\n",
    "import pandas as pd\n",
    "\n",
    "wandb.login()\n",
    "\n",
    "api = wandb.Api()\n",
    "\n",
    "#TODO move from testing\n",
    "run = wandb.init(project=\"testing\", job_type=\"evaluation\")\n",
    "\n",
    "# get artifact path\n",
    "\n",
    "dataset_artifact_id = (\n",
    "        'common-sense-makers/filter_evaluation/labeled_tweets_no_threads:v1'\n",
    "    )\n",
    "\n",
    "# set artifact as input artifact\n",
    "dataset_artifact = run.use_artifact(dataset_artifact_id)\n",
    "\n",
    "# initialize table path\n",
    "# add the option to call table_path =  arguments.get('--dataset')\n",
    "\n",
    "# download path to table\n",
    "a_path = dataset_artifact.download()\n",
    "print(\"The path is\",a_path)\n",
    "\n",
    "# get dataset file name\n",
    "\n",
    "table_path = Path(f\"{a_path}/labeled_data_table_no_threads.table.json\")\n",
    "\n",
    "\n",
    "# return the pd df from the table\n",
    "#remember to remove the head TODO\n",
    "df = get_dataset(table_path)\n",
    "\n",
    "table_path = Path(f\"{a_path}/handles_chart.table.json\")\n",
    "\n",
    "df_handles = get_dataset(table_path)\n",
    "\n"
   ]
  },
  {
   "cell_type": "code",
   "execution_count": null,
   "metadata": {},
   "outputs": [],
   "source": [
    "from tqdm import tqdm"
   ]
  },
  {
   "cell_type": "code",
   "execution_count": null,
   "metadata": {},
   "outputs": [
    {
     "name": "stderr",
     "output_type": "stream",
     "text": [
      "100%|██████████| 467/467 [00:42<00:00, 11.01it/s]\n"
     ]
    }
   ],
   "source": [
    "import concurrent.futures\n",
    "from tqdm import tqdm\n",
    "\n",
    "def process_text(text):\n",
    "    return convert_text_to_ref_post(text)\n",
    "\n",
    "# Assuming df['Text'] is your DataFrame column\n",
    "with concurrent.futures.ThreadPoolExecutor() as executor:\n",
    "    inputs = list(tqdm(executor.map(process_text, df['Text']), total=len(df['Text'])))\n"
   ]
  },
  {
   "cell_type": "code",
   "execution_count": null,
   "metadata": {},
   "outputs": [
    {
     "name": "stdout",
     "output_type": "stream",
     "text": [
      "20\n"
     ]
    },
    {
     "name": "stderr",
     "output_type": "stream",
     "text": [
      "\u001b[32m2024-04-30 20:46:08.416\u001b[0m | \u001b[34m\u001b[1mDEBUG   \u001b[0m | \u001b[36mdesci_sense.shared_functions.web_extractors.citoid\u001b[0m:\u001b[36mfetch_citation\u001b[0m:\u001b[36m54\u001b[0m - \u001b[34m\u001b[1mfetching citoid data for: https://www.youtube.com/watch?feature=youtu.be&si=XC_4OAHNNQM3BMLw&v=wS8Z3qKo5YU\u001b[0m\n",
      "\u001b[32m2024-04-30 20:46:10.493\u001b[0m | \u001b[34m\u001b[1mDEBUG   \u001b[0m | \u001b[36mdesci_sense.shared_functions.parsers.multi_chain_parser\u001b[0m:\u001b[36mprocess_ref_post\u001b[0m:\u001b[36m173\u001b[0m - \u001b[34m\u001b[1mProcessing post with parsers: ['topics']\u001b[0m\n",
      "\u001b[32m2024-04-30 20:46:10.497\u001b[0m | \u001b[34m\u001b[1mDEBUG   \u001b[0m | \u001b[36mdesci_sense.shared_functions.parsers.multi_chain_parser\u001b[0m:\u001b[36mprocess_ref_post\u001b[0m:\u001b[36m175\u001b[0m - \u001b[34m\u001b[1mInstantiating prompts...\u001b[0m\n",
      "\u001b[32m2024-04-30 20:46:10.505\u001b[0m | \u001b[34m\u001b[1mDEBUG   \u001b[0m | \u001b[36mdesci_sense.shared_functions.parsers.multi_chain_parser\u001b[0m:\u001b[36mprocess_ref_post\u001b[0m:\u001b[36m180\u001b[0m - \u001b[34m\u001b[1mInvoking parallel chain...\u001b[0m\n"
     ]
    },
    {
     "name": "stdout",
     "output_type": "stream",
     "text": [
      "21\n"
     ]
    },
    {
     "name": "stderr",
     "output_type": "stream",
     "text": [
      "\u001b[32m2024-04-30 20:46:14.496\u001b[0m | \u001b[34m\u001b[1mDEBUG   \u001b[0m | \u001b[36mdesci_sense.shared_functions.web_extractors.citoid\u001b[0m:\u001b[36mfetch_citation\u001b[0m:\u001b[36m54\u001b[0m - \u001b[34m\u001b[1mfetching citoid data for: https://www.youtube.com/watch?feature=youtu.be&si=ADozAL8LPmUvybux&v=3taXF-cjLBc\u001b[0m\n",
      "\u001b[32m2024-04-30 20:46:16.460\u001b[0m | \u001b[34m\u001b[1mDEBUG   \u001b[0m | \u001b[36mdesci_sense.shared_functions.parsers.multi_chain_parser\u001b[0m:\u001b[36mprocess_ref_post\u001b[0m:\u001b[36m173\u001b[0m - \u001b[34m\u001b[1mProcessing post with parsers: ['topics']\u001b[0m\n",
      "\u001b[32m2024-04-30 20:46:16.465\u001b[0m | \u001b[34m\u001b[1mDEBUG   \u001b[0m | \u001b[36mdesci_sense.shared_functions.parsers.multi_chain_parser\u001b[0m:\u001b[36mprocess_ref_post\u001b[0m:\u001b[36m175\u001b[0m - \u001b[34m\u001b[1mInstantiating prompts...\u001b[0m\n",
      "\u001b[32m2024-04-30 20:46:16.468\u001b[0m | \u001b[34m\u001b[1mDEBUG   \u001b[0m | \u001b[36mdesci_sense.shared_functions.parsers.multi_chain_parser\u001b[0m:\u001b[36mprocess_ref_post\u001b[0m:\u001b[36m180\u001b[0m - \u001b[34m\u001b[1mInvoking parallel chain...\u001b[0m\n",
      "\u001b[32m2024-04-30 20:46:19.247\u001b[0m | \u001b[34m\u001b[1mDEBUG   \u001b[0m | \u001b[36mdesci_sense.shared_functions.parsers.multi_chain_parser\u001b[0m:\u001b[36mprocess_ref_post\u001b[0m:\u001b[36m173\u001b[0m - \u001b[34m\u001b[1mProcessing post with parsers: ['topics']\u001b[0m\n",
      "\u001b[32m2024-04-30 20:46:19.249\u001b[0m | \u001b[34m\u001b[1mDEBUG   \u001b[0m | \u001b[36mdesci_sense.shared_functions.parsers.multi_chain_parser\u001b[0m:\u001b[36mprocess_ref_post\u001b[0m:\u001b[36m175\u001b[0m - \u001b[34m\u001b[1mInstantiating prompts...\u001b[0m\n",
      "\u001b[32m2024-04-30 20:46:19.250\u001b[0m | \u001b[34m\u001b[1mDEBUG   \u001b[0m | \u001b[36mdesci_sense.shared_functions.parsers.multi_chain_parser\u001b[0m:\u001b[36mprocess_ref_post\u001b[0m:\u001b[36m180\u001b[0m - \u001b[34m\u001b[1mInvoking parallel chain...\u001b[0m\n"
     ]
    },
    {
     "name": "stdout",
     "output_type": "stream",
     "text": [
      "22\n",
      "23\n"
     ]
    },
    {
     "name": "stderr",
     "output_type": "stream",
     "text": [
      "\u001b[32m2024-04-30 20:46:24.795\u001b[0m | \u001b[34m\u001b[1mDEBUG   \u001b[0m | \u001b[36mdesci_sense.shared_functions.web_extractors.citoid\u001b[0m:\u001b[36mfetch_citation\u001b[0m:\u001b[36m54\u001b[0m - \u001b[34m\u001b[1mfetching citoid data for: https://www.youtube.com/watch?feature=youtu.be&si=guzfjvW0kqHtF5NG&v=UA2TaqRPBtU\u001b[0m\n",
      "\u001b[32m2024-04-30 20:46:27.115\u001b[0m | \u001b[34m\u001b[1mDEBUG   \u001b[0m | \u001b[36mdesci_sense.shared_functions.parsers.multi_chain_parser\u001b[0m:\u001b[36mprocess_ref_post\u001b[0m:\u001b[36m173\u001b[0m - \u001b[34m\u001b[1mProcessing post with parsers: ['topics']\u001b[0m\n",
      "\u001b[32m2024-04-30 20:46:27.120\u001b[0m | \u001b[34m\u001b[1mDEBUG   \u001b[0m | \u001b[36mdesci_sense.shared_functions.parsers.multi_chain_parser\u001b[0m:\u001b[36mprocess_ref_post\u001b[0m:\u001b[36m175\u001b[0m - \u001b[34m\u001b[1mInstantiating prompts...\u001b[0m\n",
      "\u001b[32m2024-04-30 20:46:27.123\u001b[0m | \u001b[34m\u001b[1mDEBUG   \u001b[0m | \u001b[36mdesci_sense.shared_functions.parsers.multi_chain_parser\u001b[0m:\u001b[36mprocess_ref_post\u001b[0m:\u001b[36m180\u001b[0m - \u001b[34m\u001b[1mInvoking parallel chain...\u001b[0m\n"
     ]
    },
    {
     "name": "stdout",
     "output_type": "stream",
     "text": [
      "24\n"
     ]
    },
    {
     "name": "stderr",
     "output_type": "stream",
     "text": [
      "\u001b[32m2024-04-30 20:46:41.478\u001b[0m | \u001b[34m\u001b[1mDEBUG   \u001b[0m | \u001b[36mdesci_sense.shared_functions.web_extractors.citoid\u001b[0m:\u001b[36mfetch_citation\u001b[0m:\u001b[36m54\u001b[0m - \u001b[34m\u001b[1mfetching citoid data for: https://www.youtube.com/shorts/ZgbkS2dn5fQ?si=nhk6ghOYuRjqUUBt\u001b[0m\n",
      "\u001b[32m2024-04-30 20:46:43.329\u001b[0m | \u001b[34m\u001b[1mDEBUG   \u001b[0m | \u001b[36mdesci_sense.shared_functions.parsers.multi_chain_parser\u001b[0m:\u001b[36mprocess_ref_post\u001b[0m:\u001b[36m173\u001b[0m - \u001b[34m\u001b[1mProcessing post with parsers: ['topics']\u001b[0m\n",
      "\u001b[32m2024-04-30 20:46:43.336\u001b[0m | \u001b[34m\u001b[1mDEBUG   \u001b[0m | \u001b[36mdesci_sense.shared_functions.parsers.multi_chain_parser\u001b[0m:\u001b[36mprocess_ref_post\u001b[0m:\u001b[36m175\u001b[0m - \u001b[34m\u001b[1mInstantiating prompts...\u001b[0m\n",
      "\u001b[32m2024-04-30 20:46:43.339\u001b[0m | \u001b[34m\u001b[1mDEBUG   \u001b[0m | \u001b[36mdesci_sense.shared_functions.parsers.multi_chain_parser\u001b[0m:\u001b[36mprocess_ref_post\u001b[0m:\u001b[36m180\u001b[0m - \u001b[34m\u001b[1mInvoking parallel chain...\u001b[0m\n"
     ]
    },
    {
     "name": "stdout",
     "output_type": "stream",
     "text": [
      "25\n"
     ]
    },
    {
     "name": "stderr",
     "output_type": "stream",
     "text": [
      "\u001b[32m2024-04-30 20:46:48.282\u001b[0m | \u001b[34m\u001b[1mDEBUG   \u001b[0m | \u001b[36mdesci_sense.shared_functions.web_extractors.citoid\u001b[0m:\u001b[36mfetch_citation\u001b[0m:\u001b[36m54\u001b[0m - \u001b[34m\u001b[1mfetching citoid data for: https://www.youtube.com/shorts/GFKoCMKl1YY?si=2n1Khh2DUxI7_S5u\u001b[0m\n",
      "\u001b[32m2024-04-30 20:46:50.077\u001b[0m | \u001b[34m\u001b[1mDEBUG   \u001b[0m | \u001b[36mdesci_sense.shared_functions.parsers.multi_chain_parser\u001b[0m:\u001b[36mprocess_ref_post\u001b[0m:\u001b[36m173\u001b[0m - \u001b[34m\u001b[1mProcessing post with parsers: ['topics']\u001b[0m\n",
      "\u001b[32m2024-04-30 20:46:50.082\u001b[0m | \u001b[34m\u001b[1mDEBUG   \u001b[0m | \u001b[36mdesci_sense.shared_functions.parsers.multi_chain_parser\u001b[0m:\u001b[36mprocess_ref_post\u001b[0m:\u001b[36m175\u001b[0m - \u001b[34m\u001b[1mInstantiating prompts...\u001b[0m\n",
      "\u001b[32m2024-04-30 20:46:50.084\u001b[0m | \u001b[34m\u001b[1mDEBUG   \u001b[0m | \u001b[36mdesci_sense.shared_functions.parsers.multi_chain_parser\u001b[0m:\u001b[36mprocess_ref_post\u001b[0m:\u001b[36m180\u001b[0m - \u001b[34m\u001b[1mInvoking parallel chain...\u001b[0m\n"
     ]
    },
    {
     "name": "stdout",
     "output_type": "stream",
     "text": [
      "26\n"
     ]
    },
    {
     "name": "stderr",
     "output_type": "stream",
     "text": [
      "\u001b[32m2024-04-30 20:46:54.485\u001b[0m | \u001b[34m\u001b[1mDEBUG   \u001b[0m | \u001b[36mdesci_sense.shared_functions.web_extractors.citoid\u001b[0m:\u001b[36mfetch_citation\u001b[0m:\u001b[36m54\u001b[0m - \u001b[34m\u001b[1mfetching citoid data for: https://www.youtube.com/watch?feature=youtu.be&si=BPmxcuSJcP3MQZ40&v=GcdDl-hldGM\u001b[0m\n",
      "\u001b[32m2024-04-30 20:46:56.257\u001b[0m | \u001b[34m\u001b[1mDEBUG   \u001b[0m | \u001b[36mdesci_sense.shared_functions.parsers.multi_chain_parser\u001b[0m:\u001b[36mprocess_ref_post\u001b[0m:\u001b[36m173\u001b[0m - \u001b[34m\u001b[1mProcessing post with parsers: ['topics']\u001b[0m\n",
      "\u001b[32m2024-04-30 20:46:56.264\u001b[0m | \u001b[34m\u001b[1mDEBUG   \u001b[0m | \u001b[36mdesci_sense.shared_functions.parsers.multi_chain_parser\u001b[0m:\u001b[36mprocess_ref_post\u001b[0m:\u001b[36m175\u001b[0m - \u001b[34m\u001b[1mInstantiating prompts...\u001b[0m\n",
      "\u001b[32m2024-04-30 20:46:56.268\u001b[0m | \u001b[34m\u001b[1mDEBUG   \u001b[0m | \u001b[36mdesci_sense.shared_functions.parsers.multi_chain_parser\u001b[0m:\u001b[36mprocess_ref_post\u001b[0m:\u001b[36m180\u001b[0m - \u001b[34m\u001b[1mInvoking parallel chain...\u001b[0m\n"
     ]
    },
    {
     "name": "stdout",
     "output_type": "stream",
     "text": [
      "27\n"
     ]
    },
    {
     "name": "stderr",
     "output_type": "stream",
     "text": [
      "\u001b[32m2024-04-30 20:46:59.500\u001b[0m | \u001b[34m\u001b[1mDEBUG   \u001b[0m | \u001b[36mdesci_sense.shared_functions.web_extractors.citoid\u001b[0m:\u001b[36mfetch_citation\u001b[0m:\u001b[36m54\u001b[0m - \u001b[34m\u001b[1mfetching citoid data for: https://www.organism.earth/library/topic/autopoiesis\u001b[0m\n",
      "\u001b[32m2024-04-30 20:47:01.144\u001b[0m | \u001b[34m\u001b[1mDEBUG   \u001b[0m | \u001b[36mdesci_sense.shared_functions.parsers.multi_chain_parser\u001b[0m:\u001b[36mprocess_ref_post\u001b[0m:\u001b[36m173\u001b[0m - \u001b[34m\u001b[1mProcessing post with parsers: ['topics']\u001b[0m\n",
      "\u001b[32m2024-04-30 20:47:01.146\u001b[0m | \u001b[34m\u001b[1mDEBUG   \u001b[0m | \u001b[36mdesci_sense.shared_functions.parsers.multi_chain_parser\u001b[0m:\u001b[36mprocess_ref_post\u001b[0m:\u001b[36m175\u001b[0m - \u001b[34m\u001b[1mInstantiating prompts...\u001b[0m\n",
      "\u001b[32m2024-04-30 20:47:01.147\u001b[0m | \u001b[34m\u001b[1mDEBUG   \u001b[0m | \u001b[36mdesci_sense.shared_functions.parsers.multi_chain_parser\u001b[0m:\u001b[36mprocess_ref_post\u001b[0m:\u001b[36m180\u001b[0m - \u001b[34m\u001b[1mInvoking parallel chain...\u001b[0m\n"
     ]
    },
    {
     "name": "stdout",
     "output_type": "stream",
     "text": [
      "28\n"
     ]
    },
    {
     "name": "stderr",
     "output_type": "stream",
     "text": [
      "\u001b[32m2024-04-30 20:47:04.614\u001b[0m | \u001b[34m\u001b[1mDEBUG   \u001b[0m | \u001b[36mdesci_sense.shared_functions.web_extractors.citoid\u001b[0m:\u001b[36mfetch_citation\u001b[0m:\u001b[36m54\u001b[0m - \u001b[34m\u001b[1mfetching citoid data for: https://medium.com/@foundersfund/hereticon-2bb9b23928d5\u001b[0m\n",
      "\u001b[32m2024-04-30 20:47:05.761\u001b[0m | \u001b[34m\u001b[1mDEBUG   \u001b[0m | \u001b[36mdesci_sense.shared_functions.parsers.multi_chain_parser\u001b[0m:\u001b[36mprocess_ref_post\u001b[0m:\u001b[36m173\u001b[0m - \u001b[34m\u001b[1mProcessing post with parsers: ['topics']\u001b[0m\n",
      "\u001b[32m2024-04-30 20:47:05.765\u001b[0m | \u001b[34m\u001b[1mDEBUG   \u001b[0m | \u001b[36mdesci_sense.shared_functions.parsers.multi_chain_parser\u001b[0m:\u001b[36mprocess_ref_post\u001b[0m:\u001b[36m175\u001b[0m - \u001b[34m\u001b[1mInstantiating prompts...\u001b[0m\n",
      "\u001b[32m2024-04-30 20:47:05.769\u001b[0m | \u001b[34m\u001b[1mDEBUG   \u001b[0m | \u001b[36mdesci_sense.shared_functions.parsers.multi_chain_parser\u001b[0m:\u001b[36mprocess_ref_post\u001b[0m:\u001b[36m180\u001b[0m - \u001b[34m\u001b[1mInvoking parallel chain...\u001b[0m\n"
     ]
    },
    {
     "name": "stdout",
     "output_type": "stream",
     "text": [
      "29\n"
     ]
    },
    {
     "name": "stderr",
     "output_type": "stream",
     "text": [
      "\u001b[32m2024-04-30 20:47:11.105\u001b[0m | \u001b[34m\u001b[1mDEBUG   \u001b[0m | \u001b[36mdesci_sense.shared_functions.web_extractors.citoid\u001b[0m:\u001b[36mfetch_citation\u001b[0m:\u001b[36m54\u001b[0m - \u001b[34m\u001b[1mfetching citoid data for: https://www.youtube.com/watch?feature=youtu.be&si=QguH84BDLFWz8Dxh&v=sRPP4Ilpxso\u001b[0m\n",
      "\u001b[32m2024-04-30 20:47:13.164\u001b[0m | \u001b[34m\u001b[1mDEBUG   \u001b[0m | \u001b[36mdesci_sense.shared_functions.parsers.multi_chain_parser\u001b[0m:\u001b[36mprocess_ref_post\u001b[0m:\u001b[36m173\u001b[0m - \u001b[34m\u001b[1mProcessing post with parsers: ['topics']\u001b[0m\n",
      "\u001b[32m2024-04-30 20:47:13.181\u001b[0m | \u001b[34m\u001b[1mDEBUG   \u001b[0m | \u001b[36mdesci_sense.shared_functions.parsers.multi_chain_parser\u001b[0m:\u001b[36mprocess_ref_post\u001b[0m:\u001b[36m175\u001b[0m - \u001b[34m\u001b[1mInstantiating prompts...\u001b[0m\n",
      "\u001b[32m2024-04-30 20:47:13.183\u001b[0m | \u001b[34m\u001b[1mDEBUG   \u001b[0m | \u001b[36mdesci_sense.shared_functions.parsers.multi_chain_parser\u001b[0m:\u001b[36mprocess_ref_post\u001b[0m:\u001b[36m180\u001b[0m - \u001b[34m\u001b[1mInvoking parallel chain...\u001b[0m\n"
     ]
    },
    {
     "name": "stdout",
     "output_type": "stream",
     "text": [
      "30\n"
     ]
    },
    {
     "name": "stderr",
     "output_type": "stream",
     "text": [
      "\u001b[32m2024-04-30 20:47:16.106\u001b[0m | \u001b[34m\u001b[1mDEBUG   \u001b[0m | \u001b[36mdesci_sense.shared_functions.web_extractors.citoid\u001b[0m:\u001b[36mfetch_citation\u001b[0m:\u001b[36m54\u001b[0m - \u001b[34m\u001b[1mfetching citoid data for: https://www.youtube.com/watch?feature=youtu.be&si=Lu6eH_JtRcS5m-EM&v=3VZSJKbzyMc\u001b[0m\n",
      "\u001b[32m2024-04-30 20:47:18.759\u001b[0m | \u001b[34m\u001b[1mDEBUG   \u001b[0m | \u001b[36mdesci_sense.shared_functions.parsers.multi_chain_parser\u001b[0m:\u001b[36mprocess_ref_post\u001b[0m:\u001b[36m173\u001b[0m - \u001b[34m\u001b[1mProcessing post with parsers: ['topics']\u001b[0m\n",
      "\u001b[32m2024-04-30 20:47:18.764\u001b[0m | \u001b[34m\u001b[1mDEBUG   \u001b[0m | \u001b[36mdesci_sense.shared_functions.parsers.multi_chain_parser\u001b[0m:\u001b[36mprocess_ref_post\u001b[0m:\u001b[36m175\u001b[0m - \u001b[34m\u001b[1mInstantiating prompts...\u001b[0m\n",
      "\u001b[32m2024-04-30 20:47:18.772\u001b[0m | \u001b[34m\u001b[1mDEBUG   \u001b[0m | \u001b[36mdesci_sense.shared_functions.parsers.multi_chain_parser\u001b[0m:\u001b[36mprocess_ref_post\u001b[0m:\u001b[36m180\u001b[0m - \u001b[34m\u001b[1mInvoking parallel chain...\u001b[0m\n"
     ]
    },
    {
     "name": "stdout",
     "output_type": "stream",
     "text": [
      "31\n"
     ]
    },
    {
     "name": "stderr",
     "output_type": "stream",
     "text": [
      "\u001b[32m2024-04-30 20:47:24.287\u001b[0m | \u001b[34m\u001b[1mDEBUG   \u001b[0m | \u001b[36mdesci_sense.shared_functions.web_extractors.citoid\u001b[0m:\u001b[36mfetch_citation\u001b[0m:\u001b[36m54\u001b[0m - \u001b[34m\u001b[1mfetching citoid data for: https://www.youtube.com/watch?feature=youtu.be&si=89fOR5xFw5MF8p-d&v=nYl4g57eRBU\u001b[0m\n",
      "\u001b[32m2024-04-30 20:47:26.433\u001b[0m | \u001b[34m\u001b[1mDEBUG   \u001b[0m | \u001b[36mdesci_sense.shared_functions.parsers.multi_chain_parser\u001b[0m:\u001b[36mprocess_ref_post\u001b[0m:\u001b[36m173\u001b[0m - \u001b[34m\u001b[1mProcessing post with parsers: ['topics']\u001b[0m\n",
      "\u001b[32m2024-04-30 20:47:26.434\u001b[0m | \u001b[34m\u001b[1mDEBUG   \u001b[0m | \u001b[36mdesci_sense.shared_functions.parsers.multi_chain_parser\u001b[0m:\u001b[36mprocess_ref_post\u001b[0m:\u001b[36m175\u001b[0m - \u001b[34m\u001b[1mInstantiating prompts...\u001b[0m\n",
      "\u001b[32m2024-04-30 20:47:26.435\u001b[0m | \u001b[34m\u001b[1mDEBUG   \u001b[0m | \u001b[36mdesci_sense.shared_functions.parsers.multi_chain_parser\u001b[0m:\u001b[36mprocess_ref_post\u001b[0m:\u001b[36m180\u001b[0m - \u001b[34m\u001b[1mInvoking parallel chain...\u001b[0m\n"
     ]
    },
    {
     "name": "stdout",
     "output_type": "stream",
     "text": [
      "32\n"
     ]
    },
    {
     "name": "stderr",
     "output_type": "stream",
     "text": [
      "\u001b[32m2024-04-30 20:47:30.549\u001b[0m | \u001b[34m\u001b[1mDEBUG   \u001b[0m | \u001b[36mdesci_sense.shared_functions.web_extractors.citoid\u001b[0m:\u001b[36mfetch_citation\u001b[0m:\u001b[36m54\u001b[0m - \u001b[34m\u001b[1mfetching citoid data for: https://www.eventbrite.it/e/biglietti-napuleth-the-spark-blockchain-and-ai-informal-meetup-863744451907\u001b[0m\n",
      "\u001b[32m2024-04-30 20:47:33.196\u001b[0m | \u001b[34m\u001b[1mDEBUG   \u001b[0m | \u001b[36mdesci_sense.shared_functions.parsers.multi_chain_parser\u001b[0m:\u001b[36mprocess_ref_post\u001b[0m:\u001b[36m173\u001b[0m - \u001b[34m\u001b[1mProcessing post with parsers: ['topics']\u001b[0m\n",
      "\u001b[32m2024-04-30 20:47:33.202\u001b[0m | \u001b[34m\u001b[1mDEBUG   \u001b[0m | \u001b[36mdesci_sense.shared_functions.parsers.multi_chain_parser\u001b[0m:\u001b[36mprocess_ref_post\u001b[0m:\u001b[36m175\u001b[0m - \u001b[34m\u001b[1mInstantiating prompts...\u001b[0m\n",
      "\u001b[32m2024-04-30 20:47:33.205\u001b[0m | \u001b[34m\u001b[1mDEBUG   \u001b[0m | \u001b[36mdesci_sense.shared_functions.parsers.multi_chain_parser\u001b[0m:\u001b[36mprocess_ref_post\u001b[0m:\u001b[36m180\u001b[0m - \u001b[34m\u001b[1mInvoking parallel chain...\u001b[0m\n"
     ]
    },
    {
     "name": "stdout",
     "output_type": "stream",
     "text": [
      "33\n"
     ]
    },
    {
     "name": "stderr",
     "output_type": "stream",
     "text": [
      "\u001b[32m2024-04-30 20:47:37.405\u001b[0m | \u001b[34m\u001b[1mDEBUG   \u001b[0m | \u001b[36mdesci_sense.shared_functions.web_extractors.citoid\u001b[0m:\u001b[36mfetch_citation\u001b[0m:\u001b[36m54\u001b[0m - \u001b[34m\u001b[1mfetching citoid data for: https://www.youtube.com/watch?feature=youtu.be&si=H_zCIFcJ-IV01yUt&v=JUH4Vk1CFx8\u001b[0m\n",
      "\u001b[32m2024-04-30 20:47:39.883\u001b[0m | \u001b[34m\u001b[1mDEBUG   \u001b[0m | \u001b[36mdesci_sense.shared_functions.parsers.multi_chain_parser\u001b[0m:\u001b[36mprocess_ref_post\u001b[0m:\u001b[36m173\u001b[0m - \u001b[34m\u001b[1mProcessing post with parsers: ['topics']\u001b[0m\n",
      "\u001b[32m2024-04-30 20:47:39.889\u001b[0m | \u001b[34m\u001b[1mDEBUG   \u001b[0m | \u001b[36mdesci_sense.shared_functions.parsers.multi_chain_parser\u001b[0m:\u001b[36mprocess_ref_post\u001b[0m:\u001b[36m175\u001b[0m - \u001b[34m\u001b[1mInstantiating prompts...\u001b[0m\n",
      "\u001b[32m2024-04-30 20:47:39.891\u001b[0m | \u001b[34m\u001b[1mDEBUG   \u001b[0m | \u001b[36mdesci_sense.shared_functions.parsers.multi_chain_parser\u001b[0m:\u001b[36mprocess_ref_post\u001b[0m:\u001b[36m180\u001b[0m - \u001b[34m\u001b[1mInvoking parallel chain...\u001b[0m\n"
     ]
    },
    {
     "name": "stdout",
     "output_type": "stream",
     "text": [
      "34\n"
     ]
    },
    {
     "name": "stderr",
     "output_type": "stream",
     "text": [
      "\u001b[32m2024-04-30 20:47:44.456\u001b[0m | \u001b[34m\u001b[1mDEBUG   \u001b[0m | \u001b[36mdesci_sense.shared_functions.web_extractors.citoid\u001b[0m:\u001b[36mfetch_citation\u001b[0m:\u001b[36m54\u001b[0m - \u001b[34m\u001b[1mfetching citoid data for: https://www.youtube.com/watch?feature=youtu.be&si=e72_BpRFvpUapMYG&v=sV-vmagtOXI\u001b[0m\n",
      "\u001b[32m2024-04-30 20:47:46.712\u001b[0m | \u001b[34m\u001b[1mDEBUG   \u001b[0m | \u001b[36mdesci_sense.shared_functions.parsers.multi_chain_parser\u001b[0m:\u001b[36mprocess_ref_post\u001b[0m:\u001b[36m173\u001b[0m - \u001b[34m\u001b[1mProcessing post with parsers: ['topics']\u001b[0m\n",
      "\u001b[32m2024-04-30 20:47:46.718\u001b[0m | \u001b[34m\u001b[1mDEBUG   \u001b[0m | \u001b[36mdesci_sense.shared_functions.parsers.multi_chain_parser\u001b[0m:\u001b[36mprocess_ref_post\u001b[0m:\u001b[36m175\u001b[0m - \u001b[34m\u001b[1mInstantiating prompts...\u001b[0m\n",
      "\u001b[32m2024-04-30 20:47:46.721\u001b[0m | \u001b[34m\u001b[1mDEBUG   \u001b[0m | \u001b[36mdesci_sense.shared_functions.parsers.multi_chain_parser\u001b[0m:\u001b[36mprocess_ref_post\u001b[0m:\u001b[36m180\u001b[0m - \u001b[34m\u001b[1mInvoking parallel chain...\u001b[0m\n"
     ]
    },
    {
     "name": "stdout",
     "output_type": "stream",
     "text": [
      "35\n"
     ]
    },
    {
     "name": "stderr",
     "output_type": "stream",
     "text": [
      "\u001b[32m2024-04-30 20:47:53.198\u001b[0m | \u001b[34m\u001b[1mDEBUG   \u001b[0m | \u001b[36mdesci_sense.shared_functions.web_extractors.citoid\u001b[0m:\u001b[36mfetch_citation\u001b[0m:\u001b[36m54\u001b[0m - \u001b[34m\u001b[1mfetching citoid data for: https://www.youtube.com/watch?feature=youtu.be&si=rF6pAIR7bFNa8s5E&v=om_Qk4Ob2DQ\u001b[0m\n",
      "\u001b[32m2024-04-30 20:47:55.514\u001b[0m | \u001b[34m\u001b[1mDEBUG   \u001b[0m | \u001b[36mdesci_sense.shared_functions.parsers.multi_chain_parser\u001b[0m:\u001b[36mprocess_ref_post\u001b[0m:\u001b[36m173\u001b[0m - \u001b[34m\u001b[1mProcessing post with parsers: ['topics']\u001b[0m\n",
      "\u001b[32m2024-04-30 20:47:55.526\u001b[0m | \u001b[34m\u001b[1mDEBUG   \u001b[0m | \u001b[36mdesci_sense.shared_functions.parsers.multi_chain_parser\u001b[0m:\u001b[36mprocess_ref_post\u001b[0m:\u001b[36m175\u001b[0m - \u001b[34m\u001b[1mInstantiating prompts...\u001b[0m\n",
      "\u001b[32m2024-04-30 20:47:55.528\u001b[0m | \u001b[34m\u001b[1mDEBUG   \u001b[0m | \u001b[36mdesci_sense.shared_functions.parsers.multi_chain_parser\u001b[0m:\u001b[36mprocess_ref_post\u001b[0m:\u001b[36m180\u001b[0m - \u001b[34m\u001b[1mInvoking parallel chain...\u001b[0m\n"
     ]
    },
    {
     "name": "stdout",
     "output_type": "stream",
     "text": [
      "36\n"
     ]
    },
    {
     "name": "stderr",
     "output_type": "stream",
     "text": [
      "\u001b[32m2024-04-30 20:47:59.976\u001b[0m | \u001b[34m\u001b[1mDEBUG   \u001b[0m | \u001b[36mdesci_sense.shared_functions.web_extractors.citoid\u001b[0m:\u001b[36mfetch_citation_async\u001b[0m:\u001b[36m20\u001b[0m - \u001b[34m\u001b[1mtarget_url=https://icandecide.org/pfizer-documents/\u001b[0m\n",
      "\u001b[32m2024-04-30 20:47:59.996\u001b[0m | \u001b[34m\u001b[1mDEBUG   \u001b[0m | \u001b[36mdesci_sense.shared_functions.web_extractors.citoid\u001b[0m:\u001b[36mfetch_citation_async\u001b[0m:\u001b[36m20\u001b[0m - \u001b[34m\u001b[1mtarget_url=https://icandecide.org/v-safe-data/\u001b[0m\n",
      "\u001b[32m2024-04-30 20:48:29.515\u001b[0m | \u001b[34m\u001b[1mDEBUG   \u001b[0m | \u001b[36mdesci_sense.shared_functions.parsers.multi_chain_parser\u001b[0m:\u001b[36mprocess_ref_post\u001b[0m:\u001b[36m173\u001b[0m - \u001b[34m\u001b[1mProcessing post with parsers: ['topics']\u001b[0m\n",
      "\u001b[32m2024-04-30 20:48:29.521\u001b[0m | \u001b[34m\u001b[1mDEBUG   \u001b[0m | \u001b[36mdesci_sense.shared_functions.parsers.multi_chain_parser\u001b[0m:\u001b[36mprocess_ref_post\u001b[0m:\u001b[36m175\u001b[0m - \u001b[34m\u001b[1mInstantiating prompts...\u001b[0m\n",
      "\u001b[32m2024-04-30 20:48:29.525\u001b[0m | \u001b[34m\u001b[1mDEBUG   \u001b[0m | \u001b[36mdesci_sense.shared_functions.parsers.multi_chain_parser\u001b[0m:\u001b[36mprocess_ref_post\u001b[0m:\u001b[36m180\u001b[0m - \u001b[34m\u001b[1mInvoking parallel chain...\u001b[0m\n"
     ]
    },
    {
     "name": "stdout",
     "output_type": "stream",
     "text": [
      "37\n"
     ]
    },
    {
     "name": "stderr",
     "output_type": "stream",
     "text": [
      "\u001b[32m2024-04-30 20:48:34.703\u001b[0m | \u001b[34m\u001b[1mDEBUG   \u001b[0m | \u001b[36mdesci_sense.shared_functions.web_extractors.citoid\u001b[0m:\u001b[36mfetch_citation_async\u001b[0m:\u001b[36m20\u001b[0m - \u001b[34m\u001b[1mtarget_url=https://forms.office.com/pages/responsepage.aspx?id=sJhJDJ1-X0634VnjxCIXGNf4IM-vUbBAgkpkmcZmkVNURUg2Q1cxQVNFVjZCNU9YSE1ROUhKSEpTQy4u\u001b[0m\n",
      "\u001b[32m2024-04-30 20:48:34.707\u001b[0m | \u001b[34m\u001b[1mDEBUG   \u001b[0m | \u001b[36mdesci_sense.shared_functions.web_extractors.citoid\u001b[0m:\u001b[36mfetch_citation_async\u001b[0m:\u001b[36m20\u001b[0m - \u001b[34m\u001b[1mtarget_url=https://wiki.p2pfoundation.net/Ordo-Communal_State\u001b[0m\n",
      "\u001b[32m2024-04-30 20:48:35.894\u001b[0m | \u001b[34m\u001b[1mDEBUG   \u001b[0m | \u001b[36mdesci_sense.shared_functions.parsers.multi_chain_parser\u001b[0m:\u001b[36mprocess_ref_post\u001b[0m:\u001b[36m173\u001b[0m - \u001b[34m\u001b[1mProcessing post with parsers: ['topics']\u001b[0m\n",
      "\u001b[32m2024-04-30 20:48:35.896\u001b[0m | \u001b[34m\u001b[1mDEBUG   \u001b[0m | \u001b[36mdesci_sense.shared_functions.parsers.multi_chain_parser\u001b[0m:\u001b[36mprocess_ref_post\u001b[0m:\u001b[36m175\u001b[0m - \u001b[34m\u001b[1mInstantiating prompts...\u001b[0m\n",
      "\u001b[32m2024-04-30 20:48:35.898\u001b[0m | \u001b[34m\u001b[1mDEBUG   \u001b[0m | \u001b[36mdesci_sense.shared_functions.parsers.multi_chain_parser\u001b[0m:\u001b[36mprocess_ref_post\u001b[0m:\u001b[36m180\u001b[0m - \u001b[34m\u001b[1mInvoking parallel chain...\u001b[0m\n"
     ]
    },
    {
     "name": "stdout",
     "output_type": "stream",
     "text": [
      "38\n"
     ]
    },
    {
     "name": "stderr",
     "output_type": "stream",
     "text": [
      "\u001b[32m2024-04-30 20:48:39.194\u001b[0m | \u001b[34m\u001b[1mDEBUG   \u001b[0m | \u001b[36mdesci_sense.shared_functions.web_extractors.citoid\u001b[0m:\u001b[36mfetch_citation\u001b[0m:\u001b[36m54\u001b[0m - \u001b[34m\u001b[1mfetching citoid data for: https://greenwald.locals.com/upost/5508544/endless-war-and-us-security-state-w-sen-ron-johnson-and-rep-davidson\u001b[0m\n",
      "\u001b[32m2024-04-30 20:48:40.562\u001b[0m | \u001b[34m\u001b[1mDEBUG   \u001b[0m | \u001b[36mdesci_sense.shared_functions.parsers.multi_chain_parser\u001b[0m:\u001b[36mprocess_ref_post\u001b[0m:\u001b[36m173\u001b[0m - \u001b[34m\u001b[1mProcessing post with parsers: ['topics']\u001b[0m\n",
      "\u001b[32m2024-04-30 20:48:40.564\u001b[0m | \u001b[34m\u001b[1mDEBUG   \u001b[0m | \u001b[36mdesci_sense.shared_functions.parsers.multi_chain_parser\u001b[0m:\u001b[36mprocess_ref_post\u001b[0m:\u001b[36m175\u001b[0m - \u001b[34m\u001b[1mInstantiating prompts...\u001b[0m\n",
      "\u001b[32m2024-04-30 20:48:40.566\u001b[0m | \u001b[34m\u001b[1mDEBUG   \u001b[0m | \u001b[36mdesci_sense.shared_functions.parsers.multi_chain_parser\u001b[0m:\u001b[36mprocess_ref_post\u001b[0m:\u001b[36m180\u001b[0m - \u001b[34m\u001b[1mInvoking parallel chain...\u001b[0m\n"
     ]
    },
    {
     "name": "stdout",
     "output_type": "stream",
     "text": [
      "39\n"
     ]
    },
    {
     "name": "stderr",
     "output_type": "stream",
     "text": [
      "\u001b[32m2024-04-30 20:48:44.874\u001b[0m | \u001b[34m\u001b[1mDEBUG   \u001b[0m | \u001b[36mdesci_sense.shared_functions.web_extractors.citoid\u001b[0m:\u001b[36mfetch_citation\u001b[0m:\u001b[36m54\u001b[0m - \u001b[34m\u001b[1mfetching citoid data for: https://www.firstthings.com/article/2024/05/dark-enchantment\u001b[0m\n",
      "\u001b[32m2024-04-30 20:48:45.793\u001b[0m | \u001b[34m\u001b[1mDEBUG   \u001b[0m | \u001b[36mdesci_sense.shared_functions.parsers.multi_chain_parser\u001b[0m:\u001b[36mprocess_ref_post\u001b[0m:\u001b[36m173\u001b[0m - \u001b[34m\u001b[1mProcessing post with parsers: ['topics']\u001b[0m\n",
      "\u001b[32m2024-04-30 20:48:45.807\u001b[0m | \u001b[34m\u001b[1mDEBUG   \u001b[0m | \u001b[36mdesci_sense.shared_functions.parsers.multi_chain_parser\u001b[0m:\u001b[36mprocess_ref_post\u001b[0m:\u001b[36m175\u001b[0m - \u001b[34m\u001b[1mInstantiating prompts...\u001b[0m\n",
      "\u001b[32m2024-04-30 20:48:45.809\u001b[0m | \u001b[34m\u001b[1mDEBUG   \u001b[0m | \u001b[36mdesci_sense.shared_functions.parsers.multi_chain_parser\u001b[0m:\u001b[36mprocess_ref_post\u001b[0m:\u001b[36m180\u001b[0m - \u001b[34m\u001b[1mInvoking parallel chain...\u001b[0m\n",
      "\u001b[32m2024-04-30 20:48:47.706\u001b[0m | \u001b[34m\u001b[1mDEBUG   \u001b[0m | \u001b[36mdesci_sense.shared_functions.parsers.multi_chain_parser\u001b[0m:\u001b[36mprocess_ref_post\u001b[0m:\u001b[36m173\u001b[0m - \u001b[34m\u001b[1mProcessing post with parsers: ['topics']\u001b[0m\n",
      "\u001b[32m2024-04-30 20:48:47.708\u001b[0m | \u001b[34m\u001b[1mDEBUG   \u001b[0m | \u001b[36mdesci_sense.shared_functions.parsers.multi_chain_parser\u001b[0m:\u001b[36mprocess_ref_post\u001b[0m:\u001b[36m175\u001b[0m - \u001b[34m\u001b[1mInstantiating prompts...\u001b[0m\n",
      "\u001b[32m2024-04-30 20:48:47.710\u001b[0m | \u001b[34m\u001b[1mDEBUG   \u001b[0m | \u001b[36mdesci_sense.shared_functions.parsers.multi_chain_parser\u001b[0m:\u001b[36mprocess_ref_post\u001b[0m:\u001b[36m180\u001b[0m - \u001b[34m\u001b[1mInvoking parallel chain...\u001b[0m\n"
     ]
    },
    {
     "name": "stdout",
     "output_type": "stream",
     "text": [
      "40\n",
      "41\n"
     ]
    },
    {
     "name": "stderr",
     "output_type": "stream",
     "text": [
      "\u001b[32m2024-04-30 20:48:52.558\u001b[0m | \u001b[34m\u001b[1mDEBUG   \u001b[0m | \u001b[36mdesci_sense.shared_functions.web_extractors.citoid\u001b[0m:\u001b[36mfetch_citation\u001b[0m:\u001b[36m54\u001b[0m - \u001b[34m\u001b[1mfetching citoid data for: https://aoc.media/opinion/2024/04/11/de-lordoliberalisme-a-lordo-communalisme/\u001b[0m\n",
      "\u001b[32m2024-04-30 20:48:54.575\u001b[0m | \u001b[34m\u001b[1mDEBUG   \u001b[0m | \u001b[36mdesci_sense.shared_functions.parsers.multi_chain_parser\u001b[0m:\u001b[36mprocess_ref_post\u001b[0m:\u001b[36m173\u001b[0m - \u001b[34m\u001b[1mProcessing post with parsers: ['topics']\u001b[0m\n",
      "\u001b[32m2024-04-30 20:48:54.578\u001b[0m | \u001b[34m\u001b[1mDEBUG   \u001b[0m | \u001b[36mdesci_sense.shared_functions.parsers.multi_chain_parser\u001b[0m:\u001b[36mprocess_ref_post\u001b[0m:\u001b[36m175\u001b[0m - \u001b[34m\u001b[1mInstantiating prompts...\u001b[0m\n",
      "\u001b[32m2024-04-30 20:48:54.585\u001b[0m | \u001b[34m\u001b[1mDEBUG   \u001b[0m | \u001b[36mdesci_sense.shared_functions.parsers.multi_chain_parser\u001b[0m:\u001b[36mprocess_ref_post\u001b[0m:\u001b[36m180\u001b[0m - \u001b[34m\u001b[1mInvoking parallel chain...\u001b[0m\n",
      "\u001b[32m2024-04-30 20:48:57.309\u001b[0m | \u001b[34m\u001b[1mDEBUG   \u001b[0m | \u001b[36mdesci_sense.shared_functions.parsers.multi_chain_parser\u001b[0m:\u001b[36mprocess_ref_post\u001b[0m:\u001b[36m173\u001b[0m - \u001b[34m\u001b[1mProcessing post with parsers: ['topics']\u001b[0m\n",
      "\u001b[32m2024-04-30 20:48:57.311\u001b[0m | \u001b[34m\u001b[1mDEBUG   \u001b[0m | \u001b[36mdesci_sense.shared_functions.parsers.multi_chain_parser\u001b[0m:\u001b[36mprocess_ref_post\u001b[0m:\u001b[36m175\u001b[0m - \u001b[34m\u001b[1mInstantiating prompts...\u001b[0m\n",
      "\u001b[32m2024-04-30 20:48:57.312\u001b[0m | \u001b[34m\u001b[1mDEBUG   \u001b[0m | \u001b[36mdesci_sense.shared_functions.parsers.multi_chain_parser\u001b[0m:\u001b[36mprocess_ref_post\u001b[0m:\u001b[36m180\u001b[0m - \u001b[34m\u001b[1mInvoking parallel chain...\u001b[0m\n"
     ]
    },
    {
     "name": "stdout",
     "output_type": "stream",
     "text": [
      "42\n",
      "43\n"
     ]
    },
    {
     "name": "stderr",
     "output_type": "stream",
     "text": [
      "\u001b[32m2024-04-30 20:49:01.218\u001b[0m | \u001b[34m\u001b[1mDEBUG   \u001b[0m | \u001b[36mdesci_sense.shared_functions.web_extractors.citoid\u001b[0m:\u001b[36mfetch_citation\u001b[0m:\u001b[36m54\u001b[0m - \u001b[34m\u001b[1mfetching citoid data for: https://aoc.media/opinion/2024/04/11/de-lordoliberalisme-a-lordo-communalisme/\u001b[0m\n",
      "\u001b[32m2024-04-30 20:49:02.999\u001b[0m | \u001b[34m\u001b[1mDEBUG   \u001b[0m | \u001b[36mdesci_sense.shared_functions.parsers.multi_chain_parser\u001b[0m:\u001b[36mprocess_ref_post\u001b[0m:\u001b[36m173\u001b[0m - \u001b[34m\u001b[1mProcessing post with parsers: ['topics']\u001b[0m\n",
      "\u001b[32m2024-04-30 20:49:03.001\u001b[0m | \u001b[34m\u001b[1mDEBUG   \u001b[0m | \u001b[36mdesci_sense.shared_functions.parsers.multi_chain_parser\u001b[0m:\u001b[36mprocess_ref_post\u001b[0m:\u001b[36m175\u001b[0m - \u001b[34m\u001b[1mInstantiating prompts...\u001b[0m\n",
      "\u001b[32m2024-04-30 20:49:03.003\u001b[0m | \u001b[34m\u001b[1mDEBUG   \u001b[0m | \u001b[36mdesci_sense.shared_functions.parsers.multi_chain_parser\u001b[0m:\u001b[36mprocess_ref_post\u001b[0m:\u001b[36m180\u001b[0m - \u001b[34m\u001b[1mInvoking parallel chain...\u001b[0m\n"
     ]
    },
    {
     "name": "stdout",
     "output_type": "stream",
     "text": [
      "44\n"
     ]
    },
    {
     "name": "stderr",
     "output_type": "stream",
     "text": [
      "\u001b[32m2024-04-30 20:49:09.825\u001b[0m | \u001b[34m\u001b[1mDEBUG   \u001b[0m | \u001b[36mdesci_sense.shared_functions.web_extractors.citoid\u001b[0m:\u001b[36mfetch_citation\u001b[0m:\u001b[36m54\u001b[0m - \u001b[34m\u001b[1mfetching citoid data for: https://thewholesocial.substack.com/p/listen-rudolf-steiner-on-building-healthy-orgs\u001b[0m\n",
      "\u001b[32m2024-04-30 20:49:10.263\u001b[0m | \u001b[34m\u001b[1mDEBUG   \u001b[0m | \u001b[36mdesci_sense.shared_functions.parsers.multi_chain_parser\u001b[0m:\u001b[36mprocess_ref_post\u001b[0m:\u001b[36m173\u001b[0m - \u001b[34m\u001b[1mProcessing post with parsers: ['topics']\u001b[0m\n",
      "\u001b[32m2024-04-30 20:49:10.264\u001b[0m | \u001b[34m\u001b[1mDEBUG   \u001b[0m | \u001b[36mdesci_sense.shared_functions.parsers.multi_chain_parser\u001b[0m:\u001b[36mprocess_ref_post\u001b[0m:\u001b[36m175\u001b[0m - \u001b[34m\u001b[1mInstantiating prompts...\u001b[0m\n",
      "\u001b[32m2024-04-30 20:49:10.265\u001b[0m | \u001b[34m\u001b[1mDEBUG   \u001b[0m | \u001b[36mdesci_sense.shared_functions.parsers.multi_chain_parser\u001b[0m:\u001b[36mprocess_ref_post\u001b[0m:\u001b[36m180\u001b[0m - \u001b[34m\u001b[1mInvoking parallel chain...\u001b[0m\n"
     ]
    },
    {
     "name": "stdout",
     "output_type": "stream",
     "text": [
      "45\n"
     ]
    },
    {
     "name": "stderr",
     "output_type": "stream",
     "text": [
      "\u001b[32m2024-04-30 20:49:15.174\u001b[0m | \u001b[34m\u001b[1mDEBUG   \u001b[0m | \u001b[36mdesci_sense.shared_functions.web_extractors.citoid\u001b[0m:\u001b[36mfetch_citation\u001b[0m:\u001b[36m54\u001b[0m - \u001b[34m\u001b[1mfetching citoid data for: https://sites.google.com/view/svb80th\u001b[0m\n",
      "\u001b[32m2024-04-30 20:49:15.790\u001b[0m | \u001b[34m\u001b[1mDEBUG   \u001b[0m | \u001b[36mdesci_sense.shared_functions.parsers.multi_chain_parser\u001b[0m:\u001b[36mprocess_ref_post\u001b[0m:\u001b[36m173\u001b[0m - \u001b[34m\u001b[1mProcessing post with parsers: ['topics']\u001b[0m\n",
      "\u001b[32m2024-04-30 20:49:15.791\u001b[0m | \u001b[34m\u001b[1mDEBUG   \u001b[0m | \u001b[36mdesci_sense.shared_functions.parsers.multi_chain_parser\u001b[0m:\u001b[36mprocess_ref_post\u001b[0m:\u001b[36m175\u001b[0m - \u001b[34m\u001b[1mInstantiating prompts...\u001b[0m\n",
      "\u001b[32m2024-04-30 20:49:15.792\u001b[0m | \u001b[34m\u001b[1mDEBUG   \u001b[0m | \u001b[36mdesci_sense.shared_functions.parsers.multi_chain_parser\u001b[0m:\u001b[36mprocess_ref_post\u001b[0m:\u001b[36m180\u001b[0m - \u001b[34m\u001b[1mInvoking parallel chain...\u001b[0m\n"
     ]
    },
    {
     "name": "stdout",
     "output_type": "stream",
     "text": [
      "46\n"
     ]
    },
    {
     "name": "stderr",
     "output_type": "stream",
     "text": [
      "\u001b[32m2024-04-30 20:49:19.401\u001b[0m | \u001b[34m\u001b[1mDEBUG   \u001b[0m | \u001b[36mdesci_sense.shared_functions.web_extractors.citoid\u001b[0m:\u001b[36mfetch_citation\u001b[0m:\u001b[36m54\u001b[0m - \u001b[34m\u001b[1mfetching citoid data for: https://enhanced.org/update-wikipedia/\u001b[0m\n",
      "\u001b[32m2024-04-30 20:49:21.160\u001b[0m | \u001b[34m\u001b[1mDEBUG   \u001b[0m | \u001b[36mdesci_sense.shared_functions.parsers.multi_chain_parser\u001b[0m:\u001b[36mprocess_ref_post\u001b[0m:\u001b[36m173\u001b[0m - \u001b[34m\u001b[1mProcessing post with parsers: ['topics']\u001b[0m\n",
      "\u001b[32m2024-04-30 20:49:21.165\u001b[0m | \u001b[34m\u001b[1mDEBUG   \u001b[0m | \u001b[36mdesci_sense.shared_functions.parsers.multi_chain_parser\u001b[0m:\u001b[36mprocess_ref_post\u001b[0m:\u001b[36m175\u001b[0m - \u001b[34m\u001b[1mInstantiating prompts...\u001b[0m\n",
      "\u001b[32m2024-04-30 20:49:21.169\u001b[0m | \u001b[34m\u001b[1mDEBUG   \u001b[0m | \u001b[36mdesci_sense.shared_functions.parsers.multi_chain_parser\u001b[0m:\u001b[36mprocess_ref_post\u001b[0m:\u001b[36m180\u001b[0m - \u001b[34m\u001b[1mInvoking parallel chain...\u001b[0m\n"
     ]
    },
    {
     "name": "stdout",
     "output_type": "stream",
     "text": [
      "47\n"
     ]
    },
    {
     "name": "stderr",
     "output_type": "stream",
     "text": [
      "\u001b[32m2024-04-30 20:49:26.864\u001b[0m | \u001b[34m\u001b[1mDEBUG   \u001b[0m | \u001b[36mdesci_sense.shared_functions.web_extractors.citoid\u001b[0m:\u001b[36mfetch_citation\u001b[0m:\u001b[36m54\u001b[0m - \u001b[34m\u001b[1mfetching citoid data for: https://belial.fr/legacy/a/yannick-rumpala/cyberpunk-s-not-dead\u001b[0m\n",
      "\u001b[32m2024-04-30 20:49:28.909\u001b[0m | \u001b[34m\u001b[1mDEBUG   \u001b[0m | \u001b[36mdesci_sense.shared_functions.parsers.multi_chain_parser\u001b[0m:\u001b[36mprocess_ref_post\u001b[0m:\u001b[36m173\u001b[0m - \u001b[34m\u001b[1mProcessing post with parsers: ['topics']\u001b[0m\n",
      "\u001b[32m2024-04-30 20:49:28.913\u001b[0m | \u001b[34m\u001b[1mDEBUG   \u001b[0m | \u001b[36mdesci_sense.shared_functions.parsers.multi_chain_parser\u001b[0m:\u001b[36mprocess_ref_post\u001b[0m:\u001b[36m175\u001b[0m - \u001b[34m\u001b[1mInstantiating prompts...\u001b[0m\n",
      "\u001b[32m2024-04-30 20:49:28.915\u001b[0m | \u001b[34m\u001b[1mDEBUG   \u001b[0m | \u001b[36mdesci_sense.shared_functions.parsers.multi_chain_parser\u001b[0m:\u001b[36mprocess_ref_post\u001b[0m:\u001b[36m180\u001b[0m - \u001b[34m\u001b[1mInvoking parallel chain...\u001b[0m\n"
     ]
    },
    {
     "name": "stdout",
     "output_type": "stream",
     "text": [
      "48\n"
     ]
    },
    {
     "name": "stderr",
     "output_type": "stream",
     "text": [
      "\u001b[32m2024-04-30 20:49:33.086\u001b[0m | \u001b[34m\u001b[1mDEBUG   \u001b[0m | \u001b[36mdesci_sense.shared_functions.web_extractors.citoid\u001b[0m:\u001b[36mfetch_citation\u001b[0m:\u001b[36m54\u001b[0m - \u001b[34m\u001b[1mfetching citoid data for: https://wiki.p2pfoundation.net/Cosmo-Local_Reader\u001b[0m\n",
      "\u001b[32m2024-04-30 20:49:34.230\u001b[0m | \u001b[34m\u001b[1mDEBUG   \u001b[0m | \u001b[36mdesci_sense.shared_functions.parsers.multi_chain_parser\u001b[0m:\u001b[36mprocess_ref_post\u001b[0m:\u001b[36m173\u001b[0m - \u001b[34m\u001b[1mProcessing post with parsers: ['topics']\u001b[0m\n",
      "\u001b[32m2024-04-30 20:49:34.233\u001b[0m | \u001b[34m\u001b[1mDEBUG   \u001b[0m | \u001b[36mdesci_sense.shared_functions.parsers.multi_chain_parser\u001b[0m:\u001b[36mprocess_ref_post\u001b[0m:\u001b[36m175\u001b[0m - \u001b[34m\u001b[1mInstantiating prompts...\u001b[0m\n",
      "\u001b[32m2024-04-30 20:49:34.235\u001b[0m | \u001b[34m\u001b[1mDEBUG   \u001b[0m | \u001b[36mdesci_sense.shared_functions.parsers.multi_chain_parser\u001b[0m:\u001b[36mprocess_ref_post\u001b[0m:\u001b[36m180\u001b[0m - \u001b[34m\u001b[1mInvoking parallel chain...\u001b[0m\n"
     ]
    },
    {
     "name": "stdout",
     "output_type": "stream",
     "text": [
      "49\n"
     ]
    },
    {
     "name": "stderr",
     "output_type": "stream",
     "text": [
      "\u001b[32m2024-04-30 20:49:38.408\u001b[0m | \u001b[34m\u001b[1mDEBUG   \u001b[0m | \u001b[36mdesci_sense.shared_functions.web_extractors.citoid\u001b[0m:\u001b[36mfetch_citation\u001b[0m:\u001b[36m54\u001b[0m - \u001b[34m\u001b[1mfetching citoid data for: https://www.thealternative.org.uk/dailyalternative/2021/11/7/cosmolocal-reader?rq=Bauwens\u001b[0m\n",
      "\u001b[32m2024-04-30 20:49:38.756\u001b[0m | \u001b[34m\u001b[1mDEBUG   \u001b[0m | \u001b[36mdesci_sense.shared_functions.parsers.multi_chain_parser\u001b[0m:\u001b[36mprocess_ref_post\u001b[0m:\u001b[36m173\u001b[0m - \u001b[34m\u001b[1mProcessing post with parsers: ['topics']\u001b[0m\n",
      "\u001b[32m2024-04-30 20:49:38.757\u001b[0m | \u001b[34m\u001b[1mDEBUG   \u001b[0m | \u001b[36mdesci_sense.shared_functions.parsers.multi_chain_parser\u001b[0m:\u001b[36mprocess_ref_post\u001b[0m:\u001b[36m175\u001b[0m - \u001b[34m\u001b[1mInstantiating prompts...\u001b[0m\n",
      "\u001b[32m2024-04-30 20:49:38.758\u001b[0m | \u001b[34m\u001b[1mDEBUG   \u001b[0m | \u001b[36mdesci_sense.shared_functions.parsers.multi_chain_parser\u001b[0m:\u001b[36mprocess_ref_post\u001b[0m:\u001b[36m180\u001b[0m - \u001b[34m\u001b[1mInvoking parallel chain...\u001b[0m\n"
     ]
    },
    {
     "name": "stdout",
     "output_type": "stream",
     "text": [
      "50\n"
     ]
    },
    {
     "name": "stderr",
     "output_type": "stream",
     "text": [
      "\u001b[32m2024-04-30 20:49:43.430\u001b[0m | \u001b[34m\u001b[1mDEBUG   \u001b[0m | \u001b[36mdesci_sense.shared_functions.web_extractors.citoid\u001b[0m:\u001b[36mfetch_citation\u001b[0m:\u001b[36m54\u001b[0m - \u001b[34m\u001b[1mfetching citoid data for: https://twitter.com/aronvallinder/status/1779953971295031459\u001b[0m\n",
      "\u001b[32m2024-04-30 20:49:43.765\u001b[0m | \u001b[34m\u001b[1mDEBUG   \u001b[0m | \u001b[36mdesci_sense.shared_functions.parsers.multi_chain_parser\u001b[0m:\u001b[36mprocess_ref_post\u001b[0m:\u001b[36m173\u001b[0m - \u001b[34m\u001b[1mProcessing post with parsers: ['topics']\u001b[0m\n",
      "\u001b[32m2024-04-30 20:49:43.767\u001b[0m | \u001b[34m\u001b[1mDEBUG   \u001b[0m | \u001b[36mdesci_sense.shared_functions.parsers.multi_chain_parser\u001b[0m:\u001b[36mprocess_ref_post\u001b[0m:\u001b[36m175\u001b[0m - \u001b[34m\u001b[1mInstantiating prompts...\u001b[0m\n",
      "\u001b[32m2024-04-30 20:49:43.769\u001b[0m | \u001b[34m\u001b[1mDEBUG   \u001b[0m | \u001b[36mdesci_sense.shared_functions.parsers.multi_chain_parser\u001b[0m:\u001b[36mprocess_ref_post\u001b[0m:\u001b[36m180\u001b[0m - \u001b[34m\u001b[1mInvoking parallel chain...\u001b[0m\n",
      "\u001b[32m2024-04-30 20:49:46.839\u001b[0m | \u001b[34m\u001b[1mDEBUG   \u001b[0m | \u001b[36mdesci_sense.shared_functions.parsers.multi_chain_parser\u001b[0m:\u001b[36mprocess_ref_post\u001b[0m:\u001b[36m173\u001b[0m - \u001b[34m\u001b[1mProcessing post with parsers: ['topics']\u001b[0m\n",
      "\u001b[32m2024-04-30 20:49:46.842\u001b[0m | \u001b[34m\u001b[1mDEBUG   \u001b[0m | \u001b[36mdesci_sense.shared_functions.parsers.multi_chain_parser\u001b[0m:\u001b[36mprocess_ref_post\u001b[0m:\u001b[36m175\u001b[0m - \u001b[34m\u001b[1mInstantiating prompts...\u001b[0m\n",
      "\u001b[32m2024-04-30 20:49:46.845\u001b[0m | \u001b[34m\u001b[1mDEBUG   \u001b[0m | \u001b[36mdesci_sense.shared_functions.parsers.multi_chain_parser\u001b[0m:\u001b[36mprocess_ref_post\u001b[0m:\u001b[36m180\u001b[0m - \u001b[34m\u001b[1mInvoking parallel chain...\u001b[0m\n"
     ]
    },
    {
     "name": "stdout",
     "output_type": "stream",
     "text": [
      "51\n",
      "52\n"
     ]
    },
    {
     "name": "stderr",
     "output_type": "stream",
     "text": [
      "\u001b[32m2024-04-30 20:49:49.192\u001b[0m | \u001b[34m\u001b[1mDEBUG   \u001b[0m | \u001b[36mdesci_sense.shared_functions.web_extractors.citoid\u001b[0m:\u001b[36mfetch_citation\u001b[0m:\u001b[36m54\u001b[0m - \u001b[34m\u001b[1mfetching citoid data for: https://twitter.com/AnnaLeptikon/status/1779455802119450739/video/1\u001b[0m\n",
      "\u001b[32m2024-04-30 20:49:49.433\u001b[0m | \u001b[34m\u001b[1mDEBUG   \u001b[0m | \u001b[36mdesci_sense.shared_functions.parsers.multi_chain_parser\u001b[0m:\u001b[36mprocess_ref_post\u001b[0m:\u001b[36m173\u001b[0m - \u001b[34m\u001b[1mProcessing post with parsers: ['topics']\u001b[0m\n",
      "\u001b[32m2024-04-30 20:49:49.434\u001b[0m | \u001b[34m\u001b[1mDEBUG   \u001b[0m | \u001b[36mdesci_sense.shared_functions.parsers.multi_chain_parser\u001b[0m:\u001b[36mprocess_ref_post\u001b[0m:\u001b[36m175\u001b[0m - \u001b[34m\u001b[1mInstantiating prompts...\u001b[0m\n",
      "\u001b[32m2024-04-30 20:49:49.436\u001b[0m | \u001b[34m\u001b[1mDEBUG   \u001b[0m | \u001b[36mdesci_sense.shared_functions.parsers.multi_chain_parser\u001b[0m:\u001b[36mprocess_ref_post\u001b[0m:\u001b[36m180\u001b[0m - \u001b[34m\u001b[1mInvoking parallel chain...\u001b[0m\n"
     ]
    },
    {
     "name": "stdout",
     "output_type": "stream",
     "text": [
      "53\n"
     ]
    },
    {
     "name": "stderr",
     "output_type": "stream",
     "text": [
      "\u001b[32m2024-04-30 20:49:54.192\u001b[0m | \u001b[34m\u001b[1mDEBUG   \u001b[0m | \u001b[36mdesci_sense.shared_functions.web_extractors.citoid\u001b[0m:\u001b[36mfetch_citation\u001b[0m:\u001b[36m54\u001b[0m - \u001b[34m\u001b[1mfetching citoid data for: https://twitter.com/evantthompson/status/1778107723638243526\u001b[0m\n",
      "\u001b[32m2024-04-30 20:49:54.403\u001b[0m | \u001b[34m\u001b[1mDEBUG   \u001b[0m | \u001b[36mdesci_sense.shared_functions.parsers.multi_chain_parser\u001b[0m:\u001b[36mprocess_ref_post\u001b[0m:\u001b[36m173\u001b[0m - \u001b[34m\u001b[1mProcessing post with parsers: ['topics']\u001b[0m\n",
      "\u001b[32m2024-04-30 20:49:54.404\u001b[0m | \u001b[34m\u001b[1mDEBUG   \u001b[0m | \u001b[36mdesci_sense.shared_functions.parsers.multi_chain_parser\u001b[0m:\u001b[36mprocess_ref_post\u001b[0m:\u001b[36m175\u001b[0m - \u001b[34m\u001b[1mInstantiating prompts...\u001b[0m\n",
      "\u001b[32m2024-04-30 20:49:54.406\u001b[0m | \u001b[34m\u001b[1mDEBUG   \u001b[0m | \u001b[36mdesci_sense.shared_functions.parsers.multi_chain_parser\u001b[0m:\u001b[36mprocess_ref_post\u001b[0m:\u001b[36m180\u001b[0m - \u001b[34m\u001b[1mInvoking parallel chain...\u001b[0m\n",
      "\u001b[32m2024-04-30 20:49:56.047\u001b[0m | \u001b[34m\u001b[1mDEBUG   \u001b[0m | \u001b[36mdesci_sense.shared_functions.parsers.multi_chain_parser\u001b[0m:\u001b[36mprocess_ref_post\u001b[0m:\u001b[36m173\u001b[0m - \u001b[34m\u001b[1mProcessing post with parsers: ['topics']\u001b[0m\n",
      "\u001b[32m2024-04-30 20:49:56.049\u001b[0m | \u001b[34m\u001b[1mDEBUG   \u001b[0m | \u001b[36mdesci_sense.shared_functions.parsers.multi_chain_parser\u001b[0m:\u001b[36mprocess_ref_post\u001b[0m:\u001b[36m175\u001b[0m - \u001b[34m\u001b[1mInstantiating prompts...\u001b[0m\n",
      "\u001b[32m2024-04-30 20:49:56.051\u001b[0m | \u001b[34m\u001b[1mDEBUG   \u001b[0m | \u001b[36mdesci_sense.shared_functions.parsers.multi_chain_parser\u001b[0m:\u001b[36mprocess_ref_post\u001b[0m:\u001b[36m180\u001b[0m - \u001b[34m\u001b[1mInvoking parallel chain...\u001b[0m\n"
     ]
    },
    {
     "name": "stdout",
     "output_type": "stream",
     "text": [
      "54\n",
      "55\n"
     ]
    },
    {
     "name": "stderr",
     "output_type": "stream",
     "text": [
      "\u001b[32m2024-04-30 20:49:59.962\u001b[0m | \u001b[34m\u001b[1mDEBUG   \u001b[0m | \u001b[36mdesci_sense.shared_functions.web_extractors.citoid\u001b[0m:\u001b[36mfetch_citation\u001b[0m:\u001b[36m54\u001b[0m - \u001b[34m\u001b[1mfetching citoid data for: https://twitter.com/tyleralterman/status/1777853053409923573\u001b[0m\n",
      "\u001b[32m2024-04-30 20:50:00.162\u001b[0m | \u001b[34m\u001b[1mDEBUG   \u001b[0m | \u001b[36mdesci_sense.shared_functions.parsers.multi_chain_parser\u001b[0m:\u001b[36mprocess_ref_post\u001b[0m:\u001b[36m173\u001b[0m - \u001b[34m\u001b[1mProcessing post with parsers: ['topics']\u001b[0m\n",
      "\u001b[32m2024-04-30 20:50:00.163\u001b[0m | \u001b[34m\u001b[1mDEBUG   \u001b[0m | \u001b[36mdesci_sense.shared_functions.parsers.multi_chain_parser\u001b[0m:\u001b[36mprocess_ref_post\u001b[0m:\u001b[36m175\u001b[0m - \u001b[34m\u001b[1mInstantiating prompts...\u001b[0m\n",
      "\u001b[32m2024-04-30 20:50:00.164\u001b[0m | \u001b[34m\u001b[1mDEBUG   \u001b[0m | \u001b[36mdesci_sense.shared_functions.parsers.multi_chain_parser\u001b[0m:\u001b[36mprocess_ref_post\u001b[0m:\u001b[36m180\u001b[0m - \u001b[34m\u001b[1mInvoking parallel chain...\u001b[0m\n"
     ]
    },
    {
     "name": "stdout",
     "output_type": "stream",
     "text": [
      "56\n"
     ]
    },
    {
     "name": "stderr",
     "output_type": "stream",
     "text": [
      "\u001b[32m2024-04-30 20:50:04.390\u001b[0m | \u001b[34m\u001b[1mDEBUG   \u001b[0m | \u001b[36mdesci_sense.shared_functions.web_extractors.citoid\u001b[0m:\u001b[36mfetch_citation\u001b[0m:\u001b[36m54\u001b[0m - \u001b[34m\u001b[1mfetching citoid data for: https://twitter.com/stephen_wolfram/status/1420898495607758852\u001b[0m\n",
      "\u001b[32m2024-04-30 20:50:04.572\u001b[0m | \u001b[34m\u001b[1mDEBUG   \u001b[0m | \u001b[36mdesci_sense.shared_functions.parsers.multi_chain_parser\u001b[0m:\u001b[36mprocess_ref_post\u001b[0m:\u001b[36m173\u001b[0m - \u001b[34m\u001b[1mProcessing post with parsers: ['topics']\u001b[0m\n",
      "\u001b[32m2024-04-30 20:50:04.573\u001b[0m | \u001b[34m\u001b[1mDEBUG   \u001b[0m | \u001b[36mdesci_sense.shared_functions.parsers.multi_chain_parser\u001b[0m:\u001b[36mprocess_ref_post\u001b[0m:\u001b[36m175\u001b[0m - \u001b[34m\u001b[1mInstantiating prompts...\u001b[0m\n",
      "\u001b[32m2024-04-30 20:50:04.574\u001b[0m | \u001b[34m\u001b[1mDEBUG   \u001b[0m | \u001b[36mdesci_sense.shared_functions.parsers.multi_chain_parser\u001b[0m:\u001b[36mprocess_ref_post\u001b[0m:\u001b[36m180\u001b[0m - \u001b[34m\u001b[1mInvoking parallel chain...\u001b[0m\n"
     ]
    },
    {
     "name": "stdout",
     "output_type": "stream",
     "text": [
      "57\n"
     ]
    },
    {
     "name": "stderr",
     "output_type": "stream",
     "text": [
      "\u001b[32m2024-04-30 20:50:08.187\u001b[0m | \u001b[34m\u001b[1mDEBUG   \u001b[0m | \u001b[36mdesci_sense.shared_functions.web_extractors.citoid\u001b[0m:\u001b[36mfetch_citation\u001b[0m:\u001b[36m54\u001b[0m - \u001b[34m\u001b[1mfetching citoid data for: https://medium.com/@max_cherepitsa/bret-victor-bookshelf-transcribed-eae4d63aa493\u001b[0m\n",
      "\u001b[32m2024-04-30 20:50:12.123\u001b[0m | \u001b[34m\u001b[1mDEBUG   \u001b[0m | \u001b[36mdesci_sense.shared_functions.parsers.multi_chain_parser\u001b[0m:\u001b[36mprocess_ref_post\u001b[0m:\u001b[36m173\u001b[0m - \u001b[34m\u001b[1mProcessing post with parsers: ['topics']\u001b[0m\n",
      "\u001b[32m2024-04-30 20:50:12.127\u001b[0m | \u001b[34m\u001b[1mDEBUG   \u001b[0m | \u001b[36mdesci_sense.shared_functions.parsers.multi_chain_parser\u001b[0m:\u001b[36mprocess_ref_post\u001b[0m:\u001b[36m175\u001b[0m - \u001b[34m\u001b[1mInstantiating prompts...\u001b[0m\n",
      "\u001b[32m2024-04-30 20:50:12.133\u001b[0m | \u001b[34m\u001b[1mDEBUG   \u001b[0m | \u001b[36mdesci_sense.shared_functions.parsers.multi_chain_parser\u001b[0m:\u001b[36mprocess_ref_post\u001b[0m:\u001b[36m180\u001b[0m - \u001b[34m\u001b[1mInvoking parallel chain...\u001b[0m\n",
      "\u001b[32m2024-04-30 20:50:15.417\u001b[0m | \u001b[34m\u001b[1mDEBUG   \u001b[0m | \u001b[36mdesci_sense.shared_functions.parsers.multi_chain_parser\u001b[0m:\u001b[36mprocess_ref_post\u001b[0m:\u001b[36m173\u001b[0m - \u001b[34m\u001b[1mProcessing post with parsers: ['topics']\u001b[0m\n",
      "\u001b[32m2024-04-30 20:50:15.418\u001b[0m | \u001b[34m\u001b[1mDEBUG   \u001b[0m | \u001b[36mdesci_sense.shared_functions.parsers.multi_chain_parser\u001b[0m:\u001b[36mprocess_ref_post\u001b[0m:\u001b[36m175\u001b[0m - \u001b[34m\u001b[1mInstantiating prompts...\u001b[0m\n",
      "\u001b[32m2024-04-30 20:50:15.425\u001b[0m | \u001b[34m\u001b[1mDEBUG   \u001b[0m | \u001b[36mdesci_sense.shared_functions.parsers.multi_chain_parser\u001b[0m:\u001b[36mprocess_ref_post\u001b[0m:\u001b[36m180\u001b[0m - \u001b[34m\u001b[1mInvoking parallel chain...\u001b[0m\n"
     ]
    },
    {
     "name": "stdout",
     "output_type": "stream",
     "text": [
      "58\n"
     ]
    },
    {
     "name": "stderr",
     "output_type": "stream",
     "text": [
      "\u001b[32m2024-04-30 20:50:20.592\u001b[0m | \u001b[34m\u001b[1mDEBUG   \u001b[0m | \u001b[36mdesci_sense.shared_functions.parsers.multi_chain_parser\u001b[0m:\u001b[36mprocess_ref_post\u001b[0m:\u001b[36m173\u001b[0m - \u001b[34m\u001b[1mProcessing post with parsers: ['topics']\u001b[0m\n",
      "\u001b[32m2024-04-30 20:50:20.594\u001b[0m | \u001b[34m\u001b[1mDEBUG   \u001b[0m | \u001b[36mdesci_sense.shared_functions.parsers.multi_chain_parser\u001b[0m:\u001b[36mprocess_ref_post\u001b[0m:\u001b[36m175\u001b[0m - \u001b[34m\u001b[1mInstantiating prompts...\u001b[0m\n",
      "\u001b[32m2024-04-30 20:50:20.594\u001b[0m | \u001b[34m\u001b[1mDEBUG   \u001b[0m | \u001b[36mdesci_sense.shared_functions.parsers.multi_chain_parser\u001b[0m:\u001b[36mprocess_ref_post\u001b[0m:\u001b[36m180\u001b[0m - \u001b[34m\u001b[1mInvoking parallel chain...\u001b[0m\n"
     ]
    },
    {
     "name": "stdout",
     "output_type": "stream",
     "text": [
      "59\n"
     ]
    },
    {
     "name": "stderr",
     "output_type": "stream",
     "text": [
      "\u001b[32m2024-04-30 20:50:22.674\u001b[0m | \u001b[34m\u001b[1mDEBUG   \u001b[0m | \u001b[36mdesci_sense.shared_functions.parsers.multi_chain_parser\u001b[0m:\u001b[36mprocess_ref_post\u001b[0m:\u001b[36m173\u001b[0m - \u001b[34m\u001b[1mProcessing post with parsers: ['topics']\u001b[0m\n",
      "\u001b[32m2024-04-30 20:50:22.676\u001b[0m | \u001b[34m\u001b[1mDEBUG   \u001b[0m | \u001b[36mdesci_sense.shared_functions.parsers.multi_chain_parser\u001b[0m:\u001b[36mprocess_ref_post\u001b[0m:\u001b[36m175\u001b[0m - \u001b[34m\u001b[1mInstantiating prompts...\u001b[0m\n",
      "\u001b[32m2024-04-30 20:50:22.677\u001b[0m | \u001b[34m\u001b[1mDEBUG   \u001b[0m | \u001b[36mdesci_sense.shared_functions.parsers.multi_chain_parser\u001b[0m:\u001b[36mprocess_ref_post\u001b[0m:\u001b[36m180\u001b[0m - \u001b[34m\u001b[1mInvoking parallel chain...\u001b[0m\n"
     ]
    },
    {
     "name": "stdout",
     "output_type": "stream",
     "text": [
      "60\n",
      "61\n"
     ]
    },
    {
     "name": "stderr",
     "output_type": "stream",
     "text": [
      "\u001b[32m2024-04-30 20:50:25.453\u001b[0m | \u001b[34m\u001b[1mDEBUG   \u001b[0m | \u001b[36mdesci_sense.shared_functions.web_extractors.citoid\u001b[0m:\u001b[36mfetch_citation_async\u001b[0m:\u001b[36m20\u001b[0m - \u001b[34m\u001b[1mtarget_url=https://twitter.com/AnnaLeptikon/status/1773420839028871646/photo/1\u001b[0m\n",
      "\u001b[32m2024-04-30 20:50:25.459\u001b[0m | \u001b[34m\u001b[1mDEBUG   \u001b[0m | \u001b[36mdesci_sense.shared_functions.web_extractors.citoid\u001b[0m:\u001b[36mfetch_citation_async\u001b[0m:\u001b[36m20\u001b[0m - \u001b[34m\u001b[1mtarget_url=https://twitter.com/paulg/status/1773354832566305019\u001b[0m\n",
      "\u001b[32m2024-04-30 20:50:25.796\u001b[0m | \u001b[34m\u001b[1mDEBUG   \u001b[0m | \u001b[36mdesci_sense.shared_functions.parsers.multi_chain_parser\u001b[0m:\u001b[36mprocess_ref_post\u001b[0m:\u001b[36m173\u001b[0m - \u001b[34m\u001b[1mProcessing post with parsers: ['topics']\u001b[0m\n",
      "\u001b[32m2024-04-30 20:50:25.796\u001b[0m | \u001b[34m\u001b[1mDEBUG   \u001b[0m | \u001b[36mdesci_sense.shared_functions.parsers.multi_chain_parser\u001b[0m:\u001b[36mprocess_ref_post\u001b[0m:\u001b[36m175\u001b[0m - \u001b[34m\u001b[1mInstantiating prompts...\u001b[0m\n",
      "\u001b[32m2024-04-30 20:50:25.798\u001b[0m | \u001b[34m\u001b[1mDEBUG   \u001b[0m | \u001b[36mdesci_sense.shared_functions.parsers.multi_chain_parser\u001b[0m:\u001b[36mprocess_ref_post\u001b[0m:\u001b[36m180\u001b[0m - \u001b[34m\u001b[1mInvoking parallel chain...\u001b[0m\n",
      "\u001b[32m2024-04-30 20:50:28.516\u001b[0m | \u001b[34m\u001b[1mDEBUG   \u001b[0m | \u001b[36mdesci_sense.shared_functions.parsers.multi_chain_parser\u001b[0m:\u001b[36mprocess_ref_post\u001b[0m:\u001b[36m173\u001b[0m - \u001b[34m\u001b[1mProcessing post with parsers: ['topics']\u001b[0m\n",
      "\u001b[32m2024-04-30 20:50:28.519\u001b[0m | \u001b[34m\u001b[1mDEBUG   \u001b[0m | \u001b[36mdesci_sense.shared_functions.parsers.multi_chain_parser\u001b[0m:\u001b[36mprocess_ref_post\u001b[0m:\u001b[36m175\u001b[0m - \u001b[34m\u001b[1mInstantiating prompts...\u001b[0m\n",
      "\u001b[32m2024-04-30 20:50:28.520\u001b[0m | \u001b[34m\u001b[1mDEBUG   \u001b[0m | \u001b[36mdesci_sense.shared_functions.parsers.multi_chain_parser\u001b[0m:\u001b[36mprocess_ref_post\u001b[0m:\u001b[36m180\u001b[0m - \u001b[34m\u001b[1mInvoking parallel chain...\u001b[0m\n"
     ]
    },
    {
     "name": "stdout",
     "output_type": "stream",
     "text": [
      "62\n"
     ]
    },
    {
     "name": "stderr",
     "output_type": "stream",
     "text": [
      "\u001b[32m2024-04-30 20:50:30.920\u001b[0m | \u001b[34m\u001b[1mDEBUG   \u001b[0m | \u001b[36mdesci_sense.shared_functions.parsers.multi_chain_parser\u001b[0m:\u001b[36mprocess_ref_post\u001b[0m:\u001b[36m173\u001b[0m - \u001b[34m\u001b[1mProcessing post with parsers: ['topics']\u001b[0m\n",
      "\u001b[32m2024-04-30 20:50:30.922\u001b[0m | \u001b[34m\u001b[1mDEBUG   \u001b[0m | \u001b[36mdesci_sense.shared_functions.parsers.multi_chain_parser\u001b[0m:\u001b[36mprocess_ref_post\u001b[0m:\u001b[36m175\u001b[0m - \u001b[34m\u001b[1mInstantiating prompts...\u001b[0m\n",
      "\u001b[32m2024-04-30 20:50:30.923\u001b[0m | \u001b[34m\u001b[1mDEBUG   \u001b[0m | \u001b[36mdesci_sense.shared_functions.parsers.multi_chain_parser\u001b[0m:\u001b[36mprocess_ref_post\u001b[0m:\u001b[36m180\u001b[0m - \u001b[34m\u001b[1mInvoking parallel chain...\u001b[0m\n"
     ]
    },
    {
     "name": "stdout",
     "output_type": "stream",
     "text": [
      "63\n",
      "64\n"
     ]
    },
    {
     "name": "stderr",
     "output_type": "stream",
     "text": [
      "\u001b[32m2024-04-30 20:50:33.767\u001b[0m | \u001b[34m\u001b[1mDEBUG   \u001b[0m | \u001b[36mdesci_sense.shared_functions.web_extractors.citoid\u001b[0m:\u001b[36mfetch_citation\u001b[0m:\u001b[36m54\u001b[0m - \u001b[34m\u001b[1mfetching citoid data for: https://twitter.com/AnnaLeptikon/status/1773024528337170450/photo/1\u001b[0m\n",
      "\u001b[32m2024-04-30 20:50:36.315\u001b[0m | \u001b[34m\u001b[1mDEBUG   \u001b[0m | \u001b[36mdesci_sense.shared_functions.parsers.multi_chain_parser\u001b[0m:\u001b[36mprocess_ref_post\u001b[0m:\u001b[36m173\u001b[0m - \u001b[34m\u001b[1mProcessing post with parsers: ['topics']\u001b[0m\n",
      "\u001b[32m2024-04-30 20:50:36.321\u001b[0m | \u001b[34m\u001b[1mDEBUG   \u001b[0m | \u001b[36mdesci_sense.shared_functions.parsers.multi_chain_parser\u001b[0m:\u001b[36mprocess_ref_post\u001b[0m:\u001b[36m175\u001b[0m - \u001b[34m\u001b[1mInstantiating prompts...\u001b[0m\n",
      "\u001b[32m2024-04-30 20:50:36.324\u001b[0m | \u001b[34m\u001b[1mDEBUG   \u001b[0m | \u001b[36mdesci_sense.shared_functions.parsers.multi_chain_parser\u001b[0m:\u001b[36mprocess_ref_post\u001b[0m:\u001b[36m180\u001b[0m - \u001b[34m\u001b[1mInvoking parallel chain...\u001b[0m\n",
      "\u001b[32m2024-04-30 20:50:40.288\u001b[0m | \u001b[34m\u001b[1mDEBUG   \u001b[0m | \u001b[36mdesci_sense.shared_functions.parsers.multi_chain_parser\u001b[0m:\u001b[36mprocess_ref_post\u001b[0m:\u001b[36m173\u001b[0m - \u001b[34m\u001b[1mProcessing post with parsers: ['topics']\u001b[0m\n",
      "\u001b[32m2024-04-30 20:50:40.289\u001b[0m | \u001b[34m\u001b[1mDEBUG   \u001b[0m | \u001b[36mdesci_sense.shared_functions.parsers.multi_chain_parser\u001b[0m:\u001b[36mprocess_ref_post\u001b[0m:\u001b[36m175\u001b[0m - \u001b[34m\u001b[1mInstantiating prompts...\u001b[0m\n",
      "\u001b[32m2024-04-30 20:50:40.290\u001b[0m | \u001b[34m\u001b[1mDEBUG   \u001b[0m | \u001b[36mdesci_sense.shared_functions.parsers.multi_chain_parser\u001b[0m:\u001b[36mprocess_ref_post\u001b[0m:\u001b[36m180\u001b[0m - \u001b[34m\u001b[1mInvoking parallel chain...\u001b[0m\n"
     ]
    },
    {
     "name": "stdout",
     "output_type": "stream",
     "text": [
      "65\n",
      "66\n"
     ]
    },
    {
     "name": "stderr",
     "output_type": "stream",
     "text": [
      "\u001b[32m2024-04-30 20:50:45.158\u001b[0m | \u001b[34m\u001b[1mDEBUG   \u001b[0m | \u001b[36mdesci_sense.shared_functions.web_extractors.citoid\u001b[0m:\u001b[36mfetch_citation\u001b[0m:\u001b[36m54\u001b[0m - \u001b[34m\u001b[1mfetching citoid data for: https://tiermaker.com/create/cryptography-15683166\u001b[0m\n",
      "\u001b[32m2024-04-30 20:50:45.441\u001b[0m | \u001b[34m\u001b[1mDEBUG   \u001b[0m | \u001b[36mdesci_sense.shared_functions.parsers.multi_chain_parser\u001b[0m:\u001b[36mprocess_ref_post\u001b[0m:\u001b[36m173\u001b[0m - \u001b[34m\u001b[1mProcessing post with parsers: ['topics']\u001b[0m\n",
      "\u001b[32m2024-04-30 20:50:45.452\u001b[0m | \u001b[34m\u001b[1mDEBUG   \u001b[0m | \u001b[36mdesci_sense.shared_functions.parsers.multi_chain_parser\u001b[0m:\u001b[36mprocess_ref_post\u001b[0m:\u001b[36m175\u001b[0m - \u001b[34m\u001b[1mInstantiating prompts...\u001b[0m\n",
      "\u001b[32m2024-04-30 20:50:45.458\u001b[0m | \u001b[34m\u001b[1mDEBUG   \u001b[0m | \u001b[36mdesci_sense.shared_functions.parsers.multi_chain_parser\u001b[0m:\u001b[36mprocess_ref_post\u001b[0m:\u001b[36m180\u001b[0m - \u001b[34m\u001b[1mInvoking parallel chain...\u001b[0m\n"
     ]
    },
    {
     "name": "stdout",
     "output_type": "stream",
     "text": [
      "67\n"
     ]
    },
    {
     "name": "stderr",
     "output_type": "stream",
     "text": [
      "\u001b[32m2024-04-30 20:50:48.486\u001b[0m | \u001b[34m\u001b[1mDEBUG   \u001b[0m | \u001b[36mdesci_sense.shared_functions.web_extractors.citoid\u001b[0m:\u001b[36mfetch_citation\u001b[0m:\u001b[36m54\u001b[0m - \u001b[34m\u001b[1mfetching citoid data for: https://twitter.com/balazskegl/status/1768681609815826545\u001b[0m\n",
      "\u001b[32m2024-04-30 20:50:48.714\u001b[0m | \u001b[34m\u001b[1mDEBUG   \u001b[0m | \u001b[36mdesci_sense.shared_functions.parsers.multi_chain_parser\u001b[0m:\u001b[36mprocess_ref_post\u001b[0m:\u001b[36m173\u001b[0m - \u001b[34m\u001b[1mProcessing post with parsers: ['topics']\u001b[0m\n",
      "\u001b[32m2024-04-30 20:50:48.717\u001b[0m | \u001b[34m\u001b[1mDEBUG   \u001b[0m | \u001b[36mdesci_sense.shared_functions.parsers.multi_chain_parser\u001b[0m:\u001b[36mprocess_ref_post\u001b[0m:\u001b[36m175\u001b[0m - \u001b[34m\u001b[1mInstantiating prompts...\u001b[0m\n",
      "\u001b[32m2024-04-30 20:50:48.719\u001b[0m | \u001b[34m\u001b[1mDEBUG   \u001b[0m | \u001b[36mdesci_sense.shared_functions.parsers.multi_chain_parser\u001b[0m:\u001b[36mprocess_ref_post\u001b[0m:\u001b[36m180\u001b[0m - \u001b[34m\u001b[1mInvoking parallel chain...\u001b[0m\n"
     ]
    },
    {
     "name": "stdout",
     "output_type": "stream",
     "text": [
      "68\n"
     ]
    },
    {
     "name": "stderr",
     "output_type": "stream",
     "text": [
      "\u001b[32m2024-04-30 20:50:52.072\u001b[0m | \u001b[34m\u001b[1mDEBUG   \u001b[0m | \u001b[36mdesci_sense.shared_functions.web_extractors.citoid\u001b[0m:\u001b[36mfetch_citation\u001b[0m:\u001b[36m54\u001b[0m - \u001b[34m\u001b[1mfetching citoid data for: https://twitter.com/jordanbpeterson/status/1766694909916905787\u001b[0m\n",
      "\u001b[32m2024-04-30 20:50:53.697\u001b[0m | \u001b[34m\u001b[1mDEBUG   \u001b[0m | \u001b[36mdesci_sense.shared_functions.parsers.multi_chain_parser\u001b[0m:\u001b[36mprocess_ref_post\u001b[0m:\u001b[36m173\u001b[0m - \u001b[34m\u001b[1mProcessing post with parsers: ['topics']\u001b[0m\n",
      "\u001b[32m2024-04-30 20:50:53.703\u001b[0m | \u001b[34m\u001b[1mDEBUG   \u001b[0m | \u001b[36mdesci_sense.shared_functions.parsers.multi_chain_parser\u001b[0m:\u001b[36mprocess_ref_post\u001b[0m:\u001b[36m175\u001b[0m - \u001b[34m\u001b[1mInstantiating prompts...\u001b[0m\n",
      "\u001b[32m2024-04-30 20:50:53.706\u001b[0m | \u001b[34m\u001b[1mDEBUG   \u001b[0m | \u001b[36mdesci_sense.shared_functions.parsers.multi_chain_parser\u001b[0m:\u001b[36mprocess_ref_post\u001b[0m:\u001b[36m180\u001b[0m - \u001b[34m\u001b[1mInvoking parallel chain...\u001b[0m\n",
      "\u001b[32m2024-04-30 20:50:56.200\u001b[0m | \u001b[34m\u001b[1mDEBUG   \u001b[0m | \u001b[36mdesci_sense.shared_functions.parsers.multi_chain_parser\u001b[0m:\u001b[36mprocess_ref_post\u001b[0m:\u001b[36m173\u001b[0m - \u001b[34m\u001b[1mProcessing post with parsers: ['topics']\u001b[0m\n",
      "\u001b[32m2024-04-30 20:50:56.202\u001b[0m | \u001b[34m\u001b[1mDEBUG   \u001b[0m | \u001b[36mdesci_sense.shared_functions.parsers.multi_chain_parser\u001b[0m:\u001b[36mprocess_ref_post\u001b[0m:\u001b[36m175\u001b[0m - \u001b[34m\u001b[1mInstantiating prompts...\u001b[0m\n",
      "\u001b[32m2024-04-30 20:50:56.204\u001b[0m | \u001b[34m\u001b[1mDEBUG   \u001b[0m | \u001b[36mdesci_sense.shared_functions.parsers.multi_chain_parser\u001b[0m:\u001b[36mprocess_ref_post\u001b[0m:\u001b[36m180\u001b[0m - \u001b[34m\u001b[1mInvoking parallel chain...\u001b[0m\n"
     ]
    },
    {
     "name": "stdout",
     "output_type": "stream",
     "text": [
      "69\n"
     ]
    },
    {
     "name": "stderr",
     "output_type": "stream",
     "text": [
      "\u001b[32m2024-04-30 20:51:00.168\u001b[0m | \u001b[34m\u001b[1mDEBUG   \u001b[0m | \u001b[36mdesci_sense.shared_functions.parsers.multi_chain_parser\u001b[0m:\u001b[36mprocess_ref_post\u001b[0m:\u001b[36m173\u001b[0m - \u001b[34m\u001b[1mProcessing post with parsers: ['topics']\u001b[0m\n",
      "\u001b[32m2024-04-30 20:51:00.169\u001b[0m | \u001b[34m\u001b[1mDEBUG   \u001b[0m | \u001b[36mdesci_sense.shared_functions.parsers.multi_chain_parser\u001b[0m:\u001b[36mprocess_ref_post\u001b[0m:\u001b[36m175\u001b[0m - \u001b[34m\u001b[1mInstantiating prompts...\u001b[0m\n",
      "\u001b[32m2024-04-30 20:51:00.170\u001b[0m | \u001b[34m\u001b[1mDEBUG   \u001b[0m | \u001b[36mdesci_sense.shared_functions.parsers.multi_chain_parser\u001b[0m:\u001b[36mprocess_ref_post\u001b[0m:\u001b[36m180\u001b[0m - \u001b[34m\u001b[1mInvoking parallel chain...\u001b[0m\n"
     ]
    },
    {
     "name": "stdout",
     "output_type": "stream",
     "text": [
      "70\n",
      "71\n"
     ]
    },
    {
     "name": "stderr",
     "output_type": "stream",
     "text": [
      "\u001b[32m2024-04-30 20:51:03.859\u001b[0m | \u001b[34m\u001b[1mDEBUG   \u001b[0m | \u001b[36mdesci_sense.shared_functions.web_extractors.citoid\u001b[0m:\u001b[36mfetch_citation\u001b[0m:\u001b[36m54\u001b[0m - \u001b[34m\u001b[1mfetching citoid data for: https://twitter.com/eshear/status/1764479991511998518\u001b[0m\n",
      "\u001b[32m2024-04-30 20:51:05.264\u001b[0m | \u001b[34m\u001b[1mDEBUG   \u001b[0m | \u001b[36mdesci_sense.shared_functions.parsers.multi_chain_parser\u001b[0m:\u001b[36mprocess_ref_post\u001b[0m:\u001b[36m173\u001b[0m - \u001b[34m\u001b[1mProcessing post with parsers: ['topics']\u001b[0m\n",
      "\u001b[32m2024-04-30 20:51:05.268\u001b[0m | \u001b[34m\u001b[1mDEBUG   \u001b[0m | \u001b[36mdesci_sense.shared_functions.parsers.multi_chain_parser\u001b[0m:\u001b[36mprocess_ref_post\u001b[0m:\u001b[36m175\u001b[0m - \u001b[34m\u001b[1mInstantiating prompts...\u001b[0m\n",
      "\u001b[32m2024-04-30 20:51:05.271\u001b[0m | \u001b[34m\u001b[1mDEBUG   \u001b[0m | \u001b[36mdesci_sense.shared_functions.parsers.multi_chain_parser\u001b[0m:\u001b[36mprocess_ref_post\u001b[0m:\u001b[36m180\u001b[0m - \u001b[34m\u001b[1mInvoking parallel chain...\u001b[0m\n",
      "\u001b[32m2024-04-30 20:51:08.019\u001b[0m | \u001b[34m\u001b[1mDEBUG   \u001b[0m | \u001b[36mdesci_sense.shared_functions.parsers.multi_chain_parser\u001b[0m:\u001b[36mprocess_ref_post\u001b[0m:\u001b[36m173\u001b[0m - \u001b[34m\u001b[1mProcessing post with parsers: ['topics']\u001b[0m\n",
      "\u001b[32m2024-04-30 20:51:08.022\u001b[0m | \u001b[34m\u001b[1mDEBUG   \u001b[0m | \u001b[36mdesci_sense.shared_functions.parsers.multi_chain_parser\u001b[0m:\u001b[36mprocess_ref_post\u001b[0m:\u001b[36m175\u001b[0m - \u001b[34m\u001b[1mInstantiating prompts...\u001b[0m\n",
      "\u001b[32m2024-04-30 20:51:08.024\u001b[0m | \u001b[34m\u001b[1mDEBUG   \u001b[0m | \u001b[36mdesci_sense.shared_functions.parsers.multi_chain_parser\u001b[0m:\u001b[36mprocess_ref_post\u001b[0m:\u001b[36m180\u001b[0m - \u001b[34m\u001b[1mInvoking parallel chain...\u001b[0m\n"
     ]
    },
    {
     "name": "stdout",
     "output_type": "stream",
     "text": [
      "72\n",
      "73\n"
     ]
    },
    {
     "name": "stderr",
     "output_type": "stream",
     "text": [
      "\u001b[32m2024-04-30 20:51:11.472\u001b[0m | \u001b[34m\u001b[1mDEBUG   \u001b[0m | \u001b[36mdesci_sense.shared_functions.web_extractors.citoid\u001b[0m:\u001b[36mfetch_citation\u001b[0m:\u001b[36m54\u001b[0m - \u001b[34m\u001b[1mfetching citoid data for: https://metamoderna.org/game-denial/\u001b[0m\n",
      "\u001b[32m2024-04-30 20:51:13.568\u001b[0m | \u001b[34m\u001b[1mDEBUG   \u001b[0m | \u001b[36mdesci_sense.shared_functions.parsers.multi_chain_parser\u001b[0m:\u001b[36mprocess_ref_post\u001b[0m:\u001b[36m173\u001b[0m - \u001b[34m\u001b[1mProcessing post with parsers: ['topics']\u001b[0m\n",
      "\u001b[32m2024-04-30 20:51:13.574\u001b[0m | \u001b[34m\u001b[1mDEBUG   \u001b[0m | \u001b[36mdesci_sense.shared_functions.parsers.multi_chain_parser\u001b[0m:\u001b[36mprocess_ref_post\u001b[0m:\u001b[36m175\u001b[0m - \u001b[34m\u001b[1mInstantiating prompts...\u001b[0m\n",
      "\u001b[32m2024-04-30 20:51:13.584\u001b[0m | \u001b[34m\u001b[1mDEBUG   \u001b[0m | \u001b[36mdesci_sense.shared_functions.parsers.multi_chain_parser\u001b[0m:\u001b[36mprocess_ref_post\u001b[0m:\u001b[36m180\u001b[0m - \u001b[34m\u001b[1mInvoking parallel chain...\u001b[0m\n"
     ]
    },
    {
     "name": "stdout",
     "output_type": "stream",
     "text": [
      "74\n"
     ]
    },
    {
     "name": "stderr",
     "output_type": "stream",
     "text": [
      "\u001b[32m2024-04-30 20:51:18.371\u001b[0m | \u001b[34m\u001b[1mDEBUG   \u001b[0m | \u001b[36mdesci_sense.shared_functions.web_extractors.citoid\u001b[0m:\u001b[36mfetch_citation\u001b[0m:\u001b[36m54\u001b[0m - \u001b[34m\u001b[1mfetching citoid data for: https://twitter.com/tsarnick/status/1761947002907369963\u001b[0m\n",
      "\u001b[32m2024-04-30 20:51:18.757\u001b[0m | \u001b[34m\u001b[1mDEBUG   \u001b[0m | \u001b[36mdesci_sense.shared_functions.parsers.multi_chain_parser\u001b[0m:\u001b[36mprocess_ref_post\u001b[0m:\u001b[36m173\u001b[0m - \u001b[34m\u001b[1mProcessing post with parsers: ['topics']\u001b[0m\n",
      "\u001b[32m2024-04-30 20:51:18.762\u001b[0m | \u001b[34m\u001b[1mDEBUG   \u001b[0m | \u001b[36mdesci_sense.shared_functions.parsers.multi_chain_parser\u001b[0m:\u001b[36mprocess_ref_post\u001b[0m:\u001b[36m175\u001b[0m - \u001b[34m\u001b[1mInstantiating prompts...\u001b[0m\n",
      "\u001b[32m2024-04-30 20:51:18.764\u001b[0m | \u001b[34m\u001b[1mDEBUG   \u001b[0m | \u001b[36mdesci_sense.shared_functions.parsers.multi_chain_parser\u001b[0m:\u001b[36mprocess_ref_post\u001b[0m:\u001b[36m180\u001b[0m - \u001b[34m\u001b[1mInvoking parallel chain...\u001b[0m\n"
     ]
    },
    {
     "name": "stdout",
     "output_type": "stream",
     "text": [
      "75\n"
     ]
    },
    {
     "name": "stderr",
     "output_type": "stream",
     "text": [
      "\u001b[32m2024-04-30 20:51:22.485\u001b[0m | \u001b[34m\u001b[1mDEBUG   \u001b[0m | \u001b[36mdesci_sense.shared_functions.web_extractors.citoid\u001b[0m:\u001b[36mfetch_citation\u001b[0m:\u001b[36m54\u001b[0m - \u001b[34m\u001b[1mfetching citoid data for: https://twitter.com/buitengebieden/status/1762252017752322190\u001b[0m\n",
      "\u001b[32m2024-04-30 20:51:23.798\u001b[0m | \u001b[34m\u001b[1mDEBUG   \u001b[0m | \u001b[36mdesci_sense.shared_functions.parsers.multi_chain_parser\u001b[0m:\u001b[36mprocess_ref_post\u001b[0m:\u001b[36m173\u001b[0m - \u001b[34m\u001b[1mProcessing post with parsers: ['topics']\u001b[0m\n",
      "\u001b[32m2024-04-30 20:51:23.802\u001b[0m | \u001b[34m\u001b[1mDEBUG   \u001b[0m | \u001b[36mdesci_sense.shared_functions.parsers.multi_chain_parser\u001b[0m:\u001b[36mprocess_ref_post\u001b[0m:\u001b[36m175\u001b[0m - \u001b[34m\u001b[1mInstantiating prompts...\u001b[0m\n",
      "\u001b[32m2024-04-30 20:51:23.804\u001b[0m | \u001b[34m\u001b[1mDEBUG   \u001b[0m | \u001b[36mdesci_sense.shared_functions.parsers.multi_chain_parser\u001b[0m:\u001b[36mprocess_ref_post\u001b[0m:\u001b[36m180\u001b[0m - \u001b[34m\u001b[1mInvoking parallel chain...\u001b[0m\n",
      "\u001b[32m2024-04-30 20:51:27.928\u001b[0m | \u001b[34m\u001b[1mDEBUG   \u001b[0m | \u001b[36mdesci_sense.shared_functions.parsers.multi_chain_parser\u001b[0m:\u001b[36mprocess_ref_post\u001b[0m:\u001b[36m173\u001b[0m - \u001b[34m\u001b[1mProcessing post with parsers: ['topics']\u001b[0m\n",
      "\u001b[32m2024-04-30 20:51:27.933\u001b[0m | \u001b[34m\u001b[1mDEBUG   \u001b[0m | \u001b[36mdesci_sense.shared_functions.parsers.multi_chain_parser\u001b[0m:\u001b[36mprocess_ref_post\u001b[0m:\u001b[36m175\u001b[0m - \u001b[34m\u001b[1mInstantiating prompts...\u001b[0m\n",
      "\u001b[32m2024-04-30 20:51:27.937\u001b[0m | \u001b[34m\u001b[1mDEBUG   \u001b[0m | \u001b[36mdesci_sense.shared_functions.parsers.multi_chain_parser\u001b[0m:\u001b[36mprocess_ref_post\u001b[0m:\u001b[36m180\u001b[0m - \u001b[34m\u001b[1mInvoking parallel chain...\u001b[0m\n"
     ]
    },
    {
     "name": "stdout",
     "output_type": "stream",
     "text": [
      "76\n"
     ]
    },
    {
     "name": "stderr",
     "output_type": "stream",
     "text": [
      "\u001b[32m2024-04-30 20:51:32.365\u001b[0m | \u001b[34m\u001b[1mDEBUG   \u001b[0m | \u001b[36mdesci_sense.shared_functions.parsers.multi_chain_parser\u001b[0m:\u001b[36mprocess_ref_post\u001b[0m:\u001b[36m173\u001b[0m - \u001b[34m\u001b[1mProcessing post with parsers: ['topics']\u001b[0m\n",
      "\u001b[32m2024-04-30 20:51:32.367\u001b[0m | \u001b[34m\u001b[1mDEBUG   \u001b[0m | \u001b[36mdesci_sense.shared_functions.parsers.multi_chain_parser\u001b[0m:\u001b[36mprocess_ref_post\u001b[0m:\u001b[36m175\u001b[0m - \u001b[34m\u001b[1mInstantiating prompts...\u001b[0m\n",
      "\u001b[32m2024-04-30 20:51:32.369\u001b[0m | \u001b[34m\u001b[1mDEBUG   \u001b[0m | \u001b[36mdesci_sense.shared_functions.parsers.multi_chain_parser\u001b[0m:\u001b[36mprocess_ref_post\u001b[0m:\u001b[36m180\u001b[0m - \u001b[34m\u001b[1mInvoking parallel chain...\u001b[0m\n"
     ]
    },
    {
     "name": "stdout",
     "output_type": "stream",
     "text": [
      "77\n",
      "78\n"
     ]
    },
    {
     "name": "stderr",
     "output_type": "stream",
     "text": [
      "\u001b[32m2024-04-30 20:51:36.710\u001b[0m | \u001b[34m\u001b[1mDEBUG   \u001b[0m | \u001b[36mdesci_sense.shared_functions.web_extractors.citoid\u001b[0m:\u001b[36mfetch_citation\u001b[0m:\u001b[36m54\u001b[0m - \u001b[34m\u001b[1mfetching citoid data for: https://twitter.com/SanderVerhaegh/status/1755940602015813737\u001b[0m\n",
      "\u001b[32m2024-04-30 20:51:36.978\u001b[0m | \u001b[34m\u001b[1mDEBUG   \u001b[0m | \u001b[36mdesci_sense.shared_functions.parsers.multi_chain_parser\u001b[0m:\u001b[36mprocess_ref_post\u001b[0m:\u001b[36m173\u001b[0m - \u001b[34m\u001b[1mProcessing post with parsers: ['topics']\u001b[0m\n",
      "\u001b[32m2024-04-30 20:51:36.980\u001b[0m | \u001b[34m\u001b[1mDEBUG   \u001b[0m | \u001b[36mdesci_sense.shared_functions.parsers.multi_chain_parser\u001b[0m:\u001b[36mprocess_ref_post\u001b[0m:\u001b[36m175\u001b[0m - \u001b[34m\u001b[1mInstantiating prompts...\u001b[0m\n",
      "\u001b[32m2024-04-30 20:51:37.000\u001b[0m | \u001b[34m\u001b[1mDEBUG   \u001b[0m | \u001b[36mdesci_sense.shared_functions.parsers.multi_chain_parser\u001b[0m:\u001b[36mprocess_ref_post\u001b[0m:\u001b[36m180\u001b[0m - \u001b[34m\u001b[1mInvoking parallel chain...\u001b[0m\n"
     ]
    },
    {
     "name": "stdout",
     "output_type": "stream",
     "text": [
      "79\n"
     ]
    },
    {
     "name": "stderr",
     "output_type": "stream",
     "text": [
      "\u001b[32m2024-04-30 20:51:39.988\u001b[0m | \u001b[34m\u001b[1mDEBUG   \u001b[0m | \u001b[36mdesci_sense.shared_functions.web_extractors.citoid\u001b[0m:\u001b[36mfetch_citation\u001b[0m:\u001b[36m54\u001b[0m - \u001b[34m\u001b[1mfetching citoid data for: https://fluidityforum.org/\u001b[0m\n",
      "\u001b[32m2024-04-30 20:51:40.465\u001b[0m | \u001b[34m\u001b[1mDEBUG   \u001b[0m | \u001b[36mdesci_sense.shared_functions.parsers.multi_chain_parser\u001b[0m:\u001b[36mprocess_ref_post\u001b[0m:\u001b[36m173\u001b[0m - \u001b[34m\u001b[1mProcessing post with parsers: ['topics']\u001b[0m\n",
      "\u001b[32m2024-04-30 20:51:40.469\u001b[0m | \u001b[34m\u001b[1mDEBUG   \u001b[0m | \u001b[36mdesci_sense.shared_functions.parsers.multi_chain_parser\u001b[0m:\u001b[36mprocess_ref_post\u001b[0m:\u001b[36m175\u001b[0m - \u001b[34m\u001b[1mInstantiating prompts...\u001b[0m\n",
      "\u001b[32m2024-04-30 20:51:40.472\u001b[0m | \u001b[34m\u001b[1mDEBUG   \u001b[0m | \u001b[36mdesci_sense.shared_functions.parsers.multi_chain_parser\u001b[0m:\u001b[36mprocess_ref_post\u001b[0m:\u001b[36m180\u001b[0m - \u001b[34m\u001b[1mInvoking parallel chain...\u001b[0m\n",
      "\u001b[32m2024-04-30 20:51:46.586\u001b[0m | \u001b[34m\u001b[1mDEBUG   \u001b[0m | \u001b[36mdesci_sense.shared_functions.parsers.multi_chain_parser\u001b[0m:\u001b[36mprocess_ref_post\u001b[0m:\u001b[36m173\u001b[0m - \u001b[34m\u001b[1mProcessing post with parsers: ['topics']\u001b[0m\n",
      "\u001b[32m2024-04-30 20:51:46.592\u001b[0m | \u001b[34m\u001b[1mDEBUG   \u001b[0m | \u001b[36mdesci_sense.shared_functions.parsers.multi_chain_parser\u001b[0m:\u001b[36mprocess_ref_post\u001b[0m:\u001b[36m175\u001b[0m - \u001b[34m\u001b[1mInstantiating prompts...\u001b[0m\n",
      "\u001b[32m2024-04-30 20:51:46.595\u001b[0m | \u001b[34m\u001b[1mDEBUG   \u001b[0m | \u001b[36mdesci_sense.shared_functions.parsers.multi_chain_parser\u001b[0m:\u001b[36mprocess_ref_post\u001b[0m:\u001b[36m180\u001b[0m - \u001b[34m\u001b[1mInvoking parallel chain...\u001b[0m\n"
     ]
    },
    {
     "name": "stdout",
     "output_type": "stream",
     "text": [
      "80\n"
     ]
    },
    {
     "name": "stderr",
     "output_type": "stream",
     "text": [
      "\u001b[32m2024-04-30 20:51:49.868\u001b[0m | \u001b[34m\u001b[1mDEBUG   \u001b[0m | \u001b[36mdesci_sense.shared_functions.parsers.multi_chain_parser\u001b[0m:\u001b[36mprocess_ref_post\u001b[0m:\u001b[36m173\u001b[0m - \u001b[34m\u001b[1mProcessing post with parsers: ['topics']\u001b[0m\n",
      "\u001b[32m2024-04-30 20:51:49.874\u001b[0m | \u001b[34m\u001b[1mDEBUG   \u001b[0m | \u001b[36mdesci_sense.shared_functions.parsers.multi_chain_parser\u001b[0m:\u001b[36mprocess_ref_post\u001b[0m:\u001b[36m175\u001b[0m - \u001b[34m\u001b[1mInstantiating prompts...\u001b[0m\n",
      "\u001b[32m2024-04-30 20:51:49.886\u001b[0m | \u001b[34m\u001b[1mDEBUG   \u001b[0m | \u001b[36mdesci_sense.shared_functions.parsers.multi_chain_parser\u001b[0m:\u001b[36mprocess_ref_post\u001b[0m:\u001b[36m180\u001b[0m - \u001b[34m\u001b[1mInvoking parallel chain...\u001b[0m\n"
     ]
    },
    {
     "name": "stdout",
     "output_type": "stream",
     "text": [
      "81\n"
     ]
    },
    {
     "name": "stderr",
     "output_type": "stream",
     "text": [
      "\u001b[32m2024-04-30 20:51:53.242\u001b[0m | \u001b[34m\u001b[1mDEBUG   \u001b[0m | \u001b[36mdesci_sense.shared_functions.parsers.multi_chain_parser\u001b[0m:\u001b[36mprocess_ref_post\u001b[0m:\u001b[36m173\u001b[0m - \u001b[34m\u001b[1mProcessing post with parsers: ['topics']\u001b[0m\n",
      "\u001b[32m2024-04-30 20:51:53.276\u001b[0m | \u001b[34m\u001b[1mDEBUG   \u001b[0m | \u001b[36mdesci_sense.shared_functions.parsers.multi_chain_parser\u001b[0m:\u001b[36mprocess_ref_post\u001b[0m:\u001b[36m175\u001b[0m - \u001b[34m\u001b[1mInstantiating prompts...\u001b[0m\n",
      "\u001b[32m2024-04-30 20:51:53.293\u001b[0m | \u001b[34m\u001b[1mDEBUG   \u001b[0m | \u001b[36mdesci_sense.shared_functions.parsers.multi_chain_parser\u001b[0m:\u001b[36mprocess_ref_post\u001b[0m:\u001b[36m180\u001b[0m - \u001b[34m\u001b[1mInvoking parallel chain...\u001b[0m\n"
     ]
    },
    {
     "name": "stdout",
     "output_type": "stream",
     "text": [
      "82\n"
     ]
    },
    {
     "name": "stderr",
     "output_type": "stream",
     "text": [
      "\u001b[32m2024-04-30 20:51:56.162\u001b[0m | \u001b[34m\u001b[1mDEBUG   \u001b[0m | \u001b[36mdesci_sense.shared_functions.parsers.multi_chain_parser\u001b[0m:\u001b[36mprocess_ref_post\u001b[0m:\u001b[36m173\u001b[0m - \u001b[34m\u001b[1mProcessing post with parsers: ['topics']\u001b[0m\n",
      "\u001b[32m2024-04-30 20:51:56.184\u001b[0m | \u001b[34m\u001b[1mDEBUG   \u001b[0m | \u001b[36mdesci_sense.shared_functions.parsers.multi_chain_parser\u001b[0m:\u001b[36mprocess_ref_post\u001b[0m:\u001b[36m175\u001b[0m - \u001b[34m\u001b[1mInstantiating prompts...\u001b[0m\n",
      "\u001b[32m2024-04-30 20:51:56.190\u001b[0m | \u001b[34m\u001b[1mDEBUG   \u001b[0m | \u001b[36mdesci_sense.shared_functions.parsers.multi_chain_parser\u001b[0m:\u001b[36mprocess_ref_post\u001b[0m:\u001b[36m180\u001b[0m - \u001b[34m\u001b[1mInvoking parallel chain...\u001b[0m\n"
     ]
    },
    {
     "name": "stdout",
     "output_type": "stream",
     "text": [
      "83\n"
     ]
    },
    {
     "name": "stderr",
     "output_type": "stream",
     "text": [
      "\u001b[32m2024-04-30 20:51:59.113\u001b[0m | \u001b[34m\u001b[1mDEBUG   \u001b[0m | \u001b[36mdesci_sense.shared_functions.parsers.multi_chain_parser\u001b[0m:\u001b[36mprocess_ref_post\u001b[0m:\u001b[36m173\u001b[0m - \u001b[34m\u001b[1mProcessing post with parsers: ['topics']\u001b[0m\n",
      "\u001b[32m2024-04-30 20:51:59.118\u001b[0m | \u001b[34m\u001b[1mDEBUG   \u001b[0m | \u001b[36mdesci_sense.shared_functions.parsers.multi_chain_parser\u001b[0m:\u001b[36mprocess_ref_post\u001b[0m:\u001b[36m175\u001b[0m - \u001b[34m\u001b[1mInstantiating prompts...\u001b[0m\n",
      "\u001b[32m2024-04-30 20:51:59.123\u001b[0m | \u001b[34m\u001b[1mDEBUG   \u001b[0m | \u001b[36mdesci_sense.shared_functions.parsers.multi_chain_parser\u001b[0m:\u001b[36mprocess_ref_post\u001b[0m:\u001b[36m180\u001b[0m - \u001b[34m\u001b[1mInvoking parallel chain...\u001b[0m\n"
     ]
    },
    {
     "name": "stdout",
     "output_type": "stream",
     "text": [
      "84\n",
      "85\n"
     ]
    },
    {
     "name": "stderr",
     "output_type": "stream",
     "text": [
      "\u001b[32m2024-04-30 20:52:01.680\u001b[0m | \u001b[34m\u001b[1mDEBUG   \u001b[0m | \u001b[36mdesci_sense.shared_functions.web_extractors.citoid\u001b[0m:\u001b[36mfetch_citation\u001b[0m:\u001b[36m54\u001b[0m - \u001b[34m\u001b[1mfetching citoid data for: https://twitter.com/APotochnik/status/1749520908912361629\u001b[0m\n",
      "\u001b[32m2024-04-30 20:52:02.072\u001b[0m | \u001b[34m\u001b[1mDEBUG   \u001b[0m | \u001b[36mdesci_sense.shared_functions.parsers.multi_chain_parser\u001b[0m:\u001b[36mprocess_ref_post\u001b[0m:\u001b[36m173\u001b[0m - \u001b[34m\u001b[1mProcessing post with parsers: ['topics']\u001b[0m\n",
      "\u001b[32m2024-04-30 20:52:02.073\u001b[0m | \u001b[34m\u001b[1mDEBUG   \u001b[0m | \u001b[36mdesci_sense.shared_functions.parsers.multi_chain_parser\u001b[0m:\u001b[36mprocess_ref_post\u001b[0m:\u001b[36m175\u001b[0m - \u001b[34m\u001b[1mInstantiating prompts...\u001b[0m\n",
      "\u001b[32m2024-04-30 20:52:02.077\u001b[0m | \u001b[34m\u001b[1mDEBUG   \u001b[0m | \u001b[36mdesci_sense.shared_functions.parsers.multi_chain_parser\u001b[0m:\u001b[36mprocess_ref_post\u001b[0m:\u001b[36m180\u001b[0m - \u001b[34m\u001b[1mInvoking parallel chain...\u001b[0m\n"
     ]
    },
    {
     "name": "stdout",
     "output_type": "stream",
     "text": [
      "86\n"
     ]
    },
    {
     "name": "stderr",
     "output_type": "stream",
     "text": [
      "\u001b[32m2024-04-30 20:52:08.044\u001b[0m | \u001b[34m\u001b[1mDEBUG   \u001b[0m | \u001b[36mdesci_sense.shared_functions.web_extractors.citoid\u001b[0m:\u001b[36mfetch_citation\u001b[0m:\u001b[36m54\u001b[0m - \u001b[34m\u001b[1mfetching citoid data for: https://brettandersen.substack.com/p/the-illusion-of-morality\u001b[0m\n",
      "\u001b[32m2024-04-30 20:52:10.289\u001b[0m | \u001b[34m\u001b[1mDEBUG   \u001b[0m | \u001b[36mdesci_sense.shared_functions.parsers.multi_chain_parser\u001b[0m:\u001b[36mprocess_ref_post\u001b[0m:\u001b[36m173\u001b[0m - \u001b[34m\u001b[1mProcessing post with parsers: ['topics']\u001b[0m\n",
      "\u001b[32m2024-04-30 20:52:10.292\u001b[0m | \u001b[34m\u001b[1mDEBUG   \u001b[0m | \u001b[36mdesci_sense.shared_functions.parsers.multi_chain_parser\u001b[0m:\u001b[36mprocess_ref_post\u001b[0m:\u001b[36m175\u001b[0m - \u001b[34m\u001b[1mInstantiating prompts...\u001b[0m\n",
      "\u001b[32m2024-04-30 20:52:10.293\u001b[0m | \u001b[34m\u001b[1mDEBUG   \u001b[0m | \u001b[36mdesci_sense.shared_functions.parsers.multi_chain_parser\u001b[0m:\u001b[36mprocess_ref_post\u001b[0m:\u001b[36m180\u001b[0m - \u001b[34m\u001b[1mInvoking parallel chain...\u001b[0m\n",
      "\u001b[32m2024-04-30 20:52:12.974\u001b[0m | \u001b[34m\u001b[1mDEBUG   \u001b[0m | \u001b[36mdesci_sense.shared_functions.parsers.multi_chain_parser\u001b[0m:\u001b[36mprocess_ref_post\u001b[0m:\u001b[36m173\u001b[0m - \u001b[34m\u001b[1mProcessing post with parsers: ['topics']\u001b[0m\n",
      "\u001b[32m2024-04-30 20:52:12.975\u001b[0m | \u001b[34m\u001b[1mDEBUG   \u001b[0m | \u001b[36mdesci_sense.shared_functions.parsers.multi_chain_parser\u001b[0m:\u001b[36mprocess_ref_post\u001b[0m:\u001b[36m175\u001b[0m - \u001b[34m\u001b[1mInstantiating prompts...\u001b[0m\n",
      "\u001b[32m2024-04-30 20:52:12.976\u001b[0m | \u001b[34m\u001b[1mDEBUG   \u001b[0m | \u001b[36mdesci_sense.shared_functions.parsers.multi_chain_parser\u001b[0m:\u001b[36mprocess_ref_post\u001b[0m:\u001b[36m180\u001b[0m - \u001b[34m\u001b[1mInvoking parallel chain...\u001b[0m\n"
     ]
    },
    {
     "name": "stdout",
     "output_type": "stream",
     "text": [
      "87\n"
     ]
    },
    {
     "name": "stderr",
     "output_type": "stream",
     "text": [
      "\u001b[32m2024-04-30 20:52:16.029\u001b[0m | \u001b[34m\u001b[1mDEBUG   \u001b[0m | \u001b[36mdesci_sense.shared_functions.parsers.multi_chain_parser\u001b[0m:\u001b[36mprocess_ref_post\u001b[0m:\u001b[36m173\u001b[0m - \u001b[34m\u001b[1mProcessing post with parsers: ['topics']\u001b[0m\n",
      "\u001b[32m2024-04-30 20:52:16.033\u001b[0m | \u001b[34m\u001b[1mDEBUG   \u001b[0m | \u001b[36mdesci_sense.shared_functions.parsers.multi_chain_parser\u001b[0m:\u001b[36mprocess_ref_post\u001b[0m:\u001b[36m175\u001b[0m - \u001b[34m\u001b[1mInstantiating prompts...\u001b[0m\n",
      "\u001b[32m2024-04-30 20:52:16.067\u001b[0m | \u001b[34m\u001b[1mDEBUG   \u001b[0m | \u001b[36mdesci_sense.shared_functions.parsers.multi_chain_parser\u001b[0m:\u001b[36mprocess_ref_post\u001b[0m:\u001b[36m180\u001b[0m - \u001b[34m\u001b[1mInvoking parallel chain...\u001b[0m\n"
     ]
    },
    {
     "name": "stdout",
     "output_type": "stream",
     "text": [
      "88\n"
     ]
    },
    {
     "name": "stderr",
     "output_type": "stream",
     "text": [
      "\u001b[32m2024-04-30 20:52:18.478\u001b[0m | \u001b[34m\u001b[1mDEBUG   \u001b[0m | \u001b[36mdesci_sense.shared_functions.parsers.multi_chain_parser\u001b[0m:\u001b[36mprocess_ref_post\u001b[0m:\u001b[36m173\u001b[0m - \u001b[34m\u001b[1mProcessing post with parsers: ['topics']\u001b[0m\n",
      "\u001b[32m2024-04-30 20:52:18.479\u001b[0m | \u001b[34m\u001b[1mDEBUG   \u001b[0m | \u001b[36mdesci_sense.shared_functions.parsers.multi_chain_parser\u001b[0m:\u001b[36mprocess_ref_post\u001b[0m:\u001b[36m175\u001b[0m - \u001b[34m\u001b[1mInstantiating prompts...\u001b[0m\n",
      "\u001b[32m2024-04-30 20:52:18.480\u001b[0m | \u001b[34m\u001b[1mDEBUG   \u001b[0m | \u001b[36mdesci_sense.shared_functions.parsers.multi_chain_parser\u001b[0m:\u001b[36mprocess_ref_post\u001b[0m:\u001b[36m180\u001b[0m - \u001b[34m\u001b[1mInvoking parallel chain...\u001b[0m\n"
     ]
    },
    {
     "name": "stdout",
     "output_type": "stream",
     "text": [
      "89\n",
      "90\n"
     ]
    },
    {
     "name": "stderr",
     "output_type": "stream",
     "text": [
      "\u001b[32m2024-04-30 20:52:22.538\u001b[0m | \u001b[34m\u001b[1mDEBUG   \u001b[0m | \u001b[36mdesci_sense.shared_functions.web_extractors.citoid\u001b[0m:\u001b[36mfetch_citation\u001b[0m:\u001b[36m54\u001b[0m - \u001b[34m\u001b[1mfetching citoid data for: https://twitter.com/AnnaLeptikon/status/1741418219972297038/photo/1\u001b[0m\n",
      "\u001b[32m2024-04-30 20:52:22.802\u001b[0m | \u001b[34m\u001b[1mDEBUG   \u001b[0m | \u001b[36mdesci_sense.shared_functions.parsers.multi_chain_parser\u001b[0m:\u001b[36mprocess_ref_post\u001b[0m:\u001b[36m173\u001b[0m - \u001b[34m\u001b[1mProcessing post with parsers: ['topics']\u001b[0m\n",
      "\u001b[32m2024-04-30 20:52:22.804\u001b[0m | \u001b[34m\u001b[1mDEBUG   \u001b[0m | \u001b[36mdesci_sense.shared_functions.parsers.multi_chain_parser\u001b[0m:\u001b[36mprocess_ref_post\u001b[0m:\u001b[36m175\u001b[0m - \u001b[34m\u001b[1mInstantiating prompts...\u001b[0m\n",
      "\u001b[32m2024-04-30 20:52:22.806\u001b[0m | \u001b[34m\u001b[1mDEBUG   \u001b[0m | \u001b[36mdesci_sense.shared_functions.parsers.multi_chain_parser\u001b[0m:\u001b[36mprocess_ref_post\u001b[0m:\u001b[36m180\u001b[0m - \u001b[34m\u001b[1mInvoking parallel chain...\u001b[0m\n"
     ]
    },
    {
     "name": "stdout",
     "output_type": "stream",
     "text": [
      "91\n"
     ]
    },
    {
     "name": "stderr",
     "output_type": "stream",
     "text": [
      "\u001b[32m2024-04-30 20:52:25.950\u001b[0m | \u001b[34m\u001b[1mDEBUG   \u001b[0m | \u001b[36mdesci_sense.shared_functions.web_extractors.citoid\u001b[0m:\u001b[36mfetch_citation\u001b[0m:\u001b[36m54\u001b[0m - \u001b[34m\u001b[1mfetching citoid data for: https://twitter.com/AnnaLeptikon/status/1741117110992896321\u001b[0m\n",
      "\u001b[32m2024-04-30 20:52:27.157\u001b[0m | \u001b[34m\u001b[1mDEBUG   \u001b[0m | \u001b[36mdesci_sense.shared_functions.parsers.multi_chain_parser\u001b[0m:\u001b[36mprocess_ref_post\u001b[0m:\u001b[36m173\u001b[0m - \u001b[34m\u001b[1mProcessing post with parsers: ['topics']\u001b[0m\n",
      "\u001b[32m2024-04-30 20:52:27.161\u001b[0m | \u001b[34m\u001b[1mDEBUG   \u001b[0m | \u001b[36mdesci_sense.shared_functions.parsers.multi_chain_parser\u001b[0m:\u001b[36mprocess_ref_post\u001b[0m:\u001b[36m175\u001b[0m - \u001b[34m\u001b[1mInstantiating prompts...\u001b[0m\n",
      "\u001b[32m2024-04-30 20:52:27.164\u001b[0m | \u001b[34m\u001b[1mDEBUG   \u001b[0m | \u001b[36mdesci_sense.shared_functions.parsers.multi_chain_parser\u001b[0m:\u001b[36mprocess_ref_post\u001b[0m:\u001b[36m180\u001b[0m - \u001b[34m\u001b[1mInvoking parallel chain...\u001b[0m\n"
     ]
    },
    {
     "name": "stdout",
     "output_type": "stream",
     "text": [
      "92\n"
     ]
    },
    {
     "name": "stderr",
     "output_type": "stream",
     "text": [
      "\u001b[32m2024-04-30 20:52:32.552\u001b[0m | \u001b[34m\u001b[1mDEBUG   \u001b[0m | \u001b[36mdesci_sense.shared_functions.web_extractors.citoid\u001b[0m:\u001b[36mfetch_citation_async\u001b[0m:\u001b[36m20\u001b[0m - \u001b[34m\u001b[1mtarget_url=https://twitter.com/AnnaLeptikon/status/1741117110992896321/photo/1\u001b[0m\n",
      "\u001b[32m2024-04-30 20:52:32.558\u001b[0m | \u001b[34m\u001b[1mDEBUG   \u001b[0m | \u001b[36mdesci_sense.shared_functions.web_extractors.citoid\u001b[0m:\u001b[36mfetch_citation_async\u001b[0m:\u001b[36m20\u001b[0m - \u001b[34m\u001b[1mtarget_url=https://twitter.com/AnnaLeptikon/status/1610312057156685830\u001b[0m\n",
      "\u001b[32m2024-04-30 20:52:33.838\u001b[0m | \u001b[34m\u001b[1mDEBUG   \u001b[0m | \u001b[36mdesci_sense.shared_functions.parsers.multi_chain_parser\u001b[0m:\u001b[36mprocess_ref_post\u001b[0m:\u001b[36m173\u001b[0m - \u001b[34m\u001b[1mProcessing post with parsers: ['topics']\u001b[0m\n",
      "\u001b[32m2024-04-30 20:52:33.840\u001b[0m | \u001b[34m\u001b[1mDEBUG   \u001b[0m | \u001b[36mdesci_sense.shared_functions.parsers.multi_chain_parser\u001b[0m:\u001b[36mprocess_ref_post\u001b[0m:\u001b[36m175\u001b[0m - \u001b[34m\u001b[1mInstantiating prompts...\u001b[0m\n",
      "\u001b[32m2024-04-30 20:52:33.842\u001b[0m | \u001b[34m\u001b[1mDEBUG   \u001b[0m | \u001b[36mdesci_sense.shared_functions.parsers.multi_chain_parser\u001b[0m:\u001b[36mprocess_ref_post\u001b[0m:\u001b[36m180\u001b[0m - \u001b[34m\u001b[1mInvoking parallel chain...\u001b[0m\n"
     ]
    },
    {
     "name": "stdout",
     "output_type": "stream",
     "text": [
      "93\n"
     ]
    },
    {
     "name": "stderr",
     "output_type": "stream",
     "text": [
      "\u001b[32m2024-04-30 20:52:36.812\u001b[0m | \u001b[34m\u001b[1mDEBUG   \u001b[0m | \u001b[36mdesci_sense.shared_functions.web_extractors.citoid\u001b[0m:\u001b[36mfetch_citation\u001b[0m:\u001b[36m54\u001b[0m - \u001b[34m\u001b[1mfetching citoid data for: https://twitter.com/yoginho/status/1740411486797795799\u001b[0m\n",
      "\u001b[32m2024-04-30 20:52:37.218\u001b[0m | \u001b[34m\u001b[1mDEBUG   \u001b[0m | \u001b[36mdesci_sense.shared_functions.parsers.multi_chain_parser\u001b[0m:\u001b[36mprocess_ref_post\u001b[0m:\u001b[36m173\u001b[0m - \u001b[34m\u001b[1mProcessing post with parsers: ['topics']\u001b[0m\n",
      "\u001b[32m2024-04-30 20:52:37.221\u001b[0m | \u001b[34m\u001b[1mDEBUG   \u001b[0m | \u001b[36mdesci_sense.shared_functions.parsers.multi_chain_parser\u001b[0m:\u001b[36mprocess_ref_post\u001b[0m:\u001b[36m175\u001b[0m - \u001b[34m\u001b[1mInstantiating prompts...\u001b[0m\n",
      "\u001b[32m2024-04-30 20:52:37.222\u001b[0m | \u001b[34m\u001b[1mDEBUG   \u001b[0m | \u001b[36mdesci_sense.shared_functions.parsers.multi_chain_parser\u001b[0m:\u001b[36mprocess_ref_post\u001b[0m:\u001b[36m180\u001b[0m - \u001b[34m\u001b[1mInvoking parallel chain...\u001b[0m\n"
     ]
    },
    {
     "name": "stdout",
     "output_type": "stream",
     "text": [
      "94\n"
     ]
    },
    {
     "name": "stderr",
     "output_type": "stream",
     "text": [
      "\u001b[32m2024-04-30 20:52:41.183\u001b[0m | \u001b[34m\u001b[1mDEBUG   \u001b[0m | \u001b[36mdesci_sense.shared_functions.web_extractors.citoid\u001b[0m:\u001b[36mfetch_citation\u001b[0m:\u001b[36m54\u001b[0m - \u001b[34m\u001b[1mfetching citoid data for: https://twitter.com/archeohistories/status/1480350370668761089\u001b[0m\n",
      "\u001b[32m2024-04-30 20:52:41.598\u001b[0m | \u001b[34m\u001b[1mDEBUG   \u001b[0m | \u001b[36mdesci_sense.shared_functions.parsers.multi_chain_parser\u001b[0m:\u001b[36mprocess_ref_post\u001b[0m:\u001b[36m173\u001b[0m - \u001b[34m\u001b[1mProcessing post with parsers: ['topics']\u001b[0m\n",
      "\u001b[32m2024-04-30 20:52:41.600\u001b[0m | \u001b[34m\u001b[1mDEBUG   \u001b[0m | \u001b[36mdesci_sense.shared_functions.parsers.multi_chain_parser\u001b[0m:\u001b[36mprocess_ref_post\u001b[0m:\u001b[36m175\u001b[0m - \u001b[34m\u001b[1mInstantiating prompts...\u001b[0m\n",
      "\u001b[32m2024-04-30 20:52:41.602\u001b[0m | \u001b[34m\u001b[1mDEBUG   \u001b[0m | \u001b[36mdesci_sense.shared_functions.parsers.multi_chain_parser\u001b[0m:\u001b[36mprocess_ref_post\u001b[0m:\u001b[36m180\u001b[0m - \u001b[34m\u001b[1mInvoking parallel chain...\u001b[0m\n",
      "\u001b[32m2024-04-30 20:52:43.839\u001b[0m | \u001b[34m\u001b[1mDEBUG   \u001b[0m | \u001b[36mdesci_sense.shared_functions.parsers.multi_chain_parser\u001b[0m:\u001b[36mprocess_ref_post\u001b[0m:\u001b[36m173\u001b[0m - \u001b[34m\u001b[1mProcessing post with parsers: ['topics']\u001b[0m\n",
      "\u001b[32m2024-04-30 20:52:43.843\u001b[0m | \u001b[34m\u001b[1mDEBUG   \u001b[0m | \u001b[36mdesci_sense.shared_functions.parsers.multi_chain_parser\u001b[0m:\u001b[36mprocess_ref_post\u001b[0m:\u001b[36m175\u001b[0m - \u001b[34m\u001b[1mInstantiating prompts...\u001b[0m\n",
      "\u001b[32m2024-04-30 20:52:43.845\u001b[0m | \u001b[34m\u001b[1mDEBUG   \u001b[0m | \u001b[36mdesci_sense.shared_functions.parsers.multi_chain_parser\u001b[0m:\u001b[36mprocess_ref_post\u001b[0m:\u001b[36m180\u001b[0m - \u001b[34m\u001b[1mInvoking parallel chain...\u001b[0m\n"
     ]
    },
    {
     "name": "stdout",
     "output_type": "stream",
     "text": [
      "95\n"
     ]
    },
    {
     "name": "stderr",
     "output_type": "stream",
     "text": [
      "\u001b[32m2024-04-30 20:52:47.714\u001b[0m | \u001b[34m\u001b[1mDEBUG   \u001b[0m | \u001b[36mdesci_sense.shared_functions.parsers.multi_chain_parser\u001b[0m:\u001b[36mprocess_ref_post\u001b[0m:\u001b[36m173\u001b[0m - \u001b[34m\u001b[1mProcessing post with parsers: ['topics']\u001b[0m\n",
      "\u001b[32m2024-04-30 20:52:47.738\u001b[0m | \u001b[34m\u001b[1mDEBUG   \u001b[0m | \u001b[36mdesci_sense.shared_functions.parsers.multi_chain_parser\u001b[0m:\u001b[36mprocess_ref_post\u001b[0m:\u001b[36m175\u001b[0m - \u001b[34m\u001b[1mInstantiating prompts...\u001b[0m\n",
      "\u001b[32m2024-04-30 20:52:47.745\u001b[0m | \u001b[34m\u001b[1mDEBUG   \u001b[0m | \u001b[36mdesci_sense.shared_functions.parsers.multi_chain_parser\u001b[0m:\u001b[36mprocess_ref_post\u001b[0m:\u001b[36m180\u001b[0m - \u001b[34m\u001b[1mInvoking parallel chain...\u001b[0m\n"
     ]
    },
    {
     "name": "stdout",
     "output_type": "stream",
     "text": [
      "96\n"
     ]
    },
    {
     "name": "stderr",
     "output_type": "stream",
     "text": [
      "\u001b[32m2024-04-30 20:52:51.274\u001b[0m | \u001b[34m\u001b[1mDEBUG   \u001b[0m | \u001b[36mdesci_sense.shared_functions.parsers.multi_chain_parser\u001b[0m:\u001b[36mprocess_ref_post\u001b[0m:\u001b[36m173\u001b[0m - \u001b[34m\u001b[1mProcessing post with parsers: ['topics']\u001b[0m\n",
      "\u001b[32m2024-04-30 20:52:51.275\u001b[0m | \u001b[34m\u001b[1mDEBUG   \u001b[0m | \u001b[36mdesci_sense.shared_functions.parsers.multi_chain_parser\u001b[0m:\u001b[36mprocess_ref_post\u001b[0m:\u001b[36m175\u001b[0m - \u001b[34m\u001b[1mInstantiating prompts...\u001b[0m\n",
      "\u001b[32m2024-04-30 20:52:51.276\u001b[0m | \u001b[34m\u001b[1mDEBUG   \u001b[0m | \u001b[36mdesci_sense.shared_functions.parsers.multi_chain_parser\u001b[0m:\u001b[36mprocess_ref_post\u001b[0m:\u001b[36m180\u001b[0m - \u001b[34m\u001b[1mInvoking parallel chain...\u001b[0m\n"
     ]
    },
    {
     "name": "stdout",
     "output_type": "stream",
     "text": [
      "97\n",
      "98\n"
     ]
    },
    {
     "name": "stderr",
     "output_type": "stream",
     "text": [
      "\u001b[32m2024-04-30 20:52:54.219\u001b[0m | \u001b[34m\u001b[1mDEBUG   \u001b[0m | \u001b[36mdesci_sense.shared_functions.web_extractors.citoid\u001b[0m:\u001b[36mfetch_citation\u001b[0m:\u001b[36m54\u001b[0m - \u001b[34m\u001b[1mfetching citoid data for: https://twitter.com/themaxburns/status/1775215997898698907\u001b[0m\n",
      "\u001b[32m2024-04-30 20:53:00.515\u001b[0m | \u001b[34m\u001b[1mDEBUG   \u001b[0m | \u001b[36mdesci_sense.shared_functions.parsers.multi_chain_parser\u001b[0m:\u001b[36mprocess_ref_post\u001b[0m:\u001b[36m173\u001b[0m - \u001b[34m\u001b[1mProcessing post with parsers: ['topics']\u001b[0m\n",
      "\u001b[32m2024-04-30 20:53:00.524\u001b[0m | \u001b[34m\u001b[1mDEBUG   \u001b[0m | \u001b[36mdesci_sense.shared_functions.parsers.multi_chain_parser\u001b[0m:\u001b[36mprocess_ref_post\u001b[0m:\u001b[36m175\u001b[0m - \u001b[34m\u001b[1mInstantiating prompts...\u001b[0m\n",
      "\u001b[32m2024-04-30 20:53:00.530\u001b[0m | \u001b[34m\u001b[1mDEBUG   \u001b[0m | \u001b[36mdesci_sense.shared_functions.parsers.multi_chain_parser\u001b[0m:\u001b[36mprocess_ref_post\u001b[0m:\u001b[36m180\u001b[0m - \u001b[34m\u001b[1mInvoking parallel chain...\u001b[0m\n"
     ]
    },
    {
     "name": "stdout",
     "output_type": "stream",
     "text": [
      "99\n"
     ]
    },
    {
     "name": "stderr",
     "output_type": "stream",
     "text": [
      "\u001b[32m2024-04-30 20:53:04.704\u001b[0m | \u001b[34m\u001b[1mDEBUG   \u001b[0m | \u001b[36mdesci_sense.shared_functions.web_extractors.citoid\u001b[0m:\u001b[36mfetch_citation\u001b[0m:\u001b[36m54\u001b[0m - \u001b[34m\u001b[1mfetching citoid data for: https://x.com/nickmvincent/status/1769440143566594359?s=20\u001b[0m\n",
      "\u001b[32m2024-04-30 20:53:05.146\u001b[0m | \u001b[34m\u001b[1mDEBUG   \u001b[0m | \u001b[36mdesci_sense.shared_functions.parsers.multi_chain_parser\u001b[0m:\u001b[36mprocess_ref_post\u001b[0m:\u001b[36m173\u001b[0m - \u001b[34m\u001b[1mProcessing post with parsers: ['topics']\u001b[0m\n",
      "\u001b[32m2024-04-30 20:53:05.148\u001b[0m | \u001b[34m\u001b[1mDEBUG   \u001b[0m | \u001b[36mdesci_sense.shared_functions.parsers.multi_chain_parser\u001b[0m:\u001b[36mprocess_ref_post\u001b[0m:\u001b[36m175\u001b[0m - \u001b[34m\u001b[1mInstantiating prompts...\u001b[0m\n",
      "\u001b[32m2024-04-30 20:53:05.151\u001b[0m | \u001b[34m\u001b[1mDEBUG   \u001b[0m | \u001b[36mdesci_sense.shared_functions.parsers.multi_chain_parser\u001b[0m:\u001b[36mprocess_ref_post\u001b[0m:\u001b[36m180\u001b[0m - \u001b[34m\u001b[1mInvoking parallel chain...\u001b[0m\n"
     ]
    },
    {
     "name": "stdout",
     "output_type": "stream",
     "text": [
      "100\n"
     ]
    },
    {
     "name": "stderr",
     "output_type": "stream",
     "text": [
      "\u001b[32m2024-04-30 20:53:17.775\u001b[0m | \u001b[34m\u001b[1mDEBUG   \u001b[0m | \u001b[36mdesci_sense.shared_functions.web_extractors.citoid\u001b[0m:\u001b[36mfetch_citation\u001b[0m:\u001b[36m54\u001b[0m - \u001b[34m\u001b[1mfetching citoid data for: https://www.washingtonpost.com/technology/interactive/2024/what-is-ai/\u001b[0m\n",
      "\u001b[32m2024-04-30 20:53:58.246\u001b[0m | \u001b[34m\u001b[1mDEBUG   \u001b[0m | \u001b[36mdesci_sense.shared_functions.parsers.multi_chain_parser\u001b[0m:\u001b[36mprocess_ref_post\u001b[0m:\u001b[36m173\u001b[0m - \u001b[34m\u001b[1mProcessing post with parsers: ['topics']\u001b[0m\n",
      "\u001b[32m2024-04-30 20:53:58.252\u001b[0m | \u001b[34m\u001b[1mDEBUG   \u001b[0m | \u001b[36mdesci_sense.shared_functions.parsers.multi_chain_parser\u001b[0m:\u001b[36mprocess_ref_post\u001b[0m:\u001b[36m175\u001b[0m - \u001b[34m\u001b[1mInstantiating prompts...\u001b[0m\n",
      "\u001b[32m2024-04-30 20:53:58.257\u001b[0m | \u001b[34m\u001b[1mDEBUG   \u001b[0m | \u001b[36mdesci_sense.shared_functions.parsers.multi_chain_parser\u001b[0m:\u001b[36mprocess_ref_post\u001b[0m:\u001b[36m180\u001b[0m - \u001b[34m\u001b[1mInvoking parallel chain...\u001b[0m\n"
     ]
    },
    {
     "name": "stdout",
     "output_type": "stream",
     "text": [
      "101\n"
     ]
    },
    {
     "name": "stderr",
     "output_type": "stream",
     "text": [
      "\u001b[32m2024-04-30 20:54:00.874\u001b[0m | \u001b[34m\u001b[1mDEBUG   \u001b[0m | \u001b[36mdesci_sense.shared_functions.web_extractors.citoid\u001b[0m:\u001b[36mfetch_citation\u001b[0m:\u001b[36m54\u001b[0m - \u001b[34m\u001b[1mfetching citoid data for: https://twitter.com/fchollet/status/1774099515458617825\u001b[0m\n",
      "\u001b[32m2024-04-30 20:54:01.142\u001b[0m | \u001b[34m\u001b[1mDEBUG   \u001b[0m | \u001b[36mdesci_sense.shared_functions.parsers.multi_chain_parser\u001b[0m:\u001b[36mprocess_ref_post\u001b[0m:\u001b[36m173\u001b[0m - \u001b[34m\u001b[1mProcessing post with parsers: ['topics']\u001b[0m\n",
      "\u001b[32m2024-04-30 20:54:01.143\u001b[0m | \u001b[34m\u001b[1mDEBUG   \u001b[0m | \u001b[36mdesci_sense.shared_functions.parsers.multi_chain_parser\u001b[0m:\u001b[36mprocess_ref_post\u001b[0m:\u001b[36m175\u001b[0m - \u001b[34m\u001b[1mInstantiating prompts...\u001b[0m\n",
      "\u001b[32m2024-04-30 20:54:01.144\u001b[0m | \u001b[34m\u001b[1mDEBUG   \u001b[0m | \u001b[36mdesci_sense.shared_functions.parsers.multi_chain_parser\u001b[0m:\u001b[36mprocess_ref_post\u001b[0m:\u001b[36m180\u001b[0m - \u001b[34m\u001b[1mInvoking parallel chain...\u001b[0m\n"
     ]
    },
    {
     "name": "stdout",
     "output_type": "stream",
     "text": [
      "102\n"
     ]
    },
    {
     "name": "stderr",
     "output_type": "stream",
     "text": [
      "\u001b[32m2024-04-30 20:54:05.403\u001b[0m | \u001b[34m\u001b[1mDEBUG   \u001b[0m | \u001b[36mdesci_sense.shared_functions.web_extractors.citoid\u001b[0m:\u001b[36mfetch_citation\u001b[0m:\u001b[36m54\u001b[0m - \u001b[34m\u001b[1mfetching citoid data for: https://sites.google.com/stanford.edu/icwsm-2024-data-challenge/home\u001b[0m\n",
      "\u001b[32m2024-04-30 20:54:05.858\u001b[0m | \u001b[34m\u001b[1mDEBUG   \u001b[0m | \u001b[36mdesci_sense.shared_functions.parsers.multi_chain_parser\u001b[0m:\u001b[36mprocess_ref_post\u001b[0m:\u001b[36m173\u001b[0m - \u001b[34m\u001b[1mProcessing post with parsers: ['topics']\u001b[0m\n",
      "\u001b[32m2024-04-30 20:54:05.859\u001b[0m | \u001b[34m\u001b[1mDEBUG   \u001b[0m | \u001b[36mdesci_sense.shared_functions.parsers.multi_chain_parser\u001b[0m:\u001b[36mprocess_ref_post\u001b[0m:\u001b[36m175\u001b[0m - \u001b[34m\u001b[1mInstantiating prompts...\u001b[0m\n",
      "\u001b[32m2024-04-30 20:54:05.860\u001b[0m | \u001b[34m\u001b[1mDEBUG   \u001b[0m | \u001b[36mdesci_sense.shared_functions.parsers.multi_chain_parser\u001b[0m:\u001b[36mprocess_ref_post\u001b[0m:\u001b[36m180\u001b[0m - \u001b[34m\u001b[1mInvoking parallel chain...\u001b[0m\n",
      "\u001b[32m2024-04-30 20:54:09.877\u001b[0m | \u001b[34m\u001b[1mDEBUG   \u001b[0m | \u001b[36mdesci_sense.shared_functions.parsers.multi_chain_parser\u001b[0m:\u001b[36mprocess_ref_post\u001b[0m:\u001b[36m173\u001b[0m - \u001b[34m\u001b[1mProcessing post with parsers: ['topics']\u001b[0m\n",
      "\u001b[32m2024-04-30 20:54:09.879\u001b[0m | \u001b[34m\u001b[1mDEBUG   \u001b[0m | \u001b[36mdesci_sense.shared_functions.parsers.multi_chain_parser\u001b[0m:\u001b[36mprocess_ref_post\u001b[0m:\u001b[36m175\u001b[0m - \u001b[34m\u001b[1mInstantiating prompts...\u001b[0m\n",
      "\u001b[32m2024-04-30 20:54:09.880\u001b[0m | \u001b[34m\u001b[1mDEBUG   \u001b[0m | \u001b[36mdesci_sense.shared_functions.parsers.multi_chain_parser\u001b[0m:\u001b[36mprocess_ref_post\u001b[0m:\u001b[36m180\u001b[0m - \u001b[34m\u001b[1mInvoking parallel chain...\u001b[0m\n"
     ]
    },
    {
     "name": "stdout",
     "output_type": "stream",
     "text": [
      "103\n",
      "104\n"
     ]
    },
    {
     "name": "stderr",
     "output_type": "stream",
     "text": [
      "\u001b[32m2024-04-30 20:54:13.949\u001b[0m | \u001b[34m\u001b[1mDEBUG   \u001b[0m | \u001b[36mdesci_sense.shared_functions.web_extractors.citoid\u001b[0m:\u001b[36mfetch_citation\u001b[0m:\u001b[36m54\u001b[0m - \u001b[34m\u001b[1mfetching citoid data for: https://arxiv.org/abs/2310.02238\u001b[0m\n",
      "\u001b[32m2024-04-30 20:54:15.154\u001b[0m | \u001b[34m\u001b[1mDEBUG   \u001b[0m | \u001b[36mdesci_sense.shared_functions.parsers.multi_chain_parser\u001b[0m:\u001b[36mprocess_ref_post\u001b[0m:\u001b[36m173\u001b[0m - \u001b[34m\u001b[1mProcessing post with parsers: ['topics']\u001b[0m\n",
      "\u001b[32m2024-04-30 20:54:15.162\u001b[0m | \u001b[34m\u001b[1mDEBUG   \u001b[0m | \u001b[36mdesci_sense.shared_functions.parsers.multi_chain_parser\u001b[0m:\u001b[36mprocess_ref_post\u001b[0m:\u001b[36m175\u001b[0m - \u001b[34m\u001b[1mInstantiating prompts...\u001b[0m\n",
      "\u001b[32m2024-04-30 20:54:15.174\u001b[0m | \u001b[34m\u001b[1mDEBUG   \u001b[0m | \u001b[36mdesci_sense.shared_functions.parsers.multi_chain_parser\u001b[0m:\u001b[36mprocess_ref_post\u001b[0m:\u001b[36m180\u001b[0m - \u001b[34m\u001b[1mInvoking parallel chain...\u001b[0m\n"
     ]
    },
    {
     "name": "stdout",
     "output_type": "stream",
     "text": [
      "105\n"
     ]
    },
    {
     "name": "stderr",
     "output_type": "stream",
     "text": [
      "\u001b[32m2024-04-30 20:54:18.204\u001b[0m | \u001b[34m\u001b[1mDEBUG   \u001b[0m | \u001b[36mdesci_sense.shared_functions.web_extractors.citoid\u001b[0m:\u001b[36mfetch_citation\u001b[0m:\u001b[36m54\u001b[0m - \u001b[34m\u001b[1mfetching citoid data for: https://arxiv.org/abs/2403.13073\u001b[0m\n",
      "\u001b[32m2024-04-30 20:54:18.961\u001b[0m | \u001b[34m\u001b[1mDEBUG   \u001b[0m | \u001b[36mdesci_sense.shared_functions.parsers.multi_chain_parser\u001b[0m:\u001b[36mprocess_ref_post\u001b[0m:\u001b[36m173\u001b[0m - \u001b[34m\u001b[1mProcessing post with parsers: ['topics']\u001b[0m\n",
      "\u001b[32m2024-04-30 20:54:18.962\u001b[0m | \u001b[34m\u001b[1mDEBUG   \u001b[0m | \u001b[36mdesci_sense.shared_functions.parsers.multi_chain_parser\u001b[0m:\u001b[36mprocess_ref_post\u001b[0m:\u001b[36m175\u001b[0m - \u001b[34m\u001b[1mInstantiating prompts...\u001b[0m\n",
      "\u001b[32m2024-04-30 20:54:18.963\u001b[0m | \u001b[34m\u001b[1mDEBUG   \u001b[0m | \u001b[36mdesci_sense.shared_functions.parsers.multi_chain_parser\u001b[0m:\u001b[36mprocess_ref_post\u001b[0m:\u001b[36m180\u001b[0m - \u001b[34m\u001b[1mInvoking parallel chain...\u001b[0m\n",
      "\u001b[32m2024-04-30 20:54:22.575\u001b[0m | \u001b[34m\u001b[1mDEBUG   \u001b[0m | \u001b[36mdesci_sense.shared_functions.parsers.multi_chain_parser\u001b[0m:\u001b[36mprocess_ref_post\u001b[0m:\u001b[36m173\u001b[0m - \u001b[34m\u001b[1mProcessing post with parsers: ['topics']\u001b[0m\n",
      "\u001b[32m2024-04-30 20:54:22.580\u001b[0m | \u001b[34m\u001b[1mDEBUG   \u001b[0m | \u001b[36mdesci_sense.shared_functions.parsers.multi_chain_parser\u001b[0m:\u001b[36mprocess_ref_post\u001b[0m:\u001b[36m175\u001b[0m - \u001b[34m\u001b[1mInstantiating prompts...\u001b[0m\n",
      "\u001b[32m2024-04-30 20:54:22.588\u001b[0m | \u001b[34m\u001b[1mDEBUG   \u001b[0m | \u001b[36mdesci_sense.shared_functions.parsers.multi_chain_parser\u001b[0m:\u001b[36mprocess_ref_post\u001b[0m:\u001b[36m180\u001b[0m - \u001b[34m\u001b[1mInvoking parallel chain...\u001b[0m\n"
     ]
    },
    {
     "name": "stdout",
     "output_type": "stream",
     "text": [
      "106\n"
     ]
    },
    {
     "name": "stderr",
     "output_type": "stream",
     "text": [
      "\u001b[32m2024-04-30 20:54:25.793\u001b[0m | \u001b[34m\u001b[1mDEBUG   \u001b[0m | \u001b[36mdesci_sense.shared_functions.parsers.multi_chain_parser\u001b[0m:\u001b[36mprocess_ref_post\u001b[0m:\u001b[36m173\u001b[0m - \u001b[34m\u001b[1mProcessing post with parsers: ['topics']\u001b[0m\n",
      "\u001b[32m2024-04-30 20:54:25.794\u001b[0m | \u001b[34m\u001b[1mDEBUG   \u001b[0m | \u001b[36mdesci_sense.shared_functions.parsers.multi_chain_parser\u001b[0m:\u001b[36mprocess_ref_post\u001b[0m:\u001b[36m175\u001b[0m - \u001b[34m\u001b[1mInstantiating prompts...\u001b[0m\n",
      "\u001b[32m2024-04-30 20:54:25.803\u001b[0m | \u001b[34m\u001b[1mDEBUG   \u001b[0m | \u001b[36mdesci_sense.shared_functions.parsers.multi_chain_parser\u001b[0m:\u001b[36mprocess_ref_post\u001b[0m:\u001b[36m180\u001b[0m - \u001b[34m\u001b[1mInvoking parallel chain...\u001b[0m\n"
     ]
    },
    {
     "name": "stdout",
     "output_type": "stream",
     "text": [
      "107\n"
     ]
    },
    {
     "name": "stderr",
     "output_type": "stream",
     "text": [
      "\u001b[32m2024-04-30 20:54:28.411\u001b[0m | \u001b[34m\u001b[1mDEBUG   \u001b[0m | \u001b[36mdesci_sense.shared_functions.parsers.multi_chain_parser\u001b[0m:\u001b[36mprocess_ref_post\u001b[0m:\u001b[36m173\u001b[0m - \u001b[34m\u001b[1mProcessing post with parsers: ['topics']\u001b[0m\n",
      "\u001b[32m2024-04-30 20:54:28.412\u001b[0m | \u001b[34m\u001b[1mDEBUG   \u001b[0m | \u001b[36mdesci_sense.shared_functions.parsers.multi_chain_parser\u001b[0m:\u001b[36mprocess_ref_post\u001b[0m:\u001b[36m175\u001b[0m - \u001b[34m\u001b[1mInstantiating prompts...\u001b[0m\n",
      "\u001b[32m2024-04-30 20:54:28.415\u001b[0m | \u001b[34m\u001b[1mDEBUG   \u001b[0m | \u001b[36mdesci_sense.shared_functions.parsers.multi_chain_parser\u001b[0m:\u001b[36mprocess_ref_post\u001b[0m:\u001b[36m180\u001b[0m - \u001b[34m\u001b[1mInvoking parallel chain...\u001b[0m\n"
     ]
    },
    {
     "name": "stdout",
     "output_type": "stream",
     "text": [
      "108\n"
     ]
    },
    {
     "name": "stderr",
     "output_type": "stream",
     "text": [
      "\u001b[32m2024-04-30 20:54:32.016\u001b[0m | \u001b[34m\u001b[1mDEBUG   \u001b[0m | \u001b[36mdesci_sense.shared_functions.parsers.multi_chain_parser\u001b[0m:\u001b[36mprocess_ref_post\u001b[0m:\u001b[36m173\u001b[0m - \u001b[34m\u001b[1mProcessing post with parsers: ['topics']\u001b[0m\n",
      "\u001b[32m2024-04-30 20:54:32.018\u001b[0m | \u001b[34m\u001b[1mDEBUG   \u001b[0m | \u001b[36mdesci_sense.shared_functions.parsers.multi_chain_parser\u001b[0m:\u001b[36mprocess_ref_post\u001b[0m:\u001b[36m175\u001b[0m - \u001b[34m\u001b[1mInstantiating prompts...\u001b[0m\n",
      "\u001b[32m2024-04-30 20:54:32.019\u001b[0m | \u001b[34m\u001b[1mDEBUG   \u001b[0m | \u001b[36mdesci_sense.shared_functions.parsers.multi_chain_parser\u001b[0m:\u001b[36mprocess_ref_post\u001b[0m:\u001b[36m180\u001b[0m - \u001b[34m\u001b[1mInvoking parallel chain...\u001b[0m\n"
     ]
    },
    {
     "name": "stdout",
     "output_type": "stream",
     "text": [
      "109\n"
     ]
    },
    {
     "name": "stderr",
     "output_type": "stream",
     "text": [
      "\u001b[32m2024-04-30 20:54:35.353\u001b[0m | \u001b[34m\u001b[1mDEBUG   \u001b[0m | \u001b[36mdesci_sense.shared_functions.parsers.multi_chain_parser\u001b[0m:\u001b[36mprocess_ref_post\u001b[0m:\u001b[36m173\u001b[0m - \u001b[34m\u001b[1mProcessing post with parsers: ['topics']\u001b[0m\n",
      "\u001b[32m2024-04-30 20:54:35.355\u001b[0m | \u001b[34m\u001b[1mDEBUG   \u001b[0m | \u001b[36mdesci_sense.shared_functions.parsers.multi_chain_parser\u001b[0m:\u001b[36mprocess_ref_post\u001b[0m:\u001b[36m175\u001b[0m - \u001b[34m\u001b[1mInstantiating prompts...\u001b[0m\n",
      "\u001b[32m2024-04-30 20:54:35.356\u001b[0m | \u001b[34m\u001b[1mDEBUG   \u001b[0m | \u001b[36mdesci_sense.shared_functions.parsers.multi_chain_parser\u001b[0m:\u001b[36mprocess_ref_post\u001b[0m:\u001b[36m180\u001b[0m - \u001b[34m\u001b[1mInvoking parallel chain...\u001b[0m\n"
     ]
    },
    {
     "name": "stdout",
     "output_type": "stream",
     "text": [
      "110\n"
     ]
    },
    {
     "name": "stderr",
     "output_type": "stream",
     "text": [
      "\u001b[32m2024-04-30 20:54:39.035\u001b[0m | \u001b[34m\u001b[1mDEBUG   \u001b[0m | \u001b[36mdesci_sense.shared_functions.parsers.multi_chain_parser\u001b[0m:\u001b[36mprocess_ref_post\u001b[0m:\u001b[36m173\u001b[0m - \u001b[34m\u001b[1mProcessing post with parsers: ['topics']\u001b[0m\n",
      "\u001b[32m2024-04-30 20:54:39.037\u001b[0m | \u001b[34m\u001b[1mDEBUG   \u001b[0m | \u001b[36mdesci_sense.shared_functions.parsers.multi_chain_parser\u001b[0m:\u001b[36mprocess_ref_post\u001b[0m:\u001b[36m175\u001b[0m - \u001b[34m\u001b[1mInstantiating prompts...\u001b[0m\n",
      "\u001b[32m2024-04-30 20:54:39.038\u001b[0m | \u001b[34m\u001b[1mDEBUG   \u001b[0m | \u001b[36mdesci_sense.shared_functions.parsers.multi_chain_parser\u001b[0m:\u001b[36mprocess_ref_post\u001b[0m:\u001b[36m180\u001b[0m - \u001b[34m\u001b[1mInvoking parallel chain...\u001b[0m\n"
     ]
    },
    {
     "name": "stdout",
     "output_type": "stream",
     "text": [
      "111\n",
      "112\n"
     ]
    },
    {
     "name": "stderr",
     "output_type": "stream",
     "text": [
      "\u001b[32m2024-04-30 20:54:42.830\u001b[0m | \u001b[34m\u001b[1mDEBUG   \u001b[0m | \u001b[36mdesci_sense.shared_functions.web_extractors.citoid\u001b[0m:\u001b[36mfetch_citation\u001b[0m:\u001b[36m54\u001b[0m - \u001b[34m\u001b[1mfetching citoid data for: https://twitter.com/emollick/status/1769887930288320925\u001b[0m\n",
      "\u001b[32m2024-04-30 20:54:43.042\u001b[0m | \u001b[34m\u001b[1mDEBUG   \u001b[0m | \u001b[36mdesci_sense.shared_functions.parsers.multi_chain_parser\u001b[0m:\u001b[36mprocess_ref_post\u001b[0m:\u001b[36m173\u001b[0m - \u001b[34m\u001b[1mProcessing post with parsers: ['topics']\u001b[0m\n",
      "\u001b[32m2024-04-30 20:54:43.044\u001b[0m | \u001b[34m\u001b[1mDEBUG   \u001b[0m | \u001b[36mdesci_sense.shared_functions.parsers.multi_chain_parser\u001b[0m:\u001b[36mprocess_ref_post\u001b[0m:\u001b[36m175\u001b[0m - \u001b[34m\u001b[1mInstantiating prompts...\u001b[0m\n",
      "\u001b[32m2024-04-30 20:54:43.046\u001b[0m | \u001b[34m\u001b[1mDEBUG   \u001b[0m | \u001b[36mdesci_sense.shared_functions.parsers.multi_chain_parser\u001b[0m:\u001b[36mprocess_ref_post\u001b[0m:\u001b[36m180\u001b[0m - \u001b[34m\u001b[1mInvoking parallel chain...\u001b[0m\n",
      "\u001b[32m2024-04-30 20:54:46.419\u001b[0m | \u001b[34m\u001b[1mDEBUG   \u001b[0m | \u001b[36mdesci_sense.shared_functions.parsers.multi_chain_parser\u001b[0m:\u001b[36mprocess_ref_post\u001b[0m:\u001b[36m173\u001b[0m - \u001b[34m\u001b[1mProcessing post with parsers: ['topics']\u001b[0m\n",
      "\u001b[32m2024-04-30 20:54:46.421\u001b[0m | \u001b[34m\u001b[1mDEBUG   \u001b[0m | \u001b[36mdesci_sense.shared_functions.parsers.multi_chain_parser\u001b[0m:\u001b[36mprocess_ref_post\u001b[0m:\u001b[36m175\u001b[0m - \u001b[34m\u001b[1mInstantiating prompts...\u001b[0m\n",
      "\u001b[32m2024-04-30 20:54:46.424\u001b[0m | \u001b[34m\u001b[1mDEBUG   \u001b[0m | \u001b[36mdesci_sense.shared_functions.parsers.multi_chain_parser\u001b[0m:\u001b[36mprocess_ref_post\u001b[0m:\u001b[36m180\u001b[0m - \u001b[34m\u001b[1mInvoking parallel chain...\u001b[0m\n"
     ]
    },
    {
     "name": "stdout",
     "output_type": "stream",
     "text": [
      "113\n",
      "114\n"
     ]
    },
    {
     "name": "stderr",
     "output_type": "stream",
     "text": [
      "\u001b[32m2024-04-30 20:54:49.169\u001b[0m | \u001b[34m\u001b[1mDEBUG   \u001b[0m | \u001b[36mdesci_sense.shared_functions.web_extractors.citoid\u001b[0m:\u001b[36mfetch_citation\u001b[0m:\u001b[36m54\u001b[0m - \u001b[34m\u001b[1mfetching citoid data for: https://twitter.com/AravSrinivas/status/1770128084999758130\u001b[0m\n",
      "\u001b[32m2024-04-30 20:54:51.176\u001b[0m | \u001b[34m\u001b[1mDEBUG   \u001b[0m | \u001b[36mdesci_sense.shared_functions.parsers.multi_chain_parser\u001b[0m:\u001b[36mprocess_ref_post\u001b[0m:\u001b[36m173\u001b[0m - \u001b[34m\u001b[1mProcessing post with parsers: ['topics']\u001b[0m\n",
      "\u001b[32m2024-04-30 20:54:51.179\u001b[0m | \u001b[34m\u001b[1mDEBUG   \u001b[0m | \u001b[36mdesci_sense.shared_functions.parsers.multi_chain_parser\u001b[0m:\u001b[36mprocess_ref_post\u001b[0m:\u001b[36m175\u001b[0m - \u001b[34m\u001b[1mInstantiating prompts...\u001b[0m\n",
      "\u001b[32m2024-04-30 20:54:51.183\u001b[0m | \u001b[34m\u001b[1mDEBUG   \u001b[0m | \u001b[36mdesci_sense.shared_functions.parsers.multi_chain_parser\u001b[0m:\u001b[36mprocess_ref_post\u001b[0m:\u001b[36m180\u001b[0m - \u001b[34m\u001b[1mInvoking parallel chain...\u001b[0m\n"
     ]
    },
    {
     "name": "stdout",
     "output_type": "stream",
     "text": [
      "115\n"
     ]
    },
    {
     "name": "stderr",
     "output_type": "stream",
     "text": [
      "\u001b[32m2024-04-30 20:54:56.060\u001b[0m | \u001b[34m\u001b[1mDEBUG   \u001b[0m | \u001b[36mdesci_sense.shared_functions.web_extractors.citoid\u001b[0m:\u001b[36mfetch_citation\u001b[0m:\u001b[36m54\u001b[0m - \u001b[34m\u001b[1mfetching citoid data for: https://twitter.com/MishaTeplitskiy/status/1769433162122232127\u001b[0m\n",
      "\u001b[32m2024-04-30 20:54:56.394\u001b[0m | \u001b[34m\u001b[1mDEBUG   \u001b[0m | \u001b[36mdesci_sense.shared_functions.parsers.multi_chain_parser\u001b[0m:\u001b[36mprocess_ref_post\u001b[0m:\u001b[36m173\u001b[0m - \u001b[34m\u001b[1mProcessing post with parsers: ['topics']\u001b[0m\n",
      "\u001b[32m2024-04-30 20:54:56.486\u001b[0m | \u001b[34m\u001b[1mDEBUG   \u001b[0m | \u001b[36mdesci_sense.shared_functions.parsers.multi_chain_parser\u001b[0m:\u001b[36mprocess_ref_post\u001b[0m:\u001b[36m175\u001b[0m - \u001b[34m\u001b[1mInstantiating prompts...\u001b[0m\n",
      "\u001b[32m2024-04-30 20:54:56.524\u001b[0m | \u001b[34m\u001b[1mDEBUG   \u001b[0m | \u001b[36mdesci_sense.shared_functions.parsers.multi_chain_parser\u001b[0m:\u001b[36mprocess_ref_post\u001b[0m:\u001b[36m180\u001b[0m - \u001b[34m\u001b[1mInvoking parallel chain...\u001b[0m\n",
      "\u001b[32m2024-04-30 20:54:59.905\u001b[0m | \u001b[34m\u001b[1mDEBUG   \u001b[0m | \u001b[36mdesci_sense.shared_functions.parsers.multi_chain_parser\u001b[0m:\u001b[36mprocess_ref_post\u001b[0m:\u001b[36m173\u001b[0m - \u001b[34m\u001b[1mProcessing post with parsers: ['topics']\u001b[0m\n",
      "\u001b[32m2024-04-30 20:54:59.906\u001b[0m | \u001b[34m\u001b[1mDEBUG   \u001b[0m | \u001b[36mdesci_sense.shared_functions.parsers.multi_chain_parser\u001b[0m:\u001b[36mprocess_ref_post\u001b[0m:\u001b[36m175\u001b[0m - \u001b[34m\u001b[1mInstantiating prompts...\u001b[0m\n",
      "\u001b[32m2024-04-30 20:54:59.907\u001b[0m | \u001b[34m\u001b[1mDEBUG   \u001b[0m | \u001b[36mdesci_sense.shared_functions.parsers.multi_chain_parser\u001b[0m:\u001b[36mprocess_ref_post\u001b[0m:\u001b[36m180\u001b[0m - \u001b[34m\u001b[1mInvoking parallel chain...\u001b[0m\n"
     ]
    },
    {
     "name": "stdout",
     "output_type": "stream",
     "text": [
      "116\n"
     ]
    },
    {
     "name": "stderr",
     "output_type": "stream",
     "text": [
      "\u001b[32m2024-04-30 20:55:04.418\u001b[0m | \u001b[34m\u001b[1mDEBUG   \u001b[0m | \u001b[36mdesci_sense.shared_functions.parsers.multi_chain_parser\u001b[0m:\u001b[36mprocess_ref_post\u001b[0m:\u001b[36m173\u001b[0m - \u001b[34m\u001b[1mProcessing post with parsers: ['topics']\u001b[0m\n",
      "\u001b[32m2024-04-30 20:55:04.428\u001b[0m | \u001b[34m\u001b[1mDEBUG   \u001b[0m | \u001b[36mdesci_sense.shared_functions.parsers.multi_chain_parser\u001b[0m:\u001b[36mprocess_ref_post\u001b[0m:\u001b[36m175\u001b[0m - \u001b[34m\u001b[1mInstantiating prompts...\u001b[0m\n",
      "\u001b[32m2024-04-30 20:55:04.437\u001b[0m | \u001b[34m\u001b[1mDEBUG   \u001b[0m | \u001b[36mdesci_sense.shared_functions.parsers.multi_chain_parser\u001b[0m:\u001b[36mprocess_ref_post\u001b[0m:\u001b[36m180\u001b[0m - \u001b[34m\u001b[1mInvoking parallel chain...\u001b[0m\n"
     ]
    },
    {
     "name": "stdout",
     "output_type": "stream",
     "text": [
      "117\n"
     ]
    },
    {
     "name": "stderr",
     "output_type": "stream",
     "text": [
      "\u001b[32m2024-04-30 20:55:08.323\u001b[0m | \u001b[34m\u001b[1mDEBUG   \u001b[0m | \u001b[36mdesci_sense.shared_functions.parsers.multi_chain_parser\u001b[0m:\u001b[36mprocess_ref_post\u001b[0m:\u001b[36m173\u001b[0m - \u001b[34m\u001b[1mProcessing post with parsers: ['topics']\u001b[0m\n",
      "\u001b[32m2024-04-30 20:55:08.324\u001b[0m | \u001b[34m\u001b[1mDEBUG   \u001b[0m | \u001b[36mdesci_sense.shared_functions.parsers.multi_chain_parser\u001b[0m:\u001b[36mprocess_ref_post\u001b[0m:\u001b[36m175\u001b[0m - \u001b[34m\u001b[1mInstantiating prompts...\u001b[0m\n",
      "\u001b[32m2024-04-30 20:55:08.325\u001b[0m | \u001b[34m\u001b[1mDEBUG   \u001b[0m | \u001b[36mdesci_sense.shared_functions.parsers.multi_chain_parser\u001b[0m:\u001b[36mprocess_ref_post\u001b[0m:\u001b[36m180\u001b[0m - \u001b[34m\u001b[1mInvoking parallel chain...\u001b[0m\n"
     ]
    },
    {
     "name": "stdout",
     "output_type": "stream",
     "text": [
      "118\n",
      "119\n"
     ]
    },
    {
     "name": "stderr",
     "output_type": "stream",
     "text": [
      "\u001b[32m2024-04-30 20:55:13.512\u001b[0m | \u001b[34m\u001b[1mDEBUG   \u001b[0m | \u001b[36mdesci_sense.shared_functions.web_extractors.citoid\u001b[0m:\u001b[36mfetch_citation\u001b[0m:\u001b[36m54\u001b[0m - \u001b[34m\u001b[1mfetching citoid data for: https://twitter.com/seshubon/status/1765870717844050221\u001b[0m\n",
      "\u001b[32m2024-04-30 20:55:13.867\u001b[0m | \u001b[34m\u001b[1mDEBUG   \u001b[0m | \u001b[36mdesci_sense.shared_functions.parsers.multi_chain_parser\u001b[0m:\u001b[36mprocess_ref_post\u001b[0m:\u001b[36m173\u001b[0m - \u001b[34m\u001b[1mProcessing post with parsers: ['topics']\u001b[0m\n",
      "\u001b[32m2024-04-30 20:55:13.872\u001b[0m | \u001b[34m\u001b[1mDEBUG   \u001b[0m | \u001b[36mdesci_sense.shared_functions.parsers.multi_chain_parser\u001b[0m:\u001b[36mprocess_ref_post\u001b[0m:\u001b[36m175\u001b[0m - \u001b[34m\u001b[1mInstantiating prompts...\u001b[0m\n",
      "\u001b[32m2024-04-30 20:55:13.875\u001b[0m | \u001b[34m\u001b[1mDEBUG   \u001b[0m | \u001b[36mdesci_sense.shared_functions.parsers.multi_chain_parser\u001b[0m:\u001b[36mprocess_ref_post\u001b[0m:\u001b[36m180\u001b[0m - \u001b[34m\u001b[1mInvoking parallel chain...\u001b[0m\n",
      "\u001b[32m2024-04-30 20:55:17.715\u001b[0m | \u001b[34m\u001b[1mDEBUG   \u001b[0m | \u001b[36mdesci_sense.shared_functions.parsers.multi_chain_parser\u001b[0m:\u001b[36mprocess_ref_post\u001b[0m:\u001b[36m173\u001b[0m - \u001b[34m\u001b[1mProcessing post with parsers: ['topics']\u001b[0m\n",
      "\u001b[32m2024-04-30 20:55:17.720\u001b[0m | \u001b[34m\u001b[1mDEBUG   \u001b[0m | \u001b[36mdesci_sense.shared_functions.parsers.multi_chain_parser\u001b[0m:\u001b[36mprocess_ref_post\u001b[0m:\u001b[36m175\u001b[0m - \u001b[34m\u001b[1mInstantiating prompts...\u001b[0m\n",
      "\u001b[32m2024-04-30 20:55:17.723\u001b[0m | \u001b[34m\u001b[1mDEBUG   \u001b[0m | \u001b[36mdesci_sense.shared_functions.parsers.multi_chain_parser\u001b[0m:\u001b[36mprocess_ref_post\u001b[0m:\u001b[36m180\u001b[0m - \u001b[34m\u001b[1mInvoking parallel chain...\u001b[0m\n"
     ]
    },
    {
     "name": "stdout",
     "output_type": "stream",
     "text": [
      "120\n",
      "121\n"
     ]
    },
    {
     "name": "stderr",
     "output_type": "stream",
     "text": [
      "\u001b[32m2024-04-30 20:55:22.653\u001b[0m | \u001b[34m\u001b[1mDEBUG   \u001b[0m | \u001b[36mdesci_sense.shared_functions.web_extractors.citoid\u001b[0m:\u001b[36mfetch_citation\u001b[0m:\u001b[36m54\u001b[0m - \u001b[34m\u001b[1mfetching citoid data for: https://twitter.com/sigchi/status/1763168004194394260\u001b[0m\n",
      "\u001b[32m2024-04-30 20:55:22.912\u001b[0m | \u001b[34m\u001b[1mDEBUG   \u001b[0m | \u001b[36mdesci_sense.shared_functions.parsers.multi_chain_parser\u001b[0m:\u001b[36mprocess_ref_post\u001b[0m:\u001b[36m173\u001b[0m - \u001b[34m\u001b[1mProcessing post with parsers: ['topics']\u001b[0m\n",
      "\u001b[32m2024-04-30 20:55:22.917\u001b[0m | \u001b[34m\u001b[1mDEBUG   \u001b[0m | \u001b[36mdesci_sense.shared_functions.parsers.multi_chain_parser\u001b[0m:\u001b[36mprocess_ref_post\u001b[0m:\u001b[36m175\u001b[0m - \u001b[34m\u001b[1mInstantiating prompts...\u001b[0m\n",
      "\u001b[32m2024-04-30 20:55:22.920\u001b[0m | \u001b[34m\u001b[1mDEBUG   \u001b[0m | \u001b[36mdesci_sense.shared_functions.parsers.multi_chain_parser\u001b[0m:\u001b[36mprocess_ref_post\u001b[0m:\u001b[36m180\u001b[0m - \u001b[34m\u001b[1mInvoking parallel chain...\u001b[0m\n"
     ]
    },
    {
     "name": "stdout",
     "output_type": "stream",
     "text": [
      "122\n"
     ]
    },
    {
     "name": "stderr",
     "output_type": "stream",
     "text": [
      "\u001b[32m2024-04-30 20:55:27.469\u001b[0m | \u001b[34m\u001b[1mDEBUG   \u001b[0m | \u001b[36mdesci_sense.shared_functions.web_extractors.citoid\u001b[0m:\u001b[36mfetch_citation\u001b[0m:\u001b[36m54\u001b[0m - \u001b[34m\u001b[1mfetching citoid data for: https://twitter.com/erikphoel/status/1758875800294539600\u001b[0m\n",
      "\u001b[32m2024-04-30 20:55:27.703\u001b[0m | \u001b[34m\u001b[1mDEBUG   \u001b[0m | \u001b[36mdesci_sense.shared_functions.parsers.multi_chain_parser\u001b[0m:\u001b[36mprocess_ref_post\u001b[0m:\u001b[36m173\u001b[0m - \u001b[34m\u001b[1mProcessing post with parsers: ['topics']\u001b[0m\n",
      "\u001b[32m2024-04-30 20:55:27.703\u001b[0m | \u001b[34m\u001b[1mDEBUG   \u001b[0m | \u001b[36mdesci_sense.shared_functions.parsers.multi_chain_parser\u001b[0m:\u001b[36mprocess_ref_post\u001b[0m:\u001b[36m175\u001b[0m - \u001b[34m\u001b[1mInstantiating prompts...\u001b[0m\n",
      "\u001b[32m2024-04-30 20:55:27.706\u001b[0m | \u001b[34m\u001b[1mDEBUG   \u001b[0m | \u001b[36mdesci_sense.shared_functions.parsers.multi_chain_parser\u001b[0m:\u001b[36mprocess_ref_post\u001b[0m:\u001b[36m180\u001b[0m - \u001b[34m\u001b[1mInvoking parallel chain...\u001b[0m\n"
     ]
    },
    {
     "name": "stdout",
     "output_type": "stream",
     "text": [
      "123\n"
     ]
    },
    {
     "name": "stderr",
     "output_type": "stream",
     "text": [
      "\u001b[32m2024-04-30 20:55:31.510\u001b[0m | \u001b[34m\u001b[1mDEBUG   \u001b[0m | \u001b[36mdesci_sense.shared_functions.web_extractors.citoid\u001b[0m:\u001b[36mfetch_citation\u001b[0m:\u001b[36m54\u001b[0m - \u001b[34m\u001b[1mfetching citoid data for: https://twitter.com/Saragoud/status/1754526410440343697\u001b[0m\n",
      "\u001b[32m2024-04-30 20:55:32.028\u001b[0m | \u001b[34m\u001b[1mDEBUG   \u001b[0m | \u001b[36mdesci_sense.shared_functions.parsers.multi_chain_parser\u001b[0m:\u001b[36mprocess_ref_post\u001b[0m:\u001b[36m173\u001b[0m - \u001b[34m\u001b[1mProcessing post with parsers: ['topics']\u001b[0m\n",
      "\u001b[32m2024-04-30 20:55:32.030\u001b[0m | \u001b[34m\u001b[1mDEBUG   \u001b[0m | \u001b[36mdesci_sense.shared_functions.parsers.multi_chain_parser\u001b[0m:\u001b[36mprocess_ref_post\u001b[0m:\u001b[36m175\u001b[0m - \u001b[34m\u001b[1mInstantiating prompts...\u001b[0m\n",
      "\u001b[32m2024-04-30 20:55:32.032\u001b[0m | \u001b[34m\u001b[1mDEBUG   \u001b[0m | \u001b[36mdesci_sense.shared_functions.parsers.multi_chain_parser\u001b[0m:\u001b[36mprocess_ref_post\u001b[0m:\u001b[36m180\u001b[0m - \u001b[34m\u001b[1mInvoking parallel chain...\u001b[0m\n"
     ]
    },
    {
     "name": "stdout",
     "output_type": "stream",
     "text": [
      "124\n"
     ]
    },
    {
     "name": "stderr",
     "output_type": "stream",
     "text": [
      "\u001b[32m2024-04-30 20:55:36.134\u001b[0m | \u001b[34m\u001b[1mDEBUG   \u001b[0m | \u001b[36mdesci_sense.shared_functions.web_extractors.citoid\u001b[0m:\u001b[36mfetch_citation\u001b[0m:\u001b[36m54\u001b[0m - \u001b[34m\u001b[1mfetching citoid data for: https://twitter.com/alexeheath/status/1753175702499967415\u001b[0m\n",
      "\u001b[32m2024-04-30 20:55:37.997\u001b[0m | \u001b[34m\u001b[1mDEBUG   \u001b[0m | \u001b[36mdesci_sense.shared_functions.parsers.multi_chain_parser\u001b[0m:\u001b[36mprocess_ref_post\u001b[0m:\u001b[36m173\u001b[0m - \u001b[34m\u001b[1mProcessing post with parsers: ['topics']\u001b[0m\n",
      "\u001b[32m2024-04-30 20:55:38.004\u001b[0m | \u001b[34m\u001b[1mDEBUG   \u001b[0m | \u001b[36mdesci_sense.shared_functions.parsers.multi_chain_parser\u001b[0m:\u001b[36mprocess_ref_post\u001b[0m:\u001b[36m175\u001b[0m - \u001b[34m\u001b[1mInstantiating prompts...\u001b[0m\n",
      "\u001b[32m2024-04-30 20:55:38.007\u001b[0m | \u001b[34m\u001b[1mDEBUG   \u001b[0m | \u001b[36mdesci_sense.shared_functions.parsers.multi_chain_parser\u001b[0m:\u001b[36mprocess_ref_post\u001b[0m:\u001b[36m180\u001b[0m - \u001b[34m\u001b[1mInvoking parallel chain...\u001b[0m\n"
     ]
    },
    {
     "name": "stdout",
     "output_type": "stream",
     "text": [
      "125\n"
     ]
    },
    {
     "name": "stderr",
     "output_type": "stream",
     "text": [
      "\u001b[32m2024-04-30 20:55:41.545\u001b[0m | \u001b[34m\u001b[1mDEBUG   \u001b[0m | \u001b[36mdesci_sense.shared_functions.web_extractors.citoid\u001b[0m:\u001b[36mfetch_citation\u001b[0m:\u001b[36m54\u001b[0m - \u001b[34m\u001b[1mfetching citoid data for: https://arxiv.org/abs/2404.10719\u001b[0m\n",
      "\u001b[32m2024-04-30 20:55:42.226\u001b[0m | \u001b[34m\u001b[1mDEBUG   \u001b[0m | \u001b[36mdesci_sense.shared_functions.parsers.multi_chain_parser\u001b[0m:\u001b[36mprocess_ref_post\u001b[0m:\u001b[36m173\u001b[0m - \u001b[34m\u001b[1mProcessing post with parsers: ['topics']\u001b[0m\n",
      "\u001b[32m2024-04-30 20:55:42.229\u001b[0m | \u001b[34m\u001b[1mDEBUG   \u001b[0m | \u001b[36mdesci_sense.shared_functions.parsers.multi_chain_parser\u001b[0m:\u001b[36mprocess_ref_post\u001b[0m:\u001b[36m175\u001b[0m - \u001b[34m\u001b[1mInstantiating prompts...\u001b[0m\n",
      "\u001b[32m2024-04-30 20:55:42.231\u001b[0m | \u001b[34m\u001b[1mDEBUG   \u001b[0m | \u001b[36mdesci_sense.shared_functions.parsers.multi_chain_parser\u001b[0m:\u001b[36mprocess_ref_post\u001b[0m:\u001b[36m180\u001b[0m - \u001b[34m\u001b[1mInvoking parallel chain...\u001b[0m\n"
     ]
    },
    {
     "name": "stdout",
     "output_type": "stream",
     "text": [
      "126\n"
     ]
    },
    {
     "name": "stderr",
     "output_type": "stream",
     "text": [
      "\u001b[32m2024-04-30 20:55:45.395\u001b[0m | \u001b[34m\u001b[1mDEBUG   \u001b[0m | \u001b[36mdesci_sense.shared_functions.web_extractors.citoid\u001b[0m:\u001b[36mfetch_citation\u001b[0m:\u001b[36m54\u001b[0m - \u001b[34m\u001b[1mfetching citoid data for: https://twitter.com/yanaiela/status/1780274904031732222\u001b[0m\n",
      "\u001b[32m2024-04-30 20:55:45.640\u001b[0m | \u001b[34m\u001b[1mDEBUG   \u001b[0m | \u001b[36mdesci_sense.shared_functions.parsers.multi_chain_parser\u001b[0m:\u001b[36mprocess_ref_post\u001b[0m:\u001b[36m173\u001b[0m - \u001b[34m\u001b[1mProcessing post with parsers: ['topics']\u001b[0m\n",
      "\u001b[32m2024-04-30 20:55:45.643\u001b[0m | \u001b[34m\u001b[1mDEBUG   \u001b[0m | \u001b[36mdesci_sense.shared_functions.parsers.multi_chain_parser\u001b[0m:\u001b[36mprocess_ref_post\u001b[0m:\u001b[36m175\u001b[0m - \u001b[34m\u001b[1mInstantiating prompts...\u001b[0m\n",
      "\u001b[32m2024-04-30 20:55:45.644\u001b[0m | \u001b[34m\u001b[1mDEBUG   \u001b[0m | \u001b[36mdesci_sense.shared_functions.parsers.multi_chain_parser\u001b[0m:\u001b[36mprocess_ref_post\u001b[0m:\u001b[36m180\u001b[0m - \u001b[34m\u001b[1mInvoking parallel chain...\u001b[0m\n"
     ]
    },
    {
     "name": "stdout",
     "output_type": "stream",
     "text": [
      "127\n"
     ]
    },
    {
     "name": "stderr",
     "output_type": "stream",
     "text": [
      "\u001b[32m2024-04-30 20:55:49.922\u001b[0m | \u001b[34m\u001b[1mDEBUG   \u001b[0m | \u001b[36mdesci_sense.shared_functions.web_extractors.citoid\u001b[0m:\u001b[36mfetch_citation_async\u001b[0m:\u001b[36m20\u001b[0m - \u001b[34m\u001b[1mtarget_url=https://twitter.com/LChoshen/status/1780200317088387242/photo/1\u001b[0m\n",
      "\u001b[32m2024-04-30 20:55:49.932\u001b[0m | \u001b[34m\u001b[1mDEBUG   \u001b[0m | \u001b[36mdesci_sense.shared_functions.web_extractors.citoid\u001b[0m:\u001b[36mfetch_citation_async\u001b[0m:\u001b[36m20\u001b[0m - \u001b[34m\u001b[1mtarget_url=https://arxiv.org/abs/2404.08760\u001b[0m\n",
      "\u001b[32m2024-04-30 20:55:52.392\u001b[0m | \u001b[34m\u001b[1mDEBUG   \u001b[0m | \u001b[36mdesci_sense.shared_functions.parsers.multi_chain_parser\u001b[0m:\u001b[36mprocess_ref_post\u001b[0m:\u001b[36m173\u001b[0m - \u001b[34m\u001b[1mProcessing post with parsers: ['topics']\u001b[0m\n",
      "\u001b[32m2024-04-30 20:55:52.395\u001b[0m | \u001b[34m\u001b[1mDEBUG   \u001b[0m | \u001b[36mdesci_sense.shared_functions.parsers.multi_chain_parser\u001b[0m:\u001b[36mprocess_ref_post\u001b[0m:\u001b[36m175\u001b[0m - \u001b[34m\u001b[1mInstantiating prompts...\u001b[0m\n",
      "\u001b[32m2024-04-30 20:55:52.397\u001b[0m | \u001b[34m\u001b[1mDEBUG   \u001b[0m | \u001b[36mdesci_sense.shared_functions.parsers.multi_chain_parser\u001b[0m:\u001b[36mprocess_ref_post\u001b[0m:\u001b[36m180\u001b[0m - \u001b[34m\u001b[1mInvoking parallel chain...\u001b[0m\n"
     ]
    },
    {
     "name": "stdout",
     "output_type": "stream",
     "text": [
      "128\n"
     ]
    },
    {
     "name": "stderr",
     "output_type": "stream",
     "text": [
      "\u001b[32m2024-04-30 20:55:55.870\u001b[0m | \u001b[34m\u001b[1mDEBUG   \u001b[0m | \u001b[36mdesci_sense.shared_functions.web_extractors.citoid\u001b[0m:\u001b[36mfetch_citation\u001b[0m:\u001b[36m54\u001b[0m - \u001b[34m\u001b[1mfetching citoid data for: https://twitter.com/LChoshen/status/1779884877455708430/photo/1\u001b[0m\n",
      "\u001b[32m2024-04-30 20:55:56.096\u001b[0m | \u001b[34m\u001b[1mDEBUG   \u001b[0m | \u001b[36mdesci_sense.shared_functions.parsers.multi_chain_parser\u001b[0m:\u001b[36mprocess_ref_post\u001b[0m:\u001b[36m173\u001b[0m - \u001b[34m\u001b[1mProcessing post with parsers: ['topics']\u001b[0m\n",
      "\u001b[32m2024-04-30 20:55:56.098\u001b[0m | \u001b[34m\u001b[1mDEBUG   \u001b[0m | \u001b[36mdesci_sense.shared_functions.parsers.multi_chain_parser\u001b[0m:\u001b[36mprocess_ref_post\u001b[0m:\u001b[36m175\u001b[0m - \u001b[34m\u001b[1mInstantiating prompts...\u001b[0m\n",
      "\u001b[32m2024-04-30 20:55:56.100\u001b[0m | \u001b[34m\u001b[1mDEBUG   \u001b[0m | \u001b[36mdesci_sense.shared_functions.parsers.multi_chain_parser\u001b[0m:\u001b[36mprocess_ref_post\u001b[0m:\u001b[36m180\u001b[0m - \u001b[34m\u001b[1mInvoking parallel chain...\u001b[0m\n"
     ]
    },
    {
     "name": "stdout",
     "output_type": "stream",
     "text": [
      "129\n"
     ]
    },
    {
     "name": "stderr",
     "output_type": "stream",
     "text": [
      "\u001b[32m2024-04-30 20:56:00.371\u001b[0m | \u001b[34m\u001b[1mDEBUG   \u001b[0m | \u001b[36mdesci_sense.shared_functions.web_extractors.citoid\u001b[0m:\u001b[36mfetch_citation\u001b[0m:\u001b[36m54\u001b[0m - \u001b[34m\u001b[1mfetching citoid data for: https://twitter.com/babyLMchallenge/status/1778028119045165568\u001b[0m\n",
      "\u001b[32m2024-04-30 20:56:00.638\u001b[0m | \u001b[34m\u001b[1mDEBUG   \u001b[0m | \u001b[36mdesci_sense.shared_functions.parsers.multi_chain_parser\u001b[0m:\u001b[36mprocess_ref_post\u001b[0m:\u001b[36m173\u001b[0m - \u001b[34m\u001b[1mProcessing post with parsers: ['topics']\u001b[0m\n",
      "\u001b[32m2024-04-30 20:56:00.640\u001b[0m | \u001b[34m\u001b[1mDEBUG   \u001b[0m | \u001b[36mdesci_sense.shared_functions.parsers.multi_chain_parser\u001b[0m:\u001b[36mprocess_ref_post\u001b[0m:\u001b[36m175\u001b[0m - \u001b[34m\u001b[1mInstantiating prompts...\u001b[0m\n",
      "\u001b[32m2024-04-30 20:56:00.641\u001b[0m | \u001b[34m\u001b[1mDEBUG   \u001b[0m | \u001b[36mdesci_sense.shared_functions.parsers.multi_chain_parser\u001b[0m:\u001b[36mprocess_ref_post\u001b[0m:\u001b[36m180\u001b[0m - \u001b[34m\u001b[1mInvoking parallel chain...\u001b[0m\n"
     ]
    },
    {
     "name": "stdout",
     "output_type": "stream",
     "text": [
      "130\n"
     ]
    },
    {
     "name": "stderr",
     "output_type": "stream",
     "text": [
      "\u001b[32m2024-04-30 20:56:04.478\u001b[0m | \u001b[34m\u001b[1mDEBUG   \u001b[0m | \u001b[36mdesci_sense.shared_functions.web_extractors.citoid\u001b[0m:\u001b[36mfetch_citation\u001b[0m:\u001b[36m54\u001b[0m - \u001b[34m\u001b[1mfetching citoid data for: https://arxiv.org/abs/2402.16902\u001b[0m\n",
      "\u001b[32m2024-04-30 20:56:05.044\u001b[0m | \u001b[34m\u001b[1mDEBUG   \u001b[0m | \u001b[36mdesci_sense.shared_functions.parsers.multi_chain_parser\u001b[0m:\u001b[36mprocess_ref_post\u001b[0m:\u001b[36m173\u001b[0m - \u001b[34m\u001b[1mProcessing post with parsers: ['topics']\u001b[0m\n",
      "\u001b[32m2024-04-30 20:56:05.046\u001b[0m | \u001b[34m\u001b[1mDEBUG   \u001b[0m | \u001b[36mdesci_sense.shared_functions.parsers.multi_chain_parser\u001b[0m:\u001b[36mprocess_ref_post\u001b[0m:\u001b[36m175\u001b[0m - \u001b[34m\u001b[1mInstantiating prompts...\u001b[0m\n",
      "\u001b[32m2024-04-30 20:56:05.048\u001b[0m | \u001b[34m\u001b[1mDEBUG   \u001b[0m | \u001b[36mdesci_sense.shared_functions.parsers.multi_chain_parser\u001b[0m:\u001b[36mprocess_ref_post\u001b[0m:\u001b[36m180\u001b[0m - \u001b[34m\u001b[1mInvoking parallel chain...\u001b[0m\n"
     ]
    },
    {
     "name": "stdout",
     "output_type": "stream",
     "text": [
      "131\n"
     ]
    },
    {
     "name": "stderr",
     "output_type": "stream",
     "text": [
      "\u001b[32m2024-04-30 20:56:09.370\u001b[0m | \u001b[34m\u001b[1mDEBUG   \u001b[0m | \u001b[36mdesci_sense.shared_functions.web_extractors.citoid\u001b[0m:\u001b[36mfetch_citation\u001b[0m:\u001b[36m54\u001b[0m - \u001b[34m\u001b[1mfetching citoid data for: https://twitter.com/babyLMchallenge/status/1778028119045165568\u001b[0m\n",
      "\u001b[32m2024-04-30 20:56:09.603\u001b[0m | \u001b[34m\u001b[1mDEBUG   \u001b[0m | \u001b[36mdesci_sense.shared_functions.parsers.multi_chain_parser\u001b[0m:\u001b[36mprocess_ref_post\u001b[0m:\u001b[36m173\u001b[0m - \u001b[34m\u001b[1mProcessing post with parsers: ['topics']\u001b[0m\n",
      "\u001b[32m2024-04-30 20:56:09.604\u001b[0m | \u001b[34m\u001b[1mDEBUG   \u001b[0m | \u001b[36mdesci_sense.shared_functions.parsers.multi_chain_parser\u001b[0m:\u001b[36mprocess_ref_post\u001b[0m:\u001b[36m175\u001b[0m - \u001b[34m\u001b[1mInstantiating prompts...\u001b[0m\n",
      "\u001b[32m2024-04-30 20:56:09.605\u001b[0m | \u001b[34m\u001b[1mDEBUG   \u001b[0m | \u001b[36mdesci_sense.shared_functions.parsers.multi_chain_parser\u001b[0m:\u001b[36mprocess_ref_post\u001b[0m:\u001b[36m180\u001b[0m - \u001b[34m\u001b[1mInvoking parallel chain...\u001b[0m\n",
      "\u001b[32m2024-04-30 20:56:12.440\u001b[0m | \u001b[34m\u001b[1mDEBUG   \u001b[0m | \u001b[36mdesci_sense.shared_functions.parsers.multi_chain_parser\u001b[0m:\u001b[36mprocess_ref_post\u001b[0m:\u001b[36m173\u001b[0m - \u001b[34m\u001b[1mProcessing post with parsers: ['topics']\u001b[0m\n",
      "\u001b[32m2024-04-30 20:56:12.441\u001b[0m | \u001b[34m\u001b[1mDEBUG   \u001b[0m | \u001b[36mdesci_sense.shared_functions.parsers.multi_chain_parser\u001b[0m:\u001b[36mprocess_ref_post\u001b[0m:\u001b[36m175\u001b[0m - \u001b[34m\u001b[1mInstantiating prompts...\u001b[0m\n",
      "\u001b[32m2024-04-30 20:56:12.442\u001b[0m | \u001b[34m\u001b[1mDEBUG   \u001b[0m | \u001b[36mdesci_sense.shared_functions.parsers.multi_chain_parser\u001b[0m:\u001b[36mprocess_ref_post\u001b[0m:\u001b[36m180\u001b[0m - \u001b[34m\u001b[1mInvoking parallel chain...\u001b[0m\n"
     ]
    },
    {
     "name": "stdout",
     "output_type": "stream",
     "text": [
      "132\n",
      "133\n"
     ]
    },
    {
     "name": "stderr",
     "output_type": "stream",
     "text": [
      "\u001b[32m2024-04-30 20:56:16.475\u001b[0m | \u001b[34m\u001b[1mDEBUG   \u001b[0m | \u001b[36mdesci_sense.shared_functions.web_extractors.citoid\u001b[0m:\u001b[36mfetch_citation\u001b[0m:\u001b[36m54\u001b[0m - \u001b[34m\u001b[1mfetching citoid data for: https://twitter.com/NivCohenHuji/status/1777537483468636665\u001b[0m\n",
      "\u001b[32m2024-04-30 20:56:16.717\u001b[0m | \u001b[34m\u001b[1mDEBUG   \u001b[0m | \u001b[36mdesci_sense.shared_functions.parsers.multi_chain_parser\u001b[0m:\u001b[36mprocess_ref_post\u001b[0m:\u001b[36m173\u001b[0m - \u001b[34m\u001b[1mProcessing post with parsers: ['topics']\u001b[0m\n",
      "\u001b[32m2024-04-30 20:56:16.722\u001b[0m | \u001b[34m\u001b[1mDEBUG   \u001b[0m | \u001b[36mdesci_sense.shared_functions.parsers.multi_chain_parser\u001b[0m:\u001b[36mprocess_ref_post\u001b[0m:\u001b[36m175\u001b[0m - \u001b[34m\u001b[1mInstantiating prompts...\u001b[0m\n",
      "\u001b[32m2024-04-30 20:56:16.724\u001b[0m | \u001b[34m\u001b[1mDEBUG   \u001b[0m | \u001b[36mdesci_sense.shared_functions.parsers.multi_chain_parser\u001b[0m:\u001b[36mprocess_ref_post\u001b[0m:\u001b[36m180\u001b[0m - \u001b[34m\u001b[1mInvoking parallel chain...\u001b[0m\n"
     ]
    },
    {
     "name": "stdout",
     "output_type": "stream",
     "text": [
      "134\n"
     ]
    },
    {
     "name": "stderr",
     "output_type": "stream",
     "text": [
      "\u001b[32m2024-04-30 20:56:19.723\u001b[0m | \u001b[34m\u001b[1mDEBUG   \u001b[0m | \u001b[36mdesci_sense.shared_functions.web_extractors.citoid\u001b[0m:\u001b[36mfetch_citation\u001b[0m:\u001b[36m54\u001b[0m - \u001b[34m\u001b[1mfetching citoid data for: https://twitter.com/LChoshen/status/1777653490153660680\u001b[0m\n",
      "\u001b[32m2024-04-30 20:56:19.934\u001b[0m | \u001b[34m\u001b[1mDEBUG   \u001b[0m | \u001b[36mdesci_sense.shared_functions.parsers.multi_chain_parser\u001b[0m:\u001b[36mprocess_ref_post\u001b[0m:\u001b[36m173\u001b[0m - \u001b[34m\u001b[1mProcessing post with parsers: ['topics']\u001b[0m\n",
      "\u001b[32m2024-04-30 20:56:19.936\u001b[0m | \u001b[34m\u001b[1mDEBUG   \u001b[0m | \u001b[36mdesci_sense.shared_functions.parsers.multi_chain_parser\u001b[0m:\u001b[36mprocess_ref_post\u001b[0m:\u001b[36m175\u001b[0m - \u001b[34m\u001b[1mInstantiating prompts...\u001b[0m\n",
      "\u001b[32m2024-04-30 20:56:19.937\u001b[0m | \u001b[34m\u001b[1mDEBUG   \u001b[0m | \u001b[36mdesci_sense.shared_functions.parsers.multi_chain_parser\u001b[0m:\u001b[36mprocess_ref_post\u001b[0m:\u001b[36m180\u001b[0m - \u001b[34m\u001b[1mInvoking parallel chain...\u001b[0m\n"
     ]
    },
    {
     "name": "stdout",
     "output_type": "stream",
     "text": [
      "135\n"
     ]
    },
    {
     "name": "stderr",
     "output_type": "stream",
     "text": [
      "\u001b[32m2024-04-30 20:56:25.316\u001b[0m | \u001b[34m\u001b[1mDEBUG   \u001b[0m | \u001b[36mdesci_sense.shared_functions.web_extractors.citoid\u001b[0m:\u001b[36mfetch_citation_async\u001b[0m:\u001b[36m20\u001b[0m - \u001b[34m\u001b[1mtarget_url=https://twitter.com/LChoshen/status/1777653490153660680/photo/1\u001b[0m\n",
      "\u001b[32m2024-04-30 20:56:25.323\u001b[0m | \u001b[34m\u001b[1mDEBUG   \u001b[0m | \u001b[36mdesci_sense.shared_functions.web_extractors.citoid\u001b[0m:\u001b[36mfetch_citation_async\u001b[0m:\u001b[36m20\u001b[0m - \u001b[34m\u001b[1mtarget_url=https://easychair.org/publications/preprint/N9MH\u001b[0m\n",
      "\u001b[32m2024-04-30 20:56:26.395\u001b[0m | \u001b[34m\u001b[1mDEBUG   \u001b[0m | \u001b[36mdesci_sense.shared_functions.parsers.multi_chain_parser\u001b[0m:\u001b[36mprocess_ref_post\u001b[0m:\u001b[36m173\u001b[0m - \u001b[34m\u001b[1mProcessing post with parsers: ['topics']\u001b[0m\n",
      "\u001b[32m2024-04-30 20:56:26.410\u001b[0m | \u001b[34m\u001b[1mDEBUG   \u001b[0m | \u001b[36mdesci_sense.shared_functions.parsers.multi_chain_parser\u001b[0m:\u001b[36mprocess_ref_post\u001b[0m:\u001b[36m175\u001b[0m - \u001b[34m\u001b[1mInstantiating prompts...\u001b[0m\n",
      "\u001b[32m2024-04-30 20:56:26.413\u001b[0m | \u001b[34m\u001b[1mDEBUG   \u001b[0m | \u001b[36mdesci_sense.shared_functions.parsers.multi_chain_parser\u001b[0m:\u001b[36mprocess_ref_post\u001b[0m:\u001b[36m180\u001b[0m - \u001b[34m\u001b[1mInvoking parallel chain...\u001b[0m\n"
     ]
    },
    {
     "name": "stdout",
     "output_type": "stream",
     "text": [
      "136\n"
     ]
    },
    {
     "name": "stderr",
     "output_type": "stream",
     "text": [
      "\u001b[32m2024-04-30 20:56:29.968\u001b[0m | \u001b[34m\u001b[1mDEBUG   \u001b[0m | \u001b[36mdesci_sense.shared_functions.web_extractors.citoid\u001b[0m:\u001b[36mfetch_citation\u001b[0m:\u001b[36m54\u001b[0m - \u001b[34m\u001b[1mfetching citoid data for: https://podtail.com/podcast/ai-breakdown/arxiv-preprint-tinybenchmarks-evaluating-llms-with/\u001b[0m\n",
      "\u001b[32m2024-04-30 20:56:30.916\u001b[0m | \u001b[34m\u001b[1mDEBUG   \u001b[0m | \u001b[36mdesci_sense.shared_functions.parsers.multi_chain_parser\u001b[0m:\u001b[36mprocess_ref_post\u001b[0m:\u001b[36m173\u001b[0m - \u001b[34m\u001b[1mProcessing post with parsers: ['topics']\u001b[0m\n",
      "\u001b[32m2024-04-30 20:56:30.916\u001b[0m | \u001b[34m\u001b[1mDEBUG   \u001b[0m | \u001b[36mdesci_sense.shared_functions.parsers.multi_chain_parser\u001b[0m:\u001b[36mprocess_ref_post\u001b[0m:\u001b[36m175\u001b[0m - \u001b[34m\u001b[1mInstantiating prompts...\u001b[0m\n",
      "\u001b[32m2024-04-30 20:56:30.917\u001b[0m | \u001b[34m\u001b[1mDEBUG   \u001b[0m | \u001b[36mdesci_sense.shared_functions.parsers.multi_chain_parser\u001b[0m:\u001b[36mprocess_ref_post\u001b[0m:\u001b[36m180\u001b[0m - \u001b[34m\u001b[1mInvoking parallel chain...\u001b[0m\n"
     ]
    },
    {
     "name": "stdout",
     "output_type": "stream",
     "text": [
      "137\n"
     ]
    },
    {
     "name": "stderr",
     "output_type": "stream",
     "text": [
      "\u001b[32m2024-04-30 20:56:34.118\u001b[0m | \u001b[34m\u001b[1mDEBUG   \u001b[0m | \u001b[36mdesci_sense.shared_functions.web_extractors.citoid\u001b[0m:\u001b[36mfetch_citation\u001b[0m:\u001b[36m54\u001b[0m - \u001b[34m\u001b[1mfetching citoid data for: https://twitter.com/re_sieber/status/1776076713404862833\u001b[0m\n",
      "\u001b[32m2024-04-30 20:56:34.373\u001b[0m | \u001b[34m\u001b[1mDEBUG   \u001b[0m | \u001b[36mdesci_sense.shared_functions.parsers.multi_chain_parser\u001b[0m:\u001b[36mprocess_ref_post\u001b[0m:\u001b[36m173\u001b[0m - \u001b[34m\u001b[1mProcessing post with parsers: ['topics']\u001b[0m\n",
      "\u001b[32m2024-04-30 20:56:34.376\u001b[0m | \u001b[34m\u001b[1mDEBUG   \u001b[0m | \u001b[36mdesci_sense.shared_functions.parsers.multi_chain_parser\u001b[0m:\u001b[36mprocess_ref_post\u001b[0m:\u001b[36m175\u001b[0m - \u001b[34m\u001b[1mInstantiating prompts...\u001b[0m\n",
      "\u001b[32m2024-04-30 20:56:34.377\u001b[0m | \u001b[34m\u001b[1mDEBUG   \u001b[0m | \u001b[36mdesci_sense.shared_functions.parsers.multi_chain_parser\u001b[0m:\u001b[36mprocess_ref_post\u001b[0m:\u001b[36m180\u001b[0m - \u001b[34m\u001b[1mInvoking parallel chain...\u001b[0m\n"
     ]
    },
    {
     "name": "stdout",
     "output_type": "stream",
     "text": [
      "138\n"
     ]
    },
    {
     "name": "stderr",
     "output_type": "stream",
     "text": [
      "\u001b[32m2024-04-30 20:56:37.970\u001b[0m | \u001b[34m\u001b[1mDEBUG   \u001b[0m | \u001b[36mdesci_sense.shared_functions.web_extractors.citoid\u001b[0m:\u001b[36mfetch_citation\u001b[0m:\u001b[36m54\u001b[0m - \u001b[34m\u001b[1mfetching citoid data for: https://twitter.com/LChoshen/status/1775919369111134290/photo/1\u001b[0m\n",
      "\u001b[32m2024-04-30 20:56:38.226\u001b[0m | \u001b[34m\u001b[1mDEBUG   \u001b[0m | \u001b[36mdesci_sense.shared_functions.parsers.multi_chain_parser\u001b[0m:\u001b[36mprocess_ref_post\u001b[0m:\u001b[36m173\u001b[0m - \u001b[34m\u001b[1mProcessing post with parsers: ['topics']\u001b[0m\n",
      "\u001b[32m2024-04-30 20:56:38.227\u001b[0m | \u001b[34m\u001b[1mDEBUG   \u001b[0m | \u001b[36mdesci_sense.shared_functions.parsers.multi_chain_parser\u001b[0m:\u001b[36mprocess_ref_post\u001b[0m:\u001b[36m175\u001b[0m - \u001b[34m\u001b[1mInstantiating prompts...\u001b[0m\n",
      "\u001b[32m2024-04-30 20:56:38.229\u001b[0m | \u001b[34m\u001b[1mDEBUG   \u001b[0m | \u001b[36mdesci_sense.shared_functions.parsers.multi_chain_parser\u001b[0m:\u001b[36mprocess_ref_post\u001b[0m:\u001b[36m180\u001b[0m - \u001b[34m\u001b[1mInvoking parallel chain...\u001b[0m\n"
     ]
    },
    {
     "name": "stdout",
     "output_type": "stream",
     "text": [
      "139\n"
     ]
    },
    {
     "name": "stderr",
     "output_type": "stream",
     "text": [
      "\u001b[32m2024-04-30 20:56:43.642\u001b[0m | \u001b[34m\u001b[1mDEBUG   \u001b[0m | \u001b[36mdesci_sense.shared_functions.web_extractors.citoid\u001b[0m:\u001b[36mfetch_citation\u001b[0m:\u001b[36m54\u001b[0m - \u001b[34m\u001b[1mfetching citoid data for: https://arxiv.org/abs/2303.03846\u001b[0m\n",
      "\u001b[32m2024-04-30 20:56:44.259\u001b[0m | \u001b[34m\u001b[1mDEBUG   \u001b[0m | \u001b[36mdesci_sense.shared_functions.parsers.multi_chain_parser\u001b[0m:\u001b[36mprocess_ref_post\u001b[0m:\u001b[36m173\u001b[0m - \u001b[34m\u001b[1mProcessing post with parsers: ['topics']\u001b[0m\n",
      "\u001b[32m2024-04-30 20:56:44.262\u001b[0m | \u001b[34m\u001b[1mDEBUG   \u001b[0m | \u001b[36mdesci_sense.shared_functions.parsers.multi_chain_parser\u001b[0m:\u001b[36mprocess_ref_post\u001b[0m:\u001b[36m175\u001b[0m - \u001b[34m\u001b[1mInstantiating prompts...\u001b[0m\n",
      "\u001b[32m2024-04-30 20:56:44.264\u001b[0m | \u001b[34m\u001b[1mDEBUG   \u001b[0m | \u001b[36mdesci_sense.shared_functions.parsers.multi_chain_parser\u001b[0m:\u001b[36mprocess_ref_post\u001b[0m:\u001b[36m180\u001b[0m - \u001b[34m\u001b[1mInvoking parallel chain...\u001b[0m\n"
     ]
    },
    {
     "name": "stdout",
     "output_type": "stream",
     "text": [
      "140\n"
     ]
    },
    {
     "name": "stderr",
     "output_type": "stream",
     "text": [
      "\u001b[32m2024-04-30 20:56:49.186\u001b[0m | \u001b[34m\u001b[1mDEBUG   \u001b[0m | \u001b[36mdesci_sense.shared_functions.web_extractors.citoid\u001b[0m:\u001b[36mfetch_citation_async\u001b[0m:\u001b[36m20\u001b[0m - \u001b[34m\u001b[1mtarget_url=https://twitter.com/LChoshen/status/1775919359267127656/photo/1\u001b[0m\n",
      "\u001b[32m2024-04-30 20:56:49.205\u001b[0m | \u001b[34m\u001b[1mDEBUG   \u001b[0m | \u001b[36mdesci_sense.shared_functions.web_extractors.citoid\u001b[0m:\u001b[36mfetch_citation_async\u001b[0m:\u001b[36m20\u001b[0m - \u001b[34m\u001b[1mtarget_url=https://arxiv.org/abs/2404.02204\u001b[0m\n",
      "\u001b[32m2024-04-30 20:56:50.947\u001b[0m | \u001b[34m\u001b[1mDEBUG   \u001b[0m | \u001b[36mdesci_sense.shared_functions.parsers.multi_chain_parser\u001b[0m:\u001b[36mprocess_ref_post\u001b[0m:\u001b[36m173\u001b[0m - \u001b[34m\u001b[1mProcessing post with parsers: ['topics']\u001b[0m\n",
      "\u001b[32m2024-04-30 20:56:50.950\u001b[0m | \u001b[34m\u001b[1mDEBUG   \u001b[0m | \u001b[36mdesci_sense.shared_functions.parsers.multi_chain_parser\u001b[0m:\u001b[36mprocess_ref_post\u001b[0m:\u001b[36m175\u001b[0m - \u001b[34m\u001b[1mInstantiating prompts...\u001b[0m\n",
      "\u001b[32m2024-04-30 20:56:50.951\u001b[0m | \u001b[34m\u001b[1mDEBUG   \u001b[0m | \u001b[36mdesci_sense.shared_functions.parsers.multi_chain_parser\u001b[0m:\u001b[36mprocess_ref_post\u001b[0m:\u001b[36m180\u001b[0m - \u001b[34m\u001b[1mInvoking parallel chain...\u001b[0m\n"
     ]
    },
    {
     "name": "stdout",
     "output_type": "stream",
     "text": [
      "141\n"
     ]
    },
    {
     "name": "stderr",
     "output_type": "stream",
     "text": [
      "\u001b[32m2024-04-30 20:56:55.287\u001b[0m | \u001b[34m\u001b[1mDEBUG   \u001b[0m | \u001b[36mdesci_sense.shared_functions.web_extractors.citoid\u001b[0m:\u001b[36mfetch_citation\u001b[0m:\u001b[36m54\u001b[0m - \u001b[34m\u001b[1mfetching citoid data for: https://arxiv.org/abs/2308.04014\u001b[0m\n",
      "\u001b[32m2024-04-30 20:56:55.892\u001b[0m | \u001b[34m\u001b[1mDEBUG   \u001b[0m | \u001b[36mdesci_sense.shared_functions.parsers.multi_chain_parser\u001b[0m:\u001b[36mprocess_ref_post\u001b[0m:\u001b[36m173\u001b[0m - \u001b[34m\u001b[1mProcessing post with parsers: ['topics']\u001b[0m\n",
      "\u001b[32m2024-04-30 20:56:55.895\u001b[0m | \u001b[34m\u001b[1mDEBUG   \u001b[0m | \u001b[36mdesci_sense.shared_functions.parsers.multi_chain_parser\u001b[0m:\u001b[36mprocess_ref_post\u001b[0m:\u001b[36m175\u001b[0m - \u001b[34m\u001b[1mInstantiating prompts...\u001b[0m\n",
      "\u001b[32m2024-04-30 20:56:55.897\u001b[0m | \u001b[34m\u001b[1mDEBUG   \u001b[0m | \u001b[36mdesci_sense.shared_functions.parsers.multi_chain_parser\u001b[0m:\u001b[36mprocess_ref_post\u001b[0m:\u001b[36m180\u001b[0m - \u001b[34m\u001b[1mInvoking parallel chain...\u001b[0m\n"
     ]
    },
    {
     "name": "stdout",
     "output_type": "stream",
     "text": [
      "142\n"
     ]
    },
    {
     "name": "stderr",
     "output_type": "stream",
     "text": [
      "\u001b[32m2024-04-30 20:56:59.128\u001b[0m | \u001b[34m\u001b[1mDEBUG   \u001b[0m | \u001b[36mdesci_sense.shared_functions.web_extractors.citoid\u001b[0m:\u001b[36mfetch_citation\u001b[0m:\u001b[36m54\u001b[0m - \u001b[34m\u001b[1mfetching citoid data for: https://arxiv.org/abs/2404.00213\u001b[0m\n",
      "\u001b[32m2024-04-30 20:56:59.719\u001b[0m | \u001b[34m\u001b[1mDEBUG   \u001b[0m | \u001b[36mdesci_sense.shared_functions.parsers.multi_chain_parser\u001b[0m:\u001b[36mprocess_ref_post\u001b[0m:\u001b[36m173\u001b[0m - \u001b[34m\u001b[1mProcessing post with parsers: ['topics']\u001b[0m\n",
      "\u001b[32m2024-04-30 20:56:59.731\u001b[0m | \u001b[34m\u001b[1mDEBUG   \u001b[0m | \u001b[36mdesci_sense.shared_functions.parsers.multi_chain_parser\u001b[0m:\u001b[36mprocess_ref_post\u001b[0m:\u001b[36m175\u001b[0m - \u001b[34m\u001b[1mInstantiating prompts...\u001b[0m\n",
      "\u001b[32m2024-04-30 20:56:59.737\u001b[0m | \u001b[34m\u001b[1mDEBUG   \u001b[0m | \u001b[36mdesci_sense.shared_functions.parsers.multi_chain_parser\u001b[0m:\u001b[36mprocess_ref_post\u001b[0m:\u001b[36m180\u001b[0m - \u001b[34m\u001b[1mInvoking parallel chain...\u001b[0m\n"
     ]
    },
    {
     "name": "stdout",
     "output_type": "stream",
     "text": [
      "143\n"
     ]
    },
    {
     "name": "stderr",
     "output_type": "stream",
     "text": [
      "\u001b[32m2024-04-30 20:57:04.806\u001b[0m | \u001b[34m\u001b[1mDEBUG   \u001b[0m | \u001b[36mdesci_sense.shared_functions.web_extractors.citoid\u001b[0m:\u001b[36mfetch_citation_async\u001b[0m:\u001b[36m20\u001b[0m - \u001b[34m\u001b[1mtarget_url=https://arxiv.org/abs/2404.00459\u001b[0m\n",
      "\u001b[32m2024-04-30 20:57:04.818\u001b[0m | \u001b[34m\u001b[1mDEBUG   \u001b[0m | \u001b[36mdesci_sense.shared_functions.web_extractors.citoid\u001b[0m:\u001b[36mfetch_citation_async\u001b[0m:\u001b[36m20\u001b[0m - \u001b[34m\u001b[1mtarget_url=https://twitter.com/Eli_Schwartz/status/1775042910309736837\u001b[0m\n",
      "\u001b[32m2024-04-30 20:57:06.382\u001b[0m | \u001b[34m\u001b[1mDEBUG   \u001b[0m | \u001b[36mdesci_sense.shared_functions.parsers.multi_chain_parser\u001b[0m:\u001b[36mprocess_ref_post\u001b[0m:\u001b[36m173\u001b[0m - \u001b[34m\u001b[1mProcessing post with parsers: ['topics']\u001b[0m\n",
      "\u001b[32m2024-04-30 20:57:06.385\u001b[0m | \u001b[34m\u001b[1mDEBUG   \u001b[0m | \u001b[36mdesci_sense.shared_functions.parsers.multi_chain_parser\u001b[0m:\u001b[36mprocess_ref_post\u001b[0m:\u001b[36m175\u001b[0m - \u001b[34m\u001b[1mInstantiating prompts...\u001b[0m\n",
      "\u001b[32m2024-04-30 20:57:06.387\u001b[0m | \u001b[34m\u001b[1mDEBUG   \u001b[0m | \u001b[36mdesci_sense.shared_functions.parsers.multi_chain_parser\u001b[0m:\u001b[36mprocess_ref_post\u001b[0m:\u001b[36m180\u001b[0m - \u001b[34m\u001b[1mInvoking parallel chain...\u001b[0m\n"
     ]
    },
    {
     "name": "stdout",
     "output_type": "stream",
     "text": [
      "144\n"
     ]
    },
    {
     "name": "stderr",
     "output_type": "stream",
     "text": [
      "\u001b[32m2024-04-30 20:57:10.580\u001b[0m | \u001b[34m\u001b[1mDEBUG   \u001b[0m | \u001b[36mdesci_sense.shared_functions.web_extractors.citoid\u001b[0m:\u001b[36mfetch_citation\u001b[0m:\u001b[36m54\u001b[0m - \u001b[34m\u001b[1mfetching citoid data for: https://twitter.com/JerryWeiAI/status/1773402343301877960\u001b[0m\n",
      "\u001b[32m2024-04-30 20:57:10.795\u001b[0m | \u001b[34m\u001b[1mDEBUG   \u001b[0m | \u001b[36mdesci_sense.shared_functions.parsers.multi_chain_parser\u001b[0m:\u001b[36mprocess_ref_post\u001b[0m:\u001b[36m173\u001b[0m - \u001b[34m\u001b[1mProcessing post with parsers: ['topics']\u001b[0m\n",
      "\u001b[32m2024-04-30 20:57:10.796\u001b[0m | \u001b[34m\u001b[1mDEBUG   \u001b[0m | \u001b[36mdesci_sense.shared_functions.parsers.multi_chain_parser\u001b[0m:\u001b[36mprocess_ref_post\u001b[0m:\u001b[36m175\u001b[0m - \u001b[34m\u001b[1mInstantiating prompts...\u001b[0m\n",
      "\u001b[32m2024-04-30 20:57:10.801\u001b[0m | \u001b[34m\u001b[1mDEBUG   \u001b[0m | \u001b[36mdesci_sense.shared_functions.parsers.multi_chain_parser\u001b[0m:\u001b[36mprocess_ref_post\u001b[0m:\u001b[36m180\u001b[0m - \u001b[34m\u001b[1mInvoking parallel chain...\u001b[0m\n",
      "\u001b[32m2024-04-30 20:57:13.708\u001b[0m | \u001b[34m\u001b[1mDEBUG   \u001b[0m | \u001b[36mdesci_sense.shared_functions.parsers.multi_chain_parser\u001b[0m:\u001b[36mprocess_ref_post\u001b[0m:\u001b[36m173\u001b[0m - \u001b[34m\u001b[1mProcessing post with parsers: ['topics']\u001b[0m\n",
      "\u001b[32m2024-04-30 20:57:13.710\u001b[0m | \u001b[34m\u001b[1mDEBUG   \u001b[0m | \u001b[36mdesci_sense.shared_functions.parsers.multi_chain_parser\u001b[0m:\u001b[36mprocess_ref_post\u001b[0m:\u001b[36m175\u001b[0m - \u001b[34m\u001b[1mInstantiating prompts...\u001b[0m\n",
      "\u001b[32m2024-04-30 20:57:13.711\u001b[0m | \u001b[34m\u001b[1mDEBUG   \u001b[0m | \u001b[36mdesci_sense.shared_functions.parsers.multi_chain_parser\u001b[0m:\u001b[36mprocess_ref_post\u001b[0m:\u001b[36m180\u001b[0m - \u001b[34m\u001b[1mInvoking parallel chain...\u001b[0m\n"
     ]
    },
    {
     "name": "stdout",
     "output_type": "stream",
     "text": [
      "145\n",
      "146\n"
     ]
    },
    {
     "name": "stderr",
     "output_type": "stream",
     "text": [
      "\u001b[32m2024-04-30 20:57:17.615\u001b[0m | \u001b[34m\u001b[1mDEBUG   \u001b[0m | \u001b[36mdesci_sense.shared_functions.web_extractors.citoid\u001b[0m:\u001b[36mfetch_citation\u001b[0m:\u001b[36m54\u001b[0m - \u001b[34m\u001b[1mfetching citoid data for: https://twitter.com/LChoshen/status/1768355842426859962\u001b[0m\n",
      "\u001b[32m2024-04-30 20:57:18.051\u001b[0m | \u001b[34m\u001b[1mDEBUG   \u001b[0m | \u001b[36mdesci_sense.shared_functions.parsers.multi_chain_parser\u001b[0m:\u001b[36mprocess_ref_post\u001b[0m:\u001b[36m173\u001b[0m - \u001b[34m\u001b[1mProcessing post with parsers: ['topics']\u001b[0m\n",
      "\u001b[32m2024-04-30 20:57:18.054\u001b[0m | \u001b[34m\u001b[1mDEBUG   \u001b[0m | \u001b[36mdesci_sense.shared_functions.parsers.multi_chain_parser\u001b[0m:\u001b[36mprocess_ref_post\u001b[0m:\u001b[36m175\u001b[0m - \u001b[34m\u001b[1mInstantiating prompts...\u001b[0m\n",
      "\u001b[32m2024-04-30 20:57:18.056\u001b[0m | \u001b[34m\u001b[1mDEBUG   \u001b[0m | \u001b[36mdesci_sense.shared_functions.parsers.multi_chain_parser\u001b[0m:\u001b[36mprocess_ref_post\u001b[0m:\u001b[36m180\u001b[0m - \u001b[34m\u001b[1mInvoking parallel chain...\u001b[0m\n",
      "\u001b[32m2024-04-30 20:57:20.023\u001b[0m | \u001b[34m\u001b[1mDEBUG   \u001b[0m | \u001b[36mdesci_sense.shared_functions.parsers.multi_chain_parser\u001b[0m:\u001b[36mprocess_ref_post\u001b[0m:\u001b[36m173\u001b[0m - \u001b[34m\u001b[1mProcessing post with parsers: ['topics']\u001b[0m\n",
      "\u001b[32m2024-04-30 20:57:20.044\u001b[0m | \u001b[34m\u001b[1mDEBUG   \u001b[0m | \u001b[36mdesci_sense.shared_functions.parsers.multi_chain_parser\u001b[0m:\u001b[36mprocess_ref_post\u001b[0m:\u001b[36m175\u001b[0m - \u001b[34m\u001b[1mInstantiating prompts...\u001b[0m\n",
      "\u001b[32m2024-04-30 20:57:20.046\u001b[0m | \u001b[34m\u001b[1mDEBUG   \u001b[0m | \u001b[36mdesci_sense.shared_functions.parsers.multi_chain_parser\u001b[0m:\u001b[36mprocess_ref_post\u001b[0m:\u001b[36m180\u001b[0m - \u001b[34m\u001b[1mInvoking parallel chain...\u001b[0m\n"
     ]
    },
    {
     "name": "stdout",
     "output_type": "stream",
     "text": [
      "147\n",
      "148\n"
     ]
    },
    {
     "name": "stderr",
     "output_type": "stream",
     "text": [
      "\u001b[32m2024-04-30 20:57:23.235\u001b[0m | \u001b[34m\u001b[1mDEBUG   \u001b[0m | \u001b[36mdesci_sense.shared_functions.web_extractors.citoid\u001b[0m:\u001b[36mfetch_citation\u001b[0m:\u001b[36m54\u001b[0m - \u001b[34m\u001b[1mfetching citoid data for: https://docs.google.com/forms/d/e/1FAIpQLSeH3qT_H0UcBkIwn4dyLmdBvI_Ac_qr0k8ueaLerYDspjIqOg/viewform?usp=send_form\u001b[0m\n",
      "\u001b[32m2024-04-30 20:57:24.255\u001b[0m | \u001b[34m\u001b[1mDEBUG   \u001b[0m | \u001b[36mdesci_sense.shared_functions.parsers.multi_chain_parser\u001b[0m:\u001b[36mprocess_ref_post\u001b[0m:\u001b[36m173\u001b[0m - \u001b[34m\u001b[1mProcessing post with parsers: ['topics']\u001b[0m\n",
      "\u001b[32m2024-04-30 20:57:24.265\u001b[0m | \u001b[34m\u001b[1mDEBUG   \u001b[0m | \u001b[36mdesci_sense.shared_functions.parsers.multi_chain_parser\u001b[0m:\u001b[36mprocess_ref_post\u001b[0m:\u001b[36m175\u001b[0m - \u001b[34m\u001b[1mInstantiating prompts...\u001b[0m\n",
      "\u001b[32m2024-04-30 20:57:24.364\u001b[0m | \u001b[34m\u001b[1mDEBUG   \u001b[0m | \u001b[36mdesci_sense.shared_functions.parsers.multi_chain_parser\u001b[0m:\u001b[36mprocess_ref_post\u001b[0m:\u001b[36m180\u001b[0m - \u001b[34m\u001b[1mInvoking parallel chain...\u001b[0m\n"
     ]
    },
    {
     "name": "stdout",
     "output_type": "stream",
     "text": [
      "149\n"
     ]
    },
    {
     "name": "stderr",
     "output_type": "stream",
     "text": [
      "\u001b[32m2024-04-30 20:57:27.082\u001b[0m | \u001b[34m\u001b[1mDEBUG   \u001b[0m | \u001b[36mdesci_sense.shared_functions.web_extractors.citoid\u001b[0m:\u001b[36mfetch_citation\u001b[0m:\u001b[36m54\u001b[0m - \u001b[34m\u001b[1mfetching citoid data for: https://twitter.com/SebastjanVoros/status/1780524927797379230\u001b[0m\n",
      "\u001b[32m2024-04-30 20:57:27.353\u001b[0m | \u001b[34m\u001b[1mDEBUG   \u001b[0m | \u001b[36mdesci_sense.shared_functions.parsers.multi_chain_parser\u001b[0m:\u001b[36mprocess_ref_post\u001b[0m:\u001b[36m173\u001b[0m - \u001b[34m\u001b[1mProcessing post with parsers: ['topics']\u001b[0m\n",
      "\u001b[32m2024-04-30 20:57:27.354\u001b[0m | \u001b[34m\u001b[1mDEBUG   \u001b[0m | \u001b[36mdesci_sense.shared_functions.parsers.multi_chain_parser\u001b[0m:\u001b[36mprocess_ref_post\u001b[0m:\u001b[36m175\u001b[0m - \u001b[34m\u001b[1mInstantiating prompts...\u001b[0m\n",
      "\u001b[32m2024-04-30 20:57:27.360\u001b[0m | \u001b[34m\u001b[1mDEBUG   \u001b[0m | \u001b[36mdesci_sense.shared_functions.parsers.multi_chain_parser\u001b[0m:\u001b[36mprocess_ref_post\u001b[0m:\u001b[36m180\u001b[0m - \u001b[34m\u001b[1mInvoking parallel chain...\u001b[0m\n"
     ]
    },
    {
     "name": "stdout",
     "output_type": "stream",
     "text": [
      "150\n"
     ]
    },
    {
     "name": "stderr",
     "output_type": "stream",
     "text": [
      "\u001b[32m2024-04-30 20:57:29.635\u001b[0m | \u001b[34m\u001b[1mDEBUG   \u001b[0m | \u001b[36mdesci_sense.shared_functions.web_extractors.citoid\u001b[0m:\u001b[36mfetch_citation\u001b[0m:\u001b[36m54\u001b[0m - \u001b[34m\u001b[1mfetching citoid data for: https://twitter.com/WSJ/status/1780459323535032780\u001b[0m\n",
      "\u001b[32m2024-04-30 20:57:30.004\u001b[0m | \u001b[34m\u001b[1mDEBUG   \u001b[0m | \u001b[36mdesci_sense.shared_functions.parsers.multi_chain_parser\u001b[0m:\u001b[36mprocess_ref_post\u001b[0m:\u001b[36m173\u001b[0m - \u001b[34m\u001b[1mProcessing post with parsers: ['topics']\u001b[0m\n",
      "\u001b[32m2024-04-30 20:57:30.006\u001b[0m | \u001b[34m\u001b[1mDEBUG   \u001b[0m | \u001b[36mdesci_sense.shared_functions.parsers.multi_chain_parser\u001b[0m:\u001b[36mprocess_ref_post\u001b[0m:\u001b[36m175\u001b[0m - \u001b[34m\u001b[1mInstantiating prompts...\u001b[0m\n",
      "\u001b[32m2024-04-30 20:57:30.007\u001b[0m | \u001b[34m\u001b[1mDEBUG   \u001b[0m | \u001b[36mdesci_sense.shared_functions.parsers.multi_chain_parser\u001b[0m:\u001b[36mprocess_ref_post\u001b[0m:\u001b[36m180\u001b[0m - \u001b[34m\u001b[1mInvoking parallel chain...\u001b[0m\n"
     ]
    },
    {
     "name": "stdout",
     "output_type": "stream",
     "text": [
      "151\n"
     ]
    },
    {
     "name": "stderr",
     "output_type": "stream",
     "text": [
      "\u001b[32m2024-04-30 20:57:34.045\u001b[0m | \u001b[34m\u001b[1mDEBUG   \u001b[0m | \u001b[36mdesci_sense.shared_functions.web_extractors.citoid\u001b[0m:\u001b[36mfetch_citation_async\u001b[0m:\u001b[36m20\u001b[0m - \u001b[34m\u001b[1mtarget_url=https://arxiv.org/abs/2307.07515\u001b[0m\n",
      "\u001b[32m2024-04-30 20:57:34.081\u001b[0m | \u001b[34m\u001b[1mDEBUG   \u001b[0m | \u001b[36mdesci_sense.shared_functions.web_extractors.citoid\u001b[0m:\u001b[36mfetch_citation_async\u001b[0m:\u001b[36m20\u001b[0m - \u001b[34m\u001b[1mtarget_url=https://twitter.com/Neuro_Skeptic/status/1780226191363838288\u001b[0m\n",
      "\u001b[32m2024-04-30 20:57:34.849\u001b[0m | \u001b[34m\u001b[1mDEBUG   \u001b[0m | \u001b[36mdesci_sense.shared_functions.parsers.multi_chain_parser\u001b[0m:\u001b[36mprocess_ref_post\u001b[0m:\u001b[36m173\u001b[0m - \u001b[34m\u001b[1mProcessing post with parsers: ['topics']\u001b[0m\n",
      "\u001b[32m2024-04-30 20:57:34.876\u001b[0m | \u001b[34m\u001b[1mDEBUG   \u001b[0m | \u001b[36mdesci_sense.shared_functions.parsers.multi_chain_parser\u001b[0m:\u001b[36mprocess_ref_post\u001b[0m:\u001b[36m175\u001b[0m - \u001b[34m\u001b[1mInstantiating prompts...\u001b[0m\n",
      "\u001b[32m2024-04-30 20:57:34.927\u001b[0m | \u001b[34m\u001b[1mDEBUG   \u001b[0m | \u001b[36mdesci_sense.shared_functions.parsers.multi_chain_parser\u001b[0m:\u001b[36mprocess_ref_post\u001b[0m:\u001b[36m180\u001b[0m - \u001b[34m\u001b[1mInvoking parallel chain...\u001b[0m\n",
      "\u001b[32m2024-04-30 20:57:40.004\u001b[0m | \u001b[34m\u001b[1mDEBUG   \u001b[0m | \u001b[36mdesci_sense.shared_functions.parsers.multi_chain_parser\u001b[0m:\u001b[36mprocess_ref_post\u001b[0m:\u001b[36m173\u001b[0m - \u001b[34m\u001b[1mProcessing post with parsers: ['topics']\u001b[0m\n",
      "\u001b[32m2024-04-30 20:57:40.020\u001b[0m | \u001b[34m\u001b[1mDEBUG   \u001b[0m | \u001b[36mdesci_sense.shared_functions.parsers.multi_chain_parser\u001b[0m:\u001b[36mprocess_ref_post\u001b[0m:\u001b[36m175\u001b[0m - \u001b[34m\u001b[1mInstantiating prompts...\u001b[0m\n",
      "\u001b[32m2024-04-30 20:57:40.025\u001b[0m | \u001b[34m\u001b[1mDEBUG   \u001b[0m | \u001b[36mdesci_sense.shared_functions.parsers.multi_chain_parser\u001b[0m:\u001b[36mprocess_ref_post\u001b[0m:\u001b[36m180\u001b[0m - \u001b[34m\u001b[1mInvoking parallel chain...\u001b[0m\n"
     ]
    },
    {
     "name": "stdout",
     "output_type": "stream",
     "text": [
      "152\n",
      "153\n"
     ]
    },
    {
     "name": "stderr",
     "output_type": "stream",
     "text": [
      "\u001b[32m2024-04-30 20:57:44.805\u001b[0m | \u001b[34m\u001b[1mDEBUG   \u001b[0m | \u001b[36mdesci_sense.shared_functions.web_extractors.citoid\u001b[0m:\u001b[36mfetch_citation\u001b[0m:\u001b[36m54\u001b[0m - \u001b[34m\u001b[1mfetching citoid data for: https://twitter.com/BondHack/status/1780121204482859276\u001b[0m\n",
      "\u001b[32m2024-04-30 20:57:45.054\u001b[0m | \u001b[34m\u001b[1mDEBUG   \u001b[0m | \u001b[36mdesci_sense.shared_functions.parsers.multi_chain_parser\u001b[0m:\u001b[36mprocess_ref_post\u001b[0m:\u001b[36m173\u001b[0m - \u001b[34m\u001b[1mProcessing post with parsers: ['topics']\u001b[0m\n",
      "\u001b[32m2024-04-30 20:57:45.062\u001b[0m | \u001b[34m\u001b[1mDEBUG   \u001b[0m | \u001b[36mdesci_sense.shared_functions.parsers.multi_chain_parser\u001b[0m:\u001b[36mprocess_ref_post\u001b[0m:\u001b[36m175\u001b[0m - \u001b[34m\u001b[1mInstantiating prompts...\u001b[0m\n",
      "\u001b[32m2024-04-30 20:57:45.085\u001b[0m | \u001b[34m\u001b[1mDEBUG   \u001b[0m | \u001b[36mdesci_sense.shared_functions.parsers.multi_chain_parser\u001b[0m:\u001b[36mprocess_ref_post\u001b[0m:\u001b[36m180\u001b[0m - \u001b[34m\u001b[1mInvoking parallel chain...\u001b[0m\n"
     ]
    },
    {
     "name": "stdout",
     "output_type": "stream",
     "text": [
      "154\n"
     ]
    },
    {
     "name": "stderr",
     "output_type": "stream",
     "text": [
      "\u001b[32m2024-04-30 20:57:48.546\u001b[0m | \u001b[34m\u001b[1mDEBUG   \u001b[0m | \u001b[36mdesci_sense.shared_functions.web_extractors.citoid\u001b[0m:\u001b[36mfetch_citation\u001b[0m:\u001b[36m54\u001b[0m - \u001b[34m\u001b[1mfetching citoid data for: https://twitter.com/jerryzmuller/status/1780085465715982457\u001b[0m\n",
      "\u001b[32m2024-04-30 20:57:48.772\u001b[0m | \u001b[34m\u001b[1mDEBUG   \u001b[0m | \u001b[36mdesci_sense.shared_functions.parsers.multi_chain_parser\u001b[0m:\u001b[36mprocess_ref_post\u001b[0m:\u001b[36m173\u001b[0m - \u001b[34m\u001b[1mProcessing post with parsers: ['topics']\u001b[0m\n",
      "\u001b[32m2024-04-30 20:57:48.774\u001b[0m | \u001b[34m\u001b[1mDEBUG   \u001b[0m | \u001b[36mdesci_sense.shared_functions.parsers.multi_chain_parser\u001b[0m:\u001b[36mprocess_ref_post\u001b[0m:\u001b[36m175\u001b[0m - \u001b[34m\u001b[1mInstantiating prompts...\u001b[0m\n",
      "\u001b[32m2024-04-30 20:57:48.781\u001b[0m | \u001b[34m\u001b[1mDEBUG   \u001b[0m | \u001b[36mdesci_sense.shared_functions.parsers.multi_chain_parser\u001b[0m:\u001b[36mprocess_ref_post\u001b[0m:\u001b[36m180\u001b[0m - \u001b[34m\u001b[1mInvoking parallel chain...\u001b[0m\n"
     ]
    },
    {
     "name": "stdout",
     "output_type": "stream",
     "text": [
      "155\n"
     ]
    },
    {
     "name": "stderr",
     "output_type": "stream",
     "text": [
      "\u001b[32m2024-04-30 20:57:51.371\u001b[0m | \u001b[34m\u001b[1mDEBUG   \u001b[0m | \u001b[36mdesci_sense.shared_functions.web_extractors.citoid\u001b[0m:\u001b[36mfetch_citation\u001b[0m:\u001b[36m54\u001b[0m - \u001b[34m\u001b[1mfetching citoid data for: https://twitter.com/yoginho/status/1780097395767869921/photo/1\u001b[0m\n",
      "\u001b[32m2024-04-30 20:57:51.647\u001b[0m | \u001b[34m\u001b[1mDEBUG   \u001b[0m | \u001b[36mdesci_sense.shared_functions.parsers.multi_chain_parser\u001b[0m:\u001b[36mprocess_ref_post\u001b[0m:\u001b[36m173\u001b[0m - \u001b[34m\u001b[1mProcessing post with parsers: ['topics']\u001b[0m\n",
      "\u001b[32m2024-04-30 20:57:51.652\u001b[0m | \u001b[34m\u001b[1mDEBUG   \u001b[0m | \u001b[36mdesci_sense.shared_functions.parsers.multi_chain_parser\u001b[0m:\u001b[36mprocess_ref_post\u001b[0m:\u001b[36m175\u001b[0m - \u001b[34m\u001b[1mInstantiating prompts...\u001b[0m\n",
      "\u001b[32m2024-04-30 20:57:51.689\u001b[0m | \u001b[34m\u001b[1mDEBUG   \u001b[0m | \u001b[36mdesci_sense.shared_functions.parsers.multi_chain_parser\u001b[0m:\u001b[36mprocess_ref_post\u001b[0m:\u001b[36m180\u001b[0m - \u001b[34m\u001b[1mInvoking parallel chain...\u001b[0m\n"
     ]
    },
    {
     "name": "stdout",
     "output_type": "stream",
     "text": [
      "156\n"
     ]
    },
    {
     "name": "stderr",
     "output_type": "stream",
     "text": [
      "\u001b[32m2024-04-30 20:57:55.359\u001b[0m | \u001b[34m\u001b[1mDEBUG   \u001b[0m | \u001b[36mdesci_sense.shared_functions.web_extractors.citoid\u001b[0m:\u001b[36mfetch_citation\u001b[0m:\u001b[36m54\u001b[0m - \u001b[34m\u001b[1mfetching citoid data for: https://twitter.com/mayank_mchugh/status/1779944613005951169\u001b[0m\n",
      "\u001b[32m2024-04-30 20:57:55.802\u001b[0m | \u001b[34m\u001b[1mDEBUG   \u001b[0m | \u001b[36mdesci_sense.shared_functions.parsers.multi_chain_parser\u001b[0m:\u001b[36mprocess_ref_post\u001b[0m:\u001b[36m173\u001b[0m - \u001b[34m\u001b[1mProcessing post with parsers: ['topics']\u001b[0m\n",
      "\u001b[32m2024-04-30 20:57:55.803\u001b[0m | \u001b[34m\u001b[1mDEBUG   \u001b[0m | \u001b[36mdesci_sense.shared_functions.parsers.multi_chain_parser\u001b[0m:\u001b[36mprocess_ref_post\u001b[0m:\u001b[36m175\u001b[0m - \u001b[34m\u001b[1mInstantiating prompts...\u001b[0m\n",
      "\u001b[32m2024-04-30 20:57:55.804\u001b[0m | \u001b[34m\u001b[1mDEBUG   \u001b[0m | \u001b[36mdesci_sense.shared_functions.parsers.multi_chain_parser\u001b[0m:\u001b[36mprocess_ref_post\u001b[0m:\u001b[36m180\u001b[0m - \u001b[34m\u001b[1mInvoking parallel chain...\u001b[0m\n",
      "\u001b[32m2024-04-30 20:57:59.542\u001b[0m | \u001b[34m\u001b[1mDEBUG   \u001b[0m | \u001b[36mdesci_sense.shared_functions.parsers.multi_chain_parser\u001b[0m:\u001b[36mprocess_ref_post\u001b[0m:\u001b[36m173\u001b[0m - \u001b[34m\u001b[1mProcessing post with parsers: ['topics']\u001b[0m\n",
      "\u001b[32m2024-04-30 20:57:59.545\u001b[0m | \u001b[34m\u001b[1mDEBUG   \u001b[0m | \u001b[36mdesci_sense.shared_functions.parsers.multi_chain_parser\u001b[0m:\u001b[36mprocess_ref_post\u001b[0m:\u001b[36m175\u001b[0m - \u001b[34m\u001b[1mInstantiating prompts...\u001b[0m\n",
      "\u001b[32m2024-04-30 20:57:59.546\u001b[0m | \u001b[34m\u001b[1mDEBUG   \u001b[0m | \u001b[36mdesci_sense.shared_functions.parsers.multi_chain_parser\u001b[0m:\u001b[36mprocess_ref_post\u001b[0m:\u001b[36m180\u001b[0m - \u001b[34m\u001b[1mInvoking parallel chain...\u001b[0m\n"
     ]
    },
    {
     "name": "stdout",
     "output_type": "stream",
     "text": [
      "157\n"
     ]
    },
    {
     "name": "stderr",
     "output_type": "stream",
     "text": [
      "\u001b[32m2024-04-30 20:58:05.144\u001b[0m | \u001b[34m\u001b[1mDEBUG   \u001b[0m | \u001b[36mdesci_sense.shared_functions.parsers.multi_chain_parser\u001b[0m:\u001b[36mprocess_ref_post\u001b[0m:\u001b[36m173\u001b[0m - \u001b[34m\u001b[1mProcessing post with parsers: ['topics']\u001b[0m\n",
      "\u001b[32m2024-04-30 20:58:05.173\u001b[0m | \u001b[34m\u001b[1mDEBUG   \u001b[0m | \u001b[36mdesci_sense.shared_functions.parsers.multi_chain_parser\u001b[0m:\u001b[36mprocess_ref_post\u001b[0m:\u001b[36m175\u001b[0m - \u001b[34m\u001b[1mInstantiating prompts...\u001b[0m\n",
      "\u001b[32m2024-04-30 20:58:05.178\u001b[0m | \u001b[34m\u001b[1mDEBUG   \u001b[0m | \u001b[36mdesci_sense.shared_functions.parsers.multi_chain_parser\u001b[0m:\u001b[36mprocess_ref_post\u001b[0m:\u001b[36m180\u001b[0m - \u001b[34m\u001b[1mInvoking parallel chain...\u001b[0m\n"
     ]
    },
    {
     "name": "stdout",
     "output_type": "stream",
     "text": [
      "158\n",
      "159\n"
     ]
    },
    {
     "name": "stderr",
     "output_type": "stream",
     "text": [
      "\u001b[32m2024-04-30 20:58:08.924\u001b[0m | \u001b[34m\u001b[1mDEBUG   \u001b[0m | \u001b[36mdesci_sense.shared_functions.web_extractors.citoid\u001b[0m:\u001b[36mfetch_citation\u001b[0m:\u001b[36m54\u001b[0m - \u001b[34m\u001b[1mfetching citoid data for: https://twitter.com/atrupar/status/1779529741579542854\u001b[0m\n",
      "\u001b[32m2024-04-30 20:58:09.713\u001b[0m | \u001b[34m\u001b[1mDEBUG   \u001b[0m | \u001b[36mdesci_sense.shared_functions.parsers.multi_chain_parser\u001b[0m:\u001b[36mprocess_ref_post\u001b[0m:\u001b[36m173\u001b[0m - \u001b[34m\u001b[1mProcessing post with parsers: ['topics']\u001b[0m\n",
      "\u001b[32m2024-04-30 20:58:09.714\u001b[0m | \u001b[34m\u001b[1mDEBUG   \u001b[0m | \u001b[36mdesci_sense.shared_functions.parsers.multi_chain_parser\u001b[0m:\u001b[36mprocess_ref_post\u001b[0m:\u001b[36m175\u001b[0m - \u001b[34m\u001b[1mInstantiating prompts...\u001b[0m\n",
      "\u001b[32m2024-04-30 20:58:09.715\u001b[0m | \u001b[34m\u001b[1mDEBUG   \u001b[0m | \u001b[36mdesci_sense.shared_functions.parsers.multi_chain_parser\u001b[0m:\u001b[36mprocess_ref_post\u001b[0m:\u001b[36m180\u001b[0m - \u001b[34m\u001b[1mInvoking parallel chain...\u001b[0m\n",
      "\u001b[32m2024-04-30 20:58:12.487\u001b[0m | \u001b[34m\u001b[1mDEBUG   \u001b[0m | \u001b[36mdesci_sense.shared_functions.parsers.multi_chain_parser\u001b[0m:\u001b[36mprocess_ref_post\u001b[0m:\u001b[36m173\u001b[0m - \u001b[34m\u001b[1mProcessing post with parsers: ['topics']\u001b[0m\n",
      "\u001b[32m2024-04-30 20:58:12.490\u001b[0m | \u001b[34m\u001b[1mDEBUG   \u001b[0m | \u001b[36mdesci_sense.shared_functions.parsers.multi_chain_parser\u001b[0m:\u001b[36mprocess_ref_post\u001b[0m:\u001b[36m175\u001b[0m - \u001b[34m\u001b[1mInstantiating prompts...\u001b[0m\n",
      "\u001b[32m2024-04-30 20:58:12.492\u001b[0m | \u001b[34m\u001b[1mDEBUG   \u001b[0m | \u001b[36mdesci_sense.shared_functions.parsers.multi_chain_parser\u001b[0m:\u001b[36mprocess_ref_post\u001b[0m:\u001b[36m180\u001b[0m - \u001b[34m\u001b[1mInvoking parallel chain...\u001b[0m\n"
     ]
    },
    {
     "name": "stdout",
     "output_type": "stream",
     "text": [
      "160\n",
      "161\n"
     ]
    },
    {
     "name": "stderr",
     "output_type": "stream",
     "text": [
      "\u001b[32m2024-04-30 20:58:18.366\u001b[0m | \u001b[34m\u001b[1mDEBUG   \u001b[0m | \u001b[36mdesci_sense.shared_functions.web_extractors.citoid\u001b[0m:\u001b[36mfetch_citation_async\u001b[0m:\u001b[36m20\u001b[0m - \u001b[34m\u001b[1mtarget_url=https://twitter.com/fchollet/status/1778841244262969647\u001b[0m\n",
      "\u001b[32m2024-04-30 20:58:18.514\u001b[0m | \u001b[34m\u001b[1mDEBUG   \u001b[0m | \u001b[36mdesci_sense.shared_functions.web_extractors.citoid\u001b[0m:\u001b[36mfetch_citation_async\u001b[0m:\u001b[36m20\u001b[0m - \u001b[34m\u001b[1mtarget_url=https://arxiv.org/abs/2307.07515\u001b[0m\n",
      "\u001b[32m2024-04-30 20:58:25.768\u001b[0m | \u001b[34m\u001b[1mDEBUG   \u001b[0m | \u001b[36mdesci_sense.shared_functions.parsers.multi_chain_parser\u001b[0m:\u001b[36mprocess_ref_post\u001b[0m:\u001b[36m173\u001b[0m - \u001b[34m\u001b[1mProcessing post with parsers: ['topics']\u001b[0m\n",
      "\u001b[32m2024-04-30 20:58:26.425\u001b[0m | \u001b[34m\u001b[1mDEBUG   \u001b[0m | \u001b[36mdesci_sense.shared_functions.parsers.multi_chain_parser\u001b[0m:\u001b[36mprocess_ref_post\u001b[0m:\u001b[36m175\u001b[0m - \u001b[34m\u001b[1mInstantiating prompts...\u001b[0m\n",
      "\u001b[32m2024-04-30 20:58:26.733\u001b[0m | \u001b[34m\u001b[1mDEBUG   \u001b[0m | \u001b[36mdesci_sense.shared_functions.parsers.multi_chain_parser\u001b[0m:\u001b[36mprocess_ref_post\u001b[0m:\u001b[36m180\u001b[0m - \u001b[34m\u001b[1mInvoking parallel chain...\u001b[0m\n"
     ]
    },
    {
     "name": "stdout",
     "output_type": "stream",
     "text": [
      "162\n"
     ]
    },
    {
     "name": "stderr",
     "output_type": "stream",
     "text": [
      "\u001b[32m2024-04-30 20:58:36.919\u001b[0m | \u001b[34m\u001b[1mDEBUG   \u001b[0m | \u001b[36mdesci_sense.shared_functions.web_extractors.citoid\u001b[0m:\u001b[36mfetch_citation\u001b[0m:\u001b[36m54\u001b[0m - \u001b[34m\u001b[1mfetching citoid data for: https://twitter.com/WiringTheBrain/status/1778071957189153092\u001b[0m\n",
      "\u001b[32m2024-04-30 20:58:40.302\u001b[0m | \u001b[34m\u001b[1mDEBUG   \u001b[0m | \u001b[36mdesci_sense.shared_functions.parsers.multi_chain_parser\u001b[0m:\u001b[36mprocess_ref_post\u001b[0m:\u001b[36m173\u001b[0m - \u001b[34m\u001b[1mProcessing post with parsers: ['topics']\u001b[0m\n",
      "\u001b[32m2024-04-30 20:58:40.318\u001b[0m | \u001b[34m\u001b[1mDEBUG   \u001b[0m | \u001b[36mdesci_sense.shared_functions.parsers.multi_chain_parser\u001b[0m:\u001b[36mprocess_ref_post\u001b[0m:\u001b[36m175\u001b[0m - \u001b[34m\u001b[1mInstantiating prompts...\u001b[0m\n",
      "\u001b[32m2024-04-30 20:58:40.324\u001b[0m | \u001b[34m\u001b[1mDEBUG   \u001b[0m | \u001b[36mdesci_sense.shared_functions.parsers.multi_chain_parser\u001b[0m:\u001b[36mprocess_ref_post\u001b[0m:\u001b[36m180\u001b[0m - \u001b[34m\u001b[1mInvoking parallel chain...\u001b[0m\n"
     ]
    },
    {
     "name": "stdout",
     "output_type": "stream",
     "text": [
      "163\n"
     ]
    },
    {
     "name": "stderr",
     "output_type": "stream",
     "text": [
      "\u001b[32m2024-04-30 20:58:44.274\u001b[0m | \u001b[34m\u001b[1mDEBUG   \u001b[0m | \u001b[36mdesci_sense.shared_functions.web_extractors.citoid\u001b[0m:\u001b[36mfetch_citation\u001b[0m:\u001b[36m54\u001b[0m - \u001b[34m\u001b[1mfetching citoid data for: https://twitter.com/BarakRavid/status/1778502991827316949\u001b[0m\n",
      "\u001b[32m2024-04-30 20:58:44.540\u001b[0m | \u001b[34m\u001b[1mDEBUG   \u001b[0m | \u001b[36mdesci_sense.shared_functions.parsers.multi_chain_parser\u001b[0m:\u001b[36mprocess_ref_post\u001b[0m:\u001b[36m173\u001b[0m - \u001b[34m\u001b[1mProcessing post with parsers: ['topics']\u001b[0m\n",
      "\u001b[32m2024-04-30 20:58:44.541\u001b[0m | \u001b[34m\u001b[1mDEBUG   \u001b[0m | \u001b[36mdesci_sense.shared_functions.parsers.multi_chain_parser\u001b[0m:\u001b[36mprocess_ref_post\u001b[0m:\u001b[36m175\u001b[0m - \u001b[34m\u001b[1mInstantiating prompts...\u001b[0m\n",
      "\u001b[32m2024-04-30 20:58:44.544\u001b[0m | \u001b[34m\u001b[1mDEBUG   \u001b[0m | \u001b[36mdesci_sense.shared_functions.parsers.multi_chain_parser\u001b[0m:\u001b[36mprocess_ref_post\u001b[0m:\u001b[36m180\u001b[0m - \u001b[34m\u001b[1mInvoking parallel chain...\u001b[0m\n"
     ]
    },
    {
     "name": "stdout",
     "output_type": "stream",
     "text": [
      "164\n"
     ]
    },
    {
     "name": "stderr",
     "output_type": "stream",
     "text": [
      "\u001b[32m2024-04-30 20:58:49.629\u001b[0m | \u001b[34m\u001b[1mDEBUG   \u001b[0m | \u001b[36mdesci_sense.shared_functions.web_extractors.citoid\u001b[0m:\u001b[36mfetch_citation\u001b[0m:\u001b[36m54\u001b[0m - \u001b[34m\u001b[1mfetching citoid data for: https://twitter.com/MrEwanMorrison/status/1778479443226308689\u001b[0m\n",
      "\u001b[32m2024-04-30 20:58:49.851\u001b[0m | \u001b[34m\u001b[1mDEBUG   \u001b[0m | \u001b[36mdesci_sense.shared_functions.parsers.multi_chain_parser\u001b[0m:\u001b[36mprocess_ref_post\u001b[0m:\u001b[36m173\u001b[0m - \u001b[34m\u001b[1mProcessing post with parsers: ['topics']\u001b[0m\n",
      "\u001b[32m2024-04-30 20:58:49.852\u001b[0m | \u001b[34m\u001b[1mDEBUG   \u001b[0m | \u001b[36mdesci_sense.shared_functions.parsers.multi_chain_parser\u001b[0m:\u001b[36mprocess_ref_post\u001b[0m:\u001b[36m175\u001b[0m - \u001b[34m\u001b[1mInstantiating prompts...\u001b[0m\n",
      "\u001b[32m2024-04-30 20:58:49.856\u001b[0m | \u001b[34m\u001b[1mDEBUG   \u001b[0m | \u001b[36mdesci_sense.shared_functions.parsers.multi_chain_parser\u001b[0m:\u001b[36mprocess_ref_post\u001b[0m:\u001b[36m180\u001b[0m - \u001b[34m\u001b[1mInvoking parallel chain...\u001b[0m\n",
      "\u001b[32m2024-04-30 20:58:52.928\u001b[0m | \u001b[34m\u001b[1mDEBUG   \u001b[0m | \u001b[36mdesci_sense.shared_functions.parsers.multi_chain_parser\u001b[0m:\u001b[36mprocess_ref_post\u001b[0m:\u001b[36m173\u001b[0m - \u001b[34m\u001b[1mProcessing post with parsers: ['topics']\u001b[0m\n",
      "\u001b[32m2024-04-30 20:58:52.943\u001b[0m | \u001b[34m\u001b[1mDEBUG   \u001b[0m | \u001b[36mdesci_sense.shared_functions.parsers.multi_chain_parser\u001b[0m:\u001b[36mprocess_ref_post\u001b[0m:\u001b[36m175\u001b[0m - \u001b[34m\u001b[1mInstantiating prompts...\u001b[0m\n",
      "\u001b[32m2024-04-30 20:58:52.964\u001b[0m | \u001b[34m\u001b[1mDEBUG   \u001b[0m | \u001b[36mdesci_sense.shared_functions.parsers.multi_chain_parser\u001b[0m:\u001b[36mprocess_ref_post\u001b[0m:\u001b[36m180\u001b[0m - \u001b[34m\u001b[1mInvoking parallel chain...\u001b[0m\n"
     ]
    },
    {
     "name": "stdout",
     "output_type": "stream",
     "text": [
      "165\n",
      "166\n"
     ]
    },
    {
     "name": "stderr",
     "output_type": "stream",
     "text": [
      "\u001b[32m2024-04-30 20:58:56.614\u001b[0m | \u001b[34m\u001b[1mDEBUG   \u001b[0m | \u001b[36mdesci_sense.shared_functions.web_extractors.citoid\u001b[0m:\u001b[36mfetch_citation\u001b[0m:\u001b[36m54\u001b[0m - \u001b[34m\u001b[1mfetching citoid data for: https://en.wikipedia.org/wiki/Einst%C3%BCrzende_Neubauten\u001b[0m\n",
      "\u001b[32m2024-04-30 20:58:56.787\u001b[0m | \u001b[34m\u001b[1mDEBUG   \u001b[0m | \u001b[36mdesci_sense.shared_functions.parsers.multi_chain_parser\u001b[0m:\u001b[36mprocess_ref_post\u001b[0m:\u001b[36m173\u001b[0m - \u001b[34m\u001b[1mProcessing post with parsers: ['topics']\u001b[0m\n",
      "\u001b[32m2024-04-30 20:58:56.790\u001b[0m | \u001b[34m\u001b[1mDEBUG   \u001b[0m | \u001b[36mdesci_sense.shared_functions.parsers.multi_chain_parser\u001b[0m:\u001b[36mprocess_ref_post\u001b[0m:\u001b[36m175\u001b[0m - \u001b[34m\u001b[1mInstantiating prompts...\u001b[0m\n",
      "\u001b[32m2024-04-30 20:58:56.791\u001b[0m | \u001b[34m\u001b[1mDEBUG   \u001b[0m | \u001b[36mdesci_sense.shared_functions.parsers.multi_chain_parser\u001b[0m:\u001b[36mprocess_ref_post\u001b[0m:\u001b[36m180\u001b[0m - \u001b[34m\u001b[1mInvoking parallel chain...\u001b[0m\n"
     ]
    },
    {
     "name": "stdout",
     "output_type": "stream",
     "text": [
      "167\n"
     ]
    },
    {
     "name": "stderr",
     "output_type": "stream",
     "text": [
      "\u001b[32m2024-04-30 20:59:02.290\u001b[0m | \u001b[34m\u001b[1mDEBUG   \u001b[0m | \u001b[36mdesci_sense.shared_functions.web_extractors.citoid\u001b[0m:\u001b[36mfetch_citation\u001b[0m:\u001b[36m54\u001b[0m - \u001b[34m\u001b[1mfetching citoid data for: https://twitter.com/joinExpeditions/status/1777606649584189847\u001b[0m\n",
      "\u001b[32m2024-04-30 20:59:02.596\u001b[0m | \u001b[34m\u001b[1mDEBUG   \u001b[0m | \u001b[36mdesci_sense.shared_functions.parsers.multi_chain_parser\u001b[0m:\u001b[36mprocess_ref_post\u001b[0m:\u001b[36m173\u001b[0m - \u001b[34m\u001b[1mProcessing post with parsers: ['topics']\u001b[0m\n",
      "\u001b[32m2024-04-30 20:59:02.598\u001b[0m | \u001b[34m\u001b[1mDEBUG   \u001b[0m | \u001b[36mdesci_sense.shared_functions.parsers.multi_chain_parser\u001b[0m:\u001b[36mprocess_ref_post\u001b[0m:\u001b[36m175\u001b[0m - \u001b[34m\u001b[1mInstantiating prompts...\u001b[0m\n",
      "\u001b[32m2024-04-30 20:59:02.600\u001b[0m | \u001b[34m\u001b[1mDEBUG   \u001b[0m | \u001b[36mdesci_sense.shared_functions.parsers.multi_chain_parser\u001b[0m:\u001b[36mprocess_ref_post\u001b[0m:\u001b[36m180\u001b[0m - \u001b[34m\u001b[1mInvoking parallel chain...\u001b[0m\n"
     ]
    },
    {
     "name": "stdout",
     "output_type": "stream",
     "text": [
      "168\n"
     ]
    },
    {
     "name": "stderr",
     "output_type": "stream",
     "text": [
      "\u001b[32m2024-04-30 20:59:04.916\u001b[0m | \u001b[34m\u001b[1mDEBUG   \u001b[0m | \u001b[36mdesci_sense.shared_functions.web_extractors.citoid\u001b[0m:\u001b[36mfetch_citation_async\u001b[0m:\u001b[36m20\u001b[0m - \u001b[34m\u001b[1mtarget_url=https://arxiv.org/abs/2307.07515\u001b[0m\n",
      "\u001b[32m2024-04-30 20:59:04.938\u001b[0m | \u001b[34m\u001b[1mDEBUG   \u001b[0m | \u001b[36mdesci_sense.shared_functions.web_extractors.citoid\u001b[0m:\u001b[36mfetch_citation_async\u001b[0m:\u001b[36m20\u001b[0m - \u001b[34m\u001b[1mtarget_url=https://twitter.com/yudapearl/status/1778280379839029699\u001b[0m\n",
      "\u001b[32m2024-04-30 20:59:05.714\u001b[0m | \u001b[34m\u001b[1mDEBUG   \u001b[0m | \u001b[36mdesci_sense.shared_functions.parsers.multi_chain_parser\u001b[0m:\u001b[36mprocess_ref_post\u001b[0m:\u001b[36m173\u001b[0m - \u001b[34m\u001b[1mProcessing post with parsers: ['topics']\u001b[0m\n",
      "\u001b[32m2024-04-30 20:59:05.762\u001b[0m | \u001b[34m\u001b[1mDEBUG   \u001b[0m | \u001b[36mdesci_sense.shared_functions.parsers.multi_chain_parser\u001b[0m:\u001b[36mprocess_ref_post\u001b[0m:\u001b[36m175\u001b[0m - \u001b[34m\u001b[1mInstantiating prompts...\u001b[0m\n",
      "\u001b[32m2024-04-30 20:59:05.781\u001b[0m | \u001b[34m\u001b[1mDEBUG   \u001b[0m | \u001b[36mdesci_sense.shared_functions.parsers.multi_chain_parser\u001b[0m:\u001b[36mprocess_ref_post\u001b[0m:\u001b[36m180\u001b[0m - \u001b[34m\u001b[1mInvoking parallel chain...\u001b[0m\n"
     ]
    },
    {
     "name": "stdout",
     "output_type": "stream",
     "text": [
      "169\n"
     ]
    },
    {
     "name": "stderr",
     "output_type": "stream",
     "text": [
      "\u001b[32m2024-04-30 20:59:10.470\u001b[0m | \u001b[34m\u001b[1mDEBUG   \u001b[0m | \u001b[36mdesci_sense.shared_functions.web_extractors.citoid\u001b[0m:\u001b[36mfetch_citation\u001b[0m:\u001b[36m54\u001b[0m - \u001b[34m\u001b[1mfetching citoid data for: https://twitter.com/yoginho/status/1777968922949468540/photo/1\u001b[0m\n",
      "\u001b[32m2024-04-30 20:59:10.856\u001b[0m | \u001b[34m\u001b[1mDEBUG   \u001b[0m | \u001b[36mdesci_sense.shared_functions.parsers.multi_chain_parser\u001b[0m:\u001b[36mprocess_ref_post\u001b[0m:\u001b[36m173\u001b[0m - \u001b[34m\u001b[1mProcessing post with parsers: ['topics']\u001b[0m\n",
      "\u001b[32m2024-04-30 20:59:10.863\u001b[0m | \u001b[34m\u001b[1mDEBUG   \u001b[0m | \u001b[36mdesci_sense.shared_functions.parsers.multi_chain_parser\u001b[0m:\u001b[36mprocess_ref_post\u001b[0m:\u001b[36m175\u001b[0m - \u001b[34m\u001b[1mInstantiating prompts...\u001b[0m\n",
      "\u001b[32m2024-04-30 20:59:10.891\u001b[0m | \u001b[34m\u001b[1mDEBUG   \u001b[0m | \u001b[36mdesci_sense.shared_functions.parsers.multi_chain_parser\u001b[0m:\u001b[36mprocess_ref_post\u001b[0m:\u001b[36m180\u001b[0m - \u001b[34m\u001b[1mInvoking parallel chain...\u001b[0m\n"
     ]
    },
    {
     "name": "stdout",
     "output_type": "stream",
     "text": [
      "170\n"
     ]
    },
    {
     "name": "stderr",
     "output_type": "stream",
     "text": [
      "\u001b[32m2024-04-30 20:59:15.913\u001b[0m | \u001b[34m\u001b[1mDEBUG   \u001b[0m | \u001b[36mdesci_sense.shared_functions.web_extractors.citoid\u001b[0m:\u001b[36mfetch_citation\u001b[0m:\u001b[36m54\u001b[0m - \u001b[34m\u001b[1mfetching citoid data for: https://www.youtube.com/watch?v=YU7bSiiBZaA\u001b[0m\n",
      "\u001b[32m2024-04-30 20:59:18.451\u001b[0m | \u001b[34m\u001b[1mDEBUG   \u001b[0m | \u001b[36mdesci_sense.shared_functions.parsers.multi_chain_parser\u001b[0m:\u001b[36mprocess_ref_post\u001b[0m:\u001b[36m173\u001b[0m - \u001b[34m\u001b[1mProcessing post with parsers: ['topics']\u001b[0m\n",
      "\u001b[32m2024-04-30 20:59:18.701\u001b[0m | \u001b[34m\u001b[1mDEBUG   \u001b[0m | \u001b[36mdesci_sense.shared_functions.parsers.multi_chain_parser\u001b[0m:\u001b[36mprocess_ref_post\u001b[0m:\u001b[36m175\u001b[0m - \u001b[34m\u001b[1mInstantiating prompts...\u001b[0m\n",
      "\u001b[32m2024-04-30 20:59:18.848\u001b[0m | \u001b[34m\u001b[1mDEBUG   \u001b[0m | \u001b[36mdesci_sense.shared_functions.parsers.multi_chain_parser\u001b[0m:\u001b[36mprocess_ref_post\u001b[0m:\u001b[36m180\u001b[0m - \u001b[34m\u001b[1mInvoking parallel chain...\u001b[0m\n"
     ]
    },
    {
     "name": "stdout",
     "output_type": "stream",
     "text": [
      "171\n"
     ]
    },
    {
     "name": "stderr",
     "output_type": "stream",
     "text": [
      "\u001b[32m2024-04-30 20:59:23.506\u001b[0m | \u001b[34m\u001b[1mDEBUG   \u001b[0m | \u001b[36mdesci_sense.shared_functions.web_extractors.citoid\u001b[0m:\u001b[36mfetch_citation\u001b[0m:\u001b[36m54\u001b[0m - \u001b[34m\u001b[1mfetching citoid data for: https://twitter.com/SebastianSeung/status/1777458732705731032\u001b[0m\n",
      "\u001b[32m2024-04-30 20:59:23.775\u001b[0m | \u001b[34m\u001b[1mDEBUG   \u001b[0m | \u001b[36mdesci_sense.shared_functions.parsers.multi_chain_parser\u001b[0m:\u001b[36mprocess_ref_post\u001b[0m:\u001b[36m173\u001b[0m - \u001b[34m\u001b[1mProcessing post with parsers: ['topics']\u001b[0m\n",
      "\u001b[32m2024-04-30 20:59:23.776\u001b[0m | \u001b[34m\u001b[1mDEBUG   \u001b[0m | \u001b[36mdesci_sense.shared_functions.parsers.multi_chain_parser\u001b[0m:\u001b[36mprocess_ref_post\u001b[0m:\u001b[36m175\u001b[0m - \u001b[34m\u001b[1mInstantiating prompts...\u001b[0m\n",
      "\u001b[32m2024-04-30 20:59:23.814\u001b[0m | \u001b[34m\u001b[1mDEBUG   \u001b[0m | \u001b[36mdesci_sense.shared_functions.parsers.multi_chain_parser\u001b[0m:\u001b[36mprocess_ref_post\u001b[0m:\u001b[36m180\u001b[0m - \u001b[34m\u001b[1mInvoking parallel chain...\u001b[0m\n",
      "\u001b[32m2024-04-30 20:59:28.516\u001b[0m | \u001b[34m\u001b[1mDEBUG   \u001b[0m | \u001b[36mdesci_sense.shared_functions.parsers.multi_chain_parser\u001b[0m:\u001b[36mprocess_ref_post\u001b[0m:\u001b[36m173\u001b[0m - \u001b[34m\u001b[1mProcessing post with parsers: ['topics']\u001b[0m\n",
      "\u001b[32m2024-04-30 20:59:28.517\u001b[0m | \u001b[34m\u001b[1mDEBUG   \u001b[0m | \u001b[36mdesci_sense.shared_functions.parsers.multi_chain_parser\u001b[0m:\u001b[36mprocess_ref_post\u001b[0m:\u001b[36m175\u001b[0m - \u001b[34m\u001b[1mInstantiating prompts...\u001b[0m\n",
      "\u001b[32m2024-04-30 20:59:28.519\u001b[0m | \u001b[34m\u001b[1mDEBUG   \u001b[0m | \u001b[36mdesci_sense.shared_functions.parsers.multi_chain_parser\u001b[0m:\u001b[36mprocess_ref_post\u001b[0m:\u001b[36m180\u001b[0m - \u001b[34m\u001b[1mInvoking parallel chain...\u001b[0m\n"
     ]
    },
    {
     "name": "stdout",
     "output_type": "stream",
     "text": [
      "172\n",
      "173\n"
     ]
    },
    {
     "name": "stderr",
     "output_type": "stream",
     "text": [
      "\u001b[32m2024-04-30 20:59:31.731\u001b[0m | \u001b[34m\u001b[1mDEBUG   \u001b[0m | \u001b[36mdesci_sense.shared_functions.web_extractors.citoid\u001b[0m:\u001b[36mfetch_citation_async\u001b[0m:\u001b[36m20\u001b[0m - \u001b[34m\u001b[1mtarget_url=https://twitter.com/LucienGreaves/status/1777548658910564752\u001b[0m\n",
      "\u001b[32m2024-04-30 20:59:31.767\u001b[0m | \u001b[34m\u001b[1mDEBUG   \u001b[0m | \u001b[36mdesci_sense.shared_functions.web_extractors.citoid\u001b[0m:\u001b[36mfetch_citation_async\u001b[0m:\u001b[36m20\u001b[0m - \u001b[34m\u001b[1mtarget_url=https://en.m.wikipedia.org/wiki/Hail_Satan?\u001b[0m\n",
      "\u001b[32m2024-04-30 20:59:32.270\u001b[0m | \u001b[34m\u001b[1mDEBUG   \u001b[0m | \u001b[36mdesci_sense.shared_functions.parsers.multi_chain_parser\u001b[0m:\u001b[36mprocess_ref_post\u001b[0m:\u001b[36m173\u001b[0m - \u001b[34m\u001b[1mProcessing post with parsers: ['topics']\u001b[0m\n",
      "\u001b[32m2024-04-30 20:59:32.278\u001b[0m | \u001b[34m\u001b[1mDEBUG   \u001b[0m | \u001b[36mdesci_sense.shared_functions.parsers.multi_chain_parser\u001b[0m:\u001b[36mprocess_ref_post\u001b[0m:\u001b[36m175\u001b[0m - \u001b[34m\u001b[1mInstantiating prompts...\u001b[0m\n",
      "\u001b[32m2024-04-30 20:59:32.286\u001b[0m | \u001b[34m\u001b[1mDEBUG   \u001b[0m | \u001b[36mdesci_sense.shared_functions.parsers.multi_chain_parser\u001b[0m:\u001b[36mprocess_ref_post\u001b[0m:\u001b[36m180\u001b[0m - \u001b[34m\u001b[1mInvoking parallel chain...\u001b[0m\n"
     ]
    },
    {
     "name": "stdout",
     "output_type": "stream",
     "text": [
      "174\n"
     ]
    },
    {
     "name": "stderr",
     "output_type": "stream",
     "text": [
      "\u001b[32m2024-04-30 20:59:34.606\u001b[0m | \u001b[34m\u001b[1mDEBUG   \u001b[0m | \u001b[36mdesci_sense.shared_functions.web_extractors.citoid\u001b[0m:\u001b[36mfetch_citation\u001b[0m:\u001b[36m54\u001b[0m - \u001b[34m\u001b[1mfetching citoid data for: https://twitter.com/P_Kallioniemi/status/1777023632499212359\u001b[0m\n",
      "\u001b[32m2024-04-30 20:59:34.839\u001b[0m | \u001b[34m\u001b[1mDEBUG   \u001b[0m | \u001b[36mdesci_sense.shared_functions.parsers.multi_chain_parser\u001b[0m:\u001b[36mprocess_ref_post\u001b[0m:\u001b[36m173\u001b[0m - \u001b[34m\u001b[1mProcessing post with parsers: ['topics']\u001b[0m\n",
      "\u001b[32m2024-04-30 20:59:34.840\u001b[0m | \u001b[34m\u001b[1mDEBUG   \u001b[0m | \u001b[36mdesci_sense.shared_functions.parsers.multi_chain_parser\u001b[0m:\u001b[36mprocess_ref_post\u001b[0m:\u001b[36m175\u001b[0m - \u001b[34m\u001b[1mInstantiating prompts...\u001b[0m\n",
      "\u001b[32m2024-04-30 20:59:34.840\u001b[0m | \u001b[34m\u001b[1mDEBUG   \u001b[0m | \u001b[36mdesci_sense.shared_functions.parsers.multi_chain_parser\u001b[0m:\u001b[36mprocess_ref_post\u001b[0m:\u001b[36m180\u001b[0m - \u001b[34m\u001b[1mInvoking parallel chain...\u001b[0m\n"
     ]
    },
    {
     "name": "stdout",
     "output_type": "stream",
     "text": [
      "175\n"
     ]
    },
    {
     "name": "stderr",
     "output_type": "stream",
     "text": [
      "\u001b[32m2024-04-30 20:59:38.188\u001b[0m | \u001b[34m\u001b[1mDEBUG   \u001b[0m | \u001b[36mdesci_sense.shared_functions.web_extractors.citoid\u001b[0m:\u001b[36mfetch_citation\u001b[0m:\u001b[36m54\u001b[0m - \u001b[34m\u001b[1mfetching citoid data for: https://twitter.com/99blackbaloons/status/1777020894688272616\u001b[0m\n",
      "\u001b[32m2024-04-30 20:59:38.403\u001b[0m | \u001b[34m\u001b[1mDEBUG   \u001b[0m | \u001b[36mdesci_sense.shared_functions.parsers.multi_chain_parser\u001b[0m:\u001b[36mprocess_ref_post\u001b[0m:\u001b[36m173\u001b[0m - \u001b[34m\u001b[1mProcessing post with parsers: ['topics']\u001b[0m\n",
      "\u001b[32m2024-04-30 20:59:38.404\u001b[0m | \u001b[34m\u001b[1mDEBUG   \u001b[0m | \u001b[36mdesci_sense.shared_functions.parsers.multi_chain_parser\u001b[0m:\u001b[36mprocess_ref_post\u001b[0m:\u001b[36m175\u001b[0m - \u001b[34m\u001b[1mInstantiating prompts...\u001b[0m\n",
      "\u001b[32m2024-04-30 20:59:38.405\u001b[0m | \u001b[34m\u001b[1mDEBUG   \u001b[0m | \u001b[36mdesci_sense.shared_functions.parsers.multi_chain_parser\u001b[0m:\u001b[36mprocess_ref_post\u001b[0m:\u001b[36m180\u001b[0m - \u001b[34m\u001b[1mInvoking parallel chain...\u001b[0m\n"
     ]
    },
    {
     "name": "stdout",
     "output_type": "stream",
     "text": [
      "176\n"
     ]
    },
    {
     "name": "stderr",
     "output_type": "stream",
     "text": [
      "\u001b[32m2024-04-30 20:59:41.834\u001b[0m | \u001b[34m\u001b[1mDEBUG   \u001b[0m | \u001b[36mdesci_sense.shared_functions.web_extractors.citoid\u001b[0m:\u001b[36mfetch_citation\u001b[0m:\u001b[36m54\u001b[0m - \u001b[34m\u001b[1mfetching citoid data for: https://twitter.com/rawsalerts/status/1777017207366520949\u001b[0m\n",
      "\u001b[32m2024-04-30 20:59:43.932\u001b[0m | \u001b[34m\u001b[1mDEBUG   \u001b[0m | \u001b[36mdesci_sense.shared_functions.parsers.multi_chain_parser\u001b[0m:\u001b[36mprocess_ref_post\u001b[0m:\u001b[36m173\u001b[0m - \u001b[34m\u001b[1mProcessing post with parsers: ['topics']\u001b[0m\n",
      "\u001b[32m2024-04-30 20:59:43.934\u001b[0m | \u001b[34m\u001b[1mDEBUG   \u001b[0m | \u001b[36mdesci_sense.shared_functions.parsers.multi_chain_parser\u001b[0m:\u001b[36mprocess_ref_post\u001b[0m:\u001b[36m175\u001b[0m - \u001b[34m\u001b[1mInstantiating prompts...\u001b[0m\n",
      "\u001b[32m2024-04-30 20:59:43.965\u001b[0m | \u001b[34m\u001b[1mDEBUG   \u001b[0m | \u001b[36mdesci_sense.shared_functions.parsers.multi_chain_parser\u001b[0m:\u001b[36mprocess_ref_post\u001b[0m:\u001b[36m180\u001b[0m - \u001b[34m\u001b[1mInvoking parallel chain...\u001b[0m\n"
     ]
    },
    {
     "name": "stdout",
     "output_type": "stream",
     "text": [
      "177\n"
     ]
    },
    {
     "name": "stderr",
     "output_type": "stream",
     "text": [
      "\u001b[32m2024-04-30 20:59:48.325\u001b[0m | \u001b[34m\u001b[1mDEBUG   \u001b[0m | \u001b[36mdesci_sense.shared_functions.web_extractors.citoid\u001b[0m:\u001b[36mfetch_citation\u001b[0m:\u001b[36m54\u001b[0m - \u001b[34m\u001b[1mfetching citoid data for: https://twitter.com/RpsAgainstTrump/status/1777000430586794372\u001b[0m\n",
      "\u001b[32m2024-04-30 21:00:53.568\u001b[0m | \u001b[34m\u001b[1mDEBUG   \u001b[0m | \u001b[36mdesci_sense.shared_functions.parsers.multi_chain_parser\u001b[0m:\u001b[36mprocess_ref_post\u001b[0m:\u001b[36m173\u001b[0m - \u001b[34m\u001b[1mProcessing post with parsers: ['topics']\u001b[0m\n",
      "\u001b[32m2024-04-30 21:00:53.578\u001b[0m | \u001b[34m\u001b[1mDEBUG   \u001b[0m | \u001b[36mdesci_sense.shared_functions.parsers.multi_chain_parser\u001b[0m:\u001b[36mprocess_ref_post\u001b[0m:\u001b[36m175\u001b[0m - \u001b[34m\u001b[1mInstantiating prompts...\u001b[0m\n",
      "\u001b[32m2024-04-30 21:00:53.598\u001b[0m | \u001b[34m\u001b[1mDEBUG   \u001b[0m | \u001b[36mdesci_sense.shared_functions.parsers.multi_chain_parser\u001b[0m:\u001b[36mprocess_ref_post\u001b[0m:\u001b[36m180\u001b[0m - \u001b[34m\u001b[1mInvoking parallel chain...\u001b[0m\n"
     ]
    },
    {
     "name": "stdout",
     "output_type": "stream",
     "text": [
      "178\n"
     ]
    },
    {
     "name": "stderr",
     "output_type": "stream",
     "text": [
      "\u001b[32m2024-04-30 21:00:57.826\u001b[0m | \u001b[34m\u001b[1mDEBUG   \u001b[0m | \u001b[36mdesci_sense.shared_functions.web_extractors.citoid\u001b[0m:\u001b[36mfetch_citation\u001b[0m:\u001b[36m54\u001b[0m - \u001b[34m\u001b[1mfetching citoid data for: https://twitter.com/long_covid/status/1776175505143656621\u001b[0m\n",
      "\u001b[32m2024-04-30 21:00:58.056\u001b[0m | \u001b[34m\u001b[1mDEBUG   \u001b[0m | \u001b[36mdesci_sense.shared_functions.parsers.multi_chain_parser\u001b[0m:\u001b[36mprocess_ref_post\u001b[0m:\u001b[36m173\u001b[0m - \u001b[34m\u001b[1mProcessing post with parsers: ['topics']\u001b[0m\n",
      "\u001b[32m2024-04-30 21:00:58.057\u001b[0m | \u001b[34m\u001b[1mDEBUG   \u001b[0m | \u001b[36mdesci_sense.shared_functions.parsers.multi_chain_parser\u001b[0m:\u001b[36mprocess_ref_post\u001b[0m:\u001b[36m175\u001b[0m - \u001b[34m\u001b[1mInstantiating prompts...\u001b[0m\n",
      "\u001b[32m2024-04-30 21:00:58.059\u001b[0m | \u001b[34m\u001b[1mDEBUG   \u001b[0m | \u001b[36mdesci_sense.shared_functions.parsers.multi_chain_parser\u001b[0m:\u001b[36mprocess_ref_post\u001b[0m:\u001b[36m180\u001b[0m - \u001b[34m\u001b[1mInvoking parallel chain...\u001b[0m\n",
      "\u001b[32m2024-04-30 21:01:25.224\u001b[0m | \u001b[34m\u001b[1mDEBUG   \u001b[0m | \u001b[36mdesci_sense.shared_functions.parsers.multi_chain_parser\u001b[0m:\u001b[36mprocess_ref_post\u001b[0m:\u001b[36m173\u001b[0m - \u001b[34m\u001b[1mProcessing post with parsers: ['topics']\u001b[0m\n",
      "\u001b[32m2024-04-30 21:01:25.227\u001b[0m | \u001b[34m\u001b[1mDEBUG   \u001b[0m | \u001b[36mdesci_sense.shared_functions.parsers.multi_chain_parser\u001b[0m:\u001b[36mprocess_ref_post\u001b[0m:\u001b[36m175\u001b[0m - \u001b[34m\u001b[1mInstantiating prompts...\u001b[0m\n",
      "\u001b[32m2024-04-30 21:01:25.229\u001b[0m | \u001b[34m\u001b[1mDEBUG   \u001b[0m | \u001b[36mdesci_sense.shared_functions.parsers.multi_chain_parser\u001b[0m:\u001b[36mprocess_ref_post\u001b[0m:\u001b[36m180\u001b[0m - \u001b[34m\u001b[1mInvoking parallel chain...\u001b[0m\n"
     ]
    },
    {
     "name": "stdout",
     "output_type": "stream",
     "text": [
      "179\n",
      "180\n"
     ]
    },
    {
     "name": "stderr",
     "output_type": "stream",
     "text": [
      "\u001b[32m2024-04-30 21:01:29.497\u001b[0m | \u001b[34m\u001b[1mDEBUG   \u001b[0m | \u001b[36mdesci_sense.shared_functions.web_extractors.citoid\u001b[0m:\u001b[36mfetch_citation\u001b[0m:\u001b[36m54\u001b[0m - \u001b[34m\u001b[1mfetching citoid data for: https://twitter.com/NTarnopolsky/status/1776009177984385098\u001b[0m\n",
      "\u001b[32m2024-04-30 21:01:31.467\u001b[0m | \u001b[34m\u001b[1mDEBUG   \u001b[0m | \u001b[36mdesci_sense.shared_functions.parsers.multi_chain_parser\u001b[0m:\u001b[36mprocess_ref_post\u001b[0m:\u001b[36m173\u001b[0m - \u001b[34m\u001b[1mProcessing post with parsers: ['topics']\u001b[0m\n",
      "\u001b[32m2024-04-30 21:01:31.468\u001b[0m | \u001b[34m\u001b[1mDEBUG   \u001b[0m | \u001b[36mdesci_sense.shared_functions.parsers.multi_chain_parser\u001b[0m:\u001b[36mprocess_ref_post\u001b[0m:\u001b[36m175\u001b[0m - \u001b[34m\u001b[1mInstantiating prompts...\u001b[0m\n",
      "\u001b[32m2024-04-30 21:01:31.469\u001b[0m | \u001b[34m\u001b[1mDEBUG   \u001b[0m | \u001b[36mdesci_sense.shared_functions.parsers.multi_chain_parser\u001b[0m:\u001b[36mprocess_ref_post\u001b[0m:\u001b[36m180\u001b[0m - \u001b[34m\u001b[1mInvoking parallel chain...\u001b[0m\n"
     ]
    },
    {
     "name": "stdout",
     "output_type": "stream",
     "text": [
      "181\n"
     ]
    },
    {
     "name": "stderr",
     "output_type": "stream",
     "text": [
      "\u001b[32m2024-04-30 21:01:35.526\u001b[0m | \u001b[34m\u001b[1mDEBUG   \u001b[0m | \u001b[36mdesci_sense.shared_functions.web_extractors.citoid\u001b[0m:\u001b[36mfetch_citation\u001b[0m:\u001b[36m54\u001b[0m - \u001b[34m\u001b[1mfetching citoid data for: https://twitter.com/weandmecfs/status/1776575478595248253\u001b[0m\n",
      "\u001b[32m2024-04-30 21:02:40.674\u001b[0m | \u001b[34m\u001b[1mDEBUG   \u001b[0m | \u001b[36mdesci_sense.shared_functions.parsers.multi_chain_parser\u001b[0m:\u001b[36mprocess_ref_post\u001b[0m:\u001b[36m173\u001b[0m - \u001b[34m\u001b[1mProcessing post with parsers: ['topics']\u001b[0m\n",
      "\u001b[32m2024-04-30 21:02:40.705\u001b[0m | \u001b[34m\u001b[1mDEBUG   \u001b[0m | \u001b[36mdesci_sense.shared_functions.parsers.multi_chain_parser\u001b[0m:\u001b[36mprocess_ref_post\u001b[0m:\u001b[36m175\u001b[0m - \u001b[34m\u001b[1mInstantiating prompts...\u001b[0m\n",
      "\u001b[32m2024-04-30 21:02:40.711\u001b[0m | \u001b[34m\u001b[1mDEBUG   \u001b[0m | \u001b[36mdesci_sense.shared_functions.parsers.multi_chain_parser\u001b[0m:\u001b[36mprocess_ref_post\u001b[0m:\u001b[36m180\u001b[0m - \u001b[34m\u001b[1mInvoking parallel chain...\u001b[0m\n"
     ]
    },
    {
     "name": "stdout",
     "output_type": "stream",
     "text": [
      "182\n"
     ]
    },
    {
     "name": "stderr",
     "output_type": "stream",
     "text": [
      "\u001b[32m2024-04-30 21:02:45.306\u001b[0m | \u001b[34m\u001b[1mDEBUG   \u001b[0m | \u001b[36mdesci_sense.shared_functions.web_extractors.citoid\u001b[0m:\u001b[36mfetch_citation\u001b[0m:\u001b[36m54\u001b[0m - \u001b[34m\u001b[1mfetching citoid data for: https://twitter.com/gunsnrosesgirl3/status/1776578025259192364\u001b[0m\n",
      "\u001b[32m2024-04-30 21:02:45.532\u001b[0m | \u001b[34m\u001b[1mDEBUG   \u001b[0m | \u001b[36mdesci_sense.shared_functions.parsers.multi_chain_parser\u001b[0m:\u001b[36mprocess_ref_post\u001b[0m:\u001b[36m173\u001b[0m - \u001b[34m\u001b[1mProcessing post with parsers: ['topics']\u001b[0m\n",
      "\u001b[32m2024-04-30 21:02:45.533\u001b[0m | \u001b[34m\u001b[1mDEBUG   \u001b[0m | \u001b[36mdesci_sense.shared_functions.parsers.multi_chain_parser\u001b[0m:\u001b[36mprocess_ref_post\u001b[0m:\u001b[36m175\u001b[0m - \u001b[34m\u001b[1mInstantiating prompts...\u001b[0m\n",
      "\u001b[32m2024-04-30 21:02:45.536\u001b[0m | \u001b[34m\u001b[1mDEBUG   \u001b[0m | \u001b[36mdesci_sense.shared_functions.parsers.multi_chain_parser\u001b[0m:\u001b[36mprocess_ref_post\u001b[0m:\u001b[36m180\u001b[0m - \u001b[34m\u001b[1mInvoking parallel chain...\u001b[0m\n",
      "\u001b[32m2024-04-30 21:02:48.824\u001b[0m | \u001b[34m\u001b[1mDEBUG   \u001b[0m | \u001b[36mdesci_sense.shared_functions.parsers.multi_chain_parser\u001b[0m:\u001b[36mprocess_ref_post\u001b[0m:\u001b[36m173\u001b[0m - \u001b[34m\u001b[1mProcessing post with parsers: ['topics']\u001b[0m\n",
      "\u001b[32m2024-04-30 21:02:48.826\u001b[0m | \u001b[34m\u001b[1mDEBUG   \u001b[0m | \u001b[36mdesci_sense.shared_functions.parsers.multi_chain_parser\u001b[0m:\u001b[36mprocess_ref_post\u001b[0m:\u001b[36m175\u001b[0m - \u001b[34m\u001b[1mInstantiating prompts...\u001b[0m\n",
      "\u001b[32m2024-04-30 21:02:48.827\u001b[0m | \u001b[34m\u001b[1mDEBUG   \u001b[0m | \u001b[36mdesci_sense.shared_functions.parsers.multi_chain_parser\u001b[0m:\u001b[36mprocess_ref_post\u001b[0m:\u001b[36m180\u001b[0m - \u001b[34m\u001b[1mInvoking parallel chain...\u001b[0m\n"
     ]
    },
    {
     "name": "stdout",
     "output_type": "stream",
     "text": [
      "183\n",
      "184\n"
     ]
    },
    {
     "name": "stderr",
     "output_type": "stream",
     "text": [
      "\u001b[32m2024-04-30 21:02:52.718\u001b[0m | \u001b[34m\u001b[1mDEBUG   \u001b[0m | \u001b[36mdesci_sense.shared_functions.web_extractors.citoid\u001b[0m:\u001b[36mfetch_citation\u001b[0m:\u001b[36m54\u001b[0m - \u001b[34m\u001b[1mfetching citoid data for: https://www.ftc.gov/news-events/news/press-releases/2022/10/ftc-takes-action-against-drizly-its-ceo-james-cory-rellas-security-failures-exposed-data-25-million\u001b[0m\n",
      "\u001b[32m2024-04-30 21:02:54.811\u001b[0m | \u001b[34m\u001b[1mDEBUG   \u001b[0m | \u001b[36mdesci_sense.shared_functions.parsers.multi_chain_parser\u001b[0m:\u001b[36mprocess_ref_post\u001b[0m:\u001b[36m173\u001b[0m - \u001b[34m\u001b[1mProcessing post with parsers: ['topics']\u001b[0m\n",
      "\u001b[32m2024-04-30 21:02:54.816\u001b[0m | \u001b[34m\u001b[1mDEBUG   \u001b[0m | \u001b[36mdesci_sense.shared_functions.parsers.multi_chain_parser\u001b[0m:\u001b[36mprocess_ref_post\u001b[0m:\u001b[36m175\u001b[0m - \u001b[34m\u001b[1mInstantiating prompts...\u001b[0m\n",
      "\u001b[32m2024-04-30 21:02:54.818\u001b[0m | \u001b[34m\u001b[1mDEBUG   \u001b[0m | \u001b[36mdesci_sense.shared_functions.parsers.multi_chain_parser\u001b[0m:\u001b[36mprocess_ref_post\u001b[0m:\u001b[36m180\u001b[0m - \u001b[34m\u001b[1mInvoking parallel chain...\u001b[0m\n"
     ]
    },
    {
     "name": "stdout",
     "output_type": "stream",
     "text": [
      "185\n"
     ]
    },
    {
     "name": "stderr",
     "output_type": "stream",
     "text": [
      "\u001b[32m2024-04-30 21:02:57.703\u001b[0m | \u001b[34m\u001b[1mDEBUG   \u001b[0m | \u001b[36mdesci_sense.shared_functions.web_extractors.citoid\u001b[0m:\u001b[36mfetch_citation\u001b[0m:\u001b[36m54\u001b[0m - \u001b[34m\u001b[1mfetching citoid data for: https://a16zcrypto.com/posts/article/introducing-nft-licenses/\u001b[0m\n",
      "\u001b[32m2024-04-30 21:02:58.483\u001b[0m | \u001b[34m\u001b[1mDEBUG   \u001b[0m | \u001b[36mdesci_sense.shared_functions.parsers.multi_chain_parser\u001b[0m:\u001b[36mprocess_ref_post\u001b[0m:\u001b[36m173\u001b[0m - \u001b[34m\u001b[1mProcessing post with parsers: ['topics']\u001b[0m\n",
      "\u001b[32m2024-04-30 21:02:58.483\u001b[0m | \u001b[34m\u001b[1mDEBUG   \u001b[0m | \u001b[36mdesci_sense.shared_functions.parsers.multi_chain_parser\u001b[0m:\u001b[36mprocess_ref_post\u001b[0m:\u001b[36m175\u001b[0m - \u001b[34m\u001b[1mInstantiating prompts...\u001b[0m\n",
      "\u001b[32m2024-04-30 21:02:58.484\u001b[0m | \u001b[34m\u001b[1mDEBUG   \u001b[0m | \u001b[36mdesci_sense.shared_functions.parsers.multi_chain_parser\u001b[0m:\u001b[36mprocess_ref_post\u001b[0m:\u001b[36m180\u001b[0m - \u001b[34m\u001b[1mInvoking parallel chain...\u001b[0m\n"
     ]
    },
    {
     "name": "stdout",
     "output_type": "stream",
     "text": [
      "186\n"
     ]
    },
    {
     "name": "stderr",
     "output_type": "stream",
     "text": [
      "\u001b[32m2024-04-30 21:03:02.127\u001b[0m | \u001b[34m\u001b[1mDEBUG   \u001b[0m | \u001b[36mdesci_sense.shared_functions.web_extractors.citoid\u001b[0m:\u001b[36mfetch_citation\u001b[0m:\u001b[36m54\u001b[0m - \u001b[34m\u001b[1mfetching citoid data for: https://airtable.com/appRXWQVAxKabwi6E/shraYle6BX6cKYhAu\u001b[0m\n",
      "\u001b[32m2024-04-30 21:03:02.890\u001b[0m | \u001b[34m\u001b[1mDEBUG   \u001b[0m | \u001b[36mdesci_sense.shared_functions.parsers.multi_chain_parser\u001b[0m:\u001b[36mprocess_ref_post\u001b[0m:\u001b[36m173\u001b[0m - \u001b[34m\u001b[1mProcessing post with parsers: ['topics']\u001b[0m\n",
      "\u001b[32m2024-04-30 21:03:02.892\u001b[0m | \u001b[34m\u001b[1mDEBUG   \u001b[0m | \u001b[36mdesci_sense.shared_functions.parsers.multi_chain_parser\u001b[0m:\u001b[36mprocess_ref_post\u001b[0m:\u001b[36m175\u001b[0m - \u001b[34m\u001b[1mInstantiating prompts...\u001b[0m\n",
      "\u001b[32m2024-04-30 21:03:02.893\u001b[0m | \u001b[34m\u001b[1mDEBUG   \u001b[0m | \u001b[36mdesci_sense.shared_functions.parsers.multi_chain_parser\u001b[0m:\u001b[36mprocess_ref_post\u001b[0m:\u001b[36m180\u001b[0m - \u001b[34m\u001b[1mInvoking parallel chain...\u001b[0m\n"
     ]
    },
    {
     "name": "stdout",
     "output_type": "stream",
     "text": [
      "187\n"
     ]
    },
    {
     "name": "stderr",
     "output_type": "stream",
     "text": [
      "\u001b[32m2024-04-30 21:03:06.396\u001b[0m | \u001b[34m\u001b[1mDEBUG   \u001b[0m | \u001b[36mdesci_sense.shared_functions.web_extractors.citoid\u001b[0m:\u001b[36mfetch_citation\u001b[0m:\u001b[36m54\u001b[0m - \u001b[34m\u001b[1mfetching citoid data for: https://iapp.org/news/a/understanding-the-scope-of-the-draft-american-data-privacy-and-protection-act/\u001b[0m\n",
      "\u001b[32m2024-04-30 21:03:08.586\u001b[0m | \u001b[34m\u001b[1mDEBUG   \u001b[0m | \u001b[36mdesci_sense.shared_functions.parsers.multi_chain_parser\u001b[0m:\u001b[36mprocess_ref_post\u001b[0m:\u001b[36m173\u001b[0m - \u001b[34m\u001b[1mProcessing post with parsers: ['topics']\u001b[0m\n",
      "\u001b[32m2024-04-30 21:03:08.588\u001b[0m | \u001b[34m\u001b[1mDEBUG   \u001b[0m | \u001b[36mdesci_sense.shared_functions.parsers.multi_chain_parser\u001b[0m:\u001b[36mprocess_ref_post\u001b[0m:\u001b[36m175\u001b[0m - \u001b[34m\u001b[1mInstantiating prompts...\u001b[0m\n",
      "\u001b[32m2024-04-30 21:03:08.589\u001b[0m | \u001b[34m\u001b[1mDEBUG   \u001b[0m | \u001b[36mdesci_sense.shared_functions.parsers.multi_chain_parser\u001b[0m:\u001b[36mprocess_ref_post\u001b[0m:\u001b[36m180\u001b[0m - \u001b[34m\u001b[1mInvoking parallel chain...\u001b[0m\n"
     ]
    },
    {
     "name": "stdout",
     "output_type": "stream",
     "text": [
      "188\n"
     ]
    },
    {
     "name": "stderr",
     "output_type": "stream",
     "text": [
      "\u001b[32m2024-04-30 21:03:12.316\u001b[0m | \u001b[34m\u001b[1mDEBUG   \u001b[0m | \u001b[36mdesci_sense.shared_functions.web_extractors.citoid\u001b[0m:\u001b[36mfetch_citation\u001b[0m:\u001b[36m54\u001b[0m - \u001b[34m\u001b[1mfetching citoid data for: https://thedefiant.io/starting-a-dao-in-the-usa-steer-clear-of-dao-legislation/\u001b[0m\n",
      "\u001b[32m2024-04-30 21:03:13.402\u001b[0m | \u001b[34m\u001b[1mDEBUG   \u001b[0m | \u001b[36mdesci_sense.shared_functions.parsers.multi_chain_parser\u001b[0m:\u001b[36mprocess_ref_post\u001b[0m:\u001b[36m173\u001b[0m - \u001b[34m\u001b[1mProcessing post with parsers: ['topics']\u001b[0m\n",
      "\u001b[32m2024-04-30 21:03:13.403\u001b[0m | \u001b[34m\u001b[1mDEBUG   \u001b[0m | \u001b[36mdesci_sense.shared_functions.parsers.multi_chain_parser\u001b[0m:\u001b[36mprocess_ref_post\u001b[0m:\u001b[36m175\u001b[0m - \u001b[34m\u001b[1mInstantiating prompts...\u001b[0m\n",
      "\u001b[32m2024-04-30 21:03:13.405\u001b[0m | \u001b[34m\u001b[1mDEBUG   \u001b[0m | \u001b[36mdesci_sense.shared_functions.parsers.multi_chain_parser\u001b[0m:\u001b[36mprocess_ref_post\u001b[0m:\u001b[36m180\u001b[0m - \u001b[34m\u001b[1mInvoking parallel chain...\u001b[0m\n"
     ]
    },
    {
     "name": "stdout",
     "output_type": "stream",
     "text": [
      "189\n"
     ]
    },
    {
     "name": "stderr",
     "output_type": "stream",
     "text": [
      "\u001b[32m2024-04-30 21:03:16.817\u001b[0m | \u001b[34m\u001b[1mDEBUG   \u001b[0m | \u001b[36mdesci_sense.shared_functions.web_extractors.citoid\u001b[0m:\u001b[36mfetch_citation\u001b[0m:\u001b[36m54\u001b[0m - \u001b[34m\u001b[1mfetching citoid data for: https://medium.com/@charles.adjovu/brain-computer-interfaces-bcis-ba6fc48e14f5\u001b[0m\n",
      "\u001b[32m2024-04-30 21:03:18.459\u001b[0m | \u001b[34m\u001b[1mDEBUG   \u001b[0m | \u001b[36mdesci_sense.shared_functions.parsers.multi_chain_parser\u001b[0m:\u001b[36mprocess_ref_post\u001b[0m:\u001b[36m173\u001b[0m - \u001b[34m\u001b[1mProcessing post with parsers: ['topics']\u001b[0m\n",
      "\u001b[32m2024-04-30 21:03:18.467\u001b[0m | \u001b[34m\u001b[1mDEBUG   \u001b[0m | \u001b[36mdesci_sense.shared_functions.parsers.multi_chain_parser\u001b[0m:\u001b[36mprocess_ref_post\u001b[0m:\u001b[36m175\u001b[0m - \u001b[34m\u001b[1mInstantiating prompts...\u001b[0m\n",
      "\u001b[32m2024-04-30 21:03:18.472\u001b[0m | \u001b[34m\u001b[1mDEBUG   \u001b[0m | \u001b[36mdesci_sense.shared_functions.parsers.multi_chain_parser\u001b[0m:\u001b[36mprocess_ref_post\u001b[0m:\u001b[36m180\u001b[0m - \u001b[34m\u001b[1mInvoking parallel chain...\u001b[0m\n"
     ]
    },
    {
     "name": "stdout",
     "output_type": "stream",
     "text": [
      "190\n"
     ]
    },
    {
     "name": "stderr",
     "output_type": "stream",
     "text": [
      "\u001b[32m2024-04-30 21:03:24.743\u001b[0m | \u001b[34m\u001b[1mDEBUG   \u001b[0m | \u001b[36mdesci_sense.shared_functions.web_extractors.citoid\u001b[0m:\u001b[36mfetch_citation\u001b[0m:\u001b[36m54\u001b[0m - \u001b[34m\u001b[1mfetching citoid data for: https://medium.com/@charles.adjovu/dao-index-version-0-9-a9ef62795153\u001b[0m\n",
      "\u001b[32m2024-04-30 21:03:26.036\u001b[0m | \u001b[34m\u001b[1mDEBUG   \u001b[0m | \u001b[36mdesci_sense.shared_functions.parsers.multi_chain_parser\u001b[0m:\u001b[36mprocess_ref_post\u001b[0m:\u001b[36m173\u001b[0m - \u001b[34m\u001b[1mProcessing post with parsers: ['topics']\u001b[0m\n",
      "\u001b[32m2024-04-30 21:03:26.040\u001b[0m | \u001b[34m\u001b[1mDEBUG   \u001b[0m | \u001b[36mdesci_sense.shared_functions.parsers.multi_chain_parser\u001b[0m:\u001b[36mprocess_ref_post\u001b[0m:\u001b[36m175\u001b[0m - \u001b[34m\u001b[1mInstantiating prompts...\u001b[0m\n",
      "\u001b[32m2024-04-30 21:03:26.060\u001b[0m | \u001b[34m\u001b[1mDEBUG   \u001b[0m | \u001b[36mdesci_sense.shared_functions.parsers.multi_chain_parser\u001b[0m:\u001b[36mprocess_ref_post\u001b[0m:\u001b[36m180\u001b[0m - \u001b[34m\u001b[1mInvoking parallel chain...\u001b[0m\n"
     ]
    },
    {
     "name": "stdout",
     "output_type": "stream",
     "text": [
      "191\n"
     ]
    },
    {
     "name": "stderr",
     "output_type": "stream",
     "text": [
      "\u001b[32m2024-04-30 21:03:31.239\u001b[0m | \u001b[34m\u001b[1mDEBUG   \u001b[0m | \u001b[36mdesci_sense.shared_functions.web_extractors.citoid\u001b[0m:\u001b[36mfetch_citation\u001b[0m:\u001b[36m54\u001b[0m - \u001b[34m\u001b[1mfetching citoid data for: https://medium.com/@charles.adjovu/zero-knowledge-proofs-for-kyc-compliance-b83a130fe745\u001b[0m\n",
      "\u001b[32m2024-04-30 21:03:32.582\u001b[0m | \u001b[34m\u001b[1mDEBUG   \u001b[0m | \u001b[36mdesci_sense.shared_functions.parsers.multi_chain_parser\u001b[0m:\u001b[36mprocess_ref_post\u001b[0m:\u001b[36m173\u001b[0m - \u001b[34m\u001b[1mProcessing post with parsers: ['topics']\u001b[0m\n",
      "\u001b[32m2024-04-30 21:03:32.583\u001b[0m | \u001b[34m\u001b[1mDEBUG   \u001b[0m | \u001b[36mdesci_sense.shared_functions.parsers.multi_chain_parser\u001b[0m:\u001b[36mprocess_ref_post\u001b[0m:\u001b[36m175\u001b[0m - \u001b[34m\u001b[1mInstantiating prompts...\u001b[0m\n",
      "\u001b[32m2024-04-30 21:03:32.584\u001b[0m | \u001b[34m\u001b[1mDEBUG   \u001b[0m | \u001b[36mdesci_sense.shared_functions.parsers.multi_chain_parser\u001b[0m:\u001b[36mprocess_ref_post\u001b[0m:\u001b[36m180\u001b[0m - \u001b[34m\u001b[1mInvoking parallel chain...\u001b[0m\n",
      "\u001b[32m2024-04-30 21:03:36.694\u001b[0m | \u001b[34m\u001b[1mDEBUG   \u001b[0m | \u001b[36mdesci_sense.shared_functions.parsers.multi_chain_parser\u001b[0m:\u001b[36mprocess_ref_post\u001b[0m:\u001b[36m173\u001b[0m - \u001b[34m\u001b[1mProcessing post with parsers: ['topics']\u001b[0m\n",
      "\u001b[32m2024-04-30 21:03:36.696\u001b[0m | \u001b[34m\u001b[1mDEBUG   \u001b[0m | \u001b[36mdesci_sense.shared_functions.parsers.multi_chain_parser\u001b[0m:\u001b[36mprocess_ref_post\u001b[0m:\u001b[36m175\u001b[0m - \u001b[34m\u001b[1mInstantiating prompts...\u001b[0m\n",
      "\u001b[32m2024-04-30 21:03:36.704\u001b[0m | \u001b[34m\u001b[1mDEBUG   \u001b[0m | \u001b[36mdesci_sense.shared_functions.parsers.multi_chain_parser\u001b[0m:\u001b[36mprocess_ref_post\u001b[0m:\u001b[36m180\u001b[0m - \u001b[34m\u001b[1mInvoking parallel chain...\u001b[0m\n"
     ]
    },
    {
     "name": "stdout",
     "output_type": "stream",
     "text": [
      "192\n",
      "193\n"
     ]
    },
    {
     "name": "stderr",
     "output_type": "stream",
     "text": [
      "\u001b[32m2024-04-30 21:03:40.718\u001b[0m | \u001b[34m\u001b[1mDEBUG   \u001b[0m | \u001b[36mdesci_sense.shared_functions.web_extractors.citoid\u001b[0m:\u001b[36mfetch_citation\u001b[0m:\u001b[36m54\u001b[0m - \u001b[34m\u001b[1mfetching citoid data for: https://medium.com/coinmonks/takeaways-from-distroid-issue-19-on-digital-organizing-bdbd691ac62e\u001b[0m\n",
      "\u001b[32m2024-04-30 21:03:42.112\u001b[0m | \u001b[34m\u001b[1mDEBUG   \u001b[0m | \u001b[36mdesci_sense.shared_functions.parsers.multi_chain_parser\u001b[0m:\u001b[36mprocess_ref_post\u001b[0m:\u001b[36m173\u001b[0m - \u001b[34m\u001b[1mProcessing post with parsers: ['topics']\u001b[0m\n",
      "\u001b[32m2024-04-30 21:03:42.117\u001b[0m | \u001b[34m\u001b[1mDEBUG   \u001b[0m | \u001b[36mdesci_sense.shared_functions.parsers.multi_chain_parser\u001b[0m:\u001b[36mprocess_ref_post\u001b[0m:\u001b[36m175\u001b[0m - \u001b[34m\u001b[1mInstantiating prompts...\u001b[0m\n",
      "\u001b[32m2024-04-30 21:03:42.119\u001b[0m | \u001b[34m\u001b[1mDEBUG   \u001b[0m | \u001b[36mdesci_sense.shared_functions.parsers.multi_chain_parser\u001b[0m:\u001b[36mprocess_ref_post\u001b[0m:\u001b[36m180\u001b[0m - \u001b[34m\u001b[1mInvoking parallel chain...\u001b[0m\n"
     ]
    },
    {
     "name": "stdout",
     "output_type": "stream",
     "text": [
      "194\n"
     ]
    },
    {
     "name": "stderr",
     "output_type": "stream",
     "text": [
      "\u001b[32m2024-04-30 21:03:47.393\u001b[0m | \u001b[34m\u001b[1mDEBUG   \u001b[0m | \u001b[36mdesci_sense.shared_functions.web_extractors.citoid\u001b[0m:\u001b[36mfetch_citation\u001b[0m:\u001b[36m54\u001b[0m - \u001b[34m\u001b[1mfetching citoid data for: https://airtable.com/appP2eoLoauNnNlCz/shrnluvm1Q2zkTw0h/tblGHduKIip81NIBI\u001b[0m\n",
      "\u001b[32m2024-04-30 21:03:48.320\u001b[0m | \u001b[34m\u001b[1mDEBUG   \u001b[0m | \u001b[36mdesci_sense.shared_functions.parsers.multi_chain_parser\u001b[0m:\u001b[36mprocess_ref_post\u001b[0m:\u001b[36m173\u001b[0m - \u001b[34m\u001b[1mProcessing post with parsers: ['topics']\u001b[0m\n",
      "\u001b[32m2024-04-30 21:03:48.321\u001b[0m | \u001b[34m\u001b[1mDEBUG   \u001b[0m | \u001b[36mdesci_sense.shared_functions.parsers.multi_chain_parser\u001b[0m:\u001b[36mprocess_ref_post\u001b[0m:\u001b[36m175\u001b[0m - \u001b[34m\u001b[1mInstantiating prompts...\u001b[0m\n",
      "\u001b[32m2024-04-30 21:03:48.322\u001b[0m | \u001b[34m\u001b[1mDEBUG   \u001b[0m | \u001b[36mdesci_sense.shared_functions.parsers.multi_chain_parser\u001b[0m:\u001b[36mprocess_ref_post\u001b[0m:\u001b[36m180\u001b[0m - \u001b[34m\u001b[1mInvoking parallel chain...\u001b[0m\n"
     ]
    },
    {
     "name": "stdout",
     "output_type": "stream",
     "text": [
      "195\n"
     ]
    },
    {
     "name": "stderr",
     "output_type": "stream",
     "text": [
      "\u001b[32m2024-04-30 21:03:52.393\u001b[0m | \u001b[34m\u001b[1mDEBUG   \u001b[0m | \u001b[36mdesci_sense.shared_functions.web_extractors.citoid\u001b[0m:\u001b[36mfetch_citation\u001b[0m:\u001b[36m54\u001b[0m - \u001b[34m\u001b[1mfetching citoid data for: https://medium.com/coinmonks/thoughts-on-volume-1-of-the-ijbl-9caeacfcfe1a\u001b[0m\n",
      "\u001b[32m2024-04-30 21:03:53.255\u001b[0m | \u001b[34m\u001b[1mDEBUG   \u001b[0m | \u001b[36mdesci_sense.shared_functions.parsers.multi_chain_parser\u001b[0m:\u001b[36mprocess_ref_post\u001b[0m:\u001b[36m173\u001b[0m - \u001b[34m\u001b[1mProcessing post with parsers: ['topics']\u001b[0m\n",
      "\u001b[32m2024-04-30 21:03:53.256\u001b[0m | \u001b[34m\u001b[1mDEBUG   \u001b[0m | \u001b[36mdesci_sense.shared_functions.parsers.multi_chain_parser\u001b[0m:\u001b[36mprocess_ref_post\u001b[0m:\u001b[36m175\u001b[0m - \u001b[34m\u001b[1mInstantiating prompts...\u001b[0m\n",
      "\u001b[32m2024-04-30 21:03:53.257\u001b[0m | \u001b[34m\u001b[1mDEBUG   \u001b[0m | \u001b[36mdesci_sense.shared_functions.parsers.multi_chain_parser\u001b[0m:\u001b[36mprocess_ref_post\u001b[0m:\u001b[36m180\u001b[0m - \u001b[34m\u001b[1mInvoking parallel chain...\u001b[0m\n",
      "\u001b[32m2024-04-30 21:03:57.107\u001b[0m | \u001b[34m\u001b[1mDEBUG   \u001b[0m | \u001b[36mdesci_sense.shared_functions.parsers.multi_chain_parser\u001b[0m:\u001b[36mprocess_ref_post\u001b[0m:\u001b[36m173\u001b[0m - \u001b[34m\u001b[1mProcessing post with parsers: ['topics']\u001b[0m\n",
      "\u001b[32m2024-04-30 21:03:57.110\u001b[0m | \u001b[34m\u001b[1mDEBUG   \u001b[0m | \u001b[36mdesci_sense.shared_functions.parsers.multi_chain_parser\u001b[0m:\u001b[36mprocess_ref_post\u001b[0m:\u001b[36m175\u001b[0m - \u001b[34m\u001b[1mInstantiating prompts...\u001b[0m\n",
      "\u001b[32m2024-04-30 21:03:57.111\u001b[0m | \u001b[34m\u001b[1mDEBUG   \u001b[0m | \u001b[36mdesci_sense.shared_functions.parsers.multi_chain_parser\u001b[0m:\u001b[36mprocess_ref_post\u001b[0m:\u001b[36m180\u001b[0m - \u001b[34m\u001b[1mInvoking parallel chain...\u001b[0m\n"
     ]
    },
    {
     "name": "stdout",
     "output_type": "stream",
     "text": [
      "196\n",
      "197\n"
     ]
    },
    {
     "name": "stderr",
     "output_type": "stream",
     "text": [
      "\u001b[32m2024-04-30 21:04:05.251\u001b[0m | \u001b[34m\u001b[1mDEBUG   \u001b[0m | \u001b[36mdesci_sense.shared_functions.web_extractors.citoid\u001b[0m:\u001b[36mfetch_citation\u001b[0m:\u001b[36m54\u001b[0m - \u001b[34m\u001b[1mfetching citoid data for: https://medium.com/coinmonks/dao-index-updating-the-airtable-and-new-visualizations-5628da48c288\u001b[0m\n",
      "\u001b[32m2024-04-30 21:04:05.765\u001b[0m | \u001b[34m\u001b[1mDEBUG   \u001b[0m | \u001b[36mdesci_sense.shared_functions.parsers.multi_chain_parser\u001b[0m:\u001b[36mprocess_ref_post\u001b[0m:\u001b[36m173\u001b[0m - \u001b[34m\u001b[1mProcessing post with parsers: ['topics']\u001b[0m\n",
      "\u001b[32m2024-04-30 21:04:05.768\u001b[0m | \u001b[34m\u001b[1mDEBUG   \u001b[0m | \u001b[36mdesci_sense.shared_functions.parsers.multi_chain_parser\u001b[0m:\u001b[36mprocess_ref_post\u001b[0m:\u001b[36m175\u001b[0m - \u001b[34m\u001b[1mInstantiating prompts...\u001b[0m\n",
      "\u001b[32m2024-04-30 21:04:05.771\u001b[0m | \u001b[34m\u001b[1mDEBUG   \u001b[0m | \u001b[36mdesci_sense.shared_functions.parsers.multi_chain_parser\u001b[0m:\u001b[36mprocess_ref_post\u001b[0m:\u001b[36m180\u001b[0m - \u001b[34m\u001b[1mInvoking parallel chain...\u001b[0m\n",
      "\u001b[32m2024-04-30 21:04:08.548\u001b[0m | \u001b[34m\u001b[1mDEBUG   \u001b[0m | \u001b[36mdesci_sense.shared_functions.parsers.multi_chain_parser\u001b[0m:\u001b[36mprocess_ref_post\u001b[0m:\u001b[36m173\u001b[0m - \u001b[34m\u001b[1mProcessing post with parsers: ['topics']\u001b[0m\n",
      "\u001b[32m2024-04-30 21:04:08.550\u001b[0m | \u001b[34m\u001b[1mDEBUG   \u001b[0m | \u001b[36mdesci_sense.shared_functions.parsers.multi_chain_parser\u001b[0m:\u001b[36mprocess_ref_post\u001b[0m:\u001b[36m175\u001b[0m - \u001b[34m\u001b[1mInstantiating prompts...\u001b[0m\n",
      "\u001b[32m2024-04-30 21:04:08.551\u001b[0m | \u001b[34m\u001b[1mDEBUG   \u001b[0m | \u001b[36mdesci_sense.shared_functions.parsers.multi_chain_parser\u001b[0m:\u001b[36mprocess_ref_post\u001b[0m:\u001b[36m180\u001b[0m - \u001b[34m\u001b[1mInvoking parallel chain...\u001b[0m\n"
     ]
    },
    {
     "name": "stdout",
     "output_type": "stream",
     "text": [
      "198\n",
      "199\n"
     ]
    },
    {
     "name": "stderr",
     "output_type": "stream",
     "text": [
      "\u001b[32m2024-04-30 21:04:12.420\u001b[0m | \u001b[34m\u001b[1mDEBUG   \u001b[0m | \u001b[36mdesci_sense.shared_functions.web_extractors.citoid\u001b[0m:\u001b[36mfetch_citation\u001b[0m:\u001b[36m54\u001b[0m - \u001b[34m\u001b[1mfetching citoid data for: https://medium.com/coinmonks/dao-index-transitioning-to-version-0-9-4f776d2681c5\u001b[0m\n",
      "\u001b[32m2024-04-30 21:05:17.551\u001b[0m | \u001b[34m\u001b[1mDEBUG   \u001b[0m | \u001b[36mdesci_sense.shared_functions.parsers.multi_chain_parser\u001b[0m:\u001b[36mprocess_ref_post\u001b[0m:\u001b[36m173\u001b[0m - \u001b[34m\u001b[1mProcessing post with parsers: ['topics']\u001b[0m\n",
      "\u001b[32m2024-04-30 21:05:17.559\u001b[0m | \u001b[34m\u001b[1mDEBUG   \u001b[0m | \u001b[36mdesci_sense.shared_functions.parsers.multi_chain_parser\u001b[0m:\u001b[36mprocess_ref_post\u001b[0m:\u001b[36m175\u001b[0m - \u001b[34m\u001b[1mInstantiating prompts...\u001b[0m\n",
      "\u001b[32m2024-04-30 21:05:17.560\u001b[0m | \u001b[34m\u001b[1mDEBUG   \u001b[0m | \u001b[36mdesci_sense.shared_functions.parsers.multi_chain_parser\u001b[0m:\u001b[36mprocess_ref_post\u001b[0m:\u001b[36m180\u001b[0m - \u001b[34m\u001b[1mInvoking parallel chain...\u001b[0m\n"
     ]
    },
    {
     "name": "stdout",
     "output_type": "stream",
     "text": [
      "200\n"
     ]
    },
    {
     "name": "stderr",
     "output_type": "stream",
     "text": [
      "\u001b[32m2024-04-30 21:05:22.908\u001b[0m | \u001b[34m\u001b[1mDEBUG   \u001b[0m | \u001b[36mdesci_sense.shared_functions.web_extractors.citoid\u001b[0m:\u001b[36mfetch_citation\u001b[0m:\u001b[36m54\u001b[0m - \u001b[34m\u001b[1mfetching citoid data for: https://medium.com/p/fe843a24ee5a\u001b[0m\n",
      "\u001b[32m2024-04-30 21:05:24.312\u001b[0m | \u001b[34m\u001b[1mDEBUG   \u001b[0m | \u001b[36mdesci_sense.shared_functions.parsers.multi_chain_parser\u001b[0m:\u001b[36mprocess_ref_post\u001b[0m:\u001b[36m173\u001b[0m - \u001b[34m\u001b[1mProcessing post with parsers: ['topics']\u001b[0m\n",
      "\u001b[32m2024-04-30 21:05:24.317\u001b[0m | \u001b[34m\u001b[1mDEBUG   \u001b[0m | \u001b[36mdesci_sense.shared_functions.parsers.multi_chain_parser\u001b[0m:\u001b[36mprocess_ref_post\u001b[0m:\u001b[36m175\u001b[0m - \u001b[34m\u001b[1mInstantiating prompts...\u001b[0m\n",
      "\u001b[32m2024-04-30 21:05:24.320\u001b[0m | \u001b[34m\u001b[1mDEBUG   \u001b[0m | \u001b[36mdesci_sense.shared_functions.parsers.multi_chain_parser\u001b[0m:\u001b[36mprocess_ref_post\u001b[0m:\u001b[36m180\u001b[0m - \u001b[34m\u001b[1mInvoking parallel chain...\u001b[0m\n"
     ]
    },
    {
     "name": "stdout",
     "output_type": "stream",
     "text": [
      "201\n"
     ]
    },
    {
     "name": "stderr",
     "output_type": "stream",
     "text": [
      "\u001b[32m2024-04-30 21:05:29.017\u001b[0m | \u001b[34m\u001b[1mDEBUG   \u001b[0m | \u001b[36mdesci_sense.shared_functions.web_extractors.citoid\u001b[0m:\u001b[36mfetch_citation\u001b[0m:\u001b[36m54\u001b[0m - \u001b[34m\u001b[1mfetching citoid data for: https://medium.com/@charles.adjovu/dao-index-rating-banklessdao-825735bcb8fa\u001b[0m\n",
      "\u001b[32m2024-04-30 21:05:30.244\u001b[0m | \u001b[34m\u001b[1mDEBUG   \u001b[0m | \u001b[36mdesci_sense.shared_functions.parsers.multi_chain_parser\u001b[0m:\u001b[36mprocess_ref_post\u001b[0m:\u001b[36m173\u001b[0m - \u001b[34m\u001b[1mProcessing post with parsers: ['topics']\u001b[0m\n",
      "\u001b[32m2024-04-30 21:05:30.244\u001b[0m | \u001b[34m\u001b[1mDEBUG   \u001b[0m | \u001b[36mdesci_sense.shared_functions.parsers.multi_chain_parser\u001b[0m:\u001b[36mprocess_ref_post\u001b[0m:\u001b[36m175\u001b[0m - \u001b[34m\u001b[1mInstantiating prompts...\u001b[0m\n",
      "\u001b[32m2024-04-30 21:05:30.246\u001b[0m | \u001b[34m\u001b[1mDEBUG   \u001b[0m | \u001b[36mdesci_sense.shared_functions.parsers.multi_chain_parser\u001b[0m:\u001b[36mprocess_ref_post\u001b[0m:\u001b[36m180\u001b[0m - \u001b[34m\u001b[1mInvoking parallel chain...\u001b[0m\n"
     ]
    },
    {
     "name": "stdout",
     "output_type": "stream",
     "text": [
      "202\n"
     ]
    },
    {
     "name": "stderr",
     "output_type": "stream",
     "text": [
      "\u001b[32m2024-04-30 21:05:34.556\u001b[0m | \u001b[34m\u001b[1mDEBUG   \u001b[0m | \u001b[36mdesci_sense.shared_functions.web_extractors.citoid\u001b[0m:\u001b[36mfetch_citation\u001b[0m:\u001b[36m54\u001b[0m - \u001b[34m\u001b[1mfetching citoid data for: https://medium.com/@charles.adjovu/bikestream-recruiting-software-developer-6ccc81a9fc15\u001b[0m\n",
      "\u001b[32m2024-04-30 21:05:35.868\u001b[0m | \u001b[34m\u001b[1mDEBUG   \u001b[0m | \u001b[36mdesci_sense.shared_functions.parsers.multi_chain_parser\u001b[0m:\u001b[36mprocess_ref_post\u001b[0m:\u001b[36m173\u001b[0m - \u001b[34m\u001b[1mProcessing post with parsers: ['topics']\u001b[0m\n",
      "\u001b[32m2024-04-30 21:05:35.869\u001b[0m | \u001b[34m\u001b[1mDEBUG   \u001b[0m | \u001b[36mdesci_sense.shared_functions.parsers.multi_chain_parser\u001b[0m:\u001b[36mprocess_ref_post\u001b[0m:\u001b[36m175\u001b[0m - \u001b[34m\u001b[1mInstantiating prompts...\u001b[0m\n",
      "\u001b[32m2024-04-30 21:05:35.870\u001b[0m | \u001b[34m\u001b[1mDEBUG   \u001b[0m | \u001b[36mdesci_sense.shared_functions.parsers.multi_chain_parser\u001b[0m:\u001b[36mprocess_ref_post\u001b[0m:\u001b[36m180\u001b[0m - \u001b[34m\u001b[1mInvoking parallel chain...\u001b[0m\n"
     ]
    },
    {
     "name": "stdout",
     "output_type": "stream",
     "text": [
      "203\n"
     ]
    },
    {
     "name": "stderr",
     "output_type": "stream",
     "text": [
      "\u001b[32m2024-04-30 21:05:40.994\u001b[0m | \u001b[34m\u001b[1mDEBUG   \u001b[0m | \u001b[36mdesci_sense.shared_functions.web_extractors.citoid\u001b[0m:\u001b[36mfetch_citation\u001b[0m:\u001b[36m54\u001b[0m - \u001b[34m\u001b[1mfetching citoid data for: https://medium.com/@charles.adjovu/laplace-recruiting-software-developers-a4b081e429db\u001b[0m\n",
      "\u001b[32m2024-04-30 21:05:41.528\u001b[0m | \u001b[34m\u001b[1mDEBUG   \u001b[0m | \u001b[36mdesci_sense.shared_functions.parsers.multi_chain_parser\u001b[0m:\u001b[36mprocess_ref_post\u001b[0m:\u001b[36m173\u001b[0m - \u001b[34m\u001b[1mProcessing post with parsers: ['topics']\u001b[0m\n",
      "\u001b[32m2024-04-30 21:05:41.529\u001b[0m | \u001b[34m\u001b[1mDEBUG   \u001b[0m | \u001b[36mdesci_sense.shared_functions.parsers.multi_chain_parser\u001b[0m:\u001b[36mprocess_ref_post\u001b[0m:\u001b[36m175\u001b[0m - \u001b[34m\u001b[1mInstantiating prompts...\u001b[0m\n",
      "\u001b[32m2024-04-30 21:05:41.531\u001b[0m | \u001b[34m\u001b[1mDEBUG   \u001b[0m | \u001b[36mdesci_sense.shared_functions.parsers.multi_chain_parser\u001b[0m:\u001b[36mprocess_ref_post\u001b[0m:\u001b[36m180\u001b[0m - \u001b[34m\u001b[1mInvoking parallel chain...\u001b[0m\n"
     ]
    },
    {
     "name": "stdout",
     "output_type": "stream",
     "text": [
      "204\n"
     ]
    },
    {
     "name": "stderr",
     "output_type": "stream",
     "text": [
      "\u001b[32m2024-04-30 21:05:45.112\u001b[0m | \u001b[34m\u001b[1mDEBUG   \u001b[0m | \u001b[36mdesci_sense.shared_functions.web_extractors.citoid\u001b[0m:\u001b[36mfetch_citation\u001b[0m:\u001b[36m54\u001b[0m - \u001b[34m\u001b[1mfetching citoid data for: https://medium.com/@charles.adjovu/dao-index-recruiting-raters-abfca5a23869\u001b[0m\n",
      "\u001b[32m2024-04-30 21:06:50.224\u001b[0m | \u001b[34m\u001b[1mDEBUG   \u001b[0m | \u001b[36mdesci_sense.shared_functions.parsers.multi_chain_parser\u001b[0m:\u001b[36mprocess_ref_post\u001b[0m:\u001b[36m173\u001b[0m - \u001b[34m\u001b[1mProcessing post with parsers: ['topics']\u001b[0m\n",
      "\u001b[32m2024-04-30 21:06:50.252\u001b[0m | \u001b[34m\u001b[1mDEBUG   \u001b[0m | \u001b[36mdesci_sense.shared_functions.parsers.multi_chain_parser\u001b[0m:\u001b[36mprocess_ref_post\u001b[0m:\u001b[36m175\u001b[0m - \u001b[34m\u001b[1mInstantiating prompts...\u001b[0m\n",
      "\u001b[32m2024-04-30 21:06:50.254\u001b[0m | \u001b[34m\u001b[1mDEBUG   \u001b[0m | \u001b[36mdesci_sense.shared_functions.parsers.multi_chain_parser\u001b[0m:\u001b[36mprocess_ref_post\u001b[0m:\u001b[36m180\u001b[0m - \u001b[34m\u001b[1mInvoking parallel chain...\u001b[0m\n"
     ]
    },
    {
     "name": "stdout",
     "output_type": "stream",
     "text": [
      "205\n"
     ]
    },
    {
     "name": "stderr",
     "output_type": "stream",
     "text": [
      "\u001b[32m2024-04-30 21:06:55.122\u001b[0m | \u001b[34m\u001b[1mDEBUG   \u001b[0m | \u001b[36mdesci_sense.shared_functions.web_extractors.citoid\u001b[0m:\u001b[36mfetch_citation\u001b[0m:\u001b[36m54\u001b[0m - \u001b[34m\u001b[1mfetching citoid data for: https://medium.com/@charles.adjovu/distroid-recruiting-curators-and-graphic-designers-3054c098809c\u001b[0m\n",
      "\u001b[32m2024-04-30 21:06:56.125\u001b[0m | \u001b[34m\u001b[1mDEBUG   \u001b[0m | \u001b[36mdesci_sense.shared_functions.parsers.multi_chain_parser\u001b[0m:\u001b[36mprocess_ref_post\u001b[0m:\u001b[36m173\u001b[0m - \u001b[34m\u001b[1mProcessing post with parsers: ['topics']\u001b[0m\n",
      "\u001b[32m2024-04-30 21:06:56.127\u001b[0m | \u001b[34m\u001b[1mDEBUG   \u001b[0m | \u001b[36mdesci_sense.shared_functions.parsers.multi_chain_parser\u001b[0m:\u001b[36mprocess_ref_post\u001b[0m:\u001b[36m175\u001b[0m - \u001b[34m\u001b[1mInstantiating prompts...\u001b[0m\n",
      "\u001b[32m2024-04-30 21:06:56.130\u001b[0m | \u001b[34m\u001b[1mDEBUG   \u001b[0m | \u001b[36mdesci_sense.shared_functions.parsers.multi_chain_parser\u001b[0m:\u001b[36mprocess_ref_post\u001b[0m:\u001b[36m180\u001b[0m - \u001b[34m\u001b[1mInvoking parallel chain...\u001b[0m\n"
     ]
    },
    {
     "name": "stdout",
     "output_type": "stream",
     "text": [
      "206\n"
     ]
    },
    {
     "name": "stderr",
     "output_type": "stream",
     "text": [
      "\u001b[32m2024-04-30 21:07:02.104\u001b[0m | \u001b[34m\u001b[1mDEBUG   \u001b[0m | \u001b[36mdesci_sense.shared_functions.web_extractors.citoid\u001b[0m:\u001b[36mfetch_citation\u001b[0m:\u001b[36m54\u001b[0m - \u001b[34m\u001b[1mfetching citoid data for: https://medium.com/@charles.adjovu/dao-index-user-guide-cf44f5998f40\u001b[0m\n",
      "\u001b[32m2024-04-30 21:07:03.383\u001b[0m | \u001b[34m\u001b[1mDEBUG   \u001b[0m | \u001b[36mdesci_sense.shared_functions.parsers.multi_chain_parser\u001b[0m:\u001b[36mprocess_ref_post\u001b[0m:\u001b[36m173\u001b[0m - \u001b[34m\u001b[1mProcessing post with parsers: ['topics']\u001b[0m\n",
      "\u001b[32m2024-04-30 21:07:03.387\u001b[0m | \u001b[34m\u001b[1mDEBUG   \u001b[0m | \u001b[36mdesci_sense.shared_functions.parsers.multi_chain_parser\u001b[0m:\u001b[36mprocess_ref_post\u001b[0m:\u001b[36m175\u001b[0m - \u001b[34m\u001b[1mInstantiating prompts...\u001b[0m\n",
      "\u001b[32m2024-04-30 21:07:03.390\u001b[0m | \u001b[34m\u001b[1mDEBUG   \u001b[0m | \u001b[36mdesci_sense.shared_functions.parsers.multi_chain_parser\u001b[0m:\u001b[36mprocess_ref_post\u001b[0m:\u001b[36m180\u001b[0m - \u001b[34m\u001b[1mInvoking parallel chain...\u001b[0m\n"
     ]
    },
    {
     "name": "stdout",
     "output_type": "stream",
     "text": [
      "207\n"
     ]
    },
    {
     "name": "stderr",
     "output_type": "stream",
     "text": [
      "\u001b[32m2024-04-30 21:07:09.064\u001b[0m | \u001b[34m\u001b[1mDEBUG   \u001b[0m | \u001b[36mdesci_sense.shared_functions.web_extractors.citoid\u001b[0m:\u001b[36mfetch_citation\u001b[0m:\u001b[36m54\u001b[0m - \u001b[34m\u001b[1mfetching citoid data for: https://medium.com/@charles.adjovu/frontier-portal-background-information-on-platform-cooperativism-be95214bf424\u001b[0m\n",
      "\u001b[32m2024-04-30 21:07:10.923\u001b[0m | \u001b[34m\u001b[1mDEBUG   \u001b[0m | \u001b[36mdesci_sense.shared_functions.parsers.multi_chain_parser\u001b[0m:\u001b[36mprocess_ref_post\u001b[0m:\u001b[36m173\u001b[0m - \u001b[34m\u001b[1mProcessing post with parsers: ['topics']\u001b[0m\n",
      "\u001b[32m2024-04-30 21:07:10.928\u001b[0m | \u001b[34m\u001b[1mDEBUG   \u001b[0m | \u001b[36mdesci_sense.shared_functions.parsers.multi_chain_parser\u001b[0m:\u001b[36mprocess_ref_post\u001b[0m:\u001b[36m175\u001b[0m - \u001b[34m\u001b[1mInstantiating prompts...\u001b[0m\n",
      "\u001b[32m2024-04-30 21:07:10.931\u001b[0m | \u001b[34m\u001b[1mDEBUG   \u001b[0m | \u001b[36mdesci_sense.shared_functions.parsers.multi_chain_parser\u001b[0m:\u001b[36mprocess_ref_post\u001b[0m:\u001b[36m180\u001b[0m - \u001b[34m\u001b[1mInvoking parallel chain...\u001b[0m\n"
     ]
    },
    {
     "name": "stdout",
     "output_type": "stream",
     "text": [
      "208\n"
     ]
    },
    {
     "name": "stderr",
     "output_type": "stream",
     "text": [
      "\u001b[32m2024-04-30 21:07:14.858\u001b[0m | \u001b[34m\u001b[1mDEBUG   \u001b[0m | \u001b[36mdesci_sense.shared_functions.web_extractors.citoid\u001b[0m:\u001b[36mfetch_citation\u001b[0m:\u001b[36m54\u001b[0m - \u001b[34m\u001b[1mfetching citoid data for: https://airtable.com/invite/l?inviteId=invKrj4J5nVgZF97B&inviteToken=8cd8efa30364d090dd34a7d6a3c50702fb353bcd094f1aaa406bb68172904616\u001b[0m\n",
      "\u001b[32m2024-04-30 21:07:15.735\u001b[0m | \u001b[34m\u001b[1mDEBUG   \u001b[0m | \u001b[36mdesci_sense.shared_functions.parsers.multi_chain_parser\u001b[0m:\u001b[36mprocess_ref_post\u001b[0m:\u001b[36m173\u001b[0m - \u001b[34m\u001b[1mProcessing post with parsers: ['topics']\u001b[0m\n",
      "\u001b[32m2024-04-30 21:07:15.735\u001b[0m | \u001b[34m\u001b[1mDEBUG   \u001b[0m | \u001b[36mdesci_sense.shared_functions.parsers.multi_chain_parser\u001b[0m:\u001b[36mprocess_ref_post\u001b[0m:\u001b[36m175\u001b[0m - \u001b[34m\u001b[1mInstantiating prompts...\u001b[0m\n",
      "\u001b[32m2024-04-30 21:07:15.736\u001b[0m | \u001b[34m\u001b[1mDEBUG   \u001b[0m | \u001b[36mdesci_sense.shared_functions.parsers.multi_chain_parser\u001b[0m:\u001b[36mprocess_ref_post\u001b[0m:\u001b[36m180\u001b[0m - \u001b[34m\u001b[1mInvoking parallel chain...\u001b[0m\n"
     ]
    },
    {
     "name": "stdout",
     "output_type": "stream",
     "text": [
      "209\n"
     ]
    },
    {
     "name": "stderr",
     "output_type": "stream",
     "text": [
      "\u001b[32m2024-04-30 21:07:19.693\u001b[0m | \u001b[34m\u001b[1mDEBUG   \u001b[0m | \u001b[36mdesci_sense.shared_functions.web_extractors.citoid\u001b[0m:\u001b[36mfetch_citation\u001b[0m:\u001b[36m54\u001b[0m - \u001b[34m\u001b[1mfetching citoid data for: https://www.volunteermatch.org/search/opp3433852.jsp\u001b[0m\n",
      "\u001b[32m2024-04-30 21:07:20.838\u001b[0m | \u001b[34m\u001b[1mDEBUG   \u001b[0m | \u001b[36mdesci_sense.shared_functions.parsers.multi_chain_parser\u001b[0m:\u001b[36mprocess_ref_post\u001b[0m:\u001b[36m173\u001b[0m - \u001b[34m\u001b[1mProcessing post with parsers: ['topics']\u001b[0m\n",
      "\u001b[32m2024-04-30 21:07:20.838\u001b[0m | \u001b[34m\u001b[1mDEBUG   \u001b[0m | \u001b[36mdesci_sense.shared_functions.parsers.multi_chain_parser\u001b[0m:\u001b[36mprocess_ref_post\u001b[0m:\u001b[36m175\u001b[0m - \u001b[34m\u001b[1mInstantiating prompts...\u001b[0m\n",
      "\u001b[32m2024-04-30 21:07:20.839\u001b[0m | \u001b[34m\u001b[1mDEBUG   \u001b[0m | \u001b[36mdesci_sense.shared_functions.parsers.multi_chain_parser\u001b[0m:\u001b[36mprocess_ref_post\u001b[0m:\u001b[36m180\u001b[0m - \u001b[34m\u001b[1mInvoking parallel chain...\u001b[0m\n"
     ]
    },
    {
     "name": "stdout",
     "output_type": "stream",
     "text": [
      "210\n"
     ]
    },
    {
     "name": "stderr",
     "output_type": "stream",
     "text": [
      "\u001b[32m2024-04-30 21:07:25.861\u001b[0m | \u001b[34m\u001b[1mDEBUG   \u001b[0m | \u001b[36mdesci_sense.shared_functions.web_extractors.citoid\u001b[0m:\u001b[36mfetch_citation\u001b[0m:\u001b[36m54\u001b[0m - \u001b[34m\u001b[1mfetching citoid data for: https://medium.com/@charles.adjovu/exploring-the-ledgerback-frontier-instructional-sessions-on-frontier-basics-5b54fc4ee4de\u001b[0m\n",
      "\u001b[32m2024-04-30 21:07:27.083\u001b[0m | \u001b[34m\u001b[1mDEBUG   \u001b[0m | \u001b[36mdesci_sense.shared_functions.parsers.multi_chain_parser\u001b[0m:\u001b[36mprocess_ref_post\u001b[0m:\u001b[36m173\u001b[0m - \u001b[34m\u001b[1mProcessing post with parsers: ['topics']\u001b[0m\n",
      "\u001b[32m2024-04-30 21:07:27.085\u001b[0m | \u001b[34m\u001b[1mDEBUG   \u001b[0m | \u001b[36mdesci_sense.shared_functions.parsers.multi_chain_parser\u001b[0m:\u001b[36mprocess_ref_post\u001b[0m:\u001b[36m175\u001b[0m - \u001b[34m\u001b[1mInstantiating prompts...\u001b[0m\n",
      "\u001b[32m2024-04-30 21:07:27.086\u001b[0m | \u001b[34m\u001b[1mDEBUG   \u001b[0m | \u001b[36mdesci_sense.shared_functions.parsers.multi_chain_parser\u001b[0m:\u001b[36mprocess_ref_post\u001b[0m:\u001b[36m180\u001b[0m - \u001b[34m\u001b[1mInvoking parallel chain...\u001b[0m\n"
     ]
    },
    {
     "name": "stdout",
     "output_type": "stream",
     "text": [
      "211\n"
     ]
    },
    {
     "name": "stderr",
     "output_type": "stream",
     "text": [
      "\u001b[32m2024-04-30 21:07:30.978\u001b[0m | \u001b[34m\u001b[1mDEBUG   \u001b[0m | \u001b[36mdesci_sense.shared_functions.web_extractors.citoid\u001b[0m:\u001b[36mfetch_citation\u001b[0m:\u001b[36m54\u001b[0m - \u001b[34m\u001b[1mfetching citoid data for: https://medium.com/@charles.adjovu/dgov-score-framework-donation-acknowledgements-d532584372bd\u001b[0m\n",
      "\u001b[32m2024-04-30 21:07:31.961\u001b[0m | \u001b[34m\u001b[1mDEBUG   \u001b[0m | \u001b[36mdesci_sense.shared_functions.parsers.multi_chain_parser\u001b[0m:\u001b[36mprocess_ref_post\u001b[0m:\u001b[36m173\u001b[0m - \u001b[34m\u001b[1mProcessing post with parsers: ['topics']\u001b[0m\n",
      "\u001b[32m2024-04-30 21:07:31.963\u001b[0m | \u001b[34m\u001b[1mDEBUG   \u001b[0m | \u001b[36mdesci_sense.shared_functions.parsers.multi_chain_parser\u001b[0m:\u001b[36mprocess_ref_post\u001b[0m:\u001b[36m175\u001b[0m - \u001b[34m\u001b[1mInstantiating prompts...\u001b[0m\n",
      "\u001b[32m2024-04-30 21:07:31.964\u001b[0m | \u001b[34m\u001b[1mDEBUG   \u001b[0m | \u001b[36mdesci_sense.shared_functions.parsers.multi_chain_parser\u001b[0m:\u001b[36mprocess_ref_post\u001b[0m:\u001b[36m180\u001b[0m - \u001b[34m\u001b[1mInvoking parallel chain...\u001b[0m\n"
     ]
    },
    {
     "name": "stdout",
     "output_type": "stream",
     "text": [
      "212\n"
     ]
    },
    {
     "name": "stderr",
     "output_type": "stream",
     "text": [
      "\u001b[32m2024-04-30 21:07:35.966\u001b[0m | \u001b[34m\u001b[1mDEBUG   \u001b[0m | \u001b[36mdesci_sense.shared_functions.web_extractors.citoid\u001b[0m:\u001b[36mfetch_citation\u001b[0m:\u001b[36m54\u001b[0m - \u001b[34m\u001b[1mfetching citoid data for: https://medium.com/@charles.adjovu/ledgerback-frontier-research-fund-universal-basic-grants-9fb1276af64e\u001b[0m\n",
      "\u001b[32m2024-04-30 21:07:37.117\u001b[0m | \u001b[34m\u001b[1mDEBUG   \u001b[0m | \u001b[36mdesci_sense.shared_functions.parsers.multi_chain_parser\u001b[0m:\u001b[36mprocess_ref_post\u001b[0m:\u001b[36m173\u001b[0m - \u001b[34m\u001b[1mProcessing post with parsers: ['topics']\u001b[0m\n",
      "\u001b[32m2024-04-30 21:07:37.118\u001b[0m | \u001b[34m\u001b[1mDEBUG   \u001b[0m | \u001b[36mdesci_sense.shared_functions.parsers.multi_chain_parser\u001b[0m:\u001b[36mprocess_ref_post\u001b[0m:\u001b[36m175\u001b[0m - \u001b[34m\u001b[1mInstantiating prompts...\u001b[0m\n",
      "\u001b[32m2024-04-30 21:07:37.118\u001b[0m | \u001b[34m\u001b[1mDEBUG   \u001b[0m | \u001b[36mdesci_sense.shared_functions.parsers.multi_chain_parser\u001b[0m:\u001b[36mprocess_ref_post\u001b[0m:\u001b[36m180\u001b[0m - \u001b[34m\u001b[1mInvoking parallel chain...\u001b[0m\n"
     ]
    },
    {
     "name": "stdout",
     "output_type": "stream",
     "text": [
      "213\n"
     ]
    },
    {
     "name": "stderr",
     "output_type": "stream",
     "text": [
      "\u001b[32m2024-04-30 21:07:41.347\u001b[0m | \u001b[34m\u001b[1mDEBUG   \u001b[0m | \u001b[36mdesci_sense.shared_functions.web_extractors.citoid\u001b[0m:\u001b[36mfetch_citation\u001b[0m:\u001b[36m54\u001b[0m - \u001b[34m\u001b[1mfetching citoid data for: https://airtable.com/invite/l?inviteId=invnmiZzs9LGeBO8V&inviteToken=838af8009c83f97ce78393e8a2ad5d27075621dd480cd8c2fc17ddd411c3588e\u001b[0m\n",
      "\u001b[32m2024-04-30 21:07:41.930\u001b[0m | \u001b[34m\u001b[1mDEBUG   \u001b[0m | \u001b[36mdesci_sense.shared_functions.parsers.multi_chain_parser\u001b[0m:\u001b[36mprocess_ref_post\u001b[0m:\u001b[36m173\u001b[0m - \u001b[34m\u001b[1mProcessing post with parsers: ['topics']\u001b[0m\n",
      "\u001b[32m2024-04-30 21:07:41.931\u001b[0m | \u001b[34m\u001b[1mDEBUG   \u001b[0m | \u001b[36mdesci_sense.shared_functions.parsers.multi_chain_parser\u001b[0m:\u001b[36mprocess_ref_post\u001b[0m:\u001b[36m175\u001b[0m - \u001b[34m\u001b[1mInstantiating prompts...\u001b[0m\n",
      "\u001b[32m2024-04-30 21:07:41.932\u001b[0m | \u001b[34m\u001b[1mDEBUG   \u001b[0m | \u001b[36mdesci_sense.shared_functions.parsers.multi_chain_parser\u001b[0m:\u001b[36mprocess_ref_post\u001b[0m:\u001b[36m180\u001b[0m - \u001b[34m\u001b[1mInvoking parallel chain...\u001b[0m\n"
     ]
    },
    {
     "name": "stdout",
     "output_type": "stream",
     "text": [
      "214\n"
     ]
    },
    {
     "name": "stderr",
     "output_type": "stream",
     "text": [
      "\u001b[32m2024-04-30 21:07:45.529\u001b[0m | \u001b[34m\u001b[1mDEBUG   \u001b[0m | \u001b[36mdesci_sense.shared_functions.web_extractors.citoid\u001b[0m:\u001b[36mfetch_citation\u001b[0m:\u001b[36m54\u001b[0m - \u001b[34m\u001b[1mfetching citoid data for: https://medium.com/@charles.adjovu/ledgerback-frontier-awards-38dd499a861f\u001b[0m\n",
      "\u001b[32m2024-04-30 21:07:46.531\u001b[0m | \u001b[34m\u001b[1mDEBUG   \u001b[0m | \u001b[36mdesci_sense.shared_functions.parsers.multi_chain_parser\u001b[0m:\u001b[36mprocess_ref_post\u001b[0m:\u001b[36m173\u001b[0m - \u001b[34m\u001b[1mProcessing post with parsers: ['topics']\u001b[0m\n",
      "\u001b[32m2024-04-30 21:07:46.534\u001b[0m | \u001b[34m\u001b[1mDEBUG   \u001b[0m | \u001b[36mdesci_sense.shared_functions.parsers.multi_chain_parser\u001b[0m:\u001b[36mprocess_ref_post\u001b[0m:\u001b[36m175\u001b[0m - \u001b[34m\u001b[1mInstantiating prompts...\u001b[0m\n",
      "\u001b[32m2024-04-30 21:07:46.537\u001b[0m | \u001b[34m\u001b[1mDEBUG   \u001b[0m | \u001b[36mdesci_sense.shared_functions.parsers.multi_chain_parser\u001b[0m:\u001b[36mprocess_ref_post\u001b[0m:\u001b[36m180\u001b[0m - \u001b[34m\u001b[1mInvoking parallel chain...\u001b[0m\n"
     ]
    },
    {
     "name": "stdout",
     "output_type": "stream",
     "text": [
      "215\n"
     ]
    },
    {
     "name": "stderr",
     "output_type": "stream",
     "text": [
      "\u001b[32m2024-04-30 21:07:49.871\u001b[0m | \u001b[34m\u001b[1mDEBUG   \u001b[0m | \u001b[36mdesci_sense.shared_functions.web_extractors.citoid\u001b[0m:\u001b[36mfetch_citation\u001b[0m:\u001b[36m54\u001b[0m - \u001b[34m\u001b[1mfetching citoid data for: https://medium.com/@charles.adjovu/dao-index-analysis-of-nexus-mutual-and-mock-designs-for-a-certification-mark-e1760cd8e6a1\u001b[0m\n",
      "\u001b[32m2024-04-30 21:07:51.254\u001b[0m | \u001b[34m\u001b[1mDEBUG   \u001b[0m | \u001b[36mdesci_sense.shared_functions.parsers.multi_chain_parser\u001b[0m:\u001b[36mprocess_ref_post\u001b[0m:\u001b[36m173\u001b[0m - \u001b[34m\u001b[1mProcessing post with parsers: ['topics']\u001b[0m\n",
      "\u001b[32m2024-04-30 21:07:51.257\u001b[0m | \u001b[34m\u001b[1mDEBUG   \u001b[0m | \u001b[36mdesci_sense.shared_functions.parsers.multi_chain_parser\u001b[0m:\u001b[36mprocess_ref_post\u001b[0m:\u001b[36m175\u001b[0m - \u001b[34m\u001b[1mInstantiating prompts...\u001b[0m\n",
      "\u001b[32m2024-04-30 21:07:51.259\u001b[0m | \u001b[34m\u001b[1mDEBUG   \u001b[0m | \u001b[36mdesci_sense.shared_functions.parsers.multi_chain_parser\u001b[0m:\u001b[36mprocess_ref_post\u001b[0m:\u001b[36m180\u001b[0m - \u001b[34m\u001b[1mInvoking parallel chain...\u001b[0m\n"
     ]
    },
    {
     "name": "stdout",
     "output_type": "stream",
     "text": [
      "216\n"
     ]
    },
    {
     "name": "stderr",
     "output_type": "stream",
     "text": [
      "\u001b[32m2024-04-30 21:07:57.200\u001b[0m | \u001b[34m\u001b[1mDEBUG   \u001b[0m | \u001b[36mdesci_sense.shared_functions.web_extractors.citoid\u001b[0m:\u001b[36mfetch_citation\u001b[0m:\u001b[36m54\u001b[0m - \u001b[34m\u001b[1mfetching citoid data for: https://medium.com/@charles.adjovu/observatory-organizations-events-news-databases-previews-c6923448262b\u001b[0m\n",
      "\u001b[32m2024-04-30 21:07:58.423\u001b[0m | \u001b[34m\u001b[1mDEBUG   \u001b[0m | \u001b[36mdesci_sense.shared_functions.parsers.multi_chain_parser\u001b[0m:\u001b[36mprocess_ref_post\u001b[0m:\u001b[36m173\u001b[0m - \u001b[34m\u001b[1mProcessing post with parsers: ['topics']\u001b[0m\n",
      "\u001b[32m2024-04-30 21:07:58.425\u001b[0m | \u001b[34m\u001b[1mDEBUG   \u001b[0m | \u001b[36mdesci_sense.shared_functions.parsers.multi_chain_parser\u001b[0m:\u001b[36mprocess_ref_post\u001b[0m:\u001b[36m175\u001b[0m - \u001b[34m\u001b[1mInstantiating prompts...\u001b[0m\n",
      "\u001b[32m2024-04-30 21:07:58.427\u001b[0m | \u001b[34m\u001b[1mDEBUG   \u001b[0m | \u001b[36mdesci_sense.shared_functions.parsers.multi_chain_parser\u001b[0m:\u001b[36mprocess_ref_post\u001b[0m:\u001b[36m180\u001b[0m - \u001b[34m\u001b[1mInvoking parallel chain...\u001b[0m\n"
     ]
    },
    {
     "name": "stdout",
     "output_type": "stream",
     "text": [
      "217\n"
     ]
    },
    {
     "name": "stderr",
     "output_type": "stream",
     "text": [
      "\u001b[32m2024-04-30 21:08:04.622\u001b[0m | \u001b[34m\u001b[1mDEBUG   \u001b[0m | \u001b[36mdesci_sense.shared_functions.web_extractors.citoid\u001b[0m:\u001b[36mfetch_citation\u001b[0m:\u001b[36m54\u001b[0m - \u001b[34m\u001b[1mfetching citoid data for: https://link.medium.com/YTgFFsQLAlb\u001b[0m\n",
      "\u001b[32m2024-04-30 21:08:05.892\u001b[0m | \u001b[34m\u001b[1mDEBUG   \u001b[0m | \u001b[36mdesci_sense.shared_functions.parsers.multi_chain_parser\u001b[0m:\u001b[36mprocess_ref_post\u001b[0m:\u001b[36m173\u001b[0m - \u001b[34m\u001b[1mProcessing post with parsers: ['topics']\u001b[0m\n",
      "\u001b[32m2024-04-30 21:08:05.893\u001b[0m | \u001b[34m\u001b[1mDEBUG   \u001b[0m | \u001b[36mdesci_sense.shared_functions.parsers.multi_chain_parser\u001b[0m:\u001b[36mprocess_ref_post\u001b[0m:\u001b[36m175\u001b[0m - \u001b[34m\u001b[1mInstantiating prompts...\u001b[0m\n",
      "\u001b[32m2024-04-30 21:08:05.894\u001b[0m | \u001b[34m\u001b[1mDEBUG   \u001b[0m | \u001b[36mdesci_sense.shared_functions.parsers.multi_chain_parser\u001b[0m:\u001b[36mprocess_ref_post\u001b[0m:\u001b[36m180\u001b[0m - \u001b[34m\u001b[1mInvoking parallel chain...\u001b[0m\n"
     ]
    },
    {
     "name": "stdout",
     "output_type": "stream",
     "text": [
      "218\n"
     ]
    },
    {
     "name": "stderr",
     "output_type": "stream",
     "text": [
      "\u001b[32m2024-04-30 21:08:09.232\u001b[0m | \u001b[34m\u001b[1mDEBUG   \u001b[0m | \u001b[36mdesci_sense.shared_functions.web_extractors.citoid\u001b[0m:\u001b[36mfetch_citation_async\u001b[0m:\u001b[36m20\u001b[0m - \u001b[34m\u001b[1mtarget_url=https://podcasters.spotify.com/pod/show/philomath-ledgerback/episodes/Charles-Adjovu-on-Legal-Issues-with-using-Copyrightable-NFTs-e18s6do\u001b[0m\n",
      "\u001b[32m2024-04-30 21:08:09.240\u001b[0m | \u001b[34m\u001b[1mDEBUG   \u001b[0m | \u001b[36mdesci_sense.shared_functions.web_extractors.citoid\u001b[0m:\u001b[36mfetch_citation_async\u001b[0m:\u001b[36m20\u001b[0m - \u001b[34m\u001b[1mtarget_url=https://www.theverge.com/22785051/nft-collectibles-intellectual-property-decentralized-disney\u001b[0m\n",
      "\u001b[32m2024-04-30 21:08:10.199\u001b[0m | \u001b[34m\u001b[1mDEBUG   \u001b[0m | \u001b[36mdesci_sense.shared_functions.parsers.multi_chain_parser\u001b[0m:\u001b[36mprocess_ref_post\u001b[0m:\u001b[36m173\u001b[0m - \u001b[34m\u001b[1mProcessing post with parsers: ['topics']\u001b[0m\n",
      "\u001b[32m2024-04-30 21:08:10.201\u001b[0m | \u001b[34m\u001b[1mDEBUG   \u001b[0m | \u001b[36mdesci_sense.shared_functions.parsers.multi_chain_parser\u001b[0m:\u001b[36mprocess_ref_post\u001b[0m:\u001b[36m175\u001b[0m - \u001b[34m\u001b[1mInstantiating prompts...\u001b[0m\n",
      "\u001b[32m2024-04-30 21:08:10.203\u001b[0m | \u001b[34m\u001b[1mDEBUG   \u001b[0m | \u001b[36mdesci_sense.shared_functions.parsers.multi_chain_parser\u001b[0m:\u001b[36mprocess_ref_post\u001b[0m:\u001b[36m180\u001b[0m - \u001b[34m\u001b[1mInvoking parallel chain...\u001b[0m\n"
     ]
    },
    {
     "name": "stdout",
     "output_type": "stream",
     "text": [
      "219\n"
     ]
    },
    {
     "name": "stderr",
     "output_type": "stream",
     "text": [
      "\u001b[32m2024-04-30 21:08:13.419\u001b[0m | \u001b[34m\u001b[1mDEBUG   \u001b[0m | \u001b[36mdesci_sense.shared_functions.web_extractors.citoid\u001b[0m:\u001b[36mfetch_citation\u001b[0m:\u001b[36m54\u001b[0m - \u001b[34m\u001b[1mfetching citoid data for: https://t.co/dhCvtLIzdC\u001b[0m\n",
      "\u001b[32m2024-04-30 21:08:13.984\u001b[0m | \u001b[34m\u001b[1mDEBUG   \u001b[0m | \u001b[36mdesci_sense.shared_functions.parsers.multi_chain_parser\u001b[0m:\u001b[36mprocess_ref_post\u001b[0m:\u001b[36m173\u001b[0m - \u001b[34m\u001b[1mProcessing post with parsers: ['topics']\u001b[0m\n",
      "\u001b[32m2024-04-30 21:08:13.985\u001b[0m | \u001b[34m\u001b[1mDEBUG   \u001b[0m | \u001b[36mdesci_sense.shared_functions.parsers.multi_chain_parser\u001b[0m:\u001b[36mprocess_ref_post\u001b[0m:\u001b[36m175\u001b[0m - \u001b[34m\u001b[1mInstantiating prompts...\u001b[0m\n",
      "\u001b[32m2024-04-30 21:08:13.987\u001b[0m | \u001b[34m\u001b[1mDEBUG   \u001b[0m | \u001b[36mdesci_sense.shared_functions.parsers.multi_chain_parser\u001b[0m:\u001b[36mprocess_ref_post\u001b[0m:\u001b[36m180\u001b[0m - \u001b[34m\u001b[1mInvoking parallel chain...\u001b[0m\n"
     ]
    },
    {
     "name": "stdout",
     "output_type": "stream",
     "text": [
      "220\n"
     ]
    },
    {
     "name": "stderr",
     "output_type": "stream",
     "text": [
      "\u001b[32m2024-04-30 21:08:19.164\u001b[0m | \u001b[34m\u001b[1mDEBUG   \u001b[0m | \u001b[36mdesci_sense.shared_functions.web_extractors.citoid\u001b[0m:\u001b[36mfetch_citation\u001b[0m:\u001b[36m54\u001b[0m - \u001b[34m\u001b[1mfetching citoid data for: https://medium.com/@charles.adjovu/dao-index-certification-marks-first-analysis-and-open-rating-systems-886ba3acf559\u001b[0m\n",
      "\u001b[32m2024-04-30 21:08:20.497\u001b[0m | \u001b[34m\u001b[1mDEBUG   \u001b[0m | \u001b[36mdesci_sense.shared_functions.parsers.multi_chain_parser\u001b[0m:\u001b[36mprocess_ref_post\u001b[0m:\u001b[36m173\u001b[0m - \u001b[34m\u001b[1mProcessing post with parsers: ['topics']\u001b[0m\n",
      "\u001b[32m2024-04-30 21:08:20.499\u001b[0m | \u001b[34m\u001b[1mDEBUG   \u001b[0m | \u001b[36mdesci_sense.shared_functions.parsers.multi_chain_parser\u001b[0m:\u001b[36mprocess_ref_post\u001b[0m:\u001b[36m175\u001b[0m - \u001b[34m\u001b[1mInstantiating prompts...\u001b[0m\n",
      "\u001b[32m2024-04-30 21:08:20.501\u001b[0m | \u001b[34m\u001b[1mDEBUG   \u001b[0m | \u001b[36mdesci_sense.shared_functions.parsers.multi_chain_parser\u001b[0m:\u001b[36mprocess_ref_post\u001b[0m:\u001b[36m180\u001b[0m - \u001b[34m\u001b[1mInvoking parallel chain...\u001b[0m\n"
     ]
    },
    {
     "name": "stdout",
     "output_type": "stream",
     "text": [
      "221\n"
     ]
    },
    {
     "name": "stderr",
     "output_type": "stream",
     "text": [
      "\u001b[32m2024-04-30 21:08:24.482\u001b[0m | \u001b[34m\u001b[1mDEBUG   \u001b[0m | \u001b[36mdesci_sense.shared_functions.web_extractors.citoid\u001b[0m:\u001b[36mfetch_citation\u001b[0m:\u001b[36m54\u001b[0m - \u001b[34m\u001b[1mfetching citoid data for: https://medium.com/@charles.adjovu/thoughts-on-the-legal-implications-of-web3-for-business-structures-intellectual-property-and-b4246990b499\u001b[0m\n",
      "\u001b[32m2024-04-30 21:08:25.968\u001b[0m | \u001b[34m\u001b[1mDEBUG   \u001b[0m | \u001b[36mdesci_sense.shared_functions.parsers.multi_chain_parser\u001b[0m:\u001b[36mprocess_ref_post\u001b[0m:\u001b[36m173\u001b[0m - \u001b[34m\u001b[1mProcessing post with parsers: ['topics']\u001b[0m\n",
      "\u001b[32m2024-04-30 21:08:25.970\u001b[0m | \u001b[34m\u001b[1mDEBUG   \u001b[0m | \u001b[36mdesci_sense.shared_functions.parsers.multi_chain_parser\u001b[0m:\u001b[36mprocess_ref_post\u001b[0m:\u001b[36m175\u001b[0m - \u001b[34m\u001b[1mInstantiating prompts...\u001b[0m\n",
      "\u001b[32m2024-04-30 21:08:25.972\u001b[0m | \u001b[34m\u001b[1mDEBUG   \u001b[0m | \u001b[36mdesci_sense.shared_functions.parsers.multi_chain_parser\u001b[0m:\u001b[36mprocess_ref_post\u001b[0m:\u001b[36m180\u001b[0m - \u001b[34m\u001b[1mInvoking parallel chain...\u001b[0m\n"
     ]
    },
    {
     "name": "stdout",
     "output_type": "stream",
     "text": [
      "222\n"
     ]
    },
    {
     "name": "stderr",
     "output_type": "stream",
     "text": [
      "\u001b[32m2024-04-30 21:08:31.488\u001b[0m | \u001b[34m\u001b[1mDEBUG   \u001b[0m | \u001b[36mdesci_sense.shared_functions.web_extractors.citoid\u001b[0m:\u001b[36mfetch_citation\u001b[0m:\u001b[36m54\u001b[0m - \u001b[34m\u001b[1mfetching citoid data for: https://medium.com/@charles.adjovu/previews-of-the-observatorys-tools-people-and-glossary-tables-2c9482c9bc43\u001b[0m\n",
      "\u001b[32m2024-04-30 21:08:32.620\u001b[0m | \u001b[34m\u001b[1mDEBUG   \u001b[0m | \u001b[36mdesci_sense.shared_functions.parsers.multi_chain_parser\u001b[0m:\u001b[36mprocess_ref_post\u001b[0m:\u001b[36m173\u001b[0m - \u001b[34m\u001b[1mProcessing post with parsers: ['topics']\u001b[0m\n",
      "\u001b[32m2024-04-30 21:08:32.621\u001b[0m | \u001b[34m\u001b[1mDEBUG   \u001b[0m | \u001b[36mdesci_sense.shared_functions.parsers.multi_chain_parser\u001b[0m:\u001b[36mprocess_ref_post\u001b[0m:\u001b[36m175\u001b[0m - \u001b[34m\u001b[1mInstantiating prompts...\u001b[0m\n",
      "\u001b[32m2024-04-30 21:08:32.621\u001b[0m | \u001b[34m\u001b[1mDEBUG   \u001b[0m | \u001b[36mdesci_sense.shared_functions.parsers.multi_chain_parser\u001b[0m:\u001b[36mprocess_ref_post\u001b[0m:\u001b[36m180\u001b[0m - \u001b[34m\u001b[1mInvoking parallel chain...\u001b[0m\n"
     ]
    },
    {
     "name": "stdout",
     "output_type": "stream",
     "text": [
      "223\n"
     ]
    },
    {
     "name": "stderr",
     "output_type": "stream",
     "text": [
      "\u001b[32m2024-04-30 21:08:54.406\u001b[0m | \u001b[34m\u001b[1mDEBUG   \u001b[0m | \u001b[36mdesci_sense.shared_functions.web_extractors.citoid\u001b[0m:\u001b[36mfetch_citation\u001b[0m:\u001b[36m54\u001b[0m - \u001b[34m\u001b[1mfetching citoid data for: https://airtable.com/invite/l?inviteId=invhkYwsNRXQrax5G&inviteToken=b47a876853f003[%E2%80%A6]d650637e3f801436de00d56801d76fd02599fd7c86218\u001b[0m\n",
      "\u001b[32m2024-04-30 21:08:55.434\u001b[0m | \u001b[34m\u001b[1mDEBUG   \u001b[0m | \u001b[36mdesci_sense.shared_functions.parsers.multi_chain_parser\u001b[0m:\u001b[36mprocess_ref_post\u001b[0m:\u001b[36m173\u001b[0m - \u001b[34m\u001b[1mProcessing post with parsers: ['topics']\u001b[0m\n",
      "\u001b[32m2024-04-30 21:08:55.434\u001b[0m | \u001b[34m\u001b[1mDEBUG   \u001b[0m | \u001b[36mdesci_sense.shared_functions.parsers.multi_chain_parser\u001b[0m:\u001b[36mprocess_ref_post\u001b[0m:\u001b[36m175\u001b[0m - \u001b[34m\u001b[1mInstantiating prompts...\u001b[0m\n",
      "\u001b[32m2024-04-30 21:08:55.436\u001b[0m | \u001b[34m\u001b[1mDEBUG   \u001b[0m | \u001b[36mdesci_sense.shared_functions.parsers.multi_chain_parser\u001b[0m:\u001b[36mprocess_ref_post\u001b[0m:\u001b[36m180\u001b[0m - \u001b[34m\u001b[1mInvoking parallel chain...\u001b[0m\n"
     ]
    },
    {
     "name": "stdout",
     "output_type": "stream",
     "text": [
      "224\n"
     ]
    },
    {
     "name": "stderr",
     "output_type": "stream",
     "text": [
      "\u001b[32m2024-04-30 21:08:58.865\u001b[0m | \u001b[34m\u001b[1mDEBUG   \u001b[0m | \u001b[36mdesci_sense.shared_functions.web_extractors.citoid\u001b[0m:\u001b[36mfetch_citation\u001b[0m:\u001b[36m54\u001b[0m - \u001b[34m\u001b[1mfetching citoid data for: https://quizizz.com/join?gc=58809249\u001b[0m\n",
      "\u001b[32m2024-04-30 21:08:59.325\u001b[0m | \u001b[34m\u001b[1mDEBUG   \u001b[0m | \u001b[36mdesci_sense.shared_functions.parsers.multi_chain_parser\u001b[0m:\u001b[36mprocess_ref_post\u001b[0m:\u001b[36m173\u001b[0m - \u001b[34m\u001b[1mProcessing post with parsers: ['topics']\u001b[0m\n",
      "\u001b[32m2024-04-30 21:08:59.327\u001b[0m | \u001b[34m\u001b[1mDEBUG   \u001b[0m | \u001b[36mdesci_sense.shared_functions.parsers.multi_chain_parser\u001b[0m:\u001b[36mprocess_ref_post\u001b[0m:\u001b[36m175\u001b[0m - \u001b[34m\u001b[1mInstantiating prompts...\u001b[0m\n",
      "\u001b[32m2024-04-30 21:08:59.328\u001b[0m | \u001b[34m\u001b[1mDEBUG   \u001b[0m | \u001b[36mdesci_sense.shared_functions.parsers.multi_chain_parser\u001b[0m:\u001b[36mprocess_ref_post\u001b[0m:\u001b[36m180\u001b[0m - \u001b[34m\u001b[1mInvoking parallel chain...\u001b[0m\n"
     ]
    },
    {
     "name": "stdout",
     "output_type": "stream",
     "text": [
      "225\n"
     ]
    },
    {
     "name": "stderr",
     "output_type": "stream",
     "text": [
      "\u001b[32m2024-04-30 21:09:03.343\u001b[0m | \u001b[34m\u001b[1mDEBUG   \u001b[0m | \u001b[36mdesci_sense.shared_functions.web_extractors.citoid\u001b[0m:\u001b[36mfetch_citation\u001b[0m:\u001b[36m54\u001b[0m - \u001b[34m\u001b[1mfetching citoid data for: https://medium.com/digital-cooperative-research/connecting-socio-technical-ecosystems-how-to-connect-web-3-0-and-platform-cooperatives-cd550df27d33?source=user_profile---------1----------------------------\u001b[0m\n",
      "\u001b[32m2024-04-30 21:09:04.982\u001b[0m | \u001b[34m\u001b[1mDEBUG   \u001b[0m | \u001b[36mdesci_sense.shared_functions.parsers.multi_chain_parser\u001b[0m:\u001b[36mprocess_ref_post\u001b[0m:\u001b[36m173\u001b[0m - \u001b[34m\u001b[1mProcessing post with parsers: ['topics']\u001b[0m\n",
      "\u001b[32m2024-04-30 21:09:04.984\u001b[0m | \u001b[34m\u001b[1mDEBUG   \u001b[0m | \u001b[36mdesci_sense.shared_functions.parsers.multi_chain_parser\u001b[0m:\u001b[36mprocess_ref_post\u001b[0m:\u001b[36m175\u001b[0m - \u001b[34m\u001b[1mInstantiating prompts...\u001b[0m\n",
      "\u001b[32m2024-04-30 21:09:04.986\u001b[0m | \u001b[34m\u001b[1mDEBUG   \u001b[0m | \u001b[36mdesci_sense.shared_functions.parsers.multi_chain_parser\u001b[0m:\u001b[36mprocess_ref_post\u001b[0m:\u001b[36m180\u001b[0m - \u001b[34m\u001b[1mInvoking parallel chain...\u001b[0m\n"
     ]
    },
    {
     "name": "stdout",
     "output_type": "stream",
     "text": [
      "226\n"
     ]
    },
    {
     "name": "stderr",
     "output_type": "stream",
     "text": [
      "\u001b[32m2024-04-30 21:09:08.834\u001b[0m | \u001b[34m\u001b[1mDEBUG   \u001b[0m | \u001b[36mdesci_sense.shared_functions.web_extractors.citoid\u001b[0m:\u001b[36mfetch_citation\u001b[0m:\u001b[36m54\u001b[0m - \u001b[34m\u001b[1mfetching citoid data for: https://quizlet.com/_aipss1?i=1z8al7&x=1jqt\u001b[0m\n",
      "\u001b[32m2024-04-30 21:09:08.976\u001b[0m | \u001b[34m\u001b[1mDEBUG   \u001b[0m | \u001b[36mdesci_sense.shared_functions.parsers.multi_chain_parser\u001b[0m:\u001b[36mprocess_ref_post\u001b[0m:\u001b[36m173\u001b[0m - \u001b[34m\u001b[1mProcessing post with parsers: ['topics']\u001b[0m\n",
      "\u001b[32m2024-04-30 21:09:08.976\u001b[0m | \u001b[34m\u001b[1mDEBUG   \u001b[0m | \u001b[36mdesci_sense.shared_functions.parsers.multi_chain_parser\u001b[0m:\u001b[36mprocess_ref_post\u001b[0m:\u001b[36m175\u001b[0m - \u001b[34m\u001b[1mInstantiating prompts...\u001b[0m\n",
      "\u001b[32m2024-04-30 21:09:08.977\u001b[0m | \u001b[34m\u001b[1mDEBUG   \u001b[0m | \u001b[36mdesci_sense.shared_functions.parsers.multi_chain_parser\u001b[0m:\u001b[36mprocess_ref_post\u001b[0m:\u001b[36m180\u001b[0m - \u001b[34m\u001b[1mInvoking parallel chain...\u001b[0m\n",
      "\u001b[32m2024-04-30 21:09:14.922\u001b[0m | \u001b[34m\u001b[1mDEBUG   \u001b[0m | \u001b[36mdesci_sense.shared_functions.parsers.multi_chain_parser\u001b[0m:\u001b[36mprocess_ref_post\u001b[0m:\u001b[36m173\u001b[0m - \u001b[34m\u001b[1mProcessing post with parsers: ['topics']\u001b[0m\n",
      "\u001b[32m2024-04-30 21:09:14.923\u001b[0m | \u001b[34m\u001b[1mDEBUG   \u001b[0m | \u001b[36mdesci_sense.shared_functions.parsers.multi_chain_parser\u001b[0m:\u001b[36mprocess_ref_post\u001b[0m:\u001b[36m175\u001b[0m - \u001b[34m\u001b[1mInstantiating prompts...\u001b[0m\n",
      "\u001b[32m2024-04-30 21:09:14.924\u001b[0m | \u001b[34m\u001b[1mDEBUG   \u001b[0m | \u001b[36mdesci_sense.shared_functions.parsers.multi_chain_parser\u001b[0m:\u001b[36mprocess_ref_post\u001b[0m:\u001b[36m180\u001b[0m - \u001b[34m\u001b[1mInvoking parallel chain...\u001b[0m\n"
     ]
    },
    {
     "name": "stdout",
     "output_type": "stream",
     "text": [
      "227\n"
     ]
    },
    {
     "name": "stderr",
     "output_type": "stream",
     "text": [
      "\u001b[32m2024-04-30 21:09:18.398\u001b[0m | \u001b[34m\u001b[1mDEBUG   \u001b[0m | \u001b[36mdesci_sense.shared_functions.parsers.multi_chain_parser\u001b[0m:\u001b[36mprocess_ref_post\u001b[0m:\u001b[36m173\u001b[0m - \u001b[34m\u001b[1mProcessing post with parsers: ['topics']\u001b[0m\n",
      "\u001b[32m2024-04-30 21:09:18.399\u001b[0m | \u001b[34m\u001b[1mDEBUG   \u001b[0m | \u001b[36mdesci_sense.shared_functions.parsers.multi_chain_parser\u001b[0m:\u001b[36mprocess_ref_post\u001b[0m:\u001b[36m175\u001b[0m - \u001b[34m\u001b[1mInstantiating prompts...\u001b[0m\n",
      "\u001b[32m2024-04-30 21:09:18.400\u001b[0m | \u001b[34m\u001b[1mDEBUG   \u001b[0m | \u001b[36mdesci_sense.shared_functions.parsers.multi_chain_parser\u001b[0m:\u001b[36mprocess_ref_post\u001b[0m:\u001b[36m180\u001b[0m - \u001b[34m\u001b[1mInvoking parallel chain...\u001b[0m\n"
     ]
    },
    {
     "name": "stdout",
     "output_type": "stream",
     "text": [
      "228\n"
     ]
    },
    {
     "name": "stderr",
     "output_type": "stream",
     "text": [
      "\u001b[32m2024-04-30 21:09:21.890\u001b[0m | \u001b[34m\u001b[1mDEBUG   \u001b[0m | \u001b[36mdesci_sense.shared_functions.parsers.multi_chain_parser\u001b[0m:\u001b[36mprocess_ref_post\u001b[0m:\u001b[36m173\u001b[0m - \u001b[34m\u001b[1mProcessing post with parsers: ['topics']\u001b[0m\n",
      "\u001b[32m2024-04-30 21:09:21.892\u001b[0m | \u001b[34m\u001b[1mDEBUG   \u001b[0m | \u001b[36mdesci_sense.shared_functions.parsers.multi_chain_parser\u001b[0m:\u001b[36mprocess_ref_post\u001b[0m:\u001b[36m175\u001b[0m - \u001b[34m\u001b[1mInstantiating prompts...\u001b[0m\n",
      "\u001b[32m2024-04-30 21:09:21.892\u001b[0m | \u001b[34m\u001b[1mDEBUG   \u001b[0m | \u001b[36mdesci_sense.shared_functions.parsers.multi_chain_parser\u001b[0m:\u001b[36mprocess_ref_post\u001b[0m:\u001b[36m180\u001b[0m - \u001b[34m\u001b[1mInvoking parallel chain...\u001b[0m\n"
     ]
    },
    {
     "name": "stdout",
     "output_type": "stream",
     "text": [
      "229\n",
      "230\n"
     ]
    },
    {
     "name": "stderr",
     "output_type": "stream",
     "text": [
      "\u001b[32m2024-04-30 21:09:25.471\u001b[0m | \u001b[34m\u001b[1mDEBUG   \u001b[0m | \u001b[36mdesci_sense.shared_functions.web_extractors.citoid\u001b[0m:\u001b[36mfetch_citation\u001b[0m:\u001b[36m54\u001b[0m - \u001b[34m\u001b[1mfetching citoid data for: https://twitter.com/EugeneVinitsky/status/1780249042720604459/photo/1\u001b[0m\n",
      "\u001b[32m2024-04-30 21:09:25.726\u001b[0m | \u001b[34m\u001b[1mDEBUG   \u001b[0m | \u001b[36mdesci_sense.shared_functions.parsers.multi_chain_parser\u001b[0m:\u001b[36mprocess_ref_post\u001b[0m:\u001b[36m173\u001b[0m - \u001b[34m\u001b[1mProcessing post with parsers: ['topics']\u001b[0m\n",
      "\u001b[32m2024-04-30 21:09:25.728\u001b[0m | \u001b[34m\u001b[1mDEBUG   \u001b[0m | \u001b[36mdesci_sense.shared_functions.parsers.multi_chain_parser\u001b[0m:\u001b[36mprocess_ref_post\u001b[0m:\u001b[36m175\u001b[0m - \u001b[34m\u001b[1mInstantiating prompts...\u001b[0m\n",
      "\u001b[32m2024-04-30 21:09:25.730\u001b[0m | \u001b[34m\u001b[1mDEBUG   \u001b[0m | \u001b[36mdesci_sense.shared_functions.parsers.multi_chain_parser\u001b[0m:\u001b[36mprocess_ref_post\u001b[0m:\u001b[36m180\u001b[0m - \u001b[34m\u001b[1mInvoking parallel chain...\u001b[0m\n",
      "\u001b[32m2024-04-30 21:09:29.360\u001b[0m | \u001b[34m\u001b[1mDEBUG   \u001b[0m | \u001b[36mdesci_sense.shared_functions.parsers.multi_chain_parser\u001b[0m:\u001b[36mprocess_ref_post\u001b[0m:\u001b[36m173\u001b[0m - \u001b[34m\u001b[1mProcessing post with parsers: ['topics']\u001b[0m\n",
      "\u001b[32m2024-04-30 21:09:29.362\u001b[0m | \u001b[34m\u001b[1mDEBUG   \u001b[0m | \u001b[36mdesci_sense.shared_functions.parsers.multi_chain_parser\u001b[0m:\u001b[36mprocess_ref_post\u001b[0m:\u001b[36m175\u001b[0m - \u001b[34m\u001b[1mInstantiating prompts...\u001b[0m\n",
      "\u001b[32m2024-04-30 21:09:29.363\u001b[0m | \u001b[34m\u001b[1mDEBUG   \u001b[0m | \u001b[36mdesci_sense.shared_functions.parsers.multi_chain_parser\u001b[0m:\u001b[36mprocess_ref_post\u001b[0m:\u001b[36m180\u001b[0m - \u001b[34m\u001b[1mInvoking parallel chain...\u001b[0m\n"
     ]
    },
    {
     "name": "stdout",
     "output_type": "stream",
     "text": [
      "231\n"
     ]
    },
    {
     "name": "stderr",
     "output_type": "stream",
     "text": [
      "\u001b[32m2024-04-30 21:09:33.099\u001b[0m | \u001b[34m\u001b[1mDEBUG   \u001b[0m | \u001b[36mdesci_sense.shared_functions.parsers.multi_chain_parser\u001b[0m:\u001b[36mprocess_ref_post\u001b[0m:\u001b[36m173\u001b[0m - \u001b[34m\u001b[1mProcessing post with parsers: ['topics']\u001b[0m\n",
      "\u001b[32m2024-04-30 21:09:33.100\u001b[0m | \u001b[34m\u001b[1mDEBUG   \u001b[0m | \u001b[36mdesci_sense.shared_functions.parsers.multi_chain_parser\u001b[0m:\u001b[36mprocess_ref_post\u001b[0m:\u001b[36m175\u001b[0m - \u001b[34m\u001b[1mInstantiating prompts...\u001b[0m\n",
      "\u001b[32m2024-04-30 21:09:33.101\u001b[0m | \u001b[34m\u001b[1mDEBUG   \u001b[0m | \u001b[36mdesci_sense.shared_functions.parsers.multi_chain_parser\u001b[0m:\u001b[36mprocess_ref_post\u001b[0m:\u001b[36m180\u001b[0m - \u001b[34m\u001b[1mInvoking parallel chain...\u001b[0m\n"
     ]
    },
    {
     "name": "stdout",
     "output_type": "stream",
     "text": [
      "232\n"
     ]
    },
    {
     "name": "stderr",
     "output_type": "stream",
     "text": [
      "\u001b[32m2024-04-30 21:09:36.633\u001b[0m | \u001b[34m\u001b[1mDEBUG   \u001b[0m | \u001b[36mdesci_sense.shared_functions.parsers.multi_chain_parser\u001b[0m:\u001b[36mprocess_ref_post\u001b[0m:\u001b[36m173\u001b[0m - \u001b[34m\u001b[1mProcessing post with parsers: ['topics']\u001b[0m\n",
      "\u001b[32m2024-04-30 21:09:36.634\u001b[0m | \u001b[34m\u001b[1mDEBUG   \u001b[0m | \u001b[36mdesci_sense.shared_functions.parsers.multi_chain_parser\u001b[0m:\u001b[36mprocess_ref_post\u001b[0m:\u001b[36m175\u001b[0m - \u001b[34m\u001b[1mInstantiating prompts...\u001b[0m\n",
      "\u001b[32m2024-04-30 21:09:36.635\u001b[0m | \u001b[34m\u001b[1mDEBUG   \u001b[0m | \u001b[36mdesci_sense.shared_functions.parsers.multi_chain_parser\u001b[0m:\u001b[36mprocess_ref_post\u001b[0m:\u001b[36m180\u001b[0m - \u001b[34m\u001b[1mInvoking parallel chain...\u001b[0m\n"
     ]
    },
    {
     "name": "stdout",
     "output_type": "stream",
     "text": [
      "233\n",
      "234\n"
     ]
    },
    {
     "name": "stderr",
     "output_type": "stream",
     "text": [
      "\u001b[32m2024-04-30 21:09:40.147\u001b[0m | \u001b[34m\u001b[1mDEBUG   \u001b[0m | \u001b[36mdesci_sense.shared_functions.web_extractors.citoid\u001b[0m:\u001b[36mfetch_citation\u001b[0m:\u001b[36m54\u001b[0m - \u001b[34m\u001b[1mfetching citoid data for: https://twitter.com/mcbeukman/status/1779853227846213773\u001b[0m\n",
      "\u001b[32m2024-04-30 21:09:40.366\u001b[0m | \u001b[34m\u001b[1mDEBUG   \u001b[0m | \u001b[36mdesci_sense.shared_functions.parsers.multi_chain_parser\u001b[0m:\u001b[36mprocess_ref_post\u001b[0m:\u001b[36m173\u001b[0m - \u001b[34m\u001b[1mProcessing post with parsers: ['topics']\u001b[0m\n",
      "\u001b[32m2024-04-30 21:09:40.367\u001b[0m | \u001b[34m\u001b[1mDEBUG   \u001b[0m | \u001b[36mdesci_sense.shared_functions.parsers.multi_chain_parser\u001b[0m:\u001b[36mprocess_ref_post\u001b[0m:\u001b[36m175\u001b[0m - \u001b[34m\u001b[1mInstantiating prompts...\u001b[0m\n",
      "\u001b[32m2024-04-30 21:09:40.369\u001b[0m | \u001b[34m\u001b[1mDEBUG   \u001b[0m | \u001b[36mdesci_sense.shared_functions.parsers.multi_chain_parser\u001b[0m:\u001b[36mprocess_ref_post\u001b[0m:\u001b[36m180\u001b[0m - \u001b[34m\u001b[1mInvoking parallel chain...\u001b[0m\n",
      "\u001b[32m2024-04-30 21:09:44.349\u001b[0m | \u001b[34m\u001b[1mDEBUG   \u001b[0m | \u001b[36mdesci_sense.shared_functions.parsers.multi_chain_parser\u001b[0m:\u001b[36mprocess_ref_post\u001b[0m:\u001b[36m173\u001b[0m - \u001b[34m\u001b[1mProcessing post with parsers: ['topics']\u001b[0m\n",
      "\u001b[32m2024-04-30 21:09:44.349\u001b[0m | \u001b[34m\u001b[1mDEBUG   \u001b[0m | \u001b[36mdesci_sense.shared_functions.parsers.multi_chain_parser\u001b[0m:\u001b[36mprocess_ref_post\u001b[0m:\u001b[36m175\u001b[0m - \u001b[34m\u001b[1mInstantiating prompts...\u001b[0m\n",
      "\u001b[32m2024-04-30 21:09:44.350\u001b[0m | \u001b[34m\u001b[1mDEBUG   \u001b[0m | \u001b[36mdesci_sense.shared_functions.parsers.multi_chain_parser\u001b[0m:\u001b[36mprocess_ref_post\u001b[0m:\u001b[36m180\u001b[0m - \u001b[34m\u001b[1mInvoking parallel chain...\u001b[0m\n"
     ]
    },
    {
     "name": "stdout",
     "output_type": "stream",
     "text": [
      "235\n"
     ]
    },
    {
     "name": "stderr",
     "output_type": "stream",
     "text": [
      "\u001b[32m2024-04-30 21:09:47.272\u001b[0m | \u001b[34m\u001b[1mDEBUG   \u001b[0m | \u001b[36mdesci_sense.shared_functions.parsers.multi_chain_parser\u001b[0m:\u001b[36mprocess_ref_post\u001b[0m:\u001b[36m173\u001b[0m - \u001b[34m\u001b[1mProcessing post with parsers: ['topics']\u001b[0m\n",
      "\u001b[32m2024-04-30 21:09:47.273\u001b[0m | \u001b[34m\u001b[1mDEBUG   \u001b[0m | \u001b[36mdesci_sense.shared_functions.parsers.multi_chain_parser\u001b[0m:\u001b[36mprocess_ref_post\u001b[0m:\u001b[36m175\u001b[0m - \u001b[34m\u001b[1mInstantiating prompts...\u001b[0m\n",
      "\u001b[32m2024-04-30 21:09:47.274\u001b[0m | \u001b[34m\u001b[1mDEBUG   \u001b[0m | \u001b[36mdesci_sense.shared_functions.parsers.multi_chain_parser\u001b[0m:\u001b[36mprocess_ref_post\u001b[0m:\u001b[36m180\u001b[0m - \u001b[34m\u001b[1mInvoking parallel chain...\u001b[0m\n"
     ]
    },
    {
     "name": "stdout",
     "output_type": "stream",
     "text": [
      "236\n"
     ]
    },
    {
     "name": "stderr",
     "output_type": "stream",
     "text": [
      "\u001b[32m2024-04-30 21:09:50.566\u001b[0m | \u001b[34m\u001b[1mDEBUG   \u001b[0m | \u001b[36mdesci_sense.shared_functions.parsers.multi_chain_parser\u001b[0m:\u001b[36mprocess_ref_post\u001b[0m:\u001b[36m173\u001b[0m - \u001b[34m\u001b[1mProcessing post with parsers: ['topics']\u001b[0m\n",
      "\u001b[32m2024-04-30 21:09:50.567\u001b[0m | \u001b[34m\u001b[1mDEBUG   \u001b[0m | \u001b[36mdesci_sense.shared_functions.parsers.multi_chain_parser\u001b[0m:\u001b[36mprocess_ref_post\u001b[0m:\u001b[36m175\u001b[0m - \u001b[34m\u001b[1mInstantiating prompts...\u001b[0m\n",
      "\u001b[32m2024-04-30 21:09:50.568\u001b[0m | \u001b[34m\u001b[1mDEBUG   \u001b[0m | \u001b[36mdesci_sense.shared_functions.parsers.multi_chain_parser\u001b[0m:\u001b[36mprocess_ref_post\u001b[0m:\u001b[36m180\u001b[0m - \u001b[34m\u001b[1mInvoking parallel chain...\u001b[0m\n"
     ]
    },
    {
     "name": "stdout",
     "output_type": "stream",
     "text": [
      "237\n",
      "238\n"
     ]
    },
    {
     "name": "stderr",
     "output_type": "stream",
     "text": [
      "\u001b[32m2024-04-30 21:09:54.855\u001b[0m | \u001b[34m\u001b[1mDEBUG   \u001b[0m | \u001b[36mdesci_sense.shared_functions.web_extractors.citoid\u001b[0m:\u001b[36mfetch_citation\u001b[0m:\u001b[36m54\u001b[0m - \u001b[34m\u001b[1mfetching citoid data for: https://www.youtube.com/watch?v=xZ69KEg7ccU\u001b[0m\n",
      "\u001b[32m2024-04-30 21:09:56.901\u001b[0m | \u001b[34m\u001b[1mDEBUG   \u001b[0m | \u001b[36mdesci_sense.shared_functions.parsers.multi_chain_parser\u001b[0m:\u001b[36mprocess_ref_post\u001b[0m:\u001b[36m173\u001b[0m - \u001b[34m\u001b[1mProcessing post with parsers: ['topics']\u001b[0m\n",
      "\u001b[32m2024-04-30 21:09:56.902\u001b[0m | \u001b[34m\u001b[1mDEBUG   \u001b[0m | \u001b[36mdesci_sense.shared_functions.parsers.multi_chain_parser\u001b[0m:\u001b[36mprocess_ref_post\u001b[0m:\u001b[36m175\u001b[0m - \u001b[34m\u001b[1mInstantiating prompts...\u001b[0m\n",
      "\u001b[32m2024-04-30 21:09:56.904\u001b[0m | \u001b[34m\u001b[1mDEBUG   \u001b[0m | \u001b[36mdesci_sense.shared_functions.parsers.multi_chain_parser\u001b[0m:\u001b[36mprocess_ref_post\u001b[0m:\u001b[36m180\u001b[0m - \u001b[34m\u001b[1mInvoking parallel chain...\u001b[0m\n"
     ]
    },
    {
     "name": "stdout",
     "output_type": "stream",
     "text": [
      "239\n"
     ]
    },
    {
     "name": "stderr",
     "output_type": "stream",
     "text": [
      "\u001b[32m2024-04-30 21:10:00.060\u001b[0m | \u001b[34m\u001b[1mDEBUG   \u001b[0m | \u001b[36mdesci_sense.shared_functions.web_extractors.citoid\u001b[0m:\u001b[36mfetch_citation\u001b[0m:\u001b[36m54\u001b[0m - \u001b[34m\u001b[1mfetching citoid data for: https://twitter.com/thegautamkamath/status/1778580754785550819\u001b[0m\n",
      "\u001b[32m2024-04-30 21:10:00.285\u001b[0m | \u001b[34m\u001b[1mDEBUG   \u001b[0m | \u001b[36mdesci_sense.shared_functions.parsers.multi_chain_parser\u001b[0m:\u001b[36mprocess_ref_post\u001b[0m:\u001b[36m173\u001b[0m - \u001b[34m\u001b[1mProcessing post with parsers: ['topics']\u001b[0m\n",
      "\u001b[32m2024-04-30 21:10:00.287\u001b[0m | \u001b[34m\u001b[1mDEBUG   \u001b[0m | \u001b[36mdesci_sense.shared_functions.parsers.multi_chain_parser\u001b[0m:\u001b[36mprocess_ref_post\u001b[0m:\u001b[36m175\u001b[0m - \u001b[34m\u001b[1mInstantiating prompts...\u001b[0m\n",
      "\u001b[32m2024-04-30 21:10:00.289\u001b[0m | \u001b[34m\u001b[1mDEBUG   \u001b[0m | \u001b[36mdesci_sense.shared_functions.parsers.multi_chain_parser\u001b[0m:\u001b[36mprocess_ref_post\u001b[0m:\u001b[36m180\u001b[0m - \u001b[34m\u001b[1mInvoking parallel chain...\u001b[0m\n",
      "\u001b[32m2024-04-30 21:10:03.160\u001b[0m | \u001b[34m\u001b[1mDEBUG   \u001b[0m | \u001b[36mdesci_sense.shared_functions.parsers.multi_chain_parser\u001b[0m:\u001b[36mprocess_ref_post\u001b[0m:\u001b[36m173\u001b[0m - \u001b[34m\u001b[1mProcessing post with parsers: ['topics']\u001b[0m\n",
      "\u001b[32m2024-04-30 21:10:03.161\u001b[0m | \u001b[34m\u001b[1mDEBUG   \u001b[0m | \u001b[36mdesci_sense.shared_functions.parsers.multi_chain_parser\u001b[0m:\u001b[36mprocess_ref_post\u001b[0m:\u001b[36m175\u001b[0m - \u001b[34m\u001b[1mInstantiating prompts...\u001b[0m\n",
      "\u001b[32m2024-04-30 21:10:03.162\u001b[0m | \u001b[34m\u001b[1mDEBUG   \u001b[0m | \u001b[36mdesci_sense.shared_functions.parsers.multi_chain_parser\u001b[0m:\u001b[36mprocess_ref_post\u001b[0m:\u001b[36m180\u001b[0m - \u001b[34m\u001b[1mInvoking parallel chain...\u001b[0m\n"
     ]
    },
    {
     "name": "stdout",
     "output_type": "stream",
     "text": [
      "240\n",
      "241\n"
     ]
    },
    {
     "name": "stderr",
     "output_type": "stream",
     "text": [
      "\u001b[32m2024-04-30 21:10:07.153\u001b[0m | \u001b[34m\u001b[1mDEBUG   \u001b[0m | \u001b[36mdesci_sense.shared_functions.web_extractors.citoid\u001b[0m:\u001b[36mfetch_citation\u001b[0m:\u001b[36m54\u001b[0m - \u001b[34m\u001b[1mfetching citoid data for: https://iclr-blogposts.github.io/2024/blog/the-n-implementation-details-of-rlhf-with-ppo/\u001b[0m\n",
      "\u001b[32m2024-04-30 21:10:07.659\u001b[0m | \u001b[34m\u001b[1mDEBUG   \u001b[0m | \u001b[36mdesci_sense.shared_functions.parsers.multi_chain_parser\u001b[0m:\u001b[36mprocess_ref_post\u001b[0m:\u001b[36m173\u001b[0m - \u001b[34m\u001b[1mProcessing post with parsers: ['topics']\u001b[0m\n",
      "\u001b[32m2024-04-30 21:10:07.660\u001b[0m | \u001b[34m\u001b[1mDEBUG   \u001b[0m | \u001b[36mdesci_sense.shared_functions.parsers.multi_chain_parser\u001b[0m:\u001b[36mprocess_ref_post\u001b[0m:\u001b[36m175\u001b[0m - \u001b[34m\u001b[1mInstantiating prompts...\u001b[0m\n",
      "\u001b[32m2024-04-30 21:10:07.662\u001b[0m | \u001b[34m\u001b[1mDEBUG   \u001b[0m | \u001b[36mdesci_sense.shared_functions.parsers.multi_chain_parser\u001b[0m:\u001b[36mprocess_ref_post\u001b[0m:\u001b[36m180\u001b[0m - \u001b[34m\u001b[1mInvoking parallel chain...\u001b[0m\n"
     ]
    },
    {
     "name": "stdout",
     "output_type": "stream",
     "text": [
      "242\n"
     ]
    },
    {
     "name": "stderr",
     "output_type": "stream",
     "text": [
      "\u001b[32m2024-04-30 21:10:12.715\u001b[0m | \u001b[34m\u001b[1mDEBUG   \u001b[0m | \u001b[36mdesci_sense.shared_functions.web_extractors.citoid\u001b[0m:\u001b[36mfetch_citation\u001b[0m:\u001b[36m54\u001b[0m - \u001b[34m\u001b[1mfetching citoid data for: https://twitter.com/EugeneVinitsky/status/1777069781083889745/photo/1\u001b[0m\n",
      "\u001b[32m2024-04-30 21:10:12.960\u001b[0m | \u001b[34m\u001b[1mDEBUG   \u001b[0m | \u001b[36mdesci_sense.shared_functions.parsers.multi_chain_parser\u001b[0m:\u001b[36mprocess_ref_post\u001b[0m:\u001b[36m173\u001b[0m - \u001b[34m\u001b[1mProcessing post with parsers: ['topics']\u001b[0m\n",
      "\u001b[32m2024-04-30 21:10:12.961\u001b[0m | \u001b[34m\u001b[1mDEBUG   \u001b[0m | \u001b[36mdesci_sense.shared_functions.parsers.multi_chain_parser\u001b[0m:\u001b[36mprocess_ref_post\u001b[0m:\u001b[36m175\u001b[0m - \u001b[34m\u001b[1mInstantiating prompts...\u001b[0m\n",
      "\u001b[32m2024-04-30 21:10:12.963\u001b[0m | \u001b[34m\u001b[1mDEBUG   \u001b[0m | \u001b[36mdesci_sense.shared_functions.parsers.multi_chain_parser\u001b[0m:\u001b[36mprocess_ref_post\u001b[0m:\u001b[36m180\u001b[0m - \u001b[34m\u001b[1mInvoking parallel chain...\u001b[0m\n"
     ]
    },
    {
     "name": "stdout",
     "output_type": "stream",
     "text": [
      "243\n"
     ]
    },
    {
     "name": "stderr",
     "output_type": "stream",
     "text": [
      "\u001b[32m2024-04-30 21:10:16.663\u001b[0m | \u001b[34m\u001b[1mDEBUG   \u001b[0m | \u001b[36mdesci_sense.shared_functions.web_extractors.citoid\u001b[0m:\u001b[36mfetch_citation\u001b[0m:\u001b[36m54\u001b[0m - \u001b[34m\u001b[1mfetching citoid data for: https://suno.com/song/ee467d00-5813-4a74-9792-c9ae4a09d344\u001b[0m\n",
      "\u001b[32m2024-04-30 21:10:17.587\u001b[0m | \u001b[34m\u001b[1mDEBUG   \u001b[0m | \u001b[36mdesci_sense.shared_functions.parsers.multi_chain_parser\u001b[0m:\u001b[36mprocess_ref_post\u001b[0m:\u001b[36m173\u001b[0m - \u001b[34m\u001b[1mProcessing post with parsers: ['topics']\u001b[0m\n",
      "\u001b[32m2024-04-30 21:10:17.589\u001b[0m | \u001b[34m\u001b[1mDEBUG   \u001b[0m | \u001b[36mdesci_sense.shared_functions.parsers.multi_chain_parser\u001b[0m:\u001b[36mprocess_ref_post\u001b[0m:\u001b[36m175\u001b[0m - \u001b[34m\u001b[1mInstantiating prompts...\u001b[0m\n",
      "\u001b[32m2024-04-30 21:10:17.591\u001b[0m | \u001b[34m\u001b[1mDEBUG   \u001b[0m | \u001b[36mdesci_sense.shared_functions.parsers.multi_chain_parser\u001b[0m:\u001b[36mprocess_ref_post\u001b[0m:\u001b[36m180\u001b[0m - \u001b[34m\u001b[1mInvoking parallel chain...\u001b[0m\n"
     ]
    },
    {
     "name": "stdout",
     "output_type": "stream",
     "text": [
      "244\n"
     ]
    },
    {
     "name": "stderr",
     "output_type": "stream",
     "text": [
      "\u001b[32m2024-04-30 21:10:20.514\u001b[0m | \u001b[34m\u001b[1mDEBUG   \u001b[0m | \u001b[36mdesci_sense.shared_functions.web_extractors.citoid\u001b[0m:\u001b[36mfetch_citation_async\u001b[0m:\u001b[36m20\u001b[0m - \u001b[34m\u001b[1mtarget_url=https://twitter.com/rdesh26/status/1775524403490508992\u001b[0m\n",
      "\u001b[32m2024-04-30 21:10:20.519\u001b[0m | \u001b[34m\u001b[1mDEBUG   \u001b[0m | \u001b[36mdesci_sense.shared_functions.web_extractors.citoid\u001b[0m:\u001b[36mfetch_citation_async\u001b[0m:\u001b[36m20\u001b[0m - \u001b[34m\u001b[1mtarget_url=https://twitter.com/EugeneVinitsky/status/1776911191224230112/photo/1\u001b[0m\n",
      "\u001b[32m2024-04-30 21:10:20.776\u001b[0m | \u001b[34m\u001b[1mDEBUG   \u001b[0m | \u001b[36mdesci_sense.shared_functions.parsers.multi_chain_parser\u001b[0m:\u001b[36mprocess_ref_post\u001b[0m:\u001b[36m173\u001b[0m - \u001b[34m\u001b[1mProcessing post with parsers: ['topics']\u001b[0m\n",
      "\u001b[32m2024-04-30 21:10:20.777\u001b[0m | \u001b[34m\u001b[1mDEBUG   \u001b[0m | \u001b[36mdesci_sense.shared_functions.parsers.multi_chain_parser\u001b[0m:\u001b[36mprocess_ref_post\u001b[0m:\u001b[36m175\u001b[0m - \u001b[34m\u001b[1mInstantiating prompts...\u001b[0m\n",
      "\u001b[32m2024-04-30 21:10:20.778\u001b[0m | \u001b[34m\u001b[1mDEBUG   \u001b[0m | \u001b[36mdesci_sense.shared_functions.parsers.multi_chain_parser\u001b[0m:\u001b[36mprocess_ref_post\u001b[0m:\u001b[36m180\u001b[0m - \u001b[34m\u001b[1mInvoking parallel chain...\u001b[0m\n",
      "\u001b[32m2024-04-30 21:10:24.878\u001b[0m | \u001b[34m\u001b[1mDEBUG   \u001b[0m | \u001b[36mdesci_sense.shared_functions.parsers.multi_chain_parser\u001b[0m:\u001b[36mprocess_ref_post\u001b[0m:\u001b[36m173\u001b[0m - \u001b[34m\u001b[1mProcessing post with parsers: ['topics']\u001b[0m\n",
      "\u001b[32m2024-04-30 21:10:24.879\u001b[0m | \u001b[34m\u001b[1mDEBUG   \u001b[0m | \u001b[36mdesci_sense.shared_functions.parsers.multi_chain_parser\u001b[0m:\u001b[36mprocess_ref_post\u001b[0m:\u001b[36m175\u001b[0m - \u001b[34m\u001b[1mInstantiating prompts...\u001b[0m\n",
      "\u001b[32m2024-04-30 21:10:24.881\u001b[0m | \u001b[34m\u001b[1mDEBUG   \u001b[0m | \u001b[36mdesci_sense.shared_functions.parsers.multi_chain_parser\u001b[0m:\u001b[36mprocess_ref_post\u001b[0m:\u001b[36m180\u001b[0m - \u001b[34m\u001b[1mInvoking parallel chain...\u001b[0m\n"
     ]
    },
    {
     "name": "stdout",
     "output_type": "stream",
     "text": [
      "245\n"
     ]
    },
    {
     "name": "stderr",
     "output_type": "stream",
     "text": [
      "\u001b[32m2024-04-30 21:10:27.119\u001b[0m | \u001b[34m\u001b[1mDEBUG   \u001b[0m | \u001b[36mdesci_sense.shared_functions.parsers.multi_chain_parser\u001b[0m:\u001b[36mprocess_ref_post\u001b[0m:\u001b[36m173\u001b[0m - \u001b[34m\u001b[1mProcessing post with parsers: ['topics']\u001b[0m\n",
      "\u001b[32m2024-04-30 21:10:27.120\u001b[0m | \u001b[34m\u001b[1mDEBUG   \u001b[0m | \u001b[36mdesci_sense.shared_functions.parsers.multi_chain_parser\u001b[0m:\u001b[36mprocess_ref_post\u001b[0m:\u001b[36m175\u001b[0m - \u001b[34m\u001b[1mInstantiating prompts...\u001b[0m\n",
      "\u001b[32m2024-04-30 21:10:27.121\u001b[0m | \u001b[34m\u001b[1mDEBUG   \u001b[0m | \u001b[36mdesci_sense.shared_functions.parsers.multi_chain_parser\u001b[0m:\u001b[36mprocess_ref_post\u001b[0m:\u001b[36m180\u001b[0m - \u001b[34m\u001b[1mInvoking parallel chain...\u001b[0m\n"
     ]
    },
    {
     "name": "stdout",
     "output_type": "stream",
     "text": [
      "246\n"
     ]
    },
    {
     "name": "stderr",
     "output_type": "stream",
     "text": [
      "\u001b[32m2024-04-30 21:10:31.160\u001b[0m | \u001b[34m\u001b[1mDEBUG   \u001b[0m | \u001b[36mdesci_sense.shared_functions.parsers.multi_chain_parser\u001b[0m:\u001b[36mprocess_ref_post\u001b[0m:\u001b[36m173\u001b[0m - \u001b[34m\u001b[1mProcessing post with parsers: ['topics']\u001b[0m\n",
      "\u001b[32m2024-04-30 21:10:31.161\u001b[0m | \u001b[34m\u001b[1mDEBUG   \u001b[0m | \u001b[36mdesci_sense.shared_functions.parsers.multi_chain_parser\u001b[0m:\u001b[36mprocess_ref_post\u001b[0m:\u001b[36m175\u001b[0m - \u001b[34m\u001b[1mInstantiating prompts...\u001b[0m\n",
      "\u001b[32m2024-04-30 21:10:31.162\u001b[0m | \u001b[34m\u001b[1mDEBUG   \u001b[0m | \u001b[36mdesci_sense.shared_functions.parsers.multi_chain_parser\u001b[0m:\u001b[36mprocess_ref_post\u001b[0m:\u001b[36m180\u001b[0m - \u001b[34m\u001b[1mInvoking parallel chain...\u001b[0m\n"
     ]
    },
    {
     "name": "stdout",
     "output_type": "stream",
     "text": [
      "247\n",
      "248\n"
     ]
    },
    {
     "name": "stderr",
     "output_type": "stream",
     "text": [
      "\u001b[32m2024-04-30 21:10:36.027\u001b[0m | \u001b[34m\u001b[1mDEBUG   \u001b[0m | \u001b[36mdesci_sense.shared_functions.web_extractors.citoid\u001b[0m:\u001b[36mfetch_citation\u001b[0m:\u001b[36m54\u001b[0m - \u001b[34m\u001b[1mfetching citoid data for: https://twitter.com/tafm_rlc/status/1775330698691478005\u001b[0m\n",
      "\u001b[32m2024-04-30 21:10:36.323\u001b[0m | \u001b[34m\u001b[1mDEBUG   \u001b[0m | \u001b[36mdesci_sense.shared_functions.parsers.multi_chain_parser\u001b[0m:\u001b[36mprocess_ref_post\u001b[0m:\u001b[36m173\u001b[0m - \u001b[34m\u001b[1mProcessing post with parsers: ['topics']\u001b[0m\n",
      "\u001b[32m2024-04-30 21:10:36.325\u001b[0m | \u001b[34m\u001b[1mDEBUG   \u001b[0m | \u001b[36mdesci_sense.shared_functions.parsers.multi_chain_parser\u001b[0m:\u001b[36mprocess_ref_post\u001b[0m:\u001b[36m175\u001b[0m - \u001b[34m\u001b[1mInstantiating prompts...\u001b[0m\n",
      "\u001b[32m2024-04-30 21:10:36.326\u001b[0m | \u001b[34m\u001b[1mDEBUG   \u001b[0m | \u001b[36mdesci_sense.shared_functions.parsers.multi_chain_parser\u001b[0m:\u001b[36mprocess_ref_post\u001b[0m:\u001b[36m180\u001b[0m - \u001b[34m\u001b[1mInvoking parallel chain...\u001b[0m\n"
     ]
    },
    {
     "name": "stdout",
     "output_type": "stream",
     "text": [
      "249\n"
     ]
    },
    {
     "name": "stderr",
     "output_type": "stream",
     "text": [
      "\u001b[32m2024-04-30 21:10:39.995\u001b[0m | \u001b[34m\u001b[1mDEBUG   \u001b[0m | \u001b[36mdesci_sense.shared_functions.web_extractors.citoid\u001b[0m:\u001b[36mfetch_citation\u001b[0m:\u001b[36m54\u001b[0m - \u001b[34m\u001b[1mfetching citoid data for: https://twitter.com/DeployableRL/status/1775717885182439674\u001b[0m\n",
      "\u001b[32m2024-04-30 21:10:40.209\u001b[0m | \u001b[34m\u001b[1mDEBUG   \u001b[0m | \u001b[36mdesci_sense.shared_functions.parsers.multi_chain_parser\u001b[0m:\u001b[36mprocess_ref_post\u001b[0m:\u001b[36m173\u001b[0m - \u001b[34m\u001b[1mProcessing post with parsers: ['topics']\u001b[0m\n",
      "\u001b[32m2024-04-30 21:10:40.210\u001b[0m | \u001b[34m\u001b[1mDEBUG   \u001b[0m | \u001b[36mdesci_sense.shared_functions.parsers.multi_chain_parser\u001b[0m:\u001b[36mprocess_ref_post\u001b[0m:\u001b[36m175\u001b[0m - \u001b[34m\u001b[1mInstantiating prompts...\u001b[0m\n",
      "\u001b[32m2024-04-30 21:10:40.211\u001b[0m | \u001b[34m\u001b[1mDEBUG   \u001b[0m | \u001b[36mdesci_sense.shared_functions.parsers.multi_chain_parser\u001b[0m:\u001b[36mprocess_ref_post\u001b[0m:\u001b[36m180\u001b[0m - \u001b[34m\u001b[1mInvoking parallel chain...\u001b[0m\n",
      "\u001b[32m2024-04-30 21:10:43.099\u001b[0m | \u001b[34m\u001b[1mDEBUG   \u001b[0m | \u001b[36mdesci_sense.shared_functions.parsers.multi_chain_parser\u001b[0m:\u001b[36mprocess_ref_post\u001b[0m:\u001b[36m173\u001b[0m - \u001b[34m\u001b[1mProcessing post with parsers: ['topics']\u001b[0m\n",
      "\u001b[32m2024-04-30 21:10:43.101\u001b[0m | \u001b[34m\u001b[1mDEBUG   \u001b[0m | \u001b[36mdesci_sense.shared_functions.parsers.multi_chain_parser\u001b[0m:\u001b[36mprocess_ref_post\u001b[0m:\u001b[36m175\u001b[0m - \u001b[34m\u001b[1mInstantiating prompts...\u001b[0m\n",
      "\u001b[32m2024-04-30 21:10:43.102\u001b[0m | \u001b[34m\u001b[1mDEBUG   \u001b[0m | \u001b[36mdesci_sense.shared_functions.parsers.multi_chain_parser\u001b[0m:\u001b[36mprocess_ref_post\u001b[0m:\u001b[36m180\u001b[0m - \u001b[34m\u001b[1mInvoking parallel chain...\u001b[0m\n"
     ]
    },
    {
     "name": "stdout",
     "output_type": "stream",
     "text": [
      "250\n",
      "251\n"
     ]
    },
    {
     "name": "stderr",
     "output_type": "stream",
     "text": [
      "\u001b[32m2024-04-30 21:10:45.694\u001b[0m | \u001b[34m\u001b[1mDEBUG   \u001b[0m | \u001b[36mdesci_sense.shared_functions.web_extractors.citoid\u001b[0m:\u001b[36mfetch_citation\u001b[0m:\u001b[36m54\u001b[0m - \u001b[34m\u001b[1mfetching citoid data for: https://twitter.com/EugeneVinitsky/status/1775872660070920635/photo/1\u001b[0m\n",
      "\u001b[32m2024-04-30 21:10:45.910\u001b[0m | \u001b[34m\u001b[1mDEBUG   \u001b[0m | \u001b[36mdesci_sense.shared_functions.parsers.multi_chain_parser\u001b[0m:\u001b[36mprocess_ref_post\u001b[0m:\u001b[36m173\u001b[0m - \u001b[34m\u001b[1mProcessing post with parsers: ['topics']\u001b[0m\n",
      "\u001b[32m2024-04-30 21:10:45.912\u001b[0m | \u001b[34m\u001b[1mDEBUG   \u001b[0m | \u001b[36mdesci_sense.shared_functions.parsers.multi_chain_parser\u001b[0m:\u001b[36mprocess_ref_post\u001b[0m:\u001b[36m175\u001b[0m - \u001b[34m\u001b[1mInstantiating prompts...\u001b[0m\n",
      "\u001b[32m2024-04-30 21:10:45.914\u001b[0m | \u001b[34m\u001b[1mDEBUG   \u001b[0m | \u001b[36mdesci_sense.shared_functions.parsers.multi_chain_parser\u001b[0m:\u001b[36mprocess_ref_post\u001b[0m:\u001b[36m180\u001b[0m - \u001b[34m\u001b[1mInvoking parallel chain...\u001b[0m\n"
     ]
    },
    {
     "name": "stdout",
     "output_type": "stream",
     "text": [
      "252\n"
     ]
    },
    {
     "name": "stderr",
     "output_type": "stream",
     "text": [
      "\u001b[32m2024-04-30 21:10:49.125\u001b[0m | \u001b[34m\u001b[1mDEBUG   \u001b[0m | \u001b[36mdesci_sense.shared_functions.web_extractors.citoid\u001b[0m:\u001b[36mfetch_citation\u001b[0m:\u001b[36m54\u001b[0m - \u001b[34m\u001b[1mfetching citoid data for: https://twitter.com/ic_arl/status/1775076718019055812\u001b[0m\n",
      "\u001b[32m2024-04-30 21:10:49.368\u001b[0m | \u001b[34m\u001b[1mDEBUG   \u001b[0m | \u001b[36mdesci_sense.shared_functions.parsers.multi_chain_parser\u001b[0m:\u001b[36mprocess_ref_post\u001b[0m:\u001b[36m173\u001b[0m - \u001b[34m\u001b[1mProcessing post with parsers: ['topics']\u001b[0m\n",
      "\u001b[32m2024-04-30 21:10:49.370\u001b[0m | \u001b[34m\u001b[1mDEBUG   \u001b[0m | \u001b[36mdesci_sense.shared_functions.parsers.multi_chain_parser\u001b[0m:\u001b[36mprocess_ref_post\u001b[0m:\u001b[36m175\u001b[0m - \u001b[34m\u001b[1mInstantiating prompts...\u001b[0m\n",
      "\u001b[32m2024-04-30 21:10:49.371\u001b[0m | \u001b[34m\u001b[1mDEBUG   \u001b[0m | \u001b[36mdesci_sense.shared_functions.parsers.multi_chain_parser\u001b[0m:\u001b[36mprocess_ref_post\u001b[0m:\u001b[36m180\u001b[0m - \u001b[34m\u001b[1mInvoking parallel chain...\u001b[0m\n"
     ]
    },
    {
     "name": "stdout",
     "output_type": "stream",
     "text": [
      "253\n"
     ]
    },
    {
     "name": "stderr",
     "output_type": "stream",
     "text": [
      "\u001b[32m2024-04-30 21:10:53.122\u001b[0m | \u001b[34m\u001b[1mDEBUG   \u001b[0m | \u001b[36mdesci_sense.shared_functions.web_extractors.citoid\u001b[0m:\u001b[36mfetch_citation\u001b[0m:\u001b[36m54\u001b[0m - \u001b[34m\u001b[1mfetching citoid data for: https://twitter.com/ICBINB_RLC/status/1773827038782390577\u001b[0m\n",
      "\u001b[32m2024-04-30 21:10:53.315\u001b[0m | \u001b[34m\u001b[1mDEBUG   \u001b[0m | \u001b[36mdesci_sense.shared_functions.parsers.multi_chain_parser\u001b[0m:\u001b[36mprocess_ref_post\u001b[0m:\u001b[36m173\u001b[0m - \u001b[34m\u001b[1mProcessing post with parsers: ['topics']\u001b[0m\n",
      "\u001b[32m2024-04-30 21:10:53.316\u001b[0m | \u001b[34m\u001b[1mDEBUG   \u001b[0m | \u001b[36mdesci_sense.shared_functions.parsers.multi_chain_parser\u001b[0m:\u001b[36mprocess_ref_post\u001b[0m:\u001b[36m175\u001b[0m - \u001b[34m\u001b[1mInstantiating prompts...\u001b[0m\n",
      "\u001b[32m2024-04-30 21:10:53.317\u001b[0m | \u001b[34m\u001b[1mDEBUG   \u001b[0m | \u001b[36mdesci_sense.shared_functions.parsers.multi_chain_parser\u001b[0m:\u001b[36mprocess_ref_post\u001b[0m:\u001b[36m180\u001b[0m - \u001b[34m\u001b[1mInvoking parallel chain...\u001b[0m\n"
     ]
    },
    {
     "name": "stdout",
     "output_type": "stream",
     "text": [
      "254\n"
     ]
    },
    {
     "name": "stderr",
     "output_type": "stream",
     "text": [
      "\u001b[32m2024-04-30 21:10:56.762\u001b[0m | \u001b[34m\u001b[1mDEBUG   \u001b[0m | \u001b[36mdesci_sense.shared_functions.web_extractors.citoid\u001b[0m:\u001b[36mfetch_citation\u001b[0m:\u001b[36m54\u001b[0m - \u001b[34m\u001b[1mfetching citoid data for: http://arxiv.org/pdf/2403.19648\u001b[0m\n",
      "\u001b[32m2024-04-30 21:11:03.579\u001b[0m | \u001b[34m\u001b[1mDEBUG   \u001b[0m | \u001b[36mdesci_sense.shared_functions.parsers.multi_chain_parser\u001b[0m:\u001b[36mprocess_ref_post\u001b[0m:\u001b[36m173\u001b[0m - \u001b[34m\u001b[1mProcessing post with parsers: ['topics']\u001b[0m\n",
      "\u001b[32m2024-04-30 21:11:03.585\u001b[0m | \u001b[34m\u001b[1mDEBUG   \u001b[0m | \u001b[36mdesci_sense.shared_functions.parsers.multi_chain_parser\u001b[0m:\u001b[36mprocess_ref_post\u001b[0m:\u001b[36m175\u001b[0m - \u001b[34m\u001b[1mInstantiating prompts...\u001b[0m\n",
      "\u001b[32m2024-04-30 21:11:03.587\u001b[0m | \u001b[34m\u001b[1mDEBUG   \u001b[0m | \u001b[36mdesci_sense.shared_functions.parsers.multi_chain_parser\u001b[0m:\u001b[36mprocess_ref_post\u001b[0m:\u001b[36m180\u001b[0m - \u001b[34m\u001b[1mInvoking parallel chain...\u001b[0m\n"
     ]
    },
    {
     "name": "stdout",
     "output_type": "stream",
     "text": [
      "255\n"
     ]
    },
    {
     "name": "stderr",
     "output_type": "stream",
     "text": [
      "\u001b[32m2024-04-30 21:11:08.124\u001b[0m | \u001b[34m\u001b[1mDEBUG   \u001b[0m | \u001b[36mdesci_sense.shared_functions.web_extractors.citoid\u001b[0m:\u001b[36mfetch_citation\u001b[0m:\u001b[36m54\u001b[0m - \u001b[34m\u001b[1mfetching citoid data for: https://usefulfictions.substack.com/p/how-to-be-more-agentic\u001b[0m\n",
      "\u001b[32m2024-04-30 21:11:08.505\u001b[0m | \u001b[34m\u001b[1mDEBUG   \u001b[0m | \u001b[36mdesci_sense.shared_functions.parsers.multi_chain_parser\u001b[0m:\u001b[36mprocess_ref_post\u001b[0m:\u001b[36m173\u001b[0m - \u001b[34m\u001b[1mProcessing post with parsers: ['topics']\u001b[0m\n",
      "\u001b[32m2024-04-30 21:11:08.506\u001b[0m | \u001b[34m\u001b[1mDEBUG   \u001b[0m | \u001b[36mdesci_sense.shared_functions.parsers.multi_chain_parser\u001b[0m:\u001b[36mprocess_ref_post\u001b[0m:\u001b[36m175\u001b[0m - \u001b[34m\u001b[1mInstantiating prompts...\u001b[0m\n",
      "\u001b[32m2024-04-30 21:11:08.507\u001b[0m | \u001b[34m\u001b[1mDEBUG   \u001b[0m | \u001b[36mdesci_sense.shared_functions.parsers.multi_chain_parser\u001b[0m:\u001b[36mprocess_ref_post\u001b[0m:\u001b[36m180\u001b[0m - \u001b[34m\u001b[1mInvoking parallel chain...\u001b[0m\n"
     ]
    },
    {
     "name": "stdout",
     "output_type": "stream",
     "text": [
      "256\n"
     ]
    },
    {
     "name": "stderr",
     "output_type": "stream",
     "text": [
      "\u001b[32m2024-04-30 21:11:13.139\u001b[0m | \u001b[34m\u001b[1mDEBUG   \u001b[0m | \u001b[36mdesci_sense.shared_functions.web_extractors.citoid\u001b[0m:\u001b[36mfetch_citation_async\u001b[0m:\u001b[36m20\u001b[0m - \u001b[34m\u001b[1mtarget_url=https://research.arcadiascience.com/pub/dataset-amblyomma-americanum-predicted-genes/release/1\u001b[0m\n",
      "\u001b[32m2024-04-30 21:11:13.148\u001b[0m | \u001b[34m\u001b[1mDEBUG   \u001b[0m | \u001b[36mdesci_sense.shared_functions.web_extractors.citoid\u001b[0m:\u001b[36mfetch_citation_async\u001b[0m:\u001b[36m20\u001b[0m - \u001b[34m\u001b[1mtarget_url=https://research.arcadiascience.com/ticks-molecular-discovery\u001b[0m\n",
      "\u001b[32m2024-04-30 21:11:14.445\u001b[0m | \u001b[34m\u001b[1mDEBUG   \u001b[0m | \u001b[36mdesci_sense.shared_functions.parsers.multi_chain_parser\u001b[0m:\u001b[36mprocess_ref_post\u001b[0m:\u001b[36m173\u001b[0m - \u001b[34m\u001b[1mProcessing post with parsers: ['topics']\u001b[0m\n",
      "\u001b[32m2024-04-30 21:11:14.465\u001b[0m | \u001b[34m\u001b[1mDEBUG   \u001b[0m | \u001b[36mdesci_sense.shared_functions.parsers.multi_chain_parser\u001b[0m:\u001b[36mprocess_ref_post\u001b[0m:\u001b[36m175\u001b[0m - \u001b[34m\u001b[1mInstantiating prompts...\u001b[0m\n",
      "\u001b[32m2024-04-30 21:11:14.476\u001b[0m | \u001b[34m\u001b[1mDEBUG   \u001b[0m | \u001b[36mdesci_sense.shared_functions.parsers.multi_chain_parser\u001b[0m:\u001b[36mprocess_ref_post\u001b[0m:\u001b[36m180\u001b[0m - \u001b[34m\u001b[1mInvoking parallel chain...\u001b[0m\n"
     ]
    },
    {
     "name": "stdout",
     "output_type": "stream",
     "text": [
      "257\n"
     ]
    },
    {
     "name": "stderr",
     "output_type": "stream",
     "text": [
      "\u001b[32m2024-04-30 21:11:18.359\u001b[0m | \u001b[34m\u001b[1mDEBUG   \u001b[0m | \u001b[36mdesci_sense.shared_functions.web_extractors.citoid\u001b[0m:\u001b[36mfetch_citation\u001b[0m:\u001b[36m54\u001b[0m - \u001b[34m\u001b[1mfetching citoid data for: https://research.arcadiascience.com/pub/data-set-transcriptome-proteome-amblyomma-americanum/release/3\u001b[0m\n",
      "\u001b[32m2024-04-30 21:11:23.316\u001b[0m | \u001b[34m\u001b[1mDEBUG   \u001b[0m | \u001b[36mdesci_sense.shared_functions.parsers.multi_chain_parser\u001b[0m:\u001b[36mprocess_ref_post\u001b[0m:\u001b[36m173\u001b[0m - \u001b[34m\u001b[1mProcessing post with parsers: ['topics']\u001b[0m\n",
      "\u001b[32m2024-04-30 21:11:23.330\u001b[0m | \u001b[34m\u001b[1mDEBUG   \u001b[0m | \u001b[36mdesci_sense.shared_functions.parsers.multi_chain_parser\u001b[0m:\u001b[36mprocess_ref_post\u001b[0m:\u001b[36m175\u001b[0m - \u001b[34m\u001b[1mInstantiating prompts...\u001b[0m\n",
      "\u001b[32m2024-04-30 21:11:23.334\u001b[0m | \u001b[34m\u001b[1mDEBUG   \u001b[0m | \u001b[36mdesci_sense.shared_functions.parsers.multi_chain_parser\u001b[0m:\u001b[36mprocess_ref_post\u001b[0m:\u001b[36m180\u001b[0m - \u001b[34m\u001b[1mInvoking parallel chain...\u001b[0m\n"
     ]
    },
    {
     "name": "stdout",
     "output_type": "stream",
     "text": [
      "258\n"
     ]
    },
    {
     "name": "stderr",
     "output_type": "stream",
     "text": [
      "\u001b[32m2024-04-30 21:11:26.998\u001b[0m | \u001b[34m\u001b[1mDEBUG   \u001b[0m | \u001b[36mdesci_sense.shared_functions.web_extractors.citoid\u001b[0m:\u001b[36mfetch_citation\u001b[0m:\u001b[36m54\u001b[0m - \u001b[34m\u001b[1mfetching citoid data for: https://twitter.com/seemaychou/status/1641818592902799360\u001b[0m\n",
      "\u001b[32m2024-04-30 21:11:27.206\u001b[0m | \u001b[34m\u001b[1mDEBUG   \u001b[0m | \u001b[36mdesci_sense.shared_functions.parsers.multi_chain_parser\u001b[0m:\u001b[36mprocess_ref_post\u001b[0m:\u001b[36m173\u001b[0m - \u001b[34m\u001b[1mProcessing post with parsers: ['topics']\u001b[0m\n",
      "\u001b[32m2024-04-30 21:11:27.207\u001b[0m | \u001b[34m\u001b[1mDEBUG   \u001b[0m | \u001b[36mdesci_sense.shared_functions.parsers.multi_chain_parser\u001b[0m:\u001b[36mprocess_ref_post\u001b[0m:\u001b[36m175\u001b[0m - \u001b[34m\u001b[1mInstantiating prompts...\u001b[0m\n",
      "\u001b[32m2024-04-30 21:11:27.208\u001b[0m | \u001b[34m\u001b[1mDEBUG   \u001b[0m | \u001b[36mdesci_sense.shared_functions.parsers.multi_chain_parser\u001b[0m:\u001b[36mprocess_ref_post\u001b[0m:\u001b[36m180\u001b[0m - \u001b[34m\u001b[1mInvoking parallel chain...\u001b[0m\n"
     ]
    },
    {
     "name": "stdout",
     "output_type": "stream",
     "text": [
      "259\n"
     ]
    },
    {
     "name": "stderr",
     "output_type": "stream",
     "text": [
      "\u001b[32m2024-04-30 21:11:29.762\u001b[0m | \u001b[34m\u001b[1mDEBUG   \u001b[0m | \u001b[36mdesci_sense.shared_functions.web_extractors.citoid\u001b[0m:\u001b[36mfetch_citation\u001b[0m:\u001b[36m54\u001b[0m - \u001b[34m\u001b[1mfetching citoid data for: https://twitter.com/lizilla93/status/1751799281961619955/photo/1\u001b[0m\n",
      "\u001b[32m2024-04-30 21:11:30.007\u001b[0m | \u001b[34m\u001b[1mDEBUG   \u001b[0m | \u001b[36mdesci_sense.shared_functions.parsers.multi_chain_parser\u001b[0m:\u001b[36mprocess_ref_post\u001b[0m:\u001b[36m173\u001b[0m - \u001b[34m\u001b[1mProcessing post with parsers: ['topics']\u001b[0m\n",
      "\u001b[32m2024-04-30 21:11:30.008\u001b[0m | \u001b[34m\u001b[1mDEBUG   \u001b[0m | \u001b[36mdesci_sense.shared_functions.parsers.multi_chain_parser\u001b[0m:\u001b[36mprocess_ref_post\u001b[0m:\u001b[36m175\u001b[0m - \u001b[34m\u001b[1mInstantiating prompts...\u001b[0m\n",
      "\u001b[32m2024-04-30 21:11:30.010\u001b[0m | \u001b[34m\u001b[1mDEBUG   \u001b[0m | \u001b[36mdesci_sense.shared_functions.parsers.multi_chain_parser\u001b[0m:\u001b[36mprocess_ref_post\u001b[0m:\u001b[36m180\u001b[0m - \u001b[34m\u001b[1mInvoking parallel chain...\u001b[0m\n",
      "\u001b[32m2024-04-30 21:11:33.481\u001b[0m | \u001b[34m\u001b[1mDEBUG   \u001b[0m | \u001b[36mdesci_sense.shared_functions.parsers.multi_chain_parser\u001b[0m:\u001b[36mprocess_ref_post\u001b[0m:\u001b[36m173\u001b[0m - \u001b[34m\u001b[1mProcessing post with parsers: ['topics']\u001b[0m\n",
      "\u001b[32m2024-04-30 21:11:33.484\u001b[0m | \u001b[34m\u001b[1mDEBUG   \u001b[0m | \u001b[36mdesci_sense.shared_functions.parsers.multi_chain_parser\u001b[0m:\u001b[36mprocess_ref_post\u001b[0m:\u001b[36m175\u001b[0m - \u001b[34m\u001b[1mInstantiating prompts...\u001b[0m\n",
      "\u001b[32m2024-04-30 21:11:33.486\u001b[0m | \u001b[34m\u001b[1mDEBUG   \u001b[0m | \u001b[36mdesci_sense.shared_functions.parsers.multi_chain_parser\u001b[0m:\u001b[36mprocess_ref_post\u001b[0m:\u001b[36m180\u001b[0m - \u001b[34m\u001b[1mInvoking parallel chain...\u001b[0m\n"
     ]
    },
    {
     "name": "stdout",
     "output_type": "stream",
     "text": [
      "260\n"
     ]
    },
    {
     "name": "stderr",
     "output_type": "stream",
     "text": [
      "\u001b[32m2024-04-30 21:11:36.067\u001b[0m | \u001b[34m\u001b[1mDEBUG   \u001b[0m | \u001b[36mdesci_sense.shared_functions.parsers.multi_chain_parser\u001b[0m:\u001b[36mprocess_ref_post\u001b[0m:\u001b[36m173\u001b[0m - \u001b[34m\u001b[1mProcessing post with parsers: ['topics']\u001b[0m\n",
      "\u001b[32m2024-04-30 21:11:36.069\u001b[0m | \u001b[34m\u001b[1mDEBUG   \u001b[0m | \u001b[36mdesci_sense.shared_functions.parsers.multi_chain_parser\u001b[0m:\u001b[36mprocess_ref_post\u001b[0m:\u001b[36m175\u001b[0m - \u001b[34m\u001b[1mInstantiating prompts...\u001b[0m\n",
      "\u001b[32m2024-04-30 21:11:36.071\u001b[0m | \u001b[34m\u001b[1mDEBUG   \u001b[0m | \u001b[36mdesci_sense.shared_functions.parsers.multi_chain_parser\u001b[0m:\u001b[36mprocess_ref_post\u001b[0m:\u001b[36m180\u001b[0m - \u001b[34m\u001b[1mInvoking parallel chain...\u001b[0m\n"
     ]
    },
    {
     "name": "stdout",
     "output_type": "stream",
     "text": [
      "261\n",
      "262\n"
     ]
    },
    {
     "name": "stderr",
     "output_type": "stream",
     "text": [
      "\u001b[32m2024-04-30 21:11:39.560\u001b[0m | \u001b[34m\u001b[1mDEBUG   \u001b[0m | \u001b[36mdesci_sense.shared_functions.web_extractors.citoid\u001b[0m:\u001b[36mfetch_citation\u001b[0m:\u001b[36m54\u001b[0m - \u001b[34m\u001b[1mfetching citoid data for: https://research.arcadiascience.com/pub/open-question-polyphosphate-discovery/release/2\u001b[0m\n",
      "\u001b[32m2024-04-30 21:11:40.790\u001b[0m | \u001b[34m\u001b[1mDEBUG   \u001b[0m | \u001b[36mdesci_sense.shared_functions.parsers.multi_chain_parser\u001b[0m:\u001b[36mprocess_ref_post\u001b[0m:\u001b[36m173\u001b[0m - \u001b[34m\u001b[1mProcessing post with parsers: ['topics']\u001b[0m\n",
      "\u001b[32m2024-04-30 21:11:40.791\u001b[0m | \u001b[34m\u001b[1mDEBUG   \u001b[0m | \u001b[36mdesci_sense.shared_functions.parsers.multi_chain_parser\u001b[0m:\u001b[36mprocess_ref_post\u001b[0m:\u001b[36m175\u001b[0m - \u001b[34m\u001b[1mInstantiating prompts...\u001b[0m\n",
      "\u001b[32m2024-04-30 21:11:40.792\u001b[0m | \u001b[34m\u001b[1mDEBUG   \u001b[0m | \u001b[36mdesci_sense.shared_functions.parsers.multi_chain_parser\u001b[0m:\u001b[36mprocess_ref_post\u001b[0m:\u001b[36m180\u001b[0m - \u001b[34m\u001b[1mInvoking parallel chain...\u001b[0m\n"
     ]
    },
    {
     "name": "stdout",
     "output_type": "stream",
     "text": [
      "263\n"
     ]
    },
    {
     "name": "stderr",
     "output_type": "stream",
     "text": [
      "\u001b[32m2024-04-30 21:11:45.575\u001b[0m | \u001b[34m\u001b[1mDEBUG   \u001b[0m | \u001b[36mdesci_sense.shared_functions.web_extractors.citoid\u001b[0m:\u001b[36mfetch_citation_async\u001b[0m:\u001b[36m20\u001b[0m - \u001b[34m\u001b[1mtarget_url=https://twitter.com/lizilla93/status/1711509619703767215\u001b[0m\n",
      "\u001b[32m2024-04-30 21:11:45.579\u001b[0m | \u001b[34m\u001b[1mDEBUG   \u001b[0m | \u001b[36mdesci_sense.shared_functions.web_extractors.citoid\u001b[0m:\u001b[36mfetch_citation_async\u001b[0m:\u001b[36m20\u001b[0m - \u001b[34m\u001b[1mtarget_url=https://research.arcadiascience.com/pub/open-question-polyphosphate-discovery/release/2\u001b[0m\n",
      "\u001b[32m2024-04-30 21:11:46.782\u001b[0m | \u001b[34m\u001b[1mDEBUG   \u001b[0m | \u001b[36mdesci_sense.shared_functions.parsers.multi_chain_parser\u001b[0m:\u001b[36mprocess_ref_post\u001b[0m:\u001b[36m173\u001b[0m - \u001b[34m\u001b[1mProcessing post with parsers: ['topics']\u001b[0m\n",
      "\u001b[32m2024-04-30 21:11:46.783\u001b[0m | \u001b[34m\u001b[1mDEBUG   \u001b[0m | \u001b[36mdesci_sense.shared_functions.parsers.multi_chain_parser\u001b[0m:\u001b[36mprocess_ref_post\u001b[0m:\u001b[36m175\u001b[0m - \u001b[34m\u001b[1mInstantiating prompts...\u001b[0m\n",
      "\u001b[32m2024-04-30 21:11:46.784\u001b[0m | \u001b[34m\u001b[1mDEBUG   \u001b[0m | \u001b[36mdesci_sense.shared_functions.parsers.multi_chain_parser\u001b[0m:\u001b[36mprocess_ref_post\u001b[0m:\u001b[36m180\u001b[0m - \u001b[34m\u001b[1mInvoking parallel chain...\u001b[0m\n"
     ]
    },
    {
     "name": "stdout",
     "output_type": "stream",
     "text": [
      "264\n"
     ]
    },
    {
     "name": "stderr",
     "output_type": "stream",
     "text": [
      "\u001b[32m2024-04-30 21:11:52.501\u001b[0m | \u001b[34m\u001b[1mDEBUG   \u001b[0m | \u001b[36mdesci_sense.shared_functions.web_extractors.citoid\u001b[0m:\u001b[36mfetch_citation_async\u001b[0m:\u001b[36m20\u001b[0m - \u001b[34m\u001b[1mtarget_url=https://twitter.com/lizilla93/status/1741717550046855200/photo/1\u001b[0m\n",
      "\u001b[32m2024-04-30 21:11:52.503\u001b[0m | \u001b[34m\u001b[1mDEBUG   \u001b[0m | \u001b[36mdesci_sense.shared_functions.web_extractors.citoid\u001b[0m:\u001b[36mfetch_citation_async\u001b[0m:\u001b[36m20\u001b[0m - \u001b[34m\u001b[1mtarget_url=https://twitter.com/kepano/status/1741122937229590790\u001b[0m\n",
      "\u001b[32m2024-04-30 21:11:52.705\u001b[0m | \u001b[34m\u001b[1mDEBUG   \u001b[0m | \u001b[36mdesci_sense.shared_functions.parsers.multi_chain_parser\u001b[0m:\u001b[36mprocess_ref_post\u001b[0m:\u001b[36m173\u001b[0m - \u001b[34m\u001b[1mProcessing post with parsers: ['topics']\u001b[0m\n",
      "\u001b[32m2024-04-30 21:11:52.706\u001b[0m | \u001b[34m\u001b[1mDEBUG   \u001b[0m | \u001b[36mdesci_sense.shared_functions.parsers.multi_chain_parser\u001b[0m:\u001b[36mprocess_ref_post\u001b[0m:\u001b[36m175\u001b[0m - \u001b[34m\u001b[1mInstantiating prompts...\u001b[0m\n",
      "\u001b[32m2024-04-30 21:11:52.709\u001b[0m | \u001b[34m\u001b[1mDEBUG   \u001b[0m | \u001b[36mdesci_sense.shared_functions.parsers.multi_chain_parser\u001b[0m:\u001b[36mprocess_ref_post\u001b[0m:\u001b[36m180\u001b[0m - \u001b[34m\u001b[1mInvoking parallel chain...\u001b[0m\n"
     ]
    },
    {
     "name": "stdout",
     "output_type": "stream",
     "text": [
      "265\n"
     ]
    },
    {
     "name": "stderr",
     "output_type": "stream",
     "text": [
      "\u001b[32m2024-04-30 21:12:00.137\u001b[0m | \u001b[34m\u001b[1mDEBUG   \u001b[0m | \u001b[36mdesci_sense.shared_functions.web_extractors.citoid\u001b[0m:\u001b[36mfetch_citation_async\u001b[0m:\u001b[36m20\u001b[0m - \u001b[34m\u001b[1mtarget_url=https://github.com/Arcadia-Science/2023-polyphosphate\u001b[0m\n",
      "\u001b[32m2024-04-30 21:12:00.140\u001b[0m | \u001b[34m\u001b[1mDEBUG   \u001b[0m | \u001b[36mdesci_sense.shared_functions.web_extractors.citoid\u001b[0m:\u001b[36mfetch_citation_async\u001b[0m:\u001b[36m20\u001b[0m - \u001b[34m\u001b[1mtarget_url=https://research.arcadiascience.com/pub/result-ppk1-homology/release/1\u001b[0m\n",
      "\u001b[32m2024-04-30 21:12:00.141\u001b[0m | \u001b[34m\u001b[1mDEBUG   \u001b[0m | \u001b[36mdesci_sense.shared_functions.web_extractors.citoid\u001b[0m:\u001b[36mfetch_citation_async\u001b[0m:\u001b[36m20\u001b[0m - \u001b[34m\u001b[1mtarget_url=https://zenodo.org/records/8412197\u001b[0m\n",
      "\u001b[32m2024-04-30 21:12:02.235\u001b[0m | \u001b[34m\u001b[1mDEBUG   \u001b[0m | \u001b[36mdesci_sense.shared_functions.parsers.multi_chain_parser\u001b[0m:\u001b[36mprocess_ref_post\u001b[0m:\u001b[36m173\u001b[0m - \u001b[34m\u001b[1mProcessing post with parsers: ['topics']\u001b[0m\n",
      "\u001b[32m2024-04-30 21:12:02.237\u001b[0m | \u001b[34m\u001b[1mDEBUG   \u001b[0m | \u001b[36mdesci_sense.shared_functions.parsers.multi_chain_parser\u001b[0m:\u001b[36mprocess_ref_post\u001b[0m:\u001b[36m175\u001b[0m - \u001b[34m\u001b[1mInstantiating prompts...\u001b[0m\n",
      "\u001b[32m2024-04-30 21:12:02.239\u001b[0m | \u001b[34m\u001b[1mDEBUG   \u001b[0m | \u001b[36mdesci_sense.shared_functions.parsers.multi_chain_parser\u001b[0m:\u001b[36mprocess_ref_post\u001b[0m:\u001b[36m180\u001b[0m - \u001b[34m\u001b[1mInvoking parallel chain...\u001b[0m\n"
     ]
    },
    {
     "name": "stdout",
     "output_type": "stream",
     "text": [
      "266\n"
     ]
    },
    {
     "name": "stderr",
     "output_type": "stream",
     "text": [
      "\u001b[32m2024-04-30 21:12:05.934\u001b[0m | \u001b[34m\u001b[1mDEBUG   \u001b[0m | \u001b[36mdesci_sense.shared_functions.web_extractors.citoid\u001b[0m:\u001b[36mfetch_citation_async\u001b[0m:\u001b[36m20\u001b[0m - \u001b[34m\u001b[1mtarget_url=https://research.arcadiascience.com/pub/resource-protein-cartography/release/5\u001b[0m\n",
      "\u001b[32m2024-04-30 21:12:05.936\u001b[0m | \u001b[34m\u001b[1mDEBUG   \u001b[0m | \u001b[36mdesci_sense.shared_functions.web_extractors.citoid\u001b[0m:\u001b[36mfetch_citation_async\u001b[0m:\u001b[36m20\u001b[0m - \u001b[34m\u001b[1mtarget_url=https://twitter.com/lizilla93/status/1711509627794534442/photo/1\u001b[0m\n",
      "\u001b[32m2024-04-30 21:12:07.663\u001b[0m | \u001b[34m\u001b[1mDEBUG   \u001b[0m | \u001b[36mdesci_sense.shared_functions.parsers.multi_chain_parser\u001b[0m:\u001b[36mprocess_ref_post\u001b[0m:\u001b[36m173\u001b[0m - \u001b[34m\u001b[1mProcessing post with parsers: ['topics']\u001b[0m\n",
      "\u001b[32m2024-04-30 21:12:07.666\u001b[0m | \u001b[34m\u001b[1mDEBUG   \u001b[0m | \u001b[36mdesci_sense.shared_functions.parsers.multi_chain_parser\u001b[0m:\u001b[36mprocess_ref_post\u001b[0m:\u001b[36m175\u001b[0m - \u001b[34m\u001b[1mInstantiating prompts...\u001b[0m\n",
      "\u001b[32m2024-04-30 21:12:07.667\u001b[0m | \u001b[34m\u001b[1mDEBUG   \u001b[0m | \u001b[36mdesci_sense.shared_functions.parsers.multi_chain_parser\u001b[0m:\u001b[36mprocess_ref_post\u001b[0m:\u001b[36m180\u001b[0m - \u001b[34m\u001b[1mInvoking parallel chain...\u001b[0m\n"
     ]
    },
    {
     "name": "stdout",
     "output_type": "stream",
     "text": [
      "267\n"
     ]
    },
    {
     "name": "stderr",
     "output_type": "stream",
     "text": [
      "\u001b[32m2024-04-30 21:12:10.684\u001b[0m | \u001b[34m\u001b[1mDEBUG   \u001b[0m | \u001b[36mdesci_sense.shared_functions.web_extractors.citoid\u001b[0m:\u001b[36mfetch_citation\u001b[0m:\u001b[36m54\u001b[0m - \u001b[34m\u001b[1mfetching citoid data for: https://research.arcadiascience.com/pub/result-ppk1-homology/release/1\u001b[0m\n",
      "\u001b[32m2024-04-30 21:12:12.071\u001b[0m | \u001b[34m\u001b[1mDEBUG   \u001b[0m | \u001b[36mdesci_sense.shared_functions.parsers.multi_chain_parser\u001b[0m:\u001b[36mprocess_ref_post\u001b[0m:\u001b[36m173\u001b[0m - \u001b[34m\u001b[1mProcessing post with parsers: ['topics']\u001b[0m\n",
      "\u001b[32m2024-04-30 21:12:12.073\u001b[0m | \u001b[34m\u001b[1mDEBUG   \u001b[0m | \u001b[36mdesci_sense.shared_functions.parsers.multi_chain_parser\u001b[0m:\u001b[36mprocess_ref_post\u001b[0m:\u001b[36m175\u001b[0m - \u001b[34m\u001b[1mInstantiating prompts...\u001b[0m\n",
      "\u001b[32m2024-04-30 21:12:12.075\u001b[0m | \u001b[34m\u001b[1mDEBUG   \u001b[0m | \u001b[36mdesci_sense.shared_functions.parsers.multi_chain_parser\u001b[0m:\u001b[36mprocess_ref_post\u001b[0m:\u001b[36m180\u001b[0m - \u001b[34m\u001b[1mInvoking parallel chain...\u001b[0m\n",
      "\u001b[32m2024-04-30 21:12:15.860\u001b[0m | \u001b[34m\u001b[1mDEBUG   \u001b[0m | \u001b[36mdesci_sense.shared_functions.parsers.multi_chain_parser\u001b[0m:\u001b[36mprocess_ref_post\u001b[0m:\u001b[36m173\u001b[0m - \u001b[34m\u001b[1mProcessing post with parsers: ['topics']\u001b[0m\n",
      "\u001b[32m2024-04-30 21:12:15.862\u001b[0m | \u001b[34m\u001b[1mDEBUG   \u001b[0m | \u001b[36mdesci_sense.shared_functions.parsers.multi_chain_parser\u001b[0m:\u001b[36mprocess_ref_post\u001b[0m:\u001b[36m175\u001b[0m - \u001b[34m\u001b[1mInstantiating prompts...\u001b[0m\n",
      "\u001b[32m2024-04-30 21:12:15.863\u001b[0m | \u001b[34m\u001b[1mDEBUG   \u001b[0m | \u001b[36mdesci_sense.shared_functions.parsers.multi_chain_parser\u001b[0m:\u001b[36mprocess_ref_post\u001b[0m:\u001b[36m180\u001b[0m - \u001b[34m\u001b[1mInvoking parallel chain...\u001b[0m\n"
     ]
    },
    {
     "name": "stdout",
     "output_type": "stream",
     "text": [
      "268\n"
     ]
    },
    {
     "name": "stderr",
     "output_type": "stream",
     "text": [
      "\u001b[32m2024-04-30 21:12:19.171\u001b[0m | \u001b[34m\u001b[1mDEBUG   \u001b[0m | \u001b[36mdesci_sense.shared_functions.parsers.multi_chain_parser\u001b[0m:\u001b[36mprocess_ref_post\u001b[0m:\u001b[36m173\u001b[0m - \u001b[34m\u001b[1mProcessing post with parsers: ['topics']\u001b[0m\n",
      "\u001b[32m2024-04-30 21:12:19.174\u001b[0m | \u001b[34m\u001b[1mDEBUG   \u001b[0m | \u001b[36mdesci_sense.shared_functions.parsers.multi_chain_parser\u001b[0m:\u001b[36mprocess_ref_post\u001b[0m:\u001b[36m175\u001b[0m - \u001b[34m\u001b[1mInstantiating prompts...\u001b[0m\n",
      "\u001b[32m2024-04-30 21:12:19.175\u001b[0m | \u001b[34m\u001b[1mDEBUG   \u001b[0m | \u001b[36mdesci_sense.shared_functions.parsers.multi_chain_parser\u001b[0m:\u001b[36mprocess_ref_post\u001b[0m:\u001b[36m180\u001b[0m - \u001b[34m\u001b[1mInvoking parallel chain...\u001b[0m\n"
     ]
    },
    {
     "name": "stdout",
     "output_type": "stream",
     "text": [
      "269\n"
     ]
    },
    {
     "name": "stderr",
     "output_type": "stream",
     "text": [
      "\u001b[32m2024-04-30 21:12:24.976\u001b[0m | \u001b[34m\u001b[1mDEBUG   \u001b[0m | \u001b[36mdesci_sense.shared_functions.parsers.multi_chain_parser\u001b[0m:\u001b[36mprocess_ref_post\u001b[0m:\u001b[36m173\u001b[0m - \u001b[34m\u001b[1mProcessing post with parsers: ['topics']\u001b[0m\n",
      "\u001b[32m2024-04-30 21:12:24.977\u001b[0m | \u001b[34m\u001b[1mDEBUG   \u001b[0m | \u001b[36mdesci_sense.shared_functions.parsers.multi_chain_parser\u001b[0m:\u001b[36mprocess_ref_post\u001b[0m:\u001b[36m175\u001b[0m - \u001b[34m\u001b[1mInstantiating prompts...\u001b[0m\n",
      "\u001b[32m2024-04-30 21:12:24.978\u001b[0m | \u001b[34m\u001b[1mDEBUG   \u001b[0m | \u001b[36mdesci_sense.shared_functions.parsers.multi_chain_parser\u001b[0m:\u001b[36mprocess_ref_post\u001b[0m:\u001b[36m180\u001b[0m - \u001b[34m\u001b[1mInvoking parallel chain...\u001b[0m\n"
     ]
    },
    {
     "name": "stdout",
     "output_type": "stream",
     "text": [
      "270\n",
      "271\n"
     ]
    },
    {
     "name": "stderr",
     "output_type": "stream",
     "text": [
      "\u001b[32m2024-04-30 21:12:29.015\u001b[0m | \u001b[34m\u001b[1mDEBUG   \u001b[0m | \u001b[36mdesci_sense.shared_functions.web_extractors.citoid\u001b[0m:\u001b[36mfetch_citation\u001b[0m:\u001b[36m54\u001b[0m - \u001b[34m\u001b[1mfetching citoid data for: https://www.conspicuouscognition.com/p/the-media-very-rarely-makes-things\u001b[0m\n",
      "\u001b[32m2024-04-30 21:12:30.191\u001b[0m | \u001b[34m\u001b[1mDEBUG   \u001b[0m | \u001b[36mdesci_sense.shared_functions.parsers.multi_chain_parser\u001b[0m:\u001b[36mprocess_ref_post\u001b[0m:\u001b[36m173\u001b[0m - \u001b[34m\u001b[1mProcessing post with parsers: ['topics']\u001b[0m\n",
      "\u001b[32m2024-04-30 21:12:30.192\u001b[0m | \u001b[34m\u001b[1mDEBUG   \u001b[0m | \u001b[36mdesci_sense.shared_functions.parsers.multi_chain_parser\u001b[0m:\u001b[36mprocess_ref_post\u001b[0m:\u001b[36m175\u001b[0m - \u001b[34m\u001b[1mInstantiating prompts...\u001b[0m\n",
      "\u001b[32m2024-04-30 21:12:30.193\u001b[0m | \u001b[34m\u001b[1mDEBUG   \u001b[0m | \u001b[36mdesci_sense.shared_functions.parsers.multi_chain_parser\u001b[0m:\u001b[36mprocess_ref_post\u001b[0m:\u001b[36m180\u001b[0m - \u001b[34m\u001b[1mInvoking parallel chain...\u001b[0m\n"
     ]
    },
    {
     "name": "stdout",
     "output_type": "stream",
     "text": [
      "272\n"
     ]
    },
    {
     "name": "stderr",
     "output_type": "stream",
     "text": [
      "\u001b[32m2024-04-30 21:12:32.322\u001b[0m | \u001b[34m\u001b[1mDEBUG   \u001b[0m | \u001b[36mdesci_sense.shared_functions.web_extractors.citoid\u001b[0m:\u001b[36mfetch_citation\u001b[0m:\u001b[36m54\u001b[0m - \u001b[34m\u001b[1mfetching citoid data for: https://www.conspicuouscognition.com/p/should-we-trust-misinformation-experts\u001b[0m\n",
      "\u001b[32m2024-04-30 21:12:33.004\u001b[0m | \u001b[34m\u001b[1mDEBUG   \u001b[0m | \u001b[36mdesci_sense.shared_functions.parsers.multi_chain_parser\u001b[0m:\u001b[36mprocess_ref_post\u001b[0m:\u001b[36m173\u001b[0m - \u001b[34m\u001b[1mProcessing post with parsers: ['topics']\u001b[0m\n",
      "\u001b[32m2024-04-30 21:12:33.005\u001b[0m | \u001b[34m\u001b[1mDEBUG   \u001b[0m | \u001b[36mdesci_sense.shared_functions.parsers.multi_chain_parser\u001b[0m:\u001b[36mprocess_ref_post\u001b[0m:\u001b[36m175\u001b[0m - \u001b[34m\u001b[1mInstantiating prompts...\u001b[0m\n",
      "\u001b[32m2024-04-30 21:12:33.005\u001b[0m | \u001b[34m\u001b[1mDEBUG   \u001b[0m | \u001b[36mdesci_sense.shared_functions.parsers.multi_chain_parser\u001b[0m:\u001b[36mprocess_ref_post\u001b[0m:\u001b[36m180\u001b[0m - \u001b[34m\u001b[1mInvoking parallel chain...\u001b[0m\n"
     ]
    },
    {
     "name": "stdout",
     "output_type": "stream",
     "text": [
      "273\n"
     ]
    },
    {
     "name": "stderr",
     "output_type": "stream",
     "text": [
      "\u001b[32m2024-04-30 21:12:35.977\u001b[0m | \u001b[34m\u001b[1mDEBUG   \u001b[0m | \u001b[36mdesci_sense.shared_functions.web_extractors.citoid\u001b[0m:\u001b[36mfetch_citation\u001b[0m:\u001b[36m54\u001b[0m - \u001b[34m\u001b[1mfetching citoid data for: https://unherd.com/2024/04/inside-the-disinformation-industry/\u001b[0m\n",
      "Python(26476) MallocStackLogging: can't turn off malloc stack logging because it was not enabled.\n",
      "Python(26477) MallocStackLogging: can't turn off malloc stack logging because it was not enabled.\n",
      "Python(26484) MallocStackLogging: can't turn off malloc stack logging because it was not enabled.\n",
      "Python(26502) MallocStackLogging: can't turn off malloc stack logging because it was not enabled.\n",
      "Python(26508) MallocStackLogging: can't turn off malloc stack logging because it was not enabled.\n",
      "Python(26513) MallocStackLogging: can't turn off malloc stack logging because it was not enabled.\n",
      "Python(26515) MallocStackLogging: can't turn off malloc stack logging because it was not enabled.\n",
      "Python(26518) MallocStackLogging: can't turn off malloc stack logging because it was not enabled.\n",
      "Python(26520) MallocStackLogging: can't turn off malloc stack logging because it was not enabled.\n",
      "\u001b[32m2024-04-30 21:13:17.329\u001b[0m | \u001b[34m\u001b[1mDEBUG   \u001b[0m | \u001b[36mdesci_sense.shared_functions.parsers.multi_chain_parser\u001b[0m:\u001b[36mprocess_ref_post\u001b[0m:\u001b[36m173\u001b[0m - \u001b[34m\u001b[1mProcessing post with parsers: ['topics']\u001b[0m\n",
      "\u001b[32m2024-04-30 21:13:17.349\u001b[0m | \u001b[34m\u001b[1mDEBUG   \u001b[0m | \u001b[36mdesci_sense.shared_functions.parsers.multi_chain_parser\u001b[0m:\u001b[36mprocess_ref_post\u001b[0m:\u001b[36m175\u001b[0m - \u001b[34m\u001b[1mInstantiating prompts...\u001b[0m\n",
      "\u001b[32m2024-04-30 21:13:17.357\u001b[0m | \u001b[34m\u001b[1mDEBUG   \u001b[0m | \u001b[36mdesci_sense.shared_functions.parsers.multi_chain_parser\u001b[0m:\u001b[36mprocess_ref_post\u001b[0m:\u001b[36m180\u001b[0m - \u001b[34m\u001b[1mInvoking parallel chain...\u001b[0m\n",
      "Python(26521) MallocStackLogging: can't turn off malloc stack logging because it was not enabled.\n",
      "Python(26523) MallocStackLogging: can't turn off malloc stack logging because it was not enabled.\n"
     ]
    },
    {
     "name": "stdout",
     "output_type": "stream",
     "text": [
      "274\n"
     ]
    },
    {
     "name": "stderr",
     "output_type": "stream",
     "text": [
      "\u001b[32m2024-04-30 21:13:22.107\u001b[0m | \u001b[34m\u001b[1mDEBUG   \u001b[0m | \u001b[36mdesci_sense.shared_functions.web_extractors.citoid\u001b[0m:\u001b[36mfetch_citation\u001b[0m:\u001b[36m54\u001b[0m - \u001b[34m\u001b[1mfetching citoid data for: https://twitter.com/enzoreds/status/1780240145171583187\u001b[0m\n",
      "\u001b[32m2024-04-30 21:13:22.360\u001b[0m | \u001b[34m\u001b[1mDEBUG   \u001b[0m | \u001b[36mdesci_sense.shared_functions.parsers.multi_chain_parser\u001b[0m:\u001b[36mprocess_ref_post\u001b[0m:\u001b[36m173\u001b[0m - \u001b[34m\u001b[1mProcessing post with parsers: ['topics']\u001b[0m\n",
      "\u001b[32m2024-04-30 21:13:22.361\u001b[0m | \u001b[34m\u001b[1mDEBUG   \u001b[0m | \u001b[36mdesci_sense.shared_functions.parsers.multi_chain_parser\u001b[0m:\u001b[36mprocess_ref_post\u001b[0m:\u001b[36m175\u001b[0m - \u001b[34m\u001b[1mInstantiating prompts...\u001b[0m\n",
      "\u001b[32m2024-04-30 21:13:22.362\u001b[0m | \u001b[34m\u001b[1mDEBUG   \u001b[0m | \u001b[36mdesci_sense.shared_functions.parsers.multi_chain_parser\u001b[0m:\u001b[36mprocess_ref_post\u001b[0m:\u001b[36m180\u001b[0m - \u001b[34m\u001b[1mInvoking parallel chain...\u001b[0m\n",
      "Python(26524) MallocStackLogging: can't turn off malloc stack logging because it was not enabled.\n"
     ]
    },
    {
     "name": "stdout",
     "output_type": "stream",
     "text": [
      "275\n"
     ]
    },
    {
     "name": "stderr",
     "output_type": "stream",
     "text": [
      "\u001b[32m2024-04-30 21:13:25.752\u001b[0m | \u001b[34m\u001b[1mDEBUG   \u001b[0m | \u001b[36mdesci_sense.shared_functions.web_extractors.citoid\u001b[0m:\u001b[36mfetch_citation\u001b[0m:\u001b[36m54\u001b[0m - \u001b[34m\u001b[1mfetching citoid data for: https://www.bbc.co.uk/news/world-europe-68826577\u001b[0m\n",
      "Python(26525) MallocStackLogging: can't turn off malloc stack logging because it was not enabled.\n",
      "\u001b[32m2024-04-30 21:13:26.306\u001b[0m | \u001b[34m\u001b[1mDEBUG   \u001b[0m | \u001b[36mdesci_sense.shared_functions.parsers.multi_chain_parser\u001b[0m:\u001b[36mprocess_ref_post\u001b[0m:\u001b[36m173\u001b[0m - \u001b[34m\u001b[1mProcessing post with parsers: ['topics']\u001b[0m\n",
      "\u001b[32m2024-04-30 21:13:26.307\u001b[0m | \u001b[34m\u001b[1mDEBUG   \u001b[0m | \u001b[36mdesci_sense.shared_functions.parsers.multi_chain_parser\u001b[0m:\u001b[36mprocess_ref_post\u001b[0m:\u001b[36m175\u001b[0m - \u001b[34m\u001b[1mInstantiating prompts...\u001b[0m\n",
      "\u001b[32m2024-04-30 21:13:26.308\u001b[0m | \u001b[34m\u001b[1mDEBUG   \u001b[0m | \u001b[36mdesci_sense.shared_functions.parsers.multi_chain_parser\u001b[0m:\u001b[36mprocess_ref_post\u001b[0m:\u001b[36m180\u001b[0m - \u001b[34m\u001b[1mInvoking parallel chain...\u001b[0m\n",
      "Python(26526) MallocStackLogging: can't turn off malloc stack logging because it was not enabled.\n"
     ]
    },
    {
     "name": "stdout",
     "output_type": "stream",
     "text": [
      "276\n"
     ]
    },
    {
     "name": "stderr",
     "output_type": "stream",
     "text": [
      "\u001b[32m2024-04-30 21:13:30.337\u001b[0m | \u001b[34m\u001b[1mDEBUG   \u001b[0m | \u001b[36mdesci_sense.shared_functions.web_extractors.citoid\u001b[0m:\u001b[36mfetch_citation_async\u001b[0m:\u001b[36m20\u001b[0m - \u001b[34m\u001b[1mtarget_url=https://www.conspicuouscognition.com/p/the-media-very-rarely-makes-things\u001b[0m\n",
      "\u001b[32m2024-04-30 21:13:30.342\u001b[0m | \u001b[34m\u001b[1mDEBUG   \u001b[0m | \u001b[36mdesci_sense.shared_functions.web_extractors.citoid\u001b[0m:\u001b[36mfetch_citation_async\u001b[0m:\u001b[36m20\u001b[0m - \u001b[34m\u001b[1mtarget_url=https://twitter.com/danwilliamsphil/status/1780185023246663711/photo/1\u001b[0m\n",
      "\u001b[32m2024-04-30 21:13:30.918\u001b[0m | \u001b[34m\u001b[1mDEBUG   \u001b[0m | \u001b[36mdesci_sense.shared_functions.parsers.multi_chain_parser\u001b[0m:\u001b[36mprocess_ref_post\u001b[0m:\u001b[36m173\u001b[0m - \u001b[34m\u001b[1mProcessing post with parsers: ['topics']\u001b[0m\n",
      "\u001b[32m2024-04-30 21:13:30.921\u001b[0m | \u001b[34m\u001b[1mDEBUG   \u001b[0m | \u001b[36mdesci_sense.shared_functions.parsers.multi_chain_parser\u001b[0m:\u001b[36mprocess_ref_post\u001b[0m:\u001b[36m175\u001b[0m - \u001b[34m\u001b[1mInstantiating prompts...\u001b[0m\n",
      "\u001b[32m2024-04-30 21:13:30.923\u001b[0m | \u001b[34m\u001b[1mDEBUG   \u001b[0m | \u001b[36mdesci_sense.shared_functions.parsers.multi_chain_parser\u001b[0m:\u001b[36mprocess_ref_post\u001b[0m:\u001b[36m180\u001b[0m - \u001b[34m\u001b[1mInvoking parallel chain...\u001b[0m\n",
      "Python(26527) MallocStackLogging: can't turn off malloc stack logging because it was not enabled.\n",
      "Python(26528) MallocStackLogging: can't turn off malloc stack logging because it was not enabled.\n"
     ]
    },
    {
     "name": "stdout",
     "output_type": "stream",
     "text": [
      "277\n"
     ]
    },
    {
     "name": "stderr",
     "output_type": "stream",
     "text": [
      "\u001b[32m2024-04-30 21:13:35.805\u001b[0m | \u001b[34m\u001b[1mDEBUG   \u001b[0m | \u001b[36mdesci_sense.shared_functions.web_extractors.citoid\u001b[0m:\u001b[36mfetch_citation\u001b[0m:\u001b[36m54\u001b[0m - \u001b[34m\u001b[1mfetching citoid data for: https://twitter.com/danwilliamsphil/status/1779904327592607766/photo/1\u001b[0m\n",
      "\u001b[32m2024-04-30 21:13:36.021\u001b[0m | \u001b[34m\u001b[1mDEBUG   \u001b[0m | \u001b[36mdesci_sense.shared_functions.parsers.multi_chain_parser\u001b[0m:\u001b[36mprocess_ref_post\u001b[0m:\u001b[36m173\u001b[0m - \u001b[34m\u001b[1mProcessing post with parsers: ['topics']\u001b[0m\n",
      "\u001b[32m2024-04-30 21:13:36.022\u001b[0m | \u001b[34m\u001b[1mDEBUG   \u001b[0m | \u001b[36mdesci_sense.shared_functions.parsers.multi_chain_parser\u001b[0m:\u001b[36mprocess_ref_post\u001b[0m:\u001b[36m175\u001b[0m - \u001b[34m\u001b[1mInstantiating prompts...\u001b[0m\n",
      "\u001b[32m2024-04-30 21:13:36.024\u001b[0m | \u001b[34m\u001b[1mDEBUG   \u001b[0m | \u001b[36mdesci_sense.shared_functions.parsers.multi_chain_parser\u001b[0m:\u001b[36mprocess_ref_post\u001b[0m:\u001b[36m180\u001b[0m - \u001b[34m\u001b[1mInvoking parallel chain...\u001b[0m\n",
      "Python(26529) MallocStackLogging: can't turn off malloc stack logging because it was not enabled.\n",
      "Python(26530) MallocStackLogging: can't turn off malloc stack logging because it was not enabled.\n",
      "Python(26531) MallocStackLogging: can't turn off malloc stack logging because it was not enabled.\n",
      "Python(26532) MallocStackLogging: can't turn off malloc stack logging because it was not enabled.\n",
      "Python(26533) MallocStackLogging: can't turn off malloc stack logging because it was not enabled.\n",
      "Python(26534) MallocStackLogging: can't turn off malloc stack logging because it was not enabled.\n",
      "Python(26535) MallocStackLogging: can't turn off malloc stack logging because it was not enabled.\n",
      "Python(26536) MallocStackLogging: can't turn off malloc stack logging because it was not enabled.\n",
      "Python(26537) MallocStackLogging: can't turn off malloc stack logging because it was not enabled.\n",
      "Python(26538) MallocStackLogging: can't turn off malloc stack logging because it was not enabled.\n",
      "Python(26539) MallocStackLogging: can't turn off malloc stack logging because it was not enabled.\n",
      "Python(26540) MallocStackLogging: can't turn off malloc stack logging because it was not enabled.\n",
      "Python(26541) MallocStackLogging: can't turn off malloc stack logging because it was not enabled.\n"
     ]
    },
    {
     "name": "stdout",
     "output_type": "stream",
     "text": [
      "278\n"
     ]
    },
    {
     "name": "stderr",
     "output_type": "stream",
     "text": [
      "\u001b[32m2024-04-30 21:14:08.445\u001b[0m | \u001b[34m\u001b[1mDEBUG   \u001b[0m | \u001b[36mdesci_sense.shared_functions.web_extractors.citoid\u001b[0m:\u001b[36mfetch_citation\u001b[0m:\u001b[36m54\u001b[0m - \u001b[34m\u001b[1mfetching citoid data for: https://www.newyorker.com/magazine/2024/04/22/dont-believe-what-theyre-telling-you-about-misinformation\u001b[0m\n",
      "\u001b[32m2024-04-30 21:14:09.560\u001b[0m | \u001b[34m\u001b[1mDEBUG   \u001b[0m | \u001b[36mdesci_sense.shared_functions.parsers.multi_chain_parser\u001b[0m:\u001b[36mprocess_ref_post\u001b[0m:\u001b[36m173\u001b[0m - \u001b[34m\u001b[1mProcessing post with parsers: ['topics']\u001b[0m\n",
      "\u001b[32m2024-04-30 21:14:09.564\u001b[0m | \u001b[34m\u001b[1mDEBUG   \u001b[0m | \u001b[36mdesci_sense.shared_functions.parsers.multi_chain_parser\u001b[0m:\u001b[36mprocess_ref_post\u001b[0m:\u001b[36m175\u001b[0m - \u001b[34m\u001b[1mInstantiating prompts...\u001b[0m\n",
      "\u001b[32m2024-04-30 21:14:09.571\u001b[0m | \u001b[34m\u001b[1mDEBUG   \u001b[0m | \u001b[36mdesci_sense.shared_functions.parsers.multi_chain_parser\u001b[0m:\u001b[36mprocess_ref_post\u001b[0m:\u001b[36m180\u001b[0m - \u001b[34m\u001b[1mInvoking parallel chain...\u001b[0m\n",
      "Python(26542) MallocStackLogging: can't turn off malloc stack logging because it was not enabled.\n"
     ]
    },
    {
     "name": "stdout",
     "output_type": "stream",
     "text": [
      "279\n"
     ]
    },
    {
     "name": "stderr",
     "output_type": "stream",
     "text": [
      "\u001b[32m2024-04-30 21:14:12.877\u001b[0m | \u001b[34m\u001b[1mDEBUG   \u001b[0m | \u001b[36mdesci_sense.shared_functions.web_extractors.citoid\u001b[0m:\u001b[36mfetch_citation\u001b[0m:\u001b[36m54\u001b[0m - \u001b[34m\u001b[1mfetching citoid data for: https://www.astralcodexten.com/p/the-media-very-rarely-lies\u001b[0m\n",
      "\u001b[32m2024-04-30 21:14:13.197\u001b[0m | \u001b[34m\u001b[1mDEBUG   \u001b[0m | \u001b[36mdesci_sense.shared_functions.parsers.multi_chain_parser\u001b[0m:\u001b[36mprocess_ref_post\u001b[0m:\u001b[36m173\u001b[0m - \u001b[34m\u001b[1mProcessing post with parsers: ['topics']\u001b[0m\n",
      "\u001b[32m2024-04-30 21:14:13.197\u001b[0m | \u001b[34m\u001b[1mDEBUG   \u001b[0m | \u001b[36mdesci_sense.shared_functions.parsers.multi_chain_parser\u001b[0m:\u001b[36mprocess_ref_post\u001b[0m:\u001b[36m175\u001b[0m - \u001b[34m\u001b[1mInstantiating prompts...\u001b[0m\n",
      "\u001b[32m2024-04-30 21:14:13.198\u001b[0m | \u001b[34m\u001b[1mDEBUG   \u001b[0m | \u001b[36mdesci_sense.shared_functions.parsers.multi_chain_parser\u001b[0m:\u001b[36mprocess_ref_post\u001b[0m:\u001b[36m180\u001b[0m - \u001b[34m\u001b[1mInvoking parallel chain...\u001b[0m\n",
      "Python(26543) MallocStackLogging: can't turn off malloc stack logging because it was not enabled.\n",
      "Python(26544) MallocStackLogging: can't turn off malloc stack logging because it was not enabled.\n",
      "Python(26545) MallocStackLogging: can't turn off malloc stack logging because it was not enabled.\n"
     ]
    },
    {
     "name": "stdout",
     "output_type": "stream",
     "text": [
      "280\n"
     ]
    },
    {
     "name": "stderr",
     "output_type": "stream",
     "text": [
      "\u001b[32m2024-04-30 21:14:19.197\u001b[0m | \u001b[34m\u001b[1mDEBUG   \u001b[0m | \u001b[36mdesci_sense.shared_functions.web_extractors.citoid\u001b[0m:\u001b[36mfetch_citation_async\u001b[0m:\u001b[36m20\u001b[0m - \u001b[34m\u001b[1mtarget_url=https://twitter.com/danwilliamsphil/status/1779555311025627211/photo/1\u001b[0m\n",
      "\u001b[32m2024-04-30 21:14:19.199\u001b[0m | \u001b[34m\u001b[1mDEBUG   \u001b[0m | \u001b[36mdesci_sense.shared_functions.web_extractors.citoid\u001b[0m:\u001b[36mfetch_citation_async\u001b[0m:\u001b[36m20\u001b[0m - \u001b[34m\u001b[1mtarget_url=https://www.conspicuouscognition.com/p/the-media-very-rarely-makes-things\u001b[0m\n",
      "\u001b[32m2024-04-30 21:14:19.636\u001b[0m | \u001b[34m\u001b[1mDEBUG   \u001b[0m | \u001b[36mdesci_sense.shared_functions.parsers.multi_chain_parser\u001b[0m:\u001b[36mprocess_ref_post\u001b[0m:\u001b[36m173\u001b[0m - \u001b[34m\u001b[1mProcessing post with parsers: ['topics']\u001b[0m\n",
      "\u001b[32m2024-04-30 21:14:19.641\u001b[0m | \u001b[34m\u001b[1mDEBUG   \u001b[0m | \u001b[36mdesci_sense.shared_functions.parsers.multi_chain_parser\u001b[0m:\u001b[36mprocess_ref_post\u001b[0m:\u001b[36m175\u001b[0m - \u001b[34m\u001b[1mInstantiating prompts...\u001b[0m\n",
      "\u001b[32m2024-04-30 21:14:19.643\u001b[0m | \u001b[34m\u001b[1mDEBUG   \u001b[0m | \u001b[36mdesci_sense.shared_functions.parsers.multi_chain_parser\u001b[0m:\u001b[36mprocess_ref_post\u001b[0m:\u001b[36m180\u001b[0m - \u001b[34m\u001b[1mInvoking parallel chain...\u001b[0m\n",
      "Python(26546) MallocStackLogging: can't turn off malloc stack logging because it was not enabled.\n",
      "Python(26547) MallocStackLogging: can't turn off malloc stack logging because it was not enabled.\n"
     ]
    },
    {
     "name": "stdout",
     "output_type": "stream",
     "text": [
      "281\n"
     ]
    },
    {
     "name": "stderr",
     "output_type": "stream",
     "text": [
      "\u001b[32m2024-04-30 21:14:26.200\u001b[0m | \u001b[34m\u001b[1mDEBUG   \u001b[0m | \u001b[36mdesci_sense.shared_functions.web_extractors.citoid\u001b[0m:\u001b[36mfetch_citation\u001b[0m:\u001b[36m54\u001b[0m - \u001b[34m\u001b[1mfetching citoid data for: https://twitter.com/danwilliamsphil/status/1778787051447484664/photo/1\u001b[0m\n",
      "Python(26548) MallocStackLogging: can't turn off malloc stack logging because it was not enabled.\n",
      "\u001b[32m2024-04-30 21:14:26.407\u001b[0m | \u001b[34m\u001b[1mDEBUG   \u001b[0m | \u001b[36mdesci_sense.shared_functions.parsers.multi_chain_parser\u001b[0m:\u001b[36mprocess_ref_post\u001b[0m:\u001b[36m173\u001b[0m - \u001b[34m\u001b[1mProcessing post with parsers: ['topics']\u001b[0m\n",
      "\u001b[32m2024-04-30 21:14:26.408\u001b[0m | \u001b[34m\u001b[1mDEBUG   \u001b[0m | \u001b[36mdesci_sense.shared_functions.parsers.multi_chain_parser\u001b[0m:\u001b[36mprocess_ref_post\u001b[0m:\u001b[36m175\u001b[0m - \u001b[34m\u001b[1mInstantiating prompts...\u001b[0m\n",
      "\u001b[32m2024-04-30 21:14:26.409\u001b[0m | \u001b[34m\u001b[1mDEBUG   \u001b[0m | \u001b[36mdesci_sense.shared_functions.parsers.multi_chain_parser\u001b[0m:\u001b[36mprocess_ref_post\u001b[0m:\u001b[36m180\u001b[0m - \u001b[34m\u001b[1mInvoking parallel chain...\u001b[0m\n",
      "Python(26549) MallocStackLogging: can't turn off malloc stack logging because it was not enabled.\n",
      "Python(26550) MallocStackLogging: can't turn off malloc stack logging because it was not enabled.\n",
      "\u001b[32m2024-04-30 21:14:32.245\u001b[0m | \u001b[34m\u001b[1mDEBUG   \u001b[0m | \u001b[36mdesci_sense.shared_functions.parsers.multi_chain_parser\u001b[0m:\u001b[36mprocess_ref_post\u001b[0m:\u001b[36m173\u001b[0m - \u001b[34m\u001b[1mProcessing post with parsers: ['topics']\u001b[0m\n",
      "\u001b[32m2024-04-30 21:14:32.246\u001b[0m | \u001b[34m\u001b[1mDEBUG   \u001b[0m | \u001b[36mdesci_sense.shared_functions.parsers.multi_chain_parser\u001b[0m:\u001b[36mprocess_ref_post\u001b[0m:\u001b[36m175\u001b[0m - \u001b[34m\u001b[1mInstantiating prompts...\u001b[0m\n",
      "\u001b[32m2024-04-30 21:14:32.246\u001b[0m | \u001b[34m\u001b[1mDEBUG   \u001b[0m | \u001b[36mdesci_sense.shared_functions.parsers.multi_chain_parser\u001b[0m:\u001b[36mprocess_ref_post\u001b[0m:\u001b[36m180\u001b[0m - \u001b[34m\u001b[1mInvoking parallel chain...\u001b[0m\n"
     ]
    },
    {
     "name": "stdout",
     "output_type": "stream",
     "text": [
      "282\n"
     ]
    },
    {
     "name": "stderr",
     "output_type": "stream",
     "text": [
      "Python(26551) MallocStackLogging: can't turn off malloc stack logging because it was not enabled.\n",
      "\u001b[32m2024-04-30 21:14:35.594\u001b[0m | \u001b[34m\u001b[1mDEBUG   \u001b[0m | \u001b[36mdesci_sense.shared_functions.parsers.multi_chain_parser\u001b[0m:\u001b[36mprocess_ref_post\u001b[0m:\u001b[36m173\u001b[0m - \u001b[34m\u001b[1mProcessing post with parsers: ['topics']\u001b[0m\n",
      "\u001b[32m2024-04-30 21:14:35.595\u001b[0m | \u001b[34m\u001b[1mDEBUG   \u001b[0m | \u001b[36mdesci_sense.shared_functions.parsers.multi_chain_parser\u001b[0m:\u001b[36mprocess_ref_post\u001b[0m:\u001b[36m175\u001b[0m - \u001b[34m\u001b[1mInstantiating prompts...\u001b[0m\n",
      "\u001b[32m2024-04-30 21:14:35.597\u001b[0m | \u001b[34m\u001b[1mDEBUG   \u001b[0m | \u001b[36mdesci_sense.shared_functions.parsers.multi_chain_parser\u001b[0m:\u001b[36mprocess_ref_post\u001b[0m:\u001b[36m180\u001b[0m - \u001b[34m\u001b[1mInvoking parallel chain...\u001b[0m\n"
     ]
    },
    {
     "name": "stdout",
     "output_type": "stream",
     "text": [
      "283\n"
     ]
    },
    {
     "name": "stderr",
     "output_type": "stream",
     "text": [
      "Python(26552) MallocStackLogging: can't turn off malloc stack logging because it was not enabled.\n",
      "\u001b[32m2024-04-30 21:14:39.225\u001b[0m | \u001b[34m\u001b[1mDEBUG   \u001b[0m | \u001b[36mdesci_sense.shared_functions.parsers.multi_chain_parser\u001b[0m:\u001b[36mprocess_ref_post\u001b[0m:\u001b[36m173\u001b[0m - \u001b[34m\u001b[1mProcessing post with parsers: ['topics']\u001b[0m\n",
      "\u001b[32m2024-04-30 21:14:39.233\u001b[0m | \u001b[34m\u001b[1mDEBUG   \u001b[0m | \u001b[36mdesci_sense.shared_functions.parsers.multi_chain_parser\u001b[0m:\u001b[36mprocess_ref_post\u001b[0m:\u001b[36m175\u001b[0m - \u001b[34m\u001b[1mInstantiating prompts...\u001b[0m\n",
      "\u001b[32m2024-04-30 21:14:39.241\u001b[0m | \u001b[34m\u001b[1mDEBUG   \u001b[0m | \u001b[36mdesci_sense.shared_functions.parsers.multi_chain_parser\u001b[0m:\u001b[36mprocess_ref_post\u001b[0m:\u001b[36m180\u001b[0m - \u001b[34m\u001b[1mInvoking parallel chain...\u001b[0m\n"
     ]
    },
    {
     "name": "stdout",
     "output_type": "stream",
     "text": [
      "284\n"
     ]
    },
    {
     "name": "stderr",
     "output_type": "stream",
     "text": [
      "Python(26553) MallocStackLogging: can't turn off malloc stack logging because it was not enabled.\n",
      "Python(26554) MallocStackLogging: can't turn off malloc stack logging because it was not enabled.\n"
     ]
    },
    {
     "name": "stdout",
     "output_type": "stream",
     "text": [
      "285\n"
     ]
    },
    {
     "name": "stderr",
     "output_type": "stream",
     "text": [
      "\u001b[32m2024-04-30 21:14:44.239\u001b[0m | \u001b[34m\u001b[1mDEBUG   \u001b[0m | \u001b[36mdesci_sense.shared_functions.web_extractors.citoid\u001b[0m:\u001b[36mfetch_citation\u001b[0m:\u001b[36m54\u001b[0m - \u001b[34m\u001b[1mfetching citoid data for: https://www.youtube.com/watch?t=1905s&v=f7EtKqIdbz8\u001b[0m\n",
      "Python(26575) MallocStackLogging: can't turn off malloc stack logging because it was not enabled.\n",
      "\u001b[32m2024-04-30 21:14:46.188\u001b[0m | \u001b[34m\u001b[1mDEBUG   \u001b[0m | \u001b[36mdesci_sense.shared_functions.parsers.multi_chain_parser\u001b[0m:\u001b[36mprocess_ref_post\u001b[0m:\u001b[36m173\u001b[0m - \u001b[34m\u001b[1mProcessing post with parsers: ['topics']\u001b[0m\n",
      "\u001b[32m2024-04-30 21:14:46.192\u001b[0m | \u001b[34m\u001b[1mDEBUG   \u001b[0m | \u001b[36mdesci_sense.shared_functions.parsers.multi_chain_parser\u001b[0m:\u001b[36mprocess_ref_post\u001b[0m:\u001b[36m175\u001b[0m - \u001b[34m\u001b[1mInstantiating prompts...\u001b[0m\n",
      "\u001b[32m2024-04-30 21:14:46.195\u001b[0m | \u001b[34m\u001b[1mDEBUG   \u001b[0m | \u001b[36mdesci_sense.shared_functions.parsers.multi_chain_parser\u001b[0m:\u001b[36mprocess_ref_post\u001b[0m:\u001b[36m180\u001b[0m - \u001b[34m\u001b[1mInvoking parallel chain...\u001b[0m\n",
      "Python(26576) MallocStackLogging: can't turn off malloc stack logging because it was not enabled.\n"
     ]
    },
    {
     "name": "stdout",
     "output_type": "stream",
     "text": [
      "286\n"
     ]
    },
    {
     "name": "stderr",
     "output_type": "stream",
     "text": [
      "\u001b[32m2024-04-30 21:14:48.531\u001b[0m | \u001b[34m\u001b[1mDEBUG   \u001b[0m | \u001b[36mdesci_sense.shared_functions.web_extractors.citoid\u001b[0m:\u001b[36mfetch_citation\u001b[0m:\u001b[36m54\u001b[0m - \u001b[34m\u001b[1mfetching citoid data for: https://twitter.com/kevin_dorst/status/1776563327017132214\u001b[0m\n",
      "\u001b[32m2024-04-30 21:14:48.720\u001b[0m | \u001b[34m\u001b[1mDEBUG   \u001b[0m | \u001b[36mdesci_sense.shared_functions.parsers.multi_chain_parser\u001b[0m:\u001b[36mprocess_ref_post\u001b[0m:\u001b[36m173\u001b[0m - \u001b[34m\u001b[1mProcessing post with parsers: ['topics']\u001b[0m\n",
      "\u001b[32m2024-04-30 21:14:48.721\u001b[0m | \u001b[34m\u001b[1mDEBUG   \u001b[0m | \u001b[36mdesci_sense.shared_functions.parsers.multi_chain_parser\u001b[0m:\u001b[36mprocess_ref_post\u001b[0m:\u001b[36m175\u001b[0m - \u001b[34m\u001b[1mInstantiating prompts...\u001b[0m\n",
      "\u001b[32m2024-04-30 21:14:48.722\u001b[0m | \u001b[34m\u001b[1mDEBUG   \u001b[0m | \u001b[36mdesci_sense.shared_functions.parsers.multi_chain_parser\u001b[0m:\u001b[36mprocess_ref_post\u001b[0m:\u001b[36m180\u001b[0m - \u001b[34m\u001b[1mInvoking parallel chain...\u001b[0m\n",
      "Python(26577) MallocStackLogging: can't turn off malloc stack logging because it was not enabled.\n"
     ]
    },
    {
     "name": "stdout",
     "output_type": "stream",
     "text": [
      "287\n"
     ]
    },
    {
     "name": "stderr",
     "output_type": "stream",
     "text": [
      "\u001b[32m2024-04-30 21:14:52.386\u001b[0m | \u001b[34m\u001b[1mDEBUG   \u001b[0m | \u001b[36mdesci_sense.shared_functions.web_extractors.citoid\u001b[0m:\u001b[36mfetch_citation_async\u001b[0m:\u001b[36m20\u001b[0m - \u001b[34m\u001b[1mtarget_url=https://www.conspicuouscognition.com/p/people-are-persuaded-by-rational?utm_medium=reader2\u001b[0m\n",
      "\u001b[32m2024-04-30 21:14:52.390\u001b[0m | \u001b[34m\u001b[1mDEBUG   \u001b[0m | \u001b[36mdesci_sense.shared_functions.web_extractors.citoid\u001b[0m:\u001b[36mfetch_citation_async\u001b[0m:\u001b[36m20\u001b[0m - \u001b[34m\u001b[1mtarget_url=https://twitter.com/danwilliamsphil/status/1776529274687623545/photo/1\u001b[0m\n",
      "Python(26578) MallocStackLogging: can't turn off malloc stack logging because it was not enabled.\n",
      "\u001b[32m2024-04-30 21:14:53.277\u001b[0m | \u001b[34m\u001b[1mDEBUG   \u001b[0m | \u001b[36mdesci_sense.shared_functions.parsers.multi_chain_parser\u001b[0m:\u001b[36mprocess_ref_post\u001b[0m:\u001b[36m173\u001b[0m - \u001b[34m\u001b[1mProcessing post with parsers: ['topics']\u001b[0m\n",
      "\u001b[32m2024-04-30 21:14:53.280\u001b[0m | \u001b[34m\u001b[1mDEBUG   \u001b[0m | \u001b[36mdesci_sense.shared_functions.parsers.multi_chain_parser\u001b[0m:\u001b[36mprocess_ref_post\u001b[0m:\u001b[36m175\u001b[0m - \u001b[34m\u001b[1mInstantiating prompts...\u001b[0m\n",
      "\u001b[32m2024-04-30 21:14:53.284\u001b[0m | \u001b[34m\u001b[1mDEBUG   \u001b[0m | \u001b[36mdesci_sense.shared_functions.parsers.multi_chain_parser\u001b[0m:\u001b[36mprocess_ref_post\u001b[0m:\u001b[36m180\u001b[0m - \u001b[34m\u001b[1mInvoking parallel chain...\u001b[0m\n",
      "Python(26579) MallocStackLogging: can't turn off malloc stack logging because it was not enabled.\n"
     ]
    },
    {
     "name": "stdout",
     "output_type": "stream",
     "text": [
      "288\n"
     ]
    },
    {
     "name": "stderr",
     "output_type": "stream",
     "text": [
      "\u001b[32m2024-04-30 21:14:56.975\u001b[0m | \u001b[34m\u001b[1mDEBUG   \u001b[0m | \u001b[36mdesci_sense.shared_functions.web_extractors.citoid\u001b[0m:\u001b[36mfetch_citation_async\u001b[0m:\u001b[36m20\u001b[0m - \u001b[34m\u001b[1mtarget_url=https://www.conspicuouscognition.com/\u001b[0m\n",
      "\u001b[32m2024-04-30 21:14:56.979\u001b[0m | \u001b[34m\u001b[1mDEBUG   \u001b[0m | \u001b[36mdesci_sense.shared_functions.web_extractors.citoid\u001b[0m:\u001b[36mfetch_citation_async\u001b[0m:\u001b[36m20\u001b[0m - \u001b[34m\u001b[1mtarget_url=https://twitter.com/danwilliamsphil/status/1775825220386836728\u001b[0m\n",
      "\u001b[32m2024-04-30 21:14:56.980\u001b[0m | \u001b[34m\u001b[1mDEBUG   \u001b[0m | \u001b[36mdesci_sense.shared_functions.web_extractors.citoid\u001b[0m:\u001b[36mfetch_citation_async\u001b[0m:\u001b[36m20\u001b[0m - \u001b[34m\u001b[1mtarget_url=https://twitter.com/danwilliamsphil/status/1776343180914364896/photo/1\u001b[0m\n",
      "Python(26580) MallocStackLogging: can't turn off malloc stack logging because it was not enabled.\n",
      "\u001b[32m2024-04-30 21:14:59.388\u001b[0m | \u001b[34m\u001b[1mDEBUG   \u001b[0m | \u001b[36mdesci_sense.shared_functions.parsers.multi_chain_parser\u001b[0m:\u001b[36mprocess_ref_post\u001b[0m:\u001b[36m173\u001b[0m - \u001b[34m\u001b[1mProcessing post with parsers: ['topics']\u001b[0m\n",
      "\u001b[32m2024-04-30 21:14:59.391\u001b[0m | \u001b[34m\u001b[1mDEBUG   \u001b[0m | \u001b[36mdesci_sense.shared_functions.parsers.multi_chain_parser\u001b[0m:\u001b[36mprocess_ref_post\u001b[0m:\u001b[36m175\u001b[0m - \u001b[34m\u001b[1mInstantiating prompts...\u001b[0m\n",
      "\u001b[32m2024-04-30 21:14:59.394\u001b[0m | \u001b[34m\u001b[1mDEBUG   \u001b[0m | \u001b[36mdesci_sense.shared_functions.parsers.multi_chain_parser\u001b[0m:\u001b[36mprocess_ref_post\u001b[0m:\u001b[36m180\u001b[0m - \u001b[34m\u001b[1mInvoking parallel chain...\u001b[0m\n",
      "Python(26581) MallocStackLogging: can't turn off malloc stack logging because it was not enabled.\n",
      "Python(26582) MallocStackLogging: can't turn off malloc stack logging because it was not enabled.\n"
     ]
    },
    {
     "name": "stdout",
     "output_type": "stream",
     "text": [
      "289\n"
     ]
    },
    {
     "name": "stderr",
     "output_type": "stream",
     "text": [
      "Python(26583) MallocStackLogging: can't turn off malloc stack logging because it was not enabled.\n",
      "\u001b[32m2024-04-30 21:15:05.982\u001b[0m | \u001b[34m\u001b[1mDEBUG   \u001b[0m | \u001b[36mdesci_sense.shared_functions.web_extractors.citoid\u001b[0m:\u001b[36mfetch_citation_async\u001b[0m:\u001b[36m20\u001b[0m - \u001b[34m\u001b[1mtarget_url=https://www.researchgate.net/publication/363885159_Identity-Defining_Beliefs_on_Social_Media\u001b[0m\n",
      "\u001b[32m2024-04-30 21:15:05.983\u001b[0m | \u001b[34m\u001b[1mDEBUG   \u001b[0m | \u001b[36mdesci_sense.shared_functions.web_extractors.citoid\u001b[0m:\u001b[36mfetch_citation_async\u001b[0m:\u001b[36m20\u001b[0m - \u001b[34m\u001b[1mtarget_url=https://www.researchgate.net/publication/376489076_Scaffolding_Motivated_Cognition\u001b[0m\n",
      "\u001b[32m2024-04-30 21:15:05.984\u001b[0m | \u001b[34m\u001b[1mDEBUG   \u001b[0m | \u001b[36mdesci_sense.shared_functions.web_extractors.citoid\u001b[0m:\u001b[36mfetch_citation_async\u001b[0m:\u001b[36m20\u001b[0m - \u001b[34m\u001b[1mtarget_url=https://www.cambridge.org/core/journals/economics-and-philosophy/article/marketplace-of-rationalizations/41FB096344BD344908C7C992D0C0C0DC\u001b[0m\n",
      "\u001b[32m2024-04-30 21:15:05.985\u001b[0m | \u001b[34m\u001b[1mDEBUG   \u001b[0m | \u001b[36mdesci_sense.shared_functions.web_extractors.citoid\u001b[0m:\u001b[36mfetch_citation_async\u001b[0m:\u001b[36m20\u001b[0m - \u001b[34m\u001b[1mtarget_url=https://link.springer.com/article/10.1007/s11229-023-04223-1\u001b[0m\n",
      "Python(26584) MallocStackLogging: can't turn off malloc stack logging because it was not enabled.\n",
      "\u001b[32m2024-04-30 21:15:09.774\u001b[0m | \u001b[34m\u001b[1mDEBUG   \u001b[0m | \u001b[36mdesci_sense.shared_functions.parsers.multi_chain_parser\u001b[0m:\u001b[36mprocess_ref_post\u001b[0m:\u001b[36m173\u001b[0m - \u001b[34m\u001b[1mProcessing post with parsers: ['topics']\u001b[0m\n",
      "\u001b[32m2024-04-30 21:15:09.776\u001b[0m | \u001b[34m\u001b[1mDEBUG   \u001b[0m | \u001b[36mdesci_sense.shared_functions.parsers.multi_chain_parser\u001b[0m:\u001b[36mprocess_ref_post\u001b[0m:\u001b[36m175\u001b[0m - \u001b[34m\u001b[1mInstantiating prompts...\u001b[0m\n",
      "\u001b[32m2024-04-30 21:15:09.780\u001b[0m | \u001b[34m\u001b[1mDEBUG   \u001b[0m | \u001b[36mdesci_sense.shared_functions.parsers.multi_chain_parser\u001b[0m:\u001b[36mprocess_ref_post\u001b[0m:\u001b[36m180\u001b[0m - \u001b[34m\u001b[1mInvoking parallel chain...\u001b[0m\n",
      "Python(26585) MallocStackLogging: can't turn off malloc stack logging because it was not enabled.\n",
      "Python(26586) MallocStackLogging: can't turn off malloc stack logging because it was not enabled.\n"
     ]
    },
    {
     "name": "stdout",
     "output_type": "stream",
     "text": [
      "290\n"
     ]
    },
    {
     "name": "stderr",
     "output_type": "stream",
     "text": [
      "\u001b[32m2024-04-30 21:15:14.742\u001b[0m | \u001b[34m\u001b[1mDEBUG   \u001b[0m | \u001b[36mdesci_sense.shared_functions.web_extractors.citoid\u001b[0m:\u001b[36mfetch_citation\u001b[0m:\u001b[36m54\u001b[0m - \u001b[34m\u001b[1mfetching citoid data for: https://twitter.com/DG_Rand/status/1775618798717911424\u001b[0m\n",
      "\u001b[32m2024-04-30 21:15:14.946\u001b[0m | \u001b[34m\u001b[1mDEBUG   \u001b[0m | \u001b[36mdesci_sense.shared_functions.parsers.multi_chain_parser\u001b[0m:\u001b[36mprocess_ref_post\u001b[0m:\u001b[36m173\u001b[0m - \u001b[34m\u001b[1mProcessing post with parsers: ['topics']\u001b[0m\n",
      "\u001b[32m2024-04-30 21:15:14.946\u001b[0m | \u001b[34m\u001b[1mDEBUG   \u001b[0m | \u001b[36mdesci_sense.shared_functions.parsers.multi_chain_parser\u001b[0m:\u001b[36mprocess_ref_post\u001b[0m:\u001b[36m175\u001b[0m - \u001b[34m\u001b[1mInstantiating prompts...\u001b[0m\n",
      "\u001b[32m2024-04-30 21:15:14.947\u001b[0m | \u001b[34m\u001b[1mDEBUG   \u001b[0m | \u001b[36mdesci_sense.shared_functions.parsers.multi_chain_parser\u001b[0m:\u001b[36mprocess_ref_post\u001b[0m:\u001b[36m180\u001b[0m - \u001b[34m\u001b[1mInvoking parallel chain...\u001b[0m\n",
      "Python(26587) MallocStackLogging: can't turn off malloc stack logging because it was not enabled.\n",
      "Python(26588) MallocStackLogging: can't turn off malloc stack logging because it was not enabled.\n"
     ]
    },
    {
     "name": "stdout",
     "output_type": "stream",
     "text": [
      "291\n"
     ]
    },
    {
     "name": "stderr",
     "output_type": "stream",
     "text": [
      "\u001b[32m2024-04-30 21:15:19.548\u001b[0m | \u001b[34m\u001b[1mDEBUG   \u001b[0m | \u001b[36mdesci_sense.shared_functions.web_extractors.citoid\u001b[0m:\u001b[36mfetch_citation_async\u001b[0m:\u001b[36m20\u001b[0m - \u001b[34m\u001b[1mtarget_url=https://twitter.com/tylercowen/status/1775503898112868462\u001b[0m\n",
      "\u001b[32m2024-04-30 21:15:19.550\u001b[0m | \u001b[34m\u001b[1mDEBUG   \u001b[0m | \u001b[36mdesci_sense.shared_functions.web_extractors.citoid\u001b[0m:\u001b[36mfetch_citation_async\u001b[0m:\u001b[36m20\u001b[0m - \u001b[34m\u001b[1mtarget_url=https://twitter.com/danwilliamsphil/status/1775599056368087102/photo/1\u001b[0m\n",
      "\u001b[32m2024-04-30 21:15:19.773\u001b[0m | \u001b[34m\u001b[1mDEBUG   \u001b[0m | \u001b[36mdesci_sense.shared_functions.parsers.multi_chain_parser\u001b[0m:\u001b[36mprocess_ref_post\u001b[0m:\u001b[36m173\u001b[0m - \u001b[34m\u001b[1mProcessing post with parsers: ['topics']\u001b[0m\n",
      "\u001b[32m2024-04-30 21:15:19.775\u001b[0m | \u001b[34m\u001b[1mDEBUG   \u001b[0m | \u001b[36mdesci_sense.shared_functions.parsers.multi_chain_parser\u001b[0m:\u001b[36mprocess_ref_post\u001b[0m:\u001b[36m175\u001b[0m - \u001b[34m\u001b[1mInstantiating prompts...\u001b[0m\n",
      "\u001b[32m2024-04-30 21:15:19.784\u001b[0m | \u001b[34m\u001b[1mDEBUG   \u001b[0m | \u001b[36mdesci_sense.shared_functions.parsers.multi_chain_parser\u001b[0m:\u001b[36mprocess_ref_post\u001b[0m:\u001b[36m180\u001b[0m - \u001b[34m\u001b[1mInvoking parallel chain...\u001b[0m\n",
      "Python(26589) MallocStackLogging: can't turn off malloc stack logging because it was not enabled.\n",
      "Python(26590) MallocStackLogging: can't turn off malloc stack logging because it was not enabled.\n"
     ]
    },
    {
     "name": "stdout",
     "output_type": "stream",
     "text": [
      "292\n"
     ]
    },
    {
     "name": "stderr",
     "output_type": "stream",
     "text": [
      "\u001b[32m2024-04-30 21:15:25.829\u001b[0m | \u001b[34m\u001b[1mDEBUG   \u001b[0m | \u001b[36mdesci_sense.shared_functions.web_extractors.citoid\u001b[0m:\u001b[36mfetch_citation_async\u001b[0m:\u001b[36m20\u001b[0m - \u001b[34m\u001b[1mtarget_url=https://www.sciencedirect.com/science/article/abs/pii/S1090513800000325\u001b[0m\n",
      "\u001b[32m2024-04-30 21:15:25.831\u001b[0m | \u001b[34m\u001b[1mDEBUG   \u001b[0m | \u001b[36mdesci_sense.shared_functions.web_extractors.citoid\u001b[0m:\u001b[36mfetch_citation_async\u001b[0m:\u001b[36m20\u001b[0m - \u001b[34m\u001b[1mtarget_url=https://twitter.com/danwilliamsphil/status/1775548931767750698/photo/1\u001b[0m\n",
      "Python(26591) MallocStackLogging: can't turn off malloc stack logging because it was not enabled.\n",
      "\u001b[32m2024-04-30 21:15:28.988\u001b[0m | \u001b[34m\u001b[1mDEBUG   \u001b[0m | \u001b[36mdesci_sense.shared_functions.parsers.multi_chain_parser\u001b[0m:\u001b[36mprocess_ref_post\u001b[0m:\u001b[36m173\u001b[0m - \u001b[34m\u001b[1mProcessing post with parsers: ['topics']\u001b[0m\n",
      "\u001b[32m2024-04-30 21:15:28.991\u001b[0m | \u001b[34m\u001b[1mDEBUG   \u001b[0m | \u001b[36mdesci_sense.shared_functions.parsers.multi_chain_parser\u001b[0m:\u001b[36mprocess_ref_post\u001b[0m:\u001b[36m175\u001b[0m - \u001b[34m\u001b[1mInstantiating prompts...\u001b[0m\n",
      "\u001b[32m2024-04-30 21:15:28.993\u001b[0m | \u001b[34m\u001b[1mDEBUG   \u001b[0m | \u001b[36mdesci_sense.shared_functions.parsers.multi_chain_parser\u001b[0m:\u001b[36mprocess_ref_post\u001b[0m:\u001b[36m180\u001b[0m - \u001b[34m\u001b[1mInvoking parallel chain...\u001b[0m\n",
      "Python(26596) MallocStackLogging: can't turn off malloc stack logging because it was not enabled.\n",
      "Python(26627) MallocStackLogging: can't turn off malloc stack logging because it was not enabled.\n"
     ]
    },
    {
     "name": "stdout",
     "output_type": "stream",
     "text": [
      "293\n"
     ]
    },
    {
     "name": "stderr",
     "output_type": "stream",
     "text": [
      "\u001b[32m2024-04-30 21:15:33.405\u001b[0m | \u001b[34m\u001b[1mDEBUG   \u001b[0m | \u001b[36mdesci_sense.shared_functions.web_extractors.citoid\u001b[0m:\u001b[36mfetch_citation_async\u001b[0m:\u001b[36m20\u001b[0m - \u001b[34m\u001b[1mtarget_url=https://academic.oup.com/ej/advance-article-abstract/doi/10.1093/ej/ueae019/7630186\u001b[0m\n",
      "\u001b[32m2024-04-30 21:15:33.410\u001b[0m | \u001b[34m\u001b[1mDEBUG   \u001b[0m | \u001b[36mdesci_sense.shared_functions.web_extractors.citoid\u001b[0m:\u001b[36mfetch_citation_async\u001b[0m:\u001b[36m20\u001b[0m - \u001b[34m\u001b[1mtarget_url=https://twitter.com/danwilliamsphil/status/1775453395429548111/photo/1\u001b[0m\n",
      "Python(26628) MallocStackLogging: can't turn off malloc stack logging because it was not enabled.\n",
      "\u001b[32m2024-04-30 21:15:34.641\u001b[0m | \u001b[34m\u001b[1mDEBUG   \u001b[0m | \u001b[36mdesci_sense.shared_functions.parsers.multi_chain_parser\u001b[0m:\u001b[36mprocess_ref_post\u001b[0m:\u001b[36m173\u001b[0m - \u001b[34m\u001b[1mProcessing post with parsers: ['topics']\u001b[0m\n",
      "\u001b[32m2024-04-30 21:15:34.642\u001b[0m | \u001b[34m\u001b[1mDEBUG   \u001b[0m | \u001b[36mdesci_sense.shared_functions.parsers.multi_chain_parser\u001b[0m:\u001b[36mprocess_ref_post\u001b[0m:\u001b[36m175\u001b[0m - \u001b[34m\u001b[1mInstantiating prompts...\u001b[0m\n",
      "\u001b[32m2024-04-30 21:15:34.643\u001b[0m | \u001b[34m\u001b[1mDEBUG   \u001b[0m | \u001b[36mdesci_sense.shared_functions.parsers.multi_chain_parser\u001b[0m:\u001b[36mprocess_ref_post\u001b[0m:\u001b[36m180\u001b[0m - \u001b[34m\u001b[1mInvoking parallel chain...\u001b[0m\n",
      "Python(26633) MallocStackLogging: can't turn off malloc stack logging because it was not enabled.\n"
     ]
    },
    {
     "name": "stdout",
     "output_type": "stream",
     "text": [
      "294\n"
     ]
    },
    {
     "name": "stderr",
     "output_type": "stream",
     "text": [
      "Python(26634) MallocStackLogging: can't turn off malloc stack logging because it was not enabled.\n",
      "\u001b[32m2024-04-30 21:15:39.705\u001b[0m | \u001b[34m\u001b[1mDEBUG   \u001b[0m | \u001b[36mdesci_sense.shared_functions.web_extractors.citoid\u001b[0m:\u001b[36mfetch_citation\u001b[0m:\u001b[36m54\u001b[0m - \u001b[34m\u001b[1mfetching citoid data for: https://twitter.com/JonHaidt/status/1774571680511508601\u001b[0m\n",
      "\u001b[32m2024-04-30 21:15:39.929\u001b[0m | \u001b[34m\u001b[1mDEBUG   \u001b[0m | \u001b[36mdesci_sense.shared_functions.parsers.multi_chain_parser\u001b[0m:\u001b[36mprocess_ref_post\u001b[0m:\u001b[36m173\u001b[0m - \u001b[34m\u001b[1mProcessing post with parsers: ['topics']\u001b[0m\n",
      "\u001b[32m2024-04-30 21:15:39.930\u001b[0m | \u001b[34m\u001b[1mDEBUG   \u001b[0m | \u001b[36mdesci_sense.shared_functions.parsers.multi_chain_parser\u001b[0m:\u001b[36mprocess_ref_post\u001b[0m:\u001b[36m175\u001b[0m - \u001b[34m\u001b[1mInstantiating prompts...\u001b[0m\n",
      "\u001b[32m2024-04-30 21:15:39.930\u001b[0m | \u001b[34m\u001b[1mDEBUG   \u001b[0m | \u001b[36mdesci_sense.shared_functions.parsers.multi_chain_parser\u001b[0m:\u001b[36mprocess_ref_post\u001b[0m:\u001b[36m180\u001b[0m - \u001b[34m\u001b[1mInvoking parallel chain...\u001b[0m\n",
      "Python(26635) MallocStackLogging: can't turn off malloc stack logging because it was not enabled.\n"
     ]
    },
    {
     "name": "stdout",
     "output_type": "stream",
     "text": [
      "295\n"
     ]
    },
    {
     "name": "stderr",
     "output_type": "stream",
     "text": [
      "\u001b[32m2024-04-30 21:15:43.801\u001b[0m | \u001b[34m\u001b[1mDEBUG   \u001b[0m | \u001b[36mdesci_sense.shared_functions.web_extractors.citoid\u001b[0m:\u001b[36mfetch_citation_async\u001b[0m:\u001b[36m20\u001b[0m - \u001b[34m\u001b[1mtarget_url=https://issues.org/power-progress-acemoglu-johnson-review-sarewitz/\u001b[0m\n",
      "\u001b[32m2024-04-30 21:15:43.803\u001b[0m | \u001b[34m\u001b[1mDEBUG   \u001b[0m | \u001b[36mdesci_sense.shared_functions.web_extractors.citoid\u001b[0m:\u001b[36mfetch_citation_async\u001b[0m:\u001b[36m20\u001b[0m - \u001b[34m\u001b[1mtarget_url=https://twitter.com/danwilliamsphil/status/1774036637707608362/photo/1\u001b[0m\n",
      "Python(26637) MallocStackLogging: can't turn off malloc stack logging because it was not enabled.\n",
      "\u001b[32m2024-04-30 21:15:44.664\u001b[0m | \u001b[34m\u001b[1mDEBUG   \u001b[0m | \u001b[36mdesci_sense.shared_functions.parsers.multi_chain_parser\u001b[0m:\u001b[36mprocess_ref_post\u001b[0m:\u001b[36m173\u001b[0m - \u001b[34m\u001b[1mProcessing post with parsers: ['topics']\u001b[0m\n",
      "\u001b[32m2024-04-30 21:15:44.665\u001b[0m | \u001b[34m\u001b[1mDEBUG   \u001b[0m | \u001b[36mdesci_sense.shared_functions.parsers.multi_chain_parser\u001b[0m:\u001b[36mprocess_ref_post\u001b[0m:\u001b[36m175\u001b[0m - \u001b[34m\u001b[1mInstantiating prompts...\u001b[0m\n",
      "\u001b[32m2024-04-30 21:15:44.666\u001b[0m | \u001b[34m\u001b[1mDEBUG   \u001b[0m | \u001b[36mdesci_sense.shared_functions.parsers.multi_chain_parser\u001b[0m:\u001b[36mprocess_ref_post\u001b[0m:\u001b[36m180\u001b[0m - \u001b[34m\u001b[1mInvoking parallel chain...\u001b[0m\n",
      "Python(26656) MallocStackLogging: can't turn off malloc stack logging because it was not enabled.\n",
      "Python(26659) MallocStackLogging: can't turn off malloc stack logging because it was not enabled.\n"
     ]
    },
    {
     "name": "stdout",
     "output_type": "stream",
     "text": [
      "296\n"
     ]
    },
    {
     "name": "stderr",
     "output_type": "stream",
     "text": [
      "\u001b[32m2024-04-30 21:15:51.472\u001b[0m | \u001b[34m\u001b[1mDEBUG   \u001b[0m | \u001b[36mdesci_sense.shared_functions.web_extractors.citoid\u001b[0m:\u001b[36mfetch_citation_async\u001b[0m:\u001b[36m20\u001b[0m - \u001b[34m\u001b[1mtarget_url=https://twitter.com/danwilliamsphil/status/1773639307967787450/photo/1\u001b[0m\n",
      "\u001b[32m2024-04-30 21:15:51.475\u001b[0m | \u001b[34m\u001b[1mDEBUG   \u001b[0m | \u001b[36mdesci_sense.shared_functions.web_extractors.citoid\u001b[0m:\u001b[36mfetch_citation_async\u001b[0m:\u001b[36m20\u001b[0m - \u001b[34m\u001b[1mtarget_url=https://twitter.com/post_liberal/status/1773125864521163168\u001b[0m\n",
      "\u001b[32m2024-04-30 21:15:51.691\u001b[0m | \u001b[34m\u001b[1mDEBUG   \u001b[0m | \u001b[36mdesci_sense.shared_functions.parsers.multi_chain_parser\u001b[0m:\u001b[36mprocess_ref_post\u001b[0m:\u001b[36m173\u001b[0m - \u001b[34m\u001b[1mProcessing post with parsers: ['topics']\u001b[0m\n",
      "\u001b[32m2024-04-30 21:15:51.691\u001b[0m | \u001b[34m\u001b[1mDEBUG   \u001b[0m | \u001b[36mdesci_sense.shared_functions.parsers.multi_chain_parser\u001b[0m:\u001b[36mprocess_ref_post\u001b[0m:\u001b[36m175\u001b[0m - \u001b[34m\u001b[1mInstantiating prompts...\u001b[0m\n",
      "\u001b[32m2024-04-30 21:15:51.692\u001b[0m | \u001b[34m\u001b[1mDEBUG   \u001b[0m | \u001b[36mdesci_sense.shared_functions.parsers.multi_chain_parser\u001b[0m:\u001b[36mprocess_ref_post\u001b[0m:\u001b[36m180\u001b[0m - \u001b[34m\u001b[1mInvoking parallel chain...\u001b[0m\n",
      "Python(26660) MallocStackLogging: can't turn off malloc stack logging because it was not enabled.\n"
     ]
    },
    {
     "name": "stdout",
     "output_type": "stream",
     "text": [
      "297\n"
     ]
    },
    {
     "name": "stderr",
     "output_type": "stream",
     "text": [
      "Python(26661) MallocStackLogging: can't turn off malloc stack logging because it was not enabled.\n",
      "\u001b[32m2024-04-30 21:15:55.771\u001b[0m | \u001b[34m\u001b[1mDEBUG   \u001b[0m | \u001b[36mdesci_sense.shared_functions.web_extractors.citoid\u001b[0m:\u001b[36mfetch_citation_async\u001b[0m:\u001b[36m20\u001b[0m - \u001b[34m\u001b[1mtarget_url=https://twitter.com/danwilliamsphil/status/1773634887498547506/photo/1\u001b[0m\n",
      "\u001b[32m2024-04-30 21:15:55.786\u001b[0m | \u001b[34m\u001b[1mDEBUG   \u001b[0m | \u001b[36mdesci_sense.shared_functions.web_extractors.citoid\u001b[0m:\u001b[36mfetch_citation_async\u001b[0m:\u001b[36m20\u001b[0m - \u001b[34m\u001b[1mtarget_url=https://www.conspicuouscognition.com/p/the-marketplace-of-good-and-bad-ideas\u001b[0m\n",
      "\u001b[32m2024-04-30 21:15:56.215\u001b[0m | \u001b[34m\u001b[1mDEBUG   \u001b[0m | \u001b[36mdesci_sense.shared_functions.parsers.multi_chain_parser\u001b[0m:\u001b[36mprocess_ref_post\u001b[0m:\u001b[36m173\u001b[0m - \u001b[34m\u001b[1mProcessing post with parsers: ['topics']\u001b[0m\n",
      "\u001b[32m2024-04-30 21:15:56.217\u001b[0m | \u001b[34m\u001b[1mDEBUG   \u001b[0m | \u001b[36mdesci_sense.shared_functions.parsers.multi_chain_parser\u001b[0m:\u001b[36mprocess_ref_post\u001b[0m:\u001b[36m175\u001b[0m - \u001b[34m\u001b[1mInstantiating prompts...\u001b[0m\n",
      "\u001b[32m2024-04-30 21:15:56.218\u001b[0m | \u001b[34m\u001b[1mDEBUG   \u001b[0m | \u001b[36mdesci_sense.shared_functions.parsers.multi_chain_parser\u001b[0m:\u001b[36mprocess_ref_post\u001b[0m:\u001b[36m180\u001b[0m - \u001b[34m\u001b[1mInvoking parallel chain...\u001b[0m\n",
      "Python(26662) MallocStackLogging: can't turn off malloc stack logging because it was not enabled.\n",
      "Python(26663) MallocStackLogging: can't turn off malloc stack logging because it was not enabled.\n"
     ]
    },
    {
     "name": "stdout",
     "output_type": "stream",
     "text": [
      "298\n"
     ]
    },
    {
     "name": "stderr",
     "output_type": "stream",
     "text": [
      "\u001b[32m2024-04-30 21:16:01.436\u001b[0m | \u001b[34m\u001b[1mDEBUG   \u001b[0m | \u001b[36mdesci_sense.shared_functions.web_extractors.citoid\u001b[0m:\u001b[36mfetch_citation\u001b[0m:\u001b[36m54\u001b[0m - \u001b[34m\u001b[1mfetching citoid data for: https://tnsr.org/2024/03/from-panic-to-policy-the-limits-of-foreign-propaganda-and-the-foundations-of-an-effective-response/\u001b[0m\n",
      "\u001b[32m2024-04-30 21:16:02.783\u001b[0m | \u001b[34m\u001b[1mDEBUG   \u001b[0m | \u001b[36mdesci_sense.shared_functions.parsers.multi_chain_parser\u001b[0m:\u001b[36mprocess_ref_post\u001b[0m:\u001b[36m173\u001b[0m - \u001b[34m\u001b[1mProcessing post with parsers: ['topics']\u001b[0m\n",
      "\u001b[32m2024-04-30 21:16:02.784\u001b[0m | \u001b[34m\u001b[1mDEBUG   \u001b[0m | \u001b[36mdesci_sense.shared_functions.parsers.multi_chain_parser\u001b[0m:\u001b[36mprocess_ref_post\u001b[0m:\u001b[36m175\u001b[0m - \u001b[34m\u001b[1mInstantiating prompts...\u001b[0m\n",
      "\u001b[32m2024-04-30 21:16:02.786\u001b[0m | \u001b[34m\u001b[1mDEBUG   \u001b[0m | \u001b[36mdesci_sense.shared_functions.parsers.multi_chain_parser\u001b[0m:\u001b[36mprocess_ref_post\u001b[0m:\u001b[36m180\u001b[0m - \u001b[34m\u001b[1mInvoking parallel chain...\u001b[0m\n",
      "Python(26664) MallocStackLogging: can't turn off malloc stack logging because it was not enabled.\n",
      "Python(26665) MallocStackLogging: can't turn off malloc stack logging because it was not enabled.\n"
     ]
    },
    {
     "name": "stdout",
     "output_type": "stream",
     "text": [
      "299\n"
     ]
    },
    {
     "name": "stderr",
     "output_type": "stream",
     "text": [
      "\u001b[32m2024-04-30 21:16:07.327\u001b[0m | \u001b[34m\u001b[1mDEBUG   \u001b[0m | \u001b[36mdesci_sense.shared_functions.web_extractors.citoid\u001b[0m:\u001b[36mfetch_citation_async\u001b[0m:\u001b[36m20\u001b[0m - \u001b[34m\u001b[1mtarget_url=https://www.conspicuouscognition.com/p/misinformation-researchers-are-wrong\u001b[0m\n",
      "\u001b[32m2024-04-30 21:16:07.329\u001b[0m | \u001b[34m\u001b[1mDEBUG   \u001b[0m | \u001b[36mdesci_sense.shared_functions.web_extractors.citoid\u001b[0m:\u001b[36mfetch_citation_async\u001b[0m:\u001b[36m20\u001b[0m - \u001b[34m\u001b[1mtarget_url=https://twitter.com/danwilliamsphil/status/1771141417210949959/photo/1\u001b[0m\n",
      "\u001b[32m2024-04-30 21:16:07.331\u001b[0m | \u001b[34m\u001b[1mDEBUG   \u001b[0m | \u001b[36mdesci_sense.shared_functions.web_extractors.citoid\u001b[0m:\u001b[36mfetch_citation_async\u001b[0m:\u001b[36m20\u001b[0m - \u001b[34m\u001b[1mtarget_url=https://twitter.com/koenfucius/status/1771138005467537464\u001b[0m\n",
      "Python(26666) MallocStackLogging: can't turn off malloc stack logging because it was not enabled.\n",
      "\u001b[32m2024-04-30 21:16:09.227\u001b[0m | \u001b[34m\u001b[1mDEBUG   \u001b[0m | \u001b[36mdesci_sense.shared_functions.parsers.multi_chain_parser\u001b[0m:\u001b[36mprocess_ref_post\u001b[0m:\u001b[36m173\u001b[0m - \u001b[34m\u001b[1mProcessing post with parsers: ['topics']\u001b[0m\n",
      "\u001b[32m2024-04-30 21:16:09.228\u001b[0m | \u001b[34m\u001b[1mDEBUG   \u001b[0m | \u001b[36mdesci_sense.shared_functions.parsers.multi_chain_parser\u001b[0m:\u001b[36mprocess_ref_post\u001b[0m:\u001b[36m175\u001b[0m - \u001b[34m\u001b[1mInstantiating prompts...\u001b[0m\n",
      "\u001b[32m2024-04-30 21:16:09.229\u001b[0m | \u001b[34m\u001b[1mDEBUG   \u001b[0m | \u001b[36mdesci_sense.shared_functions.parsers.multi_chain_parser\u001b[0m:\u001b[36mprocess_ref_post\u001b[0m:\u001b[36m180\u001b[0m - \u001b[34m\u001b[1mInvoking parallel chain...\u001b[0m\n",
      "Python(26667) MallocStackLogging: can't turn off malloc stack logging because it was not enabled.\n"
     ]
    },
    {
     "name": "stdout",
     "output_type": "stream",
     "text": [
      "300\n"
     ]
    },
    {
     "name": "stderr",
     "output_type": "stream",
     "text": [
      "\u001b[32m2024-04-30 21:16:13.314\u001b[0m | \u001b[34m\u001b[1mDEBUG   \u001b[0m | \u001b[36mdesci_sense.shared_functions.web_extractors.citoid\u001b[0m:\u001b[36mfetch_citation\u001b[0m:\u001b[36m54\u001b[0m - \u001b[34m\u001b[1mfetching citoid data for: https://twitter.com/rbowr17/status/1770367072511705419\u001b[0m\n",
      "Python(26669) MallocStackLogging: can't turn off malloc stack logging because it was not enabled.\n",
      "\u001b[32m2024-04-30 21:16:13.541\u001b[0m | \u001b[34m\u001b[1mDEBUG   \u001b[0m | \u001b[36mdesci_sense.shared_functions.parsers.multi_chain_parser\u001b[0m:\u001b[36mprocess_ref_post\u001b[0m:\u001b[36m173\u001b[0m - \u001b[34m\u001b[1mProcessing post with parsers: ['topics']\u001b[0m\n",
      "\u001b[32m2024-04-30 21:16:13.542\u001b[0m | \u001b[34m\u001b[1mDEBUG   \u001b[0m | \u001b[36mdesci_sense.shared_functions.parsers.multi_chain_parser\u001b[0m:\u001b[36mprocess_ref_post\u001b[0m:\u001b[36m175\u001b[0m - \u001b[34m\u001b[1mInstantiating prompts...\u001b[0m\n",
      "\u001b[32m2024-04-30 21:16:13.543\u001b[0m | \u001b[34m\u001b[1mDEBUG   \u001b[0m | \u001b[36mdesci_sense.shared_functions.parsers.multi_chain_parser\u001b[0m:\u001b[36mprocess_ref_post\u001b[0m:\u001b[36m180\u001b[0m - \u001b[34m\u001b[1mInvoking parallel chain...\u001b[0m\n",
      "Python(26675) MallocStackLogging: can't turn off malloc stack logging because it was not enabled.\n"
     ]
    },
    {
     "name": "stdout",
     "output_type": "stream",
     "text": [
      "301\n"
     ]
    },
    {
     "name": "stderr",
     "output_type": "stream",
     "text": [
      "Python(26693) MallocStackLogging: can't turn off malloc stack logging because it was not enabled.\n",
      "\u001b[32m2024-04-30 21:16:19.263\u001b[0m | \u001b[34m\u001b[1mDEBUG   \u001b[0m | \u001b[36mdesci_sense.shared_functions.web_extractors.citoid\u001b[0m:\u001b[36mfetch_citation_async\u001b[0m:\u001b[36m20\u001b[0m - \u001b[34m\u001b[1mtarget_url=https://www.conspicuouscognition.com/p/in-politics-the-truth-is-not-self\u001b[0m\n",
      "\u001b[32m2024-04-30 21:16:19.265\u001b[0m | \u001b[34m\u001b[1mDEBUG   \u001b[0m | \u001b[36mdesci_sense.shared_functions.web_extractors.citoid\u001b[0m:\u001b[36mfetch_citation_async\u001b[0m:\u001b[36m20\u001b[0m - \u001b[34m\u001b[1mtarget_url=https://twitter.com/danwilliamsphil/status/1770347910367936563/photo/1\u001b[0m\n",
      "\u001b[32m2024-04-30 21:16:19.706\u001b[0m | \u001b[34m\u001b[1mDEBUG   \u001b[0m | \u001b[36mdesci_sense.shared_functions.parsers.multi_chain_parser\u001b[0m:\u001b[36mprocess_ref_post\u001b[0m:\u001b[36m173\u001b[0m - \u001b[34m\u001b[1mProcessing post with parsers: ['topics']\u001b[0m\n",
      "\u001b[32m2024-04-30 21:16:19.709\u001b[0m | \u001b[34m\u001b[1mDEBUG   \u001b[0m | \u001b[36mdesci_sense.shared_functions.parsers.multi_chain_parser\u001b[0m:\u001b[36mprocess_ref_post\u001b[0m:\u001b[36m175\u001b[0m - \u001b[34m\u001b[1mInstantiating prompts...\u001b[0m\n",
      "\u001b[32m2024-04-30 21:16:19.710\u001b[0m | \u001b[34m\u001b[1mDEBUG   \u001b[0m | \u001b[36mdesci_sense.shared_functions.parsers.multi_chain_parser\u001b[0m:\u001b[36mprocess_ref_post\u001b[0m:\u001b[36m180\u001b[0m - \u001b[34m\u001b[1mInvoking parallel chain...\u001b[0m\n",
      "Python(26704) MallocStackLogging: can't turn off malloc stack logging because it was not enabled.\n",
      "Python(26710) MallocStackLogging: can't turn off malloc stack logging because it was not enabled.\n"
     ]
    },
    {
     "name": "stdout",
     "output_type": "stream",
     "text": [
      "302\n"
     ]
    },
    {
     "name": "stderr",
     "output_type": "stream",
     "text": [
      "\u001b[32m2024-04-30 21:16:25.947\u001b[0m | \u001b[34m\u001b[1mDEBUG   \u001b[0m | \u001b[36mdesci_sense.shared_functions.web_extractors.citoid\u001b[0m:\u001b[36mfetch_citation\u001b[0m:\u001b[36m54\u001b[0m - \u001b[34m\u001b[1mfetching citoid data for: https://twitter.com/danwilliamsphil/status/1721490870615068852\u001b[0m\n",
      "\u001b[32m2024-04-30 21:16:26.125\u001b[0m | \u001b[34m\u001b[1mDEBUG   \u001b[0m | \u001b[36mdesci_sense.shared_functions.parsers.multi_chain_parser\u001b[0m:\u001b[36mprocess_ref_post\u001b[0m:\u001b[36m173\u001b[0m - \u001b[34m\u001b[1mProcessing post with parsers: ['topics']\u001b[0m\n",
      "\u001b[32m2024-04-30 21:16:26.126\u001b[0m | \u001b[34m\u001b[1mDEBUG   \u001b[0m | \u001b[36mdesci_sense.shared_functions.parsers.multi_chain_parser\u001b[0m:\u001b[36mprocess_ref_post\u001b[0m:\u001b[36m175\u001b[0m - \u001b[34m\u001b[1mInstantiating prompts...\u001b[0m\n",
      "\u001b[32m2024-04-30 21:16:26.127\u001b[0m | \u001b[34m\u001b[1mDEBUG   \u001b[0m | \u001b[36mdesci_sense.shared_functions.parsers.multi_chain_parser\u001b[0m:\u001b[36mprocess_ref_post\u001b[0m:\u001b[36m180\u001b[0m - \u001b[34m\u001b[1mInvoking parallel chain...\u001b[0m\n",
      "Python(26714) MallocStackLogging: can't turn off malloc stack logging because it was not enabled.\n"
     ]
    },
    {
     "name": "stdout",
     "output_type": "stream",
     "text": [
      "303\n"
     ]
    },
    {
     "name": "stderr",
     "output_type": "stream",
     "text": [
      "Python(26716) MallocStackLogging: can't turn off malloc stack logging because it was not enabled.\n",
      "\u001b[32m2024-04-30 21:16:28.941\u001b[0m | \u001b[34m\u001b[1mDEBUG   \u001b[0m | \u001b[36mdesci_sense.shared_functions.web_extractors.citoid\u001b[0m:\u001b[36mfetch_citation\u001b[0m:\u001b[36m54\u001b[0m - \u001b[34m\u001b[1mfetching citoid data for: https://twitter.com/boralexander1/status/1768316383866003834\u001b[0m\n",
      "\u001b[32m2024-04-30 21:16:29.140\u001b[0m | \u001b[34m\u001b[1mDEBUG   \u001b[0m | \u001b[36mdesci_sense.shared_functions.parsers.multi_chain_parser\u001b[0m:\u001b[36mprocess_ref_post\u001b[0m:\u001b[36m173\u001b[0m - \u001b[34m\u001b[1mProcessing post with parsers: ['topics']\u001b[0m\n",
      "\u001b[32m2024-04-30 21:16:29.140\u001b[0m | \u001b[34m\u001b[1mDEBUG   \u001b[0m | \u001b[36mdesci_sense.shared_functions.parsers.multi_chain_parser\u001b[0m:\u001b[36mprocess_ref_post\u001b[0m:\u001b[36m175\u001b[0m - \u001b[34m\u001b[1mInstantiating prompts...\u001b[0m\n",
      "\u001b[32m2024-04-30 21:16:29.141\u001b[0m | \u001b[34m\u001b[1mDEBUG   \u001b[0m | \u001b[36mdesci_sense.shared_functions.parsers.multi_chain_parser\u001b[0m:\u001b[36mprocess_ref_post\u001b[0m:\u001b[36m180\u001b[0m - \u001b[34m\u001b[1mInvoking parallel chain...\u001b[0m\n",
      "Python(26718) MallocStackLogging: can't turn off malloc stack logging because it was not enabled.\n"
     ]
    },
    {
     "name": "stdout",
     "output_type": "stream",
     "text": [
      "304\n"
     ]
    },
    {
     "name": "stderr",
     "output_type": "stream",
     "text": [
      "\u001b[32m2024-04-30 21:16:32.594\u001b[0m | \u001b[34m\u001b[1mDEBUG   \u001b[0m | \u001b[36mdesci_sense.shared_functions.web_extractors.citoid\u001b[0m:\u001b[36mfetch_citation\u001b[0m:\u001b[36m54\u001b[0m - \u001b[34m\u001b[1mfetching citoid data for: https://twitter.com/emollick/status/1780371574543331625\u001b[0m\n",
      "\u001b[32m2024-04-30 21:16:32.817\u001b[0m | \u001b[34m\u001b[1mDEBUG   \u001b[0m | \u001b[36mdesci_sense.shared_functions.parsers.multi_chain_parser\u001b[0m:\u001b[36mprocess_ref_post\u001b[0m:\u001b[36m173\u001b[0m - \u001b[34m\u001b[1mProcessing post with parsers: ['topics']\u001b[0m\n",
      "\u001b[32m2024-04-30 21:16:32.817\u001b[0m | \u001b[34m\u001b[1mDEBUG   \u001b[0m | \u001b[36mdesci_sense.shared_functions.parsers.multi_chain_parser\u001b[0m:\u001b[36mprocess_ref_post\u001b[0m:\u001b[36m175\u001b[0m - \u001b[34m\u001b[1mInstantiating prompts...\u001b[0m\n",
      "\u001b[32m2024-04-30 21:16:32.818\u001b[0m | \u001b[34m\u001b[1mDEBUG   \u001b[0m | \u001b[36mdesci_sense.shared_functions.parsers.multi_chain_parser\u001b[0m:\u001b[36mprocess_ref_post\u001b[0m:\u001b[36m180\u001b[0m - \u001b[34m\u001b[1mInvoking parallel chain...\u001b[0m\n",
      "Python(26720) MallocStackLogging: can't turn off malloc stack logging because it was not enabled.\n",
      "\u001b[32m2024-04-30 21:16:35.395\u001b[0m | \u001b[34m\u001b[1mDEBUG   \u001b[0m | \u001b[36mdesci_sense.shared_functions.parsers.multi_chain_parser\u001b[0m:\u001b[36mprocess_ref_post\u001b[0m:\u001b[36m173\u001b[0m - \u001b[34m\u001b[1mProcessing post with parsers: ['topics']\u001b[0m\n",
      "\u001b[32m2024-04-30 21:16:35.396\u001b[0m | \u001b[34m\u001b[1mDEBUG   \u001b[0m | \u001b[36mdesci_sense.shared_functions.parsers.multi_chain_parser\u001b[0m:\u001b[36mprocess_ref_post\u001b[0m:\u001b[36m175\u001b[0m - \u001b[34m\u001b[1mInstantiating prompts...\u001b[0m\n",
      "\u001b[32m2024-04-30 21:16:35.397\u001b[0m | \u001b[34m\u001b[1mDEBUG   \u001b[0m | \u001b[36mdesci_sense.shared_functions.parsers.multi_chain_parser\u001b[0m:\u001b[36mprocess_ref_post\u001b[0m:\u001b[36m180\u001b[0m - \u001b[34m\u001b[1mInvoking parallel chain...\u001b[0m\n"
     ]
    },
    {
     "name": "stdout",
     "output_type": "stream",
     "text": [
      "305\n"
     ]
    },
    {
     "name": "stderr",
     "output_type": "stream",
     "text": [
      "Python(26722) MallocStackLogging: can't turn off malloc stack logging because it was not enabled.\n"
     ]
    },
    {
     "name": "stdout",
     "output_type": "stream",
     "text": [
      "306\n"
     ]
    },
    {
     "name": "stderr",
     "output_type": "stream",
     "text": [
      "\u001b[32m2024-04-30 21:16:38.927\u001b[0m | \u001b[34m\u001b[1mDEBUG   \u001b[0m | \u001b[36mdesci_sense.shared_functions.web_extractors.citoid\u001b[0m:\u001b[36mfetch_citation\u001b[0m:\u001b[36m54\u001b[0m - \u001b[34m\u001b[1mfetching citoid data for: https://twitter.com/JoshGellers/status/1779230064371962349\u001b[0m\n",
      "\u001b[32m2024-04-30 21:16:39.130\u001b[0m | \u001b[34m\u001b[1mDEBUG   \u001b[0m | \u001b[36mdesci_sense.shared_functions.parsers.multi_chain_parser\u001b[0m:\u001b[36mprocess_ref_post\u001b[0m:\u001b[36m173\u001b[0m - \u001b[34m\u001b[1mProcessing post with parsers: ['topics']\u001b[0m\n",
      "\u001b[32m2024-04-30 21:16:39.131\u001b[0m | \u001b[34m\u001b[1mDEBUG   \u001b[0m | \u001b[36mdesci_sense.shared_functions.parsers.multi_chain_parser\u001b[0m:\u001b[36mprocess_ref_post\u001b[0m:\u001b[36m175\u001b[0m - \u001b[34m\u001b[1mInstantiating prompts...\u001b[0m\n",
      "\u001b[32m2024-04-30 21:16:39.132\u001b[0m | \u001b[34m\u001b[1mDEBUG   \u001b[0m | \u001b[36mdesci_sense.shared_functions.parsers.multi_chain_parser\u001b[0m:\u001b[36mprocess_ref_post\u001b[0m:\u001b[36m180\u001b[0m - \u001b[34m\u001b[1mInvoking parallel chain...\u001b[0m\n",
      "Python(26724) MallocStackLogging: can't turn off malloc stack logging because it was not enabled.\n"
     ]
    },
    {
     "name": "stdout",
     "output_type": "stream",
     "text": [
      "307\n"
     ]
    },
    {
     "name": "stderr",
     "output_type": "stream",
     "text": [
      "Python(26726) MallocStackLogging: can't turn off malloc stack logging because it was not enabled.\n",
      "\u001b[32m2024-04-30 21:16:42.156\u001b[0m | \u001b[34m\u001b[1mDEBUG   \u001b[0m | \u001b[36mdesci_sense.shared_functions.web_extractors.citoid\u001b[0m:\u001b[36mfetch_citation\u001b[0m:\u001b[36m54\u001b[0m - \u001b[34m\u001b[1mfetching citoid data for: https://twitter.com/bcmerchant/status/1779213221867520038\u001b[0m\n",
      "\u001b[32m2024-04-30 21:16:42.352\u001b[0m | \u001b[34m\u001b[1mDEBUG   \u001b[0m | \u001b[36mdesci_sense.shared_functions.parsers.multi_chain_parser\u001b[0m:\u001b[36mprocess_ref_post\u001b[0m:\u001b[36m173\u001b[0m - \u001b[34m\u001b[1mProcessing post with parsers: ['topics']\u001b[0m\n",
      "\u001b[32m2024-04-30 21:16:42.352\u001b[0m | \u001b[34m\u001b[1mDEBUG   \u001b[0m | \u001b[36mdesci_sense.shared_functions.parsers.multi_chain_parser\u001b[0m:\u001b[36mprocess_ref_post\u001b[0m:\u001b[36m175\u001b[0m - \u001b[34m\u001b[1mInstantiating prompts...\u001b[0m\n",
      "\u001b[32m2024-04-30 21:16:42.355\u001b[0m | \u001b[34m\u001b[1mDEBUG   \u001b[0m | \u001b[36mdesci_sense.shared_functions.parsers.multi_chain_parser\u001b[0m:\u001b[36mprocess_ref_post\u001b[0m:\u001b[36m180\u001b[0m - \u001b[34m\u001b[1mInvoking parallel chain...\u001b[0m\n",
      "Python(26747) MallocStackLogging: can't turn off malloc stack logging because it was not enabled.\n"
     ]
    },
    {
     "name": "stdout",
     "output_type": "stream",
     "text": [
      "308\n"
     ]
    },
    {
     "name": "stderr",
     "output_type": "stream",
     "text": [
      "\u001b[32m2024-04-30 21:16:45.913\u001b[0m | \u001b[34m\u001b[1mDEBUG   \u001b[0m | \u001b[36mdesci_sense.shared_functions.web_extractors.citoid\u001b[0m:\u001b[36mfetch_citation\u001b[0m:\u001b[36m54\u001b[0m - \u001b[34m\u001b[1mfetching citoid data for: https://apnews.com/article/amazon-andrew-ng-ai-google-82b8612b36aa08d63498dd9bf37bda09\u001b[0m\n",
      "\u001b[32m2024-04-30 21:16:46.606\u001b[0m | \u001b[34m\u001b[1mDEBUG   \u001b[0m | \u001b[36mdesci_sense.shared_functions.parsers.multi_chain_parser\u001b[0m:\u001b[36mprocess_ref_post\u001b[0m:\u001b[36m173\u001b[0m - \u001b[34m\u001b[1mProcessing post with parsers: ['topics']\u001b[0m\n",
      "\u001b[32m2024-04-30 21:16:46.608\u001b[0m | \u001b[34m\u001b[1mDEBUG   \u001b[0m | \u001b[36mdesci_sense.shared_functions.parsers.multi_chain_parser\u001b[0m:\u001b[36mprocess_ref_post\u001b[0m:\u001b[36m175\u001b[0m - \u001b[34m\u001b[1mInstantiating prompts...\u001b[0m\n",
      "\u001b[32m2024-04-30 21:16:46.610\u001b[0m | \u001b[34m\u001b[1mDEBUG   \u001b[0m | \u001b[36mdesci_sense.shared_functions.parsers.multi_chain_parser\u001b[0m:\u001b[36mprocess_ref_post\u001b[0m:\u001b[36m180\u001b[0m - \u001b[34m\u001b[1mInvoking parallel chain...\u001b[0m\n",
      "Python(26749) MallocStackLogging: can't turn off malloc stack logging because it was not enabled.\n"
     ]
    },
    {
     "name": "stdout",
     "output_type": "stream",
     "text": [
      "309\n"
     ]
    },
    {
     "name": "stderr",
     "output_type": "stream",
     "text": [
      "\u001b[32m2024-04-30 21:16:49.236\u001b[0m | \u001b[34m\u001b[1mDEBUG   \u001b[0m | \u001b[36mdesci_sense.shared_functions.web_extractors.citoid\u001b[0m:\u001b[36mfetch_citation\u001b[0m:\u001b[36m54\u001b[0m - \u001b[34m\u001b[1mfetching citoid data for: https://twitter.com/mccormick_ted/status/1778440339038048281\u001b[0m\n",
      "\u001b[32m2024-04-30 21:16:49.445\u001b[0m | \u001b[34m\u001b[1mDEBUG   \u001b[0m | \u001b[36mdesci_sense.shared_functions.parsers.multi_chain_parser\u001b[0m:\u001b[36mprocess_ref_post\u001b[0m:\u001b[36m173\u001b[0m - \u001b[34m\u001b[1mProcessing post with parsers: ['topics']\u001b[0m\n",
      "\u001b[32m2024-04-30 21:16:49.446\u001b[0m | \u001b[34m\u001b[1mDEBUG   \u001b[0m | \u001b[36mdesci_sense.shared_functions.parsers.multi_chain_parser\u001b[0m:\u001b[36mprocess_ref_post\u001b[0m:\u001b[36m175\u001b[0m - \u001b[34m\u001b[1mInstantiating prompts...\u001b[0m\n",
      "\u001b[32m2024-04-30 21:16:49.448\u001b[0m | \u001b[34m\u001b[1mDEBUG   \u001b[0m | \u001b[36mdesci_sense.shared_functions.parsers.multi_chain_parser\u001b[0m:\u001b[36mprocess_ref_post\u001b[0m:\u001b[36m180\u001b[0m - \u001b[34m\u001b[1mInvoking parallel chain...\u001b[0m\n",
      "Python(26751) MallocStackLogging: can't turn off malloc stack logging because it was not enabled.\n",
      "Python(26757) MallocStackLogging: can't turn off malloc stack logging because it was not enabled.\n"
     ]
    },
    {
     "name": "stdout",
     "output_type": "stream",
     "text": [
      "310\n"
     ]
    },
    {
     "name": "stderr",
     "output_type": "stream",
     "text": [
      "\u001b[32m2024-04-30 21:16:54.395\u001b[0m | \u001b[34m\u001b[1mDEBUG   \u001b[0m | \u001b[36mdesci_sense.shared_functions.web_extractors.citoid\u001b[0m:\u001b[36mfetch_citation\u001b[0m:\u001b[36m54\u001b[0m - \u001b[34m\u001b[1mfetching citoid data for: https://criticalai.org/2024/04/05/sneak-preview-review-james-e-dobsons-the-birth-of-computer-vision/\u001b[0m\n",
      "\u001b[32m2024-04-30 21:16:54.679\u001b[0m | \u001b[34m\u001b[1mDEBUG   \u001b[0m | \u001b[36mdesci_sense.shared_functions.parsers.multi_chain_parser\u001b[0m:\u001b[36mprocess_ref_post\u001b[0m:\u001b[36m173\u001b[0m - \u001b[34m\u001b[1mProcessing post with parsers: ['topics']\u001b[0m\n",
      "\u001b[32m2024-04-30 21:16:54.680\u001b[0m | \u001b[34m\u001b[1mDEBUG   \u001b[0m | \u001b[36mdesci_sense.shared_functions.parsers.multi_chain_parser\u001b[0m:\u001b[36mprocess_ref_post\u001b[0m:\u001b[36m175\u001b[0m - \u001b[34m\u001b[1mInstantiating prompts...\u001b[0m\n",
      "\u001b[32m2024-04-30 21:16:54.682\u001b[0m | \u001b[34m\u001b[1mDEBUG   \u001b[0m | \u001b[36mdesci_sense.shared_functions.parsers.multi_chain_parser\u001b[0m:\u001b[36mprocess_ref_post\u001b[0m:\u001b[36m180\u001b[0m - \u001b[34m\u001b[1mInvoking parallel chain...\u001b[0m\n",
      "Python(26760) MallocStackLogging: can't turn off malloc stack logging because it was not enabled.\n"
     ]
    },
    {
     "name": "stdout",
     "output_type": "stream",
     "text": [
      "311\n"
     ]
    },
    {
     "name": "stderr",
     "output_type": "stream",
     "text": [
      "Python(26762) MallocStackLogging: can't turn off malloc stack logging because it was not enabled.\n",
      "\u001b[32m2024-04-30 21:16:57.761\u001b[0m | \u001b[34m\u001b[1mDEBUG   \u001b[0m | \u001b[36mdesci_sense.shared_functions.web_extractors.citoid\u001b[0m:\u001b[36mfetch_citation\u001b[0m:\u001b[36m54\u001b[0m - \u001b[34m\u001b[1mfetching citoid data for: https://www.nytimes.com/2024/04/10/opinion/schools-technology.html#commentsContainer\u001b[0m\n",
      "\u001b[32m2024-04-30 21:16:58.687\u001b[0m | \u001b[34m\u001b[1mDEBUG   \u001b[0m | \u001b[36mdesci_sense.shared_functions.parsers.multi_chain_parser\u001b[0m:\u001b[36mprocess_ref_post\u001b[0m:\u001b[36m173\u001b[0m - \u001b[34m\u001b[1mProcessing post with parsers: ['topics']\u001b[0m\n",
      "\u001b[32m2024-04-30 21:16:58.688\u001b[0m | \u001b[34m\u001b[1mDEBUG   \u001b[0m | \u001b[36mdesci_sense.shared_functions.parsers.multi_chain_parser\u001b[0m:\u001b[36mprocess_ref_post\u001b[0m:\u001b[36m175\u001b[0m - \u001b[34m\u001b[1mInstantiating prompts...\u001b[0m\n",
      "\u001b[32m2024-04-30 21:16:58.689\u001b[0m | \u001b[34m\u001b[1mDEBUG   \u001b[0m | \u001b[36mdesci_sense.shared_functions.parsers.multi_chain_parser\u001b[0m:\u001b[36mprocess_ref_post\u001b[0m:\u001b[36m180\u001b[0m - \u001b[34m\u001b[1mInvoking parallel chain...\u001b[0m\n",
      "Python(26764) MallocStackLogging: can't turn off malloc stack logging because it was not enabled.\n"
     ]
    },
    {
     "name": "stdout",
     "output_type": "stream",
     "text": [
      "312\n"
     ]
    },
    {
     "name": "stderr",
     "output_type": "stream",
     "text": [
      "Python(26766) MallocStackLogging: can't turn off malloc stack logging because it was not enabled.\n",
      "\u001b[32m2024-04-30 21:17:03.577\u001b[0m | \u001b[34m\u001b[1mDEBUG   \u001b[0m | \u001b[36mdesci_sense.shared_functions.web_extractors.citoid\u001b[0m:\u001b[36mfetch_citation_async\u001b[0m:\u001b[36m20\u001b[0m - \u001b[34m\u001b[1mtarget_url=https://www.isrf.org/2024/04/03/the-art-of-knowledge-failure/\u001b[0m\n",
      "\u001b[32m2024-04-30 21:17:03.580\u001b[0m | \u001b[34m\u001b[1mDEBUG   \u001b[0m | \u001b[36mdesci_sense.shared_functions.web_extractors.citoid\u001b[0m:\u001b[36mfetch_citation_async\u001b[0m:\u001b[36m20\u001b[0m - \u001b[34m\u001b[1mtarget_url=https://twitter.com/CriticalAI/status/1777748214462009731/photo/1\u001b[0m\n",
      "Python(26768) MallocStackLogging: can't turn off malloc stack logging because it was not enabled.\n",
      "\u001b[32m2024-04-30 21:17:07.340\u001b[0m | \u001b[34m\u001b[1mDEBUG   \u001b[0m | \u001b[36mdesci_sense.shared_functions.parsers.multi_chain_parser\u001b[0m:\u001b[36mprocess_ref_post\u001b[0m:\u001b[36m173\u001b[0m - \u001b[34m\u001b[1mProcessing post with parsers: ['topics']\u001b[0m\n",
      "\u001b[32m2024-04-30 21:17:07.347\u001b[0m | \u001b[34m\u001b[1mDEBUG   \u001b[0m | \u001b[36mdesci_sense.shared_functions.parsers.multi_chain_parser\u001b[0m:\u001b[36mprocess_ref_post\u001b[0m:\u001b[36m175\u001b[0m - \u001b[34m\u001b[1mInstantiating prompts...\u001b[0m\n",
      "\u001b[32m2024-04-30 21:17:07.352\u001b[0m | \u001b[34m\u001b[1mDEBUG   \u001b[0m | \u001b[36mdesci_sense.shared_functions.parsers.multi_chain_parser\u001b[0m:\u001b[36mprocess_ref_post\u001b[0m:\u001b[36m180\u001b[0m - \u001b[34m\u001b[1mInvoking parallel chain...\u001b[0m\n",
      "Python(26770) MallocStackLogging: can't turn off malloc stack logging because it was not enabled.\n"
     ]
    },
    {
     "name": "stdout",
     "output_type": "stream",
     "text": [
      "313\n"
     ]
    },
    {
     "name": "stderr",
     "output_type": "stream",
     "text": [
      "Python(26772) MallocStackLogging: can't turn off malloc stack logging because it was not enabled.\n",
      "\u001b[32m2024-04-30 21:17:10.933\u001b[0m | \u001b[34m\u001b[1mDEBUG   \u001b[0m | \u001b[36mdesci_sense.shared_functions.web_extractors.citoid\u001b[0m:\u001b[36mfetch_citation\u001b[0m:\u001b[36m54\u001b[0m - \u001b[34m\u001b[1mfetching citoid data for: https://twitter.com/james_s_bedford/status/1776725994365403345\u001b[0m\n",
      "\u001b[32m2024-04-30 21:17:11.162\u001b[0m | \u001b[34m\u001b[1mDEBUG   \u001b[0m | \u001b[36mdesci_sense.shared_functions.parsers.multi_chain_parser\u001b[0m:\u001b[36mprocess_ref_post\u001b[0m:\u001b[36m173\u001b[0m - \u001b[34m\u001b[1mProcessing post with parsers: ['topics']\u001b[0m\n",
      "\u001b[32m2024-04-30 21:17:11.163\u001b[0m | \u001b[34m\u001b[1mDEBUG   \u001b[0m | \u001b[36mdesci_sense.shared_functions.parsers.multi_chain_parser\u001b[0m:\u001b[36mprocess_ref_post\u001b[0m:\u001b[36m175\u001b[0m - \u001b[34m\u001b[1mInstantiating prompts...\u001b[0m\n",
      "\u001b[32m2024-04-30 21:17:11.163\u001b[0m | \u001b[34m\u001b[1mDEBUG   \u001b[0m | \u001b[36mdesci_sense.shared_functions.parsers.multi_chain_parser\u001b[0m:\u001b[36mprocess_ref_post\u001b[0m:\u001b[36m180\u001b[0m - \u001b[34m\u001b[1mInvoking parallel chain...\u001b[0m\n",
      "Python(26774) MallocStackLogging: can't turn off malloc stack logging because it was not enabled.\n"
     ]
    },
    {
     "name": "stdout",
     "output_type": "stream",
     "text": [
      "314\n"
     ]
    },
    {
     "name": "stderr",
     "output_type": "stream",
     "text": [
      "\u001b[32m2024-04-30 21:17:15.091\u001b[0m | \u001b[34m\u001b[1mDEBUG   \u001b[0m | \u001b[36mdesci_sense.shared_functions.web_extractors.citoid\u001b[0m:\u001b[36mfetch_citation\u001b[0m:\u001b[36m54\u001b[0m - \u001b[34m\u001b[1mfetching citoid data for: https://twitter.com/sama/status/1776083954786836979\u001b[0m\n",
      "\u001b[32m2024-04-30 21:17:15.328\u001b[0m | \u001b[34m\u001b[1mDEBUG   \u001b[0m | \u001b[36mdesci_sense.shared_functions.parsers.multi_chain_parser\u001b[0m:\u001b[36mprocess_ref_post\u001b[0m:\u001b[36m173\u001b[0m - \u001b[34m\u001b[1mProcessing post with parsers: ['topics']\u001b[0m\n",
      "\u001b[32m2024-04-30 21:17:15.329\u001b[0m | \u001b[34m\u001b[1mDEBUG   \u001b[0m | \u001b[36mdesci_sense.shared_functions.parsers.multi_chain_parser\u001b[0m:\u001b[36mprocess_ref_post\u001b[0m:\u001b[36m175\u001b[0m - \u001b[34m\u001b[1mInstantiating prompts...\u001b[0m\n",
      "\u001b[32m2024-04-30 21:17:15.330\u001b[0m | \u001b[34m\u001b[1mDEBUG   \u001b[0m | \u001b[36mdesci_sense.shared_functions.parsers.multi_chain_parser\u001b[0m:\u001b[36mprocess_ref_post\u001b[0m:\u001b[36m180\u001b[0m - \u001b[34m\u001b[1mInvoking parallel chain...\u001b[0m\n",
      "Python(26776) MallocStackLogging: can't turn off malloc stack logging because it was not enabled.\n",
      "Python(26778) MallocStackLogging: can't turn off malloc stack logging because it was not enabled.\n",
      "\u001b[32m2024-04-30 21:17:19.276\u001b[0m | \u001b[34m\u001b[1mDEBUG   \u001b[0m | \u001b[36mdesci_sense.shared_functions.parsers.multi_chain_parser\u001b[0m:\u001b[36mprocess_ref_post\u001b[0m:\u001b[36m173\u001b[0m - \u001b[34m\u001b[1mProcessing post with parsers: ['topics']\u001b[0m\n",
      "\u001b[32m2024-04-30 21:17:19.277\u001b[0m | \u001b[34m\u001b[1mDEBUG   \u001b[0m | \u001b[36mdesci_sense.shared_functions.parsers.multi_chain_parser\u001b[0m:\u001b[36mprocess_ref_post\u001b[0m:\u001b[36m175\u001b[0m - \u001b[34m\u001b[1mInstantiating prompts...\u001b[0m\n",
      "\u001b[32m2024-04-30 21:17:19.277\u001b[0m | \u001b[34m\u001b[1mDEBUG   \u001b[0m | \u001b[36mdesci_sense.shared_functions.parsers.multi_chain_parser\u001b[0m:\u001b[36mprocess_ref_post\u001b[0m:\u001b[36m180\u001b[0m - \u001b[34m\u001b[1mInvoking parallel chain...\u001b[0m\n"
     ]
    },
    {
     "name": "stdout",
     "output_type": "stream",
     "text": [
      "315\n"
     ]
    },
    {
     "name": "stderr",
     "output_type": "stream",
     "text": [
      "Python(26780) MallocStackLogging: can't turn off malloc stack logging because it was not enabled.\n"
     ]
    },
    {
     "name": "stdout",
     "output_type": "stream",
     "text": [
      "316\n"
     ]
    },
    {
     "name": "stderr",
     "output_type": "stream",
     "text": [
      "\u001b[32m2024-04-30 21:17:23.418\u001b[0m | \u001b[34m\u001b[1mDEBUG   \u001b[0m | \u001b[36mdesci_sense.shared_functions.web_extractors.citoid\u001b[0m:\u001b[36mfetch_citation\u001b[0m:\u001b[36m54\u001b[0m - \u001b[34m\u001b[1mfetching citoid data for: https://twitter.com/emilymbender/status/1775911190385852840\u001b[0m\n",
      "Python(26786) MallocStackLogging: can't turn off malloc stack logging because it was not enabled.\n",
      "\u001b[32m2024-04-30 21:17:23.618\u001b[0m | \u001b[34m\u001b[1mDEBUG   \u001b[0m | \u001b[36mdesci_sense.shared_functions.parsers.multi_chain_parser\u001b[0m:\u001b[36mprocess_ref_post\u001b[0m:\u001b[36m173\u001b[0m - \u001b[34m\u001b[1mProcessing post with parsers: ['topics']\u001b[0m\n",
      "\u001b[32m2024-04-30 21:17:23.619\u001b[0m | \u001b[34m\u001b[1mDEBUG   \u001b[0m | \u001b[36mdesci_sense.shared_functions.parsers.multi_chain_parser\u001b[0m:\u001b[36mprocess_ref_post\u001b[0m:\u001b[36m175\u001b[0m - \u001b[34m\u001b[1mInstantiating prompts...\u001b[0m\n",
      "\u001b[32m2024-04-30 21:17:23.620\u001b[0m | \u001b[34m\u001b[1mDEBUG   \u001b[0m | \u001b[36mdesci_sense.shared_functions.parsers.multi_chain_parser\u001b[0m:\u001b[36mprocess_ref_post\u001b[0m:\u001b[36m180\u001b[0m - \u001b[34m\u001b[1mInvoking parallel chain...\u001b[0m\n",
      "Python(26790) MallocStackLogging: can't turn off malloc stack logging because it was not enabled.\n"
     ]
    },
    {
     "name": "stdout",
     "output_type": "stream",
     "text": [
      "317\n"
     ]
    },
    {
     "name": "stderr",
     "output_type": "stream",
     "text": [
      "\u001b[32m2024-04-30 21:17:27.818\u001b[0m | \u001b[34m\u001b[1mDEBUG   \u001b[0m | \u001b[36mdesci_sense.shared_functions.web_extractors.citoid\u001b[0m:\u001b[36mfetch_citation_async\u001b[0m:\u001b[36m20\u001b[0m - \u001b[34m\u001b[1mtarget_url=https://twitter.com/Caffar3Cristina/status/1775876442389192843\u001b[0m\n",
      "\u001b[32m2024-04-30 21:17:27.820\u001b[0m | \u001b[34m\u001b[1mDEBUG   \u001b[0m | \u001b[36mdesci_sense.shared_functions.web_extractors.citoid\u001b[0m:\u001b[36mfetch_citation_async\u001b[0m:\u001b[36m20\u001b[0m - \u001b[34m\u001b[1mtarget_url=https://www.bostonreview.net/forum_response/the-means-of-prediction/\u001b[0m\n",
      "\u001b[32m2024-04-30 21:17:28.422\u001b[0m | \u001b[34m\u001b[1mDEBUG   \u001b[0m | \u001b[36mdesci_sense.shared_functions.parsers.multi_chain_parser\u001b[0m:\u001b[36mprocess_ref_post\u001b[0m:\u001b[36m173\u001b[0m - \u001b[34m\u001b[1mProcessing post with parsers: ['topics']\u001b[0m\n",
      "\u001b[32m2024-04-30 21:17:28.423\u001b[0m | \u001b[34m\u001b[1mDEBUG   \u001b[0m | \u001b[36mdesci_sense.shared_functions.parsers.multi_chain_parser\u001b[0m:\u001b[36mprocess_ref_post\u001b[0m:\u001b[36m175\u001b[0m - \u001b[34m\u001b[1mInstantiating prompts...\u001b[0m\n",
      "\u001b[32m2024-04-30 21:17:28.425\u001b[0m | \u001b[34m\u001b[1mDEBUG   \u001b[0m | \u001b[36mdesci_sense.shared_functions.parsers.multi_chain_parser\u001b[0m:\u001b[36mprocess_ref_post\u001b[0m:\u001b[36m180\u001b[0m - \u001b[34m\u001b[1mInvoking parallel chain...\u001b[0m\n",
      "Python(26792) MallocStackLogging: can't turn off malloc stack logging because it was not enabled.\n",
      "Python(26800) MallocStackLogging: can't turn off malloc stack logging because it was not enabled.\n"
     ]
    },
    {
     "name": "stdout",
     "output_type": "stream",
     "text": [
      "318\n"
     ]
    },
    {
     "name": "stderr",
     "output_type": "stream",
     "text": [
      "\u001b[32m2024-04-30 21:17:32.587\u001b[0m | \u001b[34m\u001b[1mDEBUG   \u001b[0m | \u001b[36mdesci_sense.shared_functions.web_extractors.citoid\u001b[0m:\u001b[36mfetch_citation_async\u001b[0m:\u001b[36m20\u001b[0m - \u001b[34m\u001b[1mtarget_url=https://twitter.com/CriticalAI/status/1775516427224531195/photo/1\u001b[0m\n",
      "\u001b[32m2024-04-30 21:17:32.590\u001b[0m | \u001b[34m\u001b[1mDEBUG   \u001b[0m | \u001b[36mdesci_sense.shared_functions.web_extractors.citoid\u001b[0m:\u001b[36mfetch_citation_async\u001b[0m:\u001b[36m20\u001b[0m - \u001b[34m\u001b[1mtarget_url=https://twitter.com/emollick/status/1775333760025694692\u001b[0m\n",
      "\u001b[32m2024-04-30 21:17:33.732\u001b[0m | \u001b[34m\u001b[1mDEBUG   \u001b[0m | \u001b[36mdesci_sense.shared_functions.parsers.multi_chain_parser\u001b[0m:\u001b[36mprocess_ref_post\u001b[0m:\u001b[36m173\u001b[0m - \u001b[34m\u001b[1mProcessing post with parsers: ['topics']\u001b[0m\n",
      "\u001b[32m2024-04-30 21:17:33.735\u001b[0m | \u001b[34m\u001b[1mDEBUG   \u001b[0m | \u001b[36mdesci_sense.shared_functions.parsers.multi_chain_parser\u001b[0m:\u001b[36mprocess_ref_post\u001b[0m:\u001b[36m175\u001b[0m - \u001b[34m\u001b[1mInstantiating prompts...\u001b[0m\n",
      "\u001b[32m2024-04-30 21:17:33.736\u001b[0m | \u001b[34m\u001b[1mDEBUG   \u001b[0m | \u001b[36mdesci_sense.shared_functions.parsers.multi_chain_parser\u001b[0m:\u001b[36mprocess_ref_post\u001b[0m:\u001b[36m180\u001b[0m - \u001b[34m\u001b[1mInvoking parallel chain...\u001b[0m\n",
      "Python(26806) MallocStackLogging: can't turn off malloc stack logging because it was not enabled.\n"
     ]
    },
    {
     "name": "stdout",
     "output_type": "stream",
     "text": [
      "319\n"
     ]
    },
    {
     "name": "stderr",
     "output_type": "stream",
     "text": [
      "\u001b[32m2024-04-30 21:17:36.249\u001b[0m | \u001b[34m\u001b[1mDEBUG   \u001b[0m | \u001b[36mdesci_sense.shared_functions.web_extractors.citoid\u001b[0m:\u001b[36mfetch_citation_async\u001b[0m:\u001b[36m20\u001b[0m - \u001b[34m\u001b[1mtarget_url=https://arxiv.org/abs/2111.15366\u001b[0m\n",
      "\u001b[32m2024-04-30 21:17:36.251\u001b[0m | \u001b[34m\u001b[1mDEBUG   \u001b[0m | \u001b[36mdesci_sense.shared_functions.web_extractors.citoid\u001b[0m:\u001b[36mfetch_citation_async\u001b[0m:\u001b[36m20\u001b[0m - \u001b[34m\u001b[1mtarget_url=https://twitter.com/CriticalAI/status/1774356253810069888/photo/1\u001b[0m\n",
      "Python(26823) MallocStackLogging: can't turn off malloc stack logging because it was not enabled.\n",
      "\u001b[32m2024-04-30 21:17:38.279\u001b[0m | \u001b[34m\u001b[1mDEBUG   \u001b[0m | \u001b[36mdesci_sense.shared_functions.parsers.multi_chain_parser\u001b[0m:\u001b[36mprocess_ref_post\u001b[0m:\u001b[36m173\u001b[0m - \u001b[34m\u001b[1mProcessing post with parsers: ['topics']\u001b[0m\n",
      "\u001b[32m2024-04-30 21:17:38.281\u001b[0m | \u001b[34m\u001b[1mDEBUG   \u001b[0m | \u001b[36mdesci_sense.shared_functions.parsers.multi_chain_parser\u001b[0m:\u001b[36mprocess_ref_post\u001b[0m:\u001b[36m175\u001b[0m - \u001b[34m\u001b[1mInstantiating prompts...\u001b[0m\n",
      "\u001b[32m2024-04-30 21:17:38.283\u001b[0m | \u001b[34m\u001b[1mDEBUG   \u001b[0m | \u001b[36mdesci_sense.shared_functions.parsers.multi_chain_parser\u001b[0m:\u001b[36mprocess_ref_post\u001b[0m:\u001b[36m180\u001b[0m - \u001b[34m\u001b[1mInvoking parallel chain...\u001b[0m\n",
      "Python(26825) MallocStackLogging: can't turn off malloc stack logging because it was not enabled.\n"
     ]
    },
    {
     "name": "stdout",
     "output_type": "stream",
     "text": [
      "320\n"
     ]
    },
    {
     "name": "stderr",
     "output_type": "stream",
     "text": [
      "\u001b[32m2024-04-30 21:17:40.776\u001b[0m | \u001b[34m\u001b[1mDEBUG   \u001b[0m | \u001b[36mdesci_sense.shared_functions.web_extractors.citoid\u001b[0m:\u001b[36mfetch_citation_async\u001b[0m:\u001b[36m20\u001b[0m - \u001b[34m\u001b[1mtarget_url=https://twitter.com/CriticalAI/status/1773087861329322319/photo/1\u001b[0m\n",
      "\u001b[32m2024-04-30 21:17:40.778\u001b[0m | \u001b[34m\u001b[1mDEBUG   \u001b[0m | \u001b[36mdesci_sense.shared_functions.web_extractors.citoid\u001b[0m:\u001b[36mfetch_citation_async\u001b[0m:\u001b[36m20\u001b[0m - \u001b[34m\u001b[1mtarget_url=https://twitter.com/chrmanning/status/1773033627225350323\u001b[0m\n",
      "\u001b[32m2024-04-30 21:17:41.183\u001b[0m | \u001b[34m\u001b[1mDEBUG   \u001b[0m | \u001b[36mdesci_sense.shared_functions.parsers.multi_chain_parser\u001b[0m:\u001b[36mprocess_ref_post\u001b[0m:\u001b[36m173\u001b[0m - \u001b[34m\u001b[1mProcessing post with parsers: ['topics']\u001b[0m\n",
      "\u001b[32m2024-04-30 21:17:41.185\u001b[0m | \u001b[34m\u001b[1mDEBUG   \u001b[0m | \u001b[36mdesci_sense.shared_functions.parsers.multi_chain_parser\u001b[0m:\u001b[36mprocess_ref_post\u001b[0m:\u001b[36m175\u001b[0m - \u001b[34m\u001b[1mInstantiating prompts...\u001b[0m\n",
      "\u001b[32m2024-04-30 21:17:41.186\u001b[0m | \u001b[34m\u001b[1mDEBUG   \u001b[0m | \u001b[36mdesci_sense.shared_functions.parsers.multi_chain_parser\u001b[0m:\u001b[36mprocess_ref_post\u001b[0m:\u001b[36m180\u001b[0m - \u001b[34m\u001b[1mInvoking parallel chain...\u001b[0m\n",
      "Python(26827) MallocStackLogging: can't turn off malloc stack logging because it was not enabled.\n",
      "Python(26829) MallocStackLogging: can't turn off malloc stack logging because it was not enabled.\n",
      "\u001b[32m2024-04-30 21:17:44.640\u001b[0m | \u001b[34m\u001b[1mDEBUG   \u001b[0m | \u001b[36mdesci_sense.shared_functions.parsers.multi_chain_parser\u001b[0m:\u001b[36mprocess_ref_post\u001b[0m:\u001b[36m173\u001b[0m - \u001b[34m\u001b[1mProcessing post with parsers: ['topics']\u001b[0m\n",
      "\u001b[32m2024-04-30 21:17:44.640\u001b[0m | \u001b[34m\u001b[1mDEBUG   \u001b[0m | \u001b[36mdesci_sense.shared_functions.parsers.multi_chain_parser\u001b[0m:\u001b[36mprocess_ref_post\u001b[0m:\u001b[36m175\u001b[0m - \u001b[34m\u001b[1mInstantiating prompts...\u001b[0m\n",
      "\u001b[32m2024-04-30 21:17:44.641\u001b[0m | \u001b[34m\u001b[1mDEBUG   \u001b[0m | \u001b[36mdesci_sense.shared_functions.parsers.multi_chain_parser\u001b[0m:\u001b[36mprocess_ref_post\u001b[0m:\u001b[36m180\u001b[0m - \u001b[34m\u001b[1mInvoking parallel chain...\u001b[0m\n"
     ]
    },
    {
     "name": "stdout",
     "output_type": "stream",
     "text": [
      "321\n",
      "322\n"
     ]
    },
    {
     "name": "stderr",
     "output_type": "stream",
     "text": [
      "\u001b[32m2024-04-30 21:17:47.110\u001b[0m | \u001b[34m\u001b[1mDEBUG   \u001b[0m | \u001b[36mdesci_sense.shared_functions.web_extractors.citoid\u001b[0m:\u001b[36mfetch_citation\u001b[0m:\u001b[36m54\u001b[0m - \u001b[34m\u001b[1mfetching citoid data for: https://twitter.com/BrettButtliere/status/1780267092903633228/photo/1\u001b[0m\n",
      "Python(26831) MallocStackLogging: can't turn off malloc stack logging because it was not enabled.\n",
      "\u001b[32m2024-04-30 21:17:48.078\u001b[0m | \u001b[34m\u001b[1mDEBUG   \u001b[0m | \u001b[36mdesci_sense.shared_functions.parsers.multi_chain_parser\u001b[0m:\u001b[36mprocess_ref_post\u001b[0m:\u001b[36m173\u001b[0m - \u001b[34m\u001b[1mProcessing post with parsers: ['topics']\u001b[0m\n",
      "\u001b[32m2024-04-30 21:17:48.079\u001b[0m | \u001b[34m\u001b[1mDEBUG   \u001b[0m | \u001b[36mdesci_sense.shared_functions.parsers.multi_chain_parser\u001b[0m:\u001b[36mprocess_ref_post\u001b[0m:\u001b[36m175\u001b[0m - \u001b[34m\u001b[1mInstantiating prompts...\u001b[0m\n",
      "\u001b[32m2024-04-30 21:17:48.079\u001b[0m | \u001b[34m\u001b[1mDEBUG   \u001b[0m | \u001b[36mdesci_sense.shared_functions.parsers.multi_chain_parser\u001b[0m:\u001b[36mprocess_ref_post\u001b[0m:\u001b[36m180\u001b[0m - \u001b[34m\u001b[1mInvoking parallel chain...\u001b[0m\n",
      "Python(26833) MallocStackLogging: can't turn off malloc stack logging because it was not enabled.\n"
     ]
    },
    {
     "name": "stdout",
     "output_type": "stream",
     "text": [
      "323\n"
     ]
    },
    {
     "name": "stderr",
     "output_type": "stream",
     "text": [
      "\u001b[32m2024-04-30 21:17:52.180\u001b[0m | \u001b[34m\u001b[1mDEBUG   \u001b[0m | \u001b[36mdesci_sense.shared_functions.web_extractors.citoid\u001b[0m:\u001b[36mfetch_citation\u001b[0m:\u001b[36m54\u001b[0m - \u001b[34m\u001b[1mfetching citoid data for: https://twitter.com/BrettButtliere/status/1779810951144902864\u001b[0m\n",
      "\u001b[32m2024-04-30 21:17:52.482\u001b[0m | \u001b[34m\u001b[1mDEBUG   \u001b[0m | \u001b[36mdesci_sense.shared_functions.parsers.multi_chain_parser\u001b[0m:\u001b[36mprocess_ref_post\u001b[0m:\u001b[36m173\u001b[0m - \u001b[34m\u001b[1mProcessing post with parsers: ['topics']\u001b[0m\n",
      "\u001b[32m2024-04-30 21:17:52.483\u001b[0m | \u001b[34m\u001b[1mDEBUG   \u001b[0m | \u001b[36mdesci_sense.shared_functions.parsers.multi_chain_parser\u001b[0m:\u001b[36mprocess_ref_post\u001b[0m:\u001b[36m175\u001b[0m - \u001b[34m\u001b[1mInstantiating prompts...\u001b[0m\n",
      "\u001b[32m2024-04-30 21:17:52.483\u001b[0m | \u001b[34m\u001b[1mDEBUG   \u001b[0m | \u001b[36mdesci_sense.shared_functions.parsers.multi_chain_parser\u001b[0m:\u001b[36mprocess_ref_post\u001b[0m:\u001b[36m180\u001b[0m - \u001b[34m\u001b[1mInvoking parallel chain...\u001b[0m\n",
      "Python(26835) MallocStackLogging: can't turn off malloc stack logging because it was not enabled.\n",
      "\u001b[32m2024-04-30 21:17:54.920\u001b[0m | \u001b[34m\u001b[1mDEBUG   \u001b[0m | \u001b[36mdesci_sense.shared_functions.parsers.multi_chain_parser\u001b[0m:\u001b[36mprocess_ref_post\u001b[0m:\u001b[36m173\u001b[0m - \u001b[34m\u001b[1mProcessing post with parsers: ['topics']\u001b[0m\n",
      "\u001b[32m2024-04-30 21:17:54.921\u001b[0m | \u001b[34m\u001b[1mDEBUG   \u001b[0m | \u001b[36mdesci_sense.shared_functions.parsers.multi_chain_parser\u001b[0m:\u001b[36mprocess_ref_post\u001b[0m:\u001b[36m175\u001b[0m - \u001b[34m\u001b[1mInstantiating prompts...\u001b[0m\n",
      "\u001b[32m2024-04-30 21:17:54.922\u001b[0m | \u001b[34m\u001b[1mDEBUG   \u001b[0m | \u001b[36mdesci_sense.shared_functions.parsers.multi_chain_parser\u001b[0m:\u001b[36mprocess_ref_post\u001b[0m:\u001b[36m180\u001b[0m - \u001b[34m\u001b[1mInvoking parallel chain...\u001b[0m\n"
     ]
    },
    {
     "name": "stdout",
     "output_type": "stream",
     "text": [
      "324\n"
     ]
    },
    {
     "name": "stderr",
     "output_type": "stream",
     "text": [
      "Python(26837) MallocStackLogging: can't turn off malloc stack logging because it was not enabled.\n",
      "Python(26839) MallocStackLogging: can't turn off malloc stack logging because it was not enabled.\n",
      "\u001b[32m2024-04-30 21:17:57.879\u001b[0m | \u001b[34m\u001b[1mDEBUG   \u001b[0m | \u001b[36mdesci_sense.shared_functions.parsers.multi_chain_parser\u001b[0m:\u001b[36mprocess_ref_post\u001b[0m:\u001b[36m173\u001b[0m - \u001b[34m\u001b[1mProcessing post with parsers: ['topics']\u001b[0m\n",
      "\u001b[32m2024-04-30 21:17:57.880\u001b[0m | \u001b[34m\u001b[1mDEBUG   \u001b[0m | \u001b[36mdesci_sense.shared_functions.parsers.multi_chain_parser\u001b[0m:\u001b[36mprocess_ref_post\u001b[0m:\u001b[36m175\u001b[0m - \u001b[34m\u001b[1mInstantiating prompts...\u001b[0m\n",
      "\u001b[32m2024-04-30 21:17:57.880\u001b[0m | \u001b[34m\u001b[1mDEBUG   \u001b[0m | \u001b[36mdesci_sense.shared_functions.parsers.multi_chain_parser\u001b[0m:\u001b[36mprocess_ref_post\u001b[0m:\u001b[36m180\u001b[0m - \u001b[34m\u001b[1mInvoking parallel chain...\u001b[0m\n"
     ]
    },
    {
     "name": "stdout",
     "output_type": "stream",
     "text": [
      "325\n"
     ]
    },
    {
     "name": "stderr",
     "output_type": "stream",
     "text": [
      "Python(26841) MallocStackLogging: can't turn off malloc stack logging because it was not enabled.\n"
     ]
    },
    {
     "name": "stdout",
     "output_type": "stream",
     "text": [
      "326\n"
     ]
    },
    {
     "name": "stderr",
     "output_type": "stream",
     "text": [
      "\u001b[32m2024-04-30 21:18:01.270\u001b[0m | \u001b[34m\u001b[1mDEBUG   \u001b[0m | \u001b[36mdesci_sense.shared_functions.web_extractors.citoid\u001b[0m:\u001b[36mfetch_citation\u001b[0m:\u001b[36m54\u001b[0m - \u001b[34m\u001b[1mfetching citoid data for: https://twitter.com/BrettButtliere/status/1779843387346006331/photo/1\u001b[0m\n",
      "\u001b[32m2024-04-30 21:18:01.471\u001b[0m | \u001b[34m\u001b[1mDEBUG   \u001b[0m | \u001b[36mdesci_sense.shared_functions.parsers.multi_chain_parser\u001b[0m:\u001b[36mprocess_ref_post\u001b[0m:\u001b[36m173\u001b[0m - \u001b[34m\u001b[1mProcessing post with parsers: ['topics']\u001b[0m\n",
      "\u001b[32m2024-04-30 21:18:01.472\u001b[0m | \u001b[34m\u001b[1mDEBUG   \u001b[0m | \u001b[36mdesci_sense.shared_functions.parsers.multi_chain_parser\u001b[0m:\u001b[36mprocess_ref_post\u001b[0m:\u001b[36m175\u001b[0m - \u001b[34m\u001b[1mInstantiating prompts...\u001b[0m\n",
      "\u001b[32m2024-04-30 21:18:01.473\u001b[0m | \u001b[34m\u001b[1mDEBUG   \u001b[0m | \u001b[36mdesci_sense.shared_functions.parsers.multi_chain_parser\u001b[0m:\u001b[36mprocess_ref_post\u001b[0m:\u001b[36m180\u001b[0m - \u001b[34m\u001b[1mInvoking parallel chain...\u001b[0m\n",
      "Python(26843) MallocStackLogging: can't turn off malloc stack logging because it was not enabled.\n",
      "\u001b[32m2024-04-30 21:18:05.239\u001b[0m | \u001b[34m\u001b[1mDEBUG   \u001b[0m | \u001b[36mdesci_sense.shared_functions.parsers.multi_chain_parser\u001b[0m:\u001b[36mprocess_ref_post\u001b[0m:\u001b[36m173\u001b[0m - \u001b[34m\u001b[1mProcessing post with parsers: ['topics']\u001b[0m\n",
      "\u001b[32m2024-04-30 21:18:05.239\u001b[0m | \u001b[34m\u001b[1mDEBUG   \u001b[0m | \u001b[36mdesci_sense.shared_functions.parsers.multi_chain_parser\u001b[0m:\u001b[36mprocess_ref_post\u001b[0m:\u001b[36m175\u001b[0m - \u001b[34m\u001b[1mInstantiating prompts...\u001b[0m\n",
      "\u001b[32m2024-04-30 21:18:05.240\u001b[0m | \u001b[34m\u001b[1mDEBUG   \u001b[0m | \u001b[36mdesci_sense.shared_functions.parsers.multi_chain_parser\u001b[0m:\u001b[36mprocess_ref_post\u001b[0m:\u001b[36m180\u001b[0m - \u001b[34m\u001b[1mInvoking parallel chain...\u001b[0m\n"
     ]
    },
    {
     "name": "stdout",
     "output_type": "stream",
     "text": [
      "327\n"
     ]
    },
    {
     "name": "stderr",
     "output_type": "stream",
     "text": [
      "Python(26845) MallocStackLogging: can't turn off malloc stack logging because it was not enabled.\n",
      "\u001b[32m2024-04-30 21:18:07.611\u001b[0m | \u001b[34m\u001b[1mDEBUG   \u001b[0m | \u001b[36mdesci_sense.shared_functions.parsers.multi_chain_parser\u001b[0m:\u001b[36mprocess_ref_post\u001b[0m:\u001b[36m173\u001b[0m - \u001b[34m\u001b[1mProcessing post with parsers: ['topics']\u001b[0m\n",
      "\u001b[32m2024-04-30 21:18:07.612\u001b[0m | \u001b[34m\u001b[1mDEBUG   \u001b[0m | \u001b[36mdesci_sense.shared_functions.parsers.multi_chain_parser\u001b[0m:\u001b[36mprocess_ref_post\u001b[0m:\u001b[36m175\u001b[0m - \u001b[34m\u001b[1mInstantiating prompts...\u001b[0m\n",
      "\u001b[32m2024-04-30 21:18:07.613\u001b[0m | \u001b[34m\u001b[1mDEBUG   \u001b[0m | \u001b[36mdesci_sense.shared_functions.parsers.multi_chain_parser\u001b[0m:\u001b[36mprocess_ref_post\u001b[0m:\u001b[36m180\u001b[0m - \u001b[34m\u001b[1mInvoking parallel chain...\u001b[0m\n"
     ]
    },
    {
     "name": "stdout",
     "output_type": "stream",
     "text": [
      "328\n"
     ]
    },
    {
     "name": "stderr",
     "output_type": "stream",
     "text": [
      "Python(26847) MallocStackLogging: can't turn off malloc stack logging because it was not enabled.\n"
     ]
    },
    {
     "name": "stdout",
     "output_type": "stream",
     "text": [
      "329\n"
     ]
    },
    {
     "name": "stderr",
     "output_type": "stream",
     "text": [
      "\u001b[32m2024-04-30 21:18:10.746\u001b[0m | \u001b[34m\u001b[1mDEBUG   \u001b[0m | \u001b[36mdesci_sense.shared_functions.web_extractors.citoid\u001b[0m:\u001b[36mfetch_citation\u001b[0m:\u001b[36m54\u001b[0m - \u001b[34m\u001b[1mfetching citoid data for: https://twitter.com/BrettButtliere/status/1767157771823141087\u001b[0m\n",
      "\u001b[32m2024-04-30 21:18:10.951\u001b[0m | \u001b[34m\u001b[1mDEBUG   \u001b[0m | \u001b[36mdesci_sense.shared_functions.parsers.multi_chain_parser\u001b[0m:\u001b[36mprocess_ref_post\u001b[0m:\u001b[36m173\u001b[0m - \u001b[34m\u001b[1mProcessing post with parsers: ['topics']\u001b[0m\n",
      "\u001b[32m2024-04-30 21:18:10.952\u001b[0m | \u001b[34m\u001b[1mDEBUG   \u001b[0m | \u001b[36mdesci_sense.shared_functions.parsers.multi_chain_parser\u001b[0m:\u001b[36mprocess_ref_post\u001b[0m:\u001b[36m175\u001b[0m - \u001b[34m\u001b[1mInstantiating prompts...\u001b[0m\n",
      "\u001b[32m2024-04-30 21:18:10.953\u001b[0m | \u001b[34m\u001b[1mDEBUG   \u001b[0m | \u001b[36mdesci_sense.shared_functions.parsers.multi_chain_parser\u001b[0m:\u001b[36mprocess_ref_post\u001b[0m:\u001b[36m180\u001b[0m - \u001b[34m\u001b[1mInvoking parallel chain...\u001b[0m\n",
      "Python(26849) MallocStackLogging: can't turn off malloc stack logging because it was not enabled.\n"
     ]
    },
    {
     "name": "stdout",
     "output_type": "stream",
     "text": [
      "330\n"
     ]
    },
    {
     "name": "stderr",
     "output_type": "stream",
     "text": [
      "Python(26851) MallocStackLogging: can't turn off malloc stack logging because it was not enabled.\n",
      "\u001b[32m2024-04-30 21:18:13.894\u001b[0m | \u001b[34m\u001b[1mDEBUG   \u001b[0m | \u001b[36mdesci_sense.shared_functions.web_extractors.citoid\u001b[0m:\u001b[36mfetch_citation\u001b[0m:\u001b[36m54\u001b[0m - \u001b[34m\u001b[1mfetching citoid data for: https://twitter.com/BrettButtliere/status/1779463369910636930\u001b[0m\n",
      "\u001b[32m2024-04-30 21:18:14.086\u001b[0m | \u001b[34m\u001b[1mDEBUG   \u001b[0m | \u001b[36mdesci_sense.shared_functions.parsers.multi_chain_parser\u001b[0m:\u001b[36mprocess_ref_post\u001b[0m:\u001b[36m173\u001b[0m - \u001b[34m\u001b[1mProcessing post with parsers: ['topics']\u001b[0m\n",
      "\u001b[32m2024-04-30 21:18:14.086\u001b[0m | \u001b[34m\u001b[1mDEBUG   \u001b[0m | \u001b[36mdesci_sense.shared_functions.parsers.multi_chain_parser\u001b[0m:\u001b[36mprocess_ref_post\u001b[0m:\u001b[36m175\u001b[0m - \u001b[34m\u001b[1mInstantiating prompts...\u001b[0m\n",
      "\u001b[32m2024-04-30 21:18:14.087\u001b[0m | \u001b[34m\u001b[1mDEBUG   \u001b[0m | \u001b[36mdesci_sense.shared_functions.parsers.multi_chain_parser\u001b[0m:\u001b[36mprocess_ref_post\u001b[0m:\u001b[36m180\u001b[0m - \u001b[34m\u001b[1mInvoking parallel chain...\u001b[0m\n",
      "Python(26853) MallocStackLogging: can't turn off malloc stack logging because it was not enabled.\n"
     ]
    },
    {
     "name": "stdout",
     "output_type": "stream",
     "text": [
      "331\n"
     ]
    },
    {
     "name": "stderr",
     "output_type": "stream",
     "text": [
      "Python(26855) MallocStackLogging: can't turn off malloc stack logging because it was not enabled.\n",
      "\u001b[32m2024-04-30 21:18:19.214\u001b[0m | \u001b[34m\u001b[1mDEBUG   \u001b[0m | \u001b[36mdesci_sense.shared_functions.web_extractors.citoid\u001b[0m:\u001b[36mfetch_citation\u001b[0m:\u001b[36m54\u001b[0m - \u001b[34m\u001b[1mfetching citoid data for: https://twitter.com/BrettButtliere/status/1778887628634411230/photo/1\u001b[0m\n",
      "\u001b[32m2024-04-30 21:18:19.422\u001b[0m | \u001b[34m\u001b[1mDEBUG   \u001b[0m | \u001b[36mdesci_sense.shared_functions.parsers.multi_chain_parser\u001b[0m:\u001b[36mprocess_ref_post\u001b[0m:\u001b[36m173\u001b[0m - \u001b[34m\u001b[1mProcessing post with parsers: ['topics']\u001b[0m\n",
      "\u001b[32m2024-04-30 21:18:19.423\u001b[0m | \u001b[34m\u001b[1mDEBUG   \u001b[0m | \u001b[36mdesci_sense.shared_functions.parsers.multi_chain_parser\u001b[0m:\u001b[36mprocess_ref_post\u001b[0m:\u001b[36m175\u001b[0m - \u001b[34m\u001b[1mInstantiating prompts...\u001b[0m\n",
      "\u001b[32m2024-04-30 21:18:19.423\u001b[0m | \u001b[34m\u001b[1mDEBUG   \u001b[0m | \u001b[36mdesci_sense.shared_functions.parsers.multi_chain_parser\u001b[0m:\u001b[36mprocess_ref_post\u001b[0m:\u001b[36m180\u001b[0m - \u001b[34m\u001b[1mInvoking parallel chain...\u001b[0m\n",
      "Python(26857) MallocStackLogging: can't turn off malloc stack logging because it was not enabled.\n",
      "\u001b[32m2024-04-30 21:18:22.457\u001b[0m | \u001b[34m\u001b[1mDEBUG   \u001b[0m | \u001b[36mdesci_sense.shared_functions.parsers.multi_chain_parser\u001b[0m:\u001b[36mprocess_ref_post\u001b[0m:\u001b[36m173\u001b[0m - \u001b[34m\u001b[1mProcessing post with parsers: ['topics']\u001b[0m\n",
      "\u001b[32m2024-04-30 21:18:22.457\u001b[0m | \u001b[34m\u001b[1mDEBUG   \u001b[0m | \u001b[36mdesci_sense.shared_functions.parsers.multi_chain_parser\u001b[0m:\u001b[36mprocess_ref_post\u001b[0m:\u001b[36m175\u001b[0m - \u001b[34m\u001b[1mInstantiating prompts...\u001b[0m\n",
      "\u001b[32m2024-04-30 21:18:22.458\u001b[0m | \u001b[34m\u001b[1mDEBUG   \u001b[0m | \u001b[36mdesci_sense.shared_functions.parsers.multi_chain_parser\u001b[0m:\u001b[36mprocess_ref_post\u001b[0m:\u001b[36m180\u001b[0m - \u001b[34m\u001b[1mInvoking parallel chain...\u001b[0m\n"
     ]
    },
    {
     "name": "stdout",
     "output_type": "stream",
     "text": [
      "332\n",
      "333\n"
     ]
    },
    {
     "name": "stderr",
     "output_type": "stream",
     "text": [
      "Python(26860) MallocStackLogging: can't turn off malloc stack logging because it was not enabled.\n",
      "\u001b[32m2024-04-30 21:18:24.908\u001b[0m | \u001b[34m\u001b[1mDEBUG   \u001b[0m | \u001b[36mdesci_sense.shared_functions.web_extractors.citoid\u001b[0m:\u001b[36mfetch_citation\u001b[0m:\u001b[36m54\u001b[0m - \u001b[34m\u001b[1mfetching citoid data for: https://twitter.com/ZetarioCo/status/1772834506195509588\u001b[0m\n",
      "\u001b[32m2024-04-30 21:18:25.134\u001b[0m | \u001b[34m\u001b[1mDEBUG   \u001b[0m | \u001b[36mdesci_sense.shared_functions.parsers.multi_chain_parser\u001b[0m:\u001b[36mprocess_ref_post\u001b[0m:\u001b[36m173\u001b[0m - \u001b[34m\u001b[1mProcessing post with parsers: ['topics']\u001b[0m\n",
      "\u001b[32m2024-04-30 21:18:25.134\u001b[0m | \u001b[34m\u001b[1mDEBUG   \u001b[0m | \u001b[36mdesci_sense.shared_functions.parsers.multi_chain_parser\u001b[0m:\u001b[36mprocess_ref_post\u001b[0m:\u001b[36m175\u001b[0m - \u001b[34m\u001b[1mInstantiating prompts...\u001b[0m\n",
      "\u001b[32m2024-04-30 21:18:25.135\u001b[0m | \u001b[34m\u001b[1mDEBUG   \u001b[0m | \u001b[36mdesci_sense.shared_functions.parsers.multi_chain_parser\u001b[0m:\u001b[36mprocess_ref_post\u001b[0m:\u001b[36m180\u001b[0m - \u001b[34m\u001b[1mInvoking parallel chain...\u001b[0m\n",
      "Python(26862) MallocStackLogging: can't turn off malloc stack logging because it was not enabled.\n"
     ]
    },
    {
     "name": "stdout",
     "output_type": "stream",
     "text": [
      "334\n"
     ]
    },
    {
     "name": "stderr",
     "output_type": "stream",
     "text": [
      "\u001b[32m2024-04-30 21:18:29.392\u001b[0m | \u001b[34m\u001b[1mDEBUG   \u001b[0m | \u001b[36mdesci_sense.shared_functions.web_extractors.citoid\u001b[0m:\u001b[36mfetch_citation\u001b[0m:\u001b[36m54\u001b[0m - \u001b[34m\u001b[1mfetching citoid data for: https://twitter.com/JoshuaLWatson/status/1778055352166109611\u001b[0m\n",
      "\u001b[32m2024-04-30 21:18:29.594\u001b[0m | \u001b[34m\u001b[1mDEBUG   \u001b[0m | \u001b[36mdesci_sense.shared_functions.parsers.multi_chain_parser\u001b[0m:\u001b[36mprocess_ref_post\u001b[0m:\u001b[36m173\u001b[0m - \u001b[34m\u001b[1mProcessing post with parsers: ['topics']\u001b[0m\n",
      "\u001b[32m2024-04-30 21:18:29.595\u001b[0m | \u001b[34m\u001b[1mDEBUG   \u001b[0m | \u001b[36mdesci_sense.shared_functions.parsers.multi_chain_parser\u001b[0m:\u001b[36mprocess_ref_post\u001b[0m:\u001b[36m175\u001b[0m - \u001b[34m\u001b[1mInstantiating prompts...\u001b[0m\n",
      "\u001b[32m2024-04-30 21:18:29.596\u001b[0m | \u001b[34m\u001b[1mDEBUG   \u001b[0m | \u001b[36mdesci_sense.shared_functions.parsers.multi_chain_parser\u001b[0m:\u001b[36mprocess_ref_post\u001b[0m:\u001b[36m180\u001b[0m - \u001b[34m\u001b[1mInvoking parallel chain...\u001b[0m\n",
      "Python(26863) MallocStackLogging: can't turn off malloc stack logging because it was not enabled.\n",
      "Python(26888) MallocStackLogging: can't turn off malloc stack logging because it was not enabled.\n"
     ]
    },
    {
     "name": "stdout",
     "output_type": "stream",
     "text": [
      "335\n"
     ]
    },
    {
     "name": "stderr",
     "output_type": "stream",
     "text": [
      "\u001b[32m2024-04-30 21:18:34.185\u001b[0m | \u001b[34m\u001b[1mDEBUG   \u001b[0m | \u001b[36mdesci_sense.shared_functions.web_extractors.citoid\u001b[0m:\u001b[36mfetch_citation\u001b[0m:\u001b[36m54\u001b[0m - \u001b[34m\u001b[1mfetching citoid data for: https://twitter.com/BrettButtliere/status/1778031970305413626/photo/1\u001b[0m\n",
      "\u001b[32m2024-04-30 21:18:34.550\u001b[0m | \u001b[34m\u001b[1mDEBUG   \u001b[0m | \u001b[36mdesci_sense.shared_functions.parsers.multi_chain_parser\u001b[0m:\u001b[36mprocess_ref_post\u001b[0m:\u001b[36m173\u001b[0m - \u001b[34m\u001b[1mProcessing post with parsers: ['topics']\u001b[0m\n",
      "\u001b[32m2024-04-30 21:18:34.551\u001b[0m | \u001b[34m\u001b[1mDEBUG   \u001b[0m | \u001b[36mdesci_sense.shared_functions.parsers.multi_chain_parser\u001b[0m:\u001b[36mprocess_ref_post\u001b[0m:\u001b[36m175\u001b[0m - \u001b[34m\u001b[1mInstantiating prompts...\u001b[0m\n",
      "\u001b[32m2024-04-30 21:18:34.553\u001b[0m | \u001b[34m\u001b[1mDEBUG   \u001b[0m | \u001b[36mdesci_sense.shared_functions.parsers.multi_chain_parser\u001b[0m:\u001b[36mprocess_ref_post\u001b[0m:\u001b[36m180\u001b[0m - \u001b[34m\u001b[1mInvoking parallel chain...\u001b[0m\n",
      "Python(26899) MallocStackLogging: can't turn off malloc stack logging because it was not enabled.\n"
     ]
    },
    {
     "name": "stdout",
     "output_type": "stream",
     "text": [
      "336\n"
     ]
    },
    {
     "name": "stderr",
     "output_type": "stream",
     "text": [
      "Python(26905) MallocStackLogging: can't turn off malloc stack logging because it was not enabled.\n",
      "\u001b[32m2024-04-30 21:18:37.965\u001b[0m | \u001b[34m\u001b[1mDEBUG   \u001b[0m | \u001b[36mdesci_sense.shared_functions.web_extractors.citoid\u001b[0m:\u001b[36mfetch_citation\u001b[0m:\u001b[36m54\u001b[0m - \u001b[34m\u001b[1mfetching citoid data for: https://twitter.com/elonmusk/status/1777905553303371780\u001b[0m\n",
      "\u001b[32m2024-04-30 21:18:38.302\u001b[0m | \u001b[34m\u001b[1mDEBUG   \u001b[0m | \u001b[36mdesci_sense.shared_functions.parsers.multi_chain_parser\u001b[0m:\u001b[36mprocess_ref_post\u001b[0m:\u001b[36m173\u001b[0m - \u001b[34m\u001b[1mProcessing post with parsers: ['topics']\u001b[0m\n",
      "\u001b[32m2024-04-30 21:18:38.303\u001b[0m | \u001b[34m\u001b[1mDEBUG   \u001b[0m | \u001b[36mdesci_sense.shared_functions.parsers.multi_chain_parser\u001b[0m:\u001b[36mprocess_ref_post\u001b[0m:\u001b[36m175\u001b[0m - \u001b[34m\u001b[1mInstantiating prompts...\u001b[0m\n",
      "\u001b[32m2024-04-30 21:18:38.304\u001b[0m | \u001b[34m\u001b[1mDEBUG   \u001b[0m | \u001b[36mdesci_sense.shared_functions.parsers.multi_chain_parser\u001b[0m:\u001b[36mprocess_ref_post\u001b[0m:\u001b[36m180\u001b[0m - \u001b[34m\u001b[1mInvoking parallel chain...\u001b[0m\n",
      "Python(26907) MallocStackLogging: can't turn off malloc stack logging because it was not enabled.\n",
      "\u001b[32m2024-04-30 21:18:42.728\u001b[0m | \u001b[34m\u001b[1mDEBUG   \u001b[0m | \u001b[36mdesci_sense.shared_functions.parsers.multi_chain_parser\u001b[0m:\u001b[36mprocess_ref_post\u001b[0m:\u001b[36m173\u001b[0m - \u001b[34m\u001b[1mProcessing post with parsers: ['topics']\u001b[0m\n",
      "\u001b[32m2024-04-30 21:18:42.730\u001b[0m | \u001b[34m\u001b[1mDEBUG   \u001b[0m | \u001b[36mdesci_sense.shared_functions.parsers.multi_chain_parser\u001b[0m:\u001b[36mprocess_ref_post\u001b[0m:\u001b[36m175\u001b[0m - \u001b[34m\u001b[1mInstantiating prompts...\u001b[0m\n",
      "\u001b[32m2024-04-30 21:18:42.731\u001b[0m | \u001b[34m\u001b[1mDEBUG   \u001b[0m | \u001b[36mdesci_sense.shared_functions.parsers.multi_chain_parser\u001b[0m:\u001b[36mprocess_ref_post\u001b[0m:\u001b[36m180\u001b[0m - \u001b[34m\u001b[1mInvoking parallel chain...\u001b[0m\n"
     ]
    },
    {
     "name": "stdout",
     "output_type": "stream",
     "text": [
      "337\n"
     ]
    },
    {
     "name": "stderr",
     "output_type": "stream",
     "text": [
      "Python(26909) MallocStackLogging: can't turn off malloc stack logging because it was not enabled.\n"
     ]
    },
    {
     "name": "stdout",
     "output_type": "stream",
     "text": [
      "338\n"
     ]
    },
    {
     "name": "stderr",
     "output_type": "stream",
     "text": [
      "Python(26930) MallocStackLogging: can't turn off malloc stack logging because it was not enabled.\n",
      "\u001b[32m2024-04-30 21:18:45.980\u001b[0m | \u001b[34m\u001b[1mDEBUG   \u001b[0m | \u001b[36mdesci_sense.shared_functions.web_extractors.citoid\u001b[0m:\u001b[36mfetch_citation\u001b[0m:\u001b[36m54\u001b[0m - \u001b[34m\u001b[1mfetching citoid data for: https://twitter.com/BrettButtliere/status/1777407413970223381/photo/1\u001b[0m\n",
      "\u001b[32m2024-04-30 21:18:46.280\u001b[0m | \u001b[34m\u001b[1mDEBUG   \u001b[0m | \u001b[36mdesci_sense.shared_functions.parsers.multi_chain_parser\u001b[0m:\u001b[36mprocess_ref_post\u001b[0m:\u001b[36m173\u001b[0m - \u001b[34m\u001b[1mProcessing post with parsers: ['topics']\u001b[0m\n",
      "\u001b[32m2024-04-30 21:18:46.281\u001b[0m | \u001b[34m\u001b[1mDEBUG   \u001b[0m | \u001b[36mdesci_sense.shared_functions.parsers.multi_chain_parser\u001b[0m:\u001b[36mprocess_ref_post\u001b[0m:\u001b[36m175\u001b[0m - \u001b[34m\u001b[1mInstantiating prompts...\u001b[0m\n",
      "\u001b[32m2024-04-30 21:18:46.281\u001b[0m | \u001b[34m\u001b[1mDEBUG   \u001b[0m | \u001b[36mdesci_sense.shared_functions.parsers.multi_chain_parser\u001b[0m:\u001b[36mprocess_ref_post\u001b[0m:\u001b[36m180\u001b[0m - \u001b[34m\u001b[1mInvoking parallel chain...\u001b[0m\n",
      "Python(26932) MallocStackLogging: can't turn off malloc stack logging because it was not enabled.\n"
     ]
    },
    {
     "name": "stdout",
     "output_type": "stream",
     "text": [
      "339\n"
     ]
    },
    {
     "name": "stderr",
     "output_type": "stream",
     "text": [
      "\u001b[32m2024-04-30 21:18:50.384\u001b[0m | \u001b[34m\u001b[1mDEBUG   \u001b[0m | \u001b[36mdesci_sense.shared_functions.web_extractors.citoid\u001b[0m:\u001b[36mfetch_citation\u001b[0m:\u001b[36m54\u001b[0m - \u001b[34m\u001b[1mfetching citoid data for: https://twitter.com/JoshuaLWatson/status/1776959485556261218\u001b[0m\n",
      "\u001b[32m2024-04-30 21:18:50.620\u001b[0m | \u001b[34m\u001b[1mDEBUG   \u001b[0m | \u001b[36mdesci_sense.shared_functions.parsers.multi_chain_parser\u001b[0m:\u001b[36mprocess_ref_post\u001b[0m:\u001b[36m173\u001b[0m - \u001b[34m\u001b[1mProcessing post with parsers: ['topics']\u001b[0m\n",
      "\u001b[32m2024-04-30 21:18:50.621\u001b[0m | \u001b[34m\u001b[1mDEBUG   \u001b[0m | \u001b[36mdesci_sense.shared_functions.parsers.multi_chain_parser\u001b[0m:\u001b[36mprocess_ref_post\u001b[0m:\u001b[36m175\u001b[0m - \u001b[34m\u001b[1mInstantiating prompts...\u001b[0m\n",
      "\u001b[32m2024-04-30 21:18:50.623\u001b[0m | \u001b[34m\u001b[1mDEBUG   \u001b[0m | \u001b[36mdesci_sense.shared_functions.parsers.multi_chain_parser\u001b[0m:\u001b[36mprocess_ref_post\u001b[0m:\u001b[36m180\u001b[0m - \u001b[34m\u001b[1mInvoking parallel chain...\u001b[0m\n",
      "Python(26936) MallocStackLogging: can't turn off malloc stack logging because it was not enabled.\n",
      "Python(26937) MallocStackLogging: can't turn off malloc stack logging because it was not enabled.\n"
     ]
    },
    {
     "name": "stdout",
     "output_type": "stream",
     "text": [
      "340\n"
     ]
    },
    {
     "name": "stderr",
     "output_type": "stream",
     "text": [
      "\u001b[32m2024-04-30 21:18:56.274\u001b[0m | \u001b[34m\u001b[1mDEBUG   \u001b[0m | \u001b[36mdesci_sense.shared_functions.web_extractors.citoid\u001b[0m:\u001b[36mfetch_citation\u001b[0m:\u001b[36m54\u001b[0m - \u001b[34m\u001b[1mfetching citoid data for: https://www.nature.com/articles/s41562-023-01749-9\u001b[0m\n",
      "Python(26940) MallocStackLogging: can't turn off malloc stack logging because it was not enabled.\n",
      "Python(26942) MallocStackLogging: can't turn off malloc stack logging because it was not enabled.\n",
      "\u001b[32m2024-04-30 21:19:00.046\u001b[0m | \u001b[34m\u001b[1mDEBUG   \u001b[0m | \u001b[36mdesci_sense.shared_functions.parsers.multi_chain_parser\u001b[0m:\u001b[36mprocess_ref_post\u001b[0m:\u001b[36m173\u001b[0m - \u001b[34m\u001b[1mProcessing post with parsers: ['topics']\u001b[0m\n",
      "\u001b[32m2024-04-30 21:19:00.049\u001b[0m | \u001b[34m\u001b[1mDEBUG   \u001b[0m | \u001b[36mdesci_sense.shared_functions.parsers.multi_chain_parser\u001b[0m:\u001b[36mprocess_ref_post\u001b[0m:\u001b[36m175\u001b[0m - \u001b[34m\u001b[1mInstantiating prompts...\u001b[0m\n",
      "\u001b[32m2024-04-30 21:19:00.052\u001b[0m | \u001b[34m\u001b[1mDEBUG   \u001b[0m | \u001b[36mdesci_sense.shared_functions.parsers.multi_chain_parser\u001b[0m:\u001b[36mprocess_ref_post\u001b[0m:\u001b[36m180\u001b[0m - \u001b[34m\u001b[1mInvoking parallel chain...\u001b[0m\n",
      "Python(26945) MallocStackLogging: can't turn off malloc stack logging because it was not enabled.\n"
     ]
    },
    {
     "name": "stdout",
     "output_type": "stream",
     "text": [
      "341\n"
     ]
    },
    {
     "name": "stderr",
     "output_type": "stream",
     "text": [
      "Python(26946) MallocStackLogging: can't turn off malloc stack logging because it was not enabled.\n",
      "\u001b[32m2024-04-30 21:19:04.138\u001b[0m | \u001b[34m\u001b[1mDEBUG   \u001b[0m | \u001b[36mdesci_sense.shared_functions.web_extractors.citoid\u001b[0m:\u001b[36mfetch_citation\u001b[0m:\u001b[36m54\u001b[0m - \u001b[34m\u001b[1mfetching citoid data for: https://bi.dlr-pt.de/views/InnovationAgenda/DashboardoftheinitiativesoftheInnovationAgenda?:display_count=n&:embed=y&:isGuestRedirectFromVizportal=y&:origin=viz_share_link&:showAppBanner=false&:showVizHome=n\u001b[0m\n",
      "Python(26949) MallocStackLogging: can't turn off malloc stack logging because it was not enabled.\n",
      "\u001b[32m2024-04-30 21:19:08.042\u001b[0m | \u001b[34m\u001b[1mDEBUG   \u001b[0m | \u001b[36mdesci_sense.shared_functions.parsers.multi_chain_parser\u001b[0m:\u001b[36mprocess_ref_post\u001b[0m:\u001b[36m173\u001b[0m - \u001b[34m\u001b[1mProcessing post with parsers: ['topics']\u001b[0m\n",
      "\u001b[32m2024-04-30 21:19:08.043\u001b[0m | \u001b[34m\u001b[1mDEBUG   \u001b[0m | \u001b[36mdesci_sense.shared_functions.parsers.multi_chain_parser\u001b[0m:\u001b[36mprocess_ref_post\u001b[0m:\u001b[36m175\u001b[0m - \u001b[34m\u001b[1mInstantiating prompts...\u001b[0m\n",
      "\u001b[32m2024-04-30 21:19:08.045\u001b[0m | \u001b[34m\u001b[1mDEBUG   \u001b[0m | \u001b[36mdesci_sense.shared_functions.parsers.multi_chain_parser\u001b[0m:\u001b[36mprocess_ref_post\u001b[0m:\u001b[36m180\u001b[0m - \u001b[34m\u001b[1mInvoking parallel chain...\u001b[0m\n",
      "Python(26950) MallocStackLogging: can't turn off malloc stack logging because it was not enabled.\n"
     ]
    },
    {
     "name": "stdout",
     "output_type": "stream",
     "text": [
      "342\n"
     ]
    },
    {
     "name": "stderr",
     "output_type": "stream",
     "text": [
      "Python(26953) MallocStackLogging: can't turn off malloc stack logging because it was not enabled.\n",
      "\u001b[32m2024-04-30 21:19:12.308\u001b[0m | \u001b[34m\u001b[1mDEBUG   \u001b[0m | \u001b[36mdesci_sense.shared_functions.web_extractors.citoid\u001b[0m:\u001b[36mfetch_citation\u001b[0m:\u001b[36m54\u001b[0m - \u001b[34m\u001b[1mfetching citoid data for: https://twitter.com/BrettButtliere/status/1745754551704023169\u001b[0m\n",
      "\u001b[32m2024-04-30 21:19:12.536\u001b[0m | \u001b[34m\u001b[1mDEBUG   \u001b[0m | \u001b[36mdesci_sense.shared_functions.parsers.multi_chain_parser\u001b[0m:\u001b[36mprocess_ref_post\u001b[0m:\u001b[36m173\u001b[0m - \u001b[34m\u001b[1mProcessing post with parsers: ['topics']\u001b[0m\n",
      "\u001b[32m2024-04-30 21:19:12.537\u001b[0m | \u001b[34m\u001b[1mDEBUG   \u001b[0m | \u001b[36mdesci_sense.shared_functions.parsers.multi_chain_parser\u001b[0m:\u001b[36mprocess_ref_post\u001b[0m:\u001b[36m175\u001b[0m - \u001b[34m\u001b[1mInstantiating prompts...\u001b[0m\n",
      "\u001b[32m2024-04-30 21:19:12.537\u001b[0m | \u001b[34m\u001b[1mDEBUG   \u001b[0m | \u001b[36mdesci_sense.shared_functions.parsers.multi_chain_parser\u001b[0m:\u001b[36mprocess_ref_post\u001b[0m:\u001b[36m180\u001b[0m - \u001b[34m\u001b[1mInvoking parallel chain...\u001b[0m\n",
      "Python(26955) MallocStackLogging: can't turn off malloc stack logging because it was not enabled.\n"
     ]
    },
    {
     "name": "stdout",
     "output_type": "stream",
     "text": [
      "343\n"
     ]
    },
    {
     "name": "stderr",
     "output_type": "stream",
     "text": [
      "Python(26956) MallocStackLogging: can't turn off malloc stack logging because it was not enabled.\n",
      "\u001b[32m2024-04-30 21:19:17.341\u001b[0m | \u001b[34m\u001b[1mDEBUG   \u001b[0m | \u001b[36mdesci_sense.shared_functions.web_extractors.citoid\u001b[0m:\u001b[36mfetch_citation\u001b[0m:\u001b[36m54\u001b[0m - \u001b[34m\u001b[1mfetching citoid data for: https://twitter.com/JonHaidt/status/1774060647707508849\u001b[0m\n",
      "\u001b[32m2024-04-30 21:19:17.591\u001b[0m | \u001b[34m\u001b[1mDEBUG   \u001b[0m | \u001b[36mdesci_sense.shared_functions.parsers.multi_chain_parser\u001b[0m:\u001b[36mprocess_ref_post\u001b[0m:\u001b[36m173\u001b[0m - \u001b[34m\u001b[1mProcessing post with parsers: ['topics']\u001b[0m\n",
      "\u001b[32m2024-04-30 21:19:17.591\u001b[0m | \u001b[34m\u001b[1mDEBUG   \u001b[0m | \u001b[36mdesci_sense.shared_functions.parsers.multi_chain_parser\u001b[0m:\u001b[36mprocess_ref_post\u001b[0m:\u001b[36m175\u001b[0m - \u001b[34m\u001b[1mInstantiating prompts...\u001b[0m\n",
      "\u001b[32m2024-04-30 21:19:17.592\u001b[0m | \u001b[34m\u001b[1mDEBUG   \u001b[0m | \u001b[36mdesci_sense.shared_functions.parsers.multi_chain_parser\u001b[0m:\u001b[36mprocess_ref_post\u001b[0m:\u001b[36m180\u001b[0m - \u001b[34m\u001b[1mInvoking parallel chain...\u001b[0m\n",
      "Python(26959) MallocStackLogging: can't turn off malloc stack logging because it was not enabled.\n"
     ]
    },
    {
     "name": "stdout",
     "output_type": "stream",
     "text": [
      "344\n"
     ]
    },
    {
     "name": "stderr",
     "output_type": "stream",
     "text": [
      "\u001b[32m2024-04-30 21:19:21.324\u001b[0m | \u001b[34m\u001b[1mDEBUG   \u001b[0m | \u001b[36mdesci_sense.shared_functions.web_extractors.citoid\u001b[0m:\u001b[36mfetch_citation\u001b[0m:\u001b[36m54\u001b[0m - \u001b[34m\u001b[1mfetching citoid data for: https://twitter.com/BrettButtliere/status/1775067830100078736/photo/1\u001b[0m\n",
      "\u001b[32m2024-04-30 21:19:21.532\u001b[0m | \u001b[34m\u001b[1mDEBUG   \u001b[0m | \u001b[36mdesci_sense.shared_functions.parsers.multi_chain_parser\u001b[0m:\u001b[36mprocess_ref_post\u001b[0m:\u001b[36m173\u001b[0m - \u001b[34m\u001b[1mProcessing post with parsers: ['topics']\u001b[0m\n",
      "\u001b[32m2024-04-30 21:19:21.532\u001b[0m | \u001b[34m\u001b[1mDEBUG   \u001b[0m | \u001b[36mdesci_sense.shared_functions.parsers.multi_chain_parser\u001b[0m:\u001b[36mprocess_ref_post\u001b[0m:\u001b[36m175\u001b[0m - \u001b[34m\u001b[1mInstantiating prompts...\u001b[0m\n",
      "\u001b[32m2024-04-30 21:19:21.534\u001b[0m | \u001b[34m\u001b[1mDEBUG   \u001b[0m | \u001b[36mdesci_sense.shared_functions.parsers.multi_chain_parser\u001b[0m:\u001b[36mprocess_ref_post\u001b[0m:\u001b[36m180\u001b[0m - \u001b[34m\u001b[1mInvoking parallel chain...\u001b[0m\n",
      "Python(26960) MallocStackLogging: can't turn off malloc stack logging because it was not enabled.\n"
     ]
    },
    {
     "name": "stdout",
     "output_type": "stream",
     "text": [
      "345\n"
     ]
    },
    {
     "name": "stderr",
     "output_type": "stream",
     "text": [
      "\u001b[32m2024-04-30 21:19:25.071\u001b[0m | \u001b[34m\u001b[1mDEBUG   \u001b[0m | \u001b[36mdesci_sense.shared_functions.web_extractors.citoid\u001b[0m:\u001b[36mfetch_citation\u001b[0m:\u001b[36m54\u001b[0m - \u001b[34m\u001b[1mfetching citoid data for: https://twitter.com/seanrife/status/1774842508855627961\u001b[0m\n",
      "Python(26963) MallocStackLogging: can't turn off malloc stack logging because it was not enabled.\n",
      "\u001b[32m2024-04-30 21:19:26.383\u001b[0m | \u001b[34m\u001b[1mDEBUG   \u001b[0m | \u001b[36mdesci_sense.shared_functions.parsers.multi_chain_parser\u001b[0m:\u001b[36mprocess_ref_post\u001b[0m:\u001b[36m173\u001b[0m - \u001b[34m\u001b[1mProcessing post with parsers: ['topics']\u001b[0m\n",
      "\u001b[32m2024-04-30 21:19:26.385\u001b[0m | \u001b[34m\u001b[1mDEBUG   \u001b[0m | \u001b[36mdesci_sense.shared_functions.parsers.multi_chain_parser\u001b[0m:\u001b[36mprocess_ref_post\u001b[0m:\u001b[36m175\u001b[0m - \u001b[34m\u001b[1mInstantiating prompts...\u001b[0m\n",
      "\u001b[32m2024-04-30 21:19:26.385\u001b[0m | \u001b[34m\u001b[1mDEBUG   \u001b[0m | \u001b[36mdesci_sense.shared_functions.parsers.multi_chain_parser\u001b[0m:\u001b[36mprocess_ref_post\u001b[0m:\u001b[36m180\u001b[0m - \u001b[34m\u001b[1mInvoking parallel chain...\u001b[0m\n",
      "Python(26964) MallocStackLogging: can't turn off malloc stack logging because it was not enabled.\n"
     ]
    },
    {
     "name": "stdout",
     "output_type": "stream",
     "text": [
      "346\n"
     ]
    },
    {
     "name": "stderr",
     "output_type": "stream",
     "text": [
      "\u001b[32m2024-04-30 21:19:28.515\u001b[0m | \u001b[34m\u001b[1mDEBUG   \u001b[0m | \u001b[36mdesci_sense.shared_functions.web_extractors.citoid\u001b[0m:\u001b[36mfetch_citation\u001b[0m:\u001b[36m54\u001b[0m - \u001b[34m\u001b[1mfetching citoid data for: https://twitter.com/BrettButtliere/status/1774492976909099154/photo/1\u001b[0m\n",
      "\u001b[32m2024-04-30 21:19:29.866\u001b[0m | \u001b[34m\u001b[1mDEBUG   \u001b[0m | \u001b[36mdesci_sense.shared_functions.parsers.multi_chain_parser\u001b[0m:\u001b[36mprocess_ref_post\u001b[0m:\u001b[36m173\u001b[0m - \u001b[34m\u001b[1mProcessing post with parsers: ['topics']\u001b[0m\n",
      "\u001b[32m2024-04-30 21:19:29.867\u001b[0m | \u001b[34m\u001b[1mDEBUG   \u001b[0m | \u001b[36mdesci_sense.shared_functions.parsers.multi_chain_parser\u001b[0m:\u001b[36mprocess_ref_post\u001b[0m:\u001b[36m175\u001b[0m - \u001b[34m\u001b[1mInstantiating prompts...\u001b[0m\n",
      "\u001b[32m2024-04-30 21:19:29.869\u001b[0m | \u001b[34m\u001b[1mDEBUG   \u001b[0m | \u001b[36mdesci_sense.shared_functions.parsers.multi_chain_parser\u001b[0m:\u001b[36mprocess_ref_post\u001b[0m:\u001b[36m180\u001b[0m - \u001b[34m\u001b[1mInvoking parallel chain...\u001b[0m\n",
      "Python(26967) MallocStackLogging: can't turn off malloc stack logging because it was not enabled.\n",
      "\u001b[32m2024-04-30 21:19:32.809\u001b[0m | \u001b[34m\u001b[1mDEBUG   \u001b[0m | \u001b[36mdesci_sense.shared_functions.parsers.multi_chain_parser\u001b[0m:\u001b[36mprocess_ref_post\u001b[0m:\u001b[36m173\u001b[0m - \u001b[34m\u001b[1mProcessing post with parsers: ['topics']\u001b[0m\n",
      "\u001b[32m2024-04-30 21:19:32.810\u001b[0m | \u001b[34m\u001b[1mDEBUG   \u001b[0m | \u001b[36mdesci_sense.shared_functions.parsers.multi_chain_parser\u001b[0m:\u001b[36mprocess_ref_post\u001b[0m:\u001b[36m175\u001b[0m - \u001b[34m\u001b[1mInstantiating prompts...\u001b[0m\n",
      "\u001b[32m2024-04-30 21:19:32.810\u001b[0m | \u001b[34m\u001b[1mDEBUG   \u001b[0m | \u001b[36mdesci_sense.shared_functions.parsers.multi_chain_parser\u001b[0m:\u001b[36mprocess_ref_post\u001b[0m:\u001b[36m180\u001b[0m - \u001b[34m\u001b[1mInvoking parallel chain...\u001b[0m\n"
     ]
    },
    {
     "name": "stdout",
     "output_type": "stream",
     "text": [
      "347\n"
     ]
    },
    {
     "name": "stderr",
     "output_type": "stream",
     "text": [
      "Python(26968) MallocStackLogging: can't turn off malloc stack logging because it was not enabled.\n",
      "Python(26970) MallocStackLogging: can't turn off malloc stack logging because it was not enabled.\n",
      "Python(26973) MallocStackLogging: can't turn off malloc stack logging because it was not enabled.\n"
     ]
    },
    {
     "name": "stdout",
     "output_type": "stream",
     "text": [
      "348\n"
     ]
    },
    {
     "name": "stderr",
     "output_type": "stream",
     "text": [
      "\u001b[32m2024-04-30 21:19:39.319\u001b[0m | \u001b[34m\u001b[1mDEBUG   \u001b[0m | \u001b[36mdesci_sense.shared_functions.web_extractors.citoid\u001b[0m:\u001b[36mfetch_citation\u001b[0m:\u001b[36m54\u001b[0m - \u001b[34m\u001b[1mfetching citoid data for: https://twitter.com/sapinker/status/1773726349758193906\u001b[0m\n",
      "\u001b[32m2024-04-30 21:19:39.536\u001b[0m | \u001b[34m\u001b[1mDEBUG   \u001b[0m | \u001b[36mdesci_sense.shared_functions.parsers.multi_chain_parser\u001b[0m:\u001b[36mprocess_ref_post\u001b[0m:\u001b[36m173\u001b[0m - \u001b[34m\u001b[1mProcessing post with parsers: ['topics']\u001b[0m\n",
      "\u001b[32m2024-04-30 21:19:39.537\u001b[0m | \u001b[34m\u001b[1mDEBUG   \u001b[0m | \u001b[36mdesci_sense.shared_functions.parsers.multi_chain_parser\u001b[0m:\u001b[36mprocess_ref_post\u001b[0m:\u001b[36m175\u001b[0m - \u001b[34m\u001b[1mInstantiating prompts...\u001b[0m\n",
      "\u001b[32m2024-04-30 21:19:39.539\u001b[0m | \u001b[34m\u001b[1mDEBUG   \u001b[0m | \u001b[36mdesci_sense.shared_functions.parsers.multi_chain_parser\u001b[0m:\u001b[36mprocess_ref_post\u001b[0m:\u001b[36m180\u001b[0m - \u001b[34m\u001b[1mInvoking parallel chain...\u001b[0m\n",
      "Python(26974) MallocStackLogging: can't turn off malloc stack logging because it was not enabled.\n"
     ]
    },
    {
     "name": "stdout",
     "output_type": "stream",
     "text": [
      "349\n"
     ]
    },
    {
     "name": "stderr",
     "output_type": "stream",
     "text": [
      "\u001b[32m2024-04-30 21:19:42.204\u001b[0m | \u001b[34m\u001b[1mDEBUG   \u001b[0m | \u001b[36mdesci_sense.shared_functions.web_extractors.citoid\u001b[0m:\u001b[36mfetch_citation\u001b[0m:\u001b[36m54\u001b[0m - \u001b[34m\u001b[1mfetching citoid data for: https://twitter.com/BrettButtliere/status/1773741253424755145/photo/1\u001b[0m\n",
      "\u001b[32m2024-04-30 21:19:42.424\u001b[0m | \u001b[34m\u001b[1mDEBUG   \u001b[0m | \u001b[36mdesci_sense.shared_functions.parsers.multi_chain_parser\u001b[0m:\u001b[36mprocess_ref_post\u001b[0m:\u001b[36m173\u001b[0m - \u001b[34m\u001b[1mProcessing post with parsers: ['topics']\u001b[0m\n",
      "\u001b[32m2024-04-30 21:19:42.426\u001b[0m | \u001b[34m\u001b[1mDEBUG   \u001b[0m | \u001b[36mdesci_sense.shared_functions.parsers.multi_chain_parser\u001b[0m:\u001b[36mprocess_ref_post\u001b[0m:\u001b[36m175\u001b[0m - \u001b[34m\u001b[1mInstantiating prompts...\u001b[0m\n",
      "\u001b[32m2024-04-30 21:19:42.427\u001b[0m | \u001b[34m\u001b[1mDEBUG   \u001b[0m | \u001b[36mdesci_sense.shared_functions.parsers.multi_chain_parser\u001b[0m:\u001b[36mprocess_ref_post\u001b[0m:\u001b[36m180\u001b[0m - \u001b[34m\u001b[1mInvoking parallel chain...\u001b[0m\n",
      "Python(26977) MallocStackLogging: can't turn off malloc stack logging because it was not enabled.\n"
     ]
    },
    {
     "name": "stdout",
     "output_type": "stream",
     "text": [
      "350\n"
     ]
    },
    {
     "name": "stderr",
     "output_type": "stream",
     "text": [
      "\u001b[32m2024-04-30 21:19:45.464\u001b[0m | \u001b[34m\u001b[1mDEBUG   \u001b[0m | \u001b[36mdesci_sense.shared_functions.web_extractors.citoid\u001b[0m:\u001b[36mfetch_citation\u001b[0m:\u001b[36m54\u001b[0m - \u001b[34m\u001b[1mfetching citoid data for: https://soundcloud.com/nabukudurru/wake-up-hands-up\u001b[0m\n",
      "\u001b[32m2024-04-30 21:19:46.236\u001b[0m | \u001b[34m\u001b[1mDEBUG   \u001b[0m | \u001b[36mdesci_sense.shared_functions.parsers.multi_chain_parser\u001b[0m:\u001b[36mprocess_ref_post\u001b[0m:\u001b[36m173\u001b[0m - \u001b[34m\u001b[1mProcessing post with parsers: ['topics']\u001b[0m\n",
      "\u001b[32m2024-04-30 21:19:46.238\u001b[0m | \u001b[34m\u001b[1mDEBUG   \u001b[0m | \u001b[36mdesci_sense.shared_functions.parsers.multi_chain_parser\u001b[0m:\u001b[36mprocess_ref_post\u001b[0m:\u001b[36m175\u001b[0m - \u001b[34m\u001b[1mInstantiating prompts...\u001b[0m\n",
      "\u001b[32m2024-04-30 21:19:46.240\u001b[0m | \u001b[34m\u001b[1mDEBUG   \u001b[0m | \u001b[36mdesci_sense.shared_functions.parsers.multi_chain_parser\u001b[0m:\u001b[36mprocess_ref_post\u001b[0m:\u001b[36m180\u001b[0m - \u001b[34m\u001b[1mInvoking parallel chain...\u001b[0m\n",
      "Python(26979) MallocStackLogging: can't turn off malloc stack logging because it was not enabled.\n",
      "Python(26982) MallocStackLogging: can't turn off malloc stack logging because it was not enabled.\n",
      "\u001b[32m2024-04-30 21:19:49.490\u001b[0m | \u001b[34m\u001b[1mDEBUG   \u001b[0m | \u001b[36mdesci_sense.shared_functions.parsers.multi_chain_parser\u001b[0m:\u001b[36mprocess_ref_post\u001b[0m:\u001b[36m173\u001b[0m - \u001b[34m\u001b[1mProcessing post with parsers: ['topics']\u001b[0m\n",
      "\u001b[32m2024-04-30 21:19:49.491\u001b[0m | \u001b[34m\u001b[1mDEBUG   \u001b[0m | \u001b[36mdesci_sense.shared_functions.parsers.multi_chain_parser\u001b[0m:\u001b[36mprocess_ref_post\u001b[0m:\u001b[36m175\u001b[0m - \u001b[34m\u001b[1mInstantiating prompts...\u001b[0m\n",
      "\u001b[32m2024-04-30 21:19:49.491\u001b[0m | \u001b[34m\u001b[1mDEBUG   \u001b[0m | \u001b[36mdesci_sense.shared_functions.parsers.multi_chain_parser\u001b[0m:\u001b[36mprocess_ref_post\u001b[0m:\u001b[36m180\u001b[0m - \u001b[34m\u001b[1mInvoking parallel chain...\u001b[0m\n"
     ]
    },
    {
     "name": "stdout",
     "output_type": "stream",
     "text": [
      "351\n"
     ]
    },
    {
     "name": "stderr",
     "output_type": "stream",
     "text": [
      "Python(26983) MallocStackLogging: can't turn off malloc stack logging because it was not enabled.\n",
      "Python(26986) MallocStackLogging: can't turn off malloc stack logging because it was not enabled.\n"
     ]
    },
    {
     "name": "stdout",
     "output_type": "stream",
     "text": [
      "352\n"
     ]
    },
    {
     "name": "stderr",
     "output_type": "stream",
     "text": [
      "\u001b[32m2024-04-30 21:19:55.245\u001b[0m | \u001b[34m\u001b[1mDEBUG   \u001b[0m | \u001b[36mdesci_sense.shared_functions.web_extractors.citoid\u001b[0m:\u001b[36mfetch_citation\u001b[0m:\u001b[36m54\u001b[0m - \u001b[34m\u001b[1mfetching citoid data for: https://osf.io/preprints/psyarxiv/kdnp6\u001b[0m\n",
      "\u001b[32m2024-04-30 21:19:55.525\u001b[0m | \u001b[34m\u001b[1mDEBUG   \u001b[0m | \u001b[36mdesci_sense.shared_functions.parsers.multi_chain_parser\u001b[0m:\u001b[36mprocess_ref_post\u001b[0m:\u001b[36m173\u001b[0m - \u001b[34m\u001b[1mProcessing post with parsers: ['topics']\u001b[0m\n",
      "\u001b[32m2024-04-30 21:19:55.526\u001b[0m | \u001b[34m\u001b[1mDEBUG   \u001b[0m | \u001b[36mdesci_sense.shared_functions.parsers.multi_chain_parser\u001b[0m:\u001b[36mprocess_ref_post\u001b[0m:\u001b[36m175\u001b[0m - \u001b[34m\u001b[1mInstantiating prompts...\u001b[0m\n",
      "\u001b[32m2024-04-30 21:19:55.528\u001b[0m | \u001b[34m\u001b[1mDEBUG   \u001b[0m | \u001b[36mdesci_sense.shared_functions.parsers.multi_chain_parser\u001b[0m:\u001b[36mprocess_ref_post\u001b[0m:\u001b[36m180\u001b[0m - \u001b[34m\u001b[1mInvoking parallel chain...\u001b[0m\n",
      "Python(26988) MallocStackLogging: can't turn off malloc stack logging because it was not enabled.\n"
     ]
    },
    {
     "name": "stdout",
     "output_type": "stream",
     "text": [
      "353\n"
     ]
    },
    {
     "name": "stderr",
     "output_type": "stream",
     "text": [
      "\u001b[32m2024-04-30 21:19:58.349\u001b[0m | \u001b[34m\u001b[1mDEBUG   \u001b[0m | \u001b[36mdesci_sense.shared_functions.web_extractors.citoid\u001b[0m:\u001b[36mfetch_citation\u001b[0m:\u001b[36m54\u001b[0m - \u001b[34m\u001b[1mfetching citoid data for: https://twitter.com/BrettButtliere/status/1771488008463646789\u001b[0m\n",
      "\u001b[32m2024-04-30 21:19:58.614\u001b[0m | \u001b[34m\u001b[1mDEBUG   \u001b[0m | \u001b[36mdesci_sense.shared_functions.parsers.multi_chain_parser\u001b[0m:\u001b[36mprocess_ref_post\u001b[0m:\u001b[36m173\u001b[0m - \u001b[34m\u001b[1mProcessing post with parsers: ['topics']\u001b[0m\n",
      "\u001b[32m2024-04-30 21:19:58.615\u001b[0m | \u001b[34m\u001b[1mDEBUG   \u001b[0m | \u001b[36mdesci_sense.shared_functions.parsers.multi_chain_parser\u001b[0m:\u001b[36mprocess_ref_post\u001b[0m:\u001b[36m175\u001b[0m - \u001b[34m\u001b[1mInstantiating prompts...\u001b[0m\n",
      "\u001b[32m2024-04-30 21:19:58.616\u001b[0m | \u001b[34m\u001b[1mDEBUG   \u001b[0m | \u001b[36mdesci_sense.shared_functions.parsers.multi_chain_parser\u001b[0m:\u001b[36mprocess_ref_post\u001b[0m:\u001b[36m180\u001b[0m - \u001b[34m\u001b[1mInvoking parallel chain...\u001b[0m\n",
      "Python(26990) MallocStackLogging: can't turn off malloc stack logging because it was not enabled.\n"
     ]
    },
    {
     "name": "stdout",
     "output_type": "stream",
     "text": [
      "354\n"
     ]
    },
    {
     "name": "stderr",
     "output_type": "stream",
     "text": [
      "Python(26991) MallocStackLogging: can't turn off malloc stack logging because it was not enabled.\n",
      "\u001b[32m2024-04-30 21:20:02.511\u001b[0m | \u001b[34m\u001b[1mDEBUG   \u001b[0m | \u001b[36mdesci_sense.shared_functions.web_extractors.citoid\u001b[0m:\u001b[36mfetch_citation\u001b[0m:\u001b[36m54\u001b[0m - \u001b[34m\u001b[1mfetching citoid data for: https://twitter.com/BrettButtliere/status/1772566053685531086/photo/1\u001b[0m\n",
      "\u001b[32m2024-04-30 21:20:02.734\u001b[0m | \u001b[34m\u001b[1mDEBUG   \u001b[0m | \u001b[36mdesci_sense.shared_functions.parsers.multi_chain_parser\u001b[0m:\u001b[36mprocess_ref_post\u001b[0m:\u001b[36m173\u001b[0m - \u001b[34m\u001b[1mProcessing post with parsers: ['topics']\u001b[0m\n",
      "\u001b[32m2024-04-30 21:20:02.735\u001b[0m | \u001b[34m\u001b[1mDEBUG   \u001b[0m | \u001b[36mdesci_sense.shared_functions.parsers.multi_chain_parser\u001b[0m:\u001b[36mprocess_ref_post\u001b[0m:\u001b[36m175\u001b[0m - \u001b[34m\u001b[1mInstantiating prompts...\u001b[0m\n",
      "\u001b[32m2024-04-30 21:20:02.736\u001b[0m | \u001b[34m\u001b[1mDEBUG   \u001b[0m | \u001b[36mdesci_sense.shared_functions.parsers.multi_chain_parser\u001b[0m:\u001b[36mprocess_ref_post\u001b[0m:\u001b[36m180\u001b[0m - \u001b[34m\u001b[1mInvoking parallel chain...\u001b[0m\n",
      "Python(26994) MallocStackLogging: can't turn off malloc stack logging because it was not enabled.\n",
      "\u001b[32m2024-04-30 21:20:05.717\u001b[0m | \u001b[34m\u001b[1mDEBUG   \u001b[0m | \u001b[36mdesci_sense.shared_functions.parsers.multi_chain_parser\u001b[0m:\u001b[36mprocess_ref_post\u001b[0m:\u001b[36m173\u001b[0m - \u001b[34m\u001b[1mProcessing post with parsers: ['topics']\u001b[0m\n",
      "\u001b[32m2024-04-30 21:20:05.718\u001b[0m | \u001b[34m\u001b[1mDEBUG   \u001b[0m | \u001b[36mdesci_sense.shared_functions.parsers.multi_chain_parser\u001b[0m:\u001b[36mprocess_ref_post\u001b[0m:\u001b[36m175\u001b[0m - \u001b[34m\u001b[1mInstantiating prompts...\u001b[0m\n",
      "\u001b[32m2024-04-30 21:20:05.719\u001b[0m | \u001b[34m\u001b[1mDEBUG   \u001b[0m | \u001b[36mdesci_sense.shared_functions.parsers.multi_chain_parser\u001b[0m:\u001b[36mprocess_ref_post\u001b[0m:\u001b[36m180\u001b[0m - \u001b[34m\u001b[1mInvoking parallel chain...\u001b[0m\n"
     ]
    },
    {
     "name": "stdout",
     "output_type": "stream",
     "text": [
      "355\n"
     ]
    },
    {
     "name": "stderr",
     "output_type": "stream",
     "text": [
      "Python(26996) MallocStackLogging: can't turn off malloc stack logging because it was not enabled.\n",
      "\u001b[32m2024-04-30 21:20:07.628\u001b[0m | \u001b[34m\u001b[1mDEBUG   \u001b[0m | \u001b[36mdesci_sense.shared_functions.parsers.multi_chain_parser\u001b[0m:\u001b[36mprocess_ref_post\u001b[0m:\u001b[36m173\u001b[0m - \u001b[34m\u001b[1mProcessing post with parsers: ['topics']\u001b[0m\n",
      "\u001b[32m2024-04-30 21:20:07.629\u001b[0m | \u001b[34m\u001b[1mDEBUG   \u001b[0m | \u001b[36mdesci_sense.shared_functions.parsers.multi_chain_parser\u001b[0m:\u001b[36mprocess_ref_post\u001b[0m:\u001b[36m175\u001b[0m - \u001b[34m\u001b[1mInstantiating prompts...\u001b[0m\n",
      "\u001b[32m2024-04-30 21:20:07.630\u001b[0m | \u001b[34m\u001b[1mDEBUG   \u001b[0m | \u001b[36mdesci_sense.shared_functions.parsers.multi_chain_parser\u001b[0m:\u001b[36mprocess_ref_post\u001b[0m:\u001b[36m180\u001b[0m - \u001b[34m\u001b[1mInvoking parallel chain...\u001b[0m\n"
     ]
    },
    {
     "name": "stdout",
     "output_type": "stream",
     "text": [
      "356\n"
     ]
    },
    {
     "name": "stderr",
     "output_type": "stream",
     "text": [
      "Python(27001) MallocStackLogging: can't turn off malloc stack logging because it was not enabled.\n",
      "\u001b[32m2024-04-30 21:20:10.312\u001b[0m | \u001b[34m\u001b[1mDEBUG   \u001b[0m | \u001b[36mdesci_sense.shared_functions.parsers.multi_chain_parser\u001b[0m:\u001b[36mprocess_ref_post\u001b[0m:\u001b[36m173\u001b[0m - \u001b[34m\u001b[1mProcessing post with parsers: ['topics']\u001b[0m\n",
      "\u001b[32m2024-04-30 21:20:10.313\u001b[0m | \u001b[34m\u001b[1mDEBUG   \u001b[0m | \u001b[36mdesci_sense.shared_functions.parsers.multi_chain_parser\u001b[0m:\u001b[36mprocess_ref_post\u001b[0m:\u001b[36m175\u001b[0m - \u001b[34m\u001b[1mInstantiating prompts...\u001b[0m\n",
      "\u001b[32m2024-04-30 21:20:10.314\u001b[0m | \u001b[34m\u001b[1mDEBUG   \u001b[0m | \u001b[36mdesci_sense.shared_functions.parsers.multi_chain_parser\u001b[0m:\u001b[36mprocess_ref_post\u001b[0m:\u001b[36m180\u001b[0m - \u001b[34m\u001b[1mInvoking parallel chain...\u001b[0m\n"
     ]
    },
    {
     "name": "stdout",
     "output_type": "stream",
     "text": [
      "357\n"
     ]
    },
    {
     "name": "stderr",
     "output_type": "stream",
     "text": [
      "Python(27003) MallocStackLogging: can't turn off malloc stack logging because it was not enabled.\n",
      "Python(27006) MallocStackLogging: can't turn off malloc stack logging because it was not enabled.\n",
      "\u001b[32m2024-04-30 21:20:17.386\u001b[0m | \u001b[34m\u001b[1mDEBUG   \u001b[0m | \u001b[36mdesci_sense.shared_functions.parsers.multi_chain_parser\u001b[0m:\u001b[36mprocess_ref_post\u001b[0m:\u001b[36m173\u001b[0m - \u001b[34m\u001b[1mProcessing post with parsers: ['topics']\u001b[0m\n",
      "\u001b[32m2024-04-30 21:20:17.387\u001b[0m | \u001b[34m\u001b[1mDEBUG   \u001b[0m | \u001b[36mdesci_sense.shared_functions.parsers.multi_chain_parser\u001b[0m:\u001b[36mprocess_ref_post\u001b[0m:\u001b[36m175\u001b[0m - \u001b[34m\u001b[1mInstantiating prompts...\u001b[0m\n",
      "\u001b[32m2024-04-30 21:20:17.388\u001b[0m | \u001b[34m\u001b[1mDEBUG   \u001b[0m | \u001b[36mdesci_sense.shared_functions.parsers.multi_chain_parser\u001b[0m:\u001b[36mprocess_ref_post\u001b[0m:\u001b[36m180\u001b[0m - \u001b[34m\u001b[1mInvoking parallel chain...\u001b[0m\n"
     ]
    },
    {
     "name": "stdout",
     "output_type": "stream",
     "text": [
      "358\n"
     ]
    },
    {
     "name": "stderr",
     "output_type": "stream",
     "text": [
      "Python(27008) MallocStackLogging: can't turn off malloc stack logging because it was not enabled.\n",
      "Python(27011) MallocStackLogging: can't turn off malloc stack logging because it was not enabled.\n",
      "Python(27013) MallocStackLogging: can't turn off malloc stack logging because it was not enabled.\n"
     ]
    },
    {
     "name": "stdout",
     "output_type": "stream",
     "text": [
      "359\n"
     ]
    },
    {
     "name": "stderr",
     "output_type": "stream",
     "text": [
      "\u001b[32m2024-04-30 21:20:25.013\u001b[0m | \u001b[34m\u001b[1mDEBUG   \u001b[0m | \u001b[36mdesci_sense.shared_functions.web_extractors.citoid\u001b[0m:\u001b[36mfetch_citation\u001b[0m:\u001b[36m54\u001b[0m - \u001b[34m\u001b[1mfetching citoid data for: https://twitter.com/funder/status/1771552492125348267\u001b[0m\n",
      "\u001b[32m2024-04-30 21:20:26.036\u001b[0m | \u001b[34m\u001b[1mDEBUG   \u001b[0m | \u001b[36mdesci_sense.shared_functions.parsers.multi_chain_parser\u001b[0m:\u001b[36mprocess_ref_post\u001b[0m:\u001b[36m173\u001b[0m - \u001b[34m\u001b[1mProcessing post with parsers: ['topics']\u001b[0m\n",
      "\u001b[32m2024-04-30 21:20:26.037\u001b[0m | \u001b[34m\u001b[1mDEBUG   \u001b[0m | \u001b[36mdesci_sense.shared_functions.parsers.multi_chain_parser\u001b[0m:\u001b[36mprocess_ref_post\u001b[0m:\u001b[36m175\u001b[0m - \u001b[34m\u001b[1mInstantiating prompts...\u001b[0m\n",
      "\u001b[32m2024-04-30 21:20:26.039\u001b[0m | \u001b[34m\u001b[1mDEBUG   \u001b[0m | \u001b[36mdesci_sense.shared_functions.parsers.multi_chain_parser\u001b[0m:\u001b[36mprocess_ref_post\u001b[0m:\u001b[36m180\u001b[0m - \u001b[34m\u001b[1mInvoking parallel chain...\u001b[0m\n",
      "Python(27014) MallocStackLogging: can't turn off malloc stack logging because it was not enabled.\n",
      "Python(27017) MallocStackLogging: can't turn off malloc stack logging because it was not enabled.\n"
     ]
    },
    {
     "name": "stdout",
     "output_type": "stream",
     "text": [
      "360\n"
     ]
    },
    {
     "name": "stderr",
     "output_type": "stream",
     "text": [
      "\u001b[32m2024-04-30 21:20:30.338\u001b[0m | \u001b[34m\u001b[1mDEBUG   \u001b[0m | \u001b[36mdesci_sense.shared_functions.web_extractors.citoid\u001b[0m:\u001b[36mfetch_citation\u001b[0m:\u001b[36m54\u001b[0m - \u001b[34m\u001b[1mfetching citoid data for: https://twitter.com/RioStover/status/1771419400500883519\u001b[0m\n",
      "\u001b[32m2024-04-30 21:20:30.576\u001b[0m | \u001b[34m\u001b[1mDEBUG   \u001b[0m | \u001b[36mdesci_sense.shared_functions.parsers.multi_chain_parser\u001b[0m:\u001b[36mprocess_ref_post\u001b[0m:\u001b[36m173\u001b[0m - \u001b[34m\u001b[1mProcessing post with parsers: ['topics']\u001b[0m\n",
      "\u001b[32m2024-04-30 21:20:30.579\u001b[0m | \u001b[34m\u001b[1mDEBUG   \u001b[0m | \u001b[36mdesci_sense.shared_functions.parsers.multi_chain_parser\u001b[0m:\u001b[36mprocess_ref_post\u001b[0m:\u001b[36m175\u001b[0m - \u001b[34m\u001b[1mInstantiating prompts...\u001b[0m\n",
      "\u001b[32m2024-04-30 21:20:30.580\u001b[0m | \u001b[34m\u001b[1mDEBUG   \u001b[0m | \u001b[36mdesci_sense.shared_functions.parsers.multi_chain_parser\u001b[0m:\u001b[36mprocess_ref_post\u001b[0m:\u001b[36m180\u001b[0m - \u001b[34m\u001b[1mInvoking parallel chain...\u001b[0m\n",
      "Python(27018) MallocStackLogging: can't turn off malloc stack logging because it was not enabled.\n",
      "Python(27020) MallocStackLogging: can't turn off malloc stack logging because it was not enabled.\n"
     ]
    },
    {
     "name": "stdout",
     "output_type": "stream",
     "text": [
      "361\n"
     ]
    },
    {
     "name": "stderr",
     "output_type": "stream",
     "text": [
      "\u001b[32m2024-04-30 21:20:36.037\u001b[0m | \u001b[34m\u001b[1mDEBUG   \u001b[0m | \u001b[36mdesci_sense.shared_functions.web_extractors.citoid\u001b[0m:\u001b[36mfetch_citation\u001b[0m:\u001b[36m54\u001b[0m - \u001b[34m\u001b[1mfetching citoid data for: https://twitter.com/BrettButtliere/status/1771456524457480523\u001b[0m\n",
      "\u001b[32m2024-04-30 21:20:36.269\u001b[0m | \u001b[34m\u001b[1mDEBUG   \u001b[0m | \u001b[36mdesci_sense.shared_functions.parsers.multi_chain_parser\u001b[0m:\u001b[36mprocess_ref_post\u001b[0m:\u001b[36m173\u001b[0m - \u001b[34m\u001b[1mProcessing post with parsers: ['topics']\u001b[0m\n",
      "\u001b[32m2024-04-30 21:20:36.271\u001b[0m | \u001b[34m\u001b[1mDEBUG   \u001b[0m | \u001b[36mdesci_sense.shared_functions.parsers.multi_chain_parser\u001b[0m:\u001b[36mprocess_ref_post\u001b[0m:\u001b[36m175\u001b[0m - \u001b[34m\u001b[1mInstantiating prompts...\u001b[0m\n",
      "\u001b[32m2024-04-30 21:20:36.273\u001b[0m | \u001b[34m\u001b[1mDEBUG   \u001b[0m | \u001b[36mdesci_sense.shared_functions.parsers.multi_chain_parser\u001b[0m:\u001b[36mprocess_ref_post\u001b[0m:\u001b[36m180\u001b[0m - \u001b[34m\u001b[1mInvoking parallel chain...\u001b[0m\n",
      "Python(27023) MallocStackLogging: can't turn off malloc stack logging because it was not enabled.\n",
      "Python(27024) MallocStackLogging: can't turn off malloc stack logging because it was not enabled.\n"
     ]
    },
    {
     "name": "stdout",
     "output_type": "stream",
     "text": [
      "362\n"
     ]
    },
    {
     "name": "stderr",
     "output_type": "stream",
     "text": [
      "\u001b[32m2024-04-30 21:20:40.003\u001b[0m | \u001b[34m\u001b[1mDEBUG   \u001b[0m | \u001b[36mdesci_sense.shared_functions.web_extractors.citoid\u001b[0m:\u001b[36mfetch_citation\u001b[0m:\u001b[36m54\u001b[0m - \u001b[34m\u001b[1mfetching citoid data for: https://twitter.com/jbakcoleman/status/1777810014104691185/photo/1\u001b[0m\n",
      "\u001b[32m2024-04-30 21:20:41.132\u001b[0m | \u001b[34m\u001b[1mDEBUG   \u001b[0m | \u001b[36mdesci_sense.shared_functions.parsers.multi_chain_parser\u001b[0m:\u001b[36mprocess_ref_post\u001b[0m:\u001b[36m173\u001b[0m - \u001b[34m\u001b[1mProcessing post with parsers: ['topics']\u001b[0m\n",
      "\u001b[32m2024-04-30 21:20:41.134\u001b[0m | \u001b[34m\u001b[1mDEBUG   \u001b[0m | \u001b[36mdesci_sense.shared_functions.parsers.multi_chain_parser\u001b[0m:\u001b[36mprocess_ref_post\u001b[0m:\u001b[36m175\u001b[0m - \u001b[34m\u001b[1mInstantiating prompts...\u001b[0m\n",
      "\u001b[32m2024-04-30 21:20:41.135\u001b[0m | \u001b[34m\u001b[1mDEBUG   \u001b[0m | \u001b[36mdesci_sense.shared_functions.parsers.multi_chain_parser\u001b[0m:\u001b[36mprocess_ref_post\u001b[0m:\u001b[36m180\u001b[0m - \u001b[34m\u001b[1mInvoking parallel chain...\u001b[0m\n",
      "Python(27027) MallocStackLogging: can't turn off malloc stack logging because it was not enabled.\n"
     ]
    },
    {
     "name": "stdout",
     "output_type": "stream",
     "text": [
      "363\n"
     ]
    },
    {
     "name": "stderr",
     "output_type": "stream",
     "text": [
      "\u001b[32m2024-04-30 21:20:43.637\u001b[0m | \u001b[34m\u001b[1mDEBUG   \u001b[0m | \u001b[36mdesci_sense.shared_functions.web_extractors.citoid\u001b[0m:\u001b[36mfetch_citation\u001b[0m:\u001b[36m54\u001b[0m - \u001b[34m\u001b[1mfetching citoid data for: https://twitter.com/jbakcoleman/status/1777637855008809009/photo/1\u001b[0m\n",
      "\u001b[32m2024-04-30 21:20:43.896\u001b[0m | \u001b[34m\u001b[1mDEBUG   \u001b[0m | \u001b[36mdesci_sense.shared_functions.parsers.multi_chain_parser\u001b[0m:\u001b[36mprocess_ref_post\u001b[0m:\u001b[36m173\u001b[0m - \u001b[34m\u001b[1mProcessing post with parsers: ['topics']\u001b[0m\n",
      "\u001b[32m2024-04-30 21:20:43.897\u001b[0m | \u001b[34m\u001b[1mDEBUG   \u001b[0m | \u001b[36mdesci_sense.shared_functions.parsers.multi_chain_parser\u001b[0m:\u001b[36mprocess_ref_post\u001b[0m:\u001b[36m175\u001b[0m - \u001b[34m\u001b[1mInstantiating prompts...\u001b[0m\n",
      "\u001b[32m2024-04-30 21:20:43.898\u001b[0m | \u001b[34m\u001b[1mDEBUG   \u001b[0m | \u001b[36mdesci_sense.shared_functions.parsers.multi_chain_parser\u001b[0m:\u001b[36mprocess_ref_post\u001b[0m:\u001b[36m180\u001b[0m - \u001b[34m\u001b[1mInvoking parallel chain...\u001b[0m\n",
      "Python(27047) MallocStackLogging: can't turn off malloc stack logging because it was not enabled.\n",
      "\u001b[32m2024-04-30 21:20:47.387\u001b[0m | \u001b[34m\u001b[1mDEBUG   \u001b[0m | \u001b[36mdesci_sense.shared_functions.parsers.multi_chain_parser\u001b[0m:\u001b[36mprocess_ref_post\u001b[0m:\u001b[36m173\u001b[0m - \u001b[34m\u001b[1mProcessing post with parsers: ['topics']\u001b[0m\n",
      "\u001b[32m2024-04-30 21:20:47.387\u001b[0m | \u001b[34m\u001b[1mDEBUG   \u001b[0m | \u001b[36mdesci_sense.shared_functions.parsers.multi_chain_parser\u001b[0m:\u001b[36mprocess_ref_post\u001b[0m:\u001b[36m175\u001b[0m - \u001b[34m\u001b[1mInstantiating prompts...\u001b[0m\n",
      "\u001b[32m2024-04-30 21:20:47.388\u001b[0m | \u001b[34m\u001b[1mDEBUG   \u001b[0m | \u001b[36mdesci_sense.shared_functions.parsers.multi_chain_parser\u001b[0m:\u001b[36mprocess_ref_post\u001b[0m:\u001b[36m180\u001b[0m - \u001b[34m\u001b[1mInvoking parallel chain...\u001b[0m\n"
     ]
    },
    {
     "name": "stdout",
     "output_type": "stream",
     "text": [
      "364\n"
     ]
    },
    {
     "name": "stderr",
     "output_type": "stream",
     "text": [
      "Python(27051) MallocStackLogging: can't turn off malloc stack logging because it was not enabled.\n",
      "\u001b[32m2024-04-30 21:20:49.572\u001b[0m | \u001b[34m\u001b[1mDEBUG   \u001b[0m | \u001b[36mdesci_sense.shared_functions.parsers.multi_chain_parser\u001b[0m:\u001b[36mprocess_ref_post\u001b[0m:\u001b[36m173\u001b[0m - \u001b[34m\u001b[1mProcessing post with parsers: ['topics']\u001b[0m\n",
      "\u001b[32m2024-04-30 21:20:49.573\u001b[0m | \u001b[34m\u001b[1mDEBUG   \u001b[0m | \u001b[36mdesci_sense.shared_functions.parsers.multi_chain_parser\u001b[0m:\u001b[36mprocess_ref_post\u001b[0m:\u001b[36m175\u001b[0m - \u001b[34m\u001b[1mInstantiating prompts...\u001b[0m\n",
      "\u001b[32m2024-04-30 21:20:49.574\u001b[0m | \u001b[34m\u001b[1mDEBUG   \u001b[0m | \u001b[36mdesci_sense.shared_functions.parsers.multi_chain_parser\u001b[0m:\u001b[36mprocess_ref_post\u001b[0m:\u001b[36m180\u001b[0m - \u001b[34m\u001b[1mInvoking parallel chain...\u001b[0m\n"
     ]
    },
    {
     "name": "stdout",
     "output_type": "stream",
     "text": [
      "365\n"
     ]
    },
    {
     "name": "stderr",
     "output_type": "stream",
     "text": [
      "Python(27053) MallocStackLogging: can't turn off malloc stack logging because it was not enabled.\n",
      "Python(27055) MallocStackLogging: can't turn off malloc stack logging because it was not enabled.\n"
     ]
    },
    {
     "name": "stdout",
     "output_type": "stream",
     "text": [
      "366\n"
     ]
    },
    {
     "name": "stderr",
     "output_type": "stream",
     "text": [
      "\u001b[32m2024-04-30 21:20:54.397\u001b[0m | \u001b[34m\u001b[1mDEBUG   \u001b[0m | \u001b[36mdesci_sense.shared_functions.web_extractors.citoid\u001b[0m:\u001b[36mfetch_citation\u001b[0m:\u001b[36m54\u001b[0m - \u001b[34m\u001b[1mfetching citoid data for: https://twitter.com/AJThurston/status/1770538598258843961\u001b[0m\n",
      "\u001b[32m2024-04-30 21:20:54.660\u001b[0m | \u001b[34m\u001b[1mDEBUG   \u001b[0m | \u001b[36mdesci_sense.shared_functions.parsers.multi_chain_parser\u001b[0m:\u001b[36mprocess_ref_post\u001b[0m:\u001b[36m173\u001b[0m - \u001b[34m\u001b[1mProcessing post with parsers: ['topics']\u001b[0m\n",
      "\u001b[32m2024-04-30 21:20:54.661\u001b[0m | \u001b[34m\u001b[1mDEBUG   \u001b[0m | \u001b[36mdesci_sense.shared_functions.parsers.multi_chain_parser\u001b[0m:\u001b[36mprocess_ref_post\u001b[0m:\u001b[36m175\u001b[0m - \u001b[34m\u001b[1mInstantiating prompts...\u001b[0m\n",
      "\u001b[32m2024-04-30 21:20:54.663\u001b[0m | \u001b[34m\u001b[1mDEBUG   \u001b[0m | \u001b[36mdesci_sense.shared_functions.parsers.multi_chain_parser\u001b[0m:\u001b[36mprocess_ref_post\u001b[0m:\u001b[36m180\u001b[0m - \u001b[34m\u001b[1mInvoking parallel chain...\u001b[0m\n",
      "Python(27057) MallocStackLogging: can't turn off malloc stack logging because it was not enabled.\n",
      "Python(27059) MallocStackLogging: can't turn off malloc stack logging because it was not enabled.\n",
      "Python(27061) MallocStackLogging: can't turn off malloc stack logging because it was not enabled.\n"
     ]
    },
    {
     "name": "stdout",
     "output_type": "stream",
     "text": [
      "367\n"
     ]
    },
    {
     "name": "stderr",
     "output_type": "stream",
     "text": [
      "Python(27063) MallocStackLogging: can't turn off malloc stack logging because it was not enabled.\n",
      "\u001b[32m2024-04-30 21:21:03.476\u001b[0m | \u001b[34m\u001b[1mDEBUG   \u001b[0m | \u001b[36mdesci_sense.shared_functions.web_extractors.citoid\u001b[0m:\u001b[36mfetch_citation\u001b[0m:\u001b[36m54\u001b[0m - \u001b[34m\u001b[1mfetching citoid data for: https://twitter.com/jbakcoleman/status/1770623418549108759/photo/1\u001b[0m\n",
      "\u001b[32m2024-04-30 21:21:03.668\u001b[0m | \u001b[34m\u001b[1mDEBUG   \u001b[0m | \u001b[36mdesci_sense.shared_functions.parsers.multi_chain_parser\u001b[0m:\u001b[36mprocess_ref_post\u001b[0m:\u001b[36m173\u001b[0m - \u001b[34m\u001b[1mProcessing post with parsers: ['topics']\u001b[0m\n",
      "\u001b[32m2024-04-30 21:21:03.669\u001b[0m | \u001b[34m\u001b[1mDEBUG   \u001b[0m | \u001b[36mdesci_sense.shared_functions.parsers.multi_chain_parser\u001b[0m:\u001b[36mprocess_ref_post\u001b[0m:\u001b[36m175\u001b[0m - \u001b[34m\u001b[1mInstantiating prompts...\u001b[0m\n",
      "\u001b[32m2024-04-30 21:21:03.670\u001b[0m | \u001b[34m\u001b[1mDEBUG   \u001b[0m | \u001b[36mdesci_sense.shared_functions.parsers.multi_chain_parser\u001b[0m:\u001b[36mprocess_ref_post\u001b[0m:\u001b[36m180\u001b[0m - \u001b[34m\u001b[1mInvoking parallel chain...\u001b[0m\n",
      "Python(27066) MallocStackLogging: can't turn off malloc stack logging because it was not enabled.\n"
     ]
    },
    {
     "name": "stdout",
     "output_type": "stream",
     "text": [
      "368\n"
     ]
    },
    {
     "name": "stderr",
     "output_type": "stream",
     "text": [
      "\u001b[32m2024-04-30 21:21:06.659\u001b[0m | \u001b[34m\u001b[1mDEBUG   \u001b[0m | \u001b[36mdesci_sense.shared_functions.web_extractors.citoid\u001b[0m:\u001b[36mfetch_citation\u001b[0m:\u001b[36m54\u001b[0m - \u001b[34m\u001b[1mfetching citoid data for: https://twitter.com/jbakcoleman/status/1768796186872279162/photo/1\u001b[0m\n",
      "\u001b[32m2024-04-30 21:21:06.859\u001b[0m | \u001b[34m\u001b[1mDEBUG   \u001b[0m | \u001b[36mdesci_sense.shared_functions.parsers.multi_chain_parser\u001b[0m:\u001b[36mprocess_ref_post\u001b[0m:\u001b[36m173\u001b[0m - \u001b[34m\u001b[1mProcessing post with parsers: ['topics']\u001b[0m\n",
      "\u001b[32m2024-04-30 21:21:06.860\u001b[0m | \u001b[34m\u001b[1mDEBUG   \u001b[0m | \u001b[36mdesci_sense.shared_functions.parsers.multi_chain_parser\u001b[0m:\u001b[36mprocess_ref_post\u001b[0m:\u001b[36m175\u001b[0m - \u001b[34m\u001b[1mInstantiating prompts...\u001b[0m\n",
      "\u001b[32m2024-04-30 21:21:06.861\u001b[0m | \u001b[34m\u001b[1mDEBUG   \u001b[0m | \u001b[36mdesci_sense.shared_functions.parsers.multi_chain_parser\u001b[0m:\u001b[36mprocess_ref_post\u001b[0m:\u001b[36m180\u001b[0m - \u001b[34m\u001b[1mInvoking parallel chain...\u001b[0m\n",
      "Python(27068) MallocStackLogging: can't turn off malloc stack logging because it was not enabled.\n"
     ]
    },
    {
     "name": "stdout",
     "output_type": "stream",
     "text": [
      "369\n"
     ]
    },
    {
     "name": "stderr",
     "output_type": "stream",
     "text": [
      "\u001b[32m2024-04-30 21:21:09.520\u001b[0m | \u001b[34m\u001b[1mDEBUG   \u001b[0m | \u001b[36mdesci_sense.shared_functions.web_extractors.citoid\u001b[0m:\u001b[36mfetch_citation\u001b[0m:\u001b[36m54\u001b[0m - \u001b[34m\u001b[1mfetching citoid data for: https://twitter.com/BW_Robinson/status/1765379429100847204\u001b[0m\n",
      "\u001b[32m2024-04-30 21:21:09.885\u001b[0m | \u001b[34m\u001b[1mDEBUG   \u001b[0m | \u001b[36mdesci_sense.shared_functions.parsers.multi_chain_parser\u001b[0m:\u001b[36mprocess_ref_post\u001b[0m:\u001b[36m173\u001b[0m - \u001b[34m\u001b[1mProcessing post with parsers: ['topics']\u001b[0m\n",
      "\u001b[32m2024-04-30 21:21:09.886\u001b[0m | \u001b[34m\u001b[1mDEBUG   \u001b[0m | \u001b[36mdesci_sense.shared_functions.parsers.multi_chain_parser\u001b[0m:\u001b[36mprocess_ref_post\u001b[0m:\u001b[36m175\u001b[0m - \u001b[34m\u001b[1mInstantiating prompts...\u001b[0m\n",
      "\u001b[32m2024-04-30 21:21:09.888\u001b[0m | \u001b[34m\u001b[1mDEBUG   \u001b[0m | \u001b[36mdesci_sense.shared_functions.parsers.multi_chain_parser\u001b[0m:\u001b[36mprocess_ref_post\u001b[0m:\u001b[36m180\u001b[0m - \u001b[34m\u001b[1mInvoking parallel chain...\u001b[0m\n",
      "Python(27069) MallocStackLogging: can't turn off malloc stack logging because it was not enabled.\n"
     ]
    },
    {
     "name": "stdout",
     "output_type": "stream",
     "text": [
      "370\n"
     ]
    },
    {
     "name": "stderr",
     "output_type": "stream",
     "text": [
      "\u001b[32m2024-04-30 21:21:13.500\u001b[0m | \u001b[34m\u001b[1mDEBUG   \u001b[0m | \u001b[36mdesci_sense.shared_functions.web_extractors.citoid\u001b[0m:\u001b[36mfetch_citation\u001b[0m:\u001b[36m54\u001b[0m - \u001b[34m\u001b[1mfetching citoid data for: https://twitter.com/betanalpha/status/1765414856553808364\u001b[0m\n",
      "\u001b[32m2024-04-30 21:21:13.712\u001b[0m | \u001b[34m\u001b[1mDEBUG   \u001b[0m | \u001b[36mdesci_sense.shared_functions.parsers.multi_chain_parser\u001b[0m:\u001b[36mprocess_ref_post\u001b[0m:\u001b[36m173\u001b[0m - \u001b[34m\u001b[1mProcessing post with parsers: ['topics']\u001b[0m\n",
      "\u001b[32m2024-04-30 21:21:13.713\u001b[0m | \u001b[34m\u001b[1mDEBUG   \u001b[0m | \u001b[36mdesci_sense.shared_functions.parsers.multi_chain_parser\u001b[0m:\u001b[36mprocess_ref_post\u001b[0m:\u001b[36m175\u001b[0m - \u001b[34m\u001b[1mInstantiating prompts...\u001b[0m\n",
      "\u001b[32m2024-04-30 21:21:13.714\u001b[0m | \u001b[34m\u001b[1mDEBUG   \u001b[0m | \u001b[36mdesci_sense.shared_functions.parsers.multi_chain_parser\u001b[0m:\u001b[36mprocess_ref_post\u001b[0m:\u001b[36m180\u001b[0m - \u001b[34m\u001b[1mInvoking parallel chain...\u001b[0m\n",
      "Python(27071) MallocStackLogging: can't turn off malloc stack logging because it was not enabled.\n",
      "Python(27074) MallocStackLogging: can't turn off malloc stack logging because it was not enabled.\n"
     ]
    },
    {
     "name": "stdout",
     "output_type": "stream",
     "text": [
      "371\n"
     ]
    },
    {
     "name": "stderr",
     "output_type": "stream",
     "text": [
      "\u001b[32m2024-04-30 21:21:17.202\u001b[0m | \u001b[34m\u001b[1mDEBUG   \u001b[0m | \u001b[36mdesci_sense.shared_functions.web_extractors.citoid\u001b[0m:\u001b[36mfetch_citation\u001b[0m:\u001b[36m54\u001b[0m - \u001b[34m\u001b[1mfetching citoid data for: https://twitter.com/jbakcoleman/status/1764849504551858196/photo/1\u001b[0m\n",
      "\u001b[32m2024-04-30 21:21:17.439\u001b[0m | \u001b[34m\u001b[1mDEBUG   \u001b[0m | \u001b[36mdesci_sense.shared_functions.parsers.multi_chain_parser\u001b[0m:\u001b[36mprocess_ref_post\u001b[0m:\u001b[36m173\u001b[0m - \u001b[34m\u001b[1mProcessing post with parsers: ['topics']\u001b[0m\n",
      "\u001b[32m2024-04-30 21:21:17.441\u001b[0m | \u001b[34m\u001b[1mDEBUG   \u001b[0m | \u001b[36mdesci_sense.shared_functions.parsers.multi_chain_parser\u001b[0m:\u001b[36mprocess_ref_post\u001b[0m:\u001b[36m175\u001b[0m - \u001b[34m\u001b[1mInstantiating prompts...\u001b[0m\n",
      "\u001b[32m2024-04-30 21:21:17.442\u001b[0m | \u001b[34m\u001b[1mDEBUG   \u001b[0m | \u001b[36mdesci_sense.shared_functions.parsers.multi_chain_parser\u001b[0m:\u001b[36mprocess_ref_post\u001b[0m:\u001b[36m180\u001b[0m - \u001b[34m\u001b[1mInvoking parallel chain...\u001b[0m\n",
      "Python(27075) MallocStackLogging: can't turn off malloc stack logging because it was not enabled.\n"
     ]
    },
    {
     "name": "stdout",
     "output_type": "stream",
     "text": [
      "372\n"
     ]
    },
    {
     "name": "stderr",
     "output_type": "stream",
     "text": [
      "\u001b[32m2024-04-30 21:21:21.725\u001b[0m | \u001b[34m\u001b[1mDEBUG   \u001b[0m | \u001b[36mdesci_sense.shared_functions.web_extractors.citoid\u001b[0m:\u001b[36mfetch_citation\u001b[0m:\u001b[36m54\u001b[0m - \u001b[34m\u001b[1mfetching citoid data for: https://twitter.com/nj_clark/status/1761897342540939549\u001b[0m\n",
      "Python(27077) MallocStackLogging: can't turn off malloc stack logging because it was not enabled.\n",
      "\u001b[32m2024-04-30 21:21:21.959\u001b[0m | \u001b[34m\u001b[1mDEBUG   \u001b[0m | \u001b[36mdesci_sense.shared_functions.parsers.multi_chain_parser\u001b[0m:\u001b[36mprocess_ref_post\u001b[0m:\u001b[36m173\u001b[0m - \u001b[34m\u001b[1mProcessing post with parsers: ['topics']\u001b[0m\n",
      "\u001b[32m2024-04-30 21:21:21.960\u001b[0m | \u001b[34m\u001b[1mDEBUG   \u001b[0m | \u001b[36mdesci_sense.shared_functions.parsers.multi_chain_parser\u001b[0m:\u001b[36mprocess_ref_post\u001b[0m:\u001b[36m175\u001b[0m - \u001b[34m\u001b[1mInstantiating prompts...\u001b[0m\n",
      "\u001b[32m2024-04-30 21:21:21.961\u001b[0m | \u001b[34m\u001b[1mDEBUG   \u001b[0m | \u001b[36mdesci_sense.shared_functions.parsers.multi_chain_parser\u001b[0m:\u001b[36mprocess_ref_post\u001b[0m:\u001b[36m180\u001b[0m - \u001b[34m\u001b[1mInvoking parallel chain...\u001b[0m\n"
     ]
    },
    {
     "name": "stdout",
     "output_type": "stream",
     "text": [
      "373\n"
     ]
    },
    {
     "name": "stderr",
     "output_type": "stream",
     "text": [
      "Python(27080) MallocStackLogging: can't turn off malloc stack logging because it was not enabled.\n",
      "\u001b[32m2024-04-30 21:21:24.560\u001b[0m | \u001b[34m\u001b[1mDEBUG   \u001b[0m | \u001b[36mdesci_sense.shared_functions.web_extractors.citoid\u001b[0m:\u001b[36mfetch_citation\u001b[0m:\u001b[36m54\u001b[0m - \u001b[34m\u001b[1mfetching citoid data for: https://twitter.com/jbakcoleman/status/1761838761430630683/photo/1\u001b[0m\n",
      "\u001b[32m2024-04-30 21:21:25.985\u001b[0m | \u001b[34m\u001b[1mDEBUG   \u001b[0m | \u001b[36mdesci_sense.shared_functions.parsers.multi_chain_parser\u001b[0m:\u001b[36mprocess_ref_post\u001b[0m:\u001b[36m173\u001b[0m - \u001b[34m\u001b[1mProcessing post with parsers: ['topics']\u001b[0m\n",
      "\u001b[32m2024-04-30 21:21:25.989\u001b[0m | \u001b[34m\u001b[1mDEBUG   \u001b[0m | \u001b[36mdesci_sense.shared_functions.parsers.multi_chain_parser\u001b[0m:\u001b[36mprocess_ref_post\u001b[0m:\u001b[36m175\u001b[0m - \u001b[34m\u001b[1mInstantiating prompts...\u001b[0m\n",
      "\u001b[32m2024-04-30 21:21:25.991\u001b[0m | \u001b[34m\u001b[1mDEBUG   \u001b[0m | \u001b[36mdesci_sense.shared_functions.parsers.multi_chain_parser\u001b[0m:\u001b[36mprocess_ref_post\u001b[0m:\u001b[36m180\u001b[0m - \u001b[34m\u001b[1mInvoking parallel chain...\u001b[0m\n",
      "Python(27082) MallocStackLogging: can't turn off malloc stack logging because it was not enabled.\n"
     ]
    },
    {
     "name": "stdout",
     "output_type": "stream",
     "text": [
      "374\n"
     ]
    },
    {
     "name": "stderr",
     "output_type": "stream",
     "text": [
      "\u001b[32m2024-04-30 21:21:29.424\u001b[0m | \u001b[34m\u001b[1mDEBUG   \u001b[0m | \u001b[36mdesci_sense.shared_functions.web_extractors.citoid\u001b[0m:\u001b[36mfetch_citation\u001b[0m:\u001b[36m54\u001b[0m - \u001b[34m\u001b[1mfetching citoid data for: https://twitter.com/michikokakutani/status/1761326389716754764\u001b[0m\n",
      "\u001b[32m2024-04-30 21:21:29.630\u001b[0m | \u001b[34m\u001b[1mDEBUG   \u001b[0m | \u001b[36mdesci_sense.shared_functions.parsers.multi_chain_parser\u001b[0m:\u001b[36mprocess_ref_post\u001b[0m:\u001b[36m173\u001b[0m - \u001b[34m\u001b[1mProcessing post with parsers: ['topics']\u001b[0m\n",
      "\u001b[32m2024-04-30 21:21:29.631\u001b[0m | \u001b[34m\u001b[1mDEBUG   \u001b[0m | \u001b[36mdesci_sense.shared_functions.parsers.multi_chain_parser\u001b[0m:\u001b[36mprocess_ref_post\u001b[0m:\u001b[36m175\u001b[0m - \u001b[34m\u001b[1mInstantiating prompts...\u001b[0m\n",
      "\u001b[32m2024-04-30 21:21:29.633\u001b[0m | \u001b[34m\u001b[1mDEBUG   \u001b[0m | \u001b[36mdesci_sense.shared_functions.parsers.multi_chain_parser\u001b[0m:\u001b[36mprocess_ref_post\u001b[0m:\u001b[36m180\u001b[0m - \u001b[34m\u001b[1mInvoking parallel chain...\u001b[0m\n",
      "Python(27084) MallocStackLogging: can't turn off malloc stack logging because it was not enabled.\n",
      "Python(27085) MallocStackLogging: can't turn off malloc stack logging because it was not enabled.\n",
      "Python(27088) MallocStackLogging: can't turn off malloc stack logging because it was not enabled.\n",
      "Python(27089) MallocStackLogging: can't turn off malloc stack logging because it was not enabled.\n"
     ]
    },
    {
     "name": "stdout",
     "output_type": "stream",
     "text": [
      "375\n"
     ]
    },
    {
     "name": "stderr",
     "output_type": "stream",
     "text": [
      "\u001b[32m2024-04-30 21:21:38.416\u001b[0m | \u001b[34m\u001b[1mDEBUG   \u001b[0m | \u001b[36mdesci_sense.shared_functions.web_extractors.citoid\u001b[0m:\u001b[36mfetch_citation\u001b[0m:\u001b[36m54\u001b[0m - \u001b[34m\u001b[1mfetching citoid data for: https://twitter.com/jbakcoleman/status/1759769724836106438/photo/1\u001b[0m\n",
      "\u001b[32m2024-04-30 21:21:38.623\u001b[0m | \u001b[34m\u001b[1mDEBUG   \u001b[0m | \u001b[36mdesci_sense.shared_functions.parsers.multi_chain_parser\u001b[0m:\u001b[36mprocess_ref_post\u001b[0m:\u001b[36m173\u001b[0m - \u001b[34m\u001b[1mProcessing post with parsers: ['topics']\u001b[0m\n",
      "\u001b[32m2024-04-30 21:21:38.624\u001b[0m | \u001b[34m\u001b[1mDEBUG   \u001b[0m | \u001b[36mdesci_sense.shared_functions.parsers.multi_chain_parser\u001b[0m:\u001b[36mprocess_ref_post\u001b[0m:\u001b[36m175\u001b[0m - \u001b[34m\u001b[1mInstantiating prompts...\u001b[0m\n",
      "\u001b[32m2024-04-30 21:21:38.625\u001b[0m | \u001b[34m\u001b[1mDEBUG   \u001b[0m | \u001b[36mdesci_sense.shared_functions.parsers.multi_chain_parser\u001b[0m:\u001b[36mprocess_ref_post\u001b[0m:\u001b[36m180\u001b[0m - \u001b[34m\u001b[1mInvoking parallel chain...\u001b[0m\n",
      "Python(27091) MallocStackLogging: can't turn off malloc stack logging because it was not enabled.\n"
     ]
    },
    {
     "name": "stdout",
     "output_type": "stream",
     "text": [
      "376\n"
     ]
    },
    {
     "name": "stderr",
     "output_type": "stream",
     "text": [
      "\u001b[32m2024-04-30 21:21:40.985\u001b[0m | \u001b[34m\u001b[1mDEBUG   \u001b[0m | \u001b[36mdesci_sense.shared_functions.web_extractors.citoid\u001b[0m:\u001b[36mfetch_citation\u001b[0m:\u001b[36m54\u001b[0m - \u001b[34m\u001b[1mfetching citoid data for: https://twitter.com/jbakcoleman/status/1759076518582530444/photo/1\u001b[0m\n",
      "\u001b[32m2024-04-30 21:21:41.205\u001b[0m | \u001b[34m\u001b[1mDEBUG   \u001b[0m | \u001b[36mdesci_sense.shared_functions.parsers.multi_chain_parser\u001b[0m:\u001b[36mprocess_ref_post\u001b[0m:\u001b[36m173\u001b[0m - \u001b[34m\u001b[1mProcessing post with parsers: ['topics']\u001b[0m\n",
      "\u001b[32m2024-04-30 21:21:41.207\u001b[0m | \u001b[34m\u001b[1mDEBUG   \u001b[0m | \u001b[36mdesci_sense.shared_functions.parsers.multi_chain_parser\u001b[0m:\u001b[36mprocess_ref_post\u001b[0m:\u001b[36m175\u001b[0m - \u001b[34m\u001b[1mInstantiating prompts...\u001b[0m\n",
      "\u001b[32m2024-04-30 21:21:41.208\u001b[0m | \u001b[34m\u001b[1mDEBUG   \u001b[0m | \u001b[36mdesci_sense.shared_functions.parsers.multi_chain_parser\u001b[0m:\u001b[36mprocess_ref_post\u001b[0m:\u001b[36m180\u001b[0m - \u001b[34m\u001b[1mInvoking parallel chain...\u001b[0m\n",
      "Python(27093) MallocStackLogging: can't turn off malloc stack logging because it was not enabled.\n"
     ]
    },
    {
     "name": "stdout",
     "output_type": "stream",
     "text": [
      "377\n"
     ]
    },
    {
     "name": "stderr",
     "output_type": "stream",
     "text": [
      "\u001b[32m2024-04-30 21:21:44.197\u001b[0m | \u001b[34m\u001b[1mDEBUG   \u001b[0m | \u001b[36mdesci_sense.shared_functions.web_extractors.citoid\u001b[0m:\u001b[36mfetch_citation\u001b[0m:\u001b[36m54\u001b[0m - \u001b[34m\u001b[1mfetching citoid data for: https://twitter.com/PhDemetri/status/1757057935337726039\u001b[0m\n",
      "\u001b[32m2024-04-30 21:21:44.401\u001b[0m | \u001b[34m\u001b[1mDEBUG   \u001b[0m | \u001b[36mdesci_sense.shared_functions.parsers.multi_chain_parser\u001b[0m:\u001b[36mprocess_ref_post\u001b[0m:\u001b[36m173\u001b[0m - \u001b[34m\u001b[1mProcessing post with parsers: ['topics']\u001b[0m\n",
      "\u001b[32m2024-04-30 21:21:44.402\u001b[0m | \u001b[34m\u001b[1mDEBUG   \u001b[0m | \u001b[36mdesci_sense.shared_functions.parsers.multi_chain_parser\u001b[0m:\u001b[36mprocess_ref_post\u001b[0m:\u001b[36m175\u001b[0m - \u001b[34m\u001b[1mInstantiating prompts...\u001b[0m\n",
      "\u001b[32m2024-04-30 21:21:44.403\u001b[0m | \u001b[34m\u001b[1mDEBUG   \u001b[0m | \u001b[36mdesci_sense.shared_functions.parsers.multi_chain_parser\u001b[0m:\u001b[36mprocess_ref_post\u001b[0m:\u001b[36m180\u001b[0m - \u001b[34m\u001b[1mInvoking parallel chain...\u001b[0m\n",
      "Python(27097) MallocStackLogging: can't turn off malloc stack logging because it was not enabled.\n",
      "Python(27099) MallocStackLogging: can't turn off malloc stack logging because it was not enabled.\n"
     ]
    },
    {
     "name": "stdout",
     "output_type": "stream",
     "text": [
      "378\n"
     ]
    },
    {
     "name": "stderr",
     "output_type": "stream",
     "text": [
      "\u001b[32m2024-04-30 21:21:48.561\u001b[0m | \u001b[34m\u001b[1mDEBUG   \u001b[0m | \u001b[36mdesci_sense.shared_functions.web_extractors.citoid\u001b[0m:\u001b[36mfetch_citation\u001b[0m:\u001b[36m54\u001b[0m - \u001b[34m\u001b[1mfetching citoid data for: https://twitter.com/jbakcoleman/status/1757231827045986682/photo/1\u001b[0m\n",
      "\u001b[32m2024-04-30 21:21:48.815\u001b[0m | \u001b[34m\u001b[1mDEBUG   \u001b[0m | \u001b[36mdesci_sense.shared_functions.parsers.multi_chain_parser\u001b[0m:\u001b[36mprocess_ref_post\u001b[0m:\u001b[36m173\u001b[0m - \u001b[34m\u001b[1mProcessing post with parsers: ['topics']\u001b[0m\n",
      "\u001b[32m2024-04-30 21:21:48.815\u001b[0m | \u001b[34m\u001b[1mDEBUG   \u001b[0m | \u001b[36mdesci_sense.shared_functions.parsers.multi_chain_parser\u001b[0m:\u001b[36mprocess_ref_post\u001b[0m:\u001b[36m175\u001b[0m - \u001b[34m\u001b[1mInstantiating prompts...\u001b[0m\n",
      "\u001b[32m2024-04-30 21:21:48.816\u001b[0m | \u001b[34m\u001b[1mDEBUG   \u001b[0m | \u001b[36mdesci_sense.shared_functions.parsers.multi_chain_parser\u001b[0m:\u001b[36mprocess_ref_post\u001b[0m:\u001b[36m180\u001b[0m - \u001b[34m\u001b[1mInvoking parallel chain...\u001b[0m\n",
      "Python(27102) MallocStackLogging: can't turn off malloc stack logging because it was not enabled.\n"
     ]
    },
    {
     "name": "stdout",
     "output_type": "stream",
     "text": [
      "379\n"
     ]
    },
    {
     "name": "stderr",
     "output_type": "stream",
     "text": [
      "\u001b[32m2024-04-30 21:21:52.126\u001b[0m | \u001b[34m\u001b[1mDEBUG   \u001b[0m | \u001b[36mdesci_sense.shared_functions.web_extractors.citoid\u001b[0m:\u001b[36mfetch_citation\u001b[0m:\u001b[36m54\u001b[0m - \u001b[34m\u001b[1mfetching citoid data for: https://twitter.com/dhitchcox/status/1755944877676781836\u001b[0m\n",
      "\u001b[32m2024-04-30 21:21:52.335\u001b[0m | \u001b[34m\u001b[1mDEBUG   \u001b[0m | \u001b[36mdesci_sense.shared_functions.parsers.multi_chain_parser\u001b[0m:\u001b[36mprocess_ref_post\u001b[0m:\u001b[36m173\u001b[0m - \u001b[34m\u001b[1mProcessing post with parsers: ['topics']\u001b[0m\n",
      "\u001b[32m2024-04-30 21:21:52.337\u001b[0m | \u001b[34m\u001b[1mDEBUG   \u001b[0m | \u001b[36mdesci_sense.shared_functions.parsers.multi_chain_parser\u001b[0m:\u001b[36mprocess_ref_post\u001b[0m:\u001b[36m175\u001b[0m - \u001b[34m\u001b[1mInstantiating prompts...\u001b[0m\n",
      "\u001b[32m2024-04-30 21:21:52.338\u001b[0m | \u001b[34m\u001b[1mDEBUG   \u001b[0m | \u001b[36mdesci_sense.shared_functions.parsers.multi_chain_parser\u001b[0m:\u001b[36mprocess_ref_post\u001b[0m:\u001b[36m180\u001b[0m - \u001b[34m\u001b[1mInvoking parallel chain...\u001b[0m\n",
      "Python(27105) MallocStackLogging: can't turn off malloc stack logging because it was not enabled.\n"
     ]
    },
    {
     "name": "stdout",
     "output_type": "stream",
     "text": [
      "380\n"
     ]
    },
    {
     "name": "stderr",
     "output_type": "stream",
     "text": [
      "\u001b[32m2024-04-30 21:21:55.208\u001b[0m | \u001b[34m\u001b[1mDEBUG   \u001b[0m | \u001b[36mdesci_sense.shared_functions.web_extractors.citoid\u001b[0m:\u001b[36mfetch_citation\u001b[0m:\u001b[36m54\u001b[0m - \u001b[34m\u001b[1mfetching citoid data for: https://twitter.com/jbakcoleman/status/1754703651518456042/photo/1\u001b[0m\n",
      "\u001b[32m2024-04-30 21:21:55.450\u001b[0m | \u001b[34m\u001b[1mDEBUG   \u001b[0m | \u001b[36mdesci_sense.shared_functions.parsers.multi_chain_parser\u001b[0m:\u001b[36mprocess_ref_post\u001b[0m:\u001b[36m173\u001b[0m - \u001b[34m\u001b[1mProcessing post with parsers: ['topics']\u001b[0m\n",
      "\u001b[32m2024-04-30 21:21:55.451\u001b[0m | \u001b[34m\u001b[1mDEBUG   \u001b[0m | \u001b[36mdesci_sense.shared_functions.parsers.multi_chain_parser\u001b[0m:\u001b[36mprocess_ref_post\u001b[0m:\u001b[36m175\u001b[0m - \u001b[34m\u001b[1mInstantiating prompts...\u001b[0m\n",
      "\u001b[32m2024-04-30 21:21:55.453\u001b[0m | \u001b[34m\u001b[1mDEBUG   \u001b[0m | \u001b[36mdesci_sense.shared_functions.parsers.multi_chain_parser\u001b[0m:\u001b[36mprocess_ref_post\u001b[0m:\u001b[36m180\u001b[0m - \u001b[34m\u001b[1mInvoking parallel chain...\u001b[0m\n",
      "Python(27113) MallocStackLogging: can't turn off malloc stack logging because it was not enabled.\n"
     ]
    },
    {
     "name": "stdout",
     "output_type": "stream",
     "text": [
      "381\n"
     ]
    },
    {
     "name": "stderr",
     "output_type": "stream",
     "text": [
      "Python(27115) MallocStackLogging: can't turn off malloc stack logging because it was not enabled.\n",
      "\u001b[32m2024-04-30 21:21:58.757\u001b[0m | \u001b[34m\u001b[1mDEBUG   \u001b[0m | \u001b[36mdesci_sense.shared_functions.web_extractors.citoid\u001b[0m:\u001b[36mfetch_citation\u001b[0m:\u001b[36m54\u001b[0m - \u001b[34m\u001b[1mfetching citoid data for: https://twitter.com/jbakcoleman/status/1754347758494810412/photo/1\u001b[0m\n",
      "\u001b[32m2024-04-30 21:21:58.969\u001b[0m | \u001b[34m\u001b[1mDEBUG   \u001b[0m | \u001b[36mdesci_sense.shared_functions.parsers.multi_chain_parser\u001b[0m:\u001b[36mprocess_ref_post\u001b[0m:\u001b[36m173\u001b[0m - \u001b[34m\u001b[1mProcessing post with parsers: ['topics']\u001b[0m\n",
      "\u001b[32m2024-04-30 21:21:58.969\u001b[0m | \u001b[34m\u001b[1mDEBUG   \u001b[0m | \u001b[36mdesci_sense.shared_functions.parsers.multi_chain_parser\u001b[0m:\u001b[36mprocess_ref_post\u001b[0m:\u001b[36m175\u001b[0m - \u001b[34m\u001b[1mInstantiating prompts...\u001b[0m\n",
      "\u001b[32m2024-04-30 21:21:58.970\u001b[0m | \u001b[34m\u001b[1mDEBUG   \u001b[0m | \u001b[36mdesci_sense.shared_functions.parsers.multi_chain_parser\u001b[0m:\u001b[36mprocess_ref_post\u001b[0m:\u001b[36m180\u001b[0m - \u001b[34m\u001b[1mInvoking parallel chain...\u001b[0m\n",
      "Python(27118) MallocStackLogging: can't turn off malloc stack logging because it was not enabled.\n"
     ]
    },
    {
     "name": "stdout",
     "output_type": "stream",
     "text": [
      "382\n"
     ]
    },
    {
     "name": "stderr",
     "output_type": "stream",
     "text": [
      "\u001b[32m2024-04-30 21:22:03.291\u001b[0m | \u001b[34m\u001b[1mDEBUG   \u001b[0m | \u001b[36mdesci_sense.shared_functions.web_extractors.citoid\u001b[0m:\u001b[36mfetch_citation\u001b[0m:\u001b[36m54\u001b[0m - \u001b[34m\u001b[1mfetching citoid data for: https://twitter.com/jbakcoleman/status/1753396644190523584/photo/1\u001b[0m\n",
      "\u001b[32m2024-04-30 21:22:03.507\u001b[0m | \u001b[34m\u001b[1mDEBUG   \u001b[0m | \u001b[36mdesci_sense.shared_functions.parsers.multi_chain_parser\u001b[0m:\u001b[36mprocess_ref_post\u001b[0m:\u001b[36m173\u001b[0m - \u001b[34m\u001b[1mProcessing post with parsers: ['topics']\u001b[0m\n",
      "\u001b[32m2024-04-30 21:22:03.508\u001b[0m | \u001b[34m\u001b[1mDEBUG   \u001b[0m | \u001b[36mdesci_sense.shared_functions.parsers.multi_chain_parser\u001b[0m:\u001b[36mprocess_ref_post\u001b[0m:\u001b[36m175\u001b[0m - \u001b[34m\u001b[1mInstantiating prompts...\u001b[0m\n",
      "\u001b[32m2024-04-30 21:22:03.510\u001b[0m | \u001b[34m\u001b[1mDEBUG   \u001b[0m | \u001b[36mdesci_sense.shared_functions.parsers.multi_chain_parser\u001b[0m:\u001b[36mprocess_ref_post\u001b[0m:\u001b[36m180\u001b[0m - \u001b[34m\u001b[1mInvoking parallel chain...\u001b[0m\n",
      "Python(27119) MallocStackLogging: can't turn off malloc stack logging because it was not enabled.\n",
      "Python(27121) MallocStackLogging: can't turn off malloc stack logging because it was not enabled.\n",
      "Python(27123) MallocStackLogging: can't turn off malloc stack logging because it was not enabled.\n"
     ]
    },
    {
     "name": "stdout",
     "output_type": "stream",
     "text": [
      "383\n"
     ]
    },
    {
     "name": "stderr",
     "output_type": "stream",
     "text": [
      "\u001b[32m2024-04-30 21:22:10.901\u001b[0m | \u001b[34m\u001b[1mDEBUG   \u001b[0m | \u001b[36mdesci_sense.shared_functions.web_extractors.citoid\u001b[0m:\u001b[36mfetch_citation\u001b[0m:\u001b[36m54\u001b[0m - \u001b[34m\u001b[1mfetching citoid data for: https://twitter.com/jbakcoleman/status/1749541928402854066/photo/1\u001b[0m\n",
      "\u001b[32m2024-04-30 21:22:11.309\u001b[0m | \u001b[34m\u001b[1mDEBUG   \u001b[0m | \u001b[36mdesci_sense.shared_functions.parsers.multi_chain_parser\u001b[0m:\u001b[36mprocess_ref_post\u001b[0m:\u001b[36m173\u001b[0m - \u001b[34m\u001b[1mProcessing post with parsers: ['topics']\u001b[0m\n",
      "\u001b[32m2024-04-30 21:22:11.310\u001b[0m | \u001b[34m\u001b[1mDEBUG   \u001b[0m | \u001b[36mdesci_sense.shared_functions.parsers.multi_chain_parser\u001b[0m:\u001b[36mprocess_ref_post\u001b[0m:\u001b[36m175\u001b[0m - \u001b[34m\u001b[1mInstantiating prompts...\u001b[0m\n",
      "\u001b[32m2024-04-30 21:22:11.311\u001b[0m | \u001b[34m\u001b[1mDEBUG   \u001b[0m | \u001b[36mdesci_sense.shared_functions.parsers.multi_chain_parser\u001b[0m:\u001b[36mprocess_ref_post\u001b[0m:\u001b[36m180\u001b[0m - \u001b[34m\u001b[1mInvoking parallel chain...\u001b[0m\n",
      "Python(27125) MallocStackLogging: can't turn off malloc stack logging because it was not enabled.\n"
     ]
    },
    {
     "name": "stdout",
     "output_type": "stream",
     "text": [
      "384\n"
     ]
    },
    {
     "name": "stderr",
     "output_type": "stream",
     "text": [
      "\u001b[32m2024-04-30 21:22:14.126\u001b[0m | \u001b[34m\u001b[1mDEBUG   \u001b[0m | \u001b[36mdesci_sense.shared_functions.web_extractors.citoid\u001b[0m:\u001b[36mfetch_citation\u001b[0m:\u001b[36m54\u001b[0m - \u001b[34m\u001b[1mfetching citoid data for: https://twitter.com/dhitchcox/status/1744423175130104061\u001b[0m\n",
      "\u001b[32m2024-04-30 21:22:14.384\u001b[0m | \u001b[34m\u001b[1mDEBUG   \u001b[0m | \u001b[36mdesci_sense.shared_functions.parsers.multi_chain_parser\u001b[0m:\u001b[36mprocess_ref_post\u001b[0m:\u001b[36m173\u001b[0m - \u001b[34m\u001b[1mProcessing post with parsers: ['topics']\u001b[0m\n",
      "\u001b[32m2024-04-30 21:22:14.385\u001b[0m | \u001b[34m\u001b[1mDEBUG   \u001b[0m | \u001b[36mdesci_sense.shared_functions.parsers.multi_chain_parser\u001b[0m:\u001b[36mprocess_ref_post\u001b[0m:\u001b[36m175\u001b[0m - \u001b[34m\u001b[1mInstantiating prompts...\u001b[0m\n",
      "\u001b[32m2024-04-30 21:22:14.386\u001b[0m | \u001b[34m\u001b[1mDEBUG   \u001b[0m | \u001b[36mdesci_sense.shared_functions.parsers.multi_chain_parser\u001b[0m:\u001b[36mprocess_ref_post\u001b[0m:\u001b[36m180\u001b[0m - \u001b[34m\u001b[1mInvoking parallel chain...\u001b[0m\n",
      "Python(27126) MallocStackLogging: can't turn off malloc stack logging because it was not enabled.\n",
      "Python(27128) MallocStackLogging: can't turn off malloc stack logging because it was not enabled.\n"
     ]
    },
    {
     "name": "stdout",
     "output_type": "stream",
     "text": [
      "385\n"
     ]
    },
    {
     "name": "stderr",
     "output_type": "stream",
     "text": [
      "\u001b[32m2024-04-30 21:22:18.045\u001b[0m | \u001b[34m\u001b[1mDEBUG   \u001b[0m | \u001b[36mdesci_sense.shared_functions.web_extractors.citoid\u001b[0m:\u001b[36mfetch_citation\u001b[0m:\u001b[36m54\u001b[0m - \u001b[34m\u001b[1mfetching citoid data for: https://twitter.com/Above96th/status/1741024126775722400\u001b[0m\n",
      "\u001b[32m2024-04-30 21:22:18.300\u001b[0m | \u001b[34m\u001b[1mDEBUG   \u001b[0m | \u001b[36mdesci_sense.shared_functions.parsers.multi_chain_parser\u001b[0m:\u001b[36mprocess_ref_post\u001b[0m:\u001b[36m173\u001b[0m - \u001b[34m\u001b[1mProcessing post with parsers: ['topics']\u001b[0m\n",
      "\u001b[32m2024-04-30 21:22:18.302\u001b[0m | \u001b[34m\u001b[1mDEBUG   \u001b[0m | \u001b[36mdesci_sense.shared_functions.parsers.multi_chain_parser\u001b[0m:\u001b[36mprocess_ref_post\u001b[0m:\u001b[36m175\u001b[0m - \u001b[34m\u001b[1mInstantiating prompts...\u001b[0m\n",
      "\u001b[32m2024-04-30 21:22:18.306\u001b[0m | \u001b[34m\u001b[1mDEBUG   \u001b[0m | \u001b[36mdesci_sense.shared_functions.parsers.multi_chain_parser\u001b[0m:\u001b[36mprocess_ref_post\u001b[0m:\u001b[36m180\u001b[0m - \u001b[34m\u001b[1mInvoking parallel chain...\u001b[0m\n",
      "Python(27130) MallocStackLogging: can't turn off malloc stack logging because it was not enabled.\n",
      "Python(27131) MallocStackLogging: can't turn off malloc stack logging because it was not enabled.\n"
     ]
    },
    {
     "name": "stdout",
     "output_type": "stream",
     "text": [
      "386\n"
     ]
    },
    {
     "name": "stderr",
     "output_type": "stream",
     "text": [
      "\u001b[32m2024-04-30 21:22:23.043\u001b[0m | \u001b[34m\u001b[1mDEBUG   \u001b[0m | \u001b[36mdesci_sense.shared_functions.web_extractors.citoid\u001b[0m:\u001b[36mfetch_citation\u001b[0m:\u001b[36m54\u001b[0m - \u001b[34m\u001b[1mfetching citoid data for: https://twitter.com/BirdBrklyn/status/1739265132784394415\u001b[0m\n",
      "\u001b[32m2024-04-30 21:22:23.273\u001b[0m | \u001b[34m\u001b[1mDEBUG   \u001b[0m | \u001b[36mdesci_sense.shared_functions.parsers.multi_chain_parser\u001b[0m:\u001b[36mprocess_ref_post\u001b[0m:\u001b[36m173\u001b[0m - \u001b[34m\u001b[1mProcessing post with parsers: ['topics']\u001b[0m\n",
      "\u001b[32m2024-04-30 21:22:23.275\u001b[0m | \u001b[34m\u001b[1mDEBUG   \u001b[0m | \u001b[36mdesci_sense.shared_functions.parsers.multi_chain_parser\u001b[0m:\u001b[36mprocess_ref_post\u001b[0m:\u001b[36m175\u001b[0m - \u001b[34m\u001b[1mInstantiating prompts...\u001b[0m\n",
      "\u001b[32m2024-04-30 21:22:23.277\u001b[0m | \u001b[34m\u001b[1mDEBUG   \u001b[0m | \u001b[36mdesci_sense.shared_functions.parsers.multi_chain_parser\u001b[0m:\u001b[36mprocess_ref_post\u001b[0m:\u001b[36m180\u001b[0m - \u001b[34m\u001b[1mInvoking parallel chain...\u001b[0m\n",
      "Python(27132) MallocStackLogging: can't turn off malloc stack logging because it was not enabled.\n",
      "Python(27135) MallocStackLogging: can't turn off malloc stack logging because it was not enabled.\n"
     ]
    },
    {
     "name": "stdout",
     "output_type": "stream",
     "text": [
      "387\n"
     ]
    },
    {
     "name": "stderr",
     "output_type": "stream",
     "text": [
      "\u001b[32m2024-04-30 21:22:29.598\u001b[0m | \u001b[34m\u001b[1mDEBUG   \u001b[0m | \u001b[36mdesci_sense.shared_functions.web_extractors.citoid\u001b[0m:\u001b[36mfetch_citation\u001b[0m:\u001b[36m54\u001b[0m - \u001b[34m\u001b[1mfetching citoid data for: https://twitter.com/romanewyork/status/1509172658310635530\u001b[0m\n",
      "\u001b[32m2024-04-30 21:22:29.825\u001b[0m | \u001b[34m\u001b[1mDEBUG   \u001b[0m | \u001b[36mdesci_sense.shared_functions.parsers.multi_chain_parser\u001b[0m:\u001b[36mprocess_ref_post\u001b[0m:\u001b[36m173\u001b[0m - \u001b[34m\u001b[1mProcessing post with parsers: ['topics']\u001b[0m\n",
      "\u001b[32m2024-04-30 21:22:29.826\u001b[0m | \u001b[34m\u001b[1mDEBUG   \u001b[0m | \u001b[36mdesci_sense.shared_functions.parsers.multi_chain_parser\u001b[0m:\u001b[36mprocess_ref_post\u001b[0m:\u001b[36m175\u001b[0m - \u001b[34m\u001b[1mInstantiating prompts...\u001b[0m\n",
      "\u001b[32m2024-04-30 21:22:29.828\u001b[0m | \u001b[34m\u001b[1mDEBUG   \u001b[0m | \u001b[36mdesci_sense.shared_functions.parsers.multi_chain_parser\u001b[0m:\u001b[36mprocess_ref_post\u001b[0m:\u001b[36m180\u001b[0m - \u001b[34m\u001b[1mInvoking parallel chain...\u001b[0m\n",
      "Python(27136) MallocStackLogging: can't turn off malloc stack logging because it was not enabled.\n"
     ]
    },
    {
     "name": "stdout",
     "output_type": "stream",
     "text": [
      "388\n"
     ]
    },
    {
     "name": "stderr",
     "output_type": "stream",
     "text": [
      "Python(27137) MallocStackLogging: can't turn off malloc stack logging because it was not enabled.\n",
      "\u001b[32m2024-04-30 21:22:32.940\u001b[0m | \u001b[34m\u001b[1mDEBUG   \u001b[0m | \u001b[36mdesci_sense.shared_functions.web_extractors.citoid\u001b[0m:\u001b[36mfetch_citation_async\u001b[0m:\u001b[36m20\u001b[0m - \u001b[34m\u001b[1mtarget_url=https://twitter.com/ScienceMagazine/status/1736076270838882714\u001b[0m\n",
      "\u001b[32m2024-04-30 21:22:32.943\u001b[0m | \u001b[34m\u001b[1mDEBUG   \u001b[0m | \u001b[36mdesci_sense.shared_functions.web_extractors.citoid\u001b[0m:\u001b[36mfetch_citation_async\u001b[0m:\u001b[36m20\u001b[0m - \u001b[34m\u001b[1mtarget_url=https://twitter.com/jbakcoleman/status/1736385559600193781/photo/1\u001b[0m\n",
      "\u001b[32m2024-04-30 21:22:33.302\u001b[0m | \u001b[34m\u001b[1mDEBUG   \u001b[0m | \u001b[36mdesci_sense.shared_functions.parsers.multi_chain_parser\u001b[0m:\u001b[36mprocess_ref_post\u001b[0m:\u001b[36m173\u001b[0m - \u001b[34m\u001b[1mProcessing post with parsers: ['topics']\u001b[0m\n",
      "\u001b[32m2024-04-30 21:22:33.303\u001b[0m | \u001b[34m\u001b[1mDEBUG   \u001b[0m | \u001b[36mdesci_sense.shared_functions.parsers.multi_chain_parser\u001b[0m:\u001b[36mprocess_ref_post\u001b[0m:\u001b[36m175\u001b[0m - \u001b[34m\u001b[1mInstantiating prompts...\u001b[0m\n",
      "\u001b[32m2024-04-30 21:22:33.303\u001b[0m | \u001b[34m\u001b[1mDEBUG   \u001b[0m | \u001b[36mdesci_sense.shared_functions.parsers.multi_chain_parser\u001b[0m:\u001b[36mprocess_ref_post\u001b[0m:\u001b[36m180\u001b[0m - \u001b[34m\u001b[1mInvoking parallel chain...\u001b[0m\n",
      "Python(27138) MallocStackLogging: can't turn off malloc stack logging because it was not enabled.\n"
     ]
    },
    {
     "name": "stdout",
     "output_type": "stream",
     "text": [
      "389\n"
     ]
    },
    {
     "name": "stderr",
     "output_type": "stream",
     "text": [
      "\u001b[32m2024-04-30 21:22:37.266\u001b[0m | \u001b[34m\u001b[1mDEBUG   \u001b[0m | \u001b[36mdesci_sense.shared_functions.web_extractors.citoid\u001b[0m:\u001b[36mfetch_citation\u001b[0m:\u001b[36m54\u001b[0m - \u001b[34m\u001b[1mfetching citoid data for: https://twitter.com/Apoorva__Lal/status/1735713232428601428\u001b[0m\n",
      "\u001b[32m2024-04-30 21:22:37.491\u001b[0m | \u001b[34m\u001b[1mDEBUG   \u001b[0m | \u001b[36mdesci_sense.shared_functions.parsers.multi_chain_parser\u001b[0m:\u001b[36mprocess_ref_post\u001b[0m:\u001b[36m173\u001b[0m - \u001b[34m\u001b[1mProcessing post with parsers: ['topics']\u001b[0m\n",
      "\u001b[32m2024-04-30 21:22:37.492\u001b[0m | \u001b[34m\u001b[1mDEBUG   \u001b[0m | \u001b[36mdesci_sense.shared_functions.parsers.multi_chain_parser\u001b[0m:\u001b[36mprocess_ref_post\u001b[0m:\u001b[36m175\u001b[0m - \u001b[34m\u001b[1mInstantiating prompts...\u001b[0m\n",
      "\u001b[32m2024-04-30 21:22:37.494\u001b[0m | \u001b[34m\u001b[1mDEBUG   \u001b[0m | \u001b[36mdesci_sense.shared_functions.parsers.multi_chain_parser\u001b[0m:\u001b[36mprocess_ref_post\u001b[0m:\u001b[36m180\u001b[0m - \u001b[34m\u001b[1mInvoking parallel chain...\u001b[0m\n",
      "Python(27140) MallocStackLogging: can't turn off malloc stack logging because it was not enabled.\n",
      "Python(27141) MallocStackLogging: can't turn off malloc stack logging because it was not enabled.\n"
     ]
    },
    {
     "name": "stdout",
     "output_type": "stream",
     "text": [
      "390\n"
     ]
    },
    {
     "name": "stderr",
     "output_type": "stream",
     "text": [
      "\u001b[32m2024-04-30 21:22:42.332\u001b[0m | \u001b[34m\u001b[1mDEBUG   \u001b[0m | \u001b[36mdesci_sense.shared_functions.web_extractors.citoid\u001b[0m:\u001b[36mfetch_citation\u001b[0m:\u001b[36m54\u001b[0m - \u001b[34m\u001b[1mfetching citoid data for: https://twitter.com/rdmpage/status/1735394454901756374\u001b[0m\n",
      "\u001b[32m2024-04-30 21:22:42.530\u001b[0m | \u001b[34m\u001b[1mDEBUG   \u001b[0m | \u001b[36mdesci_sense.shared_functions.parsers.multi_chain_parser\u001b[0m:\u001b[36mprocess_ref_post\u001b[0m:\u001b[36m173\u001b[0m - \u001b[34m\u001b[1mProcessing post with parsers: ['topics']\u001b[0m\n",
      "\u001b[32m2024-04-30 21:22:42.532\u001b[0m | \u001b[34m\u001b[1mDEBUG   \u001b[0m | \u001b[36mdesci_sense.shared_functions.parsers.multi_chain_parser\u001b[0m:\u001b[36mprocess_ref_post\u001b[0m:\u001b[36m175\u001b[0m - \u001b[34m\u001b[1mInstantiating prompts...\u001b[0m\n",
      "\u001b[32m2024-04-30 21:22:42.533\u001b[0m | \u001b[34m\u001b[1mDEBUG   \u001b[0m | \u001b[36mdesci_sense.shared_functions.parsers.multi_chain_parser\u001b[0m:\u001b[36mprocess_ref_post\u001b[0m:\u001b[36m180\u001b[0m - \u001b[34m\u001b[1mInvoking parallel chain...\u001b[0m\n",
      "Python(27142) MallocStackLogging: can't turn off malloc stack logging because it was not enabled.\n"
     ]
    },
    {
     "name": "stdout",
     "output_type": "stream",
     "text": [
      "391\n"
     ]
    },
    {
     "name": "stderr",
     "output_type": "stream",
     "text": [
      "\u001b[32m2024-04-30 21:22:45.938\u001b[0m | \u001b[34m\u001b[1mDEBUG   \u001b[0m | \u001b[36mdesci_sense.shared_functions.web_extractors.citoid\u001b[0m:\u001b[36mfetch_citation\u001b[0m:\u001b[36m54\u001b[0m - \u001b[34m\u001b[1mfetching citoid data for: https://twitter.com/rdmpage/status/1735214066359255481\u001b[0m\n",
      "Python(27162) MallocStackLogging: can't turn off malloc stack logging because it was not enabled.\n",
      "\u001b[32m2024-04-30 21:22:46.184\u001b[0m | \u001b[34m\u001b[1mDEBUG   \u001b[0m | \u001b[36mdesci_sense.shared_functions.parsers.multi_chain_parser\u001b[0m:\u001b[36mprocess_ref_post\u001b[0m:\u001b[36m173\u001b[0m - \u001b[34m\u001b[1mProcessing post with parsers: ['topics']\u001b[0m\n",
      "\u001b[32m2024-04-30 21:22:46.185\u001b[0m | \u001b[34m\u001b[1mDEBUG   \u001b[0m | \u001b[36mdesci_sense.shared_functions.parsers.multi_chain_parser\u001b[0m:\u001b[36mprocess_ref_post\u001b[0m:\u001b[36m175\u001b[0m - \u001b[34m\u001b[1mInstantiating prompts...\u001b[0m\n",
      "\u001b[32m2024-04-30 21:22:46.186\u001b[0m | \u001b[34m\u001b[1mDEBUG   \u001b[0m | \u001b[36mdesci_sense.shared_functions.parsers.multi_chain_parser\u001b[0m:\u001b[36mprocess_ref_post\u001b[0m:\u001b[36m180\u001b[0m - \u001b[34m\u001b[1mInvoking parallel chain...\u001b[0m\n"
     ]
    },
    {
     "name": "stdout",
     "output_type": "stream",
     "text": [
      "392\n"
     ]
    },
    {
     "name": "stderr",
     "output_type": "stream",
     "text": [
      "Python(27163) MallocStackLogging: can't turn off malloc stack logging because it was not enabled.\n",
      "\u001b[32m2024-04-30 21:22:48.665\u001b[0m | \u001b[34m\u001b[1mDEBUG   \u001b[0m | \u001b[36mdesci_sense.shared_functions.web_extractors.citoid\u001b[0m:\u001b[36mfetch_citation\u001b[0m:\u001b[36m54\u001b[0m - \u001b[34m\u001b[1mfetching citoid data for: https://twitter.com/sacrevert/status/1734998407238885607\u001b[0m\n",
      "\u001b[32m2024-04-30 21:22:48.895\u001b[0m | \u001b[34m\u001b[1mDEBUG   \u001b[0m | \u001b[36mdesci_sense.shared_functions.parsers.multi_chain_parser\u001b[0m:\u001b[36mprocess_ref_post\u001b[0m:\u001b[36m173\u001b[0m - \u001b[34m\u001b[1mProcessing post with parsers: ['topics']\u001b[0m\n",
      "\u001b[32m2024-04-30 21:22:48.896\u001b[0m | \u001b[34m\u001b[1mDEBUG   \u001b[0m | \u001b[36mdesci_sense.shared_functions.parsers.multi_chain_parser\u001b[0m:\u001b[36mprocess_ref_post\u001b[0m:\u001b[36m175\u001b[0m - \u001b[34m\u001b[1mInstantiating prompts...\u001b[0m\n",
      "\u001b[32m2024-04-30 21:22:48.897\u001b[0m | \u001b[34m\u001b[1mDEBUG   \u001b[0m | \u001b[36mdesci_sense.shared_functions.parsers.multi_chain_parser\u001b[0m:\u001b[36mprocess_ref_post\u001b[0m:\u001b[36m180\u001b[0m - \u001b[34m\u001b[1mInvoking parallel chain...\u001b[0m\n",
      "Python(27164) MallocStackLogging: can't turn off malloc stack logging because it was not enabled.\n"
     ]
    },
    {
     "name": "stdout",
     "output_type": "stream",
     "text": [
      "393\n"
     ]
    },
    {
     "name": "stderr",
     "output_type": "stream",
     "text": [
      "\u001b[32m2024-04-30 21:22:52.760\u001b[0m | \u001b[34m\u001b[1mDEBUG   \u001b[0m | \u001b[36mdesci_sense.shared_functions.web_extractors.citoid\u001b[0m:\u001b[36mfetch_citation\u001b[0m:\u001b[36m54\u001b[0m - \u001b[34m\u001b[1mfetching citoid data for: https://twitter.com/noriyuki_kojima/status/1780079338014310480\u001b[0m\n",
      "Python(27165) MallocStackLogging: can't turn off malloc stack logging because it was not enabled.\n",
      "\u001b[32m2024-04-30 21:22:54.845\u001b[0m | \u001b[34m\u001b[1mDEBUG   \u001b[0m | \u001b[36mdesci_sense.shared_functions.parsers.multi_chain_parser\u001b[0m:\u001b[36mprocess_ref_post\u001b[0m:\u001b[36m173\u001b[0m - \u001b[34m\u001b[1mProcessing post with parsers: ['topics']\u001b[0m\n",
      "\u001b[32m2024-04-30 21:22:54.847\u001b[0m | \u001b[34m\u001b[1mDEBUG   \u001b[0m | \u001b[36mdesci_sense.shared_functions.parsers.multi_chain_parser\u001b[0m:\u001b[36mprocess_ref_post\u001b[0m:\u001b[36m175\u001b[0m - \u001b[34m\u001b[1mInstantiating prompts...\u001b[0m\n",
      "\u001b[32m2024-04-30 21:22:54.849\u001b[0m | \u001b[34m\u001b[1mDEBUG   \u001b[0m | \u001b[36mdesci_sense.shared_functions.parsers.multi_chain_parser\u001b[0m:\u001b[36mprocess_ref_post\u001b[0m:\u001b[36m180\u001b[0m - \u001b[34m\u001b[1mInvoking parallel chain...\u001b[0m\n",
      "Python(27166) MallocStackLogging: can't turn off malloc stack logging because it was not enabled.\n"
     ]
    },
    {
     "name": "stdout",
     "output_type": "stream",
     "text": [
      "394\n"
     ]
    },
    {
     "name": "stderr",
     "output_type": "stream",
     "text": [
      "\u001b[32m2024-04-30 21:22:58.320\u001b[0m | \u001b[34m\u001b[1mDEBUG   \u001b[0m | \u001b[36mdesci_sense.shared_functions.web_extractors.citoid\u001b[0m:\u001b[36mfetch_citation\u001b[0m:\u001b[36m54\u001b[0m - \u001b[34m\u001b[1mfetching citoid data for: https://twitter.com/polynoamial/status/1778891186578804836\u001b[0m\n",
      "\u001b[32m2024-04-30 21:22:58.549\u001b[0m | \u001b[34m\u001b[1mDEBUG   \u001b[0m | \u001b[36mdesci_sense.shared_functions.parsers.multi_chain_parser\u001b[0m:\u001b[36mprocess_ref_post\u001b[0m:\u001b[36m173\u001b[0m - \u001b[34m\u001b[1mProcessing post with parsers: ['topics']\u001b[0m\n",
      "\u001b[32m2024-04-30 21:22:58.550\u001b[0m | \u001b[34m\u001b[1mDEBUG   \u001b[0m | \u001b[36mdesci_sense.shared_functions.parsers.multi_chain_parser\u001b[0m:\u001b[36mprocess_ref_post\u001b[0m:\u001b[36m175\u001b[0m - \u001b[34m\u001b[1mInstantiating prompts...\u001b[0m\n",
      "\u001b[32m2024-04-30 21:22:58.550\u001b[0m | \u001b[34m\u001b[1mDEBUG   \u001b[0m | \u001b[36mdesci_sense.shared_functions.parsers.multi_chain_parser\u001b[0m:\u001b[36mprocess_ref_post\u001b[0m:\u001b[36m180\u001b[0m - \u001b[34m\u001b[1mInvoking parallel chain...\u001b[0m\n",
      "Python(27167) MallocStackLogging: can't turn off malloc stack logging because it was not enabled.\n",
      "Python(27168) MallocStackLogging: can't turn off malloc stack logging because it was not enabled.\n"
     ]
    },
    {
     "name": "stdout",
     "output_type": "stream",
     "text": [
      "395\n"
     ]
    },
    {
     "name": "stderr",
     "output_type": "stream",
     "text": [
      "\u001b[32m2024-04-30 21:23:03.032\u001b[0m | \u001b[34m\u001b[1mDEBUG   \u001b[0m | \u001b[36mdesci_sense.shared_functions.web_extractors.citoid\u001b[0m:\u001b[36mfetch_citation\u001b[0m:\u001b[36m54\u001b[0m - \u001b[34m\u001b[1mfetching citoid data for: https://twitter.com/beenwrekt/status/1779164070563975501\u001b[0m\n",
      "\u001b[32m2024-04-30 21:23:03.259\u001b[0m | \u001b[34m\u001b[1mDEBUG   \u001b[0m | \u001b[36mdesci_sense.shared_functions.parsers.multi_chain_parser\u001b[0m:\u001b[36mprocess_ref_post\u001b[0m:\u001b[36m173\u001b[0m - \u001b[34m\u001b[1mProcessing post with parsers: ['topics']\u001b[0m\n",
      "\u001b[32m2024-04-30 21:23:03.260\u001b[0m | \u001b[34m\u001b[1mDEBUG   \u001b[0m | \u001b[36mdesci_sense.shared_functions.parsers.multi_chain_parser\u001b[0m:\u001b[36mprocess_ref_post\u001b[0m:\u001b[36m175\u001b[0m - \u001b[34m\u001b[1mInstantiating prompts...\u001b[0m\n",
      "\u001b[32m2024-04-30 21:23:03.261\u001b[0m | \u001b[34m\u001b[1mDEBUG   \u001b[0m | \u001b[36mdesci_sense.shared_functions.parsers.multi_chain_parser\u001b[0m:\u001b[36mprocess_ref_post\u001b[0m:\u001b[36m180\u001b[0m - \u001b[34m\u001b[1mInvoking parallel chain...\u001b[0m\n",
      "Python(27169) MallocStackLogging: can't turn off malloc stack logging because it was not enabled.\n"
     ]
    },
    {
     "name": "stdout",
     "output_type": "stream",
     "text": [
      "396\n"
     ]
    },
    {
     "name": "stderr",
     "output_type": "stream",
     "text": [
      "\u001b[32m2024-04-30 21:23:06.835\u001b[0m | \u001b[34m\u001b[1mDEBUG   \u001b[0m | \u001b[36mdesci_sense.shared_functions.web_extractors.citoid\u001b[0m:\u001b[36mfetch_citation\u001b[0m:\u001b[36m54\u001b[0m - \u001b[34m\u001b[1mfetching citoid data for: https://www.youtube.com/watch?v=KhQnnISdDIU\u001b[0m\n",
      "Python(27171) MallocStackLogging: can't turn off malloc stack logging because it was not enabled.\n",
      "\u001b[32m2024-04-30 21:23:08.767\u001b[0m | \u001b[34m\u001b[1mDEBUG   \u001b[0m | \u001b[36mdesci_sense.shared_functions.parsers.multi_chain_parser\u001b[0m:\u001b[36mprocess_ref_post\u001b[0m:\u001b[36m173\u001b[0m - \u001b[34m\u001b[1mProcessing post with parsers: ['topics']\u001b[0m\n",
      "\u001b[32m2024-04-30 21:23:08.769\u001b[0m | \u001b[34m\u001b[1mDEBUG   \u001b[0m | \u001b[36mdesci_sense.shared_functions.parsers.multi_chain_parser\u001b[0m:\u001b[36mprocess_ref_post\u001b[0m:\u001b[36m175\u001b[0m - \u001b[34m\u001b[1mInstantiating prompts...\u001b[0m\n",
      "\u001b[32m2024-04-30 21:23:08.773\u001b[0m | \u001b[34m\u001b[1mDEBUG   \u001b[0m | \u001b[36mdesci_sense.shared_functions.parsers.multi_chain_parser\u001b[0m:\u001b[36mprocess_ref_post\u001b[0m:\u001b[36m180\u001b[0m - \u001b[34m\u001b[1mInvoking parallel chain...\u001b[0m\n",
      "Python(27172) MallocStackLogging: can't turn off malloc stack logging because it was not enabled.\n"
     ]
    },
    {
     "name": "stdout",
     "output_type": "stream",
     "text": [
      "397\n"
     ]
    },
    {
     "name": "stderr",
     "output_type": "stream",
     "text": [
      "Python(27173) MallocStackLogging: can't turn off malloc stack logging because it was not enabled.\n",
      "\u001b[32m2024-04-30 21:23:12.337\u001b[0m | \u001b[34m\u001b[1mDEBUG   \u001b[0m | \u001b[36mdesci_sense.shared_functions.web_extractors.citoid\u001b[0m:\u001b[36mfetch_citation\u001b[0m:\u001b[36m54\u001b[0m - \u001b[34m\u001b[1mfetching citoid data for: https://twitter.com/yoavartzi/status/1778528238417137691/photo/1\u001b[0m\n",
      "\u001b[32m2024-04-30 21:23:12.571\u001b[0m | \u001b[34m\u001b[1mDEBUG   \u001b[0m | \u001b[36mdesci_sense.shared_functions.parsers.multi_chain_parser\u001b[0m:\u001b[36mprocess_ref_post\u001b[0m:\u001b[36m173\u001b[0m - \u001b[34m\u001b[1mProcessing post with parsers: ['topics']\u001b[0m\n",
      "\u001b[32m2024-04-30 21:23:12.571\u001b[0m | \u001b[34m\u001b[1mDEBUG   \u001b[0m | \u001b[36mdesci_sense.shared_functions.parsers.multi_chain_parser\u001b[0m:\u001b[36mprocess_ref_post\u001b[0m:\u001b[36m175\u001b[0m - \u001b[34m\u001b[1mInstantiating prompts...\u001b[0m\n",
      "\u001b[32m2024-04-30 21:23:12.572\u001b[0m | \u001b[34m\u001b[1mDEBUG   \u001b[0m | \u001b[36mdesci_sense.shared_functions.parsers.multi_chain_parser\u001b[0m:\u001b[36mprocess_ref_post\u001b[0m:\u001b[36m180\u001b[0m - \u001b[34m\u001b[1mInvoking parallel chain...\u001b[0m\n",
      "Python(27174) MallocStackLogging: can't turn off malloc stack logging because it was not enabled.\n"
     ]
    },
    {
     "name": "stdout",
     "output_type": "stream",
     "text": [
      "398\n"
     ]
    },
    {
     "name": "stderr",
     "output_type": "stream",
     "text": [
      "\u001b[32m2024-04-30 21:23:16.338\u001b[0m | \u001b[34m\u001b[1mDEBUG   \u001b[0m | \u001b[36mdesci_sense.shared_functions.web_extractors.citoid\u001b[0m:\u001b[36mfetch_citation_async\u001b[0m:\u001b[36m20\u001b[0m - \u001b[34m\u001b[1mtarget_url=https://twitter.com/DhruvBatraDB/status/1778447178262040850\u001b[0m\n",
      "\u001b[32m2024-04-30 21:23:16.340\u001b[0m | \u001b[34m\u001b[1mDEBUG   \u001b[0m | \u001b[36mdesci_sense.shared_functions.web_extractors.citoid\u001b[0m:\u001b[36mfetch_citation_async\u001b[0m:\u001b[36m20\u001b[0m - \u001b[34m\u001b[1mtarget_url=https://arxiv.org/abs/2402.17793\u001b[0m\n",
      "Python(27175) MallocStackLogging: can't turn off malloc stack logging because it was not enabled.\n",
      "\u001b[32m2024-04-30 21:23:19.789\u001b[0m | \u001b[34m\u001b[1mDEBUG   \u001b[0m | \u001b[36mdesci_sense.shared_functions.parsers.multi_chain_parser\u001b[0m:\u001b[36mprocess_ref_post\u001b[0m:\u001b[36m173\u001b[0m - \u001b[34m\u001b[1mProcessing post with parsers: ['topics']\u001b[0m\n",
      "\u001b[32m2024-04-30 21:23:19.794\u001b[0m | \u001b[34m\u001b[1mDEBUG   \u001b[0m | \u001b[36mdesci_sense.shared_functions.parsers.multi_chain_parser\u001b[0m:\u001b[36mprocess_ref_post\u001b[0m:\u001b[36m175\u001b[0m - \u001b[34m\u001b[1mInstantiating prompts...\u001b[0m\n",
      "\u001b[32m2024-04-30 21:23:19.798\u001b[0m | \u001b[34m\u001b[1mDEBUG   \u001b[0m | \u001b[36mdesci_sense.shared_functions.parsers.multi_chain_parser\u001b[0m:\u001b[36mprocess_ref_post\u001b[0m:\u001b[36m180\u001b[0m - \u001b[34m\u001b[1mInvoking parallel chain...\u001b[0m\n",
      "Python(27176) MallocStackLogging: can't turn off malloc stack logging because it was not enabled.\n"
     ]
    },
    {
     "name": "stdout",
     "output_type": "stream",
     "text": [
      "399\n"
     ]
    },
    {
     "name": "stderr",
     "output_type": "stream",
     "text": [
      "\u001b[32m2024-04-30 21:23:22.560\u001b[0m | \u001b[34m\u001b[1mDEBUG   \u001b[0m | \u001b[36mdesci_sense.shared_functions.web_extractors.citoid\u001b[0m:\u001b[36mfetch_citation\u001b[0m:\u001b[36m54\u001b[0m - \u001b[34m\u001b[1mfetching citoid data for: https://twitter.com/srush_nlp/status/1776337885928509582\u001b[0m\n",
      "Python(27177) MallocStackLogging: can't turn off malloc stack logging because it was not enabled.\n",
      "\u001b[32m2024-04-30 21:23:22.826\u001b[0m | \u001b[34m\u001b[1mDEBUG   \u001b[0m | \u001b[36mdesci_sense.shared_functions.parsers.multi_chain_parser\u001b[0m:\u001b[36mprocess_ref_post\u001b[0m:\u001b[36m173\u001b[0m - \u001b[34m\u001b[1mProcessing post with parsers: ['topics']\u001b[0m\n",
      "\u001b[32m2024-04-30 21:23:22.826\u001b[0m | \u001b[34m\u001b[1mDEBUG   \u001b[0m | \u001b[36mdesci_sense.shared_functions.parsers.multi_chain_parser\u001b[0m:\u001b[36mprocess_ref_post\u001b[0m:\u001b[36m175\u001b[0m - \u001b[34m\u001b[1mInstantiating prompts...\u001b[0m\n",
      "\u001b[32m2024-04-30 21:23:22.827\u001b[0m | \u001b[34m\u001b[1mDEBUG   \u001b[0m | \u001b[36mdesci_sense.shared_functions.parsers.multi_chain_parser\u001b[0m:\u001b[36mprocess_ref_post\u001b[0m:\u001b[36m180\u001b[0m - \u001b[34m\u001b[1mInvoking parallel chain...\u001b[0m\n",
      "Python(27178) MallocStackLogging: can't turn off malloc stack logging because it was not enabled.\n",
      "Python(27179) MallocStackLogging: can't turn off malloc stack logging because it was not enabled.\n"
     ]
    },
    {
     "name": "stdout",
     "output_type": "stream",
     "text": [
      "400\n"
     ]
    },
    {
     "name": "stderr",
     "output_type": "stream",
     "text": [
      "\u001b[32m2024-04-30 21:23:28.486\u001b[0m | \u001b[34m\u001b[1mDEBUG   \u001b[0m | \u001b[36mdesci_sense.shared_functions.web_extractors.citoid\u001b[0m:\u001b[36mfetch_citation\u001b[0m:\u001b[36m54\u001b[0m - \u001b[34m\u001b[1mfetching citoid data for: https://twitter.com/cassidy_pyle/status/1775208994375962923\u001b[0m\n",
      "\u001b[32m2024-04-30 21:23:28.716\u001b[0m | \u001b[34m\u001b[1mDEBUG   \u001b[0m | \u001b[36mdesci_sense.shared_functions.parsers.multi_chain_parser\u001b[0m:\u001b[36mprocess_ref_post\u001b[0m:\u001b[36m173\u001b[0m - \u001b[34m\u001b[1mProcessing post with parsers: ['topics']\u001b[0m\n",
      "\u001b[32m2024-04-30 21:23:28.717\u001b[0m | \u001b[34m\u001b[1mDEBUG   \u001b[0m | \u001b[36mdesci_sense.shared_functions.parsers.multi_chain_parser\u001b[0m:\u001b[36mprocess_ref_post\u001b[0m:\u001b[36m175\u001b[0m - \u001b[34m\u001b[1mInstantiating prompts...\u001b[0m\n",
      "\u001b[32m2024-04-30 21:23:28.718\u001b[0m | \u001b[34m\u001b[1mDEBUG   \u001b[0m | \u001b[36mdesci_sense.shared_functions.parsers.multi_chain_parser\u001b[0m:\u001b[36mprocess_ref_post\u001b[0m:\u001b[36m180\u001b[0m - \u001b[34m\u001b[1mInvoking parallel chain...\u001b[0m\n",
      "Python(27180) MallocStackLogging: can't turn off malloc stack logging because it was not enabled.\n"
     ]
    },
    {
     "name": "stdout",
     "output_type": "stream",
     "text": [
      "401\n"
     ]
    },
    {
     "name": "stderr",
     "output_type": "stream",
     "text": [
      "\u001b[32m2024-04-30 21:23:31.904\u001b[0m | \u001b[34m\u001b[1mDEBUG   \u001b[0m | \u001b[36mdesci_sense.shared_functions.web_extractors.citoid\u001b[0m:\u001b[36mfetch_citation\u001b[0m:\u001b[36m54\u001b[0m - \u001b[34m\u001b[1mfetching citoid data for: https://twitter.com/brendanh0gan/status/1775698269273784497\u001b[0m\n",
      "\u001b[32m2024-04-30 21:23:32.110\u001b[0m | \u001b[34m\u001b[1mDEBUG   \u001b[0m | \u001b[36mdesci_sense.shared_functions.parsers.multi_chain_parser\u001b[0m:\u001b[36mprocess_ref_post\u001b[0m:\u001b[36m173\u001b[0m - \u001b[34m\u001b[1mProcessing post with parsers: ['topics']\u001b[0m\n",
      "\u001b[32m2024-04-30 21:23:32.111\u001b[0m | \u001b[34m\u001b[1mDEBUG   \u001b[0m | \u001b[36mdesci_sense.shared_functions.parsers.multi_chain_parser\u001b[0m:\u001b[36mprocess_ref_post\u001b[0m:\u001b[36m175\u001b[0m - \u001b[34m\u001b[1mInstantiating prompts...\u001b[0m\n",
      "\u001b[32m2024-04-30 21:23:32.113\u001b[0m | \u001b[34m\u001b[1mDEBUG   \u001b[0m | \u001b[36mdesci_sense.shared_functions.parsers.multi_chain_parser\u001b[0m:\u001b[36mprocess_ref_post\u001b[0m:\u001b[36m180\u001b[0m - \u001b[34m\u001b[1mInvoking parallel chain...\u001b[0m\n",
      "Python(27181) MallocStackLogging: can't turn off malloc stack logging because it was not enabled.\n"
     ]
    },
    {
     "name": "stdout",
     "output_type": "stream",
     "text": [
      "402\n"
     ]
    },
    {
     "name": "stderr",
     "output_type": "stream",
     "text": [
      "Python(27182) MallocStackLogging: can't turn off malloc stack logging because it was not enabled.\n",
      "\u001b[32m2024-04-30 21:23:35.795\u001b[0m | \u001b[34m\u001b[1mDEBUG   \u001b[0m | \u001b[36mdesci_sense.shared_functions.web_extractors.citoid\u001b[0m:\u001b[36mfetch_citation\u001b[0m:\u001b[36m54\u001b[0m - \u001b[34m\u001b[1mfetching citoid data for: https://twitter.com/yoavartzi/status/1775650472604414220\u001b[0m\n",
      "\u001b[32m2024-04-30 21:23:36.054\u001b[0m | \u001b[34m\u001b[1mDEBUG   \u001b[0m | \u001b[36mdesci_sense.shared_functions.parsers.multi_chain_parser\u001b[0m:\u001b[36mprocess_ref_post\u001b[0m:\u001b[36m173\u001b[0m - \u001b[34m\u001b[1mProcessing post with parsers: ['topics']\u001b[0m\n",
      "\u001b[32m2024-04-30 21:23:36.055\u001b[0m | \u001b[34m\u001b[1mDEBUG   \u001b[0m | \u001b[36mdesci_sense.shared_functions.parsers.multi_chain_parser\u001b[0m:\u001b[36mprocess_ref_post\u001b[0m:\u001b[36m175\u001b[0m - \u001b[34m\u001b[1mInstantiating prompts...\u001b[0m\n",
      "\u001b[32m2024-04-30 21:23:36.055\u001b[0m | \u001b[34m\u001b[1mDEBUG   \u001b[0m | \u001b[36mdesci_sense.shared_functions.parsers.multi_chain_parser\u001b[0m:\u001b[36mprocess_ref_post\u001b[0m:\u001b[36m180\u001b[0m - \u001b[34m\u001b[1mInvoking parallel chain...\u001b[0m\n",
      "Python(27183) MallocStackLogging: can't turn off malloc stack logging because it was not enabled.\n",
      "\u001b[32m2024-04-30 21:23:40.526\u001b[0m | \u001b[34m\u001b[1mDEBUG   \u001b[0m | \u001b[36mdesci_sense.shared_functions.parsers.multi_chain_parser\u001b[0m:\u001b[36mprocess_ref_post\u001b[0m:\u001b[36m173\u001b[0m - \u001b[34m\u001b[1mProcessing post with parsers: ['topics']\u001b[0m\n",
      "\u001b[32m2024-04-30 21:23:40.527\u001b[0m | \u001b[34m\u001b[1mDEBUG   \u001b[0m | \u001b[36mdesci_sense.shared_functions.parsers.multi_chain_parser\u001b[0m:\u001b[36mprocess_ref_post\u001b[0m:\u001b[36m175\u001b[0m - \u001b[34m\u001b[1mInstantiating prompts...\u001b[0m\n",
      "\u001b[32m2024-04-30 21:23:40.529\u001b[0m | \u001b[34m\u001b[1mDEBUG   \u001b[0m | \u001b[36mdesci_sense.shared_functions.parsers.multi_chain_parser\u001b[0m:\u001b[36mprocess_ref_post\u001b[0m:\u001b[36m180\u001b[0m - \u001b[34m\u001b[1mInvoking parallel chain...\u001b[0m\n"
     ]
    },
    {
     "name": "stdout",
     "output_type": "stream",
     "text": [
      "403\n"
     ]
    },
    {
     "name": "stderr",
     "output_type": "stream",
     "text": [
      "Python(27184) MallocStackLogging: can't turn off malloc stack logging because it was not enabled.\n"
     ]
    },
    {
     "name": "stdout",
     "output_type": "stream",
     "text": [
      "404\n"
     ]
    },
    {
     "name": "stderr",
     "output_type": "stream",
     "text": [
      "Python(27185) MallocStackLogging: can't turn off malloc stack logging because it was not enabled.\n",
      "\u001b[32m2024-04-30 21:23:43.785\u001b[0m | \u001b[34m\u001b[1mDEBUG   \u001b[0m | \u001b[36mdesci_sense.shared_functions.web_extractors.citoid\u001b[0m:\u001b[36mfetch_citation_async\u001b[0m:\u001b[36m20\u001b[0m - \u001b[34m\u001b[1mtarget_url=https://twitter.com/yoavartzi/status/1775252891239944684/photo/1\u001b[0m\n",
      "\u001b[32m2024-04-30 21:23:43.786\u001b[0m | \u001b[34m\u001b[1mDEBUG   \u001b[0m | \u001b[36mdesci_sense.shared_functions.web_extractors.citoid\u001b[0m:\u001b[36mfetch_citation_async\u001b[0m:\u001b[36m20\u001b[0m - \u001b[34m\u001b[1mtarget_url=https://twitter.com/yoavartzi/status/1775165434670555217\u001b[0m\n",
      "\u001b[32m2024-04-30 21:23:44.127\u001b[0m | \u001b[34m\u001b[1mDEBUG   \u001b[0m | \u001b[36mdesci_sense.shared_functions.parsers.multi_chain_parser\u001b[0m:\u001b[36mprocess_ref_post\u001b[0m:\u001b[36m173\u001b[0m - \u001b[34m\u001b[1mProcessing post with parsers: ['topics']\u001b[0m\n",
      "\u001b[32m2024-04-30 21:23:44.128\u001b[0m | \u001b[34m\u001b[1mDEBUG   \u001b[0m | \u001b[36mdesci_sense.shared_functions.parsers.multi_chain_parser\u001b[0m:\u001b[36mprocess_ref_post\u001b[0m:\u001b[36m175\u001b[0m - \u001b[34m\u001b[1mInstantiating prompts...\u001b[0m\n",
      "\u001b[32m2024-04-30 21:23:44.128\u001b[0m | \u001b[34m\u001b[1mDEBUG   \u001b[0m | \u001b[36mdesci_sense.shared_functions.parsers.multi_chain_parser\u001b[0m:\u001b[36mprocess_ref_post\u001b[0m:\u001b[36m180\u001b[0m - \u001b[34m\u001b[1mInvoking parallel chain...\u001b[0m\n",
      "Python(27186) MallocStackLogging: can't turn off malloc stack logging because it was not enabled.\n"
     ]
    },
    {
     "name": "stdout",
     "output_type": "stream",
     "text": [
      "405\n"
     ]
    },
    {
     "name": "stderr",
     "output_type": "stream",
     "text": [
      "\u001b[32m2024-04-30 21:23:46.574\u001b[0m | \u001b[34m\u001b[1mDEBUG   \u001b[0m | \u001b[36mdesci_sense.shared_functions.web_extractors.citoid\u001b[0m:\u001b[36mfetch_citation\u001b[0m:\u001b[36m54\u001b[0m - \u001b[34m\u001b[1mfetching citoid data for: https://twitter.com/yoavartzi/status/1775165434670555217/photo/1\u001b[0m\n",
      "\u001b[32m2024-04-30 21:23:46.765\u001b[0m | \u001b[34m\u001b[1mDEBUG   \u001b[0m | \u001b[36mdesci_sense.shared_functions.parsers.multi_chain_parser\u001b[0m:\u001b[36mprocess_ref_post\u001b[0m:\u001b[36m173\u001b[0m - \u001b[34m\u001b[1mProcessing post with parsers: ['topics']\u001b[0m\n",
      "\u001b[32m2024-04-30 21:23:46.766\u001b[0m | \u001b[34m\u001b[1mDEBUG   \u001b[0m | \u001b[36mdesci_sense.shared_functions.parsers.multi_chain_parser\u001b[0m:\u001b[36mprocess_ref_post\u001b[0m:\u001b[36m175\u001b[0m - \u001b[34m\u001b[1mInstantiating prompts...\u001b[0m\n",
      "\u001b[32m2024-04-30 21:23:46.767\u001b[0m | \u001b[34m\u001b[1mDEBUG   \u001b[0m | \u001b[36mdesci_sense.shared_functions.parsers.multi_chain_parser\u001b[0m:\u001b[36mprocess_ref_post\u001b[0m:\u001b[36m180\u001b[0m - \u001b[34m\u001b[1mInvoking parallel chain...\u001b[0m\n",
      "Python(27188) MallocStackLogging: can't turn off malloc stack logging because it was not enabled.\n"
     ]
    },
    {
     "name": "stdout",
     "output_type": "stream",
     "text": [
      "406\n"
     ]
    },
    {
     "name": "stderr",
     "output_type": "stream",
     "text": [
      "\u001b[32m2024-04-30 21:23:50.465\u001b[0m | \u001b[34m\u001b[1mDEBUG   \u001b[0m | \u001b[36mdesci_sense.shared_functions.web_extractors.citoid\u001b[0m:\u001b[36mfetch_citation_async\u001b[0m:\u001b[36m20\u001b[0m - \u001b[34m\u001b[1mtarget_url=https://twitter.com/Fannyjrd_/status/1773766567286694278\u001b[0m\n",
      "\u001b[32m2024-04-30 21:23:50.467\u001b[0m | \u001b[34m\u001b[1mDEBUG   \u001b[0m | \u001b[36mdesci_sense.shared_functions.web_extractors.citoid\u001b[0m:\u001b[36mfetch_citation_async\u001b[0m:\u001b[36m20\u001b[0m - \u001b[34m\u001b[1mtarget_url=https://twitter.com/yoavartzi/status/1773789620901220608/photo/1\u001b[0m\n",
      "Python(27189) MallocStackLogging: can't turn off malloc stack logging because it was not enabled.\n",
      "\u001b[32m2024-04-30 21:23:53.219\u001b[0m | \u001b[34m\u001b[1mDEBUG   \u001b[0m | \u001b[36mdesci_sense.shared_functions.parsers.multi_chain_parser\u001b[0m:\u001b[36mprocess_ref_post\u001b[0m:\u001b[36m173\u001b[0m - \u001b[34m\u001b[1mProcessing post with parsers: ['topics']\u001b[0m\n",
      "\u001b[32m2024-04-30 21:23:53.223\u001b[0m | \u001b[34m\u001b[1mDEBUG   \u001b[0m | \u001b[36mdesci_sense.shared_functions.parsers.multi_chain_parser\u001b[0m:\u001b[36mprocess_ref_post\u001b[0m:\u001b[36m175\u001b[0m - \u001b[34m\u001b[1mInstantiating prompts...\u001b[0m\n",
      "\u001b[32m2024-04-30 21:23:53.226\u001b[0m | \u001b[34m\u001b[1mDEBUG   \u001b[0m | \u001b[36mdesci_sense.shared_functions.parsers.multi_chain_parser\u001b[0m:\u001b[36mprocess_ref_post\u001b[0m:\u001b[36m180\u001b[0m - \u001b[34m\u001b[1mInvoking parallel chain...\u001b[0m\n",
      "Python(27190) MallocStackLogging: can't turn off malloc stack logging because it was not enabled.\n",
      "Python(27191) MallocStackLogging: can't turn off malloc stack logging because it was not enabled.\n"
     ]
    },
    {
     "name": "stdout",
     "output_type": "stream",
     "text": [
      "407\n"
     ]
    },
    {
     "name": "stderr",
     "output_type": "stream",
     "text": [
      "\u001b[32m2024-04-30 21:23:57.551\u001b[0m | \u001b[34m\u001b[1mDEBUG   \u001b[0m | \u001b[36mdesci_sense.shared_functions.web_extractors.citoid\u001b[0m:\u001b[36mfetch_citation\u001b[0m:\u001b[36m54\u001b[0m - \u001b[34m\u001b[1mfetching citoid data for: https://twitter.com/COLM_conf/status/1773700895445844434\u001b[0m\n",
      "\u001b[32m2024-04-30 21:23:57.808\u001b[0m | \u001b[34m\u001b[1mDEBUG   \u001b[0m | \u001b[36mdesci_sense.shared_functions.parsers.multi_chain_parser\u001b[0m:\u001b[36mprocess_ref_post\u001b[0m:\u001b[36m173\u001b[0m - \u001b[34m\u001b[1mProcessing post with parsers: ['topics']\u001b[0m\n",
      "\u001b[32m2024-04-30 21:23:57.809\u001b[0m | \u001b[34m\u001b[1mDEBUG   \u001b[0m | \u001b[36mdesci_sense.shared_functions.parsers.multi_chain_parser\u001b[0m:\u001b[36mprocess_ref_post\u001b[0m:\u001b[36m175\u001b[0m - \u001b[34m\u001b[1mInstantiating prompts...\u001b[0m\n",
      "\u001b[32m2024-04-30 21:23:57.810\u001b[0m | \u001b[34m\u001b[1mDEBUG   \u001b[0m | \u001b[36mdesci_sense.shared_functions.parsers.multi_chain_parser\u001b[0m:\u001b[36mprocess_ref_post\u001b[0m:\u001b[36m180\u001b[0m - \u001b[34m\u001b[1mInvoking parallel chain...\u001b[0m\n",
      "Python(27192) MallocStackLogging: can't turn off malloc stack logging because it was not enabled.\n"
     ]
    },
    {
     "name": "stdout",
     "output_type": "stream",
     "text": [
      "408\n"
     ]
    },
    {
     "name": "stderr",
     "output_type": "stream",
     "text": [
      "\u001b[32m2024-04-30 21:24:01.272\u001b[0m | \u001b[34m\u001b[1mDEBUG   \u001b[0m | \u001b[36mdesci_sense.shared_functions.web_extractors.citoid\u001b[0m:\u001b[36mfetch_citation\u001b[0m:\u001b[36m54\u001b[0m - \u001b[34m\u001b[1mfetching citoid data for: https://twitter.com/selimyaman_/status/1772172937073709293\u001b[0m\n",
      "\u001b[32m2024-04-30 21:24:01.517\u001b[0m | \u001b[34m\u001b[1mDEBUG   \u001b[0m | \u001b[36mdesci_sense.shared_functions.parsers.multi_chain_parser\u001b[0m:\u001b[36mprocess_ref_post\u001b[0m:\u001b[36m173\u001b[0m - \u001b[34m\u001b[1mProcessing post with parsers: ['topics']\u001b[0m\n",
      "\u001b[32m2024-04-30 21:24:01.522\u001b[0m | \u001b[34m\u001b[1mDEBUG   \u001b[0m | \u001b[36mdesci_sense.shared_functions.parsers.multi_chain_parser\u001b[0m:\u001b[36mprocess_ref_post\u001b[0m:\u001b[36m175\u001b[0m - \u001b[34m\u001b[1mInstantiating prompts...\u001b[0m\n",
      "\u001b[32m2024-04-30 21:24:01.525\u001b[0m | \u001b[34m\u001b[1mDEBUG   \u001b[0m | \u001b[36mdesci_sense.shared_functions.parsers.multi_chain_parser\u001b[0m:\u001b[36mprocess_ref_post\u001b[0m:\u001b[36m180\u001b[0m - \u001b[34m\u001b[1mInvoking parallel chain...\u001b[0m\n",
      "Python(27193) MallocStackLogging: can't turn off malloc stack logging because it was not enabled.\n",
      "Python(27194) MallocStackLogging: can't turn off malloc stack logging because it was not enabled.\n"
     ]
    },
    {
     "name": "stdout",
     "output_type": "stream",
     "text": [
      "409\n"
     ]
    },
    {
     "name": "stderr",
     "output_type": "stream",
     "text": [
      "\u001b[32m2024-04-30 21:24:05.025\u001b[0m | \u001b[34m\u001b[1mDEBUG   \u001b[0m | \u001b[36mdesci_sense.shared_functions.web_extractors.citoid\u001b[0m:\u001b[36mfetch_citation\u001b[0m:\u001b[36m54\u001b[0m - \u001b[34m\u001b[1mfetching citoid data for: https://twitter.com/mdredze/status/1772417853095923765\u001b[0m\n",
      "\u001b[32m2024-04-30 21:24:05.246\u001b[0m | \u001b[34m\u001b[1mDEBUG   \u001b[0m | \u001b[36mdesci_sense.shared_functions.parsers.multi_chain_parser\u001b[0m:\u001b[36mprocess_ref_post\u001b[0m:\u001b[36m173\u001b[0m - \u001b[34m\u001b[1mProcessing post with parsers: ['topics']\u001b[0m\n",
      "\u001b[32m2024-04-30 21:24:05.247\u001b[0m | \u001b[34m\u001b[1mDEBUG   \u001b[0m | \u001b[36mdesci_sense.shared_functions.parsers.multi_chain_parser\u001b[0m:\u001b[36mprocess_ref_post\u001b[0m:\u001b[36m175\u001b[0m - \u001b[34m\u001b[1mInstantiating prompts...\u001b[0m\n",
      "\u001b[32m2024-04-30 21:24:05.248\u001b[0m | \u001b[34m\u001b[1mDEBUG   \u001b[0m | \u001b[36mdesci_sense.shared_functions.parsers.multi_chain_parser\u001b[0m:\u001b[36mprocess_ref_post\u001b[0m:\u001b[36m180\u001b[0m - \u001b[34m\u001b[1mInvoking parallel chain...\u001b[0m\n",
      "Python(27195) MallocStackLogging: can't turn off malloc stack logging because it was not enabled.\n"
     ]
    },
    {
     "name": "stdout",
     "output_type": "stream",
     "text": [
      "410\n"
     ]
    },
    {
     "name": "stderr",
     "output_type": "stream",
     "text": [
      "\u001b[32m2024-04-30 21:24:09.832\u001b[0m | \u001b[34m\u001b[1mDEBUG   \u001b[0m | \u001b[36mdesci_sense.shared_functions.web_extractors.citoid\u001b[0m:\u001b[36mfetch_citation_async\u001b[0m:\u001b[36m20\u001b[0m - \u001b[34m\u001b[1mtarget_url=https://twitter.com/mdredze/status/1772407622316036383\u001b[0m\n",
      "\u001b[32m2024-04-30 21:24:09.835\u001b[0m | \u001b[34m\u001b[1mDEBUG   \u001b[0m | \u001b[36mdesci_sense.shared_functions.web_extractors.citoid\u001b[0m:\u001b[36mfetch_citation_async\u001b[0m:\u001b[36m20\u001b[0m - \u001b[34m\u001b[1mtarget_url=https://twitter.com/yoavartzi/status/1772416844822978755/photo/1\u001b[0m\n",
      "Python(27196) MallocStackLogging: can't turn off malloc stack logging because it was not enabled.\n",
      "\u001b[32m2024-04-30 21:24:10.085\u001b[0m | \u001b[34m\u001b[1mDEBUG   \u001b[0m | \u001b[36mdesci_sense.shared_functions.parsers.multi_chain_parser\u001b[0m:\u001b[36mprocess_ref_post\u001b[0m:\u001b[36m173\u001b[0m - \u001b[34m\u001b[1mProcessing post with parsers: ['topics']\u001b[0m\n",
      "\u001b[32m2024-04-30 21:24:10.085\u001b[0m | \u001b[34m\u001b[1mDEBUG   \u001b[0m | \u001b[36mdesci_sense.shared_functions.parsers.multi_chain_parser\u001b[0m:\u001b[36mprocess_ref_post\u001b[0m:\u001b[36m175\u001b[0m - \u001b[34m\u001b[1mInstantiating prompts...\u001b[0m\n",
      "\u001b[32m2024-04-30 21:24:10.087\u001b[0m | \u001b[34m\u001b[1mDEBUG   \u001b[0m | \u001b[36mdesci_sense.shared_functions.parsers.multi_chain_parser\u001b[0m:\u001b[36mprocess_ref_post\u001b[0m:\u001b[36m180\u001b[0m - \u001b[34m\u001b[1mInvoking parallel chain...\u001b[0m\n",
      "Python(27197) MallocStackLogging: can't turn off malloc stack logging because it was not enabled.\n"
     ]
    },
    {
     "name": "stdout",
     "output_type": "stream",
     "text": [
      "411\n"
     ]
    },
    {
     "name": "stderr",
     "output_type": "stream",
     "text": [
      "\u001b[32m2024-04-30 21:24:13.968\u001b[0m | \u001b[34m\u001b[1mDEBUG   \u001b[0m | \u001b[36mdesci_sense.shared_functions.web_extractors.citoid\u001b[0m:\u001b[36mfetch_citation\u001b[0m:\u001b[36m54\u001b[0m - \u001b[34m\u001b[1mfetching citoid data for: https://twitter.com/COLM_conf/status/1772262521623159144\u001b[0m\n",
      "\u001b[32m2024-04-30 21:24:14.209\u001b[0m | \u001b[34m\u001b[1mDEBUG   \u001b[0m | \u001b[36mdesci_sense.shared_functions.parsers.multi_chain_parser\u001b[0m:\u001b[36mprocess_ref_post\u001b[0m:\u001b[36m173\u001b[0m - \u001b[34m\u001b[1mProcessing post with parsers: ['topics']\u001b[0m\n",
      "\u001b[32m2024-04-30 21:24:14.211\u001b[0m | \u001b[34m\u001b[1mDEBUG   \u001b[0m | \u001b[36mdesci_sense.shared_functions.parsers.multi_chain_parser\u001b[0m:\u001b[36mprocess_ref_post\u001b[0m:\u001b[36m175\u001b[0m - \u001b[34m\u001b[1mInstantiating prompts...\u001b[0m\n",
      "\u001b[32m2024-04-30 21:24:14.212\u001b[0m | \u001b[34m\u001b[1mDEBUG   \u001b[0m | \u001b[36mdesci_sense.shared_functions.parsers.multi_chain_parser\u001b[0m:\u001b[36mprocess_ref_post\u001b[0m:\u001b[36m180\u001b[0m - \u001b[34m\u001b[1mInvoking parallel chain...\u001b[0m\n",
      "Python(27198) MallocStackLogging: can't turn off malloc stack logging because it was not enabled.\n"
     ]
    },
    {
     "name": "stdout",
     "output_type": "stream",
     "text": [
      "412\n"
     ]
    },
    {
     "name": "stderr",
     "output_type": "stream",
     "text": [
      "Python(27199) MallocStackLogging: can't turn off malloc stack logging because it was not enabled.\n",
      "\u001b[32m2024-04-30 21:24:18.015\u001b[0m | \u001b[34m\u001b[1mDEBUG   \u001b[0m | \u001b[36mdesci_sense.shared_functions.web_extractors.citoid\u001b[0m:\u001b[36mfetch_citation\u001b[0m:\u001b[36m54\u001b[0m - \u001b[34m\u001b[1mfetching citoid data for: https://twitter.com/yoavartzi/status/1771510376187785250/photo/1\u001b[0m\n",
      "\u001b[32m2024-04-30 21:24:18.261\u001b[0m | \u001b[34m\u001b[1mDEBUG   \u001b[0m | \u001b[36mdesci_sense.shared_functions.parsers.multi_chain_parser\u001b[0m:\u001b[36mprocess_ref_post\u001b[0m:\u001b[36m173\u001b[0m - \u001b[34m\u001b[1mProcessing post with parsers: ['topics']\u001b[0m\n",
      "\u001b[32m2024-04-30 21:24:18.261\u001b[0m | \u001b[34m\u001b[1mDEBUG   \u001b[0m | \u001b[36mdesci_sense.shared_functions.parsers.multi_chain_parser\u001b[0m:\u001b[36mprocess_ref_post\u001b[0m:\u001b[36m175\u001b[0m - \u001b[34m\u001b[1mInstantiating prompts...\u001b[0m\n",
      "\u001b[32m2024-04-30 21:24:18.262\u001b[0m | \u001b[34m\u001b[1mDEBUG   \u001b[0m | \u001b[36mdesci_sense.shared_functions.parsers.multi_chain_parser\u001b[0m:\u001b[36mprocess_ref_post\u001b[0m:\u001b[36m180\u001b[0m - \u001b[34m\u001b[1mInvoking parallel chain...\u001b[0m\n",
      "Python(27200) MallocStackLogging: can't turn off malloc stack logging because it was not enabled.\n"
     ]
    },
    {
     "name": "stdout",
     "output_type": "stream",
     "text": [
      "413\n"
     ]
    },
    {
     "name": "stderr",
     "output_type": "stream",
     "text": [
      "\u001b[32m2024-04-30 21:24:22.357\u001b[0m | \u001b[34m\u001b[1mDEBUG   \u001b[0m | \u001b[36mdesci_sense.shared_functions.web_extractors.citoid\u001b[0m:\u001b[36mfetch_citation\u001b[0m:\u001b[36m54\u001b[0m - \u001b[34m\u001b[1mfetching citoid data for: https://twitter.com/yoavartzi/status/1771292256617582595/photo/1\u001b[0m\n",
      "\u001b[32m2024-04-30 21:24:22.618\u001b[0m | \u001b[34m\u001b[1mDEBUG   \u001b[0m | \u001b[36mdesci_sense.shared_functions.parsers.multi_chain_parser\u001b[0m:\u001b[36mprocess_ref_post\u001b[0m:\u001b[36m173\u001b[0m - \u001b[34m\u001b[1mProcessing post with parsers: ['topics']\u001b[0m\n",
      "\u001b[32m2024-04-30 21:24:22.619\u001b[0m | \u001b[34m\u001b[1mDEBUG   \u001b[0m | \u001b[36mdesci_sense.shared_functions.parsers.multi_chain_parser\u001b[0m:\u001b[36mprocess_ref_post\u001b[0m:\u001b[36m175\u001b[0m - \u001b[34m\u001b[1mInstantiating prompts...\u001b[0m\n",
      "\u001b[32m2024-04-30 21:24:22.620\u001b[0m | \u001b[34m\u001b[1mDEBUG   \u001b[0m | \u001b[36mdesci_sense.shared_functions.parsers.multi_chain_parser\u001b[0m:\u001b[36mprocess_ref_post\u001b[0m:\u001b[36m180\u001b[0m - \u001b[34m\u001b[1mInvoking parallel chain...\u001b[0m\n",
      "Python(27201) MallocStackLogging: can't turn off malloc stack logging because it was not enabled.\n",
      "Python(27202) MallocStackLogging: can't turn off malloc stack logging because it was not enabled.\n"
     ]
    },
    {
     "name": "stdout",
     "output_type": "stream",
     "text": [
      "414\n"
     ]
    },
    {
     "name": "stderr",
     "output_type": "stream",
     "text": [
      "Python(27203) MallocStackLogging: can't turn off malloc stack logging because it was not enabled.\n",
      "\u001b[32m2024-04-30 21:24:28.371\u001b[0m | \u001b[34m\u001b[1mDEBUG   \u001b[0m | \u001b[36mdesci_sense.shared_functions.web_extractors.citoid\u001b[0m:\u001b[36mfetch_citation\u001b[0m:\u001b[36m54\u001b[0m - \u001b[34m\u001b[1mfetching citoid data for: https://twitter.com/ysu_nlp/status/1771193565323964648\u001b[0m\n",
      "\u001b[32m2024-04-30 21:24:28.574\u001b[0m | \u001b[34m\u001b[1mDEBUG   \u001b[0m | \u001b[36mdesci_sense.shared_functions.parsers.multi_chain_parser\u001b[0m:\u001b[36mprocess_ref_post\u001b[0m:\u001b[36m173\u001b[0m - \u001b[34m\u001b[1mProcessing post with parsers: ['topics']\u001b[0m\n",
      "\u001b[32m2024-04-30 21:24:28.575\u001b[0m | \u001b[34m\u001b[1mDEBUG   \u001b[0m | \u001b[36mdesci_sense.shared_functions.parsers.multi_chain_parser\u001b[0m:\u001b[36mprocess_ref_post\u001b[0m:\u001b[36m175\u001b[0m - \u001b[34m\u001b[1mInstantiating prompts...\u001b[0m\n",
      "\u001b[32m2024-04-30 21:24:28.576\u001b[0m | \u001b[34m\u001b[1mDEBUG   \u001b[0m | \u001b[36mdesci_sense.shared_functions.parsers.multi_chain_parser\u001b[0m:\u001b[36mprocess_ref_post\u001b[0m:\u001b[36m180\u001b[0m - \u001b[34m\u001b[1mInvoking parallel chain...\u001b[0m\n",
      "Python(27204) MallocStackLogging: can't turn off malloc stack logging because it was not enabled.\n"
     ]
    },
    {
     "name": "stdout",
     "output_type": "stream",
     "text": [
      "415\n"
     ]
    },
    {
     "name": "stderr",
     "output_type": "stream",
     "text": [
      "\u001b[32m2024-04-30 21:24:32.419\u001b[0m | \u001b[34m\u001b[1mDEBUG   \u001b[0m | \u001b[36mdesci_sense.shared_functions.web_extractors.citoid\u001b[0m:\u001b[36mfetch_citation\u001b[0m:\u001b[36m54\u001b[0m - \u001b[34m\u001b[1mfetching citoid data for: https://twitter.com/COLM_conf/status/1770103104131768584\u001b[0m\n",
      "\u001b[32m2024-04-30 21:24:32.616\u001b[0m | \u001b[34m\u001b[1mDEBUG   \u001b[0m | \u001b[36mdesci_sense.shared_functions.parsers.multi_chain_parser\u001b[0m:\u001b[36mprocess_ref_post\u001b[0m:\u001b[36m173\u001b[0m - \u001b[34m\u001b[1mProcessing post with parsers: ['topics']\u001b[0m\n",
      "\u001b[32m2024-04-30 21:24:32.617\u001b[0m | \u001b[34m\u001b[1mDEBUG   \u001b[0m | \u001b[36mdesci_sense.shared_functions.parsers.multi_chain_parser\u001b[0m:\u001b[36mprocess_ref_post\u001b[0m:\u001b[36m175\u001b[0m - \u001b[34m\u001b[1mInstantiating prompts...\u001b[0m\n",
      "\u001b[32m2024-04-30 21:24:32.618\u001b[0m | \u001b[34m\u001b[1mDEBUG   \u001b[0m | \u001b[36mdesci_sense.shared_functions.parsers.multi_chain_parser\u001b[0m:\u001b[36mprocess_ref_post\u001b[0m:\u001b[36m180\u001b[0m - \u001b[34m\u001b[1mInvoking parallel chain...\u001b[0m\n",
      "Python(27205) MallocStackLogging: can't turn off malloc stack logging because it was not enabled.\n",
      "Python(27206) MallocStackLogging: can't turn off malloc stack logging because it was not enabled.\n"
     ]
    },
    {
     "name": "stdout",
     "output_type": "stream",
     "text": [
      "416\n"
     ]
    },
    {
     "name": "stderr",
     "output_type": "stream",
     "text": [
      "\u001b[32m2024-04-30 21:24:37.623\u001b[0m | \u001b[34m\u001b[1mDEBUG   \u001b[0m | \u001b[36mdesci_sense.shared_functions.web_extractors.citoid\u001b[0m:\u001b[36mfetch_citation\u001b[0m:\u001b[36m54\u001b[0m - \u001b[34m\u001b[1mfetching citoid data for: https://twitter.com/mdredze/status/1770088228516663401\u001b[0m\n",
      "\u001b[32m2024-04-30 21:24:37.854\u001b[0m | \u001b[34m\u001b[1mDEBUG   \u001b[0m | \u001b[36mdesci_sense.shared_functions.parsers.multi_chain_parser\u001b[0m:\u001b[36mprocess_ref_post\u001b[0m:\u001b[36m173\u001b[0m - \u001b[34m\u001b[1mProcessing post with parsers: ['topics']\u001b[0m\n",
      "\u001b[32m2024-04-30 21:24:37.856\u001b[0m | \u001b[34m\u001b[1mDEBUG   \u001b[0m | \u001b[36mdesci_sense.shared_functions.parsers.multi_chain_parser\u001b[0m:\u001b[36mprocess_ref_post\u001b[0m:\u001b[36m175\u001b[0m - \u001b[34m\u001b[1mInstantiating prompts...\u001b[0m\n",
      "\u001b[32m2024-04-30 21:24:37.857\u001b[0m | \u001b[34m\u001b[1mDEBUG   \u001b[0m | \u001b[36mdesci_sense.shared_functions.parsers.multi_chain_parser\u001b[0m:\u001b[36mprocess_ref_post\u001b[0m:\u001b[36m180\u001b[0m - \u001b[34m\u001b[1mInvoking parallel chain...\u001b[0m\n",
      "Python(27207) MallocStackLogging: can't turn off malloc stack logging because it was not enabled.\n"
     ]
    },
    {
     "name": "stdout",
     "output_type": "stream",
     "text": [
      "417\n"
     ]
    },
    {
     "name": "stderr",
     "output_type": "stream",
     "text": [
      "\u001b[32m2024-04-30 21:24:40.585\u001b[0m | \u001b[34m\u001b[1mDEBUG   \u001b[0m | \u001b[36mdesci_sense.shared_functions.web_extractors.citoid\u001b[0m:\u001b[36mfetch_citation\u001b[0m:\u001b[36m54\u001b[0m - \u001b[34m\u001b[1mfetching citoid data for: https://twitter.com/yoavartzi/status/1769899841599975624\u001b[0m\n",
      "\u001b[32m2024-04-30 21:24:40.822\u001b[0m | \u001b[34m\u001b[1mDEBUG   \u001b[0m | \u001b[36mdesci_sense.shared_functions.parsers.multi_chain_parser\u001b[0m:\u001b[36mprocess_ref_post\u001b[0m:\u001b[36m173\u001b[0m - \u001b[34m\u001b[1mProcessing post with parsers: ['topics']\u001b[0m\n",
      "\u001b[32m2024-04-30 21:24:40.824\u001b[0m | \u001b[34m\u001b[1mDEBUG   \u001b[0m | \u001b[36mdesci_sense.shared_functions.parsers.multi_chain_parser\u001b[0m:\u001b[36mprocess_ref_post\u001b[0m:\u001b[36m175\u001b[0m - \u001b[34m\u001b[1mInstantiating prompts...\u001b[0m\n",
      "\u001b[32m2024-04-30 21:24:40.825\u001b[0m | \u001b[34m\u001b[1mDEBUG   \u001b[0m | \u001b[36mdesci_sense.shared_functions.parsers.multi_chain_parser\u001b[0m:\u001b[36mprocess_ref_post\u001b[0m:\u001b[36m180\u001b[0m - \u001b[34m\u001b[1mInvoking parallel chain...\u001b[0m\n",
      "Python(27208) MallocStackLogging: can't turn off malloc stack logging because it was not enabled.\n"
     ]
    },
    {
     "name": "stdout",
     "output_type": "stream",
     "text": [
      "418\n"
     ]
    },
    {
     "name": "stderr",
     "output_type": "stream",
     "text": [
      "Python(27228) MallocStackLogging: can't turn off malloc stack logging because it was not enabled.\n",
      "\u001b[32m2024-04-30 21:24:44.205\u001b[0m | \u001b[34m\u001b[1mDEBUG   \u001b[0m | \u001b[36mdesci_sense.shared_functions.web_extractors.citoid\u001b[0m:\u001b[36mfetch_citation_async\u001b[0m:\u001b[36m20\u001b[0m - \u001b[34m\u001b[1mtarget_url=https://twitter.com/COLM_conf/status/1769878959259255272\u001b[0m\n",
      "\u001b[32m2024-04-30 21:24:44.206\u001b[0m | \u001b[34m\u001b[1mDEBUG   \u001b[0m | \u001b[36mdesci_sense.shared_functions.web_extractors.citoid\u001b[0m:\u001b[36mfetch_citation_async\u001b[0m:\u001b[36m20\u001b[0m - \u001b[34m\u001b[1mtarget_url=https://twitter.com/yoavartzi/status/1769899841599975624/photo/1\u001b[0m\n",
      "\u001b[32m2024-04-30 21:24:44.441\u001b[0m | \u001b[34m\u001b[1mDEBUG   \u001b[0m | \u001b[36mdesci_sense.shared_functions.parsers.multi_chain_parser\u001b[0m:\u001b[36mprocess_ref_post\u001b[0m:\u001b[36m173\u001b[0m - \u001b[34m\u001b[1mProcessing post with parsers: ['topics']\u001b[0m\n",
      "\u001b[32m2024-04-30 21:24:44.441\u001b[0m | \u001b[34m\u001b[1mDEBUG   \u001b[0m | \u001b[36mdesci_sense.shared_functions.parsers.multi_chain_parser\u001b[0m:\u001b[36mprocess_ref_post\u001b[0m:\u001b[36m175\u001b[0m - \u001b[34m\u001b[1mInstantiating prompts...\u001b[0m\n",
      "\u001b[32m2024-04-30 21:24:44.442\u001b[0m | \u001b[34m\u001b[1mDEBUG   \u001b[0m | \u001b[36mdesci_sense.shared_functions.parsers.multi_chain_parser\u001b[0m:\u001b[36mprocess_ref_post\u001b[0m:\u001b[36m180\u001b[0m - \u001b[34m\u001b[1mInvoking parallel chain...\u001b[0m\n",
      "Python(27229) MallocStackLogging: can't turn off malloc stack logging because it was not enabled.\n"
     ]
    },
    {
     "name": "stdout",
     "output_type": "stream",
     "text": [
      "419\n"
     ]
    },
    {
     "name": "stderr",
     "output_type": "stream",
     "text": [
      "\u001b[32m2024-04-30 21:24:47.513\u001b[0m | \u001b[34m\u001b[1mDEBUG   \u001b[0m | \u001b[36mdesci_sense.shared_functions.web_extractors.citoid\u001b[0m:\u001b[36mfetch_citation\u001b[0m:\u001b[36m54\u001b[0m - \u001b[34m\u001b[1mfetching citoid data for: https://twitter.com/yoavartzi/status/1768266767078420527/photo/1\u001b[0m\n",
      "\u001b[32m2024-04-30 21:24:47.720\u001b[0m | \u001b[34m\u001b[1mDEBUG   \u001b[0m | \u001b[36mdesci_sense.shared_functions.parsers.multi_chain_parser\u001b[0m:\u001b[36mprocess_ref_post\u001b[0m:\u001b[36m173\u001b[0m - \u001b[34m\u001b[1mProcessing post with parsers: ['topics']\u001b[0m\n",
      "\u001b[32m2024-04-30 21:24:47.721\u001b[0m | \u001b[34m\u001b[1mDEBUG   \u001b[0m | \u001b[36mdesci_sense.shared_functions.parsers.multi_chain_parser\u001b[0m:\u001b[36mprocess_ref_post\u001b[0m:\u001b[36m175\u001b[0m - \u001b[34m\u001b[1mInstantiating prompts...\u001b[0m\n",
      "\u001b[32m2024-04-30 21:24:47.722\u001b[0m | \u001b[34m\u001b[1mDEBUG   \u001b[0m | \u001b[36mdesci_sense.shared_functions.parsers.multi_chain_parser\u001b[0m:\u001b[36mprocess_ref_post\u001b[0m:\u001b[36m180\u001b[0m - \u001b[34m\u001b[1mInvoking parallel chain...\u001b[0m\n",
      "Python(27230) MallocStackLogging: can't turn off malloc stack logging because it was not enabled.\n"
     ]
    },
    {
     "name": "stdout",
     "output_type": "stream",
     "text": [
      "420\n"
     ]
    },
    {
     "name": "stderr",
     "output_type": "stream",
     "text": [
      "\u001b[32m2024-04-30 21:24:50.760\u001b[0m | \u001b[34m\u001b[1mDEBUG   \u001b[0m | \u001b[36mdesci_sense.shared_functions.web_extractors.citoid\u001b[0m:\u001b[36mfetch_citation_async\u001b[0m:\u001b[36m20\u001b[0m - \u001b[34m\u001b[1mtarget_url=https://twitter.com/yoavartzi/status/1767377532637061155/photo/1\u001b[0m\n",
      "\u001b[32m2024-04-30 21:24:50.762\u001b[0m | \u001b[34m\u001b[1mDEBUG   \u001b[0m | \u001b[36mdesci_sense.shared_functions.web_extractors.citoid\u001b[0m:\u001b[36mfetch_citation_async\u001b[0m:\u001b[36m20\u001b[0m - \u001b[34m\u001b[1mtarget_url=https://colmweb.org/AreaChairs.html\u001b[0m\n",
      "\u001b[32m2024-04-30 21:24:51.267\u001b[0m | \u001b[34m\u001b[1mDEBUG   \u001b[0m | \u001b[36mdesci_sense.shared_functions.parsers.multi_chain_parser\u001b[0m:\u001b[36mprocess_ref_post\u001b[0m:\u001b[36m173\u001b[0m - \u001b[34m\u001b[1mProcessing post with parsers: ['topics']\u001b[0m\n",
      "\u001b[32m2024-04-30 21:24:51.268\u001b[0m | \u001b[34m\u001b[1mDEBUG   \u001b[0m | \u001b[36mdesci_sense.shared_functions.parsers.multi_chain_parser\u001b[0m:\u001b[36mprocess_ref_post\u001b[0m:\u001b[36m175\u001b[0m - \u001b[34m\u001b[1mInstantiating prompts...\u001b[0m\n",
      "\u001b[32m2024-04-30 21:24:51.269\u001b[0m | \u001b[34m\u001b[1mDEBUG   \u001b[0m | \u001b[36mdesci_sense.shared_functions.parsers.multi_chain_parser\u001b[0m:\u001b[36mprocess_ref_post\u001b[0m:\u001b[36m180\u001b[0m - \u001b[34m\u001b[1mInvoking parallel chain...\u001b[0m\n",
      "Python(27231) MallocStackLogging: can't turn off malloc stack logging because it was not enabled.\n",
      "Python(27232) MallocStackLogging: can't turn off malloc stack logging because it was not enabled.\n"
     ]
    },
    {
     "name": "stdout",
     "output_type": "stream",
     "text": [
      "421\n"
     ]
    },
    {
     "name": "stderr",
     "output_type": "stream",
     "text": [
      "\u001b[32m2024-04-30 21:24:56.352\u001b[0m | \u001b[34m\u001b[1mDEBUG   \u001b[0m | \u001b[36mdesci_sense.shared_functions.web_extractors.citoid\u001b[0m:\u001b[36mfetch_citation_async\u001b[0m:\u001b[36m20\u001b[0m - \u001b[34m\u001b[1mtarget_url=https://twitter.com/yoavartzi/status/1766225484273115612\u001b[0m\n",
      "\u001b[32m2024-04-30 21:24:56.354\u001b[0m | \u001b[34m\u001b[1mDEBUG   \u001b[0m | \u001b[36mdesci_sense.shared_functions.web_extractors.citoid\u001b[0m:\u001b[36mfetch_citation_async\u001b[0m:\u001b[36m20\u001b[0m - \u001b[34m\u001b[1mtarget_url=https://twitter.com/NogaZaslavsky/status/1766227951232958789\u001b[0m\n",
      "\u001b[32m2024-04-30 21:24:56.595\u001b[0m | \u001b[34m\u001b[1mDEBUG   \u001b[0m | \u001b[36mdesci_sense.shared_functions.parsers.multi_chain_parser\u001b[0m:\u001b[36mprocess_ref_post\u001b[0m:\u001b[36m173\u001b[0m - \u001b[34m\u001b[1mProcessing post with parsers: ['topics']\u001b[0m\n",
      "\u001b[32m2024-04-30 21:24:56.596\u001b[0m | \u001b[34m\u001b[1mDEBUG   \u001b[0m | \u001b[36mdesci_sense.shared_functions.parsers.multi_chain_parser\u001b[0m:\u001b[36mprocess_ref_post\u001b[0m:\u001b[36m175\u001b[0m - \u001b[34m\u001b[1mInstantiating prompts...\u001b[0m\n",
      "\u001b[32m2024-04-30 21:24:56.598\u001b[0m | \u001b[34m\u001b[1mDEBUG   \u001b[0m | \u001b[36mdesci_sense.shared_functions.parsers.multi_chain_parser\u001b[0m:\u001b[36mprocess_ref_post\u001b[0m:\u001b[36m180\u001b[0m - \u001b[34m\u001b[1mInvoking parallel chain...\u001b[0m\n",
      "Python(27233) MallocStackLogging: can't turn off malloc stack logging because it was not enabled.\n"
     ]
    },
    {
     "name": "stdout",
     "output_type": "stream",
     "text": [
      "422\n"
     ]
    },
    {
     "name": "stderr",
     "output_type": "stream",
     "text": [
      "Python(27234) MallocStackLogging: can't turn off malloc stack logging because it was not enabled.\n",
      "\u001b[32m2024-04-30 21:25:00.192\u001b[0m | \u001b[34m\u001b[1mDEBUG   \u001b[0m | \u001b[36mdesci_sense.shared_functions.web_extractors.citoid\u001b[0m:\u001b[36mfetch_citation_async\u001b[0m:\u001b[36m20\u001b[0m - \u001b[34m\u001b[1mtarget_url=https://colmweb.org/faq.html\u001b[0m\n",
      "\u001b[32m2024-04-30 21:25:00.193\u001b[0m | \u001b[34m\u001b[1mDEBUG   \u001b[0m | \u001b[36mdesci_sense.shared_functions.web_extractors.citoid\u001b[0m:\u001b[36mfetch_citation_async\u001b[0m:\u001b[36m20\u001b[0m - \u001b[34m\u001b[1mtarget_url=https://twitter.com/yoavartzi/status/1766229695937261984/photo/1\u001b[0m\n",
      "\u001b[32m2024-04-30 21:25:00.401\u001b[0m | \u001b[34m\u001b[1mDEBUG   \u001b[0m | \u001b[36mdesci_sense.shared_functions.parsers.multi_chain_parser\u001b[0m:\u001b[36mprocess_ref_post\u001b[0m:\u001b[36m173\u001b[0m - \u001b[34m\u001b[1mProcessing post with parsers: ['topics']\u001b[0m\n",
      "\u001b[32m2024-04-30 21:25:00.401\u001b[0m | \u001b[34m\u001b[1mDEBUG   \u001b[0m | \u001b[36mdesci_sense.shared_functions.parsers.multi_chain_parser\u001b[0m:\u001b[36mprocess_ref_post\u001b[0m:\u001b[36m175\u001b[0m - \u001b[34m\u001b[1mInstantiating prompts...\u001b[0m\n",
      "\u001b[32m2024-04-30 21:25:00.402\u001b[0m | \u001b[34m\u001b[1mDEBUG   \u001b[0m | \u001b[36mdesci_sense.shared_functions.parsers.multi_chain_parser\u001b[0m:\u001b[36mprocess_ref_post\u001b[0m:\u001b[36m180\u001b[0m - \u001b[34m\u001b[1mInvoking parallel chain...\u001b[0m\n",
      "Python(27235) MallocStackLogging: can't turn off malloc stack logging because it was not enabled.\n",
      "\u001b[32m2024-04-30 21:25:02.891\u001b[0m | \u001b[34m\u001b[1mDEBUG   \u001b[0m | \u001b[36mdesci_sense.shared_functions.parsers.multi_chain_parser\u001b[0m:\u001b[36mprocess_ref_post\u001b[0m:\u001b[36m173\u001b[0m - \u001b[34m\u001b[1mProcessing post with parsers: ['topics']\u001b[0m\n",
      "\u001b[32m2024-04-30 21:25:02.892\u001b[0m | \u001b[34m\u001b[1mDEBUG   \u001b[0m | \u001b[36mdesci_sense.shared_functions.parsers.multi_chain_parser\u001b[0m:\u001b[36mprocess_ref_post\u001b[0m:\u001b[36m175\u001b[0m - \u001b[34m\u001b[1mInstantiating prompts...\u001b[0m\n",
      "\u001b[32m2024-04-30 21:25:02.893\u001b[0m | \u001b[34m\u001b[1mDEBUG   \u001b[0m | \u001b[36mdesci_sense.shared_functions.parsers.multi_chain_parser\u001b[0m:\u001b[36mprocess_ref_post\u001b[0m:\u001b[36m180\u001b[0m - \u001b[34m\u001b[1mInvoking parallel chain...\u001b[0m\n"
     ]
    },
    {
     "name": "stdout",
     "output_type": "stream",
     "text": [
      "423\n"
     ]
    },
    {
     "name": "stderr",
     "output_type": "stream",
     "text": [
      "Python(27236) MallocStackLogging: can't turn off malloc stack logging because it was not enabled.\n"
     ]
    },
    {
     "name": "stdout",
     "output_type": "stream",
     "text": [
      "424\n"
     ]
    },
    {
     "name": "stderr",
     "output_type": "stream",
     "text": [
      "\u001b[32m2024-04-30 21:25:07.616\u001b[0m | \u001b[34m\u001b[1mDEBUG   \u001b[0m | \u001b[36mdesci_sense.shared_functions.web_extractors.citoid\u001b[0m:\u001b[36mfetch_citation_async\u001b[0m:\u001b[36m20\u001b[0m - \u001b[34m\u001b[1mtarget_url=https://twitter.com/eccvconf/status/1765844878783586800\u001b[0m\n",
      "\u001b[32m2024-04-30 21:25:07.618\u001b[0m | \u001b[34m\u001b[1mDEBUG   \u001b[0m | \u001b[36mdesci_sense.shared_functions.web_extractors.citoid\u001b[0m:\u001b[36mfetch_citation_async\u001b[0m:\u001b[36m20\u001b[0m - \u001b[34m\u001b[1mtarget_url=https://twitter.com/yoavartzi/status/1765855065821356391/photo/1\u001b[0m\n",
      "\u001b[32m2024-04-30 21:25:07.848\u001b[0m | \u001b[34m\u001b[1mDEBUG   \u001b[0m | \u001b[36mdesci_sense.shared_functions.parsers.multi_chain_parser\u001b[0m:\u001b[36mprocess_ref_post\u001b[0m:\u001b[36m173\u001b[0m - \u001b[34m\u001b[1mProcessing post with parsers: ['topics']\u001b[0m\n",
      "\u001b[32m2024-04-30 21:25:07.850\u001b[0m | \u001b[34m\u001b[1mDEBUG   \u001b[0m | \u001b[36mdesci_sense.shared_functions.parsers.multi_chain_parser\u001b[0m:\u001b[36mprocess_ref_post\u001b[0m:\u001b[36m175\u001b[0m - \u001b[34m\u001b[1mInstantiating prompts...\u001b[0m\n",
      "\u001b[32m2024-04-30 21:25:07.851\u001b[0m | \u001b[34m\u001b[1mDEBUG   \u001b[0m | \u001b[36mdesci_sense.shared_functions.parsers.multi_chain_parser\u001b[0m:\u001b[36mprocess_ref_post\u001b[0m:\u001b[36m180\u001b[0m - \u001b[34m\u001b[1mInvoking parallel chain...\u001b[0m\n",
      "Python(27237) MallocStackLogging: can't turn off malloc stack logging because it was not enabled.\n"
     ]
    },
    {
     "name": "stdout",
     "output_type": "stream",
     "text": [
      "425\n"
     ]
    },
    {
     "name": "stderr",
     "output_type": "stream",
     "text": [
      "Python(27238) MallocStackLogging: can't turn off malloc stack logging because it was not enabled.\n",
      "\u001b[32m2024-04-30 21:25:10.683\u001b[0m | \u001b[34m\u001b[1mDEBUG   \u001b[0m | \u001b[36mdesci_sense.shared_functions.web_extractors.citoid\u001b[0m:\u001b[36mfetch_citation\u001b[0m:\u001b[36m54\u001b[0m - \u001b[34m\u001b[1mfetching citoid data for: https://twitter.com/SebastienBubeck/status/1764737971725447446\u001b[0m\n",
      "\u001b[32m2024-04-30 21:25:10.896\u001b[0m | \u001b[34m\u001b[1mDEBUG   \u001b[0m | \u001b[36mdesci_sense.shared_functions.parsers.multi_chain_parser\u001b[0m:\u001b[36mprocess_ref_post\u001b[0m:\u001b[36m173\u001b[0m - \u001b[34m\u001b[1mProcessing post with parsers: ['topics']\u001b[0m\n",
      "\u001b[32m2024-04-30 21:25:10.896\u001b[0m | \u001b[34m\u001b[1mDEBUG   \u001b[0m | \u001b[36mdesci_sense.shared_functions.parsers.multi_chain_parser\u001b[0m:\u001b[36mprocess_ref_post\u001b[0m:\u001b[36m175\u001b[0m - \u001b[34m\u001b[1mInstantiating prompts...\u001b[0m\n",
      "\u001b[32m2024-04-30 21:25:10.897\u001b[0m | \u001b[34m\u001b[1mDEBUG   \u001b[0m | \u001b[36mdesci_sense.shared_functions.parsers.multi_chain_parser\u001b[0m:\u001b[36mprocess_ref_post\u001b[0m:\u001b[36m180\u001b[0m - \u001b[34m\u001b[1mInvoking parallel chain...\u001b[0m\n",
      "Python(27239) MallocStackLogging: can't turn off malloc stack logging because it was not enabled.\n"
     ]
    },
    {
     "name": "stdout",
     "output_type": "stream",
     "text": [
      "426\n"
     ]
    },
    {
     "name": "stderr",
     "output_type": "stream",
     "text": [
      "\u001b[32m2024-04-30 21:25:15.341\u001b[0m | \u001b[34m\u001b[1mDEBUG   \u001b[0m | \u001b[36mdesci_sense.shared_functions.web_extractors.citoid\u001b[0m:\u001b[36mfetch_citation\u001b[0m:\u001b[36m54\u001b[0m - \u001b[34m\u001b[1mfetching citoid data for: https://twitter.com/yoavartzi/status/1764418744338506091/photo/1\u001b[0m\n",
      "Python(27240) MallocStackLogging: can't turn off malloc stack logging because it was not enabled.\n",
      "\u001b[32m2024-04-30 21:25:15.731\u001b[0m | \u001b[34m\u001b[1mDEBUG   \u001b[0m | \u001b[36mdesci_sense.shared_functions.parsers.multi_chain_parser\u001b[0m:\u001b[36mprocess_ref_post\u001b[0m:\u001b[36m173\u001b[0m - \u001b[34m\u001b[1mProcessing post with parsers: ['topics']\u001b[0m\n",
      "\u001b[32m2024-04-30 21:25:15.732\u001b[0m | \u001b[34m\u001b[1mDEBUG   \u001b[0m | \u001b[36mdesci_sense.shared_functions.parsers.multi_chain_parser\u001b[0m:\u001b[36mprocess_ref_post\u001b[0m:\u001b[36m175\u001b[0m - \u001b[34m\u001b[1mInstantiating prompts...\u001b[0m\n",
      "\u001b[32m2024-04-30 21:25:15.733\u001b[0m | \u001b[34m\u001b[1mDEBUG   \u001b[0m | \u001b[36mdesci_sense.shared_functions.parsers.multi_chain_parser\u001b[0m:\u001b[36mprocess_ref_post\u001b[0m:\u001b[36m180\u001b[0m - \u001b[34m\u001b[1mInvoking parallel chain...\u001b[0m\n"
     ]
    },
    {
     "name": "stdout",
     "output_type": "stream",
     "text": [
      "427\n"
     ]
    },
    {
     "name": "stderr",
     "output_type": "stream",
     "text": [
      "Python(27241) MallocStackLogging: can't turn off malloc stack logging because it was not enabled.\n",
      "\u001b[32m2024-04-30 21:25:18.703\u001b[0m | \u001b[34m\u001b[1mDEBUG   \u001b[0m | \u001b[36mdesci_sense.shared_functions.web_extractors.citoid\u001b[0m:\u001b[36mfetch_citation\u001b[0m:\u001b[36m54\u001b[0m - \u001b[34m\u001b[1mfetching citoid data for: https://huggingface.co/datasets/cjvt/cosimlex\u001b[0m\n",
      "\u001b[32m2024-04-30 21:25:19.864\u001b[0m | \u001b[34m\u001b[1mDEBUG   \u001b[0m | \u001b[36mdesci_sense.shared_functions.parsers.multi_chain_parser\u001b[0m:\u001b[36mprocess_ref_post\u001b[0m:\u001b[36m173\u001b[0m - \u001b[34m\u001b[1mProcessing post with parsers: ['topics']\u001b[0m\n",
      "\u001b[32m2024-04-30 21:25:19.865\u001b[0m | \u001b[34m\u001b[1mDEBUG   \u001b[0m | \u001b[36mdesci_sense.shared_functions.parsers.multi_chain_parser\u001b[0m:\u001b[36mprocess_ref_post\u001b[0m:\u001b[36m175\u001b[0m - \u001b[34m\u001b[1mInstantiating prompts...\u001b[0m\n",
      "\u001b[32m2024-04-30 21:25:19.867\u001b[0m | \u001b[34m\u001b[1mDEBUG   \u001b[0m | \u001b[36mdesci_sense.shared_functions.parsers.multi_chain_parser\u001b[0m:\u001b[36mprocess_ref_post\u001b[0m:\u001b[36m180\u001b[0m - \u001b[34m\u001b[1mInvoking parallel chain...\u001b[0m\n",
      "Python(27242) MallocStackLogging: can't turn off malloc stack logging because it was not enabled.\n",
      "\u001b[32m2024-04-30 21:25:22.097\u001b[0m | \u001b[34m\u001b[1mDEBUG   \u001b[0m | \u001b[36mdesci_sense.shared_functions.parsers.multi_chain_parser\u001b[0m:\u001b[36mprocess_ref_post\u001b[0m:\u001b[36m173\u001b[0m - \u001b[34m\u001b[1mProcessing post with parsers: ['topics']\u001b[0m\n",
      "\u001b[32m2024-04-30 21:25:22.099\u001b[0m | \u001b[34m\u001b[1mDEBUG   \u001b[0m | \u001b[36mdesci_sense.shared_functions.parsers.multi_chain_parser\u001b[0m:\u001b[36mprocess_ref_post\u001b[0m:\u001b[36m175\u001b[0m - \u001b[34m\u001b[1mInstantiating prompts...\u001b[0m\n",
      "\u001b[32m2024-04-30 21:25:22.100\u001b[0m | \u001b[34m\u001b[1mDEBUG   \u001b[0m | \u001b[36mdesci_sense.shared_functions.parsers.multi_chain_parser\u001b[0m:\u001b[36mprocess_ref_post\u001b[0m:\u001b[36m180\u001b[0m - \u001b[34m\u001b[1mInvoking parallel chain...\u001b[0m\n"
     ]
    },
    {
     "name": "stdout",
     "output_type": "stream",
     "text": [
      "428\n"
     ]
    },
    {
     "name": "stderr",
     "output_type": "stream",
     "text": [
      "Python(27243) MallocStackLogging: can't turn off malloc stack logging because it was not enabled.\n",
      "Python(27244) MallocStackLogging: can't turn off malloc stack logging because it was not enabled.\n"
     ]
    },
    {
     "name": "stdout",
     "output_type": "stream",
     "text": [
      "429\n"
     ]
    },
    {
     "name": "stderr",
     "output_type": "stream",
     "text": [
      "\u001b[32m2024-04-30 21:25:27.699\u001b[0m | \u001b[34m\u001b[1mDEBUG   \u001b[0m | \u001b[36mdesci_sense.shared_functions.web_extractors.citoid\u001b[0m:\u001b[36mfetch_citation\u001b[0m:\u001b[36m54\u001b[0m - \u001b[34m\u001b[1mfetching citoid data for: https://twitter.com/Figure_robot/status/1763202513355022357\u001b[0m\n",
      "\u001b[32m2024-04-30 21:25:27.983\u001b[0m | \u001b[34m\u001b[1mDEBUG   \u001b[0m | \u001b[36mdesci_sense.shared_functions.parsers.multi_chain_parser\u001b[0m:\u001b[36mprocess_ref_post\u001b[0m:\u001b[36m173\u001b[0m - \u001b[34m\u001b[1mProcessing post with parsers: ['topics']\u001b[0m\n",
      "\u001b[32m2024-04-30 21:25:27.984\u001b[0m | \u001b[34m\u001b[1mDEBUG   \u001b[0m | \u001b[36mdesci_sense.shared_functions.parsers.multi_chain_parser\u001b[0m:\u001b[36mprocess_ref_post\u001b[0m:\u001b[36m175\u001b[0m - \u001b[34m\u001b[1mInstantiating prompts...\u001b[0m\n",
      "\u001b[32m2024-04-30 21:25:27.985\u001b[0m | \u001b[34m\u001b[1mDEBUG   \u001b[0m | \u001b[36mdesci_sense.shared_functions.parsers.multi_chain_parser\u001b[0m:\u001b[36mprocess_ref_post\u001b[0m:\u001b[36m180\u001b[0m - \u001b[34m\u001b[1mInvoking parallel chain...\u001b[0m\n",
      "Python(27245) MallocStackLogging: can't turn off malloc stack logging because it was not enabled.\n"
     ]
    },
    {
     "name": "stdout",
     "output_type": "stream",
     "text": [
      "430\n"
     ]
    },
    {
     "name": "stderr",
     "output_type": "stream",
     "text": [
      "\u001b[32m2024-04-30 21:25:30.884\u001b[0m | \u001b[34m\u001b[1mDEBUG   \u001b[0m | \u001b[36mdesci_sense.shared_functions.web_extractors.citoid\u001b[0m:\u001b[36mfetch_citation\u001b[0m:\u001b[36m54\u001b[0m - \u001b[34m\u001b[1mfetching citoid data for: https://twitter.com/yoavartzi/status/1763294155562774941/photo/1\u001b[0m\n",
      "\u001b[32m2024-04-30 21:25:31.130\u001b[0m | \u001b[34m\u001b[1mDEBUG   \u001b[0m | \u001b[36mdesci_sense.shared_functions.parsers.multi_chain_parser\u001b[0m:\u001b[36mprocess_ref_post\u001b[0m:\u001b[36m173\u001b[0m - \u001b[34m\u001b[1mProcessing post with parsers: ['topics']\u001b[0m\n",
      "\u001b[32m2024-04-30 21:25:31.131\u001b[0m | \u001b[34m\u001b[1mDEBUG   \u001b[0m | \u001b[36mdesci_sense.shared_functions.parsers.multi_chain_parser\u001b[0m:\u001b[36mprocess_ref_post\u001b[0m:\u001b[36m175\u001b[0m - \u001b[34m\u001b[1mInstantiating prompts...\u001b[0m\n",
      "\u001b[32m2024-04-30 21:25:31.133\u001b[0m | \u001b[34m\u001b[1mDEBUG   \u001b[0m | \u001b[36mdesci_sense.shared_functions.parsers.multi_chain_parser\u001b[0m:\u001b[36mprocess_ref_post\u001b[0m:\u001b[36m180\u001b[0m - \u001b[34m\u001b[1mInvoking parallel chain...\u001b[0m\n",
      "Python(27246) MallocStackLogging: can't turn off malloc stack logging because it was not enabled.\n"
     ]
    },
    {
     "name": "stdout",
     "output_type": "stream",
     "text": [
      "431\n"
     ]
    },
    {
     "name": "stderr",
     "output_type": "stream",
     "text": [
      "Python(27247) MallocStackLogging: can't turn off malloc stack logging because it was not enabled.\n",
      "\u001b[32m2024-04-30 21:25:35.056\u001b[0m | \u001b[34m\u001b[1mDEBUG   \u001b[0m | \u001b[36mdesci_sense.shared_functions.web_extractors.citoid\u001b[0m:\u001b[36mfetch_citation_async\u001b[0m:\u001b[36m20\u001b[0m - \u001b[34m\u001b[1mtarget_url=https://twitter.com/yoavartzi/status/1763289402346762481/photo/1\u001b[0m\n",
      "\u001b[32m2024-04-30 21:25:35.058\u001b[0m | \u001b[34m\u001b[1mDEBUG   \u001b[0m | \u001b[36mdesci_sense.shared_functions.web_extractors.citoid\u001b[0m:\u001b[36mfetch_citation_async\u001b[0m:\u001b[36m20\u001b[0m - \u001b[34m\u001b[1mtarget_url=https://twitter.com/yoavartzi/status/1763260385254056393\u001b[0m\n",
      "\u001b[32m2024-04-30 21:25:35.059\u001b[0m | \u001b[34m\u001b[1mDEBUG   \u001b[0m | \u001b[36mdesci_sense.shared_functions.web_extractors.citoid\u001b[0m:\u001b[36mfetch_citation_async\u001b[0m:\u001b[36m20\u001b[0m - \u001b[34m\u001b[1mtarget_url=https://arxiv.org/abs/2402.17793\u001b[0m\n",
      "Python(27248) MallocStackLogging: can't turn off malloc stack logging because it was not enabled.\n",
      "\u001b[32m2024-04-30 21:25:39.403\u001b[0m | \u001b[34m\u001b[1mDEBUG   \u001b[0m | \u001b[36mdesci_sense.shared_functions.parsers.multi_chain_parser\u001b[0m:\u001b[36mprocess_ref_post\u001b[0m:\u001b[36m173\u001b[0m - \u001b[34m\u001b[1mProcessing post with parsers: ['topics']\u001b[0m\n",
      "\u001b[32m2024-04-30 21:25:39.407\u001b[0m | \u001b[34m\u001b[1mDEBUG   \u001b[0m | \u001b[36mdesci_sense.shared_functions.parsers.multi_chain_parser\u001b[0m:\u001b[36mprocess_ref_post\u001b[0m:\u001b[36m175\u001b[0m - \u001b[34m\u001b[1mInstantiating prompts...\u001b[0m\n",
      "\u001b[32m2024-04-30 21:25:39.409\u001b[0m | \u001b[34m\u001b[1mDEBUG   \u001b[0m | \u001b[36mdesci_sense.shared_functions.parsers.multi_chain_parser\u001b[0m:\u001b[36mprocess_ref_post\u001b[0m:\u001b[36m180\u001b[0m - \u001b[34m\u001b[1mInvoking parallel chain...\u001b[0m\n",
      "Python(27249) MallocStackLogging: can't turn off malloc stack logging because it was not enabled.\n"
     ]
    },
    {
     "name": "stdout",
     "output_type": "stream",
     "text": [
      "432\n"
     ]
    },
    {
     "name": "stderr",
     "output_type": "stream",
     "text": [
      "\u001b[32m2024-04-30 21:25:41.921\u001b[0m | \u001b[34m\u001b[1mDEBUG   \u001b[0m | \u001b[36mdesci_sense.shared_functions.web_extractors.citoid\u001b[0m:\u001b[36mfetch_citation\u001b[0m:\u001b[36m54\u001b[0m - \u001b[34m\u001b[1mfetching citoid data for: https://twitter.com/ChombaBupe/status/1780379733621920022/photo/1\u001b[0m\n",
      "Python(27250) MallocStackLogging: can't turn off malloc stack logging because it was not enabled.\n",
      "\u001b[32m2024-04-30 21:25:42.136\u001b[0m | \u001b[34m\u001b[1mDEBUG   \u001b[0m | \u001b[36mdesci_sense.shared_functions.parsers.multi_chain_parser\u001b[0m:\u001b[36mprocess_ref_post\u001b[0m:\u001b[36m173\u001b[0m - \u001b[34m\u001b[1mProcessing post with parsers: ['topics']\u001b[0m\n",
      "\u001b[32m2024-04-30 21:25:42.136\u001b[0m | \u001b[34m\u001b[1mDEBUG   \u001b[0m | \u001b[36mdesci_sense.shared_functions.parsers.multi_chain_parser\u001b[0m:\u001b[36mprocess_ref_post\u001b[0m:\u001b[36m175\u001b[0m - \u001b[34m\u001b[1mInstantiating prompts...\u001b[0m\n",
      "\u001b[32m2024-04-30 21:25:42.137\u001b[0m | \u001b[34m\u001b[1mDEBUG   \u001b[0m | \u001b[36mdesci_sense.shared_functions.parsers.multi_chain_parser\u001b[0m:\u001b[36mprocess_ref_post\u001b[0m:\u001b[36m180\u001b[0m - \u001b[34m\u001b[1mInvoking parallel chain...\u001b[0m\n",
      "Python(27251) MallocStackLogging: can't turn off malloc stack logging because it was not enabled.\n"
     ]
    },
    {
     "name": "stdout",
     "output_type": "stream",
     "text": [
      "433\n"
     ]
    },
    {
     "name": "stderr",
     "output_type": "stream",
     "text": [
      "\u001b[32m2024-04-30 21:25:45.809\u001b[0m | \u001b[34m\u001b[1mDEBUG   \u001b[0m | \u001b[36mdesci_sense.shared_functions.web_extractors.citoid\u001b[0m:\u001b[36mfetch_citation\u001b[0m:\u001b[36m54\u001b[0m - \u001b[34m\u001b[1mfetching citoid data for: https://twitter.com/DimitrisPapail/status/1779945981314027608\u001b[0m\n",
      "\u001b[32m2024-04-30 21:25:46.020\u001b[0m | \u001b[34m\u001b[1mDEBUG   \u001b[0m | \u001b[36mdesci_sense.shared_functions.parsers.multi_chain_parser\u001b[0m:\u001b[36mprocess_ref_post\u001b[0m:\u001b[36m173\u001b[0m - \u001b[34m\u001b[1mProcessing post with parsers: ['topics']\u001b[0m\n",
      "\u001b[32m2024-04-30 21:25:46.022\u001b[0m | \u001b[34m\u001b[1mDEBUG   \u001b[0m | \u001b[36mdesci_sense.shared_functions.parsers.multi_chain_parser\u001b[0m:\u001b[36mprocess_ref_post\u001b[0m:\u001b[36m175\u001b[0m - \u001b[34m\u001b[1mInstantiating prompts...\u001b[0m\n",
      "\u001b[32m2024-04-30 21:25:46.024\u001b[0m | \u001b[34m\u001b[1mDEBUG   \u001b[0m | \u001b[36mdesci_sense.shared_functions.parsers.multi_chain_parser\u001b[0m:\u001b[36mprocess_ref_post\u001b[0m:\u001b[36m180\u001b[0m - \u001b[34m\u001b[1mInvoking parallel chain...\u001b[0m\n",
      "Python(27252) MallocStackLogging: can't turn off malloc stack logging because it was not enabled.\n"
     ]
    },
    {
     "name": "stdout",
     "output_type": "stream",
     "text": [
      "434\n"
     ]
    },
    {
     "name": "stderr",
     "output_type": "stream",
     "text": [
      "\u001b[32m2024-04-30 21:25:49.493\u001b[0m | \u001b[34m\u001b[1mDEBUG   \u001b[0m | \u001b[36mdesci_sense.shared_functions.web_extractors.citoid\u001b[0m:\u001b[36mfetch_citation\u001b[0m:\u001b[36m54\u001b[0m - \u001b[34m\u001b[1mfetching citoid data for: https://twitter.com/steph_palazzolo/status/1779878890309054763\u001b[0m\n",
      "\u001b[32m2024-04-30 21:25:49.762\u001b[0m | \u001b[34m\u001b[1mDEBUG   \u001b[0m | \u001b[36mdesci_sense.shared_functions.parsers.multi_chain_parser\u001b[0m:\u001b[36mprocess_ref_post\u001b[0m:\u001b[36m173\u001b[0m - \u001b[34m\u001b[1mProcessing post with parsers: ['topics']\u001b[0m\n",
      "\u001b[32m2024-04-30 21:25:49.762\u001b[0m | \u001b[34m\u001b[1mDEBUG   \u001b[0m | \u001b[36mdesci_sense.shared_functions.parsers.multi_chain_parser\u001b[0m:\u001b[36mprocess_ref_post\u001b[0m:\u001b[36m175\u001b[0m - \u001b[34m\u001b[1mInstantiating prompts...\u001b[0m\n",
      "\u001b[32m2024-04-30 21:25:49.763\u001b[0m | \u001b[34m\u001b[1mDEBUG   \u001b[0m | \u001b[36mdesci_sense.shared_functions.parsers.multi_chain_parser\u001b[0m:\u001b[36mprocess_ref_post\u001b[0m:\u001b[36m180\u001b[0m - \u001b[34m\u001b[1mInvoking parallel chain...\u001b[0m\n",
      "Python(27253) MallocStackLogging: can't turn off malloc stack logging because it was not enabled.\n",
      "Python(27254) MallocStackLogging: can't turn off malloc stack logging because it was not enabled.\n"
     ]
    },
    {
     "name": "stdout",
     "output_type": "stream",
     "text": [
      "435\n"
     ]
    },
    {
     "name": "stderr",
     "output_type": "stream",
     "text": [
      "\u001b[32m2024-04-30 21:25:53.818\u001b[0m | \u001b[34m\u001b[1mDEBUG   \u001b[0m | \u001b[36mdesci_sense.shared_functions.web_extractors.citoid\u001b[0m:\u001b[36mfetch_citation\u001b[0m:\u001b[36m54\u001b[0m - \u001b[34m\u001b[1mfetching citoid data for: https://twitter.com/bindureddy/status/1779611841142132765\u001b[0m\n",
      "\u001b[32m2024-04-30 21:25:54.074\u001b[0m | \u001b[34m\u001b[1mDEBUG   \u001b[0m | \u001b[36mdesci_sense.shared_functions.parsers.multi_chain_parser\u001b[0m:\u001b[36mprocess_ref_post\u001b[0m:\u001b[36m173\u001b[0m - \u001b[34m\u001b[1mProcessing post with parsers: ['topics']\u001b[0m\n",
      "\u001b[32m2024-04-30 21:25:54.076\u001b[0m | \u001b[34m\u001b[1mDEBUG   \u001b[0m | \u001b[36mdesci_sense.shared_functions.parsers.multi_chain_parser\u001b[0m:\u001b[36mprocess_ref_post\u001b[0m:\u001b[36m175\u001b[0m - \u001b[34m\u001b[1mInstantiating prompts...\u001b[0m\n",
      "\u001b[32m2024-04-30 21:25:54.076\u001b[0m | \u001b[34m\u001b[1mDEBUG   \u001b[0m | \u001b[36mdesci_sense.shared_functions.parsers.multi_chain_parser\u001b[0m:\u001b[36mprocess_ref_post\u001b[0m:\u001b[36m180\u001b[0m - \u001b[34m\u001b[1mInvoking parallel chain...\u001b[0m\n",
      "Python(27255) MallocStackLogging: can't turn off malloc stack logging because it was not enabled.\n",
      "\u001b[32m2024-04-30 21:25:56.496\u001b[0m | \u001b[34m\u001b[1mDEBUG   \u001b[0m | \u001b[36mdesci_sense.shared_functions.parsers.multi_chain_parser\u001b[0m:\u001b[36mprocess_ref_post\u001b[0m:\u001b[36m173\u001b[0m - \u001b[34m\u001b[1mProcessing post with parsers: ['topics']\u001b[0m\n",
      "\u001b[32m2024-04-30 21:25:56.497\u001b[0m | \u001b[34m\u001b[1mDEBUG   \u001b[0m | \u001b[36mdesci_sense.shared_functions.parsers.multi_chain_parser\u001b[0m:\u001b[36mprocess_ref_post\u001b[0m:\u001b[36m175\u001b[0m - \u001b[34m\u001b[1mInstantiating prompts...\u001b[0m\n",
      "\u001b[32m2024-04-30 21:25:56.497\u001b[0m | \u001b[34m\u001b[1mDEBUG   \u001b[0m | \u001b[36mdesci_sense.shared_functions.parsers.multi_chain_parser\u001b[0m:\u001b[36mprocess_ref_post\u001b[0m:\u001b[36m180\u001b[0m - \u001b[34m\u001b[1mInvoking parallel chain...\u001b[0m\n"
     ]
    },
    {
     "name": "stdout",
     "output_type": "stream",
     "text": [
      "436\n"
     ]
    },
    {
     "name": "stderr",
     "output_type": "stream",
     "text": [
      "Python(27256) MallocStackLogging: can't turn off malloc stack logging because it was not enabled.\n"
     ]
    },
    {
     "name": "stdout",
     "output_type": "stream",
     "text": [
      "437\n"
     ]
    },
    {
     "name": "stderr",
     "output_type": "stream",
     "text": [
      "Python(27257) MallocStackLogging: can't turn off malloc stack logging because it was not enabled.\n",
      "\u001b[32m2024-04-30 21:26:00.981\u001b[0m | \u001b[34m\u001b[1mDEBUG   \u001b[0m | \u001b[36mdesci_sense.shared_functions.web_extractors.citoid\u001b[0m:\u001b[36mfetch_citation_async\u001b[0m:\u001b[36m20\u001b[0m - \u001b[34m\u001b[1mtarget_url=https://twitter.com/ChombaBupe/status/1779912515721351213/photo/1\u001b[0m\n",
      "\u001b[32m2024-04-30 21:26:00.984\u001b[0m | \u001b[34m\u001b[1mDEBUG   \u001b[0m | \u001b[36mdesci_sense.shared_functions.web_extractors.citoid\u001b[0m:\u001b[36mfetch_citation_async\u001b[0m:\u001b[36m20\u001b[0m - \u001b[34m\u001b[1mtarget_url=https://twitter.com/ylecun/status/1779845304788955292\u001b[0m\n",
      "\u001b[32m2024-04-30 21:26:01.230\u001b[0m | \u001b[34m\u001b[1mDEBUG   \u001b[0m | \u001b[36mdesci_sense.shared_functions.parsers.multi_chain_parser\u001b[0m:\u001b[36mprocess_ref_post\u001b[0m:\u001b[36m173\u001b[0m - \u001b[34m\u001b[1mProcessing post with parsers: ['topics']\u001b[0m\n",
      "\u001b[32m2024-04-30 21:26:01.230\u001b[0m | \u001b[34m\u001b[1mDEBUG   \u001b[0m | \u001b[36mdesci_sense.shared_functions.parsers.multi_chain_parser\u001b[0m:\u001b[36mprocess_ref_post\u001b[0m:\u001b[36m175\u001b[0m - \u001b[34m\u001b[1mInstantiating prompts...\u001b[0m\n",
      "\u001b[32m2024-04-30 21:26:01.231\u001b[0m | \u001b[34m\u001b[1mDEBUG   \u001b[0m | \u001b[36mdesci_sense.shared_functions.parsers.multi_chain_parser\u001b[0m:\u001b[36mprocess_ref_post\u001b[0m:\u001b[36m180\u001b[0m - \u001b[34m\u001b[1mInvoking parallel chain...\u001b[0m\n",
      "Python(27258) MallocStackLogging: can't turn off malloc stack logging because it was not enabled.\n"
     ]
    },
    {
     "name": "stdout",
     "output_type": "stream",
     "text": [
      "438\n"
     ]
    },
    {
     "name": "stderr",
     "output_type": "stream",
     "text": [
      "\u001b[32m2024-04-30 21:26:04.143\u001b[0m | \u001b[34m\u001b[1mDEBUG   \u001b[0m | \u001b[36mdesci_sense.shared_functions.web_extractors.citoid\u001b[0m:\u001b[36mfetch_citation\u001b[0m:\u001b[36m54\u001b[0m - \u001b[34m\u001b[1mfetching citoid data for: https://twitter.com/AISafetyMemes/status/1779353769337376939\u001b[0m\n",
      "\u001b[32m2024-04-30 21:26:04.378\u001b[0m | \u001b[34m\u001b[1mDEBUG   \u001b[0m | \u001b[36mdesci_sense.shared_functions.parsers.multi_chain_parser\u001b[0m:\u001b[36mprocess_ref_post\u001b[0m:\u001b[36m173\u001b[0m - \u001b[34m\u001b[1mProcessing post with parsers: ['topics']\u001b[0m\n",
      "\u001b[32m2024-04-30 21:26:04.380\u001b[0m | \u001b[34m\u001b[1mDEBUG   \u001b[0m | \u001b[36mdesci_sense.shared_functions.parsers.multi_chain_parser\u001b[0m:\u001b[36mprocess_ref_post\u001b[0m:\u001b[36m175\u001b[0m - \u001b[34m\u001b[1mInstantiating prompts...\u001b[0m\n",
      "\u001b[32m2024-04-30 21:26:04.381\u001b[0m | \u001b[34m\u001b[1mDEBUG   \u001b[0m | \u001b[36mdesci_sense.shared_functions.parsers.multi_chain_parser\u001b[0m:\u001b[36mprocess_ref_post\u001b[0m:\u001b[36m180\u001b[0m - \u001b[34m\u001b[1mInvoking parallel chain...\u001b[0m\n",
      "Python(27259) MallocStackLogging: can't turn off malloc stack logging because it was not enabled.\n",
      "\u001b[32m2024-04-30 21:26:08.172\u001b[0m | \u001b[34m\u001b[1mDEBUG   \u001b[0m | \u001b[36mdesci_sense.shared_functions.parsers.multi_chain_parser\u001b[0m:\u001b[36mprocess_ref_post\u001b[0m:\u001b[36m173\u001b[0m - \u001b[34m\u001b[1mProcessing post with parsers: ['topics']\u001b[0m\n",
      "\u001b[32m2024-04-30 21:26:08.172\u001b[0m | \u001b[34m\u001b[1mDEBUG   \u001b[0m | \u001b[36mdesci_sense.shared_functions.parsers.multi_chain_parser\u001b[0m:\u001b[36mprocess_ref_post\u001b[0m:\u001b[36m175\u001b[0m - \u001b[34m\u001b[1mInstantiating prompts...\u001b[0m\n",
      "\u001b[32m2024-04-30 21:26:08.173\u001b[0m | \u001b[34m\u001b[1mDEBUG   \u001b[0m | \u001b[36mdesci_sense.shared_functions.parsers.multi_chain_parser\u001b[0m:\u001b[36mprocess_ref_post\u001b[0m:\u001b[36m180\u001b[0m - \u001b[34m\u001b[1mInvoking parallel chain...\u001b[0m\n"
     ]
    },
    {
     "name": "stdout",
     "output_type": "stream",
     "text": [
      "439\n"
     ]
    },
    {
     "name": "stderr",
     "output_type": "stream",
     "text": [
      "Python(27260) MallocStackLogging: can't turn off malloc stack logging because it was not enabled.\n"
     ]
    },
    {
     "name": "stdout",
     "output_type": "stream",
     "text": [
      "440\n"
     ]
    },
    {
     "name": "stderr",
     "output_type": "stream",
     "text": [
      "\u001b[32m2024-04-30 21:26:10.928\u001b[0m | \u001b[34m\u001b[1mDEBUG   \u001b[0m | \u001b[36mdesci_sense.shared_functions.web_extractors.citoid\u001b[0m:\u001b[36mfetch_citation\u001b[0m:\u001b[36m54\u001b[0m - \u001b[34m\u001b[1mfetching citoid data for: https://twitter.com/presroi/status/1780590955034247245\u001b[0m\n",
      "Python(27261) MallocStackLogging: can't turn off malloc stack logging because it was not enabled.\n",
      "\u001b[32m2024-04-30 21:26:11.151\u001b[0m | \u001b[34m\u001b[1mDEBUG   \u001b[0m | \u001b[36mdesci_sense.shared_functions.parsers.multi_chain_parser\u001b[0m:\u001b[36mprocess_ref_post\u001b[0m:\u001b[36m173\u001b[0m - \u001b[34m\u001b[1mProcessing post with parsers: ['topics']\u001b[0m\n",
      "\u001b[32m2024-04-30 21:26:11.152\u001b[0m | \u001b[34m\u001b[1mDEBUG   \u001b[0m | \u001b[36mdesci_sense.shared_functions.parsers.multi_chain_parser\u001b[0m:\u001b[36mprocess_ref_post\u001b[0m:\u001b[36m175\u001b[0m - \u001b[34m\u001b[1mInstantiating prompts...\u001b[0m\n",
      "\u001b[32m2024-04-30 21:26:11.153\u001b[0m | \u001b[34m\u001b[1mDEBUG   \u001b[0m | \u001b[36mdesci_sense.shared_functions.parsers.multi_chain_parser\u001b[0m:\u001b[36mprocess_ref_post\u001b[0m:\u001b[36m180\u001b[0m - \u001b[34m\u001b[1mInvoking parallel chain...\u001b[0m\n",
      "Python(27262) MallocStackLogging: can't turn off malloc stack logging because it was not enabled.\n",
      "\u001b[32m2024-04-30 21:26:15.558\u001b[0m | \u001b[34m\u001b[1mDEBUG   \u001b[0m | \u001b[36mdesci_sense.shared_functions.parsers.multi_chain_parser\u001b[0m:\u001b[36mprocess_ref_post\u001b[0m:\u001b[36m173\u001b[0m - \u001b[34m\u001b[1mProcessing post with parsers: ['topics']\u001b[0m\n",
      "\u001b[32m2024-04-30 21:26:15.560\u001b[0m | \u001b[34m\u001b[1mDEBUG   \u001b[0m | \u001b[36mdesci_sense.shared_functions.parsers.multi_chain_parser\u001b[0m:\u001b[36mprocess_ref_post\u001b[0m:\u001b[36m175\u001b[0m - \u001b[34m\u001b[1mInstantiating prompts...\u001b[0m\n",
      "\u001b[32m2024-04-30 21:26:15.561\u001b[0m | \u001b[34m\u001b[1mDEBUG   \u001b[0m | \u001b[36mdesci_sense.shared_functions.parsers.multi_chain_parser\u001b[0m:\u001b[36mprocess_ref_post\u001b[0m:\u001b[36m180\u001b[0m - \u001b[34m\u001b[1mInvoking parallel chain...\u001b[0m\n"
     ]
    },
    {
     "name": "stdout",
     "output_type": "stream",
     "text": [
      "441\n"
     ]
    },
    {
     "name": "stderr",
     "output_type": "stream",
     "text": [
      "Python(27263) MallocStackLogging: can't turn off malloc stack logging because it was not enabled.\n",
      "\u001b[32m2024-04-30 21:26:18.788\u001b[0m | \u001b[34m\u001b[1mDEBUG   \u001b[0m | \u001b[36mdesci_sense.shared_functions.parsers.multi_chain_parser\u001b[0m:\u001b[36mprocess_ref_post\u001b[0m:\u001b[36m173\u001b[0m - \u001b[34m\u001b[1mProcessing post with parsers: ['topics']\u001b[0m\n",
      "\u001b[32m2024-04-30 21:26:18.789\u001b[0m | \u001b[34m\u001b[1mDEBUG   \u001b[0m | \u001b[36mdesci_sense.shared_functions.parsers.multi_chain_parser\u001b[0m:\u001b[36mprocess_ref_post\u001b[0m:\u001b[36m175\u001b[0m - \u001b[34m\u001b[1mInstantiating prompts...\u001b[0m\n",
      "\u001b[32m2024-04-30 21:26:18.790\u001b[0m | \u001b[34m\u001b[1mDEBUG   \u001b[0m | \u001b[36mdesci_sense.shared_functions.parsers.multi_chain_parser\u001b[0m:\u001b[36mprocess_ref_post\u001b[0m:\u001b[36m180\u001b[0m - \u001b[34m\u001b[1mInvoking parallel chain...\u001b[0m\n"
     ]
    },
    {
     "name": "stdout",
     "output_type": "stream",
     "text": [
      "442\n"
     ]
    },
    {
     "name": "stderr",
     "output_type": "stream",
     "text": [
      "Python(27264) MallocStackLogging: can't turn off malloc stack logging because it was not enabled.\n",
      "Python(27265) MallocStackLogging: can't turn off malloc stack logging because it was not enabled.\n",
      "Python(27266) MallocStackLogging: can't turn off malloc stack logging because it was not enabled.\n",
      "\u001b[32m2024-04-30 21:26:25.444\u001b[0m | \u001b[34m\u001b[1mDEBUG   \u001b[0m | \u001b[36mdesci_sense.shared_functions.parsers.multi_chain_parser\u001b[0m:\u001b[36mprocess_ref_post\u001b[0m:\u001b[36m173\u001b[0m - \u001b[34m\u001b[1mProcessing post with parsers: ['topics']\u001b[0m\n",
      "\u001b[32m2024-04-30 21:26:25.445\u001b[0m | \u001b[34m\u001b[1mDEBUG   \u001b[0m | \u001b[36mdesci_sense.shared_functions.parsers.multi_chain_parser\u001b[0m:\u001b[36mprocess_ref_post\u001b[0m:\u001b[36m175\u001b[0m - \u001b[34m\u001b[1mInstantiating prompts...\u001b[0m\n",
      "\u001b[32m2024-04-30 21:26:25.446\u001b[0m | \u001b[34m\u001b[1mDEBUG   \u001b[0m | \u001b[36mdesci_sense.shared_functions.parsers.multi_chain_parser\u001b[0m:\u001b[36mprocess_ref_post\u001b[0m:\u001b[36m180\u001b[0m - \u001b[34m\u001b[1mInvoking parallel chain...\u001b[0m\n"
     ]
    },
    {
     "name": "stdout",
     "output_type": "stream",
     "text": [
      "443\n"
     ]
    },
    {
     "name": "stderr",
     "output_type": "stream",
     "text": [
      "Python(27267) MallocStackLogging: can't turn off malloc stack logging because it was not enabled.\n",
      "\u001b[32m2024-04-30 21:26:28.394\u001b[0m | \u001b[34m\u001b[1mDEBUG   \u001b[0m | \u001b[36mdesci_sense.shared_functions.parsers.multi_chain_parser\u001b[0m:\u001b[36mprocess_ref_post\u001b[0m:\u001b[36m173\u001b[0m - \u001b[34m\u001b[1mProcessing post with parsers: ['topics']\u001b[0m\n",
      "\u001b[32m2024-04-30 21:26:28.395\u001b[0m | \u001b[34m\u001b[1mDEBUG   \u001b[0m | \u001b[36mdesci_sense.shared_functions.parsers.multi_chain_parser\u001b[0m:\u001b[36mprocess_ref_post\u001b[0m:\u001b[36m175\u001b[0m - \u001b[34m\u001b[1mInstantiating prompts...\u001b[0m\n",
      "\u001b[32m2024-04-30 21:26:28.396\u001b[0m | \u001b[34m\u001b[1mDEBUG   \u001b[0m | \u001b[36mdesci_sense.shared_functions.parsers.multi_chain_parser\u001b[0m:\u001b[36mprocess_ref_post\u001b[0m:\u001b[36m180\u001b[0m - \u001b[34m\u001b[1mInvoking parallel chain...\u001b[0m\n"
     ]
    },
    {
     "name": "stdout",
     "output_type": "stream",
     "text": [
      "444\n"
     ]
    },
    {
     "name": "stderr",
     "output_type": "stream",
     "text": [
      "Python(27268) MallocStackLogging: can't turn off malloc stack logging because it was not enabled.\n"
     ]
    },
    {
     "name": "stdout",
     "output_type": "stream",
     "text": [
      "445\n"
     ]
    },
    {
     "name": "stderr",
     "output_type": "stream",
     "text": [
      "\u001b[32m2024-04-30 21:26:31.421\u001b[0m | \u001b[34m\u001b[1mDEBUG   \u001b[0m | \u001b[36mdesci_sense.shared_functions.web_extractors.citoid\u001b[0m:\u001b[36mfetch_citation\u001b[0m:\u001b[36m54\u001b[0m - \u001b[34m\u001b[1mfetching citoid data for: https://www.theguardian.com/commentisfree/2024/apr/17/higher-education-accessibility-disabled-people-covid-pandemic-remote-learning-universities\u001b[0m\n",
      "Python(27269) MallocStackLogging: can't turn off malloc stack logging because it was not enabled.\n",
      "\u001b[32m2024-04-30 21:26:32.440\u001b[0m | \u001b[34m\u001b[1mDEBUG   \u001b[0m | \u001b[36mdesci_sense.shared_functions.parsers.multi_chain_parser\u001b[0m:\u001b[36mprocess_ref_post\u001b[0m:\u001b[36m173\u001b[0m - \u001b[34m\u001b[1mProcessing post with parsers: ['topics']\u001b[0m\n",
      "\u001b[32m2024-04-30 21:26:32.441\u001b[0m | \u001b[34m\u001b[1mDEBUG   \u001b[0m | \u001b[36mdesci_sense.shared_functions.parsers.multi_chain_parser\u001b[0m:\u001b[36mprocess_ref_post\u001b[0m:\u001b[36m175\u001b[0m - \u001b[34m\u001b[1mInstantiating prompts...\u001b[0m\n",
      "\u001b[32m2024-04-30 21:26:32.441\u001b[0m | \u001b[34m\u001b[1mDEBUG   \u001b[0m | \u001b[36mdesci_sense.shared_functions.parsers.multi_chain_parser\u001b[0m:\u001b[36mprocess_ref_post\u001b[0m:\u001b[36m180\u001b[0m - \u001b[34m\u001b[1mInvoking parallel chain...\u001b[0m\n",
      "Python(27270) MallocStackLogging: can't turn off malloc stack logging because it was not enabled.\n",
      "Python(27272) MallocStackLogging: can't turn off malloc stack logging because it was not enabled.\n"
     ]
    },
    {
     "name": "stdout",
     "output_type": "stream",
     "text": [
      "446\n"
     ]
    },
    {
     "name": "stderr",
     "output_type": "stream",
     "text": [
      "\u001b[32m2024-04-30 21:26:39.218\u001b[0m | \u001b[34m\u001b[1mDEBUG   \u001b[0m | \u001b[36mdesci_sense.shared_functions.web_extractors.citoid\u001b[0m:\u001b[36mfetch_citation\u001b[0m:\u001b[36m54\u001b[0m - \u001b[34m\u001b[1mfetching citoid data for: https://osf.io/preprints/socarxiv/m42uh\u001b[0m\n",
      "\u001b[32m2024-04-30 21:26:39.465\u001b[0m | \u001b[34m\u001b[1mDEBUG   \u001b[0m | \u001b[36mdesci_sense.shared_functions.parsers.multi_chain_parser\u001b[0m:\u001b[36mprocess_ref_post\u001b[0m:\u001b[36m173\u001b[0m - \u001b[34m\u001b[1mProcessing post with parsers: ['topics']\u001b[0m\n",
      "\u001b[32m2024-04-30 21:26:39.467\u001b[0m | \u001b[34m\u001b[1mDEBUG   \u001b[0m | \u001b[36mdesci_sense.shared_functions.parsers.multi_chain_parser\u001b[0m:\u001b[36mprocess_ref_post\u001b[0m:\u001b[36m175\u001b[0m - \u001b[34m\u001b[1mInstantiating prompts...\u001b[0m\n",
      "\u001b[32m2024-04-30 21:26:39.469\u001b[0m | \u001b[34m\u001b[1mDEBUG   \u001b[0m | \u001b[36mdesci_sense.shared_functions.parsers.multi_chain_parser\u001b[0m:\u001b[36mprocess_ref_post\u001b[0m:\u001b[36m180\u001b[0m - \u001b[34m\u001b[1mInvoking parallel chain...\u001b[0m\n",
      "Python(27273) MallocStackLogging: can't turn off malloc stack logging because it was not enabled.\n",
      "Python(27274) MallocStackLogging: can't turn off malloc stack logging because it was not enabled.\n"
     ]
    },
    {
     "name": "stdout",
     "output_type": "stream",
     "text": [
      "447\n"
     ]
    },
    {
     "name": "stderr",
     "output_type": "stream",
     "text": [
      "\u001b[32m2024-04-30 21:26:43.317\u001b[0m | \u001b[34m\u001b[1mDEBUG   \u001b[0m | \u001b[36mdesci_sense.shared_functions.web_extractors.citoid\u001b[0m:\u001b[36mfetch_citation\u001b[0m:\u001b[36m54\u001b[0m - \u001b[34m\u001b[1mfetching citoid data for: https://twitter.com/clothildegouj/status/1780543971791364473\u001b[0m\n",
      "\u001b[32m2024-04-30 21:26:43.555\u001b[0m | \u001b[34m\u001b[1mDEBUG   \u001b[0m | \u001b[36mdesci_sense.shared_functions.parsers.multi_chain_parser\u001b[0m:\u001b[36mprocess_ref_post\u001b[0m:\u001b[36m173\u001b[0m - \u001b[34m\u001b[1mProcessing post with parsers: ['topics']\u001b[0m\n",
      "\u001b[32m2024-04-30 21:26:43.556\u001b[0m | \u001b[34m\u001b[1mDEBUG   \u001b[0m | \u001b[36mdesci_sense.shared_functions.parsers.multi_chain_parser\u001b[0m:\u001b[36mprocess_ref_post\u001b[0m:\u001b[36m175\u001b[0m - \u001b[34m\u001b[1mInstantiating prompts...\u001b[0m\n",
      "\u001b[32m2024-04-30 21:26:43.557\u001b[0m | \u001b[34m\u001b[1mDEBUG   \u001b[0m | \u001b[36mdesci_sense.shared_functions.parsers.multi_chain_parser\u001b[0m:\u001b[36mprocess_ref_post\u001b[0m:\u001b[36m180\u001b[0m - \u001b[34m\u001b[1mInvoking parallel chain...\u001b[0m\n",
      "Python(27294) MallocStackLogging: can't turn off malloc stack logging because it was not enabled.\n"
     ]
    },
    {
     "name": "stdout",
     "output_type": "stream",
     "text": [
      "448\n"
     ]
    },
    {
     "name": "stderr",
     "output_type": "stream",
     "text": [
      "Python(27295) MallocStackLogging: can't turn off malloc stack logging because it was not enabled.\n",
      "\u001b[32m2024-04-30 21:26:48.211\u001b[0m | \u001b[34m\u001b[1mDEBUG   \u001b[0m | \u001b[36mdesci_sense.shared_functions.web_extractors.citoid\u001b[0m:\u001b[36mfetch_citation\u001b[0m:\u001b[36m54\u001b[0m - \u001b[34m\u001b[1mfetching citoid data for: https://www.linkedin.com/posts/zachmeyers_will-free-dataflows-between-the-uk-and-eu-activity-7186283689121599488--Zk0?utm_medium=member_desktop\u001b[0m\n",
      "Python(27296) MallocStackLogging: can't turn off malloc stack logging because it was not enabled.\n",
      "\u001b[32m2024-04-30 21:26:53.196\u001b[0m | \u001b[34m\u001b[1mDEBUG   \u001b[0m | \u001b[36mdesci_sense.shared_functions.parsers.multi_chain_parser\u001b[0m:\u001b[36mprocess_ref_post\u001b[0m:\u001b[36m173\u001b[0m - \u001b[34m\u001b[1mProcessing post with parsers: ['topics']\u001b[0m\n",
      "\u001b[32m2024-04-30 21:26:53.198\u001b[0m | \u001b[34m\u001b[1mDEBUG   \u001b[0m | \u001b[36mdesci_sense.shared_functions.parsers.multi_chain_parser\u001b[0m:\u001b[36mprocess_ref_post\u001b[0m:\u001b[36m175\u001b[0m - \u001b[34m\u001b[1mInstantiating prompts...\u001b[0m\n",
      "\u001b[32m2024-04-30 21:26:53.200\u001b[0m | \u001b[34m\u001b[1mDEBUG   \u001b[0m | \u001b[36mdesci_sense.shared_functions.parsers.multi_chain_parser\u001b[0m:\u001b[36mprocess_ref_post\u001b[0m:\u001b[36m180\u001b[0m - \u001b[34m\u001b[1mInvoking parallel chain...\u001b[0m\n",
      "Python(27297) MallocStackLogging: can't turn off malloc stack logging because it was not enabled.\n",
      "Python(27298) MallocStackLogging: can't turn off malloc stack logging because it was not enabled.\n"
     ]
    },
    {
     "name": "stdout",
     "output_type": "stream",
     "text": [
      "449\n"
     ]
    },
    {
     "name": "stderr",
     "output_type": "stream",
     "text": [
      "\u001b[32m2024-04-30 21:26:57.495\u001b[0m | \u001b[34m\u001b[1mDEBUG   \u001b[0m | \u001b[36mdesci_sense.shared_functions.web_extractors.citoid\u001b[0m:\u001b[36mfetch_citation\u001b[0m:\u001b[36m54\u001b[0m - \u001b[34m\u001b[1mfetching citoid data for: https://www.ianbrown.tech/2024/04/17/1804/\u001b[0m\n",
      "Python(27299) MallocStackLogging: can't turn off malloc stack logging because it was not enabled.\n",
      "\u001b[32m2024-04-30 21:26:58.758\u001b[0m | \u001b[34m\u001b[1mDEBUG   \u001b[0m | \u001b[36mdesci_sense.shared_functions.parsers.multi_chain_parser\u001b[0m:\u001b[36mprocess_ref_post\u001b[0m:\u001b[36m173\u001b[0m - \u001b[34m\u001b[1mProcessing post with parsers: ['topics']\u001b[0m\n",
      "\u001b[32m2024-04-30 21:26:58.758\u001b[0m | \u001b[34m\u001b[1mDEBUG   \u001b[0m | \u001b[36mdesci_sense.shared_functions.parsers.multi_chain_parser\u001b[0m:\u001b[36mprocess_ref_post\u001b[0m:\u001b[36m175\u001b[0m - \u001b[34m\u001b[1mInstantiating prompts...\u001b[0m\n",
      "\u001b[32m2024-04-30 21:26:58.759\u001b[0m | \u001b[34m\u001b[1mDEBUG   \u001b[0m | \u001b[36mdesci_sense.shared_functions.parsers.multi_chain_parser\u001b[0m:\u001b[36mprocess_ref_post\u001b[0m:\u001b[36m180\u001b[0m - \u001b[34m\u001b[1mInvoking parallel chain...\u001b[0m\n"
     ]
    },
    {
     "name": "stdout",
     "output_type": "stream",
     "text": [
      "450\n"
     ]
    },
    {
     "name": "stderr",
     "output_type": "stream",
     "text": [
      "Python(27300) MallocStackLogging: can't turn off malloc stack logging because it was not enabled.\n",
      "\u001b[32m2024-04-30 21:27:01.843\u001b[0m | \u001b[34m\u001b[1mDEBUG   \u001b[0m | \u001b[36mdesci_sense.shared_functions.web_extractors.citoid\u001b[0m:\u001b[36mfetch_citation_async\u001b[0m:\u001b[36m20\u001b[0m - \u001b[34m\u001b[1mtarget_url=https://x.com/haruno07/status/1253057339885682688\u001b[0m\n",
      "\u001b[32m2024-04-30 21:27:01.844\u001b[0m | \u001b[34m\u001b[1mDEBUG   \u001b[0m | \u001b[36mdesci_sense.shared_functions.web_extractors.citoid\u001b[0m:\u001b[36mfetch_citation_async\u001b[0m:\u001b[36m20\u001b[0m - \u001b[34m\u001b[1mtarget_url=https://twitter.com/1Br0wn/status/1780484057287016498/photo/1\u001b[0m\n",
      "\u001b[32m2024-04-30 21:27:02.331\u001b[0m | \u001b[34m\u001b[1mDEBUG   \u001b[0m | \u001b[36mdesci_sense.shared_functions.parsers.multi_chain_parser\u001b[0m:\u001b[36mprocess_ref_post\u001b[0m:\u001b[36m173\u001b[0m - \u001b[34m\u001b[1mProcessing post with parsers: ['topics']\u001b[0m\n",
      "\u001b[32m2024-04-30 21:27:02.332\u001b[0m | \u001b[34m\u001b[1mDEBUG   \u001b[0m | \u001b[36mdesci_sense.shared_functions.parsers.multi_chain_parser\u001b[0m:\u001b[36mprocess_ref_post\u001b[0m:\u001b[36m175\u001b[0m - \u001b[34m\u001b[1mInstantiating prompts...\u001b[0m\n",
      "\u001b[32m2024-04-30 21:27:02.334\u001b[0m | \u001b[34m\u001b[1mDEBUG   \u001b[0m | \u001b[36mdesci_sense.shared_functions.parsers.multi_chain_parser\u001b[0m:\u001b[36mprocess_ref_post\u001b[0m:\u001b[36m180\u001b[0m - \u001b[34m\u001b[1mInvoking parallel chain...\u001b[0m\n",
      "Python(27301) MallocStackLogging: can't turn off malloc stack logging because it was not enabled.\n",
      "Python(27302) MallocStackLogging: can't turn off malloc stack logging because it was not enabled.\n",
      "\u001b[32m2024-04-30 21:27:07.992\u001b[0m | \u001b[34m\u001b[1mDEBUG   \u001b[0m | \u001b[36mdesci_sense.shared_functions.parsers.multi_chain_parser\u001b[0m:\u001b[36mprocess_ref_post\u001b[0m:\u001b[36m173\u001b[0m - \u001b[34m\u001b[1mProcessing post with parsers: ['topics']\u001b[0m\n",
      "\u001b[32m2024-04-30 21:27:07.993\u001b[0m | \u001b[34m\u001b[1mDEBUG   \u001b[0m | \u001b[36mdesci_sense.shared_functions.parsers.multi_chain_parser\u001b[0m:\u001b[36mprocess_ref_post\u001b[0m:\u001b[36m175\u001b[0m - \u001b[34m\u001b[1mInstantiating prompts...\u001b[0m\n",
      "\u001b[32m2024-04-30 21:27:07.994\u001b[0m | \u001b[34m\u001b[1mDEBUG   \u001b[0m | \u001b[36mdesci_sense.shared_functions.parsers.multi_chain_parser\u001b[0m:\u001b[36mprocess_ref_post\u001b[0m:\u001b[36m180\u001b[0m - \u001b[34m\u001b[1mInvoking parallel chain...\u001b[0m\n"
     ]
    },
    {
     "name": "stdout",
     "output_type": "stream",
     "text": [
      "451\n"
     ]
    },
    {
     "name": "stderr",
     "output_type": "stream",
     "text": [
      "Python(27303) MallocStackLogging: can't turn off malloc stack logging because it was not enabled.\n",
      "Python(27304) MallocStackLogging: can't turn off malloc stack logging because it was not enabled.\n"
     ]
    },
    {
     "name": "stdout",
     "output_type": "stream",
     "text": [
      "452\n"
     ]
    },
    {
     "name": "stderr",
     "output_type": "stream",
     "text": [
      "\u001b[32m2024-04-30 21:27:12.335\u001b[0m | \u001b[34m\u001b[1mDEBUG   \u001b[0m | \u001b[36mdesci_sense.shared_functions.web_extractors.citoid\u001b[0m:\u001b[36mfetch_citation\u001b[0m:\u001b[36m54\u001b[0m - \u001b[34m\u001b[1mfetching citoid data for: https://twitter.com/ftbrussels/status/1779721800735170706\u001b[0m\n",
      "\u001b[32m2024-04-30 21:27:12.543\u001b[0m | \u001b[34m\u001b[1mDEBUG   \u001b[0m | \u001b[36mdesci_sense.shared_functions.parsers.multi_chain_parser\u001b[0m:\u001b[36mprocess_ref_post\u001b[0m:\u001b[36m173\u001b[0m - \u001b[34m\u001b[1mProcessing post with parsers: ['topics']\u001b[0m\n",
      "\u001b[32m2024-04-30 21:27:12.544\u001b[0m | \u001b[34m\u001b[1mDEBUG   \u001b[0m | \u001b[36mdesci_sense.shared_functions.parsers.multi_chain_parser\u001b[0m:\u001b[36mprocess_ref_post\u001b[0m:\u001b[36m175\u001b[0m - \u001b[34m\u001b[1mInstantiating prompts...\u001b[0m\n",
      "\u001b[32m2024-04-30 21:27:12.545\u001b[0m | \u001b[34m\u001b[1mDEBUG   \u001b[0m | \u001b[36mdesci_sense.shared_functions.parsers.multi_chain_parser\u001b[0m:\u001b[36mprocess_ref_post\u001b[0m:\u001b[36m180\u001b[0m - \u001b[34m\u001b[1mInvoking parallel chain...\u001b[0m\n",
      "Python(27305) MallocStackLogging: can't turn off malloc stack logging because it was not enabled.\n"
     ]
    },
    {
     "name": "stdout",
     "output_type": "stream",
     "text": [
      "453\n"
     ]
    },
    {
     "name": "stderr",
     "output_type": "stream",
     "text": [
      "\u001b[32m2024-04-30 21:27:15.353\u001b[0m | \u001b[34m\u001b[1mDEBUG   \u001b[0m | \u001b[36mdesci_sense.shared_functions.web_extractors.citoid\u001b[0m:\u001b[36mfetch_citation\u001b[0m:\u001b[36m54\u001b[0m - \u001b[34m\u001b[1mfetching citoid data for: https://twitter.com/1Br0wn/status/1779972132505637001/photo/1\u001b[0m\n",
      "\u001b[32m2024-04-30 21:27:15.576\u001b[0m | \u001b[34m\u001b[1mDEBUG   \u001b[0m | \u001b[36mdesci_sense.shared_functions.parsers.multi_chain_parser\u001b[0m:\u001b[36mprocess_ref_post\u001b[0m:\u001b[36m173\u001b[0m - \u001b[34m\u001b[1mProcessing post with parsers: ['topics']\u001b[0m\n",
      "\u001b[32m2024-04-30 21:27:15.578\u001b[0m | \u001b[34m\u001b[1mDEBUG   \u001b[0m | \u001b[36mdesci_sense.shared_functions.parsers.multi_chain_parser\u001b[0m:\u001b[36mprocess_ref_post\u001b[0m:\u001b[36m175\u001b[0m - \u001b[34m\u001b[1mInstantiating prompts...\u001b[0m\n",
      "\u001b[32m2024-04-30 21:27:15.579\u001b[0m | \u001b[34m\u001b[1mDEBUG   \u001b[0m | \u001b[36mdesci_sense.shared_functions.parsers.multi_chain_parser\u001b[0m:\u001b[36mprocess_ref_post\u001b[0m:\u001b[36m180\u001b[0m - \u001b[34m\u001b[1mInvoking parallel chain...\u001b[0m\n",
      "Python(27307) MallocStackLogging: can't turn off malloc stack logging because it was not enabled.\n"
     ]
    },
    {
     "name": "stdout",
     "output_type": "stream",
     "text": [
      "454\n"
     ]
    },
    {
     "name": "stderr",
     "output_type": "stream",
     "text": [
      "Python(27308) MallocStackLogging: can't turn off malloc stack logging because it was not enabled.\n",
      "\u001b[32m2024-04-30 21:27:20.149\u001b[0m | \u001b[34m\u001b[1mDEBUG   \u001b[0m | \u001b[36mdesci_sense.shared_functions.web_extractors.citoid\u001b[0m:\u001b[36mfetch_citation\u001b[0m:\u001b[36m54\u001b[0m - \u001b[34m\u001b[1mfetching citoid data for: https://www.ft.com/content/56f9a222-d7ab-4a6f-a8e9-3b7d7cbe9928\u001b[0m\n",
      "\u001b[32m2024-04-30 21:27:21.647\u001b[0m | \u001b[34m\u001b[1mDEBUG   \u001b[0m | \u001b[36mdesci_sense.shared_functions.parsers.multi_chain_parser\u001b[0m:\u001b[36mprocess_ref_post\u001b[0m:\u001b[36m173\u001b[0m - \u001b[34m\u001b[1mProcessing post with parsers: ['topics']\u001b[0m\n",
      "\u001b[32m2024-04-30 21:27:21.649\u001b[0m | \u001b[34m\u001b[1mDEBUG   \u001b[0m | \u001b[36mdesci_sense.shared_functions.parsers.multi_chain_parser\u001b[0m:\u001b[36mprocess_ref_post\u001b[0m:\u001b[36m175\u001b[0m - \u001b[34m\u001b[1mInstantiating prompts...\u001b[0m\n",
      "\u001b[32m2024-04-30 21:27:21.652\u001b[0m | \u001b[34m\u001b[1mDEBUG   \u001b[0m | \u001b[36mdesci_sense.shared_functions.parsers.multi_chain_parser\u001b[0m:\u001b[36mprocess_ref_post\u001b[0m:\u001b[36m180\u001b[0m - \u001b[34m\u001b[1mInvoking parallel chain...\u001b[0m\n",
      "Python(27309) MallocStackLogging: can't turn off malloc stack logging because it was not enabled.\n",
      "Python(27310) MallocStackLogging: can't turn off malloc stack logging because it was not enabled.\n"
     ]
    },
    {
     "name": "stdout",
     "output_type": "stream",
     "text": [
      "455\n"
     ]
    },
    {
     "name": "stderr",
     "output_type": "stream",
     "text": [
      "Python(27311) MallocStackLogging: can't turn off malloc stack logging because it was not enabled.\n",
      "\u001b[32m2024-04-30 21:27:27.536\u001b[0m | \u001b[34m\u001b[1mDEBUG   \u001b[0m | \u001b[36mdesci_sense.shared_functions.web_extractors.citoid\u001b[0m:\u001b[36mfetch_citation\u001b[0m:\u001b[36m54\u001b[0m - \u001b[34m\u001b[1mfetching citoid data for: https://www.thetimes.co.uk/\u001b[0m\n",
      "Python(27312) MallocStackLogging: can't turn off malloc stack logging because it was not enabled.\n",
      "\u001b[32m2024-04-30 21:27:31.633\u001b[0m | \u001b[34m\u001b[1mDEBUG   \u001b[0m | \u001b[36mdesci_sense.shared_functions.parsers.multi_chain_parser\u001b[0m:\u001b[36mprocess_ref_post\u001b[0m:\u001b[36m173\u001b[0m - \u001b[34m\u001b[1mProcessing post with parsers: ['topics']\u001b[0m\n",
      "\u001b[32m2024-04-30 21:27:31.635\u001b[0m | \u001b[34m\u001b[1mDEBUG   \u001b[0m | \u001b[36mdesci_sense.shared_functions.parsers.multi_chain_parser\u001b[0m:\u001b[36mprocess_ref_post\u001b[0m:\u001b[36m175\u001b[0m - \u001b[34m\u001b[1mInstantiating prompts...\u001b[0m\n",
      "\u001b[32m2024-04-30 21:27:31.636\u001b[0m | \u001b[34m\u001b[1mDEBUG   \u001b[0m | \u001b[36mdesci_sense.shared_functions.parsers.multi_chain_parser\u001b[0m:\u001b[36mprocess_ref_post\u001b[0m:\u001b[36m180\u001b[0m - \u001b[34m\u001b[1mInvoking parallel chain...\u001b[0m\n",
      "Python(27314) MallocStackLogging: can't turn off malloc stack logging because it was not enabled.\n"
     ]
    },
    {
     "name": "stdout",
     "output_type": "stream",
     "text": [
      "456\n"
     ]
    },
    {
     "name": "stderr",
     "output_type": "stream",
     "text": [
      "\u001b[32m2024-04-30 21:27:34.986\u001b[0m | \u001b[34m\u001b[1mDEBUG   \u001b[0m | \u001b[36mdesci_sense.shared_functions.web_extractors.citoid\u001b[0m:\u001b[36mfetch_citation\u001b[0m:\u001b[36m54\u001b[0m - \u001b[34m\u001b[1mfetching citoid data for: https://twitter.com/1Br0wn/status/1779567701314109576/photo/1\u001b[0m\n",
      "\u001b[32m2024-04-30 21:27:35.213\u001b[0m | \u001b[34m\u001b[1mDEBUG   \u001b[0m | \u001b[36mdesci_sense.shared_functions.parsers.multi_chain_parser\u001b[0m:\u001b[36mprocess_ref_post\u001b[0m:\u001b[36m173\u001b[0m - \u001b[34m\u001b[1mProcessing post with parsers: ['topics']\u001b[0m\n",
      "\u001b[32m2024-04-30 21:27:35.214\u001b[0m | \u001b[34m\u001b[1mDEBUG   \u001b[0m | \u001b[36mdesci_sense.shared_functions.parsers.multi_chain_parser\u001b[0m:\u001b[36mprocess_ref_post\u001b[0m:\u001b[36m175\u001b[0m - \u001b[34m\u001b[1mInstantiating prompts...\u001b[0m\n",
      "\u001b[32m2024-04-30 21:27:35.215\u001b[0m | \u001b[34m\u001b[1mDEBUG   \u001b[0m | \u001b[36mdesci_sense.shared_functions.parsers.multi_chain_parser\u001b[0m:\u001b[36mprocess_ref_post\u001b[0m:\u001b[36m180\u001b[0m - \u001b[34m\u001b[1mInvoking parallel chain...\u001b[0m\n",
      "Python(27315) MallocStackLogging: can't turn off malloc stack logging because it was not enabled.\n"
     ]
    },
    {
     "name": "stdout",
     "output_type": "stream",
     "text": [
      "457\n"
     ]
    },
    {
     "name": "stderr",
     "output_type": "stream",
     "text": [
      "\u001b[32m2024-04-30 21:27:37.520\u001b[0m | \u001b[34m\u001b[1mDEBUG   \u001b[0m | \u001b[36mdesci_sense.shared_functions.web_extractors.citoid\u001b[0m:\u001b[36mfetch_citation\u001b[0m:\u001b[36m54\u001b[0m - \u001b[34m\u001b[1mfetching citoid data for: https://www.theguardian.com/commentisfree/2024/apr/14/rwanda-bill-peers-house-of-lords-amendments-commons-legislation\u001b[0m\n",
      "Python(27316) MallocStackLogging: can't turn off malloc stack logging because it was not enabled.\n",
      "\u001b[32m2024-04-30 21:27:39.309\u001b[0m | \u001b[34m\u001b[1mDEBUG   \u001b[0m | \u001b[36mdesci_sense.shared_functions.parsers.multi_chain_parser\u001b[0m:\u001b[36mprocess_ref_post\u001b[0m:\u001b[36m173\u001b[0m - \u001b[34m\u001b[1mProcessing post with parsers: ['topics']\u001b[0m\n",
      "\u001b[32m2024-04-30 21:27:39.311\u001b[0m | \u001b[34m\u001b[1mDEBUG   \u001b[0m | \u001b[36mdesci_sense.shared_functions.parsers.multi_chain_parser\u001b[0m:\u001b[36mprocess_ref_post\u001b[0m:\u001b[36m175\u001b[0m - \u001b[34m\u001b[1mInstantiating prompts...\u001b[0m\n",
      "\u001b[32m2024-04-30 21:27:39.312\u001b[0m | \u001b[34m\u001b[1mDEBUG   \u001b[0m | \u001b[36mdesci_sense.shared_functions.parsers.multi_chain_parser\u001b[0m:\u001b[36mprocess_ref_post\u001b[0m:\u001b[36m180\u001b[0m - \u001b[34m\u001b[1mInvoking parallel chain...\u001b[0m\n",
      "Python(27322) MallocStackLogging: can't turn off malloc stack logging because it was not enabled.\n"
     ]
    },
    {
     "name": "stdout",
     "output_type": "stream",
     "text": [
      "458\n"
     ]
    },
    {
     "name": "stderr",
     "output_type": "stream",
     "text": [
      "\u001b[32m2024-04-30 21:27:42.057\u001b[0m | \u001b[34m\u001b[1mDEBUG   \u001b[0m | \u001b[36mdesci_sense.shared_functions.web_extractors.citoid\u001b[0m:\u001b[36mfetch_citation\u001b[0m:\u001b[36m54\u001b[0m - \u001b[34m\u001b[1mfetching citoid data for: https://twitter.com/alondra/status/1778938341360328730\u001b[0m\n",
      "\u001b[32m2024-04-30 21:27:42.278\u001b[0m | \u001b[34m\u001b[1mDEBUG   \u001b[0m | \u001b[36mdesci_sense.shared_functions.parsers.multi_chain_parser\u001b[0m:\u001b[36mprocess_ref_post\u001b[0m:\u001b[36m173\u001b[0m - \u001b[34m\u001b[1mProcessing post with parsers: ['topics']\u001b[0m\n",
      "\u001b[32m2024-04-30 21:27:42.279\u001b[0m | \u001b[34m\u001b[1mDEBUG   \u001b[0m | \u001b[36mdesci_sense.shared_functions.parsers.multi_chain_parser\u001b[0m:\u001b[36mprocess_ref_post\u001b[0m:\u001b[36m175\u001b[0m - \u001b[34m\u001b[1mInstantiating prompts...\u001b[0m\n",
      "\u001b[32m2024-04-30 21:27:42.281\u001b[0m | \u001b[34m\u001b[1mDEBUG   \u001b[0m | \u001b[36mdesci_sense.shared_functions.parsers.multi_chain_parser\u001b[0m:\u001b[36mprocess_ref_post\u001b[0m:\u001b[36m180\u001b[0m - \u001b[34m\u001b[1mInvoking parallel chain...\u001b[0m\n",
      "Python(27329) MallocStackLogging: can't turn off malloc stack logging because it was not enabled.\n",
      "Python(27330) MallocStackLogging: can't turn off malloc stack logging because it was not enabled.\n"
     ]
    },
    {
     "name": "stdout",
     "output_type": "stream",
     "text": [
      "459\n"
     ]
    },
    {
     "name": "stderr",
     "output_type": "stream",
     "text": [
      "\u001b[32m2024-04-30 21:27:47.879\u001b[0m | \u001b[34m\u001b[1mDEBUG   \u001b[0m | \u001b[36mdesci_sense.shared_functions.web_extractors.citoid\u001b[0m:\u001b[36mfetch_citation_async\u001b[0m:\u001b[36m20\u001b[0m - \u001b[34m\u001b[1mtarget_url=https://twitter.com/PKuzev/status/1779019625742626995\u001b[0m\n",
      "\u001b[32m2024-04-30 21:27:47.886\u001b[0m | \u001b[34m\u001b[1mDEBUG   \u001b[0m | \u001b[36mdesci_sense.shared_functions.web_extractors.citoid\u001b[0m:\u001b[36mfetch_citation_async\u001b[0m:\u001b[36m20\u001b[0m - \u001b[34m\u001b[1mtarget_url=https://www.kas.de/en/european-data-summit\u001b[0m\n",
      "Python(27333) MallocStackLogging: can't turn off malloc stack logging because it was not enabled.\n",
      "\u001b[32m2024-04-30 21:27:50.154\u001b[0m | \u001b[34m\u001b[1mDEBUG   \u001b[0m | \u001b[36mdesci_sense.shared_functions.parsers.multi_chain_parser\u001b[0m:\u001b[36mprocess_ref_post\u001b[0m:\u001b[36m173\u001b[0m - \u001b[34m\u001b[1mProcessing post with parsers: ['topics']\u001b[0m\n",
      "\u001b[32m2024-04-30 21:27:50.160\u001b[0m | \u001b[34m\u001b[1mDEBUG   \u001b[0m | \u001b[36mdesci_sense.shared_functions.parsers.multi_chain_parser\u001b[0m:\u001b[36mprocess_ref_post\u001b[0m:\u001b[36m175\u001b[0m - \u001b[34m\u001b[1mInstantiating prompts...\u001b[0m\n",
      "\u001b[32m2024-04-30 21:27:50.176\u001b[0m | \u001b[34m\u001b[1mDEBUG   \u001b[0m | \u001b[36mdesci_sense.shared_functions.parsers.multi_chain_parser\u001b[0m:\u001b[36mprocess_ref_post\u001b[0m:\u001b[36m180\u001b[0m - \u001b[34m\u001b[1mInvoking parallel chain...\u001b[0m\n",
      "Python(27334) MallocStackLogging: can't turn off malloc stack logging because it was not enabled.\n",
      "Python(27335) MallocStackLogging: can't turn off malloc stack logging because it was not enabled.\n"
     ]
    },
    {
     "name": "stdout",
     "output_type": "stream",
     "text": [
      "460\n"
     ]
    },
    {
     "name": "stderr",
     "output_type": "stream",
     "text": [
      "\u001b[32m2024-04-30 21:27:54.958\u001b[0m | \u001b[34m\u001b[1mDEBUG   \u001b[0m | \u001b[36mdesci_sense.shared_functions.web_extractors.citoid\u001b[0m:\u001b[36mfetch_citation_async\u001b[0m:\u001b[36m20\u001b[0m - \u001b[34m\u001b[1mtarget_url=https://twitter.com/1Br0wn/status/1778887301378068558/photo/1\u001b[0m\n",
      "\u001b[32m2024-04-30 21:27:54.960\u001b[0m | \u001b[34m\u001b[1mDEBUG   \u001b[0m | \u001b[36mdesci_sense.shared_functions.web_extractors.citoid\u001b[0m:\u001b[36mfetch_citation_async\u001b[0m:\u001b[36m20\u001b[0m - \u001b[34m\u001b[1mtarget_url=https://twitter.com/ITVNewsPolitics/status/1778796578792251747\u001b[0m\n",
      "\u001b[32m2024-04-30 21:27:55.189\u001b[0m | \u001b[34m\u001b[1mDEBUG   \u001b[0m | \u001b[36mdesci_sense.shared_functions.parsers.multi_chain_parser\u001b[0m:\u001b[36mprocess_ref_post\u001b[0m:\u001b[36m173\u001b[0m - \u001b[34m\u001b[1mProcessing post with parsers: ['topics']\u001b[0m\n",
      "\u001b[32m2024-04-30 21:27:55.191\u001b[0m | \u001b[34m\u001b[1mDEBUG   \u001b[0m | \u001b[36mdesci_sense.shared_functions.parsers.multi_chain_parser\u001b[0m:\u001b[36mprocess_ref_post\u001b[0m:\u001b[36m175\u001b[0m - \u001b[34m\u001b[1mInstantiating prompts...\u001b[0m\n",
      "\u001b[32m2024-04-30 21:27:55.193\u001b[0m | \u001b[34m\u001b[1mDEBUG   \u001b[0m | \u001b[36mdesci_sense.shared_functions.parsers.multi_chain_parser\u001b[0m:\u001b[36mprocess_ref_post\u001b[0m:\u001b[36m180\u001b[0m - \u001b[34m\u001b[1mInvoking parallel chain...\u001b[0m\n",
      "Python(27336) MallocStackLogging: can't turn off malloc stack logging because it was not enabled.\n",
      "\u001b[32m2024-04-30 21:27:57.242\u001b[0m | \u001b[34m\u001b[1mDEBUG   \u001b[0m | \u001b[36mdesci_sense.shared_functions.parsers.multi_chain_parser\u001b[0m:\u001b[36mprocess_ref_post\u001b[0m:\u001b[36m173\u001b[0m - \u001b[34m\u001b[1mProcessing post with parsers: ['topics']\u001b[0m\n",
      "\u001b[32m2024-04-30 21:27:57.246\u001b[0m | \u001b[34m\u001b[1mDEBUG   \u001b[0m | \u001b[36mdesci_sense.shared_functions.parsers.multi_chain_parser\u001b[0m:\u001b[36mprocess_ref_post\u001b[0m:\u001b[36m175\u001b[0m - \u001b[34m\u001b[1mInstantiating prompts...\u001b[0m\n",
      "\u001b[32m2024-04-30 21:27:57.248\u001b[0m | \u001b[34m\u001b[1mDEBUG   \u001b[0m | \u001b[36mdesci_sense.shared_functions.parsers.multi_chain_parser\u001b[0m:\u001b[36mprocess_ref_post\u001b[0m:\u001b[36m180\u001b[0m - \u001b[34m\u001b[1mInvoking parallel chain...\u001b[0m\n"
     ]
    },
    {
     "name": "stdout",
     "output_type": "stream",
     "text": [
      "461\n"
     ]
    },
    {
     "name": "stderr",
     "output_type": "stream",
     "text": [
      "Python(27337) MallocStackLogging: can't turn off malloc stack logging because it was not enabled.\n"
     ]
    },
    {
     "name": "stdout",
     "output_type": "stream",
     "text": [
      "462\n"
     ]
    },
    {
     "name": "stderr",
     "output_type": "stream",
     "text": [
      "\u001b[32m2024-04-30 21:28:00.106\u001b[0m | \u001b[34m\u001b[1mDEBUG   \u001b[0m | \u001b[36mdesci_sense.shared_functions.web_extractors.citoid\u001b[0m:\u001b[36mfetch_citation\u001b[0m:\u001b[36m54\u001b[0m - \u001b[34m\u001b[1mfetching citoid data for: https://www.ft.com/content/28ac1860-1011-4fa3-97f2-5189b5589fed\u001b[0m\n",
      "\u001b[32m2024-04-30 21:28:01.474\u001b[0m | \u001b[34m\u001b[1mDEBUG   \u001b[0m | \u001b[36mdesci_sense.shared_functions.parsers.multi_chain_parser\u001b[0m:\u001b[36mprocess_ref_post\u001b[0m:\u001b[36m173\u001b[0m - \u001b[34m\u001b[1mProcessing post with parsers: ['topics']\u001b[0m\n",
      "\u001b[32m2024-04-30 21:28:01.476\u001b[0m | \u001b[34m\u001b[1mDEBUG   \u001b[0m | \u001b[36mdesci_sense.shared_functions.parsers.multi_chain_parser\u001b[0m:\u001b[36mprocess_ref_post\u001b[0m:\u001b[36m175\u001b[0m - \u001b[34m\u001b[1mInstantiating prompts...\u001b[0m\n",
      "\u001b[32m2024-04-30 21:28:01.477\u001b[0m | \u001b[34m\u001b[1mDEBUG   \u001b[0m | \u001b[36mdesci_sense.shared_functions.parsers.multi_chain_parser\u001b[0m:\u001b[36mprocess_ref_post\u001b[0m:\u001b[36m180\u001b[0m - \u001b[34m\u001b[1mInvoking parallel chain...\u001b[0m\n",
      "Python(27339) MallocStackLogging: can't turn off malloc stack logging because it was not enabled.\n"
     ]
    },
    {
     "name": "stdout",
     "output_type": "stream",
     "text": [
      "463\n"
     ]
    },
    {
     "name": "stderr",
     "output_type": "stream",
     "text": [
      "Python(27340) MallocStackLogging: can't turn off malloc stack logging because it was not enabled.\n",
      "\u001b[32m2024-04-30 21:28:04.893\u001b[0m | \u001b[34m\u001b[1mDEBUG   \u001b[0m | \u001b[36mdesci_sense.shared_functions.web_extractors.citoid\u001b[0m:\u001b[36mfetch_citation_async\u001b[0m:\u001b[36m20\u001b[0m - \u001b[34m\u001b[1mtarget_url=https://www.axios.com/2024/04/10/ai-artificial-intelligence-china-eu-vestager\u001b[0m\n",
      "\u001b[32m2024-04-30 21:28:04.894\u001b[0m | \u001b[34m\u001b[1mDEBUG   \u001b[0m | \u001b[36mdesci_sense.shared_functions.web_extractors.citoid\u001b[0m:\u001b[36mfetch_citation_async\u001b[0m:\u001b[36m20\u001b[0m - \u001b[34m\u001b[1mtarget_url=https://twitter.com/KelkooPolicy/status/1778710424294150343\u001b[0m\n",
      "\u001b[32m2024-04-30 21:28:05.452\u001b[0m | \u001b[34m\u001b[1mDEBUG   \u001b[0m | \u001b[36mdesci_sense.shared_functions.parsers.multi_chain_parser\u001b[0m:\u001b[36mprocess_ref_post\u001b[0m:\u001b[36m173\u001b[0m - \u001b[34m\u001b[1mProcessing post with parsers: ['topics']\u001b[0m\n",
      "\u001b[32m2024-04-30 21:28:05.455\u001b[0m | \u001b[34m\u001b[1mDEBUG   \u001b[0m | \u001b[36mdesci_sense.shared_functions.parsers.multi_chain_parser\u001b[0m:\u001b[36mprocess_ref_post\u001b[0m:\u001b[36m175\u001b[0m - \u001b[34m\u001b[1mInstantiating prompts...\u001b[0m\n",
      "\u001b[32m2024-04-30 21:28:05.456\u001b[0m | \u001b[34m\u001b[1mDEBUG   \u001b[0m | \u001b[36mdesci_sense.shared_functions.parsers.multi_chain_parser\u001b[0m:\u001b[36mprocess_ref_post\u001b[0m:\u001b[36m180\u001b[0m - \u001b[34m\u001b[1mInvoking parallel chain...\u001b[0m\n",
      "Python(27341) MallocStackLogging: can't turn off malloc stack logging because it was not enabled.\n",
      "Python(27343) MallocStackLogging: can't turn off malloc stack logging because it was not enabled.\n"
     ]
    },
    {
     "name": "stdout",
     "output_type": "stream",
     "text": [
      "464\n"
     ]
    },
    {
     "name": "stderr",
     "output_type": "stream",
     "text": [
      "\u001b[32m2024-04-30 21:28:11.060\u001b[0m | \u001b[34m\u001b[1mDEBUG   \u001b[0m | \u001b[36mdesci_sense.shared_functions.web_extractors.citoid\u001b[0m:\u001b[36mfetch_citation\u001b[0m:\u001b[36m54\u001b[0m - \u001b[34m\u001b[1mfetching citoid data for: https://www.euractiv.com/section/digital/news/faced-with-an-unprecedented-number-of-digital-regulations-council-mulls-implementation-call/\u001b[0m\n",
      "\u001b[32m2024-04-30 21:28:11.796\u001b[0m | \u001b[34m\u001b[1mDEBUG   \u001b[0m | \u001b[36mdesci_sense.shared_functions.parsers.multi_chain_parser\u001b[0m:\u001b[36mprocess_ref_post\u001b[0m:\u001b[36m173\u001b[0m - \u001b[34m\u001b[1mProcessing post with parsers: ['topics']\u001b[0m\n",
      "\u001b[32m2024-04-30 21:28:11.798\u001b[0m | \u001b[34m\u001b[1mDEBUG   \u001b[0m | \u001b[36mdesci_sense.shared_functions.parsers.multi_chain_parser\u001b[0m:\u001b[36mprocess_ref_post\u001b[0m:\u001b[36m175\u001b[0m - \u001b[34m\u001b[1mInstantiating prompts...\u001b[0m\n",
      "\u001b[32m2024-04-30 21:28:11.800\u001b[0m | \u001b[34m\u001b[1mDEBUG   \u001b[0m | \u001b[36mdesci_sense.shared_functions.parsers.multi_chain_parser\u001b[0m:\u001b[36mprocess_ref_post\u001b[0m:\u001b[36m180\u001b[0m - \u001b[34m\u001b[1mInvoking parallel chain...\u001b[0m\n",
      "Python(27345) MallocStackLogging: can't turn off malloc stack logging because it was not enabled.\n",
      "Python(27346) MallocStackLogging: can't turn off malloc stack logging because it was not enabled.\n"
     ]
    },
    {
     "name": "stdout",
     "output_type": "stream",
     "text": [
      "465\n"
     ]
    },
    {
     "name": "stderr",
     "output_type": "stream",
     "text": [
      "\u001b[32m2024-04-30 21:28:15.723\u001b[0m | \u001b[34m\u001b[1mDEBUG   \u001b[0m | \u001b[36mdesci_sense.shared_functions.web_extractors.citoid\u001b[0m:\u001b[36mfetch_citation\u001b[0m:\u001b[36m54\u001b[0m - \u001b[34m\u001b[1mfetching citoid data for: https://twitter.com/HalSinger/status/1778553827672662473\u001b[0m\n",
      "\u001b[32m2024-04-30 21:28:15.955\u001b[0m | \u001b[34m\u001b[1mDEBUG   \u001b[0m | \u001b[36mdesci_sense.shared_functions.parsers.multi_chain_parser\u001b[0m:\u001b[36mprocess_ref_post\u001b[0m:\u001b[36m173\u001b[0m - \u001b[34m\u001b[1mProcessing post with parsers: ['topics']\u001b[0m\n",
      "\u001b[32m2024-04-30 21:28:15.956\u001b[0m | \u001b[34m\u001b[1mDEBUG   \u001b[0m | \u001b[36mdesci_sense.shared_functions.parsers.multi_chain_parser\u001b[0m:\u001b[36mprocess_ref_post\u001b[0m:\u001b[36m175\u001b[0m - \u001b[34m\u001b[1mInstantiating prompts...\u001b[0m\n",
      "\u001b[32m2024-04-30 21:28:15.958\u001b[0m | \u001b[34m\u001b[1mDEBUG   \u001b[0m | \u001b[36mdesci_sense.shared_functions.parsers.multi_chain_parser\u001b[0m:\u001b[36mprocess_ref_post\u001b[0m:\u001b[36m180\u001b[0m - \u001b[34m\u001b[1mInvoking parallel chain...\u001b[0m\n",
      "Python(27347) MallocStackLogging: can't turn off malloc stack logging because it was not enabled.\n"
     ]
    },
    {
     "name": "stdout",
     "output_type": "stream",
     "text": [
      "466\n"
     ]
    },
    {
     "name": "stderr",
     "output_type": "stream",
     "text": [
      "\u001b[32m2024-04-30 21:28:19.955\u001b[0m | \u001b[34m\u001b[1mDEBUG   \u001b[0m | \u001b[36mdesci_sense.shared_functions.web_extractors.citoid\u001b[0m:\u001b[36mfetch_citation\u001b[0m:\u001b[36m54\u001b[0m - \u001b[34m\u001b[1mfetching citoid data for: https://twitter.com/gateklons/status/1778477958790807562\u001b[0m\n",
      "Python(27348) MallocStackLogging: can't turn off malloc stack logging because it was not enabled.\n",
      "\u001b[32m2024-04-30 21:28:20.186\u001b[0m | \u001b[34m\u001b[1mDEBUG   \u001b[0m | \u001b[36mdesci_sense.shared_functions.parsers.multi_chain_parser\u001b[0m:\u001b[36mprocess_ref_post\u001b[0m:\u001b[36m173\u001b[0m - \u001b[34m\u001b[1mProcessing post with parsers: ['topics']\u001b[0m\n",
      "\u001b[32m2024-04-30 21:28:20.187\u001b[0m | \u001b[34m\u001b[1mDEBUG   \u001b[0m | \u001b[36mdesci_sense.shared_functions.parsers.multi_chain_parser\u001b[0m:\u001b[36mprocess_ref_post\u001b[0m:\u001b[36m175\u001b[0m - \u001b[34m\u001b[1mInstantiating prompts...\u001b[0m\n",
      "\u001b[32m2024-04-30 21:28:20.187\u001b[0m | \u001b[34m\u001b[1mDEBUG   \u001b[0m | \u001b[36mdesci_sense.shared_functions.parsers.multi_chain_parser\u001b[0m:\u001b[36mprocess_ref_post\u001b[0m:\u001b[36m180\u001b[0m - \u001b[34m\u001b[1mInvoking parallel chain...\u001b[0m\n",
      "Python(27349) MallocStackLogging: can't turn off malloc stack logging because it was not enabled.\n"
     ]
    },
    {
     "name": "stderr",
     "output_type": "stream",
     "text": [
      "Python(27350) MallocStackLogging: can't turn off malloc stack logging because it was not enabled.\n",
      "Python(27351) MallocStackLogging: can't turn off malloc stack logging because it was not enabled.\n",
      "Python(27352) MallocStackLogging: can't turn off malloc stack logging because it was not enabled.\n",
      "Python(27353) MallocStackLogging: can't turn off malloc stack logging because it was not enabled.\n",
      "Python(27354) MallocStackLogging: can't turn off malloc stack logging because it was not enabled.\n",
      "Python(27355) MallocStackLogging: can't turn off malloc stack logging because it was not enabled.\n",
      "Python(27356) MallocStackLogging: can't turn off malloc stack logging because it was not enabled.\n",
      "Python(27357) MallocStackLogging: can't turn off malloc stack logging because it was not enabled.\n",
      "Python(27377) MallocStackLogging: can't turn off malloc stack logging because it was not enabled.\n",
      "Python(27378) MallocStackLogging: can't turn off malloc stack logging because it was not enabled.\n",
      "Python(27379) MallocStackLogging: can't turn off malloc stack logging because it was not enabled.\n",
      "Python(27380) MallocStackLogging: can't turn off malloc stack logging because it was not enabled.\n",
      "Python(27381) MallocStackLogging: can't turn off malloc stack logging because it was not enabled.\n",
      "Python(27382) MallocStackLogging: can't turn off malloc stack logging because it was not enabled.\n",
      "Python(27383) MallocStackLogging: can't turn off malloc stack logging because it was not enabled.\n",
      "Python(27384) MallocStackLogging: can't turn off malloc stack logging because it was not enabled.\n",
      "Python(27385) MallocStackLogging: can't turn off malloc stack logging because it was not enabled.\n",
      "Python(27386) MallocStackLogging: can't turn off malloc stack logging because it was not enabled.\n",
      "Python(27387) MallocStackLogging: can't turn off malloc stack logging because it was not enabled.\n",
      "Python(27388) MallocStackLogging: can't turn off malloc stack logging because it was not enabled.\n",
      "Python(27389) MallocStackLogging: can't turn off malloc stack logging because it was not enabled.\n",
      "Python(27390) MallocStackLogging: can't turn off malloc stack logging because it was not enabled.\n",
      "Python(27391) MallocStackLogging: can't turn off malloc stack logging because it was not enabled.\n",
      "Python(27392) MallocStackLogging: can't turn off malloc stack logging because it was not enabled.\n",
      "Python(27393) MallocStackLogging: can't turn off malloc stack logging because it was not enabled.\n",
      "Python(27394) MallocStackLogging: can't turn off malloc stack logging because it was not enabled.\n",
      "Python(27395) MallocStackLogging: can't turn off malloc stack logging because it was not enabled.\n",
      "Python(27396) MallocStackLogging: can't turn off malloc stack logging because it was not enabled.\n",
      "Python(27397) MallocStackLogging: can't turn off malloc stack logging because it was not enabled.\n",
      "Python(27398) MallocStackLogging: can't turn off malloc stack logging because it was not enabled.\n",
      "Python(27399) MallocStackLogging: can't turn off malloc stack logging because it was not enabled.\n",
      "Python(27400) MallocStackLogging: can't turn off malloc stack logging because it was not enabled.\n",
      "Python(27401) MallocStackLogging: can't turn off malloc stack logging because it was not enabled.\n",
      "Python(27402) MallocStackLogging: can't turn off malloc stack logging because it was not enabled.\n",
      "Python(27405) MallocStackLogging: can't turn off malloc stack logging because it was not enabled.\n",
      "Python(27407) MallocStackLogging: can't turn off malloc stack logging because it was not enabled.\n",
      "Python(27408) MallocStackLogging: can't turn off malloc stack logging because it was not enabled.\n",
      "Python(27409) MallocStackLogging: can't turn off malloc stack logging because it was not enabled.\n",
      "Python(27411) MallocStackLogging: can't turn off malloc stack logging because it was not enabled.\n",
      "Python(27412) MallocStackLogging: can't turn off malloc stack logging because it was not enabled.\n",
      "Python(27413) MallocStackLogging: can't turn off malloc stack logging because it was not enabled.\n",
      "Python(27414) MallocStackLogging: can't turn off malloc stack logging because it was not enabled.\n",
      "Python(27415) MallocStackLogging: can't turn off malloc stack logging because it was not enabled.\n",
      "Python(27416) MallocStackLogging: can't turn off malloc stack logging because it was not enabled.\n",
      "Python(27417) MallocStackLogging: can't turn off malloc stack logging because it was not enabled.\n",
      "Python(27418) MallocStackLogging: can't turn off malloc stack logging because it was not enabled.\n",
      "Python(27419) MallocStackLogging: can't turn off malloc stack logging because it was not enabled.\n",
      "Python(27420) MallocStackLogging: can't turn off malloc stack logging because it was not enabled.\n",
      "Python(27421) MallocStackLogging: can't turn off malloc stack logging because it was not enabled.\n",
      "Python(27422) MallocStackLogging: can't turn off malloc stack logging because it was not enabled.\n",
      "Python(27423) MallocStackLogging: can't turn off malloc stack logging because it was not enabled.\n",
      "Python(27424) MallocStackLogging: can't turn off malloc stack logging because it was not enabled.\n",
      "Python(27425) MallocStackLogging: can't turn off malloc stack logging because it was not enabled.\n",
      "Python(27445) MallocStackLogging: can't turn off malloc stack logging because it was not enabled.\n",
      "Python(27446) MallocStackLogging: can't turn off malloc stack logging because it was not enabled.\n",
      "Python(27447) MallocStackLogging: can't turn off malloc stack logging because it was not enabled.\n",
      "Python(27448) MallocStackLogging: can't turn off malloc stack logging because it was not enabled.\n",
      "Python(27449) MallocStackLogging: can't turn off malloc stack logging because it was not enabled.\n",
      "Python(27450) MallocStackLogging: can't turn off malloc stack logging because it was not enabled.\n",
      "Python(27451) MallocStackLogging: can't turn off malloc stack logging because it was not enabled.\n",
      "Python(27452) MallocStackLogging: can't turn off malloc stack logging because it was not enabled.\n",
      "Python(27453) MallocStackLogging: can't turn off malloc stack logging because it was not enabled.\n",
      "Python(27454) MallocStackLogging: can't turn off malloc stack logging because it was not enabled.\n",
      "Python(27455) MallocStackLogging: can't turn off malloc stack logging because it was not enabled.\n",
      "Python(27456) MallocStackLogging: can't turn off malloc stack logging because it was not enabled.\n",
      "Python(27457) MallocStackLogging: can't turn off malloc stack logging because it was not enabled.\n",
      "Python(27458) MallocStackLogging: can't turn off malloc stack logging because it was not enabled.\n",
      "Python(27459) MallocStackLogging: can't turn off malloc stack logging because it was not enabled.\n",
      "Python(27460) MallocStackLogging: can't turn off malloc stack logging because it was not enabled.\n",
      "Python(27461) MallocStackLogging: can't turn off malloc stack logging because it was not enabled.\n",
      "Python(27462) MallocStackLogging: can't turn off malloc stack logging because it was not enabled.\n",
      "Python(27464) MallocStackLogging: can't turn off malloc stack logging because it was not enabled.\n",
      "Python(27465) MallocStackLogging: can't turn off malloc stack logging because it was not enabled.\n",
      "Python(27466) MallocStackLogging: can't turn off malloc stack logging because it was not enabled.\n",
      "Python(27467) MallocStackLogging: can't turn off malloc stack logging because it was not enabled.\n",
      "Python(27468) MallocStackLogging: can't turn off malloc stack logging because it was not enabled.\n",
      "Python(27469) MallocStackLogging: can't turn off malloc stack logging because it was not enabled.\n",
      "Python(27470) MallocStackLogging: can't turn off malloc stack logging because it was not enabled.\n",
      "Python(27471) MallocStackLogging: can't turn off malloc stack logging because it was not enabled.\n",
      "Python(27472) MallocStackLogging: can't turn off malloc stack logging because it was not enabled.\n",
      "Python(27473) MallocStackLogging: can't turn off malloc stack logging because it was not enabled.\n",
      "Python(27474) MallocStackLogging: can't turn off malloc stack logging because it was not enabled.\n",
      "Python(27475) MallocStackLogging: can't turn off malloc stack logging because it was not enabled.\n",
      "Python(27476) MallocStackLogging: can't turn off malloc stack logging because it was not enabled.\n",
      "Python(27477) MallocStackLogging: can't turn off malloc stack logging because it was not enabled.\n",
      "Python(27483) MallocStackLogging: can't turn off malloc stack logging because it was not enabled.\n",
      "Python(27484) MallocStackLogging: can't turn off malloc stack logging because it was not enabled.\n",
      "Python(27485) MallocStackLogging: can't turn off malloc stack logging because it was not enabled.\n",
      "Python(27486) MallocStackLogging: can't turn off malloc stack logging because it was not enabled.\n",
      "Python(27487) MallocStackLogging: can't turn off malloc stack logging because it was not enabled.\n",
      "Python(27488) MallocStackLogging: can't turn off malloc stack logging because it was not enabled.\n",
      "Python(27489) MallocStackLogging: can't turn off malloc stack logging because it was not enabled.\n",
      "Python(27490) MallocStackLogging: can't turn off malloc stack logging because it was not enabled.\n",
      "Python(27491) MallocStackLogging: can't turn off malloc stack logging because it was not enabled.\n",
      "Python(27492) MallocStackLogging: can't turn off malloc stack logging because it was not enabled.\n",
      "Python(27493) MallocStackLogging: can't turn off malloc stack logging because it was not enabled.\n",
      "Python(27494) MallocStackLogging: can't turn off malloc stack logging because it was not enabled.\n",
      "Python(27495) MallocStackLogging: can't turn off malloc stack logging because it was not enabled.\n",
      "Python(27496) MallocStackLogging: can't turn off malloc stack logging because it was not enabled.\n",
      "Python(27516) MallocStackLogging: can't turn off malloc stack logging because it was not enabled.\n",
      "Python(27517) MallocStackLogging: can't turn off malloc stack logging because it was not enabled.\n",
      "Python(27518) MallocStackLogging: can't turn off malloc stack logging because it was not enabled.\n",
      "Python(27519) MallocStackLogging: can't turn off malloc stack logging because it was not enabled.\n",
      "Python(27520) MallocStackLogging: can't turn off malloc stack logging because it was not enabled.\n",
      "Python(27521) MallocStackLogging: can't turn off malloc stack logging because it was not enabled.\n",
      "Python(27522) MallocStackLogging: can't turn off malloc stack logging because it was not enabled.\n",
      "Python(27523) MallocStackLogging: can't turn off malloc stack logging because it was not enabled.\n",
      "Python(27524) MallocStackLogging: can't turn off malloc stack logging because it was not enabled.\n",
      "Python(27525) MallocStackLogging: can't turn off malloc stack logging because it was not enabled.\n",
      "Python(27526) MallocStackLogging: can't turn off malloc stack logging because it was not enabled.\n",
      "Python(27527) MallocStackLogging: can't turn off malloc stack logging because it was not enabled.\n",
      "Python(27529) MallocStackLogging: can't turn off malloc stack logging because it was not enabled.\n",
      "Python(27530) MallocStackLogging: can't turn off malloc stack logging because it was not enabled.\n",
      "Python(27531) MallocStackLogging: can't turn off malloc stack logging because it was not enabled.\n",
      "Python(27532) MallocStackLogging: can't turn off malloc stack logging because it was not enabled.\n",
      "Python(27533) MallocStackLogging: can't turn off malloc stack logging because it was not enabled.\n",
      "Python(27534) MallocStackLogging: can't turn off malloc stack logging because it was not enabled.\n",
      "Python(27535) MallocStackLogging: can't turn off malloc stack logging because it was not enabled.\n",
      "Python(27536) MallocStackLogging: can't turn off malloc stack logging because it was not enabled.\n",
      "Python(27537) MallocStackLogging: can't turn off malloc stack logging because it was not enabled.\n",
      "Python(27538) MallocStackLogging: can't turn off malloc stack logging because it was not enabled.\n",
      "Python(27539) MallocStackLogging: can't turn off malloc stack logging because it was not enabled.\n",
      "Python(27540) MallocStackLogging: can't turn off malloc stack logging because it was not enabled.\n",
      "Python(27541) MallocStackLogging: can't turn off malloc stack logging because it was not enabled.\n",
      "Python(27542) MallocStackLogging: can't turn off malloc stack logging because it was not enabled.\n",
      "Python(27543) MallocStackLogging: can't turn off malloc stack logging because it was not enabled.\n",
      "Python(27544) MallocStackLogging: can't turn off malloc stack logging because it was not enabled.\n",
      "Python(27545) MallocStackLogging: can't turn off malloc stack logging because it was not enabled.\n",
      "Python(27546) MallocStackLogging: can't turn off malloc stack logging because it was not enabled.\n",
      "Python(27547) MallocStackLogging: can't turn off malloc stack logging because it was not enabled.\n",
      "Python(27548) MallocStackLogging: can't turn off malloc stack logging because it was not enabled.\n",
      "Python(27549) MallocStackLogging: can't turn off malloc stack logging because it was not enabled.\n",
      "Python(27550) MallocStackLogging: can't turn off malloc stack logging because it was not enabled.\n",
      "Python(27551) MallocStackLogging: can't turn off malloc stack logging because it was not enabled.\n",
      "Python(27552) MallocStackLogging: can't turn off malloc stack logging because it was not enabled.\n",
      "Python(27553) MallocStackLogging: can't turn off malloc stack logging because it was not enabled.\n",
      "Python(27554) MallocStackLogging: can't turn off malloc stack logging because it was not enabled.\n",
      "Python(27555) MallocStackLogging: can't turn off malloc stack logging because it was not enabled.\n",
      "Python(27556) MallocStackLogging: can't turn off malloc stack logging because it was not enabled.\n",
      "Python(27557) MallocStackLogging: can't turn off malloc stack logging because it was not enabled.\n",
      "Python(27558) MallocStackLogging: can't turn off malloc stack logging because it was not enabled.\n",
      "Python(27559) MallocStackLogging: can't turn off malloc stack logging because it was not enabled.\n",
      "Python(27560) MallocStackLogging: can't turn off malloc stack logging because it was not enabled.\n",
      "Python(27561) MallocStackLogging: can't turn off malloc stack logging because it was not enabled.\n",
      "Python(27581) MallocStackLogging: can't turn off malloc stack logging because it was not enabled.\n",
      "Python(27582) MallocStackLogging: can't turn off malloc stack logging because it was not enabled.\n",
      "Python(27583) MallocStackLogging: can't turn off malloc stack logging because it was not enabled.\n",
      "Python(27584) MallocStackLogging: can't turn off malloc stack logging because it was not enabled.\n",
      "Python(27585) MallocStackLogging: can't turn off malloc stack logging because it was not enabled.\n",
      "Python(27586) MallocStackLogging: can't turn off malloc stack logging because it was not enabled.\n",
      "Python(27587) MallocStackLogging: can't turn off malloc stack logging because it was not enabled.\n",
      "Python(27588) MallocStackLogging: can't turn off malloc stack logging because it was not enabled.\n",
      "Python(27589) MallocStackLogging: can't turn off malloc stack logging because it was not enabled.\n",
      "Python(27590) MallocStackLogging: can't turn off malloc stack logging because it was not enabled.\n",
      "Python(27591) MallocStackLogging: can't turn off malloc stack logging because it was not enabled.\n",
      "Python(27592) MallocStackLogging: can't turn off malloc stack logging because it was not enabled.\n",
      "Python(27593) MallocStackLogging: can't turn off malloc stack logging because it was not enabled.\n",
      "Python(27594) MallocStackLogging: can't turn off malloc stack logging because it was not enabled.\n",
      "Python(27595) MallocStackLogging: can't turn off malloc stack logging because it was not enabled.\n",
      "Python(27596) MallocStackLogging: can't turn off malloc stack logging because it was not enabled.\n",
      "Python(27597) MallocStackLogging: can't turn off malloc stack logging because it was not enabled.\n",
      "Python(27598) MallocStackLogging: can't turn off malloc stack logging because it was not enabled.\n",
      "Python(27599) MallocStackLogging: can't turn off malloc stack logging because it was not enabled.\n",
      "Python(27600) MallocStackLogging: can't turn off malloc stack logging because it was not enabled.\n",
      "Python(27601) MallocStackLogging: can't turn off malloc stack logging because it was not enabled.\n",
      "Python(27602) MallocStackLogging: can't turn off malloc stack logging because it was not enabled.\n",
      "Python(27603) MallocStackLogging: can't turn off malloc stack logging because it was not enabled.\n",
      "Python(27604) MallocStackLogging: can't turn off malloc stack logging because it was not enabled.\n",
      "Python(27605) MallocStackLogging: can't turn off malloc stack logging because it was not enabled.\n",
      "Python(27606) MallocStackLogging: can't turn off malloc stack logging because it was not enabled.\n",
      "Python(27607) MallocStackLogging: can't turn off malloc stack logging because it was not enabled.\n",
      "Python(27608) MallocStackLogging: can't turn off malloc stack logging because it was not enabled.\n",
      "Python(27609) MallocStackLogging: can't turn off malloc stack logging because it was not enabled.\n",
      "Python(27610) MallocStackLogging: can't turn off malloc stack logging because it was not enabled.\n",
      "Python(27611) MallocStackLogging: can't turn off malloc stack logging because it was not enabled.\n",
      "Python(27612) MallocStackLogging: can't turn off malloc stack logging because it was not enabled.\n",
      "Python(27613) MallocStackLogging: can't turn off malloc stack logging because it was not enabled.\n",
      "Python(27614) MallocStackLogging: can't turn off malloc stack logging because it was not enabled.\n",
      "Python(27615) MallocStackLogging: can't turn off malloc stack logging because it was not enabled.\n",
      "Python(27616) MallocStackLogging: can't turn off malloc stack logging because it was not enabled.\n",
      "Python(27617) MallocStackLogging: can't turn off malloc stack logging because it was not enabled.\n",
      "Python(27618) MallocStackLogging: can't turn off malloc stack logging because it was not enabled.\n",
      "Python(27619) MallocStackLogging: can't turn off malloc stack logging because it was not enabled.\n",
      "Python(27620) MallocStackLogging: can't turn off malloc stack logging because it was not enabled.\n",
      "Python(27621) MallocStackLogging: can't turn off malloc stack logging because it was not enabled.\n",
      "Python(27622) MallocStackLogging: can't turn off malloc stack logging because it was not enabled.\n",
      "Python(27623) MallocStackLogging: can't turn off malloc stack logging because it was not enabled.\n",
      "Python(27624) MallocStackLogging: can't turn off malloc stack logging because it was not enabled.\n",
      "Python(27625) MallocStackLogging: can't turn off malloc stack logging because it was not enabled.\n",
      "Python(27626) MallocStackLogging: can't turn off malloc stack logging because it was not enabled.\n",
      "Python(27646) MallocStackLogging: can't turn off malloc stack logging because it was not enabled.\n",
      "Python(27647) MallocStackLogging: can't turn off malloc stack logging because it was not enabled.\n",
      "Python(27648) MallocStackLogging: can't turn off malloc stack logging because it was not enabled.\n",
      "Python(27649) MallocStackLogging: can't turn off malloc stack logging because it was not enabled.\n",
      "Python(27650) MallocStackLogging: can't turn off malloc stack logging because it was not enabled.\n",
      "Python(27651) MallocStackLogging: can't turn off malloc stack logging because it was not enabled.\n",
      "Python(27652) MallocStackLogging: can't turn off malloc stack logging because it was not enabled.\n",
      "Python(27653) MallocStackLogging: can't turn off malloc stack logging because it was not enabled.\n",
      "Python(27654) MallocStackLogging: can't turn off malloc stack logging because it was not enabled.\n",
      "Python(27655) MallocStackLogging: can't turn off malloc stack logging because it was not enabled.\n",
      "Python(27656) MallocStackLogging: can't turn off malloc stack logging because it was not enabled.\n",
      "Python(27657) MallocStackLogging: can't turn off malloc stack logging because it was not enabled.\n",
      "Python(27659) MallocStackLogging: can't turn off malloc stack logging because it was not enabled.\n",
      "Python(27660) MallocStackLogging: can't turn off malloc stack logging because it was not enabled.\n",
      "Python(27661) MallocStackLogging: can't turn off malloc stack logging because it was not enabled.\n",
      "Python(27662) MallocStackLogging: can't turn off malloc stack logging because it was not enabled.\n",
      "Python(27663) MallocStackLogging: can't turn off malloc stack logging because it was not enabled.\n",
      "Python(27664) MallocStackLogging: can't turn off malloc stack logging because it was not enabled.\n",
      "Python(27665) MallocStackLogging: can't turn off malloc stack logging because it was not enabled.\n",
      "Python(27666) MallocStackLogging: can't turn off malloc stack logging because it was not enabled.\n",
      "Python(27667) MallocStackLogging: can't turn off malloc stack logging because it was not enabled.\n",
      "Python(27668) MallocStackLogging: can't turn off malloc stack logging because it was not enabled.\n",
      "Python(27669) MallocStackLogging: can't turn off malloc stack logging because it was not enabled.\n",
      "Python(27670) MallocStackLogging: can't turn off malloc stack logging because it was not enabled.\n",
      "Python(27673) MallocStackLogging: can't turn off malloc stack logging because it was not enabled.\n",
      "Python(27675) MallocStackLogging: can't turn off malloc stack logging because it was not enabled.\n",
      "Python(27676) MallocStackLogging: can't turn off malloc stack logging because it was not enabled.\n",
      "Python(27677) MallocStackLogging: can't turn off malloc stack logging because it was not enabled.\n",
      "Python(27678) MallocStackLogging: can't turn off malloc stack logging because it was not enabled.\n",
      "Python(27679) MallocStackLogging: can't turn off malloc stack logging because it was not enabled.\n",
      "Python(27680) MallocStackLogging: can't turn off malloc stack logging because it was not enabled.\n",
      "Python(27681) MallocStackLogging: can't turn off malloc stack logging because it was not enabled.\n",
      "Python(27682) MallocStackLogging: can't turn off malloc stack logging because it was not enabled.\n",
      "Python(27683) MallocStackLogging: can't turn off malloc stack logging because it was not enabled.\n",
      "Python(27684) MallocStackLogging: can't turn off malloc stack logging because it was not enabled.\n",
      "Python(27685) MallocStackLogging: can't turn off malloc stack logging because it was not enabled.\n",
      "Python(27686) MallocStackLogging: can't turn off malloc stack logging because it was not enabled.\n",
      "Python(27687) MallocStackLogging: can't turn off malloc stack logging because it was not enabled.\n",
      "Python(27696) MallocStackLogging: can't turn off malloc stack logging because it was not enabled.\n",
      "Python(27703) MallocStackLogging: can't turn off malloc stack logging because it was not enabled.\n",
      "Python(27704) MallocStackLogging: can't turn off malloc stack logging because it was not enabled.\n",
      "Python(27705) MallocStackLogging: can't turn off malloc stack logging because it was not enabled.\n",
      "Python(27706) MallocStackLogging: can't turn off malloc stack logging because it was not enabled.\n",
      "Python(27707) MallocStackLogging: can't turn off malloc stack logging because it was not enabled.\n",
      "Python(27708) MallocStackLogging: can't turn off malloc stack logging because it was not enabled.\n",
      "Python(27728) MallocStackLogging: can't turn off malloc stack logging because it was not enabled.\n",
      "Python(27729) MallocStackLogging: can't turn off malloc stack logging because it was not enabled.\n",
      "Python(27730) MallocStackLogging: can't turn off malloc stack logging because it was not enabled.\n",
      "Python(27731) MallocStackLogging: can't turn off malloc stack logging because it was not enabled.\n",
      "Python(27733) MallocStackLogging: can't turn off malloc stack logging because it was not enabled.\n",
      "Python(27734) MallocStackLogging: can't turn off malloc stack logging because it was not enabled.\n",
      "Python(27735) MallocStackLogging: can't turn off malloc stack logging because it was not enabled.\n",
      "Python(27736) MallocStackLogging: can't turn off malloc stack logging because it was not enabled.\n",
      "Python(27737) MallocStackLogging: can't turn off malloc stack logging because it was not enabled.\n",
      "Python(27738) MallocStackLogging: can't turn off malloc stack logging because it was not enabled.\n",
      "Python(27739) MallocStackLogging: can't turn off malloc stack logging because it was not enabled.\n",
      "Python(27740) MallocStackLogging: can't turn off malloc stack logging because it was not enabled.\n",
      "Python(27741) MallocStackLogging: can't turn off malloc stack logging because it was not enabled.\n",
      "Python(27743) MallocStackLogging: can't turn off malloc stack logging because it was not enabled.\n",
      "Python(27744) MallocStackLogging: can't turn off malloc stack logging because it was not enabled.\n",
      "Python(27745) MallocStackLogging: can't turn off malloc stack logging because it was not enabled.\n",
      "Python(27746) MallocStackLogging: can't turn off malloc stack logging because it was not enabled.\n",
      "Python(27747) MallocStackLogging: can't turn off malloc stack logging because it was not enabled.\n",
      "Python(27748) MallocStackLogging: can't turn off malloc stack logging because it was not enabled.\n",
      "Python(27749) MallocStackLogging: can't turn off malloc stack logging because it was not enabled.\n",
      "Python(27750) MallocStackLogging: can't turn off malloc stack logging because it was not enabled.\n",
      "Python(27751) MallocStackLogging: can't turn off malloc stack logging because it was not enabled.\n",
      "Python(27752) MallocStackLogging: can't turn off malloc stack logging because it was not enabled.\n",
      "Python(27753) MallocStackLogging: can't turn off malloc stack logging because it was not enabled.\n",
      "Python(27754) MallocStackLogging: can't turn off malloc stack logging because it was not enabled.\n",
      "Python(27755) MallocStackLogging: can't turn off malloc stack logging because it was not enabled.\n",
      "Python(27756) MallocStackLogging: can't turn off malloc stack logging because it was not enabled.\n",
      "Python(27757) MallocStackLogging: can't turn off malloc stack logging because it was not enabled.\n",
      "Python(27758) MallocStackLogging: can't turn off malloc stack logging because it was not enabled.\n",
      "Python(27759) MallocStackLogging: can't turn off malloc stack logging because it was not enabled.\n",
      "Python(27760) MallocStackLogging: can't turn off malloc stack logging because it was not enabled.\n",
      "Python(27761) MallocStackLogging: can't turn off malloc stack logging because it was not enabled.\n",
      "Python(27762) MallocStackLogging: can't turn off malloc stack logging because it was not enabled.\n",
      "Python(27763) MallocStackLogging: can't turn off malloc stack logging because it was not enabled.\n",
      "Python(27764) MallocStackLogging: can't turn off malloc stack logging because it was not enabled.\n",
      "Python(27765) MallocStackLogging: can't turn off malloc stack logging because it was not enabled.\n",
      "Python(27767) MallocStackLogging: can't turn off malloc stack logging because it was not enabled.\n",
      "Python(27768) MallocStackLogging: can't turn off malloc stack logging because it was not enabled.\n",
      "Python(27769) MallocStackLogging: can't turn off malloc stack logging because it was not enabled.\n",
      "Python(27770) MallocStackLogging: can't turn off malloc stack logging because it was not enabled.\n",
      "Python(27771) MallocStackLogging: can't turn off malloc stack logging because it was not enabled.\n",
      "Python(27772) MallocStackLogging: can't turn off malloc stack logging because it was not enabled.\n",
      "Python(27773) MallocStackLogging: can't turn off malloc stack logging because it was not enabled.\n",
      "Python(27774) MallocStackLogging: can't turn off malloc stack logging because it was not enabled.\n",
      "Python(27775) MallocStackLogging: can't turn off malloc stack logging because it was not enabled.\n",
      "Python(27795) MallocStackLogging: can't turn off malloc stack logging because it was not enabled.\n",
      "Python(27796) MallocStackLogging: can't turn off malloc stack logging because it was not enabled.\n",
      "Python(27797) MallocStackLogging: can't turn off malloc stack logging because it was not enabled.\n",
      "Python(27798) MallocStackLogging: can't turn off malloc stack logging because it was not enabled.\n",
      "Python(27799) MallocStackLogging: can't turn off malloc stack logging because it was not enabled.\n",
      "Python(27800) MallocStackLogging: can't turn off malloc stack logging because it was not enabled.\n",
      "Python(27801) MallocStackLogging: can't turn off malloc stack logging because it was not enabled.\n",
      "Python(27802) MallocStackLogging: can't turn off malloc stack logging because it was not enabled.\n",
      "Python(27803) MallocStackLogging: can't turn off malloc stack logging because it was not enabled.\n",
      "Python(27804) MallocStackLogging: can't turn off malloc stack logging because it was not enabled.\n",
      "Python(27805) MallocStackLogging: can't turn off malloc stack logging because it was not enabled.\n",
      "Python(27806) MallocStackLogging: can't turn off malloc stack logging because it was not enabled.\n",
      "Python(27807) MallocStackLogging: can't turn off malloc stack logging because it was not enabled.\n",
      "Python(27808) MallocStackLogging: can't turn off malloc stack logging because it was not enabled.\n",
      "Python(27809) MallocStackLogging: can't turn off malloc stack logging because it was not enabled.\n",
      "Python(27810) MallocStackLogging: can't turn off malloc stack logging because it was not enabled.\n",
      "Python(27811) MallocStackLogging: can't turn off malloc stack logging because it was not enabled.\n",
      "Python(27812) MallocStackLogging: can't turn off malloc stack logging because it was not enabled.\n",
      "Python(27813) MallocStackLogging: can't turn off malloc stack logging because it was not enabled.\n",
      "Python(27814) MallocStackLogging: can't turn off malloc stack logging because it was not enabled.\n",
      "Python(27815) MallocStackLogging: can't turn off malloc stack logging because it was not enabled.\n",
      "Python(27816) MallocStackLogging: can't turn off malloc stack logging because it was not enabled.\n",
      "Python(27817) MallocStackLogging: can't turn off malloc stack logging because it was not enabled.\n",
      "Python(27818) MallocStackLogging: can't turn off malloc stack logging because it was not enabled.\n",
      "Python(27819) MallocStackLogging: can't turn off malloc stack logging because it was not enabled.\n",
      "Python(27820) MallocStackLogging: can't turn off malloc stack logging because it was not enabled.\n",
      "Python(27821) MallocStackLogging: can't turn off malloc stack logging because it was not enabled.\n",
      "Python(27822) MallocStackLogging: can't turn off malloc stack logging because it was not enabled.\n",
      "Python(27823) MallocStackLogging: can't turn off malloc stack logging because it was not enabled.\n",
      "Python(27824) MallocStackLogging: can't turn off malloc stack logging because it was not enabled.\n",
      "Python(27825) MallocStackLogging: can't turn off malloc stack logging because it was not enabled.\n",
      "Python(27826) MallocStackLogging: can't turn off malloc stack logging because it was not enabled.\n",
      "Python(27827) MallocStackLogging: can't turn off malloc stack logging because it was not enabled.\n",
      "Python(27828) MallocStackLogging: can't turn off malloc stack logging because it was not enabled.\n",
      "Python(27829) MallocStackLogging: can't turn off malloc stack logging because it was not enabled.\n",
      "Python(27830) MallocStackLogging: can't turn off malloc stack logging because it was not enabled.\n",
      "Python(27831) MallocStackLogging: can't turn off malloc stack logging because it was not enabled.\n",
      "Python(27832) MallocStackLogging: can't turn off malloc stack logging because it was not enabled.\n",
      "Python(27833) MallocStackLogging: can't turn off malloc stack logging because it was not enabled.\n",
      "Python(27834) MallocStackLogging: can't turn off malloc stack logging because it was not enabled.\n",
      "Python(27835) MallocStackLogging: can't turn off malloc stack logging because it was not enabled.\n",
      "Python(27836) MallocStackLogging: can't turn off malloc stack logging because it was not enabled.\n",
      "Python(27838) MallocStackLogging: can't turn off malloc stack logging because it was not enabled.\n",
      "Python(27841) MallocStackLogging: can't turn off malloc stack logging because it was not enabled.\n",
      "Python(27842) MallocStackLogging: can't turn off malloc stack logging because it was not enabled.\n",
      "Python(27843) MallocStackLogging: can't turn off malloc stack logging because it was not enabled.\n",
      "Python(27863) MallocStackLogging: can't turn off malloc stack logging because it was not enabled.\n",
      "Python(27864) MallocStackLogging: can't turn off malloc stack logging because it was not enabled.\n",
      "Python(27865) MallocStackLogging: can't turn off malloc stack logging because it was not enabled.\n",
      "Python(27866) MallocStackLogging: can't turn off malloc stack logging because it was not enabled.\n",
      "Python(27867) MallocStackLogging: can't turn off malloc stack logging because it was not enabled.\n",
      "Python(27868) MallocStackLogging: can't turn off malloc stack logging because it was not enabled.\n",
      "Python(27869) MallocStackLogging: can't turn off malloc stack logging because it was not enabled.\n",
      "Python(27871) MallocStackLogging: can't turn off malloc stack logging because it was not enabled.\n",
      "Python(27874) MallocStackLogging: can't turn off malloc stack logging because it was not enabled.\n",
      "Python(27876) MallocStackLogging: can't turn off malloc stack logging because it was not enabled.\n",
      "Python(27877) MallocStackLogging: can't turn off malloc stack logging because it was not enabled.\n",
      "Python(27878) MallocStackLogging: can't turn off malloc stack logging because it was not enabled.\n",
      "Python(27879) MallocStackLogging: can't turn off malloc stack logging because it was not enabled.\n",
      "Python(27886) MallocStackLogging: can't turn off malloc stack logging because it was not enabled.\n",
      "Python(27887) MallocStackLogging: can't turn off malloc stack logging because it was not enabled.\n",
      "Python(27888) MallocStackLogging: can't turn off malloc stack logging because it was not enabled.\n",
      "Python(27889) MallocStackLogging: can't turn off malloc stack logging because it was not enabled.\n",
      "Python(27890) MallocStackLogging: can't turn off malloc stack logging because it was not enabled.\n",
      "Python(27891) MallocStackLogging: can't turn off malloc stack logging because it was not enabled.\n",
      "Python(27892) MallocStackLogging: can't turn off malloc stack logging because it was not enabled.\n",
      "Python(27893) MallocStackLogging: can't turn off malloc stack logging because it was not enabled.\n",
      "Python(27900) MallocStackLogging: can't turn off malloc stack logging because it was not enabled.\n",
      "Python(27905) MallocStackLogging: can't turn off malloc stack logging because it was not enabled.\n",
      "Python(27906) MallocStackLogging: can't turn off malloc stack logging because it was not enabled.\n",
      "Python(27907) MallocStackLogging: can't turn off malloc stack logging because it was not enabled.\n",
      "Python(27908) MallocStackLogging: can't turn off malloc stack logging because it was not enabled.\n",
      "Python(27912) MallocStackLogging: can't turn off malloc stack logging because it was not enabled.\n",
      "Python(27917) MallocStackLogging: can't turn off malloc stack logging because it was not enabled.\n",
      "Python(27919) MallocStackLogging: can't turn off malloc stack logging because it was not enabled.\n",
      "Python(27920) MallocStackLogging: can't turn off malloc stack logging because it was not enabled.\n",
      "Python(27921) MallocStackLogging: can't turn off malloc stack logging because it was not enabled.\n",
      "Python(27922) MallocStackLogging: can't turn off malloc stack logging because it was not enabled.\n",
      "Python(27924) MallocStackLogging: can't turn off malloc stack logging because it was not enabled.\n",
      "Python(27927) MallocStackLogging: can't turn off malloc stack logging because it was not enabled.\n",
      "Python(27929) MallocStackLogging: can't turn off malloc stack logging because it was not enabled.\n",
      "Python(27931) MallocStackLogging: can't turn off malloc stack logging because it was not enabled.\n",
      "Python(27933) MallocStackLogging: can't turn off malloc stack logging because it was not enabled.\n",
      "Python(27935) MallocStackLogging: can't turn off malloc stack logging because it was not enabled.\n",
      "Python(27938) MallocStackLogging: can't turn off malloc stack logging because it was not enabled.\n",
      "Python(27941) MallocStackLogging: can't turn off malloc stack logging because it was not enabled.\n",
      "Python(27943) MallocStackLogging: can't turn off malloc stack logging because it was not enabled.\n",
      "Python(27944) MallocStackLogging: can't turn off malloc stack logging because it was not enabled.\n",
      "Python(27945) MallocStackLogging: can't turn off malloc stack logging because it was not enabled.\n",
      "Python(27946) MallocStackLogging: can't turn off malloc stack logging because it was not enabled.\n",
      "Python(27947) MallocStackLogging: can't turn off malloc stack logging because it was not enabled.\n",
      "Python(27967) MallocStackLogging: can't turn off malloc stack logging because it was not enabled.\n",
      "Python(27968) MallocStackLogging: can't turn off malloc stack logging because it was not enabled.\n",
      "Python(27969) MallocStackLogging: can't turn off malloc stack logging because it was not enabled.\n",
      "Python(27970) MallocStackLogging: can't turn off malloc stack logging because it was not enabled.\n",
      "Python(27971) MallocStackLogging: can't turn off malloc stack logging because it was not enabled.\n",
      "Python(27972) MallocStackLogging: can't turn off malloc stack logging because it was not enabled.\n",
      "Python(27973) MallocStackLogging: can't turn off malloc stack logging because it was not enabled.\n",
      "Python(27974) MallocStackLogging: can't turn off malloc stack logging because it was not enabled.\n",
      "Python(27975) MallocStackLogging: can't turn off malloc stack logging because it was not enabled.\n",
      "Python(27976) MallocStackLogging: can't turn off malloc stack logging because it was not enabled.\n",
      "Python(27977) MallocStackLogging: can't turn off malloc stack logging because it was not enabled.\n",
      "Python(27985) MallocStackLogging: can't turn off malloc stack logging because it was not enabled.\n",
      "Python(27986) MallocStackLogging: can't turn off malloc stack logging because it was not enabled.\n",
      "Python(27987) MallocStackLogging: can't turn off malloc stack logging because it was not enabled.\n",
      "Python(27988) MallocStackLogging: can't turn off malloc stack logging because it was not enabled.\n",
      "Python(27989) MallocStackLogging: can't turn off malloc stack logging because it was not enabled.\n",
      "Python(27990) MallocStackLogging: can't turn off malloc stack logging because it was not enabled.\n",
      "Python(27991) MallocStackLogging: can't turn off malloc stack logging because it was not enabled.\n",
      "Python(27992) MallocStackLogging: can't turn off malloc stack logging because it was not enabled.\n",
      "Python(27993) MallocStackLogging: can't turn off malloc stack logging because it was not enabled.\n",
      "Python(27997) MallocStackLogging: can't turn off malloc stack logging because it was not enabled.\n",
      "Python(28002) MallocStackLogging: can't turn off malloc stack logging because it was not enabled.\n",
      "Python(28007) MallocStackLogging: can't turn off malloc stack logging because it was not enabled.\n",
      "Python(28009) MallocStackLogging: can't turn off malloc stack logging because it was not enabled.\n",
      "Python(28011) MallocStackLogging: can't turn off malloc stack logging because it was not enabled.\n",
      "Python(28012) MallocStackLogging: can't turn off malloc stack logging because it was not enabled.\n",
      "Python(28013) MallocStackLogging: can't turn off malloc stack logging because it was not enabled.\n",
      "Python(28014) MallocStackLogging: can't turn off malloc stack logging because it was not enabled.\n",
      "Python(28015) MallocStackLogging: can't turn off malloc stack logging because it was not enabled.\n",
      "Python(28022) MallocStackLogging: can't turn off malloc stack logging because it was not enabled.\n",
      "Python(28023) MallocStackLogging: can't turn off malloc stack logging because it was not enabled.\n",
      "Python(28024) MallocStackLogging: can't turn off malloc stack logging because it was not enabled.\n",
      "Python(28025) MallocStackLogging: can't turn off malloc stack logging because it was not enabled.\n",
      "Python(28026) MallocStackLogging: can't turn off malloc stack logging because it was not enabled.\n",
      "Python(28027) MallocStackLogging: can't turn off malloc stack logging because it was not enabled.\n",
      "Python(28028) MallocStackLogging: can't turn off malloc stack logging because it was not enabled.\n",
      "Python(28029) MallocStackLogging: can't turn off malloc stack logging because it was not enabled.\n",
      "Python(28030) MallocStackLogging: can't turn off malloc stack logging because it was not enabled.\n",
      "Python(28031) MallocStackLogging: can't turn off malloc stack logging because it was not enabled.\n",
      "Python(28032) MallocStackLogging: can't turn off malloc stack logging because it was not enabled.\n",
      "Python(28033) MallocStackLogging: can't turn off malloc stack logging because it was not enabled.\n",
      "Python(28034) MallocStackLogging: can't turn off malloc stack logging because it was not enabled.\n",
      "Python(28035) MallocStackLogging: can't turn off malloc stack logging because it was not enabled.\n",
      "Python(28036) MallocStackLogging: can't turn off malloc stack logging because it was not enabled.\n",
      "Python(28056) MallocStackLogging: can't turn off malloc stack logging because it was not enabled.\n",
      "Python(28057) MallocStackLogging: can't turn off malloc stack logging because it was not enabled.\n",
      "Python(28058) MallocStackLogging: can't turn off malloc stack logging because it was not enabled.\n",
      "Python(28059) MallocStackLogging: can't turn off malloc stack logging because it was not enabled.\n",
      "Python(28060) MallocStackLogging: can't turn off malloc stack logging because it was not enabled.\n",
      "Python(28061) MallocStackLogging: can't turn off malloc stack logging because it was not enabled.\n",
      "Python(28062) MallocStackLogging: can't turn off malloc stack logging because it was not enabled.\n",
      "Python(28063) MallocStackLogging: can't turn off malloc stack logging because it was not enabled.\n",
      "Python(28064) MallocStackLogging: can't turn off malloc stack logging because it was not enabled.\n",
      "Python(28065) MallocStackLogging: can't turn off malloc stack logging because it was not enabled.\n",
      "Python(28066) MallocStackLogging: can't turn off malloc stack logging because it was not enabled.\n",
      "Python(28067) MallocStackLogging: can't turn off malloc stack logging because it was not enabled.\n",
      "Python(28068) MallocStackLogging: can't turn off malloc stack logging because it was not enabled.\n",
      "Python(28069) MallocStackLogging: can't turn off malloc stack logging because it was not enabled.\n",
      "Python(28070) MallocStackLogging: can't turn off malloc stack logging because it was not enabled.\n",
      "Python(28071) MallocStackLogging: can't turn off malloc stack logging because it was not enabled.\n",
      "Python(28072) MallocStackLogging: can't turn off malloc stack logging because it was not enabled.\n",
      "Python(28073) MallocStackLogging: can't turn off malloc stack logging because it was not enabled.\n",
      "Python(28074) MallocStackLogging: can't turn off malloc stack logging because it was not enabled.\n",
      "Python(28075) MallocStackLogging: can't turn off malloc stack logging because it was not enabled.\n",
      "Python(28078) MallocStackLogging: can't turn off malloc stack logging because it was not enabled.\n",
      "Python(28079) MallocStackLogging: can't turn off malloc stack logging because it was not enabled.\n",
      "Python(28083) MallocStackLogging: can't turn off malloc stack logging because it was not enabled.\n",
      "Python(28084) MallocStackLogging: can't turn off malloc stack logging because it was not enabled.\n",
      "Python(28086) MallocStackLogging: can't turn off malloc stack logging because it was not enabled.\n",
      "Python(28087) MallocStackLogging: can't turn off malloc stack logging because it was not enabled.\n",
      "Python(28089) MallocStackLogging: can't turn off malloc stack logging because it was not enabled.\n",
      "Python(28090) MallocStackLogging: can't turn off malloc stack logging because it was not enabled.\n",
      "Python(28091) MallocStackLogging: can't turn off malloc stack logging because it was not enabled.\n",
      "Python(28092) MallocStackLogging: can't turn off malloc stack logging because it was not enabled.\n",
      "Python(28093) MallocStackLogging: can't turn off malloc stack logging because it was not enabled.\n",
      "Python(28094) MallocStackLogging: can't turn off malloc stack logging because it was not enabled.\n",
      "Python(28095) MallocStackLogging: can't turn off malloc stack logging because it was not enabled.\n",
      "Python(28096) MallocStackLogging: can't turn off malloc stack logging because it was not enabled.\n",
      "Python(28097) MallocStackLogging: can't turn off malloc stack logging because it was not enabled.\n",
      "Python(28098) MallocStackLogging: can't turn off malloc stack logging because it was not enabled.\n",
      "Python(28099) MallocStackLogging: can't turn off malloc stack logging because it was not enabled.\n",
      "Python(28100) MallocStackLogging: can't turn off malloc stack logging because it was not enabled.\n",
      "Python(28101) MallocStackLogging: can't turn off malloc stack logging because it was not enabled.\n",
      "Python(28102) MallocStackLogging: can't turn off malloc stack logging because it was not enabled.\n",
      "Python(28103) MallocStackLogging: can't turn off malloc stack logging because it was not enabled.\n",
      "Python(28115) MallocStackLogging: can't turn off malloc stack logging because it was not enabled.\n",
      "Python(28133) MallocStackLogging: can't turn off malloc stack logging because it was not enabled.\n",
      "Python(28158) MallocStackLogging: can't turn off malloc stack logging because it was not enabled.\n",
      "Python(28180) MallocStackLogging: can't turn off malloc stack logging because it was not enabled.\n",
      "Python(28206) MallocStackLogging: can't turn off malloc stack logging because it was not enabled.\n",
      "Python(28207) MallocStackLogging: can't turn off malloc stack logging because it was not enabled.\n",
      "Python(28208) MallocStackLogging: can't turn off malloc stack logging because it was not enabled.\n",
      "Python(28211) MallocStackLogging: can't turn off malloc stack logging because it was not enabled.\n",
      "Python(28212) MallocStackLogging: can't turn off malloc stack logging because it was not enabled.\n",
      "Python(28213) MallocStackLogging: can't turn off malloc stack logging because it was not enabled.\n",
      "Python(28214) MallocStackLogging: can't turn off malloc stack logging because it was not enabled.\n",
      "Python(28215) MallocStackLogging: can't turn off malloc stack logging because it was not enabled.\n",
      "Python(28216) MallocStackLogging: can't turn off malloc stack logging because it was not enabled.\n",
      "Python(28217) MallocStackLogging: can't turn off malloc stack logging because it was not enabled.\n",
      "Python(28218) MallocStackLogging: can't turn off malloc stack logging because it was not enabled.\n",
      "Python(28219) MallocStackLogging: can't turn off malloc stack logging because it was not enabled.\n",
      "Python(28220) MallocStackLogging: can't turn off malloc stack logging because it was not enabled.\n",
      "Python(28221) MallocStackLogging: can't turn off malloc stack logging because it was not enabled.\n",
      "Python(28222) MallocStackLogging: can't turn off malloc stack logging because it was not enabled.\n",
      "Python(28223) MallocStackLogging: can't turn off malloc stack logging because it was not enabled.\n",
      "Python(28224) MallocStackLogging: can't turn off malloc stack logging because it was not enabled.\n",
      "Python(28225) MallocStackLogging: can't turn off malloc stack logging because it was not enabled.\n",
      "Python(28226) MallocStackLogging: can't turn off malloc stack logging because it was not enabled.\n",
      "Python(28227) MallocStackLogging: can't turn off malloc stack logging because it was not enabled.\n",
      "Python(28228) MallocStackLogging: can't turn off malloc stack logging because it was not enabled.\n",
      "Python(28229) MallocStackLogging: can't turn off malloc stack logging because it was not enabled.\n",
      "Python(28230) MallocStackLogging: can't turn off malloc stack logging because it was not enabled.\n",
      "Python(28231) MallocStackLogging: can't turn off malloc stack logging because it was not enabled.\n",
      "Python(28232) MallocStackLogging: can't turn off malloc stack logging because it was not enabled.\n",
      "Python(28233) MallocStackLogging: can't turn off malloc stack logging because it was not enabled.\n",
      "Python(28234) MallocStackLogging: can't turn off malloc stack logging because it was not enabled.\n",
      "Python(28235) MallocStackLogging: can't turn off malloc stack logging because it was not enabled.\n",
      "Python(28236) MallocStackLogging: can't turn off malloc stack logging because it was not enabled.\n",
      "Python(28238) MallocStackLogging: can't turn off malloc stack logging because it was not enabled.\n",
      "Python(28240) MallocStackLogging: can't turn off malloc stack logging because it was not enabled.\n",
      "Python(28242) MallocStackLogging: can't turn off malloc stack logging because it was not enabled.\n",
      "Python(28243) MallocStackLogging: can't turn off malloc stack logging because it was not enabled.\n",
      "Python(28244) MallocStackLogging: can't turn off malloc stack logging because it was not enabled.\n",
      "Python(28247) MallocStackLogging: can't turn off malloc stack logging because it was not enabled.\n",
      "Python(28254) MallocStackLogging: can't turn off malloc stack logging because it was not enabled.\n",
      "Python(28255) MallocStackLogging: can't turn off malloc stack logging because it was not enabled.\n",
      "Python(28256) MallocStackLogging: can't turn off malloc stack logging because it was not enabled.\n",
      "Python(28257) MallocStackLogging: can't turn off malloc stack logging because it was not enabled.\n",
      "Python(28258) MallocStackLogging: can't turn off malloc stack logging because it was not enabled.\n",
      "Python(28260) MallocStackLogging: can't turn off malloc stack logging because it was not enabled.\n",
      "Python(28261) MallocStackLogging: can't turn off malloc stack logging because it was not enabled.\n",
      "Python(28263) MallocStackLogging: can't turn off malloc stack logging because it was not enabled.\n",
      "Python(28264) MallocStackLogging: can't turn off malloc stack logging because it was not enabled.\n",
      "Python(28284) MallocStackLogging: can't turn off malloc stack logging because it was not enabled.\n",
      "Python(28285) MallocStackLogging: can't turn off malloc stack logging because it was not enabled.\n",
      "Python(28286) MallocStackLogging: can't turn off malloc stack logging because it was not enabled.\n",
      "Python(28287) MallocStackLogging: can't turn off malloc stack logging because it was not enabled.\n",
      "Python(28288) MallocStackLogging: can't turn off malloc stack logging because it was not enabled.\n",
      "Python(28289) MallocStackLogging: can't turn off malloc stack logging because it was not enabled.\n",
      "Python(28290) MallocStackLogging: can't turn off malloc stack logging because it was not enabled.\n",
      "Python(28291) MallocStackLogging: can't turn off malloc stack logging because it was not enabled.\n",
      "Python(28292) MallocStackLogging: can't turn off malloc stack logging because it was not enabled.\n",
      "Python(28293) MallocStackLogging: can't turn off malloc stack logging because it was not enabled.\n",
      "Python(28294) MallocStackLogging: can't turn off malloc stack logging because it was not enabled.\n",
      "Python(28295) MallocStackLogging: can't turn off malloc stack logging because it was not enabled.\n",
      "Python(28297) MallocStackLogging: can't turn off malloc stack logging because it was not enabled.\n",
      "Python(28310) MallocStackLogging: can't turn off malloc stack logging because it was not enabled.\n",
      "Python(28311) MallocStackLogging: can't turn off malloc stack logging because it was not enabled.\n",
      "Python(28312) MallocStackLogging: can't turn off malloc stack logging because it was not enabled.\n",
      "Python(28313) MallocStackLogging: can't turn off malloc stack logging because it was not enabled.\n",
      "Python(28315) MallocStackLogging: can't turn off malloc stack logging because it was not enabled.\n",
      "Python(28316) MallocStackLogging: can't turn off malloc stack logging because it was not enabled.\n",
      "Python(28317) MallocStackLogging: can't turn off malloc stack logging because it was not enabled.\n",
      "Python(28318) MallocStackLogging: can't turn off malloc stack logging because it was not enabled.\n",
      "Python(28319) MallocStackLogging: can't turn off malloc stack logging because it was not enabled.\n",
      "Python(28321) MallocStackLogging: can't turn off malloc stack logging because it was not enabled.\n",
      "Python(28322) MallocStackLogging: can't turn off malloc stack logging because it was not enabled.\n",
      "Python(28323) MallocStackLogging: can't turn off malloc stack logging because it was not enabled.\n",
      "Python(28325) MallocStackLogging: can't turn off malloc stack logging because it was not enabled.\n",
      "Python(28329) MallocStackLogging: can't turn off malloc stack logging because it was not enabled.\n",
      "Python(28330) MallocStackLogging: can't turn off malloc stack logging because it was not enabled.\n",
      "Python(28333) MallocStackLogging: can't turn off malloc stack logging because it was not enabled.\n",
      "Python(28336) MallocStackLogging: can't turn off malloc stack logging because it was not enabled.\n",
      "Python(28338) MallocStackLogging: can't turn off malloc stack logging because it was not enabled.\n",
      "Python(28339) MallocStackLogging: can't turn off malloc stack logging because it was not enabled.\n",
      "Python(28340) MallocStackLogging: can't turn off malloc stack logging because it was not enabled.\n",
      "Python(28342) MallocStackLogging: can't turn off malloc stack logging because it was not enabled.\n",
      "Python(28343) MallocStackLogging: can't turn off malloc stack logging because it was not enabled.\n",
      "Python(28344) MallocStackLogging: can't turn off malloc stack logging because it was not enabled.\n",
      "Python(28347) MallocStackLogging: can't turn off malloc stack logging because it was not enabled.\n",
      "Python(28350) MallocStackLogging: can't turn off malloc stack logging because it was not enabled.\n",
      "Python(28351) MallocStackLogging: can't turn off malloc stack logging because it was not enabled.\n",
      "Python(28352) MallocStackLogging: can't turn off malloc stack logging because it was not enabled.\n",
      "Python(28353) MallocStackLogging: can't turn off malloc stack logging because it was not enabled.\n",
      "Python(28354) MallocStackLogging: can't turn off malloc stack logging because it was not enabled.\n",
      "Python(28356) MallocStackLogging: can't turn off malloc stack logging because it was not enabled.\n",
      "Python(28357) MallocStackLogging: can't turn off malloc stack logging because it was not enabled.\n",
      "Python(28358) MallocStackLogging: can't turn off malloc stack logging because it was not enabled.\n",
      "Python(28379) MallocStackLogging: can't turn off malloc stack logging because it was not enabled.\n",
      "Python(28380) MallocStackLogging: can't turn off malloc stack logging because it was not enabled.\n",
      "Python(28381) MallocStackLogging: can't turn off malloc stack logging because it was not enabled.\n",
      "Python(28382) MallocStackLogging: can't turn off malloc stack logging because it was not enabled.\n",
      "Python(28383) MallocStackLogging: can't turn off malloc stack logging because it was not enabled.\n",
      "Python(28384) MallocStackLogging: can't turn off malloc stack logging because it was not enabled.\n",
      "Python(28385) MallocStackLogging: can't turn off malloc stack logging because it was not enabled.\n",
      "Python(28386) MallocStackLogging: can't turn off malloc stack logging because it was not enabled.\n",
      "Python(28387) MallocStackLogging: can't turn off malloc stack logging because it was not enabled.\n",
      "Python(28388) MallocStackLogging: can't turn off malloc stack logging because it was not enabled.\n",
      "Python(28389) MallocStackLogging: can't turn off malloc stack logging because it was not enabled.\n",
      "Python(28390) MallocStackLogging: can't turn off malloc stack logging because it was not enabled.\n",
      "Python(28391) MallocStackLogging: can't turn off malloc stack logging because it was not enabled.\n",
      "Python(28392) MallocStackLogging: can't turn off malloc stack logging because it was not enabled.\n",
      "Python(28393) MallocStackLogging: can't turn off malloc stack logging because it was not enabled.\n",
      "Python(28394) MallocStackLogging: can't turn off malloc stack logging because it was not enabled.\n",
      "Python(28395) MallocStackLogging: can't turn off malloc stack logging because it was not enabled.\n",
      "Python(28396) MallocStackLogging: can't turn off malloc stack logging because it was not enabled.\n",
      "Python(28397) MallocStackLogging: can't turn off malloc stack logging because it was not enabled.\n",
      "Python(28398) MallocStackLogging: can't turn off malloc stack logging because it was not enabled.\n",
      "Python(28399) MallocStackLogging: can't turn off malloc stack logging because it was not enabled.\n",
      "Python(28400) MallocStackLogging: can't turn off malloc stack logging because it was not enabled.\n",
      "Python(28401) MallocStackLogging: can't turn off malloc stack logging because it was not enabled.\n",
      "Python(28402) MallocStackLogging: can't turn off malloc stack logging because it was not enabled.\n",
      "Python(28403) MallocStackLogging: can't turn off malloc stack logging because it was not enabled.\n",
      "Python(28405) MallocStackLogging: can't turn off malloc stack logging because it was not enabled.\n",
      "Python(28406) MallocStackLogging: can't turn off malloc stack logging because it was not enabled.\n",
      "Python(28407) MallocStackLogging: can't turn off malloc stack logging because it was not enabled.\n",
      "Python(28408) MallocStackLogging: can't turn off malloc stack logging because it was not enabled.\n",
      "Python(28409) MallocStackLogging: can't turn off malloc stack logging because it was not enabled.\n",
      "Python(28410) MallocStackLogging: can't turn off malloc stack logging because it was not enabled.\n",
      "Python(28411) MallocStackLogging: can't turn off malloc stack logging because it was not enabled.\n",
      "Python(28412) MallocStackLogging: can't turn off malloc stack logging because it was not enabled.\n",
      "Python(28413) MallocStackLogging: can't turn off malloc stack logging because it was not enabled.\n",
      "Python(28414) MallocStackLogging: can't turn off malloc stack logging because it was not enabled.\n",
      "Python(28415) MallocStackLogging: can't turn off malloc stack logging because it was not enabled.\n",
      "Python(28417) MallocStackLogging: can't turn off malloc stack logging because it was not enabled.\n",
      "Python(28418) MallocStackLogging: can't turn off malloc stack logging because it was not enabled.\n",
      "Python(28419) MallocStackLogging: can't turn off malloc stack logging because it was not enabled.\n",
      "Python(28420) MallocStackLogging: can't turn off malloc stack logging because it was not enabled.\n",
      "Python(28421) MallocStackLogging: can't turn off malloc stack logging because it was not enabled.\n",
      "Python(28422) MallocStackLogging: can't turn off malloc stack logging because it was not enabled.\n",
      "Python(28423) MallocStackLogging: can't turn off malloc stack logging because it was not enabled.\n",
      "Python(28424) MallocStackLogging: can't turn off malloc stack logging because it was not enabled.\n",
      "Python(28444) MallocStackLogging: can't turn off malloc stack logging because it was not enabled.\n",
      "Python(28445) MallocStackLogging: can't turn off malloc stack logging because it was not enabled.\n",
      "Python(28446) MallocStackLogging: can't turn off malloc stack logging because it was not enabled.\n",
      "Python(28447) MallocStackLogging: can't turn off malloc stack logging because it was not enabled.\n",
      "Python(28448) MallocStackLogging: can't turn off malloc stack logging because it was not enabled.\n",
      "Python(28449) MallocStackLogging: can't turn off malloc stack logging because it was not enabled.\n",
      "Python(28450) MallocStackLogging: can't turn off malloc stack logging because it was not enabled.\n",
      "Python(28451) MallocStackLogging: can't turn off malloc stack logging because it was not enabled.\n",
      "Python(28452) MallocStackLogging: can't turn off malloc stack logging because it was not enabled.\n",
      "Python(28453) MallocStackLogging: can't turn off malloc stack logging because it was not enabled.\n",
      "Python(28454) MallocStackLogging: can't turn off malloc stack logging because it was not enabled.\n",
      "Python(28455) MallocStackLogging: can't turn off malloc stack logging because it was not enabled.\n",
      "Python(28456) MallocStackLogging: can't turn off malloc stack logging because it was not enabled.\n",
      "Python(28457) MallocStackLogging: can't turn off malloc stack logging because it was not enabled.\n",
      "Python(28458) MallocStackLogging: can't turn off malloc stack logging because it was not enabled.\n",
      "Python(28459) MallocStackLogging: can't turn off malloc stack logging because it was not enabled.\n",
      "Python(28460) MallocStackLogging: can't turn off malloc stack logging because it was not enabled.\n",
      "Python(28461) MallocStackLogging: can't turn off malloc stack logging because it was not enabled.\n",
      "Python(28462) MallocStackLogging: can't turn off malloc stack logging because it was not enabled.\n",
      "Python(28463) MallocStackLogging: can't turn off malloc stack logging because it was not enabled.\n",
      "Python(28464) MallocStackLogging: can't turn off malloc stack logging because it was not enabled.\n",
      "Python(28465) MallocStackLogging: can't turn off malloc stack logging because it was not enabled.\n",
      "Python(28466) MallocStackLogging: can't turn off malloc stack logging because it was not enabled.\n",
      "Python(28467) MallocStackLogging: can't turn off malloc stack logging because it was not enabled.\n",
      "Python(28468) MallocStackLogging: can't turn off malloc stack logging because it was not enabled.\n",
      "Python(28469) MallocStackLogging: can't turn off malloc stack logging because it was not enabled.\n",
      "Python(28470) MallocStackLogging: can't turn off malloc stack logging because it was not enabled.\n",
      "Python(28471) MallocStackLogging: can't turn off malloc stack logging because it was not enabled.\n",
      "Python(28472) MallocStackLogging: can't turn off malloc stack logging because it was not enabled.\n",
      "Python(28473) MallocStackLogging: can't turn off malloc stack logging because it was not enabled.\n",
      "Python(28474) MallocStackLogging: can't turn off malloc stack logging because it was not enabled.\n",
      "Python(28475) MallocStackLogging: can't turn off malloc stack logging because it was not enabled.\n",
      "Python(28476) MallocStackLogging: can't turn off malloc stack logging because it was not enabled.\n",
      "Python(28477) MallocStackLogging: can't turn off malloc stack logging because it was not enabled.\n",
      "Python(28478) MallocStackLogging: can't turn off malloc stack logging because it was not enabled.\n",
      "Python(28479) MallocStackLogging: can't turn off malloc stack logging because it was not enabled.\n",
      "Python(28481) MallocStackLogging: can't turn off malloc stack logging because it was not enabled.\n",
      "Python(28482) MallocStackLogging: can't turn off malloc stack logging because it was not enabled.\n",
      "Python(28483) MallocStackLogging: can't turn off malloc stack logging because it was not enabled.\n",
      "Python(28484) MallocStackLogging: can't turn off malloc stack logging because it was not enabled.\n",
      "Python(28485) MallocStackLogging: can't turn off malloc stack logging because it was not enabled.\n",
      "Python(28486) MallocStackLogging: can't turn off malloc stack logging because it was not enabled.\n",
      "Python(28487) MallocStackLogging: can't turn off malloc stack logging because it was not enabled.\n",
      "Python(28488) MallocStackLogging: can't turn off malloc stack logging because it was not enabled.\n",
      "Python(28514) MallocStackLogging: can't turn off malloc stack logging because it was not enabled.\n",
      "Python(28517) MallocStackLogging: can't turn off malloc stack logging because it was not enabled.\n",
      "Python(28518) MallocStackLogging: can't turn off malloc stack logging because it was not enabled.\n",
      "Python(28519) MallocStackLogging: can't turn off malloc stack logging because it was not enabled.\n",
      "Python(28520) MallocStackLogging: can't turn off malloc stack logging because it was not enabled.\n",
      "Python(28530) MallocStackLogging: can't turn off malloc stack logging because it was not enabled.\n",
      "Python(28532) MallocStackLogging: can't turn off malloc stack logging because it was not enabled.\n",
      "Python(28533) MallocStackLogging: can't turn off malloc stack logging because it was not enabled.\n",
      "Python(28534) MallocStackLogging: can't turn off malloc stack logging because it was not enabled.\n",
      "Python(28537) MallocStackLogging: can't turn off malloc stack logging because it was not enabled.\n",
      "Python(28545) MallocStackLogging: can't turn off malloc stack logging because it was not enabled.\n",
      "Python(28570) MallocStackLogging: can't turn off malloc stack logging because it was not enabled.\n",
      "Python(28575) MallocStackLogging: can't turn off malloc stack logging because it was not enabled.\n",
      "Python(28576) MallocStackLogging: can't turn off malloc stack logging because it was not enabled.\n",
      "Python(28577) MallocStackLogging: can't turn off malloc stack logging because it was not enabled.\n",
      "Python(28578) MallocStackLogging: can't turn off malloc stack logging because it was not enabled.\n",
      "Python(28579) MallocStackLogging: can't turn off malloc stack logging because it was not enabled.\n",
      "Python(28580) MallocStackLogging: can't turn off malloc stack logging because it was not enabled.\n",
      "Python(28581) MallocStackLogging: can't turn off malloc stack logging because it was not enabled.\n",
      "Python(28582) MallocStackLogging: can't turn off malloc stack logging because it was not enabled.\n",
      "Python(28583) MallocStackLogging: can't turn off malloc stack logging because it was not enabled.\n",
      "Python(28584) MallocStackLogging: can't turn off malloc stack logging because it was not enabled.\n",
      "Python(28585) MallocStackLogging: can't turn off malloc stack logging because it was not enabled.\n",
      "Python(28586) MallocStackLogging: can't turn off malloc stack logging because it was not enabled.\n",
      "Python(28588) MallocStackLogging: can't turn off malloc stack logging because it was not enabled.\n",
      "Python(28589) MallocStackLogging: can't turn off malloc stack logging because it was not enabled.\n",
      "Python(28591) MallocStackLogging: can't turn off malloc stack logging because it was not enabled.\n",
      "Python(28592) MallocStackLogging: can't turn off malloc stack logging because it was not enabled.\n"
     ]
    }
   ],
   "source": [
    "bad_posts = []\n",
    "for i in range(20,len(df[\"Text\"])):\n",
    "    print(i)\n",
    "    p = df['Text'][i]\n",
    "    r = convert_text_to_ref_post(p)\n",
    "    try:\n",
    "        result=multi_chain_parser.process_ref_post(r,active_list=[\"topics\",'keywords'])\n",
    "    except Exception as e:\n",
    "        print(\"Post with text: \",p)\n",
    "        print('and url: ',df['postURL'][i])\n",
    "        print(\"has raised an exception: \",e) \n",
    "        bad_posts.append((df['postURL'][i],e))\n",
    "          \n",
    "\n",
    "\n",
    "    "
   ]
  },
  {
   "cell_type": "code",
   "execution_count": null,
   "metadata": {},
   "outputs": [
    {
     "name": "stdout",
     "output_type": "stream",
     "text": [
      "[]\n"
     ]
    },
    {
     "name": "stderr",
     "output_type": "stream",
     "text": [
      "Python(28593) MallocStackLogging: can't turn off malloc stack logging because it was not enabled.\n",
      "Python(28594) MallocStackLogging: can't turn off malloc stack logging because it was not enabled.\n",
      "Python(28595) MallocStackLogging: can't turn off malloc stack logging because it was not enabled.\n",
      "Python(28596) MallocStackLogging: can't turn off malloc stack logging because it was not enabled.\n",
      "Python(28597) MallocStackLogging: can't turn off malloc stack logging because it was not enabled.\n",
      "Python(28598) MallocStackLogging: can't turn off malloc stack logging because it was not enabled.\n",
      "Python(28599) MallocStackLogging: can't turn off malloc stack logging because it was not enabled.\n",
      "Python(28600) MallocStackLogging: can't turn off malloc stack logging because it was not enabled.\n",
      "Python(28601) MallocStackLogging: can't turn off malloc stack logging because it was not enabled.\n",
      "Python(28602) MallocStackLogging: can't turn off malloc stack logging because it was not enabled.\n",
      "Python(28603) MallocStackLogging: can't turn off malloc stack logging because it was not enabled.\n",
      "Python(28604) MallocStackLogging: can't turn off malloc stack logging because it was not enabled.\n"
     ]
    }
   ],
   "source": [
    "print(bad_posts)"
   ]
  }
 ],
 "metadata": {
  "kernelspec": {
   "display_name": "Python 3",
   "language": "python",
   "name": "python3"
  },
  "language_info": {
   "name": "python",
   "version": "3.11.2"
  },
  "orig_nbformat": 4,
  "vscode": {
   "interpreter": {
    "hash": "aee8b7b246df8f9039afb4144a1f6fd8d2ca17a180786b69acc140d282b71a49"
   }
  }
 },
 "nbformat": 4,
 "nbformat_minor": 2
}
