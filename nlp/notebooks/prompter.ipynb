{
 "cells": [
  {
   "cell_type": "code",
   "execution_count": 5,
   "metadata": {},
   "outputs": [],
   "source": [
    "import sys\n",
    "sys.path.append(\"../\")\n",
    "import jinja2\n",
    "from jinja2 import Environment, FileSystemLoader\n",
    "from pathlib import Path\n",
    "\n",
    "from desci_sense.schema.notion_ontology_base import NotionOntologyBase\n",
    "from desci_sense.web_extractors.metadata_extractors import extract_citoid_metadata"
   ]
  },
  {
   "cell_type": "code",
   "execution_count": 6,
   "metadata": {},
   "outputs": [],
   "source": [
    "notion_ontology = NotionOntologyBase(versions=['v0'])"
   ]
  },
  {
   "cell_type": "code",
   "execution_count": 7,
   "metadata": {},
   "outputs": [],
   "source": [
    "ROOT = Path.cwd().parent\n",
    "\n",
    "prompt_j2_templates_path = ROOT / \"desci_sense/prompting/jinja/\"\n",
    "j2_env = Environment(loader=FileSystemLoader(str(prompt_j2_templates_path)))"
   ]
  },
  {
   "cell_type": "markdown",
   "metadata": {},
   "source": [
    "# Zero references prompt"
   ]
  },
  {
   "cell_type": "code",
   "execution_count": 8,
   "metadata": {},
   "outputs": [],
   "source": [
    "\n",
    "no_ref_template_name = \"0_ref_template.j2\"\n",
    "no_ref_template = j2_env.get_template(no_ref_template_name)"
   ]
  },
  {
   "cell_type": "code",
   "execution_count": 9,
   "metadata": {},
   "outputs": [],
   "source": [
    "no_ref_templates = notion_ontology.get_valid_templates(subject_type=\"post\", object_type=\"nan\")\n",
    "# no_ref_templates"
   ]
  },
  {
   "cell_type": "code",
   "execution_count": 10,
   "metadata": {},
   "outputs": [
    {
     "name": "stdout",
     "output_type": "stream",
     "text": [
      "You are an expert annotator tasked with converting social media posts about scientific research to a structured semantic format. For an input post, your job is to select the tags most suitable to that post, from a predefined set of tags. \n",
      "\n",
      "The available tag types are:\n",
      "<missing-ref>: this post seems to be referring to a reference by name but has not explicitly provided a URL link to the reference. For example, a post that discusses a book and mentions it by title, but contains no link to the book.\n",
      "<dg-observation>: this post is articulating a single, highly observation. The intuition is that observation notes should be as close to “the data” as possible. They should be similar to how results are described in results sections of academic publications.\n",
      "<dg-claim>: this post is articulating an idea or a claim\n",
      "<dg-question>: this post is raising a research question.\n",
      "<other>: This is a special tag. Use this tag if none of the tags above are suitable.\n",
      "\n",
      "A user will pass in a post, and you should think step by step, before selecting a set of tags that best match the post.\n",
      "\n",
      "Your final answer should be structured as follows:\n",
      "Reasoning Steps: (your reasoning steps)\n",
      "Candidate Tags: (For potential each tag you choose, explain why you chose it.)\n",
      "Final Answer: (a set of final tags, based on the Candidate Tags. The final tags must be included in the Candidate Tags list!)\n",
      "\n",
      "\n",
      "Input post:\n"
     ]
    }
   ],
   "source": [
    "prompt = no_ref_template.render(templates=no_ref_templates)\n",
    "print(prompt)"
   ]
  },
  {
   "cell_type": "markdown",
   "metadata": {},
   "source": [
    "# Single reference prompt"
   ]
  },
  {
   "cell_type": "code",
   "execution_count": 11,
   "metadata": {},
   "outputs": [],
   "source": [
    "single_ref_template_name = \"1_ref_template.j2\"\n",
    "single_ref_template = j2_env.get_template(single_ref_template_name)"
   ]
  },
  {
   "cell_type": "code",
   "execution_count": 12,
   "metadata": {},
   "outputs": [],
   "source": [
    "single_ref_templates = notion_ontology.get_valid_templates(subject_type=\"post\", object_type=\"ref\")"
   ]
  },
  {
   "cell_type": "code",
   "execution_count": 13,
   "metadata": {},
   "outputs": [
    {
     "name": "stdout",
     "output_type": "stream",
     "text": [
      "You are an expert annotator tasked with converting social media posts about scientific research to a structured semantic format. The input post contains a reference to an external URL. Your job is to select the tags best characterizing the relation of the post to the external reference, from a predefined set of tags. \n",
      "\n",
      "The available tag types are:\n",
      "<watching>: this post describes the watching status of the author in relation to a reference, such as a video or movie. The author may have watched the content in the past, is watching the content in the present, or is looking forward to watching the content in the future.\n",
      "<reading>: this post describes the reading status of the author in relation to a reference, such as a book or article. The author may either have read the reference in the past, is reading the reference in the present, or is looking forward to reading the reference in the future.\n",
      "<listening>: this post describes the listening status of the author in relation to a reference, such as a podcast or radio station. The author may have listened to the content in the past, is listening to the content in the present, or is looking forward to listening the content in the future.\n",
      "<other>: This is a special tag. Use this tag if none of the tags above are suitable.\n",
      "<review>: this post contains a review of another reference, such as a book, article or movie. The review could be positive or negative. A review can be detailed or a simple short endorsement.\n",
      "<recommendation>: The author is recommending any kind of content: an article, a movie, podcast, book, another post, etc. This tag can also be used for cases of implicit recommendation, where the author is expressing enjoyment of some content but not explicitly recommending it.\n",
      "<question>: this post is raising a question or questions about some content it's referring to. The content could be a research paper or other media like a podcast, video or blog post.\n",
      "<quote>: this post is quoting text from an article it's referring to. Symbols like \">\" or quotation marks are often used to indicate quotations.\n",
      "<discussion>: this post discusses how the cited reference relates to other facts or claims. For example, post might discuss how the cited reference informs questions, provides evidence, or supports or opposes claims.\n",
      "<event>: this post includes an invitation to an event, either a real-world or an online event. Any kind of event is relevant, some examples of such events could be seminars, meetups, or hackathons. This tag shold only be used for invitations to events, not for posts describing other kinds of events.\n",
      "<job>: this post describes a job listing, for example a call for graduate students or faculty applications.\n",
      "<announce>: this post contains an announcement of new research. The announcement is likely made by the authors but may be a third party. We use a broad definition of research that includes classic and non-traditional outputs. Classic outputs include papers, datasets or code. Non traditional outputs can include a podcast, blog post, video explainers, etc.\n",
      "\n",
      "A user will pass in a post, and you should think step by step, before selecting a set of tags that best match the post.\n",
      "\n",
      "Your final answer should be structured as follows:\n",
      "Reasoning Steps: (your reasoning steps)\n",
      "Candidate Tags: (For potential each tag you choose, explain why you chose it.)\n",
      "Final Answer: (a set of final tags, based on the Candidate Tags. The final tags must be included in the Candidate Tags list!)\n",
      "\n",
      "# Input post text:\n",
      "Author: \n",
      "Post: \n",
      "\n",
      "\n",
      "\n",
      "# Output:\n"
     ]
    }
   ],
   "source": [
    "prompt = single_ref_template.render(templates=single_ref_templates,\n",
    "                                         ref_metadata=None)\n",
    "print(prompt)"
   ]
  },
  {
   "cell_type": "code",
   "execution_count": 14,
   "metadata": {},
   "outputs": [],
   "source": [
    "text = \"\"\"I'm thrilled to announce that I've begun a Postdoc with Prof. Giovanni Petri \n",
    "@lordgrilo\n",
    " at the Network Science Institute at NUL. Tomorrow, Tuesday, January 30th, at 15:30 (UK time), I'll give my first talk as part of \n",
    "@NPLab_\n",
    ", discussing the extent of high-order interactions 👀 https://northeastern.zoom.us/j/96755915567?pwd=ZVJQL3R6amI1dHBneDJlR01aaytuUT09 \"\"\"\n",
    "ref = \"https://northeastern.zoom.us/j/96755915567?pwd=ZVJQL3R6amI1dHBneDJlR01aaytuUT09\"\n",
    "metadata = extract_citoid_metadata(ref)\n",
    "\n"
   ]
  },
  {
   "cell_type": "code",
   "execution_count": 15,
   "metadata": {},
   "outputs": [
    {
     "name": "stdout",
     "output_type": "stream",
     "text": [
      "You are an expert annotator tasked with converting social media posts about scientific research to a structured semantic format. The input post contains a reference to an external URL. Your job is to select the tags best characterizing the relation of the post to the external reference, from a predefined set of tags.  Details about the external reference will be provided alongside the input post under \"Reference Metadata\". \n",
      "\n",
      "The available tag types are:\n",
      "<watching>: this post describes the watching status of the author in relation to a reference, such as a video or movie. The author may have watched the content in the past, is watching the content in the present, or is looking forward to watching the content in the future.\n",
      "<reading>: this post describes the reading status of the author in relation to a reference, such as a book or article. The author may either have read the reference in the past, is reading the reference in the present, or is looking forward to reading the reference in the future.\n",
      "<listening>: this post describes the listening status of the author in relation to a reference, such as a podcast or radio station. The author may have listened to the content in the past, is listening to the content in the present, or is looking forward to listening the content in the future.\n",
      "<other>: This is a special tag. Use this tag if none of the tags above are suitable.\n",
      "<review>: this post contains a review of another reference, such as a book, article or movie. The review could be positive or negative. A review can be detailed or a simple short endorsement.\n",
      "<recommendation>: The author is recommending any kind of content: an article, a movie, podcast, book, another post, etc. This tag can also be used for cases of implicit recommendation, where the author is expressing enjoyment of some content but not explicitly recommending it.\n",
      "<question>: this post is raising a question or questions about some content it's referring to. The content could be a research paper or other media like a podcast, video or blog post.\n",
      "<quote>: this post is quoting text from an article it's referring to. Symbols like \">\" or quotation marks are often used to indicate quotations.\n",
      "<discussion>: this post discusses how the cited reference relates to other facts or claims. For example, post might discuss how the cited reference informs questions, provides evidence, or supports or opposes claims.\n",
      "<event>: this post includes an invitation to an event, either a real-world or an online event. Any kind of event is relevant, some examples of such events could be seminars, meetups, or hackathons. This tag shold only be used for invitations to events, not for posts describing other kinds of events.\n",
      "<job>: this post describes a job listing, for example a call for graduate students or faculty applications.\n",
      "<announce>: this post contains an announcement of new research. The announcement is likely made by the authors but may be a third party. We use a broad definition of research that includes classic and non-traditional outputs. Classic outputs include papers, datasets or code. Non traditional outputs can include a podcast, blog post, video explainers, etc.\n",
      "\n",
      "A user will pass in a post, and you should think step by step, before selecting a set of tags that best match the post.\n",
      "\n",
      "Your final answer should be structured as follows:\n",
      "Reasoning Steps: (your reasoning steps)\n",
      "Candidate Tags: (For potential each tag you choose, explain why you chose it.)\n",
      "Final Answer: (a set of final tags, based on the Candidate Tags. The final tags must be included in the Candidate Tags list!)\n",
      "\n",
      "# Input post text:\n",
      "Author: \n",
      "Post: I'm thrilled to announce that I've begun a Postdoc with Prof. Giovanni Petri \n",
      "@lordgrilo\n",
      " at the Network Science Institute at NUL. Tomorrow, Tuesday, January 30th, at 15:30 (UK time), I'll give my first talk as part of \n",
      "@NPLab_\n",
      ", discussing the extent of high-order interactions 👀 https://northeastern.zoom.us/j/96755915567?pwd=ZVJQL3R6amI1dHBneDJlR01aaytuUT09 \n",
      "\n",
      " \n",
      "## Reference Metadata:\n",
      "{'item_type': 'webpage', 'title': 'Join our Cloud HD Video Meeting', 'summary': 'Zoom is the leader in modern enterprise video communications, with an easy, reliable cloud platform for video and audio conferencing, chat, and webinars across mobile, desktop, and room systems. Zoom Rooms is the original software-based conference room solution used around the world in board, conference, huddle, and training rooms, as well as executive offices and classrooms. Founded in 2011, Zoom helps businesses and organizations bring their teams together in a frictionless environment to get more done. Zoom is a publicly traded company headquartered in San Jose, CA.'}\n",
      "\n",
      "\n",
      "# Output:\n"
     ]
    }
   ],
   "source": [
    "prompt = single_ref_template.render(templates=single_ref_templates,\n",
    "                                        post_text=text,\n",
    "                                         ref_metadata=metadata)\n",
    "print(prompt)"
   ]
  },
  {
   "cell_type": "code",
   "execution_count": 16,
   "metadata": {},
   "outputs": [],
   "source": [
    "text = \"\"\" I had a great time talking to @jathansadowski, @bigblackjacobin, and @braunestahl about deepfake dead people and so much more on @machinekillspod https://soundcloud.com/thismachinekillspod/313-the-web-of-death-ft-tamara-kneese\"\"\"\n",
    "ref = \"https://soundcloud.com/thismachinekillspod/313-the-web-of-death-ft-tamara-kneese\"\n",
    "metadata = extract_citoid_metadata(ref)"
   ]
  },
  {
   "cell_type": "code",
   "execution_count": 17,
   "metadata": {},
   "outputs": [
    {
     "name": "stdout",
     "output_type": "stream",
     "text": [
      "You are an expert annotator tasked with converting social media posts about scientific research to a structured semantic format. The input post contains a reference to an external URL. Your job is to select the tags best characterizing the relation of the post to the external reference, from a predefined set of tags.  Details about the external reference will be provided alongside the input post under \"Reference Metadata\". \n",
      "\n",
      "The available tag types are:\n",
      "<watching>: this post describes the watching status of the author in relation to a reference, such as a video or movie. The author may have watched the content in the past, is watching the content in the present, or is looking forward to watching the content in the future.\n",
      "<reading>: this post describes the reading status of the author in relation to a reference, such as a book or article. The author may either have read the reference in the past, is reading the reference in the present, or is looking forward to reading the reference in the future.\n",
      "<listening>: this post describes the listening status of the author in relation to a reference, such as a podcast or radio station. The author may have listened to the content in the past, is listening to the content in the present, or is looking forward to listening the content in the future.\n",
      "<other>: This is a special tag. Use this tag if none of the tags above are suitable.\n",
      "<review>: this post contains a review of another reference, such as a book, article or movie. The review could be positive or negative. A review can be detailed or a simple short endorsement.\n",
      "<recommendation>: The author is recommending any kind of content: an article, a movie, podcast, book, another post, etc. This tag can also be used for cases of implicit recommendation, where the author is expressing enjoyment of some content but not explicitly recommending it.\n",
      "<question>: this post is raising a question or questions about some content it's referring to. The content could be a research paper or other media like a podcast, video or blog post.\n",
      "<quote>: this post is quoting text from an article it's referring to. Symbols like \">\" or quotation marks are often used to indicate quotations.\n",
      "<discussion>: this post discusses how the cited reference relates to other facts or claims. For example, post might discuss how the cited reference informs questions, provides evidence, or supports or opposes claims.\n",
      "<event>: this post includes an invitation to an event, either a real-world or an online event. Any kind of event is relevant, some examples of such events could be seminars, meetups, or hackathons. This tag shold only be used for invitations to events, not for posts describing other kinds of events.\n",
      "<job>: this post describes a job listing, for example a call for graduate students or faculty applications.\n",
      "<announce>: this post contains an announcement of new research. The announcement is likely made by the authors but may be a third party. We use a broad definition of research that includes classic and non-traditional outputs. Classic outputs include papers, datasets or code. Non traditional outputs can include a podcast, blog post, video explainers, etc.\n",
      "\n",
      "A user will pass in a post, and you should think step by step, before selecting a set of tags that best match the post.\n",
      "\n",
      "Your final answer should be structured as follows:\n",
      "Reasoning Steps: (your reasoning steps)\n",
      "Candidate Tags: (For potential each tag you choose, explain why you chose it.)\n",
      "Final Answer: (a set of final tags, based on the Candidate Tags. The final tags must be included in the Candidate Tags list!)\n",
      "\n",
      "# Input post text:\n",
      "Author: \n",
      "Post:  I had a great time talking to @jathansadowski, @bigblackjacobin, and @braunestahl about deepfake dead people and so much more on @machinekillspod https://soundcloud.com/thismachinekillspod/313-the-web-of-death-ft-tamara-kneese\n",
      "\n",
      " \n",
      "## Reference Metadata:\n",
      "{'item_type': 'audioRecording', 'title': '313. The Web of Death (ft. Tamara Kneese)', 'summary': 'We’re joined by Tamara Kneese — author of Death Glitch: How Techno-Solutionism Fails Us in This Life and Beyond — to discuss her work on how experiences of death and dying shape the internet, the afte'}\n",
      "\n",
      "\n",
      "# Output:\n"
     ]
    }
   ],
   "source": [
    "prompt = single_ref_template.render(templates=single_ref_templates,\n",
    "                                        post_text=text,\n",
    "                                         ref_metadata=metadata)\n",
    "print(prompt)"
   ]
  },
  {
   "cell_type": "code",
   "execution_count": 18,
   "metadata": {},
   "outputs": [
    {
     "name": "stdout",
     "output_type": "stream",
     "text": [
      "something\n"
     ]
    }
   ],
   "source": [
    "d = {5:4}\n",
    "if d:\n",
    "    print(\"something\")\n",
    "else:\n",
    "    print(\"nothing\")"
   ]
  }
 ],
 "metadata": {
  "kernelspec": {
   "display_name": "twscraping",
   "language": "python",
   "name": "python3"
  },
  "language_info": {
   "codemirror_mode": {
    "name": "ipython",
    "version": 3
   },
   "file_extension": ".py",
   "mimetype": "text/x-python",
   "name": "python",
   "nbconvert_exporter": "python",
   "pygments_lexer": "ipython3",
   "version": "3.11.5"
  }
 },
 "nbformat": 4,
 "nbformat_minor": 2
}
